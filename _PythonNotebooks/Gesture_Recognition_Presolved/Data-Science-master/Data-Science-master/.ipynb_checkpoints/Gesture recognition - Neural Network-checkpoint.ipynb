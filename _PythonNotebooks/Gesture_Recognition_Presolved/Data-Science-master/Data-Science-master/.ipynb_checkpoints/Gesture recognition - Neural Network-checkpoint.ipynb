{
 "cells": [
  {
   "cell_type": "markdown",
   "metadata": {},
   "source": [
    "# Gesture Recognition\n",
    "In this group project, you are going to build a 3D Conv model that will be able to predict the 5 gestures correctly. Please import the following libraries to get started."
   ]
  },
  {
   "cell_type": "code",
   "execution_count": 1,
   "metadata": {},
   "outputs": [],
   "source": [
    "import numpy as np\n",
    "import os\n",
    "from scipy.misc import imread, imresize\n",
    "import datetime\n",
    "import os\n",
    "import imageio"
   ]
  },
  {
   "cell_type": "markdown",
   "metadata": {},
   "source": [
    "We set the random seed so that the results don't vary drastically."
   ]
  },
  {
   "cell_type": "code",
   "execution_count": 2,
   "metadata": {},
   "outputs": [
    {
     "name": "stderr",
     "output_type": "stream",
     "text": [
      "Using TensorFlow backend.\n"
     ]
    }
   ],
   "source": [
    "np.random.seed(30)\n",
    "import random as rn\n",
    "import keras as Keras\n",
    "rn.seed(30)\n",
    "from keras import backend as K\n",
    "import tensorflow as tf\n",
    "tf.set_random_seed(30)"
   ]
  },
  {
   "cell_type": "markdown",
   "metadata": {},
   "source": [
    "In this block, you read the folder names for training and validation. You also set the `batch_size` here. Note that you set the batch size in such a way that you are able to use the GPU in full capacity. You keep increasing the batch size until the machine throws an error."
   ]
  },
  {
   "cell_type": "code",
   "execution_count": 3,
   "metadata": {},
   "outputs": [],
   "source": [
    "train_doc = np.random.permutation(open('train.csv').readlines())\n",
    "val_doc = np.random.permutation(open('val.csv').readlines())\n",
    "batch_size = 51"
   ]
  },
  {
   "cell_type": "markdown",
   "metadata": {},
   "source": [
    "## Generator\n",
    "This is one of the most important part of the code. The overall structure of the generator has been given. In the generator, you are going to preprocess the images as you have images of 2 different dimensions as well as create a batch of video frames. You have to experiment with `img_idx`, `y`,`z` and normalization such that you get high accuracy."
   ]
  },
  {
   "cell_type": "code",
   "execution_count": 4,
   "metadata": {},
   "outputs": [],
   "source": [
    "def generator(source_path, folder_list, batch_size):\n",
    "    print( 'Source path = ', source_path, '; batch size =', batch_size)\n",
    "    img_idx = [11,12,13,14,15,16,17,18,19,20,21,22,23,24,25,26,27,28]#create a list of image numbers you want to use for a particular video\n",
    "    while True:\n",
    "        t = np.random.permutation(folder_list)\n",
    "        num_batches = len(source_path)//batch_size # calculate the number of batches\n",
    "        for batch in range(num_batches): # we iterate over the number of batches\n",
    "            batch_data = np.zeros((batch_size,18,100,100,3)) # x is the number of images you use for each video, (y,z) is the final size of the input images and 3 is the number of channels RGB\n",
    "            batch_labels = np.zeros((batch_size,5)) # batch_labels is the one hot representation of the output\n",
    "            for folder in range(batch_size): # iterate over the batch_size\n",
    "                imgs = os.listdir(source_path+'/'+ t[folder + (batch*batch_size)].split(';')[0]) # read all the images in the folder\n",
    "                for idx,item in enumerate(img_idx): #  Iterate iver the frames/images of a folder to read them in\n",
    "                    image = imageio.imread(source_path+'/'+ t[folder + (batch*batch_size)].strip().split(';')[0]+'/'+imgs[item]).astype(np.float32)\n",
    "                    \n",
    "                    \n",
    "                    \n",
    "                    # Cropped image of above dimension \n",
    "                    # (It will not change orginal image) \n",
    "                    \n",
    "                    #image = image.crop((0, 0, 120, 120))\n",
    "                    image = image.resize(100, 100)\n",
    "                    \n",
    "                    \n",
    "                    #crop the images and resize them. Note that the images are of 2 different shape \n",
    "                    #and the conv3D will throw error if the inputs in a batch have different shapes\n",
    "                    \n",
    "                    batch_data[folder,idx,:,:,0] /= 255\n",
    "                    batch_data[folder,idx,:,:,1] /= 255 #normalise and feed in the image\n",
    "                    batch_data[folder,idx,:,:,2] /= 255 #normalise and feed in the image\n",
    "                    \n",
    "                batch_labels[folder, int(t[folder + (batch*batch_size)].strip().split(';')[2])] = 1\n",
    "            yield batch_data, batch_labels #you yield the batch_data and the batch_labels, remember what does yield do\n",
    "\n",
    "        \n",
    "        # write the code for the remaining data points which are left after full batches\n",
    "        if((len(source_path)%batch_size)//2==0):\n",
    "            batch_size = 2\n",
    "        else:\n",
    "            batch_size = 1\n",
    "        num_batches = len(source_path)%batch_size # calculate the number of batches\n",
    "        for batch in range(num_batches): # we iterate over the number of batches\n",
    "            batch_data = np.zeros((batch_size,18,100,100,3)) # x is the number of images you use for each video, (y,z) is the final size of the input images and 3 is the number of channels RGB\n",
    "            batch_labels = np.zeros((batch_size,5)) # batch_labels is the one hot representation of the output\n",
    "            for folder in range(batch_size): # iterate over the batch_size\n",
    "                imgs = os.listdir(source_path+'/'+ t[folder + (batch*batch_size)].split(';')[0]) # read all the images in the folder\n",
    "                for idx,item in enumerate(img_idx): #  Iterate iver the frames/images of a folder to read them in\n",
    "                    image = imageio.imread(source_path+'/'+ t[folder + (batch*batch_size)].strip().split(';')[0]+'/'+imgs[item]).astype(np.float32)\n",
    "                    \n",
    "                    \n",
    "                    \n",
    "                    # Cropped image of above dimension \n",
    "                    # (It will not change orginal image) \n",
    "                    \n",
    "                    #image = image.crop((0, 0, 120, 120))\n",
    "                    image = image.resize(100, 100)\n",
    "                    \n",
    "                    \n",
    "                    #crop the images and resize them. Note that the images are of 2 different shape \n",
    "                    #and the conv3D will throw error if the inputs in a batch have different shapes\n",
    "                    \n",
    "                    batch_data[folder,idx,:,:,0] /= 255\n",
    "                    batch_data[folder,idx,:,:,1] /= 255 #normalise and feed in the image\n",
    "                    batch_data[folder,idx,:,:,2] /= 255 #normalise and feed in the image\n",
    "                    \n",
    "                batch_labels[folder, int(t[folder + (batch*batch_size)].strip().split(';')[2])] = 1\n",
    "            yield batch_data, batch_labels #you yield the batch_data and the batch_labels, remember what does yield do\n",
    "\n",
    "        \n"
   ]
  },
  {
   "cell_type": "markdown",
   "metadata": {},
   "source": [
    "Note here that a video is represented above in the generator as (number of images, height, width, number of channels). Take this into consideration while creating the model architecture."
   ]
  },
  {
   "cell_type": "code",
   "execution_count": 5,
   "metadata": {},
   "outputs": [
    {
     "name": "stdout",
     "output_type": "stream",
     "text": [
      "# training sequences = 663\n",
      "# validation sequences = 100\n",
      "# epochs = 15\n"
     ]
    }
   ],
   "source": [
    "curr_dt_time = datetime.datetime.now()\n",
    "train_path = 'train'\n",
    "val_path = 'val'\n",
    "num_train_sequences = len(train_doc)\n",
    "print('# training sequences =', num_train_sequences)\n",
    "num_val_sequences = len(val_doc)\n",
    "print('# validation sequences =', num_val_sequences)\n",
    "num_epochs = 15 # choose the number of epochs\n",
    "print ('# epochs =', num_epochs)"
   ]
  },
  {
   "cell_type": "markdown",
   "metadata": {},
   "source": [
    "## Model\n",
    "Here you make the model using different functionalities that Keras provides. Remember to use `Conv3D` and `MaxPooling3D` and not `Conv2D` and `Maxpooling2D` for a 3D convolution model. You would want to use `TimeDistributed` while building a Conv2D + RNN model. Also remember that the last layer is the softmax. Design the network in such a way that the model is able to give good accuracy on the least number of parameters so that it can fit in the memory of the webcam."
   ]
  },
  {
   "cell_type": "code",
   "execution_count": 6,
   "metadata": {},
   "outputs": [],
   "source": [
    "from keras.models import Sequential, Model\n",
    "from keras.layers import Dense, GRU, Flatten, TimeDistributed, Flatten, BatchNormalization, Activation, Dropout\n",
    "from keras.layers.convolutional import Conv3D, MaxPooling3D\n",
    "from keras.callbacks import ModelCheckpoint, ReduceLROnPlateau\n",
    "from keras import optimizers\n",
    "\n",
    "#write your model here\n",
    "Input_shape = (18, 100, 100, 3)\n",
    "model = Sequential()\n",
    "model.add(Conv3D(32, (3,3,3), padding='same',\n",
    "                 input_shape=Input_shape))\n",
    "#model.add(Conv3D(32, kernel_size=(3, 3, 3), activation='relu', kernel_initializer='he_uniform', input_shape=sample_shape))\n",
    "model.add(Activation('relu'))\n",
    "model.add(BatchNormalization())\n",
    "model.add(Conv3D(32, (3, 3,3)))\n",
    "model.add(Activation('relu'))\n",
    "model.add(BatchNormalization())\n",
    "model.add(MaxPooling3D(pool_size=(2, 2,2)))\n",
    "model.add(Dropout(0.5))\n",
    "\n",
    "model.add(Conv3D(64, (3, 3,3), padding='same'))\n",
    "model.add(Activation('relu'))\n",
    "model.add(BatchNormalization())\n",
    "model.add(Conv3D(64, (3, 3,3)))\n",
    "model.add(Activation('relu'))\n",
    "model.add(BatchNormalization())\n",
    "model.add(MaxPooling3D(pool_size=(2, 2,2)))\n",
    "model.add(Dropout(0.5))\n",
    "model.add(Flatten())\n",
    "model.add(Dense(512))\n",
    "model.add(Activation('relu'))\n",
    "model.add(Dropout(0.5))\n",
    "model.add(Dense(5))\n",
    "model.add(Activation('softmax'))"
   ]
  },
  {
   "cell_type": "markdown",
   "metadata": {},
   "source": [
    "Now that you have written the model, the next step is to `compile` the model. When you print the `summary` of the model, you'll see the total number of parameters you have to train."
   ]
  },
  {
   "cell_type": "code",
   "execution_count": 7,
   "metadata": {
    "scrolled": true
   },
   "outputs": [
    {
     "name": "stdout",
     "output_type": "stream",
     "text": [
      "_________________________________________________________________\n",
      "Layer (type)                 Output Shape              Param #   \n",
      "=================================================================\n",
      "conv3d_1 (Conv3D)            (None, 18, 100, 100, 32)  2624      \n",
      "_________________________________________________________________\n",
      "activation_1 (Activation)    (None, 18, 100, 100, 32)  0         \n",
      "_________________________________________________________________\n",
      "batch_normalization_1 (Batch (None, 18, 100, 100, 32)  128       \n",
      "_________________________________________________________________\n",
      "conv3d_2 (Conv3D)            (None, 16, 98, 98, 32)    27680     \n",
      "_________________________________________________________________\n",
      "activation_2 (Activation)    (None, 16, 98, 98, 32)    0         \n",
      "_________________________________________________________________\n",
      "batch_normalization_2 (Batch (None, 16, 98, 98, 32)    128       \n",
      "_________________________________________________________________\n",
      "max_pooling3d_1 (MaxPooling3 (None, 8, 49, 49, 32)     0         \n",
      "_________________________________________________________________\n",
      "dropout_1 (Dropout)          (None, 8, 49, 49, 32)     0         \n",
      "_________________________________________________________________\n",
      "conv3d_3 (Conv3D)            (None, 8, 49, 49, 64)     55360     \n",
      "_________________________________________________________________\n",
      "activation_3 (Activation)    (None, 8, 49, 49, 64)     0         \n",
      "_________________________________________________________________\n",
      "batch_normalization_3 (Batch (None, 8, 49, 49, 64)     256       \n",
      "_________________________________________________________________\n",
      "conv3d_4 (Conv3D)            (None, 6, 47, 47, 64)     110656    \n",
      "_________________________________________________________________\n",
      "activation_4 (Activation)    (None, 6, 47, 47, 64)     0         \n",
      "_________________________________________________________________\n",
      "batch_normalization_4 (Batch (None, 6, 47, 47, 64)     256       \n",
      "_________________________________________________________________\n",
      "max_pooling3d_2 (MaxPooling3 (None, 3, 23, 23, 64)     0         \n",
      "_________________________________________________________________\n",
      "dropout_2 (Dropout)          (None, 3, 23, 23, 64)     0         \n",
      "_________________________________________________________________\n",
      "flatten_1 (Flatten)          (None, 101568)            0         \n",
      "_________________________________________________________________\n",
      "dense_1 (Dense)              (None, 512)               52003328  \n",
      "_________________________________________________________________\n",
      "activation_5 (Activation)    (None, 512)               0         \n",
      "_________________________________________________________________\n",
      "dropout_3 (Dropout)          (None, 512)               0         \n",
      "_________________________________________________________________\n",
      "dense_2 (Dense)              (None, 5)                 2565      \n",
      "_________________________________________________________________\n",
      "activation_6 (Activation)    (None, 5)                 0         \n",
      "=================================================================\n",
      "Total params: 52,202,981\n",
      "Trainable params: 52,202,597\n",
      "Non-trainable params: 384\n",
      "_________________________________________________________________\n",
      "None\n"
     ]
    }
   ],
   "source": [
    "optimiser = Keras.optimizers.Adam(lr=0.001)\n",
    "model.compile(optimizer=optimiser, loss='categorical_crossentropy', metrics=['categorical_accuracy'])\n",
    "print (model.summary())"
   ]
  },
  {
   "cell_type": "markdown",
   "metadata": {},
   "source": [
    "Let us create the `train_generator` and the `val_generator` which will be used in `.fit_generator`."
   ]
  },
  {
   "cell_type": "code",
   "execution_count": 8,
   "metadata": {},
   "outputs": [],
   "source": [
    "train_generator = generator(train_path, train_doc, batch_size)\n",
    "val_generator = generator(val_path, val_doc, batch_size)"
   ]
  },
  {
   "cell_type": "code",
   "execution_count": 9,
   "metadata": {},
   "outputs": [
    {
     "name": "stderr",
     "output_type": "stream",
     "text": [
      "/mnt/disks/user/anaconda3/lib/python3.6/site-packages/keras/callbacks.py:999: UserWarning: `epsilon` argument is deprecated and will be removed, use `min_delta` instead.\n",
      "  warnings.warn('`epsilon` argument is deprecated and '\n"
     ]
    }
   ],
   "source": [
    "model_name = 'Gesture_recog' + '_' + str(curr_dt_time).replace(' ','').replace(':','_') + '/'\n",
    "    \n",
    "if not os.path.exists(model_name):\n",
    "    os.mkdir(model_name)\n",
    "        \n",
    "filepath = model_name + 'model-{epoch:05d}-{loss:.5f}-{categorical_accuracy:.5f}-{val_loss:.5f}-{val_categorical_accuracy:.5f}.h5'\n",
    "\n",
    "checkpoint = ModelCheckpoint(filepath, monitor='val_loss', verbose=1, save_best_only=False, save_weights_only=False, mode='auto', period=1)\n",
    "\n",
    "LR = ReduceLROnPlateau(monitor = \"val_loss\", factor = 0.1, patience = 10,\n",
    "  verbose = 0, mode = \"auto\", epsilon = 1e-04, cooldown = 0,\n",
    "  min_lr = 0)\n",
    "callbacks_list = [checkpoint, LR]"
   ]
  },
  {
   "cell_type": "markdown",
   "metadata": {},
   "source": [
    "The `steps_per_epoch` and `validation_steps` are used by `fit_generator` to decide the number of next() calls it need to make."
   ]
  },
  {
   "cell_type": "code",
   "execution_count": 10,
   "metadata": {},
   "outputs": [],
   "source": [
    "if (num_train_sequences%batch_size) == 0:\n",
    "    steps_per_epoch = int(num_train_sequences/batch_size)\n",
    "else:\n",
    "    steps_per_epoch = (num_train_sequences//batch_size) + 1\n",
    "\n",
    "if (num_val_sequences%batch_size) == 0:\n",
    "    validation_steps = int(num_val_sequences/batch_size)\n",
    "else:\n",
    "    validation_steps = (num_val_sequences//batch_size) + 1"
   ]
  },
  {
   "cell_type": "markdown",
   "metadata": {},
   "source": [
    "Let us now fit the model. This will start training the model and with the help of the checkpoints, you'll be able to save the model at the end of each epoch."
   ]
  },
  {
   "cell_type": "code",
   "execution_count": 11,
   "metadata": {},
   "outputs": [
    {
     "name": "stdout",
     "output_type": "stream",
     "text": [
      "Source path =  val ; batch size = 51\n",
      "Source path =  train ; batch size = 51\n",
      "Epoch 1/15\n",
      "13/13 [==============================] - 256s 20s/step - loss: 1.6089 - categorical_accuracy: 0.3486 - val_loss: 1.6002 - val_categorical_accuracy: 1.0000\n",
      "\n",
      "Epoch 00001: saving model to Gesture_recog_2020-03-0215_59_17.298438/model-00001-1.60883-0.38095-1.60020-1.00000.h5\n",
      "Epoch 2/15\n",
      "13/13 [==============================] - 319s 25s/step - loss: 1.6072 - categorical_accuracy: 0.3846 - val_loss: 1.5979 - val_categorical_accuracy: 0.6667\n",
      "\n",
      "Epoch 00002: saving model to Gesture_recog_2020-03-0215_59_17.298438/model-00002-1.60723-0.38462-1.59791-0.66667.h5\n",
      "Epoch 3/15\n",
      "13/13 [==============================] - 261s 20s/step - loss: 1.6111 - categorical_accuracy: 0.0769 - val_loss: 1.6163 - val_categorical_accuracy: 0.0000e+00\n",
      "\n",
      "Epoch 00003: saving model to Gesture_recog_2020-03-0215_59_17.298438/model-00003-1.61114-0.07692-1.61630-0.00000.h5\n",
      "Epoch 4/15\n",
      "13/13 [==============================] - 254s 20s/step - loss: 1.6109 - categorical_accuracy: 0.1538 - val_loss: 1.6085 - val_categorical_accuracy: 0.0000e+00\n",
      "\n",
      "Epoch 00004: saving model to Gesture_recog_2020-03-0215_59_17.298438/model-00004-1.61094-0.15385-1.60854-0.00000.h5\n",
      "Epoch 5/15\n",
      "13/13 [==============================] - 253s 19s/step - loss: 1.6085 - categorical_accuracy: 0.3077 - val_loss: 1.5989 - val_categorical_accuracy: 0.5000\n",
      "\n",
      "Epoch 00005: saving model to Gesture_recog_2020-03-0215_59_17.298438/model-00005-1.60846-0.30769-1.59888-0.50000.h5\n",
      "Epoch 6/15\n",
      "13/13 [==============================] - 253s 19s/step - loss: 1.6082 - categorical_accuracy: 0.1923 - val_loss: 1.6105 - val_categorical_accuracy: 0.0000e+00\n",
      "\n",
      "Epoch 00006: saving model to Gesture_recog_2020-03-0215_59_17.298438/model-00006-1.60818-0.19231-1.61052-0.00000.h5\n",
      "Epoch 7/15\n",
      "13/13 [==============================] - 253s 19s/step - loss: 1.6056 - categorical_accuracy: 0.3462 - val_loss: 1.6119 - val_categorical_accuracy: 0.0000e+00\n",
      "\n",
      "Epoch 00007: saving model to Gesture_recog_2020-03-0215_59_17.298438/model-00007-1.60559-0.34615-1.61189-0.00000.h5\n",
      "Epoch 8/15\n",
      "13/13 [==============================] - 253s 19s/step - loss: 1.6095 - categorical_accuracy: 0.1154 - val_loss: 1.6232 - val_categorical_accuracy: 0.0000e+00\n",
      "\n",
      "Epoch 00008: saving model to Gesture_recog_2020-03-0215_59_17.298438/model-00008-1.60951-0.11538-1.62321-0.00000.h5\n",
      "Epoch 9/15\n",
      "13/13 [==============================] - 254s 20s/step - loss: 1.6080 - categorical_accuracy: 0.0000e+00 - val_loss: 1.5936 - val_categorical_accuracy: 1.0000\n",
      "\n",
      "Epoch 00009: saving model to Gesture_recog_2020-03-0215_59_17.298438/model-00009-1.60798-0.00000-1.59364-1.00000.h5\n",
      "Epoch 10/15\n",
      "13/13 [==============================] - 254s 20s/step - loss: 1.6049 - categorical_accuracy: 0.2692 - val_loss: 1.5903 - val_categorical_accuracy: 1.0000\n",
      "\n",
      "Epoch 00010: saving model to Gesture_recog_2020-03-0215_59_17.298438/model-00010-1.60494-0.26923-1.59034-1.00000.h5\n",
      "Epoch 11/15\n",
      "13/13 [==============================] - 253s 19s/step - loss: 1.6082 - categorical_accuracy: 0.3462 - val_loss: 1.6225 - val_categorical_accuracy: 0.0000e+00\n",
      "\n",
      "Epoch 00011: saving model to Gesture_recog_2020-03-0215_59_17.298438/model-00011-1.60820-0.34615-1.62247-0.00000.h5\n",
      "Epoch 12/15\n",
      "13/13 [==============================] - 253s 19s/step - loss: 1.6077 - categorical_accuracy: 0.2308 - val_loss: 1.6039 - val_categorical_accuracy: 0.0000e+00\n",
      "\n",
      "Epoch 00012: saving model to Gesture_recog_2020-03-0215_59_17.298438/model-00012-1.60768-0.23077-1.60391-0.00000.h5\n",
      "Epoch 13/15\n",
      "13/13 [==============================] - 252s 19s/step - loss: 1.6133 - categorical_accuracy: 0.0769 - val_loss: 1.5982 - val_categorical_accuracy: 0.5000\n",
      "\n",
      "Epoch 00013: saving model to Gesture_recog_2020-03-0215_59_17.298438/model-00013-1.61330-0.07692-1.59820-0.50000.h5\n",
      "Epoch 14/15\n",
      "13/13 [==============================] - 252s 19s/step - loss: 1.6054 - categorical_accuracy: 0.1538 - val_loss: 1.5982 - val_categorical_accuracy: 0.0000e+00\n",
      "\n",
      "Epoch 00014: saving model to Gesture_recog_2020-03-0215_59_17.298438/model-00014-1.60543-0.15385-1.59819-0.00000.h5\n",
      "Epoch 15/15\n",
      "13/13 [==============================] - 252s 19s/step - loss: 1.6073 - categorical_accuracy: 0.2692 - val_loss: 1.6292 - val_categorical_accuracy: 0.0000e+00\n",
      "\n",
      "Epoch 00015: saving model to Gesture_recog_2020-03-0215_59_17.298438/model-00015-1.60725-0.26923-1.62925-0.00000.h5\n"
     ]
    },
    {
     "data": {
      "text/plain": [
       "<keras.callbacks.History at 0x7fa30a8f17f0>"
      ]
     },
     "execution_count": 11,
     "metadata": {},
     "output_type": "execute_result"
    }
   ],
   "source": [
    "model.fit_generator(train_generator, steps_per_epoch=steps_per_epoch, epochs=num_epochs, verbose=1, \n",
    "                    callbacks=callbacks_list, validation_data=val_generator, \n",
    "                    validation_steps=validation_steps, class_weight=None, workers=1, initial_epoch=0)"
   ]
  },
  {
   "cell_type": "markdown",
   "metadata": {},
   "source": [
    "## Model CONV2D + LSTM"
   ]
  },
  {
   "cell_type": "code",
   "execution_count": 12,
   "metadata": {},
   "outputs": [
    {
     "name": "stdout",
     "output_type": "stream",
     "text": [
      "_________________________________________________________________\n",
      "Layer (type)                 Output Shape              Param #   \n",
      "=================================================================\n",
      "time_distributed_1 (TimeDist (None, 18, 50, 50, 32)    4736      \n",
      "_________________________________________________________________\n",
      "time_distributed_2 (TimeDist (None, 18, 48, 48, 32)    9248      \n",
      "_________________________________________________________________\n",
      "time_distributed_3 (TimeDist (None, 18, 24, 24, 32)    0         \n",
      "_________________________________________________________________\n",
      "time_distributed_4 (TimeDist (None, 18, 24, 24, 64)    18496     \n",
      "_________________________________________________________________\n",
      "time_distributed_5 (TimeDist (None, 18, 24, 24, 64)    36928     \n",
      "_________________________________________________________________\n",
      "time_distributed_6 (TimeDist (None, 18, 12, 12, 64)    0         \n",
      "_________________________________________________________________\n",
      "time_distributed_7 (TimeDist (None, 18, 12, 12, 128)   73856     \n",
      "_________________________________________________________________\n",
      "time_distributed_8 (TimeDist (None, 18, 12, 12, 128)   147584    \n",
      "_________________________________________________________________\n",
      "time_distributed_9 (TimeDist (None, 18, 6, 6, 128)     0         \n",
      "_________________________________________________________________\n",
      "time_distributed_10 (TimeDis (None, 18, 6, 6, 256)     295168    \n",
      "_________________________________________________________________\n",
      "time_distributed_11 (TimeDis (None, 18, 6, 6, 256)     590080    \n",
      "_________________________________________________________________\n",
      "time_distributed_12 (TimeDis (None, 18, 3, 3, 256)     0         \n",
      "_________________________________________________________________\n",
      "time_distributed_13 (TimeDis (None, 18, 3, 3, 512)     1180160   \n",
      "_________________________________________________________________\n",
      "time_distributed_14 (TimeDis (None, 18, 3, 3, 512)     2359808   \n",
      "_________________________________________________________________\n",
      "time_distributed_15 (TimeDis (None, 18, 1, 1, 512)     0         \n",
      "_________________________________________________________________\n",
      "time_distributed_16 (TimeDis (None, 18, 512)           0         \n",
      "_________________________________________________________________\n",
      "dropout_4 (Dropout)          (None, 18, 512)           0         \n",
      "_________________________________________________________________\n",
      "lstm_1 (LSTM)                (None, 256)               787456    \n",
      "_________________________________________________________________\n",
      "dense_3 (Dense)              (None, 5)                 1285      \n",
      "=================================================================\n",
      "Total params: 5,504,805\n",
      "Trainable params: 5,504,805\n",
      "Non-trainable params: 0\n",
      "_________________________________________________________________\n"
     ]
    }
   ],
   "source": [
    "#write your model here\n",
    "from keras.models import Sequential, Model\n",
    "from keras.layers import Conv2D,MaxPooling2D\n",
    "from keras.callbacks import ModelCheckpoint, ReduceLROnPlateau\n",
    "from keras.layers import Dense, GRU, Flatten, TimeDistributed, Flatten, BatchNormalization, Activation, Dropout, LSTM, Bidirectional\n",
    "\n",
    "\n",
    "Input_shape_1 = (18, 100, 100, 3)\n",
    "model = Sequential()\n",
    "model.add(TimeDistributed(Conv2D(32, (7, 7), strides=(2, 2), activation='relu', padding='same'), input_shape=Input_shape_1))\n",
    "model.add(TimeDistributed(Conv2D(32, (3,3), kernel_initializer=\"he_normal\", activation='relu')))\n",
    "model.add(TimeDistributed(MaxPooling2D((2, 2), strides=(2, 2))))\n",
    " \n",
    "model.add(TimeDistributed(Conv2D(64, (3,3), padding='same', activation='relu')))\n",
    "model.add(TimeDistributed(Conv2D(64, (3,3), padding='same', activation='relu')))\n",
    "model.add(TimeDistributed(MaxPooling2D((2, 2), strides=(2, 2))))\n",
    " \n",
    "model.add(TimeDistributed(Conv2D(128, (3,3), padding='same', activation='relu')))\n",
    "model.add(TimeDistributed(Conv2D(128, (3,3), padding='same', activation='relu')))\n",
    "model.add(TimeDistributed(MaxPooling2D((2, 2), strides=(2, 2))))\n",
    " \n",
    "model.add(TimeDistributed(Conv2D(256, (3,3), padding='same', activation='relu')))\n",
    "model.add(TimeDistributed(Conv2D(256, (3,3), padding='same', activation='relu')))\n",
    "model.add(TimeDistributed(MaxPooling2D((2, 2), strides=(2, 2))))\n",
    " \n",
    "model.add(TimeDistributed(Conv2D(512, (3,3), padding='same', activation='relu')))\n",
    "model.add(TimeDistributed(Conv2D(512, (3,3), padding='same', activation='relu')))\n",
    "model.add(TimeDistributed(MaxPooling2D((2, 2), strides=(2, 2))))\n",
    " \n",
    "model.add(TimeDistributed(Flatten()))\n",
    " \n",
    "model.add(Dropout(0.5))\n",
    "model.add(LSTM(512, return_sequences=False, dropout=0.5))\n",
    "model.add(Dense(5, activation='softmax'))\n",
    "model.summary()\n",
    "\n"
   ]
  },
  {
   "cell_type": "markdown",
   "metadata": {},
   "source": [
    "Now that you have written the model, the next step is to `compile` the model. When you print the `summary` of the model, you'll see the total number of parameters you have to train."
   ]
  },
  {
   "cell_type": "code",
   "execution_count": 13,
   "metadata": {},
   "outputs": [
    {
     "name": "stdout",
     "output_type": "stream",
     "text": [
      "_________________________________________________________________\n",
      "Layer (type)                 Output Shape              Param #   \n",
      "=================================================================\n",
      "time_distributed_1 (TimeDist (None, 18, 50, 50, 32)    4736      \n",
      "_________________________________________________________________\n",
      "time_distributed_2 (TimeDist (None, 18, 48, 48, 32)    9248      \n",
      "_________________________________________________________________\n",
      "time_distributed_3 (TimeDist (None, 18, 24, 24, 32)    0         \n",
      "_________________________________________________________________\n",
      "time_distributed_4 (TimeDist (None, 18, 24, 24, 64)    18496     \n",
      "_________________________________________________________________\n",
      "time_distributed_5 (TimeDist (None, 18, 24, 24, 64)    36928     \n",
      "_________________________________________________________________\n",
      "time_distributed_6 (TimeDist (None, 18, 12, 12, 64)    0         \n",
      "_________________________________________________________________\n",
      "time_distributed_7 (TimeDist (None, 18, 12, 12, 128)   73856     \n",
      "_________________________________________________________________\n",
      "time_distributed_8 (TimeDist (None, 18, 12, 12, 128)   147584    \n",
      "_________________________________________________________________\n",
      "time_distributed_9 (TimeDist (None, 18, 6, 6, 128)     0         \n",
      "_________________________________________________________________\n",
      "time_distributed_10 (TimeDis (None, 18, 6, 6, 256)     295168    \n",
      "_________________________________________________________________\n",
      "time_distributed_11 (TimeDis (None, 18, 6, 6, 256)     590080    \n",
      "_________________________________________________________________\n",
      "time_distributed_12 (TimeDis (None, 18, 3, 3, 256)     0         \n",
      "_________________________________________________________________\n",
      "time_distributed_13 (TimeDis (None, 18, 3, 3, 512)     1180160   \n",
      "_________________________________________________________________\n",
      "time_distributed_14 (TimeDis (None, 18, 3, 3, 512)     2359808   \n",
      "_________________________________________________________________\n",
      "time_distributed_15 (TimeDis (None, 18, 1, 1, 512)     0         \n",
      "_________________________________________________________________\n",
      "time_distributed_16 (TimeDis (None, 18, 512)           0         \n",
      "_________________________________________________________________\n",
      "dropout_4 (Dropout)          (None, 18, 512)           0         \n",
      "_________________________________________________________________\n",
      "lstm_1 (LSTM)                (None, 256)               787456    \n",
      "_________________________________________________________________\n",
      "dense_3 (Dense)              (None, 5)                 1285      \n",
      "=================================================================\n",
      "Total params: 5,504,805\n",
      "Trainable params: 5,504,805\n",
      "Non-trainable params: 0\n",
      "_________________________________________________________________\n",
      "None\n"
     ]
    }
   ],
   "source": [
    "#optimiser = Keras.optimizers.Adam(lr=0.001)\n",
    "model.compile(optimizer='sgd', loss='categorical_crossentropy', metrics=['categorical_accuracy'])\n",
    "print (model.summary())"
   ]
  },
  {
   "cell_type": "markdown",
   "metadata": {},
   "source": [
    "Let us create the `train_generator` and the `val_generator` which will be used in `.fit_generator`."
   ]
  },
  {
   "cell_type": "code",
   "execution_count": 14,
   "metadata": {},
   "outputs": [],
   "source": [
    "train_generator = generator(train_path, train_doc, batch_size)\n",
    "val_generator = generator(val_path, val_doc, batch_size)"
   ]
  },
  {
   "cell_type": "code",
   "execution_count": 15,
   "metadata": {},
   "outputs": [
    {
     "name": "stderr",
     "output_type": "stream",
     "text": [
      "/mnt/disks/user/anaconda3/lib/python3.6/site-packages/keras/callbacks.py:999: UserWarning: `epsilon` argument is deprecated and will be removed, use `min_delta` instead.\n",
      "  warnings.warn('`epsilon` argument is deprecated and '\n"
     ]
    }
   ],
   "source": [
    "model_name = 'Gesture_recog' + '_' + str(curr_dt_time).replace(' ','').replace(':','_') + '/'\n",
    "    \n",
    "if not os.path.exists(model_name):\n",
    "    os.mkdir(model_name)\n",
    "        \n",
    "filepath = model_name + 'model-{epoch:05d}-{loss:.5f}-{categorical_accuracy:.5f}-{val_loss:.5f}-{val_categorical_accuracy:.5f}.h5'\n",
    "\n",
    "checkpoint = ModelCheckpoint(filepath, monitor='val_loss', verbose=1, save_best_only=False, save_weights_only=False, mode='auto', period=1)\n",
    "\n",
    "LR = ReduceLROnPlateau(monitor = \"val_loss\", factor = 0.1, patience = 10,\n",
    "  verbose = 0, mode = \"auto\", epsilon = 1e-04, cooldown = 0,\n",
    "  min_lr = 0)\n",
    "callbacks_list = [checkpoint, LR]"
   ]
  },
  {
   "cell_type": "markdown",
   "metadata": {},
   "source": [
    "The `steps_per_epoch` and `validation_steps` are used by `fit_generator` to decide the number of next() calls it need to make."
   ]
  },
  {
   "cell_type": "code",
   "execution_count": 16,
   "metadata": {},
   "outputs": [],
   "source": [
    "if (num_train_sequences%batch_size) == 0:\n",
    "    steps_per_epoch = int(num_train_sequences/batch_size)\n",
    "else:\n",
    "    steps_per_epoch = (num_train_sequences//batch_size) + 1\n",
    "\n",
    "if (num_val_sequences%batch_size) == 0:\n",
    "    validation_steps = int(num_val_sequences/batch_size)\n",
    "else:\n",
    "    validation_steps = (num_val_sequences//batch_size) + 1"
   ]
  },
  {
   "cell_type": "markdown",
   "metadata": {},
   "source": [
    "Let us now fit the model. This will start training the model and with the help of the checkpoints, you'll be able to save the model at the end of each epoch."
   ]
  },
  {
   "cell_type": "code",
   "execution_count": 19,
   "metadata": {
    "scrolled": false
   },
   "outputs": [
    {
     "name": "stdout",
     "output_type": "stream",
     "text": [
      "Epoch 1/15\n",
      "13/13 [==============================] - 21s 2s/step - loss: 1.6121 - categorical_accuracy: 0.3462 - val_loss: 1.6269 - val_categorical_accuracy: 0.0000e+00\n",
      "\n",
      "Epoch 00001: saving model to Gesture_recog_2020-03-0215_59_17.298438/model-00001-1.61209-0.34615-1.62690-0.00000.h5\n",
      "Epoch 2/15\n",
      "13/13 [==============================] - 20s 2s/step - loss: 1.6188 - categorical_accuracy: 0.1538 - val_loss: 1.6165 - val_categorical_accuracy: 0.0000e+00\n",
      "\n",
      "Epoch 00002: saving model to Gesture_recog_2020-03-0215_59_17.298438/model-00002-1.61882-0.15385-1.61645-0.00000.h5\n",
      "Epoch 3/15\n",
      "13/13 [==============================] - 20s 2s/step - loss: 1.6188 - categorical_accuracy: 0.0769 - val_loss: 1.6399 - val_categorical_accuracy: 0.0000e+00\n",
      "\n",
      "Epoch 00003: saving model to Gesture_recog_2020-03-0215_59_17.298438/model-00003-1.61877-0.07692-1.63992-0.00000.h5\n",
      "Epoch 4/15\n",
      "13/13 [==============================] - 20s 2s/step - loss: 1.6146 - categorical_accuracy: 0.2308 - val_loss: 1.5286 - val_categorical_accuracy: 1.0000\n",
      "\n",
      "Epoch 00004: saving model to Gesture_recog_2020-03-0215_59_17.298438/model-00004-1.61456-0.23077-1.52860-1.00000.h5\n",
      "Epoch 5/15\n",
      "13/13 [==============================] - 20s 2s/step - loss: 1.6158 - categorical_accuracy: 0.0769 - val_loss: 1.5482 - val_categorical_accuracy: 1.0000\n",
      "\n",
      "Epoch 00005: saving model to Gesture_recog_2020-03-0215_59_17.298438/model-00005-1.61576-0.07692-1.54822-1.00000.h5\n",
      "Epoch 6/15\n",
      "13/13 [==============================] - 20s 2s/step - loss: 1.5993 - categorical_accuracy: 0.2692 - val_loss: 1.6301 - val_categorical_accuracy: 0.0000e+00\n",
      "\n",
      "Epoch 00006: saving model to Gesture_recog_2020-03-0215_59_17.298438/model-00006-1.59929-0.26923-1.63006-0.00000.h5\n",
      "Epoch 7/15\n",
      "13/13 [==============================] - 20s 2s/step - loss: 1.6173 - categorical_accuracy: 0.2692 - val_loss: 1.6580 - val_categorical_accuracy: 0.0000e+00\n",
      "\n",
      "Epoch 00007: saving model to Gesture_recog_2020-03-0215_59_17.298438/model-00007-1.61732-0.26923-1.65802-0.00000.h5\n",
      "Epoch 8/15\n",
      "13/13 [==============================] - 20s 2s/step - loss: 1.6169 - categorical_accuracy: 0.1154 - val_loss: 1.6353 - val_categorical_accuracy: 0.0000e+00\n",
      "\n",
      "Epoch 00008: saving model to Gesture_recog_2020-03-0215_59_17.298438/model-00008-1.61692-0.11538-1.63531-0.00000.h5\n",
      "Epoch 9/15\n",
      "13/13 [==============================] - 20s 2s/step - loss: 1.6053 - categorical_accuracy: 0.2308 - val_loss: 1.5591 - val_categorical_accuracy: 0.0000e+00\n",
      "\n",
      "Epoch 00009: saving model to Gesture_recog_2020-03-0215_59_17.298438/model-00009-1.60533-0.23077-1.55907-0.00000.h5\n",
      "Epoch 10/15\n",
      "13/13 [==============================] - 20s 2s/step - loss: 1.6120 - categorical_accuracy: 0.3077 - val_loss: 1.6587 - val_categorical_accuracy: 0.0000e+00\n",
      "\n",
      "Epoch 00010: saving model to Gesture_recog_2020-03-0215_59_17.298438/model-00010-1.61205-0.30769-1.65874-0.00000.h5\n",
      "Epoch 11/15\n",
      "13/13 [==============================] - 20s 2s/step - loss: 1.6374 - categorical_accuracy: 0.0000e+00 - val_loss: 1.6274 - val_categorical_accuracy: 0.0000e+00\n",
      "\n",
      "Epoch 00011: saving model to Gesture_recog_2020-03-0215_59_17.298438/model-00011-1.63743-0.00000-1.62743-0.00000.h5\n",
      "Epoch 12/15\n",
      "13/13 [==============================] - 20s 2s/step - loss: 1.6137 - categorical_accuracy: 0.0769 - val_loss: 1.6183 - val_categorical_accuracy: 0.0000e+00\n",
      "\n",
      "Epoch 00012: saving model to Gesture_recog_2020-03-0215_59_17.298438/model-00012-1.61370-0.07692-1.61831-0.00000.h5\n",
      "Epoch 13/15\n",
      "13/13 [==============================] - 20s 2s/step - loss: 1.6148 - categorical_accuracy: 0.2692 - val_loss: 1.6264 - val_categorical_accuracy: 0.0000e+00\n",
      "\n",
      "Epoch 00013: saving model to Gesture_recog_2020-03-0215_59_17.298438/model-00013-1.61479-0.26923-1.62641-0.00000.h5\n",
      "Epoch 14/15\n",
      "13/13 [==============================] - 20s 2s/step - loss: 1.6183 - categorical_accuracy: 0.0385 - val_loss: 1.6045 - val_categorical_accuracy: 0.0000e+00\n",
      "\n",
      "Epoch 00014: saving model to Gesture_recog_2020-03-0215_59_17.298438/model-00014-1.61831-0.03846-1.60446-0.00000.h5\n",
      "Epoch 15/15\n",
      "13/13 [==============================] - 20s 2s/step - loss: 1.6038 - categorical_accuracy: 0.2308 - val_loss: 1.6190 - val_categorical_accuracy: 0.5000\n",
      "\n",
      "Epoch 00015: saving model to Gesture_recog_2020-03-0215_59_17.298438/model-00015-1.60375-0.23077-1.61904-0.50000.h5\n"
     ]
    },
    {
     "data": {
      "text/plain": [
       "<keras.callbacks.History at 0x7fa3003e66d8>"
      ]
     },
     "execution_count": 19,
     "metadata": {},
     "output_type": "execute_result"
    }
   ],
   "source": [
    "model.fit_generator(train_generator, steps_per_epoch=steps_per_epoch, epochs=num_epochs, verbose=1, \n",
    "                    callbacks=callbacks_list, validation_data=val_generator, \n",
    "                    validation_steps=validation_steps, class_weight=None, workers=1, initial_epoch=0)"
   ]
  },
  {
   "cell_type": "code",
   "execution_count": null,
   "metadata": {},
   "outputs": [],
   "source": []
  }
 ],
 "metadata": {
  "kernelspec": {
   "display_name": "Python 3",
   "language": "python",
   "name": "python3"
  },
  "language_info": {
   "codemirror_mode": {
    "name": "ipython",
    "version": 3
   },
   "file_extension": ".py",
   "mimetype": "text/x-python",
   "name": "python",
   "nbconvert_exporter": "python",
   "pygments_lexer": "ipython3",
   "version": "3.8.3"
  }
 },
 "nbformat": 4,
 "nbformat_minor": 2
}
