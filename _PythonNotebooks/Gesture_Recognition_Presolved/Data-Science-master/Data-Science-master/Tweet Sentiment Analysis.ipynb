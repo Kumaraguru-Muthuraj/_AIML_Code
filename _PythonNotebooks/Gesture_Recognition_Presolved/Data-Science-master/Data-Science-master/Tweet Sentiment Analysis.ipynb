{
 "cells": [
  {
   "cell_type": "code",
   "execution_count": 204,
   "metadata": {},
   "outputs": [],
   "source": [
    "import pandas as pd\n",
    "import numpy as np\n",
    "import matplotlib.pyplot as plt\n",
    "import seaborn as sns\n",
    "import nltk\n",
    "from nltk.tokenize import TweetTokenizer\n",
    "from nltk.stem import WordNetLemmatizer\n",
    "from sklearn.feature_extraction.text import CountVectorizer\n",
    "from sklearn.model_selection import train_test_split\n",
    "from nltk import NaiveBayesClassifier\n",
    "from sklearn.naive_bayes import MultinomialNB\n",
    "from sklearn.neighbors import KNeighborsClassifier\n",
    "from sklearn.ensemble import RandomForestClassifier\n",
    "from sklearn.metrics import accuracy_score\n",
    "from sklearn.metrics import f1_score\n",
    "import string\n",
    "import re\n",
    "from sklearn.decomposition import PCA\n",
    "from sklearn.cluster import KMeans\n",
    "import random\n",
    "stopwords = nltk.corpus.stopwords.words('english')\n",
    "stopwords.remove(\"but\")\n",
    "pd.set_option(\"display.max_colwidth\", 200) \n",
    "pd.set_option('display.max_rows', 500)\n",
    "\n",
    "import warnings\n",
    "warnings.filterwarnings('ignore')"
   ]
  },
  {
   "cell_type": "code",
   "execution_count": 205,
   "metadata": {},
   "outputs": [],
   "source": [
    "df_train = pd.read_csv('train.csv')"
   ]
  },
  {
   "cell_type": "code",
   "execution_count": 206,
   "metadata": {},
   "outputs": [
    {
     "data": {
      "text/html": [
       "<div>\n",
       "<style scoped>\n",
       "    .dataframe tbody tr th:only-of-type {\n",
       "        vertical-align: middle;\n",
       "    }\n",
       "\n",
       "    .dataframe tbody tr th {\n",
       "        vertical-align: top;\n",
       "    }\n",
       "\n",
       "    .dataframe thead th {\n",
       "        text-align: right;\n",
       "    }\n",
       "</style>\n",
       "<table border=\"1\" class=\"dataframe\">\n",
       "  <thead>\n",
       "    <tr style=\"text-align: right;\">\n",
       "      <th></th>\n",
       "      <th>textID</th>\n",
       "      <th>text</th>\n",
       "      <th>selected_text</th>\n",
       "      <th>sentiment</th>\n",
       "    </tr>\n",
       "  </thead>\n",
       "  <tbody>\n",
       "    <tr>\n",
       "      <td>0</td>\n",
       "      <td>cb774db0d1</td>\n",
       "      <td>I`d have responded, if I were going</td>\n",
       "      <td>I`d have responded, if I were going</td>\n",
       "      <td>neutral</td>\n",
       "    </tr>\n",
       "    <tr>\n",
       "      <td>1</td>\n",
       "      <td>549e992a42</td>\n",
       "      <td>Sooo SAD I will miss you here in San Diego!!!</td>\n",
       "      <td>Sooo SAD</td>\n",
       "      <td>negative</td>\n",
       "    </tr>\n",
       "    <tr>\n",
       "      <td>2</td>\n",
       "      <td>088c60f138</td>\n",
       "      <td>my boss is bullying me...</td>\n",
       "      <td>bullying me</td>\n",
       "      <td>negative</td>\n",
       "    </tr>\n",
       "    <tr>\n",
       "      <td>3</td>\n",
       "      <td>9642c003ef</td>\n",
       "      <td>what interview! leave me alone</td>\n",
       "      <td>leave me alone</td>\n",
       "      <td>negative</td>\n",
       "    </tr>\n",
       "    <tr>\n",
       "      <td>4</td>\n",
       "      <td>358bd9e861</td>\n",
       "      <td>Sons of ****, why couldn`t they put them on the releases we already bought</td>\n",
       "      <td>Sons of ****,</td>\n",
       "      <td>negative</td>\n",
       "    </tr>\n",
       "    <tr>\n",
       "      <td>...</td>\n",
       "      <td>...</td>\n",
       "      <td>...</td>\n",
       "      <td>...</td>\n",
       "      <td>...</td>\n",
       "    </tr>\n",
       "    <tr>\n",
       "      <td>27476</td>\n",
       "      <td>4eac33d1c0</td>\n",
       "      <td>wish we could come see u on Denver  husband lost his job and can`t afford it</td>\n",
       "      <td>d lost</td>\n",
       "      <td>negative</td>\n",
       "    </tr>\n",
       "    <tr>\n",
       "      <td>27477</td>\n",
       "      <td>4f4c4fc327</td>\n",
       "      <td>I`ve wondered about rake to.  The client has made it clear .NET only, don`t force devs to learn a new lang  #agile #ccnet</td>\n",
       "      <td>, don`t force</td>\n",
       "      <td>negative</td>\n",
       "    </tr>\n",
       "    <tr>\n",
       "      <td>27478</td>\n",
       "      <td>f67aae2310</td>\n",
       "      <td>Yay good for both of you. Enjoy the break - you probably need it after such hectic weekend  Take care hun xxxx</td>\n",
       "      <td>Yay good for both of you.</td>\n",
       "      <td>positive</td>\n",
       "    </tr>\n",
       "    <tr>\n",
       "      <td>27479</td>\n",
       "      <td>ed167662a5</td>\n",
       "      <td>But it was worth it  ****.</td>\n",
       "      <td>But it was worth it  ****.</td>\n",
       "      <td>positive</td>\n",
       "    </tr>\n",
       "    <tr>\n",
       "      <td>27480</td>\n",
       "      <td>6f7127d9d7</td>\n",
       "      <td>All this flirting going on - The ATG smiles. Yay.  ((hugs))</td>\n",
       "      <td>All this flirting going on - The ATG smiles. Yay.  ((hugs)</td>\n",
       "      <td>neutral</td>\n",
       "    </tr>\n",
       "  </tbody>\n",
       "</table>\n",
       "<p>27481 rows × 4 columns</p>\n",
       "</div>"
      ],
      "text/plain": [
       "           textID  \\\n",
       "0      cb774db0d1   \n",
       "1      549e992a42   \n",
       "2      088c60f138   \n",
       "3      9642c003ef   \n",
       "4      358bd9e861   \n",
       "...           ...   \n",
       "27476  4eac33d1c0   \n",
       "27477  4f4c4fc327   \n",
       "27478  f67aae2310   \n",
       "27479  ed167662a5   \n",
       "27480  6f7127d9d7   \n",
       "\n",
       "                                                                                                                             text  \\\n",
       "0                                                                                             I`d have responded, if I were going   \n",
       "1                                                                                   Sooo SAD I will miss you here in San Diego!!!   \n",
       "2                                                                                                       my boss is bullying me...   \n",
       "3                                                                                                  what interview! leave me alone   \n",
       "4                                                      Sons of ****, why couldn`t they put them on the releases we already bought   \n",
       "...                                                                                                                           ...   \n",
       "27476                                                wish we could come see u on Denver  husband lost his job and can`t afford it   \n",
       "27477   I`ve wondered about rake to.  The client has made it clear .NET only, don`t force devs to learn a new lang  #agile #ccnet   \n",
       "27478              Yay good for both of you. Enjoy the break - you probably need it after such hectic weekend  Take care hun xxxx   \n",
       "27479                                                                                                  But it was worth it  ****.   \n",
       "27480                                                                 All this flirting going on - The ATG smiles. Yay.  ((hugs))   \n",
       "\n",
       "                                                    selected_text sentiment  \n",
       "0                             I`d have responded, if I were going   neutral  \n",
       "1                                                        Sooo SAD  negative  \n",
       "2                                                     bullying me  negative  \n",
       "3                                                  leave me alone  negative  \n",
       "4                                                   Sons of ****,  negative  \n",
       "...                                                           ...       ...  \n",
       "27476                                                      d lost  negative  \n",
       "27477                                               , don`t force  negative  \n",
       "27478                                   Yay good for both of you.  positive  \n",
       "27479                                  But it was worth it  ****.  positive  \n",
       "27480  All this flirting going on - The ATG smiles. Yay.  ((hugs)   neutral  \n",
       "\n",
       "[27481 rows x 4 columns]"
      ]
     },
     "execution_count": 206,
     "metadata": {},
     "output_type": "execute_result"
    }
   ],
   "source": [
    "df_train"
   ]
  },
  {
   "cell_type": "markdown",
   "metadata": {},
   "source": [
    "### Check for null values and remove those tweets since we wont be able to get any information out of them"
   ]
  },
  {
   "cell_type": "code",
   "execution_count": 207,
   "metadata": {},
   "outputs": [
    {
     "data": {
      "text/plain": [
       "textID           0\n",
       "text             1\n",
       "selected_text    1\n",
       "sentiment        0\n",
       "dtype: int64"
      ]
     },
     "execution_count": 207,
     "metadata": {},
     "output_type": "execute_result"
    }
   ],
   "source": [
    "df_train.isnull().sum()"
   ]
  },
  {
   "cell_type": "code",
   "execution_count": 208,
   "metadata": {},
   "outputs": [
    {
     "data": {
      "text/plain": [
       "(27480, 4)"
      ]
     },
     "execution_count": 208,
     "metadata": {},
     "output_type": "execute_result"
    }
   ],
   "source": [
    "df_train.dropna(inplace=True)\n",
    "\n",
    "df_train.shape"
   ]
  },
  {
   "cell_type": "markdown",
   "metadata": {},
   "source": [
    "### Preprocess the data:\n",
    "\n",
    "    - Remove instances of \"https://...\" since we do not get to know any sentinment from it\n",
    "    - Removing words with less than 3 characters\n",
    "    - We will then change the words to lowercase (part of standardisation)\n",
    "    - We will then remove stopwords and punctuations (assumption being they dont contribute much to the meaning of the tweet)\n",
    "    - Lemmatizing words\n",
    "    - Keeping only words in the final text (since it is difficult to get sentiments from special characters)\n",
    "    - Removed numbers also from the model\n",
    "    - Join individual tokens together and return the clean text back to dataframe"
   ]
  },
  {
   "cell_type": "code",
   "execution_count": 209,
   "metadata": {},
   "outputs": [
    {
     "data": {
      "text/html": [
       "<div>\n",
       "<style scoped>\n",
       "    .dataframe tbody tr th:only-of-type {\n",
       "        vertical-align: middle;\n",
       "    }\n",
       "\n",
       "    .dataframe tbody tr th {\n",
       "        vertical-align: top;\n",
       "    }\n",
       "\n",
       "    .dataframe thead th {\n",
       "        text-align: right;\n",
       "    }\n",
       "</style>\n",
       "<table border=\"1\" class=\"dataframe\">\n",
       "  <thead>\n",
       "    <tr style=\"text-align: right;\">\n",
       "      <th></th>\n",
       "      <th>textID</th>\n",
       "      <th>text</th>\n",
       "      <th>selected_text</th>\n",
       "      <th>sentiment</th>\n",
       "      <th>text_without_html</th>\n",
       "    </tr>\n",
       "  </thead>\n",
       "  <tbody>\n",
       "    <tr>\n",
       "      <td>0</td>\n",
       "      <td>cb774db0d1</td>\n",
       "      <td>I`d have responded, if I were going</td>\n",
       "      <td>I`d have responded, if I were going</td>\n",
       "      <td>neutral</td>\n",
       "      <td>I`d have responded, if I were going</td>\n",
       "    </tr>\n",
       "    <tr>\n",
       "      <td>1</td>\n",
       "      <td>549e992a42</td>\n",
       "      <td>Sooo SAD I will miss you here in San Diego!!!</td>\n",
       "      <td>Sooo SAD</td>\n",
       "      <td>negative</td>\n",
       "      <td>Sooo SAD I will miss you here in San Diego!!!</td>\n",
       "    </tr>\n",
       "    <tr>\n",
       "      <td>2</td>\n",
       "      <td>088c60f138</td>\n",
       "      <td>my boss is bullying me...</td>\n",
       "      <td>bullying me</td>\n",
       "      <td>negative</td>\n",
       "      <td>my boss is bullying me...</td>\n",
       "    </tr>\n",
       "    <tr>\n",
       "      <td>3</td>\n",
       "      <td>9642c003ef</td>\n",
       "      <td>what interview! leave me alone</td>\n",
       "      <td>leave me alone</td>\n",
       "      <td>negative</td>\n",
       "      <td>what interview! leave me alone</td>\n",
       "    </tr>\n",
       "    <tr>\n",
       "      <td>4</td>\n",
       "      <td>358bd9e861</td>\n",
       "      <td>Sons of ****, why couldn`t they put them on the releases we already bought</td>\n",
       "      <td>Sons of ****,</td>\n",
       "      <td>negative</td>\n",
       "      <td>Sons of ****, why couldn`t they put them on the releases we already bought</td>\n",
       "    </tr>\n",
       "  </tbody>\n",
       "</table>\n",
       "</div>"
      ],
      "text/plain": [
       "       textID  \\\n",
       "0  cb774db0d1   \n",
       "1  549e992a42   \n",
       "2  088c60f138   \n",
       "3  9642c003ef   \n",
       "4  358bd9e861   \n",
       "\n",
       "                                                                          text  \\\n",
       "0                                          I`d have responded, if I were going   \n",
       "1                                Sooo SAD I will miss you here in San Diego!!!   \n",
       "2                                                    my boss is bullying me...   \n",
       "3                                               what interview! leave me alone   \n",
       "4   Sons of ****, why couldn`t they put them on the releases we already bought   \n",
       "\n",
       "                         selected_text sentiment  \\\n",
       "0  I`d have responded, if I were going   neutral   \n",
       "1                             Sooo SAD  negative   \n",
       "2                          bullying me  negative   \n",
       "3                       leave me alone  negative   \n",
       "4                        Sons of ****,  negative   \n",
       "\n",
       "                                                             text_without_html  \n",
       "0                                          I`d have responded, if I were going  \n",
       "1                                Sooo SAD I will miss you here in San Diego!!!  \n",
       "2                                                    my boss is bullying me...  \n",
       "3                                               what interview! leave me alone  \n",
       "4   Sons of ****, why couldn`t they put them on the releases we already bought  "
      ]
     },
     "execution_count": 209,
     "metadata": {},
     "output_type": "execute_result"
    }
   ],
   "source": [
    "def remove_html(tweet):\n",
    "    tweet = re.sub(r'http[s]?:\\/\\/[\\S]+',\"\", tweet)\n",
    "    return \"\".join(tweet)\n",
    "\n",
    "df_train['text_without_html'] = df_train['text'].apply(lambda x: remove_html(x))\n",
    "\n",
    "df_train.head()"
   ]
  },
  {
   "cell_type": "code",
   "execution_count": 210,
   "metadata": {},
   "outputs": [
    {
     "data": {
      "text/html": [
       "<div>\n",
       "<style scoped>\n",
       "    .dataframe tbody tr th:only-of-type {\n",
       "        vertical-align: middle;\n",
       "    }\n",
       "\n",
       "    .dataframe tbody tr th {\n",
       "        vertical-align: top;\n",
       "    }\n",
       "\n",
       "    .dataframe thead th {\n",
       "        text-align: right;\n",
       "    }\n",
       "</style>\n",
       "<table border=\"1\" class=\"dataframe\">\n",
       "  <thead>\n",
       "    <tr style=\"text-align: right;\">\n",
       "      <th></th>\n",
       "      <th>textID</th>\n",
       "      <th>text</th>\n",
       "      <th>selected_text</th>\n",
       "      <th>sentiment</th>\n",
       "      <th>text_without_html</th>\n",
       "      <th>without_repitition</th>\n",
       "    </tr>\n",
       "  </thead>\n",
       "  <tbody>\n",
       "    <tr>\n",
       "      <td>0</td>\n",
       "      <td>cb774db0d1</td>\n",
       "      <td>I`d have responded, if I were going</td>\n",
       "      <td>I`d have responded, if I were going</td>\n",
       "      <td>neutral</td>\n",
       "      <td>I`d have responded, if I were going</td>\n",
       "      <td>I`d have responded, if I were going</td>\n",
       "    </tr>\n",
       "    <tr>\n",
       "      <td>1</td>\n",
       "      <td>549e992a42</td>\n",
       "      <td>Sooo SAD I will miss you here in San Diego!!!</td>\n",
       "      <td>Sooo SAD</td>\n",
       "      <td>negative</td>\n",
       "      <td>Sooo SAD I will miss you here in San Diego!!!</td>\n",
       "      <td>Soo SAD I will miss you here in San Diego!!!</td>\n",
       "    </tr>\n",
       "    <tr>\n",
       "      <td>2</td>\n",
       "      <td>088c60f138</td>\n",
       "      <td>my boss is bullying me...</td>\n",
       "      <td>bullying me</td>\n",
       "      <td>negative</td>\n",
       "      <td>my boss is bullying me...</td>\n",
       "      <td>my boss is bullying me...</td>\n",
       "    </tr>\n",
       "    <tr>\n",
       "      <td>3</td>\n",
       "      <td>9642c003ef</td>\n",
       "      <td>what interview! leave me alone</td>\n",
       "      <td>leave me alone</td>\n",
       "      <td>negative</td>\n",
       "      <td>what interview! leave me alone</td>\n",
       "      <td>what interview! leave me alone</td>\n",
       "    </tr>\n",
       "    <tr>\n",
       "      <td>4</td>\n",
       "      <td>358bd9e861</td>\n",
       "      <td>Sons of ****, why couldn`t they put them on the releases we already bought</td>\n",
       "      <td>Sons of ****,</td>\n",
       "      <td>negative</td>\n",
       "      <td>Sons of ****, why couldn`t they put them on the releases we already bought</td>\n",
       "      <td>Sons of ****, why couldn`t they put them on the releases we already bought</td>\n",
       "    </tr>\n",
       "  </tbody>\n",
       "</table>\n",
       "</div>"
      ],
      "text/plain": [
       "       textID  \\\n",
       "0  cb774db0d1   \n",
       "1  549e992a42   \n",
       "2  088c60f138   \n",
       "3  9642c003ef   \n",
       "4  358bd9e861   \n",
       "\n",
       "                                                                          text  \\\n",
       "0                                          I`d have responded, if I were going   \n",
       "1                                Sooo SAD I will miss you here in San Diego!!!   \n",
       "2                                                    my boss is bullying me...   \n",
       "3                                               what interview! leave me alone   \n",
       "4   Sons of ****, why couldn`t they put them on the releases we already bought   \n",
       "\n",
       "                         selected_text sentiment  \\\n",
       "0  I`d have responded, if I were going   neutral   \n",
       "1                             Sooo SAD  negative   \n",
       "2                          bullying me  negative   \n",
       "3                       leave me alone  negative   \n",
       "4                        Sons of ****,  negative   \n",
       "\n",
       "                                                             text_without_html  \\\n",
       "0                                          I`d have responded, if I were going   \n",
       "1                                Sooo SAD I will miss you here in San Diego!!!   \n",
       "2                                                    my boss is bullying me...   \n",
       "3                                               what interview! leave me alone   \n",
       "4   Sons of ****, why couldn`t they put them on the releases we already bought   \n",
       "\n",
       "                                                            without_repitition  \n",
       "0                                          I`d have responded, if I were going  \n",
       "1                                 Soo SAD I will miss you here in San Diego!!!  \n",
       "2                                                    my boss is bullying me...  \n",
       "3                                               what interview! leave me alone  \n",
       "4   Sons of ****, why couldn`t they put them on the releases we already bought  "
      ]
     },
     "execution_count": 210,
     "metadata": {},
     "output_type": "execute_result"
    }
   ],
   "source": [
    "def remove_repetitve_charaters(text):\n",
    "    grp = text.group(0)\n",
    "    if len(grp) > 1:\n",
    "        return grp[0:2] # can change the value here on repetition\n",
    "    \n",
    "def unique_char(rep,sentence):\n",
    "    convert = re.sub(r'(\\w)\\1+', rep, sentence) \n",
    "    return convert\n",
    "    \n",
    "df_train['without_repitition'] = df_train['text_without_html'].apply(lambda x: unique_char(remove_repetitve_charaters,x))\n",
    "\n",
    "df_train.head()"
   ]
  },
  {
   "cell_type": "code",
   "execution_count": 211,
   "metadata": {
    "scrolled": true
   },
   "outputs": [],
   "source": [
    "def clean_tweets(tweet):\n",
    "    tknzr = TweetTokenizer()\n",
    "    tweet_words = tknzr.tokenize(tweet)\n",
    "    final_list = []\n",
    "    tweet_len_check = []\n",
    "    tweet_words = [word for word in tweet_words if word not in stopwords]\n",
    "    tweet_words = [word for word in tweet_words if word not in string.punctuation]\n",
    "    tweet_words = [word.lower() for word in tweet_words]\n",
    "    tweet_words = [WordNetLemmatizer().lemmatize(token) for token in tweet_words]\n",
    "    for item in tweet_words:\n",
    "        if len(item)>=3:\n",
    "            tweet_len_check.append(item)\n",
    "    tweet_words = \" \".join(tweet_len_check)\n",
    "    tweet_words = re.findall(r'[a-zA-Z]+', tweet_words)\n",
    "    tweet_words = \" \".join(tweet_words)\n",
    "    \n",
    "    return tweet_words\n",
    "\n",
    "\n",
    "df_train['clean_text'] = df_train['without_repitition'].apply(lambda x: clean_tweets(x))"
   ]
  },
  {
   "cell_type": "code",
   "execution_count": 212,
   "metadata": {},
   "outputs": [],
   "source": [
    "df_train.drop(columns = 'text_without_html',axis=1,inplace=True)"
   ]
  },
  {
   "cell_type": "code",
   "execution_count": 213,
   "metadata": {},
   "outputs": [
    {
     "data": {
      "text/html": [
       "<div>\n",
       "<style scoped>\n",
       "    .dataframe tbody tr th:only-of-type {\n",
       "        vertical-align: middle;\n",
       "    }\n",
       "\n",
       "    .dataframe tbody tr th {\n",
       "        vertical-align: top;\n",
       "    }\n",
       "\n",
       "    .dataframe thead th {\n",
       "        text-align: right;\n",
       "    }\n",
       "</style>\n",
       "<table border=\"1\" class=\"dataframe\">\n",
       "  <thead>\n",
       "    <tr style=\"text-align: right;\">\n",
       "      <th></th>\n",
       "      <th>textID</th>\n",
       "      <th>text</th>\n",
       "      <th>selected_text</th>\n",
       "      <th>sentiment</th>\n",
       "      <th>without_repitition</th>\n",
       "      <th>clean_text</th>\n",
       "    </tr>\n",
       "  </thead>\n",
       "  <tbody>\n",
       "    <tr>\n",
       "      <td>0</td>\n",
       "      <td>cb774db0d1</td>\n",
       "      <td>I`d have responded, if I were going</td>\n",
       "      <td>I`d have responded, if I were going</td>\n",
       "      <td>neutral</td>\n",
       "      <td>I`d have responded, if I were going</td>\n",
       "      <td>responded going</td>\n",
       "    </tr>\n",
       "    <tr>\n",
       "      <td>1</td>\n",
       "      <td>549e992a42</td>\n",
       "      <td>Sooo SAD I will miss you here in San Diego!!!</td>\n",
       "      <td>Sooo SAD</td>\n",
       "      <td>negative</td>\n",
       "      <td>Soo SAD I will miss you here in San Diego!!!</td>\n",
       "      <td>soo sad miss san diego</td>\n",
       "    </tr>\n",
       "    <tr>\n",
       "      <td>2</td>\n",
       "      <td>088c60f138</td>\n",
       "      <td>my boss is bullying me...</td>\n",
       "      <td>bullying me</td>\n",
       "      <td>negative</td>\n",
       "      <td>my boss is bullying me...</td>\n",
       "      <td>bos bullying</td>\n",
       "    </tr>\n",
       "    <tr>\n",
       "      <td>3</td>\n",
       "      <td>9642c003ef</td>\n",
       "      <td>what interview! leave me alone</td>\n",
       "      <td>leave me alone</td>\n",
       "      <td>negative</td>\n",
       "      <td>what interview! leave me alone</td>\n",
       "      <td>interview leave alone</td>\n",
       "    </tr>\n",
       "    <tr>\n",
       "      <td>4</td>\n",
       "      <td>358bd9e861</td>\n",
       "      <td>Sons of ****, why couldn`t they put them on the releases we already bought</td>\n",
       "      <td>Sons of ****,</td>\n",
       "      <td>negative</td>\n",
       "      <td>Sons of ****, why couldn`t they put them on the releases we already bought</td>\n",
       "      <td>son put release already bought</td>\n",
       "    </tr>\n",
       "  </tbody>\n",
       "</table>\n",
       "</div>"
      ],
      "text/plain": [
       "       textID  \\\n",
       "0  cb774db0d1   \n",
       "1  549e992a42   \n",
       "2  088c60f138   \n",
       "3  9642c003ef   \n",
       "4  358bd9e861   \n",
       "\n",
       "                                                                          text  \\\n",
       "0                                          I`d have responded, if I were going   \n",
       "1                                Sooo SAD I will miss you here in San Diego!!!   \n",
       "2                                                    my boss is bullying me...   \n",
       "3                                               what interview! leave me alone   \n",
       "4   Sons of ****, why couldn`t they put them on the releases we already bought   \n",
       "\n",
       "                         selected_text sentiment  \\\n",
       "0  I`d have responded, if I were going   neutral   \n",
       "1                             Sooo SAD  negative   \n",
       "2                          bullying me  negative   \n",
       "3                       leave me alone  negative   \n",
       "4                        Sons of ****,  negative   \n",
       "\n",
       "                                                            without_repitition  \\\n",
       "0                                          I`d have responded, if I were going   \n",
       "1                                 Soo SAD I will miss you here in San Diego!!!   \n",
       "2                                                    my boss is bullying me...   \n",
       "3                                               what interview! leave me alone   \n",
       "4   Sons of ****, why couldn`t they put them on the releases we already bought   \n",
       "\n",
       "                       clean_text  \n",
       "0                 responded going  \n",
       "1          soo sad miss san diego  \n",
       "2                    bos bullying  \n",
       "3           interview leave alone  \n",
       "4  son put release already bought  "
      ]
     },
     "execution_count": 213,
     "metadata": {},
     "output_type": "execute_result"
    }
   ],
   "source": [
    "df_train.head()"
   ]
  },
  {
   "cell_type": "markdown",
   "metadata": {},
   "source": [
    "#### To check how many 'clean_text' do not have any value (due to pre processing steps)"
   ]
  },
  {
   "cell_type": "code",
   "execution_count": 214,
   "metadata": {},
   "outputs": [
    {
     "data": {
      "text/plain": [
       "neutral     84\n",
       "negative     6\n",
       "positive     3\n",
       "Name: sentiment, dtype: int64"
      ]
     },
     "execution_count": 214,
     "metadata": {},
     "output_type": "execute_result"
    }
   ],
   "source": [
    "df_train_empty = df_train[df_train['clean_text']==\"\"]\n",
    "df_train_empty['sentiment'].value_counts()"
   ]
  },
  {
   "cell_type": "markdown",
   "metadata": {},
   "source": [
    "#### We see that around 91 tweets have no clean text. Since we will not be able to get any value out of them, we will be removing them"
   ]
  },
  {
   "cell_type": "code",
   "execution_count": 215,
   "metadata": {},
   "outputs": [],
   "source": [
    "df_train = df_train[df_train['clean_text']!=\"\"]\n",
    "\n",
    "df_train.reset_index(drop=True,inplace=True)"
   ]
  },
  {
   "cell_type": "code",
   "execution_count": 216,
   "metadata": {
    "scrolled": true
   },
   "outputs": [
    {
     "data": {
      "text/html": [
       "<div>\n",
       "<style scoped>\n",
       "    .dataframe tbody tr th:only-of-type {\n",
       "        vertical-align: middle;\n",
       "    }\n",
       "\n",
       "    .dataframe tbody tr th {\n",
       "        vertical-align: top;\n",
       "    }\n",
       "\n",
       "    .dataframe thead th {\n",
       "        text-align: right;\n",
       "    }\n",
       "</style>\n",
       "<table border=\"1\" class=\"dataframe\">\n",
       "  <thead>\n",
       "    <tr style=\"text-align: right;\">\n",
       "      <th></th>\n",
       "      <th>textID</th>\n",
       "      <th>text</th>\n",
       "      <th>selected_text</th>\n",
       "      <th>sentiment</th>\n",
       "      <th>without_repitition</th>\n",
       "      <th>clean_text</th>\n",
       "    </tr>\n",
       "  </thead>\n",
       "  <tbody>\n",
       "    <tr>\n",
       "      <td>0</td>\n",
       "      <td>cb774db0d1</td>\n",
       "      <td>I`d have responded, if I were going</td>\n",
       "      <td>I`d have responded, if I were going</td>\n",
       "      <td>neutral</td>\n",
       "      <td>I`d have responded, if I were going</td>\n",
       "      <td>responded going</td>\n",
       "    </tr>\n",
       "    <tr>\n",
       "      <td>1</td>\n",
       "      <td>549e992a42</td>\n",
       "      <td>Sooo SAD I will miss you here in San Diego!!!</td>\n",
       "      <td>Sooo SAD</td>\n",
       "      <td>negative</td>\n",
       "      <td>Soo SAD I will miss you here in San Diego!!!</td>\n",
       "      <td>soo sad miss san diego</td>\n",
       "    </tr>\n",
       "    <tr>\n",
       "      <td>2</td>\n",
       "      <td>088c60f138</td>\n",
       "      <td>my boss is bullying me...</td>\n",
       "      <td>bullying me</td>\n",
       "      <td>negative</td>\n",
       "      <td>my boss is bullying me...</td>\n",
       "      <td>bos bullying</td>\n",
       "    </tr>\n",
       "    <tr>\n",
       "      <td>3</td>\n",
       "      <td>9642c003ef</td>\n",
       "      <td>what interview! leave me alone</td>\n",
       "      <td>leave me alone</td>\n",
       "      <td>negative</td>\n",
       "      <td>what interview! leave me alone</td>\n",
       "      <td>interview leave alone</td>\n",
       "    </tr>\n",
       "    <tr>\n",
       "      <td>4</td>\n",
       "      <td>358bd9e861</td>\n",
       "      <td>Sons of ****, why couldn`t they put them on the releases we already bought</td>\n",
       "      <td>Sons of ****,</td>\n",
       "      <td>negative</td>\n",
       "      <td>Sons of ****, why couldn`t they put them on the releases we already bought</td>\n",
       "      <td>son put release already bought</td>\n",
       "    </tr>\n",
       "    <tr>\n",
       "      <td>5</td>\n",
       "      <td>28b57f3990</td>\n",
       "      <td>http://www.dothebouncy.com/smf - some shameless plugging for the best Rangers forum on earth</td>\n",
       "      <td>http://www.dothebouncy.com/smf - some shameless plugging for the best Rangers forum on earth</td>\n",
       "      <td>neutral</td>\n",
       "      <td>- some shameless plugging for the best Rangers forum on earth</td>\n",
       "      <td>shameless plugging best ranger forum earth</td>\n",
       "    </tr>\n",
       "    <tr>\n",
       "      <td>6</td>\n",
       "      <td>6e0c6d75b1</td>\n",
       "      <td>2am feedings for the baby are fun when he is all smiles and coos</td>\n",
       "      <td>fun</td>\n",
       "      <td>positive</td>\n",
       "      <td>2am feedings for the baby are fun when he is all smiles and coos</td>\n",
       "      <td>am feeding baby fun smile coo</td>\n",
       "    </tr>\n",
       "    <tr>\n",
       "      <td>7</td>\n",
       "      <td>50e14c0bb8</td>\n",
       "      <td>Soooo high</td>\n",
       "      <td>Soooo high</td>\n",
       "      <td>neutral</td>\n",
       "      <td>Soo high</td>\n",
       "      <td>soo high</td>\n",
       "    </tr>\n",
       "    <tr>\n",
       "      <td>8</td>\n",
       "      <td>e050245fbd</td>\n",
       "      <td>Both of you</td>\n",
       "      <td>Both of you</td>\n",
       "      <td>neutral</td>\n",
       "      <td>Both of you</td>\n",
       "      <td>both</td>\n",
       "    </tr>\n",
       "    <tr>\n",
       "      <td>9</td>\n",
       "      <td>fc2cbefa9d</td>\n",
       "      <td>Journey!? Wow... u just became cooler.  hehe... (is that possible!?)</td>\n",
       "      <td>Wow... u just became cooler.</td>\n",
       "      <td>positive</td>\n",
       "      <td>Journey!? Wow... u just became cooler.  hehe... (is that possible!?)</td>\n",
       "      <td>journey wow became cooler hehe possible</td>\n",
       "    </tr>\n",
       "  </tbody>\n",
       "</table>\n",
       "</div>"
      ],
      "text/plain": [
       "       textID  \\\n",
       "0  cb774db0d1   \n",
       "1  549e992a42   \n",
       "2  088c60f138   \n",
       "3  9642c003ef   \n",
       "4  358bd9e861   \n",
       "5  28b57f3990   \n",
       "6  6e0c6d75b1   \n",
       "7  50e14c0bb8   \n",
       "8  e050245fbd   \n",
       "9  fc2cbefa9d   \n",
       "\n",
       "                                                                                           text  \\\n",
       "0                                                           I`d have responded, if I were going   \n",
       "1                                                 Sooo SAD I will miss you here in San Diego!!!   \n",
       "2                                                                     my boss is bullying me...   \n",
       "3                                                                what interview! leave me alone   \n",
       "4                    Sons of ****, why couldn`t they put them on the releases we already bought   \n",
       "5  http://www.dothebouncy.com/smf - some shameless plugging for the best Rangers forum on earth   \n",
       "6                              2am feedings for the baby are fun when he is all smiles and coos   \n",
       "7                                                                                    Soooo high   \n",
       "8                                                                                   Both of you   \n",
       "9                          Journey!? Wow... u just became cooler.  hehe... (is that possible!?)   \n",
       "\n",
       "                                                                                  selected_text  \\\n",
       "0                                                           I`d have responded, if I were going   \n",
       "1                                                                                      Sooo SAD   \n",
       "2                                                                                   bullying me   \n",
       "3                                                                                leave me alone   \n",
       "4                                                                                 Sons of ****,   \n",
       "5  http://www.dothebouncy.com/smf - some shameless plugging for the best Rangers forum on earth   \n",
       "6                                                                                           fun   \n",
       "7                                                                                    Soooo high   \n",
       "8                                                                                   Both of you   \n",
       "9                                                                  Wow... u just became cooler.   \n",
       "\n",
       "  sentiment  \\\n",
       "0   neutral   \n",
       "1  negative   \n",
       "2  negative   \n",
       "3  negative   \n",
       "4  negative   \n",
       "5   neutral   \n",
       "6  positive   \n",
       "7   neutral   \n",
       "8   neutral   \n",
       "9  positive   \n",
       "\n",
       "                                                            without_repitition  \\\n",
       "0                                          I`d have responded, if I were going   \n",
       "1                                 Soo SAD I will miss you here in San Diego!!!   \n",
       "2                                                    my boss is bullying me...   \n",
       "3                                               what interview! leave me alone   \n",
       "4   Sons of ****, why couldn`t they put them on the releases we already bought   \n",
       "5                - some shameless plugging for the best Rangers forum on earth   \n",
       "6             2am feedings for the baby are fun when he is all smiles and coos   \n",
       "7                                                                     Soo high   \n",
       "8                                                                  Both of you   \n",
       "9         Journey!? Wow... u just became cooler.  hehe... (is that possible!?)   \n",
       "\n",
       "                                   clean_text  \n",
       "0                             responded going  \n",
       "1                      soo sad miss san diego  \n",
       "2                                bos bullying  \n",
       "3                       interview leave alone  \n",
       "4              son put release already bought  \n",
       "5  shameless plugging best ranger forum earth  \n",
       "6               am feeding baby fun smile coo  \n",
       "7                                    soo high  \n",
       "8                                        both  \n",
       "9     journey wow became cooler hehe possible  "
      ]
     },
     "execution_count": 216,
     "metadata": {},
     "output_type": "execute_result"
    }
   ],
   "source": [
    "df_train.head(10)"
   ]
  },
  {
   "cell_type": "code",
   "execution_count": 217,
   "metadata": {},
   "outputs": [
    {
     "name": "stdout",
     "output_type": "stream",
     "text": [
      "<class 'pandas.core.frame.DataFrame'>\n",
      "RangeIndex: 27387 entries, 0 to 27386\n",
      "Data columns (total 6 columns):\n",
      "textID                27387 non-null object\n",
      "text                  27387 non-null object\n",
      "selected_text         27387 non-null object\n",
      "sentiment             27387 non-null object\n",
      "without_repitition    27387 non-null object\n",
      "clean_text            27387 non-null object\n",
      "dtypes: object(6)\n",
      "memory usage: 1.3+ MB\n"
     ]
    }
   ],
   "source": [
    "df_train.info()"
   ]
  },
  {
   "cell_type": "markdown",
   "metadata": {},
   "source": [
    "### Exploratory Data Analysis\n",
    "\n",
    "#### In this first we would check the following things -\n",
    "    - # of positive, negative and neutral sentiments\n",
    "    - Most frequent words in all three topics"
   ]
  },
  {
   "cell_type": "code",
   "execution_count": 218,
   "metadata": {},
   "outputs": [
    {
     "data": {
      "text/plain": [
       "<matplotlib.axes._subplots.AxesSubplot at 0x1c56167710>"
      ]
     },
     "execution_count": 218,
     "metadata": {},
     "output_type": "execute_result"
    },
    {
     "data": {
      "image/png": "[encoded data removed]",
      "text/plain": [
       "<Figure size 432x288 with 1 Axes>"
      ]
     },
     "metadata": {
      "needs_background": "light"
     },
     "output_type": "display_data"
    }
   ],
   "source": [
    "df_train['sentiment'].value_counts().plot(kind = 'bar', title = \"# of types of Tweets\")"
   ]
  },
  {
   "cell_type": "code",
   "execution_count": 219,
   "metadata": {},
   "outputs": [
    {
     "data": {
      "text/plain": [
       "<matplotlib.axes._subplots.AxesSubplot at 0x1c56156910>"
      ]
     },
     "execution_count": 219,
     "metadata": {},
     "output_type": "execute_result"
    },
    {
     "data": {
      "image/png": "[encoded data removed]",
      "text/plain": [
       "<Figure size 432x288 with 1 Axes>"
      ]
     },
     "metadata": {
      "needs_background": "light"
     },
     "output_type": "display_data"
    }
   ],
   "source": [
    "df_train['sentiment'].value_counts(normalize = True).plot(kind = 'bar', title = \"% of types of Tweets\", color = 'peru')"
   ]
  },
  {
   "cell_type": "markdown",
   "metadata": {},
   "source": [
    "#### Check the top 20 most frequent words in each group"
   ]
  },
  {
   "cell_type": "code",
   "execution_count": 220,
   "metadata": {},
   "outputs": [],
   "source": [
    "df_train_positive = df_train[df_train['sentiment']=='positive']\n",
    "df_train_negative = df_train[df_train['sentiment']=='negative']\n",
    "df_train_neutral = df_train[df_train['sentiment']=='neutral']"
   ]
  },
  {
   "cell_type": "code",
   "execution_count": 221,
   "metadata": {},
   "outputs": [
    {
     "name": "stdout",
     "output_type": "stream",
     "text": [
      "(8579, 6)\n",
      "(7775, 6)\n",
      "(11033, 6)\n"
     ]
    }
   ],
   "source": [
    "print(df_train_positive.shape)\n",
    "print(df_train_negative.shape)\n",
    "print(df_train_neutral.shape)"
   ]
  },
  {
   "cell_type": "code",
   "execution_count": 222,
   "metadata": {},
   "outputs": [],
   "source": [
    "def word_frequency(text):\n",
    "    tknzr = TweetTokenizer()\n",
    "    clean_tweet_words = tknzr.tokenize(text)\n",
    "    list_positive_words = []\n",
    "    for word in clean_tweet_words:\n",
    "        list_positive_words.append(word)\n",
    "    return list_positive_words\n",
    "        \n",
    "\n",
    "list_sentence = df_train_positive.apply(lambda x: word_frequency(x.clean_text),axis=1)\n",
    "\n",
    "list_words = []\n",
    "for item in list_sentence:\n",
    "    for word in item:\n",
    "        list_words.append(word)"
   ]
  },
  {
   "cell_type": "code",
   "execution_count": 223,
   "metadata": {},
   "outputs": [],
   "source": [
    "freq_positive_words = pd.Series(list_words).value_counts()\n",
    "\n",
    "freq_positive_words_top_20 = freq_positive_words[0:20]"
   ]
  },
  {
   "cell_type": "code",
   "execution_count": 224,
   "metadata": {},
   "outputs": [
    {
     "data": {
      "text/plain": [
       "<matplotlib.axes._subplots.AxesSubplot at 0x1c57ce8750>"
      ]
     },
     "execution_count": 224,
     "metadata": {},
     "output_type": "execute_result"
    },
    {
     "data": {
      "image/png": "[encoded data removed]",
      "text/plain": [
       "<Figure size 432x288 with 1 Axes>"
      ]
     },
     "metadata": {
      "needs_background": "light"
     },
     "output_type": "display_data"
    }
   ],
   "source": [
    "freq_positive_words_top_20.plot(kind='bar',color = 'green',title = 'Most frequent words in a positive tweet')"
   ]
  },
  {
   "cell_type": "code",
   "execution_count": 225,
   "metadata": {},
   "outputs": [],
   "source": [
    "list_sentence = df_train_negative.apply(lambda x: word_frequency(x.clean_text),axis=1)\n",
    "\n",
    "list_words = []\n",
    "for item in list_sentence:\n",
    "    for word in item:\n",
    "        list_words.append(word)\n",
    "        \n",
    "freq_negative_words = pd.Series(list_words).value_counts()\n",
    "\n",
    "freq_negative_words_top_20 = freq_negative_words[0:20]"
   ]
  },
  {
   "cell_type": "code",
   "execution_count": 226,
   "metadata": {},
   "outputs": [
    {
     "data": {
      "text/plain": [
       "<matplotlib.axes._subplots.AxesSubplot at 0x1c5836c9d0>"
      ]
     },
     "execution_count": 226,
     "metadata": {},
     "output_type": "execute_result"
    },
    {
     "data": {
      "image/png": "[encoded data removed]",
      "text/plain": [
       "<Figure size 432x288 with 1 Axes>"
      ]
     },
     "metadata": {
      "needs_background": "light"
     },
     "output_type": "display_data"
    }
   ],
   "source": [
    "freq_negative_words_top_20.plot(kind='bar',color = 'maroon',title = 'Most frequent words in a negative tweet')"
   ]
  },
  {
   "cell_type": "code",
   "execution_count": 227,
   "metadata": {},
   "outputs": [
    {
     "data": {
      "text/plain": [
       "<matplotlib.axes._subplots.AxesSubplot at 0x1c57f57690>"
      ]
     },
     "execution_count": 227,
     "metadata": {},
     "output_type": "execute_result"
    },
    {
     "data": {
      "image/png": "[encoded data removed]",
      "text/plain": [
       "<Figure size 432x288 with 1 Axes>"
      ]
     },
     "metadata": {
      "needs_background": "light"
     },
     "output_type": "display_data"
    }
   ],
   "source": [
    "list_sentence = df_train_neutral.apply(lambda x: word_frequency(x.clean_text),axis=1)\n",
    "\n",
    "list_words = []\n",
    "for item in list_sentence:\n",
    "    for word in item:\n",
    "        list_words.append(word)\n",
    "        \n",
    "freq_neutral_words = pd.Series(list_words).value_counts()\n",
    "\n",
    "freq_neutral_words_top_20 = freq_neutral_words[0:20]\n",
    "\n",
    "freq_neutral_words_top_20.plot(kind='bar',color = 'orange',title = 'Most frequent words in a neutral tweet')\n"
   ]
  },
  {
   "cell_type": "markdown",
   "metadata": {},
   "source": [
    "### Creating a document-term matrix"
   ]
  },
  {
   "cell_type": "code",
   "execution_count": 228,
   "metadata": {},
   "outputs": [],
   "source": [
    "# We will first create a corpus of all the tweets that we have\n",
    "\n",
    "corpus = []\n",
    "for item in range(len(df_train)):\n",
    "    corpus.append(df_train['clean_text'][item])"
   ]
  },
  {
   "cell_type": "markdown",
   "metadata": {},
   "source": [
    "### Method 1 - To check the accuracy of model by creating a bag of word model + Various algorithms"
   ]
  },
  {
   "cell_type": "code",
   "execution_count": 229,
   "metadata": {},
   "outputs": [],
   "source": [
    "from sklearn.feature_extraction.text import CountVectorizer\n",
    "\n",
    "vectorizer = CountVectorizer( ngram_range=(1, 1))\n",
    "\n",
    "X = vectorizer.fit_transform(corpus)\n",
    "    \n",
    "matrix_df = pd.DataFrame(data=X.toarray(), columns=vectorizer.get_feature_names())\n",
    "\n",
    "y = df_train['sentiment']"
   ]
  },
  {
   "cell_type": "markdown",
   "metadata": {},
   "source": [
    "### Splitting the training dataset into train and validation set, so that we can test our model"
   ]
  },
  {
   "cell_type": "code",
   "execution_count": 230,
   "metadata": {},
   "outputs": [],
   "source": [
    "X_train, X_val, y_train, y_val = train_test_split(X, y, train_size=0.7, test_size=0.3, random_state=100)"
   ]
  },
  {
   "cell_type": "code",
   "execution_count": 231,
   "metadata": {},
   "outputs": [
    {
     "name": "stdout",
     "output_type": "stream",
     "text": [
      "(19170, 20959)\n",
      "(8217, 20959)\n",
      "(19170,)\n",
      "(8217,)\n"
     ]
    }
   ],
   "source": [
    "print(X_train.shape)\n",
    "print(X_val.shape)\n",
    "print(y_train.shape)\n",
    "print(y_val.shape)"
   ]
  },
  {
   "cell_type": "code",
   "execution_count": 232,
   "metadata": {},
   "outputs": [
    {
     "data": {
      "text/plain": [
       "0.6450042594620908"
      ]
     },
     "execution_count": 232,
     "metadata": {},
     "output_type": "execute_result"
    }
   ],
   "source": [
    "clf = MultinomialNB()\n",
    "\n",
    "clf.fit(X_train, y_train)\n",
    "\n",
    "y_pred = clf.predict(X_val)\n",
    "\n",
    "score = accuracy_score(y_val, y_pred)\n",
    "\n",
    "score\n"
   ]
  },
  {
   "cell_type": "markdown",
   "metadata": {},
   "source": [
    "### Let us now perform an error analysis to find out which tweets have been mislabeleld and understand why"
   ]
  },
  {
   "cell_type": "code",
   "execution_count": 244,
   "metadata": {},
   "outputs": [
    {
     "name": "stdout",
     "output_type": "stream",
     "text": [
      "(5148, 4)\n",
      "(3069, 4)\n"
     ]
    },
    {
     "data": {
      "text/html": [
       "<div>\n",
       "<style scoped>\n",
       "    .dataframe tbody tr th:only-of-type {\n",
       "        vertical-align: middle;\n",
       "    }\n",
       "\n",
       "    .dataframe tbody tr th {\n",
       "        vertical-align: top;\n",
       "    }\n",
       "\n",
       "    .dataframe thead th {\n",
       "        text-align: right;\n",
       "    }\n",
       "</style>\n",
       "<table border=\"1\" class=\"dataframe\">\n",
       "  <thead>\n",
       "    <tr style=\"text-align: right;\">\n",
       "      <th></th>\n",
       "      <th>text</th>\n",
       "      <th>clean_text</th>\n",
       "      <th>sentiment</th>\n",
       "      <th>Predicted Sentiment</th>\n",
       "    </tr>\n",
       "  </thead>\n",
       "  <tbody>\n",
       "    <tr>\n",
       "      <td>7995</td>\n",
       "      <td>my legs are soft  watching a move with my mommm short day @ workk</td>\n",
       "      <td>leg soft watching move momm short day workk</td>\n",
       "      <td>positive</td>\n",
       "      <td>neutral</td>\n",
       "    </tr>\n",
       "    <tr>\n",
       "      <td>5915</td>\n",
       "      <td>Yeah I hate that too!!!! Sorry ur goin thru that</td>\n",
       "      <td>yeah hate sorry goin thru</td>\n",
       "      <td>negative</td>\n",
       "      <td>neutral</td>\n",
       "    </tr>\n",
       "    <tr>\n",
       "      <td>15510</td>\n",
       "      <td>http://survivingtheworld.net/Lesson5.html &lt;&lt; I chose the wrong career</td>\n",
       "      <td>chose wrong career</td>\n",
       "      <td>negative</td>\n",
       "      <td>neutral</td>\n",
       "    </tr>\n",
       "    <tr>\n",
       "      <td>9836</td>\n",
       "      <td>Man, finishing 'Operation Anchorage' sure gives you an unfair advantage, loot-wise... I love the stealth field suit and Gauss rifle</td>\n",
       "      <td>man finishing operation anchorage sure give unfair advantage loot wise love stealth field suit gauss rifle</td>\n",
       "      <td>positive</td>\n",
       "      <td>neutral</td>\n",
       "    </tr>\n",
       "    <tr>\n",
       "      <td>24819</td>\n",
       "      <td>_Robert ha that was ages ago!  youre in LA right? the weather is much better there...</td>\n",
       "      <td>robert age ago youre right weather much better</td>\n",
       "      <td>positive</td>\n",
       "      <td>neutral</td>\n",
       "    </tr>\n",
       "    <tr>\n",
       "      <td>11477</td>\n",
       "      <td>My pleasure.  Hear Kelli has new project!   #followfriday</td>\n",
       "      <td>pleasure hear kelli new project followfriday</td>\n",
       "      <td>neutral</td>\n",
       "      <td>positive</td>\n",
       "    </tr>\n",
       "    <tr>\n",
       "      <td>5093</td>\n",
       "      <td>Have a great weekend Mononoke  I may be tweeting from inside the movie theater either Monday or Tuesday  lol</td>\n",
       "      <td>have great weekend mononoke may tweeting inside movie theater either monday tuesday lol</td>\n",
       "      <td>positive</td>\n",
       "      <td>neutral</td>\n",
       "    </tr>\n",
       "    <tr>\n",
       "      <td>8360</td>\n",
       "      <td>Missed you last night hon</td>\n",
       "      <td>missed last night hon</td>\n",
       "      <td>negative</td>\n",
       "      <td>neutral</td>\n",
       "    </tr>\n",
       "    <tr>\n",
       "      <td>2315</td>\n",
       "      <td>Okay, the man with the hook for a hand is kinda freaking me out right now.</td>\n",
       "      <td>okay man hook hand kinda freaking right</td>\n",
       "      <td>negative</td>\n",
       "      <td>neutral</td>\n",
       "    </tr>\n",
       "    <tr>\n",
       "      <td>22786</td>\n",
       "      <td>why the hell is youtube not working???  NO NO  NO NO   NO  NO NO NNO NO</td>\n",
       "      <td>hell youtube working nno</td>\n",
       "      <td>negative</td>\n",
       "      <td>neutral</td>\n",
       "    </tr>\n",
       "    <tr>\n",
       "      <td>5558</td>\n",
       "      <td>Alternate name for a 'Bacon Mary'... A 'Bloody Piggy!' ;) (I have to give my boyfriend credit for that idea!)</td>\n",
       "      <td>alternate name bacon mary bloody piggy give boyfriend credit idea</td>\n",
       "      <td>positive</td>\n",
       "      <td>neutral</td>\n",
       "    </tr>\n",
       "    <tr>\n",
       "      <td>10831</td>\n",
       "      <td>Ugh, you people and your fancy trips to Italy while I`m slaving away at this computer.</td>\n",
       "      <td>ugh people fancy trip italy slaving away computer</td>\n",
       "      <td>negative</td>\n",
       "      <td>neutral</td>\n",
       "    </tr>\n",
       "    <tr>\n",
       "      <td>25606</td>\n",
       "      <td>Haha i bet a man did make heels! Im sorry you hurt though.  I hope you feel better!  ~Livelovesing~</td>\n",
       "      <td>haha bet man make heel sorry hurt though hope feel better livelovesing</td>\n",
       "      <td>neutral</td>\n",
       "      <td>negative</td>\n",
       "    </tr>\n",
       "    <tr>\n",
       "      <td>15552</td>\n",
       "      <td>thanks for the follow! Isafailure was supposed 2 b a team thing, but my friend hasn`t emailed me or communicated n 4ever</td>\n",
       "      <td>thanks follow isafailure supposed team thing but friend emailed communicated ever</td>\n",
       "      <td>positive</td>\n",
       "      <td>neutral</td>\n",
       "    </tr>\n",
       "    <tr>\n",
       "      <td>2037</td>\n",
       "      <td>cupcakes gave me heartburn</td>\n",
       "      <td>cupcake gave heartburn</td>\n",
       "      <td>negative</td>\n",
       "      <td>neutral</td>\n",
       "    </tr>\n",
       "    <tr>\n",
       "      <td>5561</td>\n",
       "      <td>hey, have a great gig! We`ll have to do exchange of tracks via ze emayal  I`m all lost in loops right now and still writing ****</td>\n",
       "      <td>hey great gig exchange track via emayal lost loop right still writing</td>\n",
       "      <td>positive</td>\n",
       "      <td>neutral</td>\n",
       "    </tr>\n",
       "    <tr>\n",
       "      <td>3051</td>\n",
       "      <td>watching chicago.  honeyyyy im with you I miss me some hey arnold! and wild thornberrys</td>\n",
       "      <td>watching chicago honeyy miss hey arnold wild thornberrys</td>\n",
       "      <td>negative</td>\n",
       "      <td>neutral</td>\n",
       "    </tr>\n",
       "    <tr>\n",
       "      <td>7326</td>\n",
       "      <td>I want to get all dressed up and go out to, but I to have no one to go with, I`m with you mentor</td>\n",
       "      <td>want get dressed but one mentor</td>\n",
       "      <td>negative</td>\n",
       "      <td>neutral</td>\n",
       "    </tr>\n",
       "    <tr>\n",
       "      <td>19951</td>\n",
       "      <td>Aaaaw no!  Are the windows open and that?</td>\n",
       "      <td>aaaw are window open</td>\n",
       "      <td>negative</td>\n",
       "      <td>neutral</td>\n",
       "    </tr>\n",
       "    <tr>\n",
       "      <td>2353</td>\n",
       "      <td>Recording an acoustic track! For you sexy kids!</td>\n",
       "      <td>recording acoustic track for sexy kid</td>\n",
       "      <td>neutral</td>\n",
       "      <td>positive</td>\n",
       "    </tr>\n",
       "    <tr>\n",
       "      <td>24153</td>\n",
       "      <td>Hey, im chillin right now, gettin ready for school   Mohawk Kidd</td>\n",
       "      <td>hey chillin right gettin ready school mohawk kidd</td>\n",
       "      <td>positive</td>\n",
       "      <td>neutral</td>\n",
       "    </tr>\n",
       "    <tr>\n",
       "      <td>13727</td>\n",
       "      <td>loves the way the sky looks now i.e. no cloud at all.  but that would only mean that it`s ultra hot outside.... http://plurk.com/p/rpb7t</td>\n",
       "      <td>love way sky look cloud but would mean ultra hot outside</td>\n",
       "      <td>positive</td>\n",
       "      <td>neutral</td>\n",
       "    </tr>\n",
       "    <tr>\n",
       "      <td>994</td>\n",
       "      <td>I`ve been unlocked for decades now...just not lucky, never have been.  Gottta make my own luck and that involves $$$$$</td>\n",
       "      <td>unlocked decade lucky never gotta make luck involves</td>\n",
       "      <td>negative</td>\n",
       "      <td>positive</td>\n",
       "    </tr>\n",
       "    <tr>\n",
       "      <td>13603</td>\n",
       "      <td>living quite so close to RAF boulmer that might not be a good thing</td>\n",
       "      <td>living quite close raf boulmer might good thing</td>\n",
       "      <td>negative</td>\n",
       "      <td>neutral</td>\n",
       "    </tr>\n",
       "    <tr>\n",
       "      <td>11972</td>\n",
       "      <td>I need a hug because our pitching has been lackluster, our shortstops can`t field &amp; Big Papi can`t get above the Mendoza line.</td>\n",
       "      <td>need hug pitching lackluster shortstop field big papi get mendoza line</td>\n",
       "      <td>negative</td>\n",
       "      <td>neutral</td>\n",
       "    </tr>\n",
       "    <tr>\n",
       "      <td>15630</td>\n",
       "      <td>Hulu no work in Canada</td>\n",
       "      <td>hulu work canada</td>\n",
       "      <td>neutral</td>\n",
       "      <td>negative</td>\n",
       "    </tr>\n",
       "    <tr>\n",
       "      <td>4935</td>\n",
       "      <td>Hey Tweeps...good morning. Wussup America...Talk to me tell wut`s on ur mind..</td>\n",
       "      <td>hey tweeps good morning wussup america talk tell wut mind</td>\n",
       "      <td>positive</td>\n",
       "      <td>neutral</td>\n",
       "    </tr>\n",
       "    <tr>\n",
       "      <td>18579</td>\n",
       "      <td>havin friends over hangin out with christian tonight!!  gonna roast marshmellows and chocolate and cramcrackers.!?!?!</td>\n",
       "      <td>havin friend hangin christian tonight gonna roast marshmellows chocolate cramcrackers</td>\n",
       "      <td>neutral</td>\n",
       "      <td>positive</td>\n",
       "    </tr>\n",
       "    <tr>\n",
       "      <td>6370</td>\n",
       "      <td>thanks  this one will be a hit.  has been a patron since 2001</td>\n",
       "      <td>thanks one hit patron since</td>\n",
       "      <td>positive</td>\n",
       "      <td>neutral</td>\n",
       "    </tr>\n",
       "    <tr>\n",
       "      <td>9494</td>\n",
       "      <td>LOL! Thanks  glad I have the time off to spend with him! Can`t imagine trying to go into work right now.</td>\n",
       "      <td>lol thanks glad time spend can imagine trying work right</td>\n",
       "      <td>neutral</td>\n",
       "      <td>positive</td>\n",
       "    </tr>\n",
       "    <tr>\n",
       "      <td>25979</td>\n",
       "      <td>i decided it was best for me to stay in tonight lady. i shall be in pittsburgh soon!!  (FAREWELL!!!)</td>\n",
       "      <td>decided best stay tonight lady shall pittsburgh soon farewell</td>\n",
       "      <td>positive</td>\n",
       "      <td>neutral</td>\n",
       "    </tr>\n",
       "    <tr>\n",
       "      <td>9013</td>\n",
       "      <td>Nailing some webconcepting *in the zone*. I should be awarded..</td>\n",
       "      <td>nailing webconcepting zone awarded</td>\n",
       "      <td>positive</td>\n",
       "      <td>neutral</td>\n",
       "    </tr>\n",
       "    <tr>\n",
       "      <td>26595</td>\n",
       "      <td>I wish I was going to Internet Week</td>\n",
       "      <td>wish going internet week</td>\n",
       "      <td>positive</td>\n",
       "      <td>neutral</td>\n",
       "    </tr>\n",
       "    <tr>\n",
       "      <td>24996</td>\n",
       "      <td>is so hungover. what a crazy night. i`m also in the bad books with mother!!</td>\n",
       "      <td>hungover crazy night also bad book mother</td>\n",
       "      <td>negative</td>\n",
       "      <td>positive</td>\n",
       "    </tr>\n",
       "    <tr>\n",
       "      <td>15022</td>\n",
       "      <td>the commies at their finest: youtube and blogger are blocked in china. no updates from us while we are in china.  but GREAT WALL CONQUERED</td>\n",
       "      <td>commie finest youtube blogger blocked china update china but great wall conquered</td>\n",
       "      <td>positive</td>\n",
       "      <td>neutral</td>\n",
       "    </tr>\n",
       "    <tr>\n",
       "      <td>9259</td>\n",
       "      <td>OMG...thank you so much for sending that, I hadn`t seen yet. So loving the new Phoenix, too bad they`re not coming to Seattle</td>\n",
       "      <td>omg thank much sending seen yet loving new phoenix bad coming seattle</td>\n",
       "      <td>neutral</td>\n",
       "      <td>positive</td>\n",
       "    </tr>\n",
       "    <tr>\n",
       "      <td>20630</td>\n",
       "      <td>haha Good job getting close. Her eyes are set somewhere else though</td>\n",
       "      <td>haha good job getting close her eye set somewhere else though</td>\n",
       "      <td>positive</td>\n",
       "      <td>neutral</td>\n",
       "    </tr>\n",
       "    <tr>\n",
       "      <td>7055</td>\n",
       "      <td>the $60,000 i spent going to college was well spent.  I`m going to meet a man tomorrow in the Toys`R`Us parking lot for a cleaning job.</td>\n",
       "      <td>spent going college well spent going meet man tomorrow toy parking lot cleaning job</td>\n",
       "      <td>positive</td>\n",
       "      <td>neutral</td>\n",
       "    </tr>\n",
       "    <tr>\n",
       "      <td>4274</td>\n",
       "      <td>I`m way to hungry to even think. I can`t go to work on an empty stomach like this</td>\n",
       "      <td>way hungry even think work empty stomach like</td>\n",
       "      <td>neutral</td>\n",
       "      <td>negative</td>\n",
       "    </tr>\n",
       "    <tr>\n",
       "      <td>19659</td>\n",
       "      <td>ive tried and tried in the past to learn cockney but sadly its near impossible to find books and things on it over here.</td>\n",
       "      <td>ive tried tried past learn cockney but sadly near impossible find book thing</td>\n",
       "      <td>negative</td>\n",
       "      <td>neutral</td>\n",
       "    </tr>\n",
       "  </tbody>\n",
       "</table>\n",
       "</div>"
      ],
      "text/plain": [
       "                                                                                                                                             text  \\\n",
       "7995                                                                            my legs are soft  watching a move with my mommm short day @ workk   \n",
       "5915                                                                                             Yeah I hate that too!!!! Sorry ur goin thru that   \n",
       "15510                                                                       http://survivingtheworld.net/Lesson5.html << I chose the wrong career   \n",
       "9836          Man, finishing 'Operation Anchorage' sure gives you an unfair advantage, loot-wise... I love the stealth field suit and Gauss rifle   \n",
       "24819                                                       _Robert ha that was ages ago!  youre in LA right? the weather is much better there...   \n",
       "11477                                                                                   My pleasure.  Hear Kelli has new project!   #followfriday   \n",
       "5093                                 Have a great weekend Mononoke  I may be tweeting from inside the movie theater either Monday or Tuesday  lol   \n",
       "8360                                                                                                                    Missed you last night hon   \n",
       "2315                                                                   Okay, the man with the hook for a hand is kinda freaking me out right now.   \n",
       "22786                                                                     why the hell is youtube not working???  NO NO  NO NO   NO  NO NO NNO NO   \n",
       "5558                                Alternate name for a 'Bacon Mary'... A 'Bloody Piggy!' ;) (I have to give my boyfriend credit for that idea!)   \n",
       "10831                                                      Ugh, you people and your fancy trips to Italy while I`m slaving away at this computer.   \n",
       "25606                                         Haha i bet a man did make heels! Im sorry you hurt though.  I hope you feel better!  ~Livelovesing~   \n",
       "15552                    thanks for the follow! Isafailure was supposed 2 b a team thing, but my friend hasn`t emailed me or communicated n 4ever   \n",
       "2037                                                                                                                   cupcakes gave me heartburn   \n",
       "5561             hey, have a great gig! We`ll have to do exchange of tracks via ze emayal  I`m all lost in loops right now and still writing ****   \n",
       "3051                                                      watching chicago.  honeyyyy im with you I miss me some hey arnold! and wild thornberrys   \n",
       "7326                                             I want to get all dressed up and go out to, but I to have no one to go with, I`m with you mentor   \n",
       "19951                                                                                                   Aaaaw no!  Are the windows open and that?   \n",
       "2353                                                                                              Recording an acoustic track! For you sexy kids!   \n",
       "24153                                                                            Hey, im chillin right now, gettin ready for school   Mohawk Kidd   \n",
       "13727    loves the way the sky looks now i.e. no cloud at all.  but that would only mean that it`s ultra hot outside.... http://plurk.com/p/rpb7t   \n",
       "994                        I`ve been unlocked for decades now...just not lucky, never have been.  Gottta make my own luck and that involves $$$$$   \n",
       "13603                                                                         living quite so close to RAF boulmer that might not be a good thing   \n",
       "11972              I need a hug because our pitching has been lackluster, our shortstops can`t field & Big Papi can`t get above the Mendoza line.   \n",
       "15630                                                                                                                      Hulu no work in Canada   \n",
       "4935                                                               Hey Tweeps...good morning. Wussup America...Talk to me tell wut`s on ur mind..   \n",
       "18579                       havin friends over hangin out with christian tonight!!  gonna roast marshmellows and chocolate and cramcrackers.!?!?!   \n",
       "6370                                                                                thanks  this one will be a hit.  has been a patron since 2001   \n",
       "9494                                     LOL! Thanks  glad I have the time off to spend with him! Can`t imagine trying to go into work right now.   \n",
       "25979                                        i decided it was best for me to stay in tonight lady. i shall be in pittsburgh soon!!  (FAREWELL!!!)   \n",
       "9013                                                                              Nailing some webconcepting *in the zone*. I should be awarded..   \n",
       "26595                                                                                                         I wish I was going to Internet Week   \n",
       "24996                                                                 is so hungover. what a crazy night. i`m also in the bad books with mother!!   \n",
       "15022  the commies at their finest: youtube and blogger are blocked in china. no updates from us while we are in china.  but GREAT WALL CONQUERED   \n",
       "9259                OMG...thank you so much for sending that, I hadn`t seen yet. So loving the new Phoenix, too bad they`re not coming to Seattle   \n",
       "20630                                                                         haha Good job getting close. Her eyes are set somewhere else though   \n",
       "7055      the $60,000 i spent going to college was well spent.  I`m going to meet a man tomorrow in the Toys`R`Us parking lot for a cleaning job.   \n",
       "4274                                                            I`m way to hungry to even think. I can`t go to work on an empty stomach like this   \n",
       "19659                    ive tried and tried in the past to learn cockney but sadly its near impossible to find books and things on it over here.   \n",
       "\n",
       "                                                                                                       clean_text  \\\n",
       "7995                                                                  leg soft watching move momm short day workk   \n",
       "5915                                                                                    yeah hate sorry goin thru   \n",
       "15510                                                                                          chose wrong career   \n",
       "9836   man finishing operation anchorage sure give unfair advantage loot wise love stealth field suit gauss rifle   \n",
       "24819                                                              robert age ago youre right weather much better   \n",
       "11477                                                                pleasure hear kelli new project followfriday   \n",
       "5093                      have great weekend mononoke may tweeting inside movie theater either monday tuesday lol   \n",
       "8360                                                                                        missed last night hon   \n",
       "2315                                                                      okay man hook hand kinda freaking right   \n",
       "22786                                                                                    hell youtube working nno   \n",
       "5558                                            alternate name bacon mary bloody piggy give boyfriend credit idea   \n",
       "10831                                                           ugh people fancy trip italy slaving away computer   \n",
       "25606                                      haha bet man make heel sorry hurt though hope feel better livelovesing   \n",
       "15552                           thanks follow isafailure supposed team thing but friend emailed communicated ever   \n",
       "2037                                                                                       cupcake gave heartburn   \n",
       "5561                                        hey great gig exchange track via emayal lost loop right still writing   \n",
       "3051                                                     watching chicago honeyy miss hey arnold wild thornberrys   \n",
       "7326                                                                              want get dressed but one mentor   \n",
       "19951                                                                                        aaaw are window open   \n",
       "2353                                                                        recording acoustic track for sexy kid   \n",
       "24153                                                           hey chillin right gettin ready school mohawk kidd   \n",
       "13727                                                    love way sky look cloud but would mean ultra hot outside   \n",
       "994                                                          unlocked decade lucky never gotta make luck involves   \n",
       "13603                                                             living quite close raf boulmer might good thing   \n",
       "11972                                      need hug pitching lackluster shortstop field big papi get mendoza line   \n",
       "15630                                                                                            hulu work canada   \n",
       "4935                                                    hey tweeps good morning wussup america talk tell wut mind   \n",
       "18579                       havin friend hangin christian tonight gonna roast marshmellows chocolate cramcrackers   \n",
       "6370                                                                                  thanks one hit patron since   \n",
       "9494                                                     lol thanks glad time spend can imagine trying work right   \n",
       "25979                                               decided best stay tonight lady shall pittsburgh soon farewell   \n",
       "9013                                                                           nailing webconcepting zone awarded   \n",
       "26595                                                                                    wish going internet week   \n",
       "24996                                                                   hungover crazy night also bad book mother   \n",
       "15022                           commie finest youtube blogger blocked china update china but great wall conquered   \n",
       "9259                                        omg thank much sending seen yet loving new phoenix bad coming seattle   \n",
       "20630                                               haha good job getting close her eye set somewhere else though   \n",
       "7055                          spent going college well spent going meet man tomorrow toy parking lot cleaning job   \n",
       "4274                                                                way hungry even think work empty stomach like   \n",
       "19659                                ive tried tried past learn cockney but sadly near impossible find book thing   \n",
       "\n",
       "      sentiment Predicted Sentiment  \n",
       "7995   positive             neutral  \n",
       "5915   negative             neutral  \n",
       "15510  negative             neutral  \n",
       "9836   positive             neutral  \n",
       "24819  positive             neutral  \n",
       "11477   neutral            positive  \n",
       "5093   positive             neutral  \n",
       "8360   negative             neutral  \n",
       "2315   negative             neutral  \n",
       "22786  negative             neutral  \n",
       "5558   positive             neutral  \n",
       "10831  negative             neutral  \n",
       "25606   neutral            negative  \n",
       "15552  positive             neutral  \n",
       "2037   negative             neutral  \n",
       "5561   positive             neutral  \n",
       "3051   negative             neutral  \n",
       "7326   negative             neutral  \n",
       "19951  negative             neutral  \n",
       "2353    neutral            positive  \n",
       "24153  positive             neutral  \n",
       "13727  positive             neutral  \n",
       "994    negative            positive  \n",
       "13603  negative             neutral  \n",
       "11972  negative             neutral  \n",
       "15630   neutral            negative  \n",
       "4935   positive             neutral  \n",
       "18579   neutral            positive  \n",
       "6370   positive             neutral  \n",
       "9494    neutral            positive  \n",
       "25979  positive             neutral  \n",
       "9013   positive             neutral  \n",
       "26595  positive             neutral  \n",
       "24996  negative            positive  \n",
       "15022  positive             neutral  \n",
       "9259    neutral            positive  \n",
       "20630  positive             neutral  \n",
       "7055   positive             neutral  \n",
       "4274    neutral            negative  \n",
       "19659  negative             neutral  "
      ]
     },
     "execution_count": 244,
     "metadata": {},
     "output_type": "execute_result"
    }
   ],
   "source": [
    "# Creating dataframe for validation set with results\n",
    "\n",
    "y_val_df = pd.DataFrame(data = y_pred, columns = ['Predicted Sentiment'], index = y_val.index.copy())\n",
    "\n",
    "df_val_out = pd.merge(y_val_df, df_train, how = 'inner', left_index = True, right_index = True)\n",
    "\n",
    "df_val_out = df_val_out[['text','clean_text','sentiment','Predicted Sentiment']]\n",
    "\n",
    "df_val_out\n",
    "\n",
    "# Creating dataframe from validation with wrong prediction\n",
    "\n",
    "df_val_error = df_val_out[df_val_out['sentiment']!= df_val_out['Predicted Sentiment']]\n",
    "\n",
    "df_val_correct = df_val_out[df_val_out['sentiment']== df_val_out['Predicted Sentiment']]\n",
    "\n",
    "print(df_val_correct.shape)\n",
    "print(df_val_error.shape)\n",
    "df_val_error.head(40)"
   ]
  },
  {
   "cell_type": "code",
   "execution_count": 234,
   "metadata": {},
   "outputs": [
    {
     "data": {
      "text/html": [
       "<div>\n",
       "<style scoped>\n",
       "    .dataframe tbody tr th:only-of-type {\n",
       "        vertical-align: middle;\n",
       "    }\n",
       "\n",
       "    .dataframe tbody tr th {\n",
       "        vertical-align: top;\n",
       "    }\n",
       "\n",
       "    .dataframe thead th {\n",
       "        text-align: right;\n",
       "    }\n",
       "</style>\n",
       "<table border=\"1\" class=\"dataframe\">\n",
       "  <thead>\n",
       "    <tr style=\"text-align: right;\">\n",
       "      <th></th>\n",
       "      <th>textID</th>\n",
       "      <th>text</th>\n",
       "      <th>selected_text</th>\n",
       "      <th>sentiment</th>\n",
       "      <th>without_repitition</th>\n",
       "      <th>clean_text</th>\n",
       "    </tr>\n",
       "  </thead>\n",
       "  <tbody>\n",
       "    <tr>\n",
       "      <td>25001</td>\n",
       "      <td>897b6126a0</td>\n",
       "      <td>you really chose the wrong time of year to do this didnt you</td>\n",
       "      <td>chose the wrong time of year</td>\n",
       "      <td>negative</td>\n",
       "      <td>you really chose the wrong time of year to do this didnt you</td>\n",
       "      <td>really chose wrong time year didnt</td>\n",
       "    </tr>\n",
       "  </tbody>\n",
       "</table>\n",
       "</div>"
      ],
      "text/plain": [
       "           textID  \\\n",
       "25001  897b6126a0   \n",
       "\n",
       "                                                                text  \\\n",
       "25001   you really chose the wrong time of year to do this didnt you   \n",
       "\n",
       "                      selected_text sentiment  \\\n",
       "25001  chose the wrong time of year  negative   \n",
       "\n",
       "                                                  without_repitition  \\\n",
       "25001   you really chose the wrong time of year to do this didnt you   \n",
       "\n",
       "                               clean_text  \n",
       "25001  really chose wrong time year didnt  "
      ]
     },
     "execution_count": 234,
     "metadata": {},
     "output_type": "execute_result"
    }
   ],
   "source": [
    "df_train[df_train.index==25001]"
   ]
  },
  {
   "cell_type": "code",
   "execution_count": 235,
   "metadata": {},
   "outputs": [
    {
     "data": {
      "text/plain": [
       "'negative'"
      ]
     },
     "execution_count": 235,
     "metadata": {},
     "output_type": "execute_result"
    }
   ],
   "source": [
    "y_val[25001]"
   ]
  },
  {
   "cell_type": "code",
   "execution_count": 236,
   "metadata": {},
   "outputs": [
    {
     "data": {
      "text/html": [
       "<div>\n",
       "<style scoped>\n",
       "    .dataframe tbody tr th:only-of-type {\n",
       "        vertical-align: middle;\n",
       "    }\n",
       "\n",
       "    .dataframe tbody tr th {\n",
       "        vertical-align: top;\n",
       "    }\n",
       "\n",
       "    .dataframe thead th {\n",
       "        text-align: right;\n",
       "    }\n",
       "</style>\n",
       "<table border=\"1\" class=\"dataframe\">\n",
       "  <thead>\n",
       "    <tr style=\"text-align: right;\">\n",
       "      <th></th>\n",
       "      <th>Predicted Sentiment</th>\n",
       "    </tr>\n",
       "  </thead>\n",
       "  <tbody>\n",
       "    <tr>\n",
       "      <td>25001</td>\n",
       "      <td>negative</td>\n",
       "    </tr>\n",
       "  </tbody>\n",
       "</table>\n",
       "</div>"
      ],
      "text/plain": [
       "      Predicted Sentiment\n",
       "25001            negative"
      ]
     },
     "execution_count": 236,
     "metadata": {},
     "output_type": "execute_result"
    }
   ],
   "source": [
    "y_val_df[y_val_df.index ==25001]"
   ]
  },
  {
   "cell_type": "code",
   "execution_count": 242,
   "metadata": {},
   "outputs": [
    {
     "data": {
      "text/plain": [
       "negative    6\n",
       "neutral     3\n",
       "positive    2\n",
       "Name: sentiment, dtype: int64"
      ]
     },
     "execution_count": 242,
     "metadata": {},
     "output_type": "execute_result"
    }
   ],
   "source": [
    "check = df_train[df_train[\"clean_text\"].str.contains(\"danger\")]\n",
    "check['sentiment'].value_counts()"
   ]
  },
  {
   "cell_type": "code",
   "execution_count": 243,
   "metadata": {},
   "outputs": [
    {
     "data": {
      "text/html": [
       "<div>\n",
       "<style scoped>\n",
       "    .dataframe tbody tr th:only-of-type {\n",
       "        vertical-align: middle;\n",
       "    }\n",
       "\n",
       "    .dataframe tbody tr th {\n",
       "        vertical-align: top;\n",
       "    }\n",
       "\n",
       "    .dataframe thead th {\n",
       "        text-align: right;\n",
       "    }\n",
       "</style>\n",
       "<table border=\"1\" class=\"dataframe\">\n",
       "  <thead>\n",
       "    <tr style=\"text-align: right;\">\n",
       "      <th></th>\n",
       "      <th>textID</th>\n",
       "      <th>text</th>\n",
       "      <th>selected_text</th>\n",
       "      <th>sentiment</th>\n",
       "      <th>without_repitition</th>\n",
       "      <th>clean_text</th>\n",
       "    </tr>\n",
       "  </thead>\n",
       "  <tbody>\n",
       "    <tr>\n",
       "      <td>12</td>\n",
       "      <td>74a76f6e0a</td>\n",
       "      <td>My Sharpie is running DANGERously low on ink</td>\n",
       "      <td>DANGERously</td>\n",
       "      <td>negative</td>\n",
       "      <td>My Sharpie is running DANGERously low on ink</td>\n",
       "      <td>sharpie running dangerously low ink</td>\n",
       "    </tr>\n",
       "    <tr>\n",
       "      <td>1500</td>\n",
       "      <td>48377c4bef</td>\n",
       "      <td>praying to be humble is always dangerous, He will answer you  (God gives grace ...)</td>\n",
       "      <td>praying to be humble is always dangerous, He will answer you  (God gives grace ...)</td>\n",
       "      <td>neutral</td>\n",
       "      <td>praying to be humble is always dangerous, He will answer you  (God gives grace ...)</td>\n",
       "      <td>praying humble always dangerous answer god give grace</td>\n",
       "    </tr>\n",
       "    <tr>\n",
       "      <td>1851</td>\n",
       "      <td>40d8340387</td>\n",
       "      <td>I gotta say, I feel bad for everyone in NKorea.  They`re starving, and they have a crazy in charge who endangers them daily.</td>\n",
       "      <td>, I feel bad for everyone in NKorea.</td>\n",
       "      <td>negative</td>\n",
       "      <td>I gotta say, I feel bad for everyone in NKorea.  They`re starving, and they have a crazy in charge who endangers them daily.</td>\n",
       "      <td>gotta say feel bad everyone nkorea they starving crazy charge endangers daily</td>\n",
       "    </tr>\n",
       "    <tr>\n",
       "      <td>8474</td>\n",
       "      <td>187d8df080</td>\n",
       "      <td>_nk Wouldn`t call that cool or dangerous. Reckon it fits into the stupid category</td>\n",
       "      <td>Wouldn`t call that cool or dangerous. Reckon it fits into the stupid category</td>\n",
       "      <td>negative</td>\n",
       "      <td>_nk Wouldn`t call that cool or dangerous. Reckon it fits into the stupid category</td>\n",
       "      <td>nk wouldn call cool dangerous reckon fit stupid category</td>\n",
       "    </tr>\n",
       "    <tr>\n",
       "      <td>9543</td>\n",
       "      <td>ee61128d20</td>\n",
       "      <td>hey Mr Danger!!!</td>\n",
       "      <td>hey Mr Danger!!!</td>\n",
       "      <td>neutral</td>\n",
       "      <td>hey Mr Danger!!!</td>\n",
       "      <td>hey danger</td>\n",
       "    </tr>\n",
       "    <tr>\n",
       "      <td>13268</td>\n",
       "      <td>908c222257</td>\n",
       "      <td>Grrr, people suck. I cry when animals die on nature shows.  These people are sick. No hunting endangered species!</td>\n",
       "      <td>suck.</td>\n",
       "      <td>negative</td>\n",
       "      <td>Grr, people suck. I cry when animals die on nature shows.  These people are sick. No hunting endangered species!</td>\n",
       "      <td>grr people suck cry animal die nature show these people sick hunting endangered specie</td>\n",
       "    </tr>\n",
       "    <tr>\n",
       "      <td>15847</td>\n",
       "      <td>321abddef7</td>\n",
       "      <td>Warning tweeting while ridding a Bike is dangero, waaaaaaa!!! *crash*</td>\n",
       "      <td>Warning tweeting while ridding a Bike is dangero, waaaaaaa!!! *crash*</td>\n",
       "      <td>negative</td>\n",
       "      <td>Warning tweeting while ridding a Bike is dangero, waa!!! *crash*</td>\n",
       "      <td>warning tweeting ridding bike dangero waa crash</td>\n",
       "    </tr>\n",
       "    <tr>\n",
       "      <td>17258</td>\n",
       "      <td>5cdfcb4a91</td>\n",
       "      <td>http://twitpic.com/5rylt - ur so lucky! there, the stage its so close of theem! here not  i think we`re dangerous (?</td>\n",
       "      <td>http://twitpic.com/5rylt - ur so lucky! there, the stage its so close of theem! here not  i think we`re dangerous (?</td>\n",
       "      <td>neutral</td>\n",
       "      <td>- ur so lucky! there, the stage its so close of theem! here not  i think we`re dangerous (?</td>\n",
       "      <td>lucky stage close theem think dangerous</td>\n",
       "    </tr>\n",
       "    <tr>\n",
       "      <td>20949</td>\n",
       "      <td>037b1abfd0</td>\n",
       "      <td>just wanted to say that I &lt;3 ur music(both the scene aesthetic n Danger Radio) Hopefully i will get to see u guys 1 day</td>\n",
       "      <td>t I &lt;3 ur music</td>\n",
       "      <td>positive</td>\n",
       "      <td>just wanted to say that I &lt;3 ur music(both the scene aesthetic n Danger Radio) Hopefully i will get to see u guys 1 day</td>\n",
       "      <td>wanted say music scene aesthetic danger radio hopefully get see guy day</td>\n",
       "    </tr>\n",
       "    <tr>\n",
       "      <td>21298</td>\n",
       "      <td>3bcc340f8a</td>\n",
       "      <td>ooo thanks for the danger radio link  loves it...how did the test go?</td>\n",
       "      <td>ooo thanks for the danger radio link  loves it..</td>\n",
       "      <td>positive</td>\n",
       "      <td>oo thanks for the danger radio link  loves it...how did the test go?</td>\n",
       "      <td>thanks danger radio link love test</td>\n",
       "    </tr>\n",
       "    <tr>\n",
       "      <td>21993</td>\n",
       "      <td>831327dbe1</td>\n",
       "      <td>I like the idea of eliminating bludgers and beaters just tackling ppl, makes it nearly as dangerous as book quidditch</td>\n",
       "      <td>dangerous</td>\n",
       "      <td>negative</td>\n",
       "      <td>I like the idea of eliminating bludgers and beaters just tackling ppl, makes it nearly as dangerous as book quidditch</td>\n",
       "      <td>like idea eliminating bludgers beater tackling ppl make nearly dangerous book quidditch</td>\n",
       "    </tr>\n",
       "  </tbody>\n",
       "</table>\n",
       "</div>"
      ],
      "text/plain": [
       "           textID  \\\n",
       "12     74a76f6e0a   \n",
       "1500   48377c4bef   \n",
       "1851   40d8340387   \n",
       "8474   187d8df080   \n",
       "9543   ee61128d20   \n",
       "13268  908c222257   \n",
       "15847  321abddef7   \n",
       "17258  5cdfcb4a91   \n",
       "20949  037b1abfd0   \n",
       "21298  3bcc340f8a   \n",
       "21993  831327dbe1   \n",
       "\n",
       "                                                                                                                                text  \\\n",
       "12                                                                                      My Sharpie is running DANGERously low on ink   \n",
       "1500                                             praying to be humble is always dangerous, He will answer you  (God gives grace ...)   \n",
       "1851    I gotta say, I feel bad for everyone in NKorea.  They`re starving, and they have a crazy in charge who endangers them daily.   \n",
       "8474                                               _nk Wouldn`t call that cool or dangerous. Reckon it fits into the stupid category   \n",
       "9543                                                                                                                hey Mr Danger!!!   \n",
       "13268              Grrr, people suck. I cry when animals die on nature shows.  These people are sick. No hunting endangered species!   \n",
       "15847                                                          Warning tweeting while ridding a Bike is dangero, waaaaaaa!!! *crash*   \n",
       "17258           http://twitpic.com/5rylt - ur so lucky! there, the stage its so close of theem! here not  i think we`re dangerous (?   \n",
       "20949        just wanted to say that I <3 ur music(both the scene aesthetic n Danger Radio) Hopefully i will get to see u guys 1 day   \n",
       "21298                                                          ooo thanks for the danger radio link  loves it...how did the test go?   \n",
       "21993          I like the idea of eliminating bludgers and beaters just tackling ppl, makes it nearly as dangerous as book quidditch   \n",
       "\n",
       "                                                                                                              selected_text  \\\n",
       "12                                                                                                              DANGERously   \n",
       "1500                                    praying to be humble is always dangerous, He will answer you  (God gives grace ...)   \n",
       "1851                                                                                   , I feel bad for everyone in NKorea.   \n",
       "8474                                          Wouldn`t call that cool or dangerous. Reckon it fits into the stupid category   \n",
       "9543                                                                                                       hey Mr Danger!!!   \n",
       "13268                                                                                                                 suck.   \n",
       "15847                                                 Warning tweeting while ridding a Bike is dangero, waaaaaaa!!! *crash*   \n",
       "17258  http://twitpic.com/5rylt - ur so lucky! there, the stage its so close of theem! here not  i think we`re dangerous (?   \n",
       "20949                                                                                                       t I <3 ur music   \n",
       "21298                                                                      ooo thanks for the danger radio link  loves it..   \n",
       "21993                                                                                                             dangerous   \n",
       "\n",
       "      sentiment  \\\n",
       "12     negative   \n",
       "1500    neutral   \n",
       "1851   negative   \n",
       "8474   negative   \n",
       "9543    neutral   \n",
       "13268  negative   \n",
       "15847  negative   \n",
       "17258   neutral   \n",
       "20949  positive   \n",
       "21298  positive   \n",
       "21993  negative   \n",
       "\n",
       "                                                                                                                  without_repitition  \\\n",
       "12                                                                                      My Sharpie is running DANGERously low on ink   \n",
       "1500                                             praying to be humble is always dangerous, He will answer you  (God gives grace ...)   \n",
       "1851    I gotta say, I feel bad for everyone in NKorea.  They`re starving, and they have a crazy in charge who endangers them daily.   \n",
       "8474                                               _nk Wouldn`t call that cool or dangerous. Reckon it fits into the stupid category   \n",
       "9543                                                                                                                hey Mr Danger!!!   \n",
       "13268               Grr, people suck. I cry when animals die on nature shows.  These people are sick. No hunting endangered species!   \n",
       "15847                                                               Warning tweeting while ridding a Bike is dangero, waa!!! *crash*   \n",
       "17258                                    - ur so lucky! there, the stage its so close of theem! here not  i think we`re dangerous (?   \n",
       "20949        just wanted to say that I <3 ur music(both the scene aesthetic n Danger Radio) Hopefully i will get to see u guys 1 day   \n",
       "21298                                                           oo thanks for the danger radio link  loves it...how did the test go?   \n",
       "21993          I like the idea of eliminating bludgers and beaters just tackling ppl, makes it nearly as dangerous as book quidditch   \n",
       "\n",
       "                                                                                    clean_text  \n",
       "12                                                         sharpie running dangerously low ink  \n",
       "1500                                     praying humble always dangerous answer god give grace  \n",
       "1851             gotta say feel bad everyone nkorea they starving crazy charge endangers daily  \n",
       "8474                                  nk wouldn call cool dangerous reckon fit stupid category  \n",
       "9543                                                                                hey danger  \n",
       "13268   grr people suck cry animal die nature show these people sick hunting endangered specie  \n",
       "15847                                          warning tweeting ridding bike dangero waa crash  \n",
       "17258                                                  lucky stage close theem think dangerous  \n",
       "20949                  wanted say music scene aesthetic danger radio hopefully get see guy day  \n",
       "21298                                                       thanks danger radio link love test  \n",
       "21993  like idea eliminating bludgers beater tackling ppl make nearly dangerous book quidditch  "
      ]
     },
     "execution_count": 243,
     "metadata": {},
     "output_type": "execute_result"
    }
   ],
   "source": [
    "check"
   ]
  },
  {
   "cell_type": "markdown",
   "metadata": {},
   "source": [
    "#### Let us try to train the model on TF-IDF vectorizer and see if there is any improvement in the accuracy"
   ]
  },
  {
   "cell_type": "code",
   "execution_count": 239,
   "metadata": {},
   "outputs": [
    {
     "data": {
      "text/plain": [
       "0.6265060240963856"
      ]
     },
     "execution_count": 239,
     "metadata": {},
     "output_type": "execute_result"
    }
   ],
   "source": [
    "from sklearn.feature_extraction.text import TfidfVectorizer\n",
    "\n",
    "vectorizer = TfidfVectorizer( ngram_range=(1, 1))\n",
    "\n",
    "X = vectorizer.fit_transform(corpus)\n",
    "    \n",
    "matrix_df = pd.DataFrame(data=X.toarray(), columns=vectorizer.get_feature_names())\n",
    "\n",
    "y = df_train['sentiment']\n",
    "\n",
    "X_train, X_val, y_train, y_val = train_test_split(X, y, train_size=0.7, test_size=0.3, random_state=100)\n",
    "\n",
    "clf = MultinomialNB()\n",
    "\n",
    "clf.fit(X_train, y_train)\n",
    "\n",
    "y_pred = clf.predict(X_val)\n",
    "\n",
    "score = accuracy_score(y_val, y_pred)\n",
    "\n",
    "score"
   ]
  },
  {
   "cell_type": "markdown",
   "metadata": {},
   "source": [
    "### Method 2: Extracting features and then passing them through Naives Bayes"
   ]
  },
  {
   "cell_type": "code",
   "execution_count": 36,
   "metadata": {},
   "outputs": [
    {
     "data": {
      "text/html": [
       "<div>\n",
       "<style scoped>\n",
       "    .dataframe tbody tr th:only-of-type {\n",
       "        vertical-align: middle;\n",
       "    }\n",
       "\n",
       "    .dataframe tbody tr th {\n",
       "        vertical-align: top;\n",
       "    }\n",
       "\n",
       "    .dataframe thead th {\n",
       "        text-align: right;\n",
       "    }\n",
       "</style>\n",
       "<table border=\"1\" class=\"dataframe\">\n",
       "  <thead>\n",
       "    <tr style=\"text-align: right;\">\n",
       "      <th></th>\n",
       "      <th>textID</th>\n",
       "      <th>text</th>\n",
       "      <th>selected_text</th>\n",
       "      <th>sentiment</th>\n",
       "      <th>without_repitition</th>\n",
       "      <th>clean_text</th>\n",
       "    </tr>\n",
       "  </thead>\n",
       "  <tbody>\n",
       "    <tr>\n",
       "      <td>0</td>\n",
       "      <td>cb774db0d1</td>\n",
       "      <td>I`d have responded, if I were going</td>\n",
       "      <td>I`d have responded, if I were going</td>\n",
       "      <td>neutral</td>\n",
       "      <td>I`d have responded, if I were going</td>\n",
       "      <td>responded going</td>\n",
       "    </tr>\n",
       "    <tr>\n",
       "      <td>1</td>\n",
       "      <td>549e992a42</td>\n",
       "      <td>Sooo SAD I will miss you here in San Diego!!!</td>\n",
       "      <td>Sooo SAD</td>\n",
       "      <td>negative</td>\n",
       "      <td>Soo SAD I will miss you here in San Diego!!!</td>\n",
       "      <td>soo sad miss san diego</td>\n",
       "    </tr>\n",
       "    <tr>\n",
       "      <td>2</td>\n",
       "      <td>088c60f138</td>\n",
       "      <td>my boss is bullying me...</td>\n",
       "      <td>bullying me</td>\n",
       "      <td>negative</td>\n",
       "      <td>my boss is bullying me...</td>\n",
       "      <td>bos bullying</td>\n",
       "    </tr>\n",
       "    <tr>\n",
       "      <td>3</td>\n",
       "      <td>9642c003ef</td>\n",
       "      <td>what interview! leave me alone</td>\n",
       "      <td>leave me alone</td>\n",
       "      <td>negative</td>\n",
       "      <td>what interview! leave me alone</td>\n",
       "      <td>interview leave alone</td>\n",
       "    </tr>\n",
       "    <tr>\n",
       "      <td>4</td>\n",
       "      <td>358bd9e861</td>\n",
       "      <td>Sons of ****, why couldn`t they put them on the releases we already bought</td>\n",
       "      <td>Sons of ****,</td>\n",
       "      <td>negative</td>\n",
       "      <td>Sons of ****, why couldn`t they put them on the releases we already bought</td>\n",
       "      <td>son put release already bought</td>\n",
       "    </tr>\n",
       "  </tbody>\n",
       "</table>\n",
       "</div>"
      ],
      "text/plain": [
       "       textID  \\\n",
       "0  cb774db0d1   \n",
       "1  549e992a42   \n",
       "2  088c60f138   \n",
       "3  9642c003ef   \n",
       "4  358bd9e861   \n",
       "\n",
       "                                                                          text  \\\n",
       "0                                          I`d have responded, if I were going   \n",
       "1                                Sooo SAD I will miss you here in San Diego!!!   \n",
       "2                                                    my boss is bullying me...   \n",
       "3                                               what interview! leave me alone   \n",
       "4   Sons of ****, why couldn`t they put them on the releases we already bought   \n",
       "\n",
       "                         selected_text sentiment  \\\n",
       "0  I`d have responded, if I were going   neutral   \n",
       "1                             Sooo SAD  negative   \n",
       "2                          bullying me  negative   \n",
       "3                       leave me alone  negative   \n",
       "4                        Sons of ****,  negative   \n",
       "\n",
       "                                                            without_repitition  \\\n",
       "0                                          I`d have responded, if I were going   \n",
       "1                                 Soo SAD I will miss you here in San Diego!!!   \n",
       "2                                                    my boss is bullying me...   \n",
       "3                                               what interview! leave me alone   \n",
       "4   Sons of ****, why couldn`t they put them on the releases we already bought   \n",
       "\n",
       "                       clean_text  \n",
       "0                 responded going  \n",
       "1          soo sad miss san diego  \n",
       "2                    bos bullying  \n",
       "3           interview leave alone  \n",
       "4  son put release already bought  "
      ]
     },
     "execution_count": 36,
     "metadata": {},
     "output_type": "execute_result"
    }
   ],
   "source": [
    "df_train.head()"
   ]
  },
  {
   "cell_type": "code",
   "execution_count": 44,
   "metadata": {},
   "outputs": [],
   "source": [
    "tweet_corpus_sentiment = []\n",
    "for index,row in df_train.iterrows():\n",
    "    tweet_corpus_sentiment.append((row['clean_text'],row['sentiment']))"
   ]
  },
  {
   "cell_type": "code",
   "execution_count": 68,
   "metadata": {},
   "outputs": [],
   "source": [
    "# def tokenizing_into_words(tweet):\n",
    "#     tknzr = TweetTokenizer()\n",
    "#     words = tknzr.tokenize(tweet)\n",
    "#     return words\n",
    "\n",
    "# list_tweet = []\n",
    "# for item in range(len(tweet_corpus_sentiment)):\n",
    "#     list_tweet.append((tokenizing_into_words(tweet_corpus_sentiment[item][0]), tweet_corpus_sentiment[item][1]))"
   ]
  },
  {
   "cell_type": "code",
   "execution_count": 72,
   "metadata": {},
   "outputs": [],
   "source": [
    "# def all_words_in_tweet(tweet_corpus):\n",
    "#     all_words = []\n",
    "#     for words, sentiment in tweet_corpus:\n",
    "#         all_words.extend(words)\n",
    "#     return all_words\n",
    "\n",
    "# def all_unique_words(word_list):\n",
    "#     wordlist = nltk.FreqDist(word_list)\n",
    "#     word_features = wordlist.keys()\n",
    "#     return word_features\n",
    "\n",
    "# word_features = all_unique_words(all_words_in_tweet(list_tweet))"
   ]
  },
  {
   "cell_type": "markdown",
   "metadata": {},
   "source": [
    "#### Creating training and test dataset"
   ]
  },
  {
   "cell_type": "code",
   "execution_count": 85,
   "metadata": {},
   "outputs": [
    {
     "name": "stdout",
     "output_type": "stream",
     "text": [
      "19170\n",
      "8217\n"
     ]
    }
   ],
   "source": [
    "# ## - creating slicing index at 70% threshold\n",
    "# sliceIndex = int((len(list_tweet)*.7))\n",
    "# random.shuffle(list_tweet)\n",
    "\n",
    "\n",
    "# train_tweet_set, test_tweet_set = list_tweet[:sliceIndex], list_tweet[sliceIndex:]\n",
    "# print(len(train_tweet_set))\n",
    "# print(len(test_tweet_set))\n"
   ]
  },
  {
   "cell_type": "code",
   "execution_count": 95,
   "metadata": {},
   "outputs": [],
   "source": [
    "# def feature_map(tweets):\n",
    "#     tweet_words = set(tweets)\n",
    "#     features = {}\n",
    "#     for word in word_features:\n",
    "#         features['contains(%s)' % word] = (word in tweet_words)\n",
    "#     return features"
   ]
  },
  {
   "cell_type": "code",
   "execution_count": 98,
   "metadata": {},
   "outputs": [
    {
     "name": "stdout",
     "output_type": "stream",
     "text": [
      "Training set size :  19170\n",
      "Test set size :  8217\n"
     ]
    }
   ],
   "source": [
    "# ## - creating the feature map of train and test data\n",
    "\n",
    "# training_set = nltk.classify.apply_features(feature_map, train_tweet_set)\n",
    "# testing_set = nltk.classify.apply_features(feature_map, test_tweet_set)\n",
    "\n",
    "# print('Training set size : ', len(training_set))\n",
    "# print('Test set size : ', len(testing_set))"
   ]
  },
  {
   "cell_type": "markdown",
   "metadata": {},
   "source": [
    "### Training"
   ]
  },
  {
   "cell_type": "code",
   "execution_count": 99,
   "metadata": {},
   "outputs": [],
   "source": [
    "# ## Training the classifier with NaiveBayes algorithm\n",
    "# spamClassifier = nltk.NaiveBayesClassifier.train(training_set)"
   ]
  },
  {
   "cell_type": "code",
   "execution_count": 100,
   "metadata": {},
   "outputs": [
    {
     "name": "stdout",
     "output_type": "stream",
     "text": [
      "0.6453693562127297\n"
     ]
    }
   ],
   "source": [
    "# print(nltk.classify.accuracy(spamClassifier, testing_set))"
   ]
  },
  {
   "cell_type": "code",
   "execution_count": 101,
   "metadata": {},
   "outputs": [
    {
     "name": "stdout",
     "output_type": "stream",
     "text": [
      "Most Informative Features\n",
      "           contains(sad) = True           negati : positi =     90.4 : 1.0\n",
      "          contains(suck) = True           negati : positi =     73.3 : 1.0\n",
      "          contains(hate) = True           negati : positi =     56.2 : 1.0\n",
      "         contains(bored) = True           negati : positi =     42.8 : 1.0\n",
      "         contains(thank) = True           positi : negati =     41.4 : 1.0\n"
     ]
    }
   ],
   "source": [
    "# spamClassifier.show_most_informative_features(5)"
   ]
  },
  {
   "cell_type": "code",
   "execution_count": null,
   "metadata": {},
   "outputs": [],
   "source": []
  }
 ],
 "metadata": {
  "kernelspec": {
   "display_name": "Python 3",
   "language": "python",
   "name": "python3"
  },
  "language_info": {
   "codemirror_mode": {
    "name": "ipython",
    "version": 3
   },
   "file_extension": ".py",
   "mimetype": "text/x-python",
   "name": "python",
   "nbconvert_exporter": "python",
   "pygments_lexer": "ipython3",
   "version": "3.7.4"
  }
 },
 "nbformat": 4,
 "nbformat_minor": 2
}
