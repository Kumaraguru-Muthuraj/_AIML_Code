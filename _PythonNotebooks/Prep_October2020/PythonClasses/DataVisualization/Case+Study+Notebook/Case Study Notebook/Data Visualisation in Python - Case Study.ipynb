{
 "cells": [
  {
   "cell_type": "markdown",
   "metadata": {},
   "source": [
    "# Google Playstore Case Study"
   ]
  },
  {
   "cell_type": "markdown",
   "metadata": {},
   "source": [
    "In this module you’ll be learning data visualisation with the help of a case study. This will enable you to understand how visualisation aids you in solving business problems. "
   ]
  },
  {
   "cell_type": "markdown",
   "metadata": {},
   "source": [
    "**Problem Statement**\n",
    "\n",
    "The team at Google Play Store wants to develop a feature that would enable them to boost visibility for the most promising apps. Now, this analysis would require a preliminary understanding of the features that define a well-performing app. You can ask questions like:\n",
    "- Does a higher size or price necessarily mean that an app would perform better than the other apps? \n",
    "- Or does a higher number of installs give a clear picture of which app would have a better rating than others?\n"
   ]
  },
  {
   "cell_type": "markdown",
   "metadata": {},
   "source": [
    "\n",
    "\n",
    "### Session 1 - Introduction to Data Visualisation"
   ]
  },
  {
   "cell_type": "code",
   "execution_count": 2,
   "metadata": {},
   "outputs": [],
   "source": [
    "#import the libraries\n",
    "import pandas as pd, numpy as np\n"
   ]
  },
  {
   "cell_type": "code",
   "execution_count": 3,
   "metadata": {},
   "outputs": [
    {
     "data": {
      "text/html": [
       "<div>\n",
       "<style scoped>\n",
       "    .dataframe tbody tr th:only-of-type {\n",
       "        vertical-align: middle;\n",
       "    }\n",
       "\n",
       "    .dataframe tbody tr th {\n",
       "        vertical-align: top;\n",
       "    }\n",
       "\n",
       "    .dataframe thead th {\n",
       "        text-align: right;\n",
       "    }\n",
       "</style>\n",
       "<table border=\"1\" class=\"dataframe\">\n",
       "  <thead>\n",
       "    <tr style=\"text-align: right;\">\n",
       "      <th></th>\n",
       "      <th>App</th>\n",
       "      <th>Category</th>\n",
       "      <th>Rating</th>\n",
       "      <th>Reviews</th>\n",
       "      <th>Size</th>\n",
       "      <th>Installs</th>\n",
       "      <th>Type</th>\n",
       "      <th>Price</th>\n",
       "      <th>Content Rating</th>\n",
       "      <th>Genres</th>\n",
       "      <th>Last Updated</th>\n",
       "      <th>Current Ver</th>\n",
       "      <th>Android Ver</th>\n",
       "    </tr>\n",
       "  </thead>\n",
       "  <tbody>\n",
       "    <tr>\n",
       "      <th>0</th>\n",
       "      <td>Photo Editor &amp; Candy Camera &amp; Grid &amp; ScrapBook</td>\n",
       "      <td>ART_AND_DESIGN</td>\n",
       "      <td>4.1</td>\n",
       "      <td>159</td>\n",
       "      <td>19000.0</td>\n",
       "      <td>10,000+</td>\n",
       "      <td>Free</td>\n",
       "      <td>0</td>\n",
       "      <td>Everyone</td>\n",
       "      <td>Art &amp; Design</td>\n",
       "      <td>January 7, 2018</td>\n",
       "      <td>1.0.0</td>\n",
       "      <td>4.0.3 and up</td>\n",
       "    </tr>\n",
       "    <tr>\n",
       "      <th>1</th>\n",
       "      <td>Coloring book moana</td>\n",
       "      <td>ART_AND_DESIGN</td>\n",
       "      <td>3.9</td>\n",
       "      <td>967</td>\n",
       "      <td>14000.0</td>\n",
       "      <td>500,000+</td>\n",
       "      <td>Free</td>\n",
       "      <td>0</td>\n",
       "      <td>Everyone</td>\n",
       "      <td>Art &amp; Design;Pretend Play</td>\n",
       "      <td>January 15, 2018</td>\n",
       "      <td>2.0.0</td>\n",
       "      <td>4.0.3 and up</td>\n",
       "    </tr>\n",
       "    <tr>\n",
       "      <th>2</th>\n",
       "      <td>U Launcher Lite – FREE Live Cool Themes, Hide ...</td>\n",
       "      <td>ART_AND_DESIGN</td>\n",
       "      <td>4.7</td>\n",
       "      <td>87510</td>\n",
       "      <td>8700.0</td>\n",
       "      <td>5,000,000+</td>\n",
       "      <td>Free</td>\n",
       "      <td>0</td>\n",
       "      <td>Everyone</td>\n",
       "      <td>Art &amp; Design</td>\n",
       "      <td>August 1, 2018</td>\n",
       "      <td>1.2.4</td>\n",
       "      <td>4.0.3 and up</td>\n",
       "    </tr>\n",
       "    <tr>\n",
       "      <th>3</th>\n",
       "      <td>Sketch - Draw &amp; Paint</td>\n",
       "      <td>ART_AND_DESIGN</td>\n",
       "      <td>4.5</td>\n",
       "      <td>215644</td>\n",
       "      <td>25000.0</td>\n",
       "      <td>50,000,000+</td>\n",
       "      <td>Free</td>\n",
       "      <td>0</td>\n",
       "      <td>Teen</td>\n",
       "      <td>Art &amp; Design</td>\n",
       "      <td>June 8, 2018</td>\n",
       "      <td>Varies with device</td>\n",
       "      <td>4.2 and up</td>\n",
       "    </tr>\n",
       "    <tr>\n",
       "      <th>4</th>\n",
       "      <td>Pixel Draw - Number Art Coloring Book</td>\n",
       "      <td>ART_AND_DESIGN</td>\n",
       "      <td>4.3</td>\n",
       "      <td>967</td>\n",
       "      <td>2800.0</td>\n",
       "      <td>100,000+</td>\n",
       "      <td>Free</td>\n",
       "      <td>0</td>\n",
       "      <td>Everyone</td>\n",
       "      <td>Art &amp; Design;Creativity</td>\n",
       "      <td>June 20, 2018</td>\n",
       "      <td>1.1</td>\n",
       "      <td>4.4 and up</td>\n",
       "    </tr>\n",
       "  </tbody>\n",
       "</table>\n",
       "</div>"
      ],
      "text/plain": [
       "                                                 App        Category  Rating  \\\n",
       "0     Photo Editor & Candy Camera & Grid & ScrapBook  ART_AND_DESIGN     4.1   \n",
       "1                                Coloring book moana  ART_AND_DESIGN     3.9   \n",
       "2  U Launcher Lite – FREE Live Cool Themes, Hide ...  ART_AND_DESIGN     4.7   \n",
       "3                              Sketch - Draw & Paint  ART_AND_DESIGN     4.5   \n",
       "4              Pixel Draw - Number Art Coloring Book  ART_AND_DESIGN     4.3   \n",
       "\n",
       "  Reviews     Size     Installs  Type Price Content Rating  \\\n",
       "0     159  19000.0      10,000+  Free     0       Everyone   \n",
       "1     967  14000.0     500,000+  Free     0       Everyone   \n",
       "2   87510   8700.0   5,000,000+  Free     0       Everyone   \n",
       "3  215644  25000.0  50,000,000+  Free     0           Teen   \n",
       "4     967   2800.0     100,000+  Free     0       Everyone   \n",
       "\n",
       "                      Genres      Last Updated         Current Ver  \\\n",
       "0               Art & Design   January 7, 2018               1.0.0   \n",
       "1  Art & Design;Pretend Play  January 15, 2018               2.0.0   \n",
       "2               Art & Design    August 1, 2018               1.2.4   \n",
       "3               Art & Design      June 8, 2018  Varies with device   \n",
       "4    Art & Design;Creativity     June 20, 2018                 1.1   \n",
       "\n",
       "    Android Ver  \n",
       "0  4.0.3 and up  \n",
       "1  4.0.3 and up  \n",
       "2  4.0.3 and up  \n",
       "3    4.2 and up  \n",
       "4    4.4 and up  "
      ]
     },
     "execution_count": 3,
     "metadata": {},
     "output_type": "execute_result"
    }
   ],
   "source": [
    "#read the dataset and check the first five rows\n",
    "inp0 = pd.read_csv(\"googleplaystore_v2.csv\")\n",
    "inp0.head()"
   ]
  },
  {
   "cell_type": "code",
   "execution_count": 4,
   "metadata": {},
   "outputs": [
    {
     "name": "stdout",
     "output_type": "stream",
     "text": [
      "(10841, 13)\n",
      "<class 'pandas.core.frame.DataFrame'>\n",
      "RangeIndex: 10841 entries, 0 to 10840\n",
      "Data columns (total 13 columns):\n",
      " #   Column          Non-Null Count  Dtype  \n",
      "---  ------          --------------  -----  \n",
      " 0   App             10841 non-null  object \n",
      " 1   Category        10841 non-null  object \n",
      " 2   Rating          9367 non-null   float64\n",
      " 3   Reviews         10841 non-null  object \n",
      " 4   Size            10841 non-null  float64\n",
      " 5   Installs        10841 non-null  object \n",
      " 6   Type            10840 non-null  object \n",
      " 7   Price           10841 non-null  object \n",
      " 8   Content Rating  10840 non-null  object \n",
      " 9   Genres          10841 non-null  object \n",
      " 10  Last Updated    10841 non-null  object \n",
      " 11  Current Ver     10833 non-null  object \n",
      " 12  Android Ver     10838 non-null  object \n",
      "dtypes: float64(2), object(11)\n",
      "memory usage: 1.1+ MB\n"
     ]
    }
   ],
   "source": [
    "#Check the shape of the dataframe\n",
    "print(inp0.shape)\n",
    "inp0.info()"
   ]
  },
  {
   "cell_type": "markdown",
   "metadata": {},
   "source": [
    "### Data Handling and Cleaning"
   ]
  },
  {
   "cell_type": "markdown",
   "metadata": {},
   "source": [
    "The first few steps involve making sure that there are no __missing values__ or __incorrect data types__ before we proceed to the analysis stage. These aforementioned problems are handled as follows:\n",
    "\n",
    " - For Missing Values: Some common techniques to treat this issue are\n",
    "    - Dropping the rows containing the missing values\n",
    "    - Imputing the missing values\n",
    "    - Keep the missing values if they don't affect the analysis\n",
    " \n",
    "    \n",
    " - Incorrect Data Types:\n",
    "    - Clean certain values \n",
    "    - Clean and convert an entire column\n",
    " "
   ]
  },
  {
   "cell_type": "code",
   "execution_count": 5,
   "metadata": {},
   "outputs": [
    {
     "data": {
      "text/plain": [
       "App                  0\n",
       "Category             0\n",
       "Rating            1474\n",
       "Reviews              0\n",
       "Size                 0\n",
       "Installs             0\n",
       "Type                 1\n",
       "Price                0\n",
       "Content Rating       1\n",
       "Genres               0\n",
       "Last Updated         0\n",
       "Current Ver          8\n",
       "Android Ver          3\n",
       "dtype: int64"
      ]
     },
     "execution_count": 5,
     "metadata": {},
     "output_type": "execute_result"
    }
   ],
   "source": [
    "#Check the datatypes of all the columns of the dataframe\n",
    "inp0.isnull().sum()"
   ]
  },
  {
   "cell_type": "markdown",
   "metadata": {},
   "source": [
    "#### Missing Value Treatment"
   ]
  },
  {
   "cell_type": "code",
   "execution_count": 6,
   "metadata": {},
   "outputs": [],
   "source": [
    "#Check the number of null values in the columns\n"
   ]
  },
  {
   "cell_type": "markdown",
   "metadata": {},
   "source": [
    "Handling missing values for rating\n",
    " - Ratings is the target variable\n",
    " - drop the records"
   ]
  },
  {
   "cell_type": "code",
   "execution_count": 7,
   "metadata": {},
   "outputs": [
    {
     "name": "stdout",
     "output_type": "stream",
     "text": [
      "(9367, 13)\n"
     ]
    }
   ],
   "source": [
    "#Drop the rows having null values in the Rating field\n",
    "\n",
    "inp1 = inp0[~inp0.Rating.isnull()]\n",
    "#Check the shape of the dataframe\n",
    "print(inp1.shape)\n"
   ]
  },
  {
   "cell_type": "code",
   "execution_count": 8,
   "metadata": {},
   "outputs": [
    {
     "data": {
      "text/plain": [
       "App               0\n",
       "Category          0\n",
       "Rating            0\n",
       "Reviews           0\n",
       "Size              0\n",
       "Installs          0\n",
       "Type              0\n",
       "Price             0\n",
       "Content Rating    1\n",
       "Genres            0\n",
       "Last Updated      0\n",
       "Current Ver       4\n",
       "Android Ver       3\n",
       "dtype: int64"
      ]
     },
     "execution_count": 8,
     "metadata": {},
     "output_type": "execute_result"
    }
   ],
   "source": [
    "# Check the number of nulls in the Rating field again to cross-verify\n",
    "inp1.isnull().sum()"
   ]
  },
  {
   "cell_type": "code",
   "execution_count": 9,
   "metadata": {},
   "outputs": [],
   "source": [
    "#Question\n",
    "#Check the number of nulls in the dataframe again and find the total number of null values\n",
    "\n"
   ]
  },
  {
   "cell_type": "code",
   "execution_count": 10,
   "metadata": {},
   "outputs": [
    {
     "data": {
      "text/html": [
       "<div>\n",
       "<style scoped>\n",
       "    .dataframe tbody tr th:only-of-type {\n",
       "        vertical-align: middle;\n",
       "    }\n",
       "\n",
       "    .dataframe tbody tr th {\n",
       "        vertical-align: top;\n",
       "    }\n",
       "\n",
       "    .dataframe thead th {\n",
       "        text-align: right;\n",
       "    }\n",
       "</style>\n",
       "<table border=\"1\" class=\"dataframe\">\n",
       "  <thead>\n",
       "    <tr style=\"text-align: right;\">\n",
       "      <th></th>\n",
       "      <th>App</th>\n",
       "      <th>Category</th>\n",
       "      <th>Rating</th>\n",
       "      <th>Reviews</th>\n",
       "      <th>Size</th>\n",
       "      <th>Installs</th>\n",
       "      <th>Type</th>\n",
       "      <th>Price</th>\n",
       "      <th>Content Rating</th>\n",
       "      <th>Genres</th>\n",
       "      <th>Last Updated</th>\n",
       "      <th>Current Ver</th>\n",
       "      <th>Android Ver</th>\n",
       "    </tr>\n",
       "  </thead>\n",
       "  <tbody>\n",
       "    <tr>\n",
       "      <th>4453</th>\n",
       "      <td>[substratum] Vacuum: P</td>\n",
       "      <td>PERSONALIZATION</td>\n",
       "      <td>4.4</td>\n",
       "      <td>230</td>\n",
       "      <td>11000.000000</td>\n",
       "      <td>1,000+</td>\n",
       "      <td>Paid</td>\n",
       "      <td>$1.49</td>\n",
       "      <td>Everyone</td>\n",
       "      <td>Personalization</td>\n",
       "      <td>July 20, 2018</td>\n",
       "      <td>4.4</td>\n",
       "      <td>NaN</td>\n",
       "    </tr>\n",
       "    <tr>\n",
       "      <th>4490</th>\n",
       "      <td>Pi Dark [substratum]</td>\n",
       "      <td>PERSONALIZATION</td>\n",
       "      <td>4.5</td>\n",
       "      <td>189</td>\n",
       "      <td>2100.000000</td>\n",
       "      <td>10,000+</td>\n",
       "      <td>Free</td>\n",
       "      <td>0</td>\n",
       "      <td>Everyone</td>\n",
       "      <td>Personalization</td>\n",
       "      <td>March 27, 2018</td>\n",
       "      <td>1.1</td>\n",
       "      <td>NaN</td>\n",
       "    </tr>\n",
       "    <tr>\n",
       "      <th>10472</th>\n",
       "      <td>Life Made WI-Fi Touchscreen Photo Frame</td>\n",
       "      <td>1.9</td>\n",
       "      <td>19.0</td>\n",
       "      <td>3.0M</td>\n",
       "      <td>21516.529524</td>\n",
       "      <td>Free</td>\n",
       "      <td>0</td>\n",
       "      <td>Everyone</td>\n",
       "      <td>NaN</td>\n",
       "      <td>February 11, 2018</td>\n",
       "      <td>1.0.19</td>\n",
       "      <td>4.0 and up</td>\n",
       "      <td>NaN</td>\n",
       "    </tr>\n",
       "  </tbody>\n",
       "</table>\n",
       "</div>"
      ],
      "text/plain": [
       "                                           App         Category  Rating  \\\n",
       "4453                    [substratum] Vacuum: P  PERSONALIZATION     4.4   \n",
       "4490                      Pi Dark [substratum]  PERSONALIZATION     4.5   \n",
       "10472  Life Made WI-Fi Touchscreen Photo Frame              1.9    19.0   \n",
       "\n",
       "      Reviews          Size Installs  Type     Price Content Rating  \\\n",
       "4453      230  11000.000000   1,000+  Paid     $1.49       Everyone   \n",
       "4490      189   2100.000000  10,000+  Free         0       Everyone   \n",
       "10472    3.0M  21516.529524     Free     0  Everyone            NaN   \n",
       "\n",
       "                  Genres    Last Updated Current Ver Android Ver  \n",
       "4453     Personalization   July 20, 2018         4.4         NaN  \n",
       "4490     Personalization  March 27, 2018         1.1         NaN  \n",
       "10472  February 11, 2018          1.0.19  4.0 and up         NaN  "
      ]
     },
     "execution_count": 10,
     "metadata": {},
     "output_type": "execute_result"
    }
   ],
   "source": [
    "#Inspect the nulls in the Android Version column\n",
    "inp1[inp1['Android Ver'].isnull()]"
   ]
  },
  {
   "cell_type": "code",
   "execution_count": 11,
   "metadata": {},
   "outputs": [
    {
     "data": {
      "text/html": [
       "<div>\n",
       "<style scoped>\n",
       "    .dataframe tbody tr th:only-of-type {\n",
       "        vertical-align: middle;\n",
       "    }\n",
       "\n",
       "    .dataframe tbody tr th {\n",
       "        vertical-align: top;\n",
       "    }\n",
       "\n",
       "    .dataframe thead th {\n",
       "        text-align: right;\n",
       "    }\n",
       "</style>\n",
       "<table border=\"1\" class=\"dataframe\">\n",
       "  <thead>\n",
       "    <tr style=\"text-align: right;\">\n",
       "      <th></th>\n",
       "      <th>App</th>\n",
       "      <th>Category</th>\n",
       "      <th>Rating</th>\n",
       "      <th>Reviews</th>\n",
       "      <th>Size</th>\n",
       "      <th>Installs</th>\n",
       "      <th>Type</th>\n",
       "      <th>Price</th>\n",
       "      <th>Content Rating</th>\n",
       "      <th>Genres</th>\n",
       "      <th>Last Updated</th>\n",
       "      <th>Current Ver</th>\n",
       "      <th>Android Ver</th>\n",
       "    </tr>\n",
       "  </thead>\n",
       "  <tbody>\n",
       "    <tr>\n",
       "      <th>4453</th>\n",
       "      <td>[substratum] Vacuum: P</td>\n",
       "      <td>PERSONALIZATION</td>\n",
       "      <td>4.4</td>\n",
       "      <td>230</td>\n",
       "      <td>11000.0</td>\n",
       "      <td>1,000+</td>\n",
       "      <td>Paid</td>\n",
       "      <td>$1.49</td>\n",
       "      <td>Everyone</td>\n",
       "      <td>Personalization</td>\n",
       "      <td>July 20, 2018</td>\n",
       "      <td>4.4</td>\n",
       "      <td>NaN</td>\n",
       "    </tr>\n",
       "    <tr>\n",
       "      <th>4490</th>\n",
       "      <td>Pi Dark [substratum]</td>\n",
       "      <td>PERSONALIZATION</td>\n",
       "      <td>4.5</td>\n",
       "      <td>189</td>\n",
       "      <td>2100.0</td>\n",
       "      <td>10,000+</td>\n",
       "      <td>Free</td>\n",
       "      <td>0</td>\n",
       "      <td>Everyone</td>\n",
       "      <td>Personalization</td>\n",
       "      <td>March 27, 2018</td>\n",
       "      <td>1.1</td>\n",
       "      <td>NaN</td>\n",
       "    </tr>\n",
       "  </tbody>\n",
       "</table>\n",
       "</div>"
      ],
      "text/plain": [
       "                         App         Category  Rating Reviews     Size  \\\n",
       "4453  [substratum] Vacuum: P  PERSONALIZATION     4.4     230  11000.0   \n",
       "4490    Pi Dark [substratum]  PERSONALIZATION     4.5     189   2100.0   \n",
       "\n",
       "     Installs  Type  Price Content Rating           Genres    Last Updated  \\\n",
       "4453   1,000+  Paid  $1.49       Everyone  Personalization   July 20, 2018   \n",
       "4490  10,000+  Free      0       Everyone  Personalization  March 27, 2018   \n",
       "\n",
       "     Current Ver Android Ver  \n",
       "4453         4.4         NaN  \n",
       "4490         1.1         NaN  "
      ]
     },
     "execution_count": 11,
     "metadata": {},
     "output_type": "execute_result"
    }
   ],
   "source": [
    "#Drop the row having shifted values\n",
    "#inp1.loc[10472,:]\n",
    "inp1 = inp1[~(inp1['Android Ver'].isnull() & (inp1.Category == \"1.9\"))]\n",
    "\n",
    "#Check the nulls againin Android version column to cross-verify\n",
    "inp1[inp1['Android Ver'].isnull()]"
   ]
  },
  {
   "cell_type": "markdown",
   "metadata": {},
   "source": [
    "Imputing Missing Values\n",
    "\n",
    "- For numerical variables use mean and median\n",
    "- For categorical variables use mode"
   ]
  },
  {
   "cell_type": "code",
   "execution_count": 12,
   "metadata": {},
   "outputs": [
    {
     "data": {
      "text/plain": [
       "'4.1 and up'"
      ]
     },
     "execution_count": 12,
     "metadata": {},
     "output_type": "execute_result"
    }
   ],
   "source": [
    "#Check the most common value in the Android version column\n",
    "inp1['Android Ver'].mode()\n",
    "inp1['Android Ver'].mode()[0]\n",
    "\n",
    "#len(inp1[inp1['Android Ver'] == '4.1 and up'])\n",
    "#inp1['Android Ver'].value_counts()"
   ]
  },
  {
   "cell_type": "code",
   "execution_count": 13,
   "metadata": {},
   "outputs": [],
   "source": [
    "#Fill up the nulls in the Android Version column with the above value\n",
    "defVal = inp1['Android Ver'].mode()[0]\n",
    "inp1['Android Ver'] = inp1['Android Ver'].fillna(defVal)"
   ]
  },
  {
   "cell_type": "code",
   "execution_count": 14,
   "metadata": {},
   "outputs": [
    {
     "data": {
      "text/html": [
       "<div>\n",
       "<style scoped>\n",
       "    .dataframe tbody tr th:only-of-type {\n",
       "        vertical-align: middle;\n",
       "    }\n",
       "\n",
       "    .dataframe tbody tr th {\n",
       "        vertical-align: top;\n",
       "    }\n",
       "\n",
       "    .dataframe thead th {\n",
       "        text-align: right;\n",
       "    }\n",
       "</style>\n",
       "<table border=\"1\" class=\"dataframe\">\n",
       "  <thead>\n",
       "    <tr style=\"text-align: right;\">\n",
       "      <th></th>\n",
       "      <th>App</th>\n",
       "      <th>Category</th>\n",
       "      <th>Rating</th>\n",
       "      <th>Reviews</th>\n",
       "      <th>Size</th>\n",
       "      <th>Installs</th>\n",
       "      <th>Type</th>\n",
       "      <th>Price</th>\n",
       "      <th>Content Rating</th>\n",
       "      <th>Genres</th>\n",
       "      <th>Last Updated</th>\n",
       "      <th>Current Ver</th>\n",
       "      <th>Android Ver</th>\n",
       "    </tr>\n",
       "  </thead>\n",
       "  <tbody>\n",
       "  </tbody>\n",
       "</table>\n",
       "</div>"
      ],
      "text/plain": [
       "Empty DataFrame\n",
       "Columns: [App, Category, Rating, Reviews, Size, Installs, Type, Price, Content Rating, Genres, Last Updated, Current Ver, Android Ver]\n",
       "Index: []"
      ]
     },
     "execution_count": 14,
     "metadata": {},
     "output_type": "execute_result"
    }
   ],
   "source": [
    "#Check the nulls in the Android version column again to cross-verify\n",
    "inp1[inp1['Android Ver'].isnull()]"
   ]
  },
  {
   "cell_type": "code",
   "execution_count": 15,
   "metadata": {},
   "outputs": [
    {
     "data": {
      "text/plain": [
       "App               0\n",
       "Category          0\n",
       "Rating            0\n",
       "Reviews           0\n",
       "Size              0\n",
       "Installs          0\n",
       "Type              0\n",
       "Price             0\n",
       "Content Rating    0\n",
       "Genres            0\n",
       "Last Updated      0\n",
       "Current Ver       4\n",
       "Android Ver       0\n",
       "dtype: int64"
      ]
     },
     "execution_count": 15,
     "metadata": {},
     "output_type": "execute_result"
    }
   ],
   "source": [
    "#Check the nulls in the entire dataframe again\n",
    "inp1.isnull().sum()"
   ]
  },
  {
   "cell_type": "code",
   "execution_count": 16,
   "metadata": {},
   "outputs": [
    {
     "data": {
      "text/plain": [
       "'Varies with device'"
      ]
     },
     "execution_count": 16,
     "metadata": {},
     "output_type": "execute_result"
    }
   ],
   "source": [
    "#Check the most common value in the Current version column\n",
    "inp1['Current Ver'].mode()[0]"
   ]
  },
  {
   "cell_type": "code",
   "execution_count": 17,
   "metadata": {},
   "outputs": [],
   "source": [
    "#Replace the nulls in the Current version column with the above value\n",
    "defVal = inp1['Current Ver'].mode()[0]\n",
    "inp1['Current Ver'] = inp1['Current Ver'].fillna(defVal)"
   ]
  },
  {
   "cell_type": "code",
   "execution_count": 18,
   "metadata": {},
   "outputs": [],
   "source": [
    "# Question : Check the most common value in the Current version column again\n",
    "#inp1.isnull().sum()\n",
    "#inp1['Current Ver'].value_counts()\n"
   ]
  },
  {
   "cell_type": "markdown",
   "metadata": {},
   "source": [
    "#### Handling Incorrect Data Types "
   ]
  },
  {
   "cell_type": "code",
   "execution_count": 19,
   "metadata": {},
   "outputs": [],
   "source": [
    "#Check the datatypes of all the columns \n",
    "#inp1.Price.value_counts()\n",
    "\n",
    "inp1.Price = inp1.Price.apply(lambda x: 0 if x==\"0\" else float(x[1:]))\n"
   ]
  },
  {
   "cell_type": "code",
   "execution_count": 20,
   "metadata": {},
   "outputs": [
    {
     "data": {
      "text/plain": [
       "0.819160601649685"
      ]
     },
     "execution_count": 20,
     "metadata": {},
     "output_type": "execute_result"
    }
   ],
   "source": [
    "#Question - Try calculating the average price of all apps having the Android version as \"4.1 and up\" \n",
    "\n",
    "#Mean of avg price for apps which have Android version as 4.1 and up\n",
    "prcDf = inp1[inp1['Android Ver'] == '4.1 and up']['Price']\n",
    "prcDf.mean()\n",
    "#prcDf.apply(replace('$',''))\n",
    "\n",
    "#.astype(float)\n",
    "#prcDf.mean()"
   ]
  },
  {
   "cell_type": "code",
   "execution_count": 21,
   "metadata": {},
   "outputs": [],
   "source": [
    "#Analyse the Price column to check the issue\n",
    "\n"
   ]
  },
  {
   "cell_type": "code",
   "execution_count": 22,
   "metadata": {},
   "outputs": [],
   "source": [
    "#Write the function to make the changes\n",
    "\n"
   ]
  },
  {
   "cell_type": "code",
   "execution_count": 23,
   "metadata": {},
   "outputs": [],
   "source": [
    "#Verify the dtype of Price once again\n"
   ]
  },
  {
   "cell_type": "code",
   "execution_count": 24,
   "metadata": {},
   "outputs": [],
   "source": [
    "#Analyse the Reviews column\n",
    "inp1.Reviews = inp1.Reviews.astype(\"int32\")"
   ]
  },
  {
   "cell_type": "code",
   "execution_count": 25,
   "metadata": {},
   "outputs": [
    {
     "data": {
      "text/plain": [
       "2         83\n",
       "3         78\n",
       "5         74\n",
       "4         74\n",
       "1         67\n",
       "          ..\n",
       "47386      1\n",
       "624924     1\n",
       "33053      1\n",
       "4383       1\n",
       "739329     1\n",
       "Name: Reviews, Length: 5992, dtype: int64"
      ]
     },
     "execution_count": 25,
     "metadata": {},
     "output_type": "execute_result"
    }
   ],
   "source": [
    "#Change the dtype of this column\n",
    "#inp1.Reviews.describe()\n",
    "inp1.Reviews.value_counts()\n",
    "\n",
    "#Check the quantitative spread of this dataframe\n",
    "\n"
   ]
  },
  {
   "cell_type": "code",
   "execution_count": 26,
   "metadata": {},
   "outputs": [
    {
     "name": "stdout",
     "output_type": "stream",
     "text": [
      "234345456\n",
      "134345456\n",
      "234345456\n",
      "434345456\n",
      "0           10000\n",
      "1          500000\n",
      "2         5000000\n",
      "3        50000000\n",
      "4          100000\n",
      "           ...   \n",
      "10834         500\n",
      "10836        5000\n",
      "10837         100\n",
      "10839        1000\n",
      "10840    10000000\n",
      "Name: Installs, Length: 9366, dtype: int64\n",
      "500000.0\n"
     ]
    }
   ],
   "source": [
    "#Analyse the Installs Column\n",
    "#inp1.dtypes\n",
    "#inp1.Installs.head()\n",
    "#inp1['Installs'].apply(lambda x: int(0) if x.isnull() else ''.join(split()) )\n",
    "\n",
    "def cleanInstalls(x):\n",
    "    if x[-1] == '+' :\n",
    "        x = x[:-1]\n",
    "    nL = x.split(',')    \n",
    "    n = ''.join(nL)\n",
    "    return n\n",
    "\n",
    "print(cleanInstalls(\"234,345,456+\"))\n",
    "print(cleanInstalls(\"134,345,456\"))\n",
    "print(cleanInstalls(\"234,345456+\"))\n",
    "print(cleanInstalls(cleanInstalls(cleanInstalls(\"434345456\"))))\n",
    "\n",
    "inp2 = inp1['Installs'].apply(cleanInstalls).apply(int)\n",
    "print (inp2)\n",
    "\n",
    "#Question Clean the Installs Column and find the approximate number of apps at the 50th percentile.\n",
    "print (np.percentile(inp2, 50))\n",
    "\n",
    "\n",
    "#inp1['Installs'] = inp1['Installs'].apply(cleanInstalls)\n",
    "#inp1['Installs'].isnull().sum()\n",
    "\n",
    "#print (inp1.Installs)\n",
    "\n"
   ]
  },
  {
   "cell_type": "code",
   "execution_count": 27,
   "metadata": {},
   "outputs": [],
   "source": [
    "#Question Clean the Installs Column and find the approximate number of apps at the 50th percentile.\n",
    "\n"
   ]
  },
  {
   "cell_type": "markdown",
   "metadata": {},
   "source": [
    "#### Sanity Checks"
   ]
  },
  {
   "cell_type": "markdown",
   "metadata": {},
   "source": [
    "The data that we have needs to make sense and therefore you can perform certain sanity checks on them to ensure they are factually correct as well. Some sanity checks can be:\n",
    "\n",
    "- Rating is between 1 and 5 for all the apps.\n",
    "- Number of Reviews is less than or equal to the number of Installs.\n",
    "- Free Apps shouldn’t have a price greater than 0.\n"
   ]
  },
  {
   "cell_type": "code",
   "execution_count": 28,
   "metadata": {},
   "outputs": [
    {
     "data": {
      "text/plain": [
       "count    9366.000000\n",
       "mean        4.191757\n",
       "std         0.515219\n",
       "min         1.000000\n",
       "25%         4.000000\n",
       "50%         4.300000\n",
       "75%         4.500000\n",
       "max         5.000000\n",
       "Name: Rating, dtype: float64"
      ]
     },
     "execution_count": 28,
     "metadata": {},
     "output_type": "execute_result"
    }
   ],
   "source": [
    "#Perform the sanity checks on the Reviews column\n",
    "inp1.Rating.describe()"
   ]
  },
  {
   "cell_type": "code",
   "execution_count": 29,
   "metadata": {},
   "outputs": [
    {
     "data": {
      "text/plain": [
       "count    9366.000000\n",
       "mean        0.960928\n",
       "std        15.816585\n",
       "min         0.000000\n",
       "25%         0.000000\n",
       "50%         0.000000\n",
       "75%         0.000000\n",
       "max       400.000000\n",
       "Name: Price, dtype: float64"
      ]
     },
     "execution_count": 29,
     "metadata": {},
     "output_type": "execute_result"
    }
   ],
   "source": [
    "#perform the sanity checks on prices of free apps \n",
    "inp1.Price.describe()"
   ]
  },
  {
   "cell_type": "markdown",
   "metadata": {},
   "source": [
    "#### Outliers Analysis Using Boxplot"
   ]
  },
  {
   "cell_type": "markdown",
   "metadata": {},
   "source": [
    "Now you need to start identifying and removing extreme values or __outliers__ from our dataset. These values can tilt our analysis and often provide us with a biased perspective of the data available. This is where you’ll start utilising visualisation to achieve your tasks. And the best visualisation to use here would be the box plot. Boxplots are one of the best ways of analysing the spread of a numeric variable\n",
    "\n",
    "\n",
    "Using a box plot you can identify the outliers as follows:"
   ]
  },
  {
   "cell_type": "markdown",
   "metadata": {},
   "source": [
    "![BoxPlots to Identify Outliers](images\\Boxplot.png)"
   ]
  },
  {
   "cell_type": "markdown",
   "metadata": {},
   "source": [
    "- Outliers in data can arise due to genuine reasons or because of dubious entries. In the latter case, you should go ahead and remove such entries immediately. Use a boxplot to observe, analyse and remove them.\n",
    "- In the former case, you should determine whether or not removing them would add value to your analysis procedure."
   ]
  },
  {
   "cell_type": "markdown",
   "metadata": {},
   "source": [
    "- You can create a box plot directly from pandas dataframe or the matplotlib way as you learnt in the previous session. Check out their official documentation here:\n",
    "   - https://pandas.pydata.org/pandas-docs/stable/reference/api/pandas.DataFrame.boxplot.html\n",
    "   - https://matplotlib.org/3.1.1/api/_as_gen/matplotlib.pyplot.boxplot.html"
   ]
  },
  {
   "cell_type": "code",
   "execution_count": 30,
   "metadata": {},
   "outputs": [
    {
     "data": {
      "image/png": "[encoded data removed]",
      "text/plain": [
       "<Figure size 432x288 with 1 Axes>"
      ]
     },
     "metadata": {
      "needs_background": "light"
     },
     "output_type": "display_data"
    }
   ],
   "source": [
    "#import the plotting libraries\n",
    "import matplotlib.pyplot as plt\n",
    "%matplotlib inline\n",
    "\n",
    "plt.boxplot(inp1.Price)\n",
    "plt.show()"
   ]
  },
  {
   "cell_type": "code",
   "execution_count": 31,
   "metadata": {},
   "outputs": [],
   "source": [
    "#Create a box plot for the price column\n"
   ]
  },
  {
   "cell_type": "code",
   "execution_count": 32,
   "metadata": {},
   "outputs": [
    {
     "data": {
      "text/html": [
       "<div>\n",
       "<style scoped>\n",
       "    .dataframe tbody tr th:only-of-type {\n",
       "        vertical-align: middle;\n",
       "    }\n",
       "\n",
       "    .dataframe tbody tr th {\n",
       "        vertical-align: top;\n",
       "    }\n",
       "\n",
       "    .dataframe thead th {\n",
       "        text-align: right;\n",
       "    }\n",
       "</style>\n",
       "<table border=\"1\" class=\"dataframe\">\n",
       "  <thead>\n",
       "    <tr style=\"text-align: right;\">\n",
       "      <th></th>\n",
       "      <th>App</th>\n",
       "      <th>Category</th>\n",
       "      <th>Rating</th>\n",
       "      <th>Reviews</th>\n",
       "      <th>Size</th>\n",
       "      <th>Installs</th>\n",
       "      <th>Type</th>\n",
       "      <th>Price</th>\n",
       "      <th>Content Rating</th>\n",
       "      <th>Genres</th>\n",
       "      <th>Last Updated</th>\n",
       "      <th>Current Ver</th>\n",
       "      <th>Android Ver</th>\n",
       "    </tr>\n",
       "  </thead>\n",
       "  <tbody>\n",
       "    <tr>\n",
       "      <th>4197</th>\n",
       "      <td>most expensive app (H)</td>\n",
       "      <td>FAMILY</td>\n",
       "      <td>4.3</td>\n",
       "      <td>6</td>\n",
       "      <td>1500.0</td>\n",
       "      <td>100+</td>\n",
       "      <td>Paid</td>\n",
       "      <td>399.99</td>\n",
       "      <td>Everyone</td>\n",
       "      <td>Entertainment</td>\n",
       "      <td>July 16, 2018</td>\n",
       "      <td>1.0</td>\n",
       "      <td>7.0 and up</td>\n",
       "    </tr>\n",
       "    <tr>\n",
       "      <th>4362</th>\n",
       "      <td>💎 I'm rich</td>\n",
       "      <td>LIFESTYLE</td>\n",
       "      <td>3.8</td>\n",
       "      <td>718</td>\n",
       "      <td>26000.0</td>\n",
       "      <td>10,000+</td>\n",
       "      <td>Paid</td>\n",
       "      <td>399.99</td>\n",
       "      <td>Everyone</td>\n",
       "      <td>Lifestyle</td>\n",
       "      <td>March 11, 2018</td>\n",
       "      <td>1.0.0</td>\n",
       "      <td>4.4 and up</td>\n",
       "    </tr>\n",
       "    <tr>\n",
       "      <th>4367</th>\n",
       "      <td>I'm Rich - Trump Edition</td>\n",
       "      <td>LIFESTYLE</td>\n",
       "      <td>3.6</td>\n",
       "      <td>275</td>\n",
       "      <td>7300.0</td>\n",
       "      <td>10,000+</td>\n",
       "      <td>Paid</td>\n",
       "      <td>400.00</td>\n",
       "      <td>Everyone</td>\n",
       "      <td>Lifestyle</td>\n",
       "      <td>May 3, 2018</td>\n",
       "      <td>1.0.1</td>\n",
       "      <td>4.1 and up</td>\n",
       "    </tr>\n",
       "    <tr>\n",
       "      <th>5351</th>\n",
       "      <td>I am rich</td>\n",
       "      <td>LIFESTYLE</td>\n",
       "      <td>3.8</td>\n",
       "      <td>3547</td>\n",
       "      <td>1800.0</td>\n",
       "      <td>100,000+</td>\n",
       "      <td>Paid</td>\n",
       "      <td>399.99</td>\n",
       "      <td>Everyone</td>\n",
       "      <td>Lifestyle</td>\n",
       "      <td>January 12, 2018</td>\n",
       "      <td>2.0</td>\n",
       "      <td>4.0.3 and up</td>\n",
       "    </tr>\n",
       "    <tr>\n",
       "      <th>5354</th>\n",
       "      <td>I am Rich Plus</td>\n",
       "      <td>FAMILY</td>\n",
       "      <td>4.0</td>\n",
       "      <td>856</td>\n",
       "      <td>8700.0</td>\n",
       "      <td>10,000+</td>\n",
       "      <td>Paid</td>\n",
       "      <td>399.99</td>\n",
       "      <td>Everyone</td>\n",
       "      <td>Entertainment</td>\n",
       "      <td>May 19, 2018</td>\n",
       "      <td>3.0</td>\n",
       "      <td>4.4 and up</td>\n",
       "    </tr>\n",
       "    <tr>\n",
       "      <th>5355</th>\n",
       "      <td>I am rich VIP</td>\n",
       "      <td>LIFESTYLE</td>\n",
       "      <td>3.8</td>\n",
       "      <td>411</td>\n",
       "      <td>2600.0</td>\n",
       "      <td>10,000+</td>\n",
       "      <td>Paid</td>\n",
       "      <td>299.99</td>\n",
       "      <td>Everyone</td>\n",
       "      <td>Lifestyle</td>\n",
       "      <td>July 21, 2018</td>\n",
       "      <td>1.1.1</td>\n",
       "      <td>4.3 and up</td>\n",
       "    </tr>\n",
       "    <tr>\n",
       "      <th>5356</th>\n",
       "      <td>I Am Rich Premium</td>\n",
       "      <td>FINANCE</td>\n",
       "      <td>4.1</td>\n",
       "      <td>1867</td>\n",
       "      <td>4700.0</td>\n",
       "      <td>50,000+</td>\n",
       "      <td>Paid</td>\n",
       "      <td>399.99</td>\n",
       "      <td>Everyone</td>\n",
       "      <td>Finance</td>\n",
       "      <td>November 12, 2017</td>\n",
       "      <td>1.6</td>\n",
       "      <td>4.0 and up</td>\n",
       "    </tr>\n",
       "    <tr>\n",
       "      <th>5357</th>\n",
       "      <td>I am extremely Rich</td>\n",
       "      <td>LIFESTYLE</td>\n",
       "      <td>2.9</td>\n",
       "      <td>41</td>\n",
       "      <td>2900.0</td>\n",
       "      <td>1,000+</td>\n",
       "      <td>Paid</td>\n",
       "      <td>379.99</td>\n",
       "      <td>Everyone</td>\n",
       "      <td>Lifestyle</td>\n",
       "      <td>July 1, 2018</td>\n",
       "      <td>1.0</td>\n",
       "      <td>4.0 and up</td>\n",
       "    </tr>\n",
       "    <tr>\n",
       "      <th>5358</th>\n",
       "      <td>I am Rich!</td>\n",
       "      <td>FINANCE</td>\n",
       "      <td>3.8</td>\n",
       "      <td>93</td>\n",
       "      <td>22000.0</td>\n",
       "      <td>1,000+</td>\n",
       "      <td>Paid</td>\n",
       "      <td>399.99</td>\n",
       "      <td>Everyone</td>\n",
       "      <td>Finance</td>\n",
       "      <td>December 11, 2017</td>\n",
       "      <td>1.0</td>\n",
       "      <td>4.1 and up</td>\n",
       "    </tr>\n",
       "    <tr>\n",
       "      <th>5359</th>\n",
       "      <td>I am rich(premium)</td>\n",
       "      <td>FINANCE</td>\n",
       "      <td>3.5</td>\n",
       "      <td>472</td>\n",
       "      <td>965.0</td>\n",
       "      <td>5,000+</td>\n",
       "      <td>Paid</td>\n",
       "      <td>399.99</td>\n",
       "      <td>Everyone</td>\n",
       "      <td>Finance</td>\n",
       "      <td>May 1, 2017</td>\n",
       "      <td>3.4</td>\n",
       "      <td>4.4 and up</td>\n",
       "    </tr>\n",
       "    <tr>\n",
       "      <th>5362</th>\n",
       "      <td>I Am Rich Pro</td>\n",
       "      <td>FAMILY</td>\n",
       "      <td>4.4</td>\n",
       "      <td>201</td>\n",
       "      <td>2700.0</td>\n",
       "      <td>5,000+</td>\n",
       "      <td>Paid</td>\n",
       "      <td>399.99</td>\n",
       "      <td>Everyone</td>\n",
       "      <td>Entertainment</td>\n",
       "      <td>May 30, 2017</td>\n",
       "      <td>1.54</td>\n",
       "      <td>1.6 and up</td>\n",
       "    </tr>\n",
       "    <tr>\n",
       "      <th>5364</th>\n",
       "      <td>I am rich (Most expensive app)</td>\n",
       "      <td>FINANCE</td>\n",
       "      <td>4.1</td>\n",
       "      <td>129</td>\n",
       "      <td>2700.0</td>\n",
       "      <td>1,000+</td>\n",
       "      <td>Paid</td>\n",
       "      <td>399.99</td>\n",
       "      <td>Teen</td>\n",
       "      <td>Finance</td>\n",
       "      <td>December 6, 2017</td>\n",
       "      <td>2</td>\n",
       "      <td>4.0.3 and up</td>\n",
       "    </tr>\n",
       "    <tr>\n",
       "      <th>5366</th>\n",
       "      <td>I Am Rich</td>\n",
       "      <td>FAMILY</td>\n",
       "      <td>3.6</td>\n",
       "      <td>217</td>\n",
       "      <td>4900.0</td>\n",
       "      <td>10,000+</td>\n",
       "      <td>Paid</td>\n",
       "      <td>389.99</td>\n",
       "      <td>Everyone</td>\n",
       "      <td>Entertainment</td>\n",
       "      <td>June 22, 2018</td>\n",
       "      <td>1.5</td>\n",
       "      <td>4.2 and up</td>\n",
       "    </tr>\n",
       "    <tr>\n",
       "      <th>5369</th>\n",
       "      <td>I am Rich</td>\n",
       "      <td>FINANCE</td>\n",
       "      <td>4.3</td>\n",
       "      <td>180</td>\n",
       "      <td>3800.0</td>\n",
       "      <td>5,000+</td>\n",
       "      <td>Paid</td>\n",
       "      <td>399.99</td>\n",
       "      <td>Everyone</td>\n",
       "      <td>Finance</td>\n",
       "      <td>March 22, 2018</td>\n",
       "      <td>1.0</td>\n",
       "      <td>4.2 and up</td>\n",
       "    </tr>\n",
       "    <tr>\n",
       "      <th>5373</th>\n",
       "      <td>I AM RICH PRO PLUS</td>\n",
       "      <td>FINANCE</td>\n",
       "      <td>4.0</td>\n",
       "      <td>36</td>\n",
       "      <td>41000.0</td>\n",
       "      <td>1,000+</td>\n",
       "      <td>Paid</td>\n",
       "      <td>399.99</td>\n",
       "      <td>Everyone</td>\n",
       "      <td>Finance</td>\n",
       "      <td>June 25, 2018</td>\n",
       "      <td>1.0.2</td>\n",
       "      <td>4.1 and up</td>\n",
       "    </tr>\n",
       "  </tbody>\n",
       "</table>\n",
       "</div>"
      ],
      "text/plain": [
       "                                 App   Category  Rating  Reviews     Size  \\\n",
       "4197          most expensive app (H)     FAMILY     4.3        6   1500.0   \n",
       "4362                      💎 I'm rich  LIFESTYLE     3.8      718  26000.0   \n",
       "4367        I'm Rich - Trump Edition  LIFESTYLE     3.6      275   7300.0   \n",
       "5351                       I am rich  LIFESTYLE     3.8     3547   1800.0   \n",
       "5354                  I am Rich Plus     FAMILY     4.0      856   8700.0   \n",
       "5355                   I am rich VIP  LIFESTYLE     3.8      411   2600.0   \n",
       "5356               I Am Rich Premium    FINANCE     4.1     1867   4700.0   \n",
       "5357             I am extremely Rich  LIFESTYLE     2.9       41   2900.0   \n",
       "5358                      I am Rich!    FINANCE     3.8       93  22000.0   \n",
       "5359              I am rich(premium)    FINANCE     3.5      472    965.0   \n",
       "5362                   I Am Rich Pro     FAMILY     4.4      201   2700.0   \n",
       "5364  I am rich (Most expensive app)    FINANCE     4.1      129   2700.0   \n",
       "5366                       I Am Rich     FAMILY     3.6      217   4900.0   \n",
       "5369                       I am Rich    FINANCE     4.3      180   3800.0   \n",
       "5373              I AM RICH PRO PLUS    FINANCE     4.0       36  41000.0   \n",
       "\n",
       "      Installs  Type   Price Content Rating         Genres       Last Updated  \\\n",
       "4197      100+  Paid  399.99       Everyone  Entertainment      July 16, 2018   \n",
       "4362   10,000+  Paid  399.99       Everyone      Lifestyle     March 11, 2018   \n",
       "4367   10,000+  Paid  400.00       Everyone      Lifestyle        May 3, 2018   \n",
       "5351  100,000+  Paid  399.99       Everyone      Lifestyle   January 12, 2018   \n",
       "5354   10,000+  Paid  399.99       Everyone  Entertainment       May 19, 2018   \n",
       "5355   10,000+  Paid  299.99       Everyone      Lifestyle      July 21, 2018   \n",
       "5356   50,000+  Paid  399.99       Everyone        Finance  November 12, 2017   \n",
       "5357    1,000+  Paid  379.99       Everyone      Lifestyle       July 1, 2018   \n",
       "5358    1,000+  Paid  399.99       Everyone        Finance  December 11, 2017   \n",
       "5359    5,000+  Paid  399.99       Everyone        Finance        May 1, 2017   \n",
       "5362    5,000+  Paid  399.99       Everyone  Entertainment       May 30, 2017   \n",
       "5364    1,000+  Paid  399.99           Teen        Finance   December 6, 2017   \n",
       "5366   10,000+  Paid  389.99       Everyone  Entertainment      June 22, 2018   \n",
       "5369    5,000+  Paid  399.99       Everyone        Finance     March 22, 2018   \n",
       "5373    1,000+  Paid  399.99       Everyone        Finance      June 25, 2018   \n",
       "\n",
       "     Current Ver   Android Ver  \n",
       "4197         1.0    7.0 and up  \n",
       "4362       1.0.0    4.4 and up  \n",
       "4367       1.0.1    4.1 and up  \n",
       "5351         2.0  4.0.3 and up  \n",
       "5354         3.0    4.4 and up  \n",
       "5355       1.1.1    4.3 and up  \n",
       "5356         1.6    4.0 and up  \n",
       "5357         1.0    4.0 and up  \n",
       "5358         1.0    4.1 and up  \n",
       "5359         3.4    4.4 and up  \n",
       "5362        1.54    1.6 and up  \n",
       "5364           2  4.0.3 and up  \n",
       "5366         1.5    4.2 and up  \n",
       "5369         1.0    4.2 and up  \n",
       "5373       1.0.2    4.1 and up  "
      ]
     },
     "execution_count": 32,
     "metadata": {},
     "output_type": "execute_result"
    }
   ],
   "source": [
    "#Check the apps with price more than 200\n",
    "inp1[inp1.Price > 200]"
   ]
  },
  {
   "cell_type": "code",
   "execution_count": 33,
   "metadata": {},
   "outputs": [
    {
     "data": {
      "text/plain": [
       "count    9351.000000\n",
       "mean        0.334744\n",
       "std         2.169282\n",
       "min         0.000000\n",
       "25%         0.000000\n",
       "50%         0.000000\n",
       "75%         0.000000\n",
       "max        79.990000\n",
       "Name: Price, dtype: float64"
      ]
     },
     "execution_count": 33,
     "metadata": {},
     "output_type": "execute_result"
    }
   ],
   "source": [
    "#Clean the Price column\n",
    "inp3 = inp1[inp1.Price < 200]\n",
    "inp3.Price.describe()"
   ]
  },
  {
   "cell_type": "code",
   "execution_count": 34,
   "metadata": {},
   "outputs": [
    {
     "data": {
      "text/plain": [
       "<matplotlib.axes._subplots.AxesSubplot at 0x1709fb3c9a0>"
      ]
     },
     "execution_count": 34,
     "metadata": {},
     "output_type": "execute_result"
    },
    {
     "data": {
      "image/png": "[encoded data removed]",
      "text/plain": [
       "<Figure size 432x288 with 1 Axes>"
      ]
     },
     "metadata": {
      "needs_background": "light"
     },
     "output_type": "display_data"
    }
   ],
   "source": [
    "#Create a box plot for paid apps\n",
    "\n",
    "inp3[inp3.Price > 0].Price.plot.box()\n"
   ]
  },
  {
   "cell_type": "code",
   "execution_count": 35,
   "metadata": {},
   "outputs": [
    {
     "data": {
      "text/plain": [
       "<matplotlib.axes._subplots.AxesSubplot at 0x1709fbb0490>"
      ]
     },
     "execution_count": 35,
     "metadata": {},
     "output_type": "execute_result"
    },
    {
     "data": {
      "image/png": "[encoded data removed]",
      "text/plain": [
       "<Figure size 432x288 with 1 Axes>"
      ]
     },
     "metadata": {
      "needs_background": "light"
     },
     "output_type": "display_data"
    }
   ],
   "source": [
    "#Check the apps with price more than 30\n",
    "inp3[inp3.Price > 30].Price.plot.box()"
   ]
  },
  {
   "cell_type": "code",
   "execution_count": 36,
   "metadata": {},
   "outputs": [
    {
     "data": {
      "text/plain": [
       "(9345, 13)"
      ]
     },
     "execution_count": 36,
     "metadata": {},
     "output_type": "execute_result"
    }
   ],
   "source": [
    "#Clean the Price column again\n",
    "inp3[inp3.Price < 30].shape\n"
   ]
  },
  {
   "cell_type": "markdown",
   "metadata": {},
   "source": [
    "### Histograms\n",
    "\n",
    "Histograms can also be used in conjuction with boxplots for data cleaning and data handling purposes. You can use it to check the spread of a numeric variable. Histograms generally work by bucketing the entire range of values that a particular variable takes to specific __bins__. After that, it uses vertical bars to denote the total number of records in a specific bin, which is also known as its __frequency__.\n"
   ]
  },
  {
   "cell_type": "markdown",
   "metadata": {},
   "source": [
    "![Histogram](images\\Histogram.png)"
   ]
  },
  {
   "cell_type": "markdown",
   "metadata": {},
   "source": [
    "You can adjust the number of bins to improve its granularity"
   ]
  },
  {
   "cell_type": "markdown",
   "metadata": {},
   "source": [
    "![Bins change](images\\Granular.png)"
   ]
  },
  {
   "cell_type": "markdown",
   "metadata": {},
   "source": [
    "You'll be using plt.hist() to plot a histogram. Check out its official documentation:https://matplotlib.org/3.1.1/api/_as_gen/matplotlib.pyplot.hist.html"
   ]
  },
  {
   "cell_type": "code",
   "execution_count": 37,
   "metadata": {},
   "outputs": [
    {
     "data": {
      "text/plain": [
       "(array([9.225e+03, 8.100e+01, 1.900e+01, 9.000e+00, 0.000e+00, 5.000e+00,\n",
       "        0.000e+00, 3.000e+00, 7.000e+00, 2.000e+00]),\n",
       " array([1.00000000e+00, 7.81583150e+06, 1.56316620e+07, 2.34474925e+07,\n",
       "        3.12633230e+07, 3.90791535e+07, 4.68949840e+07, 5.47108145e+07,\n",
       "        6.25266450e+07, 7.03424755e+07, 7.81583060e+07]),\n",
       " <a list of 10 Patch objects>)"
      ]
     },
     "execution_count": 37,
     "metadata": {},
     "output_type": "execute_result"
    },
    {
     "data": {
      "image/png": "[encoded data removed]",
      "text/plain": [
       "<Figure size 432x288 with 1 Axes>"
      ]
     },
     "metadata": {
      "needs_background": "light"
     },
     "output_type": "display_data"
    }
   ],
   "source": [
    "#Create a histogram of the Reviews\n",
    "#?plt.hist\n",
    "plt.hist(inp3.Reviews)"
   ]
  },
  {
   "cell_type": "code",
   "execution_count": 38,
   "metadata": {},
   "outputs": [
    {
     "data": {
      "text/plain": [
       "{'whiskers': [<matplotlib.lines.Line2D at 0x170a0c7d9a0>,\n",
       "  <matplotlib.lines.Line2D at 0x170a0c7dd00>],\n",
       " 'caps': [<matplotlib.lines.Line2D at 0x170a0c890a0>,\n",
       "  <matplotlib.lines.Line2D at 0x170a0c89400>],\n",
       " 'boxes': [<matplotlib.lines.Line2D at 0x170a0c7d640>],\n",
       " 'medians': [<matplotlib.lines.Line2D at 0x170a0c89760>],\n",
       " 'fliers': [<matplotlib.lines.Line2D at 0x170a0c89a60>],\n",
       " 'means': []}"
      ]
     },
     "execution_count": 38,
     "metadata": {},
     "output_type": "execute_result"
    },
    {
     "data": {
      "image/png": "[encoded data removed]",
      "text/plain": [
       "<Figure size 432x288 with 1 Axes>"
      ]
     },
     "metadata": {
      "needs_background": "light"
     },
     "output_type": "display_data"
    }
   ],
   "source": [
    "#Create a boxplot of the Reviews column\n",
    "plt.boxplot(inp3.Reviews)\n"
   ]
  },
  {
   "cell_type": "code",
   "execution_count": 39,
   "metadata": {},
   "outputs": [
    {
     "data": {
      "text/html": [
       "<div>\n",
       "<style scoped>\n",
       "    .dataframe tbody tr th:only-of-type {\n",
       "        vertical-align: middle;\n",
       "    }\n",
       "\n",
       "    .dataframe tbody tr th {\n",
       "        vertical-align: top;\n",
       "    }\n",
       "\n",
       "    .dataframe thead th {\n",
       "        text-align: right;\n",
       "    }\n",
       "</style>\n",
       "<table border=\"1\" class=\"dataframe\">\n",
       "  <thead>\n",
       "    <tr style=\"text-align: right;\">\n",
       "      <th></th>\n",
       "      <th>App</th>\n",
       "      <th>Category</th>\n",
       "      <th>Rating</th>\n",
       "      <th>Reviews</th>\n",
       "      <th>Size</th>\n",
       "      <th>Installs</th>\n",
       "      <th>Type</th>\n",
       "      <th>Price</th>\n",
       "      <th>Content Rating</th>\n",
       "      <th>Genres</th>\n",
       "      <th>Last Updated</th>\n",
       "      <th>Current Ver</th>\n",
       "      <th>Android Ver</th>\n",
       "    </tr>\n",
       "  </thead>\n",
       "  <tbody>\n",
       "    <tr>\n",
       "      <th>335</th>\n",
       "      <td>Messenger – Text and Video Chat for Free</td>\n",
       "      <td>COMMUNICATION</td>\n",
       "      <td>4.0</td>\n",
       "      <td>56642847</td>\n",
       "      <td>21516.529524</td>\n",
       "      <td>1,000,000,000+</td>\n",
       "      <td>Free</td>\n",
       "      <td>0.0</td>\n",
       "      <td>Everyone</td>\n",
       "      <td>Communication</td>\n",
       "      <td>August 1, 2018</td>\n",
       "      <td>Varies with device</td>\n",
       "      <td>Varies with device</td>\n",
       "    </tr>\n",
       "    <tr>\n",
       "      <th>336</th>\n",
       "      <td>WhatsApp Messenger</td>\n",
       "      <td>COMMUNICATION</td>\n",
       "      <td>4.4</td>\n",
       "      <td>69119316</td>\n",
       "      <td>21516.529524</td>\n",
       "      <td>1,000,000,000+</td>\n",
       "      <td>Free</td>\n",
       "      <td>0.0</td>\n",
       "      <td>Everyone</td>\n",
       "      <td>Communication</td>\n",
       "      <td>August 3, 2018</td>\n",
       "      <td>Varies with device</td>\n",
       "      <td>Varies with device</td>\n",
       "    </tr>\n",
       "    <tr>\n",
       "      <th>342</th>\n",
       "      <td>Viber Messenger</td>\n",
       "      <td>COMMUNICATION</td>\n",
       "      <td>4.3</td>\n",
       "      <td>11334799</td>\n",
       "      <td>21516.529524</td>\n",
       "      <td>500,000,000+</td>\n",
       "      <td>Free</td>\n",
       "      <td>0.0</td>\n",
       "      <td>Everyone</td>\n",
       "      <td>Communication</td>\n",
       "      <td>July 18, 2018</td>\n",
       "      <td>Varies with device</td>\n",
       "      <td>Varies with device</td>\n",
       "    </tr>\n",
       "    <tr>\n",
       "      <th>378</th>\n",
       "      <td>UC Browser - Fast Download Private &amp; Secure</td>\n",
       "      <td>COMMUNICATION</td>\n",
       "      <td>4.5</td>\n",
       "      <td>17712922</td>\n",
       "      <td>40000.000000</td>\n",
       "      <td>500,000,000+</td>\n",
       "      <td>Free</td>\n",
       "      <td>0.0</td>\n",
       "      <td>Teen</td>\n",
       "      <td>Communication</td>\n",
       "      <td>August 2, 2018</td>\n",
       "      <td>12.8.5.1121</td>\n",
       "      <td>4.0 and up</td>\n",
       "    </tr>\n",
       "    <tr>\n",
       "      <th>381</th>\n",
       "      <td>WhatsApp Messenger</td>\n",
       "      <td>COMMUNICATION</td>\n",
       "      <td>4.4</td>\n",
       "      <td>69119316</td>\n",
       "      <td>21516.529524</td>\n",
       "      <td>1,000,000,000+</td>\n",
       "      <td>Free</td>\n",
       "      <td>0.0</td>\n",
       "      <td>Everyone</td>\n",
       "      <td>Communication</td>\n",
       "      <td>August 3, 2018</td>\n",
       "      <td>Varies with device</td>\n",
       "      <td>Varies with device</td>\n",
       "    </tr>\n",
       "    <tr>\n",
       "      <th>...</th>\n",
       "      <td>...</td>\n",
       "      <td>...</td>\n",
       "      <td>...</td>\n",
       "      <td>...</td>\n",
       "      <td>...</td>\n",
       "      <td>...</td>\n",
       "      <td>...</td>\n",
       "      <td>...</td>\n",
       "      <td>...</td>\n",
       "      <td>...</td>\n",
       "      <td>...</td>\n",
       "      <td>...</td>\n",
       "      <td>...</td>\n",
       "    </tr>\n",
       "    <tr>\n",
       "      <th>6449</th>\n",
       "      <td>BBM - Free Calls &amp; Messages</td>\n",
       "      <td>COMMUNICATION</td>\n",
       "      <td>4.3</td>\n",
       "      <td>12843436</td>\n",
       "      <td>21516.529524</td>\n",
       "      <td>100,000,000+</td>\n",
       "      <td>Free</td>\n",
       "      <td>0.0</td>\n",
       "      <td>Everyone</td>\n",
       "      <td>Communication</td>\n",
       "      <td>August 2, 2018</td>\n",
       "      <td>Varies with device</td>\n",
       "      <td>4.0.3 and up</td>\n",
       "    </tr>\n",
       "    <tr>\n",
       "      <th>7536</th>\n",
       "      <td>Security Master - Antivirus, VPN, AppLock, Boo...</td>\n",
       "      <td>TOOLS</td>\n",
       "      <td>4.7</td>\n",
       "      <td>24900999</td>\n",
       "      <td>21516.529524</td>\n",
       "      <td>500,000,000+</td>\n",
       "      <td>Free</td>\n",
       "      <td>0.0</td>\n",
       "      <td>Everyone</td>\n",
       "      <td>Tools</td>\n",
       "      <td>August 4, 2018</td>\n",
       "      <td>4.6.6</td>\n",
       "      <td>Varies with device</td>\n",
       "    </tr>\n",
       "    <tr>\n",
       "      <th>7937</th>\n",
       "      <td>Shadow Fight 2</td>\n",
       "      <td>GAME</td>\n",
       "      <td>4.6</td>\n",
       "      <td>10981850</td>\n",
       "      <td>88000.000000</td>\n",
       "      <td>100,000,000+</td>\n",
       "      <td>Free</td>\n",
       "      <td>0.0</td>\n",
       "      <td>Everyone 10+</td>\n",
       "      <td>Action</td>\n",
       "      <td>July 2, 2018</td>\n",
       "      <td>1.9.38</td>\n",
       "      <td>3.0 and up</td>\n",
       "    </tr>\n",
       "    <tr>\n",
       "      <th>8894</th>\n",
       "      <td>Cache Cleaner-DU Speed Booster (booster &amp; clea...</td>\n",
       "      <td>TOOLS</td>\n",
       "      <td>4.5</td>\n",
       "      <td>12759815</td>\n",
       "      <td>15000.000000</td>\n",
       "      <td>100,000,000+</td>\n",
       "      <td>Free</td>\n",
       "      <td>0.0</td>\n",
       "      <td>Everyone</td>\n",
       "      <td>Tools</td>\n",
       "      <td>July 25, 2018</td>\n",
       "      <td>3.1.2</td>\n",
       "      <td>4.0 and up</td>\n",
       "    </tr>\n",
       "    <tr>\n",
       "      <th>8896</th>\n",
       "      <td>DU Battery Saver - Battery Charger &amp; Battery Life</td>\n",
       "      <td>TOOLS</td>\n",
       "      <td>4.5</td>\n",
       "      <td>13479633</td>\n",
       "      <td>14000.000000</td>\n",
       "      <td>100,000,000+</td>\n",
       "      <td>Free</td>\n",
       "      <td>0.0</td>\n",
       "      <td>Everyone</td>\n",
       "      <td>Tools</td>\n",
       "      <td>June 5, 2018</td>\n",
       "      <td>4.8.7.8</td>\n",
       "      <td>4.0 and up</td>\n",
       "    </tr>\n",
       "  </tbody>\n",
       "</table>\n",
       "<p>92 rows × 13 columns</p>\n",
       "</div>"
      ],
      "text/plain": [
       "                                                    App       Category  \\\n",
       "335            Messenger – Text and Video Chat for Free  COMMUNICATION   \n",
       "336                                  WhatsApp Messenger  COMMUNICATION   \n",
       "342                                     Viber Messenger  COMMUNICATION   \n",
       "378         UC Browser - Fast Download Private & Secure  COMMUNICATION   \n",
       "381                                  WhatsApp Messenger  COMMUNICATION   \n",
       "...                                                 ...            ...   \n",
       "6449                        BBM - Free Calls & Messages  COMMUNICATION   \n",
       "7536  Security Master - Antivirus, VPN, AppLock, Boo...          TOOLS   \n",
       "7937                                     Shadow Fight 2           GAME   \n",
       "8894  Cache Cleaner-DU Speed Booster (booster & clea...          TOOLS   \n",
       "8896  DU Battery Saver - Battery Charger & Battery Life          TOOLS   \n",
       "\n",
       "      Rating   Reviews          Size        Installs  Type  Price  \\\n",
       "335      4.0  56642847  21516.529524  1,000,000,000+  Free    0.0   \n",
       "336      4.4  69119316  21516.529524  1,000,000,000+  Free    0.0   \n",
       "342      4.3  11334799  21516.529524    500,000,000+  Free    0.0   \n",
       "378      4.5  17712922  40000.000000    500,000,000+  Free    0.0   \n",
       "381      4.4  69119316  21516.529524  1,000,000,000+  Free    0.0   \n",
       "...      ...       ...           ...             ...   ...    ...   \n",
       "6449     4.3  12843436  21516.529524    100,000,000+  Free    0.0   \n",
       "7536     4.7  24900999  21516.529524    500,000,000+  Free    0.0   \n",
       "7937     4.6  10981850  88000.000000    100,000,000+  Free    0.0   \n",
       "8894     4.5  12759815  15000.000000    100,000,000+  Free    0.0   \n",
       "8896     4.5  13479633  14000.000000    100,000,000+  Free    0.0   \n",
       "\n",
       "     Content Rating         Genres    Last Updated         Current Ver  \\\n",
       "335        Everyone  Communication  August 1, 2018  Varies with device   \n",
       "336        Everyone  Communication  August 3, 2018  Varies with device   \n",
       "342        Everyone  Communication   July 18, 2018  Varies with device   \n",
       "378            Teen  Communication  August 2, 2018         12.8.5.1121   \n",
       "381        Everyone  Communication  August 3, 2018  Varies with device   \n",
       "...             ...            ...             ...                 ...   \n",
       "6449       Everyone  Communication  August 2, 2018  Varies with device   \n",
       "7536       Everyone          Tools  August 4, 2018               4.6.6   \n",
       "7937   Everyone 10+         Action    July 2, 2018              1.9.38   \n",
       "8894       Everyone          Tools   July 25, 2018               3.1.2   \n",
       "8896       Everyone          Tools    June 5, 2018             4.8.7.8   \n",
       "\n",
       "             Android Ver  \n",
       "335   Varies with device  \n",
       "336   Varies with device  \n",
       "342   Varies with device  \n",
       "378           4.0 and up  \n",
       "381   Varies with device  \n",
       "...                  ...  \n",
       "6449        4.0.3 and up  \n",
       "7536  Varies with device  \n",
       "7937          3.0 and up  \n",
       "8894          4.0 and up  \n",
       "8896          4.0 and up  \n",
       "\n",
       "[92 rows x 13 columns]"
      ]
     },
     "execution_count": 39,
     "metadata": {},
     "output_type": "execute_result"
    }
   ],
   "source": [
    "#Check records with 1 million reviews\n",
    "inp3[inp3.Reviews >= 10000000]"
   ]
  },
  {
   "cell_type": "code",
   "execution_count": 40,
   "metadata": {},
   "outputs": [],
   "source": [
    "#Drop the above records\n",
    "#more than 1M reviews are dropped\n",
    "inp4 = inp3[inp3.Reviews <= 1000000]\n"
   ]
  },
  {
   "cell_type": "code",
   "execution_count": 41,
   "metadata": {},
   "outputs": [
    {
     "data": {
      "text/plain": [
       "(array([7181.,  521.,  314.,  169.,  127.,  114.,   69.,   49.,   55.,\n",
       "          48.]),\n",
       " array([1.000000e+00, 9.950110e+04, 1.990012e+05, 2.985013e+05,\n",
       "        3.980014e+05, 4.975015e+05, 5.970016e+05, 6.965017e+05,\n",
       "        7.960018e+05, 8.955019e+05, 9.950020e+05]),\n",
       " <a list of 10 Patch objects>)"
      ]
     },
     "execution_count": 41,
     "metadata": {},
     "output_type": "execute_result"
    },
    {
     "data": {
      "image/png": "[encoded data removed]",
      "text/plain": [
       "<Figure size 432x288 with 1 Axes>"
      ]
     },
     "metadata": {
      "needs_background": "light"
     },
     "output_type": "display_data"
    }
   ],
   "source": [
    "#Question - Create a histogram again and check the peaks\n",
    "plt.hist(inp4.Reviews)\n"
   ]
  },
  {
   "cell_type": "code",
   "execution_count": 42,
   "metadata": {},
   "outputs": [
    {
     "name": "stdout",
     "output_type": "stream",
     "text": [
      "                                                     App             Category  \\\n",
      "0         Photo Editor & Candy Camera & Grid & ScrapBook       ART_AND_DESIGN   \n",
      "1                                    Coloring book moana       ART_AND_DESIGN   \n",
      "2      U Launcher Lite – FREE Live Cool Themes, Hide ...       ART_AND_DESIGN   \n",
      "3                                  Sketch - Draw & Paint       ART_AND_DESIGN   \n",
      "4                  Pixel Draw - Number Art Coloring Book       ART_AND_DESIGN   \n",
      "...                                                  ...                  ...   \n",
      "10834                                      FR Calculator               FAMILY   \n",
      "10836                                   Sya9a Maroc - FR               FAMILY   \n",
      "10837                   Fr. Mike Schmitz Audio Teachings               FAMILY   \n",
      "10839                      The SCP Foundation DB fr nn5n  BOOKS_AND_REFERENCE   \n",
      "10840      iHoroscope - 2018 Daily Horoscope & Astrology            LIFESTYLE   \n",
      "\n",
      "       Rating  Reviews          Size  Installs  Type  Price Content Rating  \\\n",
      "0         4.1      159  19000.000000     10000  Free    0.0       Everyone   \n",
      "1         3.9      967  14000.000000    500000  Free    0.0       Everyone   \n",
      "2         4.7    87510   8700.000000   5000000  Free    0.0       Everyone   \n",
      "3         4.5   215644  25000.000000  50000000  Free    0.0           Teen   \n",
      "4         4.3      967   2800.000000    100000  Free    0.0       Everyone   \n",
      "...       ...      ...           ...       ...   ...    ...            ...   \n",
      "10834     4.0        7   2600.000000       500  Free    0.0       Everyone   \n",
      "10836     4.5       38  53000.000000      5000  Free    0.0       Everyone   \n",
      "10837     5.0        4   3600.000000       100  Free    0.0       Everyone   \n",
      "10839     4.5      114  21516.529524      1000  Free    0.0     Mature 17+   \n",
      "10840     4.5   398307  19000.000000  10000000  Free    0.0       Everyone   \n",
      "\n",
      "                          Genres      Last Updated         Current Ver  \\\n",
      "0                   Art & Design   January 7, 2018               1.0.0   \n",
      "1      Art & Design;Pretend Play  January 15, 2018               2.0.0   \n",
      "2                   Art & Design    August 1, 2018               1.2.4   \n",
      "3                   Art & Design      June 8, 2018  Varies with device   \n",
      "4        Art & Design;Creativity     June 20, 2018                 1.1   \n",
      "...                          ...               ...                 ...   \n",
      "10834                  Education     June 18, 2017               1.0.0   \n",
      "10836                  Education     July 25, 2017                1.48   \n",
      "10837                  Education      July 6, 2018                 1.0   \n",
      "10839          Books & Reference  January 19, 2015  Varies with device   \n",
      "10840                  Lifestyle     July 25, 2018  Varies with device   \n",
      "\n",
      "              Android Ver  \n",
      "0            4.0.3 and up  \n",
      "1            4.0.3 and up  \n",
      "2            4.0.3 and up  \n",
      "3              4.2 and up  \n",
      "4              4.4 and up  \n",
      "...                   ...  \n",
      "10834          4.1 and up  \n",
      "10836          4.1 and up  \n",
      "10837          4.1 and up  \n",
      "10839  Varies with device  \n",
      "10840  Varies with device  \n",
      "\n",
      "[8647 rows x 13 columns]\n"
     ]
    },
    {
     "name": "stderr",
     "output_type": "stream",
     "text": [
      "<ipython-input-42-ae9c2ba4ba56>:10: SettingWithCopyWarning: \n",
      "A value is trying to be set on a copy of a slice from a DataFrame.\n",
      "Try using .loc[row_indexer,col_indexer] = value instead\n",
      "\n",
      "See the caveats in the documentation: https://pandas.pydata.org/pandas-docs/stable/user_guide/indexing.html#returning-a-view-versus-a-copy\n",
      "  inp4['Installs'] = inp4['Installs'].apply(cleanInstalls).apply(int)\n"
     ]
    },
    {
     "data": {
      "text/html": [
       "<div>\n",
       "<style scoped>\n",
       "    .dataframe tbody tr th:only-of-type {\n",
       "        vertical-align: middle;\n",
       "    }\n",
       "\n",
       "    .dataframe tbody tr th {\n",
       "        vertical-align: top;\n",
       "    }\n",
       "\n",
       "    .dataframe thead th {\n",
       "        text-align: right;\n",
       "    }\n",
       "</style>\n",
       "<table border=\"1\" class=\"dataframe\">\n",
       "  <thead>\n",
       "    <tr style=\"text-align: right;\">\n",
       "      <th></th>\n",
       "      <th>Rating</th>\n",
       "      <th>Reviews</th>\n",
       "      <th>Size</th>\n",
       "      <th>Installs</th>\n",
       "      <th>Price</th>\n",
       "    </tr>\n",
       "  </thead>\n",
       "  <tbody>\n",
       "    <tr>\n",
       "      <th>count</th>\n",
       "      <td>8647.000000</td>\n",
       "      <td>8647.000000</td>\n",
       "      <td>8647.000000</td>\n",
       "      <td>8.647000e+03</td>\n",
       "      <td>8647.000000</td>\n",
       "    </tr>\n",
       "    <tr>\n",
       "      <th>mean</th>\n",
       "      <td>4.173066</td>\n",
       "      <td>68281.818087</td>\n",
       "      <td>21640.349723</td>\n",
       "      <td>4.282091e+06</td>\n",
       "      <td>0.360380</td>\n",
       "    </tr>\n",
       "    <tr>\n",
       "      <th>std</th>\n",
       "      <td>0.529150</td>\n",
       "      <td>156240.179554</td>\n",
       "      <td>20664.698886</td>\n",
       "      <td>2.862544e+07</td>\n",
       "      <td>2.251433</td>\n",
       "    </tr>\n",
       "    <tr>\n",
       "      <th>min</th>\n",
       "      <td>1.000000</td>\n",
       "      <td>1.000000</td>\n",
       "      <td>8.500000</td>\n",
       "      <td>1.000000e+00</td>\n",
       "      <td>0.000000</td>\n",
       "    </tr>\n",
       "    <tr>\n",
       "      <th>25%</th>\n",
       "      <td>4.000000</td>\n",
       "      <td>142.000000</td>\n",
       "      <td>6000.000000</td>\n",
       "      <td>1.000000e+04</td>\n",
       "      <td>0.000000</td>\n",
       "    </tr>\n",
       "    <tr>\n",
       "      <th>50%</th>\n",
       "      <td>4.300000</td>\n",
       "      <td>3614.000000</td>\n",
       "      <td>18000.000000</td>\n",
       "      <td>1.000000e+05</td>\n",
       "      <td>0.000000</td>\n",
       "    </tr>\n",
       "    <tr>\n",
       "      <th>75%</th>\n",
       "      <td>4.500000</td>\n",
       "      <td>45914.000000</td>\n",
       "      <td>26000.000000</td>\n",
       "      <td>1.000000e+06</td>\n",
       "      <td>0.000000</td>\n",
       "    </tr>\n",
       "    <tr>\n",
       "      <th>max</th>\n",
       "      <td>5.000000</td>\n",
       "      <td>995002.000000</td>\n",
       "      <td>100000.000000</td>\n",
       "      <td>1.000000e+09</td>\n",
       "      <td>79.990000</td>\n",
       "    </tr>\n",
       "  </tbody>\n",
       "</table>\n",
       "</div>"
      ],
      "text/plain": [
       "            Rating        Reviews           Size      Installs        Price\n",
       "count  8647.000000    8647.000000    8647.000000  8.647000e+03  8647.000000\n",
       "mean      4.173066   68281.818087   21640.349723  4.282091e+06     0.360380\n",
       "std       0.529150  156240.179554   20664.698886  2.862544e+07     2.251433\n",
       "min       1.000000       1.000000       8.500000  1.000000e+00     0.000000\n",
       "25%       4.000000     142.000000    6000.000000  1.000000e+04     0.000000\n",
       "50%       4.300000    3614.000000   18000.000000  1.000000e+05     0.000000\n",
       "75%       4.500000   45914.000000   26000.000000  1.000000e+06     0.000000\n",
       "max       5.000000  995002.000000  100000.000000  1.000000e+09    79.990000"
      ]
     },
     "execution_count": 42,
     "metadata": {},
     "output_type": "execute_result"
    }
   ],
   "source": [
    "#Question - Create a box plot for the Installs column and report back the IQR\n",
    "\n",
    "def cleanInstalls(x):\n",
    "    if x[-1] == '+' :\n",
    "        x = x[:-1]\n",
    "    nL = x.split(',')    \n",
    "    n = ''.join(nL)\n",
    "    return n\n",
    "\n",
    "inp4['Installs'] = inp4['Installs'].apply(cleanInstalls).apply(int)\n",
    "print (inp4)\n",
    "\n",
    "inp4.describe()\n",
    "\n"
   ]
  },
  {
   "cell_type": "code",
   "execution_count": 43,
   "metadata": {},
   "outputs": [
    {
     "data": {
      "text/plain": [
       "(8647, 13)"
      ]
     },
     "execution_count": 43,
     "metadata": {},
     "output_type": "execute_result"
    }
   ],
   "source": [
    "#Question - CLean the Installs by removing \n",
    "#all the apps having more than or equal to 100 million installs\n",
    "\n",
    "#inp4 = inp4[inp4.Installs <= 100000000]\n",
    "inp4.describe()\n",
    "inp4.shape"
   ]
  },
  {
   "cell_type": "code",
   "execution_count": 44,
   "metadata": {},
   "outputs": [
    {
     "data": {
      "text/plain": [
       "(array([3239., 1403., 2627.,  606.,  448.,  325.,  226.,  161.,  117.,\n",
       "         199.]),\n",
       " array([8.500000e+00, 1.000765e+04, 2.000680e+04, 3.000595e+04,\n",
       "        4.000510e+04, 5.000425e+04, 6.000340e+04, 7.000255e+04,\n",
       "        8.000170e+04, 9.000085e+04, 1.000000e+05]),\n",
       " <a list of 10 Patch objects>)"
      ]
     },
     "execution_count": 44,
     "metadata": {},
     "output_type": "execute_result"
    },
    {
     "data": {
      "image/png": "[encoded data removed]",
      "text/plain": [
       "<Figure size 432x288 with 1 Axes>"
      ]
     },
     "metadata": {
      "needs_background": "light"
     },
     "output_type": "display_data"
    }
   ],
   "source": [
    "#Plot a histogram for Size as well.\n",
    "plt.hist(inp3.Size)\n"
   ]
  },
  {
   "cell_type": "code",
   "execution_count": 45,
   "metadata": {},
   "outputs": [
    {
     "data": {
      "text/plain": [
       "count      8647.000000\n",
       "mean      21640.349723\n",
       "std       20664.698886\n",
       "min           8.500000\n",
       "25%        6000.000000\n",
       "50%       18000.000000\n",
       "75%       26000.000000\n",
       "max      100000.000000\n",
       "Name: Size, dtype: float64"
      ]
     },
     "execution_count": 45,
     "metadata": {},
     "output_type": "execute_result"
    },
    {
     "data": {
      "image/png": "[encoded data removed]",
      "text/plain": [
       "<Figure size 432x288 with 1 Axes>"
      ]
     },
     "metadata": {
      "needs_background": "light"
     },
     "output_type": "display_data"
    }
   ],
   "source": [
    "#Question - Create a boxplot for the Size column and report back the median value\n",
    "plt.boxplot(inp4.Size)\n",
    "inp4.Size.describe()"
   ]
  },
  {
   "cell_type": "markdown",
   "metadata": {},
   "source": [
    "### Session 2 - Data Visualisation with Seaborn"
   ]
  },
  {
   "cell_type": "markdown",
   "metadata": {},
   "source": [
    "Seaborn is Python library to create statistical graphs easily. It is built on top of matplotlib and closely integrated with pandas.\n",
    "\n",
    "_Functionalities of Seaborn_ :\n",
    "\n",
    "- Dataset oriented API\n",
    "- Analysing univariate and bivariate distributions\n",
    "- Automatic estimation and plotting of  linear regression models\n",
    "- Convenient views for complex datasets\n",
    "- Concise control over style\n",
    "- Colour palettes\n"
   ]
  },
  {
   "cell_type": "code",
   "execution_count": 46,
   "metadata": {},
   "outputs": [],
   "source": [
    "#import the necessary libraries\n",
    "\n",
    "import warnings\n",
    "warnings.filterwarnings(\"ignore\")"
   ]
  },
  {
   "cell_type": "markdown",
   "metadata": {},
   "source": [
    "#### Distribution Plots"
   ]
  },
  {
   "cell_type": "markdown",
   "metadata": {},
   "source": [
    "A distribution plot is pretty similar to the histogram functionality in matplotlib. Instead of a frequency plot, it plots an approximate probability density for that rating bucket. And the curve (or the __KDE__) that gets drawn over the distribution is the approximate probability density curve. \n",
    "\n",
    "The following is an example of a distribution plot. Notice that now instead of frequency on the left axis, it has the density for each bin or bucket."
   ]
  },
  {
   "cell_type": "markdown",
   "metadata": {},
   "source": [
    "![Distplot](images\\Distplot.png)"
   ]
  },
  {
   "cell_type": "markdown",
   "metadata": {},
   "source": [
    "You'll be using sns.distplot for plotting a distribution plot. Check out its official documentation: https://seaborn.pydata.org/generated/seaborn.distplot.html"
   ]
  },
  {
   "cell_type": "code",
   "execution_count": 47,
   "metadata": {},
   "outputs": [
    {
     "data": {
      "text/plain": [
       "<matplotlib.axes._subplots.AxesSubplot at 0x170a1e71c70>"
      ]
     },
     "execution_count": 47,
     "metadata": {},
     "output_type": "execute_result"
    },
    {
     "data": {
      "image/png": "[encoded data removed]",
      "text/plain": [
       "<Figure size 432x288 with 1 Axes>"
      ]
     },
     "metadata": {
      "needs_background": "light"
     },
     "output_type": "display_data"
    }
   ],
   "source": [
    "#Create a distribution plot for rating\n",
    "#inp1.Rating.plot.hist()\n",
    "import seaborn as sns\n",
    "sns.distplot(inp1.Rating, kde = False)"
   ]
  },
  {
   "cell_type": "code",
   "execution_count": 48,
   "metadata": {},
   "outputs": [
    {
     "data": {
      "text/plain": [
       "<matplotlib.axes._subplots.AxesSubplot at 0x170a1f5a370>"
      ]
     },
     "execution_count": 48,
     "metadata": {},
     "output_type": "execute_result"
    },
    {
     "data": {
      "image/png": "[encoded data removed]",
      "text/plain": [
       "<Figure size 432x288 with 1 Axes>"
      ]
     },
     "metadata": {
      "needs_background": "light"
     },
     "output_type": "display_data"
    }
   ],
   "source": [
    "#Change the number of bins\n",
    "#sns.distplot(inp1.Rating, bins=15)\n",
    "sns.distplot(inp1.Rating, vertical=True)"
   ]
  },
  {
   "cell_type": "code",
   "execution_count": 49,
   "metadata": {},
   "outputs": [
    {
     "data": {
      "text/plain": [
       "<matplotlib.axes._subplots.AxesSubplot at 0x170a1fd8a00>"
      ]
     },
     "execution_count": 49,
     "metadata": {},
     "output_type": "execute_result"
    },
    {
     "data": {
      "image/png": "[encoded data removed]",
      "text/plain": [
       "<Figure size 432x288 with 1 Axes>"
      ]
     },
     "metadata": {
      "needs_background": "light"
     },
     "output_type": "display_data"
    }
   ],
   "source": [
    "#Change the colour of bins to green\n",
    "sns.distplot(inp1.Rating, bins=20, color=\"g\")"
   ]
  },
  {
   "cell_type": "code",
   "execution_count": 50,
   "metadata": {},
   "outputs": [
    {
     "data": {
      "text/plain": [
       "Text(0.5, 1.0, 'My disrtibutions')"
      ]
     },
     "execution_count": 50,
     "metadata": {},
     "output_type": "execute_result"
    },
    {
     "data": {
      "image/png": "[encoded data removed]",
      "text/plain": [
       "<Figure size 432x288 with 1 Axes>"
      ]
     },
     "metadata": {
      "needs_background": "light"
     },
     "output_type": "display_data"
    }
   ],
   "source": [
    "#Apply matplotlib functionalities\n",
    "sns.distplot(inp1.Rating, bins=20, color=\"g\")\n",
    "plt.title(\"My disrtibutions\", fontsize=20)\n"
   ]
  },
  {
   "cell_type": "markdown",
   "metadata": {},
   "source": [
    "-  Check out the official documentation:https://seaborn.pydata.org/generated/seaborn.set_style.html"
   ]
  },
  {
   "cell_type": "code",
   "execution_count": 48,
   "metadata": {},
   "outputs": [
    {
     "data": {
      "text/plain": [
       "Text(0.5, 1.0, 'My distributions')"
      ]
     },
     "execution_count": 48,
     "metadata": {},
     "output_type": "execute_result"
    },
    {
     "data": {
      "image/png": "[encoded data removed]",
      "text/plain": [
       "<Figure size 432x288 with 1 Axes>"
      ]
     },
     "metadata": {},
     "output_type": "display_data"
    }
   ],
   "source": [
    "#Check all the styling options\n",
    "#?sns.set_style\n",
    "#sns.set_style(\"dark\")\n",
    "sns.set_style(\"ticks\")\n",
    "sns.distplot(inp1.Rating, bins=20, color=\"g\")\n",
    "plt.title(\"My distributions\", fontsize=20)\n",
    "\n"
   ]
  },
  {
   "cell_type": "code",
   "execution_count": 49,
   "metadata": {},
   "outputs": [
    {
     "data": {
      "text/plain": [
       "<matplotlib.axes._subplots.AxesSubplot at 0x1d05ef61250>"
      ]
     },
     "execution_count": 49,
     "metadata": {},
     "output_type": "execute_result"
    },
    {
     "data": {
      "image/png": "[encoded data removed]",
      "text/plain": [
       "<Figure size 432x288 with 1 Axes>"
      ]
     },
     "metadata": {},
     "output_type": "display_data"
    }
   ],
   "source": [
    "#Change the number of bins to 20\n",
    "#plt.style.available\n",
    "#plt.style.use(\"tableau-colorblind10\")\n",
    "#plt.style.use(\"ggplot\")\n",
    "plt.style.use(\"dark_background\")\n",
    "sns.distplot(inp1.Rating, bins=20)"
   ]
  },
  {
   "cell_type": "markdown",
   "metadata": {},
   "source": [
    "#### Styling Options\n",
    "\n",
    "One of the biggest advantages of using Seaborn is that you can retain its aesthetic properties and also the Matplotlib functionalities to perform additional customisations. Before we continue with our case study analysis, let’s study some styling options that are available in Seaborn."
   ]
  },
  {
   "cell_type": "markdown",
   "metadata": {},
   "source": [
    "#### Pie-Chart and Bar Chart"
   ]
  },
  {
   "cell_type": "markdown",
   "metadata": {},
   "source": [
    "For analysing how a numeric variable changes across several categories of a categorical variable you utilise either a pie chart or a box plot"
   ]
  },
  {
   "cell_type": "markdown",
   "metadata": {},
   "source": [
    "For example, if you want to visualise the responses of a marketing campaign, you can use the following views:"
   ]
  },
  {
   "cell_type": "markdown",
   "metadata": {},
   "source": [
    "![PieChart](images\\pie.png)"
   ]
  },
  {
   "cell_type": "markdown",
   "metadata": {},
   "source": [
    "![barChart](images\\bar.png)"
   ]
  },
  {
   "cell_type": "markdown",
   "metadata": {},
   "source": [
    "- You'll be using the pandas method of plotting both a pie chart and a bar chart. Check out their official documentations:\n",
    "   - https://pandas.pydata.org/pandas-docs/stable/reference/api/pandas.DataFrame.plot.bar.html\n",
    "   - https://pandas.pydata.org/pandas-docs/stable/reference/api/pandas.DataFrame.plot.pie.html"
   ]
  },
  {
   "cell_type": "code",
   "execution_count": 51,
   "metadata": {},
   "outputs": [
    {
     "data": {
      "text/plain": [
       "Everyone           7420\n",
       "Teen               1084\n",
       "Mature 17+          461\n",
       "Everyone 10+        397\n",
       "Adults only 18+       3\n",
       "Unrated               1\n",
       "Name: Content Rating, dtype: int64"
      ]
     },
     "execution_count": 51,
     "metadata": {},
     "output_type": "execute_result"
    }
   ],
   "source": [
    "#Analyse the Content Rating column\n",
    "inp1['Content Rating'].value_counts()"
   ]
  },
  {
   "cell_type": "code",
   "execution_count": 52,
   "metadata": {},
   "outputs": [],
   "source": [
    "#Remove the rows with values which are less represented \n",
    "inp1 = inp1[~inp1['Content Rating'].isin([\"Adults only 18+\", \"Unrated\"])]"
   ]
  },
  {
   "cell_type": "code",
   "execution_count": 53,
   "metadata": {},
   "outputs": [],
   "source": [
    "#Reset the index\n",
    "inp1.shape\n",
    "inp1.reset_index(inplace=True, drop=True)"
   ]
  },
  {
   "cell_type": "code",
   "execution_count": 54,
   "metadata": {},
   "outputs": [
    {
     "name": "stdout",
     "output_type": "stream",
     "text": [
      "<class 'pandas.core.frame.DataFrame'>\n",
      "RangeIndex: 9362 entries, 0 to 9361\n",
      "Data columns (total 13 columns):\n",
      " #   Column          Non-Null Count  Dtype  \n",
      "---  ------          --------------  -----  \n",
      " 0   App             9362 non-null   object \n",
      " 1   Category        9362 non-null   object \n",
      " 2   Rating          9362 non-null   float64\n",
      " 3   Reviews         9362 non-null   int32  \n",
      " 4   Size            9362 non-null   float64\n",
      " 5   Installs        9362 non-null   object \n",
      " 6   Type            9362 non-null   object \n",
      " 7   Price           9362 non-null   float64\n",
      " 8   Content Rating  9362 non-null   object \n",
      " 9   Genres          9362 non-null   object \n",
      " 10  Last Updated    9362 non-null   object \n",
      " 11  Current Ver     9362 non-null   object \n",
      " 12  Android Ver     9362 non-null   object \n",
      "dtypes: float64(3), int32(1), object(9)\n",
      "memory usage: 914.4+ KB\n"
     ]
    },
    {
     "data": {
      "text/plain": [
       "Everyone        7420\n",
       "Teen            1084\n",
       "Mature 17+       461\n",
       "Everyone 10+     397\n",
       "Name: Content Rating, dtype: int64"
      ]
     },
     "execution_count": 54,
     "metadata": {},
     "output_type": "execute_result"
    }
   ],
   "source": [
    "#Check the apps belonging to different categories of Content Rating \n",
    "inp1.info()\n",
    "inp1['Content Rating'].value_counts()"
   ]
  },
  {
   "cell_type": "code",
   "execution_count": 55,
   "metadata": {},
   "outputs": [
    {
     "data": {
      "text/plain": [
       "<matplotlib.axes._subplots.AxesSubplot at 0x170a20e37c0>"
      ]
     },
     "execution_count": 55,
     "metadata": {},
     "output_type": "execute_result"
    },
    {
     "data": {
      "image/png": "[encoded data removed]",
      "text/plain": [
       "<Figure size 432x288 with 1 Axes>"
      ]
     },
     "metadata": {
      "needs_background": "light"
     },
     "output_type": "display_data"
    }
   ],
   "source": [
    "#Plot a pie chart\n",
    "#inp1['Content Rating'].value_counts().plot.pie()\n",
    "inp1['Content Rating'].value_counts().plot.bar()\n"
   ]
  },
  {
   "cell_type": "code",
   "execution_count": 56,
   "metadata": {},
   "outputs": [],
   "source": [
    "#Plot a bar chart\n"
   ]
  },
  {
   "cell_type": "code",
   "execution_count": 57,
   "metadata": {},
   "outputs": [
    {
     "data": {
      "text/plain": [
       "<matplotlib.axes._subplots.AxesSubplot at 0x170a2144ac0>"
      ]
     },
     "execution_count": 57,
     "metadata": {},
     "output_type": "execute_result"
    },
    {
     "data": {
      "image/png": "[encoded data removed]",
      "text/plain": [
       "<Figure size 432x288 with 1 Axes>"
      ]
     },
     "metadata": {
      "needs_background": "light"
     },
     "output_type": "display_data"
    }
   ],
   "source": [
    "#Question - Plot a bar plot for checking the 4th highest Android version type\n",
    "inp1['Android Ver'].value_counts().plot.bar()"
   ]
  },
  {
   "cell_type": "markdown",
   "metadata": {},
   "source": [
    "#### Scatter Plots"
   ]
  },
  {
   "cell_type": "markdown",
   "metadata": {},
   "source": [
    "Scatterplots are perhaps one of the most commonly used as well one of the most powerful visualisations you can use in the field of machine learning. They are pretty crucial in revealing relationships between the data points and you can generally deduce some sort of trends in the data with the help of a scatter plot. "
   ]
  },
  {
   "cell_type": "markdown",
   "metadata": {},
   "source": [
    "![Scatterplot](images\\scatter.png)"
   ]
  },
  {
   "cell_type": "markdown",
   "metadata": {},
   "source": [
    "- They're pretty useful in regression problems to check whether a linear trend exists in the data or not. For example, in the image below, creating a linear model in the first case makes far more sense since a clear straight line trend is visible."
   ]
  },
  {
   "cell_type": "markdown",
   "metadata": {},
   "source": [
    "![Scatterplot-Reg](images\\regression3.png)"
   ]
  },
  {
   "cell_type": "markdown",
   "metadata": {},
   "source": [
    "- Also, they help in observing __naturally occuring clusters__. In the following image, the marks of students in Maths and Biology has been plotted.You can clearly group the students to 4 clusters now. Cluster 1 are students who score very well in Biology but very poorly in Maths, Cluster 2 are students who score equally well in both the subjects and so on."
   ]
  },
  {
   "cell_type": "markdown",
   "metadata": {},
   "source": [
    "![Scatter-Clusters](images\\Clusters.png)"
   ]
  },
  {
   "cell_type": "markdown",
   "metadata": {},
   "source": [
    "**Note**: You'll be studying about both Regression and Clustering in greater detail in the machine learning modules"
   ]
  },
  {
   "cell_type": "markdown",
   "metadata": {},
   "source": [
    "You'll be using **sns.jointplot()** for creating a scatter plot. Check out its documentation:\n",
    "https://seaborn.pydata.org/generated/seaborn.jointplot.html"
   ]
  },
  {
   "cell_type": "code",
   "execution_count": 58,
   "metadata": {},
   "outputs": [],
   "source": [
    "###Size vs Rating\n",
    "\n",
    "##Plot a scatter-plot in the matplotlib way between Size and Rating\n"
   ]
  },
  {
   "cell_type": "code",
   "execution_count": 59,
   "metadata": {},
   "outputs": [
    {
     "data": {
      "text/plain": [
       "<seaborn.axisgrid.JointGrid at 0x170a221be20>"
      ]
     },
     "execution_count": 59,
     "metadata": {},
     "output_type": "execute_result"
    },
    {
     "data": {
      "image/png": "[encoded data removed]",
      "text/plain": [
       "<Figure size 432x432 with 3 Axes>"
      ]
     },
     "metadata": {
      "needs_background": "light"
     },
     "output_type": "display_data"
    }
   ],
   "source": [
    "### Plot the same thing now using a jointplot\n",
    "\n",
    "#sns.jointplot(inp1.Size, inp1.Rating, kind = 'kde',color = 'g')\n",
    "#sns.jointplot(inp1.Size, inp1.Rating, kind = 'kde',color = 'G')\n",
    "sns.jointplot(inp1.Size, inp1.Rating, kind = 'kde')\n"
   ]
  },
  {
   "cell_type": "code",
   "execution_count": 60,
   "metadata": {},
   "outputs": [
    {
     "data": {
      "image/png": "[encoded data removed]",
      "text/plain": [
       "<Figure size 432x432 with 3 Axes>"
      ]
     },
     "metadata": {},
     "output_type": "display_data"
    }
   ],
   "source": [
    "## Plot a jointplot for Price and Rating\n",
    "sns.set_style(\"white\")\n",
    "#?sns.jointplot\n",
    "sns.jointplot(inp1.Size, inp1.Rating)\n",
    "plt.show()\n"
   ]
  },
  {
   "cell_type": "markdown",
   "metadata": {},
   "source": [
    "**Reg Plots**\n",
    "\n",
    "- These are an extension to the jointplots, where a regression line is added to the view "
   ]
  },
  {
   "cell_type": "code",
   "execution_count": 61,
   "metadata": {},
   "outputs": [
    {
     "data": {
      "image/png": "[encoded data removed]",
      "text/plain": [
       "<Figure size 432x432 with 3 Axes>"
      ]
     },
     "metadata": {},
     "output_type": "display_data"
    }
   ],
   "source": [
    "##Plot a reg plot for Price and Rating and observe the trend\n",
    "sns.set_style(\"ticks\")\n",
    "sns.jointplot(inp1.Size, inp1.Rating, kind=\"reg\")\n",
    "plt.show()\n"
   ]
  },
  {
   "cell_type": "code",
   "execution_count": 62,
   "metadata": {},
   "outputs": [],
   "source": [
    "## Question - Plot a reg plot for Price and Rating again for only the paid apps.\n"
   ]
  },
  {
   "cell_type": "markdown",
   "metadata": {},
   "source": [
    "**Pair Plots**"
   ]
  },
  {
   "cell_type": "markdown",
   "metadata": {},
   "source": [
    " - When you have several numeric variables, making multiple scatter plots becomes rather tedious. Therefore, a pair plot visualisation is preferred where all the scatter plots are in a single view in the form of a matrix\n",
    " - For the non-diagonal views, it plots a **scatter plot** between 2 numeric variables\n",
    " - For the diagonal views, it plots a **histogram**"
   ]
  },
  {
   "cell_type": "markdown",
   "metadata": {},
   "source": [
    "Pair Plots help in identifying the trends between a target variable and the predictor variables pretty quickly. For example, say you want to predict how your company’s profits are affected by three different factors. In order to choose which you created a pair plot containing profits and the three different factors as the variables. Here are the scatterplots of profits vs the three variables that you obtained from the pair plot."
   ]
  },
  {
   "cell_type": "markdown",
   "metadata": {},
   "source": [
    "![Pairplots](images\\pairplots2.png)"
   ]
  },
  {
   "cell_type": "markdown",
   "metadata": {},
   "source": [
    "It is clearly visible that the left-most factor is the most prominently related to the profits, given how linearly scattered the points are and how randomly scattered the rest two factors are."
   ]
  },
  {
   "cell_type": "markdown",
   "metadata": {},
   "source": [
    "You'll be using **sns.pairplot()** for this visualisation. Check out its official documentation:https://seaborn.pydata.org/generated/seaborn.pairplot.html"
   ]
  },
  {
   "cell_type": "code",
   "execution_count": 63,
   "metadata": {},
   "outputs": [
    {
     "data": {
      "image/png": "[encoded data removed]",
      "text/plain": [
       "<Figure size 720x720 with 20 Axes>"
      ]
     },
     "metadata": {},
     "output_type": "display_data"
    }
   ],
   "source": [
    "## Create a pair plot for Reviews, Size, Price and Rating\n",
    "\n",
    "sns.pairplot(inp1[['Reviews', 'Size', 'Price', 'Rating']])\n",
    "plt.show()"
   ]
  },
  {
   "cell_type": "markdown",
   "metadata": {},
   "source": [
    "**Bar Charts Revisited**"
   ]
  },
  {
   "cell_type": "markdown",
   "metadata": {},
   "source": [
    "- Here, you'll be using bar charts once again, this time using the **sns.barplot()** function. Check out its official documentation:https://seaborn.pydata.org/generated/seaborn.barplot.html\n",
    "- You can modify the **estimator** parameter to change the aggregation value of your barplot"
   ]
  },
  {
   "cell_type": "code",
   "execution_count": 64,
   "metadata": {},
   "outputs": [
    {
     "data": {
      "text/plain": [
       "<matplotlib.axes._subplots.AxesSubplot at 0x170a36c3160>"
      ]
     },
     "execution_count": 64,
     "metadata": {},
     "output_type": "execute_result"
    },
    {
     "data": {
      "image/png": "[encoded data removed]",
      "text/plain": [
       "<Figure size 432x288 with 1 Axes>"
      ]
     },
     "metadata": {},
     "output_type": "display_data"
    }
   ],
   "source": [
    "##Plot a bar plot of Content Rating vs Average Rating \n",
    "inp1.groupby(['Content Rating'])['Rating'].mean().plot.bar()\n"
   ]
  },
  {
   "cell_type": "code",
   "execution_count": 65,
   "metadata": {},
   "outputs": [
    {
     "data": {
      "image/png": "[encoded data removed]",
      "text/plain": [
       "<Figure size 432x288 with 1 Axes>"
      ]
     },
     "metadata": {},
     "output_type": "display_data"
    }
   ],
   "source": [
    "##Plot the bar plot again with Median Rating\n",
    "sns.barplot(data=inp1, x=\"Content Rating\", y=\"Rating\", estimator=np.median)\n",
    "plt.show()\n"
   ]
  },
  {
   "cell_type": "code",
   "execution_count": 66,
   "metadata": {},
   "outputs": [
    {
     "data": {
      "image/png": "[encoded data removed]",
      "text/plain": [
       "<Figure size 432x288 with 1 Axes>"
      ]
     },
     "metadata": {},
     "output_type": "display_data"
    }
   ],
   "source": [
    "##Plot the above bar plot using the estimator parameter\n",
    "sns.barplot(data=inp1, x=\"Content Rating\", y=\"Rating\", estimator=np.median)\n",
    "plt.show()\n",
    "\n"
   ]
  },
  {
   "cell_type": "code",
   "execution_count": 67,
   "metadata": {},
   "outputs": [
    {
     "data": {
      "image/png": "[encoded data removed]",
      "text/plain": [
       "<Figure size 432x288 with 1 Axes>"
      ]
     },
     "metadata": {},
     "output_type": "display_data"
    }
   ],
   "source": [
    "##Plot the bar plot with only the 5th percentile of Ratings\n",
    "sns.barplot(data=inp1, x=\"Content Rating\", y=\"Rating\", estimator=lambda x: np.quantile(x, 0.02))\n",
    "plt.show()\n"
   ]
  },
  {
   "cell_type": "code",
   "execution_count": 68,
   "metadata": {},
   "outputs": [
    {
     "data": {
      "image/png": "[encoded data removed]",
      "text/plain": [
       "<Figure size 432x288 with 1 Axes>"
      ]
     },
     "metadata": {},
     "output_type": "display_data"
    }
   ],
   "source": [
    "##Question - Plot the bar plot with the minimum Rating\n",
    "sns.barplot(data=inp1, x=\"Content Rating\", y=\"Rating\", estimator=np.min)\n",
    "plt.show()\n"
   ]
  },
  {
   "cell_type": "markdown",
   "metadata": {},
   "source": [
    "__Box Plots Revisited__\n",
    "\n",
    "- Apart from outlier analysis, box plots are great at comparing the spread and analysing a numerical variable across several categories\n",
    "- Here you'll be using **sns.boxplot()** function to plot the visualisation. Check out its documentation: https://seaborn.pydata.org/generated/seaborn.boxplot.html\n",
    "\n",
    "\n"
   ]
  },
  {
   "cell_type": "code",
   "execution_count": 69,
   "metadata": {},
   "outputs": [
    {
     "data": {
      "image/png": "[encoded data removed]",
      "text/plain": [
       "<Figure size 648x504 with 1 Axes>"
      ]
     },
     "metadata": {},
     "output_type": "display_data"
    }
   ],
   "source": [
    "##Plot a box plot of Rating vs Content Rating\n",
    "plt.figure(figsize=[9,7])\n",
    "sns.boxplot(inp1['Content Rating'], inp1.Rating)\n",
    "plt.show()"
   ]
  },
  {
   "cell_type": "code",
   "execution_count": 70,
   "metadata": {},
   "outputs": [
    {
     "data": {
      "image/png": "[encoded data removed]",
      "text/plain": [
       "<Figure size 648x504 with 1 Axes>"
      ]
     },
     "metadata": {},
     "output_type": "display_data"
    }
   ],
   "source": [
    "##Question - Plot a box plot for the Rating column only\n",
    "plt.figure(figsize=[9,7])\n",
    "sns.boxplot(inp1.Rating)\n",
    "plt.show()"
   ]
  },
  {
   "cell_type": "code",
   "execution_count": 71,
   "metadata": {},
   "outputs": [
    {
     "data": {
      "image/png": "[encoded data removed]",
      "text/plain": [
       "<Figure size 648x504 with 1 Axes>"
      ]
     },
     "metadata": {},
     "output_type": "display_data"
    }
   ],
   "source": [
    "##Question - Plot a box plot of Ratings across the 4 most popular Genres\n",
    "plt.figure(figsize=[9,7])\n",
    "inp1.head()\n",
    "inp1.Genres.value_counts()\n",
    "#['Tools', 'Entertainment', 'Education', 'Action']\n",
    "genrs = [\"Tools\", \"Entertainment\", \"Education\", \"Action\"]\n",
    "inpG = inp1[inp1['Genres'].isin(genrs)]\n",
    "\n",
    "sns.boxplot(inpG.Genres, inp1.Rating)\n",
    "plt.show()"
   ]
  },
  {
   "cell_type": "markdown",
   "metadata": {},
   "source": [
    "#### Heat Maps"
   ]
  },
  {
   "cell_type": "markdown",
   "metadata": {},
   "source": [
    "Heat mapsutilise the concept of using colours and colour intensities to visualise a range of values. You must have seen heat maps in cricket or football broadcasts on television to denote the players’ areas of strength and weakness."
   ]
  },
  {
   "cell_type": "markdown",
   "metadata": {},
   "source": [
    "![HeatMap](images\\heatmap1.png)"
   ]
  },
  {
   "cell_type": "markdown",
   "metadata": {},
   "source": [
    "- In python, you can create a heat map whenever you have a rectangular grid or table of numbers analysing any two features"
   ]
  },
  {
   "cell_type": "markdown",
   "metadata": {},
   "source": [
    "![heatmap2](images\\heatmap2.png)"
   ]
  },
  {
   "cell_type": "markdown",
   "metadata": {},
   "source": [
    "- You'll be using **sns.heatmap()** to plot the visualisation. Checkout its official documentation :https://seaborn.pydata.org/generated/seaborn.heatmap.html"
   ]
  },
  {
   "cell_type": "code",
   "execution_count": 72,
   "metadata": {},
   "outputs": [
    {
     "data": {
      "text/html": [
       "<div>\n",
       "<style scoped>\n",
       "    .dataframe tbody tr th:only-of-type {\n",
       "        vertical-align: middle;\n",
       "    }\n",
       "\n",
       "    .dataframe tbody tr th {\n",
       "        vertical-align: top;\n",
       "    }\n",
       "\n",
       "    .dataframe thead th {\n",
       "        text-align: right;\n",
       "    }\n",
       "</style>\n",
       "<table border=\"1\" class=\"dataframe\">\n",
       "  <thead>\n",
       "    <tr style=\"text-align: right;\">\n",
       "      <th></th>\n",
       "      <th>App</th>\n",
       "      <th>Category</th>\n",
       "      <th>Rating</th>\n",
       "      <th>Reviews</th>\n",
       "      <th>Size</th>\n",
       "      <th>Installs</th>\n",
       "      <th>Type</th>\n",
       "      <th>Price</th>\n",
       "      <th>Content Rating</th>\n",
       "      <th>Genres</th>\n",
       "      <th>Last Updated</th>\n",
       "      <th>Current Ver</th>\n",
       "      <th>Android Ver</th>\n",
       "      <th>Size_Bucket</th>\n",
       "    </tr>\n",
       "  </thead>\n",
       "  <tbody>\n",
       "    <tr>\n",
       "      <th>0</th>\n",
       "      <td>Photo Editor &amp; Candy Camera &amp; Grid &amp; ScrapBook</td>\n",
       "      <td>ART_AND_DESIGN</td>\n",
       "      <td>4.1</td>\n",
       "      <td>159</td>\n",
       "      <td>19000.0</td>\n",
       "      <td>10,000+</td>\n",
       "      <td>Free</td>\n",
       "      <td>0.0</td>\n",
       "      <td>Everyone</td>\n",
       "      <td>Art &amp; Design</td>\n",
       "      <td>January 7, 2018</td>\n",
       "      <td>1.0.0</td>\n",
       "      <td>4.0.3 and up</td>\n",
       "      <td>M</td>\n",
       "    </tr>\n",
       "    <tr>\n",
       "      <th>1</th>\n",
       "      <td>Coloring book moana</td>\n",
       "      <td>ART_AND_DESIGN</td>\n",
       "      <td>3.9</td>\n",
       "      <td>967</td>\n",
       "      <td>14000.0</td>\n",
       "      <td>500,000+</td>\n",
       "      <td>Free</td>\n",
       "      <td>0.0</td>\n",
       "      <td>Everyone</td>\n",
       "      <td>Art &amp; Design;Pretend Play</td>\n",
       "      <td>January 15, 2018</td>\n",
       "      <td>2.0.0</td>\n",
       "      <td>4.0.3 and up</td>\n",
       "      <td>L</td>\n",
       "    </tr>\n",
       "    <tr>\n",
       "      <th>2</th>\n",
       "      <td>U Launcher Lite – FREE Live Cool Themes, Hide ...</td>\n",
       "      <td>ART_AND_DESIGN</td>\n",
       "      <td>4.7</td>\n",
       "      <td>87510</td>\n",
       "      <td>8700.0</td>\n",
       "      <td>5,000,000+</td>\n",
       "      <td>Free</td>\n",
       "      <td>0.0</td>\n",
       "      <td>Everyone</td>\n",
       "      <td>Art &amp; Design</td>\n",
       "      <td>August 1, 2018</td>\n",
       "      <td>1.2.4</td>\n",
       "      <td>4.0.3 and up</td>\n",
       "      <td>L</td>\n",
       "    </tr>\n",
       "    <tr>\n",
       "      <th>3</th>\n",
       "      <td>Sketch - Draw &amp; Paint</td>\n",
       "      <td>ART_AND_DESIGN</td>\n",
       "      <td>4.5</td>\n",
       "      <td>215644</td>\n",
       "      <td>25000.0</td>\n",
       "      <td>50,000,000+</td>\n",
       "      <td>Free</td>\n",
       "      <td>0.0</td>\n",
       "      <td>Teen</td>\n",
       "      <td>Art &amp; Design</td>\n",
       "      <td>June 8, 2018</td>\n",
       "      <td>Varies with device</td>\n",
       "      <td>4.2 and up</td>\n",
       "      <td>H</td>\n",
       "    </tr>\n",
       "    <tr>\n",
       "      <th>4</th>\n",
       "      <td>Pixel Draw - Number Art Coloring Book</td>\n",
       "      <td>ART_AND_DESIGN</td>\n",
       "      <td>4.3</td>\n",
       "      <td>967</td>\n",
       "      <td>2800.0</td>\n",
       "      <td>100,000+</td>\n",
       "      <td>Free</td>\n",
       "      <td>0.0</td>\n",
       "      <td>Everyone</td>\n",
       "      <td>Art &amp; Design;Creativity</td>\n",
       "      <td>June 20, 2018</td>\n",
       "      <td>1.1</td>\n",
       "      <td>4.4 and up</td>\n",
       "      <td>VL</td>\n",
       "    </tr>\n",
       "  </tbody>\n",
       "</table>\n",
       "</div>"
      ],
      "text/plain": [
       "                                                 App        Category  Rating  \\\n",
       "0     Photo Editor & Candy Camera & Grid & ScrapBook  ART_AND_DESIGN     4.1   \n",
       "1                                Coloring book moana  ART_AND_DESIGN     3.9   \n",
       "2  U Launcher Lite – FREE Live Cool Themes, Hide ...  ART_AND_DESIGN     4.7   \n",
       "3                              Sketch - Draw & Paint  ART_AND_DESIGN     4.5   \n",
       "4              Pixel Draw - Number Art Coloring Book  ART_AND_DESIGN     4.3   \n",
       "\n",
       "   Reviews     Size     Installs  Type  Price Content Rating  \\\n",
       "0      159  19000.0      10,000+  Free    0.0       Everyone   \n",
       "1      967  14000.0     500,000+  Free    0.0       Everyone   \n",
       "2    87510   8700.0   5,000,000+  Free    0.0       Everyone   \n",
       "3   215644  25000.0  50,000,000+  Free    0.0           Teen   \n",
       "4      967   2800.0     100,000+  Free    0.0       Everyone   \n",
       "\n",
       "                      Genres      Last Updated         Current Ver  \\\n",
       "0               Art & Design   January 7, 2018               1.0.0   \n",
       "1  Art & Design;Pretend Play  January 15, 2018               2.0.0   \n",
       "2               Art & Design    August 1, 2018               1.2.4   \n",
       "3               Art & Design      June 8, 2018  Varies with device   \n",
       "4    Art & Design;Creativity     June 20, 2018                 1.1   \n",
       "\n",
       "    Android Ver Size_Bucket  \n",
       "0  4.0.3 and up           M  \n",
       "1  4.0.3 and up           L  \n",
       "2  4.0.3 and up           L  \n",
       "3    4.2 and up           H  \n",
       "4    4.4 and up          VL  "
      ]
     },
     "execution_count": 72,
     "metadata": {},
     "output_type": "execute_result"
    }
   ],
   "source": [
    "##Ratings vs Size vs Content Rating\n",
    "\n",
    "##Prepare buckets for the Size column using pd.qcut\n",
    "\n",
    "?pd.cut\n",
    "inp1['Size_Bucket'] = pd.qcut(inp1.Size, [0, 0.2, 0.4, 0.6, 0.8, 1], [\"VL\", \"L\", \"M\", \"H\", \"VH\"])\n",
    "inp1.head()"
   ]
  },
  {
   "cell_type": "code",
   "execution_count": 73,
   "metadata": {},
   "outputs": [
    {
     "data": {
      "text/html": [
       "<div>\n",
       "<style scoped>\n",
       "    .dataframe tbody tr th:only-of-type {\n",
       "        vertical-align: middle;\n",
       "    }\n",
       "\n",
       "    .dataframe tbody tr th {\n",
       "        vertical-align: top;\n",
       "    }\n",
       "\n",
       "    .dataframe thead th {\n",
       "        text-align: right;\n",
       "    }\n",
       "</style>\n",
       "<table border=\"1\" class=\"dataframe\">\n",
       "  <thead>\n",
       "    <tr style=\"text-align: right;\">\n",
       "      <th>Size_Bucket</th>\n",
       "      <th>VL</th>\n",
       "      <th>L</th>\n",
       "      <th>M</th>\n",
       "      <th>H</th>\n",
       "      <th>VH</th>\n",
       "    </tr>\n",
       "    <tr>\n",
       "      <th>Content Rating</th>\n",
       "      <th></th>\n",
       "      <th></th>\n",
       "      <th></th>\n",
       "      <th></th>\n",
       "      <th></th>\n",
       "    </tr>\n",
       "  </thead>\n",
       "  <tbody>\n",
       "    <tr>\n",
       "      <th>Everyone</th>\n",
       "      <td>4.2</td>\n",
       "      <td>4.3</td>\n",
       "      <td>4.3</td>\n",
       "      <td>4.30</td>\n",
       "      <td>4.3</td>\n",
       "    </tr>\n",
       "    <tr>\n",
       "      <th>Everyone 10+</th>\n",
       "      <td>4.1</td>\n",
       "      <td>4.3</td>\n",
       "      <td>4.3</td>\n",
       "      <td>4.30</td>\n",
       "      <td>4.4</td>\n",
       "    </tr>\n",
       "    <tr>\n",
       "      <th>Mature 17+</th>\n",
       "      <td>4.3</td>\n",
       "      <td>4.2</td>\n",
       "      <td>4.2</td>\n",
       "      <td>4.20</td>\n",
       "      <td>4.2</td>\n",
       "    </tr>\n",
       "    <tr>\n",
       "      <th>Teen</th>\n",
       "      <td>4.3</td>\n",
       "      <td>4.3</td>\n",
       "      <td>4.3</td>\n",
       "      <td>4.25</td>\n",
       "      <td>4.3</td>\n",
       "    </tr>\n",
       "  </tbody>\n",
       "</table>\n",
       "</div>"
      ],
      "text/plain": [
       "Size_Bucket      VL    L    M     H   VH\n",
       "Content Rating                          \n",
       "Everyone        4.2  4.3  4.3  4.30  4.3\n",
       "Everyone 10+    4.1  4.3  4.3  4.30  4.4\n",
       "Mature 17+      4.3  4.2  4.2  4.20  4.2\n",
       "Teen            4.3  4.3  4.3  4.25  4.3"
      ]
     },
     "execution_count": 73,
     "metadata": {},
     "output_type": "execute_result"
    }
   ],
   "source": [
    "##Create a pivot table for Size_buckets and Content Rating with values set to Rating\n",
    "\n",
    "#pd.pivot_table(data=inp1, index=\"Content Rating\", columns=\"Size_Bucket\", values=\"Rating\") --> Mean\n",
    "pd.pivot_table(data=inp1, index=\"Content Rating\", columns=\"Size_Bucket\", values=\"Rating\", aggfunc=np.median)\n"
   ]
  },
  {
   "cell_type": "code",
   "execution_count": 74,
   "metadata": {},
   "outputs": [],
   "source": [
    "##Change the aggregation to median\n"
   ]
  },
  {
   "cell_type": "code",
   "execution_count": 75,
   "metadata": {},
   "outputs": [
    {
     "data": {
      "text/html": [
       "<div>\n",
       "<style scoped>\n",
       "    .dataframe tbody tr th:only-of-type {\n",
       "        vertical-align: middle;\n",
       "    }\n",
       "\n",
       "    .dataframe tbody tr th {\n",
       "        vertical-align: top;\n",
       "    }\n",
       "\n",
       "    .dataframe thead th {\n",
       "        text-align: right;\n",
       "    }\n",
       "</style>\n",
       "<table border=\"1\" class=\"dataframe\">\n",
       "  <thead>\n",
       "    <tr style=\"text-align: right;\">\n",
       "      <th>Size_Bucket</th>\n",
       "      <th>VL</th>\n",
       "      <th>L</th>\n",
       "      <th>M</th>\n",
       "      <th>H</th>\n",
       "      <th>VH</th>\n",
       "    </tr>\n",
       "    <tr>\n",
       "      <th>Content Rating</th>\n",
       "      <th></th>\n",
       "      <th></th>\n",
       "      <th></th>\n",
       "      <th></th>\n",
       "      <th></th>\n",
       "    </tr>\n",
       "  </thead>\n",
       "  <tbody>\n",
       "    <tr>\n",
       "      <th>Everyone</th>\n",
       "      <td>3.80</td>\n",
       "      <td>3.80</td>\n",
       "      <td>4.1</td>\n",
       "      <td>3.8</td>\n",
       "      <td>4.00</td>\n",
       "    </tr>\n",
       "    <tr>\n",
       "      <th>Everyone 10+</th>\n",
       "      <td>3.86</td>\n",
       "      <td>4.06</td>\n",
       "      <td>4.1</td>\n",
       "      <td>4.0</td>\n",
       "      <td>4.02</td>\n",
       "    </tr>\n",
       "    <tr>\n",
       "      <th>Mature 17+</th>\n",
       "      <td>3.42</td>\n",
       "      <td>3.60</td>\n",
       "      <td>4.0</td>\n",
       "      <td>3.9</td>\n",
       "      <td>4.00</td>\n",
       "    </tr>\n",
       "    <tr>\n",
       "      <th>Teen</th>\n",
       "      <td>3.80</td>\n",
       "      <td>3.90</td>\n",
       "      <td>4.0</td>\n",
       "      <td>4.0</td>\n",
       "      <td>4.00</td>\n",
       "    </tr>\n",
       "  </tbody>\n",
       "</table>\n",
       "</div>"
      ],
      "text/plain": [
       "Size_Bucket       VL     L    M    H    VH\n",
       "Content Rating                            \n",
       "Everyone        3.80  3.80  4.1  3.8  4.00\n",
       "Everyone 10+    3.86  4.06  4.1  4.0  4.02\n",
       "Mature 17+      3.42  3.60  4.0  3.9  4.00\n",
       "Teen            3.80  3.90  4.0  4.0  4.00"
      ]
     },
     "execution_count": 75,
     "metadata": {},
     "output_type": "execute_result"
    }
   ],
   "source": [
    "##Change the aggregation to 20th percentile\n",
    "pd.pivot_table(data=inp1, index=\"Content Rating\", columns=\"Size_Bucket\", values=\"Rating\", aggfunc=lambda x: np.quantile(x, 0.2))"
   ]
  },
  {
   "cell_type": "code",
   "execution_count": 76,
   "metadata": {},
   "outputs": [],
   "source": [
    "##Store the pivot table in a separate variable\n",
    "res = pd.pivot_table(data=inp1, index=\"Content Rating\", columns=\"Size_Bucket\", values=\"Rating\", aggfunc=lambda x: np.quantile(x, 0.2))\n"
   ]
  },
  {
   "cell_type": "code",
   "execution_count": 77,
   "metadata": {},
   "outputs": [
    {
     "data": {
      "image/png": "[encoded data removed]",
      "text/plain": [
       "<Figure size 432x288 with 2 Axes>"
      ]
     },
     "metadata": {},
     "output_type": "display_data"
    }
   ],
   "source": [
    "##Plot a heat map\n",
    "sns.heatmap(res)\n",
    "plt.show()"
   ]
  },
  {
   "cell_type": "code",
   "execution_count": 78,
   "metadata": {},
   "outputs": [
    {
     "data": {
      "text/plain": [
       "<matplotlib.axes._subplots.AxesSubplot at 0x170a41b43a0>"
      ]
     },
     "execution_count": 78,
     "metadata": {},
     "output_type": "execute_result"
    },
    {
     "data": {
      "image/png": "[encoded data removed]",
      "text/plain": [
       "<Figure size 432x288 with 2 Axes>"
      ]
     },
     "metadata": {},
     "output_type": "display_data"
    }
   ],
   "source": [
    "##Apply customisations\n",
    "sns.heatmap(res, cmap=\"Greens\", annot=True)\n",
    "#plt.show()"
   ]
  },
  {
   "cell_type": "code",
   "execution_count": 79,
   "metadata": {},
   "outputs": [],
   "source": [
    "##Question - Replace Content Rating with Review_buckets in the above heat map\n",
    "##Keep the aggregation at minimum value for Rating\n"
   ]
  },
  {
   "cell_type": "markdown",
   "metadata": {},
   "source": [
    "### Session 3: Additional Visualisations"
   ]
  },
  {
   "cell_type": "markdown",
   "metadata": {},
   "source": [
    "#### Line Plots"
   ]
  },
  {
   "cell_type": "markdown",
   "metadata": {},
   "source": [
    "- A line plot tries to observe trends using time dependent data.\n",
    "-  For this part, you'll be using **pd.to_datetime()** function. Check out its documentation:https://pandas.pydata.org/pandas-docs/stable/reference/api/pandas.to_datetime.html\n"
   ]
  },
  {
   "cell_type": "code",
   "execution_count": 80,
   "metadata": {},
   "outputs": [],
   "source": [
    "## Extract the month from the Last Updated Date\n",
    "\n",
    "inp4['Last Updated'].head()\n",
    "\n",
    "inp4['updated_month'] = pd.to_datetime(inp4['Last Updated']).dt.month\n"
   ]
  },
  {
   "cell_type": "code",
   "execution_count": 81,
   "metadata": {},
   "outputs": [
    {
     "data": {
      "text/plain": [
       "updated_month\n",
       "1     4.143842\n",
       "2     4.092584\n",
       "3     4.111255\n",
       "4     4.148017\n",
       "5     4.153308\n",
       "6     4.173396\n",
       "7     4.224113\n",
       "8     4.269493\n",
       "9     4.041406\n",
       "10    4.009494\n",
       "11    4.102685\n",
       "12    4.065350\n",
       "Name: Rating, dtype: float64"
      ]
     },
     "execution_count": 81,
     "metadata": {},
     "output_type": "execute_result"
    }
   ],
   "source": [
    "## Find the average Rating across all the months\n",
    "inp4.groupby(['updated_month'])['Rating'].mean()\n"
   ]
  },
  {
   "cell_type": "code",
   "execution_count": 82,
   "metadata": {},
   "outputs": [
    {
     "data": {
      "text/plain": [
       "<matplotlib.axes._subplots.AxesSubplot at 0x170a522eeb0>"
      ]
     },
     "execution_count": 82,
     "metadata": {},
     "output_type": "execute_result"
    },
    {
     "data": {
      "image/png": "[encoded data removed]",
      "text/plain": [
       "<Figure size 432x288 with 1 Axes>"
      ]
     },
     "metadata": {},
     "output_type": "display_data"
    }
   ],
   "source": [
    "## Plot a line graph\n",
    "inp4.groupby(['updated_month'])['Rating'].mean().plot()\n"
   ]
  },
  {
   "cell_type": "markdown",
   "metadata": {},
   "source": [
    "#### Stacked Bar Charts"
   ]
  },
  {
   "cell_type": "markdown",
   "metadata": {},
   "source": [
    "- A stacked bar chart breaks down each bar of the bar chart on the basis of a different category\n",
    "- For example, for the Campaign Response bar chart you saw earlier, the stacked bar chart is also showing the Gender bifurcation as well"
   ]
  },
  {
   "cell_type": "markdown",
   "metadata": {},
   "source": [
    "![Stacked](images\\stacked.png)"
   ]
  },
  {
   "cell_type": "code",
   "execution_count": 83,
   "metadata": {},
   "outputs": [
    {
     "data": {
      "text/html": [
       "<div>\n",
       "<style scoped>\n",
       "    .dataframe tbody tr th:only-of-type {\n",
       "        vertical-align: middle;\n",
       "    }\n",
       "\n",
       "    .dataframe tbody tr th {\n",
       "        vertical-align: top;\n",
       "    }\n",
       "\n",
       "    .dataframe thead th {\n",
       "        text-align: right;\n",
       "    }\n",
       "</style>\n",
       "<table border=\"1\" class=\"dataframe\">\n",
       "  <thead>\n",
       "    <tr style=\"text-align: right;\">\n",
       "      <th>Content Rating</th>\n",
       "      <th>Adults only 18+</th>\n",
       "      <th>Everyone</th>\n",
       "      <th>Everyone 10+</th>\n",
       "      <th>Mature 17+</th>\n",
       "      <th>Teen</th>\n",
       "      <th>Unrated</th>\n",
       "    </tr>\n",
       "    <tr>\n",
       "      <th>updated_month</th>\n",
       "      <th></th>\n",
       "      <th></th>\n",
       "      <th></th>\n",
       "      <th></th>\n",
       "      <th></th>\n",
       "      <th></th>\n",
       "    </tr>\n",
       "  </thead>\n",
       "  <tbody>\n",
       "    <tr>\n",
       "      <th>1</th>\n",
       "      <td>NaN</td>\n",
       "      <td>9.253874e+08</td>\n",
       "      <td>105282000.0</td>\n",
       "      <td>9701210.0</td>\n",
       "      <td>4.415901e+07</td>\n",
       "      <td>NaN</td>\n",
       "    </tr>\n",
       "    <tr>\n",
       "      <th>2</th>\n",
       "      <td>NaN</td>\n",
       "      <td>5.453720e+08</td>\n",
       "      <td>19821000.0</td>\n",
       "      <td>13021500.0</td>\n",
       "      <td>3.959771e+07</td>\n",
       "      <td>50000.0</td>\n",
       "    </tr>\n",
       "    <tr>\n",
       "      <th>3</th>\n",
       "      <td>NaN</td>\n",
       "      <td>6.953655e+08</td>\n",
       "      <td>30322510.0</td>\n",
       "      <td>9111100.0</td>\n",
       "      <td>7.985031e+07</td>\n",
       "      <td>NaN</td>\n",
       "    </tr>\n",
       "    <tr>\n",
       "      <th>4</th>\n",
       "      <td>NaN</td>\n",
       "      <td>9.733713e+08</td>\n",
       "      <td>23300000.0</td>\n",
       "      <td>5259000.0</td>\n",
       "      <td>1.616194e+08</td>\n",
       "      <td>NaN</td>\n",
       "    </tr>\n",
       "    <tr>\n",
       "      <th>5</th>\n",
       "      <td>NaN</td>\n",
       "      <td>2.361068e+09</td>\n",
       "      <td>118173500.0</td>\n",
       "      <td>50140100.0</td>\n",
       "      <td>2.026896e+08</td>\n",
       "      <td>NaN</td>\n",
       "    </tr>\n",
       "    <tr>\n",
       "      <th>6</th>\n",
       "      <td>NaN</td>\n",
       "      <td>2.427173e+09</td>\n",
       "      <td>317727100.0</td>\n",
       "      <td>145257200.0</td>\n",
       "      <td>4.157166e+08</td>\n",
       "      <td>NaN</td>\n",
       "    </tr>\n",
       "    <tr>\n",
       "      <th>7</th>\n",
       "      <td>1500000.0</td>\n",
       "      <td>8.271121e+09</td>\n",
       "      <td>456556000.0</td>\n",
       "      <td>419491910.0</td>\n",
       "      <td>1.943557e+09</td>\n",
       "      <td>NaN</td>\n",
       "    </tr>\n",
       "    <tr>\n",
       "      <th>8</th>\n",
       "      <td>500000.0</td>\n",
       "      <td>7.430943e+09</td>\n",
       "      <td>215821000.0</td>\n",
       "      <td>312981700.0</td>\n",
       "      <td>6.257856e+09</td>\n",
       "      <td>NaN</td>\n",
       "    </tr>\n",
       "    <tr>\n",
       "      <th>9</th>\n",
       "      <td>NaN</td>\n",
       "      <td>2.603404e+08</td>\n",
       "      <td>24931100.0</td>\n",
       "      <td>2201010.0</td>\n",
       "      <td>2.248310e+07</td>\n",
       "      <td>NaN</td>\n",
       "    </tr>\n",
       "    <tr>\n",
       "      <th>10</th>\n",
       "      <td>NaN</td>\n",
       "      <td>2.582817e+08</td>\n",
       "      <td>23101000.0</td>\n",
       "      <td>3160000.0</td>\n",
       "      <td>4.562921e+07</td>\n",
       "      <td>NaN</td>\n",
       "    </tr>\n",
       "    <tr>\n",
       "      <th>11</th>\n",
       "      <td>NaN</td>\n",
       "      <td>6.254247e+08</td>\n",
       "      <td>60310000.0</td>\n",
       "      <td>1070100.0</td>\n",
       "      <td>3.126110e+07</td>\n",
       "      <td>NaN</td>\n",
       "    </tr>\n",
       "    <tr>\n",
       "      <th>12</th>\n",
       "      <td>NaN</td>\n",
       "      <td>5.671058e+08</td>\n",
       "      <td>8410000.0</td>\n",
       "      <td>12960100.0</td>\n",
       "      <td>5.170710e+07</td>\n",
       "      <td>NaN</td>\n",
       "    </tr>\n",
       "  </tbody>\n",
       "</table>\n",
       "</div>"
      ],
      "text/plain": [
       "Content Rating  Adults only 18+      Everyone  Everyone 10+   Mature 17+  \\\n",
       "updated_month                                                              \n",
       "1                           NaN  9.253874e+08   105282000.0    9701210.0   \n",
       "2                           NaN  5.453720e+08    19821000.0   13021500.0   \n",
       "3                           NaN  6.953655e+08    30322510.0    9111100.0   \n",
       "4                           NaN  9.733713e+08    23300000.0    5259000.0   \n",
       "5                           NaN  2.361068e+09   118173500.0   50140100.0   \n",
       "6                           NaN  2.427173e+09   317727100.0  145257200.0   \n",
       "7                     1500000.0  8.271121e+09   456556000.0  419491910.0   \n",
       "8                      500000.0  7.430943e+09   215821000.0  312981700.0   \n",
       "9                           NaN  2.603404e+08    24931100.0    2201010.0   \n",
       "10                          NaN  2.582817e+08    23101000.0    3160000.0   \n",
       "11                          NaN  6.254247e+08    60310000.0    1070100.0   \n",
       "12                          NaN  5.671058e+08     8410000.0   12960100.0   \n",
       "\n",
       "Content Rating          Teen  Unrated  \n",
       "updated_month                          \n",
       "1               4.415901e+07      NaN  \n",
       "2               3.959771e+07  50000.0  \n",
       "3               7.985031e+07      NaN  \n",
       "4               1.616194e+08      NaN  \n",
       "5               2.026896e+08      NaN  \n",
       "6               4.157166e+08      NaN  \n",
       "7               1.943557e+09      NaN  \n",
       "8               6.257856e+09      NaN  \n",
       "9               2.248310e+07      NaN  \n",
       "10              4.562921e+07      NaN  \n",
       "11              3.126110e+07      NaN  \n",
       "12              5.170710e+07      NaN  "
      ]
     },
     "execution_count": 83,
     "metadata": {},
     "output_type": "execute_result"
    }
   ],
   "source": [
    "## Create a pivot table for Content Rating and updated Month with the values set to Installs\n",
    "pd.pivot_table(data=inp4, values=\"Installs\", index=\"updated_month\", columns=\"Content Rating\", aggfunc=sum)"
   ]
  },
  {
   "cell_type": "code",
   "execution_count": 84,
   "metadata": {},
   "outputs": [],
   "source": [
    "##Store the table in a separate variable\n",
    "monthly = pd.pivot_table(data=inp4, values=\"Installs\", index=\"updated_month\", columns=\"Content Rating\", aggfunc=sum)\n"
   ]
  },
  {
   "cell_type": "code",
   "execution_count": 85,
   "metadata": {},
   "outputs": [
    {
     "data": {
      "text/plain": [
       "<matplotlib.axes._subplots.AxesSubplot at 0x170a526e580>"
      ]
     },
     "execution_count": 85,
     "metadata": {},
     "output_type": "execute_result"
    },
    {
     "data": {
      "image/png": "[encoded data removed]",
      "text/plain": [
       "<Figure size 720x576 with 1 Axes>"
      ]
     },
     "metadata": {},
     "output_type": "display_data"
    }
   ],
   "source": [
    "##Plot the stacked bar chart.\n",
    "\n",
    "monthly.plot(kind=\"bar\", stacked=\"True\", figsize=[10,8])"
   ]
  },
  {
   "cell_type": "code",
   "execution_count": 86,
   "metadata": {},
   "outputs": [
    {
     "data": {
      "text/plain": [
       "<matplotlib.axes._subplots.AxesSubplot at 0x170a5360e80>"
      ]
     },
     "execution_count": 86,
     "metadata": {},
     "output_type": "execute_result"
    },
    {
     "data": {
      "image/png": "[encoded data removed]",
      "text/plain": [
       "<Figure size 648x432 with 1 Axes>"
      ]
     },
     "metadata": {},
     "output_type": "display_data"
    }
   ],
   "source": [
    "##Plot the stacked bar chart again wrt to the proportions.\n",
    "\n",
    "month_perc = monthly[[\"Adults only 18+\", \"Everyone\", \"Everyone 10+\", \"Mature 17+\", \"Teen\"]].apply(lambda x: x/x.sum(), axis=1)\n",
    "month_perc.plot(kind=\"bar\", stacked=\"True\", figsize=[9,6])"
   ]
  },
  {
   "cell_type": "markdown",
   "metadata": {},
   "source": [
    "#### Plotly"
   ]
  },
  {
   "cell_type": "markdown",
   "metadata": {},
   "source": [
    "Plotly is a Python library used for creating interactive visual charts. You can take a look at how you can use it to create aesthetic looking plots with a lot of user-friendly functionalities like hover, zoom, etc."
   ]
  },
  {
   "cell_type": "markdown",
   "metadata": {},
   "source": [
    "Check out this link for installation and documentation:https://plot.ly/python/getting-started/"
   ]
  },
  {
   "cell_type": "code",
   "execution_count": null,
   "metadata": {},
   "outputs": [],
   "source": [
    "#Install plotly\n"
   ]
  },
  {
   "cell_type": "code",
   "execution_count": 92,
   "metadata": {},
   "outputs": [
    {
     "data": {
      "text/html": [
       "<div>\n",
       "<style scoped>\n",
       "    .dataframe tbody tr th:only-of-type {\n",
       "        vertical-align: middle;\n",
       "    }\n",
       "\n",
       "    .dataframe tbody tr th {\n",
       "        vertical-align: top;\n",
       "    }\n",
       "\n",
       "    .dataframe thead th {\n",
       "        text-align: right;\n",
       "    }\n",
       "</style>\n",
       "<table border=\"1\" class=\"dataframe\">\n",
       "  <thead>\n",
       "    <tr style=\"text-align: right;\">\n",
       "      <th></th>\n",
       "      <th>updated_month</th>\n",
       "      <th>Rating</th>\n",
       "    </tr>\n",
       "  </thead>\n",
       "  <tbody>\n",
       "    <tr>\n",
       "      <th>0</th>\n",
       "      <td>1</td>\n",
       "      <td>4.143842</td>\n",
       "    </tr>\n",
       "    <tr>\n",
       "      <th>1</th>\n",
       "      <td>2</td>\n",
       "      <td>4.092584</td>\n",
       "    </tr>\n",
       "    <tr>\n",
       "      <th>2</th>\n",
       "      <td>3</td>\n",
       "      <td>4.111255</td>\n",
       "    </tr>\n",
       "    <tr>\n",
       "      <th>3</th>\n",
       "      <td>4</td>\n",
       "      <td>4.148017</td>\n",
       "    </tr>\n",
       "    <tr>\n",
       "      <th>4</th>\n",
       "      <td>5</td>\n",
       "      <td>4.153308</td>\n",
       "    </tr>\n",
       "    <tr>\n",
       "      <th>5</th>\n",
       "      <td>6</td>\n",
       "      <td>4.173396</td>\n",
       "    </tr>\n",
       "    <tr>\n",
       "      <th>6</th>\n",
       "      <td>7</td>\n",
       "      <td>4.224113</td>\n",
       "    </tr>\n",
       "    <tr>\n",
       "      <th>7</th>\n",
       "      <td>8</td>\n",
       "      <td>4.269493</td>\n",
       "    </tr>\n",
       "    <tr>\n",
       "      <th>8</th>\n",
       "      <td>9</td>\n",
       "      <td>4.041406</td>\n",
       "    </tr>\n",
       "    <tr>\n",
       "      <th>9</th>\n",
       "      <td>10</td>\n",
       "      <td>4.009494</td>\n",
       "    </tr>\n",
       "    <tr>\n",
       "      <th>10</th>\n",
       "      <td>11</td>\n",
       "      <td>4.102685</td>\n",
       "    </tr>\n",
       "    <tr>\n",
       "      <th>11</th>\n",
       "      <td>12</td>\n",
       "      <td>4.065350</td>\n",
       "    </tr>\n",
       "  </tbody>\n",
       "</table>\n",
       "</div>"
      ],
      "text/plain": [
       "    updated_month    Rating\n",
       "0               1  4.143842\n",
       "1               2  4.092584\n",
       "2               3  4.111255\n",
       "3               4  4.148017\n",
       "4               5  4.153308\n",
       "5               6  4.173396\n",
       "6               7  4.224113\n",
       "7               8  4.269493\n",
       "8               9  4.041406\n",
       "9              10  4.009494\n",
       "10             11  4.102685\n",
       "11             12  4.065350"
      ]
     },
     "execution_count": 92,
     "metadata": {},
     "output_type": "execute_result"
    }
   ],
   "source": [
    "#Take the table you want to plot in a separate variable\n",
    "resl = inp4.groupby([\"updated_month\"])[['Rating']].mean()\n",
    "resl.reset_index(inplace=True)\n",
    "resl"
   ]
  },
  {
   "cell_type": "code",
   "execution_count": 94,
   "metadata": {},
   "outputs": [],
   "source": [
    "#Import the plotly libraries\n",
    "import plotly.express as px"
   ]
  },
  {
   "cell_type": "code",
   "execution_count": 96,
   "metadata": {},
   "outputs": [
    {
     "data": {
      "application/vnd.plotly.v1+json": {
       "config": {
        "plotlyServerURL": "https://plot.ly"
       },
       "data": [
        {
         "hovertemplate": "updated_month=%{x}<br>Rating=%{y}<extra></extra>",
         "legendgroup": "",
         "line": {
          "color": "#636efa",
          "dash": "solid"
         },
         "mode": "lines",
         "name": "",
         "orientation": "v",
         "showlegend": false,
         "type": "scatter",
         "x": [
          1,
          2,
          3,
          4,
          5,
          6,
          7,
          8,
          9,
          10,
          11,
          12
         ],
         "xaxis": "x",
         "y": [
          4.1438423645320235,
          4.092583732057414,
          4.111254612546126,
          4.14801670146138,
          4.153308364544316,
          4.173396226415093,
          4.224112903225791,
          4.269492868462752,
          4.04140625,
          4.009493670886078,
          4.102684563758391,
          4.065349544072945
         ],
         "yaxis": "y"
        }
       ],
       "layout": {
        "legend": {
         "tracegroupgap": 0
        },
        "template": {
         "data": {
          "bar": [
           {
            "error_x": {
             "color": "#2a3f5f"
            },
            "error_y": {
             "color": "#2a3f5f"
            },
            "marker": {
             "line": {
              "color": "#E5ECF6",
              "width": 0.5
             }
            },
            "type": "bar"
           }
          ],
          "barpolar": [
           {
            "marker": {
             "line": {
              "color": "#E5ECF6",
              "width": 0.5
             }
            },
            "type": "barpolar"
           }
          ],
          "carpet": [
           {
            "aaxis": {
             "endlinecolor": "#2a3f5f",
             "gridcolor": "white",
             "linecolor": "white",
             "minorgridcolor": "white",
             "startlinecolor": "#2a3f5f"
            },
            "baxis": {
             "endlinecolor": "#2a3f5f",
             "gridcolor": "white",
             "linecolor": "white",
             "minorgridcolor": "white",
             "startlinecolor": "#2a3f5f"
            },
            "type": "carpet"
           }
          ],
          "choropleth": [
           {
            "colorbar": {
             "outlinewidth": 0,
             "ticks": ""
            },
            "type": "choropleth"
           }
          ],
          "contour": [
           {
            "colorbar": {
             "outlinewidth": 0,
             "ticks": ""
            },
            "colorscale": [
             [
              0,
              "#0d0887"
             ],
             [
              0.1111111111111111,
              "#46039f"
             ],
             [
              0.2222222222222222,
              "#7201a8"
             ],
             [
              0.3333333333333333,
              "#9c179e"
             ],
             [
              0.4444444444444444,
              "#bd3786"
             ],
             [
              0.5555555555555556,
              "#d8576b"
             ],
             [
              0.6666666666666666,
              "#ed7953"
             ],
             [
              0.7777777777777778,
              "#fb9f3a"
             ],
             [
              0.8888888888888888,
              "#fdca26"
             ],
             [
              1,
              "#f0f921"
             ]
            ],
            "type": "contour"
           }
          ],
          "contourcarpet": [
           {
            "colorbar": {
             "outlinewidth": 0,
             "ticks": ""
            },
            "type": "contourcarpet"
           }
          ],
          "heatmap": [
           {
            "colorbar": {
             "outlinewidth": 0,
             "ticks": ""
            },
            "colorscale": [
             [
              0,
              "#0d0887"
             ],
             [
              0.1111111111111111,
              "#46039f"
             ],
             [
              0.2222222222222222,
              "#7201a8"
             ],
             [
              0.3333333333333333,
              "#9c179e"
             ],
             [
              0.4444444444444444,
              "#bd3786"
             ],
             [
              0.5555555555555556,
              "#d8576b"
             ],
             [
              0.6666666666666666,
              "#ed7953"
             ],
             [
              0.7777777777777778,
              "#fb9f3a"
             ],
             [
              0.8888888888888888,
              "#fdca26"
             ],
             [
              1,
              "#f0f921"
             ]
            ],
            "type": "heatmap"
           }
          ],
          "heatmapgl": [
           {
            "colorbar": {
             "outlinewidth": 0,
             "ticks": ""
            },
            "colorscale": [
             [
              0,
              "#0d0887"
             ],
             [
              0.1111111111111111,
              "#46039f"
             ],
             [
              0.2222222222222222,
              "#7201a8"
             ],
             [
              0.3333333333333333,
              "#9c179e"
             ],
             [
              0.4444444444444444,
              "#bd3786"
             ],
             [
              0.5555555555555556,
              "#d8576b"
             ],
             [
              0.6666666666666666,
              "#ed7953"
             ],
             [
              0.7777777777777778,
              "#fb9f3a"
             ],
             [
              0.8888888888888888,
              "#fdca26"
             ],
             [
              1,
              "#f0f921"
             ]
            ],
            "type": "heatmapgl"
           }
          ],
          "histogram": [
           {
            "marker": {
             "colorbar": {
              "outlinewidth": 0,
              "ticks": ""
             }
            },
            "type": "histogram"
           }
          ],
          "histogram2d": [
           {
            "colorbar": {
             "outlinewidth": 0,
             "ticks": ""
            },
            "colorscale": [
             [
              0,
              "#0d0887"
             ],
             [
              0.1111111111111111,
              "#46039f"
             ],
             [
              0.2222222222222222,
              "#7201a8"
             ],
             [
              0.3333333333333333,
              "#9c179e"
             ],
             [
              0.4444444444444444,
              "#bd3786"
             ],
             [
              0.5555555555555556,
              "#d8576b"
             ],
             [
              0.6666666666666666,
              "#ed7953"
             ],
             [
              0.7777777777777778,
              "#fb9f3a"
             ],
             [
              0.8888888888888888,
              "#fdca26"
             ],
             [
              1,
              "#f0f921"
             ]
            ],
            "type": "histogram2d"
           }
          ],
          "histogram2dcontour": [
           {
            "colorbar": {
             "outlinewidth": 0,
             "ticks": ""
            },
            "colorscale": [
             [
              0,
              "#0d0887"
             ],
             [
              0.1111111111111111,
              "#46039f"
             ],
             [
              0.2222222222222222,
              "#7201a8"
             ],
             [
              0.3333333333333333,
              "#9c179e"
             ],
             [
              0.4444444444444444,
              "#bd3786"
             ],
             [
              0.5555555555555556,
              "#d8576b"
             ],
             [
              0.6666666666666666,
              "#ed7953"
             ],
             [
              0.7777777777777778,
              "#fb9f3a"
             ],
             [
              0.8888888888888888,
              "#fdca26"
             ],
             [
              1,
              "#f0f921"
             ]
            ],
            "type": "histogram2dcontour"
           }
          ],
          "mesh3d": [
           {
            "colorbar": {
             "outlinewidth": 0,
             "ticks": ""
            },
            "type": "mesh3d"
           }
          ],
          "parcoords": [
           {
            "line": {
             "colorbar": {
              "outlinewidth": 0,
              "ticks": ""
             }
            },
            "type": "parcoords"
           }
          ],
          "pie": [
           {
            "automargin": true,
            "type": "pie"
           }
          ],
          "scatter": [
           {
            "marker": {
             "colorbar": {
              "outlinewidth": 0,
              "ticks": ""
             }
            },
            "type": "scatter"
           }
          ],
          "scatter3d": [
           {
            "line": {
             "colorbar": {
              "outlinewidth": 0,
              "ticks": ""
             }
            },
            "marker": {
             "colorbar": {
              "outlinewidth": 0,
              "ticks": ""
             }
            },
            "type": "scatter3d"
           }
          ],
          "scattercarpet": [
           {
            "marker": {
             "colorbar": {
              "outlinewidth": 0,
              "ticks": ""
             }
            },
            "type": "scattercarpet"
           }
          ],
          "scattergeo": [
           {
            "marker": {
             "colorbar": {
              "outlinewidth": 0,
              "ticks": ""
             }
            },
            "type": "scattergeo"
           }
          ],
          "scattergl": [
           {
            "marker": {
             "colorbar": {
              "outlinewidth": 0,
              "ticks": ""
             }
            },
            "type": "scattergl"
           }
          ],
          "scattermapbox": [
           {
            "marker": {
             "colorbar": {
              "outlinewidth": 0,
              "ticks": ""
             }
            },
            "type": "scattermapbox"
           }
          ],
          "scatterpolar": [
           {
            "marker": {
             "colorbar": {
              "outlinewidth": 0,
              "ticks": ""
             }
            },
            "type": "scatterpolar"
           }
          ],
          "scatterpolargl": [
           {
            "marker": {
             "colorbar": {
              "outlinewidth": 0,
              "ticks": ""
             }
            },
            "type": "scatterpolargl"
           }
          ],
          "scatterternary": [
           {
            "marker": {
             "colorbar": {
              "outlinewidth": 0,
              "ticks": ""
             }
            },
            "type": "scatterternary"
           }
          ],
          "surface": [
           {
            "colorbar": {
             "outlinewidth": 0,
             "ticks": ""
            },
            "colorscale": [
             [
              0,
              "#0d0887"
             ],
             [
              0.1111111111111111,
              "#46039f"
             ],
             [
              0.2222222222222222,
              "#7201a8"
             ],
             [
              0.3333333333333333,
              "#9c179e"
             ],
             [
              0.4444444444444444,
              "#bd3786"
             ],
             [
              0.5555555555555556,
              "#d8576b"
             ],
             [
              0.6666666666666666,
              "#ed7953"
             ],
             [
              0.7777777777777778,
              "#fb9f3a"
             ],
             [
              0.8888888888888888,
              "#fdca26"
             ],
             [
              1,
              "#f0f921"
             ]
            ],
            "type": "surface"
           }
          ],
          "table": [
           {
            "cells": {
             "fill": {
              "color": "#EBF0F8"
             },
             "line": {
              "color": "white"
             }
            },
            "header": {
             "fill": {
              "color": "#C8D4E3"
             },
             "line": {
              "color": "white"
             }
            },
            "type": "table"
           }
          ]
         },
         "layout": {
          "annotationdefaults": {
           "arrowcolor": "#2a3f5f",
           "arrowhead": 0,
           "arrowwidth": 1
          },
          "coloraxis": {
           "colorbar": {
            "outlinewidth": 0,
            "ticks": ""
           }
          },
          "colorscale": {
           "diverging": [
            [
             0,
             "#8e0152"
            ],
            [
             0.1,
             "#c51b7d"
            ],
            [
             0.2,
             "#de77ae"
            ],
            [
             0.3,
             "#f1b6da"
            ],
            [
             0.4,
             "#fde0ef"
            ],
            [
             0.5,
             "#f7f7f7"
            ],
            [
             0.6,
             "#e6f5d0"
            ],
            [
             0.7,
             "#b8e186"
            ],
            [
             0.8,
             "#7fbc41"
            ],
            [
             0.9,
             "#4d9221"
            ],
            [
             1,
             "#276419"
            ]
           ],
           "sequential": [
            [
             0,
             "#0d0887"
            ],
            [
             0.1111111111111111,
             "#46039f"
            ],
            [
             0.2222222222222222,
             "#7201a8"
            ],
            [
             0.3333333333333333,
             "#9c179e"
            ],
            [
             0.4444444444444444,
             "#bd3786"
            ],
            [
             0.5555555555555556,
             "#d8576b"
            ],
            [
             0.6666666666666666,
             "#ed7953"
            ],
            [
             0.7777777777777778,
             "#fb9f3a"
            ],
            [
             0.8888888888888888,
             "#fdca26"
            ],
            [
             1,
             "#f0f921"
            ]
           ],
           "sequentialminus": [
            [
             0,
             "#0d0887"
            ],
            [
             0.1111111111111111,
             "#46039f"
            ],
            [
             0.2222222222222222,
             "#7201a8"
            ],
            [
             0.3333333333333333,
             "#9c179e"
            ],
            [
             0.4444444444444444,
             "#bd3786"
            ],
            [
             0.5555555555555556,
             "#d8576b"
            ],
            [
             0.6666666666666666,
             "#ed7953"
            ],
            [
             0.7777777777777778,
             "#fb9f3a"
            ],
            [
             0.8888888888888888,
             "#fdca26"
            ],
            [
             1,
             "#f0f921"
            ]
           ]
          },
          "colorway": [
           "#636efa",
           "#EF553B",
           "#00cc96",
           "#ab63fa",
           "#FFA15A",
           "#19d3f3",
           "#FF6692",
           "#B6E880",
           "#FF97FF",
           "#FECB52"
          ],
          "font": {
           "color": "#2a3f5f"
          },
          "geo": {
           "bgcolor": "white",
           "lakecolor": "white",
           "landcolor": "#E5ECF6",
           "showlakes": true,
           "showland": true,
           "subunitcolor": "white"
          },
          "hoverlabel": {
           "align": "left"
          },
          "hovermode": "closest",
          "mapbox": {
           "style": "light"
          },
          "paper_bgcolor": "white",
          "plot_bgcolor": "#E5ECF6",
          "polar": {
           "angularaxis": {
            "gridcolor": "white",
            "linecolor": "white",
            "ticks": ""
           },
           "bgcolor": "#E5ECF6",
           "radialaxis": {
            "gridcolor": "white",
            "linecolor": "white",
            "ticks": ""
           }
          },
          "scene": {
           "xaxis": {
            "backgroundcolor": "#E5ECF6",
            "gridcolor": "white",
            "gridwidth": 2,
            "linecolor": "white",
            "showbackground": true,
            "ticks": "",
            "zerolinecolor": "white"
           },
           "yaxis": {
            "backgroundcolor": "#E5ECF6",
            "gridcolor": "white",
            "gridwidth": 2,
            "linecolor": "white",
            "showbackground": true,
            "ticks": "",
            "zerolinecolor": "white"
           },
           "zaxis": {
            "backgroundcolor": "#E5ECF6",
            "gridcolor": "white",
            "gridwidth": 2,
            "linecolor": "white",
            "showbackground": true,
            "ticks": "",
            "zerolinecolor": "white"
           }
          },
          "shapedefaults": {
           "line": {
            "color": "#2a3f5f"
           }
          },
          "ternary": {
           "aaxis": {
            "gridcolor": "white",
            "linecolor": "white",
            "ticks": ""
           },
           "baxis": {
            "gridcolor": "white",
            "linecolor": "white",
            "ticks": ""
           },
           "bgcolor": "#E5ECF6",
           "caxis": {
            "gridcolor": "white",
            "linecolor": "white",
            "ticks": ""
           }
          },
          "title": {
           "x": 0.05
          },
          "xaxis": {
           "automargin": true,
           "gridcolor": "white",
           "linecolor": "white",
           "ticks": "",
           "title": {
            "standoff": 15
           },
           "zerolinecolor": "white",
           "zerolinewidth": 2
          },
          "yaxis": {
           "automargin": true,
           "gridcolor": "white",
           "linecolor": "white",
           "ticks": "",
           "title": {
            "standoff": 15
           },
           "zerolinecolor": "white",
           "zerolinewidth": 2
          }
         }
        },
        "title": {
         "text": "Monthly Average rating"
        },
        "xaxis": {
         "anchor": "y",
         "domain": [
          0,
          1
         ],
         "title": {
          "text": "updated_month"
         }
        },
        "yaxis": {
         "anchor": "x",
         "domain": [
          0,
          1
         ],
         "title": {
          "text": "Rating"
         }
        }
       }
      },
      "text/html": [
       "<div>                            <div id=\"a912eaaf-95ba-46a7-9b9a-0573ea3b4187\" class=\"plotly-graph-div\" style=\"height:525px; width:100%;\"></div>            <script type=\"text/javascript\">                require([\"plotly\"], function(Plotly) {                    window.PLOTLYENV=window.PLOTLYENV || {};                                    if (document.getElementById(\"a912eaaf-95ba-46a7-9b9a-0573ea3b4187\")) {                    Plotly.newPlot(                        \"a912eaaf-95ba-46a7-9b9a-0573ea3b4187\",                        [{\"hovertemplate\": \"updated_month=%{x}<br>Rating=%{y}<extra></extra>\", \"legendgroup\": \"\", \"line\": {\"color\": \"#636efa\", \"dash\": \"solid\"}, \"mode\": \"lines\", \"name\": \"\", \"orientation\": \"v\", \"showlegend\": false, \"type\": \"scatter\", \"x\": [1, 2, 3, 4, 5, 6, 7, 8, 9, 10, 11, 12], \"xaxis\": \"x\", \"y\": [4.1438423645320235, 4.092583732057414, 4.111254612546126, 4.14801670146138, 4.153308364544316, 4.173396226415093, 4.224112903225791, 4.269492868462752, 4.04140625, 4.009493670886078, 4.102684563758391, 4.065349544072945], \"yaxis\": \"y\"}],                        {\"legend\": {\"tracegroupgap\": 0}, \"template\": {\"data\": {\"bar\": [{\"error_x\": {\"color\": \"#2a3f5f\"}, \"error_y\": {\"color\": \"#2a3f5f\"}, \"marker\": {\"line\": {\"color\": \"#E5ECF6\", \"width\": 0.5}}, \"type\": \"bar\"}], \"barpolar\": [{\"marker\": {\"line\": {\"color\": \"#E5ECF6\", \"width\": 0.5}}, \"type\": \"barpolar\"}], \"carpet\": [{\"aaxis\": {\"endlinecolor\": \"#2a3f5f\", \"gridcolor\": \"white\", \"linecolor\": \"white\", \"minorgridcolor\": \"white\", \"startlinecolor\": \"#2a3f5f\"}, \"baxis\": {\"endlinecolor\": \"#2a3f5f\", \"gridcolor\": \"white\", \"linecolor\": \"white\", \"minorgridcolor\": \"white\", \"startlinecolor\": \"#2a3f5f\"}, \"type\": \"carpet\"}], \"choropleth\": [{\"colorbar\": {\"outlinewidth\": 0, \"ticks\": \"\"}, \"type\": \"choropleth\"}], \"contour\": [{\"colorbar\": {\"outlinewidth\": 0, \"ticks\": \"\"}, \"colorscale\": [[0.0, \"#0d0887\"], [0.1111111111111111, \"#46039f\"], [0.2222222222222222, \"#7201a8\"], [0.3333333333333333, \"#9c179e\"], [0.4444444444444444, \"#bd3786\"], [0.5555555555555556, \"#d8576b\"], [0.6666666666666666, \"#ed7953\"], [0.7777777777777778, \"#fb9f3a\"], [0.8888888888888888, \"#fdca26\"], [1.0, \"#f0f921\"]], \"type\": \"contour\"}], \"contourcarpet\": [{\"colorbar\": {\"outlinewidth\": 0, \"ticks\": \"\"}, \"type\": \"contourcarpet\"}], \"heatmap\": [{\"colorbar\": {\"outlinewidth\": 0, \"ticks\": \"\"}, \"colorscale\": [[0.0, \"#0d0887\"], [0.1111111111111111, \"#46039f\"], [0.2222222222222222, \"#7201a8\"], [0.3333333333333333, \"#9c179e\"], [0.4444444444444444, \"#bd3786\"], [0.5555555555555556, \"#d8576b\"], [0.6666666666666666, \"#ed7953\"], [0.7777777777777778, \"#fb9f3a\"], [0.8888888888888888, \"#fdca26\"], [1.0, \"#f0f921\"]], \"type\": \"heatmap\"}], \"heatmapgl\": [{\"colorbar\": {\"outlinewidth\": 0, \"ticks\": \"\"}, \"colorscale\": [[0.0, \"#0d0887\"], [0.1111111111111111, \"#46039f\"], [0.2222222222222222, \"#7201a8\"], [0.3333333333333333, \"#9c179e\"], [0.4444444444444444, \"#bd3786\"], [0.5555555555555556, \"#d8576b\"], [0.6666666666666666, \"#ed7953\"], [0.7777777777777778, \"#fb9f3a\"], [0.8888888888888888, \"#fdca26\"], [1.0, \"#f0f921\"]], \"type\": \"heatmapgl\"}], \"histogram\": [{\"marker\": {\"colorbar\": {\"outlinewidth\": 0, \"ticks\": \"\"}}, \"type\": \"histogram\"}], \"histogram2d\": [{\"colorbar\": {\"outlinewidth\": 0, \"ticks\": \"\"}, \"colorscale\": [[0.0, \"#0d0887\"], [0.1111111111111111, \"#46039f\"], [0.2222222222222222, \"#7201a8\"], [0.3333333333333333, \"#9c179e\"], [0.4444444444444444, \"#bd3786\"], [0.5555555555555556, \"#d8576b\"], [0.6666666666666666, \"#ed7953\"], [0.7777777777777778, \"#fb9f3a\"], [0.8888888888888888, \"#fdca26\"], [1.0, \"#f0f921\"]], \"type\": \"histogram2d\"}], \"histogram2dcontour\": [{\"colorbar\": {\"outlinewidth\": 0, \"ticks\": \"\"}, \"colorscale\": [[0.0, \"#0d0887\"], [0.1111111111111111, \"#46039f\"], [0.2222222222222222, \"#7201a8\"], [0.3333333333333333, \"#9c179e\"], [0.4444444444444444, \"#bd3786\"], [0.5555555555555556, \"#d8576b\"], [0.6666666666666666, \"#ed7953\"], [0.7777777777777778, \"#fb9f3a\"], [0.8888888888888888, \"#fdca26\"], [1.0, \"#f0f921\"]], \"type\": \"histogram2dcontour\"}], \"mesh3d\": [{\"colorbar\": {\"outlinewidth\": 0, \"ticks\": \"\"}, \"type\": \"mesh3d\"}], \"parcoords\": [{\"line\": {\"colorbar\": {\"outlinewidth\": 0, \"ticks\": \"\"}}, \"type\": \"parcoords\"}], \"pie\": [{\"automargin\": true, \"type\": \"pie\"}], \"scatter\": [{\"marker\": {\"colorbar\": {\"outlinewidth\": 0, \"ticks\": \"\"}}, \"type\": \"scatter\"}], \"scatter3d\": [{\"line\": {\"colorbar\": {\"outlinewidth\": 0, \"ticks\": \"\"}}, \"marker\": {\"colorbar\": {\"outlinewidth\": 0, \"ticks\": \"\"}}, \"type\": \"scatter3d\"}], \"scattercarpet\": [{\"marker\": {\"colorbar\": {\"outlinewidth\": 0, \"ticks\": \"\"}}, \"type\": \"scattercarpet\"}], \"scattergeo\": [{\"marker\": {\"colorbar\": {\"outlinewidth\": 0, \"ticks\": \"\"}}, \"type\": \"scattergeo\"}], \"scattergl\": [{\"marker\": {\"colorbar\": {\"outlinewidth\": 0, \"ticks\": \"\"}}, \"type\": \"scattergl\"}], \"scattermapbox\": [{\"marker\": {\"colorbar\": {\"outlinewidth\": 0, \"ticks\": \"\"}}, \"type\": \"scattermapbox\"}], \"scatterpolar\": [{\"marker\": {\"colorbar\": {\"outlinewidth\": 0, \"ticks\": \"\"}}, \"type\": \"scatterpolar\"}], \"scatterpolargl\": [{\"marker\": {\"colorbar\": {\"outlinewidth\": 0, \"ticks\": \"\"}}, \"type\": \"scatterpolargl\"}], \"scatterternary\": [{\"marker\": {\"colorbar\": {\"outlinewidth\": 0, \"ticks\": \"\"}}, \"type\": \"scatterternary\"}], \"surface\": [{\"colorbar\": {\"outlinewidth\": 0, \"ticks\": \"\"}, \"colorscale\": [[0.0, \"#0d0887\"], [0.1111111111111111, \"#46039f\"], [0.2222222222222222, \"#7201a8\"], [0.3333333333333333, \"#9c179e\"], [0.4444444444444444, \"#bd3786\"], [0.5555555555555556, \"#d8576b\"], [0.6666666666666666, \"#ed7953\"], [0.7777777777777778, \"#fb9f3a\"], [0.8888888888888888, \"#fdca26\"], [1.0, \"#f0f921\"]], \"type\": \"surface\"}], \"table\": [{\"cells\": {\"fill\": {\"color\": \"#EBF0F8\"}, \"line\": {\"color\": \"white\"}}, \"header\": {\"fill\": {\"color\": \"#C8D4E3\"}, \"line\": {\"color\": \"white\"}}, \"type\": \"table\"}]}, \"layout\": {\"annotationdefaults\": {\"arrowcolor\": \"#2a3f5f\", \"arrowhead\": 0, \"arrowwidth\": 1}, \"coloraxis\": {\"colorbar\": {\"outlinewidth\": 0, \"ticks\": \"\"}}, \"colorscale\": {\"diverging\": [[0, \"#8e0152\"], [0.1, \"#c51b7d\"], [0.2, \"#de77ae\"], [0.3, \"#f1b6da\"], [0.4, \"#fde0ef\"], [0.5, \"#f7f7f7\"], [0.6, \"#e6f5d0\"], [0.7, \"#b8e186\"], [0.8, \"#7fbc41\"], [0.9, \"#4d9221\"], [1, \"#276419\"]], \"sequential\": [[0.0, \"#0d0887\"], [0.1111111111111111, \"#46039f\"], [0.2222222222222222, \"#7201a8\"], [0.3333333333333333, \"#9c179e\"], [0.4444444444444444, \"#bd3786\"], [0.5555555555555556, \"#d8576b\"], [0.6666666666666666, \"#ed7953\"], [0.7777777777777778, \"#fb9f3a\"], [0.8888888888888888, \"#fdca26\"], [1.0, \"#f0f921\"]], \"sequentialminus\": [[0.0, \"#0d0887\"], [0.1111111111111111, \"#46039f\"], [0.2222222222222222, \"#7201a8\"], [0.3333333333333333, \"#9c179e\"], [0.4444444444444444, \"#bd3786\"], [0.5555555555555556, \"#d8576b\"], [0.6666666666666666, \"#ed7953\"], [0.7777777777777778, \"#fb9f3a\"], [0.8888888888888888, \"#fdca26\"], [1.0, \"#f0f921\"]]}, \"colorway\": [\"#636efa\", \"#EF553B\", \"#00cc96\", \"#ab63fa\", \"#FFA15A\", \"#19d3f3\", \"#FF6692\", \"#B6E880\", \"#FF97FF\", \"#FECB52\"], \"font\": {\"color\": \"#2a3f5f\"}, \"geo\": {\"bgcolor\": \"white\", \"lakecolor\": \"white\", \"landcolor\": \"#E5ECF6\", \"showlakes\": true, \"showland\": true, \"subunitcolor\": \"white\"}, \"hoverlabel\": {\"align\": \"left\"}, \"hovermode\": \"closest\", \"mapbox\": {\"style\": \"light\"}, \"paper_bgcolor\": \"white\", \"plot_bgcolor\": \"#E5ECF6\", \"polar\": {\"angularaxis\": {\"gridcolor\": \"white\", \"linecolor\": \"white\", \"ticks\": \"\"}, \"bgcolor\": \"#E5ECF6\", \"radialaxis\": {\"gridcolor\": \"white\", \"linecolor\": \"white\", \"ticks\": \"\"}}, \"scene\": {\"xaxis\": {\"backgroundcolor\": \"#E5ECF6\", \"gridcolor\": \"white\", \"gridwidth\": 2, \"linecolor\": \"white\", \"showbackground\": true, \"ticks\": \"\", \"zerolinecolor\": \"white\"}, \"yaxis\": {\"backgroundcolor\": \"#E5ECF6\", \"gridcolor\": \"white\", \"gridwidth\": 2, \"linecolor\": \"white\", \"showbackground\": true, \"ticks\": \"\", \"zerolinecolor\": \"white\"}, \"zaxis\": {\"backgroundcolor\": \"#E5ECF6\", \"gridcolor\": \"white\", \"gridwidth\": 2, \"linecolor\": \"white\", \"showbackground\": true, \"ticks\": \"\", \"zerolinecolor\": \"white\"}}, \"shapedefaults\": {\"line\": {\"color\": \"#2a3f5f\"}}, \"ternary\": {\"aaxis\": {\"gridcolor\": \"white\", \"linecolor\": \"white\", \"ticks\": \"\"}, \"baxis\": {\"gridcolor\": \"white\", \"linecolor\": \"white\", \"ticks\": \"\"}, \"bgcolor\": \"#E5ECF6\", \"caxis\": {\"gridcolor\": \"white\", \"linecolor\": \"white\", \"ticks\": \"\"}}, \"title\": {\"x\": 0.05}, \"xaxis\": {\"automargin\": true, \"gridcolor\": \"white\", \"linecolor\": \"white\", \"ticks\": \"\", \"title\": {\"standoff\": 15}, \"zerolinecolor\": \"white\", \"zerolinewidth\": 2}, \"yaxis\": {\"automargin\": true, \"gridcolor\": \"white\", \"linecolor\": \"white\", \"ticks\": \"\", \"title\": {\"standoff\": 15}, \"zerolinecolor\": \"white\", \"zerolinewidth\": 2}}}, \"title\": {\"text\": \"Monthly Average rating\"}, \"xaxis\": {\"anchor\": \"y\", \"domain\": [0.0, 1.0], \"title\": {\"text\": \"updated_month\"}}, \"yaxis\": {\"anchor\": \"x\", \"domain\": [0.0, 1.0], \"title\": {\"text\": \"Rating\"}}},                        {\"responsive\": true}                    ).then(function(){\n",
       "                            \n",
       "var gd = document.getElementById('a912eaaf-95ba-46a7-9b9a-0573ea3b4187');\n",
       "var x = new MutationObserver(function (mutations, observer) {{\n",
       "        var display = window.getComputedStyle(gd).display;\n",
       "        if (!display || display === 'none') {{\n",
       "            console.log([gd, 'removed!']);\n",
       "            Plotly.purge(gd);\n",
       "            observer.disconnect();\n",
       "        }}\n",
       "}});\n",
       "\n",
       "// Listen for the removal of the full notebook cells\n",
       "var notebookContainer = gd.closest('#notebook-container');\n",
       "if (notebookContainer) {{\n",
       "    x.observe(notebookContainer, {childList: true});\n",
       "}}\n",
       "\n",
       "// Listen for the clearing of the current output cell\n",
       "var outputEl = gd.closest('.output');\n",
       "if (outputEl) {{\n",
       "    x.observe(outputEl, {childList: true});\n",
       "}}\n",
       "\n",
       "                        })                };                });            </script>        </div>"
      ]
     },
     "metadata": {},
     "output_type": "display_data"
    }
   ],
   "source": [
    "#Prepare the plot\n",
    "fig = px.line(resl, x=\"updated_month\", y=\"Rating\", title=\"Monthly Average rating\")\n",
    "fig.show()"
   ]
  },
  {
   "cell_type": "code",
   "execution_count": null,
   "metadata": {},
   "outputs": [],
   "source": []
  }
 ],
 "metadata": {
  "kernelspec": {
   "display_name": "Python 3",
   "language": "python",
   "name": "python3"
  },
  "language_info": {
   "codemirror_mode": {
    "name": "ipython",
    "version": 3
   },
   "file_extension": ".py",
   "mimetype": "text/x-python",
   "name": "python",
   "nbconvert_exporter": "python",
   "pygments_lexer": "ipython3",
   "version": "3.8.3"
  }
 },
 "nbformat": 4,
 "nbformat_minor": 2
}
