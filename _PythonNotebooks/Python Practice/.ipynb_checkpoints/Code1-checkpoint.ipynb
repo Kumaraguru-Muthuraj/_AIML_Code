{
 "cells": [
  {
   "cell_type": "markdown",
   "metadata": {},
   "source": [
    "Fibonacci Series\n",
    "\n",
    "Description\n",
    "\n",
    "Compute and display Fibonacci series upto n terms where n is a positive integer entered by the user.\n",
    "You can go here to read about Fibonacci series.\n",
    "\n",
    "Sample Input:\n",
    "5\n",
    "\n",
    "Sample Output:\n",
    "0\n",
    "1\n",
    "1\n",
    "2\n",
    "3"
   ]
  },
  {
   "cell_type": "code",
   "execution_count": 1,
   "metadata": {},
   "outputs": [
    {
     "name": "stdout",
     "output_type": "stream",
     "text": [
      "8\n",
      "0\n",
      "1\n",
      "1\n",
      "2\n",
      "3\n",
      "5\n",
      "8\n",
      "13\n"
     ]
    }
   ],
   "source": [
    "n=int(in8put())\n",
    "#write your code here\n",
    "def fibo(n):\n",
    "   if n <= 1:\n",
    "       return n\n",
    "   else:\n",
    "       return(fibo(n-1) + fibo(n-2))\n",
    "\n",
    "for i in range(n):\n",
    "       print(fibo(i))"
   ]
  },
  {
   "cell_type": "code",
   "execution_count": 2,
   "metadata": {},
   "outputs": [
    {
     "name": "stdout",
     "output_type": "stream",
     "text": [
      "9\n",
      "0\n",
      "1\n",
      "1\n",
      "2\n",
      "3\n",
      "5\n",
      "8\n",
      "13\n",
      "21\n"
     ]
    }
   ],
   "source": [
    "#iterative\n",
    "n=int(input())\n",
    "secondLast=0\n",
    "last=1\n",
    "if n>0:\n",
    "    print(secondLast)\n",
    "if n>1:\n",
    "    print(last)\n",
    "for i in range(3,n+1):\n",
    "    nextNumber=last+secondLast\n",
    "    print(nextNumber)\n",
    "    secondLast=last\n",
    "    last=nextNumber \n"
   ]
  },
  {
   "cell_type": "code",
   "execution_count": 6,
   "metadata": {},
   "outputs": [
    {
     "name": "stdout",
     "output_type": "stream",
     "text": [
      "number entered is prime\n"
     ]
    }
   ],
   "source": [
    "num = 3\n",
    "if num > 1:\n",
    "   for i in range(2,num):\n",
    "       if (num % i) == 0:\n",
    "           print(\"number entered is not prime\")\n",
    "           break\n",
    "   else:\n",
    "       print(\"number entered is prime\")\n",
    "else:\n",
    "   print(\"number entered is not prime\")"
   ]
  },
  {
   "cell_type": "code",
   "execution_count": 7,
   "metadata": {},
   "outputs": [
    {
     "name": "stdout",
     "output_type": "stream",
     "text": [
      "234\n",
      "False\n"
     ]
    }
   ],
   "source": [
    "intStr = input()\n",
    "num=int(intStr)\n",
    "# initialize sum\n",
    "sum = 0\n",
    "\n",
    "temp = num\n",
    "while temp > 0:\n",
    "   digit = temp % 10\n",
    "   sum += digit ** len(intStr)\n",
    "   temp //= 10\n",
    "\n",
    "if num == sum:\n",
    "   print(True)\n",
    "else:\n",
    "   print(False)"
   ]
  },
  {
   "cell_type": "code",
   "execution_count": null,
   "metadata": {},
   "outputs": [],
   "source": [
    "Selecting dataframe columns\n",
    "Description\n",
    "Write a program to select all columns of a dataframe except the ones specified.\n",
    "The input will contain a list of columns that you should skip.\n",
    "You should print the first five rows of the dataframe as output where the columns are alphabetically sorted.\n",
    "\n",
    "Sample Input:\n",
    "['PassengerId', 'Pclass', 'Name', 'Sex','Embarked']\n",
    "Sample Output:\n"
   ]
  },
  {
   "cell_type": "code",
   "execution_count": null,
   "metadata": {},
   "outputs": [],
   "source": [
    "Two series\n",
    "Description\n",
    "Given two pandas series, find the position of elements in series2 in series1.\n",
    "You can assume that all elements in series2 will be present in series1.\n",
    "The input will contain two lines with series1 and series2 respectively.\n",
    "The output should be a list of indexes indicating elements of series2 in series 1.\n",
    "Note: In the output list, the indexes should be in ascending order.\n",
    "Sample Input:\n",
    "[1,2,3,4,5,6,7]\n",
    "[1,3,7]\n",
    "Sample Output:\n",
    "[0,2,6]\n"
   ]
  },
  {
   "cell_type": "code",
   "execution_count": null,
   "metadata": {},
   "outputs": [],
   "source": [
    "Cleaning columns\n",
    "Description\n",
    "For the given dataframe, you have to clean the \"Installs\" column and print its correlation with other numeric columns of the dataframe.(print df.corr())\n",
    "You have to do the following:\n",
    "1. Remove characters like ',' from the number of installs.\n",
    "2. Delete rows where the Installs column has irrelevant strings like 'Free'\n",
    "3. Convert the column to int type\n",
    "You can access the dataframe using the following URL in your Jupyter notebook:\n",
    "https://media-doselect.s3.amazonaws.com/generic/8NMooe4G0ENEe8z9q5ZvaZA7/googleplaystore.csv\n",
    "Note: You should try this problem on your own Jupyter notebook before submitting. Do not clean any column other than \"Installs\".\n",
    "Sample Output:\n",
    "            Rating  Installs\n",
    "Rating    1.000000  0.051355\n",
    "Installs  0.051355  1.000000\n",
    "Execution Time Limit"
   ]
  },
  {
   "cell_type": "code",
   "execution_count": null,
   "metadata": {},
   "outputs": [],
   "source": [
    "Capitalise\n",
    "Description\n",
    "Given a sentence as a string, capitalise the first letter of every word. Output the final sentence after capitalising.\n",
    "\n",
    "Hint: Since strings are immutable, you need to output a new string.\n",
    "\n",
    "Example:\n",
    "Input 1:\n",
    "I am now a master of Logistic regression\n",
    "Output 1:\n",
    "I Am Now A Master Of Logistic Regression\n",
    "Execution Time Limit"
   ]
  },
  {
   "cell_type": "code",
   "execution_count": null,
   "metadata": {},
   "outputs": [],
   "source": [
    "Second Maximum Number in a List\n",
    "Description\n",
    "Given a list of numbers, find the second largest number in the list.\n",
    "\n",
    "Note: There might be repeated numbers in the list. If there is only one number present in the list, return 'not present'.\n",
    "\n",
    "Examples:\n",
    "Input 1:\n",
    "[7, 2, 0, 9, -1, 8]\n",
    "Output 1:\n",
    "8\n",
    "\n",
    "Input 2:\n",
    "[3, 1, 4, 4, 5, 5, 5, 0, 2, 2]\n",
    "Output 2:\n",
    "4\n",
    "\n",
    "Input 2:\n",
    "[6, 6, 6, 6, 6]"
   ]
  },
  {
   "cell_type": "code",
   "execution_count": null,
   "metadata": {},
   "outputs": [],
   "source": [
    "import pandas as pd\n",
    "import ast,sys\n",
    "df=pd.read_csv(\"https://media-doselect.s3.amazonaws.com/generic/X0kvr3wEYXRzONE5W37xWWYYA/test.csv\")\n",
    "input_str = sys.stdin.read()\n",
    "to_omit = ast.literal_eval(input_str)\n",
    "df=df[df.columns[~df.columns.isin(to_omit)]]\n",
    "print(df.loc[:, sorted(list(df.columns))].head())"
   ]
  },
  {
   "cell_type": "code",
   "execution_count": null,
   "metadata": {},
   "outputs": [],
   "source": [
    "import ast,sys\n",
    "import pandas as pd\n",
    "input_str = sys.stdin.read()\n",
    "input_list = ast.literal_eval(input_str)\n",
    "series1=pd.Series(input_list[0])\n",
    "series2=pd.Series(input_list[1])\n",
    "out_list=[pd.Index(series1).get_loc(num) for num in series2]\n",
    "print(list(map(int,out_list)))"
   ]
  },
  {
   "cell_type": "code",
   "execution_count": null,
   "metadata": {},
   "outputs": [],
   "source": [
    "import pandas as pd \n",
    "df=pd.read_csv(\"https://media-doselect.s3.amazonaws.com/generic/8NMooe4G0ENEe8z9q5ZvaZA7/googleplaystore.csv\")\n",
    "df.Installs=df.Installs.str.replace(',','')\n",
    "df.Installs=df.Installs.str.replace('+','')\n",
    "df=df[df.Installs!='Free']\n",
    "df.Installs=df.Installs.astype(int)\n",
    "print(df.corr())"
   ]
  },
  {
   "cell_type": "code",
   "execution_count": null,
   "metadata": {},
   "outputs": [],
   "source": [
    "# Read the input string \n",
    "input_string = input()\n",
    "\n",
    "# Split the string at the white spaces so that you have the individual words\n",
    "l = input_string.split(\" \")\n",
    "\n",
    "# Declare a new string since you cannot mutate strings in Python\n",
    "new_s = \"\"\n",
    "\n",
    "# Run a loop for all the words\n",
    "for word in l:\n",
    "    \n",
    "# If the first letter of the word is in lowercase, covert it to uppercase by using \n",
    "# the ord and chr functions. Note that that order of 'a' is 97 and order of 'A' is\n",
    "# 65. So to capitalise, you need to subtract 32.\n",
    "    if(ord(word[0]) >= ord('a') and ord(word[0]) <= ord('z')):\n",
    "        \n",
    "# Add the capitalised character to the new string alongwith a white space. Then\n",
    "# add the rest of the word as well.\n",
    "        new_s = new_s + \" \" + chr(ord(word[0]) - 32)\n",
    "        new_s = new_s + word[1:]\n",
    "        \n",
    "# If the first letter is already capital, just add the word to the new string as is \n",
    "    else:\n",
    "        new_s = new_s + \" \" + word\n",
    "\n",
    "# Print the new string after doing an lstrip() since the first word was also added\n",
    "# with a whitespace\n",
    "print(new_s.lstrip())"
   ]
  },
  {
   "cell_type": "code",
   "execution_count": null,
   "metadata": {},
   "outputs": [],
   "source": [
    "# Read the input list\n",
    "import ast,sys\n",
    "input_str = sys.stdin.read()\n",
    "input_list = ast.literal_eval(input_str)\n",
    "\n",
    "# Declare two variables max1 and max2 which will contain the maximum and the second\n",
    "# maximum element. Choose a very small number (like -10000 in this case). You will\n",
    "# understand why in the next few steps\n",
    "max1 = -10000\n",
    "max2 = -10000\n",
    "    \n",
    "# Run a loop throughout the length of the loop    \n",
    "for i in input_list:\n",
    "\n",
    "# If you encounter a number greater than max1, update the values of both max1 and max2\n",
    "# max2 will now take the value of max1 and max1 will take the value of i\n",
    "    if(i > max1):\n",
    "        max2, max1 = max1, i\n",
    "\n",
    "# Else if you encounter a number which is less than max1 but greater than max2, just\n",
    "# update the value of max2\n",
    "    elif(i < max1 and i > max2):\n",
    "        max2 = i\n",
    "\n",
    "# If max1 is equal to max2, or either of max1 and max2 are -10000 (the initial value),\n",
    "# it means that only one number (repeated several times) is present in the list, so\n",
    "# print not present. Else print the value of max2\n",
    "if((max1 == max2) or (max1 == -10000) or (max2 == -10000)):\n",
    "    print(\"not present\")\n",
    "else:\n",
    "    print(max2)"
   ]
  },
  {
   "cell_type": "code",
   "execution_count": null,
   "metadata": {},
   "outputs": [],
   "source": [
    "# Importing the Pandas package and reading the data\n",
    "import pandas as pd\n",
    "wholesale = pd.read_csv('https://media-doselect.s3.amazonaws.com/generic/OkbnaOBqrBXZOpRQw1JGMgaM9/Wholesale_Data.csv')\n",
    "\n",
    "# Inspecting the first few rows\n",
    "wholesale.head(10)\n",
    "\n",
    "# Checking the value counts of the column 'Channel' to see what all values are present\n",
    "wholesale['Channel'].value_counts()\n",
    "\n",
    "# Define a function to correct the names. Code self-explanatory\n",
    "def correction(x):\n",
    "    if x in ['H', 'Hote', 'Hot']:\n",
    "        x = 'Hotel'\n",
    "    elif x in ['C', 'Caffe']:\n",
    "        x = 'Cafe'\n",
    "    elif x in ['R', 'Rest']:\n",
    "        x = 'Restaurant'\n",
    "    return(x)\n",
    "\n",
    "# Apply the function written above to the column 'Channel'\n",
    "wholesale['Channel'] = wholesale['Channel'].apply(lambda x: correction(x))\n",
    "\n",
    "# Checking the final dataframe\n",
    "wholesale.head()\n",
    "\n",
    "# The final print statement. Please don't edit this part. Also don't write any other\n",
    "# print statement otherwise your answer will not match even if it is correct\n",
    "print(wholesale['Channel'].value_counts())"
   ]
  },
  {
   "cell_type": "code",
   "execution_count": null,
   "metadata": {},
   "outputs": [],
   "source": [
    "# Import Pandas and read the dataframe\n",
    "import pandas as pd\n",
    "wholesale = pd.read_csv('https://media-doselect.s3.amazonaws.com/generic/OqwpypRKN09x5GYej2LvVrprn/Wholesale_Data_Cleaned.csv')\n",
    "\n",
    "# Inspect the dataframe\n",
    "wholesale.head()\n",
    "wholesale.shape\n",
    "\n",
    "# Create a new column 'Total' that contains the sum of all the columns\n",
    "wholesale['Total'] = wholesale.sum(axis=1)\n",
    "\n",
    "# Inspect the dataframe again\n",
    "wholesale.head()\n",
    "\n",
    "# Group the dataframe using 'Channel' as the index, 'Total' as the values, and \n",
    "# 'sum' as the aggfunc\n",
    "channels = wholesale.pivot_table(index='Channel', values = 'Total', aggfunc = 'sum')\n",
    "\n",
    "# Check the grouped dataframe\n",
    "channels.head()\n",
    "\n",
    "# Sort the grouped dataframe and print the smallest value\n",
    "print(channels.sort_values(by='Total').index[0])"
   ]
  },
  {
   "cell_type": "code",
   "execution_count": null,
   "metadata": {},
   "outputs": [],
   "source": []
  },
  {
   "cell_type": "code",
   "execution_count": null,
   "metadata": {},
   "outputs": [],
   "source": []
  }
 ],
 "metadata": {
  "kernelspec": {
   "display_name": "Python 3",
   "language": "python",
   "name": "python3"
  },
  "language_info": {
   "codemirror_mode": {
    "name": "ipython",
    "version": 3
   },
   "file_extension": ".py",
   "mimetype": "text/x-python",
   "name": "python",
   "nbconvert_exporter": "python",
   "pygments_lexer": "ipython3",
   "version": "3.8.3"
  }
 },
 "nbformat": 4,
 "nbformat_minor": 4
}
