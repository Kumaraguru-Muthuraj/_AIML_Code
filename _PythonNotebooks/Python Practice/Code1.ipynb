{
 "cells": [
  {
   "cell_type": "markdown",
   "metadata": {},
   "source": [
    "Fibonacci Series\n",
    "\n",
    "Description\n",
    "\n",
    "Compute and display Fibonacci series upto n terms where n is a positive integer entered by the user.\n",
    "You can go here to read about Fibonacci series.\n",
    "\n",
    "Sample Input:\n",
    "5\n",
    "\n",
    "Sample Output:\n",
    "0\n",
    "1\n",
    "1\n",
    "2\n",
    "3"
   ]
  },
  {
   "cell_type": "code",
   "execution_count": 1,
   "metadata": {},
   "outputs": [
    {
     "name": "stdout",
     "output_type": "stream",
     "text": [
      "8\n",
      "0\n",
      "1\n",
      "1\n",
      "2\n",
      "3\n",
      "5\n",
      "8\n",
      "13\n"
     ]
    }
   ],
   "source": [
    "n=int(in8put())\n",
    "#write your code here\n",
    "def fibo(n):\n",
    "   if n <= 1:\n",
    "       return n\n",
    "   else:\n",
    "       return(fibo(n-1) + fibo(n-2))\n",
    "\n",
    "for i in range(n):\n",
    "       print(fibo(i))"
   ]
  },
  {
   "cell_type": "code",
   "execution_count": 2,
   "metadata": {},
   "outputs": [
    {
     "name": "stdout",
     "output_type": "stream",
     "text": [
      "9\n",
      "0\n",
      "1\n",
      "1\n",
      "2\n",
      "3\n",
      "5\n",
      "8\n",
      "13\n",
      "21\n"
     ]
    }
   ],
   "source": [
    "#iterative\n",
    "n=int(input())\n",
    "secondLast=0\n",
    "last=1\n",
    "if n>0:\n",
    "    print(secondLast)\n",
    "if n>1:\n",
    "    print(last)\n",
    "for i in range(3,n+1):\n",
    "    nextNumber=last+secondLast\n",
    "    print(nextNumber)\n",
    "    secondLast=last\n",
    "    last=nextNumber \n"
   ]
  },
  {
   "cell_type": "code",
   "execution_count": 6,
   "metadata": {},
   "outputs": [
    {
     "name": "stdout",
     "output_type": "stream",
     "text": [
      "number entered is prime\n"
     ]
    }
   ],
   "source": [
    "num = 3\n",
    "if num > 1:\n",
    "   for i in range(2,num):\n",
    "       if (num % i) == 0:\n",
    "           print(\"number entered is not prime\")\n",
    "           break\n",
    "   else:\n",
    "       print(\"number entered is prime\")\n",
    "else:\n",
    "   print(\"number entered is not prime\")"
   ]
  },
  {
   "cell_type": "code",
   "execution_count": 7,
   "metadata": {},
   "outputs": [
    {
     "name": "stdout",
     "output_type": "stream",
     "text": [
      "234\n",
      "False\n"
     ]
    }
   ],
   "source": [
    "intStr = input()\n",
    "num=int(intStr)\n",
    "# initialize sum\n",
    "sum = 0\n",
    "\n",
    "temp = num\n",
    "while temp > 0:\n",
    "   digit = temp % 10\n",
    "   sum += digit ** len(intStr)\n",
    "   temp //= 10\n",
    "\n",
    "if num == sum:\n",
    "   print(True)\n",
    "else:\n",
    "   print(False)"
   ]
  },
  {
   "cell_type": "code",
   "execution_count": null,
   "metadata": {},
   "outputs": [],
   "source": [
    "Selecting dataframe columns\n",
    "Description\n",
    "Write a program to select all columns of a dataframe except the ones specified.\n",
    "The input will contain a list of columns that you should skip.\n",
    "You should print the first five rows of the dataframe as output where the columns are alphabetically sorted.\n",
    "\n",
    "Sample Input:\n",
    "['PassengerId', 'Pclass', 'Name', 'Sex','Embarked']\n",
    "Sample Output:\n"
   ]
  },
  {
   "cell_type": "code",
   "execution_count": null,
   "metadata": {},
   "outputs": [],
   "source": [
    "Two series\n",
    "Description\n",
    "Given two pandas series, find the position of elements in series2 in series1.\n",
    "You can assume that all elements in series2 will be present in series1.\n",
    "The input will contain two lines with series1 and series2 respectively.\n",
    "The output should be a list of indexes indicating elements of series2 in series 1.\n",
    "Note: In the output list, the indexes should be in ascending order.\n",
    "Sample Input:\n",
    "[1,2,3,4,5,6,7]\n",
    "[1,3,7]\n",
    "Sample Output:\n",
    "[0,2,6]\n"
   ]
  },
  {
   "cell_type": "code",
   "execution_count": null,
   "metadata": {},
   "outputs": [],
   "source": [
    "Cleaning columns\n",
    "Description\n",
    "For the given dataframe, you have to clean the \"Installs\" column and print its correlation with other numeric columns of the dataframe.(print df.corr())\n",
    "You have to do the following:\n",
    "1. Remove characters like ',' from the number of installs.\n",
    "2. Delete rows where the Installs column has irrelevant strings like 'Free'\n",
    "3. Convert the column to int type\n",
    "You can access the dataframe using the following URL in your Jupyter notebook:\n",
    "https://media-doselect.s3.amazonaws.com/generic/8NMooe4G0ENEe8z9q5ZvaZA7/googleplaystore.csv\n",
    "Note: You should try this problem on your own Jupyter notebook before submitting. Do not clean any column other than \"Installs\".\n",
    "Sample Output:\n",
    "            Rating  Installs\n",
    "Rating    1.000000  0.051355\n",
    "Installs  0.051355  1.000000\n",
    "Execution Time Limit"
   ]
  },
  {
   "cell_type": "code",
   "execution_count": null,
   "metadata": {},
   "outputs": [],
   "source": [
    "Capitalise\n",
    "Description\n",
    "Given a sentence as a string, capitalise the first letter of every word. Output the final sentence after capitalising.\n",
    "\n",
    "Hint: Since strings are immutable, you need to output a new string.\n",
    "\n",
    "Example:\n",
    "Input 1:\n",
    "I am now a master of Logistic regression\n",
    "Output 1:\n",
    "I Am Now A Master Of Logistic Regression\n",
    "Execution Time Limit"
   ]
  },
  {
   "cell_type": "code",
   "execution_count": null,
   "metadata": {},
   "outputs": [],
   "source": [
    "Second Maximum Number in a List\n",
    "Description\n",
    "Given a list of numbers, find the second largest number in the list.\n",
    "\n",
    "Note: There might be repeated numbers in the list. If there is only one number present in the list, return 'not present'.\n",
    "\n",
    "Examples:\n",
    "Input 1:\n",
    "[7, 2, 0, 9, -1, 8]\n",
    "Output 1:\n",
    "8\n",
    "\n",
    "Input 2:\n",
    "[3, 1, 4, 4, 5, 5, 5, 0, 2, 2]\n",
    "Output 2:\n",
    "4\n",
    "\n",
    "Input 2:\n",
    "[6, 6, 6, 6, 6]"
   ]
  },
  {
   "cell_type": "code",
   "execution_count": null,
   "metadata": {},
   "outputs": [],
   "source": []
  },
  {
   "cell_type": "code",
   "execution_count": null,
   "metadata": {},
   "outputs": [],
   "source": []
  }
 ],
 "metadata": {
  "kernelspec": {
   "display_name": "Python 3",
   "language": "python",
   "name": "python3"
  },
  "language_info": {
   "codemirror_mode": {
    "name": "ipython",
    "version": 3
   },
   "file_extension": ".py",
   "mimetype": "text/x-python",
   "name": "python",
   "nbconvert_exporter": "python",
   "pygments_lexer": "ipython3",
   "version": "3.8.3"
  }
 },
 "nbformat": 4,
 "nbformat_minor": 4
}
