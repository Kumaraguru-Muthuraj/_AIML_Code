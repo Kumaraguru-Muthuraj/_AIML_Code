{
 "cells": [
  {
   "cell_type": "markdown",
   "metadata": {},
   "source": [
    "Fibonacci Series\n",
    "\n",
    "Description\n",
    "\n",
    "Compute and display Fibonacci series upto n terms where n is a positive integer entered by the user.\n",
    "You can go here to read about Fibonacci series.\n",
    "\n",
    "Sample Input:\n",
    "5\n",
    "\n",
    "Sample Output:\n",
    "0\n",
    "1\n",
    "1\n",
    "2\n",
    "3"
   ]
  },
  {
   "cell_type": "code",
   "execution_count": 5,
   "metadata": {},
   "outputs": [],
   "source": [
    "import smtplib\n",
    "from email.mime.multipart import MIMEMultipart\n",
    "from email.mime.text import MIMEText"
   ]
  },
  {
   "cell_type": "code",
   "execution_count": null,
   "metadata": {},
   "outputs": [],
   "source": []
  },
  {
   "cell_type": "code",
   "execution_count": 7,
   "metadata": {},
   "outputs": [
    {
     "name": "stdout",
     "output_type": "stream",
     "text": [
      "Mail Sent\n"
     ]
    }
   ],
   "source": [
    "\n",
    "mail_content = \"Hello, This is a simple mail.*****\"\n",
    "#The mail addresses and password\n",
    "sender_address = 'muthurajguru@gmail.com'\n",
    "sender_pass = 'Vadirajaru#1234'\n",
    "receiver_address = 'muthurajguru@yahoo.com'\n",
    "#Setup the MIME\n",
    "message = MIMEMultipart()\n",
    "message['From'] = sender_address\n",
    "message['To'] = receiver_address\n",
    "message['Subject'] = 'A test mail sent by Python. It has an attachment.'   #The subject line\n",
    "\n",
    "#The body and the attachments for the mail\n",
    "message.attach(MIMEText(mail_content, 'plain'))\n",
    "\n",
    "#Create SMTP session for sending the mail\n",
    "session = smtplib.SMTP('smtp.gmail.com', 587) #use gmail with port\n",
    "session.starttls() #enable security\n",
    "session.login(sender_address, sender_pass) #login with mail_id and password\n",
    "text = message.as_string()\n",
    "session.sendmail(sender_address, receiver_address, text)\n",
    "session.quit()\n",
    "print('Mail Sent')"
   ]
  },
  {
   "cell_type": "code",
   "execution_count": null,
   "metadata": {},
   "outputs": [],
   "source": []
  },
  {
   "cell_type": "code",
   "execution_count": 1,
   "metadata": {},
   "outputs": [
    {
     "name": "stdout",
     "output_type": "stream",
     "text": [
      "8\n",
      "0\n",
      "1\n",
      "1\n",
      "2\n",
      "3\n",
      "5\n",
      "8\n",
      "13\n"
     ]
    }
   ],
   "source": [
    "n=int(in8put())\n",
    "#write your code here\n",
    "def fibo(n):\n",
    "   if n <= 1:\n",
    "       return n\n",
    "   else:\n",
    "       return(fibo(n-1) + fibo(n-2))\n",
    "\n",
    "for i in range(n):\n",
    "       print(fibo(i))"
   ]
  },
  {
   "cell_type": "code",
   "execution_count": 1,
   "metadata": {},
   "outputs": [
    {
     "name": "stdout",
     "output_type": "stream",
     "text": [
      "5\n",
      "0\n",
      "1\n",
      "1\n",
      "2\n",
      "3\n"
     ]
    }
   ],
   "source": [
    "#iterative\n",
    "n=int(input())\n",
    "secondLast=0\n",
    "last=1\n",
    "if n>0:\n",
    "    print(secondLast)\n",
    "if n>1:\n",
    "    print(last)\n",
    "for i in range(3,n+1):\n",
    "    nextNumber=last+secondLast\n",
    "    print(nextNumber)\n",
    "    secondLast=last\n",
    "    last=nextNumber \n"
   ]
  },
  {
   "cell_type": "code",
   "execution_count": 6,
   "metadata": {},
   "outputs": [
    {
     "name": "stdout",
     "output_type": "stream",
     "text": [
      "number entered is prime\n"
     ]
    }
   ],
   "source": [
    "num = 3\n",
    "if num > 1:\n",
    "   for i in range(2,num):\n",
    "       if (num % i) == 0:\n",
    "           print(\"number entered is not prime\")\n",
    "           break\n",
    "   else:\n",
    "       print(\"number entered is prime\")\n",
    "else:\n",
    "   print(\"number entered is not prime\")"
   ]
  },
  {
   "cell_type": "code",
   "execution_count": 4,
   "metadata": {},
   "outputs": [
    {
     "name": "stdout",
     "output_type": "stream",
     "text": [
      "3\n",
      "True\n"
     ]
    }
   ],
   "source": [
    "intStr = input()\n",
    "num=int(intStr)\n",
    "# initialize sum\n",
    "sum = 0\n",
    "\n",
    "temp = num\n",
    "while temp > 0:\n",
    "   digit = temp % 10\n",
    "   sum += digit ** len(intStr)\n",
    "   temp //= 10\n",
    "\n",
    "if num == sum:\n",
    "   print(True)\n",
    "else:\n",
    "   print(False)"
   ]
  },
  {
   "cell_type": "code",
   "execution_count": null,
   "metadata": {},
   "outputs": [],
   "source": [
    "Selecting dataframe columns\n",
    "Description\n",
    "Write a program to select all columns of a dataframe except the ones specified.\n",
    "The input will contain a list of columns that you should skip.\n",
    "You should print the first five rows of the dataframe as output where the columns are alphabetically sorted.\n",
    "\n",
    "Sample Input:\n",
    "['PassengerId', 'Pclass', 'Name', 'Sex','Embarked']\n",
    "Sample Output:\n"
   ]
  },
  {
   "cell_type": "code",
   "execution_count": 6,
   "metadata": {},
   "outputs": [
    {
     "ename": "SyntaxError",
     "evalue": "invalid syntax (<ipython-input-6-906dd364466b>, line 1)",
     "output_type": "error",
     "traceback": [
      "\u001b[1;36m  File \u001b[1;32m\"<ipython-input-6-906dd364466b>\"\u001b[1;36m, line \u001b[1;32m1\u001b[0m\n\u001b[1;33m    Two series\u001b[0m\n\u001b[1;37m        ^\u001b[0m\n\u001b[1;31mSyntaxError\u001b[0m\u001b[1;31m:\u001b[0m invalid syntax\n"
     ]
    }
   ],
   "source": [
    "Two series\n",
    "Description\n",
    "Given two pandas series, find the position of elements in series2 in series1.\n",
    "You can assume that all elements in series2 will be present in series1.\n",
    "The input will contain two lines with series1 and series2 respectively.\n",
    "The output should be a list of indexes indicating elements of series2 in series 1.\n",
    "Note: In the output list, the indexes should be in ascending order.\n",
    "Sample Input:\n",
    "[1,2,3,4,5,6,7]\n",
    "[1,3,7]\n",
    "Sample Output:\n",
    "[0,2,6]\n"
   ]
  },
  {
   "cell_type": "code",
   "execution_count": null,
   "metadata": {},
   "outputs": [],
   "source": [
    "mst_list = [1,2,3,4,5,6,7]\n",
    "findLst = [1,3,7]\n",
    "\n"
   ]
  },
  {
   "cell_type": "code",
   "execution_count": null,
   "metadata": {},
   "outputs": [],
   "source": [
    "Cleaning columns\n",
    "Description\n",
    "For the given dataframe, you have to clean the \"Installs\" column and print its correlation with other numeric columns of the dataframe.(print df.corr())\n",
    "You have to do the following:\n",
    "1. Remove characters like ',' from the number of installs.\n",
    "2. Delete rows where the Installs column has irrelevant strings like 'Free'\n",
    "3. Convert the column to int type\n",
    "You can access the dataframe using the following URL in your Jupyter notebook:\n",
    "https://media-doselect.s3.amazonaws.com/generic/8NMooe4G0ENEe8z9q5ZvaZA7/googleplaystore.csv\n",
    "Note: You should try this problem on your own Jupyter notebook before submitting. Do not clean any column other than \"Installs\".\n",
    "Sample Output:\n",
    "            Rating  Installs\n",
    "Rating    1.000000  0.051355\n",
    "Installs  0.051355  1.000000\n",
    "Execution Time Limit"
   ]
  },
  {
   "cell_type": "code",
   "execution_count": null,
   "metadata": {},
   "outputs": [],
   "source": [
    "Capitalise\n",
    "Description\n",
    "Given a sentence as a string, capitalise the first letter of every word. Output the final sentence after capitalising.\n",
    "\n",
    "Hint: Since strings are immutable, you need to output a new string.\n",
    "\n",
    "Example:\n",
    "Input 1:\n",
    "I am now a master of Logistic regression\n",
    "Output 1:\n",
    "I Am Now A Master Of Logistic Regression\n",
    "Execution Time Limit"
   ]
  },
  {
   "cell_type": "code",
   "execution_count": null,
   "metadata": {},
   "outputs": [],
   "source": [
    "Second Maximum Number in a List\n",
    "Description\n",
    "Given a list of numbers, find the second largest number in the list.\n",
    "\n",
    "Note: There might be repeated numbers in the list. If there is only one number present in the list, return 'not present'.\n",
    "\n",
    "Examples:\n",
    "Input 1:\n",
    "[7, 2, 0, 9, -1, 8]\n",
    "Output 1:\n",
    "8\n",
    "\n",
    "Input 2:\n",
    "[3, 1, 4, 4, 5, 5, 5, 0, 2, 2]\n",
    "Output 2:\n",
    "4\n",
    "\n",
    "Input 2:\n",
    "[6, 6, 6, 6, 6]"
   ]
  },
  {
   "cell_type": "code",
   "execution_count": null,
   "metadata": {},
   "outputs": [],
   "source": [
    "import pandas as pd\n",
    "import ast,sys\n",
    "df=pd.read_csv(\"https://media-doselect.s3.amazonaws.com/generic/X0kvr3wEYXRzONE5W37xWWYYA/test.csv\")\n",
    "input_str = sys.stdin.read()\n",
    "to_omit = ast.literal_eval(input_str)\n",
    "df=df[df.columns[~df.columns.isin(to_omit)]]\n",
    "print(df.loc[:, sorted(list(df.columns))].head())"
   ]
  },
  {
   "cell_type": "code",
   "execution_count": null,
   "metadata": {},
   "outputs": [],
   "source": [
    "import ast,sys\n",
    "import pandas as pd\n",
    "input_str = sys.stdin.read()\n",
    "input_list = ast.literal_eval(input_str)\n",
    "series1=pd.Series(input_list[0])\n",
    "series2=pd.Series(input_list[1])\n",
    "out_list=[pd.Index(series1).get_loc(num) for num in series2]\n",
    "print(list(map(int,out_list)))"
   ]
  },
  {
   "cell_type": "code",
   "execution_count": null,
   "metadata": {},
   "outputs": [],
   "source": [
    "import pandas as pd \n",
    "df=pd.read_csv(\"https://media-doselect.s3.amazonaws.com/generic/8NMooe4G0ENEe8z9q5ZvaZA7/googleplaystore.csv\")\n",
    "df.Installs=df.Installs.str.replace(',','')\n",
    "df.Installs=df.Installs.str.replace('+','')\n",
    "df=df[df.Installs!='Free']\n",
    "df.Installs=df.Installs.astype(int)\n",
    "print(df.corr())"
   ]
  },
  {
   "cell_type": "code",
   "execution_count": null,
   "metadata": {},
   "outputs": [],
   "source": [
    "# Read the input string \n",
    "input_string = input()\n",
    "\n",
    "# Split the string at the white spaces so that you have the individual words\n",
    "l = input_string.split(\" \")\n",
    "\n",
    "# Declare a new string since you cannot mutate strings in Python\n",
    "new_s = \"\"\n",
    "\n",
    "# Run a loop for all the words\n",
    "for word in l:\n",
    "    \n",
    "# If the first letter of the word is in lowercase, covert it to uppercase by using \n",
    "# the ord and chr functions. Note that that order of 'a' is 97 and order of 'A' is\n",
    "# 65. So to capitalise, you need to subtract 32.\n",
    "    if(ord(word[0]) >= ord('a') and ord(word[0]) <= ord('z')):\n",
    "        \n",
    "# Add the capitalised character to the new string alongwith a white space. Then\n",
    "# add the rest of the word as well.\n",
    "        new_s = new_s + \" \" + chr(ord(word[0]) - 32)\n",
    "        new_s = new_s + word[1:]\n",
    "        \n",
    "# If the first letter is already capital, just add the word to the new string as is \n",
    "    else:\n",
    "        new_s = new_s + \" \" + word\n",
    "\n",
    "# Print the new string after doing an lstrip() since the first word was also added\n",
    "# with a whitespace\n",
    "print(new_s.lstrip())"
   ]
  },
  {
   "cell_type": "code",
   "execution_count": null,
   "metadata": {},
   "outputs": [],
   "source": [
    "# Read the input list\n",
    "import ast,sys\n",
    "input_str = sys.stdin.read()\n",
    "input_list = ast.literal_eval(input_str)\n",
    "\n",
    "# Declare two variables max1 and max2 which will contain the maximum and the second\n",
    "# maximum element. Choose a very small number (like -10000 in this case). You will\n",
    "# understand why in the next few steps\n",
    "max1 = -10000\n",
    "max2 = -10000\n",
    "    \n",
    "# Run a loop throughout the length of the loop    \n",
    "for i in input_list:\n",
    "\n",
    "# If you encounter a number greater than max1, update the values of both max1 and max2\n",
    "# max2 will now take the value of max1 and max1 will take the value of i\n",
    "    if(i > max1):\n",
    "        max2, max1 = max1, i\n",
    "\n",
    "# Else if you encounter a number which is less than max1 but greater than max2, just\n",
    "# update the value of max2\n",
    "    elif(i < max1 and i > max2):\n",
    "        max2 = i\n",
    "\n",
    "# If max1 is equal to max2, or either of max1 and max2 are -10000 (the initial value),\n",
    "# it means that only one number (repeated several times) is present in the list, so\n",
    "# print not present. Else print the value of max2\n",
    "if((max1 == max2) or (max1 == -10000) or (max2 == -10000)):\n",
    "    print(\"not present\")\n",
    "else:\n",
    "    print(max2)"
   ]
  },
  {
   "cell_type": "code",
   "execution_count": null,
   "metadata": {},
   "outputs": [],
   "source": [
    "# Importing the Pandas package and reading the data\n",
    "import pandas as pd\n",
    "wholesale = pd.read_csv('https://media-doselect.s3.amazonaws.com/generic/OkbnaOBqrBXZOpRQw1JGMgaM9/Wholesale_Data.csv')\n",
    "\n",
    "# Inspecting the first few rows\n",
    "wholesale.head(10)\n",
    "\n",
    "# Checking the value counts of the column 'Channel' to see what all values are present\n",
    "wholesale['Channel'].value_counts()\n",
    "\n",
    "# Define a function to correct the names. Code self-explanatory\n",
    "def correction(x):\n",
    "    if x in ['H', 'Hote', 'Hot']:\n",
    "        x = 'Hotel'\n",
    "    elif x in ['C', 'Caffe']:\n",
    "        x = 'Cafe'\n",
    "    elif x in ['R', 'Rest']:\n",
    "        x = 'Restaurant'\n",
    "    return(x)\n",
    "\n",
    "# Apply the function written above to the column 'Channel'\n",
    "wholesale['Channel'] = wholesale['Channel'].apply(lambda x: correction(x))\n",
    "\n",
    "# Checking the final dataframe\n",
    "wholesale.head()\n",
    "\n",
    "# The final print statement. Please don't edit this part. Also don't write any other\n",
    "# print statement otherwise your answer will not match even if it is correct\n",
    "print(wholesale['Channel'].value_counts())"
   ]
  },
  {
   "cell_type": "code",
   "execution_count": null,
   "metadata": {},
   "outputs": [],
   "source": [
    "# Import Pandas and read the dataframe\n",
    "import pandas as pd\n",
    "wholesale = pd.read_csv('https://media-doselect.s3.amazonaws.com/generic/OqwpypRKN09x5GYej2LvVrprn/Wholesale_Data_Cleaned.csv')\n",
    "\n",
    "# Inspect the dataframe\n",
    "wholesale.head()\n",
    "wholesale.shape\n",
    "\n",
    "# Create a new column 'Total' that contains the sum of all the columns\n",
    "wholesale['Total'] = wholesale.sum(axis=1)\n",
    "\n",
    "# Inspect the dataframe again\n",
    "wholesale.head()\n",
    "\n",
    "# Group the dataframe using 'Channel' as the index, 'Total' as the values, and \n",
    "# 'sum' as the aggfunc\n",
    "channels = wholesale.pivot_table(index='Channel', values = 'Total', aggfunc = 'sum')\n",
    "\n",
    "# Check the grouped dataframe\n",
    "channels.head()\n",
    "\n",
    "# Sort the grouped dataframe and print the smallest value\n",
    "print(channels.sort_values(by='Total').index[0])"
   ]
  },
  {
   "cell_type": "code",
   "execution_count": 20,
   "metadata": {},
   "outputs": [],
   "source": [
    "import pandas as pd\n",
    "import ast,sys\n",
    "restaurants = pd.read_csv('zomato.csv', engine='python')\n",
    "restaurants = restaurants.drop_duplicates().reset_index(drop=True)"
   ]
  },
  {
   "cell_type": "code",
   "execution_count": 21,
   "metadata": {},
   "outputs": [
    {
     "data": {
      "text/plain": [
       "Index(['Restaurant ID', 'Restaurant Name', 'Country Code', 'City', 'Address',\n",
       "       'Locality', 'Locality Verbose', 'Longitude', 'Latitude', 'Cuisines',\n",
       "       'Average Cost for two', 'Currency', 'Has Table booking',\n",
       "       'Has Online delivery', 'Is delivering now', 'Switch to order menu',\n",
       "       'Price range', 'Aggregate rating', 'Rating color', 'Rating text',\n",
       "       'Votes'],\n",
       "      dtype='object')"
      ]
     },
     "execution_count": 21,
     "metadata": {},
     "output_type": "execute_result"
    }
   ],
   "source": [
    "restaurants.columns"
   ]
  },
  {
   "cell_type": "code",
   "execution_count": 22,
   "metadata": {},
   "outputs": [
    {
     "data": {
      "text/html": [
       "<div>\n",
       "<style scoped>\n",
       "    .dataframe tbody tr th:only-of-type {\n",
       "        vertical-align: middle;\n",
       "    }\n",
       "\n",
       "    .dataframe tbody tr th {\n",
       "        vertical-align: top;\n",
       "    }\n",
       "\n",
       "    .dataframe thead th {\n",
       "        text-align: right;\n",
       "    }\n",
       "</style>\n",
       "<table border=\"1\" class=\"dataframe\">\n",
       "  <thead>\n",
       "    <tr style=\"text-align: right;\">\n",
       "      <th></th>\n",
       "      <th>Restaurant Name</th>\n",
       "      <th>City</th>\n",
       "      <th>Address</th>\n",
       "      <th>Cuisines</th>\n",
       "      <th>Price range</th>\n",
       "      <th>Aggregate rating</th>\n",
       "    </tr>\n",
       "  </thead>\n",
       "  <tbody>\n",
       "    <tr>\n",
       "      <th>2157</th>\n",
       "      <td>Grandson of Tunday Kababi</td>\n",
       "      <td>Lucknow</td>\n",
       "      <td>Naaz Cinema Road, Aminabad, Lucknow</td>\n",
       "      <td>Mughlai, Lucknowi</td>\n",
       "      <td>1</td>\n",
       "      <td>4.9</td>\n",
       "    </tr>\n",
       "    <tr>\n",
       "      <th>9084</th>\n",
       "      <td>Gelateria Montecatini Terme</td>\n",
       "      <td>Puducherry</td>\n",
       "      <td>Goubert Avenue, Next To Alliance Franchaise, W...</td>\n",
       "      <td>Desserts</td>\n",
       "      <td>1</td>\n",
       "      <td>4.9</td>\n",
       "    </tr>\n",
       "    <tr>\n",
       "      <th>3481</th>\n",
       "      <td>Indian Accent - The Manor</td>\n",
       "      <td>New Delhi</td>\n",
       "      <td>The Manor, 77, Friends Colony, New Delhi</td>\n",
       "      <td>Modern Indian</td>\n",
       "      <td>4</td>\n",
       "      <td>4.9</td>\n",
       "    </tr>\n",
       "    <tr>\n",
       "      <th>2247</th>\n",
       "      <td>Giri Manja's</td>\n",
       "      <td>Mangalore</td>\n",
       "      <td>Near Kalikamba Temple, Gopalkrishna Temple Roa...</td>\n",
       "      <td>Seafood</td>\n",
       "      <td>2</td>\n",
       "      <td>4.9</td>\n",
       "    </tr>\n",
       "    <tr>\n",
       "      <th>29</th>\n",
       "      <td>Sheroes Hangout</td>\n",
       "      <td>Agra</td>\n",
       "      <td>Opposite The Gateway Hotel, Fatehabad Road, Ta...</td>\n",
       "      <td>Cafe, North Indian, Chinese</td>\n",
       "      <td>1</td>\n",
       "      <td>4.9</td>\n",
       "    </tr>\n",
       "    <tr>\n",
       "      <th>...</th>\n",
       "      <td>...</td>\n",
       "      <td>...</td>\n",
       "      <td>...</td>\n",
       "      <td>...</td>\n",
       "      <td>...</td>\n",
       "      <td>...</td>\n",
       "    </tr>\n",
       "    <tr>\n",
       "      <th>5957</th>\n",
       "      <td>Aggarwal Bikaner Wala</td>\n",
       "      <td>New Delhi</td>\n",
       "      <td>Near Gol Chakkar, Palam Colony, Palam, New Delhi</td>\n",
       "      <td>Mithai, Street Food</td>\n",
       "      <td>1</td>\n",
       "      <td>0.0</td>\n",
       "    </tr>\n",
       "    <tr>\n",
       "      <th>5958</th>\n",
       "      <td>Aggarwal Sweet Centre</td>\n",
       "      <td>New Delhi</td>\n",
       "      <td>Main Road, Kailashpuri, Palam, New Delhi</td>\n",
       "      <td>North Indian</td>\n",
       "      <td>1</td>\n",
       "      <td>0.0</td>\n",
       "    </tr>\n",
       "    <tr>\n",
       "      <th>5959</th>\n",
       "      <td>Aggarwal Sweet India</td>\n",
       "      <td>New Delhi</td>\n",
       "      <td>C-156, Mahavir Enclave Part 3, Palam, New Delhi</td>\n",
       "      <td>Mithai</td>\n",
       "      <td>1</td>\n",
       "      <td>0.0</td>\n",
       "    </tr>\n",
       "    <tr>\n",
       "      <th>5960</th>\n",
       "      <td>Aggarwal Sweets Centre</td>\n",
       "      <td>New Delhi</td>\n",
       "      <td>23/A, Main Road, Indira Park, Palam, New Delhi</td>\n",
       "      <td>Mithai, Street Food, North Indian, South Indian</td>\n",
       "      <td>1</td>\n",
       "      <td>0.0</td>\n",
       "    </tr>\n",
       "    <tr>\n",
       "      <th>4675</th>\n",
       "      <td>Khalsa Dhaba</td>\n",
       "      <td>New Delhi</td>\n",
       "      <td>Jheel Kuranja, Opposite 310, Bus Stop, Krishna...</td>\n",
       "      <td>North Indian</td>\n",
       "      <td>1</td>\n",
       "      <td>0.0</td>\n",
       "    </tr>\n",
       "  </tbody>\n",
       "</table>\n",
       "<p>9351 rows × 6 columns</p>\n",
       "</div>"
      ],
      "text/plain": [
       "                  Restaurant Name        City  \\\n",
       "2157    Grandson of Tunday Kababi     Lucknow   \n",
       "9084  Gelateria Montecatini Terme  Puducherry   \n",
       "3481    Indian Accent - The Manor   New Delhi   \n",
       "2247                 Giri Manja's   Mangalore   \n",
       "29                Sheroes Hangout        Agra   \n",
       "...                           ...         ...   \n",
       "5957        Aggarwal Bikaner Wala   New Delhi   \n",
       "5958        Aggarwal Sweet Centre   New Delhi   \n",
       "5959         Aggarwal Sweet India   New Delhi   \n",
       "5960       Aggarwal Sweets Centre   New Delhi   \n",
       "4675                 Khalsa Dhaba   New Delhi   \n",
       "\n",
       "                                                Address  \\\n",
       "2157                Naaz Cinema Road, Aminabad, Lucknow   \n",
       "9084  Goubert Avenue, Next To Alliance Franchaise, W...   \n",
       "3481           The Manor, 77, Friends Colony, New Delhi   \n",
       "2247  Near Kalikamba Temple, Gopalkrishna Temple Roa...   \n",
       "29    Opposite The Gateway Hotel, Fatehabad Road, Ta...   \n",
       "...                                                 ...   \n",
       "5957   Near Gol Chakkar, Palam Colony, Palam, New Delhi   \n",
       "5958           Main Road, Kailashpuri, Palam, New Delhi   \n",
       "5959    C-156, Mahavir Enclave Part 3, Palam, New Delhi   \n",
       "5960     23/A, Main Road, Indira Park, Palam, New Delhi   \n",
       "4675  Jheel Kuranja, Opposite 310, Bus Stop, Krishna...   \n",
       "\n",
       "                                             Cuisines  Price range  \\\n",
       "2157                                Mughlai, Lucknowi            1   \n",
       "9084                                         Desserts            1   \n",
       "3481                                    Modern Indian            4   \n",
       "2247                                          Seafood            2   \n",
       "29                        Cafe, North Indian, Chinese            1   \n",
       "...                                               ...          ...   \n",
       "5957                              Mithai, Street Food            1   \n",
       "5958                                     North Indian            1   \n",
       "5959                                           Mithai            1   \n",
       "5960  Mithai, Street Food, North Indian, South Indian            1   \n",
       "4675                                     North Indian            1   \n",
       "\n",
       "      Aggregate rating  \n",
       "2157               4.9  \n",
       "9084               4.9  \n",
       "3481               4.9  \n",
       "2247               4.9  \n",
       "29                 4.9  \n",
       "...                ...  \n",
       "5957               0.0  \n",
       "5958               0.0  \n",
       "5959               0.0  \n",
       "5960               0.0  \n",
       "4675               0.0  \n",
       "\n",
       "[9351 rows x 6 columns]"
      ]
     },
     "execution_count": 22,
     "metadata": {},
     "output_type": "execute_result"
    }
   ],
   "source": [
    "restaurants = restaurants[['Restaurant Name', 'City', 'Address', \\\n",
    "                           'Cuisines', 'Price range', 'Aggregate rating', 'Average Cost for two']]\n",
    "restaurants.sort_values(by = 'Aggregate rating', ascending=False)"
   ]
  },
  {
   "cell_type": "code",
   "execution_count": null,
   "metadata": {},
   "outputs": [],
   "source": [
    "restaurants\n",
    "\n",
    "\n",
    "filter = restaurants['City'].isin(['bangalore']) & \\\n",
    "            restaurants['Cuisines'].isin([FUNDING_TYPE])\n",
    "            \n",
    "    D = smc[DFilter]\n"
   ]
  },
  {
   "cell_type": "code",
   "execution_count": 141,
   "metadata": {},
   "outputs": [],
   "source": [
    "def cusineFound(inCusine, cusines):\n",
    "    inCusine = inCusine.strip()\n",
    "    cusines = cusines.strip()\n",
    "    return cusines.find(inCusine)"
   ]
  },
  {
   "cell_type": "code",
   "execution_count": 142,
   "metadata": {},
   "outputs": [
    {
     "data": {
      "text/plain": [
       "0"
      ]
     },
     "execution_count": 142,
     "metadata": {},
     "output_type": "execute_result"
    }
   ],
   "source": [
    "cusineFound(\"indian \", \"indian, veggie, american\")"
   ]
  },
  {
   "cell_type": "code",
   "execution_count": 96,
   "metadata": {},
   "outputs": [
    {
     "name": "stdout",
     "output_type": "stream",
     "text": [
      "Restaurant Name     9351\n",
      "City                9351\n",
      "Address             9351\n",
      "Cuisines            9351\n",
      "Price range         9351\n",
      "Aggregate rating    9351\n",
      "dtype: int64\n",
      "Restaurant Name     249\n",
      "City                249\n",
      "Address             249\n",
      "Cuisines            249\n",
      "Price range         249\n",
      "Aggregate rating    249\n",
      "dtype: int64\n"
     ]
    },
    {
     "data": {
      "text/html": [
       "<div>\n",
       "<style scoped>\n",
       "    .dataframe tbody tr th:only-of-type {\n",
       "        vertical-align: middle;\n",
       "    }\n",
       "\n",
       "    .dataframe tbody tr th {\n",
       "        vertical-align: top;\n",
       "    }\n",
       "\n",
       "    .dataframe thead th {\n",
       "        text-align: right;\n",
       "    }\n",
       "</style>\n",
       "<table border=\"1\" class=\"dataframe\">\n",
       "  <thead>\n",
       "    <tr style=\"text-align: right;\">\n",
       "      <th></th>\n",
       "      <th>Restaurant Name</th>\n",
       "      <th>City</th>\n",
       "      <th>Address</th>\n",
       "      <th>Cuisines</th>\n",
       "      <th>Price range</th>\n",
       "      <th>Aggregate rating</th>\n",
       "    </tr>\n",
       "  </thead>\n",
       "  <tbody>\n",
       "    <tr>\n",
       "      <th>71</th>\n",
       "      <td>Mazzo</td>\n",
       "      <td>Ahmedabad</td>\n",
       "      <td>27, Sunshine Villa, Sunrise Park Society, Vast...</td>\n",
       "      <td>Cafe, American, Continental, Armenian, Fast Food</td>\n",
       "      <td>2</td>\n",
       "      <td>3.9</td>\n",
       "    </tr>\n",
       "    <tr>\n",
       "      <th>82</th>\n",
       "      <td>KFC</td>\n",
       "      <td>Allahabad</td>\n",
       "      <td>P Square Mall, Civil Lines, Allahabad</td>\n",
       "      <td>American, Fast Food</td>\n",
       "      <td>3</td>\n",
       "      <td>3.4</td>\n",
       "    </tr>\n",
       "    <tr>\n",
       "      <th>86</th>\n",
       "      <td>Subway</td>\n",
       "      <td>Allahabad</td>\n",
       "      <td>207/53, Mahatma Gandhi Marg, Civil Lines, Alla...</td>\n",
       "      <td>Fast Food, American, Salad, Healthy Food</td>\n",
       "      <td>2</td>\n",
       "      <td>3.4</td>\n",
       "    </tr>\n",
       "    <tr>\n",
       "      <th>105</th>\n",
       "      <td>Pizza Hut</td>\n",
       "      <td>Allahabad</td>\n",
       "      <td>Shop 31/31, S. P. Marg, Civil Lines, Allahabad</td>\n",
       "      <td>Pizza, Fast Food, Finger Food, American</td>\n",
       "      <td>3</td>\n",
       "      <td>4.2</td>\n",
       "    </tr>\n",
       "    <tr>\n",
       "      <th>202</th>\n",
       "      <td>Toit</td>\n",
       "      <td>Bangalore</td>\n",
       "      <td>298, 100 Feet Road, Namma Metro Pillar 62, Ind...</td>\n",
       "      <td>Italian, American, Modern Indian</td>\n",
       "      <td>4</td>\n",
       "      <td>4.6</td>\n",
       "    </tr>\n",
       "  </tbody>\n",
       "</table>\n",
       "</div>"
      ],
      "text/plain": [
       "    Restaurant Name       City  \\\n",
       "71            Mazzo  Ahmedabad   \n",
       "82              KFC  Allahabad   \n",
       "86           Subway  Allahabad   \n",
       "105       Pizza Hut  Allahabad   \n",
       "202            Toit  Bangalore   \n",
       "\n",
       "                                               Address  \\\n",
       "71   27, Sunshine Villa, Sunrise Park Society, Vast...   \n",
       "82               P Square Mall, Civil Lines, Allahabad   \n",
       "86   207/53, Mahatma Gandhi Marg, Civil Lines, Alla...   \n",
       "105     Shop 31/31, S. P. Marg, Civil Lines, Allahabad   \n",
       "202  298, 100 Feet Road, Namma Metro Pillar 62, Ind...   \n",
       "\n",
       "                                             Cuisines  Price range  \\\n",
       "71   Cafe, American, Continental, Armenian, Fast Food            2   \n",
       "82                                American, Fast Food            3   \n",
       "86           Fast Food, American, Salad, Healthy Food            2   \n",
       "105           Pizza, Fast Food, Finger Food, American            3   \n",
       "202                  Italian, American, Modern Indian            4   \n",
       "\n",
       "     Aggregate rating  \n",
       "71                3.9  \n",
       "82                3.4  \n",
       "86                3.4  \n",
       "105               4.2  \n",
       "202               4.6  "
      ]
     },
     "execution_count": 96,
     "metadata": {},
     "output_type": "execute_result"
    }
   ],
   "source": [
    "cus = 'american'\n",
    "\n",
    "print(restaurants.count())\n",
    "\n",
    "TEMP = restaurants[restaurants['Cuisines'].apply(lambda x: cus in x.lower())]\n",
    "\n",
    "print(TEMP.count())\n",
    "TEMP.head()\n",
    "\n"
   ]
  },
  {
   "cell_type": "code",
   "execution_count": 164,
   "metadata": {},
   "outputs": [],
   "source": [
    "def getZomatoRestaurants():\n",
    "    restaurants = pd.read_csv('zomato.csv', engine='python')\n",
    "    restaurants = restaurants.drop_duplicates().reset_index(drop=True)\n",
    "    \n",
    "    restaurants['City'] = restaurants['City'].apply(str.lower)\n",
    "    restaurants['City'] = restaurants['City'].apply(str.strip)\n",
    "    \n",
    "    restaurants['Cuisines'] = restaurants['Cuisines'].apply(str.lower)\n",
    "    \n",
    "    return restaurants"
   ]
  },
  {
   "cell_type": "code",
   "execution_count": 165,
   "metadata": {},
   "outputs": [],
   "source": [
    "def getTopNRatedRestaurants(city, cuisine, priceRange, N):\n",
    "    city = city.strip()\n",
    "    cuisine = cuisine.strip()\n",
    "    \n",
    "    restaurants = getZomatoRestaurants()\n",
    "    restaurants = restaurants[['Restaurant Name', 'City', 'Address', 'Cuisines', 'Price range', 'Aggregate rating']]\n",
    "    \n",
    "    f1 = restaurants['Cuisines'].apply(lambda x: cus in x.lower())    \n",
    "    f2 = restaurants['City'].isin([city])\n",
    "    f3 = restaurants['Price range'].isin([priceRange])\n",
    "                                                            \n",
    "    restaurants = restaurants[f1 & f2 & f3]\n",
    "    \n",
    "    retRows = restaurants.sort_values(by = 'Aggregate rating', ascending = False)\n",
    "    retRows = retRows.head(N)\n",
    "    return retRows"
   ]
  },
  {
   "cell_type": "code",
   "execution_count": 166,
   "metadata": {},
   "outputs": [
    {
     "data": {
      "text/html": [
       "<div>\n",
       "<style scoped>\n",
       "    .dataframe tbody tr th:only-of-type {\n",
       "        vertical-align: middle;\n",
       "    }\n",
       "\n",
       "    .dataframe tbody tr th {\n",
       "        vertical-align: top;\n",
       "    }\n",
       "\n",
       "    .dataframe thead th {\n",
       "        text-align: right;\n",
       "    }\n",
       "</style>\n",
       "<table border=\"1\" class=\"dataframe\">\n",
       "  <thead>\n",
       "    <tr style=\"text-align: right;\">\n",
       "      <th></th>\n",
       "      <th>Restaurant Name</th>\n",
       "      <th>City</th>\n",
       "      <th>Address</th>\n",
       "      <th>Cuisines</th>\n",
       "      <th>Price range</th>\n",
       "      <th>Aggregate rating</th>\n",
       "    </tr>\n",
       "  </thead>\n",
       "  <tbody>\n",
       "    <tr>\n",
       "      <th>202</th>\n",
       "      <td>Toit</td>\n",
       "      <td>bangalore</td>\n",
       "      <td>298, 100 Feet Road, Namma Metro Pillar 62, Ind...</td>\n",
       "      <td>italian, american, modern indian</td>\n",
       "      <td>4</td>\n",
       "      <td>4.6</td>\n",
       "    </tr>\n",
       "  </tbody>\n",
       "</table>\n",
       "</div>"
      ],
      "text/plain": [
       "    Restaurant Name       City  \\\n",
       "202            Toit  bangalore   \n",
       "\n",
       "                                               Address  \\\n",
       "202  298, 100 Feet Road, Namma Metro Pillar 62, Ind...   \n",
       "\n",
       "                             Cuisines  Price range  Aggregate rating  \n",
       "202  italian, american, modern indian            4               4.6  "
      ]
     },
     "execution_count": 166,
     "metadata": {},
     "output_type": "execute_result"
    }
   ],
   "source": [
    "getTopNRatedRestaurants('bangalore', 'american', 4, 10)"
   ]
  },
  {
   "cell_type": "code",
   "execution_count": 168,
   "metadata": {},
   "outputs": [
    {
     "data": {
      "text/html": [
       "<div>\n",
       "<style scoped>\n",
       "    .dataframe tbody tr th:only-of-type {\n",
       "        vertical-align: middle;\n",
       "    }\n",
       "\n",
       "    .dataframe tbody tr th {\n",
       "        vertical-align: top;\n",
       "    }\n",
       "\n",
       "    .dataframe thead th {\n",
       "        text-align: right;\n",
       "    }\n",
       "</style>\n",
       "<table border=\"1\" class=\"dataframe\">\n",
       "  <thead>\n",
       "    <tr style=\"text-align: right;\">\n",
       "      <th></th>\n",
       "      <th>Restaurant ID</th>\n",
       "      <th>Restaurant Name</th>\n",
       "      <th>City</th>\n",
       "      <th>Address</th>\n",
       "      <th>Cuisines</th>\n",
       "      <th>Price range</th>\n",
       "      <th>Aggregate rating</th>\n",
       "    </tr>\n",
       "  </thead>\n",
       "  <tbody>\n",
       "    <tr>\n",
       "      <th>995</th>\n",
       "      <td>18384115</td>\n",
       "      <td>Caterspoint</td>\n",
       "      <td>gurgaon</td>\n",
       "      <td>S-27/11, DLF Phase 3, Gurgaon</td>\n",
       "      <td>mexican, american, healthy food</td>\n",
       "      <td>2</td>\n",
       "      <td>4.9</td>\n",
       "    </tr>\n",
       "    <tr>\n",
       "      <th>213</th>\n",
       "      <td>51040</td>\n",
       "      <td>Truffles</td>\n",
       "      <td>bangalore</td>\n",
       "      <td>28, 4th B Cross, Koramangala 5th Block, Bangalore</td>\n",
       "      <td>cafe, american, coffee, steak, beverages, fast...</td>\n",
       "      <td>2</td>\n",
       "      <td>4.8</td>\n",
       "    </tr>\n",
       "    <tr>\n",
       "      <th>344</th>\n",
       "      <td>73088</td>\n",
       "      <td>Chili's</td>\n",
       "      <td>chennai</td>\n",
       "      <td>49 &amp; 50 L, Express Avenue Mall, White's Road, ...</td>\n",
       "      <td>mexican, american, tex-mex, burger</td>\n",
       "      <td>3</td>\n",
       "      <td>4.8</td>\n",
       "    </tr>\n",
       "    <tr>\n",
       "      <th>1452</th>\n",
       "      <td>18418247</td>\n",
       "      <td>feel ALIVE</td>\n",
       "      <td>gurgaon</td>\n",
       "      <td>SCO 53, 2nd Floor, Main Market, Sector 29, Gur...</td>\n",
       "      <td>north indian, american, asian, biryani</td>\n",
       "      <td>3</td>\n",
       "      <td>4.7</td>\n",
       "    </tr>\n",
       "    <tr>\n",
       "      <th>6879</th>\n",
       "      <td>18237321</td>\n",
       "      <td>Echoes Satyaniketan</td>\n",
       "      <td>new delhi</td>\n",
       "      <td>17, 1st Floor, Opposite Sri Venkateshwara Coll...</td>\n",
       "      <td>cafe, continental, italian, mexican, chinese, ...</td>\n",
       "      <td>2</td>\n",
       "      <td>4.7</td>\n",
       "    </tr>\n",
       "    <tr>\n",
       "      <th>212</th>\n",
       "      <td>18439634</td>\n",
       "      <td>ECHOES Koramangala</td>\n",
       "      <td>bangalore</td>\n",
       "      <td>44, 4th B Cross, Koramangala 5th Block, Bangalore</td>\n",
       "      <td>continental, american, italian, north indian, ...</td>\n",
       "      <td>2</td>\n",
       "      <td>4.7</td>\n",
       "    </tr>\n",
       "    <tr>\n",
       "      <th>1935</th>\n",
       "      <td>97824</td>\n",
       "      <td>Chili's</td>\n",
       "      <td>hyderabad</td>\n",
       "      <td>Flat 48, Ground Floor, Opposite Vengal Rao Par...</td>\n",
       "      <td>mexican, american, tex-mex, burger</td>\n",
       "      <td>3</td>\n",
       "      <td>4.7</td>\n",
       "    </tr>\n",
       "    <tr>\n",
       "      <th>2306</th>\n",
       "      <td>18408295</td>\n",
       "      <td>Stacks And Racks</td>\n",
       "      <td>mumbai</td>\n",
       "      <td>Shop 1, Ganga Nivas, Opposite Toyota Showroom,...</td>\n",
       "      <td>american, burger, fast food</td>\n",
       "      <td>2</td>\n",
       "      <td>4.6</td>\n",
       "    </tr>\n",
       "    <tr>\n",
       "      <th>1092</th>\n",
       "      <td>18427868</td>\n",
       "      <td>Dudleys</td>\n",
       "      <td>gurgaon</td>\n",
       "      <td>Plot 1605, Sector 53, Golf Course Road, Gurgaon</td>\n",
       "      <td>american, continental, burger</td>\n",
       "      <td>3</td>\n",
       "      <td>4.6</td>\n",
       "    </tr>\n",
       "    <tr>\n",
       "      <th>1078</th>\n",
       "      <td>303960</td>\n",
       "      <td>Manhattan Brewery &amp; Bar Exchange</td>\n",
       "      <td>gurgaon</td>\n",
       "      <td>1st Floor, Global Foyer Mall, Sector 43, Golf ...</td>\n",
       "      <td>finger food, american, continental, north indi...</td>\n",
       "      <td>4</td>\n",
       "      <td>4.6</td>\n",
       "    </tr>\n",
       "  </tbody>\n",
       "</table>\n",
       "</div>"
      ],
      "text/plain": [
       "      Restaurant ID                   Restaurant Name       City  \\\n",
       "995        18384115                       Caterspoint    gurgaon   \n",
       "213           51040                          Truffles  bangalore   \n",
       "344           73088                           Chili's    chennai   \n",
       "1452       18418247                        feel ALIVE    gurgaon   \n",
       "6879       18237321               Echoes Satyaniketan  new delhi   \n",
       "212        18439634                ECHOES Koramangala  bangalore   \n",
       "1935          97824                           Chili's  hyderabad   \n",
       "2306       18408295                  Stacks And Racks     mumbai   \n",
       "1092       18427868                           Dudleys    gurgaon   \n",
       "1078         303960  Manhattan Brewery & Bar Exchange    gurgaon   \n",
       "\n",
       "                                                Address  \\\n",
       "995                       S-27/11, DLF Phase 3, Gurgaon   \n",
       "213   28, 4th B Cross, Koramangala 5th Block, Bangalore   \n",
       "344   49 & 50 L, Express Avenue Mall, White's Road, ...   \n",
       "1452  SCO 53, 2nd Floor, Main Market, Sector 29, Gur...   \n",
       "6879  17, 1st Floor, Opposite Sri Venkateshwara Coll...   \n",
       "212   44, 4th B Cross, Koramangala 5th Block, Bangalore   \n",
       "1935  Flat 48, Ground Floor, Opposite Vengal Rao Par...   \n",
       "2306  Shop 1, Ganga Nivas, Opposite Toyota Showroom,...   \n",
       "1092    Plot 1605, Sector 53, Golf Course Road, Gurgaon   \n",
       "1078  1st Floor, Global Foyer Mall, Sector 43, Golf ...   \n",
       "\n",
       "                                               Cuisines  Price range  \\\n",
       "995                     mexican, american, healthy food            2   \n",
       "213   cafe, american, coffee, steak, beverages, fast...            2   \n",
       "344                  mexican, american, tex-mex, burger            3   \n",
       "1452             north indian, american, asian, biryani            3   \n",
       "6879  cafe, continental, italian, mexican, chinese, ...            2   \n",
       "212   continental, american, italian, north indian, ...            2   \n",
       "1935                 mexican, american, tex-mex, burger            3   \n",
       "2306                        american, burger, fast food            2   \n",
       "1092                      american, continental, burger            3   \n",
       "1078  finger food, american, continental, north indi...            4   \n",
       "\n",
       "      Aggregate rating  \n",
       "995                4.9  \n",
       "213                4.8  \n",
       "344                4.8  \n",
       "1452               4.7  \n",
       "6879               4.7  \n",
       "212                4.7  \n",
       "1935               4.7  \n",
       "2306               4.6  \n",
       "1092               4.6  \n",
       "1078               4.6  "
      ]
     },
     "execution_count": 168,
     "metadata": {},
     "output_type": "execute_result"
    }
   ],
   "source": [
    "cuisine = \"mexican\"\n",
    "city = \"bangalore\"\n",
    "\n",
    "restaurants = getZomatoRestaurants()\n",
    "restaurants = restaurants[['Restaurant ID', 'Restaurant Name', 'City', 'Address', \\\n",
    "                           'Cuisines', 'Price range', 'Aggregate rating']]\n",
    "\n",
    "f1 = restaurants['Cuisines'].apply(lambda x: cus in x.lower())    \n",
    "f2 = restaurants['City'].isin([city])\n",
    "\n",
    "restaurants = restaurants[f1] ## & f2]\n",
    "\n",
    "retRows = restaurants.sort_values(by = 'Aggregate rating', ascending = False)\n",
    "retRows = retRows.head(10)\n",
    "retRows"
   ]
  },
  {
   "cell_type": "code",
   "execution_count": null,
   "metadata": {},
   "outputs": [],
   "source": []
  },
  {
   "cell_type": "markdown",
   "metadata": {},
   "source": [
    "### Python code for working with Elastic Search"
   ]
  },
  {
   "cell_type": "code",
   "execution_count": 1,
   "metadata": {},
   "outputs": [],
   "source": [
    "from datetime import datetime\n",
    "from elasticsearch import Elasticsearch\n",
    "es = Elasticsearch()"
   ]
  },
  {
   "cell_type": "code",
   "execution_count": 60,
   "metadata": {},
   "outputs": [
    {
     "name": "stdout",
     "output_type": "stream",
     "text": [
      "created\n"
     ]
    }
   ],
   "source": [
    "doc = {\n",
    "    \"name\": \"Jayalalitha\",\n",
    "    \"age\": \"75\",\n",
    "    \"region\": \"South Indian\",\n",
    "    \"state\": \"Tamil Nadu\"\n",
    "}\n",
    "res = es.index(index=\"indian\", doc_type=\"statewise\", id=\"2115\", body=doc)\n",
    "print(res['result'])"
   ]
  },
  {
   "cell_type": "code",
   "execution_count": 61,
   "metadata": {},
   "outputs": [
    {
     "name": "stdout",
     "output_type": "stream",
     "text": [
      "{'_index': 'indian', '_type': 'statewise', '_id': '2115', '_version': 1, 'result': 'created', '_shards': {'total': 2, 'successful': 1, 'failed': 0}, '_seq_no': 15, '_primary_term': 1}\n"
     ]
    }
   ],
   "source": [
    "print(res)"
   ]
  },
  {
   "cell_type": "code",
   "execution_count": 2,
   "metadata": {},
   "outputs": [
    {
     "data": {
      "text/plain": [
       "{'_shards': {'total': 2, 'successful': 1, 'failed': 0}}"
      ]
     },
     "execution_count": 2,
     "metadata": {},
     "output_type": "execute_result"
    }
   ],
   "source": [
    "es.indices.refresh(index=\"indian\")"
   ]
  },
  {
   "cell_type": "markdown",
   "metadata": {},
   "source": [
    "#### Query the value. Use some json formatter to see the values"
   ]
  },
  {
   "cell_type": "code",
   "execution_count": 10,
   "metadata": {},
   "outputs": [
    {
     "name": "stdout",
     "output_type": "stream",
     "text": [
      "{'name': 'Kumaraguru M', 'age': '28', 'region': 'South Indian', 'state': 'Tamil Nadu'}\n",
      "-----------\n",
      "{'name': 'Muthuraj', 'age': '60', 'region': 'South Indian', 'state': 'Andhra Pradesh'}\n",
      "-----------\n",
      "{'name': 'Bhavishyaa', 'age': '7', 'region': 'South Indian', 'state': 'Karnataka'}\n",
      "-----------\n",
      "{'name': 'Kumaraguru M', 'age': '28', 'region': 'South Indian', 'state': 'Tamil Nadu'}\n",
      "-----------\n",
      "{'name': 'Narendra', 'age': '75', 'region': 'North Indian', 'state': 'Gujarat'}\n",
      "-----------\n",
      "{'name': 'Jayalalitha', 'age': '75', 'region': 'South Indian', 'state': 'Tamil Nadu'}\n",
      "-----------\n",
      "{'doc': {'name': 'Jayalalitha1120', 'age': '75', 'region': 'South Indian', 'state': 'Tamil Nadu'}}\n",
      "-----------\n",
      "{'doc': {'name': 'Jayalalitha1121', 'age': '75', 'region': 'South Indian', 'state': 'Tamil Nadu'}}\n",
      "-----------\n",
      "{'doc': {'name': 'Jayalalitha1122', 'age': '75', 'region': 'South Indian', 'state': 'Tamil Nadu'}}\n",
      "-----------\n",
      "{'doc': {'name': 'Jayalalitha1123', 'age': '75', 'region': 'South Indian', 'state': 'Tamil Nadu'}}\n",
      "-----------\n"
     ]
    }
   ],
   "source": [
    "res = es.search(index=\"indian\", body={\"query\": {\"match_all\": {}}})\n",
    "#print(\"Got %d Hits:\" % res['hits']['total']['value'])\n",
    "#print(res['hits']['hits'])\n",
    "for hit in res['hits']['hits']:\n",
    " #   print(\"%(name)s, %(age)s, %(region)s, %(state)s \" % hit[\"_source\"])\n",
    "    print(hit['_source'])\n",
    "    print(\"-----------\")"
   ]
  },
  {
   "cell_type": "code",
   "execution_count": 4,
   "metadata": {},
   "outputs": [
    {
     "name": "stdout",
     "output_type": "stream",
     "text": [
      "{'_index': 'mywords', 'word': 'foo'}\n",
      "{'_index': 'mywords', 'word': 'bar'}\n",
      "{'_index': 'mywords', 'word': 'baz'}\n",
      "{'_index': 'mywords', 'word': 'word4'}\n"
     ]
    }
   ],
   "source": [
    "def gendata():\n",
    "    mywords = ['foo', 'bar', 'baz', 'word4']\n",
    "    for word in mywords:\n",
    "        yield {\n",
    "            \"_index\": \"mywords\",\n",
    "            \"word\": word,\n",
    "        }\n",
    "\n",
    "for x in gendata():\n",
    "    print(x)\n"
   ]
  },
  {
   "cell_type": "code",
   "execution_count": 7,
   "metadata": {},
   "outputs": [
    {
     "name": "stdout",
     "output_type": "stream",
     "text": [
      "{'_op_type': 'create', '_index': 'indian', '_id': 1145, 'doc': {'name': 'Jayalalitha1145', 'age': '75', 'region': 'South Indian', 'state': 'Tamil Nadu'}}\n",
      "{'_op_type': 'create', '_index': 'indian', '_id': 1146, 'doc': {'name': 'Jayalalitha1146', 'age': '75', 'region': 'South Indian', 'state': 'Tamil Nadu'}}\n",
      "{'_op_type': 'create', '_index': 'indian', '_id': 1147, 'doc': {'name': 'Jayalalitha1147', 'age': '75', 'region': 'South Indian', 'state': 'Tamil Nadu'}}\n",
      "{'_op_type': 'create', '_index': 'indian', '_id': 1148, 'doc': {'name': 'Jayalalitha1148', 'age': '75', 'region': 'South Indian', 'state': 'Tamil Nadu'}}\n",
      "{'_op_type': 'create', '_index': 'indian', '_id': 1149, 'doc': {'name': 'Jayalalitha1149', 'age': '75', 'region': 'South Indian', 'state': 'Tamil Nadu'}}\n"
     ]
    }
   ],
   "source": [
    "def genIndians():\n",
    "    for id in range(1145, 1150):\n",
    "        nam = \"Jayalalitha\" + str(id)\n",
    "        yield {\n",
    "            '_op_type': 'create',\n",
    "            '_index': 'indian',\n",
    "            '_id': id,\n",
    "            \"doc\": {\n",
    "                \"name\": nam,\n",
    "                \"age\": \"75\",\n",
    "                \"region\": \"South Indian\",\n",
    "                \"state\": \"Tamil Nadu\"\n",
    "            }\n",
    "        }\n",
    "    \n",
    "for x in genIndians():\n",
    "    print(x)\n",
    "\n"
   ]
  },
  {
   "cell_type": "code",
   "execution_count": 8,
   "metadata": {},
   "outputs": [],
   "source": [
    "from elasticsearch import helpers\n",
    "res = helpers.bulk(es, genIndians())"
   ]
  },
  {
   "cell_type": "code",
   "execution_count": 9,
   "metadata": {},
   "outputs": [
    {
     "name": "stdout",
     "output_type": "stream",
     "text": [
      "<class 'tuple'>\n"
     ]
    }
   ],
   "source": [
    "print(type(res))"
   ]
  },
  {
   "cell_type": "code",
   "execution_count": 67,
   "metadata": {},
   "outputs": [],
   "source": [
    "for success, info in helpers.parallel_bulk(es, genIndians()):\n",
    "    if not success:\n",
    "        print('A document failed:', info)"
   ]
  },
  {
   "cell_type": "code",
   "execution_count": 29,
   "metadata": {},
   "outputs": [
    {
     "name": "stdout",
     "output_type": "stream",
     "text": [
      "{'_op_type': 'create', '_index': 'test-wxcc-contact-activity-202104', 'doc_type': 'cars', '_id': 'recordid-5', 'doc': {'cstts': 1618811222625, 'agentSystemId__s': 'AXA9VVrq9S1oTdqE1NX0', 'agentId__s': 'AgentId_1', 'agentName__s': 'AgentName_1', 'entrypointId__s': 'EntryPointId_1', 'entrypointName__s': 'EntryPointName_1', 'queueId__s': 'QueueId_1', 'queueName__s': 'QueueName_1', 'agentDn__s': '', 'outdialFlag__i': 0, 'agentSessionId__s': '75a5ac99-8743-44a5-842c-bbbb520fd6eb', 'ani__s': '', 'dnis__s': 'xxxxx', 'sid': 'csr_for_which_cars_exists_with_array_fields', 'callSessionId__s': '4ab46a68-8e6a-468b-8b34-41685447b227', 'channelType__s': '', 'subChannelType__s': 'dialer', 'channelId__s': '', 'currentState__s': 'connect', 'entrypointSystemId__s': 'AXA9Q7Ss9S1oTdqE1NVY', 'queueSystemId__s': 'AXA9Q7S99S1oTdqE1NVZ', 'siteId__s': 'AXA94srvjkwgAuS7pX0b', 'siteSystemId__s': 'AXA94srvjkwgAuS7pX0b', 'siteName__s': 'North', 'teamId__s': 'AXA946v2efBr7nI0fOhx', 'teamSystemId__s': 'AXA946v2efBr7nI0fOhx', 'teamName__s': 'Bengalore_DAL', 'tid': 28, 'cetts': 1596804843851, 'duration__l': 16478, 'orgId__s': '97cdbf45-ebe2-4687-8341-44d5c7abf101', 'orgType__s': '2', 'contactDirection__s': 'outdial', 'count__i': 1, 'previousState__s': 'new'}}\n",
      "{'_op_type': 'create', '_index': 'test-wxcc-contact-activity-202104', 'doc_type': 'cars', '_id': 'recordid-6', 'doc': {'cstts': 1618811222626, 'agentSystemId__s': 'AXA9VVrq9S1oTdqE1NX0', 'agentId__s': 'AgentId_1', 'agentName__s': 'AgentName_1', 'entrypointId__s': 'EntryPointId_1', 'entrypointName__s': 'EntryPointName_1', 'queueId__s': 'QueueId_1', 'queueName__s': 'QueueName_1', 'agentDn__s': '', 'outdialFlag__i': 0, 'agentSessionId__s': '75a5ac99-8743-44a5-842c-bbbb520fd6eb', 'ani__s': '', 'dnis__s': 'xxxxx', 'sid': 'csr_for_which_cars_exists_with_array_fields', 'callSessionId__s': '4ab46a68-8e6a-468b-8b34-41685447b227', 'channelType__s': '', 'subChannelType__s': 'dialer', 'channelId__s': '', 'currentState__s': 'connect', 'entrypointSystemId__s': 'AXA9Q7Ss9S1oTdqE1NVY', 'queueSystemId__s': 'AXA9Q7S99S1oTdqE1NVZ', 'siteId__s': 'AXA94srvjkwgAuS7pX0b', 'siteSystemId__s': 'AXA94srvjkwgAuS7pX0b', 'siteName__s': 'North', 'teamId__s': 'AXA946v2efBr7nI0fOhx', 'teamSystemId__s': 'AXA946v2efBr7nI0fOhx', 'teamName__s': 'Bengalore_DAL', 'tid': 29, 'cetts': 1596804843852, 'duration__l': 16479, 'orgId__s': '97cdbf45-ebe2-4687-8341-44d5c7abf101', 'orgType__s': '2', 'contactDirection__s': 'outdial', 'count__i': 1, 'previousState__s': 'new'}}\n",
      "{'_op_type': 'create', '_index': 'test-wxcc-contact-activity-202104', 'doc_type': 'cars', '_id': 'recordid-7', 'doc': {'cstts': 1618811222627, 'agentSystemId__s': 'AXA9VVrq9S1oTdqE1NX0', 'agentId__s': 'AgentId_1', 'agentName__s': 'AgentName_1', 'entrypointId__s': 'EntryPointId_1', 'entrypointName__s': 'EntryPointName_1', 'queueId__s': 'QueueId_1', 'queueName__s': 'QueueName_1', 'agentDn__s': '', 'outdialFlag__i': 0, 'agentSessionId__s': '75a5ac99-8743-44a5-842c-bbbb520fd6eb', 'ani__s': '', 'dnis__s': 'xxxxx', 'sid': 'csr_for_which_cars_exists_with_array_fields', 'callSessionId__s': '4ab46a68-8e6a-468b-8b34-41685447b227', 'channelType__s': '', 'subChannelType__s': 'dialer', 'channelId__s': '', 'currentState__s': 'connect', 'entrypointSystemId__s': 'AXA9Q7Ss9S1oTdqE1NVY', 'queueSystemId__s': 'AXA9Q7S99S1oTdqE1NVZ', 'siteId__s': 'AXA94srvjkwgAuS7pX0b', 'siteSystemId__s': 'AXA94srvjkwgAuS7pX0b', 'siteName__s': 'North', 'teamId__s': 'AXA946v2efBr7nI0fOhx', 'teamSystemId__s': 'AXA946v2efBr7nI0fOhx', 'teamName__s': 'Bengalore_DAL', 'tid': 30, 'cetts': 1596804843853, 'duration__l': 16480, 'orgId__s': '97cdbf45-ebe2-4687-8341-44d5c7abf101', 'orgType__s': '2', 'contactDirection__s': 'outdial', 'count__i': 1, 'previousState__s': 'new'}}\n",
      "{'_op_type': 'create', '_index': 'test-wxcc-contact-activity-202104', 'doc_type': 'cars', '_id': 'recordid-8', 'doc': {'cstts': 1618811222628, 'agentSystemId__s': 'AXA9VVrq9S1oTdqE1NX0', 'agentId__s': 'AgentId_1', 'agentName__s': 'AgentName_1', 'entrypointId__s': 'EntryPointId_1', 'entrypointName__s': 'EntryPointName_1', 'queueId__s': 'QueueId_1', 'queueName__s': 'QueueName_1', 'agentDn__s': '', 'outdialFlag__i': 0, 'agentSessionId__s': '75a5ac99-8743-44a5-842c-bbbb520fd6eb', 'ani__s': '', 'dnis__s': 'xxxxx', 'sid': 'csr_for_which_cars_exists_with_array_fields', 'callSessionId__s': '4ab46a68-8e6a-468b-8b34-41685447b227', 'channelType__s': '', 'subChannelType__s': 'dialer', 'channelId__s': '', 'currentState__s': 'connect', 'entrypointSystemId__s': 'AXA9Q7Ss9S1oTdqE1NVY', 'queueSystemId__s': 'AXA9Q7S99S1oTdqE1NVZ', 'siteId__s': 'AXA94srvjkwgAuS7pX0b', 'siteSystemId__s': 'AXA94srvjkwgAuS7pX0b', 'siteName__s': 'North', 'teamId__s': 'AXA946v2efBr7nI0fOhx', 'teamSystemId__s': 'AXA946v2efBr7nI0fOhx', 'teamName__s': 'Bengalore_DAL', 'tid': 31, 'cetts': 1596804843854, 'duration__l': 16481, 'orgId__s': '97cdbf45-ebe2-4687-8341-44d5c7abf101', 'orgType__s': '2', 'contactDirection__s': 'outdial', 'count__i': 1, 'previousState__s': 'new'}}\n",
      "{'_op_type': 'create', '_index': 'test-wxcc-contact-activity-202104', 'doc_type': 'cars', '_id': 'recordid-9', 'doc': {'cstts': 1618811222629, 'agentSystemId__s': 'AXA9VVrq9S1oTdqE1NX0', 'agentId__s': 'AgentId_1', 'agentName__s': 'AgentName_1', 'entrypointId__s': 'EntryPointId_1', 'entrypointName__s': 'EntryPointName_1', 'queueId__s': 'QueueId_1', 'queueName__s': 'QueueName_1', 'agentDn__s': '', 'outdialFlag__i': 0, 'agentSessionId__s': '75a5ac99-8743-44a5-842c-bbbb520fd6eb', 'ani__s': '', 'dnis__s': 'xxxxx', 'sid': 'csr_for_which_cars_exists_with_array_fields', 'callSessionId__s': '4ab46a68-8e6a-468b-8b34-41685447b227', 'channelType__s': '', 'subChannelType__s': 'dialer', 'channelId__s': '', 'currentState__s': 'connect', 'entrypointSystemId__s': 'AXA9Q7Ss9S1oTdqE1NVY', 'queueSystemId__s': 'AXA9Q7S99S1oTdqE1NVZ', 'siteId__s': 'AXA94srvjkwgAuS7pX0b', 'siteSystemId__s': 'AXA94srvjkwgAuS7pX0b', 'siteName__s': 'North', 'teamId__s': 'AXA946v2efBr7nI0fOhx', 'teamSystemId__s': 'AXA946v2efBr7nI0fOhx', 'teamName__s': 'Bengalore_DAL', 'tid': 32, 'cetts': 1596804843855, 'duration__l': 16482, 'orgId__s': '97cdbf45-ebe2-4687-8341-44d5c7abf101', 'orgType__s': '2', 'contactDirection__s': 'outdial', 'count__i': 1, 'previousState__s': 'new'}}\n",
      "{'_op_type': 'create', '_index': 'test-wxcc-contact-activity-202104', 'doc_type': 'cars', '_id': 'recordid-10', 'doc': {'cstts': 1618811222630, 'agentSystemId__s': 'AXA9VVrq9S1oTdqE1NX0', 'agentId__s': 'AgentId_1', 'agentName__s': 'AgentName_1', 'entrypointId__s': 'EntryPointId_1', 'entrypointName__s': 'EntryPointName_1', 'queueId__s': 'QueueId_1', 'queueName__s': 'QueueName_1', 'agentDn__s': '', 'outdialFlag__i': 0, 'agentSessionId__s': '75a5ac99-8743-44a5-842c-bbbb520fd6eb', 'ani__s': '', 'dnis__s': 'xxxxx', 'sid': 'csr_for_which_cars_exists_with_array_fields', 'callSessionId__s': '4ab46a68-8e6a-468b-8b34-41685447b227', 'channelType__s': '', 'subChannelType__s': 'dialer', 'channelId__s': '', 'currentState__s': 'connect', 'entrypointSystemId__s': 'AXA9Q7Ss9S1oTdqE1NVY', 'queueSystemId__s': 'AXA9Q7S99S1oTdqE1NVZ', 'siteId__s': 'AXA94srvjkwgAuS7pX0b', 'siteSystemId__s': 'AXA94srvjkwgAuS7pX0b', 'siteName__s': 'North', 'teamId__s': 'AXA946v2efBr7nI0fOhx', 'teamSystemId__s': 'AXA946v2efBr7nI0fOhx', 'teamName__s': 'Bengalore_DAL', 'tid': 33, 'cetts': 1596804843856, 'duration__l': 16483, 'orgId__s': '97cdbf45-ebe2-4687-8341-44d5c7abf101', 'orgType__s': '2', 'contactDirection__s': 'outdial', 'count__i': 1, 'previousState__s': 'new'}}\n",
      "{'_op_type': 'create', '_index': 'test-wxcc-contact-activity-202104', 'doc_type': 'cars', '_id': 'recordid-11', 'doc': {'cstts': 1618811222631, 'agentSystemId__s': 'AXA9VVrq9S1oTdqE1NX0', 'agentId__s': 'AgentId_1', 'agentName__s': 'AgentName_1', 'entrypointId__s': 'EntryPointId_1', 'entrypointName__s': 'EntryPointName_1', 'queueId__s': 'QueueId_1', 'queueName__s': 'QueueName_1', 'agentDn__s': '', 'outdialFlag__i': 0, 'agentSessionId__s': '75a5ac99-8743-44a5-842c-bbbb520fd6eb', 'ani__s': '', 'dnis__s': 'xxxxx', 'sid': 'csr_for_which_cars_exists_with_array_fields', 'callSessionId__s': '4ab46a68-8e6a-468b-8b34-41685447b227', 'channelType__s': '', 'subChannelType__s': 'dialer', 'channelId__s': '', 'currentState__s': 'connect', 'entrypointSystemId__s': 'AXA9Q7Ss9S1oTdqE1NVY', 'queueSystemId__s': 'AXA9Q7S99S1oTdqE1NVZ', 'siteId__s': 'AXA94srvjkwgAuS7pX0b', 'siteSystemId__s': 'AXA94srvjkwgAuS7pX0b', 'siteName__s': 'North', 'teamId__s': 'AXA946v2efBr7nI0fOhx', 'teamSystemId__s': 'AXA946v2efBr7nI0fOhx', 'teamName__s': 'Bengalore_DAL', 'tid': 34, 'cetts': 1596804843857, 'duration__l': 16484, 'orgId__s': '97cdbf45-ebe2-4687-8341-44d5c7abf101', 'orgType__s': '2', 'contactDirection__s': 'outdial', 'count__i': 1, 'previousState__s': 'new'}}\n",
      "{'_op_type': 'create', '_index': 'test-wxcc-contact-activity-202104', 'doc_type': 'cars', '_id': 'recordid-12', 'doc': {'cstts': 1618811222632, 'agentSystemId__s': 'AXA9VVrq9S1oTdqE1NX0', 'agentId__s': 'AgentId_1', 'agentName__s': 'AgentName_1', 'entrypointId__s': 'EntryPointId_1', 'entrypointName__s': 'EntryPointName_1', 'queueId__s': 'QueueId_1', 'queueName__s': 'QueueName_1', 'agentDn__s': '', 'outdialFlag__i': 0, 'agentSessionId__s': '75a5ac99-8743-44a5-842c-bbbb520fd6eb', 'ani__s': '', 'dnis__s': 'xxxxx', 'sid': 'csr_for_which_cars_exists_with_array_fields', 'callSessionId__s': '4ab46a68-8e6a-468b-8b34-41685447b227', 'channelType__s': '', 'subChannelType__s': 'dialer', 'channelId__s': '', 'currentState__s': 'connect', 'entrypointSystemId__s': 'AXA9Q7Ss9S1oTdqE1NVY', 'queueSystemId__s': 'AXA9Q7S99S1oTdqE1NVZ', 'siteId__s': 'AXA94srvjkwgAuS7pX0b', 'siteSystemId__s': 'AXA94srvjkwgAuS7pX0b', 'siteName__s': 'North', 'teamId__s': 'AXA946v2efBr7nI0fOhx', 'teamSystemId__s': 'AXA946v2efBr7nI0fOhx', 'teamName__s': 'Bengalore_DAL', 'tid': 35, 'cetts': 1596804843858, 'duration__l': 16485, 'orgId__s': '97cdbf45-ebe2-4687-8341-44d5c7abf101', 'orgType__s': '2', 'contactDirection__s': 'outdial', 'count__i': 1, 'previousState__s': 'new'}}\n",
      "{'_op_type': 'create', '_index': 'test-wxcc-contact-activity-202104', 'doc_type': 'cars', '_id': 'recordid-13', 'doc': {'cstts': 1618811222633, 'agentSystemId__s': 'AXA9VVrq9S1oTdqE1NX0', 'agentId__s': 'AgentId_1', 'agentName__s': 'AgentName_1', 'entrypointId__s': 'EntryPointId_1', 'entrypointName__s': 'EntryPointName_1', 'queueId__s': 'QueueId_1', 'queueName__s': 'QueueName_1', 'agentDn__s': '', 'outdialFlag__i': 0, 'agentSessionId__s': '75a5ac99-8743-44a5-842c-bbbb520fd6eb', 'ani__s': '', 'dnis__s': 'xxxxx', 'sid': 'csr_for_which_cars_exists_with_array_fields', 'callSessionId__s': '4ab46a68-8e6a-468b-8b34-41685447b227', 'channelType__s': '', 'subChannelType__s': 'dialer', 'channelId__s': '', 'currentState__s': 'connect', 'entrypointSystemId__s': 'AXA9Q7Ss9S1oTdqE1NVY', 'queueSystemId__s': 'AXA9Q7S99S1oTdqE1NVZ', 'siteId__s': 'AXA94srvjkwgAuS7pX0b', 'siteSystemId__s': 'AXA94srvjkwgAuS7pX0b', 'siteName__s': 'North', 'teamId__s': 'AXA946v2efBr7nI0fOhx', 'teamSystemId__s': 'AXA946v2efBr7nI0fOhx', 'teamName__s': 'Bengalore_DAL', 'tid': 36, 'cetts': 1596804843859, 'duration__l': 16486, 'orgId__s': '97cdbf45-ebe2-4687-8341-44d5c7abf101', 'orgType__s': '2', 'contactDirection__s': 'outdial', 'count__i': 1, 'previousState__s': 'new'}}\n",
      "{'_op_type': 'create', '_index': 'test-wxcc-contact-activity-202104', 'doc_type': 'cars', '_id': 'recordid-14', 'doc': {'cstts': 1618811222634, 'agentSystemId__s': 'AXA9VVrq9S1oTdqE1NX0', 'agentId__s': 'AgentId_1', 'agentName__s': 'AgentName_1', 'entrypointId__s': 'EntryPointId_1', 'entrypointName__s': 'EntryPointName_1', 'queueId__s': 'QueueId_1', 'queueName__s': 'QueueName_1', 'agentDn__s': '', 'outdialFlag__i': 0, 'agentSessionId__s': '75a5ac99-8743-44a5-842c-bbbb520fd6eb', 'ani__s': '', 'dnis__s': 'xxxxx', 'sid': 'csr_for_which_cars_exists_with_array_fields', 'callSessionId__s': '4ab46a68-8e6a-468b-8b34-41685447b227', 'channelType__s': '', 'subChannelType__s': 'dialer', 'channelId__s': '', 'currentState__s': 'connect', 'entrypointSystemId__s': 'AXA9Q7Ss9S1oTdqE1NVY', 'queueSystemId__s': 'AXA9Q7S99S1oTdqE1NVZ', 'siteId__s': 'AXA94srvjkwgAuS7pX0b', 'siteSystemId__s': 'AXA94srvjkwgAuS7pX0b', 'siteName__s': 'North', 'teamId__s': 'AXA946v2efBr7nI0fOhx', 'teamSystemId__s': 'AXA946v2efBr7nI0fOhx', 'teamName__s': 'Bengalore_DAL', 'tid': 37, 'cetts': 1596804843860, 'duration__l': 16487, 'orgId__s': '97cdbf45-ebe2-4687-8341-44d5c7abf101', 'orgType__s': '2', 'contactDirection__s': 'outdial', 'count__i': 1, 'previousState__s': 'new'}}\n",
      "{'_op_type': 'create', '_index': 'test-wxcc-contact-activity-202104', 'doc_type': 'cars', '_id': 'recordid-15', 'doc': {'cstts': 1618811222635, 'agentSystemId__s': 'AXA9VVrq9S1oTdqE1NX0', 'agentId__s': 'AgentId_1', 'agentName__s': 'AgentName_1', 'entrypointId__s': 'EntryPointId_1', 'entrypointName__s': 'EntryPointName_1', 'queueId__s': 'QueueId_1', 'queueName__s': 'QueueName_1', 'agentDn__s': '', 'outdialFlag__i': 0, 'agentSessionId__s': '75a5ac99-8743-44a5-842c-bbbb520fd6eb', 'ani__s': '', 'dnis__s': 'xxxxx', 'sid': 'csr_for_which_cars_exists_with_array_fields', 'callSessionId__s': '4ab46a68-8e6a-468b-8b34-41685447b227', 'channelType__s': '', 'subChannelType__s': 'dialer', 'channelId__s': '', 'currentState__s': 'connect', 'entrypointSystemId__s': 'AXA9Q7Ss9S1oTdqE1NVY', 'queueSystemId__s': 'AXA9Q7S99S1oTdqE1NVZ', 'siteId__s': 'AXA94srvjkwgAuS7pX0b', 'siteSystemId__s': 'AXA94srvjkwgAuS7pX0b', 'siteName__s': 'North', 'teamId__s': 'AXA946v2efBr7nI0fOhx', 'teamSystemId__s': 'AXA946v2efBr7nI0fOhx', 'teamName__s': 'Bengalore_DAL', 'tid': 38, 'cetts': 1596804843861, 'duration__l': 16488, 'orgId__s': '97cdbf45-ebe2-4687-8341-44d5c7abf101', 'orgType__s': '2', 'contactDirection__s': 'outdial', 'count__i': 1, 'previousState__s': 'new'}}\n",
      "{'_op_type': 'create', '_index': 'test-wxcc-contact-activity-202104', 'doc_type': 'cars', '_id': 'recordid-16', 'doc': {'cstts': 1618811222636, 'agentSystemId__s': 'AXA9VVrq9S1oTdqE1NX0', 'agentId__s': 'AgentId_1', 'agentName__s': 'AgentName_1', 'entrypointId__s': 'EntryPointId_1', 'entrypointName__s': 'EntryPointName_1', 'queueId__s': 'QueueId_1', 'queueName__s': 'QueueName_1', 'agentDn__s': '', 'outdialFlag__i': 0, 'agentSessionId__s': '75a5ac99-8743-44a5-842c-bbbb520fd6eb', 'ani__s': '', 'dnis__s': 'xxxxx', 'sid': 'csr_for_which_cars_exists_with_array_fields', 'callSessionId__s': '4ab46a68-8e6a-468b-8b34-41685447b227', 'channelType__s': '', 'subChannelType__s': 'dialer', 'channelId__s': '', 'currentState__s': 'connect', 'entrypointSystemId__s': 'AXA9Q7Ss9S1oTdqE1NVY', 'queueSystemId__s': 'AXA9Q7S99S1oTdqE1NVZ', 'siteId__s': 'AXA94srvjkwgAuS7pX0b', 'siteSystemId__s': 'AXA94srvjkwgAuS7pX0b', 'siteName__s': 'North', 'teamId__s': 'AXA946v2efBr7nI0fOhx', 'teamSystemId__s': 'AXA946v2efBr7nI0fOhx', 'teamName__s': 'Bengalore_DAL', 'tid': 39, 'cetts': 1596804843862, 'duration__l': 16489, 'orgId__s': '97cdbf45-ebe2-4687-8341-44d5c7abf101', 'orgType__s': '2', 'contactDirection__s': 'outdial', 'count__i': 1, 'previousState__s': 'new'}}\n",
      "{'_op_type': 'create', '_index': 'test-wxcc-contact-activity-202104', 'doc_type': 'cars', '_id': 'recordid-17', 'doc': {'cstts': 1618811222637, 'agentSystemId__s': 'AXA9VVrq9S1oTdqE1NX0', 'agentId__s': 'AgentId_1', 'agentName__s': 'AgentName_1', 'entrypointId__s': 'EntryPointId_1', 'entrypointName__s': 'EntryPointName_1', 'queueId__s': 'QueueId_1', 'queueName__s': 'QueueName_1', 'agentDn__s': '', 'outdialFlag__i': 0, 'agentSessionId__s': '75a5ac99-8743-44a5-842c-bbbb520fd6eb', 'ani__s': '', 'dnis__s': 'xxxxx', 'sid': 'csr_for_which_cars_exists_with_array_fields', 'callSessionId__s': '4ab46a68-8e6a-468b-8b34-41685447b227', 'channelType__s': '', 'subChannelType__s': 'dialer', 'channelId__s': '', 'currentState__s': 'connect', 'entrypointSystemId__s': 'AXA9Q7Ss9S1oTdqE1NVY', 'queueSystemId__s': 'AXA9Q7S99S1oTdqE1NVZ', 'siteId__s': 'AXA94srvjkwgAuS7pX0b', 'siteSystemId__s': 'AXA94srvjkwgAuS7pX0b', 'siteName__s': 'North', 'teamId__s': 'AXA946v2efBr7nI0fOhx', 'teamSystemId__s': 'AXA946v2efBr7nI0fOhx', 'teamName__s': 'Bengalore_DAL', 'tid': 40, 'cetts': 1596804843863, 'duration__l': 16490, 'orgId__s': '97cdbf45-ebe2-4687-8341-44d5c7abf101', 'orgType__s': '2', 'contactDirection__s': 'outdial', 'count__i': 1, 'previousState__s': 'new'}}\n",
      "{'_op_type': 'create', '_index': 'test-wxcc-contact-activity-202104', 'doc_type': 'cars', '_id': 'recordid-18', 'doc': {'cstts': 1618811222638, 'agentSystemId__s': 'AXA9VVrq9S1oTdqE1NX0', 'agentId__s': 'AgentId_1', 'agentName__s': 'AgentName_1', 'entrypointId__s': 'EntryPointId_1', 'entrypointName__s': 'EntryPointName_1', 'queueId__s': 'QueueId_1', 'queueName__s': 'QueueName_1', 'agentDn__s': '', 'outdialFlag__i': 0, 'agentSessionId__s': '75a5ac99-8743-44a5-842c-bbbb520fd6eb', 'ani__s': '', 'dnis__s': 'xxxxx', 'sid': 'csr_for_which_cars_exists_with_array_fields', 'callSessionId__s': '4ab46a68-8e6a-468b-8b34-41685447b227', 'channelType__s': '', 'subChannelType__s': 'dialer', 'channelId__s': '', 'currentState__s': 'connect', 'entrypointSystemId__s': 'AXA9Q7Ss9S1oTdqE1NVY', 'queueSystemId__s': 'AXA9Q7S99S1oTdqE1NVZ', 'siteId__s': 'AXA94srvjkwgAuS7pX0b', 'siteSystemId__s': 'AXA94srvjkwgAuS7pX0b', 'siteName__s': 'North', 'teamId__s': 'AXA946v2efBr7nI0fOhx', 'teamSystemId__s': 'AXA946v2efBr7nI0fOhx', 'teamName__s': 'Bengalore_DAL', 'tid': 41, 'cetts': 1596804843864, 'duration__l': 16491, 'orgId__s': '97cdbf45-ebe2-4687-8341-44d5c7abf101', 'orgType__s': '2', 'contactDirection__s': 'outdial', 'count__i': 1, 'previousState__s': 'new'}}\n",
      "{'_op_type': 'create', '_index': 'test-wxcc-contact-activity-202104', 'doc_type': 'cars', '_id': 'recordid-19', 'doc': {'cstts': 1618811222639, 'agentSystemId__s': 'AXA9VVrq9S1oTdqE1NX0', 'agentId__s': 'AgentId_1', 'agentName__s': 'AgentName_1', 'entrypointId__s': 'EntryPointId_1', 'entrypointName__s': 'EntryPointName_1', 'queueId__s': 'QueueId_1', 'queueName__s': 'QueueName_1', 'agentDn__s': '', 'outdialFlag__i': 0, 'agentSessionId__s': '75a5ac99-8743-44a5-842c-bbbb520fd6eb', 'ani__s': '', 'dnis__s': 'xxxxx', 'sid': 'csr_for_which_cars_exists_with_array_fields', 'callSessionId__s': '4ab46a68-8e6a-468b-8b34-41685447b227', 'channelType__s': '', 'subChannelType__s': 'dialer', 'channelId__s': '', 'currentState__s': 'connect', 'entrypointSystemId__s': 'AXA9Q7Ss9S1oTdqE1NVY', 'queueSystemId__s': 'AXA9Q7S99S1oTdqE1NVZ', 'siteId__s': 'AXA94srvjkwgAuS7pX0b', 'siteSystemId__s': 'AXA94srvjkwgAuS7pX0b', 'siteName__s': 'North', 'teamId__s': 'AXA946v2efBr7nI0fOhx', 'teamSystemId__s': 'AXA946v2efBr7nI0fOhx', 'teamName__s': 'Bengalore_DAL', 'tid': 42, 'cetts': 1596804843865, 'duration__l': 16492, 'orgId__s': '97cdbf45-ebe2-4687-8341-44d5c7abf101', 'orgType__s': '2', 'contactDirection__s': 'outdial', 'count__i': 1, 'previousState__s': 'new'}}\n"
     ]
    }
   ],
   "source": [
    "def genCARs():\n",
    "    for i in range(5, 20):\n",
    "        id = \"recordid-\" + str(i)\n",
    "        cstts = 1618811222620 + i\n",
    "        tid = i + 23\n",
    "        cetts = 1596804843846 + i\n",
    "        duration = 16473 + i\n",
    "        \n",
    "        yield {\n",
    "            '_op_type': 'create',\n",
    "            '_index': 'test-wxcc-contact-activity-202104',\n",
    "            'doc_type': 'cars',\n",
    "            '_id': id,\n",
    "            \"doc\": {\n",
    "              \"cstts\": cstts,\n",
    "              \"agentSystemId__s\": \"AXA9VVrq9S1oTdqE1NX0\",\n",
    "              \"agentId__s\": \"AgentId_1\",\n",
    "              \"agentName__s\": \"AgentName_1\",\n",
    "              \"entrypointId__s\": \"EntryPointId_1\",\n",
    "              \"entrypointName__s\": \"EntryPointName_1\",\n",
    "              \"queueId__s\": \"QueueId_1\",\n",
    "              \"queueName__s\": \"QueueName_1\",\n",
    "              \"agentDn__s\": \"\",\n",
    "              \"outdialFlag__i\": 0,\n",
    "              \"agentSessionId__s\": \"75a5ac99-8743-44a5-842c-bbbb520fd6eb\",\n",
    "              \"ani__s\": \"\",\n",
    "              \"dnis__s\": \"xxxxx\",\n",
    "              \"sid\": \"csr_for_which_cars_exists_with_array_fields\",\n",
    "              \"callSessionId__s\": \"4ab46a68-8e6a-468b-8b34-41685447b227\",\n",
    "              \"channelType__s\": \"\",\n",
    "              \"subChannelType__s\": \"dialer\",\n",
    "              \"channelId__s\": \"\",\n",
    "              \"currentState__s\": \"connect\",\n",
    "              \"entrypointSystemId__s\": \"AXA9Q7Ss9S1oTdqE1NVY\",\n",
    "              \"queueSystemId__s\": \"AXA9Q7S99S1oTdqE1NVZ\",\n",
    "              \"siteId__s\": \"AXA94srvjkwgAuS7pX0b\",\n",
    "              \"siteSystemId__s\": \"AXA94srvjkwgAuS7pX0b\",\n",
    "              \"siteName__s\": \"North\",\n",
    "              \"teamId__s\": \"AXA946v2efBr7nI0fOhx\",\n",
    "              \"teamSystemId__s\": \"AXA946v2efBr7nI0fOhx\",\n",
    "              \"teamName__s\": \"Bengalore_DAL\",\n",
    "              \"tid\": tid,\n",
    "              \"cetts\": cetts,\n",
    "              \"duration__l\": duration,\n",
    "              \"orgId__s\": \"97cdbf45-ebe2-4687-8341-44d5c7abf101\",\n",
    "              \"orgType__s\": \"2\",\n",
    "              \"contactDirection__s\": \"outdial\",\n",
    "              \"count__i\": 1,\n",
    "              \"previousState__s\": \"new\"\n",
    "            }\n",
    "        }\n",
    "\n",
    "for x in genCARs():\n",
    "    print(x)"
   ]
  },
  {
   "cell_type": "code",
   "execution_count": 30,
   "metadata": {},
   "outputs": [],
   "source": [
    "from elasticsearch import helpers\n",
    "res = helpers.bulk(es, genCARs())"
   ]
  },
  {
   "cell_type": "code",
   "execution_count": 31,
   "metadata": {},
   "outputs": [
    {
     "name": "stdout",
     "output_type": "stream",
     "text": [
      "(15, [])\n"
     ]
    }
   ],
   "source": [
    "print(res)"
   ]
  },
  {
   "cell_type": "code",
   "execution_count": null,
   "metadata": {},
   "outputs": [],
   "source": []
  }
 ],
 "metadata": {
  "kernelspec": {
   "display_name": "Python 3",
   "language": "python",
   "name": "python3"
  },
  "language_info": {
   "codemirror_mode": {
    "name": "ipython",
    "version": 3
   },
   "file_extension": ".py",
   "mimetype": "text/x-python",
   "name": "python",
   "nbconvert_exporter": "python",
   "pygments_lexer": "ipython3",
   "version": "3.8.3"
  }
 },
 "nbformat": 4,
 "nbformat_minor": 4
}
