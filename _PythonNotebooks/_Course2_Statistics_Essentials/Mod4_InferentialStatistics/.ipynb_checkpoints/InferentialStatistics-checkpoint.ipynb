{
 "cells": [
  {
   "cell_type": "code",
   "execution_count": 1,
   "metadata": {},
   "outputs": [
    {
     "name": "stdout",
     "output_type": "stream",
     "text": [
      "        cost\n",
      "foo  $123.46\n",
      "bar  $234.57\n",
      "baz  $345.68\n",
      "quux $456.79\n"
     ]
    }
   ],
   "source": [
    "import pandas as pd\n",
    "pd.options.display.float_format = '${:,.2f}'.format\n",
    "df = pd.DataFrame([123.4567, 234.5678, 345.6789, 456.7890],\n",
    "                  index=['foo','bar','baz','quux'],\n",
    "                  columns=['cost'])\n",
    "print(df)"
   ]
  },
  {
   "cell_type": "code",
   "execution_count": 2,
   "metadata": {},
   "outputs": [
    {
     "ename": "SyntaxError",
     "evalue": "invalid syntax (<ipython-input-2-82328d1e59fc>, line 40)",
     "output_type": "error",
     "traceback": [
      "\u001b[1;36m  File \u001b[1;32m\"<ipython-input-2-82328d1e59fc>\"\u001b[1;36m, line \u001b[1;32m40\u001b[0m\n\u001b[1;33m    https://stackoverflow.com/questions/47984547/sort-a-2-index-pivot-table-values-within-group-index-based-on-values\u001b[0m\n\u001b[1;37m          ^\u001b[0m\n\u001b[1;31mSyntaxError\u001b[0m\u001b[1;31m:\u001b[0m invalid syntax\n"
     ]
    }
   ],
   "source": [
    "plt.figure(figsize=[20,20])\n",
    "\n",
    "\"\"\"\n",
    "pd.options.display.float_format = '{:,.2f}'.format\n",
    "\n",
    "top9 = pd.pivot_table(data=master_frame.loc[master_frame['funding_round_type_upper'].isin([FUNDING_TYPE])],\\\n",
    "                      index=\"country_code\", values=\"raised_amount_usd\", aggfunc = np.sum)\n",
    "\n",
    "top9 = top9 .sort_values(by=['raised_amount_usd'], ascending=False)[:9]\n",
    "print(top9)\n",
    "\n",
    "\n",
    "d = master_frame.loc[master_frame['funding_round_type_upper'].isin([FUNDING_TYPE])]\n",
    "\n",
    "sns.barplot(data=d, x=\"country_code\", y=\"raised_amount_usd\", estimator=np.sum)\n",
    "\"\"\"\n",
    "\n",
    "#WORKS\n",
    "top9.plot.bar(figsize=[13,10])\n",
    "\n",
    "#d = master_frame.loc[master_frame['funding_round_type_upper'].isin([FUNDING_TYPE])]\n",
    "#dg = d.groupby(['country_code']).agg({'raised_amount_usd':sum}) #.plot.bar()\n",
    "#dgs = dg.apply(lambda x: x.sort_values(ascending=False).head(9))\n",
    "#dgs.plot.bar(figsize=[13,10])\n",
    "\n",
    "plt.gca().yaxis.set_major_formatter(FuncFormatter(lambda x, _: '${:0,.0f}'.format(x)))\n",
    "\n",
    "plt.show()\n",
    "\n",
    "\"\"\"\n",
    "df_agg = df.groupby(['job','source']).agg({'count':sum})\n",
    "We group by the first level of the index:\n",
    "\n",
    "In [63]: g = df_agg['count'].groupby('job', group_keys=False)\n",
    "Then we want to sort ('order') each group and take the first three elements:\n",
    "\n",
    "In [64]: res = g.apply(lambda x: x.sort_values(ascending=False).head(3))\n",
    "    \"\"\"\n",
    "\n",
    "https://stackoverflow.com/questions/47984547/sort-a-2-index-pivot-table-values-within-group-index-based-on-values\n",
    "https://stackoverflow.com/questions/45300428/sorting-pivot-table-multi-index/45300480#45300480\n",
    "https://stackoverflow.com/questions/10595327/pandas-sort-pivot-table\n",
    "https://www.geeksforgeeks.org/matplotlib-axis-axis-set_major_formatter-function-in-python/"
   ]
  },
  {
   "cell_type": "code",
   "execution_count": 3,
   "metadata": {},
   "outputs": [
    {
     "name": "stdout",
     "output_type": "stream",
     "text": [
      "493.39131440619997\n"
     ]
    }
   ],
   "source": [
    "#Basics of probability\n",
    "#Expected total loss\n",
    "import numpy as np\n",
    "import pandas as pd\n",
    "\n",
    "    \n",
    "fileName = \"Inferential Statistics - Student Loan.csv\"\n",
    "bank_loan = pd.read_csv(fileName)\n",
    "\n",
    "bank_loan.columns\n",
    "\n",
    "bank_loan['recovery'] = bank_loan['Recovery (%)'].\\\n",
    "                        apply(lambda x: x.replace(\"%\",'')).astype(float).divide(100)\n",
    "bank_loan['loss'] = (1 - bank_loan['recovery']).\\\n",
    "                    mul(bank_loan['Exposure at Default (in lakh Rs.)'])\n",
    "\n",
    "mulCol = bank_loan['loss'].mul(bank_loan['Probability of Default'])\n",
    "\n",
    "print(mulCol.sum())"
   ]
  },
  {
   "cell_type": "markdown",
   "metadata": {},
   "source": [
    "There are two possible values of X, 3,500 and -100. The probability of Kriti’s net winnings being 3,500 is basically the probability of her winning the game, which, as we saw in a previous question, is 1/37. The probability of her net winnings being equal to -100 is basically the probability of her losing the game, which is 36/37. So, the expected value of X = P(X=-100)*(-100) + P(X=3500)*3500 = (36/37)*(-100)+(1/37)*(3500) = -2.70."
   ]
  },
  {
   "cell_type": "code",
   "execution_count": 2,
   "metadata": {},
   "outputs": [
    {
     "name": "stdout",
     "output_type": "stream",
     "text": [
      "12\n",
      "15\n",
      ".3\n",
      "[3 6 3 5 1 7 7 1 8 3]\n"
     ]
    }
   ],
   "source": [
    "#Binomial Distribution generation\n",
    "import numpy as np \n",
    "from numpy import random\n",
    "\n",
    "seed=int(input())\n",
    "n=int(input())\n",
    "p=float(input())\n",
    "#write your code here\n",
    "np.random.seed(seed)\n",
    "s = random.binomial(n, p, 10)\n",
    "print(s)"
   ]
  },
  {
   "cell_type": "markdown",
   "metadata": {},
   "source": [
    "Coloured cards\n",
    "Description\n",
    "A card stack contains white and black cards. Two cards are drawn randomly without replacement. The probability of selecting a white and then a black card is x. The probability of selecting a white card in the first draw is y. You have to find the probability of drawing a black card, given that the first card drawn was white.\n",
    "The input will contain two lines with x and y respectively.  \n",
    "The output should be displayed as a float(no need to round it off)."
   ]
  },
  {
   "cell_type": "code",
   "execution_count": 3,
   "metadata": {},
   "outputs": [
    {
     "name": "stdout",
     "output_type": "stream",
     "text": [
      ".55\n",
      ".35\n",
      "1.5714285714285716\n"
     ]
    }
   ],
   "source": [
    "x=float(input())\n",
    "y=float(input())\n",
    "#write your code here\n",
    "PofWhiteAndBlack = x\n",
    "PofWhiteFirst = y\n",
    "PofBlackSecond = PofWhiteAndBlack / PofWhiteFirst\n",
    "print(PofBlackSecond)"
   ]
  },
  {
   "cell_type": "markdown",
   "metadata": {},
   "source": [
    "Entrance Test\n",
    "Description\n",
    "Consider that the scores of an entrance test are normally distributed. \n",
    "If the test has a mean of m and a standard deviation of s.\n",
    "You have set the cut off as 90 marks for the test. What is the probability of a student passing the test?\n",
    "The input will contain m and s in two lines in the same order. The output has to be rounded off to two decimal places.\n",
    "\n",
    "Please note that if the answer is 3.6, it is to be reported as 3.6 and not 3.60"
   ]
  },
  {
   "cell_type": "code",
   "execution_count": 5,
   "metadata": {},
   "outputs": [
    {
     "name": "stdout",
     "output_type": "stream",
     "text": [
      "100\n",
      "10\n",
      "0.84\n"
     ]
    }
   ],
   "source": [
    "import scipy.stats\n",
    "\n",
    "m=float(input())#mean\n",
    "sd=float(input())#standard deviation\n",
    "\n",
    "X = 90\n",
    "underX = scipy.stats.norm(m, sd).cdf(X)\n",
    "abovX = 1 - underX\n",
    "print(str(round(abovX, 2)))"
   ]
  },
  {
   "cell_type": "markdown",
   "metadata": {},
   "source": [
    "Seating Arrangement\n",
    "Description\n",
    "N people sit around a circular table. You have to find the probability that two particular people won't be sitting together.\n",
    "\n",
    "The input will have the number N and the output should have the probability printed as a float type number rounded off to four decimal places.\n",
    "\n",
    "Hint: This problem follows the logic of circular permutation which you can read about here.\n",
    "\n",
    "Please note that if the answer is 3.6, it is to be reported as 3.6 and not 3.6000"
   ]
  },
  {
   "cell_type": "code",
   "execution_count": 6,
   "metadata": {},
   "outputs": [
    {
     "name": "stdout",
     "output_type": "stream",
     "text": [
      "12\n",
      "0.8182\n"
     ]
    }
   ],
   "source": [
    "import math\n",
    "\n",
    "n=int(input())\n",
    "perm = math.factorial(n - 1) / 2\n",
    "nMinus2Perm = math.factorial(n - 2)\n",
    "\n",
    "#prob = 1 - nMinus2Perm/perm\n",
    "#     = 1 - (2/(n-1))\n",
    "prob = 1 - (2/(n-1))\n",
    "\n",
    "print(str(round(prob, 4)))"
   ]
  },
  {
   "cell_type": "code",
   "execution_count": null,
   "metadata": {},
   "outputs": [],
   "source": []
  }
 ],
 "metadata": {
  "kernelspec": {
   "display_name": "Python 3",
   "language": "python",
   "name": "python3"
  },
  "language_info": {
   "codemirror_mode": {
    "name": "ipython",
    "version": 3
   },
   "file_extension": ".py",
   "mimetype": "text/x-python",
   "name": "python",
   "nbconvert_exporter": "python",
   "pygments_lexer": "ipython3",
   "version": "3.8.3"
  }
 },
 "nbformat": 4,
 "nbformat_minor": 4
}
