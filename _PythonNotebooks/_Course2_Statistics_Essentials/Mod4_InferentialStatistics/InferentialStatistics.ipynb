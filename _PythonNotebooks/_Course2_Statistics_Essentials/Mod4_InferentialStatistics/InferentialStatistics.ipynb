{
 "cells": [
  {
   "cell_type": "code",
   "execution_count": 1,
   "metadata": {},
   "outputs": [
    {
     "name": "stdout",
     "output_type": "stream",
     "text": [
      "        cost\n",
      "foo  $123.46\n",
      "bar  $234.57\n",
      "baz  $345.68\n",
      "quux $456.79\n"
     ]
    }
   ],
   "source": [
    "import pandas as pd\n",
    "pd.options.display.float_format = '${:,.2f}'.format\n",
    "df = pd.DataFrame([123.4567, 234.5678, 345.6789, 456.7890],\n",
    "                  index=['foo','bar','baz','quux'],\n",
    "                  columns=['cost'])\n",
    "print(df)"
   ]
  },
  {
   "cell_type": "code",
   "execution_count": 2,
   "metadata": {},
   "outputs": [
    {
     "ename": "SyntaxError",
     "evalue": "invalid syntax (<ipython-input-2-82328d1e59fc>, line 40)",
     "output_type": "error",
     "traceback": [
      "\u001b[1;36m  File \u001b[1;32m\"<ipython-input-2-82328d1e59fc>\"\u001b[1;36m, line \u001b[1;32m40\u001b[0m\n\u001b[1;33m    https://stackoverflow.com/questions/47984547/sort-a-2-index-pivot-table-values-within-group-index-based-on-values\u001b[0m\n\u001b[1;37m          ^\u001b[0m\n\u001b[1;31mSyntaxError\u001b[0m\u001b[1;31m:\u001b[0m invalid syntax\n"
     ]
    }
   ],
   "source": [
    "plt.figure(figsize=[20,20])\n",
    "\n",
    "\"\"\"\n",
    "pd.options.display.float_format = '{:,.2f}'.format\n",
    "\n",
    "top9 = pd.pivot_table(data=master_frame.loc[master_frame['funding_round_type_upper'].isin([FUNDING_TYPE])],\\\n",
    "                      index=\"country_code\", values=\"raised_amount_usd\", aggfunc = np.sum)\n",
    "\n",
    "top9 = top9 .sort_values(by=['raised_amount_usd'], ascending=False)[:9]\n",
    "print(top9)\n",
    "\n",
    "\n",
    "d = master_frame.loc[master_frame['funding_round_type_upper'].isin([FUNDING_TYPE])]\n",
    "\n",
    "sns.barplot(data=d, x=\"country_code\", y=\"raised_amount_usd\", estimator=np.sum)\n",
    "\"\"\"\n",
    "\n",
    "#WORKS\n",
    "top9.plot.bar(figsize=[13,10])\n",
    "\n",
    "#d = master_frame.loc[master_frame['funding_round_type_upper'].isin([FUNDING_TYPE])]\n",
    "#dg = d.groupby(['country_code']).agg({'raised_amount_usd':sum}) #.plot.bar()\n",
    "#dgs = dg.apply(lambda x: x.sort_values(ascending=False).head(9))\n",
    "#dgs.plot.bar(figsize=[13,10])\n",
    "\n",
    "plt.gca().yaxis.set_major_formatter(FuncFormatter(lambda x, _: '${:0,.0f}'.format(x)))\n",
    "\n",
    "plt.show()\n",
    "\n",
    "\"\"\"\n",
    "df_agg = df.groupby(['job','source']).agg({'count':sum})\n",
    "We group by the first level of the index:\n",
    "\n",
    "In [63]: g = df_agg['count'].groupby('job', group_keys=False)\n",
    "Then we want to sort ('order') each group and take the first three elements:\n",
    "\n",
    "In [64]: res = g.apply(lambda x: x.sort_values(ascending=False).head(3))\n",
    "    \"\"\"\n",
    "\n",
    "https://stackoverflow.com/questions/47984547/sort-a-2-index-pivot-table-values-within-group-index-based-on-values\n",
    "https://stackoverflow.com/questions/45300428/sorting-pivot-table-multi-index/45300480#45300480\n",
    "https://stackoverflow.com/questions/10595327/pandas-sort-pivot-table\n",
    "https://www.geeksforgeeks.org/matplotlib-axis-axis-set_major_formatter-function-in-python/"
   ]
  },
  {
   "cell_type": "code",
   "execution_count": 3,
   "metadata": {},
   "outputs": [
    {
     "name": "stdout",
     "output_type": "stream",
     "text": [
      "493.39131440619997\n"
     ]
    }
   ],
   "source": [
    "#Basics of probability\n",
    "#Expected total loss\n",
    "import numpy as np\n",
    "import pandas as pd\n",
    "\n",
    "    \n",
    "fileName = \"Inferential Statistics - Student Loan.csv\"\n",
    "bank_loan = pd.read_csv(fileName)\n",
    "\n",
    "bank_loan.columns\n",
    "\n",
    "bank_loan['recovery'] = bank_loan['Recovery (%)'].\\\n",
    "                        apply(lambda x: x.replace(\"%\",'')).astype(float).divide(100)\n",
    "bank_loan['loss'] = (1 - bank_loan['recovery']).\\\n",
    "                    mul(bank_loan['Exposure at Default (in lakh Rs.)'])\n",
    "\n",
    "mulCol = bank_loan['loss'].mul(bank_loan['Probability of Default'])\n",
    "\n",
    "print(mulCol.sum())"
   ]
  },
  {
   "cell_type": "markdown",
   "metadata": {},
   "source": [
    "There are two possible values of X, 3,500 and -100. The probability of Kriti’s net winnings being 3,500 is basically the probability of her winning the game, which, as we saw in a previous question, is 1/37. The probability of her net winnings being equal to -100 is basically the probability of her losing the game, which is 36/37. So, the expected value of X = P(X=-100)*(-100) + P(X=3500)*3500 = (36/37)*(-100)+(1/37)*(3500) = -2.70."
   ]
  },
  {
   "cell_type": "code",
   "execution_count": null,
   "metadata": {},
   "outputs": [],
   "source": []
  }
 ],
 "metadata": {
  "kernelspec": {
   "display_name": "Python 3",
   "language": "python",
   "name": "python3"
  },
  "language_info": {
   "codemirror_mode": {
    "name": "ipython",
    "version": 3
   },
   "file_extension": ".py",
   "mimetype": "text/x-python",
   "name": "python",
   "nbconvert_exporter": "python",
   "pygments_lexer": "ipython3",
   "version": "3.8.3"
  }
 },
 "nbformat": 4,
 "nbformat_minor": 4
}
