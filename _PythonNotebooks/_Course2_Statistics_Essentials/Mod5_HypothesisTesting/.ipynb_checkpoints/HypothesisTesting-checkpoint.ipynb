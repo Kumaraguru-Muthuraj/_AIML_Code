{
 "cells": [
  {
   "cell_type": "markdown",
   "metadata": {},
   "source": [
    "Valid email ID\n",
    "Description\n",
    "Consider that email IDs are supposed to be for the following format:\n",
    "username@website.extension.\n",
    "Here, there are three conditions to keep in mind:\n",
    "1. The username can only contain characters 0-9, a-z and A-Z.\n",
    "2. The website name can contain only characters a-z\n",
    "3. The extension can have 2 or 3 alphabets(a-z).\n",
    "\n",
    "Given an email ID, you have to determine if it is valid or not.\n",
    "\n",
    "Sample Input:\n",
    "prerna@upgrad.com\n",
    "\n",
    "Sample Output:\n",
    "valid\n",
    "USED REGULAR EXPRESSION regex"
   ]
  },
  {
   "cell_type": "code",
   "execution_count": 72,
   "metadata": {},
   "outputs": [
    {
     "name": "stdout",
     "output_type": "stream",
     "text": [
      "valid\n"
     ]
    }
   ],
   "source": [
    "import pandas as pd\n",
    "import re\n",
    "pd.set_option('display.max_columns', 500)\n",
    "\n",
    "def checkmail(email):\n",
    "    #complete the function\n",
    "    #the function should return the strings \"invalid\" or \"valid\" based on the email ID entered\n",
    "    res = 'valid'\n",
    "    result = re.match(\"^[0-9a-zA-Z]+@[a-z]+\\\\.[a-z]{2,3}$\", email)\n",
    "    if result == None:\n",
    "        res = 'invalid'\n",
    "    return res\n",
    "\n",
    "\n",
    "email= \"0009A@website.com\"\n",
    "\n",
    "print(checkmail(email))\n",
    "#Test with the following\n",
    "#fname@dom.org\n",
    "#f00name@dom.or\n",
    "#fn9ame@domD.org\n",
    "#fna9me@dom.org\n",
    "#fname@dom.org\n",
    "#fname@dom.orgr\n",
    "#_Afname@dom.org\n",
    "#Afname@dom.org\n",
    "#Afname@dom.org\n",
    "#Afname@dom.org\n",
    "#Afname@dom.or4"
   ]
  },
  {
   "cell_type": "code",
   "execution_count": 84,
   "metadata": {},
   "outputs": [
    {
     "name": "stdout",
     "output_type": "stream",
     "text": [
      "initial array [[1 2 4]\n",
      " [2 4 5]\n",
      " [1 2 3]]\n",
      "New resulting array:  [1 2 4 2 4 5 1 2 3]\n"
     ]
    }
   ],
   "source": [
    "#Flattening array. With flatten or ravel. Only for lists\n",
    "import numpy as np\n",
    "\n",
    "lvl2List = np.array([[1, 2, 4], [2, 4, 5], [1, 2, 3]]) \n",
    "  \n",
    "# printing initial arrays \n",
    "print(\"initial array\", str(lvl2List)) \n",
    "# Multiplying arrays \n",
    "result = lvl2List.ravel() \n",
    "# printing result \n",
    "print(\"New resulting array: \", result)"
   ]
  },
  {
   "cell_type": "code",
   "execution_count": 104,
   "metadata": {},
   "outputs": [
    {
     "name": "stdout",
     "output_type": "stream",
     "text": [
      "[1, 2, [45, 56], 2, 4, 5, 1, 2, 3]\n",
      "False\n"
     ]
    }
   ],
   "source": [
    "import pandas as pd\n",
    "from collections.abc import Iterable\n",
    "\n",
    "#def isInstaceOfList(theElement):\n",
    "#    if isinstance(theElement, list):\n",
    "#        return True\n",
    "#    return False\n",
    "    \n",
    "def isItemIterable(theElement):\n",
    "    if isinstance(theElement, Iterable):\n",
    "        # iterable\n",
    "        return True\n",
    "    else:\n",
    "        # not iterable\n",
    "        return False\n",
    "        \n",
    "lofL = [[1, 2, [45, 56]], [2, 4, 5], [1, 2, 3]]\n",
    "#lofL = [[1, 2, 45], [2, 4, 5], [1, 2, 3]]\n",
    "\n",
    "flt = [itm for sublst in lofL for itm in sublst]\n",
    "\n",
    "print(flt)\n",
    "\n",
    "print(isItemIterable(123))"
   ]
  },
  {
   "cell_type": "code",
   "execution_count": 1,
   "metadata": {},
   "outputs": [
    {
     "name": "stdout",
     "output_type": "stream",
     "text": [
      "        cost\n",
      "foo  $123.46\n",
      "bar  $234.57\n",
      "baz  $345.68\n",
      "quux $456.79\n"
     ]
    }
   ],
   "source": [
    "import pandas as pd\n",
    "pd.options.display.float_format = '${:,.2f}'.format\n",
    "df = pd.DataFrame([123.4567, 234.5678, 345.6789, 456.7890],\n",
    "                  index=['foo','bar','baz','quux'],\n",
    "                  columns=['cost'])\n",
    "print(df)"
   ]
  },
  {
   "cell_type": "code",
   "execution_count": 2,
   "metadata": {},
   "outputs": [
    {
     "ename": "SyntaxError",
     "evalue": "invalid syntax (<ipython-input-2-82328d1e59fc>, line 40)",
     "output_type": "error",
     "traceback": [
      "\u001b[1;36m  File \u001b[1;32m\"<ipython-input-2-82328d1e59fc>\"\u001b[1;36m, line \u001b[1;32m40\u001b[0m\n\u001b[1;33m    https://stackoverflow.com/questions/47984547/sort-a-2-index-pivot-table-values-within-group-index-based-on-values\u001b[0m\n\u001b[1;37m          ^\u001b[0m\n\u001b[1;31mSyntaxError\u001b[0m\u001b[1;31m:\u001b[0m invalid syntax\n"
     ]
    }
   ],
   "source": [
    "plt.figure(figsize=[20,20])\n",
    "\n",
    "\"\"\"\n",
    "pd.options.display.float_format = '{:,.2f}'.format\n",
    "\n",
    "top9 = pd.pivot_table(data=master_frame.loc[master_frame['funding_round_type_upper'].isin([FUNDING_TYPE])],\\\n",
    "                      index=\"country_code\", values=\"raised_amount_usd\", aggfunc = np.sum)\n",
    "\n",
    "top9 = top9 .sort_values(by=['raised_amount_usd'], ascending=False)[:9]\n",
    "print(top9)\n",
    "\n",
    "\n",
    "d = master_frame.loc[master_frame['funding_round_type_upper'].isin([FUNDING_TYPE])]\n",
    "\n",
    "sns.barplot(data=d, x=\"country_code\", y=\"raised_amount_usd\", estimator=np.sum)\n",
    "\"\"\"\n",
    "\n",
    "#WORKS\n",
    "top9.plot.bar(figsize=[13,10])\n",
    "\n",
    "#d = master_frame.loc[master_frame['funding_round_type_upper'].isin([FUNDING_TYPE])]\n",
    "#dg = d.groupby(['country_code']).agg({'raised_amount_usd':sum}) #.plot.bar()\n",
    "#dgs = dg.apply(lambda x: x.sort_values(ascending=False).head(9))\n",
    "#dgs.plot.bar(figsize=[13,10])\n",
    "\n",
    "plt.gca().yaxis.set_major_formatter(FuncFormatter(lambda x, _: '${:0,.0f}'.format(x)))\n",
    "\n",
    "plt.show()\n",
    "\n",
    "\"\"\"\n",
    "df_agg = df.groupby(['job','source']).agg({'count':sum})\n",
    "We group by the first level of the index:\n",
    "\n",
    "In [63]: g = df_agg['count'].groupby('job', group_keys=False)\n",
    "Then we want to sort ('order') each group and take the first three elements:\n",
    "\n",
    "In [64]: res = g.apply(lambda x: x.sort_values(ascending=False).head(3))\n",
    "    \"\"\"\n",
    "\n",
    "https://stackoverflow.com/questions/47984547/sort-a-2-index-pivot-table-values-within-group-index-based-on-values\n",
    "https://stackoverflow.com/questions/45300428/sorting-pivot-table-multi-index/45300480#45300480\n",
    "https://stackoverflow.com/questions/10595327/pandas-sort-pivot-table\n",
    "https://www.geeksforgeeks.org/matplotlib-axis-axis-set_major_formatter-function-in-python/"
   ]
  },
  {
   "cell_type": "code",
   "execution_count": 3,
   "metadata": {},
   "outputs": [
    {
     "name": "stdout",
     "output_type": "stream",
     "text": [
      "493.39131440619997\n"
     ]
    }
   ],
   "source": [
    "#Basics of probability\n",
    "#Expected total loss\n",
    "import numpy as np\n",
    "import pandas as pd\n",
    "\n",
    "    \n",
    "fileName = \"Inferential Statistics - Student Loan.csv\"\n",
    "bank_loan = pd.read_csv(fileName)\n",
    "\n",
    "bank_loan.columns\n",
    "\n",
    "bank_loan['recovery'] = bank_loan['Recovery (%)'].\\\n",
    "                        apply(lambda x: x.replace(\"%\",'')).astype(float).divide(100)\n",
    "bank_loan['loss'] = (1 - bank_loan['recovery']).\\\n",
    "                    mul(bank_loan['Exposure at Default (in lakh Rs.)'])\n",
    "\n",
    "mulCol = bank_loan['loss'].mul(bank_loan['Probability of Default'])\n",
    "\n",
    "print(mulCol.sum())"
   ]
  },
  {
   "cell_type": "markdown",
   "metadata": {},
   "source": [
    "There are two possible values of X, 3,500 and -100. The probability of Kriti’s net winnings being 3,500 is basically the probability of her winning the game, which, as we saw in a previous question, is 1/37. The probability of her net winnings being equal to -100 is basically the probability of her losing the game, which is 36/37. So, the expected value of X = P(X=-100)*(-100) + P(X=3500)*3500 = (36/37)*(-100)+(1/37)*(3500) = -2.70."
   ]
  },
  {
   "cell_type": "code",
   "execution_count": null,
   "metadata": {},
   "outputs": [],
   "source": []
  }
 ],
 "metadata": {
  "kernelspec": {
   "display_name": "Python 3",
   "language": "python",
   "name": "python3"
  },
  "language_info": {
   "codemirror_mode": {
    "name": "ipython",
    "version": 3
   },
   "file_extension": ".py",
   "mimetype": "text/x-python",
   "name": "python",
   "nbconvert_exporter": "python",
   "pygments_lexer": "ipython3",
   "version": "3.8.3"
  }
 },
 "nbformat": 4,
 "nbformat_minor": 4
}
