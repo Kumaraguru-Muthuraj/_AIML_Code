{
 "cells": [
  {
   "cell_type": "markdown",
   "metadata": {},
   "source": [
    "Valid email ID\n",
    "Description\n",
    "Consider that email IDs are supposed to be for the following format:\n",
    "username@website.extension.\n",
    "Here, there are three conditions to keep in mind:\n",
    "1. The username can only contain characters 0-9, a-z and A-Z.\n",
    "2. The website name can contain only characters a-z\n",
    "3. The extension can have 2 or 3 alphabets(a-z).\n",
    "\n",
    "Given an email ID, you have to determine if it is valid or not.\n",
    "\n",
    "Sample Input:\n",
    "prerna@upgrad.com\n",
    "\n",
    "Sample Output:\n",
    "valid\n",
    "USED REGULAR EXPRESSION regex"
   ]
  },
  {
   "cell_type": "code",
   "execution_count": 72,
   "metadata": {},
   "outputs": [
    {
     "name": "stdout",
     "output_type": "stream",
     "text": [
      "valid\n"
     ]
    }
   ],
   "source": [
    "import pandas as pd\n",
    "import re\n",
    "pd.set_option('display.max_columns', 500)\n",
    "\n",
    "def checkmail(email):\n",
    "    #complete the function\n",
    "    #the function should return the strings \"invalid\" or \"valid\" based on the email ID entered\n",
    "    res = 'valid'\n",
    "    result = re.match(\"^[0-9a-zA-Z]+@[a-z]+\\\\.[a-z]{2,3}$\", email)\n",
    "    if result == None:\n",
    "        res = 'invalid'\n",
    "    return res\n",
    "\n",
    "\n",
    "email= \"0009A@website.com\"\n",
    "\n",
    "print(checkmail(email))\n",
    "#Test with the following\n",
    "#fname@dom.org\n",
    "#f00name@dom.or\n",
    "#fn9ame@domD.org\n",
    "#fna9me@dom.org\n",
    "#fname@dom.org\n",
    "#fname@dom.orgr\n",
    "#_Afname@dom.org\n",
    "#Afname@dom.org\n",
    "#Afname@dom.org\n",
    "#Afname@dom.org\n",
    "#Afname@dom.or4"
   ]
  },
  {
   "cell_type": "code",
   "execution_count": 84,
   "metadata": {},
   "outputs": [
    {
     "name": "stdout",
     "output_type": "stream",
     "text": [
      "initial array [[1 2 4]\n",
      " [2 4 5]\n",
      " [1 2 3]]\n",
      "New resulting array:  [1 2 4 2 4 5 1 2 3]\n"
     ]
    }
   ],
   "source": [
    "#Flattening array. With flatten or ravel. Only for lists\n",
    "import numpy as np\n",
    "\n",
    "lvl2List = np.array([[1, 2, 4], [2, 4, 5], [1, 2, 3]]) \n",
    "  \n",
    "# printing initial arrays \n",
    "print(\"initial array\", str(lvl2List)) \n",
    "# Multiplying arrays \n",
    "result = lvl2List.ravel() \n",
    "# printing result \n",
    "print(\"New resulting array: \", result)"
   ]
  },
  {
   "cell_type": "code",
   "execution_count": 104,
   "metadata": {},
   "outputs": [
    {
     "name": "stdout",
     "output_type": "stream",
     "text": [
      "[1, 2, [45, 56], 2, 4, 5, 1, 2, 3]\n",
      "False\n"
     ]
    }
   ],
   "source": [
    "import pandas as pd\n",
    "from collections.abc import Iterable\n",
    "\n",
    "#def isInstaceOfList(theElement):\n",
    "#    if isinstance(theElement, list):\n",
    "#        return True\n",
    "#    return False\n",
    "    \n",
    "def isItemIterable(theElement):\n",
    "    if isinstance(theElement, Iterable):\n",
    "        # iterable\n",
    "        return True\n",
    "    else:\n",
    "        # not iterable\n",
    "        return False\n",
    "        \n",
    "lofL = [[1, 2, [45, 56]], [2, 4, 5], [1, 2, 3]]\n",
    "#lofL = [[1, 2, 45], [2, 4, 5], [1, 2, 3]]\n",
    "\n",
    "flt = [itm for sublst in lofL for itm in sublst]\n",
    "\n",
    "print(flt)\n",
    "\n",
    "print(isItemIterable(123))"
   ]
  },
  {
   "cell_type": "markdown",
   "metadata": {},
   "source": [
    "Squares\n",
    "\n",
    "Description\n",
    "\n",
    "Given a list of positive integers, you have to find numbers divisible by 3 and replace them with their squares. \n",
    "\n",
    "For example, consider the list below:\n",
    "Input: [1,2,3,4,5,6]\n",
    "\n",
    "The output for the above list would be: [1,2,9,4,5,36]. Because 3 and 6 were divisible by 3, these numbers were replaced with their squares.\n"
   ]
  },
  {
   "cell_type": "code",
   "execution_count": 116,
   "metadata": {},
   "outputs": [
    {
     "data": {
      "text/plain": [
       "[1, 2, 9, 4, 5, 36]"
      ]
     },
     "execution_count": 116,
     "metadata": {},
     "output_type": "execute_result"
    }
   ],
   "source": [
    "chkSquare = lambda x : x*x if x%3 == 0 else x \n",
    "lst = [1,2,3,4,5,6]\n",
    "res = [chkSquare(itm) for itm in lst]\n",
    "res"
   ]
  },
  {
   "cell_type": "markdown",
   "metadata": {},
   "source": [
    "Write a program that computes the value of n+nn+nnn+nnnn with a given digit as the value of n.\n",
    "For example, if n=9 , then you have to find the value of 9+99+999+9999."
   ]
  },
  {
   "cell_type": "code",
   "execution_count": 156,
   "metadata": {},
   "outputs": [
    {
     "name": "stdout",
     "output_type": "stream",
     "text": [
      "5\n",
      "[5, 55, 555, 5555]\n",
      "6170\n"
     ]
    }
   ],
   "source": [
    "from functools import reduce\n",
    "sed=int(input())\n",
    "sum = sed\n",
    "arr = [None] * 4\n",
    "for i in range(4):\n",
    "    arr[i] = sum\n",
    "    sum = sum * 10 + sed\n",
    "    #print(arr) \n",
    "\n",
    "#print('DONE')\n",
    "print(arr)\n",
    "ans = reduce(lambda x, y: x+y, arr)\n",
    "print(ans)\n",
    "    "
   ]
  },
  {
   "cell_type": "markdown",
   "metadata": {},
   "source": [
    "2D array\n",
    "\n",
    "Description\n",
    "\n",
    "Write Python code which takes 2 numbers x and y as input and generates a 2-dimensional numpy array where value in the i-th row and j-th column of the array should be (i+j)/2.\n",
    "\n",
    "Note: i=0,1,...x-1 and j=0,1....,y-1\n",
    "\n",
    "The input will have two lines with x and y respectively.\n",
    "The output should be a 2D numpy array.\n"
   ]
  },
  {
   "cell_type": "code",
   "execution_count": 163,
   "metadata": {},
   "outputs": [
    {
     "name": "stdout",
     "output_type": "stream",
     "text": [
      "[[0.0 0.5 1.0 1.5 2.0]\n",
      " [0.5 1.0 1.5 2.0 2.5]\n",
      " [1.0 1.5 2.0 2.5 3.0]]\n"
     ]
    }
   ],
   "source": [
    "import numpy as np\n",
    "\n",
    "rows = 3\n",
    "cols = 5\n",
    "arr = np.empty(shape=(rows, cols),dtype='object') \n",
    "\n",
    "for i in range(rows):\n",
    "    for j in range(cols): \n",
    "        arr[i][j] = (i + j) /2 \n",
    "    \n",
    "print (arr)"
   ]
  },
  {
   "cell_type": "code",
   "execution_count": 165,
   "metadata": {},
   "outputs": [
    {
     "name": "stdout",
     "output_type": "stream",
     "text": [
      "3\n",
      "4\n",
      "[[0.  0.5 1.  1.5]\n",
      " [0.5 1.  1.5 2. ]\n",
      " [1.  1.5 2.  2.5]]\n"
     ]
    }
   ],
   "source": [
    "x=int(input())\n",
    "y=int(input())\n",
    "from numpy import zeros\n",
    "a = zeros([x,y])\n",
    "for row in range(x):\n",
    "    for col in range(y):\n",
    "        a[row][col]= (row+col)/2\n",
    "print(a)"
   ]
  },
  {
   "cell_type": "markdown",
   "metadata": {},
   "source": [
    "#### Hypothesis testing in Python\n",
    "You can easily do hypothesis testing in Python by using stats from Scipy library.\n",
    "\n",
    "##### 1-sample t-test: testing the value of a population mean\n",
    "\n",
    "To test, if the population mean of data is likely to be equal to a given value"
   ]
  },
  {
   "cell_type": "code",
   "execution_count": 166,
   "metadata": {},
   "outputs": [
    {
     "ename": "NameError",
     "evalue": "name 'scipy' is not defined",
     "output_type": "error",
     "traceback": [
      "\u001b[1;31m---------------------------------------------------------------------------\u001b[0m",
      "\u001b[1;31mNameError\u001b[0m                                 Traceback (most recent call last)",
      "\u001b[1;32m<ipython-input-166-3f02a9cbc0de>\u001b[0m in \u001b[0;36m<module>\u001b[1;34m\u001b[0m\n\u001b[1;32m----> 1\u001b[1;33m \u001b[0mscipy\u001b[0m\u001b[1;33m.\u001b[0m\u001b[0mstats\u001b[0m\u001b[1;33m.\u001b[0m\u001b[0mttest_1samp\u001b[0m\u001b[1;33m(\u001b[0m\u001b[1;33m)\u001b[0m\u001b[1;33m\u001b[0m\u001b[1;33m\u001b[0m\u001b[0m\n\u001b[0m\u001b[0;32m      2\u001b[0m \u001b[1;33m\u001b[0m\u001b[0m\n\u001b[0;32m      3\u001b[0m \u001b[0mstats\u001b[0m\u001b[1;33m.\u001b[0m\u001b[0mttest_1samp\u001b[0m\u001b[1;33m(\u001b[0m\u001b[0mdata\u001b[0m\u001b[1;33m[\u001b[0m\u001b[1;34m'column'\u001b[0m\u001b[1;33m]\u001b[0m\u001b[1;33m,\u001b[0m \u001b[0mx\u001b[0m\u001b[1;33m)\u001b[0m\u001b[1;33m\u001b[0m\u001b[1;33m\u001b[0m\u001b[0m\n\u001b[0;32m      4\u001b[0m \u001b[1;31m#where x is the mean value you want to test\u001b[0m\u001b[1;33m\u001b[0m\u001b[1;33m\u001b[0m\u001b[1;33m\u001b[0m\u001b[0m\n",
      "\u001b[1;31mNameError\u001b[0m: name 'scipy' is not defined"
     ]
    }
   ],
   "source": [
    "scipy.stats.ttest_1samp()\n",
    "\n",
    "stats.ttest_1samp(data['column'], x)\n",
    "#where x is the mean value you want to test"
   ]
  },
  {
   "cell_type": "markdown",
   "metadata": {},
   "source": [
    "##### 2-sample t-test: testing for difference across populations"
   ]
  },
  {
   "cell_type": "code",
   "execution_count": 168,
   "metadata": {},
   "outputs": [
    {
     "ename": "NameError",
     "evalue": "name 'scipy' is not defined",
     "output_type": "error",
     "traceback": [
      "\u001b[1;31m---------------------------------------------------------------------------\u001b[0m",
      "\u001b[1;31mNameError\u001b[0m                                 Traceback (most recent call last)",
      "\u001b[1;32m<ipython-input-168-aa203baf1a1e>\u001b[0m in \u001b[0;36m<module>\u001b[1;34m\u001b[0m\n\u001b[1;32m----> 1\u001b[1;33m \u001b[0mscipy\u001b[0m\u001b[1;33m.\u001b[0m\u001b[0mstats\u001b[0m\u001b[1;33m.\u001b[0m\u001b[0mttest_ind\u001b[0m\u001b[1;33m(\u001b[0m\u001b[1;33m)\u001b[0m\u001b[1;33m\u001b[0m\u001b[1;33m\u001b[0m\u001b[0m\n\u001b[0m\u001b[0;32m      2\u001b[0m \u001b[1;33m\u001b[0m\u001b[0m\n\u001b[0;32m      3\u001b[0m \u001b[0mstats\u001b[0m\u001b[1;33m.\u001b[0m\u001b[0mttest_ind\u001b[0m\u001b[1;33m(\u001b[0m\u001b[0mcolumn_1\u001b[0m\u001b[1;33m,\u001b[0m\u001b[0mcolumn_2\u001b[0m\u001b[1;33m)\u001b[0m\u001b[1;33m\u001b[0m\u001b[1;33m\u001b[0m\u001b[0m\n",
      "\u001b[1;31mNameError\u001b[0m: name 'scipy' is not defined"
     ]
    }
   ],
   "source": [
    "scipy.stats.ttest_ind()\n",
    "\n",
    "stats.ttest_ind(column_1,column_2)"
   ]
  },
  {
   "cell_type": "markdown",
   "metadata": {},
   "source": [
    "##### Paired tests: repeated measurements on the same individuals"
   ]
  },
  {
   "cell_type": "code",
   "execution_count": 169,
   "metadata": {},
   "outputs": [
    {
     "ename": "NameError",
     "evalue": "name 'stats' is not defined",
     "output_type": "error",
     "traceback": [
      "\u001b[1;31m---------------------------------------------------------------------------\u001b[0m",
      "\u001b[1;31mNameError\u001b[0m                                 Traceback (most recent call last)",
      "\u001b[1;32m<ipython-input-169-c3725848561d>\u001b[0m in \u001b[0;36m<module>\u001b[1;34m\u001b[0m\n\u001b[1;32m----> 1\u001b[1;33m \u001b[0mstats\u001b[0m\u001b[1;33m.\u001b[0m\u001b[0mttest_rel\u001b[0m\u001b[1;33m(\u001b[0m\u001b[1;33m)\u001b[0m\u001b[1;33m\u001b[0m\u001b[1;33m\u001b[0m\u001b[0m\n\u001b[0m\u001b[0;32m      2\u001b[0m \u001b[1;33m\u001b[0m\u001b[0m\n\u001b[0;32m      3\u001b[0m \u001b[0mstats\u001b[0m\u001b[1;33m.\u001b[0m\u001b[0mttest_rel\u001b[0m\u001b[1;33m(\u001b[0m\u001b[0mcolumn_1\u001b[0m\u001b[1;33m,\u001b[0m\u001b[0mcolumn_2\u001b[0m\u001b[1;33m)\u001b[0m\u001b[1;33m\u001b[0m\u001b[1;33m\u001b[0m\u001b[0m\n",
      "\u001b[1;31mNameError\u001b[0m: name 'stats' is not defined"
     ]
    }
   ],
   "source": [
    "stats.ttest_rel()  \n",
    "\n",
    "stats.ttest_rel(column_1,column_2)"
   ]
  },
  {
   "cell_type": "markdown",
   "metadata": {},
   "source": [
    "## import pandas as pd\n",
    "pd.options.display.float_format = '${:,.2f}'.format\n",
    "df = pd.DataFrame([123.4567, 234.5678, 345.6789, 456.7890],\n",
    "                  index=['foo','bar','baz','quux'],\n",
    "                  columns=['cost'])\n",
    "print(df)"
   ]
  },
  {
   "cell_type": "code",
   "execution_count": 2,
   "metadata": {},
   "outputs": [
    {
     "ename": "SyntaxError",
     "evalue": "invalid syntax (<ipython-input-2-82328d1e59fc>, line 40)",
     "output_type": "error",
     "traceback": [
      "\u001b[1;36m  File \u001b[1;32m\"<ipython-input-2-82328d1e59fc>\"\u001b[1;36m, line \u001b[1;32m40\u001b[0m\n\u001b[1;33m    https://stackoverflow.com/questions/47984547/sort-a-2-index-pivot-table-values-within-group-index-based-on-values\u001b[0m\n\u001b[1;37m          ^\u001b[0m\n\u001b[1;31mSyntaxError\u001b[0m\u001b[1;31m:\u001b[0m invalid syntax\n"
     ]
    }
   ],
   "source": [
    "plt.figure(figsize=[20,20])\n",
    "\n",
    "\"\"\"\n",
    "pd.options.display.float_format = '{:,.2f}'.format\n",
    "\n",
    "top9 = pd.pivot_table(data=master_frame.loc[master_frame['funding_round_type_upper'].isin([FUNDING_TYPE])],\\\n",
    "                      index=\"country_code\", values=\"raised_amount_usd\", aggfunc = np.sum)\n",
    "\n",
    "top9 = top9 .sort_values(by=['raised_amount_usd'], ascending=False)[:9]\n",
    "print(top9)\n",
    "\n",
    "\n",
    "d = master_frame.loc[master_frame['funding_round_type_upper'].isin([FUNDING_TYPE])]\n",
    "\n",
    "sns.barplot(data=d, x=\"country_code\", y=\"raised_amount_usd\", estimator=np.sum)\n",
    "\"\"\"\n",
    "\n",
    "#WORKS\n",
    "top9.plot.bar(figsize=[13,10])\n",
    "\n",
    "#d = master_frame.loc[master_frame['funding_round_type_upper'].isin([FUNDING_TYPE])]\n",
    "#dg = d.groupby(['country_code']).agg({'raised_amount_usd':sum}) #.plot.bar()\n",
    "#dgs = dg.apply(lambda x: x.sort_values(ascending=False).head(9))\n",
    "#dgs.plot.bar(figsize=[13,10])\n",
    "\n",
    "plt.gca().yaxis.set_major_formatter(FuncFormatter(lambda x, _: '${:0,.0f}'.format(x)))\n",
    "\n",
    "plt.show()\n",
    "\n",
    "\"\"\"\n",
    "df_agg = df.groupby(['job','source']).agg({'count':sum})\n",
    "We group by the first level of the index:\n",
    "\n",
    "In [63]: g = df_agg['count'].groupby('job', group_keys=False)\n",
    "Then we want to sort ('order') each group and take the first three elements:\n",
    "\n",
    "In [64]: res = g.apply(lambda x: x.sort_values(ascending=False).head(3))\n",
    "    \"\"\"\n",
    "\n",
    "https://stackoverflow.com/questions/47984547/sort-a-2-index-pivot-table-values-within-group-index-based-on-values\n",
    "https://stackoverflow.com/questions/45300428/sorting-pivot-table-multi-index/45300480#45300480\n",
    "https://stackoverflow.com/questions/10595327/pandas-sort-pivot-table\n",
    "https://www.geeksforgeeks.org/matplotlib-axis-axis-set_major_formatter-function-in-python/"
   ]
  },
  {
   "cell_type": "code",
   "execution_count": 3,
   "metadata": {},
   "outputs": [
    {
     "name": "stdout",
     "output_type": "stream",
     "text": [
      "493.39131440619997\n"
     ]
    }
   ],
   "source": [
    "#Basics of probability\n",
    "#Expected total loss\n",
    "import numpy as np\n",
    "import pandas as pd\n",
    "\n",
    "    \n",
    "fileName = \"Inferential Statistics - Student Loan.csv\"\n",
    "bank_loan = pd.read_csv(fileName)\n",
    "\n",
    "bank_loan.columns\n",
    "\n",
    "bank_loan['recovery'] = bank_loan['Recovery (%)'].\\\n",
    "                        apply(lambda x: x.replace(\"%\",'')).astype(float).divide(100)\n",
    "bank_loan['loss'] = (1 - bank_loan['recovery']).\\\n",
    "                    mul(bank_loan['Exposure at Default (in lakh Rs.)'])\n",
    "\n",
    "mulCol = bank_loan['loss'].mul(bank_loan['Probability of Default'])\n",
    "\n",
    "print(mulCol.sum())"
   ]
  },
  {
   "cell_type": "markdown",
   "metadata": {},
   "source": [
    "There are two possible values of X, 3,500 and -100. The probability of Kriti’s net winnings being 3,500 is basically the probability of her winning the game, which, as we saw in a previous question, is 1/37. The probability of her net winnings being equal to -100 is basically the probability of her losing the game, which is 36/37. So, the expected value of X = P(X=-100)*(-100) + P(X=3500)*3500 = (36/37)*(-100)+(1/37)*(3500) = -2.70."
   ]
  },
  {
   "cell_type": "code",
   "execution_count": null,
   "metadata": {},
   "outputs": [],
   "source": []
  }
 ],
 "metadata": {
  "kernelspec": {
   "display_name": "Python 3",
   "language": "python",
   "name": "python3"
  },
  "language_info": {
   "codemirror_mode": {
    "name": "ipython",
    "version": 3
   },
   "file_extension": ".py",
   "mimetype": "text/x-python",
   "name": "python",
   "nbconvert_exporter": "python",
   "pygments_lexer": "ipython3",
   "version": "3.8.3"
  }
 },
 "nbformat": 4,
 "nbformat_minor": 4
}
