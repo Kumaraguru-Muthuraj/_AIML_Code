{
 "cells": [
  {
   "cell_type": "markdown",
   "metadata": {},
   "source": [
    "# Lending Club Case Study\n",
    "#### Authors\n",
    "- **Siddakka Saptasagare**\n",
    "- **Kumaraguru Muthuraj**\n",
    "\n",
    "## Business Understanding\n",
    "**You work for a consumer finance company which specialises in lending various types of loans to urban customers. When the company receives a loan application, the company has to make a decision for loan approval based on the applicant’s profile. Two types of risks are associated with the bank’s decision:**\n",
    "- If the applicant is likely to repay the loan, then not approving the loan results in a loss of business to the company\n",
    "- If the applicant is not likely to repay the loan, i.e. he/she is likely to default, then approving the loan may lead to a financial loss for the company\n",
    "<p>\n",
    "<img src =\"https://cdn.upgrad.com/UpGrad/temp/7afbce98-8ecc-41c6-96d8-981cba7d343f/Loan_image.png\" alt='Figure 1'>\n",
    "<center> <b>Figure 1. Loan Data Set</b> </center> \n",
    " </br>  \n",
    "</p>\n",
    "\n",
    "  **When a person applies for a loan, there are two types of decisions that could be taken by the company:**\n",
    "\n",
    "- Loan accepted: If the company approves the loan, there are 3 possible scenarios described below:\n",
    "\n",
    "> Fully paid: Applicant has fully paid the loan (the principal and the interest rate)\n",
    "\n",
    "> Current: Applicant is in the process of paying the instalments, i.e. the tenure of the loan is not yet completed. These candidates are not labelled as 'defaulted'.\n",
    "\n",
    "> Charged-off: Applicant has not paid the instalments in due time for a long period of time, i.e. he/she has defaulted on the loan \n",
    "\n",
    "- Loan rejected: The company had rejected the loan (because the candidate does not meet their requirements etc.). Since the loan was rejected, there is no transactional history of those applicants with the company and so this data is not available with the company (and thus in this dataset)\n",
    "\n",
    "## Business Objectives\n",
    "  **This company is the largest online loan marketplace, facilitating personal loans, business loans, and financing of medical procedures. Borrowers can easily access lower interest rate loans through a fast online interface.**\n",
    "- The company wants to understand the driving factors (or driver variables) behind loan default, i.e. the variables which are strong indicators of default.  The company can utilise this knowledge for its portfolio and risk assessment. "
   ]
  },
  {
   "cell_type": "markdown",
   "metadata": {},
   "source": [
    "### What are we solving for?\n",
    "**Lending Club, being headquartered in SFO, CA lends money for cheap interest rates for three major reasons, namely medical, personal and business loans.**\n",
    "\n",
    "**The history of borrowers between 2007 and 2011 provided will be used to do statistical analysis and provide insights on what parameters of the borrower are related to defaulting. This will help Lending Club avoid lending money to these customers or reduce the loan amount or increase the interest rate.**"
   ]
  },
  {
   "cell_type": "markdown",
   "metadata": {},
   "source": [
    "### The insights are provided in the form of a story step-by-step for easily grasping the most important customer parameters impacting loan defaulting tendency. There are 2 major sections\n",
    "### A) Insights and conclusions on loan defaulters (charged-off)\n",
    "### B) EDA experiments supporting insights and conclusions"
   ]
  },
  {
   "cell_type": "markdown",
   "metadata": {},
   "source": [
    "## Insights and conclusions on loan defaulters (charged-off)"
   ]
  },
  {
   "cell_type": "markdown",
   "metadata": {},
   "source": [
    "### Note: Siddakka, every cell in insight should focus on one insight / conclusion. There might be a preceeding step related to a data wrangling cleaning, deriving step. All the supporting analysis, can be moved to the end. \n",
    "\n",
    "### Every insight cell will have data local to itself. By doing this the code's readability is very good. The dimensions with which we are analysing is too many and hence the names will get lost. Imagine we have a dfXXX_YYY_ZZZ created in the data clean up in cell 10 and we use it in cell 55. The reviewer need not go to cell 10 to see that data."
   ]
  },
  {
   "cell_type": "markdown",
   "metadata": {},
   "source": [
    "### Step 1. Load the required libraries, opend the loan.csv and cleanup data\n",
    "##### Note: If we are dropping columns, imputing, we need to explain why we are doing. We can refer to a step in future in \"EDA experiments supporting insights ad conclusions\". We will have a brief EDA step here in this section, but not too graphical that distracts the reader / reviewer."
   ]
  },
  {
   "cell_type": "code",
   "execution_count": null,
   "metadata": {},
   "outputs": [],
   "source": []
  },
  {
   "cell_type": "markdown",
   "metadata": {},
   "source": [
    "### Step 2. Derive data for simplicity and ease of analysis.\n",
    "##### Note: Standardization and data formating of columns ---> goes here. We can just retain charged-off customers, because thats what we need to focus upon. \n",
    "##### Add functions in this section that will be used later.\n",
    "##### Your region categorization function should be defined here"
   ]
  },
  {
   "cell_type": "code",
   "execution_count": null,
   "metadata": {},
   "outputs": [],
   "source": []
  },
  {
   "cell_type": "markdown",
   "metadata": {},
   "source": [
    "### Step 3. Do preliminary EDA and understand data.\n",
    "### Lets do the Loan similarity distribution\n",
    "- What amount of loan has been issued\n",
    "- What is frequency distribution loan over a period\n",
    "## Good Loan vs Bad Loans\n",
    "**Lets see the no. of Bad loans in Dataframe to find out the risk of load falling into default category.**\n",
    "\n",
    "**From the above graph its clear that the loans that are charged off are the bad loans. Aound 14.2 % of loans are bad loans**\n",
    "\n",
    "**From the above graph we can conclude that most of loans were issued to grade A and B**\n",
    "\n",
    "## Lets do the Analysi of Bad loan vs different variables\n",
    "\n",
    "### Lets see the distribution of the annual income of the employees\n",
    "\n",
    "#### From the above graphs we can conclude the below points\n",
    "- The amount of loan issued lies between 5000 to 15000 USD\n",
    "- The annual income of the most applicants is <1000 k USD\n",
    "\n",
    "**From the above graph we can conclude that Amount of the loan issued is not dependent on the Loan status\n",
    "  \n",
    "**From the above graph we can conclude that the Grade A and B have received the loan with minimum interest rate and Grade G has received loan with maximum interest rate**\n",
    "\n",
    "**From the above graph we can conclude that the interest rate of charged off loans is greater then the fully paid**\n",
    "\n",
    "**Lets check the relation between the Loan purpose and the Loan status**\n",
    "### From the above graph we can conclude below points:\n",
    "1. Loans Issued for the perpose of Debt Consolidation are being paid off\n",
    "2. Loans Issued for the perpose of Debt Consolidation are being Charged off\n",
    "\n",
    "### Lets see if there is any impact of terms i.e. the loan terms in months on the loan status\n",
    "### Lets check the relation between home ownership and the Loan status\n",
    "\n",
    "##### Do Top4 region, Top4 state, Top4 reason, Top4 month and Terms and explain why you need that and not the entire data set.\n",
    "\n",
    "## All the cells of Siddakka till cell 50 go here. We need to change the colors similar to cell 42. its very sober and smooth."
   ]
  },
  {
   "cell_type": "code",
   "execution_count": null,
   "metadata": {},
   "outputs": [],
   "source": []
  },
  {
   "cell_type": "markdown",
   "metadata": {},
   "source": [
    "### Step 4. We are retaining only charged-off borrowers for analysis. Why?\n",
    "\n",
    "##### Why? Explain the reasons."
   ]
  },
  {
   "cell_type": "code",
   "execution_count": null,
   "metadata": {},
   "outputs": [],
   "source": []
  },
  {
   "cell_type": "markdown",
   "metadata": {},
   "source": [
    "### Step 5. Term and Interest rate analysis\n",
    "\n",
    "#### OBSERVATION - For those with 36 months term, about (800+650) approx 1500 of them dropped out when interest rate was 12 - 14 percent. From 60 months term, about 900 of them dropped out when interest rate was 15 - 17 percent. Observe that the defaulter count is low for 36 months as interest rate increases. \n",
    "#### CONCLUSION - So for 36 months, the interest rate has to be higher.\n",
    "#### SUPPORTING EDA - Refer Section number XX for extensive EDA that helped us arrive at this conclusion."
   ]
  },
  {
   "cell_type": "code",
   "execution_count": null,
   "metadata": {},
   "outputs": [],
   "source": []
  },
  {
   "cell_type": "markdown",
   "metadata": {},
   "source": [
    "### Step 6. Term with credit_history (derived from earliest credit line and loan issued year). Note that the defaulters drastically reduce for both terms 36 and 60 as the credit_history (age of the person) increases. Its risky to give loans to customers with credit history between 5 to 15 years.\n",
    "\n",
    "#### OBSERVATION - xxxxxx \n",
    "#### CONCLUSION - xxxx\n",
    "#### SUPPORTING EDA - Refer Section number XX for extensive EDA that helped us arrive at this conclusion."
   ]
  },
  {
   "cell_type": "code",
   "execution_count": null,
   "metadata": {},
   "outputs": [],
   "source": []
  },
  {
   "cell_type": "markdown",
   "metadata": {},
   "source": [
    "### Step 7. Analyse MONTH loan issued, PURPOSE of loan and STATE\n",
    "#### OBSERVATION - xxxxxx \n",
    "#### CONCLUSION - xxxx\n",
    "#### SUPPORTING EDA - Refer Section number XX for extensive EDA that helped us arrive at this conclusion."
   ]
  },
  {
   "cell_type": "code",
   "execution_count": null,
   "metadata": {},
   "outputs": [],
   "source": []
  },
  {
   "cell_type": "markdown",
   "metadata": {},
   "source": [
    "### Step 8. From defaulter data, we got TOP 4 - Months, States and Purpose. We build a pivot table to categorize the purpose of loan for a month for a state. Here we can obviously see that most of defaulters take loans under the category debt consolidation, in December across all 4 states.\n",
    "\n",
    "#### OBSERVATION - xxxxxx \n",
    "#### CONCLUSION - xxxx\n",
    "#### SUPPORTING EDA - Refer Section number XX for extensive EDA that helped us arrive at this conclusion."
   ]
  },
  {
   "cell_type": "code",
   "execution_count": null,
   "metadata": {},
   "outputs": [],
   "source": []
  },
  {
   "cell_type": "markdown",
   "metadata": {},
   "source": [
    "### Step 9. In November and December, in California, when a consumer takes loan under debt consolidation does credit history length have any impact. YES THIS CHART INDICATES credit history of 10 - 15 years definitely is a risk\n",
    "\n",
    "#### OBSERVATION - xxxxxx \n",
    "#### CONCLUSION - xxxx\n",
    "#### SUPPORTING EDA - Refer Section number XX for extensive EDA that helped us arrive at this conclusion."
   ]
  },
  {
   "cell_type": "code",
   "execution_count": null,
   "metadata": {},
   "outputs": [],
   "source": []
  },
  {
   "cell_type": "markdown",
   "metadata": {},
   "source": [
    "### Step 10. Now that we know in last quater, especially December, customers take debt consolidation loan and default. Is employment history affecting their default status. YES, since 10 means greater than 10 years, we can ignore that. There is a pattern that customers with less than 1 year experience, default more and it reduces as employment length increases.\n",
    "##### When a customer comes in Nov, Dec with debt consolidation as the reason and less than 1 year of employment length in current job, its risky.\n",
    "\n",
    "#### OBSERVATION - xxxxxx \n",
    "#### CONCLUSION - xxxx\n",
    "#### SUPPORTING EDA - Refer Section number XX for extensive EDA that helped us arrive at this conclusion."
   ]
  },
  {
   "cell_type": "code",
   "execution_count": null,
   "metadata": {},
   "outputs": [],
   "source": []
  },
  {
   "cell_type": "markdown",
   "metadata": {},
   "source": [
    "### Step 11. Now that we know in last quater, especially December, customers take debt consolidation loan and default. Does home ownership affect defaulting nature. Yes, those who rent default significantly higher than mortagers and mortgagers default higher than home owners. Hence, if a customer in rental home applies for loan with purpose debt consolidation in the months November - December, its risky.\n",
    "#### OBSERVATION - xxxxxx \n",
    "#### CONCLUSION - xxxx\n",
    "#### SUPPORTING EDA - Refer Section number XX for extensive EDA that helped us arrive at this conclusion."
   ]
  },
  {
   "cell_type": "code",
   "execution_count": null,
   "metadata": {},
   "outputs": [],
   "source": []
  },
  {
   "cell_type": "markdown",
   "metadata": {},
   "source": [
    "### Step 9 in original file - IGNORE THIS or move it to supplement section.  Now that we know in last quater, especially December, customers take debt consolidation loan and default. How does revol_util affect the defaulting tendency. NO distinct pattern in this - READ BELOW section 14. WE have proved that revol_util has a BIG IMPACT.\n",
    "\n",
    "#### OBSERVATION - xxxxxx \n",
    "#### CONCLUSION - xxxx\n",
    "#### SUPPORTING EDA - Refer Section number XX for extensive EDA that helped us arrive at this conclusion.\n",
    "\n"
   ]
  },
  {
   "cell_type": "code",
   "execution_count": null,
   "metadata": {},
   "outputs": [],
   "source": []
  },
  {
   "cell_type": "markdown",
   "metadata": {},
   "source": [
    "### Step 12. Now that we know in last quater, especially December, customers take debt consolidation loan and default. Income verficiation has any relationship? YES - If income source verification is done, the risk is LOWER\n",
    "#### OBSERVATION - xxxxxx \n",
    "#### CONCLUSION - xxxx\n",
    "#### SUPPORTING EDA - Refer Section number XX for extensive EDA that helped us arrive at this conclusion."
   ]
  },
  {
   "cell_type": "code",
   "execution_count": null,
   "metadata": {},
   "outputs": [],
   "source": []
  },
  {
   "cell_type": "markdown",
   "metadata": {},
   "source": [
    "### Step 13. Now that we know in last quater, especially December, customers take debt consolidation loan and default.\n",
    "### How many months after these customers take loan they default?\n",
    "### How much money was recovered in total from them?\n",
    "#### OBSERVATION - xxxxxx \n",
    "#### CONCLUSION - xxxx\n",
    "\n",
    "#### Conclusion: The below chart is for top 4 months, top 4 purpose, top 4 states defaulters, who are in rented homes. We index it based on the length of employment. It clearly shows that, customers with less than 1 year of current employment experience default the most.\n",
    "\n",
    "#### SUPPORTING EDA - Refer Section number XX for extensive EDA that helped us arrive at this conclusion."
   ]
  },
  {
   "cell_type": "code",
   "execution_count": null,
   "metadata": {},
   "outputs": [],
   "source": []
  },
  {
   "cell_type": "markdown",
   "metadata": {},
   "source": [
    "### Step 14. For the months Nov, Dec, in the state of California, those customers who take loan with reason as debt consolidation, we want to know what is the recovery rate. Recovery rate is the amount recovered as a percent of funded amount. The amount we refer is  principal + interest + other charges, which is total_pymnt. YES! There is a pattern that the MEDIAN recovery rate is around 40% for those living in rented house and highest with those in their own home.\n",
    "\n",
    "### Also for CA state the median recovery rate is only 53%. If you replace index to be 'addr_state', you can observe this. This indicates that customers in rented house bring down the median a lot.\n",
    "#### OBSERVATION - xxxxxx \n",
    "#### CONCLUSION - xxxx\n",
    "\n",
    "#### SUPPORTING EDA - Refer Section number XX for extensive EDA that helped us arrive at this conclusion."
   ]
  },
  {
   "cell_type": "code",
   "execution_count": null,
   "metadata": {},
   "outputs": [],
   "source": []
  },
  {
   "cell_type": "markdown",
   "metadata": {},
   "source": [
    "### Step 15.  For the months Nov, Dec, in the state of California, those customers who take loan with reason as debt consolidation, we want to know the DTI relationship. A very powerful pattern emerges here. \n",
    "##### The Median DTI is high and close to home owners. Considering the previous chart, since recovery is lowest amongst rental home owners, and DTI is higer than mortagers, its risky to lend money to rental owners.\n",
    "##### Also when we seggregate the DTI w.r.t credit history, we see that its in the order of\n",
    "##### 0 - 15 for Home owners\n",
    "##### 0 - 20 for Mortgagers and\n",
    "##### 0 - 40 for Rental folks - Wide spread.\n",
    "##### This is a powerful observation that rental home borrowers have significantly higher and broader span of DTI, which implies that rental owners have more debt than income.\n",
    "#### OBSERVATION - xxxxxx \n",
    "#### CONCLUSION - xxxx\n",
    "\n",
    "#### SUPPORTING EDA - Refer Section number XX for extensive EDA that helped us arrive at this conclusion."
   ]
  },
  {
   "cell_type": "code",
   "execution_count": null,
   "metadata": {},
   "outputs": [],
   "source": []
  },
  {
   "cell_type": "markdown",
   "metadata": {},
   "source": [
    "### Step 16. For the months Nov, Dec, in the state of California, those customers who take loan with reason as debt consolidation, we want to know the revolving utilization impact on defaulters. A very powerful pattern emerges here. \n",
    "\n",
    "##### For rental customers, revolving utilization is highest, and specifically, it reduces as they spend more number of years with the same employer. So many reasons for calling rental clients risky."
   ]
  },
  {
   "cell_type": "code",
   "execution_count": null,
   "metadata": {},
   "outputs": [],
   "source": []
  },
  {
   "cell_type": "code",
   "execution_count": null,
   "metadata": {},
   "outputs": [],
   "source": []
  },
  {
   "cell_type": "code",
   "execution_count": null,
   "metadata": {},
   "outputs": [],
   "source": []
  },
  {
   "cell_type": "code",
   "execution_count": null,
   "metadata": {},
   "outputs": [],
   "source": []
  },
  {
   "cell_type": "code",
   "execution_count": null,
   "metadata": {},
   "outputs": [],
   "source": []
  },
  {
   "cell_type": "code",
   "execution_count": null,
   "metadata": {},
   "outputs": [],
   "source": []
  },
  {
   "cell_type": "code",
   "execution_count": null,
   "metadata": {},
   "outputs": [],
   "source": []
  },
  {
   "cell_type": "code",
   "execution_count": null,
   "metadata": {},
   "outputs": [],
   "source": []
  },
  {
   "cell_type": "markdown",
   "metadata": {},
   "source": [
    "## EDA experiments supporting insights and conclusions"
   ]
  },
  {
   "cell_type": "code",
   "execution_count": null,
   "metadata": {},
   "outputs": [],
   "source": []
  },
  {
   "cell_type": "code",
   "execution_count": null,
   "metadata": {},
   "outputs": [],
   "source": []
  },
  {
   "cell_type": "code",
   "execution_count": null,
   "metadata": {},
   "outputs": [],
   "source": []
  },
  {
   "cell_type": "code",
   "execution_count": null,
   "metadata": {},
   "outputs": [],
   "source": []
  }
 ],
 "metadata": {
  "kernelspec": {
   "display_name": "Python 3",
   "language": "python",
   "name": "python3"
  },
  "language_info": {
   "codemirror_mode": {
    "name": "ipython",
    "version": 3
   },
   "file_extension": ".py",
   "mimetype": "text/x-python",
   "name": "python",
   "nbconvert_exporter": "python",
   "pygments_lexer": "ipython3",
   "version": "3.8.3"
  }
 },
 "nbformat": 4,
 "nbformat_minor": 4
}
