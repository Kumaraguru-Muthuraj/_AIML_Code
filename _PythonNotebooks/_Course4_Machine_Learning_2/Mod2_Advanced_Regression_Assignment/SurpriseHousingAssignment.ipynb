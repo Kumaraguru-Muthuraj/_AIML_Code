{
 "cells": [
  {
   "cell_type": "markdown",
   "metadata": {},
   "source": [
    "# Surprise Housing Assignment\n",
    "## Author: Kumaraguru Muthuraj\n",
    "### Problem Statement\n",
    "#### Surprise Housing wants to buy low and sell high of properties in Australia.\n"
   ]
  },
  {
   "cell_type": "code",
   "execution_count": 1,
   "metadata": {},
   "outputs": [],
   "source": [
    "import numpy as np\n",
    "import pandas as pd\n",
    "import matplotlib.pyplot as plt\n",
    "import seaborn as sns\n",
    "from sklearn import linear_model, metrics\n",
    "from sklearn.feature_selection import RFE\n",
    "from sklearn.linear_model import LinearRegression\n",
    "from sklearn.linear_model import Ridge\n",
    "from sklearn.linear_model import Lasso\n",
    "from sklearn.model_selection import GridSearchCV\n",
    "from sklearn.metrics import mean_squared_error, r2_score\n",
    "\n",
    "import os\n",
    "\n",
    "# hide warnings\n",
    "import warnings\n",
    "warnings.filterwarnings('ignore')"
   ]
  },
  {
   "cell_type": "code",
   "execution_count": 2,
   "metadata": {},
   "outputs": [
    {
     "name": "stdout",
     "output_type": "stream",
     "text": [
      "(1460, 81)\n"
     ]
    },
    {
     "data": {
      "text/html": [
       "<div>\n",
       "<style scoped>\n",
       "    .dataframe tbody tr th:only-of-type {\n",
       "        vertical-align: middle;\n",
       "    }\n",
       "\n",
       "    .dataframe tbody tr th {\n",
       "        vertical-align: top;\n",
       "    }\n",
       "\n",
       "    .dataframe thead th {\n",
       "        text-align: right;\n",
       "    }\n",
       "</style>\n",
       "<table border=\"1\" class=\"dataframe\">\n",
       "  <thead>\n",
       "    <tr style=\"text-align: right;\">\n",
       "      <th></th>\n",
       "      <th>Id</th>\n",
       "      <th>MSSubClass</th>\n",
       "      <th>MSZoning</th>\n",
       "      <th>LotFrontage</th>\n",
       "      <th>LotArea</th>\n",
       "      <th>Street</th>\n",
       "      <th>Alley</th>\n",
       "      <th>LotShape</th>\n",
       "      <th>LandContour</th>\n",
       "      <th>Utilities</th>\n",
       "      <th>...</th>\n",
       "      <th>PoolArea</th>\n",
       "      <th>PoolQC</th>\n",
       "      <th>Fence</th>\n",
       "      <th>MiscFeature</th>\n",
       "      <th>MiscVal</th>\n",
       "      <th>MoSold</th>\n",
       "      <th>YrSold</th>\n",
       "      <th>SaleType</th>\n",
       "      <th>SaleCondition</th>\n",
       "      <th>SalePrice</th>\n",
       "    </tr>\n",
       "  </thead>\n",
       "  <tbody>\n",
       "    <tr>\n",
       "      <th>0</th>\n",
       "      <td>1</td>\n",
       "      <td>60</td>\n",
       "      <td>RL</td>\n",
       "      <td>65.0</td>\n",
       "      <td>8450</td>\n",
       "      <td>Pave</td>\n",
       "      <td>NaN</td>\n",
       "      <td>Reg</td>\n",
       "      <td>Lvl</td>\n",
       "      <td>AllPub</td>\n",
       "      <td>...</td>\n",
       "      <td>0</td>\n",
       "      <td>NaN</td>\n",
       "      <td>NaN</td>\n",
       "      <td>NaN</td>\n",
       "      <td>0</td>\n",
       "      <td>2</td>\n",
       "      <td>2008</td>\n",
       "      <td>WD</td>\n",
       "      <td>Normal</td>\n",
       "      <td>208500</td>\n",
       "    </tr>\n",
       "    <tr>\n",
       "      <th>1</th>\n",
       "      <td>2</td>\n",
       "      <td>20</td>\n",
       "      <td>RL</td>\n",
       "      <td>80.0</td>\n",
       "      <td>9600</td>\n",
       "      <td>Pave</td>\n",
       "      <td>NaN</td>\n",
       "      <td>Reg</td>\n",
       "      <td>Lvl</td>\n",
       "      <td>AllPub</td>\n",
       "      <td>...</td>\n",
       "      <td>0</td>\n",
       "      <td>NaN</td>\n",
       "      <td>NaN</td>\n",
       "      <td>NaN</td>\n",
       "      <td>0</td>\n",
       "      <td>5</td>\n",
       "      <td>2007</td>\n",
       "      <td>WD</td>\n",
       "      <td>Normal</td>\n",
       "      <td>181500</td>\n",
       "    </tr>\n",
       "    <tr>\n",
       "      <th>2</th>\n",
       "      <td>3</td>\n",
       "      <td>60</td>\n",
       "      <td>RL</td>\n",
       "      <td>68.0</td>\n",
       "      <td>11250</td>\n",
       "      <td>Pave</td>\n",
       "      <td>NaN</td>\n",
       "      <td>IR1</td>\n",
       "      <td>Lvl</td>\n",
       "      <td>AllPub</td>\n",
       "      <td>...</td>\n",
       "      <td>0</td>\n",
       "      <td>NaN</td>\n",
       "      <td>NaN</td>\n",
       "      <td>NaN</td>\n",
       "      <td>0</td>\n",
       "      <td>9</td>\n",
       "      <td>2008</td>\n",
       "      <td>WD</td>\n",
       "      <td>Normal</td>\n",
       "      <td>223500</td>\n",
       "    </tr>\n",
       "    <tr>\n",
       "      <th>3</th>\n",
       "      <td>4</td>\n",
       "      <td>70</td>\n",
       "      <td>RL</td>\n",
       "      <td>60.0</td>\n",
       "      <td>9550</td>\n",
       "      <td>Pave</td>\n",
       "      <td>NaN</td>\n",
       "      <td>IR1</td>\n",
       "      <td>Lvl</td>\n",
       "      <td>AllPub</td>\n",
       "      <td>...</td>\n",
       "      <td>0</td>\n",
       "      <td>NaN</td>\n",
       "      <td>NaN</td>\n",
       "      <td>NaN</td>\n",
       "      <td>0</td>\n",
       "      <td>2</td>\n",
       "      <td>2006</td>\n",
       "      <td>WD</td>\n",
       "      <td>Abnorml</td>\n",
       "      <td>140000</td>\n",
       "    </tr>\n",
       "    <tr>\n",
       "      <th>4</th>\n",
       "      <td>5</td>\n",
       "      <td>60</td>\n",
       "      <td>RL</td>\n",
       "      <td>84.0</td>\n",
       "      <td>14260</td>\n",
       "      <td>Pave</td>\n",
       "      <td>NaN</td>\n",
       "      <td>IR1</td>\n",
       "      <td>Lvl</td>\n",
       "      <td>AllPub</td>\n",
       "      <td>...</td>\n",
       "      <td>0</td>\n",
       "      <td>NaN</td>\n",
       "      <td>NaN</td>\n",
       "      <td>NaN</td>\n",
       "      <td>0</td>\n",
       "      <td>12</td>\n",
       "      <td>2008</td>\n",
       "      <td>WD</td>\n",
       "      <td>Normal</td>\n",
       "      <td>250000</td>\n",
       "    </tr>\n",
       "  </tbody>\n",
       "</table>\n",
       "<p>5 rows × 81 columns</p>\n",
       "</div>"
      ],
      "text/plain": [
       "   Id  MSSubClass MSZoning  LotFrontage  LotArea Street Alley LotShape  \\\n",
       "0   1          60       RL         65.0     8450   Pave   NaN      Reg   \n",
       "1   2          20       RL         80.0     9600   Pave   NaN      Reg   \n",
       "2   3          60       RL         68.0    11250   Pave   NaN      IR1   \n",
       "3   4          70       RL         60.0     9550   Pave   NaN      IR1   \n",
       "4   5          60       RL         84.0    14260   Pave   NaN      IR1   \n",
       "\n",
       "  LandContour Utilities  ... PoolArea PoolQC Fence MiscFeature MiscVal MoSold  \\\n",
       "0         Lvl    AllPub  ...        0    NaN   NaN         NaN       0      2   \n",
       "1         Lvl    AllPub  ...        0    NaN   NaN         NaN       0      5   \n",
       "2         Lvl    AllPub  ...        0    NaN   NaN         NaN       0      9   \n",
       "3         Lvl    AllPub  ...        0    NaN   NaN         NaN       0      2   \n",
       "4         Lvl    AllPub  ...        0    NaN   NaN         NaN       0     12   \n",
       "\n",
       "  YrSold  SaleType  SaleCondition  SalePrice  \n",
       "0   2008        WD         Normal     208500  \n",
       "1   2007        WD         Normal     181500  \n",
       "2   2008        WD         Normal     223500  \n",
       "3   2006        WD        Abnorml     140000  \n",
       "4   2008        WD         Normal     250000  \n",
       "\n",
       "[5 rows x 81 columns]"
      ]
     },
     "execution_count": 2,
     "metadata": {},
     "output_type": "execute_result"
    }
   ],
   "source": [
    "housingDF = pd.read_csv(\"train.csv\")\n",
    "\n",
    "print(housingDF.shape)\n",
    "housingDF.head()\n"
   ]
  },
  {
   "cell_type": "code",
   "execution_count": 3,
   "metadata": {},
   "outputs": [
    {
     "name": "stdout",
     "output_type": "stream",
     "text": [
      "<class 'pandas.core.frame.DataFrame'>\n",
      "RangeIndex: 1460 entries, 0 to 1459\n",
      "Data columns (total 81 columns):\n",
      " #   Column         Non-Null Count  Dtype  \n",
      "---  ------         --------------  -----  \n",
      " 0   Id             1460 non-null   int64  \n",
      " 1   MSSubClass     1460 non-null   int64  \n",
      " 2   MSZoning       1460 non-null   object \n",
      " 3   LotFrontage    1201 non-null   float64\n",
      " 4   LotArea        1460 non-null   int64  \n",
      " 5   Street         1460 non-null   object \n",
      " 6   Alley          91 non-null     object \n",
      " 7   LotShape       1460 non-null   object \n",
      " 8   LandContour    1460 non-null   object \n",
      " 9   Utilities      1460 non-null   object \n",
      " 10  LotConfig      1460 non-null   object \n",
      " 11  LandSlope      1460 non-null   object \n",
      " 12  Neighborhood   1460 non-null   object \n",
      " 13  Condition1     1460 non-null   object \n",
      " 14  Condition2     1460 non-null   object \n",
      " 15  BldgType       1460 non-null   object \n",
      " 16  HouseStyle     1460 non-null   object \n",
      " 17  OverallQual    1460 non-null   int64  \n",
      " 18  OverallCond    1460 non-null   int64  \n",
      " 19  YearBuilt      1460 non-null   int64  \n",
      " 20  YearRemodAdd   1460 non-null   int64  \n",
      " 21  RoofStyle      1460 non-null   object \n",
      " 22  RoofMatl       1460 non-null   object \n",
      " 23  Exterior1st    1460 non-null   object \n",
      " 24  Exterior2nd    1460 non-null   object \n",
      " 25  MasVnrType     1452 non-null   object \n",
      " 26  MasVnrArea     1452 non-null   float64\n",
      " 27  ExterQual      1460 non-null   object \n",
      " 28  ExterCond      1460 non-null   object \n",
      " 29  Foundation     1460 non-null   object \n",
      " 30  BsmtQual       1423 non-null   object \n",
      " 31  BsmtCond       1423 non-null   object \n",
      " 32  BsmtExposure   1422 non-null   object \n",
      " 33  BsmtFinType1   1423 non-null   object \n",
      " 34  BsmtFinSF1     1460 non-null   int64  \n",
      " 35  BsmtFinType2   1422 non-null   object \n",
      " 36  BsmtFinSF2     1460 non-null   int64  \n",
      " 37  BsmtUnfSF      1460 non-null   int64  \n",
      " 38  TotalBsmtSF    1460 non-null   int64  \n",
      " 39  Heating        1460 non-null   object \n",
      " 40  HeatingQC      1460 non-null   object \n",
      " 41  CentralAir     1460 non-null   object \n",
      " 42  Electrical     1459 non-null   object \n",
      " 43  1stFlrSF       1460 non-null   int64  \n",
      " 44  2ndFlrSF       1460 non-null   int64  \n",
      " 45  LowQualFinSF   1460 non-null   int64  \n",
      " 46  GrLivArea      1460 non-null   int64  \n",
      " 47  BsmtFullBath   1460 non-null   int64  \n",
      " 48  BsmtHalfBath   1460 non-null   int64  \n",
      " 49  FullBath       1460 non-null   int64  \n",
      " 50  HalfBath       1460 non-null   int64  \n",
      " 51  BedroomAbvGr   1460 non-null   int64  \n",
      " 52  KitchenAbvGr   1460 non-null   int64  \n",
      " 53  KitchenQual    1460 non-null   object \n",
      " 54  TotRmsAbvGrd   1460 non-null   int64  \n",
      " 55  Functional     1460 non-null   object \n",
      " 56  Fireplaces     1460 non-null   int64  \n",
      " 57  FireplaceQu    770 non-null    object \n",
      " 58  GarageType     1379 non-null   object \n",
      " 59  GarageYrBlt    1379 non-null   float64\n",
      " 60  GarageFinish   1379 non-null   object \n",
      " 61  GarageCars     1460 non-null   int64  \n",
      " 62  GarageArea     1460 non-null   int64  \n",
      " 63  GarageQual     1379 non-null   object \n",
      " 64  GarageCond     1379 non-null   object \n",
      " 65  PavedDrive     1460 non-null   object \n",
      " 66  WoodDeckSF     1460 non-null   int64  \n",
      " 67  OpenPorchSF    1460 non-null   int64  \n",
      " 68  EnclosedPorch  1460 non-null   int64  \n",
      " 69  3SsnPorch      1460 non-null   int64  \n",
      " 70  ScreenPorch    1460 non-null   int64  \n",
      " 71  PoolArea       1460 non-null   int64  \n",
      " 72  PoolQC         7 non-null      object \n",
      " 73  Fence          281 non-null    object \n",
      " 74  MiscFeature    54 non-null     object \n",
      " 75  MiscVal        1460 non-null   int64  \n",
      " 76  MoSold         1460 non-null   int64  \n",
      " 77  YrSold         1460 non-null   int64  \n",
      " 78  SaleType       1460 non-null   object \n",
      " 79  SaleCondition  1460 non-null   object \n",
      " 80  SalePrice      1460 non-null   int64  \n",
      "dtypes: float64(3), int64(35), object(43)\n",
      "memory usage: 924.0+ KB\n"
     ]
    }
   ],
   "source": [
    "housingDF.info()"
   ]
  },
  {
   "cell_type": "markdown",
   "metadata": {},
   "source": [
    "##### MAKE ALL CAT VALUES lower case, Years many not be categorical, they are ordinal\n"
   ]
  },
  {
   "cell_type": "code",
   "execution_count": 4,
   "metadata": {},
   "outputs": [],
   "source": [
    "housingDF.drop(['Id'], inplace=True, axis=1)"
   ]
  },
  {
   "cell_type": "code",
   "execution_count": 5,
   "metadata": {},
   "outputs": [],
   "source": [
    "#Lowercase the category column values\n",
    "def lowerCaseCategoryColumns(df):\n",
    "    cols = df.select_dtypes(include=['object']).columns\n",
    "    for col in cols:\n",
    "        df[col] = df[col].str.lower()    \n",
    "    return\n",
    "\n",
    "#Check the nulls in categorical columns\n",
    "def printCategoryColumnsPercentNNull(df):\n",
    "    cols = df.select_dtypes(include=['object']).columns\n",
    "    print(\"Category columns \", cols)\n",
    "    print(\"Column count \", len(cols))\n",
    "\n",
    "    colWithNull = 0\n",
    "    for col in cols:\n",
    "        total = df[col].size\n",
    "        notNull = df[col].count()\n",
    "        if  notNull != total:\n",
    "            colWithNull += 1\n",
    "            print('**********************')\n",
    "            print('Column name ', col , '*** Percentage not null ', 100*notNull/total )\n",
    "            print(' ')\n",
    "            \n",
    "    if colWithNull == 0:\n",
    "        print(\"No columns have null values\")\n",
    "\n",
    "    return \n",
    "\n",
    "#Impute rest of the columns with 'None' for Nulls\n",
    "def imputeCategoryColumnNullsWithNone(df):\n",
    "    cols = df.select_dtypes(include=['object']).columns\n",
    "    print(\"Category columns \", cols)\n",
    "    print(\"Column count \", len(cols))\n",
    "    \n",
    "    for col in cols:\n",
    "        total = df[col].size\n",
    "        notNull = df[col].count()\n",
    "        if  notNull != total:\n",
    "            df[col] = df[col].fillna(\"none\")\n",
    "    return\n",
    "\n",
    "def printNumericColsPercentNotNull(df):\n",
    "    cols = df.select_dtypes(include=['int64', 'int32', 'float64']).columns\n",
    "    print(\"Numerical columns \", cols)\n",
    "    print(\"Column count \", len(cols))\n",
    "\n",
    "    colWithNull = 0\n",
    "    for col in cols:\n",
    "        total = df[col].size\n",
    "        notNull = df[col].count()\n",
    "        if  notNull != total:\n",
    "            colWithNull += 1\n",
    "            print('**********************')\n",
    "            print('Column name ', col , '*** Percentage not null ', 100*notNull/total )\n",
    "            print(' ')\n",
    "    \n",
    "    if colWithNull == 0:\n",
    "        print(\"No columns have null values\")\n",
    "\n",
    "    return \n",
    "\n",
    "\n",
    "#Impute numeric columns with 'Median' for Nulls\n",
    "def imputeNumericColumnNullsWithMedian(df):\n",
    "    cols = df.select_dtypes(include=['int64', 'int32', 'float64']).columns\n",
    "    print(\"Numerical columns \", cols)\n",
    "    print(\"Column count \", len(cols))\n",
    "    \n",
    "    for col in cols:\n",
    "        total = df[col].size\n",
    "        notNull = df[col].count()\n",
    "        if  notNull != total:\n",
    "            df[col] = df[col].fillna(df[col].median())\n",
    "    return\n",
    "\n",
    "def getLowerAndUpperFence(df, col):\n",
    "    q1 = np.quantile(df[col], .25)\n",
    "    q3 = np.quantile(df[col], .75)\n",
    "    base = (q3 - q1) * 1.5\n",
    "    lFen  = q1 - base\n",
    "    uFen = q3 + base\n",
    "    return (lFen, uFen)\n",
    "\n",
    "def getPercentOfOutliers(df, col, l, u):\n",
    "    lFilter = df[col] < l\n",
    "    uFilter = df[col] > u\n",
    "    \n",
    "    low = df[lFilter] \n",
    "    high = df[uFilter]\n",
    "    \n",
    "    lPer = 100*len(low) / len(df)\n",
    "    hPer = 100*len(high) / len(df)\n",
    "    \n",
    "    return (lPer, hPer)\n",
    "\n",
    "#Util function to cap by k%\n",
    "def capper(x, l, u):\n",
    "    k = 5\n",
    "    kpercent = (k / 100)\n",
    "    if x < l:\n",
    "        return (l - kpercent * (u - l))\n",
    "    elif u < x:\n",
    "        return (u + kpercent * (u - l))        \n",
    "    return x\n",
    "\n",
    "#Cap lower and upper limit\n",
    "def capLowerAndUpperLimit(df, col, l, u):\n",
    "    df[col] = df[col].apply(capper, args=(l, u))\n",
    "    return\n",
    "\n",
    "#Check outliers in numberic columns - print percent of \n",
    "#low and high outliers for each column\n",
    "def checkOutliersInNumericColumns(df, cols):\n",
    "    if len(cols) == 0:\n",
    "        cols = df.select_dtypes(include=['int64', 'int32', 'float64']).columns\n",
    "    \n",
    "    print(\"Numerical columns \", cols)\n",
    "    print(\"Column count \", len(cols))\n",
    "    \n",
    "    for col in cols:        \n",
    "        plt.figure(figsize=(14, 5))\n",
    "\n",
    "        plt.subplot(1,2,1)\n",
    "        sns.boxplot(df[col])\n",
    "        plt.title(col, fontsize=14)\n",
    "        \n",
    "        plt.subplot(1,2,2)\n",
    "        plt.hist(df[col])\n",
    "        plt.title(col, fontsize=14)\n",
    "        \n",
    "        plt.show()\n",
    "        \n",
    "        l, u = getLowerAndUpperFence(housingDF, col)\n",
    "        lp, hp = getPercentOfOutliers(housingDF, col, l, u)\n",
    "        \n",
    "        print(col, \" - Percent of outliers below lower fence \", lp, \" and above upper fence \", hp)        \n",
    "    return\n",
    "\n",
    "#Pass a list of numeric column names that you want to cap up to k% of IQR\n",
    "def capNumericColumnOutliers(df, cols):\n",
    "    for col in cols:\n",
    "        l, u = getLowerAndUpperFence(df, col)\n",
    "        capLowerAndUpperLimit(df, col, l, u)\n",
    "    return\n",
    "\n",
    "# Importing the required libraries for plots.\n",
    "import matplotlib.pyplot as plt\n",
    "import seaborn as sns\n",
    "%matplotlib inline\n",
    "\n",
    "def residualAnalysis(yTrain, yTrainPred, logTxt):\n",
    "    print(logTxt)\n",
    "    # Plot the histogram of the error terms\n",
    "    fig = plt.figure()\n",
    "    fig.suptitle('Distribution of errors', fontsize = 12)\n",
    "    res = (yTrain - yTrainPred)\n",
    "    sns.distplot(res, bins = 20)\n",
    "    plt.show()\n",
    "    \n",
    "    # Variance of error terms\n",
    "    c = [i for i in range(1, len(res) + 1, 1)]\n",
    "    plt.scatter(c, res)\n",
    "    plt.title(\"Homoscedastic variance?\", fontsize = 12)\n",
    "    sns.regplot(x=c, y=res, line_kws={'color': 'yellow'})\n",
    "    plt.show()\n",
    "    \n",
    "    plt.scatter(yTrainPred , res)\n",
    "    plt.axhline(y=0, color='r', linestyle=':')\n",
    "    plt.title(\"Pattern in residues?\", fontsize = 12)\n",
    "    plt.xlabel(\"Sales Price Predictions\")\n",
    "    plt.ylabel(\"Residual\")\n",
    "    plt.show()\n",
    "    \n",
    "    return\n",
    "\n",
    "def predictAndDisplayScores(algorithm, XTrain, yTrain, XTest, yTest, logTxt):\n",
    "    print(logTxt)\n",
    "\n",
    "    print('**********XTrain columns ', len(XTrain.columns))\n",
    "    print('**********XTest columns ', len(XTest.columns))\n",
    "    \n",
    "    results = {}\n",
    "    yPredTrain = algorithm.predict(XTrain)\n",
    "    yPredTest = algorithm.predict(XTest)\n",
    "\n",
    "    results['YPredTrain'] = yPredTrain\n",
    "    results['YPredTest'] = yPredTest\n",
    "    \n",
    "    metric = {}\n",
    "    \n",
    "    r2_train_lr = r2_score(yTrain, yPredTrain)\n",
    "    metric['R2Train'] = r2_train_lr\n",
    "\n",
    "    r2_test_lr = r2_score(yTest, yPredTest)\n",
    "    metric['R2Test'] = r2_test_lr\n",
    "\n",
    "    rss1_lr = np.sum(np.square(yTrain - yPredTrain))\n",
    "    metric['RSSTrain'] = rss1_lr\n",
    "\n",
    "    rss2_lr = np.sum(np.square(yTest - yPredTest))\n",
    "    metric['RSSTest'] = rss2_lr\n",
    "\n",
    "    mse_train_lr = mean_squared_error(yTrain, yPredTrain)\n",
    "    RMSE_tr = mse_train_lr**0.5\n",
    "    metric['MSETrain'] = mse_train_lr\n",
    "    metric['RMSETrain'] = RMSE_tr\n",
    "\n",
    "    mse_test_lr = mean_squared_error(yTest, yPredTest)\n",
    "    RMSE_te = mse_test_lr**0.5\n",
    "    metric['MSETest'] = mse_test_lr\n",
    "    metric['RMSETest'] = RMSE_te\n",
    "    \n",
    "    results['metric'] = metric\n",
    "\n",
    "    return results\n",
    "\n",
    "def primitiveLRFitAndAnalyze(XTrain, yTrain, XTest, yTest):\n",
    "    linearModel = LinearRegression()\n",
    "    linearModel.fit(X_train, y_train)\n",
    "    \n",
    "    # TRAIN DATA PREDICTIONS\n",
    "    # Making predictions\n",
    "    yTrainPred = linearModel.predict(XTrain)\n",
    "    \n",
    "    # TRAIN DATA RESIDUAL ANALYSIS\n",
    "    residualAnalysis(yTrain, yTrainPred, '***Linear regression training data residual analysis***')\n",
    "    ##########################################\n",
    "    \n",
    "    # TEST DATA PREDICTIONS\n",
    "    # Making predictions\n",
    "    yTestPred = linearModel.predict(XTest)\n",
    "    \n",
    "    # Publish scores. Looks very good, but the difference in R2 between train and test is large\n",
    "    results = predictAndDisplayScores(linearModel, XTrain, yTrain, XTest, yTest, \\\n",
    "                                      \"****Scores of primitive Linear regression****\")\n",
    "\n",
    "    YPredTrain = results.get('YPredTrain') \n",
    "    YPredTest = results.get('YPredTest')\n",
    "    metrics = results.get('metric')\n",
    "\n",
    "    #print(\"Y Predicted train\\n\", YPredTrain)\n",
    "    #print(\"Y Predicted test\\n\", YPredTest)\n",
    "    print(\"Metrics\\n\", metrics)\n",
    "    return linearModel\n",
    "\n",
    "# Adding a constant variable \n",
    "import statsmodels.api as sm\n",
    "from statsmodels.stats.outliers_influence import variance_inflation_factor\n",
    "def doRFEAndReturnTopVIFColumn(y_train, X_train_rfe):\n",
    "    X_train_rfe = sm.add_constant(X_train_rfe)\n",
    "    # Running the linear model\n",
    "    lm = sm.OLS(y_train, X_train_rfe).fit()\n",
    "    #Let's see the summary of our linear model\n",
    "    print(lm.summary())\n",
    "    \n",
    "    # Calculate the VIFs for the new model\n",
    "    vif = pd.DataFrame()\n",
    "    X = X_train_rfe\n",
    "    vif['Features'] = X.columns\n",
    "    vif['VIF'] = [variance_inflation_factor(X.values, i) for i in range(X.shape[1])]\n",
    "    vif['VIF'] = round(vif['VIF'], 2)\n",
    "    vif = vif.sort_values(by = \"VIF\", ascending = False)\n",
    "    \n",
    "    pd.set_option('display.max_rows', None)\n",
    "    print(vif)\n",
    "    #If 'const' is top on list get next one\n",
    "    colName = vif.iloc[0]['Features']\n",
    "    if colName == 'const':\n",
    "        colName = vif.iloc[1]['Features']\n",
    "    return (colName, lm)\n",
    "\n",
    "import statsmodels.api as statsModAPI\n",
    "def LRFitAndAnalyze(XTrain, yTrain, XTest, yTest):    \n",
    "    linearModel = LinearRegression()\n",
    "    \n",
    "    # Adding a constant variable \n",
    "    #XTrain = statsModAPI.add_constant(XTrain)\n",
    "    linearModel.fit(XTrain, yTrain)\n",
    "    \n",
    "    # TRAIN DATA PREDICTIONS\n",
    "    #X_train_no_const = X_train_rfe.drop(['const'], axis=1)\n",
    "    # Making predictions\n",
    "    yTrainPred = linearModel.predict(XTrain)\n",
    "    \n",
    "    # TRAIN DATA RESIDUAL ANALYSIS\n",
    "    residualAnalysis(yTrain, yTrainPred, '***Linear regression training data residual analysis***')\n",
    "    \n",
    "    ##########################################\n",
    "    \n",
    "    # TEST DATA PREDICTIONS\n",
    "    #X_train_no_const = X_train_rfe.drop(['const'], axis=1)\n",
    "\n",
    "    # Adding a constant variable \n",
    "    #XTest = statsModAPI.add_constant(XTest)\n",
    "    # Making predictions\n",
    "    yTestPred = linearModel.predict(XTest)\n",
    "    \n",
    "    # TEST DATA RESIDUAL ANALYSIS\n",
    "    residualAnalysis(yTest, yTestPred, '***Linear regression test data residual analysis***')\n",
    "    \n",
    "    # Publish scores. Looks very good, but the difference in R2 between train and test is large\n",
    "    results = predictAndDisplayScores(linearModel, XTrain, yTrain, XTest, yTest, \\\n",
    "                                      \"****Scores of Linear regression after RFE****\")\n",
    "    \n",
    "    YPredTrain = results.get('YPredTrain') \n",
    "    YPredTest = results.get('YPredTest')\n",
    "    metrics = results.get('metric')\n",
    "\n",
    "    #print(\"Y Predicted train\\n\", YPredTrain)\n",
    "    #print(\"Y Predicted test\\n\", YPredTest)\n",
    "    print(\"Metrics\\n\", metrics)\n",
    "    return linearModel"
   ]
  },
  {
   "cell_type": "code",
   "execution_count": 6,
   "metadata": {},
   "outputs": [
    {
     "name": "stdout",
     "output_type": "stream",
     "text": [
      "Category columns  Index(['MSZoning', 'Street', 'Alley', 'LotShape', 'LandContour', 'Utilities',\n",
      "       'LotConfig', 'LandSlope', 'Neighborhood', 'Condition1', 'Condition2',\n",
      "       'BldgType', 'HouseStyle', 'RoofStyle', 'RoofMatl', 'Exterior1st',\n",
      "       'Exterior2nd', 'MasVnrType', 'ExterQual', 'ExterCond', 'Foundation',\n",
      "       'BsmtQual', 'BsmtCond', 'BsmtExposure', 'BsmtFinType1', 'BsmtFinType2',\n",
      "       'Heating', 'HeatingQC', 'CentralAir', 'Electrical', 'KitchenQual',\n",
      "       'Functional', 'FireplaceQu', 'GarageType', 'GarageFinish', 'GarageQual',\n",
      "       'GarageCond', 'PavedDrive', 'PoolQC', 'Fence', 'MiscFeature',\n",
      "       'SaleType', 'SaleCondition'],\n",
      "      dtype='object')\n",
      "Column count  43\n",
      "**********************\n",
      "Column name  Alley *** Percentage not null  6.232876712328767\n",
      " \n",
      "**********************\n",
      "Column name  MasVnrType *** Percentage not null  99.45205479452055\n",
      " \n",
      "**********************\n",
      "Column name  BsmtQual *** Percentage not null  97.46575342465754\n",
      " \n",
      "**********************\n",
      "Column name  BsmtCond *** Percentage not null  97.46575342465754\n",
      " \n",
      "**********************\n",
      "Column name  BsmtExposure *** Percentage not null  97.3972602739726\n",
      " \n",
      "**********************\n",
      "Column name  BsmtFinType1 *** Percentage not null  97.46575342465754\n",
      " \n",
      "**********************\n",
      "Column name  BsmtFinType2 *** Percentage not null  97.3972602739726\n",
      " \n",
      "**********************\n",
      "Column name  Electrical *** Percentage not null  99.93150684931507\n",
      " \n",
      "**********************\n",
      "Column name  FireplaceQu *** Percentage not null  52.73972602739726\n",
      " \n",
      "**********************\n",
      "Column name  GarageType *** Percentage not null  94.45205479452055\n",
      " \n",
      "**********************\n",
      "Column name  GarageFinish *** Percentage not null  94.45205479452055\n",
      " \n",
      "**********************\n",
      "Column name  GarageQual *** Percentage not null  94.45205479452055\n",
      " \n",
      "**********************\n",
      "Column name  GarageCond *** Percentage not null  94.45205479452055\n",
      " \n",
      "**********************\n",
      "Column name  PoolQC *** Percentage not null  0.4794520547945205\n",
      " \n",
      "**********************\n",
      "Column name  Fence *** Percentage not null  19.246575342465754\n",
      " \n",
      "**********************\n",
      "Column name  MiscFeature *** Percentage not null  3.6986301369863015\n",
      " \n"
     ]
    }
   ],
   "source": [
    "lowerCaseCategoryColumns(housingDF)\n",
    "printCategoryColumnsPercentNNull(housingDF)"
   ]
  },
  {
   "cell_type": "code",
   "execution_count": 7,
   "metadata": {},
   "outputs": [
    {
     "data": {
      "text/html": [
       "<div>\n",
       "<style scoped>\n",
       "    .dataframe tbody tr th:only-of-type {\n",
       "        vertical-align: middle;\n",
       "    }\n",
       "\n",
       "    .dataframe tbody tr th {\n",
       "        vertical-align: top;\n",
       "    }\n",
       "\n",
       "    .dataframe thead th {\n",
       "        text-align: right;\n",
       "    }\n",
       "</style>\n",
       "<table border=\"1\" class=\"dataframe\">\n",
       "  <thead>\n",
       "    <tr style=\"text-align: right;\">\n",
       "      <th></th>\n",
       "      <th>MSZoning</th>\n",
       "      <th>Street</th>\n",
       "      <th>Alley</th>\n",
       "      <th>LotShape</th>\n",
       "      <th>LandContour</th>\n",
       "      <th>Utilities</th>\n",
       "      <th>LotConfig</th>\n",
       "      <th>LandSlope</th>\n",
       "      <th>Neighborhood</th>\n",
       "      <th>Condition1</th>\n",
       "      <th>...</th>\n",
       "      <th>GarageType</th>\n",
       "      <th>GarageFinish</th>\n",
       "      <th>GarageQual</th>\n",
       "      <th>GarageCond</th>\n",
       "      <th>PavedDrive</th>\n",
       "      <th>PoolQC</th>\n",
       "      <th>Fence</th>\n",
       "      <th>MiscFeature</th>\n",
       "      <th>SaleType</th>\n",
       "      <th>SaleCondition</th>\n",
       "    </tr>\n",
       "  </thead>\n",
       "  <tbody>\n",
       "    <tr>\n",
       "      <th>0</th>\n",
       "      <td>rl</td>\n",
       "      <td>pave</td>\n",
       "      <td>NaN</td>\n",
       "      <td>reg</td>\n",
       "      <td>lvl</td>\n",
       "      <td>allpub</td>\n",
       "      <td>inside</td>\n",
       "      <td>gtl</td>\n",
       "      <td>collgcr</td>\n",
       "      <td>norm</td>\n",
       "      <td>...</td>\n",
       "      <td>attchd</td>\n",
       "      <td>rfn</td>\n",
       "      <td>ta</td>\n",
       "      <td>ta</td>\n",
       "      <td>y</td>\n",
       "      <td>NaN</td>\n",
       "      <td>NaN</td>\n",
       "      <td>NaN</td>\n",
       "      <td>wd</td>\n",
       "      <td>normal</td>\n",
       "    </tr>\n",
       "    <tr>\n",
       "      <th>1</th>\n",
       "      <td>rl</td>\n",
       "      <td>pave</td>\n",
       "      <td>NaN</td>\n",
       "      <td>reg</td>\n",
       "      <td>lvl</td>\n",
       "      <td>allpub</td>\n",
       "      <td>fr2</td>\n",
       "      <td>gtl</td>\n",
       "      <td>veenker</td>\n",
       "      <td>feedr</td>\n",
       "      <td>...</td>\n",
       "      <td>attchd</td>\n",
       "      <td>rfn</td>\n",
       "      <td>ta</td>\n",
       "      <td>ta</td>\n",
       "      <td>y</td>\n",
       "      <td>NaN</td>\n",
       "      <td>NaN</td>\n",
       "      <td>NaN</td>\n",
       "      <td>wd</td>\n",
       "      <td>normal</td>\n",
       "    </tr>\n",
       "    <tr>\n",
       "      <th>2</th>\n",
       "      <td>rl</td>\n",
       "      <td>pave</td>\n",
       "      <td>NaN</td>\n",
       "      <td>ir1</td>\n",
       "      <td>lvl</td>\n",
       "      <td>allpub</td>\n",
       "      <td>inside</td>\n",
       "      <td>gtl</td>\n",
       "      <td>collgcr</td>\n",
       "      <td>norm</td>\n",
       "      <td>...</td>\n",
       "      <td>attchd</td>\n",
       "      <td>rfn</td>\n",
       "      <td>ta</td>\n",
       "      <td>ta</td>\n",
       "      <td>y</td>\n",
       "      <td>NaN</td>\n",
       "      <td>NaN</td>\n",
       "      <td>NaN</td>\n",
       "      <td>wd</td>\n",
       "      <td>normal</td>\n",
       "    </tr>\n",
       "    <tr>\n",
       "      <th>3</th>\n",
       "      <td>rl</td>\n",
       "      <td>pave</td>\n",
       "      <td>NaN</td>\n",
       "      <td>ir1</td>\n",
       "      <td>lvl</td>\n",
       "      <td>allpub</td>\n",
       "      <td>corner</td>\n",
       "      <td>gtl</td>\n",
       "      <td>crawfor</td>\n",
       "      <td>norm</td>\n",
       "      <td>...</td>\n",
       "      <td>detchd</td>\n",
       "      <td>unf</td>\n",
       "      <td>ta</td>\n",
       "      <td>ta</td>\n",
       "      <td>y</td>\n",
       "      <td>NaN</td>\n",
       "      <td>NaN</td>\n",
       "      <td>NaN</td>\n",
       "      <td>wd</td>\n",
       "      <td>abnorml</td>\n",
       "    </tr>\n",
       "    <tr>\n",
       "      <th>4</th>\n",
       "      <td>rl</td>\n",
       "      <td>pave</td>\n",
       "      <td>NaN</td>\n",
       "      <td>ir1</td>\n",
       "      <td>lvl</td>\n",
       "      <td>allpub</td>\n",
       "      <td>fr2</td>\n",
       "      <td>gtl</td>\n",
       "      <td>noridge</td>\n",
       "      <td>norm</td>\n",
       "      <td>...</td>\n",
       "      <td>attchd</td>\n",
       "      <td>rfn</td>\n",
       "      <td>ta</td>\n",
       "      <td>ta</td>\n",
       "      <td>y</td>\n",
       "      <td>NaN</td>\n",
       "      <td>NaN</td>\n",
       "      <td>NaN</td>\n",
       "      <td>wd</td>\n",
       "      <td>normal</td>\n",
       "    </tr>\n",
       "  </tbody>\n",
       "</table>\n",
       "<p>5 rows × 43 columns</p>\n",
       "</div>"
      ],
      "text/plain": [
       "  MSZoning Street Alley LotShape LandContour Utilities LotConfig LandSlope  \\\n",
       "0       rl   pave   NaN      reg         lvl    allpub    inside       gtl   \n",
       "1       rl   pave   NaN      reg         lvl    allpub       fr2       gtl   \n",
       "2       rl   pave   NaN      ir1         lvl    allpub    inside       gtl   \n",
       "3       rl   pave   NaN      ir1         lvl    allpub    corner       gtl   \n",
       "4       rl   pave   NaN      ir1         lvl    allpub       fr2       gtl   \n",
       "\n",
       "  Neighborhood Condition1  ... GarageType GarageFinish GarageQual GarageCond  \\\n",
       "0      collgcr       norm  ...     attchd          rfn         ta         ta   \n",
       "1      veenker      feedr  ...     attchd          rfn         ta         ta   \n",
       "2      collgcr       norm  ...     attchd          rfn         ta         ta   \n",
       "3      crawfor       norm  ...     detchd          unf         ta         ta   \n",
       "4      noridge       norm  ...     attchd          rfn         ta         ta   \n",
       "\n",
       "  PavedDrive PoolQC Fence MiscFeature SaleType SaleCondition  \n",
       "0          y    NaN   NaN         NaN       wd        normal  \n",
       "1          y    NaN   NaN         NaN       wd        normal  \n",
       "2          y    NaN   NaN         NaN       wd        normal  \n",
       "3          y    NaN   NaN         NaN       wd       abnorml  \n",
       "4          y    NaN   NaN         NaN       wd        normal  \n",
       "\n",
       "[5 rows x 43 columns]"
      ]
     },
     "execution_count": 7,
     "metadata": {},
     "output_type": "execute_result"
    }
   ],
   "source": [
    "housingDF[housingDF.select_dtypes(include=['object']).columns].head()"
   ]
  },
  {
   "cell_type": "code",
   "execution_count": 8,
   "metadata": {},
   "outputs": [
    {
     "name": "stdout",
     "output_type": "stream",
     "text": [
      "Category columns  Index(['MSZoning', 'Street', 'LotShape', 'LandContour', 'Utilities',\n",
      "       'LotConfig', 'LandSlope', 'Neighborhood', 'Condition1', 'Condition2',\n",
      "       'BldgType', 'HouseStyle', 'RoofStyle', 'RoofMatl', 'Exterior1st',\n",
      "       'Exterior2nd', 'MasVnrType', 'ExterQual', 'ExterCond', 'Foundation',\n",
      "       'BsmtQual', 'BsmtCond', 'BsmtExposure', 'BsmtFinType1', 'BsmtFinType2',\n",
      "       'Heating', 'HeatingQC', 'CentralAir', 'Electrical', 'KitchenQual',\n",
      "       'Functional', 'FireplaceQu', 'GarageType', 'GarageFinish', 'GarageQual',\n",
      "       'GarageCond', 'PavedDrive', 'Fence', 'SaleType', 'SaleCondition'],\n",
      "      dtype='object')\n",
      "Column count  40\n",
      "Category columns  Index(['MSZoning', 'Street', 'LotShape', 'LandContour', 'Utilities',\n",
      "       'LotConfig', 'LandSlope', 'Neighborhood', 'Condition1', 'Condition2',\n",
      "       'BldgType', 'HouseStyle', 'RoofStyle', 'RoofMatl', 'Exterior1st',\n",
      "       'Exterior2nd', 'MasVnrType', 'ExterQual', 'ExterCond', 'Foundation',\n",
      "       'BsmtQual', 'BsmtCond', 'BsmtExposure', 'BsmtFinType1', 'BsmtFinType2',\n",
      "       'Heating', 'HeatingQC', 'CentralAir', 'Electrical', 'KitchenQual',\n",
      "       'Functional', 'FireplaceQu', 'GarageType', 'GarageFinish', 'GarageQual',\n",
      "       'GarageCond', 'PavedDrive', 'Fence', 'SaleType', 'SaleCondition'],\n",
      "      dtype='object')\n",
      "Column count  40\n",
      "No columns have null values\n"
     ]
    }
   ],
   "source": [
    "#Drop 'Alley', 'PoolQC' and 'MiscFeature' column because they have very high null values\n",
    "dropNullValCols = ['Alley', 'PoolQC', 'MiscFeature']\n",
    "housingDF.drop(dropNullValCols, inplace=True, axis=1)\n",
    "#Impute nulls and check for nulls\n",
    "imputeCategoryColumnNullsWithNone(housingDF)\n",
    "printCategoryColumnsPercentNNull(housingDF)"
   ]
  },
  {
   "cell_type": "code",
   "execution_count": 9,
   "metadata": {},
   "outputs": [
    {
     "name": "stdout",
     "output_type": "stream",
     "text": [
      "Numerical columns  Index(['MSSubClass', 'LotFrontage', 'LotArea', 'OverallQual', 'OverallCond',\n",
      "       'YearBuilt', 'YearRemodAdd', 'MasVnrArea', 'BsmtFinSF1', 'BsmtFinSF2',\n",
      "       'BsmtUnfSF', 'TotalBsmtSF', '1stFlrSF', '2ndFlrSF', 'LowQualFinSF',\n",
      "       'GrLivArea', 'BsmtFullBath', 'BsmtHalfBath', 'FullBath', 'HalfBath',\n",
      "       'BedroomAbvGr', 'KitchenAbvGr', 'TotRmsAbvGrd', 'Fireplaces',\n",
      "       'GarageYrBlt', 'GarageCars', 'GarageArea', 'WoodDeckSF', 'OpenPorchSF',\n",
      "       'EnclosedPorch', '3SsnPorch', 'ScreenPorch', 'PoolArea', 'MiscVal',\n",
      "       'MoSold', 'YrSold', 'SalePrice'],\n",
      "      dtype='object')\n",
      "Column count  37\n",
      "**********************\n",
      "Column name  LotFrontage *** Percentage not null  82.26027397260275\n",
      " \n",
      "**********************\n",
      "Column name  MasVnrArea *** Percentage not null  99.45205479452055\n",
      " \n",
      "**********************\n",
      "Column name  GarageYrBlt *** Percentage not null  94.45205479452055\n",
      " \n",
      "Numerical columns  Index(['MSSubClass', 'LotFrontage', 'LotArea', 'OverallQual', 'OverallCond',\n",
      "       'YearBuilt', 'YearRemodAdd', 'MasVnrArea', 'BsmtFinSF1', 'BsmtFinSF2',\n",
      "       'BsmtUnfSF', 'TotalBsmtSF', '1stFlrSF', '2ndFlrSF', 'LowQualFinSF',\n",
      "       'GrLivArea', 'BsmtFullBath', 'BsmtHalfBath', 'FullBath', 'HalfBath',\n",
      "       'BedroomAbvGr', 'KitchenAbvGr', 'TotRmsAbvGrd', 'Fireplaces',\n",
      "       'GarageYrBlt', 'GarageCars', 'GarageArea', 'WoodDeckSF', 'OpenPorchSF',\n",
      "       'EnclosedPorch', '3SsnPorch', 'ScreenPorch', 'PoolArea', 'MiscVal',\n",
      "       'MoSold', 'YrSold', 'SalePrice'],\n",
      "      dtype='object')\n",
      "Column count  37\n"
     ]
    }
   ],
   "source": [
    "printNumericColsPercentNotNull(housingDF)\n",
    "imputeNumericColumnNullsWithMedian(housingDF)"
   ]
  },
  {
   "cell_type": "code",
   "execution_count": 10,
   "metadata": {},
   "outputs": [],
   "source": [
    "#Convert year and month fields to int to avoid decimal places\n",
    "housingDF.YearBuilt = housingDF.YearBuilt.astype('int')\n",
    "housingDF.YearRemodAdd = housingDF.YearRemodAdd.astype('int')\n",
    "housingDF.MoSold = housingDF.MoSold.astype('int')\n",
    "housingDF.YrSold = housingDF.YrSold.astype('int')\n",
    "housingDF.GarageYrBlt = housingDF.GarageYrBlt.astype('int')"
   ]
  },
  {
   "cell_type": "code",
   "execution_count": 11,
   "metadata": {},
   "outputs": [
    {
     "name": "stdout",
     "output_type": "stream",
     "text": [
      "Numerical columns  Index(['MSSubClass', 'LotFrontage', 'LotArea', 'OverallQual', 'OverallCond',\n",
      "       'YearBuilt', 'YearRemodAdd', 'MasVnrArea', 'BsmtFinSF1', 'BsmtFinSF2',\n",
      "       'BsmtUnfSF', 'TotalBsmtSF', '1stFlrSF', '2ndFlrSF', 'LowQualFinSF',\n",
      "       'GrLivArea', 'BsmtFullBath', 'BsmtHalfBath', 'FullBath', 'HalfBath',\n",
      "       'BedroomAbvGr', 'KitchenAbvGr', 'TotRmsAbvGrd', 'Fireplaces',\n",
      "       'GarageYrBlt', 'GarageCars', 'GarageArea', 'WoodDeckSF', 'OpenPorchSF',\n",
      "       'EnclosedPorch', '3SsnPorch', 'ScreenPorch', 'PoolArea', 'MiscVal',\n",
      "       'MoSold', 'YrSold', 'SalePrice'],\n",
      "      dtype='object')\n",
      "Column count  37\n",
      "No columns have null values\n"
     ]
    }
   ],
   "source": [
    "printNumericColsPercentNotNull(housingDF)"
   ]
  },
  {
   "cell_type": "code",
   "execution_count": null,
   "metadata": {},
   "outputs": [
    {
     "name": "stdout",
     "output_type": "stream",
     "text": [
      "Numerical columns  Index(['MSSubClass', 'LotFrontage', 'LotArea', 'OverallQual', 'OverallCond',\n",
      "       'YearBuilt', 'YearRemodAdd', 'MasVnrArea', 'BsmtFinSF1', 'BsmtFinSF2',\n",
      "       'BsmtUnfSF', 'TotalBsmtSF', '1stFlrSF', '2ndFlrSF', 'LowQualFinSF',\n",
      "       'GrLivArea', 'BsmtFullBath', 'BsmtHalfBath', 'FullBath', 'HalfBath',\n",
      "       'BedroomAbvGr', 'KitchenAbvGr', 'TotRmsAbvGrd', 'Fireplaces',\n",
      "       'GarageYrBlt', 'GarageCars', 'GarageArea', 'WoodDeckSF', 'OpenPorchSF',\n",
      "       'EnclosedPorch', '3SsnPorch', 'ScreenPorch', 'PoolArea', 'MiscVal',\n",
      "       'MoSold', 'YrSold', 'SalePrice'],\n",
      "      dtype='object')\n",
      "Column count  37\n"
     ]
    },
    {
     "data": {
      "image/png": "[encoded data removed]",
      "text/plain": [
       "<Figure size 1008x360 with 2 Axes>"
      ]
     },
     "metadata": {
      "needs_background": "light"
     },
     "output_type": "display_data"
    },
    {
     "name": "stdout",
     "output_type": "stream",
     "text": [
      "MSSubClass  - Percent of outliers below lower fence  0.0  and above upper fence  7.054794520547945\n"
     ]
    },
    {
     "data": {
      "image/png": "[encoded data removed]",
      "text/plain": [
       "<Figure size 1008x360 with 2 Axes>"
      ]
     },
     "metadata": {
      "needs_background": "light"
     },
     "output_type": "display_data"
    },
    {
     "name": "stdout",
     "output_type": "stream",
     "text": [
      "LotFrontage  - Percent of outliers below lower fence  3.287671232876712  and above upper fence  3.9726027397260273\n"
     ]
    },
    {
     "data": {
      "image/png": "[encoded data removed]",
      "text/plain": [
       "<Figure size 1008x360 with 2 Axes>"
      ]
     },
     "metadata": {
      "needs_background": "light"
     },
     "output_type": "display_data"
    },
    {
     "name": "stdout",
     "output_type": "stream",
     "text": [
      "LotArea  - Percent of outliers below lower fence  0.136986301369863  and above upper fence  4.589041095890411\n"
     ]
    },
    {
     "data": {
      "image/png": "[encoded data removed]",
      "text/plain": [
       "<Figure size 1008x360 with 2 Axes>"
      ]
     },
     "metadata": {
      "needs_background": "light"
     },
     "output_type": "display_data"
    },
    {
     "name": "stdout",
     "output_type": "stream",
     "text": [
      "OverallQual  - Percent of outliers below lower fence  0.136986301369863  and above upper fence  0.0\n"
     ]
    },
    {
     "data": {
      "image/png": "[encoded data removed]",
      "text/plain": [
       "<Figure size 1008x360 with 2 Axes>"
      ]
     },
     "metadata": {
      "needs_background": "light"
     },
     "output_type": "display_data"
    },
    {
     "name": "stdout",
     "output_type": "stream",
     "text": [
      "OverallCond  - Percent of outliers below lower fence  2.1232876712328768  and above upper fence  6.438356164383562\n"
     ]
    },
    {
     "data": {
      "image/png": "[encoded data removed]",
      "text/plain": [
       "<Figure size 1008x360 with 2 Axes>"
      ]
     },
     "metadata": {
      "needs_background": "light"
     },
     "output_type": "display_data"
    },
    {
     "name": "stdout",
     "output_type": "stream",
     "text": [
      "YearBuilt  - Percent of outliers below lower fence  0.4794520547945205  and above upper fence  0.0\n"
     ]
    },
    {
     "data": {
      "image/png": "[encoded data removed]",
      "text/plain": [
       "<Figure size 1008x360 with 2 Axes>"
      ]
     },
     "metadata": {
      "needs_background": "light"
     },
     "output_type": "display_data"
    },
    {
     "name": "stdout",
     "output_type": "stream",
     "text": [
      "YearRemodAdd  - Percent of outliers below lower fence  0.0  and above upper fence  0.0\n"
     ]
    },
    {
     "data": {
      "image/png": "[encoded data removed]",
      "text/plain": [
       "<Figure size 1008x360 with 2 Axes>"
      ]
     },
     "metadata": {
      "needs_background": "light"
     },
     "output_type": "display_data"
    },
    {
     "name": "stdout",
     "output_type": "stream",
     "text": [
      "MasVnrArea  - Percent of outliers below lower fence  0.0  and above upper fence  6.712328767123288\n"
     ]
    },
    {
     "data": {
      "image/png": "[encoded data removed]",
      "text/plain": [
       "<Figure size 1008x360 with 2 Axes>"
      ]
     },
     "metadata": {
      "needs_background": "light"
     },
     "output_type": "display_data"
    },
    {
     "name": "stdout",
     "output_type": "stream",
     "text": [
      "BsmtFinSF1  - Percent of outliers below lower fence  0.0  and above upper fence  0.4794520547945205\n"
     ]
    },
    {
     "data": {
      "image/png": "[encoded data removed]",
      "text/plain": [
       "<Figure size 1008x360 with 2 Axes>"
      ]
     },
     "metadata": {
      "needs_background": "light"
     },
     "output_type": "display_data"
    },
    {
     "name": "stdout",
     "output_type": "stream",
     "text": [
      "BsmtFinSF2  - Percent of outliers below lower fence  0.0  and above upper fence  11.438356164383562\n"
     ]
    },
    {
     "data": {
      "image/png": "[encoded data removed]",
      "text/plain": [
       "<Figure size 1008x360 with 2 Axes>"
      ]
     },
     "metadata": {
      "needs_background": "light"
     },
     "output_type": "display_data"
    },
    {
     "name": "stdout",
     "output_type": "stream",
     "text": [
      "BsmtUnfSF  - Percent of outliers below lower fence  0.0  and above upper fence  1.9863013698630136\n"
     ]
    },
    {
     "data": {
      "image/png": "[encoded data removed]",
      "text/plain": [
       "<Figure size 1008x360 with 2 Axes>"
      ]
     },
     "metadata": {
      "needs_background": "light"
     },
     "output_type": "display_data"
    },
    {
     "name": "stdout",
     "output_type": "stream",
     "text": [
      "TotalBsmtSF  - Percent of outliers below lower fence  2.5342465753424657  and above upper fence  1.643835616438356\n"
     ]
    },
    {
     "data": {
      "image/png": "[encoded data removed]",
      "text/plain": [
       "<Figure size 1008x360 with 2 Axes>"
      ]
     },
     "metadata": {
      "needs_background": "light"
     },
     "output_type": "display_data"
    },
    {
     "name": "stdout",
     "output_type": "stream",
     "text": [
      "1stFlrSF  - Percent of outliers below lower fence  0.0  and above upper fence  1.36986301369863\n"
     ]
    },
    {
     "data": {
      "image/png": "[encoded data removed]",
      "text/plain": [
       "<Figure size 1008x360 with 2 Axes>"
      ]
     },
     "metadata": {
      "needs_background": "light"
     },
     "output_type": "display_data"
    },
    {
     "name": "stdout",
     "output_type": "stream",
     "text": [
      "2ndFlrSF  - Percent of outliers below lower fence  0.0  and above upper fence  0.136986301369863\n"
     ]
    },
    {
     "data": {
      "image/png": "[encoded data removed]",
      "text/plain": [
       "<Figure size 1008x360 with 2 Axes>"
      ]
     },
     "metadata": {
      "needs_background": "light"
     },
     "output_type": "display_data"
    },
    {
     "name": "stdout",
     "output_type": "stream",
     "text": [
      "LowQualFinSF  - Percent of outliers below lower fence  0.0  and above upper fence  1.7808219178082192\n"
     ]
    },
    {
     "data": {
      "image/png": "[encoded data removed]",
      "text/plain": [
       "<Figure size 1008x360 with 2 Axes>"
      ]
     },
     "metadata": {
      "needs_background": "light"
     },
     "output_type": "display_data"
    },
    {
     "name": "stdout",
     "output_type": "stream",
     "text": [
      "GrLivArea  - Percent of outliers below lower fence  0.0  and above upper fence  2.1232876712328768\n"
     ]
    },
    {
     "data": {
      "image/png": "[encoded data removed]",
      "text/plain": [
       "<Figure size 1008x360 with 2 Axes>"
      ]
     },
     "metadata": {
      "needs_background": "light"
     },
     "output_type": "display_data"
    },
    {
     "name": "stdout",
     "output_type": "stream",
     "text": [
      "BsmtFullBath  - Percent of outliers below lower fence  0.0  and above upper fence  0.0684931506849315\n"
     ]
    },
    {
     "data": {
      "image/png": "[encoded data removed]",
      "text/plain": [
       "<Figure size 1008x360 with 2 Axes>"
      ]
     },
     "metadata": {
      "needs_background": "light"
     },
     "output_type": "display_data"
    },
    {
     "name": "stdout",
     "output_type": "stream",
     "text": [
      "BsmtHalfBath  - Percent of outliers below lower fence  0.0  and above upper fence  5.616438356164384\n"
     ]
    },
    {
     "data": {
      "image/png": "[encoded data removed]",
      "text/plain": [
       "<Figure size 1008x360 with 2 Axes>"
      ]
     },
     "metadata": {
      "needs_background": "light"
     },
     "output_type": "display_data"
    },
    {
     "name": "stdout",
     "output_type": "stream",
     "text": [
      "FullBath  - Percent of outliers below lower fence  0.0  and above upper fence  0.0\n"
     ]
    },
    {
     "data": {
      "image/png": "[encoded data removed]",
      "text/plain": [
       "<Figure size 1008x360 with 2 Axes>"
      ]
     },
     "metadata": {
      "needs_background": "light"
     },
     "output_type": "display_data"
    },
    {
     "name": "stdout",
     "output_type": "stream",
     "text": [
      "HalfBath  - Percent of outliers below lower fence  0.0  and above upper fence  0.0\n"
     ]
    },
    {
     "data": {
      "image/png": "[encoded data removed]",
      "text/plain": [
       "<Figure size 1008x360 with 2 Axes>"
      ]
     },
     "metadata": {
      "needs_background": "light"
     },
     "output_type": "display_data"
    },
    {
     "name": "stdout",
     "output_type": "stream",
     "text": [
      "BedroomAbvGr  - Percent of outliers below lower fence  0.410958904109589  and above upper fence  1.9863013698630136\n"
     ]
    },
    {
     "data": {
      "image/png": "[encoded data removed]",
      "text/plain": [
       "<Figure size 1008x360 with 2 Axes>"
      ]
     },
     "metadata": {
      "needs_background": "light"
     },
     "output_type": "display_data"
    },
    {
     "name": "stdout",
     "output_type": "stream",
     "text": [
      "KitchenAbvGr  - Percent of outliers below lower fence  0.0684931506849315  and above upper fence  4.589041095890411\n"
     ]
    },
    {
     "data": {
      "image/png": "[encoded data removed]",
      "text/plain": [
       "<Figure size 1008x360 with 2 Axes>"
      ]
     },
     "metadata": {
      "needs_background": "light"
     },
     "output_type": "display_data"
    },
    {
     "name": "stdout",
     "output_type": "stream",
     "text": [
      "TotRmsAbvGrd  - Percent of outliers below lower fence  0.0  and above upper fence  2.0547945205479454\n"
     ]
    },
    {
     "data": {
      "image/png": "[encoded data removed]",
      "text/plain": [
       "<Figure size 1008x360 with 2 Axes>"
      ]
     },
     "metadata": {
      "needs_background": "light"
     },
     "output_type": "display_data"
    },
    {
     "name": "stdout",
     "output_type": "stream",
     "text": [
      "Fireplaces  - Percent of outliers below lower fence  0.0  and above upper fence  0.3424657534246575\n"
     ]
    },
    {
     "data": {
      "image/png": "[encoded data removed]",
      "text/plain": [
       "<Figure size 1008x360 with 2 Axes>"
      ]
     },
     "metadata": {
      "needs_background": "light"
     },
     "output_type": "display_data"
    },
    {
     "name": "stdout",
     "output_type": "stream",
     "text": [
      "GarageYrBlt  - Percent of outliers below lower fence  0.0684931506849315  and above upper fence  0.0\n"
     ]
    },
    {
     "data": {
      "image/png": "[encoded data removed]",
      "text/plain": [
       "<Figure size 1008x360 with 2 Axes>"
      ]
     },
     "metadata": {
      "needs_background": "light"
     },
     "output_type": "display_data"
    },
    {
     "name": "stdout",
     "output_type": "stream",
     "text": [
      "GarageCars  - Percent of outliers below lower fence  0.0  and above upper fence  0.3424657534246575\n"
     ]
    },
    {
     "data": {
      "image/png": "[encoded data removed]",
      "text/plain": [
       "<Figure size 1008x360 with 2 Axes>"
      ]
     },
     "metadata": {
      "needs_background": "light"
     },
     "output_type": "display_data"
    }
   ],
   "source": [
    "checkOutliersInNumericColumns(housingDF, [])"
   ]
  },
  {
   "cell_type": "code",
   "execution_count": null,
   "metadata": {},
   "outputs": [],
   "source": [
    "#Columns that had a very high repetition of values and indicated by the histogram and box plot with IQR appearing\n",
    "#as vertical line are to be removed. They have no impact on sale price.\n",
    "dropColumns = ['LotArea', 'BsmtFinSF2', 'LowQualFinSF', 'BsmtHalfBath', 'KitchenAbvGr', 'EnclosedPorch', \\\n",
    "               '3SsnPorch', 'ScreenPorch', 'PoolArea', 'MiscVal']\n",
    "\n",
    "housingDF.drop(dropColumns, inplace=True, axis=1)"
   ]
  },
  {
   "cell_type": "code",
   "execution_count": null,
   "metadata": {},
   "outputs": [],
   "source": [
    "columnsToCap = ['MSSubClass', 'LotFrontage', 'OverallQual', 'OverallCond', 'YearBuilt', 'YearRemodAdd', \\\n",
    "                'MasVnrArea', 'BsmtFinSF1', 'BsmtUnfSF', 'TotalBsmtSF', '1stFlrSF', '2ndFlrSF',\\\n",
    "                'GrLivArea', 'BsmtFullBath', 'FullBath', 'HalfBath', 'BedroomAbvGr', 'TotRmsAbvGrd',\\\n",
    "                'Fireplaces', 'GarageYrBlt', 'GarageCars', 'GarageArea', 'WoodDeckSF',\\\n",
    "                'OpenPorchSF',  'MoSold', 'YrSold']\n",
    "\n",
    "capNumericColumnOutliers(housingDF, columnsToCap)"
   ]
  },
  {
   "cell_type": "code",
   "execution_count": null,
   "metadata": {},
   "outputs": [],
   "source": [
    "checkOutliersInNumericColumns(housingDF, columnsToCap)"
   ]
  },
  {
   "cell_type": "code",
   "execution_count": null,
   "metadata": {},
   "outputs": [],
   "source": [
    "#Get all numeric columns to apply MinMax Scaler\n",
    "#This is only for scaling purpose and for nothing else\n",
    "tDF = housingDF.select_dtypes(include=['int32', 'int64', 'float64'])\n",
    "numericCols2Scale = list(tDF.columns)"
   ]
  },
  {
   "cell_type": "code",
   "execution_count": null,
   "metadata": {},
   "outputs": [],
   "source": [
    "category_cols = housingDF.select_dtypes(include=['object']).columns\n",
    "dummyCols = pd.get_dummies(housingDF[category_cols], drop_first = True)\n",
    "\n",
    "housingDF = pd.concat([housingDF, dummyCols], axis = 1)\n",
    "housingDF.drop(list(category_cols), axis = 1, inplace = True)"
   ]
  },
  {
   "cell_type": "code",
   "execution_count": null,
   "metadata": {},
   "outputs": [],
   "source": [
    "housingDF.columns"
   ]
  },
  {
   "cell_type": "code",
   "execution_count": null,
   "metadata": {},
   "outputs": [],
   "source": []
  },
  {
   "cell_type": "markdown",
   "metadata": {},
   "source": [
    "####  Split train and test"
   ]
  },
  {
   "cell_type": "code",
   "execution_count": null,
   "metadata": {},
   "outputs": [],
   "source": [
    "from sklearn.model_selection import train_test_split\n",
    "\n",
    "# We specify this so that the train and test data set always have the same rows, respectively\n",
    "np.random.seed(0)\n",
    "df_train, df_test = train_test_split(housingDF, train_size = 0.7, test_size = 0.3, random_state = 100)"
   ]
  },
  {
   "cell_type": "markdown",
   "metadata": {},
   "source": [
    "#### Apply MinMaxScaler to all the numeric variables"
   ]
  },
  {
   "cell_type": "code",
   "execution_count": null,
   "metadata": {},
   "outputs": [],
   "source": [
    "from sklearn.preprocessing import MinMaxScaler\n",
    "scaler = MinMaxScaler()\n",
    "# Apply scaler() to all the Feature - X vars (that are numeric)\n",
    "#Train data scaling\n",
    "df_train[numericCols2Scale] = scaler.fit_transform(df_train[numericCols2Scale])\n",
    "#Test data scaling\n",
    "df_test[numericCols2Scale] = scaler.transform(df_test[numericCols2Scale])"
   ]
  },
  {
   "cell_type": "code",
   "execution_count": null,
   "metadata": {},
   "outputs": [],
   "source": [
    "#Separate train data features and target (X and y)\n",
    "y_train = df_train.pop('SalePrice')\n",
    "X_train = df_train\n",
    "\n",
    "#Separate test data features and target (X and y)\n",
    "y_test = df_test.pop('SalePrice')\n",
    "X_test = df_test"
   ]
  },
  {
   "cell_type": "code",
   "execution_count": null,
   "metadata": {},
   "outputs": [],
   "source": [
    "df_train.head()"
   ]
  },
  {
   "cell_type": "code",
   "execution_count": null,
   "metadata": {},
   "outputs": [],
   "source": [
    "X_train.columns"
   ]
  },
  {
   "cell_type": "markdown",
   "metadata": {},
   "source": [
    " #### Linear Regression - BEGIN - From Car price file"
   ]
  },
  {
   "cell_type": "code",
   "execution_count": null,
   "metadata": {},
   "outputs": [],
   "source": [
    "# Instantiate and fit a line\n",
    "primLM = primitiveLRFitAndAnalyze(X_train, y_train, X_test, y_test)"
   ]
  },
  {
   "cell_type": "code",
   "execution_count": null,
   "metadata": {},
   "outputs": [],
   "source": [
    "# Print the coefficients and intercept\n",
    "print(primLM.intercept_)\n",
    "print(primLM.coef_)"
   ]
  },
  {
   "cell_type": "markdown",
   "metadata": {},
   "source": [
    "#### Predict for train and test and compare the scores"
   ]
  },
  {
   "cell_type": "markdown",
   "metadata": {},
   "source": [
    "#### Linear Regression - END - From Car price file"
   ]
  },
  {
   "cell_type": "markdown",
   "metadata": {},
   "source": [
    "#### Linear Regression with RFE"
   ]
  },
  {
   "cell_type": "code",
   "execution_count": null,
   "metadata": {},
   "outputs": [],
   "source": [
    "# Running RFE with the output number of the variable equal to 10\n",
    "rfeLM = LinearRegression()\n",
    "rfeLM.fit(X_train, y_train)\n",
    "\n",
    "TOP_N_COLUMNS = 40\n",
    "rfe = RFE(rfeLM, TOP_N_COLUMNS)\n",
    "rfe = rfe.fit(X_train, y_train)"
   ]
  },
  {
   "cell_type": "code",
   "execution_count": null,
   "metadata": {},
   "outputs": [],
   "source": [
    "list(zip(X_train.columns,rfe.support_,rfe.ranking_))"
   ]
  },
  {
   "cell_type": "code",
   "execution_count": null,
   "metadata": {},
   "outputs": [],
   "source": [
    "#There are TOP_N_COLUMNS columns that RFE has 'favourably' supported.\n",
    "col = X_train.columns[rfe.support_]\n",
    "col"
   ]
  },
  {
   "cell_type": "code",
   "execution_count": null,
   "metadata": {},
   "outputs": [],
   "source": [
    "#X_train.columns[~rfe.support_]"
   ]
  },
  {
   "cell_type": "markdown",
   "metadata": {},
   "source": [
    "### Building model using statsmodel, for the detailed statistics"
   ]
  },
  {
   "cell_type": "code",
   "execution_count": null,
   "metadata": {},
   "outputs": [],
   "source": [
    "# Creating X_test dataframe with RFE selected variables\n",
    "X_train_rfe = X_train[col]"
   ]
  },
  {
   "cell_type": "code",
   "execution_count": null,
   "metadata": {},
   "outputs": [],
   "source": [
    "dropColumns = []"
   ]
  },
  {
   "cell_type": "code",
   "execution_count": null,
   "metadata": {},
   "outputs": [],
   "source": [
    "#REMOVE top VIF columns iteratively\n",
    "X_train_rfe = X_train_rfe.drop(dropColumns, axis = 1)\n",
    "toDelColumn, rfeLM = doRFEAndReturnTopVIFColumn(y_train, X_train_rfe)\n",
    "dropColumns = [toDelColumn]\n",
    "print('**** Feature with TOP VIF is ', toDelColumn, ' ****')\n",
    "print('**** To drop ', toDelColumn, ' and do VIF run this cell again ***')"
   ]
  },
  {
   "cell_type": "code",
   "execution_count": null,
   "metadata": {},
   "outputs": [],
   "source": [
    "print(X_train_rfe.columns)\n",
    "print(len(X_train_rfe.columns))"
   ]
  },
  {
   "cell_type": "code",
   "execution_count": null,
   "metadata": {},
   "outputs": [],
   "source": [
    "X_train = X_train[X_train_rfe.columns]\n",
    "X_test = X_test[X_train_rfe.columns]\n",
    "\n",
    "postRFELM = LRFitAndAnalyze(X_train, y_train, X_test, y_test)"
   ]
  },
  {
   "cell_type": "markdown",
   "metadata": {},
   "source": [
    "## Ridge Regression"
   ]
  },
  {
   "cell_type": "code",
   "execution_count": null,
   "metadata": {},
   "outputs": [],
   "source": [
    "# list of alphas to tune - if value too high it will lead to underfitting, if it is too low, \n",
    "# it will not handle the overfitting\n",
    "params = {'alpha': [0.00001, 0.0001, 0.001, 0.01, 0.05, 0.1, \n",
    "                     0.2, 0.3, 0.4, 0.5, 0.6, 0.7, 0.8, 0.9, 1.0, 1.5, \n",
    "                     1.9997, 1.9998, 1.9999, 2.0, 2.1111, 2.1112, 2.1113, 2.5, 3.0, \n",
    "                     4.0, 5.0, 6.0, 7.0, 8.0, 9.0, 10.0, 20, 50, 100, 500, 1000 ]}\n",
    "\n",
    "ridge = Ridge()\n",
    "\n",
    "# cross validation\n",
    "folds = 5\n",
    "model_cv = GridSearchCV(estimator = ridge, \n",
    "                        param_grid = params, \n",
    "                        scoring= 'neg_mean_absolute_error',  \n",
    "                        cv = folds, \n",
    "                        return_train_score=True,\n",
    "                        verbose = 1)            \n",
    "model_cv.fit(X_train, y_train) \n",
    "#https://scikit-learn.org/stable/modules/model_evaluation.html\n"
   ]
  },
  {
   "cell_type": "code",
   "execution_count": null,
   "metadata": {},
   "outputs": [],
   "source": [
    "# Printing the best hyperparameter alpha\n",
    "ridgeAlpha = model_cv.best_params_.get('alpha')\n",
    "print('Ridge Regularization Alpha - ',  ridgeAlpha)"
   ]
  },
  {
   "cell_type": "code",
   "execution_count": null,
   "metadata": {},
   "outputs": [],
   "source": [
    "def ridgeFitAndAnalyze(alpha, XTrain, yTrain, XTest, yTest):\n",
    "    #Fitting Ridge model for alpha and printing coefficients which have been penalised\n",
    "    print(\"Ridge alpha - \", alpha)\n",
    "    ridge = Ridge(alpha = alpha)\n",
    "    ridge.fit(XTrain, yTrain)\n",
    "    print(ridge.coef_)\n",
    "    print(len(ridge.coef_))\n",
    "    \n",
    "    results = predictAndDisplayScores(ridge, XTrain, yTrain, XTest, yTest, \"****Scores of Ridge regularization****\")\n",
    "\n",
    "    YPredTrain = results.get('YPredTrain')\n",
    "    YPredTest = results.get('YPredTest')\n",
    "    metrics = results.get('metric')\n",
    "\n",
    "    #print(\"Y Predicted train\\n\", YPredTrain)\n",
    "    #print(\"Y Predicted test\\n\", YPredTest)\n",
    "    print(\"Metrics\\n\", metrics)\n",
    "    \n",
    "    residualAnalysis(yTrain, YPredTrain, '***Ridge regularization residual analysis***')\n",
    "\n",
    "    return ridge"
   ]
  },
  {
   "cell_type": "code",
   "execution_count": null,
   "metadata": {},
   "outputs": [],
   "source": [
    "ridgeModel = ridgeFitAndAnalyze(ridgeAlpha, X_train, y_train, X_test, y_test)"
   ]
  },
  {
   "cell_type": "markdown",
   "metadata": {},
   "source": [
    "### Lasso Regression"
   ]
  },
  {
   "cell_type": "code",
   "execution_count": null,
   "metadata": {},
   "outputs": [],
   "source": [
    "params = {'alpha': [0.00001, 0.0001, 0.001, 0.01, 0.05, 0.1, \n",
    "                     0.2, 0.3, 0.4, 0.5, 0.6, 0.7, 0.8, 0.9, 1.0, 2.0, 3.0, \n",
    "                     4.0, 5.0, 6.0, 7.0, 8.0, 9.0, 10.0, 20, 50, 100, 500, 1000 ]}\n",
    "\n",
    "lasso = Lasso()\n",
    "# cross validation\n",
    "model_cv = GridSearchCV(estimator = lasso, \n",
    "                        param_grid = params, \n",
    "                        scoring= 'neg_mean_absolute_error', \n",
    "                        cv = folds, \n",
    "                        return_train_score=True,\n",
    "                        verbose = 1)            \n",
    "\n",
    "model_cv.fit(X_train, y_train)"
   ]
  },
  {
   "cell_type": "code",
   "execution_count": null,
   "metadata": {},
   "outputs": [],
   "source": [
    "# Printing the best hyperparameter alpha\n",
    "lassoAlpha = model_cv.best_params_.get('alpha')\n",
    "print('Lasso Regularization Alpha - ', lassoAlpha)"
   ]
  },
  {
   "cell_type": "code",
   "execution_count": null,
   "metadata": {},
   "outputs": [],
   "source": [
    "def lassoFitAndAnalyze(alpha, XTrain, yTrain, XTest, yTest):\n",
    "    #Fitting Ridge model for alpha = 100 and printing coefficients which have been penalised\n",
    "    print(\"Lasso alpha - \", alpha)\n",
    "    lasso = Lasso(alpha=alpha)\n",
    "    lasso.fit(XTrain, yTrain)\n",
    "    \n",
    "    print('Number of features selected ', np.count_nonzero(lasso.coef_))\n",
    "    \n",
    "    results = predictAndDisplayScores(lasso, XTrain, yTrain, XTest, yTest, \"****Scores of Lasso regularization****\")\n",
    "\n",
    "    YPredTrain = results.get('YPredTrain')\n",
    "    YPredTest = results.get('YPredTest')\n",
    "    metrics = results.get('metric')\n",
    "\n",
    "    #print(\"Y Predicted train\\n\", YPredTrain)\n",
    "    #print(\"Y Predicted test\\n\", YPredTest)\n",
    "    print(\"Metrics\\n\", metrics)\n",
    "    \n",
    "    residualAnalysis(y_train, YPredTrain, '***Lasso regularization residual analysis***')\n",
    "    \n",
    "    return lasso"
   ]
  },
  {
   "cell_type": "code",
   "execution_count": null,
   "metadata": {},
   "outputs": [],
   "source": [
    "lassoModel = lassoFitAndAnalyze(lassoAlpha, X_train, y_train, X_test, y_test)"
   ]
  },
  {
   "cell_type": "code",
   "execution_count": null,
   "metadata": {},
   "outputs": [],
   "source": [
    "def getBetas(XTrain, linMod, ridMod, lasMod):\n",
    "    betas = pd.DataFrame(index = XTrain.columns)\n",
    "    betas.rows = XTrain.columns\n",
    "\n",
    "    betas['Linear'] = linMod.coef_\n",
    "    betas['Ridge'] = ridMod.coef_\n",
    "    betas['Lasso'] = lasMod.coef_\n",
    "    return betas\n"
   ]
  },
  {
   "cell_type": "code",
   "execution_count": null,
   "metadata": {},
   "outputs": [],
   "source": [
    "betas = getBetas(X_train, postRFELM, ridgeModel ,lassoModel)\n",
    "pd.set_option('display.max_rows', None)\n",
    "betas.head(200)"
   ]
  },
  {
   "cell_type": "code",
   "execution_count": null,
   "metadata": {},
   "outputs": [],
   "source": [
    "#Top 5 coeffs in each\n",
    "#Improvement areas\n",
    "#Results\n",
    "#Conclusion"
   ]
  },
  {
   "cell_type": "code",
   "execution_count": null,
   "metadata": {},
   "outputs": [],
   "source": [
    "def getTopBetas(betas):\n",
    "    #Get the magnitude of the betas\n",
    "    for col in betas.columns:\n",
    "        betas[col] = betas[col].apply(abs)\n",
    "    #Sort the features based on betas for each algorithm\n",
    "    for col in betas.columns:\n",
    "        print(\"****Printing by \", col, \"****\")\n",
    "        betas = betas.sort_values(by=[col], ascending=False)\n",
    "        print(betas[col].iloc[0:5])    \n",
    "    return"
   ]
  },
  {
   "cell_type": "code",
   "execution_count": null,
   "metadata": {},
   "outputs": [],
   "source": [
    "getTopBetas(betas)"
   ]
  },
  {
   "cell_type": "markdown",
   "metadata": {},
   "source": [
    "### Answers to questions in assignment part I\n",
    "- ### Q1) Which variables are significant in predicting the price of a house?\n",
    "\n",
    "#### The TOP 5 features impacting sales price by each algorithm (decided by the magnitude of the betas)\n",
    "Linear Regression - 'R2Train': 0.92, 'R2Test': 0.81\n",
    "- RoofMatl_membran    0.619758\n",
    "- Condition2_posn     -0.571398\n",
    "- RoofMatl_wdshngl    0.552684\n",
    "- RoofMatl_metal      0.513750\n",
    "- RoofMatl_roll       0.511392\n",
    "\n",
    "Ridge Regularization - 'R2Train': 0.89, 'R2Test': 0.86, Best lambda - 1.5\n",
    "- Condition2_posn     -0.176019\n",
    "- 2ndFlrSF            0.123256\n",
    "- 1stFlrSF            0.119751\n",
    "- OverallQual         0.113508\n",
    "- RoofMatl_wdshngl    0.098919\n",
    "\n",
    "Lasso Regularization - 'R2Train': 0.90, 'R2Test': 0.84, Best lambda - 0.0001\n",
    "- Condition2_posn    -0.365658\n",
    "- 2ndFlrSF           0.170472\n",
    "- 1stFlrSF           0.166152\n",
    "- OverallQual        0.125641\n",
    "- YearBuilt          0.087396\n",
    "\n",
    "- ### Q2) How well those variables describe the price of a house?\n",
    "- These are the variables that were arrived after applying RFE in Linear Regression, Ridge and Lasso Regularizations. \n",
    "- The R2 values for the 3 algorithms are listed above. Notice that these are pretty close ~5%, except for Linear Regression. LR accuracy was low due to the variance and we had to reduce it with regularization. \n",
    "- The Regularization algorithms have given reasonable accuracies in test data. The residual analysis for the 3 algorithms indicate homoscedasticity, no patterns in errors, errors are normally distributed around 0.\n",
    "\n",
    "- ### Q3) Lambda for Ridge and Lasso - The lambdas for Ridge and Lasso are 1.5 and 0.0001 respectively.\n",
    "\n"
   ]
  },
  {
   "cell_type": "markdown",
   "metadata": {},
   "source": [
    "### Code for questions in assignment part II"
   ]
  },
  {
   "cell_type": "markdown",
   "metadata": {},
   "source": [
    "### Q1) What is the impact on top features if alpha is doubled for Ridge and Lasso?"
   ]
  },
  {
   "cell_type": "code",
   "execution_count": null,
   "metadata": {},
   "outputs": [],
   "source": [
    "ridgeModel2 = ridgeFitAndAnalyze(ridgeAlpha*2, X_train, y_train, X_test, y_test)"
   ]
  },
  {
   "cell_type": "code",
   "execution_count": null,
   "metadata": {},
   "outputs": [],
   "source": [
    "lassoModel2 = lassoFitAndAnalyze(lassoAlpha*2, X_train, y_train, X_test, y_test)"
   ]
  },
  {
   "cell_type": "code",
   "execution_count": null,
   "metadata": {},
   "outputs": [],
   "source": [
    "betas = getBetas(X_train, postRFELM, ridgeModel2 ,lassoModel2)\n",
    "pd.set_option('display.max_rows', None)\n",
    "betas.head(200)\n",
    "getTopBetas(betas)"
   ]
  },
  {
   "cell_type": "markdown",
   "metadata": {},
   "source": [
    "### Q3) What if top 5 features are missing in the data? \n",
    "#### We remove the features in test and train data, rebuild the RFE Linear model, regularize with Lasso and then pick the top 5 features."
   ]
  },
  {
   "cell_type": "code",
   "execution_count": null,
   "metadata": {},
   "outputs": [],
   "source": [
    "from sklearn.model_selection import train_test_split\n",
    "\n",
    "#Top 5 from Lasso model\n",
    "removeCols = ['Condition2_posn', '1stFlrSF', '2ndFlrSF','OverallQual', 'YearBuilt']\n",
    "housingDF.drop(removeCols, inplace=True, axis=1)"
   ]
  },
  {
   "cell_type": "code",
   "execution_count": null,
   "metadata": {},
   "outputs": [],
   "source": [
    "# We specify this so that the train and test data set always have the same rows, respectively\n",
    "np.random.seed(0)\n",
    "df_train, df_test = train_test_split(housingDF, train_size = 0.7, test_size = 0.3, random_state = 100)\n",
    "\n",
    "numericCols2Scale = list(set(numericCols2Scale).difference(set(removeCols)))"
   ]
  },
  {
   "cell_type": "code",
   "execution_count": null,
   "metadata": {},
   "outputs": [],
   "source": [
    "from sklearn.preprocessing import MinMaxScaler\n",
    "scaler = MinMaxScaler()\n",
    "# Apply scaler() to all the Feature - X vars (that are numeric)\n",
    "#Train data scaling\n",
    "df_train[numericCols2Scale] = scaler.fit_transform(df_train[numericCols2Scale])\n",
    "#Test data scaling\n",
    "df_test[numericCols2Scale] = scaler.transform(df_test[numericCols2Scale])\n",
    "\n",
    "#Separate train data features and target (X and y)\n",
    "y_train = df_train.pop('SalePrice')\n",
    "X_train = df_train\n",
    "\n",
    "#Separate test data features and target (X and y)\n",
    "y_test = df_test.pop('SalePrice')\n",
    "X_test = df_test"
   ]
  },
  {
   "cell_type": "code",
   "execution_count": null,
   "metadata": {},
   "outputs": [],
   "source": [
    "# Running RFE with the output number of the variable equal to 10\n",
    "rfeLM = LinearRegression()\n",
    "rfeLM.fit(X_train, y_train)\n",
    "\n",
    "TOP_N_COLUMNS = 40\n",
    "rfe = RFE(rfeLM, TOP_N_COLUMNS)\n",
    "rfe = rfe.fit(X_train, y_train)\n",
    "\n",
    "list(zip(X_train.columns,rfe.support_,rfe.ranking_))\n",
    "\n",
    "#There are TOP_N_COLUMNS columns that RFE has 'favourably' supported.\n",
    "col = X_train.columns[rfe.support_]\n",
    "col\n",
    "\n",
    "# Creating X_test dataframe with RFE selected variables\n",
    "X_train_rfe = X_train[col]"
   ]
  },
  {
   "cell_type": "code",
   "execution_count": null,
   "metadata": {},
   "outputs": [],
   "source": [
    "dropColumns = []"
   ]
  },
  {
   "cell_type": "code",
   "execution_count": null,
   "metadata": {},
   "outputs": [],
   "source": [
    "#REMOVE top VIF columns iteratively\n",
    "X_train_rfe = X_train_rfe.drop(dropColumns, axis = 1)\n",
    "toDelColumn, rfeLM = doRFEAndReturnTopVIFColumn(y_train, X_train_rfe)\n",
    "dropColumns = [toDelColumn]\n",
    "print('**** Feature with TOP VIF is ', toDelColumn, ' ****')\n",
    "print('**** To drop ', toDelColumn, ' and do VIF run this cell again ***')"
   ]
  },
  {
   "cell_type": "code",
   "execution_count": null,
   "metadata": {},
   "outputs": [],
   "source": [
    "print(X_train_rfe.columns)\n",
    "print(len(X_train_rfe.columns))\n",
    "\n",
    "X_train = X_train[X_train_rfe.columns]\n",
    "X_test = X_test[X_train_rfe.columns]"
   ]
  },
  {
   "cell_type": "code",
   "execution_count": null,
   "metadata": {},
   "outputs": [],
   "source": [
    "postRFELM = LRFitAndAnalyze(X_train, y_train, X_test, y_test)"
   ]
  },
  {
   "cell_type": "code",
   "execution_count": null,
   "metadata": {},
   "outputs": [],
   "source": [
    "params = {'alpha': [0.00001, 0.0001, 0.001, 0.01, 0.05, 0.1, \n",
    "                     0.2, 0.3, 0.4, 0.5, 0.6, 0.7, 0.8, 0.9, 1.0, 2.0, 3.0, \n",
    "                     4.0, 5.0, 6.0, 7.0, 8.0, 9.0, 10.0, 20, 50, 100, 500, 1000 ]}\n",
    "\n",
    "lasso = Lasso()\n",
    "# cross validation\n",
    "model_cv = GridSearchCV(estimator = lasso, \n",
    "                        param_grid = params, \n",
    "                        scoring= 'neg_mean_absolute_error', \n",
    "                        cv = folds, \n",
    "                        return_train_score=True,\n",
    "                        verbose = 1)            \n",
    "\n",
    "model_cv.fit(X_train, y_train)\n",
    "\n",
    "# Printing the best hyperparameter alpha\n",
    "lassoAlpha = model_cv.best_params_.get('alpha')\n",
    "print('Lasso Regularization Alpha - ', lassoAlpha)\n",
    "\n",
    "\n",
    "lassoModel = lassoFitAndAnalyze(lassoAlpha, X_train, y_train, X_test, y_test)"
   ]
  },
  {
   "cell_type": "code",
   "execution_count": null,
   "metadata": {},
   "outputs": [],
   "source": [
    "betas = pd.DataFrame(index = X_train.columns)\n",
    "betas.rows = X_train.columns\n",
    "\n",
    "betas['Lasso'] = lassoModel.coef_\n",
    "pd.set_option('display.max_rows', None)\n",
    "betas.head(200)\n"
   ]
  },
  {
   "cell_type": "code",
   "execution_count": null,
   "metadata": {},
   "outputs": [],
   "source": [
    "getTopBetas(betas)"
   ]
  },
  {
   "cell_type": "code",
   "execution_count": null,
   "metadata": {},
   "outputs": [],
   "source": []
  }
 ],
 "metadata": {
  "kernelspec": {
   "display_name": "Python 3",
   "language": "python",
   "name": "python3"
  },
  "language_info": {
   "codemirror_mode": {
    "name": "ipython",
    "version": 3
   },
   "file_extension": ".py",
   "mimetype": "text/x-python",
   "name": "python",
   "nbconvert_exporter": "python",
   "pygments_lexer": "ipython3",
   "version": "3.8.3"
  }
 },
 "nbformat": 4,
 "nbformat_minor": 4
}
