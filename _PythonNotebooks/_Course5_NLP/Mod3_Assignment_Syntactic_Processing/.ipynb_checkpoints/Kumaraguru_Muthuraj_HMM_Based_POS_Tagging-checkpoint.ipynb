{
 "cells": [
  {
   "cell_type": "markdown",
   "metadata": {},
   "source": [
    "## HMM Based POS Tagging Assignment\n",
    "### Author - Kumaraguru Muthuraj\n",
    "\n",
    "### Solution description\n",
    "\n",
    "### I have adopted the POS Tagging HMM.ipynb from the NLP Course, Module 2 Syntactic Processing for Viterbi and all foundational code. I have experimented 3 simple modifications on the Viterbi algorithm for handling unknown words."
   ]
  },
  {
   "cell_type": "markdown",
   "metadata": {},
   "source": [
    "### 1. Exploring the treebank dataset -  data preparation"
   ]
  },
  {
   "cell_type": "code",
   "execution_count": 1,
   "metadata": {},
   "outputs": [],
   "source": [
    "#Importing libraries\n",
    "import nltk\n",
    "import re, pprint\n",
    "import numpy as np\n",
    "import pandas as pd\n",
    "import matplotlib.pyplot as plt\n",
    "import seaborn as sns\n",
    "import pprint, time\n",
    "import random\n",
    "from sklearn.model_selection import train_test_split\n",
    "from nltk.tokenize import word_tokenize\n",
    "import codecs"
   ]
  },
  {
   "cell_type": "markdown",
   "metadata": {},
   "source": [
    "#### We are instructed to use the Universal - coase tags numbering 12 instead of the extensive 40+ tags in nltk library"
   ]
  },
  {
   "cell_type": "code",
   "execution_count": 2,
   "metadata": {},
   "outputs": [
    {
     "name": "stderr",
     "output_type": "stream",
     "text": [
      "[nltk_data] Downloading package treebank to\n",
      "[nltk_data]     C:\\Users\\kumaraguru\\AppData\\Roaming\\nltk_data...\n",
      "[nltk_data]   Package treebank is already up-to-date!\n",
      "[nltk_data] Downloading package universal_tagset to\n",
      "[nltk_data]     C:\\Users\\kumaraguru\\AppData\\Roaming\\nltk_data...\n",
      "[nltk_data]   Package universal_tagset is already up-to-date!\n"
     ]
    },
    {
     "data": {
      "text/plain": [
       "True"
      ]
     },
     "execution_count": 2,
     "metadata": {},
     "output_type": "execute_result"
    }
   ],
   "source": [
    "nltk.download('treebank')\n",
    "nltk.download('universal_tagset')"
   ]
  },
  {
   "cell_type": "code",
   "execution_count": 3,
   "metadata": {},
   "outputs": [],
   "source": [
    "# Load the UNIVERSAL tagset from Treebank\n",
    "nltk_data = list(nltk.corpus.treebank.tagged_sents(tagset='universal'))"
   ]
  },
  {
   "cell_type": "code",
   "execution_count": 4,
   "metadata": {},
   "outputs": [
    {
     "name": "stdout",
     "output_type": "stream",
     "text": [
      "***Length of the data set ****  3914\n",
      "\n",
      "\n",
      "***First few lines*****\n"
     ]
    },
    {
     "data": {
      "text/plain": [
       "[[('Pierre', 'NOUN'),\n",
       "  ('Vinken', 'NOUN'),\n",
       "  (',', '.'),\n",
       "  ('61', 'NUM'),\n",
       "  ('years', 'NOUN'),\n",
       "  ('old', 'ADJ'),\n",
       "  (',', '.'),\n",
       "  ('will', 'VERB'),\n",
       "  ('join', 'VERB'),\n",
       "  ('the', 'DET'),\n",
       "  ('board', 'NOUN'),\n",
       "  ('as', 'ADP'),\n",
       "  ('a', 'DET'),\n",
       "  ('nonexecutive', 'ADJ'),\n",
       "  ('director', 'NOUN'),\n",
       "  ('Nov.', 'NOUN'),\n",
       "  ('29', 'NUM'),\n",
       "  ('.', '.')],\n",
       " [('Mr.', 'NOUN'),\n",
       "  ('Vinken', 'NOUN'),\n",
       "  ('is', 'VERB'),\n",
       "  ('chairman', 'NOUN'),\n",
       "  ('of', 'ADP'),\n",
       "  ('Elsevier', 'NOUN'),\n",
       "  ('N.V.', 'NOUN'),\n",
       "  (',', '.'),\n",
       "  ('the', 'DET'),\n",
       "  ('Dutch', 'NOUN'),\n",
       "  ('publishing', 'VERB'),\n",
       "  ('group', 'NOUN'),\n",
       "  ('.', '.')],\n",
       " [('Rudolph', 'NOUN'),\n",
       "  ('Agnew', 'NOUN'),\n",
       "  (',', '.'),\n",
       "  ('55', 'NUM'),\n",
       "  ('years', 'NOUN'),\n",
       "  ('old', 'ADJ'),\n",
       "  ('and', 'CONJ'),\n",
       "  ('former', 'ADJ'),\n",
       "  ('chairman', 'NOUN'),\n",
       "  ('of', 'ADP'),\n",
       "  ('Consolidated', 'NOUN'),\n",
       "  ('Gold', 'NOUN'),\n",
       "  ('Fields', 'NOUN'),\n",
       "  ('PLC', 'NOUN'),\n",
       "  (',', '.'),\n",
       "  ('was', 'VERB'),\n",
       "  ('named', 'VERB'),\n",
       "  ('*-1', 'X'),\n",
       "  ('a', 'DET'),\n",
       "  ('nonexecutive', 'ADJ'),\n",
       "  ('director', 'NOUN'),\n",
       "  ('of', 'ADP'),\n",
       "  ('this', 'DET'),\n",
       "  ('British', 'ADJ'),\n",
       "  ('industrial', 'ADJ'),\n",
       "  ('conglomerate', 'NOUN'),\n",
       "  ('.', '.')],\n",
       " [('A', 'DET'),\n",
       "  ('form', 'NOUN'),\n",
       "  ('of', 'ADP'),\n",
       "  ('asbestos', 'NOUN'),\n",
       "  ('once', 'ADV'),\n",
       "  ('used', 'VERB'),\n",
       "  ('*', 'X'),\n",
       "  ('*', 'X'),\n",
       "  ('to', 'PRT'),\n",
       "  ('make', 'VERB'),\n",
       "  ('Kent', 'NOUN'),\n",
       "  ('cigarette', 'NOUN'),\n",
       "  ('filters', 'NOUN'),\n",
       "  ('has', 'VERB'),\n",
       "  ('caused', 'VERB'),\n",
       "  ('a', 'DET'),\n",
       "  ('high', 'ADJ'),\n",
       "  ('percentage', 'NOUN'),\n",
       "  ('of', 'ADP'),\n",
       "  ('cancer', 'NOUN'),\n",
       "  ('deaths', 'NOUN'),\n",
       "  ('among', 'ADP'),\n",
       "  ('a', 'DET'),\n",
       "  ('group', 'NOUN'),\n",
       "  ('of', 'ADP'),\n",
       "  ('workers', 'NOUN'),\n",
       "  ('exposed', 'VERB'),\n",
       "  ('*', 'X'),\n",
       "  ('to', 'PRT'),\n",
       "  ('it', 'PRON'),\n",
       "  ('more', 'ADV'),\n",
       "  ('than', 'ADP'),\n",
       "  ('30', 'NUM'),\n",
       "  ('years', 'NOUN'),\n",
       "  ('ago', 'ADP'),\n",
       "  (',', '.'),\n",
       "  ('researchers', 'NOUN'),\n",
       "  ('reported', 'VERB'),\n",
       "  ('0', 'X'),\n",
       "  ('*T*-1', 'X'),\n",
       "  ('.', '.')],\n",
       " [('The', 'DET'),\n",
       "  ('asbestos', 'NOUN'),\n",
       "  ('fiber', 'NOUN'),\n",
       "  (',', '.'),\n",
       "  ('crocidolite', 'NOUN'),\n",
       "  (',', '.'),\n",
       "  ('is', 'VERB'),\n",
       "  ('unusually', 'ADV'),\n",
       "  ('resilient', 'ADJ'),\n",
       "  ('once', 'ADP'),\n",
       "  ('it', 'PRON'),\n",
       "  ('enters', 'VERB'),\n",
       "  ('the', 'DET'),\n",
       "  ('lungs', 'NOUN'),\n",
       "  (',', '.'),\n",
       "  ('with', 'ADP'),\n",
       "  ('even', 'ADV'),\n",
       "  ('brief', 'ADJ'),\n",
       "  ('exposures', 'NOUN'),\n",
       "  ('to', 'PRT'),\n",
       "  ('it', 'PRON'),\n",
       "  ('causing', 'VERB'),\n",
       "  ('symptoms', 'NOUN'),\n",
       "  ('that', 'DET'),\n",
       "  ('*T*-1', 'X'),\n",
       "  ('show', 'VERB'),\n",
       "  ('up', 'PRT'),\n",
       "  ('decades', 'NOUN'),\n",
       "  ('later', 'ADJ'),\n",
       "  (',', '.'),\n",
       "  ('researchers', 'NOUN'),\n",
       "  ('said', 'VERB'),\n",
       "  ('0', 'X'),\n",
       "  ('*T*-2', 'X'),\n",
       "  ('.', '.')]]"
      ]
     },
     "execution_count": 4,
     "metadata": {},
     "output_type": "execute_result"
    }
   ],
   "source": [
    "# PRINT first few tagged sentences\n",
    "print(\"***Length of the data set **** \", len(nltk_data))\n",
    "# samples: Each sentence is a list of (word, pos) tuples\n",
    "print(\"\\n\\n***First few lines*****\")\n",
    "nltk_data[:5]"
   ]
  },
  {
   "cell_type": "markdown",
   "metadata": {},
   "source": [
    "#### 5% of data, for test according to https://learn.upgrad.com/v/course/1120/session/169917/segment/904732"
   ]
  },
  {
   "cell_type": "code",
   "execution_count": 5,
   "metadata": {},
   "outputs": [
    {
     "name": "stdout",
     "output_type": "stream",
     "text": [
      "***Length of the training data set ****  3718\n",
      "***Length of the test data set ****  196\n",
      "\n",
      "\n",
      "*****Print a few lines*****\n",
      " [[('U.S.', 'NOUN'), ('News', 'NOUN'), (\"'\", 'PRT'), ('circulation', 'NOUN'), ('in', 'ADP'), ('the', 'DET'), ('same', 'ADJ'), ('time', 'NOUN'), ('was', 'VERB'), ('2,303,328', 'NUM'), (',', '.'), ('down', 'ADV'), ('2.6', 'NUM'), ('%', 'NOUN'), ('.', '.')], [('The', 'DET'), ('Democrat', 'NOUN'), (\"'s\", 'PRT'), ('proposal', 'NOUN'), ('is', 'VERB'), ('described', 'VERB'), ('*-1', 'X'), ('by', 'ADP'), ('government', 'NOUN'), ('sources', 'NOUN'), ('and', 'CONJ'), ('lobbyists', 'NOUN'), ('as', 'ADV'), ('significantly', 'ADV'), ('weaker', 'ADJ'), ('than', 'ADP'), ('the', 'DET'), ('president', 'NOUN'), (\"'s\", 'PRT'), ('plan', 'NOUN'), ('*', 'X'), ('to', 'PRT'), ('cut', 'VERB'), ('utility', 'NOUN'), ('emissions', 'NOUN'), ('.', '.')], [('That', 'DET'), ('was', 'VERB'), ('the', 'DET'), ('law', 'NOUN'), ('.', '.')], [('Abrupt', 'ADJ'), ('departures', 'NOUN'), ('are', 'VERB'), (\"n't\", 'ADV'), ('unheard', 'ADJ'), ('of', 'ADP'), ('*-1', 'X'), ('within', 'ADP'), ('the', 'DET'), ('Newhouse', 'NOUN'), ('empire', 'NOUN'), ('.', '.')], [('FIRST', 'NUM'), ('CAMPAIGN', 'NOUN'), (':', '.')]]\n"
     ]
    }
   ],
   "source": [
    "TEST_DATA_PERCENT = 0.05 \n",
    "\n",
    "# Splitting into train and test\n",
    "train_set, test_set = train_test_split(nltk_data, test_size = TEST_DATA_PERCENT)\n",
    "\n",
    "print(\"***Length of the training data set **** \", len(train_set))\n",
    "print(\"***Length of the test data set **** \", len(test_set))\n",
    "\n",
    "print(\"\\n\\n*****Print a few lines*****\\n\", train_set[:5])"
   ]
  },
  {
   "cell_type": "code",
   "execution_count": 6,
   "metadata": {},
   "outputs": [
    {
     "data": {
      "text/plain": [
       "95579"
      ]
     },
     "execution_count": 6,
     "metadata": {},
     "output_type": "execute_result"
    }
   ],
   "source": [
    "# Getting training list of tagged words\n",
    "train_wordAndTag_list = [wordAndTag for sentence in train_set for wordAndTag in sentence]\n",
    "len(train_wordAndTag_list)"
   ]
  },
  {
   "cell_type": "code",
   "execution_count": 7,
   "metadata": {},
   "outputs": [
    {
     "data": {
      "text/plain": [
       "[('U.S.', 'NOUN'),\n",
       " ('News', 'NOUN'),\n",
       " (\"'\", 'PRT'),\n",
       " ('circulation', 'NOUN'),\n",
       " ('in', 'ADP')]"
      ]
     },
     "execution_count": 7,
     "metadata": {},
     "output_type": "execute_result"
    }
   ],
   "source": [
    "train_wordAndTag_list[:5]"
   ]
  },
  {
   "cell_type": "code",
   "execution_count": 8,
   "metadata": {},
   "outputs": [
    {
     "name": "stdout",
     "output_type": "stream",
     "text": [
      "12064\n"
     ]
    }
   ],
   "source": [
    "#Get the set of words from the train_wordAndTag_list.\n",
    "tokens_set = set([wordAndTag[0] for wordAndTag in train_wordAndTag_list])\n",
    "print(len(tokens_set))\n",
    "#print(tokens_set)"
   ]
  },
  {
   "cell_type": "markdown",
   "metadata": {},
   "source": [
    "#### How do we know if Universal tagset is used? Get the set of tags from the train_wordAndTag_list. It should be 12, as mentioned in the problem statement. NOTE that this will be used shortly for the HMM algorithm."
   ]
  },
  {
   "cell_type": "code",
   "execution_count": 9,
   "metadata": {},
   "outputs": [
    {
     "name": "stdout",
     "output_type": "stream",
     "text": [
      "12\n",
      "{'ADV', 'DET', 'X', 'PRON', 'NUM', 'ADJ', '.', 'PRT', 'ADP', 'VERB', 'CONJ', 'NOUN'}\n"
     ]
    }
   ],
   "source": [
    "train_listOf_Tags = [wordAndTag[1] for wordAndTag in train_wordAndTag_list]\n",
    "universal_tagset = set(train_listOf_Tags)\n",
    "print(len(universal_tagset))\n",
    "print(universal_tagset)"
   ]
  },
  {
   "cell_type": "markdown",
   "metadata": {},
   "source": [
    "#### This tells that abour 28% of words are NOUNS followed by 13% VERBS. We will use this probablistic finding to assign NOUN as the tag for unknown words in the 3rd modified version of the Viterbi Algorithm."
   ]
  },
  {
   "cell_type": "code",
   "execution_count": 10,
   "metadata": {},
   "outputs": [
    {
     "name": "stdout",
     "output_type": "stream",
     "text": [
      "95579\n"
     ]
    },
    {
     "data": {
      "text/plain": [
       "Counter({'NOUN': 27381,\n",
       "         'PRT': 3064,\n",
       "         'ADP': 9329,\n",
       "         'DET': 8285,\n",
       "         'ADJ': 6109,\n",
       "         'VERB': 12869,\n",
       "         'NUM': 3354,\n",
       "         '.': 11140,\n",
       "         'ADV': 3019,\n",
       "         'X': 6282,\n",
       "         'CONJ': 2153,\n",
       "         'PRON': 2594})"
      ]
     },
     "execution_count": 10,
     "metadata": {},
     "output_type": "execute_result"
    }
   ],
   "source": [
    "print(len(train_listOf_Tags))\n",
    "\n",
    "from collections import Counter\n",
    "tag_counts = Counter(train_listOf_Tags)\n",
    "tag_counts"
   ]
  },
  {
   "cell_type": "markdown",
   "metadata": {},
   "source": [
    "### 2. POS Tagging Algorithm - HMM - Build the vanilla Viterbi based POS tagger\n",
    "#### Note: extracted from Upgrad Course - NLP - Module 2 - Exercise\n",
    "We'll use the HMM algorithm to tag the words. Given a sequence of words to be tagged, the task is to assign the most probable tag to the word.\n",
    "\n",
    "In other words, to every word W, assign the tag T that maximises the likelihood P(T|W). Since P(T|W) = P(W|T).P(T) / P(W), after ignoring P(W), we have to compute P(W|T) and P(T).\n",
    "\n",
    "P(W|T) is basically the probability that given a tag (say NN), what is the probability of it being W (say 'building'). This can be computed by computing the fraction of all NNs which are equal to W, i.e.\n",
    "\n",
    "P(W|T) = count(W, T) / count(T).\n",
    "\n",
    "The term P(T) is the probability of tag T, and in a tagging task, we assume that a tag will depend only on the previous tag. In other words, the probability of a tag being NN will depend only on the previous tag T(n-1). So for e.g. if T(n-1) is a JJ, then T(n) is likely to be an NN since adjectives often precede a noun (blue coat, tall building etc.).\n",
    "\n",
    "Given the penn treebank tagged dataset, we can compute the two terms P(W|T) and P(T) and store them in two large matrices. The matrix of P(W|T) will be sparse, since each word will not be seen with most tags ever, and those terms will thus be zero."
   ]
  },
  {
   "cell_type": "markdown",
   "metadata": {},
   "source": [
    "### Emission Probabilities"
   ]
  },
  {
   "cell_type": "code",
   "execution_count": 11,
   "metadata": {},
   "outputs": [],
   "source": [
    "# Computing P(W|T) and storing in tags x words matrix\n",
    "tags = len(universal_tagset)\n",
    "words = len(tokens_set)\n",
    "prob_W_given_T = np.zeros((tags, words))"
   ]
  },
  {
   "cell_type": "markdown",
   "metadata": {},
   "source": [
    "#### Emission Probability is calculated by function word_given_tag"
   ]
  },
  {
   "cell_type": "code",
   "execution_count": 12,
   "metadata": {},
   "outputs": [],
   "source": [
    "# Compute Emission Probability: word given tag \n",
    "def word_given_tag(word, tag, train_bag = train_wordAndTag_list):\n",
    "    tag_list = [pair for pair in train_bag if pair[1] == tag]\n",
    "    count_tag = len(tag_list)\n",
    "    w_given_tag_list = [pair[0] for pair in tag_list if pair[0] == word]\n",
    "    count_w_given_tag = len(w_given_tag_list)\n",
    "    \n",
    "    return (count_w_given_tag, count_tag)"
   ]
  },
  {
   "cell_type": "code",
   "execution_count": 13,
   "metadata": {},
   "outputs": [
    {
     "name": "stdout",
     "output_type": "stream",
     "text": [
      "\n",
      " large\n",
      "(26, 6109)\n",
      "(0, 12869)\n",
      "(0, 8285) \n",
      "\n",
      "\n",
      " will\n",
      "(0, 3019)\n",
      "(1, 27381)\n",
      "(268, 12869)\n",
      "\n",
      " book\n",
      "(7, 27381)\n",
      "(1, 12869)\n"
     ]
    }
   ],
   "source": [
    "# Try out some examples \n",
    "#'ADV', 'NUM', 'VERB', 'NOUN', 'DET', 'PRT', 'ADP', 'PRON', '.', 'CONJ', 'ADJ', 'X'\n",
    "\n",
    "# large\n",
    "print(\"\\n\", \"large\")\n",
    "print(word_given_tag('large', 'ADJ'))\n",
    "print(word_given_tag('large', 'VERB'))\n",
    "print(word_given_tag('large', 'DET'), \"\\n\")\n",
    "\n",
    "# will\n",
    "print(\"\\n\", \"will\")\n",
    "print(word_given_tag('will', 'ADV'))\n",
    "print(word_given_tag('will', 'NOUN'))\n",
    "print(word_given_tag('will', 'VERB'))\n",
    "\n",
    "# book\n",
    "print(\"\\n\", \"book\")\n",
    "print(word_given_tag('book', 'NOUN'))\n",
    "print(word_given_tag('book', 'VERB'))"
   ]
  },
  {
   "cell_type": "code",
   "execution_count": 14,
   "metadata": {},
   "outputs": [
    {
     "data": {
      "text/plain": [
       "list"
      ]
     },
     "execution_count": 14,
     "metadata": {},
     "output_type": "execute_result"
    }
   ],
   "source": [
    "type(train_wordAndTag_list)"
   ]
  },
  {
   "cell_type": "markdown",
   "metadata": {},
   "source": [
    "### Transition Probabilities"
   ]
  },
  {
   "cell_type": "code",
   "execution_count": 15,
   "metadata": {},
   "outputs": [],
   "source": [
    "# compute tag2 happening given tag1: tag2(t2) given tag1(t1), i.e. Transition Probability\n",
    "\n",
    "def t2_given_t1(t2, t1, train_bag = train_wordAndTag_list):\n",
    "    tags = [pair[1] for pair in train_bag]\n",
    "    count_t1 = len([t for t in tags if t == t1])\n",
    "    count_t2_t1 = 0\n",
    "    for index in range(len(tags)-1):\n",
    "        if tags[index]==t1 and tags[index+1] == t2:\n",
    "            count_t2_t1 += 1\n",
    "    return (count_t2_t1, count_t1)"
   ]
  },
  {
   "cell_type": "code",
   "execution_count": 16,
   "metadata": {},
   "outputs": [
    {
     "name": "stdout",
     "output_type": "stream",
     "text": [
      "(4005, 27381)\n",
      "(5277, 8285)\n",
      "(109, 8285)\n",
      "(0, 12869)\n",
      "(0, 6282)\n",
      "(91, 3354)\n",
      "(253, 2153)\n"
     ]
    }
   ],
   "source": [
    "# Try out some examples\n",
    "#'ADV', 'NUM', 'VERB', 'NOUN', 'DET', 'PRT', 'ADP', 'PRON', '.', 'CONJ', 'ADJ', 'X'\n",
    "\n",
    "print(t2_given_t1(t2='VERB', t1='NOUN'))\n",
    "print(t2_given_t1('NOUN', 'DET'))\n",
    "print(t2_given_t1('ADV', 'DET'))\n",
    "print(t2_given_t1('NNP', 'VERB'))\n",
    "print(t2_given_t1(',', 'X'))\n",
    "print(t2_given_t1('PRT', 'NUM'))\n",
    "print(t2_given_t1('DET', 'CONJ'))"
   ]
  },
  {
   "cell_type": "code",
   "execution_count": 17,
   "metadata": {},
   "outputs": [
    {
     "name": "stdout",
     "output_type": "stream",
     "text": [
      "(1939, 11140)\n",
      "(990, 11140)\n",
      "(2468, 11140)\n",
      "(731, 11140)\n"
     ]
    }
   ],
   "source": [
    "# Please note P(tag|start) is same as P(tag|'.')\n",
    "print(t2_given_t1('DET', '.'))\n",
    "print(t2_given_t1('VERB', '.'))\n",
    "print(t2_given_t1('NOUN', '.'))\n",
    "print(t2_given_t1('PRON', '.'))\n"
   ]
  },
  {
   "cell_type": "code",
   "execution_count": 18,
   "metadata": {},
   "outputs": [],
   "source": [
    "# creating t x t transition matrix of tags\n",
    "# each column is t2, each row is t1\n",
    "# thus M(i, j) represents P(tj given ti)\n",
    "#len of T is 12\n",
    "\n",
    "def buildTransitionProbabilitiesMatrix(tagset, taggedTrainData):\n",
    "    tProbMatrix = np.zeros((len(tagset), len(tagset)), dtype='float32')\n",
    "    for i, t1 in enumerate(list(tagset)):\n",
    "        for j, t2 in enumerate(list(tagset)): \n",
    "            tpTuple = t2_given_t1(t2, t1, taggedTrainData)\n",
    "            tProbMatrix[i, j] = tpTuple[0]/tpTuple[1]\n",
    "    return tProbMatrix\n",
    "\n",
    "tags_matrix = buildTransitionProbabilitiesMatrix(universal_tagset, train_wordAndTag_list)"
   ]
  },
  {
   "cell_type": "code",
   "execution_count": 19,
   "metadata": {},
   "outputs": [
    {
     "data": {
      "text/html": [
       "<div>\n",
       "<style scoped>\n",
       "    .dataframe tbody tr th:only-of-type {\n",
       "        vertical-align: middle;\n",
       "    }\n",
       "\n",
       "    .dataframe tbody tr th {\n",
       "        vertical-align: top;\n",
       "    }\n",
       "\n",
       "    .dataframe thead th {\n",
       "        text-align: right;\n",
       "    }\n",
       "</style>\n",
       "<table border=\"1\" class=\"dataframe\">\n",
       "  <thead>\n",
       "    <tr style=\"text-align: right;\">\n",
       "      <th></th>\n",
       "      <th>ADV</th>\n",
       "      <th>DET</th>\n",
       "      <th>X</th>\n",
       "      <th>PRON</th>\n",
       "      <th>NUM</th>\n",
       "      <th>ADJ</th>\n",
       "      <th>.</th>\n",
       "      <th>PRT</th>\n",
       "      <th>ADP</th>\n",
       "      <th>VERB</th>\n",
       "      <th>CONJ</th>\n",
       "      <th>NOUN</th>\n",
       "    </tr>\n",
       "  </thead>\n",
       "  <tbody>\n",
       "    <tr>\n",
       "      <th>ADV</th>\n",
       "      <td>0.078834</td>\n",
       "      <td>0.068566</td>\n",
       "      <td>0.022855</td>\n",
       "      <td>0.015237</td>\n",
       "      <td>0.030805</td>\n",
       "      <td>0.130176</td>\n",
       "      <td>0.133157</td>\n",
       "      <td>0.013912</td>\n",
       "      <td>0.119907</td>\n",
       "      <td>0.348791</td>\n",
       "      <td>0.006956</td>\n",
       "      <td>0.030805</td>\n",
       "    </tr>\n",
       "    <tr>\n",
       "      <th>DET</th>\n",
       "      <td>0.013156</td>\n",
       "      <td>0.005794</td>\n",
       "      <td>0.045866</td>\n",
       "      <td>0.003500</td>\n",
       "      <td>0.021605</td>\n",
       "      <td>0.205069</td>\n",
       "      <td>0.017622</td>\n",
       "      <td>0.000241</td>\n",
       "      <td>0.009656</td>\n",
       "      <td>0.040072</td>\n",
       "      <td>0.000483</td>\n",
       "      <td>0.636934</td>\n",
       "    </tr>\n",
       "    <tr>\n",
       "      <th>X</th>\n",
       "      <td>0.025947</td>\n",
       "      <td>0.054600</td>\n",
       "      <td>0.074499</td>\n",
       "      <td>0.054760</td>\n",
       "      <td>0.001751</td>\n",
       "      <td>0.017351</td>\n",
       "      <td>0.163642</td>\n",
       "      <td>0.185132</td>\n",
       "      <td>0.145973</td>\n",
       "      <td>0.203598</td>\n",
       "      <td>0.010347</td>\n",
       "      <td>0.062401</td>\n",
       "    </tr>\n",
       "    <tr>\n",
       "      <th>PRON</th>\n",
       "      <td>0.034695</td>\n",
       "      <td>0.010023</td>\n",
       "      <td>0.091750</td>\n",
       "      <td>0.008096</td>\n",
       "      <td>0.007325</td>\n",
       "      <td>0.072475</td>\n",
       "      <td>0.040478</td>\n",
       "      <td>0.011951</td>\n",
       "      <td>0.022359</td>\n",
       "      <td>0.487278</td>\n",
       "      <td>0.005397</td>\n",
       "      <td>0.208173</td>\n",
       "    </tr>\n",
       "    <tr>\n",
       "      <th>NUM</th>\n",
       "      <td>0.002385</td>\n",
       "      <td>0.002982</td>\n",
       "      <td>0.212880</td>\n",
       "      <td>0.001491</td>\n",
       "      <td>0.183661</td>\n",
       "      <td>0.033989</td>\n",
       "      <td>0.118068</td>\n",
       "      <td>0.027132</td>\n",
       "      <td>0.036076</td>\n",
       "      <td>0.018784</td>\n",
       "      <td>0.014013</td>\n",
       "      <td>0.348539</td>\n",
       "    </tr>\n",
       "    <tr>\n",
       "      <th>ADJ</th>\n",
       "      <td>0.004911</td>\n",
       "      <td>0.004911</td>\n",
       "      <td>0.021280</td>\n",
       "      <td>0.000655</td>\n",
       "      <td>0.021116</td>\n",
       "      <td>0.067114</td>\n",
       "      <td>0.065477</td>\n",
       "      <td>0.010804</td>\n",
       "      <td>0.077918</td>\n",
       "      <td>0.012113</td>\n",
       "      <td>0.016860</td>\n",
       "      <td>0.696841</td>\n",
       "    </tr>\n",
       "    <tr>\n",
       "      <th>.</th>\n",
       "      <td>0.052693</td>\n",
       "      <td>0.174057</td>\n",
       "      <td>0.027648</td>\n",
       "      <td>0.065619</td>\n",
       "      <td>0.081239</td>\n",
       "      <td>0.044614</td>\n",
       "      <td>0.093627</td>\n",
       "      <td>0.002513</td>\n",
       "      <td>0.088959</td>\n",
       "      <td>0.088869</td>\n",
       "      <td>0.058528</td>\n",
       "      <td>0.221544</td>\n",
       "    </tr>\n",
       "    <tr>\n",
       "      <th>PRT</th>\n",
       "      <td>0.009465</td>\n",
       "      <td>0.100849</td>\n",
       "      <td>0.013055</td>\n",
       "      <td>0.018277</td>\n",
       "      <td>0.055809</td>\n",
       "      <td>0.084530</td>\n",
       "      <td>0.042102</td>\n",
       "      <td>0.001958</td>\n",
       "      <td>0.020888</td>\n",
       "      <td>0.403068</td>\n",
       "      <td>0.002285</td>\n",
       "      <td>0.247715</td>\n",
       "    </tr>\n",
       "    <tr>\n",
       "      <th>ADP</th>\n",
       "      <td>0.013506</td>\n",
       "      <td>0.323507</td>\n",
       "      <td>0.034302</td>\n",
       "      <td>0.069354</td>\n",
       "      <td>0.062708</td>\n",
       "      <td>0.107621</td>\n",
       "      <td>0.040519</td>\n",
       "      <td>0.001501</td>\n",
       "      <td>0.017044</td>\n",
       "      <td>0.008468</td>\n",
       "      <td>0.000750</td>\n",
       "      <td>0.320720</td>\n",
       "    </tr>\n",
       "    <tr>\n",
       "      <th>VERB</th>\n",
       "      <td>0.081669</td>\n",
       "      <td>0.134976</td>\n",
       "      <td>0.218976</td>\n",
       "      <td>0.035201</td>\n",
       "      <td>0.022612</td>\n",
       "      <td>0.065429</td>\n",
       "      <td>0.034812</td>\n",
       "      <td>0.031937</td>\n",
       "      <td>0.090994</td>\n",
       "      <td>0.167612</td>\n",
       "      <td>0.005362</td>\n",
       "      <td>0.110420</td>\n",
       "    </tr>\n",
       "    <tr>\n",
       "      <th>CONJ</th>\n",
       "      <td>0.054807</td>\n",
       "      <td>0.117510</td>\n",
       "      <td>0.007431</td>\n",
       "      <td>0.060845</td>\n",
       "      <td>0.042267</td>\n",
       "      <td>0.118439</td>\n",
       "      <td>0.034371</td>\n",
       "      <td>0.005109</td>\n",
       "      <td>0.050627</td>\n",
       "      <td>0.156990</td>\n",
       "      <td>0.000464</td>\n",
       "      <td>0.351138</td>\n",
       "    </tr>\n",
       "    <tr>\n",
       "      <th>NOUN</th>\n",
       "      <td>0.017165</td>\n",
       "      <td>0.013330</td>\n",
       "      <td>0.028523</td>\n",
       "      <td>0.004638</td>\n",
       "      <td>0.009642</td>\n",
       "      <td>0.012381</td>\n",
       "      <td>0.240714</td>\n",
       "      <td>0.043789</td>\n",
       "      <td>0.176071</td>\n",
       "      <td>0.146269</td>\n",
       "      <td>0.042475</td>\n",
       "      <td>0.265001</td>\n",
       "    </tr>\n",
       "  </tbody>\n",
       "</table>\n",
       "</div>"
      ],
      "text/plain": [
       "           ADV       DET         X      PRON       NUM       ADJ         .  \\\n",
       "ADV   0.078834  0.068566  0.022855  0.015237  0.030805  0.130176  0.133157   \n",
       "DET   0.013156  0.005794  0.045866  0.003500  0.021605  0.205069  0.017622   \n",
       "X     0.025947  0.054600  0.074499  0.054760  0.001751  0.017351  0.163642   \n",
       "PRON  0.034695  0.010023  0.091750  0.008096  0.007325  0.072475  0.040478   \n",
       "NUM   0.002385  0.002982  0.212880  0.001491  0.183661  0.033989  0.118068   \n",
       "ADJ   0.004911  0.004911  0.021280  0.000655  0.021116  0.067114  0.065477   \n",
       ".     0.052693  0.174057  0.027648  0.065619  0.081239  0.044614  0.093627   \n",
       "PRT   0.009465  0.100849  0.013055  0.018277  0.055809  0.084530  0.042102   \n",
       "ADP   0.013506  0.323507  0.034302  0.069354  0.062708  0.107621  0.040519   \n",
       "VERB  0.081669  0.134976  0.218976  0.035201  0.022612  0.065429  0.034812   \n",
       "CONJ  0.054807  0.117510  0.007431  0.060845  0.042267  0.118439  0.034371   \n",
       "NOUN  0.017165  0.013330  0.028523  0.004638  0.009642  0.012381  0.240714   \n",
       "\n",
       "           PRT       ADP      VERB      CONJ      NOUN  \n",
       "ADV   0.013912  0.119907  0.348791  0.006956  0.030805  \n",
       "DET   0.000241  0.009656  0.040072  0.000483  0.636934  \n",
       "X     0.185132  0.145973  0.203598  0.010347  0.062401  \n",
       "PRON  0.011951  0.022359  0.487278  0.005397  0.208173  \n",
       "NUM   0.027132  0.036076  0.018784  0.014013  0.348539  \n",
       "ADJ   0.010804  0.077918  0.012113  0.016860  0.696841  \n",
       ".     0.002513  0.088959  0.088869  0.058528  0.221544  \n",
       "PRT   0.001958  0.020888  0.403068  0.002285  0.247715  \n",
       "ADP   0.001501  0.017044  0.008468  0.000750  0.320720  \n",
       "VERB  0.031937  0.090994  0.167612  0.005362  0.110420  \n",
       "CONJ  0.005109  0.050627  0.156990  0.000464  0.351138  \n",
       "NOUN  0.043789  0.176071  0.146269  0.042475  0.265001  "
      ]
     },
     "execution_count": 19,
     "metadata": {},
     "output_type": "execute_result"
    }
   ],
   "source": [
    "# convert the matrix to a df for better readability\n",
    "tags_df = pd.DataFrame(tags_matrix, columns = list(universal_tagset), index=list(universal_tagset))\n",
    "tags_df"
   ]
  },
  {
   "cell_type": "code",
   "execution_count": 20,
   "metadata": {},
   "outputs": [
    {
     "data": {
      "image/png": "[encoded data removed]",
      "text/plain": [
       "<Figure size 720x576 with 2 Axes>"
      ]
     },
     "metadata": {
      "needs_background": "light"
     },
     "output_type": "display_data"
    }
   ],
   "source": [
    "# heatmap of tags matrix\n",
    "# T(i, j) indicates P(tag j given tag i)\n",
    "plt.figure(figsize=(10, 8))\n",
    "sns.heatmap(tags_df)\n",
    "plt.show()"
   ]
  },
  {
   "cell_type": "code",
   "execution_count": 21,
   "metadata": {},
   "outputs": [
    {
     "data": {
      "image/png": "[encoded data removed]",
      "text/plain": [
       "<Figure size 720x576 with 2 Axes>"
      ]
     },
     "metadata": {
      "needs_background": "light"
     },
     "output_type": "display_data"
    }
   ],
   "source": [
    "# frequent tags\n",
    "# filter the df to get P(t2, t1) > 0.5\n",
    "tags_frequent = tags_df[tags_df>0.5]\n",
    "plt.figure(figsize=(10, 8))\n",
    "sns.heatmap(tags_frequent)\n",
    "plt.show()"
   ]
  },
  {
   "cell_type": "markdown",
   "metadata": {},
   "source": [
    "#### The probability of Nouns following determinants and adjectives is the highest."
   ]
  },
  {
   "cell_type": "markdown",
   "metadata": {},
   "source": [
    "#### Vanilla Viterbi Heuristic\n",
    "#### Why does the Viterbi algorithm choose a random tag on encountering an unknown word? When the algorithm encounters an unknown word, it gets the count of it which is 0 and the emission probability becomes 0, which makes the state_probability 0. This is repeated for all the Tags for the unknown word and the max of this is 0. The index of the list that contains 0 is first and hence the first tag in T is picked always."
   ]
  },
  {
   "cell_type": "code",
   "execution_count": 22,
   "metadata": {},
   "outputs": [],
   "source": [
    "def Viterbi(words, train_bag = train_wordAndTag_list):\n",
    "    state = []\n",
    "    T = list(set([pair[1] for pair in train_bag]))\n",
    "    \n",
    "    for key, word in enumerate(words):\n",
    "        #initialise list of probability column for a given observation\n",
    "        p = [] \n",
    "        for tag in T:\n",
    "            if key == 0:\n",
    "                transition_p = tags_df.loc['.', tag]\n",
    "            else:\n",
    "                transition_p = tags_df.loc[state[-1], tag]\n",
    "                \n",
    "            # compute emission and state probabilities\n",
    "            emissionNAndD = word_given_tag(words[key], tag)\n",
    "            emission_p = emissionNAndD[0]/emissionNAndD[1]  \n",
    "            state_probability = emission_p * transition_p    \n",
    "            p.append(state_probability)\n",
    "            \n",
    "        pmax = max(p)\n",
    "        # getting state for which probability is maximum\n",
    "        state_max = T[p.index(pmax)] \n",
    "        state.append(state_max)\n",
    "    return list(zip(words, state))"
   ]
  },
  {
   "cell_type": "code",
   "execution_count": 23,
   "metadata": {},
   "outputs": [
    {
     "name": "stdout",
     "output_type": "stream",
     "text": [
      "[('In', 'ADP'), ('1976', 'NUM'), (',', '.'), ('as', 'ADP'), ('a', 'DET'), ('film', 'NOUN'), ('student', 'NOUN'), ('at', 'ADP'), ('the', 'DET'), ('Purchase', 'NOUN'), ('campus', 'NOUN'), ('of', 'ADP'), ('the', 'DET'), ('State', 'NOUN'), ('University', 'NOUN'), ('of', 'ADP'), ('New', 'NOUN'), ('York', 'NOUN'), (',', '.'), ('Mr.', 'NOUN'), ('Lane', 'NOUN'), ('shot', 'VERB'), ('``', '.'), ('A', 'DET'), ('Place', 'NOUN'), ('in', 'ADP'), ('Time', 'NOUN'), (',', '.'), (\"''\", '.'), ('a', 'DET'), ('36-minute', 'ADJ'), ('black-and-white', 'ADJ'), ('film', 'NOUN'), ('about', 'ADP'), ('a', 'DET'), ('sketch', 'NOUN'), ('artist', 'NOUN'), (',', '.'), ('a', 'DET'), ('man', 'NOUN'), ('of', 'ADP'), ('the', 'DET'), ('streets', 'NOUN'), ('.', '.'), ('``', '.'), ('At', 'ADP'), ('the', 'DET'), ('prices', 'NOUN'), ('0', 'X'), ('we', 'PRON'), ('were', 'VERB'), ('charged', 'VERB'), ('*-78', 'X'), ('*T*-1', 'X'), (',', '.'), ('there', 'DET'), ('should', 'VERB'), ('have', 'VERB'), ('been', 'VERB'), ('some', 'DET'), ('return', 'NOUN'), ('for', 'ADP'), ('the', 'DET'), ('dollar', 'NOUN'), ('.', '.'), ('In', 'ADP'), ('addition', 'NOUN'), (',', '.'), ('a', 'DET'), ('big', 'ADJ'), ('loan', 'NOUN'), ('that', 'ADP'), ('First', 'NOUN'), ('Boston', 'NOUN'), ('made', 'VERB'), ('*T*-2', 'X'), ('to', 'PRT'), ('Ohio', 'NOUN'), ('Mattress', 'NOUN'), ('Co', 'NOUN'), ('.', '.'), ('was', 'VERB'), (\"n't\", 'ADV'), ('repaid', 'VERB'), ('on', 'ADP'), ('time', 'NOUN'), ('when', 'ADV'), ('its', 'PRON'), ('$', '.'), ('450', 'NUM'), ('million', 'NUM'), ('*U*', 'X'), ('junk', 'NOUN'), ('financing', 'NOUN'), ('for', 'ADP'), ('a', 'DET'), ('buy-out', 'NOUN'), ('of', 'ADP'), ('the', 'DET'), ('bedding', 'NOUN'), ('company', 'NOUN'), ('was', 'VERB'), ('withdrawn', 'VERB'), ('*-1', 'X'), ('*T*-3', 'X'), ('.', '.'), ('The', 'DET'), ('Treasury', 'NOUN'), ('said', 'VERB'), ('0', 'X'), ('the', 'DET'), ('U.S.', 'NOUN'), ('will', 'VERB'), ('default', 'VERB'), ('on', 'ADP'), ('Nov.', 'NOUN'), ('9', 'NUM'), ('if', 'ADP'), ('Congress', 'NOUN'), ('does', 'VERB'), (\"n't\", 'ADV'), ('act', 'VERB'), ('by', 'ADP'), ('then', 'ADV'), ('.', '.'), ('Meanwhile', 'ADV'), (',', '.'), ('many', 'ADJ'), ('market', 'NOUN'), ('watchers', 'NOUN'), ('say', 'VERB'), ('0', 'X'), ('recent', 'ADJ'), ('dividend', 'NOUN'), ('trends', 'NOUN'), ('raise', 'VERB'), ('another', 'DET'), ('warning', 'NOUN'), ('flag', 'NOUN'), (':', '.'), ('While', 'ADP'), ('dividends', 'NOUN'), ('have', 'VERB'), ('risen', 'VERB'), ('smartly', 'ADV'), (',', '.'), ('their', 'PRON'), ('expansion', 'NOUN'), ('has', 'VERB'), (\"n't\", 'ADV'), ('kept', 'VERB'), ('pace', 'NOUN'), ('with', 'ADP'), ('even', 'ADJ'), ('stronger', 'ADJ'), ('advances', 'NOUN'), ('in', 'ADP'), ('stock', 'NOUN'), ('prices', 'NOUN'), ('.', '.'), ('At', 'ADP'), ('least', 'ADJ'), (',', '.'), ('that', 'DET'), (\"'s\", 'VERB'), ('the', 'DET'), ('way', 'NOUN'), ('0', 'X'), ('it', 'PRON'), ('was', 'VERB'), ('reported', 'VERB'), ('*-32', 'X'), ('*T*-1', 'X'), ('.', '.'), ('However', 'ADV'), (',', '.'), ('some', 'DET'), ('workers', 'NOUN'), ('have', 'VERB'), (\"n't\", 'ADV'), ('yet', 'ADV'), ('accepted', 'VERB'), ('the', 'DET'), ('new', 'ADJ'), ('contract', 'NOUN'), ('and', 'CONJ'), ('are', 'VERB'), ('continuing', 'VERB'), ('negotiations', 'NOUN'), (',', '.'), ('the', 'DET'), ('analyst', 'NOUN'), ('said', 'VERB'), ('0', 'X'), ('*T*-1', 'X'), ('.', '.'), ('Until', 'ADP'), ('such', 'ADJ'), ('action', 'NOUN'), ('takes', 'VERB'), ('places', 'NOUN'), (',', '.'), ('the', 'DET'), ('Treasury', 'NOUN'), ('has', 'VERB'), ('no', 'DET'), ('ability', 'NOUN'), ('*', 'X'), ('to', 'PRT'), ('issue', 'VERB'), ('new', 'ADJ'), ('debt', 'NOUN'), ('of', 'ADP'), ('any', 'DET'), ('kind', 'NOUN'), ('.', '.'), ('Excision', 'NOUN'), ('of', 'ADP'), ('appropriations', 'NOUN'), ('riders', 'NOUN'), ('that', 'DET'), ('*T*-1', 'X'), ('trespass', 'VERB'), ('on', 'ADP'), ('the', 'DET'), ('president', 'NOUN'), (\"'s\", 'PRT'), ('duties', 'NOUN'), ('and', 'CONJ'), ('prerogative', 'NOUN'), ('under', 'ADP'), ('Article', 'NOUN'), ('II', 'NOUN'), ('would', 'VERB'), ('be', 'VERB'), ('different', 'ADJ'), ('from', 'ADP'), ('the', 'DET'), ('line-item', 'ADJ'), ('veto', 'NOUN'), ('.', '.'), ('Mrs.', 'NOUN'), ('Yeargin', 'NOUN'), ('declined', 'VERB'), ('.', '.'), ('American', 'NOUN'), ('Telephone', 'NOUN'), ('&', 'CONJ'), ('Telegraph', 'NOUN'), (\"'s\", 'PRT'), ('General', 'NOUN'), ('Business', 'NOUN'), ('Systems', 'NOUN'), ('division', 'NOUN'), (',', '.'), ('New', 'NOUN'), ('York', 'NOUN'), (',', '.'), ('awarded', 'VERB'), ('the', 'DET'), ('ad', 'NOUN'), ('account', 'NOUN'), ('for', 'ADP'), ('its', 'PRON'), ('Fax', 'NOUN'), ('product', 'NOUN'), ('line', 'NOUN'), ('to', 'PRT'), ('Ogilvy', 'NOUN'), ('&', 'CONJ'), ('Mather', 'NOUN'), (',', '.'), ('New', 'NOUN'), ('York', 'NOUN'), (',', '.'), ('a', 'DET'), ('WPP', 'NOUN'), ('Group', 'NOUN'), ('agency', 'NOUN'), ('.', '.'), ('However', 'ADV'), (',', '.'), ('after', 'ADP'), ('two', 'NUM'), ('meetings', 'NOUN'), ('with', 'ADP'), ('the', 'DET'), ('Soviets', 'NOUN'), (',', '.'), ('a', 'DET'), ('State', 'NOUN'), ('Department', 'NOUN'), ('spokesman', 'NOUN'), ('said', 'VERB'), ('that', 'ADP'), ('it', 'PRON'), ('*EXP*-1', 'X'), (\"'s\", 'VERB'), ('``', '.'), ('too', 'ADV'), ('early', 'ADV'), ('*', 'X'), ('to', 'PRT'), ('say', 'VERB'), (\"''\", '.'), ('whether', 'ADP'), ('that', 'DET'), ('will', 'VERB'), ('happen', 'VERB'), ('.', '.'), ('When', 'ADV'), ('the', 'DET'), ('stock', 'NOUN'), ('market', 'NOUN'), ('dropped', 'VERB'), ('nearly', 'ADV'), ('7', 'NUM'), ('%', 'NOUN'), ('Oct.', 'NOUN'), ('13', 'NUM'), ('*T*-1', 'X'), (',', '.'), ('for', 'ADP'), ('instance', 'NOUN'), (',', '.'), ('the', 'DET'), ('Mexico', 'NOUN'), ('Fund', 'NOUN'), ('plunged', 'VERB'), ('about', 'ADV'), ('18', 'NUM'), ('%', 'NOUN'), ('and', 'CONJ'), ('the', 'DET'), ('Spain', 'NOUN'), ('Fund', 'NOUN'), ('fell', 'VERB'), ('16', 'NUM'), ('%', 'NOUN'), ('.', '.'), ('McDermott', 'NOUN'), ('International', 'NOUN'), ('Inc.', 'NOUN'), ('said', 'VERB'), ('0', 'X'), ('its', 'PRON'), ('Babcock', 'NOUN'), ('&', 'CONJ'), ('Wilcox', 'NOUN'), ('unit', 'NOUN'), ('completed', 'VERB'), ('the', 'DET'), ('sale', 'NOUN'), ('of', 'ADP'), ('its', 'PRON'), ('Bailey', 'NOUN'), ('Controls', 'NOUN'), ('Operations', 'NOUN'), ('to', 'PRT'), ('Finmeccanica', 'NOUN'), ('S.p', 'NOUN'), ('.', '.'), ('A.', 'NOUN'), ('for', 'ADP'), ('$', '.'), ('295', 'NUM'), ('million', 'NUM'), ('*U*', 'X'), ('.', '.'), ('When', 'ADV'), ('the', 'DET'), ('stock', 'NOUN'), ('market', 'NOUN'), ('dropped', 'VERB'), ('nearly', 'ADV'), ('7', 'NUM'), ('%', 'NOUN'), ('Oct.', 'NOUN'), ('13', 'NUM'), ('*T*-1', 'X'), (',', '.'), ('for', 'ADP'), ('instance', 'NOUN'), (',', '.'), ('the', 'DET'), ('Mexico', 'NOUN'), ('Fund', 'NOUN'), ('plunged', 'VERB'), ('about', 'ADV'), ('18', 'NUM'), ('%', 'NOUN'), ('and', 'CONJ'), ('the', 'DET'), ('Spain', 'NOUN'), ('Fund', 'NOUN'), ('fell', 'VERB'), ('16', 'NUM'), ('%', 'NOUN'), ('.', '.'), ('Mr.', 'NOUN'), ('Martin', 'NOUN'), ('has', 'VERB'), ('increased', 'VERB'), ('prices', 'NOUN'), ('on', 'ADP'), ('some', 'DET'), ('wines', 'NOUN'), ('-LRB-', '.'), ('like', 'ADP'), ('Grgich', 'NOUN'), ('Hills', 'NOUN'), ('Chardonnay', 'NOUN'), (',', '.'), ('now', 'ADV'), ('$', '.'), ('32', 'NUM'), ('*U*', 'X'), ('-RRB-', '.'), ('just', 'ADV'), ('*-1', 'X'), ('to', 'PRT'), ('slow', 'VERB'), ('down', 'PRT'), ('movement', 'NOUN'), (',', '.'), ('but', 'CONJ'), ('he', 'PRON'), ('is', 'VERB'), ('beginning', 'VERB'), ('*-2', 'X'), ('to', 'PRT'), ('see', 'VERB'), ('some', 'DET'), ('resistance', 'NOUN'), ('to', 'PRT'), ('high-priced', 'ADJ'), ('red', 'ADJ'), ('Burgundies', 'NOUN'), ('and', 'CONJ'), ('Cabernets', 'NOUN'), ('and', 'CONJ'), ('Chardonnays', 'NOUN'), ('in', 'ADP'), ('the', 'DET'), ('$', '.'), ('30', 'NUM'), ('to', 'PRT'), ('$', '.'), ('40', 'NUM'), ('*U*', 'X'), ('range', 'NOUN'), ('.', '.'), ('Mr.', 'NOUN'), ('Sonnett', 'NOUN'), ('said', 'VERB'), ('that', 'ADP'), ('clients', 'NOUN'), ('who', 'PRON'), ('*T*-130', 'X'), ('pay', 'VERB'), ('cash', 'NOUN'), ('may', 'VERB'), ('include', 'VERB'), ('alleged', 'VERB'), ('drug', 'NOUN'), ('dealers', 'NOUN'), ('who', 'PRON'), ('*T*-131', 'X'), ('do', 'VERB'), (\"n't\", 'ADV'), ('have', 'VERB'), ('domestic', 'ADJ'), ('bank', 'NOUN'), ('accounts', 'NOUN'), ('.', '.'), ('Profit', 'NOUN'), ('for', 'ADP'), ('the', 'DET'), ('nine', 'NUM'), ('months', 'NOUN'), ('jumped', 'VERB'), ('21', 'NUM'), ('%', 'NOUN'), ('to', 'PRT'), ('$', '.'), ('721', 'NUM'), ('million', 'NUM'), ('*U*', 'X'), (',', '.'), ('or', 'CONJ'), ('$', '.'), ('2.62', 'NUM'), ('*U*', 'X'), ('a', 'DET'), ('share', 'NOUN'), (',', '.'), ('from', 'ADP'), ('$', '.'), ('598', 'NUM'), ('million', 'NUM'), ('*U*', 'X'), (',', '.'), ('or', 'CONJ'), ('$', '.'), ('2.07', 'NUM'), ('*U*', 'X'), ('a', 'DET'), ('share', 'NOUN'), ('.', '.'), ('Although', 'ADP'), ('takeover', 'NOUN'), ('experts', 'NOUN'), ('said', 'VERB'), ('0', 'X'), ('they', 'PRON'), ('doubted', 'VERB'), ('0', 'X'), ('Mr.', 'NOUN'), ('Steinberg', 'NOUN'), ('will', 'VERB'), ('make', 'VERB'), ('a', 'DET'), ('bid', 'NOUN'), ('by', 'ADP'), ('himself', 'PRON'), (',', '.'), ('the', 'DET'), ('application', 'NOUN'), ('by', 'ADP'), ('his', 'PRON'), ('Reliance', 'NOUN'), ('Group', 'NOUN'), ('Holdings', 'NOUN'), ('Inc.', 'NOUN'), ('could', 'VERB'), ('signal', 'VERB'), ('his', 'PRON'), ('interest', 'NOUN'), ('in', 'ADP'), ('*', 'X'), ('helping', 'VERB'), ('*-1', 'X'), ('revive', 'VERB'), ('a', 'DET'), ('failed', 'VERB'), ('labor-management', 'ADJ'), ('bid', 'NOUN'), ('.', '.'), ('Viacom', 'NOUN'), ('denies', 'VERB'), ('0', 'X'), ('it', 'PRON'), (\"'s\", 'VERB'), ('using', 'VERB'), ('pressure', 'NOUN'), ('tactics', 'NOUN'), ('.', '.'), ('For', 'ADP'), ('an', 'DET'), ('American', 'ADJ'), ('reader', 'NOUN'), (',', '.'), ('part', 'NOUN'), ('of', 'ADP'), ('the', 'DET'), ('charm', 'NOUN'), ('of', 'ADP'), ('this', 'DET'), ('engaging', 'ADJ'), ('novel', 'NOUN'), ('should', 'VERB'), ('come', 'VERB'), ('in', 'ADP'), ('*', 'X'), ('recognizing', 'VERB'), ('that', 'ADP'), ('Japan', 'NOUN'), ('is', 'VERB'), (\"n't\", 'ADV'), ('the', 'DET'), ('buttoned-down', 'ADJ'), ('society', 'NOUN'), ('of', 'ADP'), ('contemporary', 'ADJ'), ('American', 'ADJ'), ('lore', 'NOUN'), ('.', '.'), ('In', 'ADP'), ('Washington', 'NOUN'), (',', '.'), ('House', 'NOUN'), ('aides', 'NOUN'), ('said', 'VERB'), ('0', 'X'), ('Mr.', 'NOUN'), ('Phelan', 'NOUN'), ('told', 'VERB'), ('congressmen', 'NOUN'), ('that', 'ADP'), ('the', 'DET'), ('collar', 'NOUN'), (',', '.'), ('which', 'DET'), ('*T*-213', 'X'), ('banned', 'VERB'), ('program', 'NOUN'), ('trades', 'NOUN'), ('through', 'ADP'), ('the', 'DET'), ('Big', 'NOUN'), ('Board', 'NOUN'), (\"'s\", 'PRT'), ('computer', 'NOUN'), ('when', 'ADV'), ('the', 'DET'), ('Dow', 'NOUN'), ('Jones', 'NOUN'), ('Industrial', 'NOUN'), ('Average', 'NOUN'), ('moved', 'VERB'), ('50', 'NUM'), ('points', 'NOUN'), ('*T*-1', 'X'), (',', '.'), ('did', 'VERB'), (\"n't\", 'ADV'), ('work', 'VERB'), ('well', 'ADV'), ('.', '.'), ('The', 'DET'), ('Treasury', 'NOUN'), ('said', 'VERB'), ('0', 'X'), ('the', 'DET'), ('U.S.', 'NOUN'), ('will', 'VERB'), ('default', 'VERB'), ('on', 'ADP'), ('Nov.', 'NOUN'), ('9', 'NUM'), ('if', 'ADP'), ('Congress', 'NOUN'), ('does', 'VERB'), (\"n't\", 'ADV'), ('act', 'VERB'), ('by', 'ADP'), ('then', 'ADV'), ('.', '.'), ('Moody', 'NOUN'), (\"'s\", 'PRT'), ('said', 'VERB'), ('0', 'X'), ('those', 'DET'), ('returns', 'NOUN'), ('compare', 'VERB'), ('with', 'ADP'), ('a', 'DET'), ('3.8', 'NUM'), ('%', 'NOUN'), ('total', 'ADJ'), ('return', 'NOUN'), ('for', 'ADP'), ('longer-term', 'ADJ'), ('Treasury', 'NOUN'), ('notes', 'NOUN'), ('and', 'CONJ'), ('bonds', 'NOUN'), ('.', '.'), ('Those', 'DET'), ('countries', 'NOUN'), ('--', '.'), ('including', 'ADP'), ('Japan', 'NOUN'), (',', '.'), ('Italy', 'NOUN'), (',', '.'), ('Canada', 'NOUN'), (',', '.'), ('Greece', 'NOUN'), ('and', 'CONJ'), ('Spain', 'NOUN'), ('--', '.'), ('are', 'VERB'), ('still', 'ADV'), ('of', 'ADP'), ('some', 'DET'), ('concern', 'NOUN'), ('to', 'PRT'), ('the', 'DET'), ('U.S.', 'NOUN'), ('but', 'CONJ'), ('are', 'VERB'), ('deemed', 'VERB'), ('*-1', 'X'), ('to', 'PRT'), ('pose', 'VERB'), ('less-serious', 'ADJ'), ('problems', 'NOUN'), ('for', 'ADP'), ('American', 'ADJ'), ('patent', 'NOUN'), ('and', 'CONJ'), ('copyright', 'NOUN'), ('owners', 'NOUN'), ('than', 'ADP'), ('those', 'DET'), ('on', 'ADP'), ('the', 'DET'), ('``', '.'), ('priority', 'NOUN'), (\"''\", '.'), ('list', 'NOUN'), ('.', '.'), ('``', '.'), ('At', 'ADP'), ('the', 'DET'), ('prices', 'NOUN'), ('0', 'X'), ('we', 'PRON'), ('were', 'VERB'), ('charged', 'VERB'), ('*-78', 'X'), ('*T*-1', 'X'), (',', '.'), ('there', 'DET'), ('should', 'VERB'), ('have', 'VERB'), ('been', 'VERB'), ('some', 'DET'), ('return', 'NOUN'), ('for', 'ADP'), ('the', 'DET'), ('dollar', 'NOUN'), ('.', '.'), ('Manufacturers', 'NOUN'), (\"'\", 'PRT'), ('backlogs', 'NOUN'), ('of', 'ADP'), ('unfilled', 'ADJ'), ('orders', 'NOUN'), ('rose', 'VERB'), ('0.5', 'NUM'), ('%', 'NOUN'), ('in', 'ADP'), ('September', 'NOUN'), ('to', 'PRT'), ('$', '.'), ('497.34', 'NUM'), ('billion', 'NUM'), ('*U*', 'X'), (',', '.'), ('*-3', 'X'), ('helped', 'VERB'), ('*-2', 'X'), ('by', 'ADP'), ('strength', 'NOUN'), ('in', 'ADP'), ('the', 'DET'), ('defense', 'NOUN'), ('capital', 'NOUN'), ('goods', 'NOUN'), ('sector', 'NOUN'), ('.', '.'), ('Still', 'ADV'), ('unresolved', 'ADJ'), ('is', 'VERB'), ('*T*-1', 'X'), ('Sony', 'NOUN'), (\"'s\", 'PRT'), ('effort', 'NOUN'), ('*', 'X'), ('to', 'PRT'), ('hire', 'VERB'), ('producers', 'NOUN'), ('Jon', 'NOUN'), ('Peters', 'NOUN'), ('and', 'CONJ'), ('Peter', 'NOUN'), ('Guber', 'NOUN'), ('to', 'PRT'), ('run', 'VERB'), ('the', 'DET'), ('studio', 'NOUN'), ('.', '.'), ('The', 'DET'), ('purchase', 'NOUN'), ('price', 'NOUN'), ('includes', 'VERB'), ('two', 'NUM'), ('ancillary', 'ADJ'), ('companies', 'NOUN'), ('.', '.'), ('She', 'PRON'), ('won', 'VERB'), ('grant', 'NOUN'), ('money', 'NOUN'), ('for', 'ADP'), ('the', 'DET'), ('school', 'NOUN'), (',', '.'), ('advised', 'VERB'), ('cheerleaders', 'NOUN'), (',', '.'), ('ran', 'VERB'), ('the', 'DET'), ('pep', 'NOUN'), ('club', 'NOUN'), (',', '.'), ('proposed', 'VERB'), ('and', 'CONJ'), ('taught', 'VERB'), ('a', 'DET'), ('new', 'ADJ'), ('``', '.'), ('Cultural', 'ADJ'), ('Literacy', 'NOUN'), (\"''\", '.'), ('class', 'NOUN'), ('in', 'ADP'), ('Western', 'ADJ'), ('Civilization', 'NOUN'), ('and', 'CONJ'), ('was', 'VERB'), ('chosen', 'VERB'), ('*-1', 'X'), ('by', 'ADP'), ('the', 'DET'), ('school', 'NOUN'), ('PTA', 'NOUN'), ('as', 'ADP'), ('``', '.'), ('Teacher', 'NOUN'), ('of', 'ADP'), ('the', 'DET'), ('Year', 'NOUN'), ('.', '.'), (\"''\", '.'), ('Shearson', 'NOUN'), ('Lehman', 'NOUN'), ('Hutton', 'NOUN'), ('Inc.', 'NOUN'), (',', '.'), ('New', 'NOUN'), ('York', 'NOUN'), (',', '.'), ('which', 'DET'), ('*T*-251', 'X'), ('is', 'VERB'), ('62%-owned', 'ADJ'), ('*-1', 'X'), ('by', 'ADP'), ('American', 'NOUN'), ('Express', 'NOUN'), ('Co.', 'NOUN'), (',', '.'), ('consented', 'VERB'), ('to', 'PRT'), ('a', 'DET'), ('$', '.'), ('10,000', 'NUM'), ('*U*', 'X'), ('fine', 'NOUN'), ('.', '.'), ('Mrs.', 'NOUN'), ('Yeargin', 'NOUN'), (\"'s\", 'PRT'), ('extra', 'ADJ'), ('work', 'NOUN'), ('was', 'VERB'), ('also', 'ADV'), ('helping', 'VERB'), ('her', 'PRON'), ('earn', 'VERB'), ('points', 'NOUN'), ('in', 'ADP'), ('the', 'DET'), ('state', 'NOUN'), (\"'s\", 'PRT'), ('incentive-bonus', 'NOUN'), ('program', 'NOUN'), ('.', '.'), ('If', 'ADP'), ('not', 'ADV'), ('for', 'ADP'), ('a', 'DET'), ('59.6', 'NUM'), ('%', 'NOUN'), ('surge', 'NOUN'), ('in', 'ADP'), ('orders', 'NOUN'), ('for', 'ADP'), ('capital', 'NOUN'), ('goods', 'NOUN'), ('by', 'ADP'), ('defense', 'NOUN'), ('contractors', 'NOUN'), (',', '.'), ('factory', 'NOUN'), ('orders', 'NOUN'), ('would', 'VERB'), ('have', 'VERB'), ('fallen', 'VERB'), ('2.1', 'NUM'), ('%', 'NOUN'), ('.', '.'), ('The', 'DET'), ('Czech', 'ADJ'), ('dam', 'NOUN'), ('ca', 'VERB'), (\"n't\", 'ADV'), ('be', 'VERB'), ('operated', 'VERB'), ('*-69', 'X'), ('solely', 'ADV'), ('at', 'ADP'), ('peak', 'NOUN'), ('periods', 'NOUN'), ('without', 'ADP'), ('the', 'DET'), ('Nagymaros', 'NOUN'), ('project', 'NOUN'), ('.', '.'), ('A', 'DET'), ('study', 'NOUN'), ('by', 'ADP'), ('Tulane', 'NOUN'), ('Prof.', 'NOUN'), ('James', 'NOUN'), ('Wright', 'NOUN'), ('says', 'VERB'), ('0', 'X'), ('homelessness', 'NOUN'), ('is', 'VERB'), ('due', 'ADJ'), ('to', 'PRT'), ('a', 'DET'), ('complex', 'ADJ'), ('array', 'NOUN'), ('of', 'ADP'), ('problems', 'NOUN'), (',', '.'), ('with', 'ADP'), ('the', 'DET'), ('common', 'ADJ'), ('thread', 'NOUN'), ('of', 'ADP'), ('poverty', 'NOUN'), ('.', '.'), ('``', '.'), ('The', 'DET'), ('way', 'NOUN'), ('that', 'ADP'), ('we', 'PRON'), (\"'ve\", 'VERB'), ('been', 'VERB'), ('managing', 'VERB'), ('Campbell', 'NOUN'), ('U.S.A.', 'NOUN'), ('*T*-2', 'X'), ('can', 'VERB'), ('hopefully', 'ADV'), ('spread', 'VERB'), ('to', 'PRT'), ('other', 'ADJ'), ('areas', 'NOUN'), ('of', 'ADP'), ('the', 'DET'), ('company', 'NOUN'), (',', '.'), (\"''\", '.'), ('Mr.', 'NOUN'), ('Baum', 'NOUN'), ('said', 'VERB'), ('*T*-1', 'X'), ('.', '.'), ('Heritage', 'NOUN'), ('owns', 'VERB'), ('and', 'CONJ'), ('operates', 'VERB'), ('television', 'NOUN'), ('and', 'CONJ'), ('radio', 'NOUN'), ('stations', 'NOUN'), ('and', 'CONJ'), ('in-store', 'ADJ'), ('advertising', 'NOUN'), ('and', 'CONJ'), ('promotion', 'NOUN'), ('programs', 'NOUN'), ('.', '.'), ('$', '.'), ('130', 'NUM'), ('million', 'NUM'), ('*U*', 'X'), ('of', 'ADP'), ('general', 'ADJ'), ('obligation', 'NOUN'), ('distributable', 'ADJ'), ('state', 'NOUN'), ('aid', 'NOUN'), ('bonds', 'NOUN'), ('due', 'ADJ'), ('1991-2000', 'NUM'), ('and', 'CONJ'), ('2009', 'NUM'), (',', '.'), ('tentatively', 'ADV'), ('priced', 'VERB'), ('*', 'X'), ('by', 'ADP'), ('a', 'DET'), ('Chemical', 'NOUN'), ('Securities', 'NOUN'), ('Inc.', 'NOUN'), ('group', 'NOUN'), ('*', 'X'), ('to', 'PRT'), ('yield', 'VERB'), ('from', 'ADP'), ('6.20', 'NUM'), ('%', 'NOUN'), ('in', 'ADP'), ('1991', 'NUM'), ('to', 'PRT'), ('7.272', 'NUM'), ('%', 'NOUN'), ('in', 'ADP'), ('2009', 'NUM'), ('.', '.'), ('Several', 'ADJ'), ('candidates', 'NOUN'), ('have', 'VERB'), ('withdrawn', 'VERB'), ('their', 'PRON'), ('names', 'NOUN'), ('from', 'ADP'), ('consideration', 'NOUN'), ('after', 'ADP'), ('administration', 'NOUN'), ('officials', 'NOUN'), ('asked', 'VERB'), ('them', 'PRON'), ('for', 'ADP'), ('their', 'PRON'), ('views', 'NOUN'), ('on', 'ADP'), ('abortion', 'NOUN'), ('and', 'CONJ'), ('fetal-tissue', 'ADJ'), ('transplants', 'NOUN'), ('.', '.'), ('Merchant', 'NOUN'), ('banking', 'NOUN'), (',', '.'), ('where', 'ADV'), ('firms', 'NOUN'), ('commit', 'VERB'), ('their', 'PRON'), ('own', 'ADJ'), ('money', 'NOUN'), ('*T*-1', 'X'), (',', '.'), ('``', '.'), ('is', 'VERB'), ('getting', 'VERB'), ('riskier', 'ADJ'), (',', '.'), ('and', 'CONJ'), ('there', 'DET'), (\"'s\", 'VERB'), ('less', 'ADJ'), ('of', 'ADP'), ('it', 'PRON'), ('0', 'X'), ('*T*-2', 'X'), ('to', 'PRT'), ('go', 'VERB'), ('around', 'ADP'), ('.', '.'), (\"''\", '.'), ('Mr.', 'NOUN'), ('Gillespie', 'NOUN'), ('at', 'ADP'), ('Viacom', 'NOUN'), ('says', 'VERB'), ('0', 'X'), ('the', 'DET'), ('ratings', 'NOUN'), ('are', 'VERB'), ('rising', 'VERB'), ('.', '.'), ('Sales', 'NOUN'), ('by', 'ADP'), ('these', 'DET'), ('subsidiaries', 'NOUN'), ('in', 'ADP'), ('the', 'DET'), ('fiscal', 'ADJ'), ('year', 'NOUN'), ('ending', 'VERB'), ('last', 'ADJ'), ('March', 'NOUN'), ('were', 'VERB'), ('more', 'ADJ'), ('than', 'ADP'), ('$', '.'), ('17', 'NUM'), ('billion', 'NUM'), ('*U*', 'X'), ('.', '.'), ('In', 'ADP'), ('some', 'DET'), ('cases', 'NOUN'), (',', '.'), ('the', 'DET'), ('IRS', 'NOUN'), ('asked', 'VERB'), ('for', 'ADP'), ('information', 'NOUN'), ('dating', 'VERB'), ('back', 'ADV'), ('to', 'PRT'), ('forms', 'NOUN'), ('0', 'X'), ('it', 'PRON'), ('received', 'VERB'), ('*T*-1', 'X'), ('in', 'ADP'), ('1985', 'NUM'), ('.', '.'), ('Shearson', 'NOUN'), ('Lehman', 'NOUN'), ('Hutton', 'NOUN'), ('Inc.', 'NOUN'), (',', '.'), ('New', 'NOUN'), ('York', 'NOUN'), (',', '.'), ('which', 'DET'), ('*T*-251', 'X'), ('is', 'VERB'), ('62%-owned', 'ADJ'), ('*-1', 'X'), ('by', 'ADP'), ('American', 'NOUN'), ('Express', 'NOUN'), ('Co.', 'NOUN'), (',', '.'), ('consented', 'VERB'), ('to', 'PRT'), ('a', 'DET'), ('$', '.'), ('10,000', 'NUM'), ('*U*', 'X'), ('fine', 'NOUN'), ('.', '.'), ('Mr.', 'NOUN'), ('Sonnett', 'NOUN'), ('said', 'VERB'), ('that', 'ADP'), ('clients', 'NOUN'), ('who', 'PRON'), ('*T*-130', 'X'), ('pay', 'VERB'), ('cash', 'NOUN'), ('may', 'VERB'), ('include', 'VERB'), ('alleged', 'VERB'), ('drug', 'NOUN'), ('dealers', 'NOUN'), ('who', 'PRON'), ('*T*-131', 'X'), ('do', 'VERB'), (\"n't\", 'ADV'), ('have', 'VERB'), ('domestic', 'ADJ'), ('bank', 'NOUN'), ('accounts', 'NOUN'), ('.', '.'), ('But', 'CONJ'), ('like', 'ADP'), ('other', 'ADJ'), ('thrifts', 'NOUN'), (',', '.'), ('it', 'PRON'), (\"'s\", 'VERB'), ('expected', 'VERB'), ('*-1', 'X'), ('to', 'PRT'), ('seek', 'VERB'), ('regulators', 'NOUN'), (\"'\", 'PRT'), ('consent', 'NOUN'), ('*', 'X'), ('to', 'PRT'), ('create', 'VERB'), ('a', 'DET'), ('distinct', 'ADJ'), ('junk-bond', 'NOUN'), ('entity', 'NOUN'), ('.', '.'), ('Although', 'ADP'), ('takeover', 'NOUN'), ('experts', 'NOUN'), ('said', 'VERB'), ('0', 'X'), ('they', 'PRON'), ('doubted', 'VERB'), ('0', 'X'), ('Mr.', 'NOUN'), ('Steinberg', 'NOUN'), ('will', 'VERB'), ('make', 'VERB'), ('a', 'DET'), ('bid', 'NOUN'), ('by', 'ADP'), ('himself', 'PRON'), (',', '.'), ('the', 'DET'), ('application', 'NOUN'), ('by', 'ADP'), ('his', 'PRON'), ('Reliance', 'NOUN'), ('Group', 'NOUN'), ('Holdings', 'NOUN'), ('Inc.', 'NOUN'), ('could', 'VERB'), ('signal', 'VERB'), ('his', 'PRON'), ('interest', 'NOUN'), ('in', 'ADP'), ('*', 'X'), ('helping', 'VERB'), ('*-1', 'X'), ('revive', 'VERB'), ('a', 'DET'), ('failed', 'VERB'), ('labor-management', 'ADJ'), ('bid', 'NOUN'), ('.', '.'), ('American', 'NOUN'), ('Telephone', 'NOUN'), ('&', 'CONJ'), ('Telegraph', 'NOUN'), (\"'s\", 'PRT'), ('General', 'NOUN'), ('Business', 'NOUN'), ('Systems', 'NOUN'), ('division', 'NOUN'), (',', '.'), ('New', 'NOUN'), ('York', 'NOUN'), (',', '.'), ('awarded', 'VERB'), ('the', 'DET'), ('ad', 'NOUN'), ('account', 'NOUN'), ('for', 'ADP'), ('its', 'PRON'), ('Fax', 'NOUN'), ('product', 'NOUN'), ('line', 'NOUN'), ('to', 'PRT'), ('Ogilvy', 'NOUN'), ('&', 'CONJ'), ('Mather', 'NOUN'), (',', '.'), ('New', 'NOUN'), ('York', 'NOUN'), (',', '.'), ('a', 'DET'), ('WPP', 'NOUN'), ('Group', 'NOUN'), ('agency', 'NOUN'), ('.', '.'), ('Ralston', 'NOUN'), ('attributed', 'VERB'), ('its', 'PRON'), ('fourth-quarter', 'NOUN'), ('slump', 'NOUN'), ('partly', 'ADV'), ('to', 'PRT'), ('higher', 'ADJ'), ('costs', 'NOUN'), ('of', 'ADP'), ('ingredients', 'NOUN'), ('in', 'ADP'), ('the', 'DET'), ('pet', 'NOUN'), ('food', 'NOUN'), ('business', 'NOUN'), ('as', 'ADV'), ('well', 'ADV'), ('as', 'ADP'), ('competitive', 'ADJ'), ('pressures', 'NOUN'), (',', '.'), ('which', 'DET'), ('*T*-1', 'X'), ('required', 'VERB'), ('higher', 'ADJ'), ('advertising', 'NOUN'), ('spending', 'NOUN'), ('.', '.'), ('She', 'PRON'), ('won', 'VERB'), ('grant', 'NOUN'), ('money', 'NOUN'), ('for', 'ADP'), ('the', 'DET'), ('school', 'NOUN'), (',', '.'), ('advised', 'VERB'), ('cheerleaders', 'NOUN'), (',', '.'), ('ran', 'VERB'), ('the', 'DET'), ('pep', 'NOUN'), ('club', 'NOUN'), (',', '.'), ('proposed', 'VERB'), ('and', 'CONJ'), ('taught', 'VERB'), ('a', 'DET'), ('new', 'ADJ'), ('``', '.'), ('Cultural', 'ADJ'), ('Literacy', 'NOUN'), (\"''\", '.'), ('class', 'NOUN'), ('in', 'ADP'), ('Western', 'ADJ'), ('Civilization', 'NOUN'), ('and', 'CONJ'), ('was', 'VERB'), ('chosen', 'VERB'), ('*-1', 'X'), ('by', 'ADP'), ('the', 'DET'), ('school', 'NOUN'), ('PTA', 'NOUN'), ('as', 'ADP'), ('``', '.'), ('Teacher', 'NOUN'), ('of', 'ADP'), ('the', 'DET'), ('Year', 'NOUN'), ('.', '.'), (\"''\", '.')]\n",
      "\n",
      "['In', '1976', ',', 'as', 'a', 'film', 'student', 'at', 'the', 'Purchase', 'campus', 'of', 'the', 'State', 'University', 'of', 'New', 'York', ',', 'Mr.', 'Lane', 'shot', '``', 'A', 'Place', 'in', 'Time', ',', \"''\", 'a', '36-minute', 'black-and-white', 'film', 'about', 'a', 'sketch', 'artist', ',', 'a', 'man', 'of', 'the', 'streets', '.', '``', 'At', 'the', 'prices', '0', 'we', 'were', 'charged', '*-78', '*T*-1', ',', 'there', 'should', 'have', 'been', 'some', 'return', 'for', 'the', 'dollar', '.', 'In', 'addition', ',', 'a', 'big', 'loan', 'that', 'First', 'Boston', 'made', '*T*-2', 'to', 'Ohio', 'Mattress', 'Co', '.', 'was', \"n't\", 'repaid', 'on', 'time', 'when', 'its', '$', '450', 'million', '*U*', 'junk', 'financing', 'for', 'a', 'buy-out', 'of', 'the', 'bedding', 'company', 'was', 'withdrawn', '*-1', '*T*-3', '.', 'The', 'Treasury', 'said', '0', 'the', 'U.S.', 'will', 'default', 'on', 'Nov.', '9', 'if', 'Congress', 'does', \"n't\", 'act', 'by', 'then', '.', 'Meanwhile', ',', 'many', 'market', 'watchers', 'say', '0', 'recent', 'dividend', 'trends', 'raise', 'another', 'warning', 'flag', ':', 'While', 'dividends', 'have', 'risen', 'smartly', ',', 'their', 'expansion', 'has', \"n't\", 'kept', 'pace', 'with', 'even', 'stronger', 'advances', 'in', 'stock', 'prices', '.', 'At', 'least', ',', 'that', \"'s\", 'the', 'way', '0', 'it', 'was', 'reported', '*-32', '*T*-1', '.', 'However', ',', 'some', 'workers', 'have', \"n't\", 'yet', 'accepted', 'the', 'new', 'contract', 'and', 'are', 'continuing', 'negotiations', ',', 'the', 'analyst', 'said', '0', '*T*-1', '.', 'Until', 'such', 'action', 'takes', 'places', ',', 'the', 'Treasury', 'has', 'no', 'ability', '*', 'to', 'issue', 'new', 'debt', 'of', 'any', 'kind', '.', 'Excision', 'of', 'appropriations', 'riders', 'that', '*T*-1', 'trespass', 'on', 'the', 'president', \"'s\", 'duties', 'and', 'prerogative', 'under', 'Article', 'II', 'would', 'be', 'different', 'from', 'the', 'line-item', 'veto', '.', 'Mrs.', 'Yeargin', 'declined', '.', 'American', 'Telephone', '&', 'Telegraph', \"'s\", 'General', 'Business', 'Systems', 'division', ',', 'New', 'York', ',', 'awarded', 'the', 'ad', 'account', 'for', 'its', 'Fax', 'product', 'line', 'to', 'Ogilvy', '&', 'Mather', ',', 'New', 'York', ',', 'a', 'WPP', 'Group', 'agency', '.', 'However', ',', 'after', 'two', 'meetings', 'with', 'the', 'Soviets', ',', 'a', 'State', 'Department', 'spokesman', 'said', 'that', 'it', '*EXP*-1', \"'s\", '``', 'too', 'early', '*', 'to', 'say', \"''\", 'whether', 'that', 'will', 'happen', '.', 'When', 'the', 'stock', 'market', 'dropped', 'nearly', '7', '%', 'Oct.', '13', '*T*-1', ',', 'for', 'instance', ',', 'the', 'Mexico', 'Fund', 'plunged', 'about', '18', '%', 'and', 'the', 'Spain', 'Fund', 'fell', '16', '%', '.', 'McDermott', 'International', 'Inc.', 'said', '0', 'its', 'Babcock', '&', 'Wilcox', 'unit', 'completed', 'the', 'sale', 'of', 'its', 'Bailey', 'Controls', 'Operations', 'to', 'Finmeccanica', 'S.p', '.', 'A.', 'for', '$', '295', 'million', '*U*', '.', 'When', 'the', 'stock', 'market', 'dropped', 'nearly', '7', '%', 'Oct.', '13', '*T*-1', ',', 'for', 'instance', ',', 'the', 'Mexico', 'Fund', 'plunged', 'about', '18', '%', 'and', 'the', 'Spain', 'Fund', 'fell', '16', '%', '.', 'Mr.', 'Martin', 'has', 'increased', 'prices', 'on', 'some', 'wines', '-LRB-', 'like', 'Grgich', 'Hills', 'Chardonnay', ',', 'now', '$', '32', '*U*', '-RRB-', 'just', '*-1', 'to', 'slow', 'down', 'movement', ',', 'but', 'he', 'is', 'beginning', '*-2', 'to', 'see', 'some', 'resistance', 'to', 'high-priced', 'red', 'Burgundies', 'and', 'Cabernets', 'and', 'Chardonnays', 'in', 'the', '$', '30', 'to', '$', '40', '*U*', 'range', '.', 'Mr.', 'Sonnett', 'said', 'that', 'clients', 'who', '*T*-130', 'pay', 'cash', 'may', 'include', 'alleged', 'drug', 'dealers', 'who', '*T*-131', 'do', \"n't\", 'have', 'domestic', 'bank', 'accounts', '.', 'Profit', 'for', 'the', 'nine', 'months', 'jumped', '21', '%', 'to', '$', '721', 'million', '*U*', ',', 'or', '$', '2.62', '*U*', 'a', 'share', ',', 'from', '$', '598', 'million', '*U*', ',', 'or', '$', '2.07', '*U*', 'a', 'share', '.', 'Although', 'takeover', 'experts', 'said', '0', 'they', 'doubted', '0', 'Mr.', 'Steinberg', 'will', 'make', 'a', 'bid', 'by', 'himself', ',', 'the', 'application', 'by', 'his', 'Reliance', 'Group', 'Holdings', 'Inc.', 'could', 'signal', 'his', 'interest', 'in', '*', 'helping', '*-1', 'revive', 'a', 'failed', 'labor-management', 'bid', '.', 'Viacom', 'denies', '0', 'it', \"'s\", 'using', 'pressure', 'tactics', '.', 'For', 'an', 'American', 'reader', ',', 'part', 'of', 'the', 'charm', 'of', 'this', 'engaging', 'novel', 'should', 'come', 'in', '*', 'recognizing', 'that', 'Japan', 'is', \"n't\", 'the', 'buttoned-down', 'society', 'of', 'contemporary', 'American', 'lore', '.', 'In', 'Washington', ',', 'House', 'aides', 'said', '0', 'Mr.', 'Phelan', 'told', 'congressmen', 'that', 'the', 'collar', ',', 'which', '*T*-213', 'banned', 'program', 'trades', 'through', 'the', 'Big', 'Board', \"'s\", 'computer', 'when', 'the', 'Dow', 'Jones', 'Industrial', 'Average', 'moved', '50', 'points', '*T*-1', ',', 'did', \"n't\", 'work', 'well', '.', 'The', 'Treasury', 'said', '0', 'the', 'U.S.', 'will', 'default', 'on', 'Nov.', '9', 'if', 'Congress', 'does', \"n't\", 'act', 'by', 'then', '.', 'Moody', \"'s\", 'said', '0', 'those', 'returns', 'compare', 'with', 'a', '3.8', '%', 'total', 'return', 'for', 'longer-term', 'Treasury', 'notes', 'and', 'bonds', '.', 'Those', 'countries', '--', 'including', 'Japan', ',', 'Italy', ',', 'Canada', ',', 'Greece', 'and', 'Spain', '--', 'are', 'still', 'of', 'some', 'concern', 'to', 'the', 'U.S.', 'but', 'are', 'deemed', '*-1', 'to', 'pose', 'less-serious', 'problems', 'for', 'American', 'patent', 'and', 'copyright', 'owners', 'than', 'those', 'on', 'the', '``', 'priority', \"''\", 'list', '.', '``', 'At', 'the', 'prices', '0', 'we', 'were', 'charged', '*-78', '*T*-1', ',', 'there', 'should', 'have', 'been', 'some', 'return', 'for', 'the', 'dollar', '.', 'Manufacturers', \"'\", 'backlogs', 'of', 'unfilled', 'orders', 'rose', '0.5', '%', 'in', 'September', 'to', '$', '497.34', 'billion', '*U*', ',', '*-3', 'helped', '*-2', 'by', 'strength', 'in', 'the', 'defense', 'capital', 'goods', 'sector', '.', 'Still', 'unresolved', 'is', '*T*-1', 'Sony', \"'s\", 'effort', '*', 'to', 'hire', 'producers', 'Jon', 'Peters', 'and', 'Peter', 'Guber', 'to', 'run', 'the', 'studio', '.', 'The', 'purchase', 'price', 'includes', 'two', 'ancillary', 'companies', '.', 'She', 'won', 'grant', 'money', 'for', 'the', 'school', ',', 'advised', 'cheerleaders', ',', 'ran', 'the', 'pep', 'club', ',', 'proposed', 'and', 'taught', 'a', 'new', '``', 'Cultural', 'Literacy', \"''\", 'class', 'in', 'Western', 'Civilization', 'and', 'was', 'chosen', '*-1', 'by', 'the', 'school', 'PTA', 'as', '``', 'Teacher', 'of', 'the', 'Year', '.', \"''\", 'Shearson', 'Lehman', 'Hutton', 'Inc.', ',', 'New', 'York', ',', 'which', '*T*-251', 'is', '62%-owned', '*-1', 'by', 'American', 'Express', 'Co.', ',', 'consented', 'to', 'a', '$', '10,000', '*U*', 'fine', '.', 'Mrs.', 'Yeargin', \"'s\", 'extra', 'work', 'was', 'also', 'helping', 'her', 'earn', 'points', 'in', 'the', 'state', \"'s\", 'incentive-bonus', 'program', '.', 'If', 'not', 'for', 'a', '59.6', '%', 'surge', 'in', 'orders', 'for', 'capital', 'goods', 'by', 'defense', 'contractors', ',', 'factory', 'orders', 'would', 'have', 'fallen', '2.1', '%', '.', 'The', 'Czech', 'dam', 'ca', \"n't\", 'be', 'operated', '*-69', 'solely', 'at', 'peak', 'periods', 'without', 'the', 'Nagymaros', 'project', '.', 'A', 'study', 'by', 'Tulane', 'Prof.', 'James', 'Wright', 'says', '0', 'homelessness', 'is', 'due', 'to', 'a', 'complex', 'array', 'of', 'problems', ',', 'with', 'the', 'common', 'thread', 'of', 'poverty', '.', '``', 'The', 'way', 'that', 'we', \"'ve\", 'been', 'managing', 'Campbell', 'U.S.A.', '*T*-2', 'can', 'hopefully', 'spread', 'to', 'other', 'areas', 'of', 'the', 'company', ',', \"''\", 'Mr.', 'Baum', 'said', '*T*-1', '.', 'Heritage', 'owns', 'and', 'operates', 'television', 'and', 'radio', 'stations', 'and', 'in-store', 'advertising', 'and', 'promotion', 'programs', '.', '$', '130', 'million', '*U*', 'of', 'general', 'obligation', 'distributable', 'state', 'aid', 'bonds', 'due', '1991-2000', 'and', '2009', ',', 'tentatively', 'priced', '*', 'by', 'a', 'Chemical', 'Securities', 'Inc.', 'group', '*', 'to', 'yield', 'from', '6.20', '%', 'in', '1991', 'to', '7.272', '%', 'in', '2009', '.', 'Several', 'candidates', 'have', 'withdrawn', 'their', 'names', 'from', 'consideration', 'after', 'administration', 'officials', 'asked', 'them', 'for', 'their', 'views', 'on', 'abortion', 'and', 'fetal-tissue', 'transplants', '.', 'Merchant', 'banking', ',', 'where', 'firms', 'commit', 'their', 'own', 'money', '*T*-1', ',', '``', 'is', 'getting', 'riskier', ',', 'and', 'there', \"'s\", 'less', 'of', 'it', '0', '*T*-2', 'to', 'go', 'around', '.', \"''\", 'Mr.', 'Gillespie', 'at', 'Viacom', 'says', '0', 'the', 'ratings', 'are', 'rising', '.', 'Sales', 'by', 'these', 'subsidiaries', 'in', 'the', 'fiscal', 'year', 'ending', 'last', 'March', 'were', 'more', 'than', '$', '17', 'billion', '*U*', '.', 'In', 'some', 'cases', ',', 'the', 'IRS', 'asked', 'for', 'information', 'dating', 'back', 'to', 'forms', '0', 'it', 'received', '*T*-1', 'in', '1985', '.', 'Shearson', 'Lehman', 'Hutton', 'Inc.', ',', 'New', 'York', ',', 'which', '*T*-251', 'is', '62%-owned', '*-1', 'by', 'American', 'Express', 'Co.', ',', 'consented', 'to', 'a', '$', '10,000', '*U*', 'fine', '.', 'Mr.', 'Sonnett', 'said', 'that', 'clients', 'who', '*T*-130', 'pay', 'cash', 'may', 'include', 'alleged', 'drug', 'dealers', 'who', '*T*-131', 'do', \"n't\", 'have', 'domestic', 'bank', 'accounts', '.', 'But', 'like', 'other', 'thrifts', ',', 'it', \"'s\", 'expected', '*-1', 'to', 'seek', 'regulators', \"'\", 'consent', '*', 'to', 'create', 'a', 'distinct', 'junk-bond', 'entity', '.', 'Although', 'takeover', 'experts', 'said', '0', 'they', 'doubted', '0', 'Mr.', 'Steinberg', 'will', 'make', 'a', 'bid', 'by', 'himself', ',', 'the', 'application', 'by', 'his', 'Reliance', 'Group', 'Holdings', 'Inc.', 'could', 'signal', 'his', 'interest', 'in', '*', 'helping', '*-1', 'revive', 'a', 'failed', 'labor-management', 'bid', '.', 'American', 'Telephone', '&', 'Telegraph', \"'s\", 'General', 'Business', 'Systems', 'division', ',', 'New', 'York', ',', 'awarded', 'the', 'ad', 'account', 'for', 'its', 'Fax', 'product', 'line', 'to', 'Ogilvy', '&', 'Mather', ',', 'New', 'York', ',', 'a', 'WPP', 'Group', 'agency', '.', 'Ralston', 'attributed', 'its', 'fourth-quarter', 'slump', 'partly', 'to', 'higher', 'costs', 'of', 'ingredients', 'in', 'the', 'pet', 'food', 'business', 'as', 'well', 'as', 'competitive', 'pressures', ',', 'which', '*T*-1', 'required', 'higher', 'advertising', 'spending', '.', 'She', 'won', 'grant', 'money', 'for', 'the', 'school', ',', 'advised', 'cheerleaders', ',', 'ran', 'the', 'pep', 'club', ',', 'proposed', 'and', 'taught', 'a', 'new', '``', 'Cultural', 'Literacy', \"''\", 'class', 'in', 'Western', 'Civilization', 'and', 'was', 'chosen', '*-1', 'by', 'the', 'school', 'PTA', 'as', '``', 'Teacher', 'of', 'the', 'Year', '.', \"''\"]\n"
     ]
    }
   ],
   "source": [
    "# Running on entire test dataset would take more than 3-4hrs. \n",
    "# Let's test our Viterbi algorithm on a few sample sentences of test dataset.\n",
    "# Keep it to ~50 so that the entire file completes in 20 minutes. If its 196, which is the size of test data\n",
    "# it takes around \n",
    "\n",
    "TEST_DATA_SIZE = 50 \n",
    "\n",
    "random.seed(1234)\n",
    "\n",
    "# choose random 5 sents\n",
    "rndom = [random.randint(1,len(test_set)) for x in range(TEST_DATA_SIZE)]\n",
    "\n",
    "# list of sents\n",
    "test_run = [test_set[i] for i in rndom]\n",
    "\n",
    "# list of tagged words\n",
    "test_run_base = [tup for sent in test_run for tup in sent]\n",
    "\n",
    "# list of untagged words\n",
    "test_tagged_words = [tup[0] for sent in test_run for tup in sent]\n",
    "\n",
    "print(test_run_base)\n",
    "print()\n",
    "print(test_tagged_words)"
   ]
  },
  {
   "cell_type": "markdown",
   "metadata": {},
   "source": [
    "#### Tagging the test sentences by calling the Viterbi Heuristic Algo."
   ]
  },
  {
   "cell_type": "code",
   "execution_count": 24,
   "metadata": {},
   "outputs": [
    {
     "ename": "KeyboardInterrupt",
     "evalue": "",
     "output_type": "error",
     "traceback": [
      "\u001b[1;31m---------------------------------------------------------------------------\u001b[0m",
      "\u001b[1;31mKeyboardInterrupt\u001b[0m                         Traceback (most recent call last)",
      "\u001b[1;32m<ipython-input-24-86b44f8c9dd2>\u001b[0m in \u001b[0;36m<module>\u001b[1;34m\u001b[0m\n\u001b[0;32m      7\u001b[0m     \u001b[1;32mreturn\u001b[0m \u001b[0mtagged_seq\u001b[0m\u001b[1;33m\u001b[0m\u001b[1;33m\u001b[0m\u001b[0m\n\u001b[0;32m      8\u001b[0m \u001b[1;33m\u001b[0m\u001b[0m\n\u001b[1;32m----> 9\u001b[1;33m \u001b[0mtagged_seq\u001b[0m \u001b[1;33m=\u001b[0m \u001b[0mtagSentencesViterbi\u001b[0m\u001b[1;33m(\u001b[0m\u001b[0mtest_tagged_words\u001b[0m\u001b[1;33m)\u001b[0m\u001b[1;33m\u001b[0m\u001b[1;33m\u001b[0m\u001b[0m\n\u001b[0m",
      "\u001b[1;32m<ipython-input-24-86b44f8c9dd2>\u001b[0m in \u001b[0;36mtagSentencesViterbi\u001b[1;34m(words2BeTagged)\u001b[0m\n\u001b[0;32m      1\u001b[0m \u001b[1;32mdef\u001b[0m \u001b[0mtagSentencesViterbi\u001b[0m\u001b[1;33m(\u001b[0m\u001b[0mwords2BeTagged\u001b[0m\u001b[1;33m)\u001b[0m\u001b[1;33m:\u001b[0m\u001b[1;33m\u001b[0m\u001b[1;33m\u001b[0m\u001b[0m\n\u001b[0;32m      2\u001b[0m     \u001b[0mstart\u001b[0m \u001b[1;33m=\u001b[0m \u001b[0mtime\u001b[0m\u001b[1;33m.\u001b[0m\u001b[0mtime\u001b[0m\u001b[1;33m(\u001b[0m\u001b[1;33m)\u001b[0m\u001b[1;33m\u001b[0m\u001b[1;33m\u001b[0m\u001b[0m\n\u001b[1;32m----> 3\u001b[1;33m     \u001b[0mtagged_seq\u001b[0m \u001b[1;33m=\u001b[0m \u001b[0mViterbi\u001b[0m\u001b[1;33m(\u001b[0m\u001b[0mwords2BeTagged\u001b[0m\u001b[1;33m)\u001b[0m\u001b[1;33m\u001b[0m\u001b[1;33m\u001b[0m\u001b[0m\n\u001b[0m\u001b[0;32m      4\u001b[0m     \u001b[0mend\u001b[0m \u001b[1;33m=\u001b[0m \u001b[0mtime\u001b[0m\u001b[1;33m.\u001b[0m\u001b[0mtime\u001b[0m\u001b[1;33m(\u001b[0m\u001b[1;33m)\u001b[0m\u001b[1;33m\u001b[0m\u001b[1;33m\u001b[0m\u001b[0m\n\u001b[0;32m      5\u001b[0m     \u001b[0mdifference\u001b[0m \u001b[1;33m=\u001b[0m \u001b[0mend\u001b[0m\u001b[1;33m-\u001b[0m\u001b[0mstart\u001b[0m\u001b[1;33m\u001b[0m\u001b[1;33m\u001b[0m\u001b[0m\n",
      "\u001b[1;32m<ipython-input-22-403780f8c5a9>\u001b[0m in \u001b[0;36mViterbi\u001b[1;34m(words, train_bag)\u001b[0m\n\u001b[0;32m     13\u001b[0m \u001b[1;33m\u001b[0m\u001b[0m\n\u001b[0;32m     14\u001b[0m             \u001b[1;31m# compute emission and state probabilities\u001b[0m\u001b[1;33m\u001b[0m\u001b[1;33m\u001b[0m\u001b[1;33m\u001b[0m\u001b[0m\n\u001b[1;32m---> 15\u001b[1;33m             \u001b[0memissionNAndD\u001b[0m \u001b[1;33m=\u001b[0m \u001b[0mword_given_tag\u001b[0m\u001b[1;33m(\u001b[0m\u001b[0mwords\u001b[0m\u001b[1;33m[\u001b[0m\u001b[0mkey\u001b[0m\u001b[1;33m]\u001b[0m\u001b[1;33m,\u001b[0m \u001b[0mtag\u001b[0m\u001b[1;33m)\u001b[0m\u001b[1;33m\u001b[0m\u001b[1;33m\u001b[0m\u001b[0m\n\u001b[0m\u001b[0;32m     16\u001b[0m             \u001b[0memission_p\u001b[0m \u001b[1;33m=\u001b[0m \u001b[0memissionNAndD\u001b[0m\u001b[1;33m[\u001b[0m\u001b[1;36m0\u001b[0m\u001b[1;33m]\u001b[0m\u001b[1;33m/\u001b[0m\u001b[0memissionNAndD\u001b[0m\u001b[1;33m[\u001b[0m\u001b[1;36m1\u001b[0m\u001b[1;33m]\u001b[0m\u001b[1;33m\u001b[0m\u001b[1;33m\u001b[0m\u001b[0m\n\u001b[0;32m     17\u001b[0m             \u001b[0mstate_probability\u001b[0m \u001b[1;33m=\u001b[0m \u001b[0memission_p\u001b[0m \u001b[1;33m*\u001b[0m \u001b[0mtransition_p\u001b[0m\u001b[1;33m\u001b[0m\u001b[1;33m\u001b[0m\u001b[0m\n",
      "\u001b[1;32m<ipython-input-12-1c66780a74ab>\u001b[0m in \u001b[0;36mword_given_tag\u001b[1;34m(word, tag, train_bag)\u001b[0m\n\u001b[0;32m      1\u001b[0m \u001b[1;31m# Compute Emission Probability: word given tag\u001b[0m\u001b[1;33m\u001b[0m\u001b[1;33m\u001b[0m\u001b[1;33m\u001b[0m\u001b[0m\n\u001b[0;32m      2\u001b[0m \u001b[1;32mdef\u001b[0m \u001b[0mword_given_tag\u001b[0m\u001b[1;33m(\u001b[0m\u001b[0mword\u001b[0m\u001b[1;33m,\u001b[0m \u001b[0mtag\u001b[0m\u001b[1;33m,\u001b[0m \u001b[0mtrain_bag\u001b[0m \u001b[1;33m=\u001b[0m \u001b[0mtrain_wordAndTag_list\u001b[0m\u001b[1;33m)\u001b[0m\u001b[1;33m:\u001b[0m\u001b[1;33m\u001b[0m\u001b[1;33m\u001b[0m\u001b[0m\n\u001b[1;32m----> 3\u001b[1;33m     \u001b[0mtag_list\u001b[0m \u001b[1;33m=\u001b[0m \u001b[1;33m[\u001b[0m\u001b[0mpair\u001b[0m \u001b[1;32mfor\u001b[0m \u001b[0mpair\u001b[0m \u001b[1;32min\u001b[0m \u001b[0mtrain_bag\u001b[0m \u001b[1;32mif\u001b[0m \u001b[0mpair\u001b[0m\u001b[1;33m[\u001b[0m\u001b[1;36m1\u001b[0m\u001b[1;33m]\u001b[0m \u001b[1;33m==\u001b[0m \u001b[0mtag\u001b[0m\u001b[1;33m]\u001b[0m\u001b[1;33m\u001b[0m\u001b[1;33m\u001b[0m\u001b[0m\n\u001b[0m\u001b[0;32m      4\u001b[0m     \u001b[0mcount_tag\u001b[0m \u001b[1;33m=\u001b[0m \u001b[0mlen\u001b[0m\u001b[1;33m(\u001b[0m\u001b[0mtag_list\u001b[0m\u001b[1;33m)\u001b[0m\u001b[1;33m\u001b[0m\u001b[1;33m\u001b[0m\u001b[0m\n\u001b[0;32m      5\u001b[0m     \u001b[0mw_given_tag_list\u001b[0m \u001b[1;33m=\u001b[0m \u001b[1;33m[\u001b[0m\u001b[0mpair\u001b[0m\u001b[1;33m[\u001b[0m\u001b[1;36m0\u001b[0m\u001b[1;33m]\u001b[0m \u001b[1;32mfor\u001b[0m \u001b[0mpair\u001b[0m \u001b[1;32min\u001b[0m \u001b[0mtag_list\u001b[0m \u001b[1;32mif\u001b[0m \u001b[0mpair\u001b[0m\u001b[1;33m[\u001b[0m\u001b[1;36m0\u001b[0m\u001b[1;33m]\u001b[0m \u001b[1;33m==\u001b[0m \u001b[0mword\u001b[0m\u001b[1;33m]\u001b[0m\u001b[1;33m\u001b[0m\u001b[1;33m\u001b[0m\u001b[0m\n",
      "\u001b[1;32m<ipython-input-12-1c66780a74ab>\u001b[0m in \u001b[0;36m<listcomp>\u001b[1;34m(.0)\u001b[0m\n\u001b[0;32m      1\u001b[0m \u001b[1;31m# Compute Emission Probability: word given tag\u001b[0m\u001b[1;33m\u001b[0m\u001b[1;33m\u001b[0m\u001b[1;33m\u001b[0m\u001b[0m\n\u001b[0;32m      2\u001b[0m \u001b[1;32mdef\u001b[0m \u001b[0mword_given_tag\u001b[0m\u001b[1;33m(\u001b[0m\u001b[0mword\u001b[0m\u001b[1;33m,\u001b[0m \u001b[0mtag\u001b[0m\u001b[1;33m,\u001b[0m \u001b[0mtrain_bag\u001b[0m \u001b[1;33m=\u001b[0m \u001b[0mtrain_wordAndTag_list\u001b[0m\u001b[1;33m)\u001b[0m\u001b[1;33m:\u001b[0m\u001b[1;33m\u001b[0m\u001b[1;33m\u001b[0m\u001b[0m\n\u001b[1;32m----> 3\u001b[1;33m     \u001b[0mtag_list\u001b[0m \u001b[1;33m=\u001b[0m \u001b[1;33m[\u001b[0m\u001b[0mpair\u001b[0m \u001b[1;32mfor\u001b[0m \u001b[0mpair\u001b[0m \u001b[1;32min\u001b[0m \u001b[0mtrain_bag\u001b[0m \u001b[1;32mif\u001b[0m \u001b[0mpair\u001b[0m\u001b[1;33m[\u001b[0m\u001b[1;36m1\u001b[0m\u001b[1;33m]\u001b[0m \u001b[1;33m==\u001b[0m \u001b[0mtag\u001b[0m\u001b[1;33m]\u001b[0m\u001b[1;33m\u001b[0m\u001b[1;33m\u001b[0m\u001b[0m\n\u001b[0m\u001b[0;32m      4\u001b[0m     \u001b[0mcount_tag\u001b[0m \u001b[1;33m=\u001b[0m \u001b[0mlen\u001b[0m\u001b[1;33m(\u001b[0m\u001b[0mtag_list\u001b[0m\u001b[1;33m)\u001b[0m\u001b[1;33m\u001b[0m\u001b[1;33m\u001b[0m\u001b[0m\n\u001b[0;32m      5\u001b[0m     \u001b[0mw_given_tag_list\u001b[0m \u001b[1;33m=\u001b[0m \u001b[1;33m[\u001b[0m\u001b[0mpair\u001b[0m\u001b[1;33m[\u001b[0m\u001b[1;36m0\u001b[0m\u001b[1;33m]\u001b[0m \u001b[1;32mfor\u001b[0m \u001b[0mpair\u001b[0m \u001b[1;32min\u001b[0m \u001b[0mtag_list\u001b[0m \u001b[1;32mif\u001b[0m \u001b[0mpair\u001b[0m\u001b[1;33m[\u001b[0m\u001b[1;36m0\u001b[0m\u001b[1;33m]\u001b[0m \u001b[1;33m==\u001b[0m \u001b[0mword\u001b[0m\u001b[1;33m]\u001b[0m\u001b[1;33m\u001b[0m\u001b[1;33m\u001b[0m\u001b[0m\n",
      "\u001b[1;31mKeyboardInterrupt\u001b[0m: "
     ]
    }
   ],
   "source": [
    "def tagSentencesViterbi(words2BeTagged):\n",
    "    start = time.time()\n",
    "    tagged_seq = Viterbi(words2BeTagged)\n",
    "    end = time.time()\n",
    "    difference = end-start\n",
    "    print(\"***Time taken to tag**** \", difference)\n",
    "    return tagged_seq\n",
    "\n",
    "tagged_seq = tagSentencesViterbi(test_tagged_words)"
   ]
  },
  {
   "cell_type": "code",
   "execution_count": null,
   "metadata": {},
   "outputs": [],
   "source": [
    "#print(tagged_seq)\n",
    "#print(test_run_base)"
   ]
  },
  {
   "cell_type": "markdown",
   "metadata": {},
   "source": [
    "#### Check the accuracy of the Viterbi Algorithm by comparing the train data's built in tag values and the ones we generated"
   ]
  },
  {
   "cell_type": "code",
   "execution_count": null,
   "metadata": {},
   "outputs": [],
   "source": [
    "# Util method to check the accuracy\n",
    "def checkAccuracy(taggedWords, correctlyTaggedTestRun):\n",
    "    check = [i for i, j in zip(taggedWords, correctlyTaggedTestRun) if i == j]\n",
    "    accuracy = len(check)/len(taggedWords)\n",
    "    return accuracy\n",
    "\n",
    "plainViterbiAccuracy = checkAccuracy(tagged_seq, test_run_base)\n",
    "print(\"*****Plain Viterbi Accuracy*****\", plainViterbiAccuracy)"
   ]
  },
  {
   "cell_type": "markdown",
   "metadata": {},
   "source": [
    "### Accuracy with vanilla Viterbi is 88.5% which is good."
   ]
  },
  {
   "cell_type": "code",
   "execution_count": null,
   "metadata": {},
   "outputs": [],
   "source": [
    "#k = zip(tagged_seq, test_run_base)\n",
    "#print(list(k))\n"
   ]
  },
  {
   "cell_type": "markdown",
   "metadata": {},
   "source": [
    "#### Find incorrectly tagged words along with the previous tag"
   ]
  },
  {
   "cell_type": "code",
   "execution_count": null,
   "metadata": {},
   "outputs": [],
   "source": [
    "def findIncorrectlyTaggedWords(taggedWords, correctlyTaggedTestData):\n",
    "    wrongTaggedWords = [[correctlyTaggedTestData[i-1],j] for i, j in enumerate(zip(taggedWords, correctlyTaggedTestData)) if j[0]!=j[1]]\n",
    "    return wrongTaggedWords\n",
    "    \n",
    "wordsWithWrongTagsWithPreviousTag = findIncorrectlyTaggedWords(tagged_seq, test_run_base)\n",
    "wordsWithWrongTagsWithPreviousTag"
   ]
  },
  {
   "cell_type": "markdown",
   "metadata": {},
   "source": [
    "### Step 3. Move to Test_sentences.txt"
   ]
  },
  {
   "cell_type": "code",
   "execution_count": null,
   "metadata": {},
   "outputs": [],
   "source": [
    "# Util to clean the lines\n",
    "def getCleanedLinesFromTestData(file):\n",
    "    lines = []\n",
    "    f = codecs.open(file, encoding='utf-8')\n",
    "    for line in f:\n",
    "        if line.rstrip()!='':\n",
    "            lines.append(line.rstrip())\n",
    "    return lines\n",
    "    \n",
    "test_lines = getCleanedLinesFromTestData(\"Test_sentences.txt\")\n",
    "test_lines"
   ]
  },
  {
   "cell_type": "code",
   "execution_count": null,
   "metadata": {},
   "outputs": [],
   "source": [
    "# Get the words\n",
    "def getWordsFromLines(lines):\n",
    "    words = []\n",
    "    for line in lines:\n",
    "        words.extend(word_tokenize(line))\n",
    "    return words\n",
    "\n",
    "words_from_test_lines = getWordsFromLines(test_lines)\n",
    "print(\"**** All words from test lines ****\\n\", words_from_test_lines)"
   ]
  },
  {
   "cell_type": "code",
   "execution_count": null,
   "metadata": {},
   "outputs": [],
   "source": [
    "wordsAndTags_from_test_lines = tagSentencesViterbi(words_from_test_lines)\n",
    "print(\"\\n****Words and tags from plain Viterbi*****\\n\", wordsAndTags_from_test_lines)"
   ]
  },
  {
   "cell_type": "markdown",
   "metadata": {},
   "source": [
    "#### Get the list of unknown - alien words"
   ]
  },
  {
   "cell_type": "code",
   "execution_count": null,
   "metadata": {},
   "outputs": [],
   "source": [
    "#Get the list of words which are present in test lines but not in the training corpus\n",
    "words_not_in_corpus = list(set(words_from_test_lines) - set(tokens_set))\n",
    "words_not_in_corpus"
   ]
  },
  {
   "cell_type": "code",
   "execution_count": null,
   "metadata": {},
   "outputs": [],
   "source": [
    "# Concisely print the tags for alien words\n",
    "def printTagsForAlienWords(alienWords, alienWordsWithTags):\n",
    "    wrongTaggedWords = []\n",
    "    wrongTaggedWords = [wordAndTag for wordAndTag in alienWordsWithTags if (wordAndTag[0] in set(alienWords))]\n",
    "    return wrongTaggedWords"
   ]
  },
  {
   "cell_type": "markdown",
   "metadata": {},
   "source": [
    "### Note that the default tag assigned to alien words is the one that occurs first in the Tag list. This will change for each run."
   ]
  },
  {
   "cell_type": "code",
   "execution_count": null,
   "metadata": {},
   "outputs": [],
   "source": [
    "alienWordsAndTags = printTagsForAlienWords(words_not_in_corpus, wordsAndTags_from_test_lines)\n",
    "print(\"***Alien words and their tags***\\n\", alienWordsAndTags)"
   ]
  },
  {
   "cell_type": "markdown",
   "metadata": {},
   "source": [
    "### Step 4. Solve the problem of unknown words. Which tag class do you think most unknown words belong to? Can you identify rules (e.g. based on morphological cues) that can be used to tag unknown words? When an alien word is encountered it must be a NOUN. This heuristic can be bluntly applied or we can use morphological forms of the word and identify it as an article, adjective, verb etc., We can even apply a simplified version of Laplace smoothening."
   ]
  },
  {
   "cell_type": "markdown",
   "metadata": {},
   "source": [
    "### Version 1 of Viterbi - Use regex and morphological forms to tag the unknown words.\n",
    "### Specify patterns for tagging.\n",
    "### Source - https://www.nltk.org/book/ch05.html."
   ]
  },
  {
   "cell_type": "code",
   "execution_count": null,
   "metadata": {},
   "outputs": [],
   "source": [
    "\n",
    "patterns = [\n",
    "    #NUMBERS\n",
    "    (\"^-?[0-9]+(.[0-9]+)?$\", 'NUM'),    \n",
    "    \n",
    "    #ADJECTIVES\n",
    "    (\".*able$\", 'ADJ'),        \n",
    "    \n",
    "    #VERBS and variants\n",
    "    (\".*ing$\", 'VERB'),      \n",
    "    (\".*ed$\", 'VERB'),       \n",
    "    (\".*es$\", 'VERB'),        \n",
    "    (\".*ould$\", 'VERB'),      \n",
    "    \n",
    "    #ADVERB\n",
    "    (\".*ly$\", 'ADV')\n",
    "]\n",
    "\n",
    "# If the whole word matches one of these we need to tag it as DET\n",
    "def isDeterminant(text):\n",
    "    if (text in set(['The', 'the', 'A', 'a', 'An', 'an'])):\n",
    "        return True\n",
    "    return False\n",
    "\n",
    "\n",
    "# If we don't tag it as a DET, identify the patterns. If none matches, the tag must be NOUN.\n",
    "def getStateForWord(text):\n",
    "    state = \"\"\n",
    "    if isDeterminant(text):\n",
    "        return \"DET\"\n",
    "    else:\n",
    "        for pattern in patterns:\n",
    "            if re.search(pattern[0], text):\n",
    "                state = pattern[1]\n",
    "                #print(pattern[0], \"---\", text, \"---\", state)\n",
    "                return state\n",
    "    return \"NOUN\""
   ]
  },
  {
   "cell_type": "code",
   "execution_count": null,
   "metadata": {},
   "outputs": [],
   "source": [
    "# Viterbi Heuristic\n",
    "def ViterbiV2(words, train_bag = train_wordAndTag_list):\n",
    "    state = []\n",
    "    T = list(set([pair[1] for pair in train_bag]))\n",
    "    \n",
    "    for key, word in enumerate(words):\n",
    "        #initialise list of probability column for a given observation\n",
    "        p = [] \n",
    "        for tag in T:\n",
    "            if key == 0:\n",
    "                transition_p = tags_df.loc['.', tag]\n",
    "            else:\n",
    "                transition_p = tags_df.loc[state[-1], tag]\n",
    "                \n",
    "            # compute emission and state probabilities\n",
    "            emissionNAndD = word_given_tag(words[key], tag)\n",
    "            emission_p = emissionNAndD[0]/emissionNAndD[1]            \n",
    "            state_probability = emission_p * transition_p    \n",
    "            p.append(state_probability)\n",
    "            \n",
    "        pmax = max(p)\n",
    "        \n",
    "        # If pmax is 0, get the most suitable tag by checking morphology\n",
    "        # assign state_max\n",
    "        # ELSE\n",
    "        # If pmax is not 0, then proceed with \n",
    "        # getting state for which probability is maximum\n",
    "        if pmax == 0:\n",
    "            state_max = getStateForWord(words[key])\n",
    "        else:\n",
    "            state_max = T[p.index(pmax)] \n",
    "        \n",
    "        state.append(state_max)\n",
    "        \n",
    "    return list(zip(words, state))\n",
    "\n",
    "# tagging the test sentences\n",
    "def tagSentencesViterbiV2(words2BeTagged):\n",
    "    start = time.time()\n",
    "    tagged_seq = ViterbiV2(words2BeTagged)\n",
    "    end = time.time()\n",
    "    difference = end-start\n",
    "    print(\"***Time taken to tag**** \", difference)\n",
    "    return tagged_seq\n",
    "\n"
   ]
  },
  {
   "cell_type": "code",
   "execution_count": null,
   "metadata": {},
   "outputs": [],
   "source": [
    "temp_test_words = ['Android', 'is', 'a', 'mobile', 'operating', 'system', 'developed', 'by', 'Google', '.', \n",
    "                   'Android', 'has', 'been', 'the', 'best-selling', 'OS', 'worldwide', 'on', 'smartphones', \n",
    "                   'since', '2011', 'and', 'on', 'tablets', 'since', '2013', '.', \n",
    "                   'Google', 'and', 'Twitter', 'made', 'a', 'deal', 'in', '2015', 'that', 'gave', 'Google', 'access', \n",
    "                   'to', 'Twitter', \"'s\", 'firehose', '.']\n",
    "\n",
    "wordsAndTags_from_test_lines = tagSentencesViterbiV2(temp_test_words)\n",
    "print(\"****Words and tags from ViterbiV2*****\\n\", wordsAndTags_from_test_lines)"
   ]
  },
  {
   "cell_type": "code",
   "execution_count": null,
   "metadata": {},
   "outputs": [],
   "source": [
    "tagged_seq_v2 = tagSentencesViterbiV2(test_tagged_words)\n",
    "viterbiV2Accuracy = checkAccuracy(tagged_seq_v2, test_run_base)\n",
    "print(viterbiV2Accuracy)"
   ]
  },
  {
   "cell_type": "markdown",
   "metadata": {},
   "source": [
    "### Accuracy jumped to 94% which is better than vanilla Viterbi."
   ]
  },
  {
   "cell_type": "markdown",
   "metadata": {},
   "source": [
    "### Version 2 of Viterbi - Use a smoothening constant.\n",
    "### Note that if the word is alien, the emission probability is 0. Its unfair to drag the state to 0 and hence to similate 0 emission probability assign a value that is smaller than the probability of other words. It requires a bit of tuning to get good accuracy."
   ]
  },
  {
   "cell_type": "code",
   "execution_count": null,
   "metadata": {},
   "outputs": [],
   "source": [
    "# Viterbi Heuristic\n",
    "SMOOTHENING_CONSTANT = 0.00001\n",
    "def ViterbiV3(words, train_bag = train_wordAndTag_list):\n",
    "    state = []\n",
    "    T = list(set([pair[1] for pair in train_bag]))\n",
    "    \n",
    "    for key, word in enumerate(words):\n",
    "        #initialise list of probability column for a given observation\n",
    "        p = [] \n",
    "        for tag in T:\n",
    "            if key == 0:\n",
    "                transition_p = tags_df.loc['.', tag]\n",
    "            else:\n",
    "                #print(\"**state[-1]** \", state[-1])\n",
    "                transition_p = tags_df.loc[state[-1], tag]\n",
    "                \n",
    "            # compute emission and state probabilities\n",
    "            emissionNAndD = word_given_tag(words[key], tag)\n",
    "            emission_p = emissionNAndD[0]/emissionNAndD[1]  \n",
    "            if emission_p == 0:\n",
    "                emission_p = SMOOTHENING_CONSTANT\n",
    "            \n",
    "            state_probability = emission_p * transition_p    \n",
    "            p.append(state_probability)\n",
    "            \n",
    "        pmax = max(p)\n",
    "        # getting state for which probability is maximum\n",
    "        state_max = T[p.index(pmax)] \n",
    "        state.append(state_max)\n",
    "    return list(zip(words, state))\n",
    "\n",
    "\n",
    "# tagging the test sentences\n",
    "def tagSentencesViterbiV3(words2BeTagged):\n",
    "    start = time.time()\n",
    "    tagged_seq = ViterbiV3(words2BeTagged)\n",
    "    end = time.time()\n",
    "    difference = end-start\n",
    "    print(\"***Time taken to tag**** \", difference)\n",
    "    return tagged_seq"
   ]
  },
  {
   "cell_type": "code",
   "execution_count": null,
   "metadata": {},
   "outputs": [],
   "source": [
    "tagged_seq_v3 = tagSentencesViterbiV3(test_tagged_words)\n",
    "viterbiV3Accuracy = checkAccuracy(tagged_seq_v3, test_run_base)\n",
    "print(viterbiV3Accuracy)"
   ]
  },
  {
   "cell_type": "markdown",
   "metadata": {},
   "source": [
    "### Accuracy is 91%, better than vanilla Viterbi but not as good as rule based."
   ]
  },
  {
   "cell_type": "markdown",
   "metadata": {},
   "source": [
    "### Version 3 of Viterbi - Assign the tag that occurs maximum in the training corpus.\n",
    "### The tag that occurs maximum number of times in the training corpus is NOUN followed by VERB. We will assign NOUN as the tag for alien words. "
   ]
  },
  {
   "cell_type": "code",
   "execution_count": null,
   "metadata": {},
   "outputs": [],
   "source": [
    "# Viterbi Heuristic\n",
    "def ViterbiV4(words, train_bag = train_wordAndTag_list):\n",
    "    state = []\n",
    "    T = list(set([pair[1] for pair in train_bag]))\n",
    "    \n",
    "    for key, word in enumerate(words):\n",
    "        #initialise list of probability column for a given observation\n",
    "        p = [] \n",
    "        for tag in T:\n",
    "            if key == 0:\n",
    "                transition_p = tags_df.loc['.', tag]\n",
    "            else:\n",
    "                transition_p = tags_df.loc[state[-1], tag]\n",
    "                \n",
    "            # compute emission and state probabilities\n",
    "            emissionNAndD = word_given_tag(words[key], tag)\n",
    "            emission_p = emissionNAndD[0]/emissionNAndD[1]            \n",
    "            state_probability = emission_p * transition_p    \n",
    "            p.append(state_probability)\n",
    "            \n",
    "        pmax = max(p)\n",
    "        \n",
    "        # If pmax is 0, assign the tag that occurs most, which is NOUN\n",
    "        # ELSE\n",
    "        # If pmax is not 0, then proceed with \n",
    "        # getting state for which probability is maximum\n",
    "        if pmax == 0:\n",
    "            state_max = \"NOUN\"\n",
    "        else:\n",
    "            state_max = T[p.index(pmax)] \n",
    "        \n",
    "        state.append(state_max)\n",
    "        \n",
    "    return list(zip(words, state))\n",
    "\n",
    "# tagging the test sentences\n",
    "def tagSentencesViterbiV4(words2BeTagged):\n",
    "    start = time.time()\n",
    "    tagged_seq = ViterbiV4(words2BeTagged)\n",
    "    end = time.time()\n",
    "    difference = end-start\n",
    "    print(\"***Time taken to tag**** \", difference)\n",
    "    return tagged_seq"
   ]
  },
  {
   "cell_type": "code",
   "execution_count": null,
   "metadata": {},
   "outputs": [],
   "source": [
    "tagged_seq_v4 = tagSentencesViterbiV4(test_tagged_words)\n",
    "viterbiV4Accuracy = checkAccuracy(tagged_seq_v4, test_run_base)\n",
    "print(viterbiV4Accuracy)"
   ]
  },
  {
   "cell_type": "markdown",
   "metadata": {},
   "source": [
    "### Accuracy is 93% comparable to rule based. Even this is a rule based algorithm."
   ]
  },
  {
   "cell_type": "markdown",
   "metadata": {},
   "source": [
    "### Step 5. Compare the tagging accuracies of the modifications with the vanilla Viterbi algorithm"
   ]
  },
  {
   "cell_type": "markdown",
   "metadata": {},
   "source": [
    "### From the Test_sentences.txt, we pick 3 sentences, and apply the 4 versions of the Viterbi Algorithm and check which one did well."
   ]
  },
  {
   "cell_type": "markdown",
   "metadata": {},
   "source": [
    "### Pick 3 sentences"
   ]
  },
  {
   "cell_type": "code",
   "execution_count": null,
   "metadata": {},
   "outputs": [],
   "source": [
    "words_in_test_sentences = [ \n",
    "'Android', 'has', 'been', 'the', 'best-selling', 'OS', 'worldwide', 'on', 'smartphones', 'since', '2011', 'and', 'on', \n",
    "'tablets', 'since', '2013', '.', \n",
    "'Google', 'and', 'Twitter', 'made', 'a', 'deal', 'in', '2015', 'that', 'gave', 'Google', 'access', 'to', \n",
    "'Twitter', \"'s\", 'firehose', '.', \n",
    "'Twitter', 'is', 'an', 'online', 'news', 'and', 'social', 'networking', 'service', 'on', 'which', 'users', \n",
    "'post', 'and', 'interact', 'with', 'messages', 'known', 'as', 'tweets', '.',\n",
    "]"
   ]
  },
  {
   "cell_type": "markdown",
   "metadata": {},
   "source": [
    "### Vanilla Viterbi - Alien words are tagged wrong."
   ]
  },
  {
   "cell_type": "code",
   "execution_count": null,
   "metadata": {},
   "outputs": [],
   "source": [
    "tagged_words_Run1 = tagSentencesViterbi(words_in_test_sentences)\n",
    "print(tagged_words_Run1)"
   ]
  },
  {
   "cell_type": "markdown",
   "metadata": {},
   "source": [
    "### Viterbi with regex and modified forms - Alien words are tagged close to reality.\n",
    "#### Most of the nouns are tagged right, except smartphones."
   ]
  },
  {
   "cell_type": "code",
   "execution_count": null,
   "metadata": {},
   "outputs": [],
   "source": [
    "tagged_words_Run2 = tagSentencesViterbiV2(words_in_test_sentences)\n",
    "print(tagged_words_Run2)"
   ]
  },
  {
   "cell_type": "markdown",
   "metadata": {},
   "source": [
    "### Viterbi with laplace smoothening - Alien words are tagged second best to regex and modified form Viterbi.\n",
    "#### A few numbers are tagged wrong."
   ]
  },
  {
   "cell_type": "code",
   "execution_count": null,
   "metadata": {},
   "outputs": [],
   "source": [
    "tagged_words_Run3 = tagSentencesViterbiV3(words_in_test_sentences)\n",
    "print(tagged_words_Run3)"
   ]
  },
  {
   "cell_type": "markdown",
   "metadata": {},
   "source": [
    "### Viterbi with NOUN tagging for all aliens - Performs worst of all 3 Viterbis.\n",
    "#### Note that all the alien words are tagged NOUNS, which reduces accuracy."
   ]
  },
  {
   "cell_type": "code",
   "execution_count": null,
   "metadata": {},
   "outputs": [],
   "source": [
    "tagged_words_Run4 = tagSentencesViterbiV4(words_in_test_sentences)\n",
    "print(tagged_words_Run4)"
   ]
  },
  {
   "cell_type": "markdown",
   "metadata": {},
   "source": [
    "#### END OF SOLUTION"
   ]
  }
 ],
 "metadata": {
  "kernelspec": {
   "display_name": "Python 3",
   "language": "python",
   "name": "python3"
  },
  "language_info": {
   "codemirror_mode": {
    "name": "ipython",
    "version": 3
   },
   "file_extension": ".py",
   "mimetype": "text/x-python",
   "name": "python",
   "nbconvert_exporter": "python",
   "pygments_lexer": "ipython3",
   "version": "3.8.3"
  }
 },
 "nbformat": 4,
 "nbformat_minor": 2
}
