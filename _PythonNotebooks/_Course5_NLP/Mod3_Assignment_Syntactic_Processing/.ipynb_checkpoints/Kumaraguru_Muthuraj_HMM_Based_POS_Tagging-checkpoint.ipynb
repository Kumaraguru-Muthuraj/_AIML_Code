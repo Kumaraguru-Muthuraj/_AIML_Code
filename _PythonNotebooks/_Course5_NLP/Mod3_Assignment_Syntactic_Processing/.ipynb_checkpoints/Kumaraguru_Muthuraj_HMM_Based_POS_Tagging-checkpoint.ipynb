{
 "cells": [
  {
   "cell_type": "markdown",
   "metadata": {},
   "source": [
    "## HMM Based POS Tagging Assignment\n",
    "### Author - Kumaraguru Muthuraj\n",
    "\n",
    "#### Solution description\n",
    "1. Tagged Treebank corpus is available (Sample data to training and test data set)\n",
    "   - Basic text and structure exploration\n",
    "2. Creating HMM model on the tagged data set.\n",
    "   - Calculating Emission Probabaility: P(observation|state)\n",
    "   - Calculating Transition Probability: P(state2|state1)\n",
    "3. Checking accuracy on the test data set"
   ]
  },
  {
   "cell_type": "markdown",
   "metadata": {},
   "source": [
    "### 1. Exploring the treebank dataset -  data preparation"
   ]
  },
  {
   "cell_type": "code",
   "execution_count": 1,
   "metadata": {},
   "outputs": [],
   "source": [
    "#Importing libraries\n",
    "import nltk\n",
    "import re, pprint\n",
    "import numpy as np\n",
    "import pandas as pd\n",
    "#import requests\n",
    "import matplotlib.pyplot as plt\n",
    "import seaborn as sns\n",
    "import pprint, time\n",
    "import random\n",
    "from sklearn.model_selection import train_test_split\n",
    "from nltk.tokenize import word_tokenize\n",
    "import codecs"
   ]
  },
  {
   "cell_type": "code",
   "execution_count": 2,
   "metadata": {},
   "outputs": [
    {
     "name": "stderr",
     "output_type": "stream",
     "text": [
      "[nltk_data] Downloading package treebank to\n",
      "[nltk_data]     C:\\Users\\kumaraguru\\AppData\\Roaming\\nltk_data...\n",
      "[nltk_data]   Package treebank is already up-to-date!\n",
      "[nltk_data] Downloading package universal_tagset to\n",
      "[nltk_data]     C:\\Users\\kumaraguru\\AppData\\Roaming\\nltk_data...\n",
      "[nltk_data]   Package universal_tagset is already up-to-date!\n"
     ]
    },
    {
     "data": {
      "text/plain": [
       "True"
      ]
     },
     "execution_count": 2,
     "metadata": {},
     "output_type": "execute_result"
    }
   ],
   "source": [
    "nltk.download('treebank')\n",
    "nltk.download('universal_tagset')"
   ]
  },
  {
   "cell_type": "code",
   "execution_count": 3,
   "metadata": {},
   "outputs": [],
   "source": [
    "# Load the UNIVERSAL tagset from Treebank\n",
    "nltk_data = list(nltk.corpus.treebank.tagged_sents(tagset='universal'))"
   ]
  },
  {
   "cell_type": "code",
   "execution_count": 4,
   "metadata": {},
   "outputs": [
    {
     "name": "stdout",
     "output_type": "stream",
     "text": [
      "***Length of the data set ****  3914\n",
      "\n",
      "\n",
      "***First few lines*****\n"
     ]
    },
    {
     "data": {
      "text/plain": [
       "[[('Pierre', 'NOUN'),\n",
       "  ('Vinken', 'NOUN'),\n",
       "  (',', '.'),\n",
       "  ('61', 'NUM'),\n",
       "  ('years', 'NOUN'),\n",
       "  ('old', 'ADJ'),\n",
       "  (',', '.'),\n",
       "  ('will', 'VERB'),\n",
       "  ('join', 'VERB'),\n",
       "  ('the', 'DET'),\n",
       "  ('board', 'NOUN'),\n",
       "  ('as', 'ADP'),\n",
       "  ('a', 'DET'),\n",
       "  ('nonexecutive', 'ADJ'),\n",
       "  ('director', 'NOUN'),\n",
       "  ('Nov.', 'NOUN'),\n",
       "  ('29', 'NUM'),\n",
       "  ('.', '.')],\n",
       " [('Mr.', 'NOUN'),\n",
       "  ('Vinken', 'NOUN'),\n",
       "  ('is', 'VERB'),\n",
       "  ('chairman', 'NOUN'),\n",
       "  ('of', 'ADP'),\n",
       "  ('Elsevier', 'NOUN'),\n",
       "  ('N.V.', 'NOUN'),\n",
       "  (',', '.'),\n",
       "  ('the', 'DET'),\n",
       "  ('Dutch', 'NOUN'),\n",
       "  ('publishing', 'VERB'),\n",
       "  ('group', 'NOUN'),\n",
       "  ('.', '.')],\n",
       " [('Rudolph', 'NOUN'),\n",
       "  ('Agnew', 'NOUN'),\n",
       "  (',', '.'),\n",
       "  ('55', 'NUM'),\n",
       "  ('years', 'NOUN'),\n",
       "  ('old', 'ADJ'),\n",
       "  ('and', 'CONJ'),\n",
       "  ('former', 'ADJ'),\n",
       "  ('chairman', 'NOUN'),\n",
       "  ('of', 'ADP'),\n",
       "  ('Consolidated', 'NOUN'),\n",
       "  ('Gold', 'NOUN'),\n",
       "  ('Fields', 'NOUN'),\n",
       "  ('PLC', 'NOUN'),\n",
       "  (',', '.'),\n",
       "  ('was', 'VERB'),\n",
       "  ('named', 'VERB'),\n",
       "  ('*-1', 'X'),\n",
       "  ('a', 'DET'),\n",
       "  ('nonexecutive', 'ADJ'),\n",
       "  ('director', 'NOUN'),\n",
       "  ('of', 'ADP'),\n",
       "  ('this', 'DET'),\n",
       "  ('British', 'ADJ'),\n",
       "  ('industrial', 'ADJ'),\n",
       "  ('conglomerate', 'NOUN'),\n",
       "  ('.', '.')],\n",
       " [('A', 'DET'),\n",
       "  ('form', 'NOUN'),\n",
       "  ('of', 'ADP'),\n",
       "  ('asbestos', 'NOUN'),\n",
       "  ('once', 'ADV'),\n",
       "  ('used', 'VERB'),\n",
       "  ('*', 'X'),\n",
       "  ('*', 'X'),\n",
       "  ('to', 'PRT'),\n",
       "  ('make', 'VERB'),\n",
       "  ('Kent', 'NOUN'),\n",
       "  ('cigarette', 'NOUN'),\n",
       "  ('filters', 'NOUN'),\n",
       "  ('has', 'VERB'),\n",
       "  ('caused', 'VERB'),\n",
       "  ('a', 'DET'),\n",
       "  ('high', 'ADJ'),\n",
       "  ('percentage', 'NOUN'),\n",
       "  ('of', 'ADP'),\n",
       "  ('cancer', 'NOUN'),\n",
       "  ('deaths', 'NOUN'),\n",
       "  ('among', 'ADP'),\n",
       "  ('a', 'DET'),\n",
       "  ('group', 'NOUN'),\n",
       "  ('of', 'ADP'),\n",
       "  ('workers', 'NOUN'),\n",
       "  ('exposed', 'VERB'),\n",
       "  ('*', 'X'),\n",
       "  ('to', 'PRT'),\n",
       "  ('it', 'PRON'),\n",
       "  ('more', 'ADV'),\n",
       "  ('than', 'ADP'),\n",
       "  ('30', 'NUM'),\n",
       "  ('years', 'NOUN'),\n",
       "  ('ago', 'ADP'),\n",
       "  (',', '.'),\n",
       "  ('researchers', 'NOUN'),\n",
       "  ('reported', 'VERB'),\n",
       "  ('0', 'X'),\n",
       "  ('*T*-1', 'X'),\n",
       "  ('.', '.')],\n",
       " [('The', 'DET'),\n",
       "  ('asbestos', 'NOUN'),\n",
       "  ('fiber', 'NOUN'),\n",
       "  (',', '.'),\n",
       "  ('crocidolite', 'NOUN'),\n",
       "  (',', '.'),\n",
       "  ('is', 'VERB'),\n",
       "  ('unusually', 'ADV'),\n",
       "  ('resilient', 'ADJ'),\n",
       "  ('once', 'ADP'),\n",
       "  ('it', 'PRON'),\n",
       "  ('enters', 'VERB'),\n",
       "  ('the', 'DET'),\n",
       "  ('lungs', 'NOUN'),\n",
       "  (',', '.'),\n",
       "  ('with', 'ADP'),\n",
       "  ('even', 'ADV'),\n",
       "  ('brief', 'ADJ'),\n",
       "  ('exposures', 'NOUN'),\n",
       "  ('to', 'PRT'),\n",
       "  ('it', 'PRON'),\n",
       "  ('causing', 'VERB'),\n",
       "  ('symptoms', 'NOUN'),\n",
       "  ('that', 'DET'),\n",
       "  ('*T*-1', 'X'),\n",
       "  ('show', 'VERB'),\n",
       "  ('up', 'PRT'),\n",
       "  ('decades', 'NOUN'),\n",
       "  ('later', 'ADJ'),\n",
       "  (',', '.'),\n",
       "  ('researchers', 'NOUN'),\n",
       "  ('said', 'VERB'),\n",
       "  ('0', 'X'),\n",
       "  ('*T*-2', 'X'),\n",
       "  ('.', '.')]]"
      ]
     },
     "execution_count": 4,
     "metadata": {},
     "output_type": "execute_result"
    }
   ],
   "source": [
    "# PRINT first few tagged sentences\n",
    "print(\"***Length of the data set **** \", len(nltk_data))\n",
    "# samples: Each sentence is a list of (word, pos) tuples\n",
    "print(\"\\n\\n***First few lines*****\")\n",
    "nltk_data[:5]"
   ]
  },
  {
   "cell_type": "code",
   "execution_count": 5,
   "metadata": {},
   "outputs": [
    {
     "name": "stdout",
     "output_type": "stream",
     "text": [
      "***Length of the training data set ****  3718\n",
      "***Length of the test data set ****  196\n",
      "\n",
      "\n",
      "*****Print a few lines*****\n",
      " [[('Without', 'ADP'), ('the', 'DET'), ('Cray-3', 'NOUN'), ('research', 'NOUN'), ('and', 'CONJ'), ('development', 'NOUN'), ('expenses', 'NOUN'), (',', '.'), ('the', 'DET'), ('company', 'NOUN'), ('would', 'VERB'), ('have', 'VERB'), ('been', 'VERB'), ('able', 'ADJ'), ('*-2', 'X'), ('to', 'PRT'), ('report', 'VERB'), ('a', 'DET'), ('profit', 'NOUN'), ('of', 'ADP'), ('$', '.'), ('19.3', 'NUM'), ('million', 'NUM'), ('*U*', 'X'), ('*ICH*-3', 'X'), ('for', 'ADP'), ('the', 'DET'), ('first', 'ADJ'), ('half', 'DET'), ('of', 'ADP'), ('1989', 'NUM'), ('rather', 'ADV'), ('than', 'ADP'), ('the', 'DET'), ('$', '.'), ('5.9', 'NUM'), ('million', 'NUM'), ('*U*', 'X'), ('0', 'X'), ('it', 'PRON'), ('posted', 'VERB'), ('*T*-1', 'X'), ('.', '.')], [('In', 'ADP'), ('October', 'NOUN'), ('1988', 'NUM'), (',', '.'), ('7.3', 'NUM'), ('%', 'NOUN'), ('said', 'VERB'), ('0', 'X'), ('they', 'PRON'), ('would', 'VERB'), ('buy', 'VERB'), ('a', 'DET'), ('car', 'NOUN'), ('.', '.')], [('The', 'DET'), ('speed', 'NOUN'), ('of', 'ADP'), ('his', 'PRON'), ('transaction', 'NOUN'), ('is', 'VERB'), (\"n't\", 'ADV'), ('*-1', 'X'), ('to', 'PRT'), ('be', 'VERB'), ('feared', 'VERB'), ('*-79', 'X'), ('either', 'ADV'), (',', '.'), ('because', 'ADP'), ('faster', 'ADJ'), ('and', 'CONJ'), ('cleaner', 'ADJ'), ('execution', 'NOUN'), ('is', 'VERB'), ('desirable', 'ADJ'), (',', '.'), ('not', 'ADV'), ('loathsome', 'ADJ'), ('.', '.')], [('Moody', 'NOUN'), (\"'s\", 'PRT'), ('said', 'VERB'), ('0', 'X'), ('those', 'DET'), ('returns', 'NOUN'), ('compare', 'VERB'), ('with', 'ADP'), ('a', 'DET'), ('3.8', 'NUM'), ('%', 'NOUN'), ('total', 'ADJ'), ('return', 'NOUN'), ('for', 'ADP'), ('longer-term', 'ADJ'), ('Treasury', 'NOUN'), ('notes', 'NOUN'), ('and', 'CONJ'), ('bonds', 'NOUN'), ('.', '.')], [('Sales', 'NOUN'), ('rose', 'VERB'), ('10', 'NUM'), ('%', 'NOUN'), ('to', 'PRT'), ('$', '.'), ('13.8', 'NUM'), ('billion', 'NUM'), ('*U*', 'X'), ('from', 'ADP'), ('$', '.'), ('12.5', 'NUM'), ('billion', 'NUM'), ('*U*', 'X'), ('.', '.')]]\n"
     ]
    }
   ],
   "source": [
    "#5% of data, according to https://learn.upgrad.com/v/course/1120/session/169917/segment/904732\n",
    "TEST_DATA_PERCENT = 0.05 \n",
    "\n",
    "# Splitting into train and test\n",
    "train_set, test_set = train_test_split(nltk_data, test_size = TEST_DATA_PERCENT)\n",
    "\n",
    "print(\"***Length of the training data set **** \", len(train_set))\n",
    "print(\"***Length of the test data set **** \", len(test_set))\n",
    "\n",
    "print(\"\\n\\n*****Print a few lines*****\\n\", train_set[:5])"
   ]
  },
  {
   "cell_type": "code",
   "execution_count": 6,
   "metadata": {},
   "outputs": [
    {
     "data": {
      "text/plain": [
       "95487"
      ]
     },
     "execution_count": 6,
     "metadata": {},
     "output_type": "execute_result"
    }
   ],
   "source": [
    "# Getting list of tagged words\n",
    "train_wordAndTag_list = [wordAndTag for sentence in train_set for wordAndTag in sentence]\n",
    "len(train_wordAndTag_list)"
   ]
  },
  {
   "cell_type": "code",
   "execution_count": 7,
   "metadata": {},
   "outputs": [
    {
     "data": {
      "text/plain": [
       "[('Without', 'ADP'),\n",
       " ('the', 'DET'),\n",
       " ('Cray-3', 'NOUN'),\n",
       " ('research', 'NOUN'),\n",
       " ('and', 'CONJ')]"
      ]
     },
     "execution_count": 7,
     "metadata": {},
     "output_type": "execute_result"
    }
   ],
   "source": [
    "train_wordAndTag_list[:5]"
   ]
  },
  {
   "cell_type": "code",
   "execution_count": 8,
   "metadata": {},
   "outputs": [
    {
     "name": "stdout",
     "output_type": "stream",
     "text": [
      "12074\n",
      "{'bag', 'Order', 'tricky', 'Supportive', 'Child', 'sheet', 'presidency', 'miles', 'tag', 'CEOs', 'marketers', 'chairs', 'momentary', 'Nixon', 'swapping', 'ward', '*-9', 'schools', 'names', '*-153', 'stayed', 'alive', 'Reducing', 'exchange', 'nine-year', 'expert', 'Nev.', 'pain', 'Claude', 'Rubinfien', 'Univest', 'provoke', 'pride', 'signing', 'alcohol', '*-62', 'otherwise', 'recession', 'fought', 'slower', 'unworkable', 'Kelli', '1983', 'carefully', 'Van', 'Taurus', 'enclosed', 'submit', 'year-ago', '17-year-old', 'restricting', '14.26', '14,821', 'attendance', 'merged', 'stakes', 'trillion', 'DISCOUNT', 'panel', 'wine-making', 'carried', 'subordinate', 'drivers', '8.75', 'Dow', '143.80', 'Trinity', 'destroy', 'Dallas', 'Systems', '84-month', '3.1', 'intraday', 'Each', '300', 'formerly', 'insistence', 'cadet', 'Massachusetts', 'row', 'start', 'Lafite-Rothschild', 'convey', 'scientists', 'Avenue', 'soured', 'banks', 'apartment', 'big-time', 'buyers', 'Camille', 'Like', 'store', 'delete', 'pay', '*T*-114', 'appeals', 'Ga.', 'targeted', 'Marty', '445', 'Carney', 'completed', 'elephant', 'third-highest', 'blocks', 'deal', 'Tulane', 'Richard', 'waiting', 'Goldinger', 'Jennison', 'Compound', 'child', '3.625', 'column', '*-161', 'EST', 'Brooke', 'milestones', 'options', 'cult', '*T*-31', '191.9', 'assaults', 'Myron', 'partly', 'idea', 'match', 'record-keeping', 'phrase', 'major', 'foreign-led', 'cheaper', '*T*-206', 'diversionary', 'EEOC', 'Byron', 'restrictions', 'Foster', 'sell-off', 'lab', 'accounted', 'firm', 'run', 'Wine', 'reaped', 'uncanny', 'Gas', 'Encouraged', 'Wednesday', 'megabytes', 'faithful', '60.36', 'creams', 'rebels', '1929', 'crack', 'Simon', 'soon', 'Lloyd', 'ball', 'ECONOMIC', 'executed', 'buffet', 'Russo', 'outdistanced', 'physicist', 'opening', 'suggest', 'refunding', 'Farm', 'peal', 'drastic', 'violence', 'rest', '1990-91', 'Voice', 'Group', 'knows', 'movie', 'begin', '*T*-177', 'owners', 'electrical-safety', 'Neuberger', 'projections', 'co-author', 'Rockford', 'Angelo', '*-111', 'topped', '*T*-213', 'Davis', '*-135', 'high-volume', 'rate', 'tire-kickers', 'land', 'Modifications', 'reporting', '*T*-223', 'bottles', 'appoint', 'brunt', 'chocolate', 'remain', 'Deane', 'lesions', 'asserted', 'yields', 'omnipresent', 'digs', '19.6', 'Kawasaki', 'shivers', 'Tokio', '3.253', 'aggressive', 'cabinet', 'Air', 'left', 'Chinchon', 'underline', 'Borge', '*T*-32', 'municipal', 'Forget', 'Latour', 'accommodations', 'JUDGE', 'nullified', 'emerging', 'television', 'relieve', 'institution', 'millions', 'lower', 'fuels', 'Parent', 'clues', 'Computer', 'craze', 'Foreigners', \"O'Brien\", '29.4', 'unhappy', 'capitalize', 'Administration', 'Oxnard', 'Sumitomo', 'Foods', '89.9', 'suburban', 'kicked', 'supercilious', 'attractions', 'explanatory', 'Fundamentalists', 'insider-trading', 'heard', 'predecessor', 'Reserves', 'notch', 'derived', '19', 'story', '*-98', 'despise', 'water', 'capacity', 'concession', 'quietly', 'there', 'Combo', 'Discos', 'cups', 'downturn', '94', 'Marcus', 'serious', 'discuss', 'Kearny', 'fared', 'scans', 'well', 'liberty', 'inquiry', 'topics', '778', 'hard-charging', 'Pet', 'money-fund', '7\\\\/8', 'make', 'bias', 'alternative', '*T*-70', 'cues', 'school-board', 'altogether', 'felonies', 'or', 'Intermediate', 'correct', 'preliminary', 'Then', 'modems', 'fill', 'independence', 'Herald-American', 'socialism', 'GOP', 'portrayal', 'enjoyed', 'orchestrated', 'Peninsula', 'ongoing', 'carillons', '5.92', 'troubles', 'Mara', 'appliances', 'begot', 'seats', 'smaller', 'video-viewing', 'sunlight', 'Taipei', 'Philippine', 'retailers', 'stirred', 'clicked', '198', 'enormously', 'chefs', '4.6', 'trail', 'novel', 'native', 'area', 'Latin', 'High', 'demonstrators', '1991', '*-19', 'watched', 'obsession', 'when-issued', 'thunder', 'Kennedy', 'social-studies', '24', 'drinks', 'risks', 'Rent-A-Car', '5.3', 'adjustable', '113.2', 'Jihad', 'qualified', 'blood-cell', 'Hasbrouk', 'galling', 'Cosmopolitan', 'irrelevant', 'visible', 'wrists', 'encounter', 'Programs', 'unchanged', 'consent', 'finalized', 'discussing', 'prestige', 'LIBOR', 'Sr.', 'moving', 'CAT', 'swapped', 'beginning', 'Advocates', 'Virginia', 'considers', '436.01', 'imposes', 'investigation', 'cutthroat', '*-152', 'unleashed', 'growths', 'facility', 'Reagan-Bush', 'Eaton', 'uncharted', 'considering', 'Underwood', '153.3', '3.5', 'photographs', 'dinner', 'none', 'mesothelioma', 'PAP', 'unexpected', 'exception', 'centers', 'amass', 'Impediments', 'curse', 'Street', 'device', 'broader', 'tad', 'reciting', '30-share', '456.64', '8300', 'marketing', 'powerful', 'retentive', 'licensed', 'dormitory', 'pit', 'college', 'bids', 'releases', 'option', 'Macheski', 'rollover', 'buy-outs', 'pounds', 'advertised', 'clamped', '372.14', 'billion', 'never', 'NEC', 'effects', 'contrasts', 'stoppage', 'Funded', 'recession-inspired', 'Chicago-style', 'shudders', 'alumni', 'McGuigan', 'positioned', 'lyrics', 'Avon', 'shovels', 'state-owned', 'Lines', '*-6', 'willing', 'bidder', 'secured', 'location', 'Examiner', 'Much', 'nutty', 'worthiness', 'work', 'mean', '*T*-122', 'Roukema', 'Ltd.', '*T*-182', 'intimately', 'Courts', 'Eakle', 'N.', 'swing', 'itself', 'Virtually', 'beyond', 'River', 'discussed', 'remained', 'Bureau', 'suffering', '5.70', 'wait', \"'d\", 'Dakota', 'blacks', 'Merchant', 'costs', '12.82', 'client', 'Fulham', '*T*-115', 'TV', 'downward', 'disaffiliation', 'Garanti', 'Media', 'mine', 'sparked', 'Saul', 'assuming', '11.72', 'painting', 'installment', 'critics', 'Danube', 'preparation', 'displays', 'Catholic', 'packaging', 'experience', 'Shelby', 'enjoying', 'threatens', 'locations', 'insisted', 'F', 'solicitor', '45.3', 'implant', 'Corps', 'Your', 'Rockefeller', 'regulation', 'Spillane', 'Lefcourt', 'sophisticated', \"'ll\", 'hostage', 'copying', 'dialogue', 'pegged', 'views', 'team', 'Money', 'approves', '89,500', 'AN', 'information-services', 'Man', '3.01', 'Imhoff', 'Grain', 'ancillary', 'sparking', '400,000', 'Care', 'reinvestment', 'CAMPAIGN', '*-60', 'soft', 'shares', 'Mayer', '4.8', 'late', 'yen-support', '116.4', 'doubled', 'Late', 'ENDED', 'hazards', 'Z.', 'Next', 'brightened', 'Lt.', '645,000', 'Tuscany', 'credits', 'come', 'slowdowns', 'Komatsu', '*-121', 'Rosenblum', 'martyr', 'Ross', 'totaling', 'Vineyard', 'Lucille', 'despite', 'Prudential-Bache', 'ounces', 'Saitama', 'shareholder', '*T*-128', 'Arbitrage-related', 'surviving', 'attempts', 'Weisfield', '2645.90', 'Carlos', 'OK', '2.2', 'angered', 'loans', 'sliding', 'leather', 'SERVICES', 'reimbursed', 'Austin', '3,288,453', 'unitholders', 'currency', 'rewards', 'illness', 'portrayed', 'features', 'Houghton', '0.4', 'revenues', 'ceramic', 'war-rationed', 'patents', '2.875', 'route', '*T*-25', 'Dobson', 'Islands', 'stance', 'coincidental', 'margins', 'Representative', 'passport', 'filters', 'comeback', 'Credit', 'confirmed', 'parliament', 'planes', 'According', '*T*-19', 'traitor', '319.75', 'it', 'Uzi-model', '5.8', 'label', 'presumably', 'readership', 'abortionist', 'Hudson', 'hitting', 'saving', 'index-options', 'sure', 'precise', '190-point', 'labor', 'symbol', '1.6', 'Camilli', '*T*-212', 'resentment', 'Traficant', 'pickers', 'nearly', 'Embassy', '5.5', 'Peabody', 'do', 'futures-related', 'Publishing', 'playwright', '14.75', 'Campbell', 'When', 'departures', 'Clara', 'mundane', 'Baker', 'temporary', 'statutory', 'sweetened', 'retires', 'executives', 'Landor', 'Banking', 'D.', 'distorted', 'Fahrenheit', 'Compare', 'upon', 'entrants', 'won', 'TIRED', 'containers', 'plea', 'push', 'exceedingly', 'reversal', 'easing', 'decries', 'trust', 'meaning', '1948', 'Barney', 'fleet', 'Bankruptcy', 'dressed', 'Cask', 'nine', 'create', '62.1', 'estimate', 'six-packs', 'MacLellan', 'Herald', 'controversial', 'responsive', 'maybe', 'raised', 'Freeport-McMoRan', 'rhythmically', 'floating-rate', 'short-term', 'finds', '*-15', 'America', 'promising', 'signs', 'penalties', 'redeem', '1.82', 'ounce', 'carbon', 'possessions', 'entangled', 'step', 'publication', 'achieved', 'proving', 'unjust', 'Miklos', 'BALLOT', 'Goldsmith', 'expired', '50\\\\/50', 'signaling', 'Always', 'voices', 'S.p', 'spreads', '70-a-share', 'reported', '19.50', 'Ministry', 'visiting', '6.25', 'Newgate', 'Al', 'Otherwise', 'appropriated', '*T*-113', 'worksheets', 'ancient', 'flies', 'indication', 'withdrawn', 'high-yield', 'more-advanced', 'MORTGAGE', 'Pardus', 'high-technology', 'concluded', 'with', '8.1', 'polarized', 'talked', 'upsetting', 'harsh', 'Last', 'influencing', 'owned', 'Philadelphia', 'punishment', 'gubernatorial', 'jitters', 'crop', '*T*-175', 'borough', 'grows', 'environmentalists', 'Corn', 'net', 'Trettien', 'advances', 'sweater', 'quickly', 'advance', 'analysts', 'architect', 'sauce', 'Midwest', 'tomorrow', 'initially', 'appliance', '203', '102', 'Guber\\\\/Peters', 'situations', 'wines', 'producers', 'balls', 'Kirkpatrick', 'grains', 'surprising', 'by', 'errors', 'takes', 'truthful', 'Pamela', 'Improvement', '70', 'secondary', 'sweeten', '170,000', '*-124', 'high-quality', 'seat', 'Haven', 'mistrials', 'buildup', 'week', '494.50', 'Brussels', 'oversee', 'Exports', 'incest', 'exporter', 'Scowcroft', '*T*-134', 'rooted', 'Beth', 'unconsolidated', 'IX', 'operating', 'Northern', 'Foundation', '1970', 'Yesterday', 'UNION', 'underpin', 'fear', 'environments', 'Kenneth', 'generic', '150', '*-66', 'able', 'Test', 'extended', 'unjustified', 'Scoring', 'stalemate', 'expensive', 'marketing-communications', 'supply', '*T*-149', 'neighborhoods', 'Fourteen', 'honor', 'bankrupt', 'SDI', 'officers', '*-38', 'multi-crystal', '89.7', 'Lobo', 'termed', 'reclaimed', 'journalists', 'reflects', 'clerks', 'Kingsbridge', 'documents', 'economists', 'bundles', 'Providence', 'retractable', '#', 'varied', 'Joseph', 'bond', 'Stuart', 'year-to-year', 'reach', 'succeeding', 'heavy-duty', 'desires', '*T*-67', 'resulting', '273.5', '27-year', '386', 'House-Senate', 'recognize', 'money-losing', '69', 'scenes', 'Heidelberg', '1995', '605', 'Ratners', 'Jonas', 'Mortgage', 'attract', 'maximum', '0.56', 'Robertson', 'Chrysler', 'Policies', 'Rockwell', 'Groups', 'within', 'one-house', 'reaction', 'notable', 'Named', 'guide', '``', 'Nebraska', 'attributed', 'seller', 'day-to-day', '129.91', 'worth', 'Philip', 'combinations', 'Some', 'two-letter', 'feel', 'Miller', 'largest', 'Gates', '84.29', 'retain', 'Sol', 'relief', 'cancer', 'Jacob', 'Joel', 'troublesome', 'indications', 'industrial-production', 'architecture', 'Correll', 'developed', 'result', 'overpaying', 'films', 'satisfactory', 'tubular', 'Macmillan\\\\/McGraw', 'puts', 'deficiencies', 'flow', 'Rubber', 'worrying', 'learned', 'tutorials', 'pilots', 'dislike', 'reallocated', 'rebuild', 'Corton-Charlemagne', 'seven-million-ton', 'spurns', 'TRUST', 'weakening', 'NL', 'Mount', 'disagrees', 'ready', 'machinery', '*-112', 'high-rate', 'delay', 'Delaware', 'Des', 'excesses', 'Sugarman', 'inherited', 'Leigh', 'Si', 'Inventories', 'different', 'real-estate', 'correcting', 'fully', 'investor', 'Actually', 'coordinator', 'Nylev', 'relevance', 'crossed', 'prosecutor', 'case', 'entitles', '*T*-254', 'advised', 'Show', 'Stamford', 'fearful', 'continuing', 'mouth-up', 'changes', 'INTER-TEL', 'brushed', '397', 'Today', 'provides', 'reluctance', 'Pick', '16.9', 'Cancer', 'moderate', 'Kent', 'last', 'laws', 'acquisitions', 'patented', 'Phipps', 'traditionalists', 'Nipponese', 'upset', 'contends', 'evaporated', 'Biondi-Santi', 'Wamre', 'attacking', 'reformers', 'replacement', '917', 'attention', 'Texan', 'banned', '1.457', 'understanding', 'capitalist', 'good-natured', 'prospects', 'signboards', 'assault', '100,980', 'dailies', 'checks', 'fallen', '877,663', 'Safety', 'sports-oriented', 'size', 'rights', '88', 'succeeds', 'Assistant', 'fastest', 'Santa', 'over-the-counter', 'asked', 'disorders', '500,004', 'breezy', 'municipalities', '306', 'R.I.', 'Interleukin-3', '*T*-219', '188', 'deals', 'retailing', 'semiconductors', 'Mexico', '169.9', '1999', '57.50', 'adopt', \"D'Amico\", 'Partners', 'quotations', 'shrank', 'Legend', 'shedding', 'lion', '99', 'import', 'twin', 'accrue', 'newsroom', 'Buyers', '47.125', 'accounting', 'computer-driven', 'Ginnie', 'refocusing', '512', 'Arthur', 'Insight', 'effective', 'conceding', 'Transamerica', 'implicit', 'Bretz', 'legislative', 'participant', 'lending', '0.82', 'seasonal', 'campaigning', '500-stock', 'consideration', 'stockholders', 'proved', 'break', 'bonds', 'federally', 'employers', '*T*-150', 'studiously', 'Achievement', 'suggested', '*-154', 'pre-tax', 'C.D.s', 'demise', 'three-month', 'How', '30,000', 'Carlton', 'viewed', 'Salmore', 'incorporated', 'stock-picking', '85', '1994', 'invariably', '*-99', '*T*-79', 'Kurland', 'botched', 'posters', '*T*-55', 'notwithstanding', 'Arizona', 'attempt', '2.19', 'Frank', 'Those', 'Marina', 'offering', 'Toledo', 'Moving', 'coal-fired', 'reporters', 'One', 'clashed', 'news', 'Huge', 'foot', 'absurd', 'auditor', 'Smelting', 'built', '4.875', 'expelled', 'practiced', 'source', 'Choose', 'Billings', 'your', '*T*-72', 'sinister', 'odd', 'touch', 'grants', 'taxes', 'less', 'Housing', 'male-only', 'bargain', 'plenty', 'redistributing', 'anti-miscarriage', '*T*-112', 'wrecking', 'stepping', 'Phillips', 'quarters', 'sweat', 'stress', 'security-type', 'divisions', 'Strait', 'Mickey', 'marrow', 'material', 'reorganized', 'belfry', 'Landrieu', 'fiber-end', 'rural', 'refusal', 'consonant', 'eased', 'parts', 'ShareData', '*T*-199', 'Nasty', 'proceeds', 'opposition', 'amounts', 'installing', '8.47', 'common', 'earning', 'floors', 'abortion', 'Financially', 'enters', 'Chardonnay', 'statewide', 'rim', 'CERTIFICATES', 'battles', 'indexes', 'Finance', 'smoking', 'depleted', 'prior', 'region', '2.95', 'Destinations', 'drove', 'fired', '*T*-54', 'gained', '3.2', 'boom', 'gloss', 'cut', 'Trudeau', 'bell-ringing', 'Feb.', 'viewership', 'automation', 'Ferro', 'CS', 'judges', 'ever', 'mentally', 'Fantasy', 'Fracturing', 'clause', 'sticking', 'resembles', 'ISSUES', 'antitrust-law', 'plight', 'upstream', 'videocassette', 'Island', 'double-C', 'Jerry', 'Chadha', '3,250,000', 'remarks', '286', 'polled', '12.97', 'Puerto', '2.7', 'revolves', 'classics', 'fiber-optic', '13\\\\/16', 'introduced', 'stock-manipulation', 'looking', 'sprawling', '48', 'undelivered', 'financially', 'SCI', '*T*-45', 'Anglia', 'figures', 'Occupational', 'asserting', 'always', 'sets', 'hold', '100', 'creditworthiness', 'seeking', 'ignored', 'impart', 'tempts', 'eases', '*T*-48', 'pending', 'escort', '*-55', 'Purepac', 'diminish', 'sells', 'favorite', 'discontent', 'techniques', 'key', 'distasteful', 'DyDee', 'overstated', 'million', 'watching', '*-122', '721', 'help', 'too', 'central', 'sticker-shock', 'Montedison', 'broadly', 'information', 'basically', 'Lake', 'End', 'measures', 'course', 'built-from-kit', 'constraints', 'Guaranteed', 'proposed', 'Transportation', 'emphasized', 'lifted', 'vitriolic', '73', 'Eastern', '1.5805', 'devise', 'widow', 'Jr.', 'Fremantle', 'parking', 'improve', 'release', '*T*-69', 'feed', 'Invariably', 'pillow', 'outrageous', 'sank', 'Aslacton', 'deserve', 'Brunello', 'swiftly', 'transfers', 'annual', 'Hoylake', 'conditions', 'Gartner', 'literary', 'RMS', 'sit', 'Blue', 'sacks', 'order', 'numbers', 'diplomatic', 'ultimately', 'regulate', '*-56', 'Duke', 'helped', 'literature', 'wish', 'greenmailer', '141.9', 'drought', 'Georgia', 'Revolution', 'WTVJ', 'assembly', 'borrowing', '25.50', 'clothing', '107.9', 'solidarity', 'expires', 'indifference', 'skilled', 'increases', 'blender', 'counteract', 'targeting', 'prompted', 'RATES', 'intriguing', 'main', 'Scannell', 'suspension', 'superpremiums', 'robbed', 'answered', 'persuade', 'welcome', 'savings-and-loan', 'Wellington', 'Britta', 'court', 'role', 'Ravenswood', 'delayed', 'Asada', 'assigned', '*T*-56', '1973', 'enough', 'cable', 'fifth-grade', 'compiled', 'studying', 'deficit', 'settlement', '415.6', 'fabled', 'high-rise', 'beer', 'fast', 'adviser', 'pitches', '7,500', 'circulation', 'finding', '*T*-74', 'victory', '*T*-250', 'That', 'silicon', '75-year-old', 'owns', 'currencies', 'SAT', 'questioned', 'Vanderbilt', 'five-cent', 'spent', 'educators', 'Anything', 'Inc', '*T*-204', 'freeway', 'streets', 'spaces', 'targets', 'sketching', 'Unfortunately', 'briefings', 'coverage', 'reportedly', 'City', '*T*-40', 'pursuant', 'priority', 'illegally', 'Silver', 'bombarding', '0.2', 'Dec.', 'Duluth', 'Xerox', 'converting', 'Works', 'affordable', 'Mikhail', 'patterns', \"n't\", '16.05', '4.2', 'businessman', 'Leningrad', '292.32', 'mobile', 'existed', 'environment', 'Citadel', 'pool', '40,000', 'Keith', 'semiannual', 'unintelligible', 'beheading', 'bottle', 'Egypt', 'arguments', 'competitive', 'go', 'task', 'offsetting', 'unsympathetic', 'profited', 'resolved', 'thumbs', 'Giraud', '*-155', 'Asher', 'tours', 'table', 'money', '*T*-174', 'furor', 'discos', 'reduce', 'already', 'takeover-stock', '*-12', 'wary', 'Wellcome', 'scale', 'seem', 'Ark', 'Lufkin', 'paint', 'unsettling', 'mired', 'chronicle', 'Eurobonds', 'covering', 'clean', 'Tiphook', 'exercised', '1.28', 'potentially', 'bankruptcy-law', 'Chicago', 'arrest', 'Senior', 'tuck', 'Susan', 'required', 'nonprofit', 'Different', 'anti-dumping', 'precedes', 'shared', 'financing', 'radio', 'extend', 'want', 'dexterity', 'Ridgefield', 'longer', 'stockpiles', 'fills', 'Opinion', 'vicar', 'full-year', 'Vargas', 'rocket', 'spurned', 'swap', 'lay', 'World-Wide', 'consist', 'feared', 'anticipated', 'Used', 'cause', 'instance', 'clarified', 'Ancient', 'lawmakers', 'combination', 'pressing', 'maintaining', '1.19', 'Thomas', 'Stanford', 'Illinois', 'consomme', 'argue', 'Salvador', 'procedures', 'Investors', 'knife', 'complained', 'Plantation', 'Opus', 'began', 'quote', 'speculative', 'Angola', 'campaigns', 'promotion', 'reservoirs', 'punishable', 'nominal', 'renovation', 'chain', 'sports', 'investment', 'lowered', 'loses', 'chance', '374.19', 'obstacles', 'offers', 'Buick', 'turnaround', 'Meese', 'Nelms', 'shame', 'queuing', '890', 'non-biodegradable', 'presented', 'excess', 'Vinken', '17', 'tentatively', 'addresses', 'apology', 'melt-textured', 'POTABLES', 'Bell', 'dismissed', 'apply', 'empire', 'structures', 'differently', 'crapshoot', '1980s', 'Ana', 'Pamplin', 'ballplayers', 'moons', ',', '1989-90', 'F-series', '1955', '620', '58', 'Related', 'disturbing', 'Asked', 'works', 'item', 'distant', 'oilman', 'pine', '6.53', 'drooled', '1.7', 'peals', 'Backe', 'illustrates', 'brings', 'light', 'cheerleading', 'urging', 'Kappa', 'replete', 'starting', 'located', 'eating', 'Murakami', 'Langner', 'on-campus', 'Four', '1982', 'stake', 'dawn', '18-a-share', 'Milwaukee', 'Guerrilla', 'augment', 'various', 'damaging', 'jostle', 'Rate', 'Amsterdam', 'Kean', '3.8', 'Muzzling', '*T*-77', '152,000', 'Sloan', 'Manchester', 'Proceeds', 'tickets', 'newspaper', 'booklets', 'bottlenecks', 'diplomats', 'backlogs', 'Equus', 'records', 'cost-benefit', 'amending', 'loveliest', 'strategic', 'bald-faced', 'Inns', 'sounded', 'school-improvement', 'Saudi', 'Allendale', 'Dingell', 'voluntarily', 'Baldwin', 'pleased', 'put', '176.1', 'media', 'males', 'gangs', 'Antitrust', 'Development', 'mega-stadium', 'Keehn', 'department', 'giveaways', 'weddings', 'unsolicited', 'R.P.', 'approximately', 'Heights', 'reputation', '130.6', 'gains', 'suppliers', 'dashed', 'FERC', 'Hatch', 'Deposits-a', 'technical', 'station', '*T*-78', 'harms', 'conduct', 'sketch', '39', 'wives', 'William', 'fly', 'belts', 'Hayne', 'Holt', 'boots', 'cited', 'Oil', '142.85', 'Shuxian', 'Communists', 'retaliation', 'Basin', 'juggernaut', 'publicized', '240', 'editor', '109.73', 'Shangkun', 'pre-Communist', 'spin-off', 'Beauty', 'colleges', 'consecutive', 'please', 'subscription', 'seven-year', 'Mifflin', 'wildly', 'Stephen', 'South', '*-25', 'Suisse', 'made', 'Consolidated', 'degree', 'rare', 'CLEARS', 'Connections', 'else', 'sheets', 'efficient', '98', 'computerize', 'pension-fund', 'record', 'Since', 'expanding', '2.80', 'aboard', 'capsules', 'Card', 'Palestine', 'Inventor', '214', 'Walbrecher', 'Kodansha', 'posing', 'powerhouse', 'Monchecourt', 'lot', 'Vega', 'Urban', 'funny', 'syndicate', 'goal', 'bass', 'Bond', 'refinery', 'Earle', 'exit', 'ton', '132,000', 'Canadian', 'Joe', 'market-share', 'headquarters', 'journal', 'explosive', 'DIAPER', 'above-market', 'crashes', 'apiece', 'recently', 'attached', 'heating', 'briefing', 'infrequent', 'wholesale', '0.25', 'engineered', '1,100', 'biannual', 'assessed', 'blessing', 'book', 'impetus', 'franc', 'satisfactorily', 'spokewoman', '1.46', 'Jail', 'counterparts', 'contemporary', 'Wood', 'double-A', 'loudest', 'US', '*T*-253', 'R', 'unaware', 'versions', 'lesser', 'assertion', 'nickname', '*-113', 'Diamond', 'dating', 'Biaggi', 'matter', 'cop-killer', '*-2', 'Why', 'partially', '200', 'economy', 'held', 'done', 'ordeal', 'revived', 'heated', 'Manhattan', 'curled', 'living', 'Pacific', 'deeds', 'appear', 'Siti', 'Fannie', 'academics', 'purchase', 'characterized', 'Pa.', 'either', 'escalated', 'breed', 'shortage', 'Grange', 'aggressively', 'painted', 'drops', 'Volume', 'opened', 'tramp', 'their', 'guarding', 'Off-Track', 'regular', 'routes', 'Send', 'alleviate', '*-83', 'pressure', 'Jack', 'Richmond', 'bloods', '!', 'much-larger', 'commanded', '1996', 'scrambling', 'busloads', 'purposes', 'mollified', 'bloody', '1988-89', '5.7', 'low-altitude', 'moreover', 'Tire', 'Traditionally', 'contractor', '7.40', 'Glaxo', 'Their', 'deviant', 'three-digit', 'requiring', 'circumstances', 'untrained', 'closer', 'technologies', 'stirrings', 'exactly', 'tows', 'weakness', 'Trans', 'section', 'emotional', 'planted', 'Carnegie-Mellon', 'palace', 'liberals', 'qualities', 'gauging', '1.8500', 'Meanwhile', 'Growth', 'House', 'watches', 'Series', 'marketplace', 'markdown', 'Hadson', 'succeeded', '*T*-197', 'stature', 'Associates', 'Most', 'gigantic', 'explaining', 'speed', 'further', '*T*-27', 'Younkers', 'sweet', 'Victor', 'Ind.', 'restructurings', 'Hammersmith', 'inmates', 'Brady', 'simple', 'Green', '88.32', 'wings', '17.5', 'quite', 'exclusion', 'Messrs.', 'strategy', 'cigarettes', 'tone', 'Watson', 'Sure', 'Rally', 'disregard', 'first-time', 'Mexican', 'Mead', 'roll', 'prosecutors', 'coke', 'throughout', '8.55', 'Mattress', 'exporters', 'new-car', '1,200', 'restaurant', 'Enterprise', 'precisely', 'promote', 'improbable', 'alerts', 'intrusion', '415.8', 'preclinical', 'preventative', 'era', 'shipbuilding', 'ruling', '18.6', 'slightly', 'occasionally', 'taper', 'railcar', 'Long-term', 'Instruments', 'penalty', 'Leighton', 'Default', 'calculator', 'combines', 'Calder', 'flat', 'shops', 'involving', 'denied', 'Citizen', 'continuous', 'Danforth', 'marks', 'prepared', 'sooner', 'sphere', 'territory', 'steadily', 'Texas', 'Liberation', 'chastised', 'discretion', 'Donald', 'Economics', 'midnight', '7.88', 'Schmidt', '*T*-246', 'burn', 'thanks', 'question', 'stated', 'Papua-New', '4.55', 'perhaps', 'hysteria', 'Too', 'Fellowship', 'Velcro', 'comes', 'host', 'W.', 'pre-1917', '187', 'triple', '38.5', 'rigid', 'CTBS', 'success', 'membership', '1\\\\/8', 'completeness', 'him', 'unrealistically', 'forecasts', 'Red-blooded', 'materialized', 'dolls', 'doctorate', 'multinational', 'Sept.', 'Wakayama', 'reflect', '*-106', 'juggle', 'hampered', 'denouncing', 'Garret', 'departure', 'Hartford', 'negotiable', 'narcotics', 'steady', 'Deere', 'support', 'leading', 'Salon', 'operated', 'construction', 'eliminated', 'involved', 'enhances', 'Vermont', '19.94', '9,118', 'restraints', 're-thought', 'soared', 'fight', 'Abbey', '*T*-124', 'swaps', 'studied', 'discount', 'family-planning', 'casts', 'spring', 'close', 'apple', 'utility', 'highs', 'buy-out', '777', '*T*-111', 'defeats', 'introducing', 'bowed', 'initiating', 'protects', 'shadows', 'daughters', 'Fields', 'overruns', 'graphics', 'FT', '1917', 'surprisingly', 'God', 'prepare', 'rapidly', 'housing', '7.84', '2.30', 'Yasuda', 'repeatedly', '*T*-50', '65', 'criticism', 'gyrate', 'alarmed', 'Breeden', 'deputy', 'admits', '1\\\\/2', 'dozen', 'lengthen', '*T*-102', 'significantly', 'recovery', 'co-owner', 'policy-making', 'Institutes', 'very', 'Association', 'prevents', 'migrate', 'scarce', 'Boone', 'Commodities', '*T*-119', 'concerned', 'test-coaching', '*T*-8', '*-138', 'sue', 'Japanese', '154.2', 'Fuentes', 'regret', '*T*-242', 'envoy', 'stiffer', '11.5', 'subscribers', 'Bordeaux', 'Scotland', 'escrow', 'wizards', 'loose', 'perception', 'monopolize', 'bat', 'quitting', 'businessmen', 'pages', 'factors', 'incentive', '1986-87', 'fail', 'neutrons', 'changed', 'Industrial', 'compelling', 'enjoy', 'deplorable', 'hustlers', 'dollar', 'thrift', 'Dolphin', 'Philippines', 'resistance', '*T*-100', 'prints', 'sacked', 'odds', '7.55', 'districts', 'global', 'repeals', 'yet', 'symmetry', 'diethylstilbestrol', 'transporting', 'Davies', 'gauges', 'settled', 'folded', 'policies', 'Cougar', 'graders', 'N.J.', 'Unicorp', '70.2', 'toll', 'verge', '913', 'Vegas', 'Earlham', 'E.W.', 'Spaghetti', 'duckling', 'On', 'doing', 'seven-day', 'tempted', '*T*-201', 'communication', 'This', 'exhibition', 'Atsushi', 'Mary', '4.25', 'Leo', 'problems', 'Equity', '*T*-142', 'Environment', 'anti-takeover', 'TWO', 'Italy', 'off-off', '126.15', 'explained', 'sewing-machine', 'attorneys', '*-44', 'announcer', 'Commerce', 'continually', 'fund', 'element', 'Va.', 'slid', 'striking', 'C.J.B.', 'Palisades', 'cocky', 'History', 'window', 'largely', 'Somerset', 'tete-a-tete', 'insiders', 'language-housekeeper', 'trash', 'What', 'abolishing', 'Herbert', 'hands', 'Reserve', '*T*-258', 'stressed', '14.53', 'fifth', 'regarding', 'debenture', 'alleged', '5.63', 'do-it-yourself', 'descending', 'patient', 'red-flag', '8.5', '*-93', 'fabricate', 'hint', 'Theodore', '300-day', 'intelligent', 'outstanding', 'grandfather', '155', 'dispute', 'draw', 'adjustment', 'fundamental', 'vote', 'Source', 'lung', '2.375', 'halts', 'Montgomery', 'faces', 'BRAMALEA', 'joint-venture', 'unrecognizable', 'personnel', 'Cabernet', 'obtain', 'advocate', 'instruments', '12.5', 'contrast', 'contest', 'asking', 'unusual', 'Mayor', '1.17', 'attorney', 'structurally', 'Utah', 'Short', 'NRDC', 'started', 'observers', 'negotiators', 'gradual', 'BILLS', 'two-time-losers', 'intraocular', 'doling', 'single-family', 'Capital', 'Democratic', 'Patents', 'Barclays', 'province', 'initiatives', 'agrees', 'stabbed', 'raise', 'one-third', '1953', 'specified', 'knight', 'Craftsmen', 'Seniors', 'Saturday', 'revive', 'rampage', 'FTC', 'Ideas', 'begins', 'electrical', 'pour', '*T*-215', 'Peng', 'cautiously', 'figure', 'mistakenly', 'unproven', 'arched', 'raising', 'THAT', 'DD', 'search', 'appointment', 'takeover', 'delivered', 'obligated', 'Waste', 'Investment', 'Steven', 'Clemens', 'mobilizing', '*T*-47', 'T-shirts', '119', 'contains', 'Closes', 'Dean', 'Surrey', 'intense', 'Everyone', 'subscribe', 'cents', 'highest', 'asbestosis', 'design', 'permit', 'graphs', 'lobster', 'take', 'Either', '16.125', '22', 'including', 'Salomon', 'explosion', 'Perhaps', 'presidential', 'Moore', '8.60', '*T*-147', 'Soviet', 'accurately', 'Sundays', 'Auditors', 'generated', 'moment', 'projector', '*T*-181', '27.4', 'two-year', 'computer-system-design', 'Sandinista', 'drafted', 'Yamamoto', 'Although', 'drive', 'voluntary', 'Oh', 'test-practice', 'second-largest', '*-133', 'conservative', 'Nilson', 'newsweekly', 'muted', 'approach', 'Bailey', 'happened', 'Trotter', 'beds', 'opinions', 'telling', 'relies', 'brought', 'Bellows', 'protracted', 'band', '2,700', 'domination', 'race', 'Symphony', '*T*-165', 'male', 'stalls', 'Pa', 'hit', 'diaper', 'wide', '753', 'bludgeon', 'Jovanovich', '3,040,000', 'void', 'Commonwealth', 'Bernstein', 'Back', '50', '55', 'mining', '-LCB-', 'underlying', 'Steelworkers', 'Norwegian', 'curb', 'segments', 'reaches', 'complex', '87.5', 'three-year', 'Pramual', 'ascribe', 'strengthened', 'racing', '1989', 'payrolls', 'words', 'Corazon', 'ordering', 'generations', 'bridges', 'Municipal', '*T*-144', 'examine', 'cases', 'oppose', 'thin-lipped', 'winding', 'proven', 'Orders', 'Sangyo', '149', 'FALL', 'expression', 'witnesses', 'August', 'tens', 'smoothly', '301', 'observed', 'Supreme', 'Biedermann', '5.435', 'disposed', 'amortization', 'Furillo', 'social', 'Avrett', 'struggle', 'bars', 'mutual', 'pre-existing', 'time', 'futures', 'ownership', '2.6', 'stunned', 'rubber', 'clear', 'equal', 'consumer-driven', 'bloc', 'peaked', 'tablets', 'News', '12', 'selected', 'fan', 'Department', 'Gov.', 'choice', 'deck', 'survey', \"'40s\", 'Cruise', 'unenticing', 'Allied', 'normal', 'Jackson', 'number', '*-5', 'bygone', 'schedule', '*T*-61', 'Houston', 'strength', 'stuck', 'no', 'Gary', 'theaters', 'slope', 'Dresser', 'national', 'hoopla', 'laurels', 'telegraph', 'skill', 'mother', 'Longwood', 'Bronces', '600', 'sounds', 'alleging', 'servicing', 'legislators', 'Domaine', '534', 'navigation', 'Tip', 'Bermuda', 'Pat', 'SHAREDATA', 'instituted', 'Iran-Contra', 'copyright', 'Corrigan', 'Ringers', 'sell', 'reasoning', 'Renaissance-style', '*T*-136', 'cement', 'lynch-mob', 'referred', 'Cincinnati', 'Pickens', 'Visa', 'powwow', '20', 'treatment', 'workplace', 'unsuccessful', '37-year-old', 'Barbados', 'matched', 'trades', 'drop-off', 'boyfriends', 'K.', '501', 'sterling', 'tell', 'contribution', 'gas', 'formed', 'integration', 'PTA', 'accepting', 'TEXAS', 'Local', '8.70', 'sport-utility', 'corn-buying', 'Caribbean', 'appearing', 'chooses', 'called', 'deserving', 'seduce', 'resulted', 'Cru', 'grapple', 'Circle', 'Lauderhill', 'British', 'partners', 'segment', 'dealings', 'request', 'complains', 'sickness', '*-92', 'redeeming', 'developments', 'rusted', 'container', 'capitalized', 'impending', 'substantial', 'transplant', 'backdrop', 'backgrounds', 'Goode', 'lagging', 'favored', 'hauling', 'FreudToy', '14\\\\/32', 'decliners', 'grew', 'creditor', 'basic', 'Chandler', 'single', 'unemployment', 'clubs', 'teams', 'diversify', 'Television', 'girl', 'girlfriend', 'tariff', '*T*-145', 'Chaplin', 'complain', '63-year-old', '*-1', 'near-record', 'At', 'stacked', '9.8', '34.625', 'Bob', 'greater', 'achievement-test', 'NBI', 'canine', 'each', 'controversy', 'exceeding', 'Barrels', 'manufactured', 'renewing', 'Wozniak', 'Puccio', 'urged', 'E.', 'recalling', 'confidence', 'lend-lease', 'tower', 'car-safety', 'defendant', 'Kidder', 'enrollment', '*-165', 'Macmillan\\\\/McGraw-Hill', '38.875', 'Stephens', 'Ailes', 'easy-to-read', 'transfer', 'Finnish', 'Devon', 'Oak', 'tolerate', 'Property\\\\/casualty', 'recent', 'losses', '1975', 'born', 'employs', 'hamstrung', 'insolvency', 'perpetuates', '53', 'Valhi', 'skin', 'respond', '*T*-195', 'six-bottle', 'ovation', 'breaks', 'sunny', 'J.P.', 'cake', 'developing', 'Aptitude', 'abating', 'accelerated', 'seventh', 'means', 'budding', 'tested', 'drop-in', '*T*-143', 'Areas', 'examination', 'Commodity', '*-59', '*-10', 'arrested', 'rebuked', 'intelligence', 'Seattle-based', 'propelling', 'leave', 'Dan', 'running', 'judge', 'victim', 'lowest', '4,000', 'individuals', 'Cotran', 'bitter', '68', 'calculations', 'reaching', 'privilege', 'With', 'minutes', 'quoting', 'accused', 'Pauline', 'progressive', 'brokering', 'print', 'described', 'shore', 'noble', 'decried', 'staggering', 'YWCA', 'unattractive', 'items', 'reforms', 'Workers', 'Assuming', 'prosecuted', 'act', 'invested', 'Denver', 'prosecuting', 'feelings', 'whimsical', 'forest-product', 'refund', 'pointing', 'Stena', 'additional', 'offset', 'solved', 'Centerbank', 'before', 'foods', 'acid', 'fueling', 'fueled', 'breakfast', 'Nichol', '*T*-99', '*T*-82', 'Estimated', 'outlawed', 'drift', 'engines', '132', 'train', '7.3', 'responding', 'severable', '8.64', 'exact', 'drifted', 'towns', 'duty-free', 'onus', 'elevators', 'aid', 'custom-chip', 'expire', 'latter', '55-year-old', 'I', 'selling', 'distribution', 'Angier', 'trading', 'payment', 'elementary', 'rap', 'computer-services', 'into', 'public', 'automotive-lighting', 'morass', 'tells', '19.95', 'Colo.', 'World', 'compromise', 'Norfolk', 'given', 'Abrupt', 'indicator', 'logistical', 'Brunswick', 'Standing', 'publishing', 'installed', 'EXCHANGE', '*', 'hero', 'Michael', 'blindfold', 'originally', 'contracted', 'latest', 'usually', 'triple-C', 'Topix', 'sexy', 'CORP', 'playing', 'foreigners', 'refitting', 'exposures', 'continue', 'recommended', 'important', 'bank-backed', 'obligation', 'Wilmington', '50.38', 'Memphis', 'corkscrews', 'interrogated', 'tidbits', '*RNR*-1', 'fierce', 'single-digit', 'freshman', 'prestigious', 'slide', 'senior', 'Though', 'peace', 'exits', 'clouds', '28.6', 'Reliance', 'Make', 'anti-abortionists', 'disapprove', 'pointed', 'Francisco', 'darned', 'Larry', 'accident', 'anyway', 'Cristal', 'cartoonist', 'cooperation', 'so', 'bulls', 'vary', '*T*-229', 'Minneapolis-based', 'altering', 'stock-index', '31-year-old', 'convince', 'father', 'Desai', '94.8', 'financial', 'audit', 'assist', 'gather', 'railroad', 'unaffiliated', 'indictment', 'spouse', 'utterly', 'Trading', 'parallels', 'club', 'sometimes', '320', 'around', 'Walkman', '1985', 'Brazilian', 'ought', 'stockbroker', 'outstrips', 'Harvard', 'commercials', 'rewarding', 'Frankfurt', 'disproportionate', 'impact', '*T*-30', 'century', 'ran', '*-79', 'arbitrager', 'Loan', 'mobster', 'statistics', 'empowered', 'degenerative', 'firmly', 'elimination', 'existing', 'launch-vehicle', 'bounced', 'co-developers', 'letter-writing', 'tilt', 'Heating', '144', 'next', 'troop', 'anti-abortion', 'tailored', '7.65', 'Stirlen', '*-69', 'engineer', '*T*-186', 'barred', 'Political', 'Wilfred', 'freedoms', 'tow', 'across', 'receives', 'Ohio', 'courtroom', '*-51', '*-67', 'amend', '*T*-20', 'chemical', 'search-and-seizure', 'safeguarding', 'natural-gas', 'exuded', 'crash', 'favor', 'remarked', 'abounding', '550,000', 'depressions', 'recede', 'solicitation', 'discretionary', '*T*-17', 'Texaco', 'set', 'mignon', 'Sandra', 'halted', 'bunches', 'Sutcliffe', '5,699', 'ultimatum', 'cancers', 'Roederer', 'attractive', 'Creek', 'paltry', 'winning', 'harvest', 'Patients', 'loading', 'spackle', 'jumped', 'unbearably', 'Fuji', 'Akio', 'undisclosed', 'Photography', 'airline', 'ideological', 'annualized', 'meal', 'sought', 'genes', '36-store', '*-57', '58.64', 'Sunday', 'frequency', 'drain', 'workforce', 'doubts', 'statement', 'something', 'root', '94.2', 'Markets', 'stone', 'rival', 'mature', 'G.m.b', 'considerable', 'leveraged', 'Temple', 'ballpark', 'pumping', 'fixes', 'Learning', 'staff-reduction', 'economics', 'Genel', 'invention', 'positions', 'Coca-Cola', 'provision', 'craft', 'altered', 'Adams', 'defensive', 'post-hearing', 'Propaganda', 'Squier', 'Collector', 'Simeon', '9.5', 'solutions', 'responds', 'crossing', 'rendering', 'J.L.', '20-stock', 'color', '21,000', 'index', '325,000', 'Electronics', '59', 'seen', 'Judge', 'representative', 'neither', 'connection', 'Gardner', 'performing', 'prohibits', 'impede', '238,000-circulation', '84-year-old', '*T*-255', 'loss', 'COMMUNICATIONS', 'touchy', 'have', 'specify', 'picks', 'Imports', '10-lap', 'intoxication', 'matching', 'corn', 'influence', 'candidate', 'valuations', 'referrals', 'cleared', 'PRECIOUS', 'Donoghue', 'Samuel', 'boilers', 'computer-assisted', 'obtained', 'permanent', 'rang', '23', 'factor', 'prison', 'credentials', 'liberal', '*T*-156', 'derivatives', '6.50', 'Continental', 'Cos.', 'Antonio', 'headcount-control', '0.54', '16.7', 'embroiled', 'think', 'questions', 'seek', 'bid', 'Nielsen', 'one-upsmanship', 'Bew', 'Kingdom', '1206.26', 'disciplinary', 'snow', 'spirit', 'investigating', 'colored', 'dwindling', 'Prof', '12\\\\/32', '*T*-163', 'little', 'indulging', 'middle-ground', 'failures', 'Alexander', 'page-one', 'blackjack', 'tapes', 'Ogilvy', '99.1', 'resistant', 'link', 'pretext', 'died', 'participated', 'strongest', 'taxpayer', 'unknown', 'texts', 'sake', 'knowledgeable', 'avid', 'rounds', 'Rico', 'Hymowitz', 'ballroom', 'Conn.', 'erect', '*-131', '7\\\\/16', 'instances', 'MITI', 'austere', 'solely', 'unable', 'Haut-Brion', 'lawsuits', 'perfectly', 'Beirut', 'compared', 'Coxon', 'vacant', 'trays', 'remainder', 'expunged', '220.45', 'successfully', 'regional', 'Drobnick', 'bled', '-', 'whipping', 'Andy', 'railings', 'Where', 'Maxwell', 'logic', 'jurisdictional', 'Texas-based', '50.1', 'Audit', 'helm', '608,413', 'leader', 'merchandising', 'imports', 'UBS', 'Mr.', 'celebrity', '61', 'Board', 'flights', 'Express-Buick', ';', '*T*-137', 'Phillip', 'Mike', '77.56', 'Jeremy', 'happy', 'bin', 'Products', 'muffled', 'ringer', '4.7', 'corporation', 'self-serving', 'film', 'Poor', 'soliciting', 'IOUs', 'scrupulously', 'predicting', 'banquet', 'N.H.', 'Magna', 'enforcement', 'Beige', 'avenge', 'hefty', 'produce', 'guilty', 'Daniel', 'discharge', 'Bund', 'gut', 'reliance', 'Partnership', 'blames', 'younger', 'scared', 'alone', 'notion', 'Gulf', 'mirrors', '492', 'Lure', 'implicitly', 'bringing', 'pools', 'Sen.', 'preclude', 'exerting', 'almost', 'guests', '*T*-241', 'lady', 'remains', 'payments', 'youthful', 'Droz', 'agreed-upon', 'organizations', 'plot', 'Hara', 'expenditures', 'behest', 'rentals', 'Cedric', '*T*-60', 'speculate', 'Fishman', 'succeed', 'series', 'context', 'Sheep', 'relentlessly', 'Structural', 'government-owned', 'three-lawyer', 'befell', 'Marder', '*-159', 'might', 'sees', 'coupon', 'has', 'needed', 'Contel', '271,124', '2.44', 'repayment', 'Moines', 'harassment', 'Worksheets', 'echoed', 'youth', 'Miguel', 'unheard', 'crying', 'Graduates', 'steeper', 'detailed', '449.04', 'Mitchell', 'bickering', 'bill', 'where', 'Harry', 'publicly', 'Cole', 'Harrison', 'sorting', '*T*-95', 'fuel', 'operator', 'handful', 'Fabian', 'Crash', 'Obligations', '42.5', 'exciting', 'GM', 'auction', 'adapted', 'nose', 'schemes', '9.37', 'chemicals', 'companion', 'refuse', 'ire', 'dismissal', 'spectacular', 'Marc', 'Here', 'Baum', '*-95', 'straight', 'unpopularity', 'Terrace', 'Toronto-based', 'conflict', '7.79', 'attorney-client', '1928-33', 'shows', 'Nobel', 'dissident', 'Hoffman', 'LTV', 'replicating', 'bitterness', 'studio', 'Porter', '5.1', 'foldability', '1.64', 'unsettled', '83,206', 'contained', 'swallow', 'Berman', '1998', 'five-point', 'anticipation', '158,666', 'Breakey', 'headrests', 'safe', 'proceedings', 'widespread', 'Stieglitz', '*T*-237', 'Lehman', 'expressing', 'providers', 'ease', 'disapproved', 'pass', 'brightest', 'normally', 'shaken', 'debut', 'Jeffrey', 'friendly', 'Metallgesellschaft', '*-91', 'premier', 'Malta', 'sudden', 'pasta', 'suspects', 'butterfly', 'homework', 'models', 'Once', 'measured', 'Griffin', 'teenage', 'day-care', 'arsenide', 'projects', 'provided', 'Industries', 'tracks', 'consumers', 'programs', 'Jacobs', 'Until', 'massive', 'bang', '*T*-39', 'Spanish', '21.1', 'implied', 'complete', 'twice', 'ballots', 'slippage', 'madly', '*T*-89', 'Minneapolis', 'teach', 'reasserts', 'Composer', 'double-digit', 'related', 'guest', 'livestock', 'peaks', '*-116', '847', '1.50', 'household', '112.9', 'verbatim', 'Institution', 'kill', 'write', 'variables', 'rape', 'faster', 'Market', 'gamut', 'Designated', 'grown', 'portion', 'praised', 'receipts', 'NEW', 'Ian', 'one', 'vetoes', 'text', '145', 'memories', 'incentives', 'eat', 'raw', '430', '700', 'duck', 'ministry', '*-132', 'Roger', 'Nederlanden', 'University', 'Lurgi', 'J.', 'were', 'transplantation', 'guilders', 'Tribe', 'THE', 'converted', 'risk', 'I.', 'finally', 'man', 'portions', '*T*-131', 'park', '43.875', 'Per-share', '*T*-51', 'off', 'Starting', 'Paper', 'underscore', '1992', 'Commissions', '382-37', '*-158', 'slow', 'plastic', 'diversified', '1984', 'Nevertheless', 'tumultuous', 'arrival', 'Boesel', 'Higher', '133', 'mode', 'nameless', 'wanting', 'big', 'sole', 'Barth', 'textile', 'pace', 'prove', 'merge', '3.7', 'Rey', 'identical', 'rider', 'teachers', '274', 'Factory', 'Kaminski', 'exist', 'Century', 'stages', 'taxpayers', 'standpoint', 'Fire', '15-day', 'Bumkins', '132.9', 'Broadcasting', 'Brenda', 'certainly', 'exacerbated', 'non-U.S.', 'collections', 'fledgling', 'Perch', 'It', 'Reuter', '*T*-80', 'fielded', 'Chilean', 'Carballo', 'Morrell', '3', 'chose', 'on', 'warranties', '3.43', 'generate', 'museums', 'collective-bargaining', 'protesters', 'lenders', 'Chemical', '*T*-63', 'fortunes', 'ingredients', 'computer-aided', 'Barge', '*T*-196', '10.5', 'Interpublic', 'bullets', 'sheaf', 'Affairs', 'boast', 'entrusted', 'from', 'threat', 'Sandoz', 'Andrea', 'U.N.-supervised', 'tradition', 'airlines', 'labeling', '6.03', '1.35', 'allegations', 'N.J.-based', 'population', '520-lawyer', '1980', 'previous', 'engaging', 'shelter', 'PETS', 'sentimental', 'buoyed', 'nor', 'Sandberg', 'lapses', 'responsible', 'play', '6.1', 'renewed', 'Groton', 'bribed', 'scholars', 'Western', '858,000', 'simulates', 'NATIONAL', 'Indonesia', 're-election', 'barking', 'inappropriate', '2.47', 'votes', 'American-made', 'Silverman', 'waste', 'jeopardizing', 'voting', 'purrs', 'outrage', 'cutbacks', 'perceptions', '339', 'stretch', 'advertising', 'emerges', 'Orange', 'Lancaster', 'define', 'bottom', '1969', 'wonder', 'parents', 'Schwab', 'discrimination', 'Bunny', 'compound', 'Laurence', 'Materials', 'resubmit', '*-33', 'skipped', 'walking', 'continued', 'Parents', 'materialistic', 'assured', 'Personal', 'crane-safety', 'Clark', '1991-1999', 'supercomputer', 'jeweler', 'Moslem', 'socialist', 'N.V.', 'Whereas', 'brilliant', 'satisfying', 'shut', 'Fans', '6', 'tightening', 'unfair', 'D.C.', 'gambling', 'shortly', 'confrontational', '6.5', 'vacation', 'Red', 'dead', 'Delmont', 'angle', '*T*-76', 'good-hearted', 'efficiency', 'booming', 'fighting', '26.2', 'river', 'hospitals', '12,252', '.', 'negotiate', 'state', 'which', 'convenient', 'bakery', 'Li', '*-136', 'PhacoFlex', 'Olson', 'properly', '188.84', 'inventory', 'corrected', 'later', 'significant', 'Debt', '*-84', 'hub', 'Regarded', '343', 'destination', '1966', 'counts', 'best-seller', 'lost', 'costly', 'Derel', 'sassy', 'blood', 'Employment', 'COMMERCIAL', 'received', 'medical', 'motion', 'battered', 'natural', 'say', 'Orlando', 'Exxon-owned', '1.20', '*RNR*-4', 'Mona', 'books', 'breaker', 'tote', 'unabated', '116.7', 'Clinton', 'riskier', 'Researchers', 'Delegates', 'Toys', '*-114', 'building-products', 'brand', '*-73', 'realization', 'protection', 'ratepayers', 'hazardous', 'minute', '150,000', 'sent', 'Fischer', 'Lyle', '*-107', 'thinks', 'La.', '95.09', 'longstanding', 'inched', 'Law', 'ropes', 'Environmental', 'H.N.', 'active', 'London-based', 'Kane', 'influenced', 'Melamed', 'half', 'nonresidential', 'alert', 'Rekindled', 'makers', 'indeed', 'prototype', 'faltered', 'Signet', 'confident', '*-145', 'ask', 'Boca', 'Candlestick', 'No-Smoking', 'continues', 'Leroy', 'being', 'perspective', 'partisans', 'Elisabeth', 'fits', '*T*-185', 'aftereffects', 'missiles', 'force', 'distributed', 'arrows', 'divest', 'passed', 'grant', 'Says', 'HOME', 'accrued', 'cargo', 'differential', 'Rieslings', 'upturn', 'developer', 'Telegraph', 'downside', 'emphasis', 'sums', 'prime', 'Annualized', 'achieve', 'capital-markets', 'wallowing', 'oust', 'square', 'Chairman', 'abortions', 'surely', '*PPA*-2', 'list', '7.60', 'flashy', 'quantities', 'harshly', 'permits', 'light-truck', 'excision', 'facts', 'cautioned', 'piece', 'Woolworth', 'dust', 'Spain', 'Rowe', 'shipyard', 'broaden', 'prompts', 'conventional', 'L.', 'overnight', 'local', 'arise', 'TXO', 'leaders', 'Logic', 'following', 'ill', 'Bolduc', 'acceleration', 'circulated', 'long-tenured', 'The', 'assembled', 'Synergistics', 'rolled', 'recyclable', 'Heavy', 'erroneous', 'veal', 'auto', 'monied', 'reminded', 'Woodrow', 'inquiring', 'Highway', 'free', 'Landis', 'identity-management', 'Baris', 'Francis', 'frozen', 'Gasoline', 'bargains', 'tense', 'Civil', '*T*-36', 'exhaust', 'people', 'Manfred', 'lacks', 'yield', 'true', '270', 'Stockbrokers', '2.8', 'CoreStates', 'copyrights', 'unraveling', '*T*-87', 'mention', 'rusty', 'pricings', 'job', 'Waertsilae', 'calls', 'chiefly', '730', 'School', 'Pace', 'enable', 'Speculation', 'Diceon', '47.5', 'holder', '85.7', 'appropriation', 'hundred', 'visit', 'awareness', 'chamber', 'WAFA', 'Brownell', 'administrators', 'dubbed', 'certified', 'motor-home', 'Everybody', 'shape', 'Hollis', 'advertise', 'Ames', 'win', 'learn', '63.79', 'harmful', 'as', 'ugly', 'contacted', 'declared', 'receiving', 'Unlike', 'bidding', 'million-a-year', 'two-thirds', 'review', 'capital-gains', 'Fifteen', 'BTR', 'young', 'necklace', 'credit-rating', 'auto-safety', 'uncertainties', 'bread', 'Assets', 'smoke', 'leash', 'photocopying', 'escaped', 'Population', 'designed', 'Phelan', 'Hamilton', 'witness', '*-26', 'ways', '17.4', '*-35', 'newly', '7.272', '*-27', 'resumes', '*T*-46', 'magnitude', 'Retin-A', 'Vice', 'classmates', 'scripts', 'company', 'feline', 'EC', 'mid-1970s', 'depression', 'effort', 'His', 'memory', 'doctors', '2.65', 'METALS', 'city', 'Management', 'pro-choice', 'argument', 'line-item', 'low-cost', 'removal', 'Lumpur', 'Depending', '82,389', 'dissemination', 'Birmingham', 'free-lance', 'low-priced', 'Great', 'alike', 'F.W.', 'survival', 'adequately', 'Signs', 'telecommunications', 'mood', 'killings', 'gross', 'Serial', 'things', 'swift', 'Peters', 'money-market', 'beat', 'periodontal', 'structured', 'wears', 'punitive', 'sidestep', 'TRANSPLANT', 'unanticipated', 'acknowledges', '*EXP*-1', 'pulp', 'fixtures', 'bribing', 'Rudolph', 'marvelously', 'faint', '*-58', \"'86\", 'promotional', 'Ensrud', 'indirect', 'unneeded', '5,000', '*T*-153', '*T*-159', '13.90', 'test-prep', 'growing', 'says', 'Yale', 'globe', 'Beall', 'data', 'invades', 'regulations', 'encouraging', 'Hammacher', 'Missouri', 'hurting', 'Bermuda-based', 'Las', 'assumption', 'stores', 'unauthorized', 'prescription', 'Adam', 'technically', 'deducting', 'ringing', 'Chinese-American', 'defuse', 'joint', 'May', 'field', 'traced', 'capital', 'inadequacy', 'presidents', '7.5', 'recorder', 'markup', 'Following', 'Elsewhere', '5\\\\/8', 'absurdity', 'four-year', 'Preferences', 'extramarital', 'improves', 'toy', 'predict', 'Sony', 'County', 'occupant', 'surfaced', 'C$', 'Stockholders', 'belonging', 'Ray', 'disappear', 'changing', '*-29', 'II', 'mental', 'frenzy', 'lasting', 'shirts', 'weapon', 'Judiciary', '57.6', 'agricultural', 'nature', 'acknowledge', 'reasons', 'subsidiary', 'medallions', 'during', 'Evidence', 'burdens', 'Greece', 'owed', 'reason', 'licenses', 'visited', 'Share', 'Sigler', 'bilateral', 'ample', 'investor-relations', 'resignation', 'tactics', 'more-efficient', 'weaker', 'semiconductor', '26', 'IBM', 'documented', 'prohibited', 'sometimes-tawdry', 'not', 'stock-specialist', 'enforce', 'gauge', 'lousy', 'renovated', 'advent', 'ancestry', 'friends', 'term', 'obviously', 'Holland', 'Midvale', 'Times-Stock', '26,956', 'Containers', 'wound', 'lap', 'Haden', 'violated', 'Moleculon', 'skyward', 'sleeping', '29.3', 'combined', 'facing', 'Both', 'Arbitrage', 'somebody', 'steps', 'showings', 'weighed', 'two-tiered', 'about', 'Schaefer', 'Glass', 'year-end', 'Senate-House', 'require', 'floor', 'technology', 'Majority', 'metropolitan', 'borrowers', 'holds', 'Mather', 'helpful', 'inspirational', 'Rey\\\\/Fawcett', 'Secilia', '8.48', 'Mulford', 'confines', 'reject', 'picket', 'buck', 'Jan.', 'cigarette', 'fine', 'benevolent', 'orders', 'insists', 'die', 'so-called', 'string', 'once', 'essays', '*-139', 'package', 'energy', 'Kensington', 'timely', 'bone', 'Net', 'Altair', 'Sauvignon', '*T*-198', 'handle', '107', 'Louis', 'included', 'rope', 'Jefferson', 'Albuquerque', 'offenders', 'narrowed', 'romanticized', 'exodus', 'Hammond', 'Mostly', 'stretching', 'returns', 'pins', 'purse', 'Bethlehem', 'whistle', 'publications', 'settlements', 'waived', 'brutal', 'Warehouse', 'Osborn', '2,099', '1.125', 'morning', 'S.I.', 'scheme', 'quotas', 'assess', 'buys', 'red-and-white', 'Confronted', 'Lilly', 'competitor', '236.79', '210', 'fairness', 'Olympia', 'above', 'Committee', 'Giuliani', '*ICH*-3', 'understands', 'Crown', 'withdrawal', 'survivor', 'contributors', '121.6', '644', 'Glenham', 'differ', 'wherewithal', 'consequence', 'maze', 'Daiwa', 'keyboards', 'awfully', 'disclosing', 'suing', 'inflated', '*T*-91', 'worry', 'architects', 'devoted', 'length', 'spectrum', 'outlook', 'Nippon', 'fled', 'sufficiency', 'residential', 'conceivable', 'stepped', 'v.', 'ground', 'faultlessly', 'product-design', 'general', '*-86', 'noting', '4,393,237', 'unfocused', 'newspapers', 'Midwestern', '*T*-94', 'single-handed', 'accommodate', 'NCNB', 'prospective', 'small', '3,500', 'chosen', 'writing', 'NESB', 'Yquem', 'Attorney', 'lure', 'certain', 'wear', 'Turkey', 'charm', 'ASSETS', 'school', '963', 'buildings', 'easily', 'lore', 'Jaffray', '*-21', 'Use', 'Garrison', 'photos', 'McDonald', 'vintages', 'groups', 'results', 'covers', 'Possible', 'levels', 'sector', 'pulling', 'reluctant', 'payouts', 'one-yen', 'callers', 'drop', 'collar', 'silver', 'three-quarters', 'Minn.', 'nuclear', 'mainframe', 'somehow', 'inception', 'warehouses', 'value', 'Sulaiman', 'omitted', '13.5', 'overlap', 'liquidated', '*T*-132', 'APPEARS', 'direct', 'crocidolite', 'Patch', 'affecting', 'overcrowding', 'Fears', 'erodes', 'summer', 'Fujitsu', 'spokeswoman', 'here', 'defying', 'Honolulu', 'stars', 'matters', '3.16', 'U.S.S.R.', 'markkaa', 'many', 'formal', '1901', 'FAMILY', 'seasonally', 'football', 'payoff', '41', 'railing', 'halls', 'staid', 'advantage', 'inevitable', 'Yasser', 'Takashima', 'Micronite', 'dominates', 'Tony', 'runs', 'Austrian', 'portray', 'Tribune', 'also', 'Wertheim', 'viewpoint', 'feudal', 'prosecution', 'lights', 'ago', 'own', 'battle', 'inadequate', 'Strother', 'cartilage', 'Steinberg', 'price', '79', 'Caters', 'beers', 'protections', 'punishing', '*T*-83', 'modern', 'Day', '*-48', 'cent', 'ensembles', 'upbeat', 'talks', 'offending', 'casino', 'Division', 'mentioned', '23.5', 'shareholders', 'donor', '*T*-22', 'undo', 'merger-related', 'finest', 'prominently', 'grim', 'belongs', '6.6', 'apparently', 'allies', 'forest-products', '11,390,000', 'editions', 'petition', '13.8', 'Zaharah', 'tough', 'dropped', 'performance', 'Journal', 'corporate-wide', 'Singapore', 'contingent', 'Corporate', 'denominator', 'Wong', 'Enright', '8.19', 'nets', 'six-month', 'poured', 'offered', 'assistant', 'provide', 'sensation', 'imposing', 'elusive', 'realized', '*-103', 'operates', 'cleanup', 'skeptical', 'Rather', 'highway', 'States', 'feeling', 'Shepperd', '32.8', 'theme', 'GOODY', 'amps', 'disposal', 'Partly', 'proponents', 'Hawke', '*-30', 'waiver', 'stereo', 'gilt', 'millionaires', 'housing-assistance', '12-member', 'Civilization', 'offend', 'disaffected', 'parched', 'Crew', '*T*-9', 'non-core', '28.36', 'purely', 'Carolina', '*T*-168', 'negotiator', 'Major', '*T*-5', 'Dividend', 'usual', 'heebie-jeebies', 'diabetes', 'Union', 'harbinger', 'whenever', 'modification', 'Biscayne', 'lift', 'Polls', 'cater', 'bills', 'findings', 'heartland', 'coffee', '*T*-13', 'teaches', 'Huntington', 'charts', 'proposals', 'naming', 'imaginative', 'mothers', 'PRODUCTS', 'acknowledging', 'Determining', 'Rep.', 'Generalized', 'excise', 'Business', '2000', 'Holding', '31', 'championing', 'Stocks', 'Survey', 'Kalamazoo', 'twinned', 'understood', 'fuming', 'Joni', 'Coleman', 'cleaner', 'hard-drinking', 'snaking', 'C-90', 'Sherwin', 'low-tech', 'manmade-fiber', 'in', '126,000', '*T*-24', 'controlled', 'crunch', 'exceeded', 'vow', 'terminated', 'Nicaraguan', 'fires', 'wrote', '93,000', 'had', '6.70', 'travel-related', 'N.M.', 'vacations', 'Riese', 'export-oriented', 'agenda', 'lawyers', 'lacked', 'Dominus', 'During', 'Gelles', 'Natural', 'especially', 'Malaysia', 'needs', 'abandoned', 'economist', 'Austria', 'Sales', 'boys', 'ship', 'famed', 'ASSOCIATES', '3\\\\/8', 'tried', 'ninth', 'Marietta', '47.6', '-RCB-', 'Constitutional', 'Scherer', 'subject', 'NBC', '1991-2000', 'single-lot', 'plants', 'Bridgeville', 'withstand', 'violating', 'encroaching', 'Jaguar', 'driver', 'author', 'Betting', 'summer\\\\/winter', 'Mercer', 'interest-rate', '*T*-239', 'rebound', 'yielded', 'Jews', 'authors', 'Sherwood', 'Parliament', 'setting', 'surrender', '50.45', 'prefectural', '3,600', 'partial', 'caution', 'counter', 'Senate', 'Mitsubishi', 'message', 'Book', 'definitive', 'dirtiest', '*T*-140', 'placing', '*T*-230', 'designing', 'surrendered', 'closed-end', 'acres', 'Also', 'computer-generated', 'saying', 'interim', 'Dealers', 'Fe', 'travel', 'housewife', 'scandal', 'business', 'interior', 'Stronach', 'R.', 'Rick', 'rear-seat', 'CIA', 'rulings', 'bags', 'Dunn', 'English', 'Forster', 'Unless', 'Excluding', '35', 'rarely', '*T*-138', 'via', 'PRIME', 'traders', 'decades', 'statue', '2', 'reduction', '4.75', 'Maughan', 'Rotie', 'professional', '1940s', 'insurer', '54-year-old', 'eight', 'sizable', 'La', 'Kentucky', 'suffer', '*T*-252', '35.2', 'Traded', 'steelmaker', 'purhasing', 'Prize', '1.8415', 'best', '*T*-139', 'Particularly', 'yen', 'serviced', 'supplier', 'Ten', 'mousseline', 'cover', 'functions', 'jam', 'directly', 'strains', '13.15', 'Stadiums', 'Inland', 'exhausted', 'CTB', 'USA', 'relating', 'track', 'builds', 'prolonged', 'classifications', 'paycheck', 'felony', 'declaration', 'desirable', '11.10', 'thing', 'routine', 'celebrate', 'Datapoint', 'burned', '1968', 'Poland', 'withhold', 'Stork', 'export', 'based', 'identified', 'Stevens', 'saved', 'downright', '4.898', 'referring', '84.9', 'Akerfeldt', 'Pretax', 'Think', 'guys', 'Louisiana', 'Marine', 'Alurralde', '1971', 'cane', 'suggests', 'trespass', 'sentiment', 'scholarly', 'high-flying', 'compressed', '240-page', 'magicians', 'Only', 'twisting', 'Citicorp', 'high-balance', 'schoolchildren', 'supportive', 'public-relations', 'indicated', 'bulldozers', 'sad', 'belt', 'ushering', 'methods', 'someone', 'few', 'gain', 'ripen', '*-137', 'cared', 'seeing', 'moneymakers', 'Farmers', 'struggling', 'CSV', 'Eliminate', 'dancing', 'Northy', 'liability', 'fixed', 'pioneer', '55.1', 'Gillett', 'Against', 'recommendations', 'viewing', 'beauty', 'joined', 'subsidize', 'rebuffed', 'Cannell', 'undertaking', 'underperforming', '500-Stock', 'definitely', 'fourth-quarter', 'Angeles', 'responded', 'Banque', 'inviting', 'large', '8.06', '20.07', 'defense', 'maker', 'Bush', 'another', 'redeemed', 'grand', 'cycles', 'per-share', 'action', 'searched', 'diplomacy', 'beer-belly', 'Redevelopment', 'hardware', 'Howard', 'Germany-based', 'savvier', 'combine', 'Owner', 'architectural', 'hopefully', 'persons', 'Springfield', 'romance', 'Winiarski', 'send', 'boogieman', 'Monday', 'publishes', 'Matthew', '10-day', 'unpleasant', 'aspects', '*-37', 'promise', 'stimulated', 'school-sponsored', 'NetWare', 'opposite', 'dividing', 'volume', 'nominated', 'necks', 'achieving', 'temptation', 'middle', 'Hammerschmidt', 'roof-crush', 'burlap', 'reduced', '*T*-151', 'liable', 'encircling', '352.7', 'Marubeni', 'blow', 'watchers', 'worms', 'Equal', 'stockbrokers', 'tort', 'Elco', 'establishment', '490', '95,142', 'resort', 'filed', 'managers', 'Phoenix', 'N.Y', '175', '*T*-171', '*ICH*-4', 'insurance-company', 'machines', 'Cerf', 'pushes', 'organization', 'Egnuss', 'banking', '50-50', 'Conn', 'Egyptian', \"O'Neill\", 'Due', 'nationwide', 'replies', 'good', 'restore', 'experienced', 'comparison', 'peaceful', 'profitably', 'creates', 'holiday', 'chairman', 'contesting', 'shrinks', 'Harris', 'sources', 'Colorliner', '6,799', 'Macmillan', 'Heatherington', 'superior', '767', 'decision', 'mushy', '1.916', 'implications', 'inaccurate', 'manage', 'chrysotile', 'Motors', 'N.C.', 'predicts', 'taxable', 'resisting', 'Aerospace', 'awards', 'watch', 'shoring', 'disagreed', '1972', '64.5', 'issued', '77.6', 'Columbia', 'oils', 'cruising', 'trimmed', 'relaunched', 'chauffeur', 'Consumer', 'consultant', '*-22', 'generally', 'top', 'Radio', 'Adds', 'blinks', 'platitudes', 'Jim', '8.14', 'speedway', 'stare', 'bureaucratic', 'pro-democracy', 'concept', 'Wilson', 'still', 'limping', 'foreign', 'bellwether', '3.18', 'CDC', 'creativity', 'those', 'Long', '*T*-14', 'Helsinki', 'arbs', 'Jalaalwalikraam', 'red', 'involve', 'for', 'high-polluting', 'Landonne', 'restricts', 'knitted', 'structural', 'Pharaoh', 'small-company', 'Gerald', 'personally', 'Souper', 'red-carpet', 'precedent', 'slew', 'Engineers', 'glitches', 'Pentagon', 'Raton', '*T*-107', 'Absorbed', '609', 'relative', '195', 'claim', 'Williams', 'swings', 'curses', 'whirling', 'OSHA', 'speak', \"'s\", 'stays', '0.28', '$', 'actress', 'fanfare', 'jugglers', 'grapes', 'talk', 'debts', 'heavy', 'Allen', 'hydraulically', 'Dorrance', 'segmenting', 'immune', 'Bowman', 'hottest', 'Lieberman', '1.75', '22.75', 'softening', 'No', 'Basham', 'Income', 'remaining', 'mailed', 'sensational', 'studies', 'Zurich', 'unreasonable', '*-8', 'resonate', 'Economists', 'plus', 'feels', '*T*-10', 'Arraignments', 'unloaded', 'Lighthouse', 'fancy', '45.75', '*T*-170', 'four-foot-high', 'Fang', 'quick', 'giants', 'effect', 'Attorneys', 'ultimate', '126.1', 'defined', 'his', 'George', 'curbing', 'Whether', 'mortgage-backed', 'getting', 'Danzig', 'San', 'expedited', 'Westport', 'Mining', 'Sacramento-based', 'surgery', 'entering', 'resigning', 'Wall', '7.2', 'ranging', 'ad', 'broadcasts', 'pre-cooked', 'insured', 'Insurance', 'stacking', 'fourth', '57', 'preapproved', 'Characters', 'these', 'Now', 'difficult', 'Muramatsu', 'end', 'represent', 'ASSOCIATION', 'strain', 'its', 'Tom', '27.1', 'old-time', 'warrants', 'audiocassettes', 'contrary', 'inside', '29year', 'exercisable', 'completely', 'clean-air', 'Chabrol', 'A.C.', 'designated', 'directionless', 'Donuts', 'speaks', '*-166', 'spirits', 'Monitor', 'Justice', 'vicissitudes', 'slowdown', 'may', 'flag', 'sued', 'Diaper', 'educational', 'INQUIRY', '*-3', 'Whelen', 'bearing', 'Takeover', '*-31', 'administrative', 'importance', 'Still', 'Judicial', 'accordance', 'analyst', 'Judging', '300-a-share', '10', 'mend', 'fasteners', 'billion-dollar', '*-94', 'S&P', 'mistake', 'Aktiebolaget', 'Carbide', 'Crude', 'standing', 'November', 'mail', 'Intermec', 'beg', '19.3', 'robotic', 'director', 'Coniston', 'Mrs.', 'chilled', 'acceptance', 'widget', 'array', 'weight', 'all', 'Appeals', 'Schweiz', 'Hahn', 'Sweden', 'code', 'ignoring', 'aide', 'competitions', 'gloomy', 'restructuring', 'familiar', 'Co', 'Seagate', '*T*-221', 'return', '96.4', 'anecdotal', 'affect', 'Backer', 'stripped', 'Jr', 'engineering', 'actually', 'Trojan', 'attracting', 'representing', '1,000', 'Cabbage', 'up', 'totaled', 'addressing', 'All', 'unpublished', 'Timex', '46.1', 'observations', 'crises', 'map', 'radioactivity', 'Knopf', 'squeezed', 'Sullivan', 'Cathryn', 'sites', 'Albert', 'planned', 'unwashed', 'arguing', 'formally', 'enthusiasm', 'bothered', 'expense', 'Del.', 'ethics', '830,000', 'greed', 'researching', 'happens', 'Individual', 'working', 'explore', 'Bentsen', '*PPA*-3', 'should', 'Trust', 'muzzling', 'declines', '*-46', 'Three', 'Lawyers', 'commercial', 'OVER', 'sales', 'Arafat', 'Pate', 'category', 'trends', 'etc.', 'Vose', 'IMSAI', '3:15', 'queers', '*-47', 'Hills', 'ai', 'labels', '105', 'electric', 'moderated', '598', 'Labouisse', '*T*-42', '1956', 'duty', 'homosexual', 'looked', '7.62', 'thousands', 'globally', 'minister', 'Anku', 'Merrick', 'supporters', 'plant', 'Firms', 'scheduled', 'floral', 'unlikely', 'Katzenstein', 'diminished', 'R.D.', 'suddenly', 'equally', 'Appellate', '0.7', '*T*-98', 'interstate', 'men', 'hundreds', '133.7', 'Neanderthals', 'staffs', 'slated', 'houses', 'Gerhard', 'receipt', 'initialing', 'asks', 'filings', 'Year', 'workers', '*T*-81', 'hostility', 'Arighi', 'investment-grade', '*T*-23', 'premises', 'Prime', 'stresses', 'Centers', 'placed', 'chopped', '*T*-135', 'Further', '70.7', \"'30s\", 'joining', 'Muscolina', 'trafficking', 'slump', 'Stores', 'Tarwhine', 'octogenarians', 'framers', 'spurring', 'storage', 'death', '30.9', '1.01', 'Airways', 'sagging', 'cars', 'Neither', 'offensive', 'occupying', 'heightened', 'hardest-hit', '13.73', 'satisfaction', 'automatic', '138', 'raced', 'closing', 'constitutional-law', 'Kalipharma', 'disagreement', 'scoop', 'dashes', 'secret', 'essentially', 'out', 'all-cash', 'drives', 'sweeping', 'Japan', 'tissue-transplant', 'Nomenklatura', 'daily', 'Australian', 'desired', 'Schroder', 'glory', 'clearance', 'crushed', 'rout', 'interview', 'growth', 'limited', 'forces', 'talking', 'chalk', '11\\\\/16', '*T*-4', 'hill', 'cost', 'frequently', 'unlabeled', 'carrier', 'assure', 'Edwin', 'Dale', '5.9', 'Karns', '245', 'electronic', 'program-trading', 'Gaithersburg', 'PaineWebber', 'final', 'truth-in-lending', 'lengthened', 'bank', '*T*-88', 'takings', 'Pittsburgh', 'Hitachi', 'previously', 'diagnosed', 'maintenance', '8.30', 'Fair', 'discordant', 'according', 'petroleum', '16.2', 'Citizens', 'evening', 'council', 'Gross', '7.90', 'faded', 'Pty.', '*T*-127', 'political', 'unwind', 'Chase', 'using', '282', '0.95', 'Ranieri', 'confuse', 'ushered', 'employer', 'identify', 'Woodcliff', 'Sale', '1.14', 'Edison', 'lowering', 'tags', 'churches', '300,000', 'quiet', '100,000', 'vendors', 'superintendent', 'Total', 'thus', 'absolute', 'U.S.-Japanese', 'furniture', 'meet', 'U.S.', 'notes', 'refunded', 'check', 'fault', 'Session', 'friction', 'mininum-wage', 'floated', 'Elliott', 'eclectic', 'Palmer', 'progress', 'institutional', 'Earnings', 'Daniels', 'Carl', '16.09', 'lucrative', 'five-day', 'founder', 'Royal', 'pockets', 'lungs', 'possible', 'Bradford', 'accept', 'posts', 'hospitable', 'apples', 'Italian', 'Program', 'Vos', 'hypocrisy', 'implies', '275', '108', 'crowded', 'develop', 'three-sevenths', 'disaster-assistance', 'favors', 'Elmhurst', 'acted', 'maintain', 'jumps', '8.2', 'Ariail', 'Metal', 'tired', 'investments', 'storm', 'Roof', '107.03', 'Gotta', 'grain', 'answer', 'sending', 'crystals', 'Industry', 'promoting', '*-88', '1.1', 'Again', 'expected', 'Solomonic', 'listeners', 'copies', 'gave', 'smartly', 'titans', 'Ringing', 'USX', 'additions', 'Netherlands', 'oversight', 'Menem', 'now', '26,000', 'rain', 'households', 'performers', 'shelf', 'tree', 'Sidewalk', 'quantity', '*T*-62', 'efficiencies', '*T*-93', 'demanding', 'classified', '10.2', 'gallium', '7.8', 'connected', 'despised', 'commodities', 'Seoul', 'shopped', 'Nor', 'guaranteed', 'candidates', 'Hutton', 'Smith', 'realize', 'disseminate', 'favorably', 'lofty', 'lovely', 'just', 'scant', 'physical', 'Mac', 'industrial', '*-97', 'agriculture', 'DEPOSIT', 'variation', 'careers', 'unit', 'evoking', 'major-league', 'fields', 'Julia', 'prices', 'Automobile', 'Graham', 'polluters', 'worthy', 'override', 'Contras', 'Stern', 'Few', '909', 'former', 'blamed', 'Social', 'Dodger', 'TREASURY', 'Nesconset', 'emigres', 'wanted', 'pipes', 'Indiana', 'weak', 'Atlanta', 'chunk', 'bomb', 'Rozell', 'worship', 'sidewalk', 'passage', 'anticipates', 'heart', 'Mae', 'reversed', 'Excision', 'apologizing', 'positive', '*T*-84', 'reward', 'POP', 'ranked', 'machinists', 'PORTING', 'Eggers', 'intricate', 'fall', 'disparate', 'oriented', 'laser', 'extraordinary', 'censorship', 'sagged', 'overcome', 'meatpacking', 'refer', 'disclosures', 'vested', 'N.J', 'Could', 'page', 'older', 'numerous', 'Auctions', 'smiles', 'Jersey', '*T*-257', 'advocating', 'Bendectin', 'citizen', 'Tassinari', 'statute', 'inspired', 'dealers', 'Machines', 'crisis', '7.50', '2.9', 'life-of-contract', \"CREATOR'S\", '3.375', 'scaring', 'what', 'collected', 'Prior', 'execute', '*T*-187', 'Carla', 'Center', 'fast-food', 'conditional', 'labor-intensive', 'tie-in', 'Private', 'taxation', 'Pinocchio', 'be', 'Congressman', 'Estate', 'buttoned-down', 'Acquisition', 'wrongdoing', 'attack', 'limited-partnership', 'establish', 'Beijing', 'cow', '266', 'captive', '*-140', 'cooperating', 'hung', 'government-certified', '100-share', '58-year-old', 'Estates', 'first-rate', 'protected', 'sneaked', 'surge', 'dry', 'conference', 'far', 'Mindy', 'sacrifice', 'version', 'entered', '2163.2', 'mill', 'novelist', 'Chevrolet', 'attitude', 'disclosed', 'conglomerate', 'turmoil', 'house', 'multilevel', 'flagrant', 'pressured', '0.50', 'heavy-truck', 'ambassador', 'parishes', 'traveled', 'introduces', 'goods', 'initial', 'broken', 'predictably', '18-year-old', 'Fla.', 'ambitions', 'liquid-nitrogen', '143.08', 'ceiling', 'mortgages', \"''\", 'minivans', 'historical', 'Warsaw', '30-day', 'crime', 'Killeen', 'lotions', 'programmer', 'Black', 'operation', 'objectionable', 'Parkinson', 'personal', 'sellers', 'Rae', 'Grant', 'farms', 'Matthews', 'issue', 'barometer', 'Foreign', 'lessening', 'Glenn', 'identities', 'reopen', 'Fourth', 'date', 'occurred', 'load', 'Advice', 'persistent', 'pence', 'discovered', 'Kuvin', 'executive-office', '6.44', 'run-down', 'attempting', 'inventiveness', 'decisive', 'examined', 'Financing', 'Noble', 'ABORTION', 'A-D', 'Form', 'Andrew', 'indexers', 'bad', 'become', 'noncompetitively', 'Detroit', 'innuendoes', 'congressmen', 'word-processing', 'plans', 'anti-program', 'Tokyo', 'imminent', '14.6', 'facial', 'Troubled', 'elaborate', 'Courter', 'usurp', 'variety', 'intent', 'Alstyne', 'that', 'me', 'friendship', 'entrenched', '131.01', 'polls', '*T*-259', '2-3', 'erode', 'Barfield', 'tripled', 'Savin', 'committing', 'permitted', 'note', 'Wells', 'kicker', 'Sternberg', 'McCabe', 'specialists', 'prize-fighter', 'primarily', '7.78', 'deceptive', 'breakdown', 'revival', 'White', 'Olympic', 'acquisition-minded', 'thrifts', 'exceptionally', 'Aurora', 'cereal', 'Level', 'avenues', 'stations', 'rancor', 'Hackensack', '497.34', 'Bugs', '700,000', 'influential', 'generous', 'Telephone', 'EVERYONE', 'Close', 'cheerleaders', 'safe-deposit', '154,240,000', 'Institutions', 'misdemeanor', 'among', 'join', 'failing', 'one-month', 'adults', 'Under', 'computerized', 'weekly', '29.9', 'Burt', 'universally', '1614', 'Sidak', 'our', 'poverty', '6.4', 'Du', 'pretax', 'white', '2,410', 'Siegal', 'intensity', 'reserved', 'establishing', 'got', 'stressing', '321', 'Bougainville', 'fears', 'Ed', 'backyard', 'Edward', '*-78', 'Soups', '352.9', '0.5', '40.21', 'periods', 'Guigal', 'claims', 'diluted', 'excellence', 'enormous', 'demonstrating', '*T*-121', 'doubted', 'car-care', 'seeks', 'Wilbur', 'loser', 'inheritor', 'becoming', '76', 'programming', 'traffic', 'fashion', 'Office', '*T*-18', 'singled', 'currently', 'leap', '6.84', 'Meinders', 'launched', 'p.m.', 'suspect', 'fighters', 'Dogs', 'rechargeable', 'Gold', 'persuasion', 'Cab', 'falling', 'Donaldson', 'cadmium', '*T*-232', 'Even', 'Hormats', 'yielding', 'eventually', 'emergencies', 'transportation', '99.3', 'cloud', 'vehicle', 'hardly', 'officially', 'zone', '*-109', 'summoned', 'Solaia', 'meanwhile', 'sticker', '2.62', 'vs.', 'Hudnut', 'evident', 'feeds', 'president', 'letters', 'lipsticks', 'inherently', 'disputed', 'decisions', 'energy-services', 'First', 'inefficiencies', 'premiere', '310', 'project', 'non-religious', 'cope', 'hours', 'kind', 'Equivalents', 'charges', 'pirates', 'skittishness', 'disagreeable', 'margin', 'Demand', '1.18', 'S.', 'petulant', 'common-law', 'troubled', 'conspicuous', 'Internatonal', 'wooing', 'Yorkers', '13.65', 'leapt', '*T*-189', 'improvement', 'ahead', 'decorator', 'p.m', 'Hong', 'Filmed', 'longest', '86', '9\\\\/32', 'designations', 'drink', 'highlight', 'person', 'safety', 'fees', 'hobbyists', 'regions', 'TROUBLES', 'Control', 'Torrington', '1.1650', 'switch', 'Czechoslovakia', 'associated', 'Do', 'amusing', 'peculiarities', 'electric-utility', 'interbank', '12.09', 'broadened', 'Almost', 'lobbies', 'Despite', 'Research', 'afterwards', '5.276', 'galvanized', '377.60', 'structure', 'Brace', 'nail', 'leaving', 'community', 'Academically', 'committed', '93.9', 'capture', 'Have', 'vagabond', '4', 'Burnham', 'INGERSOLL-RAND', 'debt', 'breathtaking', 'folks', 'theological', 'multibillion-dollar', 'fundamentally', 'them', 'Gaja', 'even', 'editorial', '*T*-188', 'save', 'Sydney', 'stadiums', 'perform', '8.04', 'treats', 'incredible', 'Clarence', 'sign', 'Retail', 'approve', 'comfort', 'State', 'research', 'sew', 'Dill', 'closely', 'replicated', 'nine-member', '*T*-105', 'skyrocketed', 'COPPER', '*T*-200', 'Defending', 'opposed', 'beautiful', 'bronze', 'joins', 'back', 'paid', 'expectation', 'newsworthy', 'Alvin', 'exercise', 'nightmare', 'trials', 'complexes', '*T*-161', 'crystal', 'Poore', '140', 'thirtysomething', 'dismal', 'Alan', 'Argentina', 'member', 'Anderson', 'Spreads', 'S.A', 'crops', 'speculators', 'Public', 'serves', 'spook', 'considered', 'distributable', 'aimed', 'deviation', 'politics', '*T*-220', 'East', '600,000', 'LYNCH', '*-89', '879', 'careful', 'GHS', '30.6', '18.95', 'acquirers', 'credit', '36-day', 'widely', 'some', 'missed', 'Contracts', 'obsessed', 'Blanc', 'returning', 'intertitles', 'mediocre', 'consistent', 'Polish', 'Purchase', 'Monticello', '9.82', 'judicial', 'dances', 'scientific', 'computer', 'fret', '90', 'derisively', 'lauded', 'nominees', 'multitude', 'appealing', 'climbed', 'pharmaceutical', 'automobiles', 'triggered', 'Army', '1981', 'Negus', 'baby', 'presentation', 'afflicted', 'Ruth', 'charge', 'disappears', 'maturities', 'couple', 'Furukawa', 'haul', 'uncomplaining', 'first', 'Blancs', 'Sixth', 'threatened', 'premium', 'poignant', '9.75', 'product', 'Lezovich', 'Brooks', '*-130', 'Michigan', 'Developed', 'Country', 'reasonably', 'National', 'Ohio-based', 'jeopardy', 'collaborated', 'rapid', '4.4', '350,000', 'industries', 'crackdown', 'license', 'Relations', 'port', 'mirror', 'countless', 'milk', 'Michaels', '53-year-old', 'denying', '1937-40', 'high-tech', 'Indexing', 'European', 'resists', 'PCs', 'McAlpine', 'relegated', 'Mario', 'drastically', 'abide', 'desktop', 'China', 'pitting', 'uncompensated', 'vans', 'homelessness', 'impose', 'voters', 'high-priced', 'Dell', 'unfair-trade', 'gentle', 'less-serious', '45.2', 'York-based', 'abandon', '30,841', 'busiest', 'pieces', 'commit', 'Documents', 'Pierre', 'states', 'Linda', 'cautious', 'N.C', 'walls', 'quipped', '*T*-130', 'compatible', 'four', 'noticed', 'event', 'discouraging', 'trees', 'limit', 'livelihood', 'kidnapping', 'Zicklin', 'home', '11,762', 'average', '*T*-29', 'None', 'neighbors', 'Fees', 'Wakui', 'HHS', '1st', 'simultaneously', 'protein-1', '81.8', 'recruiting', 'earn', 'underprivileged', 'welcomed', 'counterattack', 'extensive', 'scenario', 'listing', 'due', 'master', 'Felten', 'demographic', 'age', 'appetite', 'deliberately', '9.9', 'dividends', 'founded', 'secede', \"'m\", 'Earlier', 'highly', 'senses', 'Railroad', 'surged', 'count', 'DIALING', 'Besides', 'chaos', 'Runkel', 'bench', 'Bronx', '120', '811.9', '23,000', 'overall', 'desire', 'roof', '77,000', 'fronts', 'Marie', '5.57', 'aisles', 'morale', 'breach', 'lesson', 'bottom-line', 'anxious', 'commissions', 'protect', 'Cooper', 'DSM', 'Louisiana-Pacific', 'others', 'broad', 'year', 'attending', 'bread-and-butter', 'several-year', '*T*-37', 'players', 'rallying', 'estimates', 'pennies', 'reps', 'lens', 'cents-a-unit', 'knell', 'pleaded', 'pressman', 'insurance', 'designer', 'Miss.', '*-100', 'salary', 'short', 'Morita', 'paperback', 'aspires', 'murdered', 'cracks', 'investigations', 'coal', 'bureaucracy', 'authorized', 'Title', 'DDB', 'maximize', 'us', 'complicate', 'rating', 'July', 'Makato', '64', 'sugar', 'recognizing', 'A.', 'superiors', 'travelers', 'representatives', '*T*-68', 'Fortune', 'INTERBANK', 'portfolio', 'Freud', 'Deborah', 'describe', 'Elisa', 'most-likely-successor', 'betterment', 'Sir', '1993', 'Wa', '14.00', 'tune', 'Party', '*T*-208', 'five-inch', 'ticket', 'Limited', 'Powers', '12.68', 'Mason', 'abuse', 'two-year-old', 'deemed', '*T*-33', 'Wilcox', 'resent', 'boutique', 'fracture', 'knew', 'would-be', 'any', 'Rogers', 'circuit-breaker', 'wealth', 'Czech', 'herself', 'openly', 'achievement', 'magnified', 'Observing', 'approval', 'neighborhood', 'lock', 'car', 'marketed', 'Free', 'aggravated', 'contacts', 'PS', '3.75', 'lotter', '*T*-233', 'ring', 'consider', '120.7', 'Individuals', 'integrated', 'fundraising', 'Merrill', 'belfries', 'Article', 'judgment', 'incomplete', \"O'Loughlin\", 'sometimes-exhausting', 'gets', 'dreamt', 'Mississippi', '8.575', 'decay', 'file', 'In', 'flows', 'Campaign', 'scenic', 'waited', 'jumping', 'Needham', 'Gates-Warren', '?', '*-16', 'Brent', 'governor', 'energetic', 'activities', 'Solution', 'Week', 'Cambridge', '*T*-52', 'shoulder', 'spread', 'deprived', 'Two', 'seize', 'wield', 'testify', 'ships', 'cataract', '35564.43', 'chip', 'Can', 'species', 'asset-sale', 'Clairton', 'Currently', 'Cultural', '750', '2.75', 'Bangkok', 'panic', 'am', 'answers', 'affair', 'kindness', 'court-ordered', '36', 'behavior', 'raring', 'revenue', 'gelatin', 'BMP-1', 'domestically', 'subcommittee', 'Certainly', 'Michelin', '*T*-226', 'Hampshire', 'direct-investment', 'Government', 'Indeed', 'Evans', 'except', 'whereby', 'thread', 'administration', 'led', 'survive', 'Assurance', 'higher', 'Australia', 'Mass', 'large-scale', 'phase-out', 'Technology', 'aghast', 'foundering', 'expecting', 'Conn.based', '6.9', 'Calif.-based', 'NCR', 'repaired', 'brief', '2009', 'evenly', '374.20', 'formula', 'said', 'Unable', 'proprietor', '*T*-160', 'Ballot', 'persuasive', 'jurisdiction', 'earthquake', 'equaling', 'utilities', 'Paris', 'Derek', 'reshaping', 'press', 'tallies', 'beverage', '51.25', 'entire', 'Charter', 'when', 'alternatively', 'get-out-the-vote', '967,809', 'horoscopes', 'barely', 'profit-taking', 'Florida', 'lead', 'Crime', 'country', 'northern', 'terrorists', 'hay', 'Domestic', 'enabling', 'Moreover', 'top-selling', 'Marge', 'automobile', 'understand', 'cooled', 'capability', 'assume', 'glamorize', 'monopoly', 'participate', 'Colorado', 'enticed', 'recovering', 'incisions', 'requirements', '225', 'percent', 'Southeast', 'networking', 'clerics', 'Yamaichi', 'clearing', 'Danville', 'Campeau', 'patent', 'engage', 'blank', 'Christmas', 'affiliates', 'himself', 'Whip', '280', 'caustic', 'core', 'independent', 'passenger-car', 'abortion-related', 'volunteer', '*-82', 'pretty', 'instrumental', 'if', 'Coast', 'tour', 'Second', 'struggled', 'pursue', '472', 'innovative', 'Wilton', 'truce', 'DNA', 'harass', 'Alysia', 'administrator', 'years', 'posting', 'Lakes', 'tenth', 'crippled', 'error', 'Noriega', 'Charles', 'teacher', 'dreamed', '72.7', 'Unitholders', 'Barbara', 'examples', 'forced', 'early', 'old-style', 'early-retirement', 'odd-sounding', 'hotels', 'But', 'owner', 'Dunton', ':', 'teacher-cadet', 'centerpiece', '98.3', 'jointly', 'P.', 'we', 'Youths', 'duo', 'Columbus', 'shipments', 'transactions', 'Skilled', 'Johns', 'transacting', 'rich', 'attended', 'mechanical', 'ratings', 'assumed', 'stage', 'avert', 'Energy', 'executes', 'timing', 'bankers', 'reinstatement', 'Agriculture', 'Garry', 'whether', 'Plaza', '14.28', 'acquirer', '50,000', 'granted', 'Pepperdine', 'clearly', '125', 'investing', 'processes', 'PHOTOGRAPH', 'Lama', '1961', 'faith', 'climate', 'multinationals', 'today', 'Graduate', 'miners', '36.9', 'biggest', 'betting', 'Europe', 'road', 'face', 'disadvantage', 'only', 'sixth', 'however', 'Dr.', 'Nations', 'affirmative', '3.6', 'demobilize', 'endorsed', 'camera', 'presumes', 'Circuit', '14.54', 'A.D.', 'killed', 'linked', 'civilization', 'W.R.', 'default', 'Possibly', 'goodwill', 'resolve', 'auspices', 'anytime', 'offender', 'Najarian', '*-53', '18,000', 'Harold', 'squad', 'jet', 'puzzled', 'generalizations', 'total', '230-215', 'accounts', 'Video', '25.6', '1,050,000', 'lap-shoulder', 'Raymond', 'lately', 'military', 'holding', 'Nicholas', 'Sun', 'signals', 'of', '*T*-12', 'longevity', 'defines', 'Pressures', 'loan', 'Class', 'Valley', 'Notes', '5.82', 'managed', 'Spielvogel', 'francs', 'endorse', 'Spence', '227', 'Taking', 'Investor', 'OTC', 'sewer', 'corrupt', 'command', 'perfection', 'Hawaii', 'inverse', 'illegal', 'speculation', 'US$', 'competition', '118', 'good-faith', 'Kong', 'Virgin', 'Inouye', 'products', 'Proponents', 'Except', 'harmed', 'Cray-3', 'toast', 'Strindberg', 'status', 'Mission', 'twin-jet', 'Reuters', 'Jon', 'Gingl', 'Woodward', 'slack', 'Daily', 'Democrat', 'peculiar', 'wants', 'Junk-bond', 'recorded', 'difficulties', 'agreeing', 'four-color', '7.422', '0.16', 'hedging', 'regulatory', 'Springs', 'lease', 'Milne', 'joy', 'Cartoonist', 'monitor', 'Stockholm', '0', '1960s', 'exploration', 'moved', 'Kathleen', 'injuries', 'picking', 'Ichiro', 'equip', 'least', 'top-level', 'Finmeccanica', 'easy', 'stay', 'Nature', 'microwave', 'serial', '8.35', 'Robert', 'expenses', 'stem', 'managements', 'tabloid', 'spinoff', 'deaths', 'SuperDot', 'dam', '149.9', 'markets', 'Disease', 'putting', 'insanity', 'sort', 'Educational', '10.19', 'benefit', 'Image', 'card-member', 'Atlanta-based', 'Pepperidge', 'sounding', 'induce', 'COMPUTERS', '30-year', 'invent', 'Stearn', 'outranks', 'professionals', 'INS', 'Boeing', 'Times', 'specialized', 'budget', 'trend', 'dismay', '257', 'Dugdale', '127.03', 'preset', 'training', 'resumption', 'overdone', 'post', '*T*-249', 'Sebastian', 'sharply', 'Seymour', 'Veraldi', 'resist', 'place', 'cavernous', 'bearish', 'issues', 'McFall', 'screen', 'consistently', 'under', 'Leinonen', 'appreciation', 'locked', 'Copperweld', '*T*-167', 'powers', 'To', 'fanciful', 'coming', 'irony', 'LATE', 'Soldado', '*ICH*-1', '15', 'negotiations', 'Connecticut', 'Fairless', 'bar', 'modify', 'assemble', 'improper', 'black', 'Chilver', 'junk', 'then', 'Finland', 'particularly', 'integrity', '672', 'thwart', 'Declining', '2.50', 'policy', 'memorize', 'shipped', 'nutrition', 'Value', 'vague', 'Economy', 'spot', 'peak', 'Luce', 'Professors', 'spiders', 'hypothetical', 'party', 'International', 'masters', 'questionable', '130', 'convicted', 'forward', 'devastating', 'Recently', '6,500', 'sweepstakes', 'felt', 'principle', 'property', 'thieves', 'purpose', 'Saints', 'AND', 'shaky', 'McGraw-Hill', '37', 'equal-opportunity', 'reflection', 'board', 'Washington-based', 'Truck', 'game', 'Edwards', 'transplants', 'W.D.', 'universities', 'checking', 'approved', 'Vicar', 'THREE', 'Before', 'specialty', 'Caldor', 'is', '148.9', 'Belt', 'pushed', 'rings', 'intellectual', 'noted', 'PC', 'caused', '*T*-154', 'Warner', 'pealing', '*T*-26', 'constitute', 'quantitive', 'superconductors', 'entrance', 'emasculate', 'trouble', 'cash-flow', 'external', 'operational', '1,880', '2.15', 'anxieties', 'deter', 'march', 'Ronald', 'Criticism', 'days', 'looming', 'Dinkins', 'one-time', '8.65', 'cry', 'stable', 'manager', 'corridors', 'than', 'Price', '1920s', 'Bridgestone\\\\/Firestone', 'Dunkin', 'direct-mail', 'Northeast', 'recalls', 'pipeline', '960', 'From', 'pound', 'stopped', 'bless', '0.1', 'Nemeth', 'accord', 'devote', 'truth', 'increase', 'cushioned', 'disapproval', '*-129', 'firmness', 'exploit', 'prying', 'Webb', 'bribe', 'problem', 'F.', 'designers', 'weeklies', 'York', 'financings', 'arbitrage', 'full', 'signifying', 'cheating', 'analyze', 'fellow', 'car-development', 'shoot', 'retaliating', 'museum', 'Vitulli', 'tip', \"'S\", 'lightning-fast', 'del', 'shuttle', 'Health', 'retorts', 'copy', 'accessories', 'internal', 'losing', 'Romanee-Conti', 'accidents', 'publicity', 'Women', 'Participants', '`', 'stellar', 'succession', 'existence', 'treated', 'Jones', 'snapped', 'Post', 'Milan', 'abuzz', 'unfunded', 'Funding', 'preface', 'duties', 'Veselich', 'geography', 'Ratings', 'Ginsberg', 'whose', 'display', 'Weil', 'oblivion', 'waif', 'believes', 'Leming', 'taste', 'giving', 'purchased', 'Allergan', 'confirm', 'deny', '13,056', 'Airlines', 'proof', 'Security', 'tremendous', 'Honduras', 'suffered', 'airplane', '3.23', '100-megabyte', 'Legal', 'ends', 'autions', 'repriced', 'reallocate', 'university', 'Vacancies', 'medicine', 'hormone', 'dynamics', 'polyproplene', 'Merc', 'cutting', 'RATE', 'Oshkosh', '*T*-172', 'Family', 'Reupke', 'Democrats', 'interviewed', 'practices', 'People', 'relation', 'scams', 'MONEY', '120-a-share', 'equity', 'operators', 'diamond', 'cultivated', 'Herrington', 'GMAC', 'curtailed', 'Ala', 'defendants', 'spooked', 'mostly', 'refused', 'yesterday', 'per', 'acne', 'Glendale', 'Gerard', 'Mortimer', 'fewer', 'whipsaw', '13.50', 'unfairly', 'Tots', '*T*-218', 'classes', 'issuers', '6\\\\/2', 'holdings', 'binge', 'zoomed', 'investigate', 'phone', 'refunds', 'morphogenetic', 'docile', 'Harper', 'revelations', 'then-Speaker', '7.20', 'Anthony', 'Journals', 'Henderson', 'areas', 'checkbook', 'suppression', 'eliminate', 'hits', 'promised', 'Court', 'Marshall', 'healing', 'readings', 'reducing', 'crowd', 'reacted', 'signature', 'tons', 'wave', 'Beach', 'evolution', 'Overall', 'along', 'combat', 'admitting', 'constitutional', 'silent', \"'82\", 'helping', 'session', 'Hallett', 'offerings', 'ideas', 'controls', 'gifts', 'U.S.A.', 'Lobsenz', 'willingness', 'lower-priority', 'Baltimore', 'risen', 'Sable', 'Investments', 'justices', 'politically', 'matches', 'staff', 'Rabia', 'Erbamont', '2.35', 'played', 'vital', 'reflecting', 'They', 'Mont', 'damage', '114', 'Fax', 'administer', 'through', 'devices', 'papers', 'plunging', 'cards', 'specifics', '*T*-210', '*ICH*-2', 'creating', 'ChemPlus', 'loathsome', 'tiny', 'Panama', 'Israel', 'sink', 'whom', 'honors', 'improvements', 'nervous', 'Collins', 'Wis.', 'thugs', 'emissions', 'directorship', 'clearer', 'star', 'Sprint', 'colony', 'dramatically', 'Pennview', 'FAX', 'relations', 'Key', 'opens', '1950s', 'Portugal', 'increased', 'inauspicious', 'entertainment', 'valuation', 'Weatherly', 'rescheduled', 'convinced', 'claiming', 'recall', 'bomber', 'anger', 'indicate', 'dumbfounded', 'letter', 'Being', 'Chong-sik', 'modernization', 'did', 'Ad', 'hope', 'beforehand', 'unions', 'arising', 'Pan', 'compassion', 'Wild', '14.5', 'deluge', 'money-center', 'ambitious', 'minor', 'slides', '*T*-15', 'rises', 'associate', 'Chinese', 'Oliver', 'perceives', 'torn', 'veto', 'allegedly', 'condition', 'Facilities', 'contracts', 'VanSant', 'Francisco-based', 'fixed-rate', 'vacancy', 'Greenville', 'Companies', 'happening', 'Experts', 'Information', 'Moscow', 'till', 'Norwalk', 'altruistic', '*T*-216', '5.2180', 'Newspapers', 'fleeting', 'confidant', 'sulfur-dioxide', 'goblins', '1990s', 'threats', 'fabricator', 'spokesman', '*-104', 'impressive', 'Mo', '*T*-96', '1979', 'executive', '*-24', 'rise', 'slipped', '92', 'litany', 'SALARIES', 'told', 'clients', 'used', 'Rill', 'Soviets', 'privacy', 'El', 'exemption', 'stiff', 'Knapp', 'block', 'include', 'penetration', 'habit', 'ending', 'lackluster', 'reader', 'Riviera', 'inquiries', '*-7', 'Berliner', 'Schlemmer', '*-125', 'metals', '7.74', 'Nestor', 'BMP', 'Minister', 'Federal', 'b', 'Builders', 'Negotiable', 'Backseat', 'abroad', 'chary', 'Lazzaroni', 'Employers', 'remorse', 'Cheese', 'practice', 'bribery', 'mitigate', 'Riyadh', 'vindication', 'Tenn.', 'fibers', '*-87', 'bankroll', 'planting', 'flightiness', '8.07', '2.1', 'sogo-shosha', 'Taylor', 'Tailors', 'Reached', 'two-sevenths', '*T*-214', 'consented', 'Germans', 'Shipments', 'needing', 'astronomical', 'mortgage', 'how', 'high', 'Index', 'laying', '71', '1:30', 'entity', '111', 'acetate', 'insider', 'neoprene', '*T*-224', 'collection', 'dominating', 'Virginians', 'article', 'Islamic', 'Nofzinger', 'Symbol', 'closed', 'expands', 'most', 'erudite', 'Middlesex', 'Stark', 'Curry', 'develops', 'semiliterate', 'index-fund', 'Plains', '180', 'exceeds', 'pull', 'dairy', 'Brands', 'traditional', 'to', 'Shaw', 'bigger', 'estimated', 'replicate', 'old', '*T*-191', 'intervention', 'Central', 'apprehensive', 'yon', '*T*-71', 'two-week', 'scrounge', 'governors', 'swim', 'degrees', 'adopted', 'FUNDS', 'Andean', 'find', 'example', 'was', 'nation', '*-108', '1.85', '*T*-222', 'March', 'carries', 'sensitivity', 'Tuesday', 'against', 'Metropolitan', 'symbolic', 'reprove', '11', 'excessive', 'violation', '190', 'curbed', 'besuboru', 'sluggish', 'several', 'Syndicate', 'Already', 'she', 'Life', 'Water', 'Rita', '77.70', 'Strong', 'clothes', 'midsized', 'inform', '6.40', 'weighing', 'Force', 'powder', 'Wayland', 'Marchese', 'having', 'waterworks', 'Ala.', '16', 'buy', '71,309', 'backing', 'reality', 'future', 'extra', 'tendering', 'Lynch', 'intentioned', 'grader', 'fare', 'believe', 'leases', 'abridging', 'Marchand', 'Scypher', '*T*-236', 'Americans', 'Norman', 'passers-by', 'Paso', 'gift', 'construed', 'U.S.-Japan', '1986', 'securities-based', 'composite', 'directors', 'providing', 'Organization', '2691.19', 'customers', 'wheel-loader', 'Rice', 'FT-SE', 'Payouts', '*T*-49', 'damages', '26.8', 'classroom', 'unspecified', '263.07', 'exceed', 'mimics', 'synthetic', 'sacrificing', 'tackle', '422.5', 'after-tax', 'Georgia-Pacific', 'virtually', 'gaining', '*-151', 'falls', 'industrialized', 'maintained', 'September', 'depository', 'deadwood', 'Deregulation', 'meant', 'interest', 'federal', 'borders', 'unveil', 'suitors', 'renew', 'downgrade', 'onto', 'Hawaiian', 'inventories', 'Wick', 'known', 'Ann', 'art', 'stark', 'conducted', '18.3', 'argues', 'Circulation', '*-43', 'discontinue', 'Oy', 'Advance', 'defeat', 'Thursday', 'round', 'vicious', 'fell', 'divided', 'impudent', 'suspended', 'laid', 'life-insurance', '-RRB-', 'written', 'photograph', 'vineyard', 'Payments', 'Chapter', 'Bar', 'modest', 'Psychiatry', 'diversifying', 'since', '38', 'summary', 'Haney', 'warn', 'G', 'Ednie', 'CALL', 'turf', 'accepted', 'plunge', 'Cosby', 'balloting', 'throws', 'Arnold', 'Compromises', 'convert', 'comments', 'state-appointed', 'regenerate', 'scrape', 'becomes', 'tend', 'Wheeland', 'lobbyists', '2005', 'planners', 'Rock', 'privately', 'jury', 'carry', 'researchers', 'plainclothes', '6.7', 'shaping', 'Numerous', 'cornerstones', 'conviction', 'educated', 'behemoth', 'buses', 'firms', '29', 'phobias', 'wedded', '737.5', 'non-callable', '77', 'raises', 'whole', 'bombs', '6.20', 'vinyl', 'circuit', 'pre-emptive', 'steal', 'leveraging', 'right', 'dark', 'Oklahoma', 'exists', 'winter', 'fetal', 'reading', 'limitation', 'L.P.', '14', 'AMR', 'Precious', 'rebuilding', 'Skokie', 'Bonnell', '570', 'Disputado', 'ventilated', 'exports', 'materialize', 'elsewhere', 'layer', 'measurement', 'Perritt', 'Purchasing', 'cross-border', 'shopping', 'cast', '177', 'crude', 'tools', 'allow', 'level', 'Motor', 'driving', 'Disputada', 'genuine', 'demands', \"O'Connor\", 'compensate', 'photographic', 'reviewing', 'street', 'artist', 'balkanized', 'widgets', 'Gilts', 'zero', 'lose', 'Brian', 'nominate', 'cohesive', 'advisory', 'met', 'fixed-income', 'blue', 'impressed', 'Apple', '*-77', 'WFRR', 'barges', 'AT&T', 'mathematical', 'division', 'Irwin', 'Church', 'settle', '3.20', 'Communications', 'two', 'profession', 'droughts', 'fashioned', '*T*-231', 'concentrating', 'promotions', 'prerogative', '*-32', 'Zayed', 'rumored', 'retort', 'correspondence', 'respected', 'manages', 'Uptick', 'sell-offs', 'hurdles', 'drawbacks', '...', 'tightened', '1.9', 'Brisk', 'cranked', 'Dollar-yen', 'spurred', 'OFFERED', 'fresh', 'rejected', 'senate', 'swelling', '8.50', 'see', 'minicrash', '92.9', 'Activity', 'processors', '*T*-65', 'spenders', 'her', 'trains', 'worsen', 'intend', 'relocate', 'Exchange', 'luck', '450', 'rates', 'veteran', 'John', 'unsuccessfully', 'bedding', 'referendum', 'quarterly', 'boost', 'Random', 'Peck', 'Sacramento', 'Eugene', 'and', '*-13', 'loyalty', 'collapse', 'Derchin', 'Brean', '28.4', 'Not', 'way', '9.45', '7.458', '*EXP*-2', 'experiencing', 'symptoms', 'wrestling', 'wage', 'somewhat', 'redeploy', 'booked', 'Jerritts', 'Offering', 'copper-rich', 'computing', 'fetching', 'long-time', '*-160', 'Aug.', 'copper', 'chicago', 'corporations', 'LONDON', 'rapists', '10th', '321,000', 'tight', 'word', '*T*-183', 'machine', 'LOAN', 'side-crash', 'actions', '62.5', 'present', 'General', 'recommendation', 'disclosure', 'sorts', 'India', '66.5', 'brilliantly', 'Argentine', 'surreptitiously', 'election', 'Optical', 'turning', 'circle', 'playgrounds', 'Laboratories', '11th', 'railcars', 'Henry', 'retard', 'favorable', 'chest', 'Professional', 'burden', 'mixed', 'Securities', 'elderly', 'again', 'campaigner', 'Critics', '7.52', 'Roland', 'Express', 'respite', 'Over', 'fetal-tissue', 'supports', 'weeks', 'Crane', 'attacks', 'behalf', 'outpaced', 'declining', 'eyeing', 'Giants', '5.29', 'represents', 'Riserva', 'foldable', 'numbered', 'Take', 'pre-1933', '1970s', 'Southern', 'every', 'sights', '*T*-53', 'third-quarter', 'grower', 'entertain', 'Agency', 'confined', 'advertisements', 'courts', '2,303,328', 'hearings', '11-month-old', 'Who', 'fraud', '*-119', 'April', 'makes', 'sabotage', 'climb', 'catch', 'Us', 'Hubbard', 'knowns', 'coupled', 'initiative', 'Impact', 'slashing', 'Generally', '1637', '89', 'weather', '666', 'Nine', 'concentrated', 'building', 'E.C.', '2.25', 'plaintiffs', '*?*', 'occurs', 'preferred', '1.76', 'substance', 'aim', 'McGovern', 'warming', 'jump', 'DES', 'Criminal', 'posted', '1,298', 'Fairlawn', 'phase', 'disappointment', 'ASLACTON', 'keeps', '*-34', 'launch', 'side', 'adding', 'Phi', 'ones', 'Issues', 'Scott', 'Crum', 'outlawing', '30-minute', '6.21', 'milked', 'herald', 'acquires', 'Nicole', 'Minera', 'teetering', 'big-ticket', 'electricity', 'firmed', 'Pretty', 'Kuhns', 'ADRs', 'beleaguered', 'Convention', 'Bears', 'divergence', 'black-and-white', 'supplemental', 'drag-down', '4.1', 'collecting', 'magnetic', 'setback', 'Rolling', 'provisions', 'Mrs', 'athletic', 'ringers', 'graduated', 'W.N.', 'directing', '2,000', 'Blunt', 'postponed', 'Volatility', 'branches', 'consisting', 'Just', '40', 'promptly', 'covered', 'reprint', 'sentence', 'pocket', 'enlarged', 'terrine', 'hot', 'Seahorse', 'financed', 'Cartons', 'supercomputers', 'citations', 'expectations', '*T*-166', 'could', 'downgraded', 'debentures', 'introduce', 'hoped', 'strip', 'spends', 'versus', 'watchdogs', 'rear', '1997', 'Corporations', 'tendered', '62', 'hailed', '*T*-158', 'shirt-sleeved', 'Publishers', 'broadcasting', 'Koizumi', '*T*-129', 'low-ability', 'published', 'radio-station', 'thought', 'arranged', 'Charlie', '9.32', 'laughing', 'eliminating', 'enabled', '1.61', '45-a-share', 'branch', 'temporarily', 'explain', 'departments', '110', 'turned', 'activity', 'limbo', 'platforms', 'Cataracts', 'Boulder', 'shallow', 'prescribe', 'writer', '1.65', 'negatives', 'nonrecurring', 'vision', 'Ill.', 'narrow', 'boy', 'Eric', 'recognition', 'U.S.-backed', 'Root', 'brakes', 'Doerflinger', 'garden-variety', 'Cheetham', 'confidential', 'relationship', 'complaining', 'commenting', 'Nagymaros', 'outnumbered', '*-71', 'secretary', 'manner', 'funding', '72', '1.55', 'Co.', 'yttrium-containing', 'Opportunity', 'economic', '2003\\\\/2007', 'assertions', 'pills', 'Cullowhee', 'granting', 'recommending', 'brat', 'geometrical', '576', 'Hanifen', 'Scripps', 'Mehrens', 'Chardonnays', 'Ports', 'disconnect', 'humble', 'aims', 'discontinued', 'platinum', 'comfortable', 'Salinas', 'Bhutto', 'after', 'B.A.T', 'Subcontractors', 'mailing', 'movements', '*T*-125', \"'50s\", 'clippings', 'women', 'altar', 'rose', 'agents', 'simultaneous', 'slaying', 'countries', 'forecast', 'Md.', 'interested', '7.95', 'Heritage', 'halt', 'vehicles', 'perceived', 'fire', 'particulars', 'informally', 'depressed', 'namely', 'Lonski', 'composed', 'unwanted', 'advise', 'decline', 'Mercury', 'spun', 'compete', 'slowing', 'reins', 'broke', 'creature', 'alienated', 'causes', 'blip', 'Inc.', 'resolution', 'ethical', 'Corp.', 'allocated', 'creditors', 'style', 'planner', 'disarray', 'interest-bearing', 'editing', 'recombinant', '1.2', 'law', 'events', 'spite', 'Alfred', 'commission', 'warrant', 'responsibility', 'stupid', 'Thunderbird', 'Magleby', 'lifes', 'systems', 'adapting', '1.92', 'turns', 'substitute', 'one-fifth', 'publish', 'Periods', 'Average', 'elite', 'been', 'undersecretary', 'Switzerland', 'incurred', 'medium-sized', 'hosted', 'cuts', '8300s', 'Feeding', 'Brunei', 'restructure', 'continuously', 'Claire', 'co-founded', 'Ranger', 'trim', 'occur', 'litigation', 'tunes', 'Nagano', 'Prater', 'asset', '*T*-178', 'taken', '250', '35500.64', 'fans', 'Peoria', 'Pasadena', 'evolve', '106', 'substance-abusing', 'Malcolm', 'Probably', 'water-authority', 'consumer', 'torrent', '*T*-86', 'Wedtech', 'over', 'Frenzy', 'smooth', 'family', 'typically', 'Clays', '20.5', 'retailer', 'clouding', '40-megabyte', 'directed', '30,537', 'undercut', 'Rapanelli', 'disruptive', 'recyclability', 'instruction', 'surgeon', 'contributions', 'process', 'Thousands', 'Cost-effective', 'Trump', 'lobbyist', 'midtown', 'Turnaround', 'reached', 'Spiro', 'enhanced', 'regime', 'Elders', 'adjustments', 'December', '20,000', 'audience', 'trimming', 'sanctions', 'Chile', 'institutions', 'actual', 'civil', 'banker', 'doors', 'drew', 'basis', 'sympathy', 'Baim', 'indicates', 'seven', 'kit', 'Canada', 'evolved', 'predicted', '*-117', 'Silicon', 'risk-free', 'telephone', 'concentration', '*T*-57', 'wheat', '78', '236.74', 'Karl', 'Bass', 'effectively', 'unveiled', 'single-handedly', 'minted', 'prejudice', 'faced', 'point', 'Among', 'Hotel', 'prevailing', 'plunged', 'prizes', 'conclude', '1.637', 'Dolan', '*-50', 'H.', '*T*-217', 'astonishment', 'More', 'does', 'Hutchinson', 'study', 'replacing', 'Communication', 'engaged', 'bolster', '361.8', 'suspend', '1987-88', 'Soon', 'opponents', 'Regulatory', 'discussion', 'rhetoric', 'recipient', 'apparent', 'mistakes', 'transition', 'repaid', 'stimulating', 'YMCA', 'winners', 'Such', 'Note', 'performed', 'minority-owned', 'zinc', 'reruns', 'declined', '24.95', 'bull', 'comfortably', 'follow', 'WAR', 'Dollar', '*T*-16', '228', '3057', 'Thai', 'absolutely', 'Stoll', 'Venture', 'lunch', 'six-inch', 'overriding', 'professors', 'Contra', 'strongly', 'seconds', '1.5', 'Dumpster', 'similarity', 'slash', '326', 'advocated', 'GHKM', '0.9', 'fit', 'backed', '33', 'strictly', 'accountability', 'exchanges', 'scholar', 'ventures', 'fed', 'manipulate', 'DeFazio', 'complaints', 'ingenuity', 'relieved', 'earlier', '8.45', 'compare', 'bell-ringer', 'referral', '0.60', 'Beverly', 'exhibits', 'Persky', '1973-75', 'brokers', 'lucky', 'AGREES', '*-118', 'battery-operated', 'Klein', 'inverted', 'requested', 'Right', '14.43', 'consequences', 'enact', 'anyone', 'Treasury', 'officials', '16,000', 'Legislating', 'agreements', 'arrangements', 'feasible', 'mid-October', 'cluttered', 'gasoline', 'approaches', 'agreement', 'registered', '*-18', 'residence', 'tissue', 'exploded', '2.87', 'Education', 'helps', 'categories', 'vintage', 'workbooks', 'wine', 'focused', 'securities', 'music', 'DiLoreto', 'mechanism', 'contributed', 'dinosaurs', 'credibility', 'type', 'school-district', 'Klauser', 'leasing', 'joys', 'profitability', 'Kansas', 'parties', 'season', 'Trace', 'Bodner', 'plummeted', 'blurred', 'rash', 'bombers', 'fond', 'fifth-largest', 'academic', 'unwilling', 'move', 'health', '1.56', 'government', 'principals', 'myriad', '2.3', 'England', 'Iowa', 'thousand', 'New', 'reflected', 'charged', 'Driskill', 'Spending', 'mathematics', 'index-related', 'served', '25-year-old', '*-39', 'alcoholism', 'non-encapsulating', 'Floyd', 'stones', 'Design', 'immediately', 'nice', 'nurtured', 'councils', 'analysis', 'everything', 'expansion', 'anti-programmers', 'Russel', 'smothering', 'Service', 'necessarily', '396,000', 'fuller', 'radically', 'obtaining', 'passages', 'new', 'Carter', 'ordered', 'Taiwan', 'rebounding', 'ethanol', 'proportion', 'passing', 'asserts', '380', 'happen', 'tally', 'noticing', 'keeping', 'soldiers', 'TRIMMING', 'solvent', 'planning', 'sweaters', '37.5', 'growers', '235', 'Ms.', 'News-American', 'magazine', 'Sanford', 'Lentjes', 'Profit', 'garage', 'retaining', 'spilling', 'similar', 'smattering', 'airports', 'minority', 'gold', 'borrowed', 'went', 'contests', 'rally', 'rather', 'syndrome', '630.9', 'transforming', 'greedy', 'Explorer', 'incident', 'requires', 'Asians', 'printing-press', 'collapsed', 'earliest', 'Uncertainty', 'special', 'amendment', 'cute', 'N.V', 'President', '75', 'hegemony', 'Coleco', 'Bradley', 'sympathetic', 'Pro-forma', 'rifles', 'uptick', 'Spoon', 'Icahn', 'intrusions', 'procedural', '139', 'practical', 'monster', 'industry', 'bell', 'extending', 'inner', 'Africa', 'walk', 'Hermitage', 'half-hour', 'hid', 'zip', 'details', 'B.', 'bounce', 'France', 'congressional', 'forcing', 'holidays', 'peddling', 'carefree', '*-150', '*T*-193', 'primary', 'Anti-Deficiency', '35.7', 'Her', 'oil', 'links', 'flatulent', '7.63', 'impression', '*T*-173', '19-month-old', 'cattle', 'replace', 'employee', 'four-day', 'meeting', 'Meridian', 'mere', 'determined', 'financial-services', 'BIRDS', 'perpetual', 'castle', 'subscriber', '*T*-225', 'CDs', 'meals', 'Gillespie', 'phony', 'conducting', 'About', 'viewers', 'Mogavero', 'greatly', 'regulated', 'embarrassing', '2.5', '*T*-235', 'Reddington', 'leaves', 'entice', '2.07', 'Mich.', 'one-week', 'choose', 'Townes', 'completing', 'borrowings', '388', '80.8', 'shown', 'repair', 'considerably', 'Midwesco', 'earnings', 'released', 'anti-China', 'IT', 'boomers', 'afraid', 'Proper', 'casting', 'Thailand', 'Citing', 'Mercantile', 'bilingual', 'welfare', 'leery', 'Johnson-era', 'subjecting', 'voted', 'Neil', 'target', 'flourish', 'English-speaking', 'Ltd', 'meaningful', 'punish', 'soul', 'part', 'disruption', 'Showa', 'ambassadors', 'manpower', 'riders', 'supplies', 'rationed', 'drinking', 'tall', 'green', 'includes', 'paying', 'nonfat', 'READY', 'corners', 'apologize', 'Medicine', 'chaotic', '240,000', 'beneficial', 'compensation', 'neat', 'Having', 'no-confidence', 'off-year', 'Chatsworth', 'longer-term', 'Novell', 'mania', 'proposal', 'Ganes', 'production', 'Perestroika', 'grandstander', 'notched', 'bulk', 'minimal', 'Berger', 'Intel', 'Pakistan', 'Triton', 'openings', 'Los', 'Hale', '83.4', 'signed', 'marching', 'farmers', 'current-carrying', 'mount', 'investors', 'experts', 'smallest', 'movies', 'contributing', 'economical', 'writers', 'blocked', '750,000', 'Colony', 'although', 'proposition', 'bridge', 'twist', 'barriers', 'afford', 'Amendment', 'low', 'Odyssey', 'ratified', 'Brazil', 'associates', 'priced', 'prior-year', 'boosting', 'centennial', 'gone', 'priciest', 'year-long', 'ACCEPTANCES', 'Osaka', 'tapping', 'draws', 'the', 'dozens', 'seemed', '*-45', 'opportunities', 'yen-denominated', 'near-limit', 'letting', 'Petersburg', 'Savings', 'unmarked', 'ruled', 'Gottlieb', 'pregnant', 'aware', 'concessions', '2017', 'nervousness', 'Results', 'Andersson', 'Esso', 'requesting', 'explains', 'Giant', 'places', 'Ariz.', '*-164', 'unfilled', 'customized', 'adds', 'G.', 'roughhewn', 'microcomputers', 'ports', 'bring', 'pickups', 'procurement', 'insinuating', '45,000', 'Hayes', 'cheapest', 'Ward', 'Appropriations', '*T*-108', 'egregious', 'companies', 'office', \"'80s\", 'turnover', 'For', 'attempted', 'assistance', 'claimed', 'Faulding', 'creator', 'modern-day', 'cells', 'merchant', 'annually', 'Intecknings', 'Wash.', 'arrangement', 'Rusty', 'computers', 'Tache', 'Linden', '241', 'inferences', 'Power', 'Loews', 'GRAINS', 'begun', 'Wolf', 'came', 'took', 'Asia', 'suit', 'Than', 'obvious', 'exposure', 'affiliate', 'penchant', 'Mutchin', 'occurrences', 'syndication', 'Indianapolis', 'Competes', 'halve', 'asset-valuation', 'Hummerstone', 'poorly', 'Nationwide', 'Hurricane', 'T.', '8.53', 'episodes', 'Lorenzo', 'Madison', 'self-perpetuating', 'Utilities', 'Plan', 'coordinate', 'cultivation', '7.45', 'labeled', 'diversification', 'share', 'Earns', 'Stadium', 'popularly', 'kids', 'upheld', 'disk', 'slogan', 'system', 'institute', 'interesting', 'ramparts', 'polish', 'Coconut', 'Dover', 'recycled', 'cast-iron', 'metric', 'newsstand', 'difference', 'easier', 'weaken', 'Carnival', 'amount', 'subindustry', '133.8', '2019', 'thinking', '361,376', 'Shapiro', 'Yeargin', 'retraced', 'cease-fire', 'sparing', 'monthly', 'let', '415', '*T*-192', 'classical', 'implements', 'student', 'Taccetta', 'Irvine', 'environmental', 'meetings', 'Swearingen', 'industrywide', 'sound', 'Home', 'plays', 'fattened', 'cites', 'one-year', 'Occidental', '25,000', 'Fidelity', 'Lebanon', 'overtime', 'character', 'revising', '38.3', 'Grace', 'inkling', 'profits', 'Sayers', 'Atlantic', 'impatient', 'custom', 'INTERPUBLIC', '3.35', 'portfolios', '1', '500', 'members', 'insert', \"C'mon\", 'Bridges', 'devouring', 'downgrading', 'appointments', 'intended', 'Restaurant', 'Wu', 'Rumors', 'decided', 'offices', 'LSI', 'Tandy', 'woman', 'owning', 'regulating', 'authorizes', 'Pont', 'fee', '1,460', 'counseling', 'Citibank', '23,403', 'ballot', 'Wadsworth', 'worked', 'stock-price', 'limiting', 'concerns', 'salarymen', 'Train', 'announce', 'baseball', 'C-130', 'JUDICIAL', '12-point', 'reckless', 'Premier', 'pharaohs', 'Drew', 'fragmentation', '*T*-90', 'stronger', 'significance', 'cancer-causing', 'NIH-appointed', 'tool', 'contract', 'equipped', '1.25', 'consists', 'aesthetic', '*-14', 'gallon', 'officer', 'Tray', 'mark', 'society', 'maturity', 'outlays', 'politely', 'entirely', 'imported', 'Secretary', 'buying', 'Composite', 'prisoners', 'Hopkins', 'strapped', 'youngsters', 'well-known', 'Toronto', 'conferees', 'legal', 'wisdom', 'cardboard', 'exclusive', 'revised', '313', 'Tramp', 'Register', 'passenger', '42', 'Unico', 'inoperative', 'Shortly', 'guild', '271-147', 'superimposed', 'months', 'seven-yen', 'Wallach', 'warned', 'Writers', 'rumors', 'Lovett', 'Hospital', 'upscale', 'pianist-comedian', 'software', 'Defense', 'minimum', 'predictable', 'UAL', 'trying', 'unrestricted', 'depend', 'needle-like', 'preferences', 'Novello', 'Getting', 'subjects', 'price-depressing', 'Down', 'trailed', 'arrive', 'evil', 'discounts', '*T*-2', '*T*-66', 'tire', 'Tube', 'precious', 'industrials', '1738.1', 'cumbersome', 'Typical', 'convertible', 'overcapacity', 'skepticism', 'Lurie', 'rung', 'fair', 'small-time', 'amicable', 'logo', 'WTD', 'lieutenant', 'IRAs', 'plan', 'morbidity', 'aides', 'test-drive', 'direction', 'privileged', 'worst', 'Hollingsworth', 'Glauber', 'autumn', 'chaired', 'functioning', 'adverse', 'war', 'uncertainty', 'billed', 'Mariotta', 'wholesaler', 'Blackstone', 'cure', '*-42', 'outcry', '*T*-97', 'CHANGED', '*T*-176', 'announcement', 'goodies', 'nothing', 'format', '30', 'barrel', 'unstinting', 'indicators', 'Change-ringing', 'Eagleton', 'filled', 'fines', 'stream', 'Delwin', 'operations', 'trade', '278.7', 'insidious', 'undergoing', 'harmony', 'downtown', 'empowers', 'replaced', 'relatively', 'underwriters', 'sides', 'Ketchum', 'slate', 'Russell', 'giant', 'interests', 'completion', 'Berson', 'Ellis', 'retirement', 'condemning', 'wake', 'third-largest', 'Lord', 'pair', 'aspect', 'reservations', 'qualify', 'prospect', 'District', 'interpretation', 'proteins', 'recommend', 'appease', '49', 'Baton', 'distributes', 'worried', 'United', 'follows', 'chase', 'iota', 'packed', 'Zenith', 'nondurable', 'Filling', 'Rail', 'stand', 'skip', 'Mo.', 'must', 'Shores', 'Cellar', 'Yoshihashi', 'imposed', 'newer', 'denies', 'cleanliness', '62.625', '52', 'clannish', '%', 'participation', '115', 'drugs', '*RNR*-2', 'Rexinger', '93', 'contain', 'Candela', 'Ramirez', 'rigors', 'box', 'followed', 'manufacturers', 'Gray', 'seriously', 'Society', 'Orrick', 'who', 'troops', 'pep', 'severance', 'traded', 'seafood', 'upper', 'choosing', 'reaffirmed', 'past', 'Shearson', 'wealthy', 'short-lived', 'pension', 'triple-A', 'speculated', 'Einhorn', 'high-level', 'agency', '7.15', 'Laser', 'thumbing', 'because', 'obligations', 'charging', 'amendments', 'plate', 'Cabernets', 'Peter', 'authorities', 'philosophy', 'intention', 'uses', 'nomination', 'featured', 'scientist', '13.625', 'parlors', 'evoke', 'log', 'Primerica', 'balanced', '83', 'Douglas', 'courage', 'optimism', 'Travelers', 'rumor', 'pre-approved', 'kits', 'Services', 'particular', 'Any', 'values', 'believed', 'difficulty', 'remarkable', 'Lorain', 'boarding', 'unofficial', 'McCormick', '*-157', 'vice', 'reserves', 'furious', '*T*-238', 'increasingly', '43', 'weekends', 'cap', '387.8', '1.49', 'evaluating', 'virtue', 'reserve', 'use', 'families', 'trucks', 'Harcourt', 'penny', 'Monetary', 'samples', 'Champion', 'forum', 'urge', 'campus', 'Wayne', 'Piscataway', 'Prebon', 'justice', 'Dole', '*-63', 'Leon', 'IRS', '12-year', 'merchants', 'sight', 'Sino-U.S.', 'consensus', 'attend', 'glass', 'mix', 'unwary', 'equity-purchase', 'Judith', 'Hiroshima', 'oldest', 'Taittinger', 'Unemployment', 'sale', '49.9', 'payable', 'implement', '@', 'remodeling', 'transformed', 'Story', 'van', '36-minute', '*T*-141', 'available', 'hour', 'Orchestra', 'funds', 'elections', 'tailor-made', 'labor-backed', 'income', 'appropriate', 'established', 'metal', 'Because', 'types', '8.22', 'mainland', 'facilitate', 'capped', 'Index-arbitrage', 'second', 'Ethel', 'Miles', 'remove', '0.0085', 'need', 'desperately', 'pressures', 'vast', 'Longer', 'designation', 'fiber', 'prohibiting', 'sprightly', 'immense', 'retired', 'Reames', 'lieu', 'negotiating', 'Nancy', 'Zealand', 'start-up', 'unanimous', 'Vichy', 'famous', 'period', 'Joanne', 'Nationale', 'June', 'loom', 'why', 'picture', 'walkout', '1,620', '*T*-58', 'current', 'firings', 'Brownstein', 'AG', 'history', 'price-support', 'scoffs', '722', '14.99', '*T*-6', '*T*-245', 'honorably', 'band-wagon', 'savings', 'heads', 'official', '2,050-passenger', 'M.D.', 'Consider', 'content', '1,500', 'Gorbachev', 'January', 'serve', 'tests', 'hunker', 'Bromwich', 'decade', 'Bramalea', 'Comprehensive', 'mudslinging', 'Guber', 'arbitragers', 'cotton', 'advice', 'equivalent', 'marbles', 'acceptances', 'Ricken', 'eliminates', 'evaluation', 'therapy', 'competitors', '59.9', 'packages', 'reclaim', 'principal', 'adjusted', 'scandals', 'stairs', 'cue', 'a', 'scrutinizing', 'stigma', 'Integra-A', 'AIDS', 'elected', 'Ky.', 'prosecute', 'Moody', 'copycats', '420', 'Millis', 'employed', 'rules', 'Guild', 'lottery', 'Pretoria', 'anti-morning-sickness', 'students', 'Cray', 'de', 'third', 'stemming', 'folio', 'wins', 'bonus', 'gored', 'populated', 'captivating', 'benchmark', 'dilemma', 'discourage', 'Mass.', 'deem', '-LRB-', 'bushels', '*T*-34', 'hierarchical', 'miscarriages', 'outright', 'benign', 'Nearby', '10-year', 'applications', 'attributes', '200,000', 'consultants', '*-85', 'industry-supported', 'Hiroshi', 'guy', 'aired', 'crews', 'trial', 'compilation', '10,000', 'participants', 'Continuing', 'softer', 'determine', 'while', 'Mo.-based', 'outlay', 'facade', 'children', 'negative', 'electronics', 'excessively', 'contradictions', '*T*-169', 'stemmed', 'protecting', 'demonstrations', 'traditionally', '*-90', 'real', '8.15', 'trained', 'neighboring', 'reap', 'reductions', 'distributor', 'III', 'Clive', 'battery', 'Dick', 'goverment', 'producing', 'appeal', 'landfill', 'North', 'responsibilities', 'though', 'calculate', 'arrived', 'imply', 'pipe', 'Cathedral', 'blue-chip', 'treat', 'acquisition', 'Marie-Louise', 'eternal', 'piracy', 'self-regulatory', 'mines', 'Stung', '405', 'minus', 'Dahl', 'ministers', 'empty', 'Takes', 'Leap', 'justify', 'stands', 'long-term', 'change-ringing', 'West', 'Asian', 'underwent', 'can', 'Photograph', 'commitments', 'larger', 'historic', 'passions', 'Friedrichs', 'Hampton', 'forgiven', 'expand', 'Nov.', 'approached', 'Intelogic', '*-102', 'wheels', 'hook', 'ranks', 'Napolitan', 'pick', 'Greer', 'Stag', 'serving', 'prevalance', 'Dom', 'therefore', 'morale-damaging', 'minimum-wage', 'unconstitutional', 'Maine', 'St.', 'unload', '*T*-251', 'Typically', 'Raul', 'split', 'heirs', '1,570', 'editorially', 'democracy', '56', 'shambles', 'like', 'tumbled', 'hugging', '135', 'build', 'apparel', '22\\\\/32', 'Holdings', 'summons', 'parts-engineering', 'hostile', 'Spiegel', 'Ferdinand', 'rhythm', 'handled', 'betrayer', 'Speedway', 'proponent', 'Basic', 'Baking', 'Christian', 'accompany', 'produced', 'shipping', 'durable-goods', 'new-home', 'market-oriented', 'competing', 'Russian', 'standard', 'delivery', 'jail', 'prerogatives', 'My', 'criminal', 'DOONESBURY', 'gut-wrenching', 'historically', 'aiming', 'until', 'ban', 'Hugo', 'doctor', 'belong', 'capitalism', 'Foot', 'citizens', 'kilobytes', 'Analysts', '40-year-old', 'Roosevelt', 'strategies', 'Cellars', 'enacted', 'disasters', 'phasing', 'restriction', 'front', 'Risks', 'specific', 'cancellation', 'international', 'imperative', 'base', '992,000', 'premiums', 'wasted', 'listed', 'curtail', 'stock', 'Germany', 'concede', 'freedom', 'decorated', '21.9', 'Piper', 'FEDERAL', 'cascading', 'toilet', 'Nelson', 'Am', 'logjam', '8.56', 'probably', 'likely', 'Sotheby', 'Chamber', 'drawn', 'Signore', '*T*-120', 'hearing', 'discrepancies', 'comparable', '*T*-244', 'shift', 'corruption', 'texture', 'interjects', 'Scientists', 'Viacom', 'old-fashioned', 'reassuring', 'motor', 'mind-boggling', 'receivers', 'bankruptcy', 'involves', '*T*-202', 'rising', 'BANKERS', 'other', 'raspberry', 'select', 'centimeter', 'Cluff', '20s', 'adequate', 'cleaner-burning', 'Conduct', 'automated', 'rapport', 'stadium', 'image', 'bidders', 'Paribas', 'Dolphins', '*T*-110', 'pact', 'Dana-Farber', 'advantages', 'Boorse', 'plagued', 'Bank', 'majority', 'Village', 'bells', 'endless', 'Queen', '11.95', 'skirmishes', 'leaky', 'Warren', 'Barbaresco', 'Bowery', 'Orleans-based', 'detail', 'Wilder', 'brokerage', 'Scandinavian', 'concern', 'negotiated', 'soybeans', 'cost-control', 'drums', 'Steel', 'Something', 'tender', 'Wohlstetter', 'police', '11.57', 'durable', 'tissues', 'worsening', '*T*-260', '*-147', 'subordinated', 'fairly', 'cool', 'five', 'Lyn', '*T*-28', 'foam', 'purchases', 'pulled', '*T*-21', 'world', 'aircraft', 'Stock-index', 'retail', 'registration', 'single-A', 'codified', 'polyester', 'market', 'COLLECTING', 'scrutiny', 'redistribute', '900', 'Superdome', 'Congress', 'sensitive', 'automotive', 'Kendrick', 'sky', 'filling', 'thin', 'venerable', '1992-1999', '41.60', 'resume', '3\\\\/4', 'emergency', 'sociology', 'Bon', '11,000', 'Protection', 'pattern', 'Data', 'FBI', 'Productions', 'open', 'schoolboys', '618.1', 'addiction', 'appointed', 'liabilities', 'Pratt', 'observance', 'citizen-sparked', 'tigers', 'apart', 'rarefied', 'quips', 'inaccurately', 'contribute', 'eyes', 'Light', 'finite', 'Renee', 'humans', '118.6', 'witches', 'dummies', 'discussions', 'Hours', 'Continued', 'manipulators', 'high-stakes', '179', 'newcomer', 'rebel', 'WHAS', 'Stories', 'NBC-owned', 'private', 'inflationary', 'wrenching', '*T*-38', 'depends', 'imagine', 'shall', 'tobacco', 'delays', 'recouped', 'Nomura', 'undesirable', 'partisan', 'Buy', 'skidded', 'hire', 'partner', 'Smaby', 'ritual', '500,000', 'Calif', '17.3', '1987', 'Hill', 'standards', 'Irving', '*-23', 'exhibited', 'recruited', 'salaries', 'German', 'college-bowl', 'Nissho-Iwai', 'Olsen', 'feet', 'cash-rich', 'hair', 'flim-flammery', 'Lambert', 'caller', 'asbestos-related', '*T*-41', 'announced', 'fatalities', 'huge', 'Kerensky', 'Jobs', 'WayMar', 'Zuckerman', '331,000', 'moves', 'races', 'dealing', '*-149', 'derivative', 'Food', 'refile', 'importer', 'plane', 'obedient', 'sidelines', 'longtime', 'Fewer', 'overhead', 'provoked', 'church', 'Grand', 'deposits', 'Ortega', 'Westborough', 'recover', 'interventions', 'transaction', '400', 'drawing', 'Brown', 'lack', 'spotted', 'OF', 'prefecture', 'enraged', 'rope-sight', 'appeared', '*-75', 'unusually', 'passbook', 'great', 'Salty', 'more', 'Ilminster', 'withdraw', 'soaring', 'how-to', 'agreed', 'Ordnance', 'disagree', 'Norwest', 'nationalist', 'preventing', 'tracking', 'Mellon', 'compliance', 'Of', 'SEC', '80.50', 'buckle', 'Guarantee', 'starters', '*T*-248', 'eclipse', 'BRIEFS', 'resign', '57.7', 'Overseas', 'Dutch', '54', 'propagandizes', 'path', 'Packages', 'Fountain', 'acquiring', 'microprocessor', 'heavily', 'superconductor', 'Integra', '*-54', 'MEDICINE', 'Reasons', 'materials', '0.84', 'Prosecutors', 'Dorothy', 'Funny', 'represented', '*-52', 'guarantees', '*-156', 'Test-preparation', 'embassy', 'keep', 'Guard', 'acre', 'happier', 'sum', 'ensure', 'Barron', 'retardation', 'Ford', 'get', 'pick-up', 'applicable', '1983-85', 'California', 'lender', 'And', 'showed', 'relied', 'conversations', 'rolling', 'richer', 'employment', 'enter', 'O.', 'fined', 'entrench', 'damaged', 'colder', 'hurt', 'lighter', 'turn', 'breathe', 'causing', 'pediatrician', '7.4', 'respectable', 'Bennett', '90-day', 'disseminating', 'declaring', 'Similar', 'quarter', 'Petrus', 'anticipating', '1.4', 'prescient', 'Institute', 'Chiodo', 'Orville', 'liners', 'Guffey', 'Pitcher', 'diseases', 'Kuala', '130.7', 'wild', 'together', 'Hans', 'guards', 'procedure', '*T*-1', 'cabs', 'Banks', 'Albany', 'Champagne', 'response', 'If', 'Communist', 'resources', '2141.7', 'acid-rain', 'assert', 'hired', 'Lights', 'Upjohn', 'Frances', '15.5', 'High-grade', 'cousins', 'farm', 'clobbered', 'Lewis', 'wrong', 'recruit', '*T*-11', 'ON', 'Piero', 'decide', 'Isabelle', 'rushed', '*-162', 'tenfold', 'vicars', 'malnutrition', 'confirms', 'Solihull', 'Blanchard', 'Without', 'seminar', 'cluster', '1965', '3.55', 'consulting', 'Morgan', '51.6', 'sleep', 'savers\\\\/investors', 'regulators', 'U.S.A', 'sections', 'labor-management', 'Dynamics', 'steelmakers', 'autos', 'Jenkins', 'Krenz', 'Charities', '212', 'exorbitant', 'appropriators', 'sufficiently', '34', 'Similarly', 'Bricklayers', 'researcher', 'extension', '*-36', '42.1', 'Every', 'fainting', 'assassinated', 'dirty', 'disease', 'Economic', 'understatement', 'These', '8.9', 'languages', 'counterweight', 'Antinori', 'nine-month', 'security', 'Gayle', 'NIH', 'engineers', 'Lowe', 'boosted', 'south', '3436.58', 'Acceptance', 'marginally', 'teaching', 'arms', 'such', 'outbid', 'noodles', 'wafers', '221.4', 'Takuma', 'lives', 'Walt', 'nowhere', 'mortgage-based', '*-28', 'billings', 'Paul', 'bicameral', 'tea', 'Berlin', 'exempt', 'merits', 'cash-and-stock', 'subtraction', 'association', 'arm', 'Itoh', 'rectified', 'propaganda', 'mid-1990s', 'accountant', 'Raleigh', 'toward', 'recess', 'heading', 'stringently', 'hangs', 'characteristics', 'cocoa', 'yourself', 'bought', 'unfettered', 'lifting', '9', 'spoke', 'tie-breaking', 'clean-up', '*T*-227', '*-105', '5.4', 'applicability', 'As', 'FIRST', 'Terrence', 'Preliminary', '27', 'Pencil', 'Takeshi', '1934', 'Authority', '59-year-old', '8.12', 'advanced', 'everywhere', 'murder', 'earned', '1\\\\/4', 'Output', 'laboriously', 'original', 'Beta', '0.99', 'units', 'acquire', 'Seed', '3.04', 'blue-collar', 'Exxon', 'finance', 'crookery', 'armed', 'WPP', 'ads', '&', 'rule', 'insurgents', 'Policy', 'amounted', 'An', 'open-top', 'reporter', 'permissible', 'Filter', 'Namibia', 'prevent', 'Lawmakers', 'Paramount', 'declare', 'LANDOR', 'government-funded', 'prefer', 'Satrum', 'Young', 'gambler', 'marketer', 'shipyards', 'rulers', 'Five', '45', 'objectives', 'Mercedes', 'Winning', '64-year-old', 'shareholder-rights', 'ordinary', 'Teacher', 'top-yielding', 'Napa', 'eligible', 'read', 'showing', '*T*-75', 'loaded', 'Stevenson', 'deluxe', 'decrease', 'ACCOUNT', 'Mesnil', 'speculating', 'Dai-Ichi', 'Martin', 'Nekoosa', 'violate', 'American', 'prominent', 'akin', '116.3', 'foul', 'baskets', 'aftermath', 'Beginning', 'chassis', 'He', '37.3', 'awful', 'You', 'espouse', '*EXP*-3', 'Pictures', 'champions', 'overproduction', 'alternatives', 'quota', 'American-style', 'services', 'Coors', 'renewal', 'call', 'notably', 'stock-selection', 'Buying', 'desultory', 'admitted', 'We', 'reform', '5.6', 'debacle', '12.52', 'hospital', 'everybody', 'propagandize', 'dominant', '734.9', 'Sierra', '143.93', 'M.', 'diagram', 'odd-year', 'finished', 'professor', 'fluent', '*T*-155', 'Laura', 'discontinuing', 'merchandise', 'free-enterprise', 'sparkplugs', 'Mazda', 'critical', 'applied', 'Grandsire', 'challenge', 'predicated', 'Beatles', '3-4', '120,000', 'barge', '142.84', 'tied', 'ranged', '7', 'steel', '251.2', 'couples', 'disputes', 'distinguished', 'responses', 'winner', 'placement', 'authorizing', 'Sept.30', 'Heiwado', 'James', 'this', 'requests', 'wo', 'hang', 'needy', 'Christopher', 'Interviews', 'midrange', 'Georgetown', 'customer', 'named', 'Lawless', '*-110', '2.4', 'images', 'Newsweek', 'roofs', 'executing', 'therapies', 'childish', 'incentive-backed', 'jolts', 'incentive-bonus', 'factory', 'Warrenton', 'vaccines', '566.54', 'Burgundy', 'Dennis', 'backers', 'crusade', 'lawyer', 'batting', 'distinct', 'Posted', 'le', '47', 'expects', 'motives', 'Manufacturing', 'space', 'terms', 'Fulbright', 'inches', 'consumption', 'rough', 'Alliance', '226,570,380', 'shaded', 'She', 'Homeless', 'Current', 'Drug', 'added', 'extent', 'pack', 'times', 'eye', 'Tatsunori', 'avoid', 'eight-count', 'markdowns', 'Buckhead', 'Moon', 'Hart-Scott-Rodino', 'flirted', 'equipment', 'power', 'psychiatric', 'Bolivia', 'accumulated', 'separate', '4,645', 'write-downs', 'Brothers', 'necessary', 'downfall', 'attracts', 'cheat', 'Neal', '*T*-92', 'north', 'Remember', 'Jenrette', 'breaking', 'Abbot', 'Arlington', 'restaurants', 'slowly', 'language', 'administrations', 'Constitution', 'modestly', 'fastest-growing', 'Rust', 'hopes', 'hard-hitting', 'niches', '1.39', 'Bill', 'comprehensive', 'judgments', 'disgorge', 'barrels', 'orange', 'Northampton', 'foundation', 'sheepskin', 'deteriorated', 'Midland', 'individual', 'complicated', 'likeness', 'suspensions', 'penetrate', 'Given', 'infusion', 'lessen', 'union', 'proscribes', 'Ballantine\\\\/Del', 'characters', 'kidney', '1925', 'self', 'dollar-denominated', 'len', 'without', 'Circulations', 'factoring', 'Ackerman', 'tinker', '*T*-118', 'authority', 'inflation', 'Soho', 'Soup', '*T*-180', 'Wickliffe', \"Dunkin'\", 'Babcock', 'Commission', 'interference', '28.53', 'cruise', 'subminimum', 'failed', 'Borough', 'tension', 'unsecured', 'education', 'guerrillas', 'sentencing', 'encourages', 'merger', 'Hold', 'deteriorating', 'likelihood', '340,000', 'specialist', '*T*-109', 'Manufacturers', 'sponsor', 'promises', 'interactions', 'surplus', 'Christie', 'retiring', 'Prof.', 'Cup-Tote', '*T*-126', 'round-trip', 'Perignon', 'eight-month', 'Cara', 'French', 'bushel', 'restructured', 'fails', 'adult', 'Aquino', '*-134', 'head', 'supposedly', 'Ratner', 'Everything', 'October', 'my', 'replacement-car', 'situation', 'scrapped', 'feature', 'calling', 'amid', 'banning', 'Chafic', 'Standard', 'pill', 'steep', 'Darrell', 'bold', 'strong-willed', 'movement', 'Tokyu', 'Capitol', 'Rev.', 'doctrine', 'emigrate', 'improved', 'removing', 'lent', 'yellow', 'state-supervised', 'saw', '1990', 'program', 'earns', 'actor', '20-point', 'poor', '2.46', 'friend', 'reeling', 'manually', 'access', 'specializes', 'strings', 'themselves', 'Sachs', 'sitting', 'Bowes', 'Trockenbeerenauslesen', 'F.H.', 'better', 'Fernando', 'chatter', 'mechanically', 'stifle', 'co-chairman', 'Along', 'hitter', 'Previously', 'uncomfortable', 'possibility', '1787', 'permitting', '850', 'knowledge', 'application', 'harvested', 'focusing', '55-a-share', 'one-hour', 'full-fledged', 'scattered', 'live', 'headlined', '370', 'fragile', 'justified', '*-74', 'solid', 'Hot', 'ROGERS', 'Johnson', 'evidence', 'auctions', 'excited', 'advocates', 'buyer', 'CBS', 'College', 'guided', 'Iran\\\\/Contra', 'science', 'TRIAL', 'down', 'reports', 'Darkhorse', 'behind', 'fiscal', '128', 'roughly', 'diverse', 'Fulton', 'Nonetheless', 'rated', 'one-day', 'breakers', 'fluctuations', '21', 'Louisville', 'Voters', 'Human', 'successor', 'food', 'visitors', 'practitioners', 'leadership', 'possess', 'Amin', 'Lindner', '4.10', 'bricks', 'standardized', 'would', 'between', 'range', 'delivering', 'tidily', 'popular', 'Randolph', 'comment', 'class', 'indicating', 'trivial', 'inherent', 'Calif.', 'lines', 'machine-gun-toting', 'objective', 'Consequence', 'regard', 'market-makers', 'district', 'Hungary', '4.3', 'Strategic', 'voice', 'shed', 'anywhere', 'Mayland', 'afternoon', '1977', 'Gregory', 'everyday', 'worse', 'exceptional', 'Princeton', 'gyrations', 'Hearst', 'Thus', 'grade', 'Yang', 'EURODOLLARS', 'add', 'Johnny', '*U*', 'Utsumi', 'coated', \"'re\", 'speeches', 'cardiovascular', 'Outside', 'Ill', 'Trade', 'LaSalle', 'weird', 'proviso', 'simply', 'liquidity', 'land-idling', '*-141', 'entitled', 'liquid', 'curriculum', 'scuttle', 'Hopwood', 'dollars', 'businesses', 'psychiatrist', 'removed', 'Mossman', 'drearier', 'constantly', 'fold', 'Cigna', 'Review', '692', 'Gorman', 'confused', 'town', 'day', 'Carrier', 'form', 'mergers', 'applaud', 'NASD', 'Hostess', 'severe', 'cost-cutting', 'commitment', 'Chateau', 'lying', 'Regal', 'crystal-lattice', '1.8', 'ca', 'unethical', 'printed', 'commerce', 'kinds', 'varying', '*-4', '*T*-44', 'bases', 'acts', 'caretaker', 'Underwoods', '28.25', 'Account', 'Canepa', 'Cote', 'Boston', 'instead', 'Community', 'gotten', 'Hazell', '103', 'shot', 'partnership', '*T*-164', 'While', 'goes', 'February', 'slowed', 'nearly-30', 'PLC', 'blind', '*PPA*-1', 'System', 'Elsevier', 'home-market', 'Telerate', 'containing', 'Purina', 'expressly', 'Handelsbanken', 'try', 'fixed-price', 'lower-priced', 'funded', 'Washington', 'mechanisms', 'full-time', 'moderately', 'Del', 'Westminster', '*-11', '250,000', '1.24', '16.5', 'transferring', 'four-year-old', 'averaged', 'flexibility', 'motive', 'London', 'Wright', 'basket', '*T*-64', 'Braun', 'intellectual-property', 'Mahoney', 'depending', 'pro-Iranian', 'moratorium', '3.28', 'facilities', 'potential', 'Walker', 'malignant', '*T*-190', 'committee', 'stability', 'clock', 'maturing', 'Instead', 'Genetics', 'volatile', 'door', 'conversion', 'Factories', 'Arabian', 'both', 'Seattle', '15,000', 'trigger', 'workable', 'boosters', 'Americana', 'Part', 'volatility', '184', 'handles', 'Place', 'viewpoints', 'complaint', 'surveyed', 'scream', '6,000', 'Publications', 'FOREIGN', '800', 'creation', 'Sonnett', 'life', 'MERRILL', 'opinion', 'warns', 'Freshbake', 'nameplate', 'Cutrer', 'balked', 'newsstands', 'possessed', '3.19', 'insist', 'Orleans', 'anything', 'Talcott', 'headed', 'stretched', 'duly', '14.', 'stoked', 'balance', 'Harpo', 'Petroleum', 'tormentors', '*T*-43', 'Spirit', 'nobody', 'Aloha', 'homes', '451', 'DOT', 'recessionary', 'Dallara', 'air', 'Anglian', 'imbalances', 'install', 'Cross', 'cyclical', 'opportunity', 'judged', 'parallel', 'telephones', 'immediate', 'billionaire', 'Manila', 'five-year', 'Duchossois', 'mating', '32', 'possibly', 'disclose', 'denial', 'Pattenden', 'exposed', 'pulls', 'rivals', 'victims', 'decides', 'muscling', '2-8', 'gripping', 'Brigham', 'extremely', '46', '28.5', 'scammers', 'greatest', '*T*-207', 'development', 'gives', 'quashing', 'carrying', 'Marathon', 'defended', 'differences', 'Stephanie', 'mounted', 'lookee-loos', 'triple-A-rated', 'paper', 'addition', 'SALT', 'equities', '*-68', 'first-half', 'deposit', 'impartial', 'points', 'producer', 'report', 'disembodied', 'War', 'substantially', 'Kangyo', '1.26', 'Legg', 'revolt', 'McMillin', 'riding', 'Newhouse', 'address', 'broker', 'temperature', '*T*-59', 'Artist', 'profess', 'describes', 'Sonny', 'restored', 'Enzor', 'anti-drug', 'competes', 'sputtered', 'strict', 'bonuses', '62-year-old', 'flap', 'Rubicam', 'dumped', 'multiples', 'Marvin', 'shop', 'offense', 'Don', 'prayer', 'screens', 'pains', 'sends', 'forgotten', 'issuer', 'Resources', 'peripheral', 'waters', 'Mehta', 'outside', 'Nissan', 'nonfinancial', 'fretted', 'prospectively', 'Horsham', 'signal', 'Revenue', 'vowed', 'conduit', 'Jamaica', 'Fred', 'incomes', 'advancing', 'yet-to-be-formed', 'absorbed', '2\\\\/32', 'frightened', 'Electric', 'balloon', 'Roman', 'regimented', 'robustly', 'B', '87-store', 'church-goers', 'upside', 'rewrite', 'appropriations', 'Reagan', 'Petersen', 'Preston', 'execution', 'Act', 'protocols', 'Kondo', 'Fed', 'fast-growing', 'psychology', '*T*-162', '*T*-234', 'he', 'juvenile', 'Driscoll', '8', 'leeway', 'weapons-modernization', '705.6', '2029', 'management', 'sweatshirts', 'Svenska', 'merit', 'However', 'withdrew', 'debate', 'stereotyped', 'accidentally', 'fizzled', 'Friends', 'Elizabeth', 'Jersey-based', 'Garbage', '1,400', 'dust-up', 'detective-story', '30-point', 'network', 'test-preparation', 'crook', 'restructures', 'seized', 'wine-buying', 'body', '*-126', 'McDermott', 'rapprochement', 'talk-show', 'Literacy', 'control', '*T*-7', 'Tyre', 'Old', 'U.K.', 'Officials', 'full-length', 'conflicts', 'encourage', 'flush', 'rate-sensitive', 'moments', 'Ralston', 'Champagnes', 'web', 'compel', 'nominee', '*-76', '80', 'bans', '21-month', 'catch-up', 'percentage', 'illegality', 'silicone', 'disturbs', 'son', 'Frederick', '225.6', 'Swiss', 'emerged', 'sense', 'waivers', 'starts', 'Bucking', 'protein', 'healthy', 'forms', 'successful', 'Scholastic', 'Lee', 'Haruki', 'Options', 'characterizing', 'defeated', 'inspection', 'efforts', '*-20', 'Far', 'Braidwood', 'disaster', 'Palestinian', '0.3', 'going', 'edged', 'genie', 'expendable', 'player', '2.29', '*T*-116', 'weigh', 'ability', 'Producers', 'arts', '26.5', 'drug', 'untrue', 'Section', 'GenCorp', '14.13', 'skills', 'yearly', '13', '28', 'same', 'Judges', 'became', 'center', 'ABA', 'Separately', 'Follow-up', 'concentrate', 'Comtes', 'conforms', 'injury', '6.79', 'assisted', 'self-esteem', 'Huppert', 'leveling', 'well-connected', 'Mortgage-Backed', '101', '185.9', 'Conference', 'pyramids', 'Bridge', 'Fails', '467', 'agencies', 'unimpeded', '*T*-194', 'adjusting', 'exclusively', 'Report', 'Maytag', 'Barnett', 'reaping', 'Carson', 'implemented', 'Murray', 'increasing', 'offer', 'Shrum', 'reference', 'Open', '116.9', 'profit', 'hauled', '1988', 'Bates', 'billions', 'sponsors', 'making', 'Sandifer', 'acting', 'upward', 'Thrall', 'notice', 'high-risk', 'Tiny', 'Jay', 'Britain', 'pathlogy', '*-70', 'protest', 'Sigmund', '295', 'jobs', 'inching', 'supermarket', 'warnings', 'dead-eyed', 'hear', 'loops', 'PAPERS', 'bundling', 'undertone', 'Friday', 'clarify', 'Bankers', 'an', 'library', 'Agnew', '52-week', 'Chivas', 'pressed', 'B-1B', 'Simmons', 'hailing', '17.95', 'Florio', 'cushion', 'specializing', 'regrettable', 'Edge', '*T*-146', 'Traditional', 'purchasing', 'Lids', 'trading-company', 'account', 'resigned', 'Maryland', 'legislation', 'dismayed', 'Budget', 'continental', 'McFarlan', 'bust', 'stood', 'Small', 'husband', 'roadblock', 'junk-bond', 'Skinner', '*T*-247', 'congregation', 'male-dominated', '11.6', 'tasty', 'Corp', 'ensnarled', 'overleveraged', '701', 'food-shop', 'hard', 'marriages', 'Sometimes', 'spend', 'father-in-law', 'eight-person', 'handed', 'surprise', 'looks', 'produces', 'necessities', 'Put', 'change', 'corporate', 'solemn', 'Rouge', '*T*-240', 'sharp', '*-41', 'amazingly', 'manufacturer', 'quality', 'Prices', 'respect', 'Sheffield', 'Lorillard', '*T*-35', 'market-based', 'Butler', 'prepayment', 'GROWTH', 'document', 'den', 'automotive-parts', '7.80', 'reinstating', 'implication', 'deliberating', 'whichever', 'mortgaged', '93.3', 'Stock', 'productivity', 'inserted', 'No.', 'cuvees', 'subsidiaries', 'pledged', 'Several', 'infectious', 'holders', 'accurate', 'pursued', 'unenthusiastic', 'sold', 'speculator', 'quoted', 'highest-pitched', 'mainly', 'Customers', 'Medical', 'David', 'la', 'Coincident', 'Rankin', 'Arbitraging', 'seasoned', 'Teikoku', '*T*-3', 'Aerojet', 'Colleges', 'fate', 'cost-sharing', 'often', 'near', 'group', 'acceded', 'hunted', 'limits', 'deterioration', 'composting', 'gradually', 'Broken', 'Norwick', 'RULING', 'profitable', 'Its', 'created', 'PAPER', 'disciplined', '3.80', 'Recess', 'controlling', 'cosmetic', 'Seats', 'harder', 'atmosphere', 'insane', 'eager', 'Feniger', 'hidden', 'preserving', 'Entertainment', '5', 'introduction', '60', 'Miami', 'AC-130U', 'loved', 'service', 'stocks', 'best-selling', '3648.82', 'you', 'Another', 'injuring', 'look', 'edition', 'strong', 'incapable', '62%-owned', 'booklet', 'By', 'unless', 'Plans', 'memo', 'card', 'fluctuation', 'Fargo', 'C.', 'career', 'Confidence', 'Bancorp', 'execs', 'compares', 'Catch-22', 'useful', 'Gunmen', 'model', 'opposes', 'broad-based', '234.4', 'Burgundies', 'seems', 'spark', 'close-up', 'unproductive', 'advertisers', 'spectacularly', 'schoolteacher', 'ORTEGA', 'So', 'cloth', 'aerospace', '210,000', 'preference', 'Groucho', 'six', '0.05', '*-81', '51', 'nations', 'Koito', 'double', 'luxury', 'depositary', 'Cleveland', 'Totally', 'give', 'photocopy', '37-a-share', 'unresolved', 'notify', 'mandates', 'impaired', '*-120', 'NTG', 'gunship', 'mammoth', 'Maybe', 'Consent', 'foreign-stock', 'Upham', 'returned', 'invest', 'one-newspaper', 'spur', 'featuring', 'municipality', 'commodity', 'Operations', '1933', 'score', 'citing', 'drunk', 'innovation', 'emerge', 'sorry', 'presence', '*T*-73', 'Park', 'nickel', 'Steve', 'yes', 'NYSE', 'implementation', 'expressed', 'industry-wide', 'narrowly', 'touched', 'jockeys', '44', 'smokers', 'Huxtable', 'treating', 'wages', '170', 'manufacture', 'auctioned', '*NOT*', 'name', 'politicians', 'Dakotas', 'antitrust', 'caveat', 'certificates', 'entertaining', 'respondents', 'Nasdaq', 'really', 'but', 'par', 'cell', 'less-than-brilliant', 'mulling', 'overpriced', 'acquired', 'estate', '16\\\\/32', 'permission', 'dismiss', 'colleagues', 'Illuminating', 'Davenport', 'publisher', '9.3', 'Advanced', 'pistols', 'Science', 'Teddy', 'Navy', 'Yorker', 'property\\\\/casualty', 'Sea', 'nearby', 'larger-than-normal', 'Trailer', '--', 'stored', 'bit', 'are', '*-115', '30s', 'Quant', 'A.L.', 'parent', 'operate', 'Bonds', 'backlog', 'HUD', 'ascendency', 'Korea', 'found', 'propose', 'Syracuse', '2,500', 'pharmaceuticals', 'equals', 'Heightened', 'Touches', 'buy-back', 'underwriter', 'landing', 'African', '3.3', 'supported', 'requirement', 'semicircular', 'Barnum', 'bright', 'lawsuit', 'trader', 'bolstered', 'Walters', '23.72', '434.4', 'harped', 'games', 'theory', 'stop', 'Often', 'disappointing', 'striving', 'beneficiaries', 'wife', 'Drexel', 'doubt', 'printers', '5.39', '3.9', 'committees', '*-163', 'year-earlier', 'Sanderoff', 'Robbie', 'Eveready', 'Nuys', 'reviewed', 'promissory', 'outlets', 'economies', 'Barrett', 'Internal', 'proposing', '4.9', '16.68', 'unrealized', 'Time', 'screwed', 'avoiding', 'spending', 'separation', 'Oct.', 'subcontractor', 'idiomatic', 'pet', 'Nikkei', 'world-wide', 'Whiting', 'chief', 'assets', 'away', 'deadline', 'dominance', 'dissolves', 'evensong', 'Perpetual', 'windfall', 'Markey', 'concrete', '63', 'Putty', 'amended', '90-cent-an-hour', 'binders', 'Skills', 'meets', '341.20', 'Farren', 'taking', 'Practical', 'Gordon', 'USIA', 'billing', 'blighted', 'squeeze', 'Or', 'brain', 'staunchly', 'S&L', 'Failure', 'three', 'copied', 'Kligman', 'mid-afternoon', 'ushers', '4.5', '*T*-256', 'Many', 'frustrating', 'massacre', 'GAF', 'SOYBEANS', 'Waterloo', 'prostitute', 'tax', 'know', 'averted', 'climbing', 'Is', 'circuit-board', 'bout', 'repay', 'they', 'non-farm', 'pushing', '23.4', 'Behind', 'forthcoming', 'overvalued', 'beneficiary', 'counting', 'discarded', 'newspaper-printing', 'Reed', 'everyone', 'Jonathan', 'subpoenaed', 'purchasers', 'Treble', 'properties', 'protests', 'multiplying', 'contradict', 'Sauternes', 'tubes', 'night', 'lawmaking', 'telephone-information', 'sheep', 'resilient', 'ended', 'estimation', 'Financial', 'allowed', 'sex', 'long', 'Resistance', 'surprised', 'Loewi', 'Mark', 'faculty', 'valued', 'taught', 'refuses', 'biscuit', 'Shokubai', 'Deryck', 'in-store', 'index-arbitrage', '176', 'classed', 'Concurrent', 'Namibian', 'dams', 'Samnick', 'traveling', 'impeding', 'kept', 'handling', 'front-seat', 'hotel', '8.25', 'pose', 'surpluses', 'criteria', 'violations', 'hand', 'virtues', 'Tiger', 'Adolph', 'Packaging', 'Knowing', 'amphobiles', 'enviable', 'impossible', 'instructed', 'exchanging', 'benefits', 'aces', 'ex-dividend', 'Pennsylvania', '*-17', 'fractionally', 'vertically', 'Republican', 'Above', 'accomplishments', 'Club', '350', 'denounce', 'Sabhavasu', 'Pitney', 'Brooklyn', 'polystyrene', 'ACQUISITION', 'Code', 'worries', 'rankings', 'ties', 'citation', 'homeless', '360', 'predispose', 'Chapman', '51-year-old', 'shipboard', 'Lizhi', 'Items', 'initiated', 'ENERGY', 'Doak', 'escape', 'collateral', 'Genie', 'sustained', 'Other', 'X', 'passion', '14-hour', 'scrambled', 'Mich.-based', 'invented', 'Platt', 'Minnesota', 'vagrant', 'Miami-based', 'Advancing', '*-61', 'hole', 'guns', 'much', 'democratic', 'Bells', '*-101', 'pub', 'classic', 'Planters', 'caught', 'filing', 'curly', 'deterring', 'initiate', 'bellringers', 'Jimmy', 'allocation', 'slab', 'demand', 'Yet', 'users', 'Fund', 'Otero', 'Little', 'Californian', 'Anne', 'forecasting', 'venture', 'ankle', 'editors', '446.62', 'CEO', '38.375', 'manufacturing', 'month', 'care', 'agree', 'line', 'slip', 'measure', 'Homebrew', 'trap', 'staying', 'position', 'at', '150.00', 'startling', 'frankly', '*-142', 'Traders', '150-point', 'accountants', 'counterpart', 'fact', 'ailing', 'Later', 'Huber', 'processing', 'Hallwood', 'badly', 'expanded', '*-127', 'formation', 'Common', 'plugged', '2.42', 'Malizia', 'strike', 'Legislation', 'cold', 'Ore.', '148', '3.42', 'angry', 'Guinea', '25', 'female', 'UPHELD', 'slippery', 'Charlotte', 'Edelman', 'high-speed', 'Terms', 'improving', 'mind', '42-year', 'Kobe', 'screenwriters', 'Shell', 'systematic', 'Richebourg', '*-72', 'barrier', 'beaten', 'employees', 'receive', 'pricing', 'higher-salaried', 'inner-city', 'reorganization', '*T*-106', 'dominated', 'Dodge', '1.5755', 'poison', 'campaign', 'tooth', 'Equitable', 'regarded', '170,262', 'razor-thin', '*T*-228', 'scores', 'A', 'retained', '2160.1', 'Labor', 'speech', 'Encouraging', '*T*-184', 'appears', 'Arabia', 'kidnapper', 'financier', 'Bribe', 'Old-House', 'worker', 'trademark', 'microprocessors', 'certin', 'After', '18', 'Hubbell', 'physics', 'solicitous', 'mayor', 'will', 'touted', 'test', 'switched', '454', 'unclear', 'organized', 'fat', 'Stanley', 'chips', 'subskills', 'blue-chips', 'Gringo', '9.625', 'Trustco', 'milestone', 'instrument', 'cite', 'Alleghany', 'subscriptions', '*-49', 'outraged', '60,000', 'Mitsui', 'Big', 'contingency-fee', 'invite', 'recovered', 'crucial', 'Freddie', 'enables', 'expect', 'There', 'continuingly', 'Shugart', 'Alzheimer', 'human', 'receptive', 'quantitative', 'testing', 'Huntsville', 'racket', 'affairs', \"'ve\", 'actively', 'dessert', '*-80', 'domestic', 'argued', 'concedes', 'Sterling', '*-40', 'landowners', 'Hammerton', 'crib', 'Grgich', 'filter', 'nonetheless', 'defends', 'benefited', 'Tower', 'surrounding', 'shortages', 'Lane', 'twindam', '300-113', 'boosts', 'Altogether', 'Greenwich', 'criticized', 'newest', 'upstate', 'asbestos', 'disappointed', 'generation', 'Futures', \"'\", 'dividend', 'Hoosier', 'mutual-fund', 'airline-related', 'warning', 'guarantee', 'locally', 'accusing', 'certificate', 'numeral', 'cash', 'patients', 'Rothschild', 'killing', 'Coche-Dury', 'Drink', 'harm', 'awarded', 'deliver', 'Third', 'S.p.A.', 'deregulation', 'stock-market', 'Council', 'Controls', 'overseas', '160', 'nonexecutive', 'merely', 'show', 'refuge', 'pie', '85.1', 'hither', 'Hanover', 'below', 'tanked', '*T*-123', 'condemned', '1976', 'dusty', 'focus', 'VOA', 'N.Y.', 'Goldman', 'indefinitely', '260', 'stick', '*T*-179', 'fundamentalist', 'TRS-80', 'view', 'dramatic', 'sectors', 'Morrison', 'regardless', 'ITC', 'culprit', 'familiarization', 'stuff', 'managing', 'cities', 'unlike', '*T*-157', 'befuddled', 'Initiative', 'Dreyfus', 'undiplomatic', 'sluggishness', 'dean', 'Commodore', 'screened', 'tenure'}\n"
     ]
    }
   ],
   "source": [
    "#Get the set of words from the train_wordAndTag_list.\n",
    "tokens_set = set([wordAndTag[0] for wordAndTag in train_wordAndTag_list])\n",
    "print(len(tokens_set))\n",
    "print(tokens_set)"
   ]
  },
  {
   "cell_type": "code",
   "execution_count": 9,
   "metadata": {},
   "outputs": [
    {
     "name": "stdout",
     "output_type": "stream",
     "text": [
      "12\n",
      "{'X', 'PRON', 'NOUN', 'ADP', 'ADV', 'ADJ', '.', 'DET', 'CONJ', 'PRT', 'NUM', 'VERB'}\n"
     ]
    }
   ],
   "source": [
    "#How do we know if Universal tagset is used?\n",
    "#Get the set of tags from the train_wordAndTag_list.\n",
    "#It should be 12, as mentioned in the problem statement\n",
    "#NOTE that this will be used shortly for the HMM algorithm\n",
    "universal_tagset = set([wordAndTag[1] for wordAndTag in train_wordAndTag_list])\n",
    "print(len(universal_tagset))\n",
    "print(universal_tagset)"
   ]
  },
  {
   "cell_type": "markdown",
   "metadata": {},
   "source": [
    "### 2. POS Tagging Algorithm - HMM - Build the vanilla Viterbi based POS tagger\n",
    "#### Note: extracted from Upgrad Course - NLP - Module 2 - Exercise\n",
    "We'll use the HMM algorithm to tag the words. Given a sequence of words to be tagged, the task is to assign the most probable tag to the word.\n",
    "\n",
    "In other words, to every word W, assign the tag T that maximises the likelihood P(T/W). Since P(T/W) = P(W/T). P(T) / P(W), after ignoring P(W), we have to compute P(W/T) and P(T).\n",
    "\n",
    "P(W/T) is basically the probability that given a tag (say NN), what is the probability of it being W (say 'building'). This can be computed by computing the fraction of all NNs which are equal to W, i.e.\n",
    "\n",
    "P(W/T) = count(W, T) / count(T).\n",
    "\n",
    "The term P(T) is the probability of tag T, and in a tagging task, we assume that a tag will depend only on the previous tag. In other words, the probability of a tag being NN will depend only on the previous tag T(n-1). So for e.g. if T(n-1) is a JJ, then T(n) is likely to be an NN since adjectives often precede a noun (blue coat, tall building etc.).\n",
    "\n",
    "Given the penn treebank tagged dataset, we can compute the two terms P(W/T) and P(T) and store them in two large matrices. The matrix of P(W/T) will be sparse, since each word will not be seen with most tags ever, and those terms will thus be zero."
   ]
  },
  {
   "cell_type": "markdown",
   "metadata": {},
   "source": [
    "### Emission Probabilities"
   ]
  },
  {
   "cell_type": "code",
   "execution_count": 10,
   "metadata": {},
   "outputs": [],
   "source": [
    "# Computing P(W/T) and storing in tags x words matrix\n",
    "tags = len(universal_tagset)\n",
    "words = len(tokens_set)\n",
    "prob_W_given_T = np.zeros((tags, words))"
   ]
  },
  {
   "cell_type": "code",
   "execution_count": 11,
   "metadata": {},
   "outputs": [],
   "source": [
    "# Compute Emission Probability: word given tag \n",
    "def word_given_tag(word, tag, train_bag = train_wordAndTag_list):\n",
    "    tag_list = [pair for pair in train_bag if pair[1] == tag]\n",
    "    count_tag = len(tag_list)\n",
    "    w_given_tag_list = [pair[0] for pair in tag_list if pair[0] == word]\n",
    "    count_w_given_tag = len(w_given_tag_list)\n",
    "    \n",
    "    return (count_w_given_tag, count_tag)"
   ]
  },
  {
   "cell_type": "code",
   "execution_count": 12,
   "metadata": {},
   "outputs": [
    {
     "name": "stdout",
     "output_type": "stream",
     "text": [
      "\n",
      " large\n",
      "(29, 6066)\n",
      "(0, 12853)\n",
      "(0, 8279) \n",
      "\n",
      "\n",
      " will\n",
      "(0, 2995)\n",
      "(0, 27421)\n",
      "(264, 12853)\n",
      "\n",
      " book\n",
      "(6, 27421)\n",
      "(1, 12853)\n"
     ]
    }
   ],
   "source": [
    "# examples\n",
    "\n",
    "#'ADV', 'NUM', 'VERB', 'NOUN', 'DET', 'PRT', 'ADP', 'PRON', '.', 'CONJ', 'ADJ', 'X'\n",
    "\n",
    "# large\n",
    "print(\"\\n\", \"large\")\n",
    "print(word_given_tag('large', 'ADJ'))\n",
    "print(word_given_tag('large', 'VERB'))\n",
    "print(word_given_tag('large', 'DET'), \"\\n\")\n",
    "\n",
    "# will\n",
    "print(\"\\n\", \"will\")\n",
    "print(word_given_tag('will', 'ADV'))\n",
    "print(word_given_tag('will', 'NOUN'))\n",
    "print(word_given_tag('will', 'VERB'))\n",
    "\n",
    "# book\n",
    "print(\"\\n\", \"book\")\n",
    "print(word_given_tag('book', 'NOUN'))\n",
    "print(word_given_tag('book', 'VERB'))"
   ]
  },
  {
   "cell_type": "code",
   "execution_count": 13,
   "metadata": {},
   "outputs": [
    {
     "data": {
      "text/plain": [
       "list"
      ]
     },
     "execution_count": 13,
     "metadata": {},
     "output_type": "execute_result"
    }
   ],
   "source": [
    "type(train_wordAndTag_list)"
   ]
  },
  {
   "cell_type": "markdown",
   "metadata": {},
   "source": [
    "### Transition Probabilities"
   ]
  },
  {
   "cell_type": "code",
   "execution_count": 14,
   "metadata": {},
   "outputs": [],
   "source": [
    "# compute tag2 happening given tag1: tag2(t2) given tag1(t1), i.e. Transition Probability\n",
    "\n",
    "def t2_given_t1(t2, t1, train_bag = train_wordAndTag_list):\n",
    "    tags = [pair[1] for pair in train_bag]\n",
    "    count_t1 = len([t for t in tags if t == t1])\n",
    "    count_t2_t1 = 0\n",
    "    for index in range(len(tags)-1):\n",
    "        if tags[index]==t1 and tags[index+1] == t2:\n",
    "            count_t2_t1 += 1\n",
    "    return (count_t2_t1, count_t1)"
   ]
  },
  {
   "cell_type": "code",
   "execution_count": 15,
   "metadata": {},
   "outputs": [
    {
     "name": "stdout",
     "output_type": "stream",
     "text": [
      "(4023, 27421)\n",
      "(5285, 8279)\n",
      "(103, 8279)\n",
      "(0, 12853)\n",
      "(0, 6247)\n",
      "(95, 3367)\n",
      "(254, 2139)\n"
     ]
    }
   ],
   "source": [
    "# examples\n",
    "#'ADV', 'NUM', 'VERB', 'NOUN', 'DET', 'PRT', 'ADP', 'PRON', '.', 'CONJ', 'ADJ', 'X'\n",
    "\n",
    "print(t2_given_t1(t2='VERB', t1='NOUN'))\n",
    "print(t2_given_t1('NOUN', 'DET'))\n",
    "print(t2_given_t1('ADV', 'DET'))\n",
    "print(t2_given_t1('NNP', 'VERB'))\n",
    "print(t2_given_t1(',', 'X'))\n",
    "print(t2_given_t1('PRT', 'NUM'))\n",
    "print(t2_given_t1('DET', 'CONJ'))"
   ]
  },
  {
   "cell_type": "code",
   "execution_count": 16,
   "metadata": {},
   "outputs": [
    {
     "name": "stdout",
     "output_type": "stream",
     "text": [
      "(1928, 11117)\n",
      "(989, 11117)\n",
      "(2479, 11117)\n",
      "(727, 11117)\n"
     ]
    }
   ],
   "source": [
    "#Please note P(tag|start) is same as P(tag|'.')\n",
    "print(t2_given_t1('DET', '.'))\n",
    "print(t2_given_t1('VERB', '.'))\n",
    "print(t2_given_t1('NOUN', '.'))\n",
    "print(t2_given_t1('PRON', '.'))\n"
   ]
  },
  {
   "cell_type": "code",
   "execution_count": 17,
   "metadata": {},
   "outputs": [],
   "source": [
    "# creating t x t transition matrix of tags\n",
    "# each column is t2, each row is t1\n",
    "# thus M(i, j) represents P(tj given ti)\n",
    "#len of T is 12\n",
    "\n",
    "def buildTransitionProbabilitiesMatrix(tagset, taggedTrainData):\n",
    "    tProbMatrix = np.zeros((len(tagset), len(tagset)), dtype='float32')\n",
    "    for i, t1 in enumerate(list(tagset)):\n",
    "        for j, t2 in enumerate(list(tagset)): \n",
    "            tpTuple = t2_given_t1(t2, t1, taggedTrainData)\n",
    "            tProbMatrix[i, j] = tpTuple[0]/tpTuple[1]\n",
    "    return tProbMatrix\n",
    "\n",
    "tags_matrix = buildTransitionProbabilitiesMatrix(universal_tagset, train_wordAndTag_list)"
   ]
  },
  {
   "cell_type": "code",
   "execution_count": 18,
   "metadata": {},
   "outputs": [
    {
     "data": {
      "text/html": [
       "<div>\n",
       "<style scoped>\n",
       "    .dataframe tbody tr th:only-of-type {\n",
       "        vertical-align: middle;\n",
       "    }\n",
       "\n",
       "    .dataframe tbody tr th {\n",
       "        vertical-align: top;\n",
       "    }\n",
       "\n",
       "    .dataframe thead th {\n",
       "        text-align: right;\n",
       "    }\n",
       "</style>\n",
       "<table border=\"1\" class=\"dataframe\">\n",
       "  <thead>\n",
       "    <tr style=\"text-align: right;\">\n",
       "      <th></th>\n",
       "      <th>X</th>\n",
       "      <th>PRON</th>\n",
       "      <th>NOUN</th>\n",
       "      <th>ADP</th>\n",
       "      <th>ADV</th>\n",
       "      <th>ADJ</th>\n",
       "      <th>.</th>\n",
       "      <th>DET</th>\n",
       "      <th>CONJ</th>\n",
       "      <th>PRT</th>\n",
       "      <th>NUM</th>\n",
       "      <th>VERB</th>\n",
       "    </tr>\n",
       "  </thead>\n",
       "  <tbody>\n",
       "    <tr>\n",
       "      <th>X</th>\n",
       "      <td>0.074756</td>\n",
       "      <td>0.056667</td>\n",
       "      <td>0.061309</td>\n",
       "      <td>0.145190</td>\n",
       "      <td>0.025772</td>\n",
       "      <td>0.017288</td>\n",
       "      <td>0.163438</td>\n",
       "      <td>0.054106</td>\n",
       "      <td>0.010245</td>\n",
       "      <td>0.184729</td>\n",
       "      <td>0.002561</td>\n",
       "      <td>0.203938</td>\n",
       "    </tr>\n",
       "    <tr>\n",
       "      <th>PRON</th>\n",
       "      <td>0.091541</td>\n",
       "      <td>0.007339</td>\n",
       "      <td>0.209733</td>\n",
       "      <td>0.022789</td>\n",
       "      <td>0.034376</td>\n",
       "      <td>0.070297</td>\n",
       "      <td>0.041329</td>\n",
       "      <td>0.009656</td>\n",
       "      <td>0.005021</td>\n",
       "      <td>0.013132</td>\n",
       "      <td>0.007339</td>\n",
       "      <td>0.487447</td>\n",
       "    </tr>\n",
       "    <tr>\n",
       "      <th>NOUN</th>\n",
       "      <td>0.029138</td>\n",
       "      <td>0.004704</td>\n",
       "      <td>0.265089</td>\n",
       "      <td>0.176142</td>\n",
       "      <td>0.016994</td>\n",
       "      <td>0.012326</td>\n",
       "      <td>0.239853</td>\n",
       "      <td>0.013202</td>\n",
       "      <td>0.042194</td>\n",
       "      <td>0.043944</td>\n",
       "      <td>0.009701</td>\n",
       "      <td>0.146712</td>\n",
       "    </tr>\n",
       "    <tr>\n",
       "      <th>ADP</th>\n",
       "      <td>0.035069</td>\n",
       "      <td>0.068106</td>\n",
       "      <td>0.321073</td>\n",
       "      <td>0.017321</td>\n",
       "      <td>0.013258</td>\n",
       "      <td>0.106811</td>\n",
       "      <td>0.040201</td>\n",
       "      <td>0.325029</td>\n",
       "      <td>0.000962</td>\n",
       "      <td>0.001390</td>\n",
       "      <td>0.062333</td>\n",
       "      <td>0.008446</td>\n",
       "    </tr>\n",
       "    <tr>\n",
       "      <th>ADV</th>\n",
       "      <td>0.022037</td>\n",
       "      <td>0.015359</td>\n",
       "      <td>0.032387</td>\n",
       "      <td>0.116861</td>\n",
       "      <td>0.079132</td>\n",
       "      <td>0.129215</td>\n",
       "      <td>0.136561</td>\n",
       "      <td>0.067446</td>\n",
       "      <td>0.006344</td>\n",
       "      <td>0.014691</td>\n",
       "      <td>0.031720</td>\n",
       "      <td>0.348247</td>\n",
       "    </tr>\n",
       "    <tr>\n",
       "      <th>ADJ</th>\n",
       "      <td>0.021431</td>\n",
       "      <td>0.000495</td>\n",
       "      <td>0.699308</td>\n",
       "      <td>0.078800</td>\n",
       "      <td>0.004616</td>\n",
       "      <td>0.066271</td>\n",
       "      <td>0.063798</td>\n",
       "      <td>0.005110</td>\n",
       "      <td>0.016650</td>\n",
       "      <td>0.010386</td>\n",
       "      <td>0.021101</td>\n",
       "      <td>0.012034</td>\n",
       "    </tr>\n",
       "    <tr>\n",
       "      <th>.</th>\n",
       "      <td>0.026356</td>\n",
       "      <td>0.065395</td>\n",
       "      <td>0.222992</td>\n",
       "      <td>0.091571</td>\n",
       "      <td>0.052442</td>\n",
       "      <td>0.044346</td>\n",
       "      <td>0.093101</td>\n",
       "      <td>0.173428</td>\n",
       "      <td>0.058289</td>\n",
       "      <td>0.002159</td>\n",
       "      <td>0.080867</td>\n",
       "      <td>0.088963</td>\n",
       "    </tr>\n",
       "    <tr>\n",
       "      <th>DET</th>\n",
       "      <td>0.045537</td>\n",
       "      <td>0.003624</td>\n",
       "      <td>0.638362</td>\n",
       "      <td>0.009542</td>\n",
       "      <td>0.012441</td>\n",
       "      <td>0.205218</td>\n",
       "      <td>0.017756</td>\n",
       "      <td>0.005315</td>\n",
       "      <td>0.000483</td>\n",
       "      <td>0.000242</td>\n",
       "      <td>0.021983</td>\n",
       "      <td>0.039498</td>\n",
       "    </tr>\n",
       "    <tr>\n",
       "      <th>CONJ</th>\n",
       "      <td>0.008883</td>\n",
       "      <td>0.059374</td>\n",
       "      <td>0.351099</td>\n",
       "      <td>0.053763</td>\n",
       "      <td>0.053763</td>\n",
       "      <td>0.114540</td>\n",
       "      <td>0.036466</td>\n",
       "      <td>0.118747</td>\n",
       "      <td>0.000468</td>\n",
       "      <td>0.005143</td>\n",
       "      <td>0.041608</td>\n",
       "      <td>0.156148</td>\n",
       "    </tr>\n",
       "    <tr>\n",
       "      <th>PRT</th>\n",
       "      <td>0.013394</td>\n",
       "      <td>0.016661</td>\n",
       "      <td>0.247958</td>\n",
       "      <td>0.020908</td>\n",
       "      <td>0.009474</td>\n",
       "      <td>0.084286</td>\n",
       "      <td>0.044103</td>\n",
       "      <td>0.101601</td>\n",
       "      <td>0.001633</td>\n",
       "      <td>0.001633</td>\n",
       "      <td>0.057171</td>\n",
       "      <td>0.401176</td>\n",
       "    </tr>\n",
       "    <tr>\n",
       "      <th>NUM</th>\n",
       "      <td>0.209088</td>\n",
       "      <td>0.001485</td>\n",
       "      <td>0.352836</td>\n",
       "      <td>0.034749</td>\n",
       "      <td>0.002970</td>\n",
       "      <td>0.032670</td>\n",
       "      <td>0.119097</td>\n",
       "      <td>0.003564</td>\n",
       "      <td>0.013365</td>\n",
       "      <td>0.028215</td>\n",
       "      <td>0.183546</td>\n",
       "      <td>0.018414</td>\n",
       "    </tr>\n",
       "    <tr>\n",
       "      <th>VERB</th>\n",
       "      <td>0.216759</td>\n",
       "      <td>0.035867</td>\n",
       "      <td>0.110636</td>\n",
       "      <td>0.091263</td>\n",
       "      <td>0.081693</td>\n",
       "      <td>0.065743</td>\n",
       "      <td>0.034544</td>\n",
       "      <td>0.134755</td>\n",
       "      <td>0.005680</td>\n",
       "      <td>0.031977</td>\n",
       "      <td>0.023107</td>\n",
       "      <td>0.167976</td>\n",
       "    </tr>\n",
       "  </tbody>\n",
       "</table>\n",
       "</div>"
      ],
      "text/plain": [
       "             X      PRON      NOUN       ADP       ADV       ADJ         .  \\\n",
       "X     0.074756  0.056667  0.061309  0.145190  0.025772  0.017288  0.163438   \n",
       "PRON  0.091541  0.007339  0.209733  0.022789  0.034376  0.070297  0.041329   \n",
       "NOUN  0.029138  0.004704  0.265089  0.176142  0.016994  0.012326  0.239853   \n",
       "ADP   0.035069  0.068106  0.321073  0.017321  0.013258  0.106811  0.040201   \n",
       "ADV   0.022037  0.015359  0.032387  0.116861  0.079132  0.129215  0.136561   \n",
       "ADJ   0.021431  0.000495  0.699308  0.078800  0.004616  0.066271  0.063798   \n",
       ".     0.026356  0.065395  0.222992  0.091571  0.052442  0.044346  0.093101   \n",
       "DET   0.045537  0.003624  0.638362  0.009542  0.012441  0.205218  0.017756   \n",
       "CONJ  0.008883  0.059374  0.351099  0.053763  0.053763  0.114540  0.036466   \n",
       "PRT   0.013394  0.016661  0.247958  0.020908  0.009474  0.084286  0.044103   \n",
       "NUM   0.209088  0.001485  0.352836  0.034749  0.002970  0.032670  0.119097   \n",
       "VERB  0.216759  0.035867  0.110636  0.091263  0.081693  0.065743  0.034544   \n",
       "\n",
       "           DET      CONJ       PRT       NUM      VERB  \n",
       "X     0.054106  0.010245  0.184729  0.002561  0.203938  \n",
       "PRON  0.009656  0.005021  0.013132  0.007339  0.487447  \n",
       "NOUN  0.013202  0.042194  0.043944  0.009701  0.146712  \n",
       "ADP   0.325029  0.000962  0.001390  0.062333  0.008446  \n",
       "ADV   0.067446  0.006344  0.014691  0.031720  0.348247  \n",
       "ADJ   0.005110  0.016650  0.010386  0.021101  0.012034  \n",
       ".     0.173428  0.058289  0.002159  0.080867  0.088963  \n",
       "DET   0.005315  0.000483  0.000242  0.021983  0.039498  \n",
       "CONJ  0.118747  0.000468  0.005143  0.041608  0.156148  \n",
       "PRT   0.101601  0.001633  0.001633  0.057171  0.401176  \n",
       "NUM   0.003564  0.013365  0.028215  0.183546  0.018414  \n",
       "VERB  0.134755  0.005680  0.031977  0.023107  0.167976  "
      ]
     },
     "execution_count": 18,
     "metadata": {},
     "output_type": "execute_result"
    }
   ],
   "source": [
    "# convert the matrix to a df for better readability\n",
    "tags_df = pd.DataFrame(tags_matrix, columns = list(universal_tagset), index=list(universal_tagset))\n",
    "tags_df"
   ]
  },
  {
   "cell_type": "code",
   "execution_count": 19,
   "metadata": {},
   "outputs": [
    {
     "data": {
      "image/png": "[encoded data removed]",
      "text/plain": [
       "<Figure size 720x576 with 2 Axes>"
      ]
     },
     "metadata": {
      "needs_background": "light"
     },
     "output_type": "display_data"
    }
   ],
   "source": [
    "# heatmap of tags matrix\n",
    "# T(i, j) indicates P(tag j given tag i)\n",
    "plt.figure(figsize=(10, 8))\n",
    "sns.heatmap(tags_df)\n",
    "plt.show()"
   ]
  },
  {
   "cell_type": "code",
   "execution_count": 20,
   "metadata": {},
   "outputs": [
    {
     "data": {
      "image/png": "[encoded data removed]",
      "text/plain": [
       "<Figure size 720x576 with 2 Axes>"
      ]
     },
     "metadata": {
      "needs_background": "light"
     },
     "output_type": "display_data"
    }
   ],
   "source": [
    "# frequent tags\n",
    "# filter the df to get P(t2, t1) > 0.5\n",
    "tags_frequent = tags_df[tags_df>0.5]\n",
    "plt.figure(figsize=(10, 8))\n",
    "sns.heatmap(tags_frequent)\n",
    "plt.show()"
   ]
  },
  {
   "cell_type": "markdown",
   "metadata": {},
   "source": [
    "#### Nouns follow determinants and adjectives"
   ]
  },
  {
   "cell_type": "code",
   "execution_count": 21,
   "metadata": {},
   "outputs": [],
   "source": [
    "# Viterbi Heuristic\n",
    "def Viterbi(words, train_bag = train_wordAndTag_list):\n",
    "    state = []\n",
    "    T = list(set([pair[1] for pair in train_bag]))\n",
    "    \n",
    "    for key, word in enumerate(words):\n",
    "        #initialise list of probability column for a given observation\n",
    "        p = [] \n",
    "        for tag in T:\n",
    "            if key == 0:\n",
    "                transition_p = tags_df.loc['.', tag]\n",
    "            else:\n",
    "                #print(\"**state[-1]** \", state[-1])\n",
    "                transition_p = tags_df.loc[state[-1], tag]\n",
    "                \n",
    "            # compute emission and state probabilities\n",
    "            emissionNAndD = word_given_tag(words[key], tag)\n",
    "            emission_p = emissionNAndD[0]/emissionNAndD[1]  \n",
    "            state_probability = emission_p * transition_p    \n",
    "            p.append(state_probability)\n",
    "            \n",
    "        pmax = max(p)\n",
    "        # getting state for which probability is maximum\n",
    "        state_max = T[p.index(pmax)] \n",
    "        state.append(state_max)\n",
    "    return list(zip(words, state))"
   ]
  },
  {
   "cell_type": "code",
   "execution_count": 22,
   "metadata": {},
   "outputs": [
    {
     "name": "stdout",
     "output_type": "stream",
     "text": [
      "[('``', '.'), ('But', 'CONJ'), ('now', 'ADV'), (',', '.'), ('there', 'DET'), ('seems', 'VERB'), ('*-2', 'X'), ('to', 'PRT'), ('be', 'VERB'), ('a', 'DET'), ('fairly', 'ADV'), ('systematic', 'ADJ'), ('effort', 'NOUN'), ('*', 'X'), ('to', 'PRT'), ('address', 'VERB'), ('the', 'DET'), ('problem', 'NOUN'), (',', '.'), (\"''\", '.'), ('said', 'VERB'), ('*T*-1', 'X'), ('Chuck', 'NOUN'), ('Hurley', 'NOUN'), (',', '.'), ('vice', 'NOUN'), ('president', 'NOUN'), ('of', 'ADP'), ('communications', 'NOUN'), ('for', 'ADP'), ('the', 'DET'), ('Insurance', 'NOUN'), ('Institute', 'NOUN'), ('for', 'ADP'), ('Highway', 'NOUN'), ('Safety', 'NOUN'), ('.', '.'), ('Superconductors', 'NOUN'), ('conduct', 'VERB'), ('electricity', 'NOUN'), ('without', 'ADP'), ('resistance', 'NOUN'), ('when', 'ADV'), ('*-3', 'X'), ('cooled', 'VERB'), ('*-2', 'X'), ('*T*-1', 'X'), ('.', '.'), ('California', 'NOUN'), ('led', 'VERB'), ('the', 'DET'), ('nation', 'NOUN'), ('with', 'ADP'), ('$', '.'), ('6.5', 'NUM'), ('billion', 'NUM'), ('*U*', 'X'), ('in', 'ADP'), ('net', 'ADJ'), ('cash', 'NOUN'), ('income', 'NOUN'), ('last', 'ADJ'), ('year', 'NOUN'), (',', '.'), ('followed', 'VERB'), ('by', 'ADP'), ('Texas', 'NOUN'), (',', '.'), ('$', '.'), ('3.9', 'NUM'), ('billion', 'NUM'), ('*U*', 'X'), (';', '.'), ('Iowa', 'NOUN'), (',', '.'), ('$', '.'), ('3.4', 'NUM'), ('billion', 'NUM'), ('*U*', 'X'), (';', '.'), ('Florida', 'NOUN'), (',', '.'), ('$', '.'), ('3.1', 'NUM'), ('billion', 'NUM'), ('*U*', 'X'), (';', '.'), ('and', 'CONJ'), ('Minnesota', 'NOUN'), (',', '.'), ('$', '.'), ('2.7', 'NUM'), ('billion', 'NUM'), ('*U*', 'X'), ('.', '.'), ('But', 'CONJ'), ('when', 'ADV'), ('the', 'DET'), ('contract', 'NOUN'), ('reopened', 'VERB'), ('*T*-1', 'X'), (',', '.'), ('the', 'DET'), ('subsequent', 'ADJ'), ('flood', 'NOUN'), ('of', 'ADP'), ('sell', 'NOUN'), ('orders', 'NOUN'), ('that', 'DET'), ('*T*-211', 'X'), ('quickly', 'ADV'), ('knocked', 'VERB'), ('the', 'DET'), ('contract', 'NOUN'), ('down', 'PRT'), ('to', 'PRT'), ('the', 'DET'), ('30-point', 'ADJ'), ('limit', 'NOUN'), ('indicated', 'VERB'), ('that', 'ADP'), ('the', 'DET'), ('intermediate', 'ADJ'), ('limit', 'NOUN'), ('of', 'ADP'), ('20', 'NUM'), ('points', 'NOUN'), ('was', 'VERB'), ('needed', 'VERB'), ('*-128', 'X'), ('*-128', 'X'), ('to', 'PRT'), ('help', 'VERB'), ('keep', 'VERB'), ('stock', 'NOUN'), ('and', 'CONJ'), ('stock-index', 'ADJ'), ('futures', 'NOUN'), ('prices', 'NOUN'), ('synchronized', 'VERB'), ('.', '.'), ('A', 'DET'), ('few', 'ADJ'), ('fast-food', 'NOUN'), ('outlets', 'NOUN'), ('are', 'VERB'), ('giving', 'VERB'), ('it', 'PRON'), ('a', 'DET'), ('try', 'NOUN'), ('.', '.'), ('To', 'PRT'), ('that', 'DET'), ('end', 'NOUN'), (',', '.'), ('American', 'NOUN'), ('Express', 'NOUN'), ('has', 'VERB'), ('been', 'VERB'), ('signing', 'VERB'), ('up', 'PRT'), ('gasoline', 'NOUN'), ('companies', 'NOUN'), (',', '.'), ('car', 'NOUN'), ('repair', 'NOUN'), ('shops', 'NOUN'), (',', '.'), ('tire', 'NOUN'), ('companies', 'NOUN'), ('and', 'CONJ'), ('car', 'NOUN'), ('dealers', 'NOUN'), ('*-1', 'X'), ('to', 'PRT'), ('accept', 'VERB'), ('the', 'DET'), ('card', 'NOUN'), ('.', '.'), ('Yet', 'CONJ'), ('many', 'ADJ'), ('such', 'ADJ'), ('managers', 'NOUN'), ('consistently', 'ADV'), ('fail', 'VERB'), ('*-2', 'X'), ('to', 'PRT'), ('even', 'ADV'), ('keep', 'VERB'), ('up', 'PRT'), ('with', 'ADP'), ('*RNR*-1', 'X'), (',', '.'), ('much', 'ADV'), ('less', 'ADJ'), ('beat', 'VERB'), ('*RNR*-1', 'X'), (',', '.'), ('the', 'DET'), ('returns', 'NOUN'), ('of', 'ADP'), ('standard', 'ADJ'), ('benchmarks', 'NOUN'), ('like', 'ADP'), ('the', 'DET'), ('S&P', 'NOUN'), ('However', 'ADV'), (',', '.'), ('after', 'ADP'), ('two', 'NUM'), ('meetings', 'NOUN'), ('with', 'ADP'), ('the', 'DET'), ('Soviets', 'NOUN'), (',', '.'), ('a', 'DET'), ('State', 'NOUN'), ('Department', 'NOUN'), ('spokesman', 'NOUN'), ('said', 'VERB'), ('that', 'ADP'), ('it', 'PRON'), ('*EXP*-1', 'X'), (\"'s\", 'VERB'), ('``', '.'), ('too', 'ADV'), ('early', 'ADV'), ('*', 'X'), ('to', 'PRT'), ('say', 'VERB'), (\"''\", '.'), ('whether', 'ADP'), ('that', 'DET'), ('will', 'VERB'), ('happen', 'VERB'), ('.', '.'), ('*-1', 'X'), ('To', 'PRT'), ('offset', 'VERB'), ('the', 'DET'), ('reduction', 'NOUN'), (',', '.'), ('Congress', 'NOUN'), ('approved', 'VERB'), ('a', 'DET'), ('$', '.'), ('20,000', 'NUM'), ('*U*', 'X'), ('fee', 'NOUN'), ('that', 'ADP'), ('investors', 'NOUN'), ('and', 'CONJ'), ('companies', 'NOUN'), ('will', 'VERB'), ('have', 'VERB'), ('*-3', 'X'), ('to', 'PRT'), ('pay', 'VERB'), ('*T*-2', 'X'), ('each', 'DET'), ('time', 'NOUN'), ('0', 'X'), ('they', 'PRON'), ('make', 'VERB'), ('required', 'VERB'), ('filings', 'NOUN'), ('to', 'PRT'), ('antitrust', 'ADJ'), ('regulators', 'NOUN'), ('about', 'ADP'), ('mergers', 'NOUN'), (',', '.'), ('acquisitions', 'NOUN'), ('and', 'CONJ'), ('certain', 'ADJ'), ('other', 'ADJ'), ('transactions', 'NOUN'), ('*T*-4', 'X'), ('.', '.'), ('New', 'NOUN'), ('York-based', 'ADJ'), ('Alleghany', 'NOUN'), ('is', 'VERB'), ('an', 'DET'), ('insurance', 'NOUN'), ('and', 'CONJ'), ('financial', 'ADJ'), ('services', 'NOUN'), ('concern', 'NOUN'), ('.', '.'), ('Valley', 'NOUN'), ('Federal', 'NOUN'), ('also', 'ADV'), ('added', 'VERB'), ('$', '.'), ('18', 'NUM'), ('million', 'NUM'), ('*U*', 'X'), ('to', 'PRT'), ('realestate', 'VERB'), ('loan', 'NOUN'), ('reserves', 'NOUN'), ('and', 'CONJ'), ('eliminated', 'VERB'), ('$', '.'), ('9.9', 'NUM'), ('million', 'NUM'), ('*U*', 'X'), ('of', 'ADP'), ('good', 'ADJ'), ('will', 'NOUN'), ('.', '.'), ('The', 'DET'), ('announced', 'VERB'), ('sale', 'NOUN'), ('of', 'ADP'), ('the', 'DET'), ('reserves', 'NOUN'), ('was', 'VERB'), ('followed', 'VERB'), ('*-1', 'X'), ('by', 'ADP'), ('news', 'NOUN'), ('that', 'ADP'), ('investor', 'NOUN'), ('Carl', 'NOUN'), ('Icahn', 'NOUN'), ('had', 'VERB'), ('increased', 'VERB'), ('his', 'PRON'), ('stake', 'NOUN'), ('in', 'ADP'), ('USX', 'NOUN'), ('to', 'PRT'), ('13.1', 'NUM'), ('%', 'NOUN'), ('and', 'CONJ'), ('threatened', 'VERB'), ('a', 'DET'), ('takeover', 'NOUN'), ('or', 'CONJ'), ('other', 'ADJ'), ('business', 'NOUN'), ('combination', 'NOUN'), ('.', '.'), ('A', 'DET'), ('licensing', 'NOUN'), ('company', 'NOUN'), ('representing', 'VERB'), ('the', 'DET'), ('University', 'NOUN'), ('of', 'ADP'), ('Pennsylvania', 'NOUN'), ('added', 'VERB'), ('Johnson', 'NOUN'), ('&', 'CONJ'), ('Johnson', 'NOUN'), ('to', 'PRT'), ('its', 'PRON'), ('lawsuit', 'NOUN'), ('challenging', 'VERB'), ('a', 'DET'), ('university', 'NOUN'), ('faculty', 'NOUN'), ('member', 'NOUN'), ('over', 'ADP'), ('rights', 'NOUN'), ('to', 'PRT'), ('Retin-A', 'NOUN'), ('acne', 'NOUN'), ('medicine', 'NOUN'), ('.', '.'), ('Under', 'ADP'), ('an', 'DET'), ('accord', 'NOUN'), ('signed', 'VERB'), ('*', 'X'), ('yesterday', 'NOUN'), (',', '.'), ('the', 'DET'), ('government', 'NOUN'), ('and', 'CONJ'), ('Union', 'NOUN'), ('Bank', 'NOUN'), ('of', 'ADP'), ('Finland', 'NOUN'), ('would', 'VERB'), ('become', 'VERB'), ('major', 'ADJ'), ('shareholders', 'NOUN'), ('in', 'ADP'), ('the', 'DET'), ('new', 'ADJ'), ('company', 'NOUN'), (',', '.'), ('each', 'DET'), ('injecting', 'VERB'), ('100', 'NUM'), ('million', 'NUM'), ('Finnish', 'ADJ'), ('markkaa', 'NOUN'), ('-LRB-', '.'), ('$', '.'), ('23.5', 'NUM'), ('million', 'NUM'), ('*U*', 'X'), ('-RRB-', '.'), ('.', '.'), ('A', 'DET'), ('licensing', 'NOUN'), ('company', 'NOUN'), ('representing', 'VERB'), ('the', 'DET'), ('University', 'NOUN'), ('of', 'ADP'), ('Pennsylvania', 'NOUN'), ('added', 'VERB'), ('Johnson', 'NOUN'), ('&', 'CONJ'), ('Johnson', 'NOUN'), ('to', 'PRT'), ('its', 'PRON'), ('lawsuit', 'NOUN'), ('challenging', 'VERB'), ('a', 'DET'), ('university', 'NOUN'), ('faculty', 'NOUN'), ('member', 'NOUN'), ('over', 'ADP'), ('rights', 'NOUN'), ('to', 'PRT'), ('Retin-A', 'NOUN'), ('acne', 'NOUN'), ('medicine', 'NOUN'), ('.', '.'), ('The', 'DET'), ('October', 'NOUN'), ('survey', 'NOUN'), ('of', 'ADP'), ('corporate', 'ADJ'), ('purchasing', 'VERB'), ('managers', 'NOUN'), (',', '.'), ('as', 'ADP'), ('*', 'X'), ('expected', 'VERB'), (',', '.'), ('provided', 'VERB'), ('evidence', 'NOUN'), ('that', 'ADP'), ('economic', 'ADJ'), ('growth', 'NOUN'), ('remains', 'VERB'), ('subdued', 'VERB'), ('.', '.'), ('As', 'ADP'), ('for', 'ADP'), ('the', 'DET'), ('findings', 'NOUN'), ('on', 'ADP'), ('the', 'DET'), ('203', 'NUM'), ('Baltimore', 'NOUN'), ('homeless', 'NOUN'), ('who', 'PRON'), ('*T*-18', 'X'), ('underwent', 'VERB'), ('psychiatric', 'ADJ'), ('examinations', 'NOUN'), (',', '.'), ('I', 'PRON'), ('suggest', 'VERB'), ('0', 'X'), ('you', 'PRON'), ('conduct', 'VERB'), ('your', 'PRON'), ('own', 'ADJ'), ('survey', 'NOUN'), ('.', '.'), ('Its', 'PRON'), ('subsidiaries', 'NOUN'), (\"'\", 'PRT'), ('services', 'NOUN'), ('are', 'VERB'), ('marketed', 'VERB'), ('*-1', 'X'), ('by', 'ADP'), ('closely', 'ADV'), ('held', 'VERB'), ('A.L.', 'NOUN'), ('Williams', 'NOUN'), ('&', 'CONJ'), ('Associates', 'NOUN'), ('.', '.'), ('Several', 'ADJ'), ('years', 'NOUN'), ('ago', 'ADP'), ('he', 'PRON'), ('gave', 'VERB'), ('up', 'PRT'), ('*-3', 'X'), ('trying', 'VERB'), ('*-1', 'X'), ('to', 'PRT'), ('persuade', 'VERB'), ('Miami', 'NOUN'), ('*-2', 'X'), ('to', 'PRT'), ('improve', 'VERB'), ('its', 'PRON'), ('city-owned', 'ADJ'), ('Orange', 'NOUN'), ('Bowl', 'NOUN'), (',', '.'), ('and', 'CONJ'), ('instead', 'ADV'), ('built', 'VERB'), ('his', 'PRON'), ('own', 'ADJ'), ('$', '.'), ('100', 'NUM'), ('million', 'NUM'), ('*U*', 'X'), ('coliseum', 'NOUN'), ('with', 'ADP'), ('private', 'ADJ'), ('funds', 'NOUN'), ('.', '.'), ('The', 'DET'), ('legislation', 'NOUN'), ('itself', 'PRON'), ('noted', 'VERB'), ('that', 'ADP'), ('it', 'PRON'), ('was', 'VERB'), ('introduced', 'VERB'), ('*-1', 'X'), ('``', '.'), ('by', 'ADP'), ('request', 'NOUN'), (',', '.'), (\"''\", '.'), ('and', 'CONJ'), ('in', 'ADP'), ('1983', 'NUM'), ('Mr.', 'NOUN'), ('Wilder', 'NOUN'), ('introduced', 'VERB'), ('a', 'DET'), ('bill', 'NOUN'), ('0', 'X'), ('*T*-2', 'X'), ('to', 'PRT'), ('protect', 'VERB'), ('rape', 'NOUN'), ('victims', 'NOUN'), ('from', 'ADP'), ('unfounded', 'ADJ'), ('interrogation', 'NOUN'), ('.', '.')]\n",
      "\n",
      "['``', 'But', 'now', ',', 'there', 'seems', '*-2', 'to', 'be', 'a', 'fairly', 'systematic', 'effort', '*', 'to', 'address', 'the', 'problem', ',', \"''\", 'said', '*T*-1', 'Chuck', 'Hurley', ',', 'vice', 'president', 'of', 'communications', 'for', 'the', 'Insurance', 'Institute', 'for', 'Highway', 'Safety', '.', 'Superconductors', 'conduct', 'electricity', 'without', 'resistance', 'when', '*-3', 'cooled', '*-2', '*T*-1', '.', 'California', 'led', 'the', 'nation', 'with', '$', '6.5', 'billion', '*U*', 'in', 'net', 'cash', 'income', 'last', 'year', ',', 'followed', 'by', 'Texas', ',', '$', '3.9', 'billion', '*U*', ';', 'Iowa', ',', '$', '3.4', 'billion', '*U*', ';', 'Florida', ',', '$', '3.1', 'billion', '*U*', ';', 'and', 'Minnesota', ',', '$', '2.7', 'billion', '*U*', '.', 'But', 'when', 'the', 'contract', 'reopened', '*T*-1', ',', 'the', 'subsequent', 'flood', 'of', 'sell', 'orders', 'that', '*T*-211', 'quickly', 'knocked', 'the', 'contract', 'down', 'to', 'the', '30-point', 'limit', 'indicated', 'that', 'the', 'intermediate', 'limit', 'of', '20', 'points', 'was', 'needed', '*-128', '*-128', 'to', 'help', 'keep', 'stock', 'and', 'stock-index', 'futures', 'prices', 'synchronized', '.', 'A', 'few', 'fast-food', 'outlets', 'are', 'giving', 'it', 'a', 'try', '.', 'To', 'that', 'end', ',', 'American', 'Express', 'has', 'been', 'signing', 'up', 'gasoline', 'companies', ',', 'car', 'repair', 'shops', ',', 'tire', 'companies', 'and', 'car', 'dealers', '*-1', 'to', 'accept', 'the', 'card', '.', 'Yet', 'many', 'such', 'managers', 'consistently', 'fail', '*-2', 'to', 'even', 'keep', 'up', 'with', '*RNR*-1', ',', 'much', 'less', 'beat', '*RNR*-1', ',', 'the', 'returns', 'of', 'standard', 'benchmarks', 'like', 'the', 'S&P', 'However', ',', 'after', 'two', 'meetings', 'with', 'the', 'Soviets', ',', 'a', 'State', 'Department', 'spokesman', 'said', 'that', 'it', '*EXP*-1', \"'s\", '``', 'too', 'early', '*', 'to', 'say', \"''\", 'whether', 'that', 'will', 'happen', '.', '*-1', 'To', 'offset', 'the', 'reduction', ',', 'Congress', 'approved', 'a', '$', '20,000', '*U*', 'fee', 'that', 'investors', 'and', 'companies', 'will', 'have', '*-3', 'to', 'pay', '*T*-2', 'each', 'time', '0', 'they', 'make', 'required', 'filings', 'to', 'antitrust', 'regulators', 'about', 'mergers', ',', 'acquisitions', 'and', 'certain', 'other', 'transactions', '*T*-4', '.', 'New', 'York-based', 'Alleghany', 'is', 'an', 'insurance', 'and', 'financial', 'services', 'concern', '.', 'Valley', 'Federal', 'also', 'added', '$', '18', 'million', '*U*', 'to', 'realestate', 'loan', 'reserves', 'and', 'eliminated', '$', '9.9', 'million', '*U*', 'of', 'good', 'will', '.', 'The', 'announced', 'sale', 'of', 'the', 'reserves', 'was', 'followed', '*-1', 'by', 'news', 'that', 'investor', 'Carl', 'Icahn', 'had', 'increased', 'his', 'stake', 'in', 'USX', 'to', '13.1', '%', 'and', 'threatened', 'a', 'takeover', 'or', 'other', 'business', 'combination', '.', 'A', 'licensing', 'company', 'representing', 'the', 'University', 'of', 'Pennsylvania', 'added', 'Johnson', '&', 'Johnson', 'to', 'its', 'lawsuit', 'challenging', 'a', 'university', 'faculty', 'member', 'over', 'rights', 'to', 'Retin-A', 'acne', 'medicine', '.', 'Under', 'an', 'accord', 'signed', '*', 'yesterday', ',', 'the', 'government', 'and', 'Union', 'Bank', 'of', 'Finland', 'would', 'become', 'major', 'shareholders', 'in', 'the', 'new', 'company', ',', 'each', 'injecting', '100', 'million', 'Finnish', 'markkaa', '-LRB-', '$', '23.5', 'million', '*U*', '-RRB-', '.', 'A', 'licensing', 'company', 'representing', 'the', 'University', 'of', 'Pennsylvania', 'added', 'Johnson', '&', 'Johnson', 'to', 'its', 'lawsuit', 'challenging', 'a', 'university', 'faculty', 'member', 'over', 'rights', 'to', 'Retin-A', 'acne', 'medicine', '.', 'The', 'October', 'survey', 'of', 'corporate', 'purchasing', 'managers', ',', 'as', '*', 'expected', ',', 'provided', 'evidence', 'that', 'economic', 'growth', 'remains', 'subdued', '.', 'As', 'for', 'the', 'findings', 'on', 'the', '203', 'Baltimore', 'homeless', 'who', '*T*-18', 'underwent', 'psychiatric', 'examinations', ',', 'I', 'suggest', '0', 'you', 'conduct', 'your', 'own', 'survey', '.', 'Its', 'subsidiaries', \"'\", 'services', 'are', 'marketed', '*-1', 'by', 'closely', 'held', 'A.L.', 'Williams', '&', 'Associates', '.', 'Several', 'years', 'ago', 'he', 'gave', 'up', '*-3', 'trying', '*-1', 'to', 'persuade', 'Miami', '*-2', 'to', 'improve', 'its', 'city-owned', 'Orange', 'Bowl', ',', 'and', 'instead', 'built', 'his', 'own', '$', '100', 'million', '*U*', 'coliseum', 'with', 'private', 'funds', '.', 'The', 'legislation', 'itself', 'noted', 'that', 'it', 'was', 'introduced', '*-1', '``', 'by', 'request', ',', \"''\", 'and', 'in', '1983', 'Mr.', 'Wilder', 'introduced', 'a', 'bill', '0', '*T*-2', 'to', 'protect', 'rape', 'victims', 'from', 'unfounded', 'interrogation', '.']\n"
     ]
    }
   ],
   "source": [
    "# Running on entire test dataset would take more than 3-4hrs. \n",
    "# Let's test our Viterbi algorithm on a few sample sentences of test dataset\n",
    "\n",
    "random.seed(1234)\n",
    "\n",
    "# choose random 5 sents\n",
    "rndom = [random.randint(1,len(test_set)) for x in range(20)]\n",
    "\n",
    "# list of sents\n",
    "test_run = [test_set[i] for i in rndom]\n",
    "\n",
    "# list of tagged words\n",
    "test_run_base = [tup for sent in test_run for tup in sent]\n",
    "\n",
    "# list of untagged words\n",
    "test_tagged_words = [tup[0] for sent in test_run for tup in sent]\n",
    "\n",
    "print(test_run_base)\n",
    "print()\n",
    "print(test_tagged_words)"
   ]
  },
  {
   "cell_type": "code",
   "execution_count": 23,
   "metadata": {},
   "outputs": [
    {
     "name": "stdout",
     "output_type": "stream",
     "text": [
      "***Time taken to tag****  220.58225536346436\n"
     ]
    }
   ],
   "source": [
    "# tagging the test sentences\n",
    "def tagSentencesViterbi(words2BeTagged):\n",
    "    start = time.time()\n",
    "    tagged_seq = Viterbi(words2BeTagged)\n",
    "    end = time.time()\n",
    "    difference = end-start\n",
    "    print(\"***Time taken to tag**** \", difference)\n",
    "    return tagged_seq\n",
    "\n",
    "tagged_seq = tagSentencesViterbi(test_tagged_words)"
   ]
  },
  {
   "cell_type": "code",
   "execution_count": 24,
   "metadata": {},
   "outputs": [
    {
     "name": "stdout",
     "output_type": "stream",
     "text": [
      "[('``', '.'), ('But', 'CONJ'), ('now', 'ADV'), (',', '.'), ('there', 'DET'), ('seems', 'VERB'), ('*-2', 'X'), ('to', 'PRT'), ('be', 'VERB'), ('a', 'DET'), ('fairly', 'ADV'), ('systematic', 'ADJ'), ('effort', 'NOUN'), ('*', 'X'), ('to', 'PRT'), ('address', 'VERB'), ('the', 'DET'), ('problem', 'NOUN'), (',', '.'), (\"''\", '.'), ('said', 'VERB'), ('*T*-1', 'X'), ('Chuck', 'X'), ('Hurley', 'X'), (',', '.'), ('vice', 'NOUN'), ('president', 'NOUN'), ('of', 'ADP'), ('communications', 'X'), ('for', 'ADP'), ('the', 'DET'), ('Insurance', 'NOUN'), ('Institute', 'NOUN'), ('for', 'ADP'), ('Highway', 'NOUN'), ('Safety', 'NOUN'), ('.', '.'), ('Superconductors', 'X'), ('conduct', 'NOUN'), ('electricity', 'NOUN'), ('without', 'ADP'), ('resistance', 'NOUN'), ('when', 'ADV'), ('*-3', 'X'), ('cooled', 'VERB'), ('*-2', 'X'), ('*T*-1', 'X'), ('.', '.'), ('California', 'NOUN'), ('led', 'VERB'), ('the', 'DET'), ('nation', 'NOUN'), ('with', 'ADP'), ('$', '.'), ('6.5', 'NUM'), ('billion', 'NUM'), ('*U*', 'X'), ('in', 'ADP'), ('net', 'ADJ'), ('cash', 'NOUN'), ('income', 'NOUN'), ('last', 'ADJ'), ('year', 'NOUN'), (',', '.'), ('followed', 'VERB'), ('by', 'ADP'), ('Texas', 'NOUN'), (',', '.'), ('$', '.'), ('3.9', 'NUM'), ('billion', 'NUM'), ('*U*', 'X'), (';', '.'), ('Iowa', 'NOUN'), (',', '.'), ('$', '.'), ('3.4', 'X'), ('billion', 'NUM'), ('*U*', 'X'), (';', '.'), ('Florida', 'NOUN'), (',', '.'), ('$', '.'), ('3.1', 'NUM'), ('billion', 'NUM'), ('*U*', 'X'), (';', '.'), ('and', 'CONJ'), ('Minnesota', 'NOUN'), (',', '.'), ('$', '.'), ('2.7', 'NUM'), ('billion', 'NUM'), ('*U*', 'X'), ('.', '.'), ('But', 'CONJ'), ('when', 'ADV'), ('the', 'DET'), ('contract', 'NOUN'), ('reopened', 'X'), ('*T*-1', 'X'), (',', '.'), ('the', 'DET'), ('subsequent', 'X'), ('flood', 'X'), ('of', 'ADP'), ('sell', 'NOUN'), ('orders', 'NOUN'), ('that', 'ADP'), ('*T*-211', 'X'), ('quickly', 'ADV'), ('knocked', 'X'), ('the', 'DET'), ('contract', 'NOUN'), ('down', 'ADP'), ('to', 'PRT'), ('the', 'DET'), ('30-point', 'ADJ'), ('limit', 'NOUN'), ('indicated', 'VERB'), ('that', 'ADP'), ('the', 'DET'), ('intermediate', 'X'), ('limit', 'VERB'), ('of', 'ADP'), ('20', 'NUM'), ('points', 'NOUN'), ('was', 'VERB'), ('needed', 'VERB'), ('*-128', 'X'), ('*-128', 'X'), ('to', 'PRT'), ('help', 'VERB'), ('keep', 'VERB'), ('stock', 'NOUN'), ('and', 'CONJ'), ('stock-index', 'ADJ'), ('futures', 'NOUN'), ('prices', 'NOUN'), ('synchronized', 'X'), ('.', '.'), ('A', 'DET'), ('few', 'ADJ'), ('fast-food', 'NOUN'), ('outlets', 'NOUN'), ('are', 'VERB'), ('giving', 'VERB'), ('it', 'PRON'), ('a', 'DET'), ('try', 'VERB'), ('.', '.'), ('To', 'PRT'), ('that', 'DET'), ('end', 'NOUN'), (',', '.'), ('American', 'NOUN'), ('Express', 'NOUN'), ('has', 'VERB'), ('been', 'VERB'), ('signing', 'VERB'), ('up', 'ADV'), ('gasoline', 'NOUN'), ('companies', 'NOUN'), (',', '.'), ('car', 'NOUN'), ('repair', 'NOUN'), ('shops', 'NOUN'), (',', '.'), ('tire', 'NOUN'), ('companies', 'NOUN'), ('and', 'CONJ'), ('car', 'NOUN'), ('dealers', 'NOUN'), ('*-1', 'X'), ('to', 'PRT'), ('accept', 'VERB'), ('the', 'DET'), ('card', 'NOUN'), ('.', '.'), ('Yet', 'CONJ'), ('many', 'ADJ'), ('such', 'ADJ'), ('managers', 'NOUN'), ('consistently', 'ADV'), ('fail', 'VERB'), ('*-2', 'X'), ('to', 'PRT'), ('even', 'ADV'), ('keep', 'VERB'), ('up', 'ADV'), ('with', 'ADP'), ('*RNR*-1', 'X'), (',', '.'), ('much', 'ADV'), ('less', 'ADJ'), ('beat', 'VERB'), ('*RNR*-1', 'X'), (',', '.'), ('the', 'DET'), ('returns', 'NOUN'), ('of', 'ADP'), ('standard', 'ADJ'), ('benchmarks', 'X'), ('like', 'ADP'), ('the', 'DET'), ('S&P', 'NOUN'), ('However', 'ADV'), (',', '.'), ('after', 'ADP'), ('two', 'NUM'), ('meetings', 'NOUN'), ('with', 'ADP'), ('the', 'DET'), ('Soviets', 'NOUN'), (',', '.'), ('a', 'DET'), ('State', 'NOUN'), ('Department', 'NOUN'), ('spokesman', 'NOUN'), ('said', 'VERB'), ('that', 'ADP'), ('it', 'PRON'), ('*EXP*-1', 'X'), (\"'s\", 'PRT'), ('``', '.'), ('too', 'ADV'), ('early', 'ADJ'), ('*', 'X'), ('to', 'PRT'), ('say', 'VERB'), (\"''\", '.'), ('whether', 'ADP'), ('that', 'DET'), ('will', 'VERB'), ('happen', 'VERB'), ('.', '.'), ('*-1', 'X'), ('To', 'PRT'), ('offset', 'VERB'), ('the', 'DET'), ('reduction', 'NOUN'), (',', '.'), ('Congress', 'NOUN'), ('approved', 'VERB'), ('a', 'DET'), ('$', '.'), ('20,000', 'NUM'), ('*U*', 'X'), ('fee', 'NOUN'), ('that', 'ADP'), ('investors', 'NOUN'), ('and', 'CONJ'), ('companies', 'NOUN'), ('will', 'VERB'), ('have', 'VERB'), ('*-3', 'X'), ('to', 'PRT'), ('pay', 'VERB'), ('*T*-2', 'X'), ('each', 'DET'), ('time', 'NOUN'), ('0', 'X'), ('they', 'PRON'), ('make', 'VERB'), ('required', 'VERB'), ('filings', 'NOUN'), ('to', 'PRT'), ('antitrust', 'ADJ'), ('regulators', 'NOUN'), ('about', 'ADP'), ('mergers', 'NOUN'), (',', '.'), ('acquisitions', 'NOUN'), ('and', 'CONJ'), ('certain', 'ADJ'), ('other', 'ADJ'), ('transactions', 'NOUN'), ('*T*-4', 'X'), ('.', '.'), ('New', 'NOUN'), ('York-based', 'NOUN'), ('Alleghany', 'NOUN'), ('is', 'VERB'), ('an', 'DET'), ('insurance', 'NOUN'), ('and', 'CONJ'), ('financial', 'ADJ'), ('services', 'NOUN'), ('concern', 'NOUN'), ('.', '.'), ('Valley', 'NOUN'), ('Federal', 'NOUN'), ('also', 'ADV'), ('added', 'VERB'), ('$', '.'), ('18', 'NUM'), ('million', 'NUM'), ('*U*', 'X'), ('to', 'PRT'), ('realestate', 'X'), ('loan', 'NOUN'), ('reserves', 'NOUN'), ('and', 'CONJ'), ('eliminated', 'VERB'), ('$', '.'), ('9.9', 'NUM'), ('million', 'NUM'), ('*U*', 'X'), ('of', 'ADP'), ('good', 'ADJ'), ('will', 'VERB'), ('.', '.'), ('The', 'DET'), ('announced', 'VERB'), ('sale', 'NOUN'), ('of', 'ADP'), ('the', 'DET'), ('reserves', 'NOUN'), ('was', 'VERB'), ('followed', 'VERB'), ('*-1', 'X'), ('by', 'ADP'), ('news', 'NOUN'), ('that', 'ADP'), ('investor', 'NOUN'), ('Carl', 'NOUN'), ('Icahn', 'NOUN'), ('had', 'VERB'), ('increased', 'VERB'), ('his', 'PRON'), ('stake', 'NOUN'), ('in', 'ADP'), ('USX', 'NOUN'), ('to', 'PRT'), ('13.1', 'X'), ('%', 'NOUN'), ('and', 'CONJ'), ('threatened', 'VERB'), ('a', 'DET'), ('takeover', 'NOUN'), ('or', 'CONJ'), ('other', 'ADJ'), ('business', 'NOUN'), ('combination', 'NOUN'), ('.', '.'), ('A', 'DET'), ('licensing', 'X'), ('company', 'NOUN'), ('representing', 'VERB'), ('the', 'DET'), ('University', 'NOUN'), ('of', 'ADP'), ('Pennsylvania', 'NOUN'), ('added', 'VERB'), ('Johnson', 'NOUN'), ('&', 'CONJ'), ('Johnson', 'NOUN'), ('to', 'PRT'), ('its', 'PRON'), ('lawsuit', 'NOUN'), ('challenging', 'X'), ('a', 'DET'), ('university', 'NOUN'), ('faculty', 'NOUN'), ('member', 'NOUN'), ('over', 'ADP'), ('rights', 'NOUN'), ('to', 'PRT'), ('Retin-A', 'NOUN'), ('acne', 'NOUN'), ('medicine', 'NOUN'), ('.', '.'), ('Under', 'ADP'), ('an', 'DET'), ('accord', 'NOUN'), ('signed', 'VERB'), ('*', 'X'), ('yesterday', 'NOUN'), (',', '.'), ('the', 'DET'), ('government', 'NOUN'), ('and', 'CONJ'), ('Union', 'NOUN'), ('Bank', 'NOUN'), ('of', 'ADP'), ('Finland', 'NOUN'), ('would', 'VERB'), ('become', 'VERB'), ('major', 'ADJ'), ('shareholders', 'NOUN'), ('in', 'ADP'), ('the', 'DET'), ('new', 'ADJ'), ('company', 'NOUN'), (',', '.'), ('each', 'DET'), ('injecting', 'X'), ('100', 'NUM'), ('million', 'NUM'), ('Finnish', 'ADJ'), ('markkaa', 'NOUN'), ('-LRB-', '.'), ('$', '.'), ('23.5', 'NUM'), ('million', 'NUM'), ('*U*', 'X'), ('-RRB-', '.'), ('.', '.'), ('A', 'DET'), ('licensing', 'X'), ('company', 'NOUN'), ('representing', 'VERB'), ('the', 'DET'), ('University', 'NOUN'), ('of', 'ADP'), ('Pennsylvania', 'NOUN'), ('added', 'VERB'), ('Johnson', 'NOUN'), ('&', 'CONJ'), ('Johnson', 'NOUN'), ('to', 'PRT'), ('its', 'PRON'), ('lawsuit', 'NOUN'), ('challenging', 'X'), ('a', 'DET'), ('university', 'NOUN'), ('faculty', 'NOUN'), ('member', 'NOUN'), ('over', 'ADP'), ('rights', 'NOUN'), ('to', 'PRT'), ('Retin-A', 'NOUN'), ('acne', 'NOUN'), ('medicine', 'NOUN'), ('.', '.'), ('The', 'DET'), ('October', 'NOUN'), ('survey', 'NOUN'), ('of', 'ADP'), ('corporate', 'ADJ'), ('purchasing', 'NOUN'), ('managers', 'NOUN'), (',', '.'), ('as', 'ADP'), ('*', 'X'), ('expected', 'VERB'), (',', '.'), ('provided', 'VERB'), ('evidence', 'NOUN'), ('that', 'ADP'), ('economic', 'ADJ'), ('growth', 'NOUN'), ('remains', 'VERB'), ('subdued', 'X'), ('.', '.'), ('As', 'ADP'), ('for', 'ADP'), ('the', 'DET'), ('findings', 'NOUN'), ('on', 'ADP'), ('the', 'DET'), ('203', 'NUM'), ('Baltimore', 'NOUN'), ('homeless', 'NOUN'), ('who', 'PRON'), ('*T*-18', 'X'), ('underwent', 'VERB'), ('psychiatric', 'ADJ'), ('examinations', 'X'), (',', '.'), ('I', 'PRON'), ('suggest', 'VERB'), ('0', 'X'), ('you', 'PRON'), ('conduct', 'NOUN'), ('your', 'PRON'), ('own', 'ADJ'), ('survey', 'NOUN'), ('.', '.'), ('Its', 'PRON'), ('subsidiaries', 'NOUN'), (\"'\", 'PRT'), ('services', 'NOUN'), ('are', 'VERB'), ('marketed', 'VERB'), ('*-1', 'X'), ('by', 'ADP'), ('closely', 'ADV'), ('held', 'VERB'), ('A.L.', 'NOUN'), ('Williams', 'NOUN'), ('&', 'CONJ'), ('Associates', 'NOUN'), ('.', '.'), ('Several', 'ADJ'), ('years', 'NOUN'), ('ago', 'ADP'), ('he', 'PRON'), ('gave', 'VERB'), ('up', 'ADV'), ('*-3', 'X'), ('trying', 'VERB'), ('*-1', 'X'), ('to', 'PRT'), ('persuade', 'VERB'), ('Miami', 'NOUN'), ('*-2', 'X'), ('to', 'PRT'), ('improve', 'VERB'), ('its', 'PRON'), ('city-owned', 'X'), ('Orange', 'NOUN'), ('Bowl', 'X'), (',', '.'), ('and', 'CONJ'), ('instead', 'ADV'), ('built', 'VERB'), ('his', 'PRON'), ('own', 'ADJ'), ('$', '.'), ('100', 'NUM'), ('million', 'NUM'), ('*U*', 'X'), ('coliseum', 'X'), ('with', 'ADP'), ('private', 'ADJ'), ('funds', 'NOUN'), ('.', '.'), ('The', 'DET'), ('legislation', 'NOUN'), ('itself', 'PRON'), ('noted', 'VERB'), ('that', 'ADP'), ('it', 'PRON'), ('was', 'VERB'), ('introduced', 'VERB'), ('*-1', 'X'), ('``', '.'), ('by', 'ADP'), ('request', 'NOUN'), (',', '.'), (\"''\", '.'), ('and', 'CONJ'), ('in', 'ADP'), ('1983', 'NUM'), ('Mr.', 'NOUN'), ('Wilder', 'NOUN'), ('introduced', 'VERB'), ('a', 'DET'), ('bill', 'NOUN'), ('0', 'X'), ('*T*-2', 'X'), ('to', 'PRT'), ('protect', 'VERB'), ('rape', 'NOUN'), ('victims', 'NOUN'), ('from', 'ADP'), ('unfounded', 'X'), ('interrogation', 'X'), ('.', '.')]\n"
     ]
    }
   ],
   "source": [
    "print(tagged_seq)\n",
    "#print(test_run_base)"
   ]
  },
  {
   "cell_type": "code",
   "execution_count": 25,
   "metadata": {},
   "outputs": [
    {
     "name": "stdout",
     "output_type": "stream",
     "text": [
      "0.9285714285714286\n"
     ]
    }
   ],
   "source": [
    "# accuracy\n",
    "def checkAccuracy(taggedWords, correctlyTaggedTestRun):\n",
    "    check = [i for i, j in zip(taggedWords, correctlyTaggedTestRun) if i == j]\n",
    "    accuracy = len(check)/len(taggedWords)\n",
    "    return accuracy\n",
    "\n",
    "plainViterbiAccuracy = checkAccuracy(tagged_seq, test_run_base)\n",
    "print(plainViterbiAccuracy)"
   ]
  },
  {
   "cell_type": "code",
   "execution_count": 26,
   "metadata": {},
   "outputs": [
    {
     "name": "stdout",
     "output_type": "stream",
     "text": [
      "[(('``', '.'), ('``', '.')), (('But', 'CONJ'), ('But', 'CONJ')), (('now', 'ADV'), ('now', 'ADV')), ((',', '.'), (',', '.')), (('there', 'DET'), ('there', 'DET')), (('seems', 'VERB'), ('seems', 'VERB')), (('*-2', 'X'), ('*-2', 'X')), (('to', 'PRT'), ('to', 'PRT')), (('be', 'VERB'), ('be', 'VERB')), (('a', 'DET'), ('a', 'DET')), (('fairly', 'ADV'), ('fairly', 'ADV')), (('systematic', 'ADJ'), ('systematic', 'ADJ')), (('effort', 'NOUN'), ('effort', 'NOUN')), (('*', 'X'), ('*', 'X')), (('to', 'PRT'), ('to', 'PRT')), (('address', 'VERB'), ('address', 'VERB')), (('the', 'DET'), ('the', 'DET')), (('problem', 'NOUN'), ('problem', 'NOUN')), ((',', '.'), (',', '.')), ((\"''\", '.'), (\"''\", '.')), (('said', 'VERB'), ('said', 'VERB')), (('*T*-1', 'X'), ('*T*-1', 'X')), (('Chuck', 'X'), ('Chuck', 'NOUN')), (('Hurley', 'X'), ('Hurley', 'NOUN')), ((',', '.'), (',', '.')), (('vice', 'NOUN'), ('vice', 'NOUN')), (('president', 'NOUN'), ('president', 'NOUN')), (('of', 'ADP'), ('of', 'ADP')), (('communications', 'X'), ('communications', 'NOUN')), (('for', 'ADP'), ('for', 'ADP')), (('the', 'DET'), ('the', 'DET')), (('Insurance', 'NOUN'), ('Insurance', 'NOUN')), (('Institute', 'NOUN'), ('Institute', 'NOUN')), (('for', 'ADP'), ('for', 'ADP')), (('Highway', 'NOUN'), ('Highway', 'NOUN')), (('Safety', 'NOUN'), ('Safety', 'NOUN')), (('.', '.'), ('.', '.')), (('Superconductors', 'X'), ('Superconductors', 'NOUN')), (('conduct', 'NOUN'), ('conduct', 'VERB')), (('electricity', 'NOUN'), ('electricity', 'NOUN')), (('without', 'ADP'), ('without', 'ADP')), (('resistance', 'NOUN'), ('resistance', 'NOUN')), (('when', 'ADV'), ('when', 'ADV')), (('*-3', 'X'), ('*-3', 'X')), (('cooled', 'VERB'), ('cooled', 'VERB')), (('*-2', 'X'), ('*-2', 'X')), (('*T*-1', 'X'), ('*T*-1', 'X')), (('.', '.'), ('.', '.')), (('California', 'NOUN'), ('California', 'NOUN')), (('led', 'VERB'), ('led', 'VERB')), (('the', 'DET'), ('the', 'DET')), (('nation', 'NOUN'), ('nation', 'NOUN')), (('with', 'ADP'), ('with', 'ADP')), (('$', '.'), ('$', '.')), (('6.5', 'NUM'), ('6.5', 'NUM')), (('billion', 'NUM'), ('billion', 'NUM')), (('*U*', 'X'), ('*U*', 'X')), (('in', 'ADP'), ('in', 'ADP')), (('net', 'ADJ'), ('net', 'ADJ')), (('cash', 'NOUN'), ('cash', 'NOUN')), (('income', 'NOUN'), ('income', 'NOUN')), (('last', 'ADJ'), ('last', 'ADJ')), (('year', 'NOUN'), ('year', 'NOUN')), ((',', '.'), (',', '.')), (('followed', 'VERB'), ('followed', 'VERB')), (('by', 'ADP'), ('by', 'ADP')), (('Texas', 'NOUN'), ('Texas', 'NOUN')), ((',', '.'), (',', '.')), (('$', '.'), ('$', '.')), (('3.9', 'NUM'), ('3.9', 'NUM')), (('billion', 'NUM'), ('billion', 'NUM')), (('*U*', 'X'), ('*U*', 'X')), ((';', '.'), (';', '.')), (('Iowa', 'NOUN'), ('Iowa', 'NOUN')), ((',', '.'), (',', '.')), (('$', '.'), ('$', '.')), (('3.4', 'X'), ('3.4', 'NUM')), (('billion', 'NUM'), ('billion', 'NUM')), (('*U*', 'X'), ('*U*', 'X')), ((';', '.'), (';', '.')), (('Florida', 'NOUN'), ('Florida', 'NOUN')), ((',', '.'), (',', '.')), (('$', '.'), ('$', '.')), (('3.1', 'NUM'), ('3.1', 'NUM')), (('billion', 'NUM'), ('billion', 'NUM')), (('*U*', 'X'), ('*U*', 'X')), ((';', '.'), (';', '.')), (('and', 'CONJ'), ('and', 'CONJ')), (('Minnesota', 'NOUN'), ('Minnesota', 'NOUN')), ((',', '.'), (',', '.')), (('$', '.'), ('$', '.')), (('2.7', 'NUM'), ('2.7', 'NUM')), (('billion', 'NUM'), ('billion', 'NUM')), (('*U*', 'X'), ('*U*', 'X')), (('.', '.'), ('.', '.')), (('But', 'CONJ'), ('But', 'CONJ')), (('when', 'ADV'), ('when', 'ADV')), (('the', 'DET'), ('the', 'DET')), (('contract', 'NOUN'), ('contract', 'NOUN')), (('reopened', 'X'), ('reopened', 'VERB')), (('*T*-1', 'X'), ('*T*-1', 'X')), ((',', '.'), (',', '.')), (('the', 'DET'), ('the', 'DET')), (('subsequent', 'X'), ('subsequent', 'ADJ')), (('flood', 'X'), ('flood', 'NOUN')), (('of', 'ADP'), ('of', 'ADP')), (('sell', 'NOUN'), ('sell', 'NOUN')), (('orders', 'NOUN'), ('orders', 'NOUN')), (('that', 'ADP'), ('that', 'DET')), (('*T*-211', 'X'), ('*T*-211', 'X')), (('quickly', 'ADV'), ('quickly', 'ADV')), (('knocked', 'X'), ('knocked', 'VERB')), (('the', 'DET'), ('the', 'DET')), (('contract', 'NOUN'), ('contract', 'NOUN')), (('down', 'ADP'), ('down', 'PRT')), (('to', 'PRT'), ('to', 'PRT')), (('the', 'DET'), ('the', 'DET')), (('30-point', 'ADJ'), ('30-point', 'ADJ')), (('limit', 'NOUN'), ('limit', 'NOUN')), (('indicated', 'VERB'), ('indicated', 'VERB')), (('that', 'ADP'), ('that', 'ADP')), (('the', 'DET'), ('the', 'DET')), (('intermediate', 'X'), ('intermediate', 'ADJ')), (('limit', 'VERB'), ('limit', 'NOUN')), (('of', 'ADP'), ('of', 'ADP')), (('20', 'NUM'), ('20', 'NUM')), (('points', 'NOUN'), ('points', 'NOUN')), (('was', 'VERB'), ('was', 'VERB')), (('needed', 'VERB'), ('needed', 'VERB')), (('*-128', 'X'), ('*-128', 'X')), (('*-128', 'X'), ('*-128', 'X')), (('to', 'PRT'), ('to', 'PRT')), (('help', 'VERB'), ('help', 'VERB')), (('keep', 'VERB'), ('keep', 'VERB')), (('stock', 'NOUN'), ('stock', 'NOUN')), (('and', 'CONJ'), ('and', 'CONJ')), (('stock-index', 'ADJ'), ('stock-index', 'ADJ')), (('futures', 'NOUN'), ('futures', 'NOUN')), (('prices', 'NOUN'), ('prices', 'NOUN')), (('synchronized', 'X'), ('synchronized', 'VERB')), (('.', '.'), ('.', '.')), (('A', 'DET'), ('A', 'DET')), (('few', 'ADJ'), ('few', 'ADJ')), (('fast-food', 'NOUN'), ('fast-food', 'NOUN')), (('outlets', 'NOUN'), ('outlets', 'NOUN')), (('are', 'VERB'), ('are', 'VERB')), (('giving', 'VERB'), ('giving', 'VERB')), (('it', 'PRON'), ('it', 'PRON')), (('a', 'DET'), ('a', 'DET')), (('try', 'VERB'), ('try', 'NOUN')), (('.', '.'), ('.', '.')), (('To', 'PRT'), ('To', 'PRT')), (('that', 'DET'), ('that', 'DET')), (('end', 'NOUN'), ('end', 'NOUN')), ((',', '.'), (',', '.')), (('American', 'NOUN'), ('American', 'NOUN')), (('Express', 'NOUN'), ('Express', 'NOUN')), (('has', 'VERB'), ('has', 'VERB')), (('been', 'VERB'), ('been', 'VERB')), (('signing', 'VERB'), ('signing', 'VERB')), (('up', 'ADV'), ('up', 'PRT')), (('gasoline', 'NOUN'), ('gasoline', 'NOUN')), (('companies', 'NOUN'), ('companies', 'NOUN')), ((',', '.'), (',', '.')), (('car', 'NOUN'), ('car', 'NOUN')), (('repair', 'NOUN'), ('repair', 'NOUN')), (('shops', 'NOUN'), ('shops', 'NOUN')), ((',', '.'), (',', '.')), (('tire', 'NOUN'), ('tire', 'NOUN')), (('companies', 'NOUN'), ('companies', 'NOUN')), (('and', 'CONJ'), ('and', 'CONJ')), (('car', 'NOUN'), ('car', 'NOUN')), (('dealers', 'NOUN'), ('dealers', 'NOUN')), (('*-1', 'X'), ('*-1', 'X')), (('to', 'PRT'), ('to', 'PRT')), (('accept', 'VERB'), ('accept', 'VERB')), (('the', 'DET'), ('the', 'DET')), (('card', 'NOUN'), ('card', 'NOUN')), (('.', '.'), ('.', '.')), (('Yet', 'CONJ'), ('Yet', 'CONJ')), (('many', 'ADJ'), ('many', 'ADJ')), (('such', 'ADJ'), ('such', 'ADJ')), (('managers', 'NOUN'), ('managers', 'NOUN')), (('consistently', 'ADV'), ('consistently', 'ADV')), (('fail', 'VERB'), ('fail', 'VERB')), (('*-2', 'X'), ('*-2', 'X')), (('to', 'PRT'), ('to', 'PRT')), (('even', 'ADV'), ('even', 'ADV')), (('keep', 'VERB'), ('keep', 'VERB')), (('up', 'ADV'), ('up', 'PRT')), (('with', 'ADP'), ('with', 'ADP')), (('*RNR*-1', 'X'), ('*RNR*-1', 'X')), ((',', '.'), (',', '.')), (('much', 'ADV'), ('much', 'ADV')), (('less', 'ADJ'), ('less', 'ADJ')), (('beat', 'VERB'), ('beat', 'VERB')), (('*RNR*-1', 'X'), ('*RNR*-1', 'X')), ((',', '.'), (',', '.')), (('the', 'DET'), ('the', 'DET')), (('returns', 'NOUN'), ('returns', 'NOUN')), (('of', 'ADP'), ('of', 'ADP')), (('standard', 'ADJ'), ('standard', 'ADJ')), (('benchmarks', 'X'), ('benchmarks', 'NOUN')), (('like', 'ADP'), ('like', 'ADP')), (('the', 'DET'), ('the', 'DET')), (('S&P', 'NOUN'), ('S&P', 'NOUN')), (('However', 'ADV'), ('However', 'ADV')), ((',', '.'), (',', '.')), (('after', 'ADP'), ('after', 'ADP')), (('two', 'NUM'), ('two', 'NUM')), (('meetings', 'NOUN'), ('meetings', 'NOUN')), (('with', 'ADP'), ('with', 'ADP')), (('the', 'DET'), ('the', 'DET')), (('Soviets', 'NOUN'), ('Soviets', 'NOUN')), ((',', '.'), (',', '.')), (('a', 'DET'), ('a', 'DET')), (('State', 'NOUN'), ('State', 'NOUN')), (('Department', 'NOUN'), ('Department', 'NOUN')), (('spokesman', 'NOUN'), ('spokesman', 'NOUN')), (('said', 'VERB'), ('said', 'VERB')), (('that', 'ADP'), ('that', 'ADP')), (('it', 'PRON'), ('it', 'PRON')), (('*EXP*-1', 'X'), ('*EXP*-1', 'X')), ((\"'s\", 'PRT'), (\"'s\", 'VERB')), (('``', '.'), ('``', '.')), (('too', 'ADV'), ('too', 'ADV')), (('early', 'ADJ'), ('early', 'ADV')), (('*', 'X'), ('*', 'X')), (('to', 'PRT'), ('to', 'PRT')), (('say', 'VERB'), ('say', 'VERB')), ((\"''\", '.'), (\"''\", '.')), (('whether', 'ADP'), ('whether', 'ADP')), (('that', 'DET'), ('that', 'DET')), (('will', 'VERB'), ('will', 'VERB')), (('happen', 'VERB'), ('happen', 'VERB')), (('.', '.'), ('.', '.')), (('*-1', 'X'), ('*-1', 'X')), (('To', 'PRT'), ('To', 'PRT')), (('offset', 'VERB'), ('offset', 'VERB')), (('the', 'DET'), ('the', 'DET')), (('reduction', 'NOUN'), ('reduction', 'NOUN')), ((',', '.'), (',', '.')), (('Congress', 'NOUN'), ('Congress', 'NOUN')), (('approved', 'VERB'), ('approved', 'VERB')), (('a', 'DET'), ('a', 'DET')), (('$', '.'), ('$', '.')), (('20,000', 'NUM'), ('20,000', 'NUM')), (('*U*', 'X'), ('*U*', 'X')), (('fee', 'NOUN'), ('fee', 'NOUN')), (('that', 'ADP'), ('that', 'ADP')), (('investors', 'NOUN'), ('investors', 'NOUN')), (('and', 'CONJ'), ('and', 'CONJ')), (('companies', 'NOUN'), ('companies', 'NOUN')), (('will', 'VERB'), ('will', 'VERB')), (('have', 'VERB'), ('have', 'VERB')), (('*-3', 'X'), ('*-3', 'X')), (('to', 'PRT'), ('to', 'PRT')), (('pay', 'VERB'), ('pay', 'VERB')), (('*T*-2', 'X'), ('*T*-2', 'X')), (('each', 'DET'), ('each', 'DET')), (('time', 'NOUN'), ('time', 'NOUN')), (('0', 'X'), ('0', 'X')), (('they', 'PRON'), ('they', 'PRON')), (('make', 'VERB'), ('make', 'VERB')), (('required', 'VERB'), ('required', 'VERB')), (('filings', 'NOUN'), ('filings', 'NOUN')), (('to', 'PRT'), ('to', 'PRT')), (('antitrust', 'ADJ'), ('antitrust', 'ADJ')), (('regulators', 'NOUN'), ('regulators', 'NOUN')), (('about', 'ADP'), ('about', 'ADP')), (('mergers', 'NOUN'), ('mergers', 'NOUN')), ((',', '.'), (',', '.')), (('acquisitions', 'NOUN'), ('acquisitions', 'NOUN')), (('and', 'CONJ'), ('and', 'CONJ')), (('certain', 'ADJ'), ('certain', 'ADJ')), (('other', 'ADJ'), ('other', 'ADJ')), (('transactions', 'NOUN'), ('transactions', 'NOUN')), (('*T*-4', 'X'), ('*T*-4', 'X')), (('.', '.'), ('.', '.')), (('New', 'NOUN'), ('New', 'NOUN')), (('York-based', 'NOUN'), ('York-based', 'ADJ')), (('Alleghany', 'NOUN'), ('Alleghany', 'NOUN')), (('is', 'VERB'), ('is', 'VERB')), (('an', 'DET'), ('an', 'DET')), (('insurance', 'NOUN'), ('insurance', 'NOUN')), (('and', 'CONJ'), ('and', 'CONJ')), (('financial', 'ADJ'), ('financial', 'ADJ')), (('services', 'NOUN'), ('services', 'NOUN')), (('concern', 'NOUN'), ('concern', 'NOUN')), (('.', '.'), ('.', '.')), (('Valley', 'NOUN'), ('Valley', 'NOUN')), (('Federal', 'NOUN'), ('Federal', 'NOUN')), (('also', 'ADV'), ('also', 'ADV')), (('added', 'VERB'), ('added', 'VERB')), (('$', '.'), ('$', '.')), (('18', 'NUM'), ('18', 'NUM')), (('million', 'NUM'), ('million', 'NUM')), (('*U*', 'X'), ('*U*', 'X')), (('to', 'PRT'), ('to', 'PRT')), (('realestate', 'X'), ('realestate', 'VERB')), (('loan', 'NOUN'), ('loan', 'NOUN')), (('reserves', 'NOUN'), ('reserves', 'NOUN')), (('and', 'CONJ'), ('and', 'CONJ')), (('eliminated', 'VERB'), ('eliminated', 'VERB')), (('$', '.'), ('$', '.')), (('9.9', 'NUM'), ('9.9', 'NUM')), (('million', 'NUM'), ('million', 'NUM')), (('*U*', 'X'), ('*U*', 'X')), (('of', 'ADP'), ('of', 'ADP')), (('good', 'ADJ'), ('good', 'ADJ')), (('will', 'VERB'), ('will', 'NOUN')), (('.', '.'), ('.', '.')), (('The', 'DET'), ('The', 'DET')), (('announced', 'VERB'), ('announced', 'VERB')), (('sale', 'NOUN'), ('sale', 'NOUN')), (('of', 'ADP'), ('of', 'ADP')), (('the', 'DET'), ('the', 'DET')), (('reserves', 'NOUN'), ('reserves', 'NOUN')), (('was', 'VERB'), ('was', 'VERB')), (('followed', 'VERB'), ('followed', 'VERB')), (('*-1', 'X'), ('*-1', 'X')), (('by', 'ADP'), ('by', 'ADP')), (('news', 'NOUN'), ('news', 'NOUN')), (('that', 'ADP'), ('that', 'ADP')), (('investor', 'NOUN'), ('investor', 'NOUN')), (('Carl', 'NOUN'), ('Carl', 'NOUN')), (('Icahn', 'NOUN'), ('Icahn', 'NOUN')), (('had', 'VERB'), ('had', 'VERB')), (('increased', 'VERB'), ('increased', 'VERB')), (('his', 'PRON'), ('his', 'PRON')), (('stake', 'NOUN'), ('stake', 'NOUN')), (('in', 'ADP'), ('in', 'ADP')), (('USX', 'NOUN'), ('USX', 'NOUN')), (('to', 'PRT'), ('to', 'PRT')), (('13.1', 'X'), ('13.1', 'NUM')), (('%', 'NOUN'), ('%', 'NOUN')), (('and', 'CONJ'), ('and', 'CONJ')), (('threatened', 'VERB'), ('threatened', 'VERB')), (('a', 'DET'), ('a', 'DET')), (('takeover', 'NOUN'), ('takeover', 'NOUN')), (('or', 'CONJ'), ('or', 'CONJ')), (('other', 'ADJ'), ('other', 'ADJ')), (('business', 'NOUN'), ('business', 'NOUN')), (('combination', 'NOUN'), ('combination', 'NOUN')), (('.', '.'), ('.', '.')), (('A', 'DET'), ('A', 'DET')), (('licensing', 'X'), ('licensing', 'NOUN')), (('company', 'NOUN'), ('company', 'NOUN')), (('representing', 'VERB'), ('representing', 'VERB')), (('the', 'DET'), ('the', 'DET')), (('University', 'NOUN'), ('University', 'NOUN')), (('of', 'ADP'), ('of', 'ADP')), (('Pennsylvania', 'NOUN'), ('Pennsylvania', 'NOUN')), (('added', 'VERB'), ('added', 'VERB')), (('Johnson', 'NOUN'), ('Johnson', 'NOUN')), (('&', 'CONJ'), ('&', 'CONJ')), (('Johnson', 'NOUN'), ('Johnson', 'NOUN')), (('to', 'PRT'), ('to', 'PRT')), (('its', 'PRON'), ('its', 'PRON')), (('lawsuit', 'NOUN'), ('lawsuit', 'NOUN')), (('challenging', 'X'), ('challenging', 'VERB')), (('a', 'DET'), ('a', 'DET')), (('university', 'NOUN'), ('university', 'NOUN')), (('faculty', 'NOUN'), ('faculty', 'NOUN')), (('member', 'NOUN'), ('member', 'NOUN')), (('over', 'ADP'), ('over', 'ADP')), (('rights', 'NOUN'), ('rights', 'NOUN')), (('to', 'PRT'), ('to', 'PRT')), (('Retin-A', 'NOUN'), ('Retin-A', 'NOUN')), (('acne', 'NOUN'), ('acne', 'NOUN')), (('medicine', 'NOUN'), ('medicine', 'NOUN')), (('.', '.'), ('.', '.')), (('Under', 'ADP'), ('Under', 'ADP')), (('an', 'DET'), ('an', 'DET')), (('accord', 'NOUN'), ('accord', 'NOUN')), (('signed', 'VERB'), ('signed', 'VERB')), (('*', 'X'), ('*', 'X')), (('yesterday', 'NOUN'), ('yesterday', 'NOUN')), ((',', '.'), (',', '.')), (('the', 'DET'), ('the', 'DET')), (('government', 'NOUN'), ('government', 'NOUN')), (('and', 'CONJ'), ('and', 'CONJ')), (('Union', 'NOUN'), ('Union', 'NOUN')), (('Bank', 'NOUN'), ('Bank', 'NOUN')), (('of', 'ADP'), ('of', 'ADP')), (('Finland', 'NOUN'), ('Finland', 'NOUN')), (('would', 'VERB'), ('would', 'VERB')), (('become', 'VERB'), ('become', 'VERB')), (('major', 'ADJ'), ('major', 'ADJ')), (('shareholders', 'NOUN'), ('shareholders', 'NOUN')), (('in', 'ADP'), ('in', 'ADP')), (('the', 'DET'), ('the', 'DET')), (('new', 'ADJ'), ('new', 'ADJ')), (('company', 'NOUN'), ('company', 'NOUN')), ((',', '.'), (',', '.')), (('each', 'DET'), ('each', 'DET')), (('injecting', 'X'), ('injecting', 'VERB')), (('100', 'NUM'), ('100', 'NUM')), (('million', 'NUM'), ('million', 'NUM')), (('Finnish', 'ADJ'), ('Finnish', 'ADJ')), (('markkaa', 'NOUN'), ('markkaa', 'NOUN')), (('-LRB-', '.'), ('-LRB-', '.')), (('$', '.'), ('$', '.')), (('23.5', 'NUM'), ('23.5', 'NUM')), (('million', 'NUM'), ('million', 'NUM')), (('*U*', 'X'), ('*U*', 'X')), (('-RRB-', '.'), ('-RRB-', '.')), (('.', '.'), ('.', '.')), (('A', 'DET'), ('A', 'DET')), (('licensing', 'X'), ('licensing', 'NOUN')), (('company', 'NOUN'), ('company', 'NOUN')), (('representing', 'VERB'), ('representing', 'VERB')), (('the', 'DET'), ('the', 'DET')), (('University', 'NOUN'), ('University', 'NOUN')), (('of', 'ADP'), ('of', 'ADP')), (('Pennsylvania', 'NOUN'), ('Pennsylvania', 'NOUN')), (('added', 'VERB'), ('added', 'VERB')), (('Johnson', 'NOUN'), ('Johnson', 'NOUN')), (('&', 'CONJ'), ('&', 'CONJ')), (('Johnson', 'NOUN'), ('Johnson', 'NOUN')), (('to', 'PRT'), ('to', 'PRT')), (('its', 'PRON'), ('its', 'PRON')), (('lawsuit', 'NOUN'), ('lawsuit', 'NOUN')), (('challenging', 'X'), ('challenging', 'VERB')), (('a', 'DET'), ('a', 'DET')), (('university', 'NOUN'), ('university', 'NOUN')), (('faculty', 'NOUN'), ('faculty', 'NOUN')), (('member', 'NOUN'), ('member', 'NOUN')), (('over', 'ADP'), ('over', 'ADP')), (('rights', 'NOUN'), ('rights', 'NOUN')), (('to', 'PRT'), ('to', 'PRT')), (('Retin-A', 'NOUN'), ('Retin-A', 'NOUN')), (('acne', 'NOUN'), ('acne', 'NOUN')), (('medicine', 'NOUN'), ('medicine', 'NOUN')), (('.', '.'), ('.', '.')), (('The', 'DET'), ('The', 'DET')), (('October', 'NOUN'), ('October', 'NOUN')), (('survey', 'NOUN'), ('survey', 'NOUN')), (('of', 'ADP'), ('of', 'ADP')), (('corporate', 'ADJ'), ('corporate', 'ADJ')), (('purchasing', 'NOUN'), ('purchasing', 'VERB')), (('managers', 'NOUN'), ('managers', 'NOUN')), ((',', '.'), (',', '.')), (('as', 'ADP'), ('as', 'ADP')), (('*', 'X'), ('*', 'X')), (('expected', 'VERB'), ('expected', 'VERB')), ((',', '.'), (',', '.')), (('provided', 'VERB'), ('provided', 'VERB')), (('evidence', 'NOUN'), ('evidence', 'NOUN')), (('that', 'ADP'), ('that', 'ADP')), (('economic', 'ADJ'), ('economic', 'ADJ')), (('growth', 'NOUN'), ('growth', 'NOUN')), (('remains', 'VERB'), ('remains', 'VERB')), (('subdued', 'X'), ('subdued', 'VERB')), (('.', '.'), ('.', '.')), (('As', 'ADP'), ('As', 'ADP')), (('for', 'ADP'), ('for', 'ADP')), (('the', 'DET'), ('the', 'DET')), (('findings', 'NOUN'), ('findings', 'NOUN')), (('on', 'ADP'), ('on', 'ADP')), (('the', 'DET'), ('the', 'DET')), (('203', 'NUM'), ('203', 'NUM')), (('Baltimore', 'NOUN'), ('Baltimore', 'NOUN')), (('homeless', 'NOUN'), ('homeless', 'NOUN')), (('who', 'PRON'), ('who', 'PRON')), (('*T*-18', 'X'), ('*T*-18', 'X')), (('underwent', 'VERB'), ('underwent', 'VERB')), (('psychiatric', 'ADJ'), ('psychiatric', 'ADJ')), (('examinations', 'X'), ('examinations', 'NOUN')), ((',', '.'), (',', '.')), (('I', 'PRON'), ('I', 'PRON')), (('suggest', 'VERB'), ('suggest', 'VERB')), (('0', 'X'), ('0', 'X')), (('you', 'PRON'), ('you', 'PRON')), (('conduct', 'NOUN'), ('conduct', 'VERB')), (('your', 'PRON'), ('your', 'PRON')), (('own', 'ADJ'), ('own', 'ADJ')), (('survey', 'NOUN'), ('survey', 'NOUN')), (('.', '.'), ('.', '.')), (('Its', 'PRON'), ('Its', 'PRON')), (('subsidiaries', 'NOUN'), ('subsidiaries', 'NOUN')), ((\"'\", 'PRT'), (\"'\", 'PRT')), (('services', 'NOUN'), ('services', 'NOUN')), (('are', 'VERB'), ('are', 'VERB')), (('marketed', 'VERB'), ('marketed', 'VERB')), (('*-1', 'X'), ('*-1', 'X')), (('by', 'ADP'), ('by', 'ADP')), (('closely', 'ADV'), ('closely', 'ADV')), (('held', 'VERB'), ('held', 'VERB')), (('A.L.', 'NOUN'), ('A.L.', 'NOUN')), (('Williams', 'NOUN'), ('Williams', 'NOUN')), (('&', 'CONJ'), ('&', 'CONJ')), (('Associates', 'NOUN'), ('Associates', 'NOUN')), (('.', '.'), ('.', '.')), (('Several', 'ADJ'), ('Several', 'ADJ')), (('years', 'NOUN'), ('years', 'NOUN')), (('ago', 'ADP'), ('ago', 'ADP')), (('he', 'PRON'), ('he', 'PRON')), (('gave', 'VERB'), ('gave', 'VERB')), (('up', 'ADV'), ('up', 'PRT')), (('*-3', 'X'), ('*-3', 'X')), (('trying', 'VERB'), ('trying', 'VERB')), (('*-1', 'X'), ('*-1', 'X')), (('to', 'PRT'), ('to', 'PRT')), (('persuade', 'VERB'), ('persuade', 'VERB')), (('Miami', 'NOUN'), ('Miami', 'NOUN')), (('*-2', 'X'), ('*-2', 'X')), (('to', 'PRT'), ('to', 'PRT')), (('improve', 'VERB'), ('improve', 'VERB')), (('its', 'PRON'), ('its', 'PRON')), (('city-owned', 'X'), ('city-owned', 'ADJ')), (('Orange', 'NOUN'), ('Orange', 'NOUN')), (('Bowl', 'X'), ('Bowl', 'NOUN')), ((',', '.'), (',', '.')), (('and', 'CONJ'), ('and', 'CONJ')), (('instead', 'ADV'), ('instead', 'ADV')), (('built', 'VERB'), ('built', 'VERB')), (('his', 'PRON'), ('his', 'PRON')), (('own', 'ADJ'), ('own', 'ADJ')), (('$', '.'), ('$', '.')), (('100', 'NUM'), ('100', 'NUM')), (('million', 'NUM'), ('million', 'NUM')), (('*U*', 'X'), ('*U*', 'X')), (('coliseum', 'X'), ('coliseum', 'NOUN')), (('with', 'ADP'), ('with', 'ADP')), (('private', 'ADJ'), ('private', 'ADJ')), (('funds', 'NOUN'), ('funds', 'NOUN')), (('.', '.'), ('.', '.')), (('The', 'DET'), ('The', 'DET')), (('legislation', 'NOUN'), ('legislation', 'NOUN')), (('itself', 'PRON'), ('itself', 'PRON')), (('noted', 'VERB'), ('noted', 'VERB')), (('that', 'ADP'), ('that', 'ADP')), (('it', 'PRON'), ('it', 'PRON')), (('was', 'VERB'), ('was', 'VERB')), (('introduced', 'VERB'), ('introduced', 'VERB')), (('*-1', 'X'), ('*-1', 'X')), (('``', '.'), ('``', '.')), (('by', 'ADP'), ('by', 'ADP')), (('request', 'NOUN'), ('request', 'NOUN')), ((',', '.'), (',', '.')), ((\"''\", '.'), (\"''\", '.')), (('and', 'CONJ'), ('and', 'CONJ')), (('in', 'ADP'), ('in', 'ADP')), (('1983', 'NUM'), ('1983', 'NUM')), (('Mr.', 'NOUN'), ('Mr.', 'NOUN')), (('Wilder', 'NOUN'), ('Wilder', 'NOUN')), (('introduced', 'VERB'), ('introduced', 'VERB')), (('a', 'DET'), ('a', 'DET')), (('bill', 'NOUN'), ('bill', 'NOUN')), (('0', 'X'), ('0', 'X')), (('*T*-2', 'X'), ('*T*-2', 'X')), (('to', 'PRT'), ('to', 'PRT')), (('protect', 'VERB'), ('protect', 'VERB')), (('rape', 'NOUN'), ('rape', 'NOUN')), (('victims', 'NOUN'), ('victims', 'NOUN')), (('from', 'ADP'), ('from', 'ADP')), (('unfounded', 'X'), ('unfounded', 'ADJ')), (('interrogation', 'X'), ('interrogation', 'NOUN')), (('.', '.'), ('.', '.'))]\n"
     ]
    }
   ],
   "source": [
    "k = zip(tagged_seq, test_run_base)\n",
    "print(list(k))\n"
   ]
  },
  {
   "cell_type": "code",
   "execution_count": 27,
   "metadata": {},
   "outputs": [
    {
     "data": {
      "text/plain": [
       "[[('*T*-1', 'X'), (('Chuck', 'X'), ('Chuck', 'NOUN'))],\n",
       " [('Chuck', 'NOUN'), (('Hurley', 'X'), ('Hurley', 'NOUN'))],\n",
       " [('of', 'ADP'), (('communications', 'X'), ('communications', 'NOUN'))],\n",
       " [('.', '.'), (('Superconductors', 'X'), ('Superconductors', 'NOUN'))],\n",
       " [('Superconductors', 'NOUN'), (('conduct', 'NOUN'), ('conduct', 'VERB'))],\n",
       " [('$', '.'), (('3.4', 'X'), ('3.4', 'NUM'))],\n",
       " [('contract', 'NOUN'), (('reopened', 'X'), ('reopened', 'VERB'))],\n",
       " [('the', 'DET'), (('subsequent', 'X'), ('subsequent', 'ADJ'))],\n",
       " [('subsequent', 'ADJ'), (('flood', 'X'), ('flood', 'NOUN'))],\n",
       " [('orders', 'NOUN'), (('that', 'ADP'), ('that', 'DET'))],\n",
       " [('quickly', 'ADV'), (('knocked', 'X'), ('knocked', 'VERB'))],\n",
       " [('contract', 'NOUN'), (('down', 'ADP'), ('down', 'PRT'))],\n",
       " [('the', 'DET'), (('intermediate', 'X'), ('intermediate', 'ADJ'))],\n",
       " [('intermediate', 'ADJ'), (('limit', 'VERB'), ('limit', 'NOUN'))],\n",
       " [('prices', 'NOUN'), (('synchronized', 'X'), ('synchronized', 'VERB'))],\n",
       " [('a', 'DET'), (('try', 'VERB'), ('try', 'NOUN'))],\n",
       " [('signing', 'VERB'), (('up', 'ADV'), ('up', 'PRT'))],\n",
       " [('keep', 'VERB'), (('up', 'ADV'), ('up', 'PRT'))],\n",
       " [('standard', 'ADJ'), (('benchmarks', 'X'), ('benchmarks', 'NOUN'))],\n",
       " [('*EXP*-1', 'X'), ((\"'s\", 'PRT'), (\"'s\", 'VERB'))],\n",
       " [('too', 'ADV'), (('early', 'ADJ'), ('early', 'ADV'))],\n",
       " [('New', 'NOUN'), (('York-based', 'NOUN'), ('York-based', 'ADJ'))],\n",
       " [('to', 'PRT'), (('realestate', 'X'), ('realestate', 'VERB'))],\n",
       " [('good', 'ADJ'), (('will', 'VERB'), ('will', 'NOUN'))],\n",
       " [('to', 'PRT'), (('13.1', 'X'), ('13.1', 'NUM'))],\n",
       " [('A', 'DET'), (('licensing', 'X'), ('licensing', 'NOUN'))],\n",
       " [('lawsuit', 'NOUN'), (('challenging', 'X'), ('challenging', 'VERB'))],\n",
       " [('each', 'DET'), (('injecting', 'X'), ('injecting', 'VERB'))],\n",
       " [('A', 'DET'), (('licensing', 'X'), ('licensing', 'NOUN'))],\n",
       " [('lawsuit', 'NOUN'), (('challenging', 'X'), ('challenging', 'VERB'))],\n",
       " [('corporate', 'ADJ'), (('purchasing', 'NOUN'), ('purchasing', 'VERB'))],\n",
       " [('remains', 'VERB'), (('subdued', 'X'), ('subdued', 'VERB'))],\n",
       " [('psychiatric', 'ADJ'), (('examinations', 'X'), ('examinations', 'NOUN'))],\n",
       " [('you', 'PRON'), (('conduct', 'NOUN'), ('conduct', 'VERB'))],\n",
       " [('gave', 'VERB'), (('up', 'ADV'), ('up', 'PRT'))],\n",
       " [('its', 'PRON'), (('city-owned', 'X'), ('city-owned', 'ADJ'))],\n",
       " [('Orange', 'NOUN'), (('Bowl', 'X'), ('Bowl', 'NOUN'))],\n",
       " [('*U*', 'X'), (('coliseum', 'X'), ('coliseum', 'NOUN'))],\n",
       " [('from', 'ADP'), (('unfounded', 'X'), ('unfounded', 'ADJ'))],\n",
       " [('unfounded', 'ADJ'), (('interrogation', 'X'), ('interrogation', 'NOUN'))]]"
      ]
     },
     "execution_count": 27,
     "metadata": {},
     "output_type": "execute_result"
    }
   ],
   "source": [
    "def findIncorrectlyTaggedWords(taggedWords, correctlyTaggedTestData):\n",
    "    wrongTaggedWords = [[correctlyTaggedTestData[i-1],j] for i, j in enumerate(zip(taggedWords, correctlyTaggedTestData)) if j[0]!=j[1]]\n",
    "    return wrongTaggedWords\n",
    "    \n",
    "wordsWithWrongTagsWithPreviousTag = findIncorrectlyTaggedWords(tagged_seq, test_run_base)\n",
    "wordsWithWrongTagsWithPreviousTag"
   ]
  },
  {
   "cell_type": "markdown",
   "metadata": {},
   "source": [
    "### Move to test data"
   ]
  },
  {
   "cell_type": "code",
   "execution_count": 28,
   "metadata": {},
   "outputs": [
    {
     "data": {
      "text/plain": [
       "['Android is a mobile operating system developed by Google.',\n",
       " 'Android has been the best-selling OS worldwide on smartphones since 2011 and on tablets since 2013.',\n",
       " \"Google and Twitter made a deal in 2015 that gave Google access to Twitter's firehose.\",\n",
       " 'Twitter is an online news and social networking service on which users post and interact with messages known as tweets.',\n",
       " 'Before entering politics, Donald Trump was a domineering businessman and a television personality.',\n",
       " 'The 2018 FIFA World Cup is the 21st FIFA World Cup, an international football tournament contested once every four years.',\n",
       " 'This is the first World Cup to be held in Eastern Europe and the 11th time that it has been held in Europe.',\n",
       " 'Show me the cheapest round trips from Dallas to Atlanta',\n",
       " 'I would like to see flights from Denver to Philadelphia.',\n",
       " 'Show me the price of the flights leaving Atlanta at about 3 in the afternoon and arriving in San Francisco.',\n",
       " 'NASA invited social media users to experience the launch of ICESAT-2 Satellite.']"
      ]
     },
     "execution_count": 28,
     "metadata": {},
     "output_type": "execute_result"
    }
   ],
   "source": [
    "def getCleanedLinesFromTestData(file):\n",
    "    #Read the text file\n",
    "    lines = []\n",
    "    f = codecs.open(file, encoding='utf-8')\n",
    "    for line in f:\n",
    "        if line.rstrip()!='':\n",
    "            lines.append(line.rstrip())\n",
    "    return lines\n",
    "    \n",
    "test_lines = getCleanedLinesFromTestData(\"Test_sentences.txt\")\n",
    "test_lines"
   ]
  },
  {
   "cell_type": "code",
   "execution_count": 29,
   "metadata": {},
   "outputs": [
    {
     "name": "stdout",
     "output_type": "stream",
     "text": [
      "**** All words from test lines ****\n",
      " ['Android', 'is', 'a', 'mobile', 'operating', 'system', 'developed', 'by', 'Google', '.', 'Android', 'has', 'been', 'the', 'best-selling', 'OS', 'worldwide', 'on', 'smartphones', 'since', '2011', 'and', 'on', 'tablets', 'since', '2013', '.', 'Google', 'and', 'Twitter', 'made', 'a', 'deal', 'in', '2015', 'that', 'gave', 'Google', 'access', 'to', 'Twitter', \"'s\", 'firehose', '.', 'Twitter', 'is', 'an', 'online', 'news', 'and', 'social', 'networking', 'service', 'on', 'which', 'users', 'post', 'and', 'interact', 'with', 'messages', 'known', 'as', 'tweets', '.', 'Before', 'entering', 'politics', ',', 'Donald', 'Trump', 'was', 'a', 'domineering', 'businessman', 'and', 'a', 'television', 'personality', '.', 'The', '2018', 'FIFA', 'World', 'Cup', 'is', 'the', '21st', 'FIFA', 'World', 'Cup', ',', 'an', 'international', 'football', 'tournament', 'contested', 'once', 'every', 'four', 'years', '.', 'This', 'is', 'the', 'first', 'World', 'Cup', 'to', 'be', 'held', 'in', 'Eastern', 'Europe', 'and', 'the', '11th', 'time', 'that', 'it', 'has', 'been', 'held', 'in', 'Europe', '.', 'Show', 'me', 'the', 'cheapest', 'round', 'trips', 'from', 'Dallas', 'to', 'Atlanta', 'I', 'would', 'like', 'to', 'see', 'flights', 'from', 'Denver', 'to', 'Philadelphia', '.', 'Show', 'me', 'the', 'price', 'of', 'the', 'flights', 'leaving', 'Atlanta', 'at', 'about', '3', 'in', 'the', 'afternoon', 'and', 'arriving', 'in', 'San', 'Francisco', '.', 'NASA', 'invited', 'social', 'media', 'users', 'to', 'experience', 'the', 'launch', 'of', 'ICESAT-2', 'Satellite', '.']\n"
     ]
    }
   ],
   "source": [
    "def getWordsFromLines(lines):\n",
    "    words = []\n",
    "    for line in lines:\n",
    "        words.extend(word_tokenize(line))\n",
    "    return words\n",
    "\n",
    "words_from_test_lines = getWordsFromLines(test_lines)\n",
    "print(\"**** All words from test lines ****\\n\", words_from_test_lines)"
   ]
  },
  {
   "cell_type": "code",
   "execution_count": 30,
   "metadata": {},
   "outputs": [
    {
     "name": "stdout",
     "output_type": "stream",
     "text": [
      "***Time taken to tag****  70.50857615470886\n",
      "****Words and tags from plain Viterbi*****\n",
      " [('Android', 'X'), ('is', 'VERB'), ('a', 'DET'), ('mobile', 'ADJ'), ('operating', 'NOUN'), ('system', 'NOUN'), ('developed', 'VERB'), ('by', 'ADP'), ('Google', 'X'), ('.', '.'), ('Android', 'X'), ('has', 'VERB'), ('been', 'VERB'), ('the', 'DET'), ('best-selling', 'ADJ'), ('OS', 'X'), ('worldwide', 'X'), ('on', 'ADP'), ('smartphones', 'X'), ('since', 'ADP'), ('2011', 'X'), ('and', 'CONJ'), ('on', 'ADP'), ('tablets', 'NOUN'), ('since', 'ADP'), ('2013', 'X'), ('.', '.'), ('Google', 'X'), ('and', 'CONJ'), ('Twitter', 'X'), ('made', 'VERB'), ('a', 'DET'), ('deal', 'NOUN'), ('in', 'ADP'), ('2015', 'X'), ('that', 'ADP'), ('gave', 'VERB'), ('Google', 'X'), ('access', 'NOUN'), ('to', 'PRT'), ('Twitter', 'X'), (\"'s\", 'PRT'), ('firehose', 'X'), ('.', '.'), ('Twitter', 'X'), ('is', 'VERB'), ('an', 'DET'), ('online', 'X'), ('news', 'NOUN'), ('and', 'CONJ'), ('social', 'ADJ'), ('networking', 'NOUN'), ('service', 'NOUN'), ('on', 'ADP'), ('which', 'DET'), ('users', 'NOUN'), ('post', 'NOUN'), ('and', 'CONJ'), ('interact', 'X'), ('with', 'ADP'), ('messages', 'X'), ('known', 'VERB'), ('as', 'ADP'), ('tweets', 'X'), ('.', '.'), ('Before', 'ADP'), ('entering', 'VERB'), ('politics', 'NOUN'), (',', '.'), ('Donald', 'NOUN'), ('Trump', 'NOUN'), ('was', 'VERB'), ('a', 'DET'), ('domineering', 'X'), ('businessman', 'NOUN'), ('and', 'CONJ'), ('a', 'DET'), ('television', 'NOUN'), ('personality', 'X'), ('.', '.'), ('The', 'DET'), ('2018', 'X'), ('FIFA', 'X'), ('World', 'NOUN'), ('Cup', 'X'), ('is', 'VERB'), ('the', 'DET'), ('21st', 'X'), ('FIFA', 'X'), ('World', 'NOUN'), ('Cup', 'X'), (',', '.'), ('an', 'DET'), ('international', 'ADJ'), ('football', 'NOUN'), ('tournament', 'X'), ('contested', 'X'), ('once', 'ADV'), ('every', 'DET'), ('four', 'NUM'), ('years', 'NOUN'), ('.', '.'), ('This', 'DET'), ('is', 'VERB'), ('the', 'DET'), ('first', 'ADJ'), ('World', 'NOUN'), ('Cup', 'X'), ('to', 'PRT'), ('be', 'VERB'), ('held', 'VERB'), ('in', 'ADP'), ('Eastern', 'NOUN'), ('Europe', 'NOUN'), ('and', 'CONJ'), ('the', 'DET'), ('11th', 'ADJ'), ('time', 'NOUN'), ('that', 'ADP'), ('it', 'PRON'), ('has', 'VERB'), ('been', 'VERB'), ('held', 'VERB'), ('in', 'ADP'), ('Europe', 'NOUN'), ('.', '.'), ('Show', 'NOUN'), ('me', 'PRON'), ('the', 'DET'), ('cheapest', 'ADJ'), ('round', 'NOUN'), ('trips', 'X'), ('from', 'ADP'), ('Dallas', 'NOUN'), ('to', 'PRT'), ('Atlanta', 'NOUN'), ('I', 'PRON'), ('would', 'VERB'), ('like', 'ADP'), ('to', 'PRT'), ('see', 'VERB'), ('flights', 'NOUN'), ('from', 'ADP'), ('Denver', 'NOUN'), ('to', 'PRT'), ('Philadelphia', 'NOUN'), ('.', '.'), ('Show', 'NOUN'), ('me', 'PRON'), ('the', 'DET'), ('price', 'NOUN'), ('of', 'ADP'), ('the', 'DET'), ('flights', 'NOUN'), ('leaving', 'VERB'), ('Atlanta', 'NOUN'), ('at', 'ADP'), ('about', 'ADP'), ('3', 'NUM'), ('in', 'ADP'), ('the', 'DET'), ('afternoon', 'NOUN'), ('and', 'CONJ'), ('arriving', 'X'), ('in', 'ADP'), ('San', 'NOUN'), ('Francisco', 'NOUN'), ('.', '.'), ('NASA', 'X'), ('invited', 'X'), ('social', 'ADJ'), ('media', 'NOUN'), ('users', 'NOUN'), ('to', 'PRT'), ('experience', 'NOUN'), ('the', 'DET'), ('launch', 'NOUN'), ('of', 'ADP'), ('ICESAT-2', 'X'), ('Satellite', 'X'), ('.', '.')]\n"
     ]
    }
   ],
   "source": [
    "wordsAndTags_from_test_lines = tagSentencesViterbi(words_from_test_lines)\n",
    "print(\"****Words and tags from plain Viterbi*****\\n\", wordsAndTags_from_test_lines)"
   ]
  },
  {
   "cell_type": "code",
   "execution_count": 31,
   "metadata": {},
   "outputs": [
    {
     "data": {
      "text/plain": [
       "['messages',\n",
       " 'contested',\n",
       " 'invited',\n",
       " 'worldwide',\n",
       " 'Satellite',\n",
       " '2018',\n",
       " 'interact',\n",
       " 'domineering',\n",
       " '2011',\n",
       " 'OS',\n",
       " 'NASA',\n",
       " 'FIFA',\n",
       " 'firehose',\n",
       " 'Android',\n",
       " '2015',\n",
       " 'smartphones',\n",
       " 'online',\n",
       " 'Google',\n",
       " 'arriving',\n",
       " 'trips',\n",
       " 'Cup',\n",
       " '21st',\n",
       " 'ICESAT-2',\n",
       " 'personality',\n",
       " '2013',\n",
       " 'tournament',\n",
       " 'Twitter',\n",
       " 'tweets']"
      ]
     },
     "execution_count": 31,
     "metadata": {},
     "output_type": "execute_result"
    }
   ],
   "source": [
    "#Get the list of words which are present in test lines but not in the training corpus\n",
    "words_not_in_corpus = list(set(words_from_test_lines) - set(tokens_set))\n",
    "words_not_in_corpus"
   ]
  },
  {
   "cell_type": "code",
   "execution_count": 32,
   "metadata": {},
   "outputs": [],
   "source": [
    "def printTagsForAlienWords(alienWords, alienWordsWithTags):\n",
    "    wrongTaggedWords = []\n",
    "    wrongTaggedWords = [wordAndTag for wordAndTag in alienWordsWithTags if (wordAndTag[0] in set(alienWords))]\n",
    "    return wrongTaggedWords"
   ]
  },
  {
   "cell_type": "code",
   "execution_count": 33,
   "metadata": {},
   "outputs": [
    {
     "name": "stdout",
     "output_type": "stream",
     "text": [
      "***Alien words and their tags***\n",
      " [('Android', 'X'), ('Google', 'X'), ('Android', 'X'), ('OS', 'X'), ('worldwide', 'X'), ('smartphones', 'X'), ('2011', 'X'), ('2013', 'X'), ('Google', 'X'), ('Twitter', 'X'), ('2015', 'X'), ('Google', 'X'), ('Twitter', 'X'), ('firehose', 'X'), ('Twitter', 'X'), ('online', 'X'), ('interact', 'X'), ('messages', 'X'), ('tweets', 'X'), ('domineering', 'X'), ('personality', 'X'), ('2018', 'X'), ('FIFA', 'X'), ('Cup', 'X'), ('21st', 'X'), ('FIFA', 'X'), ('Cup', 'X'), ('tournament', 'X'), ('contested', 'X'), ('Cup', 'X'), ('trips', 'X'), ('arriving', 'X'), ('NASA', 'X'), ('invited', 'X'), ('ICESAT-2', 'X'), ('Satellite', 'X')]\n"
     ]
    }
   ],
   "source": [
    "alienWordsAndTags = printTagsForAlienWords(words_not_in_corpus, wordsAndTags_from_test_lines)\n",
    "print(\"***Alien words and their tags***\\n\", alienWordsAndTags)"
   ]
  },
  {
   "cell_type": "markdown",
   "metadata": {},
   "source": [
    "#### Observe that all the alien words have been assigned a default tag of PRON.\n"
   ]
  },
  {
   "cell_type": "code",
   "execution_count": null,
   "metadata": {},
   "outputs": [],
   "source": []
  },
  {
   "cell_type": "code",
   "execution_count": null,
   "metadata": {},
   "outputs": [],
   "source": []
  },
  {
   "cell_type": "code",
   "execution_count": null,
   "metadata": {},
   "outputs": [],
   "source": []
  },
  {
   "cell_type": "code",
   "execution_count": null,
   "metadata": {},
   "outputs": [],
   "source": []
  },
  {
   "cell_type": "code",
   "execution_count": null,
   "metadata": {},
   "outputs": [],
   "source": []
  },
  {
   "cell_type": "code",
   "execution_count": null,
   "metadata": {},
   "outputs": [],
   "source": []
  },
  {
   "cell_type": "code",
   "execution_count": null,
   "metadata": {},
   "outputs": [],
   "source": []
  },
  {
   "cell_type": "markdown",
   "metadata": {},
   "source": [
    "### Solve the problem of unknown words"
   ]
  },
  {
   "cell_type": "code",
   "execution_count": 34,
   "metadata": {},
   "outputs": [],
   "source": [
    "# specify patterns for tagging\n",
    "patterns = [\n",
    "    #NUMBERS\n",
    "    (\"^-?[0-9]+(.[0-9]+)?$\", 'NUM'),    \n",
    "    \n",
    "    #ADJECTIVES\n",
    "    (\".*able$\", 'ADJ'),        \n",
    "    \n",
    "    #VERBS and variants\n",
    "    (\".*ing$\", 'VERB'),      \n",
    "    (\".*ed$\", 'VERB'),       \n",
    "    (\".*es$\", 'VERB'),        \n",
    "    (\".*ould$\", 'VERB'),      \n",
    "    \n",
    "    #ADVERB\n",
    "    (\".*ly$\", 'ADV')\n",
    "]\n",
    "\n",
    "def isDeterminant(text):\n",
    "    if (text in set(['The', 'the', 'A', 'a', 'An', 'an'])):\n",
    "        return True\n",
    "    return False\n",
    "\n",
    "\n",
    "def getStateForWord(text):\n",
    "    state = \"\"\n",
    "    if isDeterminant(text):\n",
    "        return \"DET\"\n",
    "    else:\n",
    "        for pattern in patterns:\n",
    "            if re.search(pattern[0], text):\n",
    "                state = pattern[1]\n",
    "                #print(pattern[0], \"---\", text, \"---\", state)\n",
    "                return state\n",
    "    return \"NOUN\"\n",
    "\n"
   ]
  },
  {
   "cell_type": "code",
   "execution_count": null,
   "metadata": {},
   "outputs": [],
   "source": []
  },
  {
   "cell_type": "code",
   "execution_count": null,
   "metadata": {},
   "outputs": [],
   "source": []
  },
  {
   "cell_type": "code",
   "execution_count": null,
   "metadata": {},
   "outputs": [],
   "source": []
  },
  {
   "cell_type": "code",
   "execution_count": 35,
   "metadata": {},
   "outputs": [],
   "source": [
    "# Viterbi Heuristic\n",
    "def ViterbiV2(words, train_bag = train_wordAndTag_list):\n",
    "    state = []\n",
    "    T = list(set([pair[1] for pair in train_bag]))\n",
    "    \n",
    "    for key, word in enumerate(words):\n",
    "        #initialise list of probability column for a given observation\n",
    "        p = [] \n",
    "        for tag in T:\n",
    "            if key == 0:\n",
    "                transition_p = tags_df.loc['.', tag]\n",
    "            else:\n",
    "                transition_p = tags_df.loc[state[-1], tag]\n",
    "                \n",
    "            # compute emission and state probabilities\n",
    "            emissionNAndD = word_given_tag(words[key], tag)\n",
    "            emission_p = emissionNAndD[0]/emissionNAndD[1]            \n",
    "            state_probability = emission_p * transition_p    \n",
    "            p.append(state_probability)\n",
    "            \n",
    "        pmax = max(p)\n",
    "        \n",
    "        # If pmax is 0, get the most suitable tag by checking morphology\n",
    "        # assign state_max\n",
    "        # ELSE\n",
    "        # If pmax is not 0, then proceed with \n",
    "        # getting state for which probability is maximum\n",
    "        if pmax == 0:\n",
    "            state_max = getStateForWord(words[key])\n",
    "        else:\n",
    "            state_max = T[p.index(pmax)] \n",
    "        \n",
    "        state.append(state_max)\n",
    "        \n",
    "    return list(zip(words, state))\n",
    "\n",
    "# tagging the test sentences\n",
    "def tagSentencesViterbiV2(words2BeTagged):\n",
    "    start = time.time()\n",
    "    tagged_seq = ViterbiV2(words2BeTagged)\n",
    "    end = time.time()\n",
    "    difference = end-start\n",
    "    print(\"***Time taken to tag**** \", difference)\n",
    "    return tagged_seq\n",
    "\n"
   ]
  },
  {
   "cell_type": "code",
   "execution_count": 36,
   "metadata": {},
   "outputs": [
    {
     "name": "stdout",
     "output_type": "stream",
     "text": [
      "***Time taken to tag****  8.423348188400269\n",
      "****Words and tags from ViterbiV2*****\n",
      " [('Android', 'NOUN'), ('is', 'VERB'), ('a', 'DET'), ('mobile', 'ADJ'), ('operating', 'NOUN'), ('system', 'NOUN'), ('developed', 'VERB'), ('by', 'ADP'), ('Google', 'NOUN'), ('.', '.'), ('Android', 'NOUN'), ('has', 'VERB'), ('been', 'VERB'), ('the', 'DET'), ('best-selling', 'ADJ'), ('OS', 'NOUN'), ('worldwide', 'NOUN'), ('on', 'ADP'), ('smartphones', 'VERB'), ('since', 'ADP'), ('2011', 'NUM'), ('and', 'CONJ'), ('on', 'ADP'), ('tablets', 'NOUN'), ('since', 'ADP'), ('2013', 'NUM'), ('.', '.'), ('Google', 'NOUN'), ('and', 'CONJ'), ('Twitter', 'NOUN'), ('made', 'VERB'), ('a', 'DET'), ('deal', 'NOUN'), ('in', 'ADP'), ('2015', 'NUM'), ('that', 'ADP'), ('gave', 'VERB'), ('Google', 'NOUN'), ('access', 'NOUN'), ('to', 'PRT'), ('Twitter', 'NOUN'), (\"'s\", 'PRT'), ('firehose', 'NOUN'), ('.', '.')]\n"
     ]
    }
   ],
   "source": [
    "temp_test_words = ['Android', 'is', 'a', 'mobile', 'operating', 'system', 'developed', 'by', 'Google', '.', \n",
    "                   'Android', 'has', 'been', 'the', 'best-selling', 'OS', 'worldwide', 'on', 'smartphones', \n",
    "                   'since', '2011', 'and', 'on', 'tablets', 'since', '2013', '.', \n",
    "                   'Google', 'and', 'Twitter', 'made', 'a', 'deal', 'in', '2015', 'that', 'gave', 'Google', 'access', \n",
    "                   'to', 'Twitter', \"'s\", 'firehose', '.']\n",
    "\n",
    "wordsAndTags_from_test_lines = tagSentencesViterbiV2(temp_test_words)\n",
    "print(\"****Words and tags from ViterbiV2*****\\n\", wordsAndTags_from_test_lines)"
   ]
  },
  {
   "cell_type": "code",
   "execution_count": 37,
   "metadata": {},
   "outputs": [
    {
     "name": "stdout",
     "output_type": "stream",
     "text": [
      "***Time taken to tag****  110.57199239730835\n",
      "0.9589285714285715\n"
     ]
    }
   ],
   "source": [
    "tagged_seq_v2 = tagSentencesViterbiV2(test_tagged_words)\n",
    "viterbiV2Accuracy = checkAccuracy(tagged_seq_v2, test_run_base)\n",
    "print(viterbiV2Accuracy)"
   ]
  },
  {
   "cell_type": "code",
   "execution_count": null,
   "metadata": {},
   "outputs": [],
   "source": []
  },
  {
   "cell_type": "markdown",
   "metadata": {},
   "source": []
  },
  {
   "cell_type": "code",
   "execution_count": 42,
   "metadata": {},
   "outputs": [],
   "source": [
    "# Viterbi Heuristic\n",
    "def ViterbiV3(words, train_bag = train_wordAndTag_list):\n",
    "    state = []\n",
    "    T = list(set([pair[1] for pair in train_bag]))\n",
    "    \n",
    "    for key, word in enumerate(words):\n",
    "        #initialise list of probability column for a given observation\n",
    "        p = [] \n",
    "        for tag in T:\n",
    "            if key == 0:\n",
    "                transition_p = tags_df.loc['.', tag]\n",
    "            else:\n",
    "                #print(\"**state[-1]** \", state[-1])\n",
    "                transition_p = tags_df.loc[state[-1], tag]\n",
    "                \n",
    "            # compute emission and state probabilities\n",
    "            emissionNAndD = word_given_tag(words[key], tag)\n",
    "            emission_p = emissionNAndD[0]/emissionNAndD[1]  \n",
    "            if emission_p == 0:\n",
    "                emission_p = 0.00001\n",
    "            state_probability = emission_p * transition_p    \n",
    "            p.append(state_probability)\n",
    "            \n",
    "        pmax = max(p)\n",
    "        # getting state for which probability is maximum\n",
    "        state_max = T[p.index(pmax)] \n",
    "        state.append(state_max)\n",
    "    return list(zip(words, state))\n",
    "\n",
    "\n",
    "# tagging the test sentences\n",
    "def tagSentencesViterbiV3(words2BeTagged):\n",
    "    start = time.time()\n",
    "    tagged_seq = ViterbiV3(words2BeTagged)\n",
    "    end = time.time()\n",
    "    difference = end-start\n",
    "    print(\"***Time taken to tag**** \", difference)\n",
    "    return tagged_seq"
   ]
  },
  {
   "cell_type": "code",
   "execution_count": 43,
   "metadata": {},
   "outputs": [
    {
     "name": "stdout",
     "output_type": "stream",
     "text": [
      "***Time taken to tag****  105.89277529716492\n",
      "0.9410714285714286\n"
     ]
    }
   ],
   "source": [
    "tagged_seq_v3 = tagSentencesViterbiV3(test_tagged_words)\n",
    "viterbiV3Accuracy = checkAccuracy(tagged_seq_v3, test_run_base)\n",
    "print(viterbiV3Accuracy)"
   ]
  },
  {
   "cell_type": "code",
   "execution_count": null,
   "metadata": {},
   "outputs": [],
   "source": []
  },
  {
   "cell_type": "code",
   "execution_count": null,
   "metadata": {},
   "outputs": [],
   "source": []
  },
  {
   "cell_type": "code",
   "execution_count": null,
   "metadata": {},
   "outputs": [],
   "source": []
  },
  {
   "cell_type": "code",
   "execution_count": null,
   "metadata": {},
   "outputs": [],
   "source": []
  },
  {
   "cell_type": "code",
   "execution_count": null,
   "metadata": {},
   "outputs": [],
   "source": []
  },
  {
   "cell_type": "code",
   "execution_count": null,
   "metadata": {},
   "outputs": [],
   "source": []
  },
  {
   "cell_type": "code",
   "execution_count": null,
   "metadata": {},
   "outputs": [],
   "source": []
  },
  {
   "cell_type": "markdown",
   "metadata": {},
   "source": [
    "#### Evaluating tagging accuracy"
   ]
  },
  {
   "cell_type": "code",
   "execution_count": null,
   "metadata": {},
   "outputs": [],
   "source": []
  },
  {
   "cell_type": "code",
   "execution_count": null,
   "metadata": {},
   "outputs": [],
   "source": []
  },
  {
   "cell_type": "markdown",
   "metadata": {},
   "source": [
    "### Compare the tagging accuracies of the modifications with the vanilla Viterbi algorithm"
   ]
  },
  {
   "cell_type": "code",
   "execution_count": null,
   "metadata": {},
   "outputs": [],
   "source": []
  },
  {
   "cell_type": "code",
   "execution_count": null,
   "metadata": {},
   "outputs": [],
   "source": []
  },
  {
   "cell_type": "code",
   "execution_count": null,
   "metadata": {},
   "outputs": [],
   "source": []
  },
  {
   "cell_type": "markdown",
   "metadata": {},
   "source": [
    "### List down cases which were incorrectly tagged by original POS tagger and got corrected by your modifications"
   ]
  },
  {
   "cell_type": "code",
   "execution_count": null,
   "metadata": {},
   "outputs": [],
   "source": []
  },
  {
   "cell_type": "code",
   "execution_count": null,
   "metadata": {},
   "outputs": [],
   "source": []
  },
  {
   "cell_type": "markdown",
   "metadata": {},
   "source": [
    "#### END OF SOLUTION"
   ]
  },
  {
   "cell_type": "code",
   "execution_count": null,
   "metadata": {},
   "outputs": [],
   "source": []
  }
 ],
 "metadata": {
  "kernelspec": {
   "display_name": "Python 3",
   "language": "python",
   "name": "python3"
  },
  "language_info": {
   "codemirror_mode": {
    "name": "ipython",
    "version": 3
   },
   "file_extension": ".py",
   "mimetype": "text/x-python",
   "name": "python",
   "nbconvert_exporter": "python",
   "pygments_lexer": "ipython3",
   "version": "3.8.3"
  }
 },
 "nbformat": 4,
 "nbformat_minor": 2
}
