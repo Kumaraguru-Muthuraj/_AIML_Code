{
 "cells": [
  {
   "cell_type": "markdown",
   "metadata": {},
   "source": [
    "## HMM Based POS Tagging Assignment\n",
    "### Author - Kumaraguru Muthuraj\n",
    "\n",
    "#### Solution description\n",
    "1. Tagged Treebank corpus is available (Sample data to training and test data set)\n",
    "   - Basic text and structure exploration\n",
    "2. Creating HMM model on the tagged data set.\n",
    "   - Calculating Emission Probabaility: P(observation|state)\n",
    "   - Calculating Transition Probability: P(state2|state1)\n",
    "3. Checking accuracy on the test data set"
   ]
  },
  {
   "cell_type": "markdown",
   "metadata": {},
   "source": [
    "### 1. Exploring the treebank dataset -  data preparation"
   ]
  },
  {
   "cell_type": "code",
   "execution_count": 1,
   "metadata": {},
   "outputs": [],
   "source": [
    "#Importing libraries\n",
    "import nltk\n",
    "import re, pprint\n",
    "import numpy as np\n",
    "import pandas as pd\n",
    "import requests\n",
    "import matplotlib.pyplot as plt\n",
    "import seaborn as sns\n",
    "import pprint, time\n",
    "import random\n",
    "from sklearn.model_selection import train_test_split\n",
    "from nltk.tokenize import word_tokenize"
   ]
  },
  {
   "cell_type": "code",
   "execution_count": 2,
   "metadata": {},
   "outputs": [
    {
     "name": "stderr",
     "output_type": "stream",
     "text": [
      "[nltk_data] Downloading package treebank to\n",
      "[nltk_data]     C:\\Users\\kumaraguru\\AppData\\Roaming\\nltk_data...\n",
      "[nltk_data]   Package treebank is already up-to-date!\n",
      "[nltk_data] Downloading package universal_tagset to\n",
      "[nltk_data]     C:\\Users\\kumaraguru\\AppData\\Roaming\\nltk_data...\n",
      "[nltk_data]   Package universal_tagset is already up-to-date!\n"
     ]
    },
    {
     "data": {
      "text/plain": [
       "True"
      ]
     },
     "execution_count": 2,
     "metadata": {},
     "output_type": "execute_result"
    }
   ],
   "source": [
    "nltk.download('treebank')\n",
    "nltk.download('universal_tagset')"
   ]
  },
  {
   "cell_type": "code",
   "execution_count": 3,
   "metadata": {},
   "outputs": [],
   "source": [
    "# Load the UNIVERSAL tagset from Treebank\n",
    "nltk_data = list(nltk.corpus.treebank.tagged_sents(tagset='universal'))"
   ]
  },
  {
   "cell_type": "code",
   "execution_count": 4,
   "metadata": {},
   "outputs": [
    {
     "name": "stdout",
     "output_type": "stream",
     "text": [
      "***Length of the data set ****  3914\n",
      "\n",
      "\n",
      "***First few lines*****\n"
     ]
    },
    {
     "data": {
      "text/plain": [
       "[[('Pierre', 'NOUN'),\n",
       "  ('Vinken', 'NOUN'),\n",
       "  (',', '.'),\n",
       "  ('61', 'NUM'),\n",
       "  ('years', 'NOUN'),\n",
       "  ('old', 'ADJ'),\n",
       "  (',', '.'),\n",
       "  ('will', 'VERB'),\n",
       "  ('join', 'VERB'),\n",
       "  ('the', 'DET'),\n",
       "  ('board', 'NOUN'),\n",
       "  ('as', 'ADP'),\n",
       "  ('a', 'DET'),\n",
       "  ('nonexecutive', 'ADJ'),\n",
       "  ('director', 'NOUN'),\n",
       "  ('Nov.', 'NOUN'),\n",
       "  ('29', 'NUM'),\n",
       "  ('.', '.')],\n",
       " [('Mr.', 'NOUN'),\n",
       "  ('Vinken', 'NOUN'),\n",
       "  ('is', 'VERB'),\n",
       "  ('chairman', 'NOUN'),\n",
       "  ('of', 'ADP'),\n",
       "  ('Elsevier', 'NOUN'),\n",
       "  ('N.V.', 'NOUN'),\n",
       "  (',', '.'),\n",
       "  ('the', 'DET'),\n",
       "  ('Dutch', 'NOUN'),\n",
       "  ('publishing', 'VERB'),\n",
       "  ('group', 'NOUN'),\n",
       "  ('.', '.')],\n",
       " [('Rudolph', 'NOUN'),\n",
       "  ('Agnew', 'NOUN'),\n",
       "  (',', '.'),\n",
       "  ('55', 'NUM'),\n",
       "  ('years', 'NOUN'),\n",
       "  ('old', 'ADJ'),\n",
       "  ('and', 'CONJ'),\n",
       "  ('former', 'ADJ'),\n",
       "  ('chairman', 'NOUN'),\n",
       "  ('of', 'ADP'),\n",
       "  ('Consolidated', 'NOUN'),\n",
       "  ('Gold', 'NOUN'),\n",
       "  ('Fields', 'NOUN'),\n",
       "  ('PLC', 'NOUN'),\n",
       "  (',', '.'),\n",
       "  ('was', 'VERB'),\n",
       "  ('named', 'VERB'),\n",
       "  ('*-1', 'X'),\n",
       "  ('a', 'DET'),\n",
       "  ('nonexecutive', 'ADJ'),\n",
       "  ('director', 'NOUN'),\n",
       "  ('of', 'ADP'),\n",
       "  ('this', 'DET'),\n",
       "  ('British', 'ADJ'),\n",
       "  ('industrial', 'ADJ'),\n",
       "  ('conglomerate', 'NOUN'),\n",
       "  ('.', '.')],\n",
       " [('A', 'DET'),\n",
       "  ('form', 'NOUN'),\n",
       "  ('of', 'ADP'),\n",
       "  ('asbestos', 'NOUN'),\n",
       "  ('once', 'ADV'),\n",
       "  ('used', 'VERB'),\n",
       "  ('*', 'X'),\n",
       "  ('*', 'X'),\n",
       "  ('to', 'PRT'),\n",
       "  ('make', 'VERB'),\n",
       "  ('Kent', 'NOUN'),\n",
       "  ('cigarette', 'NOUN'),\n",
       "  ('filters', 'NOUN'),\n",
       "  ('has', 'VERB'),\n",
       "  ('caused', 'VERB'),\n",
       "  ('a', 'DET'),\n",
       "  ('high', 'ADJ'),\n",
       "  ('percentage', 'NOUN'),\n",
       "  ('of', 'ADP'),\n",
       "  ('cancer', 'NOUN'),\n",
       "  ('deaths', 'NOUN'),\n",
       "  ('among', 'ADP'),\n",
       "  ('a', 'DET'),\n",
       "  ('group', 'NOUN'),\n",
       "  ('of', 'ADP'),\n",
       "  ('workers', 'NOUN'),\n",
       "  ('exposed', 'VERB'),\n",
       "  ('*', 'X'),\n",
       "  ('to', 'PRT'),\n",
       "  ('it', 'PRON'),\n",
       "  ('more', 'ADV'),\n",
       "  ('than', 'ADP'),\n",
       "  ('30', 'NUM'),\n",
       "  ('years', 'NOUN'),\n",
       "  ('ago', 'ADP'),\n",
       "  (',', '.'),\n",
       "  ('researchers', 'NOUN'),\n",
       "  ('reported', 'VERB'),\n",
       "  ('0', 'X'),\n",
       "  ('*T*-1', 'X'),\n",
       "  ('.', '.')],\n",
       " [('The', 'DET'),\n",
       "  ('asbestos', 'NOUN'),\n",
       "  ('fiber', 'NOUN'),\n",
       "  (',', '.'),\n",
       "  ('crocidolite', 'NOUN'),\n",
       "  (',', '.'),\n",
       "  ('is', 'VERB'),\n",
       "  ('unusually', 'ADV'),\n",
       "  ('resilient', 'ADJ'),\n",
       "  ('once', 'ADP'),\n",
       "  ('it', 'PRON'),\n",
       "  ('enters', 'VERB'),\n",
       "  ('the', 'DET'),\n",
       "  ('lungs', 'NOUN'),\n",
       "  (',', '.'),\n",
       "  ('with', 'ADP'),\n",
       "  ('even', 'ADV'),\n",
       "  ('brief', 'ADJ'),\n",
       "  ('exposures', 'NOUN'),\n",
       "  ('to', 'PRT'),\n",
       "  ('it', 'PRON'),\n",
       "  ('causing', 'VERB'),\n",
       "  ('symptoms', 'NOUN'),\n",
       "  ('that', 'DET'),\n",
       "  ('*T*-1', 'X'),\n",
       "  ('show', 'VERB'),\n",
       "  ('up', 'PRT'),\n",
       "  ('decades', 'NOUN'),\n",
       "  ('later', 'ADJ'),\n",
       "  (',', '.'),\n",
       "  ('researchers', 'NOUN'),\n",
       "  ('said', 'VERB'),\n",
       "  ('0', 'X'),\n",
       "  ('*T*-2', 'X'),\n",
       "  ('.', '.')]]"
      ]
     },
     "execution_count": 4,
     "metadata": {},
     "output_type": "execute_result"
    }
   ],
   "source": [
    "# PRINT first few tagged sentences\n",
    "print(\"***Length of the data set **** \", len(nltk_data))\n",
    "# samples: Each sentence is a list of (word, pos) tuples\n",
    "print(\"\\n\\n***First few lines*****\")\n",
    "nltk_data[:5]"
   ]
  },
  {
   "cell_type": "code",
   "execution_count": 5,
   "metadata": {},
   "outputs": [
    {
     "name": "stdout",
     "output_type": "stream",
     "text": [
      "***Length of the training data set ****  3718\n",
      "***Length of the test data set ****  196\n",
      "\n",
      "\n",
      "*****Print a few lines*****\n",
      " [[('ShareData', 'NOUN'), ('develops', 'VERB'), ('and', 'CONJ'), ('markets', 'VERB'), ('low-cost', 'ADJ'), ('software', 'NOUN'), (',', '.'), ('peripheral', 'ADJ'), ('equipment', 'NOUN'), ('and', 'CONJ'), ('accessories', 'NOUN'), ('for', 'ADP'), ('computers', 'NOUN'), ('.', '.')], [('William', 'NOUN'), ('Randolph', 'NOUN'), ('Hearst', 'NOUN'), ('had', 'VERB'), ('kept', 'VERB'), ('an', 'DET'), ('apartment', 'NOUN'), ('in', 'ADP'), ('the', 'DET'), ('Spanish', 'NOUN'), ('Renaissance-style', 'ADJ'), ('building', 'NOUN'), ('.', '.')], [('Mrs.', 'NOUN'), ('Yeargin', 'NOUN'), ('declined', 'VERB'), ('.', '.')], [('The', 'DET'), ('March', 'NOUN'), ('delivery', 'NOUN'), (',', '.'), ('which', 'DET'), ('*T*-1', 'X'), ('has', 'VERB'), ('no', 'DET'), ('limits', 'NOUN'), (',', '.'), ('settled', 'VERB'), ('at', 'ADP'), ('14.53', 'NUM'), ('cents', 'NOUN'), (',', '.'), ('up', 'ADV'), ('0.56', 'NUM'), ('cent', 'NOUN'), ('a', 'DET'), ('pound', 'NOUN'), ('.', '.')], [('Farmers', 'NOUN'), ('are', 'VERB'), ('in', 'ADP'), ('the', 'DET'), ('best', 'ADJ'), ('position', 'NOUN'), ('of', 'ADP'), ('many', 'ADJ'), ('years', 'NOUN'), ('0', 'X'), ('*', 'X'), ('to', 'PRT'), ('push', 'VERB'), ('up', 'ADP'), ('corn', 'NOUN'), ('prices', 'NOUN'), ('*T*-1', 'X'), ('.', '.')]]\n"
     ]
    }
   ],
   "source": [
    "#5% of data, according to https://learn.upgrad.com/v/course/1120/session/169917/segment/904732\n",
    "TEST_DATA_PERCENT = 0.05 \n",
    "\n",
    "# Splitting into train and test\n",
    "train_set, test_set = train_test_split(nltk_data, test_size = TEST_DATA_PERCENT)\n",
    "\n",
    "print(\"***Length of the training data set **** \", len(train_set))\n",
    "print(\"***Length of the test data set **** \", len(test_set))\n",
    "\n",
    "print(\"\\n\\n*****Print a few lines*****\\n\", train_set[:5])"
   ]
  },
  {
   "cell_type": "code",
   "execution_count": 6,
   "metadata": {},
   "outputs": [
    {
     "data": {
      "text/plain": [
       "95708"
      ]
     },
     "execution_count": 6,
     "metadata": {},
     "output_type": "execute_result"
    }
   ],
   "source": [
    "# Getting list of tagged words\n",
    "train_wordAndTag_list = [wordAndTag for sentence in train_set for wordAndTag in sentence]\n",
    "len(train_wordAndTag_list)"
   ]
  },
  {
   "cell_type": "code",
   "execution_count": 7,
   "metadata": {},
   "outputs": [
    {
     "data": {
      "text/plain": [
       "[('ShareData', 'NOUN'),\n",
       " ('develops', 'VERB'),\n",
       " ('and', 'CONJ'),\n",
       " ('markets', 'VERB'),\n",
       " ('low-cost', 'ADJ')]"
      ]
     },
     "execution_count": 7,
     "metadata": {},
     "output_type": "execute_result"
    }
   ],
   "source": [
    "train_wordAndTag_list[:5]"
   ]
  },
  {
   "cell_type": "code",
   "execution_count": 8,
   "metadata": {},
   "outputs": [
    {
     "name": "stdout",
     "output_type": "stream",
     "text": [
      "12046\n",
      "{'Hampshire', 'strings', 'club', 'morphogenetic', 'Two', 'Compare', 'Nationwide', 'buy-back', 'mounted', 'quickly', 'Friends', 'F-series', '*T*-238', 'Send', 'simulates', 'Excluding', 'Preferences', 'Kangyo', '36-store', 'charging', 'expenditures', 'countless', 'adjusting', '2163.2', 'front-seat', 'Design', 'rapists', 'overlap', 'trust', 'castle', 'Electric', '55-a-share', 'socialism', 'Acquisition', 'expression', 'ran', 'Competes', 'expectation', 'bringing', 'gilt', '320', 'latter', 'Southeast', 'share', '*-109', 'snaking', 'Auctions', 'Harpo', 'markdown', 'economics', 'substitute', 'banquet', 'diaper', 'surrounding', 'deposit', 'leery', 'predecessor', 'telling', 'argument', 'define', '1984', 'unproven', 'allocation', '20-stock', '37-year-old', 'exits', 'gift', '92.9', 'entrance', '*PPA*-2', 'drink', 'borough', 'seven-year', 'inquiry', 'situations', 'entrusted', 'pre-approved', '*-7', 'ships', '26', 'Lawmakers', 'leaving', 'fixes', 'limping', 'ounce', 'calculator', 'sluggish', 'Bancorp', 'explain', 'divisions', 'coffee', 'responds', 'dirty', 'memo', 'facility', 'sidewalk', 'Defending', 'limit', '6.79', 'Test-preparation', \"CREATOR'S\", '400,000', 'editions', 'public-relations', '9.82', 'Democracy', 'ready', 'earn', '1973-75', '3.42', 'ignored', '13.5', 'Crum', 'employed', 'Workers', 'Prof.', 'Remember', 'teach', '0.25', 'contends', 'parties', 'averted', 'Renaissance-style', 'felt', 'constitutional-law', 'reminded', 'Persky', 'GOODY', 'primarily', '11.10', '600', 'bar', 'through', 'Tube', 'accounts', 'Propaganda', 'contrasts', 'relieved', 'borrowed', 'untrained', 'equivalent', 'consumption', 'ramparts', '*T*-83', 'maturing', 'traded', 'sacrifice', '*-51', '*-56', '*-93', '*-80', '5.39', 'psychiatrist', 'export', 'agency', 'planting', 'facilitate', 'petroleum', 'Buckhead', 'revenue', 'controversial', 'indications', 'indulging', 'Avrett', 'Unemployment', 'Czechoslovakia', 'arising', 'disposal', 'involved', 'whirling', 'biannual', 'formed', 'consider', 'anyone', 'Initiative', 'eventually', 'discussions', 'Edward', 'prevent', 'prerogatives', 'paltry', 'sauce', 'shipments', 'Sydney', 'Uzi-model', '500-stock', 'Life', 'Providence', 'denial', 'resources', 'darned', '31', 'Mass.', 'choose', '5.4', 'integrated', 'hand', 'exploration', 'barrels', 'Foreign', '*-113', 'five-year', 'attracted', 'elusive', 'weaken', '500,000', 'in', 'Illinois', 'Chateau', 'Coleman', 'departures', '*-86', 'bottle', '240', 'Unicorp', 'airlines', 'focus', 'ambitious', 'yesterday', 'International', 'Generally', 'basket', 'Plan', 'dancing', 'Reserves', 'Hours', 'Class', 'twin-jet', 'boys', 'resulted', 'Phillips', 'She', 'associate', 'chest', 'combination', 'atmosphere', 'soldiers', 'military', 'liquid-nitrogen', '96.4', 'Waterloo', 'downside', ',', 'eyes', 'neighborhoods', 'Edelman', 'From', 'manner', 'clouds', '3\\\\/8', 'anti-abortionists', 'Advice', 'Loews', 'applaud', 'unusually', 'falsify', 'examine', '1988', 'dissolves', 'buckle', 'layer', 'houses', 'generous', 'tea', 'vitally', '66.5', 'Posted', 'Royal', 'indeed', 'Although', 'further', 'Department', 'lack', 'jointly', 'recognize', 'Yesterday', 'Market', 'parishes', 'bidder', 'behind', 'look', 'phone', 'cycles', 'resistance', 'support', 'enjoy', 'owns', 'Toys', 'buy-out', 'cost-control', 'U.S.-backed', 'indicated', 'Bethlehem', 'teetering', 'stress', 'modification', '*-126', 'Professors', 'while', 'fallen', 'analysis', 'DOT', 'bust', 'accidentally', '*T*-85', 'feature', 'herald', 'retractable', 'motors', '9.37', 'growing', 'although', 'doling', '2019', 'patents', 'crash', 'stalls', 'bad', 'strapped', 'Messrs.', 'Newsweek', '*T*-132', 'studied', 'Magleby', 'goes', 'copyright', 'hegemony', '3,250,000', 'casino', '7.50', 'headquarters', 'lower', 'TEXAS', 'merger-related', 'lucrative', 'wages', '23', 'trees', 'curse', 'longer', 'broadly', 'Porter', 'financing', 'less-than-brilliant', 'usually', 'gambling', 'Earle', 'INQUIRY', '*-64', 'Co.', 'begins', 'votes', '188', 'civilization', 'life-insurance', 'Shorter', 'None', 'one-country', 'columns', 'block', 'emergencies', 'understands', '*-5', 'husband', 'Options', 'Scoring', 'forecasts', 'Walters', 'subskills', 'N.V.', 'effect', 'include', 'chase', 'suggests', 'federally', 'doing', '1.457', 'insert', 'hypocrisy', 'charges', 'broad-based', 'lyrics', 'Strindberg', 'Hollis', 'characterized', 'assuming', 'v.', 'Coca-Cola', 'Association', 'Debt', 'accounted', 'widow', 'Moines', 'sales', 'autumn', '3.3', 'debt', 'one-year', 'Advanced', 'hire', 'Fundamentalists', 'paying', 'Moore', 'would-be', 'vindication', 'suggested', 'standing', 'McCormick', 'brunt', 'boarding', 'downward', 'fear', 'favorite', 'distasteful', '3,040,000', 'yen-denominated', '12.09', 'Paramount', 'estimates', 'curly', 'strike', 'fraud', '*T*-104', 'learning', 'TWO', 'cheating', 'materials', 'Ancient', '*T*-45', '2.25', 'Now', '36', 'Dunton', 'plunge', 'overpaying', '*T*-149', '415.8', 'trivial', 'movies', 'converted', '#', 'Iran\\\\/Contra', '10-year', 'architecture', 'liabilities', '35564.43', 'Pitney', 'prior', 'guaranteed', 'imply', 'court-ordered', 'pleaded', 'Fourth', 'separate', 'Minneapolis-based', '3.8', '*T*-39', 'redeploy', 'pep', 'rulings', 'multiples', 'segmenting', 'Arighi', '*-95', 'fueled', 'Gelles', 'standardized', 'Va.', 'big-time', 'War', 'merits', 'fills', 'Pa', 'rapid', 'crystal-lattice', 'deterring', 'Kansas', 'Seattle-based', 'dams', 'issue', 'smallest', 'sustained', 'white', 'Safety', 'Tache', 'century', 'disapprove', 'replicating', 'Lorillard', '967,809', 'faculty', 'unofficial', 'Tramp', 'Cigna', 'structurally', 'Mutchin', 'scheme', '112.9', 'Andy', 'elected', '132.9', 'reviewed', '2.50', '*T*-231', 'generally', 'comprehensive', 'heavily', '8.25', 'lousy', 'unlabeled', 'professor', 'fetal', 'amusing', 'Brace', 'Southern', 'Orleans', 'specialized', 'disturbing', 'Tenn.', 'systems', 'given', 'invented', 'back', '*-132', 'added', 'Upham', 'extramarital', '2160.1', 'biggest', '*T*-145', 'imposing', 'economical', 'survival', 'Offering', '*-153', 'device', 'firm', 'precedent', 'preserving', 'cure', 'cars', 'clouding', 'cultivation', 'sassy', 'strict', 'active', 'Controls', 'mid-October', '767', 'managing', 'strategy', 'improving', 'Bolivia', 'author', 'finance', 'reflect', 'surrendered', 'execute', 'supercilious', 'truce', 'acceptances', 'decide', 'succeed', 'Filmed', 'introduce', 'bank', '7.74', 'spook', 'Nilson', 'enforce', 'hours', 'beer-belly', '54', 'policy-making', 'abating', 'spokewoman', 'repayment', 'minor', '23.5', 'C.D.s', '2.8', 'improve', 'limited', 'Arabian', 'Oliver', 'serious', 'agree', '1.14', 'empty', 'investments', 'Small', '0.5', 'when-issued', '913', 'did', 'BIRDS', 'knight', 'cluster', 'Teddy', 'correct', 'Leroy', 'dashes', '388', 'February', 'proponents', 'high-rate', 'disregard', '28', 'Plantation', 'minicrash', 'ballroom', 'mired', 'electronics', 'invested', 'temptation', 'becoming', 'competes', 'Feniger', '63-year-old', 'Rockford', 'stacked', 'Almost', 'Lucille', 'languages', 'gangs', 'presumably', 'NL', 'Stoll', 'Lane', 'sagged', 'schoolboys', 'Bradford', 'scammers', 'serviced', 'awarded', 'programming', 'ushered', 'pulled', 'F.', '*T*-37', '154,240,000', 'conflict', 'revive', 'Resources', 'shuttle', 'filters', 'plenty', 'reasoning', 'lauded', 'take', 'defeat', 'Beijing', 'semiconductors', '*T*-222', 'CS', '18.95', 'likelihood', 'tidily', 'segment', 'sweet', 'nationwide', 'branches', 'prescient', '15,000', 'avenues', 'fuller', '8.467', 'occurrences', 'monster', '*T*-213', 'rescheduled', 'efficiencies', 'curtail', 'Legislation', 'ensnarled', 'G', 'mechanical', 'Marine', 'heading', '*-104', 'Garret', 'CSV', 'billed', 'ancient', 'Hermitage', 'Wohlstetter', 'Hurricane', 'matched', 'felony', 'Haden', 'amazingly', 'spread', 'Mazda', 'last', 'noble', 'tackle', 'bankruptcy-law', 'Fuentes', 'A.L.', '131.01', 'successor', 'ENERGY', 'correcting', 'game', '59.9', '*T*-249', 'Code', 'survey', 'stability', 'attend', 'puzzled', 'pride', 'published', 'Ringers', 'materialize', '*T*-13', 'Canada', '*T*-253', 'gained', 'anything', 'Fairlawn', 'LATE', \"O'Connor\", 'test', 'late', 'clock', 'Tom', 'follow', 'flashy', 'Backer', 'fell', 'anticipation', 'phasing', 'Partners', '*-2', '*T*-196', 'HUD', 'assure', 'restructurings', 'finest', 'Soup', 'sleep', 'suitors', 'language-housekeeper', 'Nomenklatura', 'Achievement', 'catch', 'Bordeaux', 'outlawing', 'truthful', 'peals', 'innuendoes', 'sharp', 'inflated', 'Rita', 'heightened', 'hay', '7.4', 'shipping', 'Zaharah', 'Comprehensive', 'Solomonic', 'membership', 'jurisdiction', 'registered', 'living', 'Sweden', 'graduated', 'nonexecutive', 'friendship', 'commitment', 'Wedtech', 'hamstrung', 'unexpected', 'historic', 'top-yielding', 'trains', 'domination', 'collective-bargaining', 'includes', 'use', 'net', 'questions', 'Wash.', 'shopping', 'Year', '*T*-11', 'classroom', 'crowded', 'worthiness', 'Doerflinger', 'yet', 'signing', 'scrape', 'Barge', 'observations', 'VanSant', 'driving', 'resentment', 'inquiries', 'rolling', 'Cos.', 'kidnapping', 'crunch', 'purchase', 'awful', 'Criminal', 'Fellowship', 'hard', 'ship', 'hysteria', 'Zealand', 'Soups', '145', 'preliminary', 'sterling', 'essays', 'foul', 'clerics', 'USX', '*T*-25', 'cop-killer', 'Lowe', 'fuming', 'fled', '77,000', 'Unico', 'buses', 'Jennison', 'perfectly', '42-year', '1.50', 'brain', 'W.D.', 'fail', 'long-time', 'disclosed', '176.1', 'substantial', 'absurdity', 'watching', 'Money', 'require', 'remain', 'operate', '566.54', 'effectively', '1,400', 'edition', 'devise', '*T*-146', 'culprit', 'afraid', 'Britain', 'violated', '187', 'custom-chip', 'already', 'Mrs.', '42.1', 'unfair', 'quotations', 'resumes', 'court', 'Stocks', 'murdered', 'exerting', 'polyproplene', 'Taiwan', 'radio', 'Troubled', 'drafted', 'underscore', 'employers', '71', 'marketers', 'demonstrators', 'equity-purchase', 'dreamed', 'new-car', 'seek', 'speculating', 'ordering', 'Honduras', '644', 'suspensions', 'Steven', '116.4', 'Judges', '34', 'rejected', 'creation', 'Fair', 'discussing', 'Impact', 'seriously', '5', 'departure', 'Mount', 'Bolduc', '6.03', '2', 'millions', 'low-ability', 'booked', 'POTABLES', 'eases', 'welcome', 'cost-sharing', 'FTC', '133.7', 'Nicholas', 'Confidence', 'bargain', 'fanciful', 'helping', 'disarray', 'status', 'devouring', 'advent', 'nonresidential', 'lessen', 'bronze', '8300s', 'illegality', '2,303,328', 'determine', 'reclaim', 'Karl', 'approve', 'several', 'Survey', 'tie-breaking', '76', 'single-handed', 'Ginsberg', 'anxieties', 'authority', '1933', 'galling', '9.32', 'guilders', '*-159', 'finalized', 'tag', 'Herrington', 'training-wage', '170,000', 'marrow', 'Compound', 'engineering', 'raises', 'rose', 'deregulation', 'preparation', 'anti-programmers', '*T*-256', 'Claude', 'editing', 'With', 'Alexander', 'Antitrust', 'moderated', 'offerings', 'resists', '4.7', 'Christian', 'difficulties', 'accounting', '24,000', 'playwright', 'Sangyo', 'forecasting', 'Perestroika', 'attorneys', 'smothering', 'Colony', 'Aerospace', 'EXCHANGE', 'toll', 'skills', '*-42', 'accrue', 'Odyssey', 'constraints', 'benefits', 'we-Japanese', 'CHANGED', 'supporters', 'override', 'Food', 'attracting', 'compressed', 'rationed', 'Corp.', 'submit', 'Pamplin', 'Harris', 'sue', 'Sloan', 'Like', 'B', 'each', 'Harry', 'Glenn', 'misdemeanor', 'dormitory', 'prevalance', '30-year', 'polls', '45', 'currency', 'incomes', 'indexes', '6.21', 'belfry', 'document', 'jam', 'carrying', 'Payouts', 'synchronized', 'particularly', 'round', 'file', 'strengthened', 'responses', 'calls', 'us', 'Ore.', 'WHAS', 'corners', 'Tuesday', 'Cellars', 'Jihad', 'Cosby', '234.4', 'forgiven', 'Monday', 'Landis', 'November', 'how', 'NRDC', 'slightly', 'stressing', 'stick', '13\\\\/16', 'critical', 'between', 'doubts', 'Taizo', 'Report', '12.7', 'clobbered', 'during', 'capitalist', 'fans', 'covering', 'develop', 'rider', 'adding', 'Missouri', '326', 'tricky', 'chemical', 'plant', '12.82', 'warned', 'begot', 'buttoned-down', 'Mariotta', 'Higher', 'booklets', 'Haney', 'closely', \"'30s\", 'bread-and-butter', 'Scott', 'Evans', 'inaccurately', 'pro-democracy', '331,000', 'fuels', '88', 'onus', 'couples', 'ordeal', 'Keidanren', 'World-Wide', 'Trojan', 'exodus', '*-81', 'sweater', 'Biedermann', 'powwow', 'punish', 'ranks', 'District', 'Satrum', 'Buying', 'juggernaut', '203', 'savings-and-loan', 'Stock-index', \"'80s\", 'better', 'Valhi', 'value', 'rebound', '*T*-82', 'clamped', 'undersecretary', 'equipped', 'overtime', 'UPHELD', 'excessively', 'Douglas', 'Atlanta', 'Intermediate', '492', 'replace', 'explained', '472', 'Proceeds', '*-79', 'environments', 'mean', 'schemes', 'heebie-jeebies', 'pact', 'deluge', 'ton', 'After', '2017', 'controlling', 'concentrate', 'Angelo', 'mutual', 'cutthroat', '*T*-92', 'ultimatum', \"'82\", 'jobs', 'brilliant', 'waiting', 'Waste', 'Hawaiian', 'Cleveland', 'prisoners', 'Preston', '1,298', 'Bretz', 'stepped', 'Cambridge', 'market-share', 'greater', 'compilation', '1.9', '2691.19', 'Where', 'properties', 'man', 'authorizing', 'ROGERS', 'Whip', 'will', 'costly', '1637', 'told', 'nail', '*T*-244', 'protection', 'supplemental', 'RATE', 'U.S.', 'exceeding', 'clubs', 'unfair-trade', 'banking', 'subscription', '221.4', 'production', '*T*-125', 'double-A', 'entangled', 'patented', 'top-selling', '900', '42.5', 'excision', 'Yet', 'Zuckerman', 'Aug.', 'stigma', 'observed', 'retaliating', 'E.W.', 'zoomed', 'applications', 'answer', 'withdrew', 'hundreds', 'intoxication', 'van', 'reliance', 'theme', '1.24', 'second', '*-161', 'Earns', 'straight', 'tendering', 'progressive', 'Pramual', 'playing', 'classics', 'Roman', 'Abrupt', '8.65', 'Hasbrouk', 'develops', 'imaginative', 'avenge', '9.3', 'Arbitraging', 'demanding', 'brings', 'hot', 'lunch', '15-day', 'and', 'oils', 'hailed', 'subscriber', '16.05', 'per', '*T*-50', 'tentatively', 'UNION', 'participants', 'shall', 'IBC', 'Chuck', 'bludgeon', 'afterwards', 'arsenide', 'Bennett', 'You', 'negotiator', 'rated', 'Index-arbitrage', 'Radio', 'Rail', 'Chile', 'tools', 'outpaced', 'celebrity', '300-day', 'Industrial', 'care', 'upside', '68', 'twisting', 'Dale', 'Angels', 'pretty', 'healthy', 'high-rise', 'despised', 'sticky', 'Standardized', 'car', 'previously', 'gasoline', 'spooked', 'marketer', 'plaintiffs', 'Rockefeller', 'statute', 'Dugdale', 'Rieslings', 'newsstand', 'approved', 'Silverman', 'common', '1.1650', 'Northern', 'mania', 'knew', 'tows', 'lending', 'challenge', 'stored', 'Payments', 'legislation', 'nominated', 'markkaa', 'one-house', 'Destinations', 'Than', 'colony', 'familiar', 'passions', 'freeway', 'skill', 'accepted', 'blue-chips', 'Jovanovich', 'editor', 'hazards', 'outlets', 'barely', 'suddenly', 'Redevelopment', 'statewide', 'DES', 'items', 'Steel', 'According', 'exclusively', 'Darrell', 'set', '93.9', 'Tarwhine', 'initiated', 'still', 'apparel', 'decides', 'cheaper', 'index', 'scream', '108', 'encouraging', 'home', 'resigned', '*T*-186', 'newspaper', 'diverse', 'Federal', 'Hiroshima', 'regulatory', 'computer-services', '301', 'nutty', 'reserve', 'freedoms', 'health', '722', 'push', 'fingers', 'wallowing', 'closed', 'crossing', '*T*-36', 'dissident', 'slash', '*-53', 'reinstatement', 'Also', 'Overseas', 'Mather', 'pounds', 'disagrees', 'firmed', 'photos', 'ailing', 'arrival', 'leaky', 'give', 'worried', 'swaps', 'Moleculon', 'card', 'California', '71,309', 'protected', 'squeeze', 'Financially', 'Milne', '5.29', 'highly', 'proven', '1970s', 'Pa.', 'explanatory', 'issuer', 'Vitulli', 'eighth', 'leveling', 'complicate', 'initiating', 'classmates', 'harassment', 'representing', 'spackle', 'overnight', 'NTG', 'buy-outs', 'roadblock', 'DyDee', '59-year-old', 'security-type', 'Indiana', 'cavernous', 'accurately', 'states', 'Electronics', 'somewhat', '12-point', 'Schroder', 'C.', 'negative', 'Trading', 'Congressman', 'space', 'neighborhood', '49', 'cancers', 'closeness', 'disaster', 'Congress', 'Obligations', 'Dr.', '*T*-86', '*T*-181', 'Dollar-yen', '*T*-229', 'Goldsmith', 'People', 'tie-in', 'inner-city', 'loan', '142.85', 'Hawke', 'cites', 'Army', 'temperature', 'explore', 'founded', 'multi-crystal', '*T*-197', 'lotions', 'assembly', '120,000', '7.458', 'His', 'countries', 'note', '*-33', '306', 'staff-reduction', 'lure', 'Pasadena', '*T*-14', 'Schaefer', 'le', 'massacre', 'dramatic', 'Moscow', 'guy', 'Seahorse', 'admitted', 'businessman', 'DeFazio', 'scoop', 'leveraging', 'TREASURY', 'employer', 'expedited', 'Steelworkers', 'distributor', 'Dorrance', 'suspects', '*-87', 'unload', 'denied', 'bald-faced', 'aftereffects', '*-68', 'Warner', 'Charities', 'administrator', 'Northy', 'transacting', 'concentrated', 'Kaminski', 'Bowes', 'ventures', 'cranked', 'schoolteacher', 'carefree', 'reported', 'depleted', 'breezy', 'son', 'BMP', '*T*-207', 'hold', 'count', 'who', 'transactions', 'ON', 'manpower', 'Researchers', 'social', 'familiarization', 'millionaires', 'conventional', 'combat', 'Del.', '7.20', 'extent', 'morale', 'WTVJ', 'Babcock', 'Stadiums', 'staid', '*T*-93', 'entirely', 'APPEARS', 'Five', 'prints', 'training', '-LCB-', 'accomplishments', 'existence', 'Commission', 'furor', 'framework', 'appliances', 'Francisco-based', 'establishment', 'men', 'picket', 'disappointing', '1,570', 'No-Smoking', 'shipboard', 'Rather', 'Value', 'American-style', 'milestones', '-RRB-', 'Temple', 'caused', 'letters', 'reinvestment', 'speedway', 'own', '18,000', 'Harold', 'Chatsworth', 'DDB', '*T*-69', 'services', 'acid', '14.26', 'tower', 'slump', 'potential', 'growth', '12.5', 'undertaking', 'evaluating', 'handful', 'replete', 'stepping', 'Kent', 'Grant', 'Sauternes', 'Wright', 'unwary', '500', 'frozen', 'seized', 'unheard', 'tired', 'imminent', 'specific', 'batting', 'Rice', 'tubes', 'disagree', 'Failure', 'honors', 'stake', 'insidious', 'clipped', 'hero', 'Breakey', '50', 'nothing', 'Stephens', '608,413', 'billions', 'preclude', 'five-point', 'criminal', 'inefficiencies', 'Mary', 'truth', 'Private', 'Chandler', 'closer', 'headline', 'bit', 'taper', 'drug', 'recall', 'JUDGE', 'except', 'school', 'Henry', 'Restaurant', 'picked', 'mushy', 'fifth', 'Georgia-Pacific', 'valuations', 'McGuigan', '*T*-260', 'what', 'foldability', 'markdowns', 'cult', 'Kalipharma', 'master', '*-154', 'move', 'mail', 'findings', 'Corps', 'crippled', 'long', 'might', 'intelligence', 'change', 'Pierre', 'Kathleen', 'copied', 'August', 'protein-1', 'MERRILL', '29.3', \"Dunkin'\", 'megabytes', 'intrusion', 'halls', 'one-hour', 'merge', 'sit', 'Dallas', 'Marie-Louise', 'substance', 'wrath', 'sensation', 'instead', 'Blanc', 'Osaka', 'gigantic', 'barge', 'advise', 'tailoring', 'independent', 'generations', 'launched', 'impressed', 'ratings', 'Review', 'unlike', 'billion-dollar', '*-84', 'furious', '30-point', 'replicated', 'invention', 'abuzz', 'difficult', 'generators', 'verbatim', '*-124', 'annoyed', 'column', 'precious', 'museum', 'memorize', 'governors', 'pull', 'Spielvogel', 'Cartoonist', 'dominated', 'plight', 'slowdown', 'railcar', 'cases', 'highest', '85.7', 'Power', 'Hotel', 'dissemination', 'identities', 'starts', 'Nebraska', 'portrayed', 'noodles', '7.80', 'duty-free', 'duck', 'short-wave', 'Akerfeldt', 'climbed', 'Nov.', 'Angier', 'store', 'loyalty', 'congressmen', 'inspired', 'chassis', 'construed', 'pending', 'Housing', 'pushed', 'Giant', '*T*-65', 'excellence', 'chastised', 'addiction', 'brakes', 'implementation', 'sees', 'Lloyd', 'execs', 'Apple', 'balance', 'welfare', 'chain', 'Mission', 'Sayers', 'protocols', 'shop', '1.4', 'overused', 'borrowing', 'gets', 'Exxon', '$', 'parents', 'Biscayne', 'minus', 'depend', 'Already', 'compared', 'seems', 'meal', 'manufacturing', 'Integra', '100-megabyte', 'underwent', 'PHOTOGRAPH', 'female', 'Robertson', '*-62', 'gloomy', '*T*-137', 'advertised', 'omitted', 'Kelli', 'Commonwealth', 'Comtes', 'providing', '20-point', 'full-fledged', 'scams', 'penetrate', 'heard', 'decried', 'Neil', 'fifth-largest', 'Tony', 'Grandsire', 'weird', 'whom', 'unmarked', 'jeweler', 'NBC-owned', 'remarks', 'mesothelioma', '5.5', 'impetuous', 'focused', 'assistant', 'Guerrilla', 'wives', 'trademark', 'mimics', 'too', 'parishioners', 'intent', 'Gold', 'York', 'machine', '10-day', 'comments', 'limited-partnership', 'consumers', 'handed', 'Parkinson', 'hopes', 'residence', 'turmoil', '17.3', 'malignant', 'Citadel', 'Drobnick', 'Blue', 'large-scale', '*-134', 'Jacobs', 'enjoyed', 'like', 'unrestricted', 'Rated', 'maker', 'Rick', 'mechanisms', 'classifications', 'installing', 'sky', 'Chapter', 'tapping', 'consists', 'dealers', 'silver', 'fiscal', 'Deryck', 'B-1B', 'Reed', 'reaches', 'Steinberg', 'fines', 'abounding', 'Ackerman', 'auction', 'perhaps', 'Allergan', 'personal', 'Avon', 'Groups', 'bitterness', 'good-faith', 'EC', 'television', 'bring', 'backing', 'Hormats', 'version', 'Personal', 'Edge', 'yielded', 'write', 'stiffer', 'sold', 'Associates', 'stifle', 'hazardous', 'news', 'speaks', 'angle', 'Fulbright', 'passbook', 'Townes', 'inherent', 'morass', 'depositary', 'auctions', 'Later', 'PaineWebber', 'Any', 'capitalized', 'remains', 'capitalism', 'Nekoosa', 'weigh', 'allegedly', 'disclose', 'values', 'faultlessly', 'Rey', 'Yasser', '6.20', 'Legg', '23.25', 'families', 'beginning', 'sewer', 'movement', '*T*-130', '7.90', 'March', 'suggest', 'credibility', 'jump', 'tailor-made', 'one-yen', 'assault', 'delete', 'recently', 'appeared', 'Guigal', 'Key', 'clearly', 'commissions', 'Cru', 'glass', 'transfer', 'COLLECTING', 'honorably', 'Younkers', 'drawing', 'industrial-production', '!', '777', 'Closes', 'syndicate', 'astronomical', 'Scotia', 'economies', 'storm', 'Cluff', 'floor', 'notch', 'rendering', 'dismiss', 'Worksheets', 'conviction', 'starting', 'Elliott', '620', 'there', 'inadequate', 'Much', 'Rico', 'Drug', 'lung', 'counterpart', 'fixed-rate', 'odd', 'Hutchinson', 'appetite', 'institute', 'accrued', 'ritual', 'peddling', 'chatter', 'highway', 'control', 'unconsolidated', 'weakening', 'thread', 'resolve', '89.9', '1968', 'scripts', 'Sept.30', 'Trotter', 'colleagues', 'Abbey', 'bankroll', 'bang', '170,262', 'beleaguered', '10', 'lender', '1967', 'Shrum', 'Purepac', 'morning', 'confirmed', 'Edwin', 'hospitals', 'trail', 'network', 'guests', 'Linda', 'Foster', 'kits', 'scrupulously', 'gauges', 'handles', 'Turnaround', 'guarantees', 'candidates', 'Chaplin', 'journal', 'Inland', 'high-polluting', 'balloon', 'Triton', '*T*-257', 'highest-pitched', 'lock', '753', 'defended', 'Connecticut', 'improved', 'opposed', 'tumbled', '214', 'dollars', 'Nasty', 'major', 'Judie', 'underperforming', 'inflation', 'arched', 'dealing', 'industrywide', 'Brady', 'Coconut', 'opinions', 'Prudential-Bache', 'builds', 'capped', 'Patents', '3.625', 'History', 'entrench', 'purpose', '*T*-169', '5.8', 'Express-Buick', 'surplus', 'lifted', 'steadily', '*-15', 'pennies', 'sweat', 'Stadium', 'Leming', 'acquisition', 'generation', 'Bermuda', 'Kennedy', 'bargains', 'awareness', 'Research', 'touchy', 'Blunt', 'taking', 'nonrecurring', 'astonishment', 'gave', 'administrative', 'accused', 'anti-dumping', 'band', 'collapse', 'workforce', 'Herbert', 'unconstitutional', 'strong-willed', 'buck', 'economist', 'surprised', '4.10', '62%-owned', 'names', 'bearish', 'Producers', 'disaffected', 'Christie', 'composting', 'elephant', 'condemned', 'automation', 'precedes', 'finally', 'National', 'mix', 'techniques', 'pioneer', 'anxious', 'Barney', 'five-inch', 'fetching', 'solutions', 'offender', 'district', 'moderately', 'Marvin', 'refinery', 'tune', 'pickups', 'union', 'interest-rate', 'semicircular', 'Late', '2,500', 'Democrat', 'profitably', 'intensity', 'Cooper', 'single-lot', 'advocating', 'miscarriages', 'London-based', 'protections', 'Loewi', 'whipping', 'Germans', 'treating', 'milked', 'mouth-up', 'A-D', 'Conn', 'African', 'guards', 'Del', 'Britta', 'could', 'efficient', 'performance', 'superconductor', 'Stirlen', 'Taittinger', 'discovered', 'vetoes', 'expelled', 'academic', 'trap', 'paid', 'change-ringing', 'drop-in', 'promising', 'speculated', 'Liberation', 'Hanover', '5,000', 'undo', 'Yamaichi', 'Burgundy', 'DOONESBURY', 'Itoh', 'lucky', 'Grgich', 'Collector', 'awfully', 'steps', 'pains', '220', 'Teikoku', 'retardation', 'message', 'Brands', 'lend-lease', 'Majority', 'shares', '*T*-147', 'switched', 'engines', 'appropriations', 'impetus', 'Ark', 'Entertainment', 'returning', 'Mercury', 'way', 'Andrew', 'window', '*T*-127', 'kidnapper', 'year-to-year', 'wife', 'Jackson', 'introducing', 'everything', 'Mikhail', 'generated', 'agreement', 'pace', 'permitting', 'feeling', '7.65', 'asbestos-related', 'capital', 'outright', 'Eaton', 'commenting', 'premier', 'Generalized', 'treat', '54-year-old', 'Cab', 'botched', 'surgeon', 'modems', 'ethical', 'recommendation', 'conditional', 'outlook', 'facilities', '*T*-258', 'Particularly', 'skilled', 'captive', \"'ve\", 'committing', 'confines', 'insistence', 'contacted', 'refuses', 'Appropriations', 'promotional', 'Publishing', 'fluctuations', 'common-law', 'Red', 'practice', 'Bears', '*-127', 'explaining', 'balked', 'lovely', 'La', 'logic', 'five-cent', '6.84', 'naming', 'Spirit', 'bedding', 'romanticized', 'R.P.', 'Collins', 'smartly', 'telegraph', 'Goldinger', 'dynamics', 'bushel', 'AMR', 'chunk', 'period', 'Communist', 'flirted', 'speculation', 'raw', 'Ichiro', 'Anku', 'Trust', 'Guarantee', '*-97', 'Paribas', 'hid', 'Chapman', 'worthy', 'degrees', 'lady', 'Lovett', 'A.', 'mirror', 'sunlight', 'Agency', 'alcoholism', 'Pepperdine', 'Carlos', 'hair', 'Hatch', '*T*-70', 'market-oriented', 'conclude', '*-63', '2.19', 'cups', '361,376', 'Put', 'Cataracts', 'cadmium', 'debut', 'recommendations', 'grandstander', 'cue', 'nomination', 'obstacles', 'enables', 'unenthusiastic', '118', '75', 'broadcasting', 'Swearingen', 'sidestep', 'Westport', 'conducted', 'parallel', '*T*-227', 'muscling', 'bitter', '*T*-122', '95', 'cared', 'tradition', 'newcomer', 'erudite', 'scuttle', 'Besides', 'reversed', 'trials', '27.1', 'Dover', 'research', 'upward', 'sought', 'Bronces', 'Nelson', 'ISSUES', '245', 'Gayle', 'Asada', '*T*-126', 'Superdome', 'rate-sensitive', 'Discos', '21-month', '38.3', 'Sandifer', 'discharge', 'Robbie', 'administration', 'films', '*T*-42', 'institutional', 'implies', 'thus', 'Mo.-based', 'Bellows', 'hang', 'the', 'laws', 'Tassinari', 'clashed', 'fret', 'Chong-sik', 'heart', '811.9', 'Poor', 'movie', 'grim', 'coupled', '*EXP*-3', 'badly', 'friendly', 'Wells', 'retired', 'communications', 'sponsor', 'disciplined', '*T*-245', 'Forget', '14.5', 'Fortune', 'category', 'cutbacks', 'Ravenswood', 'evolution', 'England', 'conceding', 'kids', 'camera', '*-92', 'II', 'insolvency', 'addresses', 'merchants', 'force', '*-60', 'Fountain', 'moment', 'blue-collar', 'permit', 'Paso', 'underprivileged', 'Takashima', 'warns', 'JUDICIAL', 'rooted', '0.0085', 'Riese', '1956', 'container', 'restraints', 'containers', 'nation', '339', '10.2', 'diversifying', 'Fairless', 'computer', 'rebel', 'microprocessors', 'settled', '1940s', 'dumbfounded', 'ask', 'receiving', 'FAMILY', 'checkbook', 'sogo-shosha', 'believes', 'worst-case', 'discordant', 'influenced', 'public', 'rest', 'get', 'furniture', '*T*-171', '1975', 'achieving', 'unintelligible', 'Photography', 'retiring', 'family', 'computers', '57.7', 'proposals', 'sufficiency', 'top-level', 'port', 'year', 'Hubbell', 'quarter', 'now', 'motives', 'compound', 'performers', 'sent', 'Guinea', 'Related', '225.6', '*-82', 'exist', 'concede', '*T*-56', 'playful', '*-66', 'speeches', 'Superconductors', 'Keehn', 'company', 'traffic', '380', 'responding', 'concept', 'above-market', 'Tuscany', 'F.H.', '*T*-88', 'Hayes', 'Fang', 'Or', 'A', 'firms', 'deter', 'NIH-appointed', 'prove', 'C$', 'Gilts', 'proscribes', 'filling', 'sputtered', 'Tiger', '3057', 'Burgundies', 'takeover', 'rounds', 'punishable', 'vested', 'orders', 'Haven', '8300', '*T*-91', 'Ministry', 'worries', 'Greer', 'rubber', 'adjusted', 'Jonathan', 'Derel', 'murder', 'handle', 'aide', 'climb', 'Sonnett', 'rang', 'mill', 'teams', 'recorded', 'them', 'indicate', 'salaries', 'Free', 'Mutual', 'trip', 'neighbors', '18.6', 'renewal', 'retraced', 'market-based', 'Cote', '353', 'ITC', 'centralized', 'H.', 'powder', 'iota', 'Imports', 'texture', 'cope', 'someone', 'Petrus', '*T*-143', 'suing', 'characterizing', 'Piscataway', 'retailing', 'Baim', 'hint', 'protect', 'greatly', 'leaders', 'attractions', '29', 'occasionally', 'billionaire', 'Winning', '9', 'Only', '*-151', 'Data', 'tracking', 'spur', 'lowered', 'unitary', 'bounce', 'resistant', 'as', 'appropriated', 'where', 'feed', 'removing', 'profession', '48', 'Doak', 'bribed', 'Is', 'mostly', 'falls', 'F.W.', 'tells', 'self-esteem', 'Its', 'X', '10,000', 'upset', 'scandal', 'Olympic', 'Television', 'whether', 'obedient', '*-19', '*-20', 'portfolio', 'yearly', 'happening', 'universities', 'workbooks', 'El', 'Elsewhere', 'exports', 'Inventories', 'briefing', '*T*-38', 'polarized', 'Berlin', 'fastest-growing', 'represent', 'Walker', 'suburban', 'six-packs', 'boom', 'milestone', 'civics', 'illustrates', 'Greenville', 'GMAC', '45,000', 'confirms', 'outlays', 'miles', 'died', 'earliest', 'constitute', 'struggle', 'riskier', '13.90', 'double', 'aisles', 'backlogs', 'minivans', 'worsen', 'fundamentally', 'trend', 'Wozniak', 'Organizations', 'conspicuous', '13,056', 'Despite', 'Nissan', 'OF', 'concluded', 'plants', 'TO', 'Wilder', 'since', 'LIBOR', 'drastic', 'Kurland', 'stones', 'diamond', 'dilemma', 'damage', 'W.', 'Napa', 'Needham', 'web', 'lately', 'Danzig', 'source', 'building', 'presented', 'networking', 'Nobel', 'help', 'nations', '46', 'powerful', 'motor-home', 'grew', 'turnaround', 'with', 'establish', 'centers', '83,206', 'senate', 'Plaza', '*T*-242', 'election', 'amounts', 'physical', 'crane-safety', 'United', 'reopen', 'toilet', 'Test', '*T*-20', 'BTR', 'O.', 'Petersburg', 'enacted', 'compassion', 'Gottlieb', 'Osborn', 'AND', 'Officials', 'cast-iron', 'drastically', 'ingenuity', 'entertainment', 'twice', 'partial', '*-156', 'anti-program', 'Vineyard', 'current-carrying', 'denying', 'Metropolitan', 'Mercantile', 'interjects', 'perceives', '*NOT*', 'hugging', 'Salinas', 'shivers', 'Nicole', 'letter', '52-week', 'Bowl', 'Rockwell', 'preference', 'cheerleading', '*-45', 'Purchasing', 'pipeline', 'sleeping', 'ought', 'resumption', 'Society', 'implement', 'boutique', 'opening', 'Topix', '*-110', 'stimulated', 'Ky.', 'Maughan', 'shrank', 'Virgin', 'of', 'Biondi-Santi', 'strain', 'level', 'McFall', 'successful', 'aggressive', 'complicated', 'Lawyers', 'Charles', 'limbo', 'taxation', 'bench', 'BILLS', 'comparison', 'discrimination', '858,000', 'limits', 'Creek', 'vision', 'ultimate', 'Stephen', 'quote', 'tumultuous', 'rough', 'deficit', '*T*-182', 'preventative', 'drugs', 'sugar', 'Melamed', 'combined', 'brightened', 'cycle', '9.45', 'universally', 'Vos', 'riders', 'ill', 'feasible', 'missed', '*-52', 'automotive-lighting', '2.80', 'Representative', 'Lure', 'Paper', 'flightiness', 'examples', 'Foot', 'respondents', 'duly', 'competitive', 'Dallara', 'stage', '*T*-18', 'employees', 'Vicar', 'relations', 'laboriously', 'necessary', 'no-confidence', 'other', 'Einhorn', 'compliance', 'Ga.', 'alone', 'counterattack', 'unloaded', 'low-altitude', 'nonprofit', 'brokerage', '*RNR*-4', 'headcount-control', 'vary', 'enhanced', 'extended', 'swift', 'beds', 'I.', 'Owner', 'Corazon', '130.7', 'Down', 'converting', 'London', 'links', 'INTERBANK', 'Account', 'pills', 'principal', 'debts', 'presentation', 'Without', 'rusty', 'quantities', 'Pont', 'Conn.', 'pointed', 'Olsen', 'widely', 'eat', 'acceded', 'Board', 'tomorrow', 'introduces', 'types', 'least', 'merged', 'designated', 'secured', 'Meinders', 'Massachusetts', 'earned', 'pregnant', 'States', 'Instruments', 'airline-related', 'today', 'Banque', '*T*-156', '12\\\\/32', 'charm', 'directed', '0', 'class', 're-thought', '6.9', 'every', 'milk', '&', 'influence', '55', 'greedy', '*T*-150', 'Charlie', 'Zurich', 'execution', 'Drexel', 'breaking', 'Sutcliffe', 'downgrading', 'Colorliner', 'meals', 'projector', 'Mae', 'muzzling', 'blinks', 'regulated', '*T*-34', 'decorator', 'Investors', 'Honolulu', 'property\\\\/casualty', 'high-tech', 'took', 'Griffin', 'Sheep', 'CIA', 'accident', 'interest', 'cater', 'illegal', 'Morrison', 'Bromwich', 'tens', 'decay', 'U.S.-Japanese', '*T*-27', 'certificates', 'permissible', 'Newspapers', 'Rent-A-Car', 'Latin', 'scientific', '120-a-share', 'shift', 'Burnham', 'High', 'S&L', '497.34', 'reprove', 'cent', '11th', 'ballplayers', '*-17', 'report', 'invades', 'Heavy', 'producers', '730', 'transporting', '*T*-152', 'utilities', 'assisted', 'bottom-line', 'Angeles', 'expected', 'Advancing', 'Ian', 'forthcoming', 'Berman', 'busiest', 'Wayne', 'maintenance', 'portfolios', 'Dan', 'ahead', 'mistake', 'investing', 'Either', 'County', '5.82', 'diversified', 'Velcro', 'Red-blooded', 'soft', 'soliciting', 'thrift', 'print', 'Maryland', 'Goldman', 'deputy', 'Spaghetti', 'Equity', 'agents', '1903', 'excessive', 'Water', 'Farm', 'undercut', 'if', 'pickers', 'fractionally', 'manually', 'FUNDS', 'nominate', 'balls', 'sentencing', 'estimated', 'tabloid', '6.44', '-RCB-', 'lenders', 'effects', 'Observing', 'Soon', 'regulation', 'Gardner', 'proceedings', 'strongest', 'Denver', 'boosted', 'tariff', 'acquirers', 'tissues', 'Gasoline', '*T*-8', 'day', 'healing', '1987-88', '1987', 'modestly', 'Reasons', 'swings', 'testify', 'onto', 'queuing', 'easily', 'instructed', 'bone', 'distinguished', 'INS', 'income', 'prolonged', 'track', 'circulated', '227', 'task', 'decries', 'influential', '154.2', 'Tourism', 'gone', 'included', 'Hong', 'she', 'airports', 'Sabhavasu', 'Teacher', 'Video', '8.75', 'obligated', 'switch', 'Arbitrage', 'non-callable', '*T*-117', 'preventing', 'automotive-parts', 'efforts', '257', 'Ramirez', 'Could', 'Tulane', 'favorable', '126,000', 'affirmative', 'door', 'Sandberg', 'Raul', 'qualify', 'Ednie', 'thirtysomething', 'stable', 'fundamental', 'Antonio', 'Wakayama', 'receipts', 'considers', 'accelerated', 'Unitholders', '-', 'Federalist', 'publishing', '*-163', '6', 'Harcourt', 'Evidence', 'Katzenstein', 'Xiaoping', 'presidents', 'scandals', 'invariably', 'fearful', 'dolls', 'Finmeccanica', 'severance', 'stock-specialist', 'various', 'caller', 'roofs', 'real-estate', 'easy-to-read', 'favorably', 'eye', 'crude', 'Aktiebolaget', 'service', 'slated', 'openings', 'those', 'Tokyo', 'Clive', '3.28', 'Writers', 'bridge', 'Rae', 'Novell', 'walls', 'etc.', '*U*', '135', 'panel', 'eliminates', 'books', 'NBI', 'Eric', 'Bridgestone\\\\/Firestone', 'silicon', 'advocates', 'beverage', 'packages', 'delay', 'guarding', 'Arraignments', '125', 'diplomats', 'sheepskin', 'showed', '94', 'Ensrud', 'almost', 'five', 'they', '99.1', 'forest-products', 'predictably', 'Bew', 'consensus', '190-point', 'disseminate', 'fact', 'holiday', '61', 'Hot', '11.5', '*T*-185', 'rolled', '890', 'proteins', 'Hold', '*-39', 'Salon', 'teenage', 'creditworthiness', 'myriad', 'maintaining', 'hard-hitting', 'passed', '*-50', '100', 'weight', 'Patch', 'Nielsen', '7.40', 'globe', 'systematic', 'municipality', 'Californian', 'officially', 'renew', 'single', 'tramp', 'sometimes-exhausting', 'conservative', 'Geneva', 'near-limit', 'pressured', 'till', 'holding', 'relationship', '*-108', 'Spence', 'non-encapsulating', 'Strong', 'add', 'waif', 'giving', 'self-aggrandizing', 'acre', 'perceived', 'perceptions', 'three-lawyer', '*-102', 'escort', 'battery-operated', 'biscuit', '*T*-248', 'one-week', 'sinister', 'necessarily', 'regular', 'attempts', 'blighted', '1.8', 'continues', 'Prater', 'Transportation', 'lungs', 'financially', 'prosecutor', 'mating', 'spending', 'Solihull', 'scrutiny', 'Tokio', 'planes', 'Criticism', 'slate', 'influencing', 'supreme', 'continuous', 'processing', '50.45', 'Gates-Warren', 'operating', '43', 'Virginians', 'arguing', 'Smaby', '6\\\\/2', 'exposed', 'sight', '0.84', 'gaining', 'quota', 'war', 'performing', 'Albert', 'exceedingly', 'knife', 'Xerox', 'march', '1.1', 'Watson', '1990', 'over', 'downtown', 'remove', 'Elisabeth', 'pre-cooked', 'bottom', '*-98', 'YWCA', 'decided', 'visiting', 'affiliate', 'winners', 'secret', 'merchandising', 'details', 'gripping', 'disagreement', 'George', 'thin', 'ends', 'collaborated', '1.01', 'legislators', 'amendments', 'sections', 'Capitol', 'sends', 'remorse', 'magnets', 'Mississippi', 'Jenkins', 'picture', '7.45', 'his', 'payments', 'cleaned', 'Austria', 'Frankly', 'alert', '1969', 'cattle', 'Donoghue', 'reached', 'Chrysler', 'sets', 'impending', 'Newhouse', '45.3', 'empire', 'Eurobonds', '1.5805', 'two-time-losers', 'machines', 'restaurants', 'Cabbage', 'one', 'repair', '*-147', 'weighed', 'outrageous', 'Yorker', '6.50', 'Forster', 'numbered', 'rout', '1998', 'fabricate', 'Alan', '278.7', 'government', 'possible', 'Insight', 'final', 'unneeded', 'Publications', 'Off-Track', 'measure', 'eyeing', 'half', 'Eliminate', 'Authority', 'belong', 'chat', 'unchanged', 'Williams', 'plainclothes', 'prejudice', 'volume', 'lawsuit', 'generate', 'Egyptian', '370', 'businesses', 'determined', 'Wild', 'Tray', 'LANDOR', 'Taking', 'Greece', 'arguments', 'liners', 'fire', 'cosmetic', 'enters', 'string', 'conferees', 'offending', 'disruption', 'payment', 'sometimes-tawdry', 'does', 'fastest', 'sued', 'tension', 'lookee-loos', 'out', 'Bund', 'Cathryn', 'arms', 'flood', '*T*-81', 'Pinocchio', 'only', 'First', 'eager', 'licensed', 'full-time', 'induce', 'hunker', 'plus', 'continued', 'rings', 'able', '*-100', '84.9', 'RBC', 'recombinant', 'yield', 'automobiles', 'Commerce', 'seen', '*T*-94', 'rash', 'effort', '16', 'necklace', 'decades', 'flim-flammery', '672', 'Frederick', 'Senate-House', 'be', 'indexers', 'core', 'held', 'Makato', 'caretaker', 'Chiodo', 'information-services', '59', 'array', 'performed', 'whichever', 'Earnings', 'offense', 'Chardonnays', 'appliance', 'Peters', 'subtraction', 'R.I.', 'liquidity', 'coverage', 'for', 'reallocate', 'prompted', 'afford', '80', 'settlements', '382-37', '73', 'seven-yen', 'Nearby', '14.', 'hitter', 'interference', '334.5', 'even', 'immediately', '3.04', '*T*-208', 'tough', 'grand', 'aspires', '72.7', 'metals', 'acres', 'compares', 'range', 'paperback', 'cardboard', 'increasing', 'reduction', 'Sierra', 'young', 'partisans', '3\\\\/4', 'program-trading', 'judged', 'Hoylake', 'seduce', 'Heritage', 'ABA', 'Aptitude', '14.00', 'manipulators', 'pocket', 'clerks', 'technology', 'platinum', 'dark', 'Light', 'reap', 'midtown', 'Outside', 'Cup-Tote', 'uses', 'dirtiest', 'similar', 'identified', 'Old', '500-Stock', 'occupying', 'Francis', 'law', 'finished', 'rating', 'Barnum', 'lipsticks', 'Lewis', 'unaffiliated', 'cotton', 'THAT', 'B.A.T', 'combinations', '1.7', 'Several', '15.5', 'Municipal', 'Ganes', 'reporter', 'collapsed', 'Taurus', 'pick', 'code', 'benefited', '3.18', 'smoking', 'joined', 'cash-rich', 'greed', 'harvested', 'contains', 'Clays', 'accidents', 'Programs', 'Deregulation', 'ancestry', 'narcotics', 'expunged', 'Tandy', '240-page', 'injuring', 'Today', 'Arabia', 'Assistant', 'measures', 'abroad', 'warn', 'write-off', 'responded', 'easier', 'compositions', '8.19', 'concentrating', 'shadows', 'sphere', 'lieu', 'independence', 'revised', 'bells', '18', 'Swiss', 'harped', 'Adopting', 'woman', '*-31', '20', 'Ford', 'instances', 'pitting', 'portion', 'hedging', 'consistently', 'Stamford', 'shovels', 'merchandise', 'chairman', 'Everything', 'litigation', '20.5', 'recessionary', 'unsecured', 'screened', 'Milwaukee', 'bond', 'sweetened', 'Harvard', 'Spiegel', '17', 'decisive', 'mortgaged', 'Silicon', '*T*-96', 'purposes', 'fights', '*T*-46', 'Pacific', 'return', 'stock-manipulation', 'Phipps', 'loved', 'Hills', 'Given', 'presidential', 'bakery', 'annually', 'contest', 'prices', 'test-drive', 'Graduates', 'blender', 'enclosed', 'inhibit', 'defends', 'desperately', '*-61', '109.73', 'Consequence', 'convert', 'Mellon', 'trade', 'Hummerstone', 'brought', '126.1', 'described', 'reversal', 'Packaging', 'prostitute', '*-101', 'sweatshirts', '185.9', 'billion', 'nobody', 'Optical', 'all-cash', 'Sullivan', 'examined', 'polyester', 'Designated', 'actual', 'Funny', 'investor', 'initialing', 'favors', 'secondary', 'automotive', 'shareholders', 'Environment', 'payrolls', 'continuingly', '*T*-74', 'gains', 'skidded', 'retail', 'eliminated', 'load', 'anecdotal', '266', 'ticket', 'dawn', 'admits', 'persons', 'permanent', 'assassinated', 'Shores', 'struggling', 'quantity', 'exceeds', 'super-absorbent', 'ultimately', 'drivers', 'Takeover', 'Leo', 'discontinuing', 'Gotta', '16.9', 'enact', 'avoid', 'equal', 'dollar-denominated', 'business', 'incisions', 'Ralston', 'moratorium', 'THREE', '78', 'launch-vehicle', 'principals', '321,000', 'relied', 'representatives', 'unfettered', '*T*-59', 'ties', 'lowering', 'diluted', 'rumored', 'Stork', '25.6', 'outbid', 'slashing', 'SEC', 'individuals', 'aces', 'killed', 'strategic', 'entrepreneur', 'banning', 'April', '0.05', 'echoed', 'justifying', 'signature', 'copper-rich', 'overcapacity', 'ovation', 'tendered', 'Daily', 'interest-bearing', 'Sheffield', 'Bowman', 'Cancer', 'Just', 'McDonald', 'Fire', 'series', 'Christmas', 'So', 'operated', 'Continued', 'Japan', 'Park', '226,570,380', 'announcement', 'Deposits-a', '*T*-155', 'Stories', 'obtain', 'Mo.', 'derived', 'jury', 'pound', 'owners', 'clarified', 'insider-trading', '273.5', 'commit', 'investigations', 'improvements', 'Express', 'Team', 'Macmillan', 'side', 'traders', '374.19', 'withdraw', 'Dompierre', 'Piper', 'Neither', 'Manufacturing', 'philosophy', '6.6', 'two-tiered', 'lay', 'chilled', 'factoring', 'family-planning', 'Allen', 'wait', 'contribution', 'twin', 'anti-takeover', 'Gary', 'roughhewn', 'barrier', 'government-owned', 'YMCA', 'glitches', 'name', '2005', 'certin', 'Feb.', 'claims', 'test-practice', '*T*-205', 'Nagymaros', 'due', 'item', 'vicars', 'ball', 'buoyed', '57.50', 'Maxwell', 'codified', 'Taylor', 'taken', 'Powers', '*-69', 'boomers', '3.7', 'Subcontractors', 'improbable', 'pitches', '*T*-80', 'including', '700', 'considerably', 'Possibly', 'austere', '*T*-32', 'co-author', 'integration', 'associated', 'portions', 'electricity', 'Gorman', '705.6', '8.35', 'rechargeable', 'Circulations', 'Dominus', 'neutrons', 'Vichy', 'Wellington', 'Railroad', '*T*-212', '*-136', 'underwriter', 'on', 'text', 'interesting', 'Jaguar', 'Investments', 'evensong', 'predicts', 'intrusions', 'distributes', '3.19', 'negotiators', 'piracy', 'conglomerate', 'harms', '*T*-259', 'Bonds', '*T*-153', 'moving', '16,000', 'students', 'severe', 'behalf', 'direction', 'unusual', '1986', 'machine-gun-toting', 'lobbyists', 'absorbed', 'waters', 'once', 'yourself', 'courtroom', 'recalls', 'striving', 'rumors', 'pension-fund', 'Us', '*-36', 'winner', 'radically', 'crocidolite', 'publishes', 'Disputada', 'Polytechnic', 'Opportunity', 'call', 'plagued', '609', 'Gaithersburg', 'Lentjes', 'food', 'Most', '107.03', 'temporary', 'advertise', 'inspection', 'money-fund', 'midnight', 'Exxon-owned', 'approval', 'Crown', '372.14', 'custom', 'selling', 'prototype', 'routes', 'Magna', 'profit', 'Anything', 'grandfather', 'Kuala', 'Bramalea', 'backgrounds', '16.7', 'covered', 'alcoholics', 'temporarily', 'priciest', 'uptick', 'Equal', '1994', 'Sable', '70-a-share', 'irony', 'assurance', 'Midvale', 'softening', 'half-hour', '225', '3', '1937-40', 'deliberating', 'Riviera', 'drives', 'transplantation', 'abolishing', 'crises', 'fixtures', 'Laboratories', 'lobster', 'bag', 'Fulton', 'Gerard', 'raced', '*T*-41', 'IRS', 'forecast', 'non-farm', '*T*-128', 'wizards', 'Vice', 'auctioned', 'need', 'D.C.', 'outlay', 'Ranger', 'genie', 'Sir', 'liberal', 'Publishers', 'passages', 'modest', 'says', 'replacement', 'Dinkins', 'crossed', 'geography', 'multitude', 'Adds', 'article', 'Stuart', 'thugs', 'Dumpster', 'motion', 'disappear', 'erect', 'cash-flow', 'else', 'specialists', 'notably', 'Banking', '*T*-177', 'Miss.', 'ABORTION', 'Economy', 'gross', 'Cost-effective', \"D'Amico\", 'narrowly', 'Carla', 'winter', 'acquire', 'middle', 'serve', 'climbing', 'Fuji', 'entitles', 'notion', 'listing', '5.1', 'campus', 'answered', 'vintages', 'Articles', 'Barfield', 'putting', 'coupon', 'lent', 'implicit', 'exporter', 'pricings', 'dismay', '23.72', '32.8', 'bullets', 'Labouisse', 'competitions', 'HHS', 'churches', 'credit-rating', 'executed', 'Bowery', 'qualities', 'desktop', 'warrant', 'housing-assistance', 'Nevertheless', 'Simmons', 'impart', 'EST', 'leather', 'amend', 'margins', 'polled', 'Mostly', 'jeopardizing', 'attacks', 'error', '7\\\\/16', 'bias', 'Mario', 'holidays', 'factor', '*-103', 'A.D.', '*-29', 'harshly', 'Veselich', 'Veraldi', 'chance', 'flies', 'chip', '*T*-236', 'Sunday', 'China', 'trespass', '113.2', 'supposedly', 'cell', 'Traverse', 'Merc', 'Oxnard', 'continuing', 'leveraged', 'carillons', '14.75', 'treatment', 'spenders', 'steelmaker', 'Irwin', 'Revolution', 'counseling', 'thieves', 'minority', 'old-time', 'analyst', 'so-called', '85', 'satisfactory', 'tightened', 'school-improvement', 'arrested', 'Ricken', '65', 'marketing-communications', 'Grain', 'Guild', '8.04', 'raised', 'remainder', '*-57', 'Louisiana', 'assemble', '*T*-233', 'bold', 'Putty', 'Des', 'Leighton', 'unpopularity', 'chicago', 'Spoon', 'depressed', 'sure', 'intraday', 'this', 'repaid', 'number', '*T*-211', 'deserve', '*-115', 'preset', 'exchanges', 'spin-off', 'Ill', 'changes', 'central', 'arts', 'triple-A', 'rear-seat', 'surreptitiously', 'sewing-machine', 'Martin', 'Woodward', 'investment-grade', 'valuation', 'jostle', 'purchased', 'Toronto-based', 'Kerensky', 'tense', 'Health', 'trading-company', 'Laser', 'stairs', 'Kawasaki', 'smooth', 'regarded', '80.50', 'Murakami', 'poison', 'Gillespie', 'replacement-car', 'Few', 'ground', '149', 'succeeding', 'leader', 'slow', 'giants', 'Maybe', 'causes', 'result', 'threatened', 'Neanderthals', 'pre-existing', '8.53', '*-119', 'position', 'yen', 'Americana', 'Parliament', 'crisis', '*T*-12', 'money-market', 'Carson', 'profit-taking', 'wherewithal', 'Champagne', 'outsiders', '1991-1999', 'fleet', 'Mogavero', 'Philadelphia-based', 'recovering', '180', 'East', 'raise', 'reports', 'received', 'happened', 'prizes', 'best-selling', 'Lazzaroni', 'stirrings', 'Fourteen', 'makes', 'stellar', 'gather', 'lap', 'Cask', 'liberals', 'harmful', '62.5', 'creates', 'acquisition-minded', 'Lids', 'celebrate', 'Cray-3', '2.30', 'Larry', 'betterment', 'Hymowitz', 'avid', 'day-care', 'upbeat', 'importer', 'profitability', 'peculiarities', 'based', 'destroy', 'Iowa', 'tutorials', 'publicity', 'arbitragers', 'reservations', 'Social', 'Koito', '4.2', 'There', '5.70', 'copies', 'NEW', 'Policies', 'initially', 'aim', 'bell-ringer', '321', 'Brean', 'consonant', 'laying', '8.60', 'wanting', 'mundane', 'ORTEGA', 'brilliantly', 'fault', 'Pickens', 'Correll', 'ownership', 'economists', 'acts', 'FIRST', 'want', 'restructures', 'PS', 'zone', 'negotiations', 'N.J', 'pharmaceuticals', 'eating', 'pulp', 'J.P.', 'wisdom', 'Dutch', 'boost', 'Kenneth', 'Orange', 'disseminating', 'Bricklayers', 'Barrels', '6,000', 'sophisticated', 'CEOs', 'breakdown', '4,000', '*T*-77', 'stretching', 'Primerica', '34.625', 'pack', 'keyboards', 'Altogether', 'accusing', 'fees', 'Firms', '1981', '*T*-35', 'foods', 'high-rolling', 'case', 'skepticism', 'apiece', 'halts', '47.6', 'urge', 'Many', 'subscriptions', 'settle', 'cues', 'foundation', 'goal', 'Voice', 'predictable', 'chips', '30.6', 'instruction', 'Czech', 'Thai', 'Rhone', '*-74', '43-year-old', '7.88', 'trader', '58', 'meetings', 'creator', 'Piero', 'loser', 'conflicts', 'lynch-mob', 'accordance', 'above', 'single-handedly', 'an', 'pealing', 'join', '*-38', 'earning', 'failures', 'Nasdaq', 'architect', 'Wilson', 'payable', 'supplier', '387.8', 'Experts', 'fast-food', 'rapport', 'called', 'stop', 'Cabernets', 'transportation', 'nationalist', 'licensing', 'results', '59.6', 'talk-show', 'Legal', 'music', 'polish', 'diseases', 'enviable', 'regarding', 'Government', 'distinct', 'Reames', 'newly', '26.8', 'pre-1933', 'Resistance', 'saving', 'representative', 'photocopy', 'Trump', 'huge', '1997', '2-3', 'Freeport-McMoRan', 'shaping', 'G.', 'complexes', '*T*-162', 'term', 'earnings', 'Killeen', 'interrogated', 'vans', 'Mr.', 'halt', 'morbidity', 'totaled', 'Calif.-based', '*T*-163', '8.70', 'funny', 'lowest', 'Prior', '850', 'expects', '*-112', 'insinuating', 'among', '*T*-250', '*-70', 'Enzor', 'hospitable', 'rampage', 'Shortly', 'date', 'attached', 'build', 'Something', 'confident', 'tete-a-tete', 'popular', 'night', 'editors', 'wo', '397', 'log', 'Due', 'incident', 'differ', 'Winiarski', 'external', 'Sigler', 'certainly', 'contracted', 'frequently', 'Carrier', 'Perch', 'stock-selection', 'battle', 'remarkable', 'teacher', 'until', 'reassuring', 'male', 'regulators', 'compensate', 'beneficiary', 'discos', 'Lufkin', 'On', '*-46', 'unique', 'Show', 'reorganization', 'Don', 'Tribune', 'full', 'Cincinnati', '1977', 'crashes', '1999', 'red-and-white', 'alternatives', 'world-wide', 'continuously', '2.29', 'Menem', '33', 'holds', '*-88', '*T*-55', 'Computer', 'bribery', 'Lord', 'Salvador', 'fielded', 'wonder', 'Jr.', 'rentals', 'regulations', 'played', 'Index', 'zero', 'India', '374.20', 'argued', 'detailed', 'World', 'scheduled', 'hardware', 'changing', 'Operations', 'Rapanelli', 'calling', 'blocks', '5.63', 'consulting', 'hunted', '82,389', 'spring', 'Daiwa', 'DIALING', 'IX', '734.9', 'broker', 'Clarence', '9,118', 'savings', 'James', 'newspaper-printing', 'TRIMMING', '3.1', 'institution', 'statutory', 'squeezed', 'Portugal', 'Not', 'Structural', 'Baker', 'operates', 'Transamerica', 'permitted', 'latest', 'Scypher', 'Women', 'disturbs', 'ventilated', 'attempting', 'Mortgage', 'interstate', 'Salmore', 'Vermont', 'race', 'shipyard', 'softer', 'gyrations', 'restructuring', 'inventory', 'quashing', 'cells', 'plan', 'send', 'step', 'Germany', 'middle-ground', 'Seattle', 'hampered', 'meanwhile', '133', 'obtained', 'Gerhard', 'drinks', 'GOP', '77.6', '*T*-43', 'Knopf', 'Anti-Deficiency', 'protein', 'shirts', 'researchers', 'clippings', 'Leigh', 'mandates', 'fretted', 'facing', 'airline', 'drooled', 'requested', '598', 'announced', 'confuse', '847', 'investigating', '1992', 'interbank', 'Skokie', 'succeeded', 'chronicle', 'Delmont', 'tire', 'memory', 'revived', 'Pretoria', 'sticker', 'Gordon', '4.5', 'goodies', 'crucial', 'Sprint', 'liquid', '169.9', 'bell', 'futures-related', '90-day', 'courts', \"'re\", 'Saul', 'Unlike', 'toward', 'Midwesco', 'Medicine', 'takes', 'packaging', 'upheld', '2000', 'show', 'equities', 'Diceon', 'robotic', 'solicitor', 'House', 'in-store', 'supply', 'mediocre', 'manufacture', 'Raton', 'workers', 'defines', 'co-developers', '1993', 'lifes', 'arrows', 'Volatility', 'run', 'thought', 'reorganized', 'disposables', 'ringers', 'unfairly', 'inverse', 'Canepa', 'Moody', 'rung', 'Editorials', 'Continuing', 'proponent', 'resign', 'Watanabe', 'hosted', 'sanctions', 'discouraging', 'promotion', 'ward', 'Michael', 'mark', 'politics', 'Lancaster', 'shot', 'Barbados', 'magnified', 'under', 'Sun', 'Washington', 'pick-up', '58-year-old', 'claim', 'electric', 'troubles', 'Namibian', 'Houston', 'hearing', 'discontent', 'though', '3.55', 'kicker', 'luck', 'economy', 'verge', 'Critics', '300,000', 'Georgia', 'S.p', 'Newgate', 'gallium', 'Capital', 'opened', '*T*-232', 'treats', 'undergoing', 'oust', 'separation', 'Terms', 'parts-engineering', 'Wellcome', '*T*-30', 'self-regulatory', 'Regal', '310', 'entered', 'Here', '7.3', 'Mexican', 'boots', 'FAX', 'operator', 'install', 'CoreStates', 'framers', 'Laurence', 'occurs', 'Anglia', 'Tots', 'specializing', '8.30', 'perpetuate', 'identical', 'police', 'Before', 'photographs', 'erode', 'posting', 'stars', 'unanticipated', 'Young', '2029', 'Funded', 'light', 'flows', 'daily', '386', 'replies', 'instrument', 'Panama', 'Use', 'Dominion', 'Eakle', 'semiconductor', 'lease', '778', 'DEPOSIT', 'deem', 'rankings', 'provide', 'built', 'frenzy', 'Michio', 'table', 'Runkel', 'Utsumi', 'electorate', 'lights', 'features', 'Michelin', 'subindustry', 'sickness', 'commodities', 'burden', '*T*-76', 'awards', '81.8', 'politically', 'recyclable', '64.5', 'meaning', 'drift', 'deny', '1,000', 'calculations', 'broadcasts', 'Edwards', 'bureaucratic', 'withdrawal', 'unfathomable', 'oil', 'unsolicited', 'canine', 'clues', 'toy', 'Puerto', 'deeds', 'peaks', 'Kidder', 'discontinue', 'brokering', 'pulls', 'W.N.', 'balanced', 'gas', 'classed', 'Asked', 'fall', 'introduced', 'dinosaurs', 'claimed', 'Sauvignon', 'Giuliani', 'demonstrations', '*T*-165', 'mutual-fund', 'symbolic', 'complaints', '*-25', 'Hearst', 'Ana', '92', 'cautiously', 'carrier', 'actually', 'Senior', 'sub-segments', 'current', 'rewrite', 'answers', 'lawyer', 'Paul', 'objectionable', 'stacking', 'valued', 'partisan', 'refuge', 'Proper', 'Intelogic', 'silicone', 'bankers', 'guerrillas', 'demobilize', 'Nations', 'Foundation', 'pose', 'city-owned', '*EXP*-1', 'successfully', 'Braun', 'Dogs', 'indicator', 'Symbol', 'participated', 'industrials', 'defendant', 'check', 'Old-House', 'Furukawa', 'Roukema', 'barred', 'CDC', 'offend', 'seeing', 'Burt', 'exceptional', 'relation', 'Nev.', 'maybe', 'Beach', 'reward', 'cooperation', 'viewers', 'according', 'circulation', 'disproportionate', 'seasonally', 'represents', '*-22', 'stand', 'unrealistically', 'Conference', 'going', 'crushed', 'benefit', 'drearier', '5.276', 'enticed', 'ACQUISITION', 'open-top', 'perform', '99.3', 'Industries', 'seasonal', 'shortages', 'negatives', 'curtailed', 'scarcely', 'Pet', 'incentives', 'Fulham', 'corridors', 'Joseph', '1989-90', 'altered', 'outdistanced', '150,000', 'slowly', 'Datapoint', 'English', 'capitalize', 'runs', 'caution', 'especially', 'far', '30,537', 'races', 'multiplying', 'year-ago', 'bribing', 'dashed', 'Lakes', 'System', 'high-risk', 'trailed', '*', 'Ed', 'athletic', 'square', 'investment', 'chefs', 'providers', 'weeklies', 'de', 'full-year', 'please', 'Weisfield', '1,050,000', 'Richebourg', 'Every', 'Along', '1,880', 'Bonnell', '2.5', 'grapes', 'situation', 'mudslinging', 'Andersson', 'post-hearing', 'wanted', '6,799', 'revising', 'homework', 'winning', 'considered', 'declaration', 'impatient', 'floating-rate', 'Pennview', '*T*-218', 'cheat', 'manufactured', 'Under', 'sentence', 'counts', 'binge', '1.61', 'officials', 'reeling', 'Intermec', 'Jon', 'monied', 'left', '7', 'accountants', 'symptoms', 'Indeed', '*-131', 'IT', 'Co', 'another', 'resume', 'saying', 'Short', 'nondurable', 'sticker-shock', '1.26', 'attractive', 'Credit', 'cooperating', 'Thursday', 'Productions', 'Zicklin', 'industries', 'cut', 'PRODUCTS', 'laser', 'Jenrette', 'Advocates', 'openly', 'youthful', '*T*-48', 'fuel', 'Touches', 'Phillip', '*T*-191', 'advertisements', 'fronts', 'purchases', '100-share', 'formally', '1.8500', 'high-speed', 'evaluation', 'asserting', 'Equus', 'front', 'defuse', 'Hammond', 'Carnegie-Mellon', 'Felten', 'beat', 'White', 'customer', 'stabbed', 'SCI', 'disclosures', 'anticipated', 'fierce', 'printers', 'Barth', 'steady', 'engaged', 'Issues', 'Beauty', 'prosecution', 'happier', 'Lynch', 'Academically', 'Country', 'Julia', 'revenues', 'impression', 'sympathy', 'won', 'transplants', 'escalated', 'Absorbed', 'fainting', 'exercised', 'street', 'fifth-grade', 'confirm', 'standard', 'stood', 'fair', 'hospital', 'nor', 'medical', 'paper', 'anticipates', '7.62', 'MORTGAGE', 'viewing', 'impossible', '14.13', 'unraveling', 'conference', 'veteran', 'Bon', '*-71', 'devices', 'tenfold', 'Sidak', 'outlawed', 'sign', 'clannish', 'versions', 'Stock', '55.1', 'drinking', '*-99', 'SDI', 'Cannell', 'potentially', 'aiming', 'prohibited', 'Major', 'Pace', 'amount', 'processors', 'examinations', 'shipbuilding', '1st', '*-144', 'global', 'loses', 'proving', 'Elders', '3.01', '2009', 'merchant', 'FBI', 'off-year', 'respectable', 'Even', '18-year-old', 'Yang', 'mulling', 'political', 'automated', 'sports-oriented', 'chemicals', 'staying', 'touted', 'borrowings', '16,072', 'writer', 'Rowe', 'Italian', 'decade-long', 'adult', 'publish', 'overdone', 'old-style', 'slip', 'Kill', 'signals', 'sluggishness', 'SuperDot', 'prosecuted', 'expectations', 'Eveready', 'it', 'congressional', 'Norwest', 'longer-term', 'recalling', 'pressman', 'Price', 'salarymen', 'arrangement', 'asbestosis', 'exhibition', 'motive', 'story', '6,500', 'recognition', 'worsening', \"O'Neill\", 'refunds', 'McMillin', 'box', '*-76', 'win', 'Italy', 'knowledge', 'uncanny', 'unfunded', 'N.Y', 'tours', 'Dynamics', 'methods', 'journalistic', 'feared', 'notes', 'Maytag', 'belonging', '25', 'stayed', 'Times-Stock', 'Argentine', 'peace', 'away', 'Family', 'Lee', 'unattractive', 'variation', 'endorsed', 'superior', 'Herald-American', '175', 'threatens', '*T*-240', '2.07', 'fluent', '19.50', 'denounce', 'designers', 'high-stakes', 'assert', 'reruns', 'procedures', '36-minute', 'payouts', 'Ross', 'plastic', 'obvious', 'following', 'ninth', 'stockholders', 'fiber-end', 'Jim', '53', 'grade', 'fast-growing', 'stands', 'Ratner', 'Program', 'rumor', 'Beta', '1', 'longtime', 'traditionalists', 'loom', '*T*-66', 'Mayland', 'cleared', 'location', 'reducing', 'Notes', 'ensure', 'Champion', 'College', 'disputes', '*-77', 'Boesel', 'hostage', 'somebody', '30-share', 'poorly', 'Asians', 'vs.', 'Delwin', '341.20', '22\\\\/32', 'INTERPUBLIC', 'POP', 'single-family', 'ruled', 'Linden', 'art', 'soon', 'mortgage', 'cash', 'disaster-assistance', 'boosts', 'Michaels', 'sensitivity', 'matters', 'Rothschild', 'armed', 'reporters', 'stadium', 'patent', 'reduce', 'amounted', 'after', 'Trettien', 'statue', 'impudent', 'design', '*T*-144', 'dusty', '909', 'For', 'computer-assisted', 'fourth', 'achievement', 'Sebastian', 'year-long', 'worse', 'Miles', 'reader', 'Assets', 'Wine', 'banned', 'superiors', 'formula', 'Arbitrage-related', 'Champagnes', 'phrase', 'shortly', 'advanced', 'morale-damaging', 'nature', 'busloads', 'bags', 'citation', 'Sidewalk', 'pressure', 'reviewing', '*T*-140', 'realization', 'begun', '1.28', 'meeting', 'ideas', 'intimidate', '*T*-6', 'clearing', 'committees', 'clean-air', 'painting', 'As', 'Asian', 'councils', 'Citing', 'exporters', 'wholesale', 'editorially', '98.3', 'reacted', 'flights', 'Concerned', 'Adolph', 'Arlington', 'wealthy', 'N.', 'water-authority', 'Western', 'competing', 'Upjohn', '*T*-184', 'Ohio-based', 'signifying', 'allow', 'wealth', 'automobile', 'nowhere', 'quipped', 'carefully', 'wheels', 'Earlham', 'project', 'feel', 'NATIONAL', 'researching', 'IMSAI', 'Revenue', 'complaint', '*-8', 'characteristics', 'get-out-the-vote', 'provided', 'suffered', 'void', 'Junk', 'assembly-line', 'Danforth', 'fit', 'usurp', 'bonds', 'appreciation', 'uttering', 'entrants', '85.1', 'gradually', 'documents', 'equals', 'causing', 'minted', 'exploit', 'cigarette', 'understanding', 'over-the-counter', 'shelter', 'banker', 'Chicago', 'bat', 'Asher', 'rebuffed', 'investigation', 'ignoring', 'Perignon', 'entertain', 'alternative', 'green', 'ASLACTON', '195', '*-138', 'Orrick', 'mammoth', '*-145', 'corporations', 'north', 'Duluth', 'certain', 'nine-member', 'reflection', '*T*-10', 'surveyed', 'Futures', 'Basin', 'painted', 'crews', 'enabling', 'pair', '*T*-239', 'aggravated', 'How', 'penalty', '300-113', 'Schlemmer', 'disease', 'retorts', 'desires', 'Courter', 'negotiate', 'diminish', 'Average', 'Vegas', 'Urban', 'professionals', 'Graham', 'energy-services', 'retentive', 'events', 'Mitsubishi', 'vacant', 'bled', 'ECONOMIC', 'singled', 'test-preparation', 'Pattenden', 'strength', 'presidency', 'flatulent', 'Van', 'Richard', 'Peabody', 'true', 'friends', 'save', 'overvalued', 'unitholders', 'into', 'co-chairman', 'point', 'Coniston', 'mainland', 'Signs', '50-50', '4.3', 'car-development', 'financial', 'Synergistics', 'Convention', 'asbestos', 'diplomatic', 'Bugs', 'Fla.', '62', 'Fields', 'upstream', 'units', 'Devon', 'inviting', 'Black', '*-73', 'urged', 'Keith', 'Kathryn', 'off-off', 'longest', 'amphobiles', 'disclosure', 'promote', 'Inventor', 'scarce', 'Iran-Contra', 'stringently', '0.2', 'Random', 'Macheski', 'chalk', 'winding', 'ASSETS', '*T*-247', 'surviving', 'future', 'complex', 'totaling', 'mortgages', 'assume', 'Since', 'aid', 'Great', 'January', 'capability', 'backed', 'warehousing', 'degenerative', 'high-minded', 'prosecuting', 'Holdings', 'price-depressing', 'bombs', 'equipment', 'Pittsburgh', 'Part', 'forces', 'fighting', 'advancing', 'probably', 'stone', 'takeover-stock', 'time', 'named', 'Amendment', 'invests', 'close-up', 'nullified', 'matches', 'wears', '*ICH*-1', 'exhibits', 'logo', 'risk-free', '*T*-64', 'redistribute', 'reference', 'seats', 'Terrace', 'protracted', 'Above', 'Banks', 'Output', 'Wednesday', 'watch', 'BANKERS', 'foreign-stock', 'booming', 'consultants', 'halted', 'looked', 'Ala', 'Basic', 'payoff', 'absolute', 'how-to', 'reins', 'compelling', '570', 'certified', 'lotter', 'controls', 'their', 'Interviews', 'Dell', 'creature', '7.78', 'fat', 'authorizes', 'Big', 'Brooklyn', 'Ward', 'band-wagon', 'posing', 'Nixon', '*T*-164', 'trading', '64', 'symbol', 'Encouraging', 'folded', 'Hiroshi', 'Contel', '5.7', 'assumption', '20.07', 'consented', 'outstanding', 'pumping', 'Visa', 'aftermath', 'Boston', 'high-level', 'educational', 'owed', 'moments', 'Cheese', '13', 'bundles', 'travelers', 'doubt', '*T*-106', 'Riyadh', '14.43', 'pence', 'constitutional', 'coal', 'prescribe', 'emerging', 'cover', 'gentle', 'do', 'Moon', '0.1', 'Employers', 'E.C.', 'Hugo', 'vital', 'David', 'fed', 'adopted', 'format', '*T*-157', 'Dodger', 'prize-fighter', 'Derchin', 'seize', 'robustly', 'waterworks', 'volatile', 'duty', 'famed', 'suit', 'foot', 'combines', 'negotiable', 'Pro-forma', 'Europe', 'daughters', 'Economists', 'self', '*-116', 'PC', 'Corn', 'acne', 'Blancs', 'ratepayers', 'refused', 'penny', 'NEC', 'tone', 'attention', 'contemporary', 'Andean', '490', 'Sanderoff', 'facts', 'shoring', 'stemming', 'studies', 'prohibiting', 'retaining', 'Voters', '*-114', 'redemption', 'bomber', 'heavy-truck', 'cold', 'rap', 'ending', 'bilingual', '*ICH*-4', 'continually', 'Oy', 'trillion', 'Japanese', 'Pauline', 'ropes', 'instruments', 'black-and-white', '27', 'education', 'touch', 'regions', 'indefinitely', 'talk', '*-89', 'cloud', 'loathsome', 'asserted', 'debate', 'unwanted', 'state-appointed', 'BRAMALEA', 'Corporate', 'planner', 'unhappy', '430', 'costs', 'Reagan-Bush', 'ascribe', '90', 'ornamental', 'reflects', '360', 'Tire', 'ports', 'thousand', 'Backe', 'appeal', 'forced', 'hottest', '1.64', 'critics', 'overhead', 'pine', 'bright', 'printed', 'deteriorating', 'executing', 'third-largest', '*T*-58', 'dividends', 'flat', 'Harrison', 'fashioned', 'black', 'junk', 'Meridian', 'Typical', 'He', 'exclusive', '*T*-72', 'wheel-loader', 'H.N.', 'WPP', 'CORP', 'punitive', 'growers', 'Sherwood', 'committee', 'L.', 'reading', 'renovated', '30', 'players', 'users', 'p.m', '*T*-138', 'coming', 'older', '*-3', 'voices', 'Campaign', 'Princeton', 'beer', 'amortization', 'Occupational', 'Lurgi', 'kindness', 'unenticing', 'resolved', '9.9', '3.43', 'believed', 'experiencing', 'Care', 'prosecutors', 'mature', '*T*-87', 'packed', 'cash-and-stock', 'Behind', 'evenly', 'Middlesex', 'thinking', 'contrast', 'privacy', 'sides', 'receipt', 'staff', 'knitted', 'McFarlan', 'confined', 'interested', 'dismissal', 'inched', 'Hill', 'baby', 'debacle', 'got', 'OTC', 'MacDonald', 'impact', '*-140', 'acetate', 'Possible', \"'ll\", 'spectrum', 'Davies', 'three-quarters', 'ENDED', 'TIRED', 'Pamela', '*?*', \"'S\", 'newest', 'exact', 'alarmed', 'defeated', 'application', 'Sherwin', '*T*-31', 'St.', 'crowd', 'Minister', 'issued', 'examination', '14.53', '*-146', 'across', 'exchange', 'view', 'command', 'labor', 'Fannie', 'panic', 'playgrounds', 'violating', 'triple-A-rated', 'contain', 'billing', 'doubled', 'defeats', 'responsible', 'Nissho-Iwai', 'Genetics', '21.1', 'Mortimer', 'Brent', 'minimum', 'sudden', 'classes', 'non-biodegradable', 'enforcement', '*-16', 'infectious', '494.50', 'deliver', 'violate', 'subsidiary', 'brief', 'inappropriate', '2141.7', 'demands', 'expires', '26,956', 'leave', 'duckling', 'raspberry', 'Boone', 'regulate', 'promoting', 'reciting', 'Vargas', 'floors', 'Philippines', 'cease-fire', 'agriculture', 'witches', 'Islamic', 'Orlando', 'Asia', 'hard-charging', 'recover', 'dozens', 'looming', 'display', 'N.H.', 'Horsham', 'first-time', 'manmade-fiber', '18-a-share', 'technologies', 'Los', 'samples', '40', 'Image', 'Hayne', 'adjustment', 'figures', 'Bailey', 'fresh', 'diagram', '800', 'indicating', 'Meanwhile', 'rarefied', 'documented', 'victims', 'Montgomery', 'congregation', 'rising', 'Bermuda-based', 'sum', 'wage', 'small-time', 'Results', 'Marathon', 'actively', 'stock-price', 'watchdogs', 'specialist', 'preferences', 'swap', 'Unable', 'Donald', 'illegally', 'untrue', 'Green', 'championing', 'Energy', 'Nationale', 'Performing', 'established', 'Helsinki', 'Saitama', 'torrent', 'Marubeni', 'plea', 'Mehta', '7.2', 'affecting', 'entrenched', 'relief', 'larger-than-normal', 'dreadful', 'computerized', '*-43', 'Appellate', 'Icahn', 'lobbies', 'Encouraged', 'spun', 'Elizabeth', '5.57', 'overruns', '51', 'inauspicious', 'work', 'electrical-safety', '3:15', 'Frances', 'large', 'Mara', '6.40', 'minority-owned', 'Recently', 'COMMUNICATIONS', 'Siti', '19.95', 'dialogue', 'cyclical', 'star', 'bases', '*T*-142', '1.92', 'halve', 'aggressively', 'possessed', 'programmer', '3648.82', 'Mifflin', 'Prebon', 'opponents', 'Indexing', 'additions', 'slippery', 'sensitive', 'within', '14,821', 'parlors', 'sake', 'realestate', '107.9', 'Billings', 'pushes', 'implements', '*T*-89', 'kind', 'inner', 'boyfriends', 'father-in-law', 'Namibia', 'AN', 'reach', '*T*-195', '11,000', 'unveiled', 'pieces', 'goblins', 'Having', 'expire', 'steel', 'spends', 'bloc', 'throws', 'cool', 'Depending', 'native', '13.625', 'Hoffman', '1953', 'sulfur-dioxide', 'anytime', 'forum', 'AC-130U', '879', 'row', 'multibillion-dollar', 'novel', 'unfounded', 'significant', '*T*-201', 'property', '14.28', 'cost-cutting', '*T*-123', '*T*-24', 'gain', 'spite', 'were', 'Souper', 'wildly', 'Civilization', 'refrigerator', 'habit', 'abide', 'socialist', 'filled', '64-year-old', '0.3', '*-142', 'Carney', 'touched', 'why', 'city', 'committed', 'monopoly', 'complains', 'exclusion', 'Inns', 'Miklos', 'acquires', 'learned', \"''\", 'easy', '5\\\\/8', 'high-flying', 'What', 'rare', 'reasonably', 'existed', 'newsworthy', 'open-end', '8.07', 'Tokyu', '*-85', 'Yoshihashi', 'discourage', '9.5', 'stalemate', 'suspended', 'Hungary', '29.4', 'impose', 'protests', '*ICH*-3', 'fundamentalist', 'uncertainties', 'pistols', 'properly', 'financings', 'smiles', 'profited', '1976', 'emerge', 'Quant', 'fancy', '750', '20s', 'Kodansha', 'Coche-Dury', 'slope', 'two', 'carry', 'inches', 'prosecute', 'Heatherington', 'concerns', 'Rozell', '1986-87', 'Provided', 'barking', 'near', 'main', '8.47', '31-year-old', '42', 'conduct', 'moves', 'soul', 'namely', 'Egnuss', 'abandon', 'stockpiles', 'Hans', 'Judge', 'fourth-quarter', 'belfries', 'steelmakers', 'rope', 'containing', 'example', 'stereotyped', 'Tower', 'Economics', 'rate', 'safeguarding', '191.9', 'lawmakers', 'client', '1\\\\/8', 'historically', 'Another', 'commercial', 'Fabian', 'Florida', 'sparked', 'unresolved', 'buildup', 'NCR', '5.435', 'Left', 'Ms.', 'Vinken', 'agencies', 'hour', 'tilt', 'director', 'Shangkun', 'rear', '2.35', 'lost', 'initiative', '51-year-old', '4.875', 'recommending', 'first', 'sketching', 'clean', '8.06', 'tax', '*T*-172', 'riding', 'allegations', 'Desai', 'superpremiums', 'sociology', 'appropriation', 'Ranieri', 'shallow', 'inform', 'increased', 'PLO', 'fired', 'two-year', 'lapses', 'Whelen', 'Solaia', 'solidarity', 'her', 'Change-ringing', 'contractors', 'capital-markets', 'Investor', 'overleveraged', '1961', '*T*-168', 'Cole', 'girl', 'mines', 'blocked', 'six-inch', 'Africa', 'GAF', 'debentures', 'puts', 'Sachs', 'learn', 'lose', 'Democratic', 'to', 'Follow-up', '30s', 'body', 'Typically', 'highs', 'niches', 'jumped', '23.4', 'wins', 'Committee', 'fattened', 'increasingly', 'privileged', 'stations', 'patient', 'interests', 'begin', 'Roosevelt', '4.55', '7.95', '16.2', 'evil', 'dubbed', 'Fred', 'exceptionally', 'keep', 'Morgan', 'fragile', 'pathlogy', 'dividend', 'scenario', 'Boulder', 'receive', '*T*-44', 'refunded', 'Coincident', 'benevolent', 'Baton', '119', 'virtually', 'PORTING', 'romance', '*T*-223', 'bolstered', 'barometer', '8.575', 'Scotland', 'plugged', 'Jamaica', '271-147', 'proof', 'resilient', 'nearby', '*T*-178', 'desired', 'creditors', 'Declining', 'Patricia', 'Olson', 'fanfare', 'Again', 'N.V', 'Learning', 'Treasury', 'SALARIES', 'hobbyists', 'redeemed', 'supported', 'Blackstone', 'cereal', 'holdings', 'bankrupt', '0.95', 'listed', 'Catholic', 'rallying', 'Colonsville', '26.5', 'graphics', 'European', 'turns', '120', 'LSI', '160', 'loveliest', '2.15', 'interview', 'implicitly', 'acknowledging', 'encourage', 'itself', 'Such', 'Senate', 'nameplate', 'exchanging', 'installment', 'Demand', 'Opus', 'breed', 'Peng', 'house', '1738.1', 'victim', 'fold', 'extend', '*T*-234', 'LYNCH', 'responsibilities', '50\\\\/50', 'Income', 'arrest', 'possessions', 'capsules', 'affairs', 'long-tenured', 'CTBS', '*T*-105', 'character', 'voice', 'Vanderbilt', 'scrambling', '*T*-79', 'schedule', 'exceeded', 'entertaining', 'jeopardy', 'Ind.', 'vehicles', 'vaccines', 'inmates', 'Wood', 'Stewart', 'Jersey', 'Contra', 'showings', 'faith', 'thrifts', 'government-funded', 'offices', 'completion', 'mainly', 'Stronach', 'unless', 'unabated', 'restructured', '30-day', 'len', 'unveil', 'fragmentation', '*T*-131', 'Foods', 'shaky', 'read', 'waste', '1,460', 'weakness', 'cautious', 'Louisville', 'spilling', 'commerce', 'contradict', 'numbers', 'Dreyfus', 'raising', 'secretary', 'Partnership', 'civil', 'drew', 'Source', 'respect', 'Miguel', 'Jan.', 'color', 'either', 'publicly', 'knows', 'Bank', 'generic', 'New', 'refunding', 'markup', 'dinner', 'summoned', 'ankle', 'small', 'six-month', 'aimed', 'homeless', 'Science', 'City', 'futures', 'any', 'therapy', 'supportive', 'AGREES', 'processes', 'coaching', '*-160', 'sex', 'new', 'RULING', 'counteract', 'deserving', 'Attorneys', 'buffet', 'kept', 'defensive', '9.8', 'multilevel', 'harm', 'curses', '645,000', '*T*-206', 'PAPER', 'Artist', 'cocky', 'benchmarks', 'individual', 'mayor', 'host', 'Serial', '19.94', 'Brazilian', '*T*-251', 'inferences', 'Scannell', 'Bass', 'non-core', 'imports', 'Roger', 'demonstrating', 'stay', 'Beginning', 'printing-press', 'Still', 'introduction', '500,004', 'consisting', 'anti-drug', 'Disputado', 'Wilbur', 'Agnew', '11', 'early', 'wrestling', 'Skilled', 'undesirable', '37-a-share', 'This', 'Sundays', '1,200', 'pins', 'Furillo', 'perpetual', 'Northeast', 'affair', 'hits', 'Mass', 'outraged', '963', 'mothers', 'amid', 'confidant', 'disconnect', 'killings', 'purrs', '*-150', 'estimate', 'regional', 'reporting', 'chrysotile', 'cap', 'blue-chip', 'Foreigners', 'Patients', 'complete', 'replicate', '*T*-3', 'lens', 'Li', 'losses', 'roof-crush', 'upon', '*T*-202', '*T*-15', 'shipyards', 'magnitude', '*T*-21', 'chosen', '115', 'Showa', 'society', '*T*-17', 'crystal', 'Lorenzo', 'accessories', 'stereo', 'cleanliness', 'Roederer', 'PCs', 'wafers', '1,500', '*T*-4', 'Norwegian', 'idea', 'L.A.', 'interviewed', 'sector', 'Chivas', 'sports', 'prying', 'destination', 'Choose', '8.1', 'places', 'always', 'shoot', 'Atlantic', 'red-flag', 'Clark', 'deprived', 'Nikkei', 'Leon', 'simply', 'apprehensive', 'dollar', 'cheapest', 'carried', '8.50', 'referenda', 'Oklahoma', 'assumed', 'discarded', 'Antinori', 'prepare', 'Solution', '*T*-63', 'rollover', 'lottery', 'Hampton', 'Ballot', 'Wakui', 'monthly', 'Manufacturers', 'beauty', 'later', 'vendors', 'relies', 'viewed', 'Prosecutors', 'Kane', 'clearance', 'Facilities', 'maturities', 'waited', '11-month-old', '2.7', 'guarantee', 'meet', 'discretion', 'screwed', 'departments', 'Lafite-Rothschild', 'Indianapolis', 'completely', 'product', 'wedded', 'wake', 'evolve', 'Supreme', 'review', '*T*-160', 'dummies', '*T*-22', 'drawbacks', 'guns', 'hotel', 'purely', 'guild', 'proportion', 'near-record', 'climate', 'skyrocketed', 'dropped', 'landowners', 'Duke', 'virtues', 'Trudeau', 'posts', 'hierarchical', 'Products', '1.2', 'high-volume', '86.12', 'ever', 'provoked', 'silent', 'dairy', 'Hudson', 'Carolina', 'effective', 'explosion', 'dividing', 'Vacancies', 'Wong', 'should', 'steal', 'tissue', 'unspecified', 'hormone', 'dead-eyed', 'Miller', 'noticing', '*T*-219', 'deck', 'opposes', 'Organization', 'copy', 'nonetheless', 'Employment', 'unanimous', 'marriages', 'restored', 'McGraw-Hill', 'lines', 'bottlenecks', 'fabled', 'walkout', 'state', 'Finland', 'mention', 'Dennis', 'emerges', 'logistical', 'Engineers', 'maximum', '93', 'rules', 'mobile', 'warranties', 'rim', 'auspices', 'sigh', 'fine', 'opinion', 'sells', 'Pate', 'becomes', 'p.m.', 'capture', 'WAR', 'real', 'labor-management', 'alcohol', 'two-sevenths', 'discussion', 'most', '*T*-51', 'suffer', 'volunteer', 'Jefferson', 'press', 'Minneapolis', 'spouse', '*T*-16', 'Nigel', 'maintain', 'muffled', 'damaged', 'peaked', 'pain', 'Concurrent', 'BRIEFS', 'long-term', 'Hitachi', 'altruistic', 'less-serious', 'traveled', 'recede', 'Law', 'test-coaching', '*T*-180', 'smoke', 'Cotran', 'Union', 'mentally', 'sweepstakes', 'undercutting', 'Seats', 'replacing', '1,620', 'reckless', 'five-day', 'Financial', 'Monchecourt', 'Plains', 'Gates', 'addition', 'Lumpur', 'beaten', 'mignon', 'Jerritts', 'Platt', 'Journals', 'Ports', 'Fischer', 'passers-by', 'reservoirs', 'breakfast', 'dismayed', 'children', 'Ferro', 'American', 'Fund', '35.2', 'moneymakers', 'ordinary', 'Communication', '133.8', '14-hour', 'craze', 'Hackensack', 'Long', 'English-speaking', 'strongly', 'Rep.', 'harass', 'cluttered', 'executive-office', '69-point', 'Examiner', 'bless', 'speech', 'Basham', 'cocoa', 'executive', 'nurtured', '4.25', 'T-shirts', 'amendment', '15', 'boosters', 'R.', 'powers', 'Acceptance', 'promptly', 'nuclear', 'funding', 'realize', 'Mont', 'Elco', 'Citicorp', 'depends', '*T*-226', 'decision', 'litany', '300-a-share', 'intellectual', 'Markets', 'higher', 'parking', 'shops', 'Dole', 'Air', 'truth-in-lending', 'taste', 'tested', 'part', '24', '*T*-148', 'shirt-sleeved', 'turned', 'shed', 'Mason', 'pharmaceutical', 'line-item', 'Moreover', 'lackluster', 'Rust', 'escaped', '*T*-84', 'General', 'neither', 'Tip', 'Think', '*T*-151', 'extending', 'Utilities', '11,762', 'assured', 'Explorer', 'securities', 'blind', '4', 'parent', 'equal-opportunity', 'Composite', 'anti-abortion', '143.08', '830,000', '4.1', 'intellectual-property', 'midrange', 'holder', 'patterns', 'vacations', 'alleged', 'program', 'bundling', '*RNR*-1', 'Stanley', 'Al', '50,000', 'Goodman', 'Security', 'Bond', 'escape', '*-59', 'decliners', 'summer', 'episodes', 'equip', 'estimation', 'avert', 'thunder', 'Mining', 'inherited', 'legislative', 'Junk-bond', 'more-efficient', 'tormentors', 'Sternberg', 'Gulf', 'letting', 'variety', 'local', 'party', 'Garrison', 'punishment', 'suffering', 'Currently', 'select', 'feelings', 'draws', 'wheat', \"'40s\", 'action', 'PTA', 'immediate', 'exercise', 'R.D.', 'quips', 'mousseline', 'minimum-wage', '1955', 'developing', 'guide', 'Conduct', 'Dunn', 'Baum', 'awarding', 'Howard', 'Nestor', 'incest', 'headed', 'fortunes', 'unsuccessfully', 'useful', 'laurels', 'contests', '3.5', '*T*-47', 'wooing', 'producer', 'citizen', 'Johnson', 'Kalamazoo', 'Dai-Ichi', 'Canadian', 'areas', 'campaigns', 'Merrick', 'significance', 'brokers', 'acknowledges', 'sabotage', 'Jr', 'pro-Iranian', 'Bunny', 'recommended', 'criteria', 'scenic', 'literature', 'allies', 'Cheetham', 'visible', 'Act', 'Works', 'toast', 'wear', 'Conn.based', 'Egypt', 'rectified', 'citizens', 'And', 'Philippine', 'liquidated', 'calculate', '72', 'contained', 'visited', 'exposures', 'widgets', 'from', 'specified', 'intervention', 'Raymond', 'double-C', 'firings', 'big', 'Fails', 'productivity', 'slaying', 'identify', 'past', 'tracked', 'delivery', 'Kuvin', 'Samuel', 'Legislating', 'prospective', 'tenure', 'veal', 'screens', 'formation', 'lover', 'cracks', 'proposed', 'faster', 'orchestrated', 'drawn', 'domestically', 'No', 'scrounge', 'participant', 'officers', 'Lighthouse', 'Fremantle', 'voting', 'Ideas', 'stock-picking', 'debenture', 'G.m.b', 'Activity', 'referring', 'place', 'lesser', 'search-and-seizure', 'IOUs', 'federal', 'low-cost', 'anti-China', 'anti-morning-sickness', 'formal', 'unwilling', 'utility', 'frightened', 'skittishness', 'doctor', 'Merchant', 'practices', 'notable', 'proposition', 'train', 'competitor', 'Man', 'spiders', 'God', 'UAL', 'logjam', 'DSM', 'Tyre', 'Oshkosh', 'maintained', 'slowed', 'Valrico', '*T*-224', 'spurns', 'life-style', 'bowed', 'sympathetic', 'developed', 'cousins', '8.14', 'decline', 'assessed', '95.09', 'Kondo', 'often', 'beforehand', 'livelihood', 'harbinger', 'ACCEPTANCES', 'particulars', 'soybeans', 'sneaked', 'swapping', 'tests', 'utterly', 'teachers', 'ring', 'liability', 'Colleges', 'tidbits', 'famous', 'Thomas', 'municipalities', 'craft', '*ICH*-2', 'Texas', 'advertisers', 'started', 'ones', 'food-shop', 'Austrian', 'Sea', 'concentration', 'compensation', 'arm', 'low', 'prime', 'Johnson-era', 'GenCorp', 'rushed', 'piece', 'Erbamont', 'Svenska', 'targeted', 'compete', 'Different', 'reasserts', 'Valley', '141.9', 'timely', 'resisting', 'Colo.', 'commercials', 'expansion', 'immense', '1.65', 'Springs', 'maximize', 'territory', 'fly', '454', 'office', '*T*-255', 'delayed', 'AIDS', 'Myron', 'travel', 'system', '7,500', 'memories', 'Aloha', 'uncertainty', 'discount', 'advocate', 'faithful', 'TRUST', '28.6', 'off', 'Jeremy', 'Arnold', 'early-retirement', 'peripheral', 'offer', 'whimsical', 'soaring', 'garage', 'outrage', 'doors', 'management', '3-4', 'about', 'Wilcox', '750,000', 'rebels', 'designed', 'conversion', 'Home', 'bids', '1.5755', 'Cultural', 'Bankruptcy', 'scans', 'loading', 'rigged', 'photographic', 'counterparts', 'Neuberger', 'statistics', 'chairs', 'policies', 'Overall', 'recommend', 'projects', 'spirit', 'catch-up', '2003\\\\/2007', 'PhacoFlex', 'Secretary', 'Youths', 'Rubber', 'mid-size', 'evaporated', 'worrying', 'desultory', 'sorting', 'handling', 'goverment', 'talking', 'chopped', 'attempted', 'Nylev', 'TROUBLES', 'ripen', 'discounts', 'hoped', '1.8415', 'N.J.-based', 'innovative', 'impede', 'magnetic', 'Drink', 'pie', 'consomme', 'materialized', 'diversionary', 'prior-year', 'Louis', '28.4', 'titans', 'contingent', 'Turkey', 'Loan', 'Tiphook', 'telephone-information', 'farms', 'Investment', '55-year-old', 'professors', '228', 'one-day', 'Intecknings', 'never', 'war-rationed', 'poverty', 'reforms', 'mergers', 'GHS', 'visit', '*T*-1', 'filing', 'Broadcasting', 'WFRR', 'venture', 'realized', 'midsized', 'Patrick', 'Unfortunately', 'blow', 'professional', 'disagreeable', 'stated', 'thing', 'hydraulically', 'unsettling', 'Total', 'imbalances', 'Buy', 'State', 'reportedly', 'Uptick', 'Truck', 'Net', 'Otero', 'stripped', 'vertically', 'pirates', 'Corrigan', 'power', 'Second', 'administrators', 'Ltd', 'lower-priority', 'discuss', '*T*-109', 'Nicaraguan', 'complaining', 'market', 'couple', 'perpetuates', 'school-research', 'percentage', 'Parent', 'grower', 'implied', 'comparable', 'stopped', 'prefectural', 'scientist', 'known', 'Reddington', 'Lyn', 'correspondence', 'improvement', 'Wolf', 'Univest', 'elaborate', 'triggered', '*T*-114', 'readings', '*T*-193', 'prison', 'profess', 'Barbaresco', 'fashion', 'pledged', 'setback', 'boogieman', 'prepared', 'exceed', 'likely', 'incapable', 'releases', 'Craftsmen', 'run-down', 'That', 'opportunities', 'routine', '251.2', 'repeatedly', 'Landrieu', 'subdued', 'Ten', 'theory', 'reduced', 'participation', '*-135', '*-165', 'breach', 'C.J.B.', 'cited', 'Dolan', '1966', 'Camille', 'propelling', '17.95', '128', 'Street', 'enjoying', 'linked', 'second-largest', 'partly', 'evidence', 'budding', 'Grange', 'tolerate', 'demographic', 'pre-1917', 'quietly', 'Rock', 'junk-bond', 'baskets', 'fizzled', 'along', '405', 'charts', 'Default', 'approaches', 'Phoenix', 'trying', 'encircling', 'Nipponese', '1,100', '45.75', 'shaken', 'electric-utility', 'informally', 'Clara', 'Institutions', 'semiliterate', '23,403', 'adverse', 'shambles', 'face', '150-point', 'NetWare', 'operational', 'voluntarily', 'Altair', 'member', 'Macmillan\\\\/McGraw', 'enhances', 'blue', 'Mindy', 'composite', 'subsequent', 'profits', 'circumstances', 'Barrett', 'SALT', 'much', '101', '1:30', 'ushers', 'Midwestern', 'school-sponsored', 'Broken', 'president', '*T*-5', 'golden', '271,124', '38.375', 'Alstyne', 'extra', 'Manhattan', '1996', 'peaceful', 'dry', 'breathe', '2.47', 'High-grade', 'supercomputer', '47.1', 'applied', 'content', 'contract', 'creativity', 'quoted', 'Gross', 'met', 'propagandize', 'direct', 'earthquake', 'fraction', 'Weil', 'Bangkok', 'durable', 'trimming', 'den', '0.56', 'Died', 'willingness', '84.29', 'Whether', 'satisfactorily', 'Cristal', 'zinc', 'demand', 'avoiding', '41.60', 'politely', 'Handelsbanken', 'think', 'creditor', 'relaunched', 'ethics', 'literary', 'enormous', 'CTB', '51.6', 'shelf', 'symmetry', 'staffs', 'really', 'tallies', 'completed', 'videocassette', 'budget', 'drive', '1.35', 'Illuminating', 'order', '60', 'decisions', 'mere', 'conforms', 'create', 'bicameral', 'Nagano', 'Mercer', 'depended', 'whenever', 'Sept.', 'classical', 'salable', 'Nomura', 'Deere', 'jail', 'consideration', 'mainframe', 'bonuses', 'needs', 'measurement', 'leeway', 'House-Senate', '*T*-124', 'legislature', 'after-tax', 'dust', 'Ratings', 'pension', '3.35', '3,500', 'leaves', 'Shugart', 'million-a-year', 'jet', 'pool', 'fails', 'employment', 'mollified', 'transcribe', 'Then', 'Root', '10th', 'high-balance', 'erroneous', 'provisions', 'Fahrenheit', 'many', 'tanked', 'enraged', '2.1', 'targets', 'Nancy', 'circuit', 'gunship', 'Daniel', 'Copperweld', 'export-oriented', 'intricate', 'extremely', 'slowdowns', 'US', 'somehow', 'battery', 'Thousands', 'R', 'industrial', 'demonstrates', 'nickel', 'Landonne', 'Rabia', 'accept', '*T*-7', 'upturn', 'curriculum', 'Audit', 'mentioned', 'whole', 'democratic', 'originally', 'rifles', 'Hutton', 'well', 'expect', 'Alurralde', 'partnership', 'mend', 'pall', 'demise', 'job', 'weekends', '0.54', 'Internal', 'Kappa', 'town', 'INGERSOLL-RAND', '22.75', 'males', 'stronger', 'Impediments', '1950s', '1971', 'poured', 'Bougainville', 'red-carpet', 'auditor', 'Traditionally', 'Charlotte', 'also', 'Individual', 'regret', 'institutions', 'December', '4.4', 'ambitions', 'ancillary', 'acknowledge', 'ban', 'formerly', 'SHAREDATA', 'gyrate', 'Cruise', 'Corporations', 'minutes', 'Jail', 'charge', 'country', 'homelessness', 'Environmental', 'planners', 'J.', 'Everyone', 'Candlestick', 'Reuters', 'Barclays', '445', 'awaits', 'Petroleum', 'done', 'act', '*T*-102', 'pasta', 'migrate', 'quarterly', '467', 'angered', 'Fewer', 'well-known', 'worry', 'yielding', 'involvement', 'quick', '*T*-101', 'length', 'cement', 'replaced', 'Roof', '*T*-60', 'reform', 'Stena', 'cadet', 'Attorney', 'Kingdom', 'ad', 'Improvement', 'center', '*EXP*-2', 'connection', 'managed', 'Development', 'overriding', '`', 'behaving', 'credit', 'skirmishes', 'unaware', 'mixed', 'light-truck', 'empowers', 'housewife', 'species', 'superimposed', 'Card', '*T*-187', 'that', 'key', 'ringer', 'Used', 'Information', 'detail', 'deliberately', 'Ellis', '630.9', 'Hopwood', 'circle', 'Lieberman', 'affiliates', 'Hanifen', 'convenient', 'divided', 'Navy', 'Brunei', 'seven-million-ton', '*T*-210', 'administrations', 'cake', 'Brothers', 'categories', 'Earlier', '*-125', 'intimately', 'shore', '*T*-225', 'Literacy', 'apologize', 'ease', 'COPPER', 'negotiated', 'ethanol', 'farm', 'recorder', 'protest', 'recognizing', '0.99', 'Center', 'summary', 'Dolphins', 'bricks', 'warehouses', 'timing', 'assertion', 'Lurie', 'labeled', 'faltered', '456.64', '37.3', 'Hubbard', 'optimism', 'CLEARS', 'Gas', 'hired', 'vague', 'In', 'hoopla', 'index-related', 'underpin', 'inquiring', 'Democrats', 'stresses', '8.9', 'Modifications', 'rural', 'tour', '3.6', 'Frank', 'ASSOCIATION', 'Airlines', 'vow', 'construction', 'Central', 'Rev.', 'transformed', 'narrow', 'Ordnance', '*-28', 'spinoff', 'willing', 'Venture', 'Marcus', 'interrogation', '2.2', '132,000', 'low-ball', '*T*-190', 'psychology', 'COMPUTERS', 'persuasive', 'Chicago-style', 'I', 'vinyl', 'Periods', 'Buick', 'Rouge', 'navigation', 'Longer', '*-54', 'anticipating', 'Morita', 'boy', 'new-home', 'deceptive', 'frequency', 'cute', 'attorney', 'produces', 'OSHA', '1787', '100,980', '*T*-116', 'Communists', 'Policy', 'transplant', 'Enterprise', 'keeps', 'chief', '2.42', 'polluters', 'describes', 'tigers', 'Theodore', 'violations', 'sub-markets', 'records', 'national', 'insurer', 'Timex', 'nearly', 'One', 'advised', 'two-week', 'varying', 'comedies', '*-128', 'faded', 'process', 'Sometimes', 'spoke', 'mitigate', '*T*-78', 'Crane', 'narrowed', 'margin', 'signboards', 'sorts', 'mirrors', 'holders', 'Chadha', 'or', 'requirement', 'prerogative', 'organized', 'Haut-Brion', '14', '153.3', 'essentially', 'abortion', 'been', 'red', 'dramatically', 'filed', '220.45', 'eased', 'Albuquerque', 'just', '2.46', 'burn', 'seventh', 'violence', 'landfill', 'Murray', 'Darkhorse', 'prospect', 'friction', 'gold', 'ratcheting', 'rule', 'copying', 'deadline', '325,000', 'cartilage', 'promised', 'September', 'highlight', 'declaring', '1.82', 'Deng', 'declined', 'M.', 'environmentalists', 'drums', 'inverted', 'basic', 'Bankers', 'recipient', 'two-thirds', 'necessities', 'TXO', 'revival', '152,000', 'par', '415.6', 'unrecognizable', 'equally', 'seminar', 'roof', '*-96', 'mid-afternoon', 'injury', 'Boeing', 'offering', 'water', 'Hurley', 'receives', 'Composer', '250', 'radioactivity', 'stock-market', 'themselves', 'because', 'Poland', 'Rubinfien', 'degree', 'bolster', 'surged', 'pattern', 'Affairs', 'stupid', 'Logic', 'book', 'Catch-22', 'unsympathetic', 'concern', 'obsessed', 'Droz', '*-35', 'division', 'municipal', 'minimal', 'burlap', 'errors', 'Dana-Farber', 'humans', 'relevance', 'university', 'deluxe', 'unclear', 'encourages', 'whose', 'life-of-contract', '*T*-129', 'Berliner', 'scared', 'distributable', 'Lauderhill', 'computing', 'hurt', 'Communications', 'collar', 'erasures', 'authors', 'sheaf', 'operations', 'homes', 'Labor', 'Island', 'month', 'bombers', 'pockets', 'council', 'refusal', 'drought', 'interventions', 'N.M.', 'computerize', 'ads', 'broader', 'domestic', 'Stevenson', 'appears', 'faint', 'occupant', 'Commissions', '13.8', 'Farren', 'slide', 'Partly', 'Scandinavian', 'divergence', 'harsh', '27-year', 'repriced', 'elections', 'withhold', 'premises', 'right', 'Until', 'days', 'cable', 'high-priced', 'industry-supported', 'seat', 'choice', 'Kuhns', 'sticking', '*-67', 'congressman', 'varied', 'quitting', 'loyal', 'Homebrew', '238,000-circulation', '1.18', '27.4', '*T*-40', '1980', 'video-viewing', 'Customers', 'lives', 'withdrawn', 'Guber', 'impeding', 'Invariably', 'advertising', 'trigger', '343', 'same', 'normal', 'down', 'wine', 'assistance', 'Services', 'Stores', 'recess', 'movements', '*T*-246', 'Borough', '*T*-133', 'weapon', 'computer-aided', 'Riserva', 'commodity', 'Close', 'associates', 'MEDICINE', 'expanded', 'trends', 'cooled', 'rally', 'assist', 'arrangements', 'growths', 'Machines', 'sparking', '8.2', 'earlier', 'aids', 'withstand', '70', '89', 'firmly', 'stuff', '*-117', 'Actually', '30-minute', 'inevitable', 'Cedric', 'Alzheimer', 'Virtually', 'segments', 'weapons-modernization', 'penalties', '2.95', 'insists', '1.75', 'justices', 'CDs', 'signaling', 'amicable', 'intended', '14.6', 'Inc.', 'heated', 'say', 'factory', 'initial', '*-130', 'world', 'disclosing', 'empowered', 'judgment', '436.01', 'beyond', 'ugly', 'worship', 'data', 'big-ticket', 'Joe', 'rhythmically', 'fetal-tissue', 'others', 'collections', 'preferred', 'parliament', 'involves', 'achieve', 'establishing', '12.97', 'British', 'Bill', 'stores', 'expands', 'knowns', 'spokeswoman', 'Jay', 'Leap', 'weather', 'Coxon', 'pipes', 'heads', 'sounding', 'Orville', 'denominator', '121.6', 'counterweight', 'apply', '*T*-198', 'sidelines', 'concedes', 'BALLOT', 'alternatively', 'Jimmy', 'Switzerland', 'Wilmington', 'traditionally', 'substantially', 'carries', '116.7', 'indirect', 'Lilly', 'Sure', 'Isabelle', 'deteriorated', 'higher-salaried', 'generalizations', 'official', 'six', 'autions', 'mobster', 'Elmhurst', 'Circulation', 'deviant', 'The', 'E.', 'related', 'curbing', 'sink', 'contracts', 'recent', 'corruption', 'infusion', 'put', 'altogether', '1.916', 'Profit', 'damn', 'Lobo', 'photograph', 'Thailand', 'lacks', 'Glaxo', 'benchmark', 'worst', '400', 'deterioration', 'apartment', 'featuring', 'accord', 'Reducing', 'weeks', 'Sr.', 'It', 'needle-like', 'kidney', 'confrontational', '*T*-61', 'went', 'blood-cell', 'reductions', 'Bendectin', 'Ethel', 'folio', 'relating', 'declines', 'Pakistan', 'Alliance', '*-111', '605', 'Robert', 'scores', 'pre-emptive', 'June', '47', 'favor', 'apparently', 'petulant', 'Virginia', 'fought', 'assets', 'steep', 'behest', 'prefer', 'changed', 'achieved', '2.4', 'sacks', 'affordable', '*T*-183', 'Lorain', 'corporate-wide', 'programs', 'fight', 'Seoul', 'has', 'appearing', 'Integra-A', 'mininum-wage', 'protesters', '1991', 'wires', 'spokesman', 'weak', '1901', 'important', 'licenses', 'microphone', 'risks', '89,500', 'Malaysia', 'prominently', 'America', 'attack', '2.375', 'allowed', 'Millis', 'eight-count', 'Gartner', 'label', 'we', 'next', 'nine-year', 'administer', 'Ogilvy', 'portray', '8.56', 'B.', 'rock', 'exercisable', 'broadened', '*-37', 'pro-choice', 'Standing', 'aspect', 'cruising', 'regimented', 'skeptical', 'excise', 'asset', 'Friedrichs', 'very', 'side-crash', 'excited', 'instance', 'Francisco', 'sources', 'US$', 'drop', 'Danville', 'Who', 'housing', 'dexterity', 'instrumental', 'differently', 'thousands', 'popularly', 'cutting', 'M.D.', 'advocated', 'Some', 'refile', 'judge', 'four-year', 'Diamond', 'Dorothy', '*-13', 'experienced', '188.84', 'Minnesota', 'slides', 'acute', 'lift', 'opposite', 'life', 'Nelms', 'reluctant', 'Next', 'Confronted', '.', 'crop', 'prevailing', 'imposes', 'Regulatory', 'compel', 'succession', 'requiring', 'occur', 'candidate', 'Following', 'horoscopes', 'working', 'careful', 'maturity', 'Open', 'peal', 'elimination', 'Lawless', 'walking', 'nominee', 'disputed', 'Marge', 'displays', 'caught', 'closed-end', 'persuasion', 'film', 'drunk', 'derisively', 'mistakes', 'newspapers', 'chunks', 'imagine', 'organization', 'disembodied', '*-9', 'developer', 'contradictions', 'Club', 'uncomplaining', 'rather', 'estate', 'altar', '*T*-28', 'Chevrolet', 'searched', 'finite', 'Perritt', 'adviser', 'Kensington', 'Graduate', 'crook', 'beheading', '26.2', 'metric', 'Sandoz', 'resignation', 'recycled', 'speaking', '1928-33', 'railroad', 'failing', 'Participants', 'difference', 'association', '*T*-97', 'contributions', '40.21', '7.63', '40-year-old', 'nonfat', 'Peoria', 'stock', 'perception', 'picking', 'Securities', 'sensational', 'day-to-day', '7.422', 'shopped', 'teaching', 'exciting', '*T*-139', 'razor-thin', 'Times', 'hear', 'delays', 'bombarding', 'flap', 'Your', 'backers', 'counter', 'assertions', 'witnesses', 'salary', 'physicist', 'rebellion', 'Brunswick', 'split', 'designing', '*T*-215', 'direct-mail', 'Fargo', 'waiving', 'means', 'Philip', 'sights', 'Child', '1.56', 'humble', 'found', '20,000', '8.48', 'Wickliffe', 'billings', 'reformers', 'Dodge', 'Backseat', 'more-advanced', '138', 'hailing', 'skip', 'Florio', 'price-support', 'evaluated', 'Register', 'by', 'EEOC', 'Pty.', 'digs', 'weddings', 'Equitable', 'Why', 'Chafic', 'Guber\\\\/Peters', 'censorship', 'apparent', 'cultivated', '2.44', '*T*-57', 'lap-shoulder', 'solemn', 'Ltd.', 'edged', 'spectacularly', 'impartial', 'venerable', 'statement', '148.9', 'neighboring', 'Fracturing', 'accountability', 'sponsors', 'Order', 'audiocassettes', '286', 'While', 'leapt', 'Dividend', 'buyer', 'Cerf', 'issuing', 'complain', 'harvest', 'liable', 'younger', 'terrine', 'Fidelity', 'removed', 'b', 'me', 'restrictions', 'manipulate', 'illness', 'permits', 'disapproval', 'indicates', 'troops', 'fend', 'Calif', 'procedure', 'invent', 'convinced', 'fee', 'Wertheim', 'fatalities', 'fringe', 'companies', '17.5', 'bans', 'Saudi', 'Beirut', '1.46', 'sooner', 'Agriculture', '6.25', 'madly', 'Starting', '692', 'nets', 'copyrights', 'waived', 'list', '313', 'dominant', '350,000', 'college-bowl', 'Cathedral', 'Spain', 'profitable', 'Yquem', 'Chase', 'mortgage-based', 'before', 'self-serving', 'sweeten', 'WAFA', 'reflected', 'cataract', 'short-term', 'well-connected', 'Hopkins', 'Kirkpatrick', '451', 'succeeds', 'managers', 'language', 'predicated', 'droughts', '8.12', 'Interpublic', 'models', 'My', 'appointments', 'lightning-fast', '0.50', 'Merrill', 'slab', '13.50', '1614', 'tightening', 'student', 'featured', 'Shell', 'third-highest', 'unauthorized', 'hotels', 'July', 'channel', 'suspect', 'one-time', 'chamber', 'deeply', 'NASD', 'works', 'mode', 'rights', 'Leningrad', 'offenders', 'Fifteen', 'primary', '*T*-204', 'jurisdictional', 'Elsevier', 'corrected', 'proprietor', 'Caribbean', 'Minera', '*T*-220', 'internal', 'supplies', 'Germany-based', 'exhibited', 'contesting', 'purse', 'tote', 'T.', 'Justice', 'studiously', 'underlying', 'acquiring', 'intraocular', 'pulling', 'spent', 'seconds', 'follows', 'tempted', 'scoffs', 'collection', 'desirable', 'produce', 'import', 'disappointed', 'yields', '1206.26', 'approximately', 'human', 'Planters', 'simultaneously', 'interim', '3.61', 'aspersions', 'Rekindled', 'Daniels', 'Sen.', 'Do', 'midyear', 'Feeding', 'prepayment', 'expert', 'McGovern', '*T*-200', 'ranging', 'colored', 'Singapore', 'admitting', 'parched', 'Genie', 'Right', 'EVERYONE', 'Fees', 'Americans', 'imperative', 'Silver', 'Seniors', 'rapidly', 'artist', 'S&P', '132', 'sometimes', 'tiny', '1990s', '1.85', 'reason', 'credits', 'mid-1990s', 'princely', 'combine', 'Randolph', 'fiber', '*T*-192', 'earns', 'swiftly', 'A.C.', 'joint', '%', 'question', '6.4', 'Olympia', 'signed', 'personally', 'medicine', 'appropriators', '0.7', '*T*-67', 'cancer-causing', 'funds', 'Judging', 'Alleghany', 'reality', 'Warsaw', 'Appeals', 'wine-buying', 'diabetes', 'communication', 'lessening', 'slogan', 'restore', 'lead', 'impressive', 'squad', '8.22', 'appease', 'hit', 'score', 'amending', 'academics', 'Norman', 'convicted', 'your', 'terms', 'beneficiaries', 'presumes', 'intermediate', 'dailies', 'had', 'dean', 'household', '130', 'Henderson', 'cause', 'kill', 'Wilton', 'Bucking', 'began', 'DD', 'Garanti', 'crackdown', 'sentimental', '8.45', '0.28', 'Russel', 'FOREIGN', 'surprising', 'THE', 'addressing', '*-12', 'troop', 'grown', 'Charter', 'cheerleaders', 'vicissitudes', 'contingency-fee', 'tempts', 'convertible', 'docile', 'semesters', 'customers', 'backyard', 'periods', 'unproductive', 'averaged', '35.7', 'phony', 'sheets', 'shareholder-rights', '2-8', 'without', 'explosive', 'market-makers', 'risk', 'tow', 'image', 'figure', 'firmness', 'outstrips', 'appealing', 'yellow', 'redeem', 'racing', 'privilege', '1.55', 'crusade', 'pressures', 'Takes', 'therefore', 'Matthew', 'Samnick', 'Institutes', 'turf', 'refitting', 'Current', 'creams', 'comfortably', 'Pennsylvania', 'filings', 'using', 'sexy', 'Judiciary', 'Management', 'would', 'strip', 'sell', 'Miami', '6.1', '28.36', 'boilers', 'Abbot', 'involving', '95,142', 'Nuys', 'bought', 'financial-services', 'Pencil', 'planned', '*-123', 'abortions', 'duties', 'unwind', 'banks', 'diversify', 'McDermott', 'dead', 'Boca', 'Dick', 'leading', 'enormously', 'short', 'spotted', 'community', 'SOYBEANS', 'emissions', 'Caldor', '148', 'search', 'clicked', '*T*-216', 'commission', 'mechanism', 'Chamber', 'dismissed', 'economic', 'Schwab', 'supermarket', 'year-end', 'F', 'imported', 'record', 'risen', 'competition', 'incorporated', 'government-certified', 'oversight', '*T*-68', 'rapprochement', 'recouped', 'viewpoints', 'money-center', '``', 'disagreed', 'buying', 'accompany', 'Stockholm', '99', 'Legend', 'renovation', 'Stockbrokers', 'base', 'people', 'victory', 'spark', 'overcrowding', 'Gaja', 'Individuals', '*-139', 'poor', 'Gunmen', 'Plans', 'Lyle', 'intelligent', '1.6', 'foundations', 'Moving', 'outside', 'fan', 'smattering', 'Anglian', 'era', 'led', 'Defense', 'weekly', 'Pratt', 'sectors', 'emergency', 'fires', 'plunged', 'Mead', '*-137', 'USA', '240,000', '118.6', 'attract', 'Spanish', 'observers', 'everybody', 'telephones', 'implication', 'Baldwin', 'callers', 'syndication', 'investigate', 'alleviate', 'scenes', 'rain', '36-day', 'dislike', 'pinning', 'respected', 'minister', 'melt-textured', 'Imhoff', 'blessing', '340,000', 'France', 'VOA', 'Madison', 'stretched', 'AG', 'products', 'racket', 'projections', 'Automobile', '4,645', 'alive', '60.36', 'exhausted', 'pools', 'helped', 'engage', 'trafficking', 'amass', 'our', 'indicators', 'wrecking', 'hook', '372.9', 'choosing', 'goodwill', 'Dec.', 'Latour', 'fixed-price', 'newer', 'thanks', 'Annualized', 'enter', 'deadwood', 'cargo', 'They', 'taught', 'pursue', 'torn', '*-32', 'ministers', 'first-half', 'Rally', 'fund', 'briefings', 'meant', 'specify', 'roughly', 'Dresser', 'Haruki', 'Mo', 'wield', 'vacancy', 'Stevens', 'Las', 'writing', 'Population', 'wish', '352.7', 'School', 'Carter', 'four', 'below', 'no', 'multinational', 'Nippon', 'solved', 'Orders', 'ago', '*-94', 'Klauser', 'announce', 'Albany', 'Rey\\\\/Fawcett', 'factors', 'physics', 'Can', 'Advance', 'During', 'Yeargin', 'Industry', 'Beth', 'powerhouse', 'Motors', 'Analysts', '3.20', 'U.N.-supervised', 'three-sevenths', 'Biaggi', '*T*-134', 'hurting', 'increases', 'bars', '130.6', 'treated', '458', 'Courts', 'Strother', 'write-downs', 'forest-product', 'battered', 'Though', 'therapies', 'surely', 'adopt', 'nickname', 'requirements', 'evident', 'something', '*T*-237', 'Spitler', 'triple-C', 'sell-offs', 'ceiling', 'Hale', 'high', 'Educational', 'Anne', '1.39', 'obsession', 'moderate', 'trucks', '*T*-161', 'offsetting', 'intriguing', '103', 'Genel', 'Scholastic', 'Dom', 'expressed', 'benign', 'subpoenaed', 'quality', 'durable-goods', 'speculators', 'cabs', 'deal', 'propose', 'again', '11,390,000', 'WayMar', 'Squier', 'Local', 'environmental', 'Precious', 'scrambled', 'lot', 'Arizona', 'stockbrokers', '51.25', 'per-share', '21', 'its', 'career', 'year-earlier', 'Chemical', 'created', 'doubted', 'Among', 'Brigham', 'provision', 'LONDON', 'Holland', 'Utah', 'low-tech', 'appointed', 'Brunello', 'Kobe', 'Aquino', 'educators', 'may', 'renewed', '1982', 'reputation', 'address', 'scattered', 'grapple', 'Jersey-based', 'divest', 'brat', 'octogenarians', 'good', '361.8', '*-106', 'fixed', 'notice', 'favored', 'foreign', 'lesson', 'circuit-board', 'directing', 'befell', '32', 'snow', 'modernization', 'bank-backed', 'Nederlanden', 'trays', 'Retail', 'facial', 'Carnival', 'surpluses', 'girlfriend', 'Schmidt', 'Polls', 'investors', 'curbed', 'sort', 'studio', 'parallels', 'expressing', 'reserved', 'Session', 'sliding', 'interactions', 'judicial', 'resist', '*T*-243', 'sheep', 'childish', 'auto-safety', 'Odd-year', 'shows', 'Woodrow', 'Texan', 'Seagate', 'himself', 'accepting', 'attributed', 'architects', 'senses', 'sums', 'Wu', 'particular', 'garden-variety', 'crack', 'line', 'Combo', 'predicted', 'bellringers', 'sizable', 'Pharaoh', 'Reupke', 'breathed', 'giveaways', 'slew', 'Eagleton', 'retort', 'talks', 'exhaust', 'Toronto', 'simultaneous', 'games', 'S.', 'corporate', '1990-91', '*T*-75', 'unethical', 'Viacom', 'visits', 'Stark', 'Bronx', 'ensembles', '*-6', 'free-lance', 'emotional', '1\\\\/10th', 'Stockholders', 'usual', 'Citizen', 'college', 'rise', 'vitriolic', 'variables', 'uncharted', 'Aslacton', 'white-collar', 'Telegraph', 'relegated', 'intentioned', 'Brownstein', 'accountant', 'gallon', '44', 'Further', 'male-dominated', 'uncompensated', 'IBM', 'Spending', '*T*-99', 'schools', 'Mannix', 'trimmed', 'U.S.A', 'land', 'MITI', 'targeting', '*T*-19', '179', 'tickets', '666', 'appeals', '57.6', 'operators', 'businessmen', 'Note', 'characters', 'are', 'shipped', 'frankly', 'reprint', '*T*-26', 'requests', 'purchasing', 'Constitutional', 'implant', 'River', 'stare', 'flooded', 'leases', 'Trockenbeerenauslesen', 'Pick', 'issuers', 'wild', 'season', 'outranks', '1.20', 'manages', '2,700', 'Dunkin', 'Motor', '62.625', 'downturn', 'direct-investment', 'del', '28.53', 'sell-off', 'granting', 'Joel', 'reclaimed', 'everyday', '56', 'Driskill', 'retained', 'Uncertainty', 'Karns', 'disgorge', 'bulk', 'solid', 'Telerate', 'Inouye', 'Consent', 'Freshbake', 'mind', 'nine', 'separately', 'diplomacy', 'Bureau', 'Carbide', 'taxable', 'must', '7\\\\/8', 'spend', 'kicked', 'drove', 'attracts', 'conducting', 'Stung', 'Braidwood', 'globally', 'copper', 'root', 'asks', 'quiet', 'Protection', 'however', 'widget', 'angry', 'Marina', 'talked', '3.75', 'nice', 'Wadsworth', 'team', 'defense', 'W.R.', 'crapshoot', 'shrinks', '11.95', 'ruling', 'shape', '*-152', '*-55', 'Consider', 'oblivion', 'spurring', 'Prof', 'test-prep', 'Lonski', 'fasteners', 'strategies', 'cautioned', 'curb', 'fighters', 'cost', 'four-year-old', 'dam', 'N.Y.', 'Woodcliff', 'Salty', 'unstinting', 'staggering', 'reaped', 'Mesnil', 'hardly', 'studying', 'ambassadors', 'wound', 'Mark', 'Oil', 'moreover', 'chaired', 'felonies', 'Confederation', 'Polish', 'violation', 'Last', '1920s', 'letter-writing', 'church-goers', 'topics', 'summons', 'Otherwise', 'Being', 'Risks', 'Calder', 'rivals', 'notched', 'momentary', 'honor', '*-24', 'shown', '225,000', 'Clemens', 'capital-gains', 'intention', 'being', 'declare', \"'86\", 'acid-rain', 'attorney-client', 'basically', 'spot', 'library', '8.5', 'notified', 'urging', 'Underwoods', 'confidential', 'virtue', 'executives', 'Marchese', 'Materials', 'expendable', 'skipped', 'Ginnie', 'afternoon', 'consultant', '3.9', 'foam', 'RMS', 'efficiency', 'enrollment', 'planning', 'screenwriters', '--', 'discretionary', 'one-third', 'unlikely', 'analyze', 'overseas', 'pass', 'measured', 'listeners', '210,000', 'money', 'abridging', '*-155', 'ai', 'OVER', 'development', 'politicians', 'sacrificing', 'attempt', 'is', 'bigger', 'high-yield', 'card-member', 'Lehman', 'Suisse', 'elsewhere', 'involve', 'employee', 'Other', 'disruptive', 'Dahl', 'declining', 'campaigning', '3.253', '*-118', 'belts', 'Bar', 'heartland', 'Marie', 'beers', 'became', 'pursued', 'vagrant', 'style', 'Rosenblum', '8.64', 'Dill', 'Memphis', 'Bribe', 'autos', 'arrive', 'Practical', 'see', 'Nichol', '5.3', 'Rotie', '69', 'hope', 'participate', 'privately', 'asserts', 'blindfold', 'shedding', 'afflicted', 'Sacramento-based', '*T*-176', 'devised', 'which', 'acceptance', '47.125', 'type', 'eligible', 'retailer', 'supercomputers', '244,000', 'Susan', 'structures', 'kinds', 'cloth', 'streets', 'pub', 'stirred', 'DEFENSE', 'upscale', 'feels', 'Mich.', 'donor', 'Boorse', 'insane', 'problems', 'Duchossois', '144', 'options', 'ire', 'Thus', 'coliseum', 'Arafat', 'NYSE', '16.125', '150.00', 'Edison', 'quantitative', 'tons', 'lighter', 'bidding', 'revolt', 'Klein', '190', 'assaults', 'companion', 'differential', 'corkscrews', 'Pentagon', 'let', 'technical', 'Series', 'Clairton', 'moons', 'marching', 'slid', 'board', 'agricultural', 'loose', '520-lawyer', 'terrorists', 'hard-drinking', '737.5', 'struggled', 'dominating', 'districts', 'Have', 'invite', 'watchers', '14\\\\/32', 'francs', 'premiere', 'Economic', '*T*-203', 'tuck', 'journalists', 'survive', 'Factories', 'Too', '*T*-2', 'Midwest', 'Santa', 'Hahn', 'Buyers', 'head', 'abuse', 'clearer', 'Travelers', 'certificate', 'provoke', 'disparate', '75-year-old', 'AT&T', '*-18', 'Frenzy', 'devoted', 'solicitation', 'seemed', 'form', 'analysts', 'Cara', 'uncomfortable', 'preapproved', 'Taccetta', 'Spillane', 'preparatives', 'Lebanon', 'tight', '13.65', 'hung', 'information', 'burned', 'contributing', 'mortgage-backed', 'tripled', 'initiatives', '7.5', 'Signet', 'Negotiable', 'package', 'Mich.-based', 'eclectic', '992,000', '0.9', 'troubled', 'subskill', '*-166', '43.875', 'fleeting', 'Marshall', 'Thunderbird', 'bonus', 'Yamamoto', 'behemoth', '87-store', 'Montedison', 'Guffey', 'entity', 'fared', 'walk', 'Per-share', 'Inc', 'corporation', 'signal', 'electrical', 'coordinate', 'audit', 'suspension', 'cleaner', 'general', 'times', 'province', 'die', '150', 'ascendency', 'trial', 'unable', 'retailers', 'regime', 'encounter', 'groups', 'cancellation', 'fixed-income', 'session', 'unwashed', 'gelatin', 'problem', 'field', 'clothes', 'magazine', 'oldest', 'nose', 'erodes', 'Oh', 'borrowers', 'removal', 'Talcott', 'bickering', 'altering', 'tasty', 'disapproved', 'EURODOLLARS', 'Corton-Charlemagne', 'priority', 'luxury', 'non-religious', 'C-90', 'Kendrick', 'upper', 'Papua-New', 'Sotheby', 'Dealers', 'rich', 'steeper', 'extensive', '*T*-108', 'possibly', 'barriers', 'yen-support', 'sounds', 'Pat', 'antitrust-law', 'concessions', 'forms', 'loss', 'showing', 'hearings', 'twinned', 'child', 'leash', 'buy', 'immune', 'headlined', 'existing', 'Prize', 'possess', '37.5', 'vortex', 'Garbage', 'lawyers', 'inflationary', '501', 'Landor', 'Finnish', 'obviously', '*-158', 'surgery', 'consumer', 'scientists', 'kit', 'Derek', 'inherently', 'forward', 'Heights', '*-120', 'Russo', 'Wall', 'wasted', 'Frankfurt', 'Unless', 'veto', 'sweaters', 'indictment', 'FT', 'These', 'faces', 'cuts', 'interpretation', 'directly', 'argue', 'Business', 'aesthetic', 'Ill.', 'Funding', 'automatic', 'Shelby', 'partner', 'total', 'air', '140', 'CEO', 'Carballo', 'McCabe', 'rancor', 'Hollingsworth', '917', 'words', 'sheet', 'points', '93.3', 'clarify', 'returned', 'dressed', 'overstated', 'Tailors', 'tissue-transplant', 'Syracuse', 'gored', 'intertitles', 'Kligman', 'criticized', 'partially', 'clients', 'suppliers', 'aware', 'recovery', 'Sit', 'GRAINS', '*-141', 'not', 'disaffiliation', 'Jews', 'taxes', '52', 'News', 'Rankin', 'Gorbachev', 'Langner', 'agreeing', 'truck', 'campaigner', 'Lt.', '111', '*-90', 'fueling', 'muster', 'COMMERCIAL', 'Hammerschmidt', 'To', 'elderly', 'reallocated', '*-10', 'Driscoll', 'failed', 'special', 'harmed', 'William', 'railings', 'mental', 'adapted', '*-149', 'grader', 'thumbs', 'passenger', 'start-up', 'Zayed', 'grants', 'Kentucky', 'section', 'drops', 'threats', '4.898', 'marketed', 'Eggers', 'broad', 'agreed-upon', 'rewards', 'criticism', 'inaccurate', 'chooses', 'traditional', 'emerged', 'photocopying', 'Form', 'compatible', 'security', 'page', 'financier', 'continue', 'escrow', 'emotions', 'offensive', '*T*-115', 'opposition', 'fluctuation', 'Morrell', 'falling', 'diming', 'currently', 'NIH', 'whistle', 'coke', 'additional', 'social-studies', 'Judith', 'numerous', 'then-Speaker', 'delivered', 'Aerojet', 'ballpark', 'breathtaking', 'CAMPAIGN', 'located', 'centerpiece', 'When', 'constituent', 'turn', 'expense', 'odd-sounding', 'serving', '26,000', 'acquisitions', 'founder', 'Similarly', 'plunging', 'Schweiz', '116.9', 'Often', 'headrests', 'than', 'energy', '2\\\\/32', 'original', 'surfaced', 'bankruptcy', 'worker', '11.6', '237-seat', 'officer', 'wines', 'understood', 'Allied', 'mobilizing', 'study', 'apples', 'Brooke', 'Nofzinger', 'justify', 'severable', 'circuit-breaker', 'smoothly', 'can', 'vintage', 'Butler', 'placed', 'difficulty', 'Psychiatry', 'Walbrecher', '2.75', 'absurd', 'noted', 'serial', 'advance', 'asset-valuation', 'foreigners', 'high-quality', 'Citibank', 'elementary', 'suppression', 'PAP', 'basis', 'Groucho', 'insist', 'eight-person', 'lesions', 'electronic', 'Irvine', 'beautiful', 'tree', 'Danube', 'specializes', 'seasoned', 'private', 'champions', 'Johnny', 'rope-sight', 'index-options', 'Alfred', 'robbed', 'centennial', 'unfilled', 'Estimated', 'disappointment', 'reluctance', 'idiomatic', 'crops', 'audience', 'endless', 'deposits', 'Filling', 'cities', 'Hartford', 'balloting', 'insurance-company', 'ADRs', 'pre-tax', 'Aurora', 'rival', 'classified', 'sense', 'Maine', 'Atlanta-based', 'windfall', '16.09', '*T*-175', 'good-hearted', 'newsweekly', 'Ames', 'safety', 'Hadson', 'Reserve', 'pyramids', 'designer', '8.15', 'ACCOUNT', 'Finance', 'Their', 'viewership', 'Natural', 'upsetting', 'fate', 'specialty', 'Ruth', 'proved', 'attacking', 'dwindling', 'accumulated', 'Trustco', 'Lines', 'pressed', 'Byron', 'Assurance', 'zip', 'Hara', 'mailed', 'USIA', 'Post', 'valuable', '*T*-119', 'Train', 'software', '80.8', '1\\\\/4', 'saved', 'nonfinancial', 'calculated', 'apple', 'Weatherly', 'retard', 'car-safety', 'labor-backed', 'satisfying', 'experience', 'Ridgefield', 'precise', 'stunned', 'Bell', 'transferring', 'Supportive', 'Perhaps', 'N.C.', 'filter', 'Chinese', 'museums', 'ChemPlus', 'subordinate', 'distant', 'him', 'Signore', '1985', 'made', 'route', 'sharply', 'Estates', 'entering', 'merger', 'advisory', 'close', 'greenmailer', 'barges', 'perspective', 'Curry', 'textile', 'neoprene', 'fond', 'regard', 'Freddie', 'justified', 'homosexual', 'normally', '11.72', 'Walt', 'element', 'oilman', 'years', 'transaction', 'acting', 'MacLellan', 'elite', 'trades', 'orange', 'Each', 'requires', 'deficiencies', 'acquirer', 'competitors', 'pharaohs', 'previous', '143.80', 'bidders', 'massive', 'resembles', 'Title', 'fears', 'marketplace', '-LRB-', 'eight-month', 'OK', 'speculator', 'pit', 'disorders', 'slower', 'pointing', 'ambassador', 'much-larger', 'largest', 'raring', '114', 'Komatsu', 'crime', 'workable', 'Bridges', 'policy', 'akin', 'occurred', 'startling', 'extension', 'bid', 'Standard', 'bothered', 'Sandra', 'excess', 'Traders', 'Westborough', 'Sugarman', 'Norfolk', 'aims', 'continental', 'northern', 'remained', 'Political', 'account', '1929', 'staunchly', 'surge', 'posters', 'environment', 'depressions', 'am', 'unworkable', 'covers', 'practitioners', 'promissory', 'confused', 'Muzzling', 'Peter', 'notwithstanding', 'adjustments', 'Metallgesellschaft', 'Ala.', '*T*-189', 'Ringing', 'faced', 'marvelously', 'link', 'Syndicate', 'keeping', 'tinker', 'leadership', 'FALL', 'Islands', 'vehicle', 'mindful', '*T*-54', '200,000', 'protecting', 'SAT', 'priced', 'wrongdoing', 'passing', 'residential', 'reinstating', 'Mayor', 'scale', 'antitrust', 'Federation', 'tablets', 'integrity', 'looks', '21.9', 'pretax', 'arrived', 'collecting', 'Jerry', 'Rolling', 'poignant', 'feet', 'things', 'DiLoreto', '295', 'recession', 'waive', 'alienated', 'safe', 'unrealized', 'warnings', 'bloody', '*-107', 'map', 'specifics', 'river', 'Leinonen', 'Lama', 'regenerate', '*T*-235', 'option', 'so', '83.4', 'HOME', 'arranged', 'besuboru', 'overcome', 'petition', 'royalty', 'contractor', '143.93', 'onslaught', 'understatement', 'happen', 'patients', 'prestigious', 'Wamre', 'infringed', 'complained', 'unions', 'editorial', 'savers\\\\/investors', 'co-founded', 'glory', '280', '3.375', 'mind-boggling', '28.5', 'Rogers', 'respond', 'positioned', 'natural', '*T*-120', 'Vose', 'broke', 'third', '*T*-95', 'dealings', 'Determining', 'brutal', 'Cutrer', 'start', 'comfort', 'Anthony', 'four-foot-high', 'non-U.S.', 'Constitution', 'households', 'structure', 'two-letter', 'believe', '*T*-73', 'betting', 'borders', 'Property\\\\/casualty', '396,000', 'John', 'registration', 'Compromises', 'free', 'enthusiasm', 'disciplinary', 'Items', 'wrists', '4.6', 'retires', 'Napolitan', '170', 'omnipresent', 'schoolchildren', 'neat', 'Clinton', 'improper', 'strictly', 'Spreads', 'masters', 'members', 'granted', 'merit', 'tally', 'plane', '3436.58', 'area', 'retirement', 'installed', 'Service', 'American-made', 'campaign', 'imposed', 'tell', 'downfall', 'S.p.A.', 'juvenile', '18.3', 'shake', 'Sales', 'phobias', 'convince', 'Century', 'Am', '2,050-passenger', 'incurred', 'denies', 'refocusing', 'lobbyist', 'absolutely', 'customized', 'OFFERED', '4.9', '9.75', '*T*-110', 'significantly', 'activities', '19-month-old', 'Huxtable', 'Colorado', 'Article', 'driver', 'bounced', 'minute', 'Beverly', '*-91', 'Volume', 'released', 'gubernatorial', 'plot', 'price', 'sprawling', 'secede', '420', 'role', 'towns', '30,000', 'Hallett', 'Ariail', 'nearly-30', 'Chardonnay', 'specialize', 'chiefly', 'Surrey', 'Coors', 'running', 'shortage', 'bilateral', 'Contracts', 'insanity', 'chary', 'Builders', 'Grace', 'retain', 'images', 'cents', 'inoperative', 'student-test', '236.74', 'Johns', 'praised', 'stuck', 'traitor', 'flux', 'An', 'balkanized', 'injecting', 'exit', 'garbage', 'chaos', 'all', 'revelations', 'backlog', 'hitting', 'knocked', 'shaded', 'emphasized', 'three', 'acceleration', 'stressed', 'Argentina', '*-4', 'predict', 'Mehrens', 'simple', 'cast', 'Public', 'Bernstein', 'freedom', 'Ronald', 'rebuked', 'Exchange', 'readership', 'summer\\\\/winter', '576', '49.9', 'surprisingly', 'precisely', 'duo', '*T*-62', 'platforms', '*T*-179', 'Purchase', 'protective', 'Holt', 'belongs', 'prefecture', 'history', 'crystals', 'guided', 'returns', 'abortionist', 'reaction', 'necks', 'Chilean', '158,666', 'connected', 'Giants', 'owning', 'Lake', 'genes', 'dumped', 'sketch', 'sound', '*-27', '3.16', 'solvent', 'joining', 'opens', 'materialistic', 'proposal', 'Jones', 'ingredients', 'Cabernet', 'spurred', '*T*-33', 'mailing', 'scholarly', '70.2', 'oriented', 'laughing', 'bread', 'Hammersmith', 'then', 'sufficient', 'Dakota', 'Manila', 'French', 'find', 'ceramic', 'rebuild', 'synthetic', 'Eugene', 'followed', 'worked', '960', 'Internatonal', 'enabled', 'pushing', 'plans', 'apologizing', '5,699', 'D.', '30.9', '263.07', 'odds', 'controversy', 'rusted', '*T*-199', 'Jaffray', 'mega-stadium', 'GHKM', 'draw', 'nominal', 'stockbroker', 'IRAs', 'alike', '53-year-old', 'sitting', 'tobacco', 'eliminate', 'Midland', 'travel-related', 'finding', 'noting', 'subscribers', '16\\\\/32', 'Factory', 'actor', 'stance', 'L.P.', '*T*-228', '12,252', 'gut', 'Marietta', 'arbitrage', 'Bush', 'referendum', 'Fears', 'age', 'explains', 'accommodate', 'overall', 'Equivalents', '*T*-71', 'screen', 'Judicial', 'annual', 'questionable', 'unimpeded', 'attitude', 'Allendale', 'represented', 'Interleukin-3', 'Prime', 'regardless', 'my', 'Joanne', 'Raleigh', 'incentive', 'despise', 'Koizumi', 'lasted', 'Calif.', '9.625', 'heavy-duty', '*-41', 'advances', 'Little', 'reject', 'lab', 'Consolidated', '0.16', 'first-rate', 'Stephanie', 'graders', 'Bridge', 'bass', 'seller', 'arise', 'differences', 'Instead', 'receptive', '*T*-214', 'democracy', 'portrayal', 'short-lived', 'ShareData', 'Dolphin', 'free-enterprise', 'Fujitsu', 'Torrington', 'mining', 'threat', 'limiting', 'Share', 'subscribe', 'hill', '10-lap', 'III', '155', 'resigning', 'persistent', 'applicable', 'Bentsen', 'nine-month', 'grant', 'football', 'lieutenant', 'strong', 'Angola', 'Airways', 'voted', 'Campeau', 'Davis', 'wrenching', 'knell', 'lying', '*-49', 'radio-station', 'population', 'CAT', 'state-owned', 'Scripps', 'liberty', 'inserted', 'Financing', 'justice', 'death', '446.62', 'index-arbitrage', 'making', 'science', 'anemic', 'dances', 'youth', 'industry-wide', '*T*-53', '?', 'Terrence', '0.4', 'merely', 'Lead', 'Faulding', '*-23', 'prospects', 'Kean', 'trained', 'loaded', 'modern-day', 'Varying', '16.5', 'stocks', 'vice', 'saw', 'cartoonist', 'Ballantine\\\\/Del', 'passage', 'authorized', 'South', 'Insurance', 'Springfield', 'engineered', 'whipsaw', 'haul', 'consist', 'gauge', 'careers', 'anger', 'exemption', 'prohibits', 'at', 'J.L.', 'consecutive', 'asking', 'Both', '4,393,237', 'indifference', 'apart', 'handled', 'weaker', 'cruise', 'Guard', 'visitors', 'tip', 'Monetary', 'personnel', 'Mattress', 'scaring', '19.3', 'telephone', \"O'Brien\", 'warming', 'receivers', 'lifting', '12', 'doctrine', 'claiming', 'Campbell', 'resulting', 'subminimum', 'airplane', 'lore', '29year', 'when', 'Friday', 'ministry', '282', 'Dow', 'wary', 'signs', 'Huntington', 'pet', 'breakers', 'Nature', 'cite', '41', 'University', 'Palmer', 'psychiatric', '*-34', 'Party', 'Stag', 'Ad', 'cigarettes', 'bearing', 'Delaware', 'legal', 'Soho', 'desire', 'unavailability', 'Division', 'Yields', '260', 'premiums', '0.82', 'word-processing', 'labels', '*T*-241', 'securities-based', 'allocated', 'quite', '25.50', 'branch', 'sounded', 'yttrium-containing', 'play', 'emigrate', 'embassy', 'designations', 'Islamabad', \"'m\", '47.5', 'Bodner', 'blamed', 'Detroit', 'Birmingham', '30,841', 'instituted', 'Manfred', 'conceivable', 'written', 'friend', 'liquidation', 'downgrade', 'unpleasant', 'gotten', 'funded', 'Place', 'Barron', 'gives', '100,000', 'Administration', 'purchasers', 'nominees', 'go', '2,410', '6.7', 'player', '2645.90', 'co-owner', 'standards', '1972', 'strains', 'adapting', 'PETS', 'bushels', 'gloss', 'eight', 'condemning', 'Force', 'maze', 'tapes', 'locally', 'Palestine', '*RNR*-2', 'Week', 'assigned', 'TV', 'none', 'May', 'responsibility', '12.68', 'Speedway', 'unemployment', 'undisclosed', 'jumping', 'Continental', 'progress', 'single-digit', 'Takeshi', '235', 'restriction', 'BMP-1', 'watches', 'functions', 'superintendent', 'propagandizes', 'jolts', 'Cougar', 'south', 'excesses', 'diagnosed', '46.1', 'sacked', 'attended', 'crib', 'seem', 'developments', 'church', 'Fed', 'Kingsbridge', 'picks', 'Saturday', 'Beatles', 'event', 'remodeling', 'bin', 'Attwood', 'Sasaki', 'contributed', 'bill', 'Fans', 'speculate', 'propaganda', 'indication', 'San', 'less', 'devote', 'ability', 'Her', '10.19', 'easing', 'Seymour', 'exception', 'match', 'pricing', 'chocolate', 'reaping', '*T*-170', 'cascading', 'Sacramento', 'Malta', 'pilots', 'shut', 'whereby', 'derivative', 'aircraft', 'refer', 'inkling', 'low-priced', 'fibers', 'flexibility', 'Simeon', 'tenth', 'actions', 'Takuma', '550,000', 'nightmare', 'computer-system-design', 'Coleco', 'herself', 'provides', 'slipped', 'ushering', '3.23', 'cow', 'Fe', '94.2', 'shame', 'wine-making', '200', 'spectacular', 'U.S.A.', 'giant', 'lacked', '63', 'Savings', 'Andrea', 'feudal', 'yes', 'Glendale', 'rhetoric', 'helps', 'standpoint', 'volatility', 'Gringo', 'feline', 'Long-term', 'landing', 'practicing', 'permission', 'comment', 'Systems', 'Ailes', 'reserves', 'cohesive', 'incentive-backed', 'become', '149.9', 'lawsuits', 'persuade', 'industry', 'FERC', 'insured', 'crying', 'flush', 'eliminating', 'Once', '1.125', 'restructure', 'abortion-related', '25-year-old', 'coincidental', 'tall', 'stadiums', 'mechanically', 'hands', 'tend', 'Level', '2.62', 'educated', 'limitation', 'Dollar', 'positive', 'cleaner-burning', 'Proponents', 'manufacturers', 'average', '2.9', '*T*-98', 'ample', 'Sanford', 'resort', '25,000', 'compare', 'operation', 'contacts', 'Dean', 'Institution', 'substance-abusing', 'Shuxian', 'Deane', '139', 'natural-gas', 'landfills', 'Over', 'thin-lipped', 'Shearson', 'youngsters', 'juggle', 'both', 'tad', 'flag', '129.91', 'At', '1.76', 'Harper', 'Monticello', 'McAuley', 're-election', 'buildings', 'Filter', 'warrants', 'resonate', 'subordinated', 'old-fashioned', 'advantage', 'Sulaiman', 'folks', 'fundraising', 'response', 'live', 'shrug', 'war-damaged', 'Corp', 'behavior', '...', 'Wallach', 'rates', 'Caters', 'authorities', 'controlled', 'slowing', 'intense', 'Du', '77.70', 'Reached', 'publications', 'servicing', 'fare', 'disasters', 'Time', 'pressing', 'arbitrager', 'glamorize', 'procedural', 'default', 'hopefully', 'typically', 'Ohio', 'region', 'Consumer', 'sole', 'alerts', 'regrettable', 'corrupt', 'U.K.', 'Giraud', 'owner', 'exactly', 'teaches', 'Hawaii', '16.68', 'frustrating', 'comes', 'Mitsui', 'McLeod', 'single-A', 'actress', 'judgments', 'improves', '*T*-188', 'Perspective', 'engineer', 'restricts', \"O'Loughlin\", 'LOAN', 'Yale', 'PAPERS', '377.60', 'Mayer', 'storage', 'Community', 'microwave', 'But', 'pegged', 'North', 'rigid', 'Crude', '1973', 'bellwether', 'Those', 'evening', 'you', 'hurdles', '701', '40,000', 'safe-deposit', 'Avenue', 'Relations', 'Hallwood', 'Four', 'Alvin', 'heirs', 'Meese', 'Ann', 'positions', 'citations', 'Founded', 'DNA', 'caustic', '9\\\\/32', 'Estate', 'adjustable', '*-121', 'consent', 'tubular', 'Cray', 'one-newspaper', 'restaurant', 'required', 'three-year', 'Technology', 'Ariz.', 'graphs', 'underline', 'bridges', 'Ray', 'he', 'exuded', 'regulating', 'gut-wrenching', 'Neal', 'broken', 'Rubicam', 'hauling', 'Louisiana-Pacific', 'dispute', 'emphasis', 'Jeffrey', 'diethylstilbestrol', 'equaling', 'present', 'decorated', '274', 'former', '83', 'Sol', 'stoked', 'checks', 'styles', 'Yorkers', '28.25', 'CERTIFICATES', 'ended', 'Gregory', 'greatest', 'incredible', 'Westminster', 'acted', 'stays', 'Wa', 'Separately', 'Farmers', 'Lizhi', '35', 'Embassy', '*T*-141', 'here', 'tracks', 'Speculation', 'Three', 'Council', 'auto', 'modern', 'clear', 'rulers', 'Russell', 'objectives', 'practical', 'Underwood', 'pursuant', 'chaotic', 'seeking', 'Korea', 'geometrical', 'manage', 'punishing', 'Brown', 'sunny', 'Photograph', 'scholar', 'try', 'syndrome', 'Stern', 'redistributing', 'McAlpine', 'Traditional', 'joint-venture', 'Strategic', 'stock-index', 'pleased', 'largely', 'aboard', 'Woolworth', 'floated', '8', 'No.', 'Petersen', 'curled', 'texts', 'drag-down', 'Characters', 'relieve', '3,288,453', 'Crime', '877,663', 'definitely', 'agenda', 'espouse', 'Back', 'Cosmopolitan', 'Totally', 'placement', 'ASSOCIATES', 'deducting', 'incentive-bonus', 'delivering', 'break', 'quantitive', 'Hart-Scott-Rodino', 'throughout', '*T*-166', 'emigres', 'Donuts', 'sale', '1995', 'doctorate', '*-1', 'group', 'ways', '98', 'apology', 'Akio', 'refreshing', 'subsidiaries', 'building-products', 'ballot', 'hostile', 'promise', 'ranged', 'cross-border', 'everywhere', '62.1', 'GM', 'Goode', 'prevents', 'malnutrition', 'jockeys', 'remaining', 'blood', 'announcer', 'decrease', 'Retin-A', 'home-market', 'land-idling', 'Berger', 'fully', 'Taipei', 'page-one', '*-157', 'inadequacy', 'more', 'Chinchon', '700,000', 'male-only', 'numeral', 'industrialized', 'Everybody', 'Mrs', 'Tribe', 'Scientists', 'needed', 'networks', 'Fantasy', 'casting', 'upstate', 'offers', 'President', 'but', 'directors', 'locked', 'carriers', 'referral', 'befuddled', 'attributes', 'Church', 'Countries', 'expand', 'Noriega', 'FEDERAL', 'interior', '*-14', 'charged', 'Prices', 'pre-Communist', 'paint', 'importance', 'compiled', '1.637', 'Heidelberg', 'few', '352.9', 'undiplomatic', '50-state', 'noncompetitively', 'identity-management', 'kindergarten', 'franc', 'tunes', 'focusing', 'expenses', 'pollution', 'Reagan', 'deaths', 'levels', 'target', 'medium-sized', 'palace', '7.272', 'Garry', 'conversations', 'dozen', 'vast', 'S.A', '6.5', 'invest', 'repay', 'aides', 'managements', 'Adam', 'C-130', 'Trinity', 'dismal', '176', 'overpriced', 'success', 'deviation', 'tooth', 'accommodations', 'Herald', 'premium', 'decade', 'Stearn', 'judges', 'end', 'reimbursed', 'battles', ';', 'Yasuda', 'casts', 'Diaper', 'Medical', 'state-supervised', 'size', 'loops', 'Arthur', 'Marion', 'soured', 'promises', '7.8', 'contrary', 'prominent', 'marks', 'questioned', 'feeds', 'Shaw', 'boosting', 'German', 'Kearny', 'gifts', 'Sandinista', 'enable', '6.53', 'rebounding', 'fairly', 'chose', 'relative', 'platitudes', '39', 'Luce', 'built-from-kit', '1934', '77', 'Mona', '12-year', 'defying', 'La.', 'hundred', 'peculiar', 'proceeds', '116.3', 'Highway', 'high-technology', '94.8', 'four-day', 'ordered', '23,000', 'incomplete', 'Enright', 'Lights', 'Jobs', 'reopened', 'belt', 'Warehouse', 'repaired', 'Spiro', 'bulls', 'deprivation', 'Marchand', 'Section', 'historical', 'machinery', 'station', 'taxpayer', 'stakes', '1.5', 'stiff', 'Chinese-American', 'tactics', 'insiders', 'sharper', 'Sumitomo', 'unfocused', 'person', 'enough', 'slippage', 'passion', 'carbon', 'happy', 'Pepperidge', 'Sony', 'voluntary', 'Homeless', 'killing', '17.4', '*T*-194', 'Coast', '3.2', 'Gray', '2.3', 'selected', 'gradual', 'swelling', 'Bumkins', 'supports', 'initiate', '449.04', 'Stieglitz', 'collective', 'Lindner', 'welcomed', 'have', 'Oct.', 'SWITCHING', 'cards', 'assess', 'Sale', 'model', 'taxpayers', 'endorse', 'some', 'Bradley', 'mine', 'reds', 'machinists', 'Marder', 'Toledo', 'appointment', 'encroaching', 'tremendous', 'meatpacking', 'speculative', 'plaintive', 'considerable', 'baseball', 'burdens', 'Baris', 'Hamilton', 'Shokubai', '70.7', 'Crew', 'Poore', 'Philadelphia', 'shrinking', 'a', 'father', 'repeals', 'Brooks', 'emasculate', 'inventiveness', 'More', 'watched', '1.25', 'sagging', 'fumes', 'evoke', 'solely', 'percent', 'launch', '618.1', 'Human', 'otherwise', 'technically', 'tried', '36.9', 'Grand', '*T*-9', 'Journal', 'helpful', 'best', 'Cullowhee', 'overproduction', '8.55', 'reasons', 'context', 'these', '*-11', 'Palestinian', 'bell-ringing', '*T*-121', 'Gillett', 'diminished', 'Noble', 'constantly', '6.70', 'conditions', '120.7', 'Mickey', 'needy', 'Nine', '2,000', '4.8', 'bribe', '*T*-118', '50.1', 'majority', '230-215', 'advice', \"n't\", 'Siegal', 'accurate', 'cleanup', 'subjects', 'papers', 'fiber-optic', 'access', 'international', 'livestock', 'Sino-U.S.', 'hub', 'computer-generated', 'traveling', 'scant', 'settlement', 'Macmillan\\\\/McGraw-Hill', 'transforming', 'fewer', 'Alysia', 'If', 'seven-day', 'drop-off', 'Columbus', '89.7', 'flagrant', '1.49', 'Chabrol', 'Lambert', 'opportunity', 'Perpetual', 'fast', 'meaningful', 'broaden', 'embroiled', 'Tatsunori', 'relatively', '84-year-old', 'plate', 'principle', 'hole', 'flow', 'governor', 'barrel', '2,099', 'sad', 'restricting', 'week', 'concrete', 'terminated', 'bureaucracy', '29.9', 'Savin', '*-21', 'joins', 'publication', '*-26', 'third-quarter', 'Chilver', '198', 'stem', 'seeks', 'Waertsilae', 'multinationals', 'dating', 'predicting', 'Skinner', 'vowed', 'speed', 'Judah', 'swing', 'West', 'index-fund', '*T*-107', 'shoulder', 'pour', 'partners', 'wings', 'waiver', 'telecommunications', 'cushion', 'Wilfred', 'technique', 'procurement', 'fits', 'Pretty', 'road', '270', 'aerospace', 'Skills', 'twindam', 'miners', '1.19', 'innovation', 'ca', 'shareholder', 'Rumors', 'searching', 'GROWTH', 'corn-buying', 'counterrevolutionary', 'getting', 'several-year', 'genuine', 'Companies', 'U.S.-Japan', 'Vega', 'P.', 'gamut', 'We', 'READY', 'roll', 'cornerstones', 'Scherer', 'Gingl', 'quotas', 'subcontractor', 'money-losing', 'seafood', 'cumbersome', '*T*-135', 'flourish', '1991-2000', 'old', 'outcry', 'Heiwado', 'Lezovich', '2.6', 'ringing', '7.84', '292.32', 'retaliation', 'Jacob', '*PPA*-1', 'prompts', 'copycats', '105', 'Beall', '*T*-167', 'Fernando', 'Says', 'lengthen', 'PLC', '450', \"'d\", 'condition', 'trouble', 'spurned', 'waivers', 'N.C', 'little', '45-a-share', 'N.J.', 'one-fifth', 'said', 'resubmit', '12.52', 'produced', 'Mahoney', '90-cent-an-hour', 'compromise', 'snapped', '11\\\\/16', 'lengthened', 'assembled', 'Bob', 'credentials', 'Jacksonville', 'relocate', 'Commodore', 'Wayland', 'topped', 'Traded', 'post', 'Professional', 'vicious', 'top', 'Trace', 'fellow', 'Nor', 'Rudolph', 'savvier', 'inheritor', 'one-upsmanship', 'objective', 'car-care', 'Shapiro', '1948', 'bygone', 'facade', '*T*-217', '1979', 'Breeden', '62-year-old', 'Recess', 'Common', 'considering', 'Novello', 'publicized', 'Guaranteed', 'park', 'exists', 'mother', '*T*-111', 'mount', 'planted', 'Simon', 'clause', 'defects', 'pages', '14.99', 'Previously', 'Georgetown', 'longevity', 'buyers', '*T*-158', '1980s', 'media', 'Texaco', 'stream', 'worth', '106', '*T*-23', 'inside', 'tort', 'RATES', 'stature', 'consequences', 'Ketchum', 'wide', '1917', 'wrong', 'leasing', 'Queen', 'News-American', 'viewpoint', 'drain', 'equity', 'Nemeth', 'knowledgeable', 'major-league', '*-83', 'plays', 'Md.', '1.17', 'distribution', 'Barbara', '3.80', 'Bhutto', 'widespread', 'trash', 'Packages', 'deemed', 'offset', 'reshaping', 'quarters', 'Assuming', '1983-85', 'months', \"C'mon\", 'Preliminary', 'Webb', 'grows', '*T*-103', '1989', 'phase-out', 'vacation', 'issues', 'vicar', \"'50s\", 'smaller', 'offered', 'skin', 'grain', 'nutrition', 'scholars', 'sweaty', 'Romanee-Conti', 'guilty', 'Story', 'best-seller', 'workplace', 'Bridgeville', 'swallow', 'Hazell', 'unbearably', 'cry', 'October', 'gauging', 'Limited', 'soared', 'TRIAL', 'Elisa', 'Pictures', '1992-1999', 'bull', 'bomb', 'Mike', 'longstanding', 'Reliance', 'sixth', 'polystyrene', 'fracture', 'beneficial', 'everyone', 'survivor', '422.5', 'agreed', 'delisted', 'depository', 'Holding', 'denouncing', 'advantages', 'expensive', 'lagging', 'fined', 'turnover', 'agreements', 'ideological', 'Manchester', 'Richmond', 'Scowcroft', 'rebuilding', 'Traficant', 'energetic', 'engaging', 'versus', '57', '2.65', 'possibility', 'request', 'elevators', 'wants', 'discussed', 'sank', 'sufficiently', 'expecting', '107', 'scrutinizing', 'loans', 'Except', 'Houghton', 'transfers', '5.92', 'Belt', 'labeling', 'sending', 'increase', 'challenging', 'Walkman', '212', 'school-board', 'testing', 'guys', 'Christopher', 'computer-driven', 'Far', 'full-length', '77.56', 'born', '10.5', 'declared', 'expressly', 'tied', 'Emile', 'ongoing', 'postponed', 'collected', 'designation', 'Peck', 'Take', 'Metal', 'discontinued', 'spaces', '*-58', 'double-digit', 'penetration', 'Marc', 'forcing', 'passport', 'Smelting', 'unjust', 'stark', 'Anderson', 'Developed', 'Krenz', 'sellers', 'inventories', 'Phi', '*T*-230', 'defined', 'financed', 'cane', '*T*-49', 'unjustified', 'martyr', 'takings', 'refuse', 'joy', 'captivating', 'recession-inspired', 'ratified', 'matching', 'contribute', 'newsroom', 'achievement-test', '88.32', 'insurance', 'markets', '127.03', 'material', 'one-month', '5.2180', 'FT-SE', 'redeeming', 'nervousness', 'Betting', 'reps', 'Containers', 'Thrall', 'Mac', 'distributed', 'release', 'bunches', 'caveat', 'similarity', 'hypothetical', 'appear', 'prayer', 'TRS-80', 'Malcolm', 'abandoned', 'vagabond', 'Contras', 'theaters', 'Soviet', 'having', 'fledgling', 'manufacturer', 'corn', 'dominates', 'Mitchell', '1\\\\/2', 'breaker', 'marbles', 'Indonesia', 'Court', 'Russian', '7.15', 'disappears', 'discrepancies', 'Delegates', 'expanding', 'setting', 'together', 'Baltimore', 'brand', 'appoint', 'Hostess', 'Republican', 'Markey', 'approves', 'Tiny', 'Gov.', 'CBS', 'drifted', 'Carlton', '79', 'Trade', '*-40', 'Wis.', 'Cellar', 'hostility', 'asked', 'engineers', '3.4', 'K.', 'alleging', '434.4', 'About', '14.54', 'subject', 'Atsushi', 'Pan', 'rhythm', 'plummeted', 'Chairman', 'oppose', 'Similar', 'Pitcher', 'Brownell', 'queers', 'preface', 'annualized', 'Of', 'small-company', '*-47', 'Claire', 'mistrials', 'contributors', 'unsuccessful', 'motor', 'unsettled', 'sparkplugs', 'Trailer', 'implications', 'transition', '*T*-29', '38', 'Whiting', 'Hoosier', 'insisted', 'rewarding', '*T*-221', '38.5', 'seven', '*-133', 'matter', 'four-color', '*-105', '*T*-52', 'LaSalle', 'great', 'currencies', '22', 'unreasonable', 'tender', 'parts', 'vote', 'Ratners', 'self-perpetuating', 'metal', 'foldable', 'Camilli', 'moved', 'solicitous', 'Telephone', '37', 'hauled', 'oversee', 'swapped', 'coordinator', 'York-based', '1925', 'shudders', 'By', 'Micronite', 'presence', 'Mossman', 'Commodity', 'around', 'citing', '*-48', 'purhasing', '0.60', 'butterfly', 'courage', 'jitters', 'closing', 'aired', 'checking', 'cabinet', 'Marty', 'Against', 'refund', 'smokers', 'LTV', 'Kong', 'termed', '110', 'open', 'Gerald', 'preclinical', 'commitments', '13.73', 'marginally', '177', 'Treble', 'placing', 'Australia', 'million', '1965', 'fill', 'investor-relations', 'expired', 'unpublished', 'larger', '1983', 'diversification', 'reaching', 'Strait', 'creating', 'owned', '7.55', 'worms', '102', 'bloods', 'came', 'Donaldson', 'amended', 'noticed', 'defendants', \"'\", 'different', 'Michigan', 'TRANSPLANT', '*-164', 'approach', 'injuries', 'Huge', 'qualified', 'Exports', 'blacks', 'six-bottle', 'Seed', 'confidence', 'WTD', 'Heightened', 'word', 'sew', 'Dingell', 'pill', 'damaging', 'descending', 'responsive', 'fields', 'mistakenly', '19.6', 'against', '18,444', 'exploded', 'cancer', 'peak', 'path', 'slack', 'dreamt', 'anyway', 'alumni', '236.79', 'makers', 'anti-miscarriage', 'Barnett', 'posted', 'revolves', 'rocket', '50.38', 'collateral', 'dessert', 'depression', 'clothing', '86', '*T*-252', 'sentiment', 'Cross', 'proposing', 'wrote', 'consistent', 'surprise', 'Carl', '*-78', 'Opinion', 'Netherlands', 'course', '1970', 'up', 'microprocessor', 'despite', 'marketing', '1960s', 'weighing', 'producing', '13.15', 'describe', 'thinks', 'PRIME', 'meets', 'stoppage', 'underwriters', 'breaks', 'make', 'Hospital', 'troublesome', 'Puccio', 'Northampton', 'passenger-car', '250,000', 'via', 'activity', 'Stanford', 'railcars', 'periodontal', 'adds', 'Phelan', 'exposure', 'losing', 'farmers', 'impaired', '415', 'food-industry', 'affect', 'Israel', '*T*-154', '*T*-113', 'nervous', 'Institute', 'Brisk', 'Hammacher', 'looking', 'heating', 'S.I.', 'Salomon', 'tailored', '4.75', 'Circle', 'Candela', 'Esso', 'heavy', 'license', 'bills', 'devastating', 'remarked', 'warning', 'spreads', 'harder', 'acquired', 'All', 'unleashed', 'know', 'classic', 'paycheck', 'understand', 'department', 'Mercedes', ':', 'come', 'agrees', 'disposed', 'Adams', 'modify', 'views', 'superconductors', '2.87', 'Growth', 'Jack', 'Always', 'obligations', 'deals', 'recovered', 'undelivered', 'fairness', 'Premier', 'depending', 'promotions', 'disk', 'evoking', '*-44', 'Cartons', 'unit', 'mathematics', 'medallions', 'U.S.S.R.', 'used', 'Columbia', 'Intel', 'organizations', 'rarely', 'Brian', 'employs', 'extraordinary', 'Excision', 'Huber', 'sport-utility', 'distorted', '*PPA*-3', 'publisher', 'betrayer', 'capacity', 'chauffeur', 'Huntsville', 'harmony', 'Group', 'voters', '19', '*-162', 'swim', 'End', 'resolution', 'hefty', 'available', 'sweeping', 'entire', 'subcommittee', '319.75', '*T*-173', '60,000', 'suspend', 'Soldado', 'striking', 'railing', 'cushioned', 'outnumbered', 'crashing', 'envoy', 'served', 'Moslem', 'Australian', 'Eastern', 'obligation', 'Amsterdam', 'Soviets', 'eternal', 'derivatives', 'researcher', 'turning', 'on-campus', 'blank', 'NBC', 'cardiovascular', '721', 'asset-sale', 'Sterling', 'brightest', 'exempt', 'pretext', 'aspects', 'eclipse', 'Numerous', '*-72', 'stages', 'comfortable', 'missiles', 'goods', 'Muramatsu', 'witness', 'women', 'school-district', 'requesting', 'reflecting', 'Knowing', '5.9', 'downgraded', 'rape', '45.2', 'Education', 'respite', 'crookery', 'Pretax', 'Fax', 'Oak', 'stimulating', 'intend', 'disadvantage', 'rigors', 'two-year-old', 'senior', 'sprightly', 'mood', 'such', 'quoting', 'inception', 'ounces', 'record-keeping', 'Warren', 'Bates', 'damages', 'consumer-driven', 'Huppert', 'Mexico', 'cents-a-unit', 'pay', 'happens', 'was', 'However', 'recruiting', 'applicability', 'Baking', 'three-month', 'monopolize', 'referred', 'Smith', 'Commodities', 'Media', 'manager', \"'s\", 'Secilia', 'Circuit', 'worksheets', '*T*-174', 'INTER-TEL', 'Because', 'concerned', 'Reuter', 'semiannual', 'tire-kickers', 'Mulford', 'Occidental', 'Brazil', 'concession', 'functioning', '300', 'backdrop', 'Miami-based', 'experts', 'loudest', 'arbs', '*T*-112', 'Areas', 'Auditors', 'writers'}\n"
     ]
    }
   ],
   "source": [
    "#Get the set of words from the train_wordAndTag_list.\n",
    "tokens_set = set([wordAndTag[0] for wordAndTag in train_wordAndTag_list])\n",
    "print(len(tokens_set))\n",
    "print(tokens_set)"
   ]
  },
  {
   "cell_type": "code",
   "execution_count": 9,
   "metadata": {},
   "outputs": [
    {
     "name": "stdout",
     "output_type": "stream",
     "text": [
      "12\n",
      "{'DET', 'CONJ', 'VERB', 'ADP', '.', 'ADJ', 'NOUN', 'PRON', 'NUM', 'ADV', 'PRT', 'X'}\n"
     ]
    }
   ],
   "source": [
    "#How do we know if Universal tagset is used?\n",
    "#Get the set of tags from the train_wordAndTag_list.\n",
    "#It should be 12, as mentioned in the problem statement\n",
    "#NOTE that this will be used shortly for the HMM algorithm\n",
    "universal_tagset = set([wordAndTag[1] for wordAndTag in train_wordAndTag_list])\n",
    "print(len(universal_tagset))\n",
    "print(universal_tagset)"
   ]
  },
  {
   "cell_type": "markdown",
   "metadata": {},
   "source": [
    "### 2. POS Tagging Algorithm - HMM - Build the vanilla Viterbi based POS tagger\n",
    "#### Note: extracted from Upgrad Course - NLP - Module 2 - Exercise\n",
    "We'll use the HMM algorithm to tag the words. Given a sequence of words to be tagged, the task is to assign the most probable tag to the word.\n",
    "\n",
    "In other words, to every word W, assign the tag T that maximises the likelihood P(T/W). Since P(T/W) = P(W/T). P(T) / P(W), after ignoring P(W), we have to compute P(W/T) and P(T).\n",
    "\n",
    "P(W/T) is basically the probability that given a tag (say NN), what is the probability of it being W (say 'building'). This can be computed by computing the fraction of all NNs which are equal to W, i.e.\n",
    "\n",
    "P(W/T) = count(W, T) / count(T).\n",
    "\n",
    "The term P(T) is the probability of tag T, and in a tagging task, we assume that a tag will depend only on the previous tag. In other words, the probability of a tag being NN will depend only on the previous tag T(n-1). So for e.g. if T(n-1) is a JJ, then T(n) is likely to be an NN since adjectives often precede a noun (blue coat, tall building etc.).\n",
    "\n",
    "Given the penn treebank tagged dataset, we can compute the two terms P(W/T) and P(T) and store them in two large matrices. The matrix of P(W/T) will be sparse, since each word will not be seen with most tags ever, and those terms will thus be zero."
   ]
  },
  {
   "cell_type": "markdown",
   "metadata": {},
   "source": [
    "### Emission Probabilities"
   ]
  },
  {
   "cell_type": "code",
   "execution_count": 10,
   "metadata": {},
   "outputs": [],
   "source": [
    "# Computing P(W/T) and storing in tags x words matrix\n",
    "tags = len(universal_tagset)\n",
    "words = len(tokens_set)\n",
    "prob_W_given_T = np.zeros((tags, words))"
   ]
  },
  {
   "cell_type": "code",
   "execution_count": 11,
   "metadata": {},
   "outputs": [],
   "source": [
    "# Compute Emission Probability: word given tag \n",
    "def word_given_tag(word, tag, train_bag = train_wordAndTag_list):\n",
    "    tag_list = [pair for pair in train_bag if pair[1] == tag]\n",
    "    count_tag = len(tag_list)\n",
    "    w_given_tag_list = [pair[0] for pair in tag_list if pair[0] == word]\n",
    "    count_w_given_tag = len(w_given_tag_list)\n",
    "    \n",
    "    return (count_w_given_tag, count_tag)"
   ]
  },
  {
   "cell_type": "code",
   "execution_count": 12,
   "metadata": {},
   "outputs": [
    {
     "name": "stdout",
     "output_type": "stream",
     "text": [
      "\n",
      " large\n",
      "(26, 6082)\n",
      "(0, 12933)\n",
      "(0, 8286) \n",
      "\n",
      "\n",
      " will\n",
      "(0, 3029)\n",
      "(1, 27372)\n",
      "(262, 12933)\n",
      "\n",
      " book\n",
      "(6, 27372)\n",
      "(1, 12933)\n"
     ]
    }
   ],
   "source": [
    "# examples\n",
    "\n",
    "#'ADV', 'NUM', 'VERB', 'NOUN', 'DET', 'PRT', 'ADP', 'PRON', '.', 'CONJ', 'ADJ', 'X'\n",
    "\n",
    "# large\n",
    "print(\"\\n\", \"large\")\n",
    "print(word_given_tag('large', 'ADJ'))\n",
    "print(word_given_tag('large', 'VERB'))\n",
    "print(word_given_tag('large', 'DET'), \"\\n\")\n",
    "\n",
    "# will\n",
    "print(\"\\n\", \"will\")\n",
    "print(word_given_tag('will', 'ADV'))\n",
    "print(word_given_tag('will', 'NOUN'))\n",
    "print(word_given_tag('will', 'VERB'))\n",
    "\n",
    "# book\n",
    "print(\"\\n\", \"book\")\n",
    "print(word_given_tag('book', 'NOUN'))\n",
    "print(word_given_tag('book', 'VERB'))"
   ]
  },
  {
   "cell_type": "code",
   "execution_count": 13,
   "metadata": {},
   "outputs": [
    {
     "data": {
      "text/plain": [
       "list"
      ]
     },
     "execution_count": 13,
     "metadata": {},
     "output_type": "execute_result"
    }
   ],
   "source": [
    "type(train_wordAndTag_list)"
   ]
  },
  {
   "cell_type": "markdown",
   "metadata": {},
   "source": [
    "### Transition Probabilities"
   ]
  },
  {
   "cell_type": "code",
   "execution_count": 14,
   "metadata": {},
   "outputs": [],
   "source": [
    "# compute tag2 happening given tag1: tag2(t2) given tag1(t1), i.e. Transition Probability\n",
    "\n",
    "def t2_given_t1(t2, t1, train_bag = train_wordAndTag_list):\n",
    "    tags = [pair[1] for pair in train_bag]\n",
    "    count_t1 = len([t for t in tags if t == t1])\n",
    "    count_t2_t1 = 0\n",
    "    for index in range(len(tags)-1):\n",
    "        if tags[index]==t1 and tags[index+1] == t2:\n",
    "            count_t2_t1 += 1\n",
    "    return (count_t2_t1, count_t1)"
   ]
  },
  {
   "cell_type": "code",
   "execution_count": 15,
   "metadata": {},
   "outputs": [
    {
     "name": "stdout",
     "output_type": "stream",
     "text": [
      "(4026, 27372)\n",
      "(5278, 8286)\n",
      "(100, 8286)\n",
      "(0, 12933)\n",
      "(0, 6299)\n",
      "(89, 3380)\n",
      "(257, 2165)\n"
     ]
    }
   ],
   "source": [
    "# examples\n",
    "#'ADV', 'NUM', 'VERB', 'NOUN', 'DET', 'PRT', 'ADP', 'PRON', '.', 'CONJ', 'ADJ', 'X'\n",
    "\n",
    "print(t2_given_t1(t2='VERB', t1='NOUN'))\n",
    "print(t2_given_t1('NOUN', 'DET'))\n",
    "print(t2_given_t1('ADV', 'DET'))\n",
    "print(t2_given_t1('NNP', 'VERB'))\n",
    "print(t2_given_t1(',', 'X'))\n",
    "print(t2_given_t1('PRT', 'NUM'))\n",
    "print(t2_given_t1('DET', 'CONJ'))"
   ]
  },
  {
   "cell_type": "code",
   "execution_count": 16,
   "metadata": {},
   "outputs": [
    {
     "name": "stdout",
     "output_type": "stream",
     "text": [
      "(1923, 11130)\n",
      "(983, 11130)\n",
      "(2452, 11130)\n",
      "(743, 11130)\n"
     ]
    }
   ],
   "source": [
    "#Please note P(tag|start) is same as P(tag|'.')\n",
    "print(t2_given_t1('DET', '.'))\n",
    "print(t2_given_t1('VERB', '.'))\n",
    "print(t2_given_t1('NOUN', '.'))\n",
    "print(t2_given_t1('PRON', '.'))\n"
   ]
  },
  {
   "cell_type": "code",
   "execution_count": 18,
   "metadata": {},
   "outputs": [],
   "source": [
    "# creating t x t transition matrix of tags\n",
    "# each column is t2, each row is t1\n",
    "# thus M(i, j) represents P(tj given ti)\n",
    "#len of T is 12\n",
    "\n",
    "tags_matrix = np.zeros((len(universal_tagset), len(universal_tagset)), dtype='float32')\n",
    "for i, t1 in enumerate(list(universal_tagset)):\n",
    "    for j, t2 in enumerate(list(universal_tagset)): \n",
    "        tags_matrix[i, j] = t2_given_t1(t2, t1)[0]/t2_given_t1(t2, t1)[1]"
   ]
  },
  {
   "cell_type": "code",
   "execution_count": 19,
   "metadata": {},
   "outputs": [
    {
     "data": {
      "text/html": [
       "<div>\n",
       "<style scoped>\n",
       "    .dataframe tbody tr th:only-of-type {\n",
       "        vertical-align: middle;\n",
       "    }\n",
       "\n",
       "    .dataframe tbody tr th {\n",
       "        vertical-align: top;\n",
       "    }\n",
       "\n",
       "    .dataframe thead th {\n",
       "        text-align: right;\n",
       "    }\n",
       "</style>\n",
       "<table border=\"1\" class=\"dataframe\">\n",
       "  <thead>\n",
       "    <tr style=\"text-align: right;\">\n",
       "      <th></th>\n",
       "      <th>DET</th>\n",
       "      <th>CONJ</th>\n",
       "      <th>VERB</th>\n",
       "      <th>ADP</th>\n",
       "      <th>.</th>\n",
       "      <th>ADJ</th>\n",
       "      <th>NOUN</th>\n",
       "      <th>PRON</th>\n",
       "      <th>NUM</th>\n",
       "      <th>ADV</th>\n",
       "      <th>PRT</th>\n",
       "      <th>X</th>\n",
       "    </tr>\n",
       "  </thead>\n",
       "  <tbody>\n",
       "    <tr>\n",
       "      <th>DET</th>\n",
       "      <td>0.005793</td>\n",
       "      <td>0.000483</td>\n",
       "      <td>0.040309</td>\n",
       "      <td>0.008931</td>\n",
       "      <td>0.017137</td>\n",
       "      <td>0.206131</td>\n",
       "      <td>0.636978</td>\n",
       "      <td>0.003741</td>\n",
       "      <td>0.022206</td>\n",
       "      <td>0.012069</td>\n",
       "      <td>0.000241</td>\n",
       "      <td>0.045981</td>\n",
       "    </tr>\n",
       "    <tr>\n",
       "      <th>CONJ</th>\n",
       "      <td>0.118707</td>\n",
       "      <td>0.000462</td>\n",
       "      <td>0.157044</td>\n",
       "      <td>0.054042</td>\n",
       "      <td>0.035566</td>\n",
       "      <td>0.117321</td>\n",
       "      <td>0.345958</td>\n",
       "      <td>0.060508</td>\n",
       "      <td>0.042494</td>\n",
       "      <td>0.055427</td>\n",
       "      <td>0.004619</td>\n",
       "      <td>0.007852</td>\n",
       "    </tr>\n",
       "    <tr>\n",
       "      <th>VERB</th>\n",
       "      <td>0.133844</td>\n",
       "      <td>0.005490</td>\n",
       "      <td>0.169489</td>\n",
       "      <td>0.090776</td>\n",
       "      <td>0.034949</td>\n",
       "      <td>0.065414</td>\n",
       "      <td>0.110029</td>\n",
       "      <td>0.036109</td>\n",
       "      <td>0.022733</td>\n",
       "      <td>0.082425</td>\n",
       "      <td>0.031315</td>\n",
       "      <td>0.217428</td>\n",
       "    </tr>\n",
       "    <tr>\n",
       "      <th>ADP</th>\n",
       "      <td>0.324084</td>\n",
       "      <td>0.000750</td>\n",
       "      <td>0.008357</td>\n",
       "      <td>0.017356</td>\n",
       "      <td>0.040390</td>\n",
       "      <td>0.105421</td>\n",
       "      <td>0.321513</td>\n",
       "      <td>0.069745</td>\n",
       "      <td>0.062996</td>\n",
       "      <td>0.013606</td>\n",
       "      <td>0.001500</td>\n",
       "      <td>0.034283</td>\n",
       "    </tr>\n",
       "    <tr>\n",
       "      <th>.</th>\n",
       "      <td>0.172776</td>\n",
       "      <td>0.059389</td>\n",
       "      <td>0.088320</td>\n",
       "      <td>0.091195</td>\n",
       "      <td>0.094070</td>\n",
       "      <td>0.044654</td>\n",
       "      <td>0.220305</td>\n",
       "      <td>0.066757</td>\n",
       "      <td>0.080593</td>\n",
       "      <td>0.052830</td>\n",
       "      <td>0.002426</td>\n",
       "      <td>0.026595</td>\n",
       "    </tr>\n",
       "    <tr>\n",
       "      <th>ADJ</th>\n",
       "      <td>0.004933</td>\n",
       "      <td>0.017264</td>\n",
       "      <td>0.011674</td>\n",
       "      <td>0.076620</td>\n",
       "      <td>0.066097</td>\n",
       "      <td>0.066426</td>\n",
       "      <td>0.697632</td>\n",
       "      <td>0.000658</td>\n",
       "      <td>0.021375</td>\n",
       "      <td>0.004604</td>\n",
       "      <td>0.011016</td>\n",
       "      <td>0.021703</td>\n",
       "    </tr>\n",
       "    <tr>\n",
       "      <th>NOUN</th>\n",
       "      <td>0.013517</td>\n",
       "      <td>0.042379</td>\n",
       "      <td>0.147085</td>\n",
       "      <td>0.176129</td>\n",
       "      <td>0.239661</td>\n",
       "      <td>0.012056</td>\n",
       "      <td>0.264212</td>\n",
       "      <td>0.004786</td>\n",
       "      <td>0.009718</td>\n",
       "      <td>0.017280</td>\n",
       "      <td>0.043950</td>\n",
       "      <td>0.029227</td>\n",
       "    </tr>\n",
       "    <tr>\n",
       "      <th>PRON</th>\n",
       "      <td>0.009506</td>\n",
       "      <td>0.005323</td>\n",
       "      <td>0.486312</td>\n",
       "      <td>0.022814</td>\n",
       "      <td>0.040684</td>\n",
       "      <td>0.073004</td>\n",
       "      <td>0.208365</td>\n",
       "      <td>0.007985</td>\n",
       "      <td>0.007605</td>\n",
       "      <td>0.032700</td>\n",
       "      <td>0.012167</td>\n",
       "      <td>0.093536</td>\n",
       "    </tr>\n",
       "    <tr>\n",
       "      <th>NUM</th>\n",
       "      <td>0.003254</td>\n",
       "      <td>0.014201</td>\n",
       "      <td>0.018343</td>\n",
       "      <td>0.034911</td>\n",
       "      <td>0.115385</td>\n",
       "      <td>0.033136</td>\n",
       "      <td>0.356805</td>\n",
       "      <td>0.001479</td>\n",
       "      <td>0.184615</td>\n",
       "      <td>0.002663</td>\n",
       "      <td>0.026331</td>\n",
       "      <td>0.208876</td>\n",
       "    </tr>\n",
       "    <tr>\n",
       "      <th>ADV</th>\n",
       "      <td>0.067349</td>\n",
       "      <td>0.007263</td>\n",
       "      <td>0.344668</td>\n",
       "      <td>0.118851</td>\n",
       "      <td>0.135028</td>\n",
       "      <td>0.128755</td>\n",
       "      <td>0.032354</td>\n",
       "      <td>0.015517</td>\n",
       "      <td>0.032024</td>\n",
       "      <td>0.079894</td>\n",
       "      <td>0.014526</td>\n",
       "      <td>0.023770</td>\n",
       "    </tr>\n",
       "    <tr>\n",
       "      <th>PRT</th>\n",
       "      <td>0.102347</td>\n",
       "      <td>0.002282</td>\n",
       "      <td>0.402868</td>\n",
       "      <td>0.019883</td>\n",
       "      <td>0.043677</td>\n",
       "      <td>0.084746</td>\n",
       "      <td>0.245763</td>\n",
       "      <td>0.017927</td>\n",
       "      <td>0.055737</td>\n",
       "      <td>0.009452</td>\n",
       "      <td>0.001956</td>\n",
       "      <td>0.013364</td>\n",
       "    </tr>\n",
       "    <tr>\n",
       "      <th>X</th>\n",
       "      <td>0.055247</td>\n",
       "      <td>0.010319</td>\n",
       "      <td>0.204477</td>\n",
       "      <td>0.143832</td>\n",
       "      <td>0.163994</td>\n",
       "      <td>0.016669</td>\n",
       "      <td>0.061438</td>\n",
       "      <td>0.054612</td>\n",
       "      <td>0.002699</td>\n",
       "      <td>0.025560</td>\n",
       "      <td>0.185585</td>\n",
       "      <td>0.075568</td>\n",
       "    </tr>\n",
       "  </tbody>\n",
       "</table>\n",
       "</div>"
      ],
      "text/plain": [
       "           DET      CONJ      VERB       ADP         .       ADJ      NOUN  \\\n",
       "DET   0.005793  0.000483  0.040309  0.008931  0.017137  0.206131  0.636978   \n",
       "CONJ  0.118707  0.000462  0.157044  0.054042  0.035566  0.117321  0.345958   \n",
       "VERB  0.133844  0.005490  0.169489  0.090776  0.034949  0.065414  0.110029   \n",
       "ADP   0.324084  0.000750  0.008357  0.017356  0.040390  0.105421  0.321513   \n",
       ".     0.172776  0.059389  0.088320  0.091195  0.094070  0.044654  0.220305   \n",
       "ADJ   0.004933  0.017264  0.011674  0.076620  0.066097  0.066426  0.697632   \n",
       "NOUN  0.013517  0.042379  0.147085  0.176129  0.239661  0.012056  0.264212   \n",
       "PRON  0.009506  0.005323  0.486312  0.022814  0.040684  0.073004  0.208365   \n",
       "NUM   0.003254  0.014201  0.018343  0.034911  0.115385  0.033136  0.356805   \n",
       "ADV   0.067349  0.007263  0.344668  0.118851  0.135028  0.128755  0.032354   \n",
       "PRT   0.102347  0.002282  0.402868  0.019883  0.043677  0.084746  0.245763   \n",
       "X     0.055247  0.010319  0.204477  0.143832  0.163994  0.016669  0.061438   \n",
       "\n",
       "          PRON       NUM       ADV       PRT         X  \n",
       "DET   0.003741  0.022206  0.012069  0.000241  0.045981  \n",
       "CONJ  0.060508  0.042494  0.055427  0.004619  0.007852  \n",
       "VERB  0.036109  0.022733  0.082425  0.031315  0.217428  \n",
       "ADP   0.069745  0.062996  0.013606  0.001500  0.034283  \n",
       ".     0.066757  0.080593  0.052830  0.002426  0.026595  \n",
       "ADJ   0.000658  0.021375  0.004604  0.011016  0.021703  \n",
       "NOUN  0.004786  0.009718  0.017280  0.043950  0.029227  \n",
       "PRON  0.007985  0.007605  0.032700  0.012167  0.093536  \n",
       "NUM   0.001479  0.184615  0.002663  0.026331  0.208876  \n",
       "ADV   0.015517  0.032024  0.079894  0.014526  0.023770  \n",
       "PRT   0.017927  0.055737  0.009452  0.001956  0.013364  \n",
       "X     0.054612  0.002699  0.025560  0.185585  0.075568  "
      ]
     },
     "execution_count": 19,
     "metadata": {},
     "output_type": "execute_result"
    }
   ],
   "source": [
    "# convert the matrix to a df for better readability\n",
    "tags_df = pd.DataFrame(tags_matrix, columns = list(universal_tagset), index=list(universal_tagset))\n",
    "tags_df"
   ]
  },
  {
   "cell_type": "code",
   "execution_count": 20,
   "metadata": {},
   "outputs": [
    {
     "data": {
      "image/png": "[encoded data removed]",
      "text/plain": [
       "<Figure size 720x576 with 2 Axes>"
      ]
     },
     "metadata": {
      "needs_background": "light"
     },
     "output_type": "display_data"
    }
   ],
   "source": [
    "# heatmap of tags matrix\n",
    "# T(i, j) indicates P(tag j given tag i)\n",
    "plt.figure(figsize=(10, 8))\n",
    "sns.heatmap(tags_df)\n",
    "plt.show()"
   ]
  },
  {
   "cell_type": "code",
   "execution_count": 21,
   "metadata": {},
   "outputs": [
    {
     "data": {
      "image/png": "[encoded data removed]",
      "text/plain": [
       "<Figure size 1296x864 with 2 Axes>"
      ]
     },
     "metadata": {
      "needs_background": "light"
     },
     "output_type": "display_data"
    }
   ],
   "source": [
    "# frequent tags\n",
    "# filter the df to get P(t2, t1) > 0.5\n",
    "tags_frequent = tags_df[tags_df>0.5]\n",
    "plt.figure(figsize=(18, 12))\n",
    "sns.heatmap(tags_frequent)\n",
    "plt.show()"
   ]
  },
  {
   "cell_type": "markdown",
   "metadata": {},
   "source": [
    "#### Nouns follow determinants and adjectives"
   ]
  },
  {
   "cell_type": "code",
   "execution_count": 22,
   "metadata": {},
   "outputs": [],
   "source": [
    "# Viterbi Heuristic\n",
    "def Viterbi(words, train_bag = train_wordAndTag_list):\n",
    "    print(\"**Words to be tagged** \", words)\n",
    "    state = []\n",
    "    T = list(set([pair[1] for pair in train_bag]))\n",
    "    print(\"** T **\", T)\n",
    "    \n",
    "    for key, word in enumerate(words):\n",
    "        #initialise list of probability column for a given observation\n",
    "        p = [] \n",
    "        for tag in T:\n",
    "            if key == 0:\n",
    "                transition_p = tags_df.loc['.', tag]\n",
    "            else:\n",
    "                #print(\"**state[-1]** \", state[-1])\n",
    "                transition_p = tags_df.loc[state[-1], tag]\n",
    "                \n",
    "            # compute emission and state probabilities\n",
    "            emission_p = word_given_tag(words[key], tag)[0]/word_given_tag(words[key], tag)[1]\n",
    "            state_probability = emission_p * transition_p    \n",
    "            p.append(state_probability)\n",
    "            \n",
    "        pmax = max(p)\n",
    "        # getting state for which probability is maximum\n",
    "        state_max = T[p.index(pmax)] \n",
    "        state.append(state_max)\n",
    "    return list(zip(words, state))"
   ]
  },
  {
   "cell_type": "code",
   "execution_count": 23,
   "metadata": {},
   "outputs": [
    {
     "name": "stdout",
     "output_type": "stream",
     "text": [
      "[('Earnings', 'NOUN'), ('were', 'VERB'), ('hurt', 'VERB'), ('*-1', 'X'), ('by', 'ADP'), ('disposal', 'NOUN'), ('of', 'ADP'), ('operations', 'NOUN'), ('in', 'ADP'), ('its', 'PRON'), ('restructuring', 'NOUN'), (',', '.'), ('Reed', 'NOUN'), ('said', 'VERB'), ('0', 'X'), ('*T*-2', 'X'), ('.', '.'), ('In', 'ADP'), ('a', 'DET'), ('recent', 'ADJ'), ('report', 'NOUN'), (',', '.'), ('the', 'DET'), ('Institute', 'NOUN'), ('of', 'ADP'), ('Medicine', 'NOUN'), ('pointed', 'VERB'), ('out', 'PRT'), ('that', 'ADP'), ('certain', 'ADJ'), ('health', 'NOUN'), ('problems', 'NOUN'), ('may', 'VERB'), ('predispose', 'VERB'), ('a', 'DET'), ('person', 'NOUN'), ('to', 'PRT'), ('homelessness', 'NOUN'), (',', '.'), ('others', 'NOUN'), ('may', 'VERB'), ('be', 'VERB'), ('a', 'DET'), ('consequence', 'NOUN'), ('of', 'ADP'), ('it', 'PRON'), (',', '.'), ('and', 'CONJ'), ('a', 'DET'), ('third', 'ADJ'), ('category', 'NOUN'), ('is', 'VERB'), ('composed', 'VERB'), ('*-19', 'X'), ('of', 'ADP'), ('disorders', 'NOUN'), ('whose', 'PRON'), ('treatment', 'NOUN'), ('*T*-15', 'X'), ('is', 'VERB'), ('difficult', 'ADJ'), ('or', 'CONJ'), ('impossible', 'ADJ'), ('if', 'ADP'), ('a', 'DET'), ('person', 'NOUN'), ('lacks', 'VERB'), ('adequate', 'ADJ'), ('shelter', 'NOUN'), ('.', '.'), ('Under', 'ADP'), ('that', 'DET'), ('law', 'NOUN'), (',', '.'), ('parties', 'NOUN'), ('proposing', 'VERB'), ('mergers', 'NOUN'), ('or', 'CONJ'), ('acquisitions', 'NOUN'), ('valued', 'VERB'), ('*', 'X'), ('at', 'ADP'), ('$', '.'), ('15', 'NUM'), ('million', 'NUM'), ('*U*', 'X'), ('or', 'CONJ'), ('more', 'ADV'), ('must', 'VERB'), ('notify', 'VERB'), ('FTC', 'NOUN'), ('and', 'CONJ'), ('Justice', 'NOUN'), ('Department', 'NOUN'), ('antitrust', 'ADJ'), ('regulators', 'NOUN'), ('before', 'ADP'), ('*-1', 'X'), ('completing', 'VERB'), ('the', 'DET'), ('transactions', 'NOUN'), ('.', '.')]\n",
      "\n",
      "['Earnings', 'were', 'hurt', '*-1', 'by', 'disposal', 'of', 'operations', 'in', 'its', 'restructuring', ',', 'Reed', 'said', '0', '*T*-2', '.', 'In', 'a', 'recent', 'report', ',', 'the', 'Institute', 'of', 'Medicine', 'pointed', 'out', 'that', 'certain', 'health', 'problems', 'may', 'predispose', 'a', 'person', 'to', 'homelessness', ',', 'others', 'may', 'be', 'a', 'consequence', 'of', 'it', ',', 'and', 'a', 'third', 'category', 'is', 'composed', '*-19', 'of', 'disorders', 'whose', 'treatment', '*T*-15', 'is', 'difficult', 'or', 'impossible', 'if', 'a', 'person', 'lacks', 'adequate', 'shelter', '.', 'Under', 'that', 'law', ',', 'parties', 'proposing', 'mergers', 'or', 'acquisitions', 'valued', '*', 'at', '$', '15', 'million', '*U*', 'or', 'more', 'must', 'notify', 'FTC', 'and', 'Justice', 'Department', 'antitrust', 'regulators', 'before', '*-1', 'completing', 'the', 'transactions', '.']\n"
     ]
    }
   ],
   "source": [
    "# Running on entire test dataset would take more than 3-4hrs. \n",
    "# Let's test our Viterbi algorithm on a few sample sentences of test dataset\n",
    "\n",
    "random.seed(1234)\n",
    "\n",
    "# choose random 5 sents\n",
    "rndom = [random.randint(1,len(test_set)) for x in range(3)]\n",
    "\n",
    "# list of sents\n",
    "test_run = [test_set[i] for i in rndom]\n",
    "\n",
    "# list of tagged words\n",
    "test_run_base = [tup for sent in test_run for tup in sent]\n",
    "\n",
    "# list of untagged words\n",
    "test_tagged_words = [tup[0] for sent in test_run for tup in sent]\n",
    "\n",
    "print(test_run_base)\n",
    "print()\n",
    "print(test_tagged_words)"
   ]
  },
  {
   "cell_type": "code",
   "execution_count": 24,
   "metadata": {},
   "outputs": [
    {
     "name": "stdout",
     "output_type": "stream",
     "text": [
      "**Words to be tagged**  ['Earnings', 'were', 'hurt', '*-1', 'by', 'disposal', 'of', 'operations', 'in', 'its', 'restructuring', ',', 'Reed', 'said', '0', '*T*-2', '.', 'In', 'a', 'recent', 'report', ',', 'the', 'Institute', 'of', 'Medicine', 'pointed', 'out', 'that', 'certain', 'health', 'problems', 'may', 'predispose', 'a', 'person', 'to', 'homelessness', ',', 'others', 'may', 'be', 'a', 'consequence', 'of', 'it', ',', 'and', 'a', 'third', 'category', 'is', 'composed', '*-19', 'of', 'disorders', 'whose', 'treatment', '*T*-15', 'is', 'difficult', 'or', 'impossible', 'if', 'a', 'person', 'lacks', 'adequate', 'shelter', '.', 'Under', 'that', 'law', ',', 'parties', 'proposing', 'mergers', 'or', 'acquisitions', 'valued', '*', 'at', '$', '15', 'million', '*U*', 'or', 'more', 'must', 'notify', 'FTC', 'and', 'Justice', 'Department', 'antitrust', 'regulators', 'before', '*-1', 'completing', 'the', 'transactions', '.']\n",
      "** T ** ['DET', 'CONJ', 'VERB', 'ADP', '.', 'ADJ', 'NOUN', 'PRON', 'NUM', 'ADV', 'PRT', 'X']\n"
     ]
    }
   ],
   "source": [
    "# tagging the test sentences\n",
    "start = time.time()\n",
    "tagged_seq = Viterbi(test_tagged_words)\n",
    "end = time.time()\n",
    "difference = end-start"
   ]
  },
  {
   "cell_type": "code",
   "execution_count": 25,
   "metadata": {},
   "outputs": [
    {
     "name": "stdout",
     "output_type": "stream",
     "text": [
      "Time taken in seconds:  64.03216624259949\n",
      "[('Earnings', 'NOUN'), ('were', 'VERB'), ('hurt', 'VERB'), ('*-1', 'X'), ('by', 'ADP'), ('disposal', 'NOUN'), ('of', 'ADP'), ('operations', 'NOUN'), ('in', 'ADP'), ('its', 'PRON'), ('restructuring', 'NOUN'), (',', '.'), ('Reed', 'NOUN'), ('said', 'VERB'), ('0', 'X'), ('*T*-2', 'X'), ('.', '.'), ('In', 'ADP'), ('a', 'DET'), ('recent', 'ADJ'), ('report', 'NOUN'), (',', '.'), ('the', 'DET'), ('Institute', 'NOUN'), ('of', 'ADP'), ('Medicine', 'NOUN'), ('pointed', 'VERB'), ('out', 'PRT'), ('that', 'DET'), ('certain', 'ADJ'), ('health', 'NOUN'), ('problems', 'NOUN'), ('may', 'VERB'), ('predispose', 'DET'), ('a', 'DET'), ('person', 'NOUN'), ('to', 'PRT'), ('homelessness', 'NOUN'), (',', '.'), ('others', 'NOUN'), ('may', 'VERB'), ('be', 'VERB'), ('a', 'DET'), ('consequence', 'DET'), ('of', 'ADP'), ('it', 'PRON'), (',', '.'), ('and', 'CONJ'), ('a', 'DET'), ('third', 'ADJ'), ('category', 'NOUN'), ('is', 'VERB'), ('composed', 'DET'), ('*-19', 'X'), ('of', 'ADP'), ('disorders', 'NOUN'), ('whose', 'PRON'), ('treatment', 'NOUN'), ('*T*-15', 'X'), ('is', 'VERB'), ('difficult', 'ADJ'), ('or', 'CONJ'), ('impossible', 'ADJ'), ('if', 'ADP'), ('a', 'DET'), ('person', 'NOUN'), ('lacks', 'VERB'), ('adequate', 'DET'), ('shelter', 'NOUN'), ('.', '.'), ('Under', 'ADP'), ('that', 'DET'), ('law', 'NOUN'), (',', '.'), ('parties', 'NOUN'), ('proposing', 'VERB'), ('mergers', 'NOUN'), ('or', 'CONJ'), ('acquisitions', 'NOUN'), ('valued', 'VERB'), ('*', 'X'), ('at', 'ADP'), ('$', '.'), ('15', 'NUM'), ('million', 'NUM'), ('*U*', 'X'), ('or', 'CONJ'), ('more', 'ADJ'), ('must', 'VERB'), ('notify', 'DET'), ('FTC', 'NOUN'), ('and', 'CONJ'), ('Justice', 'NOUN'), ('Department', 'NOUN'), ('antitrust', 'ADJ'), ('regulators', 'NOUN'), ('before', 'ADP'), ('*-1', 'X'), ('completing', 'DET'), ('the', 'DET'), ('transactions', 'NOUN'), ('.', '.')]\n"
     ]
    }
   ],
   "source": [
    "print(\"Time taken in seconds: \", difference)\n",
    "print(tagged_seq)\n",
    "#print(test_run_base)"
   ]
  },
  {
   "cell_type": "code",
   "execution_count": 26,
   "metadata": {},
   "outputs": [
    {
     "name": "stdout",
     "output_type": "stream",
     "text": [
      "0.9215686274509803\n"
     ]
    }
   ],
   "source": [
    "# accuracy\n",
    "check = [i for i, j in zip(tagged_seq, test_run_base) if i == j] \n",
    "accuracy = len(check)/len(tagged_seq)\n",
    "print(accuracy)"
   ]
  },
  {
   "cell_type": "code",
   "execution_count": 27,
   "metadata": {},
   "outputs": [
    {
     "name": "stdout",
     "output_type": "stream",
     "text": [
      "[(('Earnings', 'NOUN'), ('Earnings', 'NOUN')), (('were', 'VERB'), ('were', 'VERB')), (('hurt', 'VERB'), ('hurt', 'VERB')), (('*-1', 'X'), ('*-1', 'X')), (('by', 'ADP'), ('by', 'ADP')), (('disposal', 'NOUN'), ('disposal', 'NOUN')), (('of', 'ADP'), ('of', 'ADP')), (('operations', 'NOUN'), ('operations', 'NOUN')), (('in', 'ADP'), ('in', 'ADP')), (('its', 'PRON'), ('its', 'PRON')), (('restructuring', 'NOUN'), ('restructuring', 'NOUN')), ((',', '.'), (',', '.')), (('Reed', 'NOUN'), ('Reed', 'NOUN')), (('said', 'VERB'), ('said', 'VERB')), (('0', 'X'), ('0', 'X')), (('*T*-2', 'X'), ('*T*-2', 'X')), (('.', '.'), ('.', '.')), (('In', 'ADP'), ('In', 'ADP')), (('a', 'DET'), ('a', 'DET')), (('recent', 'ADJ'), ('recent', 'ADJ')), (('report', 'NOUN'), ('report', 'NOUN')), ((',', '.'), (',', '.')), (('the', 'DET'), ('the', 'DET')), (('Institute', 'NOUN'), ('Institute', 'NOUN')), (('of', 'ADP'), ('of', 'ADP')), (('Medicine', 'NOUN'), ('Medicine', 'NOUN')), (('pointed', 'VERB'), ('pointed', 'VERB')), (('out', 'PRT'), ('out', 'PRT')), (('that', 'DET'), ('that', 'ADP')), (('certain', 'ADJ'), ('certain', 'ADJ')), (('health', 'NOUN'), ('health', 'NOUN')), (('problems', 'NOUN'), ('problems', 'NOUN')), (('may', 'VERB'), ('may', 'VERB')), (('predispose', 'DET'), ('predispose', 'VERB')), (('a', 'DET'), ('a', 'DET')), (('person', 'NOUN'), ('person', 'NOUN')), (('to', 'PRT'), ('to', 'PRT')), (('homelessness', 'NOUN'), ('homelessness', 'NOUN')), ((',', '.'), (',', '.')), (('others', 'NOUN'), ('others', 'NOUN')), (('may', 'VERB'), ('may', 'VERB')), (('be', 'VERB'), ('be', 'VERB')), (('a', 'DET'), ('a', 'DET')), (('consequence', 'DET'), ('consequence', 'NOUN')), (('of', 'ADP'), ('of', 'ADP')), (('it', 'PRON'), ('it', 'PRON')), ((',', '.'), (',', '.')), (('and', 'CONJ'), ('and', 'CONJ')), (('a', 'DET'), ('a', 'DET')), (('third', 'ADJ'), ('third', 'ADJ')), (('category', 'NOUN'), ('category', 'NOUN')), (('is', 'VERB'), ('is', 'VERB')), (('composed', 'DET'), ('composed', 'VERB')), (('*-19', 'X'), ('*-19', 'X')), (('of', 'ADP'), ('of', 'ADP')), (('disorders', 'NOUN'), ('disorders', 'NOUN')), (('whose', 'PRON'), ('whose', 'PRON')), (('treatment', 'NOUN'), ('treatment', 'NOUN')), (('*T*-15', 'X'), ('*T*-15', 'X')), (('is', 'VERB'), ('is', 'VERB')), (('difficult', 'ADJ'), ('difficult', 'ADJ')), (('or', 'CONJ'), ('or', 'CONJ')), (('impossible', 'ADJ'), ('impossible', 'ADJ')), (('if', 'ADP'), ('if', 'ADP')), (('a', 'DET'), ('a', 'DET')), (('person', 'NOUN'), ('person', 'NOUN')), (('lacks', 'VERB'), ('lacks', 'VERB')), (('adequate', 'DET'), ('adequate', 'ADJ')), (('shelter', 'NOUN'), ('shelter', 'NOUN')), (('.', '.'), ('.', '.')), (('Under', 'ADP'), ('Under', 'ADP')), (('that', 'DET'), ('that', 'DET')), (('law', 'NOUN'), ('law', 'NOUN')), ((',', '.'), (',', '.')), (('parties', 'NOUN'), ('parties', 'NOUN')), (('proposing', 'VERB'), ('proposing', 'VERB')), (('mergers', 'NOUN'), ('mergers', 'NOUN')), (('or', 'CONJ'), ('or', 'CONJ')), (('acquisitions', 'NOUN'), ('acquisitions', 'NOUN')), (('valued', 'VERB'), ('valued', 'VERB')), (('*', 'X'), ('*', 'X')), (('at', 'ADP'), ('at', 'ADP')), (('$', '.'), ('$', '.')), (('15', 'NUM'), ('15', 'NUM')), (('million', 'NUM'), ('million', 'NUM')), (('*U*', 'X'), ('*U*', 'X')), (('or', 'CONJ'), ('or', 'CONJ')), (('more', 'ADJ'), ('more', 'ADV')), (('must', 'VERB'), ('must', 'VERB')), (('notify', 'DET'), ('notify', 'VERB')), (('FTC', 'NOUN'), ('FTC', 'NOUN')), (('and', 'CONJ'), ('and', 'CONJ')), (('Justice', 'NOUN'), ('Justice', 'NOUN')), (('Department', 'NOUN'), ('Department', 'NOUN')), (('antitrust', 'ADJ'), ('antitrust', 'ADJ')), (('regulators', 'NOUN'), ('regulators', 'NOUN')), (('before', 'ADP'), ('before', 'ADP')), (('*-1', 'X'), ('*-1', 'X')), (('completing', 'DET'), ('completing', 'VERB')), (('the', 'DET'), ('the', 'DET')), (('transactions', 'NOUN'), ('transactions', 'NOUN')), (('.', '.'), ('.', '.'))]\n"
     ]
    },
    {
     "data": {
      "text/plain": [
       "NoneType"
      ]
     },
     "execution_count": 27,
     "metadata": {},
     "output_type": "execute_result"
    }
   ],
   "source": [
    "k = zip(tagged_seq, test_run_base)\n",
    "type(print(list(k)))\n"
   ]
  },
  {
   "cell_type": "code",
   "execution_count": 28,
   "metadata": {},
   "outputs": [
    {
     "data": {
      "text/plain": [
       "[[('out', 'PRT'), (('that', 'DET'), ('that', 'ADP'))],\n",
       " [('may', 'VERB'), (('predispose', 'DET'), ('predispose', 'VERB'))],\n",
       " [('a', 'DET'), (('consequence', 'DET'), ('consequence', 'NOUN'))],\n",
       " [('is', 'VERB'), (('composed', 'DET'), ('composed', 'VERB'))],\n",
       " [('lacks', 'VERB'), (('adequate', 'DET'), ('adequate', 'ADJ'))],\n",
       " [('or', 'CONJ'), (('more', 'ADJ'), ('more', 'ADV'))],\n",
       " [('must', 'VERB'), (('notify', 'DET'), ('notify', 'VERB'))],\n",
       " [('*-1', 'X'), (('completing', 'DET'), ('completing', 'VERB'))]]"
      ]
     },
     "execution_count": 28,
     "metadata": {},
     "output_type": "execute_result"
    }
   ],
   "source": [
    "incorrect_tagged_cases = [[test_run_base[i-1],j] for i, j in enumerate(zip(tagged_seq, test_run_base)) if j[0]!=j[1]]\n",
    "incorrect_tagged_cases"
   ]
  },
  {
   "cell_type": "code",
   "execution_count": 29,
   "metadata": {},
   "outputs": [],
   "source": [
    "import codecs"
   ]
  },
  {
   "cell_type": "code",
   "execution_count": 30,
   "metadata": {},
   "outputs": [
    {
     "name": "stdout",
     "output_type": "stream",
     "text": [
      "Android is a mobile operating system developed by Google.\r\n",
      "\n",
      "Android has been the best-selling OS worldwide on smartphones since 2011 and on tablets since 2013.\r\n",
      "\n",
      "Google and Twitter made a deal in 2015 that gave Google access to Twitter's firehose.\r\n",
      "\n",
      "Twitter is an online news and social networking service on which users post and interact with messages known as tweets.\r\n",
      "\n",
      "Before entering politics, Donald Trump was a domineering businessman and a television personality.\r\n",
      "\n",
      "The 2018 FIFA World Cup is the 21st FIFA World Cup, an international football tournament contested once every four years.\r\n",
      "\n",
      "This is the first World Cup to be held in Eastern Europe and the 11th time that it has been held in Europe.\r\n",
      "\n",
      "Show me the cheapest round trips from Dallas to Atlanta\r\n",
      "\n",
      "I would like to see flights from Denver to Philadelphia.\r\n",
      "\n",
      "Show me the price of the flights leaving Atlanta at about 3 in the afternoon and arriving in San Francisco.\r\n",
      "\n",
      "NASA invited social media users to experience the launch of ICESAT-2 Satellite.\r\n",
      "\n",
      "\r\n",
      "\n",
      "\r\n",
      "\n",
      "\r\n",
      "\n"
     ]
    }
   ],
   "source": [
    "#Read the text file\n",
    "lines=[]\n",
    "f = codecs.open(\"Test_sentences.txt\", encoding='utf-8')\n",
    "for line in f:\n",
    "    print(line)\n",
    "    lines.append(line)"
   ]
  },
  {
   "cell_type": "code",
   "execution_count": 31,
   "metadata": {},
   "outputs": [
    {
     "data": {
      "text/plain": [
       "['Android is a mobile operating system developed by Google.\\r\\n',\n",
       " 'Android has been the best-selling OS worldwide on smartphones since 2011 and on tablets since 2013.\\r\\n',\n",
       " \"Google and Twitter made a deal in 2015 that gave Google access to Twitter's firehose.\\r\\n\",\n",
       " 'Twitter is an online news and social networking service on which users post and interact with messages known as tweets.\\r\\n',\n",
       " 'Before entering politics, Donald Trump was a domineering businessman and a television personality.\\r\\n',\n",
       " 'The 2018 FIFA World Cup is the 21st FIFA World Cup, an international football tournament contested once every four years.\\r\\n',\n",
       " 'This is the first World Cup to be held in Eastern Europe and the 11th time that it has been held in Europe.\\r\\n',\n",
       " 'Show me the cheapest round trips from Dallas to Atlanta\\r\\n',\n",
       " 'I would like to see flights from Denver to Philadelphia.\\r\\n',\n",
       " 'Show me the price of the flights leaving Atlanta at about 3 in the afternoon and arriving in San Francisco.\\r\\n',\n",
       " 'NASA invited social media users to experience the launch of ICESAT-2 Satellite.\\r\\n',\n",
       " '\\r\\n',\n",
       " '\\r\\n',\n",
       " '\\r\\n']"
      ]
     },
     "execution_count": 31,
     "metadata": {},
     "output_type": "execute_result"
    }
   ],
   "source": [
    "lines"
   ]
  },
  {
   "cell_type": "code",
   "execution_count": 32,
   "metadata": {},
   "outputs": [
    {
     "data": {
      "text/plain": [
       "['Android is a mobile operating system developed by Google.',\n",
       " 'Android has been the best-selling OS worldwide on smartphones since 2011 and on tablets since 2013.',\n",
       " \"Google and Twitter made a deal in 2015 that gave Google access to Twitter's firehose.\",\n",
       " 'Twitter is an online news and social networking service on which users post and interact with messages known as tweets.',\n",
       " 'Before entering politics, Donald Trump was a domineering businessman and a television personality.',\n",
       " 'The 2018 FIFA World Cup is the 21st FIFA World Cup, an international football tournament contested once every four years.',\n",
       " 'This is the first World Cup to be held in Eastern Europe and the 11th time that it has been held in Europe.',\n",
       " 'Show me the cheapest round trips from Dallas to Atlanta',\n",
       " 'I would like to see flights from Denver to Philadelphia.',\n",
       " 'Show me the price of the flights leaving Atlanta at about 3 in the afternoon and arriving in San Francisco.',\n",
       " 'NASA invited social media users to experience the launch of ICESAT-2 Satellite.']"
      ]
     },
     "execution_count": 32,
     "metadata": {},
     "output_type": "execute_result"
    }
   ],
   "source": [
    "#Strip the special characters and empty strings in the list file\n",
    "test_lines =[sent.rstrip() for sent in lines if sent.rstrip()!='']\n",
    "test_lines"
   ]
  },
  {
   "cell_type": "code",
   "execution_count": null,
   "metadata": {},
   "outputs": [],
   "source": []
  },
  {
   "cell_type": "code",
   "execution_count": null,
   "metadata": {},
   "outputs": [],
   "source": []
  },
  {
   "cell_type": "code",
   "execution_count": null,
   "metadata": {},
   "outputs": [],
   "source": []
  },
  {
   "cell_type": "markdown",
   "metadata": {},
   "source": [
    "### Solve the problem of unknown words"
   ]
  },
  {
   "cell_type": "code",
   "execution_count": null,
   "metadata": {},
   "outputs": [],
   "source": []
  },
  {
   "cell_type": "code",
   "execution_count": null,
   "metadata": {},
   "outputs": [],
   "source": []
  },
  {
   "cell_type": "markdown",
   "metadata": {},
   "source": [
    "#### Evaluating tagging accuracy"
   ]
  },
  {
   "cell_type": "code",
   "execution_count": null,
   "metadata": {},
   "outputs": [],
   "source": []
  },
  {
   "cell_type": "code",
   "execution_count": null,
   "metadata": {},
   "outputs": [],
   "source": []
  },
  {
   "cell_type": "markdown",
   "metadata": {},
   "source": [
    "### Compare the tagging accuracies of the modifications with the vanilla Viterbi algorithm"
   ]
  },
  {
   "cell_type": "code",
   "execution_count": null,
   "metadata": {},
   "outputs": [],
   "source": []
  },
  {
   "cell_type": "code",
   "execution_count": null,
   "metadata": {},
   "outputs": [],
   "source": []
  },
  {
   "cell_type": "code",
   "execution_count": null,
   "metadata": {},
   "outputs": [],
   "source": []
  },
  {
   "cell_type": "markdown",
   "metadata": {},
   "source": [
    "### List down cases which were incorrectly tagged by original POS tagger and got corrected by your modifications"
   ]
  },
  {
   "cell_type": "code",
   "execution_count": null,
   "metadata": {},
   "outputs": [],
   "source": []
  },
  {
   "cell_type": "code",
   "execution_count": null,
   "metadata": {},
   "outputs": [],
   "source": []
  },
  {
   "cell_type": "markdown",
   "metadata": {},
   "source": [
    "#### END OF SOLUTION"
   ]
  },
  {
   "cell_type": "code",
   "execution_count": null,
   "metadata": {},
   "outputs": [],
   "source": []
  }
 ],
 "metadata": {
  "kernelspec": {
   "display_name": "Python 3",
   "language": "python",
   "name": "python3"
  },
  "language_info": {
   "codemirror_mode": {
    "name": "ipython",
    "version": 3
   },
   "file_extension": ".py",
   "mimetype": "text/x-python",
   "name": "python",
   "nbconvert_exporter": "python",
   "pygments_lexer": "ipython3",
   "version": "3.8.3"
  }
 },
 "nbformat": 4,
 "nbformat_minor": 2
}
