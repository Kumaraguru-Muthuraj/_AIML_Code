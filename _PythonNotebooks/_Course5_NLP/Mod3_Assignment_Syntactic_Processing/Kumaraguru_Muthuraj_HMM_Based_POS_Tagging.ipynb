{
 "cells": [
  {
   "cell_type": "markdown",
   "metadata": {},
   "source": [
    "## HMM Based POS Tagging Assignment\n",
    "### Author - Kumaraguru Muthuraj\n",
    "\n",
    "#### Solution description\n",
    "1. Tagged Treebank corpus is available (Sample data to training and test data set)\n",
    "   - Basic text and structure exploration\n",
    "2. Creating HMM model on the tagged data set.\n",
    "   - Calculating Emission Probabaility: P(observation|state)\n",
    "   - Calculating Transition Probability: P(state2|state1)\n",
    "3. Checking accuracy on the test data set"
   ]
  },
  {
   "cell_type": "markdown",
   "metadata": {},
   "source": [
    "### 1. Exploring the treebank dataset -  data preparation"
   ]
  },
  {
   "cell_type": "code",
   "execution_count": 3,
   "metadata": {},
   "outputs": [],
   "source": [
    "#Importing libraries\n",
    "import nltk\n",
    "import re, pprint\n",
    "import numpy as np\n",
    "import pandas as pd\n",
    "import requests\n",
    "import matplotlib.pyplot as plt\n",
    "import seaborn as sns\n",
    "import pprint, time\n",
    "import random\n",
    "from sklearn.model_selection import train_test_split\n",
    "from nltk.tokenize import word_tokenize"
   ]
  },
  {
   "cell_type": "code",
   "execution_count": 6,
   "metadata": {},
   "outputs": [
    {
     "name": "stderr",
     "output_type": "stream",
     "text": [
      "[nltk_data] Downloading package treebank to\n",
      "[nltk_data]     C:\\Users\\kumaraguru\\AppData\\Roaming\\nltk_data...\n",
      "[nltk_data]   Package treebank is already up-to-date!\n",
      "[nltk_data] Downloading package universal_tagset to\n",
      "[nltk_data]     C:\\Users\\kumaraguru\\AppData\\Roaming\\nltk_data...\n",
      "[nltk_data]   Unzipping taggers\\universal_tagset.zip.\n"
     ]
    },
    {
     "data": {
      "text/plain": [
       "True"
      ]
     },
     "execution_count": 6,
     "metadata": {},
     "output_type": "execute_result"
    }
   ],
   "source": [
    "nltk.download('treebank')\n",
    "nltk.download('universal_tagset')"
   ]
  },
  {
   "cell_type": "code",
   "execution_count": 7,
   "metadata": {},
   "outputs": [],
   "source": [
    "# Load the UNIVERSAL tagset from Treebank\n",
    "nltk_data = list(nltk.corpus.treebank.tagged_sents(tagset='universal'))"
   ]
  },
  {
   "cell_type": "code",
   "execution_count": 27,
   "metadata": {},
   "outputs": [
    {
     "name": "stdout",
     "output_type": "stream",
     "text": [
      "***Length of the data set ****  3914\n",
      "\n",
      "\n",
      "***First few lines*****\n"
     ]
    },
    {
     "data": {
      "text/plain": [
       "[[('Pierre', 'NOUN'),\n",
       "  ('Vinken', 'NOUN'),\n",
       "  (',', '.'),\n",
       "  ('61', 'NUM'),\n",
       "  ('years', 'NOUN'),\n",
       "  ('old', 'ADJ'),\n",
       "  (',', '.'),\n",
       "  ('will', 'VERB'),\n",
       "  ('join', 'VERB'),\n",
       "  ('the', 'DET'),\n",
       "  ('board', 'NOUN'),\n",
       "  ('as', 'ADP'),\n",
       "  ('a', 'DET'),\n",
       "  ('nonexecutive', 'ADJ'),\n",
       "  ('director', 'NOUN'),\n",
       "  ('Nov.', 'NOUN'),\n",
       "  ('29', 'NUM'),\n",
       "  ('.', '.')],\n",
       " [('Mr.', 'NOUN'),\n",
       "  ('Vinken', 'NOUN'),\n",
       "  ('is', 'VERB'),\n",
       "  ('chairman', 'NOUN'),\n",
       "  ('of', 'ADP'),\n",
       "  ('Elsevier', 'NOUN'),\n",
       "  ('N.V.', 'NOUN'),\n",
       "  (',', '.'),\n",
       "  ('the', 'DET'),\n",
       "  ('Dutch', 'NOUN'),\n",
       "  ('publishing', 'VERB'),\n",
       "  ('group', 'NOUN'),\n",
       "  ('.', '.')],\n",
       " [('Rudolph', 'NOUN'),\n",
       "  ('Agnew', 'NOUN'),\n",
       "  (',', '.'),\n",
       "  ('55', 'NUM'),\n",
       "  ('years', 'NOUN'),\n",
       "  ('old', 'ADJ'),\n",
       "  ('and', 'CONJ'),\n",
       "  ('former', 'ADJ'),\n",
       "  ('chairman', 'NOUN'),\n",
       "  ('of', 'ADP'),\n",
       "  ('Consolidated', 'NOUN'),\n",
       "  ('Gold', 'NOUN'),\n",
       "  ('Fields', 'NOUN'),\n",
       "  ('PLC', 'NOUN'),\n",
       "  (',', '.'),\n",
       "  ('was', 'VERB'),\n",
       "  ('named', 'VERB'),\n",
       "  ('*-1', 'X'),\n",
       "  ('a', 'DET'),\n",
       "  ('nonexecutive', 'ADJ'),\n",
       "  ('director', 'NOUN'),\n",
       "  ('of', 'ADP'),\n",
       "  ('this', 'DET'),\n",
       "  ('British', 'ADJ'),\n",
       "  ('industrial', 'ADJ'),\n",
       "  ('conglomerate', 'NOUN'),\n",
       "  ('.', '.')],\n",
       " [('A', 'DET'),\n",
       "  ('form', 'NOUN'),\n",
       "  ('of', 'ADP'),\n",
       "  ('asbestos', 'NOUN'),\n",
       "  ('once', 'ADV'),\n",
       "  ('used', 'VERB'),\n",
       "  ('*', 'X'),\n",
       "  ('*', 'X'),\n",
       "  ('to', 'PRT'),\n",
       "  ('make', 'VERB'),\n",
       "  ('Kent', 'NOUN'),\n",
       "  ('cigarette', 'NOUN'),\n",
       "  ('filters', 'NOUN'),\n",
       "  ('has', 'VERB'),\n",
       "  ('caused', 'VERB'),\n",
       "  ('a', 'DET'),\n",
       "  ('high', 'ADJ'),\n",
       "  ('percentage', 'NOUN'),\n",
       "  ('of', 'ADP'),\n",
       "  ('cancer', 'NOUN'),\n",
       "  ('deaths', 'NOUN'),\n",
       "  ('among', 'ADP'),\n",
       "  ('a', 'DET'),\n",
       "  ('group', 'NOUN'),\n",
       "  ('of', 'ADP'),\n",
       "  ('workers', 'NOUN'),\n",
       "  ('exposed', 'VERB'),\n",
       "  ('*', 'X'),\n",
       "  ('to', 'PRT'),\n",
       "  ('it', 'PRON'),\n",
       "  ('more', 'ADV'),\n",
       "  ('than', 'ADP'),\n",
       "  ('30', 'NUM'),\n",
       "  ('years', 'NOUN'),\n",
       "  ('ago', 'ADP'),\n",
       "  (',', '.'),\n",
       "  ('researchers', 'NOUN'),\n",
       "  ('reported', 'VERB'),\n",
       "  ('0', 'X'),\n",
       "  ('*T*-1', 'X'),\n",
       "  ('.', '.')],\n",
       " [('The', 'DET'),\n",
       "  ('asbestos', 'NOUN'),\n",
       "  ('fiber', 'NOUN'),\n",
       "  (',', '.'),\n",
       "  ('crocidolite', 'NOUN'),\n",
       "  (',', '.'),\n",
       "  ('is', 'VERB'),\n",
       "  ('unusually', 'ADV'),\n",
       "  ('resilient', 'ADJ'),\n",
       "  ('once', 'ADP'),\n",
       "  ('it', 'PRON'),\n",
       "  ('enters', 'VERB'),\n",
       "  ('the', 'DET'),\n",
       "  ('lungs', 'NOUN'),\n",
       "  (',', '.'),\n",
       "  ('with', 'ADP'),\n",
       "  ('even', 'ADV'),\n",
       "  ('brief', 'ADJ'),\n",
       "  ('exposures', 'NOUN'),\n",
       "  ('to', 'PRT'),\n",
       "  ('it', 'PRON'),\n",
       "  ('causing', 'VERB'),\n",
       "  ('symptoms', 'NOUN'),\n",
       "  ('that', 'DET'),\n",
       "  ('*T*-1', 'X'),\n",
       "  ('show', 'VERB'),\n",
       "  ('up', 'PRT'),\n",
       "  ('decades', 'NOUN'),\n",
       "  ('later', 'ADJ'),\n",
       "  (',', '.'),\n",
       "  ('researchers', 'NOUN'),\n",
       "  ('said', 'VERB'),\n",
       "  ('0', 'X'),\n",
       "  ('*T*-2', 'X'),\n",
       "  ('.', '.')]]"
      ]
     },
     "execution_count": 27,
     "metadata": {},
     "output_type": "execute_result"
    }
   ],
   "source": [
    "# PRINT first few tagged sentences\n",
    "print(\"***Length of the data set **** \", len(nltk_data))\n",
    "# samples: Each sentence is a list of (word, pos) tuples\n",
    "print(\"\\n\\n***First few lines*****\")\n",
    "nltk_data[:5]"
   ]
  },
  {
   "cell_type": "code",
   "execution_count": 28,
   "metadata": {},
   "outputs": [
    {
     "name": "stdout",
     "output_type": "stream",
     "text": [
      "***Length of the training data set ****  3718\n",
      "***Length of the test data set ****  196\n",
      "\n",
      "\n",
      "*****Print a few lines*****\n",
      " [[('They', 'PRON'), ('do', 'VERB'), (\"n't\", 'ADV'), ('have', 'VERB'), ('plans', 'NOUN'), ('*', 'X'), ('to', 'PRT'), ('cut', 'VERB'), ('back', 'ADV'), ('.', '.')], [('Currently', 'ADV'), (',', '.'), ('the', 'DET'), ('government', 'NOUN'), ('charges', 'VERB'), ('nothing', 'NOUN'), ('for', 'ADP'), ('such', 'ADJ'), ('filings', 'NOUN'), ('.', '.')], [('``', '.'), ('Little', 'ADV'), ('by', 'ADP'), ('little', 'ADV'), (',', '.'), ('there', 'DET'), ('is', 'VERB'), ('progress', 'NOUN'), (',', '.'), (\"''\", '.'), ('says', 'VERB'), ('*T*-1', 'X'), ('the', 'DET'), ('MITI', 'NOUN'), ('official', 'NOUN'), ('.', '.')], [('In', 'ADP'), ('1979', 'NUM'), (',', '.'), ('Hearst', 'NOUN'), ('hired', 'VERB'), ('editor', 'NOUN'), ('James', 'NOUN'), ('Bellows', 'NOUN'), (',', '.'), ('who', 'PRON'), ('*T*-48', 'X'), ('brightened', 'VERB'), ('the', 'DET'), ('editorial', 'NOUN'), ('product', 'NOUN'), ('considerably', 'ADV'), ('.', '.')], [('*-1', 'X'), ('Rated', 'VERB'), ('*-2', 'X'), ('triple-A', 'ADJ'), ('by', 'ADP'), ('both', 'DET'), ('Moody', 'NOUN'), (\"'s\", 'PRT'), ('Investors', 'NOUN'), ('Service', 'NOUN'), ('Inc.', 'NOUN'), ('and', 'CONJ'), ('Standard', 'NOUN'), ('&', 'CONJ'), ('Poor', 'NOUN'), (\"'s\", 'PRT'), ('Corp.', 'NOUN'), (',', '.'), ('the', 'DET'), ('issue', 'NOUN'), ('will', 'VERB'), ('be', 'VERB'), ('sold', 'VERB'), ('*-1', 'X'), ('through', 'ADP'), ('underwriters', 'NOUN'), ('led', 'VERB'), ('*', 'X'), ('by', 'ADP'), ('Salomon', 'NOUN'), ('Brothers', 'NOUN'), ('Inc', 'NOUN'), ('.', '.')]]\n"
     ]
    }
   ],
   "source": [
    "#5% of data, according to https://learn.upgrad.com/v/course/1120/session/169917/segment/904732\n",
    "TEST_DATA_PERCENT = 0.05 \n",
    "\n",
    "# Splitting into train and test\n",
    "train_set, test_set = train_test_split(nltk_data, test_size = TEST_DATA_PERCENT)\n",
    "\n",
    "print(\"***Length of the training data set **** \", len(train_set))\n",
    "print(\"***Length of the test data set **** \", len(test_set))\n",
    "\n",
    "print(\"\\n\\n*****Print a few lines*****\\n\", train_set[:5])"
   ]
  },
  {
   "cell_type": "code",
   "execution_count": 29,
   "metadata": {},
   "outputs": [
    {
     "data": {
      "text/plain": [
       "95515"
      ]
     },
     "execution_count": 29,
     "metadata": {},
     "output_type": "execute_result"
    }
   ],
   "source": [
    "# Getting list of tagged words\n",
    "train_wordAndTag_list = [wordAndTag for sentence in train_set for wordAndTag in sentence]\n",
    "len(train_wordAndTag_list)"
   ]
  },
  {
   "cell_type": "code",
   "execution_count": 31,
   "metadata": {},
   "outputs": [
    {
     "data": {
      "text/plain": [
       "[('They', 'PRON'),\n",
       " ('do', 'VERB'),\n",
       " (\"n't\", 'ADV'),\n",
       " ('have', 'VERB'),\n",
       " ('plans', 'NOUN')]"
      ]
     },
     "execution_count": 31,
     "metadata": {},
     "output_type": "execute_result"
    }
   ],
   "source": [
    "train_wordAndTag_list[:5]"
   ]
  },
  {
   "cell_type": "code",
   "execution_count": 36,
   "metadata": {},
   "outputs": [
    {
     "name": "stdout",
     "output_type": "stream",
     "text": [
      "12097\n",
      "{'local', 'Univest', 'pleased', 'mention', 'Centerbank', '3.16', 'futures-related', 'chronicle', 'Gelles', 'Experts', 'Tire', 'photograph', 'litigation', 'lobbyists', 'promised', 'Long', 'ambitions', 'ratified', 'executed', 'ChemPlus', 'Aslacton', 'existing', 'cult', 'S&L', 'several', '*T*-90', 'Taiwan', 'exceptionally', 'sacrificing', 'Computer', 'shallow', 'protections', 'Meinders', 'interrogation', 'accept', 'sounds', 'Renaissance-style', 'length', 'compound', 'Bates', 'mania', 'four-year-old', 'bag', 'schools', '1,570', 'chalk', 'stake', 'leapt', 'seriously', 'concentration', 'untrained', 'Midwesco', '2.875', 'Germany', 'coliseum', 'depressions', 'need', 'twin', 'Legislation', 'My', 'valuations', 'hotels', 'instead', 'Justice', 'stretched', 'labor-backed', 'F.H.', 'Heritage', 'INTER-TEL', '77', 'activity', 'Orders', 'skyward', '11,762', 'Gringo', 'betrayer', 'close', 'Brownstein', 'life-style', 'happened', 'Peng', 'prominently', 'descending', 'fresh', 'yield', 'remarked', 'years', 'rivals', 'tours', '7.62', 'resistant', 'Palmer', 'Des', 'large', '*T*-27', '40', 'Huge', '*-119', '*-139', 'engaging', '*T*-26', 'Investor', 'normal', 'Berson', '41', 'Jersey-based', 'vinyl', 'near-record', 'Marathon', 'Results', 'milestones', 'particularly', 'Mary', \"D'Amico\", 'Oil', 'execution', 'bitterness', 'headquarters', 'went', 'lackluster', 'distributes', 'River', 'Borough', 'fairly', 'Life', 'automobiles', 'Being', 'Drexel', 'scuttle', 'Michael', 'heavily', 'leaving', 'preferred', 'market-oriented', 'exhaust', 'lessen', 'emotional', 'Stockbrokers', 'Shokubai', '361,376', 'avenues', 'recommending', 'alcoholism', 'unload', 'anyone', 'finished', 'Bougainville', 'main', 'closing', 'Spain', 'troop', 'one-newspaper', 'ability', 'except', 'mitigate', 'professionals', 'achieving', 'lot', '*T*-129', 'map', 'shaping', 'seminar', 'Carlos', 'Population', 'Lazzaroni', '*', 'original', 'realization', 'Cannell', 'altruistic', 'spends', 'planners', 'Initiative', 'Borge', '1994', 'idea', 'Pickens', 'endorsed', 'kilobytes', 'anybody', 'round-trip', 'days', 'More', 'Pinocchio', 'Gillett', 'Glendale', 'ornamental', 'On', 'books', 'Health', 'labeled', 'conferees', 'Cleveland', '*T*-195', 'articles', 'Hurley', 'placing', 'corn', 'Beth', 'preapproved', 'disruption', 'men', 'stronger', 'property\\\\/casualty', 'Dogs', '145', 'Beall', 'sectors', 'regard', 'maintain', 'indicator', 'undergoing', 'staid', 'disturbing', 'sponsor', 'Current', 'intermediate', 'sign', 'workplace', 'takings', 'career', 'pick', 'church-goers', '19.6', '138', 'intelligent', 'expense', 'records', 'Salon', 'voice', 'A.L.', '*-115', 'soft', 'quietly', '3.61', '*NOT*', 'vitally', 'computing', 'accelerated', 'Army', 'condemned', 'clobbered', 'Lt.', 'sufficient', 'Bund', 'NIH-appointed', 'memo', 'nation', 'mill', 'OF', 'definitive', 'mutual-fund', 'No-Smoking', 'stalls', 'inquiry', 'Saudi', 'apologizing', '112.9', '230-215', 'Schmidt', 'Ltd.', 'Genetics', 'Secretary', 'navigation', 'roof-crush', 'disappointed', 'problem', 'Determining', 'fans', 'separate', 'syndrome', 'swaps', 'investments', 'R.', 'Glauber', 'solid', 'consisting', '12.82', 'buys', 'Walbrecher', 'juggernaut', 'revenue-desperate', 'reviewed', 'advisory', 'grader', 'boosted', 'case', 'Industry', '30,841', 'part', 'headline', 'Si', 'Columbus', 'controversial', 'remarks', 'swim', 'think', 'Marietta', 'Parkinson', 'restructuring', '1.35', 'smoke', 'nets', 'swapped', 'earned', 'marketer', 'banned', 'facial', 'highs', '1970', 'statute', '*T*-221', 'psychiatric', 'Jonas', 'DOONESBURY', 'directed', '451', 'about', 'Notes', 'Avrett', 'Scotland', 'allies', 'goods', 'Zenith', 'slowly', 'retort', 'noting', 'problems', 'what', 'Many', 'rigid', '3.625', 'Vanderbilt', 'Behind', 'assuming', 'neutrons', 'roof', 'industrywide', 'deposits', 'Zealand', 'recommendation', 'writers', \"'50s\", 'stability', 'Bramalea', 'Jim', 'redistribute', 'Hours', 'interference', 'truthful', '7', 'vacations', 'pressed', 'annual', 'vehicles', 'contesting', 'way', 'painting', 'steep', 'Nekoosa', '*-58', 'suit', 'equally', 'TEXAS', 'SuperDot', 'risk-free', 'low-ball', 'accountants', 'characterizing', 'Victor', 'classified', 'transfers', 'warehousing', 'eased', 'Triton', 'framework', 'craft', 'location', 'conduct', 'Mount', 'bottlenecks', 'tower', 'south', 'Force', 'night', '*-43', 'conflicts', 'Nicaraguan', 'Guard', 'trailed', 'marvelously', 'Subcontractors', 'Beirut', 'Chemical', 'Could', 'employee', 'purposes', 'economies', 'lady', 'Manufacturing', 'clamped', 'chamber', 'venerable', 'duo', 'swing', '992,000', 'install', 'Red', 'language', 'stockbrokers', 'contain', 'experts', 'land', 'clashed', 'titans', 'attracting', 'Yet', '*-120', 'determined', 'Plaza', 'Blancs', '*-82', 'unconsolidated', 'boots', 'Authority', 'works', 'Commonwealth', 'necessary', 'faces', 'gather', 'seeking', 'acting', 'institutions', 'exclusively', 'categories', 'expands', 'decision', 'promotions', 'managers', 'mousseline', '*T*-105', 'Lakes', 'controlling', 'Keith', 'arsenide', 'carefully', 'Edward', 'kits', 'stuff', 'department', 'influence', 'Coors', 'property', 'Perspective', 'inauspicious', 'agencies', 'chain', 'constitutional-law', 'Honolulu', 'Strong', 'techniques', 'best-seller', '2', 'Constitution', 'Relations', '200,000', 'regions', 'understood', 'resolved', 'Developed', 'spectrum', 'itself', 'Institution', 'perhaps', 'Consolidated', 'Reducing', 'surprise', 'Romanee-Conti', 'ready', 'buckle', 'superpremiums', 'licensing', 'Grain', 'Equitable', 'ample', 'photographs', 'rectified', 'reins', 'Mae', '*-166', '180', 'limited', 'Colony', 'arrive', '#', 'facade', 'budget', 'noticed', 'storm', 'Asada', 'bundles', 'Sea', '1993', 'solved', 'Card', 'Cost-effective', 'deny', 'girl', '10.19', 'squad', 'handling', 'beheading', '282', 'endless', 'defuse', 'rebounding', 'betterment', 'Schweiz', 'Where', 'goodwill', 'Cheetham', 'closed-end', 'may', 'exuded', 'unpublished', 'EEOC', 'recess', 'help', 'Wilcox', 'minority-owned', '*T*-56', 'drafted', 'high-balance', 'vortex', 'marks', 'Partly', 'dam', '50-state', '*T*-78', 'York', 'Newsweek', 'which', 'general', 'unraveling', 'offering', 'supercilious', 'U.K.', 'penetrate', 'Oxnard', 'platforms', 'Puccio', 'Scoring', 'apart', 'dashed', 'Hummerstone', 'ranged', 'punish', '23.4', 'stature', 'F', 'comparable', 'strapped', 'Fourteen', 'anxious', 'erect', 'Blue', 'reckless', 'Daiwa', 'Eggers', 'Unemployment', 'October', 'mainland', '*T*-115', '*-91', '42.1', 'duck', 'dramatic', 'reprint', 'Redevelopment', 'depended', 'labor-management', 'proposed', 'metric', '472', 'lipsticks', 'harped', 'Do', 'since', 'anxieties', 'changing', 'towns', 'Courts', 'folded', 'Siegal', 'negotiations', 'undertone', 'Van', 'takeover-stock', 'diseases', 'assert', 'onto', 'psychiatrist', 'Arraignments', 'root', 'Have', 'Cup-Tote', 'compete', 'disembodied', 'wide', 'documents', 'before', 'fund', 'colder', '*-155', 'Milne', 'angle', 'Wilmington', 'Young', 'admitted', 'inevitable', 'B.', 'suppression', 'disorders', 'Nicole', 'station', 'recycled', 'undersecretary', 'municipality', 'Grandsire', 'clerks', '2\\\\/32', 'debt', 'venture', 'Drink', 'seduce', 'lengthen', 'Merc', 'hang', '*-35', 'Buick', '-LCB-', '*T*-6', 'brunt', '1.46', 'dozens', 'billed', 'revived', 'dollar-denominated', 'CAMPAIGN', 'refer', 'Chinese-American', 'Dinkins', 'skepticism', 'N.Y', 'on-campus', 'finalized', 'average', 'urged', 'renovated', 'newsworthy', '*-165', 'mainframe', 'Delwin', 'supportive', 'Soviets', 'nations', 'assembly-line', '*T*-211', 'OVER', 'customized', 'easily', 'yen', 'enter', 'any', 'Federal', 'ca', 'tens', 'strip', 'blank', '52-week', 'save', 'cope', 'associates', '*-116', 'certainly', 'listeners', 'capitalism', 'Citizens', 'invention', 'important', 'presentation', 'martyr', 'tons', 'specializing', '*-6', '2691.19', 'Congress', 'Fulham', 'sparkplugs', '61', 'movements', 'daily', 'Nesconset', 'are', 'causes', 'Ronald', 'hear', 'Smelting', 'dismal', 'restaurant', 'cents-a-unit', 'Group', 'retain', 'edition', 'Congressman', 'degree', 'administrators', 'lungs', 'handled', 'mind-boggling', '*-122', 'tracks', 'Sr.', 'liquidity', 'adults', 'unenthusiastic', 'index', 'Hills', 'diminish', 'acquiring', 'bilateral', '5.4', 'full', 'cared', 'Merrick', 'easier', 'ambitious', 'youth', 'meaningful', 'tobacco', 'facility', 'adviser', 'hung', 'logo', '1983-85', 'positions', 'disclose', 'Plains', 'Hopkins', 'machinists', 'Tramp', '*-163', 'one-year', 'Howard', 'ire', 'homeless', 'implemented', 'citations', 'Anti-Deficiency', 'ASLACTON', 'larger-than-normal', '83.4', 'monopolize', 'single-handedly', 'mistakes', 'flag', 'seafood', '8.53', 'Sumitomo', 'Learning', 'Panama', 'stupid', 'best', 'overruns', 'striking', '*T*-45', 'big-time', 'winning', 'pieces', 'Lights', 'Solaia', 'lucrative', \"CREATOR'S\", 'sounding', 'Gov.', 'Vinken', 'Orville', '*-14', 'Encouraged', 'Marchese', 'jobs', 'Preliminary', 'damages', '240', 'derivatives', 'kidney', 'obsession', 'breaks', 'here', '*T*-189', 'amid', 'ideological', 'Holding', '*-25', 'active', 'hearing', 'slowing', 'fundamentally', 'Consent', '*-130', 'Jack', 'Right', '6.79', 'integrated', 'harmful', 'Cedric', 'Rapanelli', 'graders', 'excision', 'classic', 'rejected', 'betting', 'Composer', 'business', 'subjecting', 'New', 'text', 'exceedingly', 'jockeys', 'margin', 'Hans', 'designing', 'borough', '90-day', 'Haut-Brion', '*-141', 'moment', 'photocopy', 'stick', 'supply', 'captive', '2005', 'dubbed', 'Pitcher', 'technology', 'oldest', 'Finmeccanica', 'disciplinary', '*T*-74', 'hit', 'GOP', '63', 'firmness', 'Criticism', 'samples', 'hopefully', 'benefits', 'Collins', 'money', 'fell', 'sterling', 'most-likely-successor', 'Metallgesellschaft', 'unwilling', 'McMillin', 'viewpoint', 'shuttle', 'slew', 'challenging', 'threats', 'clubs', 'creates', 'grants', 'electrical', 'required', '*-8', 'Larry', '3,040,000', 'stream', '*T*-216', 'written', 'mandates', 'gored', 'role', '*-12', 'pulled', 'agreeing', 'buck', 'directors', 'Brown', '*-24', 'Gregory', 'CALL', 'appointments', 'debentures', '111', 'Farmers', 'Antitrust', 'search', 'Source', 'rating', 'boosting', 'IX', '6.7', 'cleared', 'intraday', 'affiliate', '2163.2', 'nominated', 'former', 'diverse', 'none', 'least', 'snaking', 'Denver', 'Packages', 'interactions', 'Valhi', 'AC-130U', 'regulatory', 'relaunched', 'Mattress', 'bounce', 'rates', 'double', 'extending', 'brat', 'optimism', 'stock-selection', 'newest', 'playwright', 'current-carrying', 'FIRST', '1,460', 'scream', '5.39', 'dilemma', 'Gaja', 'appeared', 'fixed', 'gunship', 'shoring', 'specific', 'Government', 'arranged', 'novelist', 'ball', 'feet', 'completeness', 'Furukawa', 'Mulford', 'airplane', 'shipyard', '*-36', 'maturing', 'robustly', 'architects', '51', 'discharge', 'Moslem', 'Poor', '50\\\\/50', 'credentials', 'varied', 'deregulation', 'protein', 'rebuild', 'centerpiece', '12.7', 'proof', 'pickups', 'work', 'cancers', 'David', '278.7', 'bread-and-butter', 'slightly', 'guided', 'incapable', 'increasingly', 'underline', '3:15', '446.62', 'non-farm', 'produced', 'cast', 'Maybe', 'opposition', 'Data', 'Similar', 'impede', 'music', 'mentally', 'white', 'Chateau', 'expected', 'counterweight', 'solicitation', '672', 'tickets', 'flows', 'ankle', 'sensitivity', 'conditions', 'touted', 'Rouge', 'colleagues', 'PHOTOGRAPH', 'draws', 'appropriation', 'fend', 'magazines', 'Scannell', 'intensity', 'bitter', 'Ramirez', 'targeted', 'Solution', 'prototype', 'fracture', 'banker', 'Fairlawn', 'affecting', 'Nasdaq', 'Scripps', 'wrenching', 'professor', 'expire', 'cardiovascular', 'Standardized', 'hydraulically', 'rushed', 'perform', 'manage', 'Fahrenheit', 'complained', 'suggested', 'heating', 'couples', 'E.W.', 'negotiators', '*PPA*-1', 'nominee', 'Harvard', 'subscribers', 'Vitulli', 'matters', 'good-natured', 'evensong', 'Earnings', 'backyard', '42', 'Brunswick', 'superintendent', 'backlog', '11,000', 'Either', 'reassuring', 'panic', 'military', 'chaotic', 'black-and-white', 'single-family', 'protesters', 'accrue', 'Nomura', 'downward', 'grandfather', 'Thursday', '36', 'sidestep', 'Mining', 'confined', 'hugging', 'frequently', 'specialists', 'subcontractor', 'competition', 'Sir', 'tinker', 'unlikely', 'year-long', 'Buyers', 'helps', 'Graham', 'alcoholics', 'capitalized', 'classics', 'Than', 'Altogether', 'implicitly', 'common-law', 'market-share', '*T*-35', 'weighing', 'stressed', '*-5', 'pre-cooked', '*T*-160', 'responding', 'reversed', 'sweaters', 'Avon', 'insurance', 'saving', 'openings', 'Riviera', 'PaineWebber', 'Midwestern', 'impending', 'mechanisms', 'whose', 'happens', 'preserving', 'harass', 'tuck', 'Fairless', 'Woodrow', 'Lucille', 'routine', '598', 'temporary', 'MONEY', 'The', 'Dana-Farber', 'averaged', 'perfection', 'maintenance', '*T*-30', 'exchanges', 'edged', 'House-Senate', 'Coniston', 'shelf', 'evil', 'contends', 'planting', 'caller', 'declaring', 'requests', 'billing', 'honorably', 'Laser', 'trademark', 'deaths', 'rain', 'despise', 'criminal', 'tote', 'harder', '43-year-old', 'imbalances', 'skilled', 'Wallach', '300,000', 'top-selling', 'Unless', 'inching', '118.6', 'Ortega', 'prescription', 'Critics', '2.75', 'Board', 'fared', \"'82\", 'scholar', 'beauty', 'guest', '0.2', '38.375', '55-a-share', 'new', 'commit', 'leap', 'atmosphere', 'stock-picking', '*-131', 'possible', 'outbid', 'advertisements', 'ASSOCIATES', 'Dunn', 'expressly', 'Foods', 'performing', 'or', 'turnaround', 'benevolent', 'horoscopes', 'Myron', 'Criminal', 'interest-bearing', 'supermarket', 'unrealistically', 'cleanliness', 'brokerage', '*-126', 'successor', 'observance', 'selling', 'legislature', 'killed', 'strongly', 'Plan', 'blip', '15,000', 'mollified', '70-a-share', 'propelling', 'Britta', 'tip', 'presented', 'Review', '27', 'benefit', 'psychology', 'encounter', 'yttrium-containing', 'periods', 'Breakey', '*T*-257', 'NL', 'instance', 'highway', 'rapists', 'restore', 'binders', 'UAL', 'Kodansha', 'code', 'protects', 'Bribe', 'Monetary', '*T*-253', 'Wong', 'astronomical', 'kindergarten', 'reduction', 'Bradford', '188', 'contribute', 'unlike', 'museums', 'letters', 'England', 'Berlin', 'affiliates', 'Ltd', 'Women', 'Brooklyn', 'impressive', 'self-regulatory', 'Li', 'chose', 'Felten', '*T*-259', 'subtraction', '10th', 'bat', 'Saturday', '600', 'inventory', 'how', '9.45', 'reporting', 'Achievement', 'design', 'synthetic', 'sudden', 'municipalities', 'nameplate', 'Kuvin', '59.9', '1\\\\/4', 'violated', 'Note', 'surprisingly', 'foreign-stock', 'Riese', '7.3', 'Already', 'training-wage', 'Texas', '26.5', 'checking', 'Yale', 'globally', 'Waertsilae', 'step', 'expensive', 'IBM', 'reflecting', '45.75', 'quoted', 'drinks', 'speculative', 'numerous', 'Petersen', 'outnumbered', '179', 'Put', 'cascading', 'approximately', 'advocates', '*-34', '225', 'Trudeau', 'resentment', 'niches', 'stockholders', 'golden', 'variation', 'NCNB', 'results', 'assemble', 'veto', 'HUD', 'blessing', 'cutthroat', 'hard', 'yon', 'supercomputer', 'exodus', 'Lids', 'slid', 'Bennett', 'single-lot', 'fronts', 'Tuesday', 'emigrate', 'Bhutto', 'permitted', 'madly', 'dislike', 'other', '2017', 'Magleby', 'CORP', 'responses', 'violating', 'Mergers', 'dismay', 'spoke', '7.15', 'Aloha', 'Educational', 'Salinas', '*-114', 'top-yielding', 'reruns', 'sharper', 'regime', 'disagree', 'Funding', 'Graduate', 'Intelogic', 'reportedly', 'Ill', 'approval', ',', 'sweeping', 'released', 'prying', 'Resistance', 'word-processing', 'stored', 'Periods', '60', '*-108', 'without', 'Sol', '154,240,000', 'self-serving', 'Kaminski', 'teams', '*T*-186', 'Democrat', 'morale-damaging', 'longstanding', 'refreshing', 'Mazda', 'greater', 'keeps', 'bellringers', 'prerogative', 'Arighi', 'fifth', 'Watson', 'reader', 'domination', 'meeting', 'bottom-line', 'Danville', 'casting', 'Egnuss', '84-year-old', 'Equal', 'aggressive', 'Darkhorse', 'sizable', 'texture', 'regarded', 'hands', 'Now', 'tied', '5.82', 'scans', 'worthy', 'Foreigners', '24', 'fuming', 'bank-backed', 'Cray', 'Tribune', 'adverse', 'deliberately', 'obligations', 'interview', 'Before', 'quick', 'Publishing', 'Tray', 'thousand', 'Troubled', 'have', 'Fans', 'Who', 'Purchase', 'Barth', 'Kirkpatrick', 'repayment', 'valuation', 'Bells', 'collections', 'Takes', 'speech', 'slogan', 'juvenile', 'Manchester', '37.3', 'considerably', 'NBI', 'bearing', 'Failure', 'Germans', 'gamut', 'Hoylake', 'metal', 'bribed', 'Ross', 'decorator', 'pack', 'F-series', 'climbing', '11.6', 'Spielvogel', '*T*-199', 'inherently', 'indicate', 'wrestling', 'Few', 'serviced', 'reached', 'bend', 'breed', '*-117', 'tablets', 'fourth', 'difficulties', 'consulting', 'Japanese', 'rallying', 'presumes', 'super-absorbent', '109.73', 'deeply', 'attributed', 'Coast', 'Pauline', '5.92', 'up', 'comparison', 'pie', 'six-packs', '1.82', 'requested', 'thus', '29year', 'exchanging', 'pick-up', '*T*-135', 'alive', 'generation', 'offensive', '353', 'whole', 'careers', 'Feeding', 'gets', 'book', 'Economists', 'almost', 'told', 'Neither', 'housewife', 'commodity', 'Osaka', 'armed', 'order', 'inoperative', 'Sen.', 'subordinated', 'Trinity', 'shift', 'Stock-index', 'Isabelle', 'practitioners', 'promise', 'locally', 'easy-to-read', 'residential', 'evoke', 'anything', 'spotted', '30.6', 'feeling', 'exacerbated', 'Irwin', '18,000', 'year-earlier', 'relief', 'deter', 'Bunny', 'purpose', '*T*-22', 'illegally', '30-minute', 'scoffs', 'has', 'peaks', 'impetus', 'tenth', 'showing', 'planning', 'Conn.based', 'sleeping', '132.9', 'Samuel', 'Sloan', 'doling', 'leveraging', 'profit', '4.75', '107.9', '310', 'Federalist', 'Courter', 'favorably', 'believed', 'fast-food', 'rape', 'decline', 'Exxon-owned', 'inviting', '*T*-140', 'Finland', 'Prime', 'establish', 'Communist', '753', 'antitrust', 'Nederlanden', 'computerize', 'Kingsbridge', 'A', 'acne', 'circulation', 'skipped', 'Reed', 'summoned', '737.5', 'Cru', 'halt', 'questionable', 'Weil', '*T*-58', 'cautious', 'SAT', '13.625', 'industry-wide', 'Sugarman', 'modernization', 'arrested', 'briefings', 'magnitude', 'developments', 'analysts', 'silent', '1973', 'offenders', 'blacks', 'began', 'high-rate', 'lowest', 'Revolution', 'studying', '*T*-248', 'Napolitan', 'richer', 'endorse', 'proposals', 'court', 'cheerleading', 'Seagate', 'seven-yen', 'Beta', 'doctors', 'particulars', 'mail', 'careful', 'someone', 'fallen', 'Jr.', 'faced', 'Legend', 'Adopting', 'projections', 'swings', 'attendance', 'receive', 'indications', 'served', 'newsstand', 'replace', '158,666', 'available', 'completion', 'evaluating', 'speculators', 'level', 'in-store', 'appliances', 'Man', '3.28', 'seemed', 'booming', 'access', 'also', 'syndication', 'Show', 'minimal', 'blamed', 'That', 'launched', 'bankroll', 'barriers', 'Deryck', 'Thunderbird', '3.35', '8.19', 'won', 'Home', 'summons', 'Allergan', 'trust', 'expenditures', \"'ve\", 'stunned', '8.5', 'judged', 'reporters', 'severance', 'cardboard', 'played', 'spent', 'revive', 'attempted', 'Something', 'COLLECTING', '5.276', 'sympathy', 'fizzled', 'Hymowitz', 'Cole', 'directorship', 'bureaucratic', 'civics', 'short-wave', 'above', 'Junk-bond', 'alike', 'Calif.', 'runs', 'Telephone', 'explaining', 'executive-office', '150', 'alleged', '*T*-42', 'Birmingham', 'doctorate', 'everywhere', 'feelings', 'butterfly', '6.84', 'drums', 'dams', 'repaired', '1976', 'meets', 'Olsen', 'deceptive', 'less', 'Pate', 'speculation', 'elaborate', 'spreads', 'Five', 'ambassador', 'sure', 'traffic', '*T*-76', 'rebuked', 'early-retirement', '5.63', 'simultaneous', 'discrimination', '13\\\\/16', 'absolutely', 'Sony', 'COPPER', '184', 'healing', '47', 'Corporations', 'entrench', '*-18', 'request', 'Bailey', 'dividend', 'premiere', 'Miller', 'Markets', 'refused', 'perceptions', 'Al', 'apply', 'Participants', 'Clays', 'obtaining', 'resulted', 'ownership', 'confidential', 'Danube', '--', 'Exchange', 'doubts', 'deficiencies', 'assumed', 'S.A', 'Europe', 'TIRED', 'Jamaica', '*T*-83', 'agreements', 'aired', 'disputed', 'conference', '490', '397', 'student', 'A.D.', 'Builders', 'answer', 'creativity', 'ago', 'settle', 'deviation', 'sell-offs', 'Corrigan', 'Andean', 'constantly', 'behaving', 'Caters', 'Allen', 'politely', 'Broken', 'Holland', 'Enright', 'marrow', 'fellow', 'Louisiana-Pacific', 'transportation', 'toward', 'urge', 'Hearst', 'moderate', 'corridors', 'most', 'factoring', 'systematic', 'indifference', 'exits', 'hangs', 'panel', 'intimately', 'instruction', 'len', '0.25', 'heirs', 'DEPOSIT', '3.19', 'tissues', 'Standard', 'voted', 'moving', 'receipts', 'Exports', '3.253', 'crunch', 'Peter', '*-127', 'Camille', 'hysteria', 'crisis', 'Sonny', 'demonstrations', 'deadwood', 'freeway', 'Bernstein', 'gone', 'subsidize', 'surgeon', 'depository', 'proviso', 'parking', 'Code', 'Katzenstein', 'pressures', 'Itoh', 'X', 'Arlington', 'Anthony', 'Mesnil', 'Seahorse', 'statistics', 'vicious', 'appointed', 'assess', 'softer', 'Runkel', 'BTR', '153.3', 'Lorenzo', 'Aktiebolaget', 'opportunities', 'Otherwise', 'R', 'lagging', 'Minnesota', 'these', 'furniture', 'tough', 'Homebrew', 'scoop', 'Sabhavasu', '*-59', 'registration', 'agriculture', 'motor-home', 'evenly', 'stimulated', 'textile', 'Del.', 'Wilfred', 'settlement', 'crane-safety', 'ON', 'Upham', 'sinister', 'OFFERED', 'HOME', 'Karl', 'Newhouse', 'upstate', 'broadly', '176.1', '722', 'discussed', 'appropriators', '17.4', 'overleveraged', 'probably', ':', 'harsh', 'cornerstones', 'properly', 'odds', 'Dollar', 'zoomed', 'College', 'medicine', 'brightest', 'scholarly', 'forms', 'emergency', 'guarding', 'Yasuda', 'manpower', 'Dumpster', 'refuses', 'entering', 'Vegas', '9.5', 'Northeast', 'Writers', 'joint', 'Judging', 'tour', 'bulldozers', '214', 'scenario', 'gallium', 'fixed-income', 'rural', 'heart', 'Calif', 'high-level', 'requesting', '92.9', 'school', 'hard-charging', 'Fernando', 'Property\\\\/casualty', '*T*-37', '*-21', 'appropriated', 'Hammersmith', 'defensive', 'resort', 'Guber', 'tempted', 'double-digit', 'reward', 'sharply', 'packed', 'Metropolitan', 'boost', 'Once', 'deprivation', 'advertisers', 'punishing', 'museum', 'Yorker', 'crucial', 'spending', 'amending', 'government', 'families', 'taxpayer', '150,000', '644', 'Hallett', 'Hackensack', 'Country', 'Barrels', 'test-drive', 'Huntsville', 'measure', 'Exxon', 'disclosures', 'unfairly', 'Heidelberg', 'jointly', 'Guffey', 'Lines', 'effectively', 'Tyre', 'Winning', 'bricks', '*T*-110', 'start', 'car-safety', 'TRIMMING', 'team', 'Miles', '*T*-77', 'we', '2-8', 'succeeding', 'investors', 'test-coaching', 'Vicar', 'accessories', 'National', 'assure', '16\\\\/32', '*T*-55', 'superconductor', 'issuing', '*T*-155', 'prosecuted', 'higher', 'tolerate', 'materialized', 'wave', 'Proper', 'tested', 'distributor', 'Crum', 'jury', 'ahead', 'scattered', 'sustained', 'litany', 'statue', 'exploded', 'Strother', 'stations', 'raised', 'derivative', 'outrage', 'obtain', 'Cosmopolitan', 'thirtysomething', '0.56', 'Brian', 'arbitragers', 'encroaching', 'consequences', 'orchestrated', 'ORTEGA', 'more-efficient', 'gut', 'nearby', 'Free', 'Sit', '8.12', 'semicircular', 'Fishman', 'Komatsu', 'landfill', 'considerable', 'Brigham', 'responsible', 'ancillary', 'Average', 'magnets', 'trains', 'Markey', 'intellectual', 'FEDERAL', 'Noriega', 'invades', 'straight', 'pillow', 'stop', 'attended', 'Bridges', 'Coleman', 'offerings', 'sulfur-dioxide', 'topics', 'freedoms', 'newsweekly', 'Until', 'acetate', 'cash-and-stock', 'Japan', 'due', 'virtually', 'How', 'jet', 'helm', 'lynch-mob', 'pretax', '%', 'merely', 'power', '705.6', 'culprit', 'one-upsmanship', 'summer', 'N.C', '1206.26', 'starting', 'helpful', '300-day', 'wary', '3.4', 'low-priced', 'knowledge', 'approved', 'Imports', 'deputy', 'consent', 'Guber\\\\/Peters', '25.50', 'Lehman', 'defeat', 'alternatives', 'diversify', 'illustrates', 'Sheffield', 'Council', '20.5', 'full-year', 'underwent', 'belong', 'Caribbean', 'Wild', 'quickly', 'Kelli', 'episodes', 'naming', 'Lufkin', 'Or', 'Riserva', 'critics', 'guys', '2.87', 'invested', '380', 'envoy', 'political', 'reallocated', 'Options', 'Stirlen', 'Viacom', '1956', 'immense', 'sellers', 'underwriter', 'starters', 'Hopwood', '19.94', 'filter', 'Shearson', 'U.S.-Japan', 'Dutch', 'efficiency', 'met', '96.4', '*-110', 'Alzheimer', '95,142', '*-157', 'barking', 'backed', '225,000', '*T*-89', 'Jonathan', 'coordinate', 'industrials', 'African', 'parents', 'minus', 'Service', 'call', 'wild', 'victims', 'Argentina', 'resolve', 'decades', 'jumped', 'barrels', 'waivers', '14,821', 'trafficking', 'died', 'minor', 'Donald', 'resources', 'twice', 'Paper', 'controversy', 'Haven', 'ounce', 'patterns', 'then-Speaker', '1960s', '*T*-18', 'blue-collar', '13.73', 'cues', 'Indeed', 'Carla', 'congregation', 'Occupational', 'slashing', 'extramarital', 'Electric', 'Bordeaux', 'reminded', 'McGraw-Hill', 'shaken', 'addiction', 'Stieglitz', 'workbooks', 'sketch', 'Cigna', 'cataract', 'wheat', 'Documents', 'Express-Buick', 'volatility', 'promotion', '*-153', 'transplants', 'label', 'boosts', 'Fulbright', 'certain', 'Per-share', 'Dick', 'CS', 'Sandberg', 'office', 'POP', 'intimidate', 'Sachs', 'prosecute', 'Chatsworth', 'viewpoints', 'climb', 'Hayes', 'but', 'used', 'yen-denominated', '1985', 'presidential', 'According', 'den', '106', 'Ringers', 'Jefferson', 'appropriations', 'Grand', '$', '7.80', 'Homeless', 'crystals', 'misdemeanor', '8.22', 'surreptitiously', 'devised', 'languages', 'monitor', 'ideas', 'segments', 'hotel', 'research', 'broadcasting', 'desire', 'Civil', 'Savin', 'pressman', 'Minn.', 'Village', '*T*-244', 'U.N.-supervised', 'ignored', 'Copperweld', '1.1650', 'once', 'savvier', '*T*-118', 'wake', 'stimulating', 'longer-term', '*RNR*-4', 'screens', 'Fang', 'kill', 'leery', 'Part', 'acceleration', 'protocols', 'number', 'Central', 'realize', 'Garry', 'returns', 'Uzi-model', 'Partnership', 'Midland', 'earthquake', 'N.C.', '6.20', 'celebrity', '*T*-103', 'decries', 'advances', 'purchases', 'rock', 'encourage', 'major', 'Information', 'index-arbitrage', 'enormous', 'democratic', 'unsettling', 'traded', 'advantages', 'bidder', 'evident', 'folks', 'pre-tax', 'Pace', 'Mifflin', 'Adam', 'Mogavero', 'Some', 'Leigh', 'Heating', 'organizations', 'attorneys', '*T*-32', 'tunes', 'discretionary', 'bloody', 'based', 'Torrington', 'exhausted', 'caused', 'imposed', 'lawsuits', '16.05', 'land-idling', 'blow', 'Bankers', 'feared', 'one-month', 'FAX', 'Wells', 'newspaper', 'Edelman', 'wallowing', 'Pressures', 'seller', '1970s', 'headrests', 'try', 'payouts', 'convey', 'six', 'completed', 'DDB', 'produces', 'Tots', 'broad', 'equivalent', 'revising', '*-134', 'strengthened', 'persistent', 'fields', 'undelivered', 'manufacturer', 'different', 'comment', 'merits', 'literature', 'taste', 'brakes', 'engineered', '48', 'Albert', '*-78', 'licenses', 'high-volume', '1\\\\/2', '21,000', '210,000', 'resolution', 'fret', 'seeing', 'make', 'adding', 'ballroom', 'managed', 'Pet', 'involvement', '-LRB-', '2.1', 'promissory', 'hook', 'Anglia', 'technically', 'ratings', 'incomes', 'faint', 'achievement', 'Hawke', 'eight-month', 'put', 'Morgan', 'Lead', 'phone', 'Groucho', 'counterparts', 'Ideas', '*T*-88', '*T*-99', 'backing', '187', 'degenerative', 'carriers', 'Gardner', 'gain', 'note', 'production', 'until', 'course', 'smaller', 'concrete', 'scrutiny', 'G', 'digs', '12\\\\/32', 'Cataracts', 'cargo', 'senses', '1990s', 'astonishment', '150-point', 'citation', 'uncertainty', 'Albany', 'Colonsville', '4,000', 'widget', 'four-day', '*-102', 'undertaking', 'indicates', 'Kidder', 'worst', 'junk', '*T*-16', 'score', 'self-perpetuating', 'materials', 'PCs', 'exporter', 'treated', 'index-related', 'suspended', '343', 'Patients', 'Nuys', 'agency', 'Barfield', 'base', 'EST', 'Paul', 'speculate', 'favored', 'Sigler', '*T*-197', 'seat', 'sentimental', 'transfer', 'Default', 'Pasadena', 'imagine', 'prepare', 'interbank', 'subscription', '*T*-158', 'returning', 'three', 'penchant', 'modems', 'longtime', 'Loewi', 'carrier', 'pep', 'foundations', 'unwary', 'Sprint', 'disagrees', 'plaintive', 'Midvale', 'SERVICES', 'five-day', 'negotiate', 'Campbell', 'Securities', 'Arthur', 'Mona', 'for', '*T*-234', 'surfaced', 'undiplomatic', 'investigate', 'Rhone', 'solutions', 'doing', 'markkaa', 'Toledo', 'flap', '37-year-old', 'Cluff', 'producing', 'pressure', 'lightning-fast', 'EVERYONE', 'Utilities', 'Trailer', 'Mercury', 'Klein', 'IRAs', '*T*-127', 'rule', 'routes', 'altering', 'diethylstilbestrol', '*-161', 'Rockefeller', 'anti-programmers', 'estate', '313', 'withdraw', 'necks', 'shipped', 'joins', 'unintelligible', 'sociology', 'McCormick', 'exposures', 'blames', 'fault', 'Stephanie', 'Ed', 'courage', '*T*-177', 'drugs', 'restructured', 'Stark', 'then', 'emphasized', 'Ford', 'Spillane', 'Offering', 'Hart-Scott-Rodino', 'cereal', 'vicars', 'neat', 'telephones', 'corporations', 'believes', 'Scherer', 'desires', 'failures', 'Sunday', 'includes', 'soybeans', 'again', 'missiles', 'barge', 'chiefly', 'Ricken', 'thumbs', 'producer', 'NetWare', 'W.R.', '77.6', 'Thus', 'copied', 'speculating', 'Propaganda', 'can', 'downgrade', 'aware', 'TWO', '7.52', 'cleaner-burning', 'volunteer', 'Tarwhine', 'concluded', 'economy', 'Majority', 'certin', 'Only', 'Estimated', 'listed', 'wrath', 'inform', 'CDs', 'traveling', 'ratcheting', 'computer-services', '71', 'abounding', 'Restaurant', 'view', 'Mark', 'adjustment', 'behalf', 'multibillion-dollar', '*T*-109', 'They', 'narcotics', '37', '126.15', 'arts', 'flexibility', 'Brooke', 'repriced', 'clothes', 'impose', 'twin-jet', 'all-cash', 'Organization', 'exempt', '32.8', 'discarded', 'bonuses', 'sound', 'stoppage', 'life', 'ministers', 'Unfortunately', 'Netherlands', 'silver', 'gift', 'asset-valuation', 'tradition', '14.', 'ranks', '1975', 'recede', 'Hong', 'Bermuda', 'weighed', 'Woodcliff', '*-32', 'Program', 'Clemens', 'Carney', '63-year-old', '10.5', 'amendments', 'energy-services', 'innovation', '45', 'collateral', 'influencing', 'Hospital', 'shake', 'Reuters', 'worse', 'procurement', 'Monopolies', 'sticky', 'Ganes', 'tailored', 'quantity', 'Hiroshi', 'close-up', 'Forget', 'Estate', 'Kerensky', 'human', 'grand', 'However', 'favors', 'Chilean', 'appliance', 'clear', '*-74', '8.14', 'spooked', 'complaining', 'lighter', 'amps', 'lotions', 'Cab', 'eager', 'aids', 'tort', 'Survey', 'choose', 'Airlines', 'Lurgi', 'witnesses', 'Purepac', 'Articles', 'Bellows', 'personal', 'hot', 'deadline', 'fierce', 'midyear', 'University', 'estimate', 'Pacific', 'dean', 'curse', 'lifted', 'talk', 'surge', 'soldiers', 'themselves', 'placed', 'Lorillard', 'judges', 'direct-mail', 'four', 'if', 'success', 'demonstrators', 'improved', 'allocation', 'feel', 'plot', 'Elders', 'Sauternes', 'Daily', '2.15', 'staffs', 'impossible', 'Rated', 'California', 'famous', '*ICH*-2', 'efficient', 'maintaining', 'overvalued', 'Fifteen', 'says', 'Characters', 'Colorado', 'applicable', 'unitary', 'corners', 'states', 'whenever', 'Russo', 'touchy', 'discussing', 'hefty', 'mediocre', 'Amin', 'weaken', '*T*-214', 'mammoth', 'Value', 'moderately', 'justice', 'broadened', 'matching', 'creams', '321', '169.9', '*T*-93', 'receiving', 'multilevel', 'the', 'conglomerate', '*T*-137', 'storage', 'Development', 'automated', 'determine', 'apartment', 'lying', 'banning', 'Illuminating', 'Crude', 'Brean', 'yen-support', 'swift', 'hardly', 'traditional', '*T*-130', 'hurt', 'solicitous', 'decrease', 'headed', 'looks', 'Minera', 'Dingell', 'investigation', 'depositary', 'Stamford', 'fuels', 'Turkey', 'fractionally', '30-point', 'experiencing', 'diabetes', 'cold', 'Taurus', 'line', 'Sure', 'veteran', 'writing', 'Sangyo', 'priciest', 'full-time', 'gallon', 'implementation', 'cadet', 'editors', 'Mortgage-Backed', 'park', 'repaid', 'prompts', 'engaged', 'hoopla', 'Forster', 'possessions', '13.65', 'neoprene', 'correcting', 'Kangyo', 'rash', 'Post', '*T*-240', 'CBS', 'word', 'Tandy', 'bill', '7.65', 'ground', 'experience', 'advocating', 'battle', 'Fair', 'Barbados', 'Hartford', 'old', 'redistributing', 'offers', 'aggressively', 'Motor', 'appeals', 'disagreed', 'discouraging', 'wife', 'mixed', 'Boca', 'cuts', 'Pratt', 'eligible', 'Rev.', 'Arbitrage-related', 'entitled', 'continue', 'Dominus', 'polystyrene', 'bought', 'Southeast', 'IMSAI', 'coupled', '!', 'reluctance', 'Hiroshima', 'pounds', 'PAPERS', 'afflicted', 'volatile', 'buy-back', 'left', 'necessities', '7.84', 'Hudnut', 'promptly', 'council', 'Drug', '1.50', 'carrying', 'holding', 'flood', 'described', 'Phillips', 'zone', 'crusade', 'trading', 'bonds', 'indicating', '12.68', 'queuing', 'dissident', '280', 'exhibits', 'Elisabeth', 'India', 'belts', 'concern', 'Off-Track', 'summary', 'pleaded', 'behavior', 'market-based', 'Publications', 'assembled', 'disagreement', '42-year', 'rolled', 'witches', 'consultants', 'revolves', 'Materials', 'struggled', 'alone', 'Precious', 'rarely', 'R.D.', 'inched', 'depleted', 'amazingly', 'Unlike', 'Fountain', 'belonging', 'struggle', 'spiders', 'claimed', 'fastest-growing', 'coming', '12-year', 'hundreds', 'Beatles', 'waived', 'Mickey', 'reasonably', 'outlays', 'Certainly', '*T*-183', 'mend', 'fair', 'rescheduled', 'creation', 'formally', 'grains', 'regardless', 'Greenville', 'Schaefer', 'no', 'seven-year', 'Investors', 'Pro-forma', 'onslaught', 'Champion', 'agents', 'sooner', 'queers', 'Traverse', 'battery', 'Surrey', 'profess', '8300s', 'generic', 'Chicago', 'Light', 'Negotiable', 'Miss.', '*T*-128', 'gold', 'Mortimer', 'resonate', 'dollar', 'division', 'counterattack', 'subdued', 'secondary', 'Oliver', 'traders', 'Bass', 'landing', 'Amendment', 'Fidelity', 'chase', 'urging', 'passed', 'responsibility', 'commitment', 'front-seat', 'greenmailer', 'Reddington', 'already', 'piece', 'defendants', 'Retail', 'Interviews', 'forward', '*EXP*-3', 'Domestic', 'disarray', 'fee', 'loyalty', '56', 'Attorney', 'autos', 'cracks', 'combine', 'real', '0.7', 'imperative', 'quantitative', 'disappointing', 'Times-Stock', 'identify', 'limitation', 'Ala', 'publish', 'enhances', 'allegedly', 'Secilia', 'extension', 'Fourth', 'Moon', 'crews', 'Allendale', 'breach', 'Stena', 'flirted', 'brightened', \"'re\", '24.95', 'ordeal', 'look', 'Dunton', 'Graduates', 'Friday', 'struggling', 'impact', 'unsuccessfully', 'voters', '70.2', 'surprising', 'Ames', 'one-house', 'corporate', 'fetal', '238,000-circulation', 'steadily', 'continental', 'dividends', 'long', 'judgments', 'ease', 'star', 'Today', 'manually', 'points', 'DIALING', 'characteristics', 'ratepayers', 'possessed', '3.23', '28.6', 'legislative', 'emotions', 'signifying', 'Devon', 'describes', 'cow', 'computer-system-design', 'Traders', 'Takuma', 'mundane', 'co-author', '*T*-66', '11-month-old', 'Chilver', 'lousy', 'Higher', 'subpoenaed', 'evaluated', 'penalty', 'Am', 'wings', '18.95', 'hopes', 'FAMILY', 'instruments', 'Energy', 'officers', 'raced', 'Kondo', 'budding', 'fifth-grade', 'sheet', '26,000', 'Handelsbanken', 'stock-index', 'comeback', '23.5', 'Californian', 'defined', '*-73', 'Phi', 'mines', 'Brace', 'emergencies', 'town', 'chest', 'varying', '325,000', 'hottest', 'to', 'talked', 'fueled', 'filings', 'predicated', 'sensational', 'enraged', '*T*-163', 'and', 'romance', 'Against', 'Grgich', 'red-carpet', 'education', 'Chabrol', 'test', '6.6', 'DES', 'Korea', 'convicted', 'figure', 'quarters', 'District', 'Those', 'inadequacy', 'injuring', 'High-grade', 'Reserves', 'government-certified', 'Mannix', 'builds', '43', 'sluggish', 'brutal', 'lowered', 'espouse', 'them', '*-158', 'domestic', 'Kobe', 'city', 'sputtered', 'Lobo', 'willingness', 'Unico', 'non-encapsulating', '8.75', 'Trettien', 'meatpacking', 'custom-chip', 'Sternberg', 'progress', 'Natural', 'Knapp', 'passing', 'diversifying', 'agricultural', 'symmetry', 'inquiring', 'good-hearted', 'sacks', 'Griffin', 'accommodations', '8.55', 'therapies', 'banquet', 'whipping', 'reacted', 'structurally', 'French', 'purhasing', 'pulling', 'tanked', 'drifted', 'conservative', 'off-off', 'Christie', 'Middlesex', 'simulates', 'consumer-driven', 'outlets', 'Deborah', 'Dresser', 'seven-day', 'personally', 'trip', 'household', 'Babcock', 'disadvantage', 'couple', '100,980', 'judicial', 'younger', '777', 'Genel', 'Alleghany', 'smiles', 'centers', 'assumption', 'campaigns', 'recovery', '275', 'behest', 'Over', 'Gas', 'eyes', 'chastised', 'entangled', 'rebound', 'seems', 'impatient', 'NEC', 'positioned', '*-86', 'rebel', '55', 'disposal', 'lower-priced', 'looming', 'specialty', 'executing', 'weak', 'players', 'people', 'teacher', 'compel', 'Foreign', 'together', 'computer-generated', 'Hoffman', 'Platt', 'anytime', 'semiliterate', 'onus', 'father', 'holders', 'beers', 'context', 'big-ticket', 'Brussels', 'non-biodegradable', '30-day', 'century', 'forecasts', 'sad', '*T*-260', 'Kappa', 'Zicklin', 'Colorliner', 'trading-company', 'Old-House', 'scenes', 'die', 'printing-press', 'tests', '*T*-131', 'Wohlstetter', 'over-the-counter', 'cap', 'escrow', 'demonstrating', 'unconstitutional', 'credits', 'Nigel', '858,000', 'elementary', 'scandal', '62%-owned', '1980s', 'retained', '*-103', 'face', '1977', 'Dodge', 'long-tenured', '2.44', 'From', 'cement', '98.3', 'Glenham', 'stones', 'immediately', 'massacre', 'impudent', 'imported', 'DD', 'product', 'Seoul', 'auto-safety', 'steady', 'PTA', 'raises', 'family', 'rope', 'Fuentes', 'Roukema', 'thanks', 'Traditional', '244,000', '420', 'centralized', 'persuade', 'unfair', 'Pennview', '30-share', 'gentle', 'hailing', 'Bell', 'resistance', 'bottles', 'designations', 'Namibian', '1.5', 'herald', 'vitriolic', 'dozen', 'Waste', 'below', 'obligation', 'Landis', 'Stevens', 'Ratner', '*-49', 'pharaohs', 'Food', 'Lama', 'lucky', 'Hallwood', 'physical', 'strictly', 'vague', 'bidding', 'Carnival', 'became', 'natural', 'rim', 'GMAC', 'Posted', '1948', \"Dunkin'\", 'spurred', 'incentive', 'tool', '257', 'crash', '*T*-86', 'Spaghetti', '235', 'outlay', '36-store', '*T*-52', 'OSHA', 'visited', 'shrinks', 'ships', 'drooled', 'Associates', 'fed', 'removal', '*-57', 'Midwest', 'robbed', '26', 'compromise', '2.29', 'Fracturing', 'unit', 'Cutrer', '800', 'jail', 'Each', 'penny', 'handles', 'LANDOR', '34', 'balls', '*T*-136', 'Macmillan\\\\/McGraw', 'state-supervised', 'issue', 'Sutcliffe', 'falling', 'initiated', 'sentence', 'Jeremy', 'Dakotas', 'little', 'hour', 'pitches', 'knew', 'Random', 'accommodate', 'widely', 'Guigal', '1903', 'occupant', 'Valrico', 'slab', 'broker', '18-a-share', 'record-keeping', 'Beauty', 'earn', 'civil', 'docile', 'procedural', 'portfolio', 'goal', 'Hatch', 'Reserve', 'consumer', 'packaging', 'Chase', 'austere', 'faster', 'their', 'slides', 'rankings', 'sweetened', 'salary', 'Gaithersburg', 'Local', '5.2180', 'Delegates', 'finance', '*T*-59', 'Dennis', 'diagram', '11.72', 'ad', 'makes', 'prison', '1969', 'war-rationed', 'pool', 'Duke', 'even', 'including', 'Mostly', 'God', 'attracted', 'stressing', 'our', 'Superconductors', 'dealers', 'sell', 'knitted', 'Leighton', 'overlap', 'block', 'authorized', 'Yquem', 'desktop', 'professors', 'Varying', 'Craftsmen', 'G.m.b', 'infringed', 'battery-operated', 'Ethel', 'Zaharah', 'Chicago-style', 'deserving', 'ShareData', 'said', 'sophisticated', '*-9', 'Burt', 'companies', 'sense', 'Alvin', '73', 'pall', 'Encouraging', 'interest', 'dating', 'mortgage', 'commissions', 'marketing', 'letter', 'automobile', 'high-stakes', 'wages', 'school-improvement', 'replacement', '*-68', 'Rent-A-Car', 'rebuilding', 'administration', 'Economic', 'forecasting', '31', 'referred', 'borrowers', 'CTBS', 'Premier', 'rules', 'Dole', 'vision', 'tailor-made', 'government-funded', 'able', 'steelmaker', 'relating', 'week', 'Moore', 'intended', 'poor', 'landowners', 'closed', 'surged', 'HHS', '18.3', 'Probably', 'midtown', 'appropriate', 'swallow', 'cheapest', 'blue', 'reserves', 'transacting', 'Uncertainty', \"'30s\", '6,000', 'Prior', 'Lynch', 'style', 'crackdown', '*-112', 'demand', 'fanfare', 'domestically', 'whistle', 'ROGERS', 'Travelers', '143.08', 'La.', 'me', 'Medicine', 'Bethlehem', 'subskill', 'calculate', 'PAPER', 'might', 'Fujitsu', 'housing-assistance', 'markdown', 'pay', 'Dugdale', 'busiest', 'Integra', 'NESB', 'Avenue', '0.95', 'videocassette', 'residence', 'Whelen', 'News-American', 'Jobs', 'Eliminate', 'young', 'relentlessly', 'dollars', 'regulating', '2645.90', '18,444', 'awfully', 'best-selling', 'portray', 'serving', 'fill', 'completely', '3.18', 'heard', 'species', 'reduced', 'ports', 'Third', 'Recently', 'jeopardizing', 'makers', 'James', 'breathe', 'Driscoll', '7.78', 'phase', '3.375', 'overcrowding', 'Aptitude', 'drink', 'dumped', 'geometrical', 'flim-flammery', 'till', 'Controls', 'named', 'moneymakers', 'v.', 'earlier', 'circumstances', 'Atlanta', 'sweet', 'small-time', 'inflationary', 'accepting', 'legislators', 'bushel', 'Anything', 'underwriters', 'spilling', 'Mercer', 'hostile', 'lure', 'sprawling', 'Estates', 'kicked', '1.637', 'car', '5.6', 'disputes', 'accounted', 'Elmhurst', '*T*-98', 'railroad', 'rentals', 'credit', 'Risks', 'electronics', 'running', 'wait', 'males', 'Signore', 'Goldinger', 'end', 'retirement', 'giant', 'reported', 'interior', 'applied', 'Andrea', 'grower', 'holdings', 'Whiting', 'relies', 'rally', '*-92', '*-101', 'Cathryn', 'cover', 'nondurable', 'inspired', 'Andrew', 'malnutrition', 'pyramids', 'diming', 'some', 'Hampton', 'inches', '3\\\\/4', 'police', 'Beginning', 'sassy', 'electrical-safety', 'characterized', 'mere', 'Northampton', 'vowed', 'Stag', 'bilingual', 'train', 'multinational', '25', 'attractive', 'batting', 'dynamics', 'times', 'Gorman', '9.37', 'Z.', 'uncanny', 'educational', 'audience', 'disaster', 'Index', 'sorry', 'rulers', 'offense', 'racing', 'physicist', 'proscribes', 'Louisiana', 'administrator', 'chairman', 'nationwide', 'adapted', 'copies', 'reforms', 'barrier', '360', '`', '103', 'entitles', 'Donaldson', 'Recess', 'hazardous', 'five-cent', 'basically', 'Keidanren', 'reaping', 'lobbyist', 'educated', 'rapport', '*T*-153', '*T*-49', 'Harpo', 'stadiums', 'cloud', 'freedom', 'turning', 'participation', 'understand', 'desultory', 'Delaware', '*T*-39', 'Milan', 'assist', 'lens', 'disclosed', 'expanding', 'livelihood', '1961', 'U.S.', 'Campeau', 'notify', 'awful', 'YMCA', 'dispute', '*-11', 'Joseph', 'Messrs.', 'signals', '5,000', 'forgiven', 'Dean', 'Kennedy', 'Lentjes', 'beer-belly', 'contribution', 'cultivation', 'devise', 'dashes', 'Three', 'Arabian', 'Philip', 'Greece', 'Clara', 'change-ringing', 'although', 'Wine', 'practicing', 'skeptical', 'stock-price', 'agreed-upon', '*-30', 'moons', 'male-dominated', 'Lawless', '95', '-RRB-', 'skittishness', 'Protection', 'ballpark', 'approached', 'fiscal', 'sheets', 'Pamplin', 'conducting', 'Simon', '236.74', 'Signet', 'top', 'central', 'International', 'customers', 'combat', 'healthy', 'pathlogy', '*T*-79', 'outranks', 'defense', 'Clark', 'lessening', 'depressed', 'commerce', '*T*-171', 'highly', 'Sotheby', 'Buy', 'Shaw', 'interests', 'all', 'start-up', 'superconductors', 'Glenn', 'Southern', '1.1', 'increases', 'abide', 'pipeline', 'disclosing', '*T*-173', '*T*-156', 'Mrs.', 'mutual', 'mailing', 'acceptances', 'attempting', 'differential', 'cute', 'During', 'Jacob', 'conflict', '8.47', '*-48', 'evening', 'Republicans', 'committing', 'amusing', 'Shortly', 'unimpeded', 'nine-member', '*T*-24', 'relevance', 'terrine', 'Braidwood', '445', 'County', 'feasible', 'Inventor', 'Dealers', 'unfathomable', 'Gotta', 'revolt', 'appearing', 'Unable', 'expectation', 'knell', 'beg', 'renewal', 'created', 'laughing', 'caveat', 'entrepreneur', 'Without', 'erudite', 'change', '2,000', '*T*-238', 'stiff', '*-125', '*-85', 'lawyer', 'famed', 'twindam', 'charges', 'federal', '28.53', 'enacted', 'weakening', 'Kligman', 'fundamental', 'illegal', '16,072', 'Topix', 'rancor', 'Stung', 'fabricate', 'message', 'Rankin', 'guarantees', 'daughters', 'C-130', '909', 'standards', 'stalemate', 'holds', 'utility', 'equaling', 'Operations', 'intrusions', 'Hormats', 'possibly', '*-66', '*T*-202', 'Meridian', 'TREASURY', 'image', '9', 'bulk', 'transplantation', 'Winiarski', '@', '130.7', 'plan', 'rulings', 'pair', 'practical', 'specialist', 'labor', 'version', 'Minister', 'Rock', 'Mo', '21.1', 'shipyards', 'Westport', 'unspecified', 'entire', 'complaint', '50,000', 'renovation', '*T*-165', '148.9', '*T*-207', 'advance', 'size', 'tried', 'clouding', 'imply', 'programming', 'reporter', 'Competes', 'Phipps', 'Total', 'methods', 'acquired', 'Hammond', 'argues', 'affairs', 'Island', 'tackle', 'Labouisse', 'machine-gun-toting', 'irrelevant', 'prosecuting', 'classroom', 'month', '*-7', 'Knopf', 'hunted', 'tormentors', 'posing', 'Account', 'Jerritts', 'Morita', 'Madison', 'Perhaps', 'Mercantile', 'curses', 'youthful', 'away', 'feline', 'identified', 'Other', 'enabled', 'decay', '143.80', \"'d\", 'extraordinary', 'row', 'E.', 'Trotter', 'aid', 'disapprove', 'questions', 'Roland', '1st', 'Industries', 'Mich.', 'locked', 'credibility', 'But', 'Everyone', 'thugs', 'pull', 'drives', 'food-industry', 'peace', 'entity', 'social-studies', 'Transamerica', 'Lewis', 'wires', 'advise', 'co-owner', 'stabbed', 'create', 'I', 'Impact', 'Magna', 'preventative', '100-megabyte', 'quantitive', 'demise', 'newspaper-printing', 'Judith', 'turmoil', 'Ray', 'tactics', 'Late', 'unusual', '4', 'penetration', 'deluge', 'J.L.', 'Leon', 'cattle', 'equal', 'issuer', '203', 'Valley', 'replacing', 'comedies', '*T*-232', 'abuzz', 'three-year', 'you', 'rumor', 'agrees', 'inventories', 'instrumental', 'abroad', 'seized', 'Observing', 'whom', 'account', '2000', 'anti-abortionists', 'propagandizes', '*T*-10', 'five', '*EXP*-1', 'receipt', 'seasoned', 'Virgin', 'Inventories', 'exorbitant', 'feed', 'news', 'galvanized', 'nonprofit', 'coaching', 'Malaysia', 'Francis', 'Caldor', 'Warner', 'schedule', 'Oklahoma', 'FT', 'fact', 'vicissitudes', 'dominance', 'held', 'Sandifer', 'roofs', '4.6', 'doctor', 'Landonne', 'Lindner', 'headlined', '6.5', 'sale', 'interrogated', 'Sale', 'skill', 'identical', 'purely', 'Park', 'Teddy', 'pumping', 'abandoned', 'ripen', 'meetings', 'Preston', 'sticker', 'Coca-Cola', 'partners', 'To', 'world-wide', 'safety', 'opened', 'channel', 'third-largest', 'symbol', '*T*-164', 'polled', 'promoting', 'Commissions', '37.5', 'priced', 'pulp', 'High', 'player', 'C.D.s', 'McLeod', '*T*-231', 'specialized', 'Walters', 'existence', 'protest', 'children', 'divergence', 'Impediments', 'revenues', 'kindness', 'consonant', 'patented', 'Maine', 'Brothers', 'Belt', '*-150', 'Yorkers', 'slip', 'leaders', 'race', 'friendship', 'follow', 'signs', 'beyond', 'vendors', 'Telerate', 'U.S.S.R.', 'resist', 'Wadsworth', '39', 'North', 'owed', 'exciting', 'counting', 'acquisitions', 'win', '*T*-4', 'Following', 'allowed', 'Jerry', 'cent', '170', 'crushed', 'refocusing', 'calculations', 'Datapoint', 'Sixth', 'W.', 'Wick', 'raspberry', 'Ichiro', 'Treasury', 'man', 'Kuhns', 'similarity', 'morning', 'crop', '17.95', 'These', 'Cabernet', 'confirm', 'Pretoria', 'Alysia', 'count', 'complex', 'test-practice', 'Davenport', 'schemes', 'TV', 'troops', 'posting', 'Financial', 'lasted', 'shipbuilding', 'supported', 'motors', '*T*-233', '6\\\\/2', 'generalizations', '19.3', '25,000', 'cop-killer', 'Federation', 'chrysotile', 'joining', 'tiny', 'beds', '20', 'Antonio', 'royalty', 'UNION', 'always', 'Clarence', 'ASSETS', 'Wakui', 'troubled', 'literary', 'attending', '3.55', 'profitability', 'restructures', 'fit', 'supplier', 'Cullowhee', 'wildly', 'Palestinian', 'free-lance', 'cable', 'highest-pitched', 'inserted', 'ADRs', 'ethics', 'Dell', 'CHANGED', 'Geneva', 'despite', 'offered', 'fails', 'JUDICIAL', 'delivering', 'withhold', 'Is', 'defends', 'Symbol', 'Assistant', 'forest-product', 'duly', 'reclaimed', 'new-car', 'disapproved', 'eliminate', 'analyst', 'rusty', '*T*-212', 'flush', 'rollover', 'rewrite', 'Contras', 'sickness', 'excessively', 'port', '*-16', 'chip', 'Cote', 'cleaner', 'electorate', 'correspondence', 'Bretz', 'Miklos', 'strong', 'East', 'forced', 'unfunded', 'Edwards', 'featuring', 'eight-person', 'institutional', 'predicted', 'minority', 'Hawaii', 'competing', 'Occidental', 'Attorneys', 'drawbacks', 'encircling', 'exceeds', 'band', 'shadows', '*T*-178', 'assaults', 'acquisition-minded', 'rising', 'Woolworth', 'Zuckerman', 'Herrington', 'cooperating', 'disgorge', 'worried', 'polluters', 'Senate', 'cross-border', 'inner', 'dexterity', 'vetoes', 'nervousness', 'NBC-owned', 'serves', 'oriented', 'Giuliani', '1953', '72.7', '1.64', '18.6', 'noble', '8.56', 'Islands', 'convert', '*T*-34', 'bloods', 'downright', 'U.S.-Japanese', 'floral', 'cents', '6.03', 'Proceeds', 'rationed', 'Webb', 'Talcott', '29.3', 'focusing', 'Red-blooded', 'spurned', 'drop', 'G.', 'genie', 'Ark', 'Raul', 'improvement', '*-64', 'Hale', '16.7', 'morass', 'arrangements', 'from', 'conceding', 'implications', 'Indiana', '125', 'identity-management', 'echoed', 'genuine', 'entice', 'accumulated', 'badly', 'comprehensive', 'Stories', 'calculator', 'circle', 'Corp', 'Except', 'memories', 'cell', 'labeling', 'majority', 'run-down', 'immediate', '94', 'regulators', 'giants', 'TXO', 'nonresidential', '62', 'Mass', 'Pat', 'Nixon', '750', 'fringe', 'upon', 'actual', 'Earns', 'revised', 'five-inch', 'Report', 'understatement', 'elimination', 'Kingdom', '900', 'Orlando', '86', 'smokers', 'Common', 'printed', 'actress', 'precisely', '98', 'Egypt', 'additional', 'stock-market', 'RULING', '534', 'Yang', 'mirror', 'transaction', 'Dahl', '700,000', 'Whereas', 'Legal', 'tax', '*T*-13', '45,000', '7.4', 'fleet', 'Institute', 'knowledgeable', 'skidded', 'small-company', 'cited', 'laid', 'announce', 'denied', '220.45', 'joy', '*T*-226', 'Net', 'shortage', 'surrender', 'constitutional', 'catch-up', 'nine-month', 'Allied', 'commenting', 'pasta', '16.5', 'enthusiasm', 'Freshbake', 'buy-out', 'use', 'Eveready', 'lovely', 'advanced', 'Investments', 'moves', 'copycats', 'high-speed', 'primarily', 'exemption', 'Utsumi', 'branches', 'Provided', 'curb', 'annoyed', 'Neil', 'defying', 'Gerhard', 'cheat', 'packages', 'lap', 'content', 'evolution', 'Lafite-Rothschild', 'pegged', 'delivered', 'THREE', 'notwithstanding', 'words', 'anywhere', 'vice', 'recouped', 'favorable', 'national', 'stepped', 'persuasive', 'yielded', 'eyeing', 'authorizes', 'like', 'boomers', 'signaling', 'sticker-shock', 'pushes', 'precedent', 'regulate', 'egregious', 'hearings', 'bell-ringer', 'demanding', 'soured', 'mental', 'challenge', 'pistols', 'Financially', 'enable', 'Her', 'Kenneth', 'separately', 'manufacturing', 'noodles', 'floors', 'Austin', 'Gorbachev', 'economics', 'fights', 'ambassadors', 'nameless', 'estimation', 'superiors', 'triple-C', 'stripped', 'replies', 'guards', '1967', 'worsen', '29.9', 'dry', 'rewarding', 'world', 'teaches', 'stretching', 'prerogatives', 'ringing', 'redemption', 'symptoms', 'thin-lipped', '*-29', 'Russel', 'box', 'presidency', '35500.64', 'compressed', 'Terrence', '28', 'located', 'cautiously', 'Agency', 'examinations', 'discount', 'thrifts', 'cleaned', 'travel', 'railing', 'committed', 'Day', 'slope', 'raising', 'Spoon', 'develop', 'maturity', 'Charities', 'FreudToy', 'Blanc', '20s', 'generations', 'apparent', 'Here', 'Greer', 'thinks', 'clipped', 'testing', 'bridges', 'Czechoslovakia', 'swap', 'rebuffed', 'Gillespie', 'scared', 'specializes', 'foreigners', 'bombarding', 'dinner', 'contacts', 'Citicorp', '*T*-53', '245', 'program', 'realized', 'Office', 'similar', 'Beijing', 'Canepa', 'Julia', 'infusion', 'Dale', 'engage', 'permissible', 'divest', 'Davies', 'Brownell', 'mating', 'recession', 'Regarded', 'paying', 'protect', 'Sayers', 'German', '55-year-old', 'McFall', 'unworkable', '*T*-5', 'lengthened', 'Soup', 'handle', 'certificates', 'Broadcasting', 'Seymour', 'price', '17-year-old', 'accepted', 'happen', 'reduce', 'producers', 'off', 'Langner', 'hired', 'USX', 'include', 'ultimate', 'Performing', 'In', 'Thailand', 'consequence', '191.9', 'dominated', 'Duchossois', 'mathematical', 'third-highest', 'lesson', 'hill', 'Johnny', 'Salmore', 'Nancy', 'fast', 'individuals', 'combines', 'overnight', 'major-league', 'authority', '512', 'export', 'suspects', 'Machines', 'modestly', 'discuss', 'plunge', '15', 'You', 'observations', 'Biscayne', '130', 'passages', 'promising', 'everyday', 'partnership', 'cutting', 'subminimum', 'Hammerton', 'flashy', 'treatment', 'new-home', 'recombinant', 'protein-1', 'stood', 'dreamt', 'Research', 'Baris', 'touched', 'b', 'excited', 'loose', 'survival', 'coated', 'Stockholm', 'stacked', 'Killeen', 'uptick', '7\\\\/16', 'expired', 'oversee', 'defended', 'vast', '63.79', 'sixth', 'World', 'establishment', 'boy', 'Carlton', 'Carson', 'introduces', 'traitor', 'represented', 'Johnson-era', 'occur', 'prosecutors', 'cruise', 'Islamabad', 'Muscolina', 'refuse', 'hitting', 'distinguished', 'Leinonen', 'marginally', 'economic', 'regulation', 'costs', 'Often', 'matches', 'suspect', 'finest', 'researching', 'van', '79', 'understanding', 'innuendoes', '129.91', 'firms', 'implement', 'Negus', 'clues', 'negotiable', 'stock', 'faithful', 'Wakayama', '75-year-old', '10,000', '7.5', 'cavernous', 'spokeswoman', 'awareness', 'Everybody', 'confidence', \"O'Brien\", 'eternal', 'stem', 'low-cost', 'upset', 'justices', 'namely', 'Lee', 'plays', 'thin', 'Circulations', 'escalated', 'verbatim', 'accomplishments', 'absorbed', 'plate', 'Florio', 'stayed', 'society', 'solemn', 'Sonnett', 'dead-eyed', 'Invariably', 'Wellington', 'Muramatsu', 'Spiro', 'assassinated', 'reaction', 'ballot', 'regret', 'superior', 'reviewing', 'building', 'Taittinger', 'protective', '*-70', 'Stuart', '105', '7.40', 'posted', 'counter', '9\\\\/32', 'changes', 'Packaging', 'conforms', 'want', 'Contracts', '54-year-old', 'Absorbed', '38.5', 'denouncing', 'plane', 'worth', 'Claude', 'advertising', 'space', 'coverage', 'educators', 'Baum', '144', 'Hammacher', 'lives', 'RATES', '266', 'stores', '396,000', 'Venture', 'poison', 'Ariz.', 'Johnson', 'Organizations', 'Warren', 'generated', 'date', 'lofty', 'passenger', 'Herald', 'Inns', 'drew', '0.82', 'flights', 'passions', 'Floyd', 'savers\\\\/investors', 'appointment', 'Swiss', 'differences', 'one-country', 'trades', '234.4', 'Feniger', 'gambling', '1\\\\/10th', 'Sable', 'Hollingsworth', 'five-year', 'rated', 'shortly', 'name', 'giveaways', 'involve', 'forecast', '1995', 'Workers', 'feeds', 'collaborated', 'households', 'passion', 'Audit', 'aboard', 'profited', 'willing', 'frightened', '0.50', 'sky', 'Year', 'environmental', 'Leo', '2.5', 'Sidak', '37-a-share', 'places', 'chopped', 'brilliantly', 'magnetic', 'contacted', 'DIAPER', 'choice', 'scarcely', 'because', 'collecting', 'Frederick', 'Gingl', 'failed', '83', 'outsiders', 'sink', 'Chairman', 'consumers', 'strategies', 'valuable', 'circuit-breaker', 'strategic', 'blighted', 'along', 'amounted', 'cigarettes', 'pose', 'answered', 'disturbs', 'prospectively', 'Swearingen', 'affair', 'bickering', 'counts', '1.14', 'negative', 'Journal', '*T*-194', 'omnipresent', '3.6', 'markets', 'cosmetic', 'Brisk', 'computerized', 'Ferdinand', '0.28', 'Genie', 'established', 'Mortgage', 'PhacoFlex', 'scrape', 'sunny', 'write-off', 'unveil', 'Israel', 'squeeze', '1,620', 'liberty', 'Ill.', 'reach', '176', 'Timex', 'While', 'Terms', 'President', 'modern', 'censorship', 'Preferences', 'Orange', 'Pepperdine', 'Poore', 'curtailed', 'Lyle', 'risen', 'Palisades', 'preferences', 'Leroy', 'midnight', 'Confronted', 'triggered', '69', 'Champagnes', 'concentrated', 'basket', 'prohibits', 'extensive', '*T*-167', '8.07', 'overriding', 'Stephens', 'sweat', 'returned', 'bushels', 'sacked', 'possibility', 'D.C.', '*T*-201', 'Sun', 'Jeffrey', 'halts', 'Public', 'loss', '*T*-8', 'Aug.', 'path', '7.2', 'killing', 'drearier', 'speculated', 'Act', 'Agnew', '1,880', 'line-item', 'Water', 'aspect', 'Sheep', 'needle-like', 'ventilated', 'difference', '*T*-166', 'shortages', 'Grace', '2.95', 'filing', 'Advance', 'SHAREDATA', 'taught', 'Regal', 'Bronx', 'abridging', 'Dunkin', 'nail', 'forthcoming', 'ones', '*-67', 'exclusion', '10.2', 'lookee-loos', 'referring', 'Image', 'Tokyo', 'quarter', 'reference', 'Pa', 'school-research', 'indication', 'ruling', 'Scandinavian', 'Earlier', 'crook', 'declines', 'System', 'refitting', 'troubles', 'Nicholas', 'programmer', 'somebody', 'passenger-car', 'milestone', 'car-care', 'prime', 'wanted', 'changed', 'Paso', 'Frankly', 'Savings', 'Air', 'door', 'double-A', '27-year', 'Tiger', 'York-based', 'select', 'slowed', '14.26', 'Brazil', 'negotiated', 'colleges', 'whichever', 'fraud', 'project', 'been', 'bullets', 'plants', 'Nasty', 'sport-utility', 'recognition', 'transporting', 'negatives', 'Beige', '10-lap', 'Nichol', 'Deane', 'sees', 'Individual', 'products', '1920s', '240,000', 'Feb.', 'decorated', 'accord', '*-93', 'III', 'stakes', 'fuel', 'courtroom', 'format', '29', 'abortion-related', 'GAF', 'picks', 'scripts', '*-151', 'founded', '22\\\\/32', 'improves', 'impaired', '497.34', 'add', 'produce', 'disregard', 'populated', 'alerts', 'singled', 'Reliance', 'Creek', 'impartial', 'ending', '13.15', 'Taizo', 'replacement-car', 'RMS', 'economical', 'serious', 'sports-oriented', 'paint', 'installing', 'progressive', 'Rey\\\\/Fawcett', 'outlawing', 'Navy', 'guns', 'sent', '160', 'screwed', 'Yeargin', 'Westborough', 'Dr.', 'fighters', 'radioactivity', 'San', 'nose', 'needy', 'broadcasts', 'amphobiles', 'Orchestra', 'purrs', '467', '*T*-117', 'cars', 'entrance', '251.2', 'manipulators', 'adjustable', 'full-fledged', 'respite', 'remarkable', 'intraocular', 'person', 'spurns', 'recovered', 'Everything', 'dinosaurs', 'Kill', 'Sandra', 'seven-million-ton', 'university', 'exposed', 'congressmen', 'Portugal', 'seasonally', 'Second', 'elephant', 'reputation', 'enticed', 'bulls', 'was', 'corruption', 'Xerox', 'Bank', 'minimum', 'riskier', 'balloon', 'Industrial', 'non-core', 'sidelines', 'relegated', '51.25', 'inflated', 'Prudential-Bache', 'pre-emptive', 'unchanged', 'afternoon', 'warranties', '*-87', 'Andy', 'regimented', 'containing', 'No', 'portfolios', 'wholesaler', 'repay', 'massive', 'Soldado', 'amicable', 'pursue', 'dwindling', '53', 'uncharted', 'Catch-22', 'tired', 'lend-lease', 'applications', 'Auctions', 'Centers', 'rumors', 'ringer', '3.80', 'statewide', 'draw', 'aimed', 'Why', 'liabilities', 'Register', 'features', '*T*-254', 'Del', 'exit', '*T*-217', 'switched', 'requirements', 'shrank', 'privilege', 'offset', 'embarrassing', 'uncertainties', '*-121', 'differently', 'international', 'Book', 'Najarian', 'apologize', 'ITC', 'absurd', 'recruited', 'MacDonald', 'indulging', '*T*-147', '1991', 'lines', 'industries', 'Rae', 'Martin', 'Income', 'vans', 'Spanish', 'chemicals', '93', 'test-prep', '*-19', 'School', 'reorganization', 'pealing', 'minute', 'Instruments', 'SOYBEANS', 'interpretation', 'members', 'apparently', 'mindful', '4.25', 'Besides', '2160.1', 'demobilize', 'few', 'childish', 'schoolchildren', 'Can', 'late', 'Commission', 'scant', 'Since', 'her', 'facilities', 'centennial', 'akin', 'year', 'consists', 'Sweden', 'LATE', 'styles', 'stretch', 'collective-bargaining', 'symbolic', 'schoolboys', '2,303,328', 'Communists', 'criticism', 'Association', 'retraced', 'consumption', 'Rust', 'language-housekeeper', 'examination', 'Virginia', 'nice', 'Jay', 'violence', 'yourself', 'margins', '*-147', 'Weisfield', 'Baking', 'agenda', '55.1', 'contingency-fee', 'contained', 'disease', 'anti-drug', '?', 'N.J', 'replaced', 'unaffiliated', 'Appellate', 'LIBOR', 'imposes', 'field', 'booklet', 'Phelan', 'Charles', 'farmers', 'victim', 'Burgundy', 'dreadful', 'municipal', 'consented', 'filling', 'thread', 'AG', 'party', 'reliance', 'reprove', 'bakery', 'Phoenix', 'remainder', 'Norman', 'Baker', 'Champagne', 'millionaires', 'weekly', 'type', 'premier', 'Series', 'congressional', 'controlled', 'Spreads', 'incomplete', '47.6', 'timely', 'price-support', 'nurtured', '301', 'collar', 'Shangkun', 'Virtually', 'arise', 'looking', 'social', 'Died', '141.9', '*T*-68', 'withdrawn', 'Photography', 'invent', 'brokering', 'GRAINS', '*-146', 'asserting', 'heavy-truck', '27.1', 'sites', '42.5', 'Rekindled', '386', 'Visa', 'Ridgefield', 'factors', 'perfectly', 'pro-democracy', '59.6', 'borrowing', 'jump', 'sights', 'clerics', '*-13', 'Garbage', 'Obligations', 'earliest', 'fashion', 'beneficiary', 'emigres', 'morale', 'Yoshihashi', 'Souper', '45.3', 'money-losing', 'absurdity', 'Sandoz', 'removing', '3.01', 'autumn', 'curtail', '*-149', 'Huber', 'Bridge', 'Aurora', 'elections', 'statement', 'Asher', 'ai', 'Mayer', 'races', 'asked', 'it', 'precedes', 'three-digit', 'Imhoff', 'quoting', 'Us', 'Albuquerque', 'union', 'heightened', 'ACQUISITION', '60.36', 'numbers', 'millions', 'Butler', 'buildings', 'bludgeon', 'departments', ';', 'halls', 'Olympic', '*-156', '*-118', 'caught', '352.9', 'passport', 'favor', 'Montedison', 'corrected', 'poured', 'uses', 'segment', 'last', 'weight', 'Soon', 'Financing', 'direct', 'R.I.', 'so', '1972', 'according', 'genes', 'Shrum', '*T*-210', 'myriad', 'encourages', 'exhibition', 'moratorium', '300-a-share', '5.70', 'improving', 'Cabbage', 'bull', 'Meanwhile', 'imminent', 'regular', 'Both', '80.8', 'Icahn', 'Editorials', 'importance', '9.82', 'boyfriends', 'money-center', 'development', 'furious', 'surplus', 'candidates', 'abortions', \"'86\", 'surveyed', '*T*-61', 'academic', 'Hungary', 'Filmed', 'Australian', 'battles', 'de', 'R.P.', '*T*-64', 'Payments', '*T*-150', 'workable', '5.3', 'overall', 'Typical', 'AT&T', 'key', 'preset', '1981', 'option', 'neighbors', '879', 'pro-Iranian', 'finds', 'accidents', 'Internal', 'duty', '43.875', 'else', 'bargain', 'planted', '21.9', 'he', 'cozy', 'vacant', 'criteria', 'Carnegie-Mellon', 'Akerfeldt', 'Entertainment', 'anger', 'formula', '*T*-208', 'oversight', 'vintage', \"'\", 'category', 'schoolteacher', 'Sept.', 'substance', 'hormone', 'will', 'drivers', 'Technology', 'BMP', 'chips', 'Party', 'DyDee', 'pet', 'denying', 'motives', 'pretext', 'intellectual-property', 'waters', 'Younkers', 'Banks', 'Christian', 'reports', 'advantage', 'page', 'playful', 'nominate', 'glamorize', 'clannish', 'hedging', 'Traditionally', 'operates', 'markdowns', 'list', 'film', 'Journals', 'standardized', 'technical', 'Stork', 'computers', 'threatens', 'C.J.B.', 'bell', 'Futures', 'sexy', 'taken', 'Advancing', 'redeemed', 'concerns', 'less-than-brilliant', 'Jews', 'concentrate', 'why', 'CEOs', 'viewing', 'Alstyne', 'exactly', 'Almost', 'sides', 'high-rolling', 'riding', 'fanciful', 'disseminate', 'breezy', 'homes', 'owns', 'certified', 'contract', 'Open', '10-day', 'smattering', 'She', 'settled', 'Perignon', 'unauthorized', 'darned', 'unleashed', 'standard', 'picket', 'build', 'task', 'quantities', 'del', 'globe', 'age', 'Stern', 'Alexander', 'Vos', 'verge', 'LONDON', 'apples', 'chooses', 'two-sevenths', 'working', 'spring', 'salable', 'Walker', 'racket', 'inherent', '*-45', 'Commodity', 'impetuous', 'denial', 'sub-segments', 'Seattle-based', 'Consumer', 'drops', 'through', 'protection', 'latter', '133.8', 'electronic', 'savings', 'two-thirds', 'Matthew', 'installment', 'basis', 'parallel', '*T*-237', 'clause', 'tire-kickers', 'invented', 'briefing', 'MERRILL', 'Sanford', 'labor-intensive', 'monied', 'traveled', 'policies', 'appeal', '69-point', 'France', 'durable', 'spite', 'affordable', 'advent', 'three-month', 'oils', 'juggle', 'lung', 'reflects', 'Fewer', 'regional', 'Italy', 'corkscrews', 'unemployment', '4.7', 'many', 'Improvement', 'disaster-assistance', 'involving', 'prohibited', 'brushed', 'reds', 'enabling', '*-1', 'illness', 'engineers', 'concentrating', 'become', 'his', 'Communication', 'true', 'May', 'exercisable', 'Mercedes', 'newsroom', 'Nonetheless', 'wrote', 'chunk', 'handed', 'authorities', '*T*-174', 'loudest', 'degrees', 'Resources', 'prevailing', 'document', 'within', 'Norwest', '415.8', 'zip', 'C-90', 'merchandise', 'session', 'graphs', 'prize-fighter', '4.10', '4.898', 'Bush', 'crying', '7.422', 'wage', 'Tip', 'very', 'purchase', 'stirrings', 'entertain', 'compatible', 'bank', 'million-a-year', 'Frances', '*T*-21', 'claims', 'Political', 'Reupke', 'bonus', 'relieve', 'relieved', 'reasserts', 'she', 'planned', 'nature', 'involved', 'does', 'widow', 'Policy', 'powder', '87.5', 'We', 'Pardus', '107', 'accurately', '1980', 'rough', 'Adams', 'attacks', 'exact', 'improvements', 'Synergistics', 'consomme', 'Puerto', 'sex', 'sagging', 'Transportation', 'communications', 'hostage', 'amended', 'recent', 'Acquisition', 'Louis', '13.5', 'Buckhead', 'deteriorating', 'display', 'Emile', 'denominator', 'crystal', 'links', 'composting', 'Switzerland', 'conclude', 'cause', 'existed', 'influenced', 'ushers', 'Bumkins', 'speculator', 'resulting', 'Superdome', 'Equity', 'marketplace', 'Backe', 'buyer', 'we-Japanese', 'Cray-3', 'plus', 'covered', 'Leningrad', 'Tuscany', 'unclear', 'pride', 'pour', 'later', 'teetering', '*T*-235', '9.8', 'Johns', 'body', 'less-serious', 'grain', 'belfries', 'auction', 'high-yield', '890', 'participate', 'illegality', 'counseling', 'White', 'complicate', 'loops', 'Krenz', 'NEW', '*-140', 'Heavy', 'Garret', 'stance', 'high-flying', 'buses', 'presidents', 'Amsterdam', 'weeklies', 'offsetting', 'ingredients', 'securities-based', 'dark', 'gasoline', 'example', 'involves', 'Management', 'relations', 'Murray', 'Stanley', 'shaded', '*-80', '18-year-old', 'lasting', 'Take', 'appears', 'Doak', 'refusal', 'free', 'global', 'Fellowship', 'burlap', 'cash-rich', 'satisfying', 'audiocassettes', 'learning', 'foot', 'financier', 'Egyptian', 'Gordon', '1937-40', 'executes', 'others', 'Harper', 'visitors', 'perceived', 'scheme', 'generally', 'breathtaking', 'whimsical', 'checkbook', 'Section', 'nutrition', 'apology', 'Nationwide', 'Barnum', 'prestige', 'lately', 'Doerflinger', 'Peoria', 'inception', 'inadequate', 'Soviet', 'Marcus', '319.75', 'documented', 'Longwood', 'Ordnance', 'preventing', 'searching', 'Coxon', '23.25', 'justify', 'researcher', 'granted', 'Bucking', 'Prize', 'linked', 'distant', 'via', 'Stephen', 'Elsevier', 'observers', 'balanced', 'compensate', 'tightened', 'Bricklayers', '750,000', 'obtained', 'peculiar', 'Factory', 'rolling', 'unbearably', 'Cara', '6.4', 'engineer', 'announcer', 'K.', 'sub-markets', 'Major', 'pattern', 'energy', '405', 'single-digit', 'missed', 'further', '4.2', 'bombs', 'Kentucky', 'Hanifen', 'utilities', 'lotter', 'took', 'industrialized', 'Department', 'employment', 'Dolphin', 'Seats', 'anti-China', 'respond', 'crippled', 'so-called', 'Tower', 'house', 'materialistic', 'usurp', 'Capital', 'single', 'GHS', 'immune', 'crib', 'truck', 'journalistic', 'Prosecutors', 'bomber', 'Turnaround', 'mired', 'slide', 'Environmental', 'contest', 'facilitate', 'prepayment', 'shaky', '260', '701', 'eclectic', '320', 'wears', 'biscuit', 'investigating', '2.80', 'arguing', 'shelter', 'previous', 'loading', 'requires', '1.125', 'exerting', 'railings', 'assurance', 'favorite', '*-135', 'B', 'MITI', 'trays', 'Cask', 'Barney', 'Britain', 'Green', '*T*-123', '200', 'rewards', 'prizes', 'avoiding', 'refund', 'decisive', 'borrowed', '130.6', 'Noble', 'FUNDS', 'belongs', 'legal', 'raw', 'Commodities', 'separation', 'measures', 'achieved', '50.45', 'of', 'drug', '*-95', 'clearer', 'pine', 'Americans', 'cabs', '350,000', 'converting', 'apprehensive', 'pressured', '188.84', 'conventional', 'weekends', 'violation', 'six-inch', 'Maxwell', 'Kalamazoo', 'decade-long', 'Hitachi', 'open-end', 'Team', '58.64', 'tells', 'Francisco', 'receptive', 'newly', 'trying', 'Luce', 'unproven', 'relationship', 'materialize', \"'m\", 'partisans', 'toilet', 'burned', 'aspersions', 'OK', 'discontent', 'limits', 'there', 'ranked', 'high-risk', 'Starting', 'Union', 'Use', 'two', 'continually', '``', 'derived', 'Nilson', '1.7', 'Acceptance', '30,537', 'expires', 'airline', 'insinuating', 'Northy', 'substance-abusing', 'sparked', 'Cultural', 'Ravenswood', 'Defense', 'crossed', 'suburban', 'after-tax', 'Marvin', 'lack', 'Photograph', 'benefited', '5,699', 'Steve', 'proportion', 'when-issued', 'preclude', 'evolved', 'clearing', 'movement', 'Seed', 'pioneer', 'place', 'moreover', '17', 'virtues', 'bias', '3,500', 'States', 'hospital', 'participant', 'host', 'exclusive', 'SDI', 'entrenched', 'recognizing', 'ranging', 'beverage', 'Monday', 'insurgents', 'secured', 'Joni', 'inventiveness', 'unanimous', 'claim', 'mayor', 'Similarly', 'concessions', 'enjoying', 'photocopying', 'Banking', 'totaled', 'Teikoku', 'rang', '415', 'tissue', 'Raleigh', 'seconds', 'Shipments', 'deposit', 'consecutive', 'sugar', 'survive', 'spur', '221.4', 'Chrysler', 'Dominion', 'Democracy', 'dust', '*-90', 'useful', 'Cerf', 'recipient', '*-124', 'triple-A', 'controls', 'Works', 'Giants', 'nobody', 'Taipei', 'legislation', 'Raton', 'Philadelphia-based', 'confirms', 'shopping', 'sogo-shosha', 'moments', 'target', 'Insurance', 'collapse', 'transformed', 'Arizona', 'pre-1933', 'Earlham', 'shovels', 'Overall', '*T*-1', '1929', 'warnings', 'Cartons', 'dust-up', 'posts', 'lawmakers', 'stages', 'Macmillan\\\\/McGraw-Hill', 'surprised', 'gauge', 'compilation', 'pregnant', 'Chapter', '500', 'Brunei', 'yet', 'scores', 'admits', 'objectives', 'white-collar', 'fire', 'chassis', 'frankly', 'Bancorp', 'Dodger', 'Gunmen', 'operators', 'plagued', 'leader', 'dairy', 'Merchant', 'merger-related', 'color', 'authorizing', 'equals', 'unless', 'easy', 'Business', 'counterpart', 'publishes', '*T*-170', 'sprightly', 'structured', 'long-time', 'Hamilton', 'incentive-bonus', 'confident', '*-47', 'likely', 'Mariotta', 'develops', 'twinned', 'premium', 'sold', 'numbered', '21-month', 'supports', 'helping', 'drinking', '77.56', 'inside', 'N.J.-based', 'defects', 'Georgia', 'prolonged', '334.5', 'supercomputers', 'formal', 'stairs', 'Comprehensive', 'Springfield', 'thieves', 'Florida', 'Previously', '*-145', 'Publishers', 'LOAN', 'Change-ringing', '83,206', 'There', 'fills', 'convertible', 'networking', 'installed', 'unsolicited', 'Massachusetts', 'Elliott', 'directionless', 'mode', 'services', 'source', 'NTG', '*-20', 'Memphis', 'predict', '*T*-229', '1.8500', 'microphone', 'Loews', 'Security', '94.8', 'Brent', 'La', '149.9', 'fundamentalist', 'check', 'movie', 'adequate', 'teach', 'device', 'buy-outs', 'Deregulation', 'Train', 'Practical', 'impression', 'trucks', 'succeed', 'upheld', 'hardware', 'voices', 'IRS', 'lender', 'fastest', 'taxation', 'opens', 'exceed', 'Automobile', '14.75', 'hits', '7,500', '*T*-72', 'going', 'ACCEPTANCES', 'bone', 'speedway', '*-100', 'Equus', 'views', '57.6', 'LSI', 'prayer', 'Corn', 'disposables', 'food', 'Traficant', 'depression', 'stone', 'quotas', 'getting', 'much', 'commitments', 'founder', 'patients', 'fly', 'Disease', 'Kathleen', 'alcohol', 'growths', 'vacancy', '*T*-82', 'stresses', 'Although', 'rarefied', '133.7', '270', 'value', 'British', 'owner', 'familiar', 'Wu', '28.25', '-', 'foldable', 'Mitsui', 'Related', 'approach', 'mothers', 'perception', 'universities', 'VOA', 'users', 'rope-sight', 'computer-assisted', '1.92', 'surgery', 'Koizumi', 'annualized', '1989', '*ICH*-3', 'N.M.', 'guaranteed', 'Gulf', 'Volume', 'Human', 'J.', '*T*-190', 'rampage', '116.7', 'intriguing', 'elevators', 'succession', 'infrequent', 'shambles', 'nine', 'appreciation', 'discussion', 'Melamed', 'drain', 'Gartner', 'damage', 'W.N.', 'investment', 'event', 'logistical', 'Mellon', 'Fed', 'green', 'wear', '*-31', 'bribe', 'advancing', 'types', 'COMMERCIAL', '1987', 'retired', 'divided', 'Social', 'stacking', 'influential', 'watched', '1738.1', 'state', 'Trans', 'apparel', 'cooled', 'Advanced', 'staying', 'full-length', 'interim', '4,393,237', 'milked', 'Rieslings', 'hamstrung', 'performed', 'past', 'Several', '78', 'contradictions', 'Still', 'futures', 'well', 'grew', 'bankruptcy', 'clarify', 'relative', 'effective', 'applaud', 'H.N.', '*T*-247', 'parts-engineering', 'Citadel', '94.2', 'learned', 'opening', 'RATE', 'practices', 'enact', 'financial', 'burn', 'General', '*-107', 'presumably', '*T*-46', '20-point', 'solvent', 'three-sevenths', 'scrapped', 'Ratings', 'Dividend', 'class', 'confines', 'Marie', 'one-hour', 'Mo.-based', 'unanticipated', 'Yamamoto', 'while', 'Budget', 'prestigious', 'PLC', 'greatest', 'interstate', 'Kathryn', 'deem', 'better', 'pub', 'TRANSPLANT', 'Pa.', 'unneeded', 'Bob', 'masters', 'carries', 'suspensions', 'operations', 'steelmakers', 'expects', 'country', '1984', 'group', 'slate', 'court-ordered', 'businessman', 'core', 'rung', '341.20', 'recommended', 'let', 'filed', 'partisan', 'Charlotte', 'outdistanced', 'garage', 'Pramual', 'eye', 'fined', 'Opus', 'arched', 'discussions', 'cost-control', 'spirit', 'coal', 'conduit', 'Intermec', 'demographic', 'droughts', 'climbed', 'muscling', 'campaigner', '*T*-81', 'exposure', 'Dollar-yen', 'bounced', 'predictable', '*-2', 'Oshkosh', 'complains', 'Esso', 'copyright', 'volume', 'embassy', 'halve', 'constituent', 'sounded', 'radio-station', '520-lawyer', 'Coleco', 'felt', 'small', 'damn', '*T*-151', '88.32', 'Alliance', 'appoint', 'one', 'undo', 'trespass', 'strings', '*T*-48', 'soaring', 'Patricia', 'exercised', 'restricts', 'NRDC', 'reject', '8.64', 'often', 'luxury', 'mature', 'warned', 'acceptance', 'Compromises', '*-138', 'cushion', 'representatives', '415.6', 'credit-rating', '400,000', 'Townes', 'reinstating', 'fines', 'machines', 'allow', 'vagrant', 'river', '40-year-old', 'reaches', 'muzzling', 'heebie-jeebies', 'Gary', 'refuge', 'Asked', '62-year-old', 'Jones', 'Officials', 'torrent', 'keyboards', 'behind', 'supplemental', 'harvest', 'citizens', '*T*-250', 'focused', 'shedding', '*T*-15', 'great', '*-4', 'Brenda', 'tight', '27.4', 'wheels', '16.125', 'amendment', 'describe', 'Backer', 'Factories', 'tow', 'funny', 'purse', 'Private', '963', 'Poland', 'larger', 'businessmen', 'Think', 'Neuberger', 'Perch', 'year-ago', 'attitude', 'Pattenden', 'old-style', 'Clairton', 'gloomy', 'nowhere', 'that', 'nickel', 'single-A', 'Issues', 'sliding', 'Division', 'complaints', 'mine', 'citizen-sparked', 'Ohio-based', 'liquid', 'summer\\\\/winter', 'vs.', 'Trace', 'worries', 'jolts', 'captivating', 'cranked', '6.25', '*T*-126', 'Tokio', 'Northern', 'teaching', 'sorting', 'Society', 'Session', 'limbo', 'Barclays', 'attached', '3436.58', 'NATIONAL', '142.85', 'maintained', 'finding', 'Kurland', 'Jaguar', 'AND', 'previously', '*T*-85', 'undisclosed', 'yields', 'resignation', '*-79', 'bronze', 'actively', 'Rogers', 'fibers', 'underlying', 'Furillo', 'resumes', 'another', 'financially', 'chemical', 'Pretax', 'scarce', 'classed', 'cohesive', 'completing', 'discos', '41.60', 'McDermott', 'surrounding', 'fast-growing', 'boogieman', 'opposes', '50-50', 'classes', 'Containers', 'permit', 'void', 'Embassy', 'state-appointed', 'tell', 'Millis', 'Berliner', '*T*-172', '*T*-206', 'Annualized', '*T*-121', 'topped', 'window', '89,500', 'opposite', 'cadmium', 'attract', 'mobile', 'prices', 'radically', 'ramparts', 'light', 'impressed', 'Overseas', 'exceptional', 'priority', 'subscribe', 'invariably', 'figures', '0.60', '*T*-50', '*-63', 'column', 'Betting', 'expecting', 'sidewalk', 'bedding', 'USA', 'Detroit', 'McAlpine', 'politics', 'Market', '*-152', 'blocked', '2009', 'rhetoric', 'Also', '14.54', 'curled', 'Gross', 'pocket', 'Anglian', '47.1', '.', 'Citizen', 'interest-rate', 'Einhorn', 'Orrick', 'powers', 'specified', 'goverment', 'delisted', 'Bradley', 'breakers', 'street', 'Murakami', 'Used', 'limping', 'polish', 'Burgundies', 'in', '6.21', 'steel', 'pointing', 'side-crash', 'phase-out', 'semiannual', 'IOUs', 'humble', 'Rep.', 'merit', '58-year-old', 'stocks', 'fattened', 'cheaper', 'billings', 'Ranieri', 'construction', 'visiting', 'staff-reduction', 'suffering', 'Miguel', 'bridge', 'subskills', 'pitting', 'wrong', 'pennies', 'Nor', 'beautiful', 'fan', 'floor', 'Pan', 'debenture', 'furor', 'avid', 'Advice', 'would', 'copyrights', '*T*-101', 'capacity', 'considering', 'read', 'machinery', 'instrument', 'prior-year', 'Joel', 'becoming', 'inappropriate', 'technologies', 'artist', '87-store', 'lesions', 'upbeat', 'With', 'sunlight', 'charts', '30-year', 'seen', 'Opportunity', 'L.A.', 'actually', 'leash', 'commodities', 'Patch', 'releases', 'unitholders', '*EXP*-2', 'delays', 'House', 'assured', 'Russian', 'Roof', 'rocket', 'WTVJ', 'Evidence', 'intentioned', 'Malcolm', 'expedited', 'backgrounds', 'implies', '3.43', 'Metal', 'humans', 'upturn', 'confused', 'commanded', 'persuasion', '16.09', 'Salvador', 'poorly', 'harvested', '80.50', '36.9', 'contractors', '22.75', 'alleging', '8.65', 'Manfred', 'disruptive', 'Steelworkers', 'Marubeni', 'Serial', 'greed', 'And', '*T*-51', 'capital-gains', 'comes', 'Stock', 'job', 'obsessed', 'lower-priority', 'trained', 'signal', 'Rita', 'TRIAL', '6.40', 'DeFazio', 'admitting', 'mailed', 'victory', 'emerges', 'campus', 'recalls', 'filters', 'shows', 'thinking', 'prefecture', 'blind', '500-Stock', 'DNA', 'Silicon', 'survivor', 'governors', 'turn', 'Choose', 'measurement', 'firings', 'Woodward', 'wives', '*T*-108', 'Confidence', 'Basin', 'really', 'go', '50.1', '30s', 'growing', 'high-quality', 'knife', '143.93', 'improve', '*T*-249', 'variables', 'Karns', '*-72', 'sends', 'forcing', 'Nylev', 'closely', 'more-advanced', 'advertised', 'ABORTION', 'Employers', '5.435', 'chunks', 'assault', '*-69', 'Bridgeville', 'Chevrolet', 'Great', 'ascendency', 'Jennison', 'sauce', 'broke', 'details', 'ECONOMIC', 'World-Wide', 'Optical', 'Ky.', '*T*-38', '30.9', 'Times', 'reasoning', 'Richebourg', 'relied', 'City', 'barred', '14.6', 'Polytechnic', 'shudders', '500-stock', 'Compound', 'risks', 'Harrison', '23.72', 'lacks', 'estimated', 'Generalized', 'Foot', 'Lobsenz', 'frantic', '1.61', 'wafers', 'allegations', 'stock-manipulation', 'warn', 'Possibly', 'INTERBANK', 'letting', 'SALT', '89.7', 'Elco', 'scientists', '8.9', 'silicon', 'talk-show', 'disasters', 'Sherwood', 'lieutenant', 'machine', 'severable', 'Grange', 'deemed', 'Renee', 'disaffiliation', 'recessionary', 'reaped', 'across', 'Underwood', 'disseminating', 'spaces', 'Continuing', 'resilient', 'asset', 'drove', 'Henry', 'deals', 'outstanding', 'whereby', 'perpetuate', 'medical', 'network', 'Cotran', 'suggest', 'Hasbrouk', '62.1', 'directing', 'unique', 'operator', 'industrial-production', 'sell-off', 'Concurrent', 'bond', 'designated', '*-56', 'Combo', 'signature', 'formation', 'considered', 'rebellion', 'consist', '86.12', 'Close', 'bigger', 'Michigan', 'net', 'subcommittee', 'ask', 'demands', 'sufficiently', 'Contra', 'training', 'Skinner', 'Crew', 'Jr', 'ninth', '1988-89', 'Adolph', 'permits', \"'ll\", 'permanent', '198', 'unsettled', 'Miami-based', 'shame', 'John', 'lose', 'material', 'swelling', 'parliament', 'environmentalists', '*-113', 'fold', 'dealings', 'regulations', 'realestate', 'responded', '*T*-215', 'roughhewn', '*T*-193', 'sells', 'publicly', '*T*-169', 'Oct.', 'Alfred', 'recruiting', 'items', 'payoff', 'Judah', 'muted', 'damaging', '*T*-258', 'acres', 'ailing', 'saw', 'Ednie', '16.2', 'shape', 'Structural', 'Companies', '49', 'managing', 'attracts', 'incredible', '*T*-225', 'featured', 'soul', 'non-U.S.', 'truth', 'examples', 'bicameral', 'detail', 'fat', 'Wilbur', 'plummeted', 'clicked', 'Corton-Charlemagne', '135', 'Strindberg', 'staggering', 'mathematics', 'commission', 'outside', 'fears', 'overhead', 'would-be', 'pirates', 'forum', 'Angola', 'stay', '1940s', 'referendum', 'conceivable', 'reps', 'manager', 'SWITCHING', 'Price', 'integration', '100-share', 'Jackson', 'Particularly', 'mainly', 'units', 'Leming', 'Boorse', 'diluted', 'associated', '4.3', '*T*-44', 'Nestor', 'perpetuates', 'restructurings', 'Hubbard', 'cake', 'Street', 'backers', 'Economics', 'pointed', 'Garrison', 'predispose', 'temporarily', 'narrow', '*T*-57', 'Order', 'Giraud', 'blocks', 'Pictures', 'insured', 'plans', 'Gilts', 'one-fifth', 'lion', 'discontinued', 'loan', 'hospitable', 'kinds', 'retaliation', 'sections', 'privileged', 'keep', '*-15', 'expendable', 'wherewithal', 'lore', 'benchmarks', 'Ratners', 'cite', 'belt', 'vagabond', 'Baltimore', 'inspirational', '576', 'synchronized', 'blindfold', 'must', '190', 'afterwards', 'gained', 'officials', 'structural', 'falls', 'civilization', 'Signs', 'buffet', 'Washington', 'accurate', '*T*-192', 'fine', 'two-year-old', 'cultivated', 'N.V', 'Landrieu', '*-133', 'justified', 'fearful', 'Lake', 'church', 'denounce', 'collection', 'satisfactorily', 'S.p', 'Breeden', 'Nipponese', 'deficit', '2.62', 'pace', 'share', 'downtown', 'variety', '14.28', 'reeling', '*T*-252', 'Polish', 'Heightened', 'home-market', 'avert', 'groups', 'encouraging', 'petition', 'proposing', 'blender', 'Depending', 'rubber', 'leave', 'Guerrilla', '11.10', '13.8', 'nor', 'tone', '170,000', 'fourth-quarter', 'native', '*T*-218', 'compliance', 'currently', 'life-insurance', 'liability', 'retentive', 'Four', 'hosted', '1996', 'analysis', 'Va.', 'provided', 'proceedings', 'Yields', 'overused', 'seize', 'Bond', 'explains', 'decides', 'requirement', '22', 'conviction', 'substantial', 'DOT', 'quality', 'Inc', 'Scientists', 'wine', 'Purina', 'Chadha', 'sleep', 'fueling', 'wield', 'pages', 'Conference', 'light-truck', 'resists', 'cabinet', 'trap', 'Co.', 'card-member', 'autions', 'beneficiaries', 'present', 'Showa', 'member', '6.70', 'Designated', 'programs', 'September', 'test-preparation', 'railcar', 'monthly', 'elected', '77.70', 'Sino-U.S.', 'surpluses', 'percent', 'McGovern', 'Petrus', 'curbing', 'experienced', 'Horsham', 'motor', '101', 'under', 'Rockford', 'expression', '*T*-75', 'cheerleaders', 'achieve', 'composite', 'earning', 'quota', 'Harold', 'weird', 'arms', 'P.', '300-113', 'bargains', 'contemporary', 'Ala.', 'Diceon', '132', 'Peck', 'murder', 'terms', '700', 'talks', '1,100', 'around', 'booklets', '1.457', 'Austrian', 'colony', 'predicting', 'junk-bond', 'grandstander', '434.4', 'Calder', 'response', 'initially', 'Meese', 'mouth-up', 'excise', 'with', 'deterioration', 'Eugene', 'incentive-backed', 'glass', 'historical', 'subindustry', 'Finnish', 'barely', 'Housing', 'trouble', 'abandon', 'Output', 'aisles', 'After', 'microprocessor', 'moderated', 'powwow', 'Ohio', 'dominates', 'agree', 'qualities', 'nothing', 'capital-markets', 'reflect', 'hazards', 'marriages', 'interesting', 'Mission', '14.00', 'T-shirts', 'Montgomery', 'disk', 'upscale', 'openly', 'maybe', 'boast', 'processes', 'restored', 'bad', 'II', 'burdens', 'Follow-up', '*T*-245', 'torn', 'worms', 'Mindy', 'elderly', 'waited', 'Reuter', 'lock', 'Science', 'dusty', 'Stanford', 'sometimes-tawdry', 'odd-year', 'Limited', 'Barrett', 'Ballot', 'faculty', 'Hammerschmidt', 'market', 'celebrate', 'safe-deposit', 'predecessor', 'expect', 'were', 'CLEARS', 'appealing', 'mechanical', 'terrorists', 'Rumors', 'Springs', 'lottery', 'Just', 'friend', 'define', 'Boone', 'muster', 'Chamber', 'provide', 'aircraft', 'crime', 'indexes', 'aiming', 'funds', 'tempts', 'vehicle', 'Corp.', 'valued', 'abortion', 'Waterloo', '40.21', 'Fundamentalists', 'Rudolph', 'harmony', '767', '1.2', 'Americana', 'by', 'mechanism', 'All', 'second-largest', 'fielded', 'Test-preparation', 'expert', '5', 'writer', 'pursued', 'Georgia-Pacific', 'voting', 'arm', 'abolishing', 'Cellars', 'Jimmy', '*-83', 'gives', 'Ensrud', 'watches', 'next', 'attributes', 'Domaine', 'countries', 'minister', 'northern', 'only', 'profitably', 'champions', 'Administration', 'co-developers', 'erroneous', 'responsibilities', '7.90', 'Wright', 'logjam', 'print', 'Scowcroft', 'picking', 'Bankruptcy', 'tomorrow', 'borders', 'Employment', 'voluntary', 'totaling', 'write-downs', 'reaching', 'Ana', 'hurting', 'primary', 'impeding', 'strong-willed', 'practice', 'temptation', 'a', 'takeover', 'Circulation', '7.50', 'electric-utility', 'pension', 'vaccines', 'servicing', 'Guaranteed', 'hundred', 'result', 'tilt', '52', 'arrived', 'suddenly', 'Concerned', 'destroy', '*-105', 'log', 'live', 'publishing', 'presence', 'Reames', 'Brady', 'Sierra', 'mortgaged', 'M.', 'applicability', 'scale', 'Uptick', 'Fred', 'Ind.', '13.90', 'Vichy', 'becomes', 'tools', 'manufacturers', 'zero', 'trend', 'regulated', 'acid-rain', 'models', 'situations', 'Washington-based', '32', 'one-time', 'staff', 'launch-vehicle', 'yearly', 'fragmentation', 'laboriously', '33', 'complete', 'walk', 'Grant', 'Stearn', 'Fantasy', 'school-board', 'watching', 'crashes', 'scheduled', 'workers', '1997', 'English-speaking', 'nullified', 'Canada', 'spectacular', '35.7', 'Law', 'Marina', 'lauded', 'recently', 'toy', 'CSV', 'critical', 'projects', 'hire', 'report', '84.29', 'Barron', '1966', '1986', '45-a-share', 'cluttered', 'withdrew', 'camera', 'checks', 'Bendectin', 'threatened', 'first-time', 'potential', 'BANKERS', 'disproportionate', 'facts', 'Matthews', 'satisfactory', 'fleeting', 'Democrats', 'effort', 'induce', 'Mehta', 'duty-free', '1991-2000', 'Ginnie', 'layer', 'nightmare', 'Rotie', 'invest', 'prospect', 'USIA', 'unpleasant', 'family-planning', '*T*-124', 'outlook', 'survey', '*-144', 'set', 'kept', 'gilt', 'welcomed', 'gains', 'PLO', 'Time', 'unfair-trade', '0.84', 'mid-1990s', '-RCB-', 'balance', 'cane', 'Ilminster', 'fretted', 'Landor', 'Mahoney', 'offer', 'prevents', 'casts', 'maturities', 'overcapacity', 'strike', 'Ferro', 'Shores', '271,124', '99.3', 'Bill', 'trade', 'sweatshirts', 'joined', 'rich', 'Novello', 'easing', 'teenage', 'notched', 'employer', 'resisting', 'instituted', 'greatly', 'begun', '*-99', '*T*-184', 'Lorain', 'adapting', 'pence', 'enjoy', 'arrangement', 'peripheral', '*T*-47', '152,000', '57.7', '40,000', 'decade', '1989-90', 'begot', '645,000', '175', 'four-color', 'Plans', 'chatter', 'weddings', 'do-it-yourself', 'lawmaking', 'tricky', '16,000', 'erodes', 'Cabernets', 'Crash', 'losses', 'intense', 'combinations', 'malignant', 'cocky', 'distasteful', 'Moscow', 'satisfaction', 'six-month', 'Stocks', '2.19', 'auctions', '*T*-67', '2.8', 'emerge', 'population', 'crowded', 'smoking', 'sets', 'cut', 'loathsome', '*-37', 'phrase', 'Chong-sik', 'Freeport-McMoRan', 'Ranger', '1968', 'Ten', 'rights', 'Institutes', 'U.S.A.', 'Irving', 'Schlemmer', 'two-letter', 'microwave', 'posters', 'entertaining', 'owners', 'trivial', 'compassion', 'dumbfounded', 'Utah', 'setback', 'much-larger', 'energetic', 'Boesel', 'entrusted', 'Cincinnati', 'So', 'pins', 'scandals', 'holidays', 'industry-supported', 'distribution', 'Cristal', 'inhibit', 'unsecured', 'princely', '14.53', 'democracy', 'students', 'started', '960', 'abating', 'Stockholders', 'South', 'Illinois', 'Hermitage', 'Nev.', 'emerged', '46.1', 'stifle', 'augment', 'software', 'convenient', 'Antinori', 'community', 'wrecking', 'extremely', 'duckling', 'segmenting', 'vintages', '*T*-60', '1982', '1,298', 'Share', 'Raymond', 'born', 'asbestos', 'awaits', 'intrusion', 'privately', 'pit', '*T*-157', '120-a-share', '3.75', 'industrial', 'Your', 'exploit', 'gangs', 'lacked', 'prohibiting', 'cooperation', '847', 'specifics', 'enough', 'seeks', 'Frankfurt', 'publicity', 'Modifications', '*T*-149', 'pushing', 'witness', 'mix', 'still', 'trail', 'mind', '13.50', '*-53', 'Paris', 'Dallas', 'command', 'grade', 'enforcement', 'certificate', '*T*-54', 'farm', 'mentioned', 'scientist', '1,200', 'Hubbell', 'politicians', 'proved', 'Voters', 'tapping', '30,000', 'notch', 'jumping', 'finite', 'marketed', 'WHAS', 'observed', 'par', 'D.', 'Marie-Louise', 'Laurence', '3.8', 'Mac', 'withstand', 'exports', 'dealing', 'accidentally', '1983', 'Ore.', 'Arnold', 'bit', 'AIDS', 'logic', 'feels', 'sensitive', 'Lieberman', 'Watanabe', '7.20', 'back', 'wish', 'broader', '2,099', 'equity-purchase', 'succeeded', 'Helsinki', 'Lord', 'recovering', 'should', '3648.82', 'objectionable', 'striving', 'Patents', 'giving', 'investment-grade', 'ways', 'Totally', '*-39', 'inaccurate', 'unwanted', '*T*-41', 'buildup', 'one-third', 'insists', 'tendering', 'throws', 'concede', 'History', 'fasteners', 'oppose', 'Primerica', 'Darrell', 'TRS-80', 'cautioned', 'inverted', 'notably', 'attractions', 'collapsed', 'Linda', 'unreasonable', 'usually', 'gotten', 'remains', 'transferring', '5.1', 'acts', 'brokers', '*T*-120', 'Santa', 'breakdown', 'devices', 'seasonal', 'Pennsylvania', 'stringently', 'permission', 'Satrum', '*T*-20', 'tally', 'watchers', 'Lefcourt', 'trash', 'both', 'Committee', 'haul', 'paltry', 'anti-miscarriage', 'Rothschild', '2-3', 'keeping', 'mostly', 'bolstered', 'vineyard', 'tea', 'altogether', 'Herald-American', 'manages', 'play', '8.35', 'FOREIGN', 'championing', 'Every', 'double-C', 'gloss', 'tumbled', 'automatic', 'Dill', 'explain', 'investigations', 'data', 'debut', 'repeals', 'Hara', '8.467', '*T*-65', 'semiconductor', 'related', 'hero', 'journalists', 'Leap', '40-megabyte', 'magnified', 'Connections', 'versus', 'faith', '1934', 'limiting', 'customer', 'pains', '3.1', 'promote', 'dialogue', '66.5', 'railcars', '500,000', 'funding', 'Svenska', 'subordinate', 'multi-crystal', 'drop-off', '340,000', 'narrowly', '84-month', 'entrants', 'heated', 'fifth-largest', 'suppliers', 'efficiencies', 'Bugs', 'traditionalists', 'hither', '0', 'matched', '263.07', '14', 'arrows', 'deck', 'assigned', 'array', 'ruled', 'FALL', 'operation', 'iota', 'sweaty', 'product-design', 'element', 'resign', 'Intel', 'territory', 'takes', 'low', '5.5', 'marching', 'partial', 'pediatrician', '8.50', 'overproduction', 'Labor', 'lift', 'undercutting', 'leasing', 'sometimes-exhausting', 'cheating', '7.45', 'expunged', '1965', 'noncompetitively', 'Heiwado', 'strategy', 'Far', 'escape', 'Takashima', 'slated', '*T*-182', 'Eurobonds', 'angered', 'Sullivan', '*T*-224', 'Kuala', 'truce', 'felony', 'participants', 'renew', 'Norwegian', 'item', 'unrecognizable', 'Closes', '*T*-63', 'neighboring', 'respondents', 'mid-afternoon', 'Loan', 'prefectural', 'unrealized', 'trial', 'those', 'Drobnick', 'prospective', 'tension', '100,000', 'Psychiatry', 'Minneapolis', '102', 'gauges', 'herself', 'Yamaichi', 'botched', 'promises', 'plight', 'unjustified', 'historic', 'mininum-wage', 'billion', 'Indianapolis', '64.5', 'contingent', 'am', 'mortgage-backed', 'overpriced', 'jumps', 'hurdles', 'elite', 'standing', 'wisdom', 'hours', '*T*-19', '36-day', 'upstream', 'Television', 'avenge', 'aspects', 'DSM', 'An', 'constraints', 'nonetheless', 'needed', 'Cross', 'entertainment', 'guide', 'READY', 'communication', 'inefficiencies', 'maker', 'Ballantine\\\\/Del', 'auditor', 'simply', '113.2', 'roadblock', 'hole', '6.53', '*T*-223', 'evolve', 'Atlanta-based', 'popularly', 'foods', 'Neanderthals', 'knows', 'Hostess', 'father-in-law', 'caution', '54', 'Like', 'assets', 'discrepancies', 'Underwoods', '4.875', 'Persky', 'replicated', 'male', 'INGERSOLL-RAND', 'process', \"C'mon\", 'C$', 'modification', 'spouse', 'ancient', 'Family', 'deteriorated', 'publications', 'grown', 'rap', 'meaning', '*PPA*-2', 'extra', 'slash', 'uttering', 'megabytes', 'testify', 'Examiner', 'RBC', 'breaking', 'tumultuous', 'law', 'wedded', 'equities', 'preclinical', 'Fortune', 'Somerset', '25-year-old', 'Norwick', 'N.', 'swiftly', 'director', 'News', 'capsules', 'trimming', 'balloting', 'Artist', 'diagnosed', 'give', 'premises', 'U.S.-backed', 'coal-fired', 'trigger', 'resembles', 'Yesterday', '*T*-196', 'substantially', 'fiber-end', 'startling', 'Make', 'Alan', 'paycheck', 'Strategic', 'recorded', '8.60', 'copying', '...', 'F.', 'calculated', 'defendant', 'tubes', 'Bonnell', 'organized', 'Backseat', 'cater', 'Medical', '24,000', '1.8415', 'boutique', 'Products', 'engines', 'Coincident', 'Destinations', 'polarized', 'stemmed', '*T*-62', 'Mehrens', 'retractable', 'lay', 'Worksheets', 'paperback', 'fighting', 'Conn.', 'insurer', 'modify', 'Williams', 'wo', '*-128', '1987-88', 'sentiment', 'steps', 'searched', 'merger', 'boilers', 'contests', 'Kean', 'S.p.A.', 'Parent', 'handful', 'worship', 'reasons', 'import', 'fingers', 'sweeten', 'mesothelioma', 'advertorial', 'imposing', 'Huxtable', 'Frenzy', 'thing', 'addresses', 'Policies', 'move', 'Marshall', 'Getting', 'Terrace', 'diplomatic', 'petroleum', 'rare', 'decided', 'child', 'METALS', 'consideration', 'anticipates', 'found', 'magicians', 'altered', 'newspapers', 'creditor', 'Lezovich', 'renewed', '99.1', '126.1', 'permitting', 'parent', '6,799', 'explore', '*-71', \"'s\", 'successfully', 'Saul', 'pharmaceutical', 'establishing', 'specialize', 'wins', 'Tokyu', 'route', 'things', 'processors', 'Aerojet', '*T*-100', 'corrupt', '14.5', 'Texaco', 'Bermuda-based', 'fare', 'Indonesia', \"'S\", 'memorize', 'soared', 'executives', 'Civilization', 'warehouses', 'discontinuing', 'fully', 'Angelo', '*RNR*-2', 'gauging', '8.575', 'anecdotal', 'names', 'resigning', 'Old', 'retailers', 'plunging', 'companion', 'pact', 'ex-dividend', 'metals', 'statutory', 'limit', 'emasculate', 'implements', 'Says', 'departures', 'platinum', 'indefinitely', 'viewers', 'stirred', 'shall', '321,000', '*T*-25', 'board', 'longer', 'subsequent', 'adjusting', 'Duluth', 'Down', 'drastic', '220', 'gigantic', 'Truck', 'designed', 'familiarization', 'privacy', 'contractor', 'medium-sized', 'various', '49.9', 'treats', 'pension-fund', \"'80s\", 'whipsaw', 'resigned', 'scientific', 'Collector', 'pharmaceuticals', 'partner', 'payrolls', 'Gates-Warren', '*-81', 'Catholic', \"''\", 'Compare', 'see', '*-10', 'procedure', 'Joanne', '*-46', 'castle', 'Friends', 'enforce', 'hampered', 'jurisdictional', 'centimeter', 'profit-taking', 'weapons-modernization', 'Billings', 'Then', 'unjust', 'concerned', 'Fulton', 'Shelby', 'Thai', 'college-bowl', 'nomination', 'Bolivia', 'using', 'PRECIOUS', 'recommend', 'Chardonnays', 'fabled', '140', 'carbon', 'Olson', 'aims', 'Insight', 'tubular', 'stress', '76', 'deviant', 'murdered', '12.5', '50', 'Quant', 'though', 'semiconductors', 'impart', '*-160', 'safeguarding', 'campaign', 'Beach', 'made', 'Last', 'blue-chips', 'Club', 'Money', 'studio', '23,000', 'Volatility', 'mechanically', 'predictably', 'sharp', '0.0085', 'rear-seat', 'purchasers', 'preference', 'Black', 'earnings', 'Discos', 'inaccurately', 'industry', 'consultant', 'dissolves', 'gambler', 'one-day', '*T*-91', 'restricting', '*T*-113', 'Given', 'sitting', '*T*-97', 'drastically', '7.60', 'boosters', 'Republican', 'intervention', 'Express', 'Claire', '1.76', 'acquire', 'sued', 'seem', 'Phillip', 'investor', 'Lane', 'rounds', 'merged', 'McCabe', 'colored', 'aide', 'Sacramento-based', 'as', 'plant', 'narrowed', 'obstacles', 'sight', '877,663', '850', 'contributed', 'telephone', 'information-services', 'gradual', 'Intecknings', 'unmarked', 'wheel-loader', 'reading', 'Stronach', 'developed', 'intelligence', '1925', 'vital', 'recalling', 'Daniels', 'Assurance', 'Rockwell', 'provoke', 'minicrash', '501', 'post', 'Shepperd', 'smartly', 'scaring', 'Manhattan', 'Micronite', '9.32', 'sufficiency', 'Bowl', '100', 'multitude', 'Warsaw', 'break', 'expressing', '1.39', 'audit', 'return', 'Nippon', 'wine-making', '*T*-145', 'Further', 'fluctuation', 'thought', 'Foundation', 'housing', '8.1', 'constitute', 'card', 'take', 'record', 'shares', 'Michelin', 'Smith', 'killings', 'warns', 'direction', 'Samnick', 'indexers', 'sentencing', 'husband', '*T*-94', 'given', 'readership', 'tramp', 'article', '306', 'Blunt', 'Chaplin', 'fairness', '692', 'Hold', 'Los', '*T*-241', 'War', 'Diamond', 'Instead', 'Ad', 'locations', '3.04', 'Sigmund', '131.01', 'successful', 'transplant', 'Crown', 'negotiator', 'platitudes', 'Plantation', 'graphics', 'Skokie', 'review', 'rebels', 'SALARIES', 'bar', 'skin', 'stars', 'accident', 'pollution', 'Supreme', 'recorder', 'Ann', 'explosion', 'America', 'consider', 'Trump', 'motion', 'speeches', 'End', 'Faulding', 'quiet', 'Remember', 'Vacancies', 'blinks', 'Zurich', 'CoreStates', 'Norfolk', '4.1', 'PRODUCTS', '1787', 'Mississippi', 'faded', 'ban', '*T*-168', 'foundation', 'receivers', 'Wozniak', 'Title', 'marbles', 'insider', 'lent', 'Zayed', 'Gerald', 'Solihull', 'Excision', 'food-shop', 'Earle', 'piracy', 'E.C.', '7.8', 'Nobel', 'spirits', 'cost-benefit', 'Droz', 'bomb', 'an', 'courts', 'program-trading', 'elsewhere', 'plunged', 'Francisco-based', 'shrug', 'ISSUES', 'athletic', 'leveling', 'pretty', 'picked', 'flourish', 'turnover', 'acute', 'retaliating', 'cushioned', '99', 'evidence', 'Ailes', 'le', 'What', 'At', 'rooted', 'delay', 'show', 'year-to-year', 'Radio', 'importer', 'high-technology', '7.63', 'ensembles', 'bring', 'licensed', 'liquid-nitrogen', 'romanticized', 'slippery', 'showed', 'security', 'driving', '2.42', 'photos', 'PETS', 'Pierre', 'section', 'Columbia', 'Rice', 'tripled', 'remained', 'tend', 'mother', 'issued', 'M.D.', 'vacation', 'cigarette', 'air', 'Hugo', '7.88', 'grim', 'Hotel', 'Alurralde', 'buyers', '*RNR*-1', 'Fire', 'continuingly', 'Robert', 'ringers', 'cure', \"O'Connor\", '454', '*T*-242', 'fixes', 'BILLS', 'ongoing', 'ran', 'doubt', 'Fuji', 'West', 'Cos.', '*T*-141', 'rhythm', 'ensnarled', 'foldability', 'followed', 'heavy', 'Mont', 'injury', 'cartoonist', 'jitters', 'reducing', 'gaining', 'out', 'bygone', 'European', 'beforehand', 'subsidiary', 'portrayed', '14.43', '436.01', 'Comtes', 'guilty', 'proposition', '2.7', 'editorially', 'Deere', 'collective', 'managements', 'Missouri', 'unavailability', '*T*-228', 'Strait', '0.16', 'discretion', \"n't\", 'bless', 'Sanderoff', 'Democratic', 'believe', 'Dover', 'Koito', 'Countries', 'Rowe', '3.5', 'Bar', 'announced', 'tune', 'efforts', 'images', 'Pharaoh', 'tariff', '*T*-122', 'McGuigan', 'Mo.', 'Nelms', '13', 'Prices', 'sending', 'removed', 'asbestos-related', 'advertise', 'Dec.', 'area', 'opposed', 'push', 'enrollment', 'enormously', 'propose', 'PRIME', 'smooth', 'exercise', 'intertitles', '38.875', '374.19', 'roughly', 'functions', 'anticipation', 'Roederer', 'INS', 'contributions', 'accounts', '1990-91', 'competitive', 'suffer', '*T*-114', 'Perpetual', 'Opinion', 'As', '1998', 'essays', 'lobster', 'Cartoonist', 'implied', 'manufactured', '2.25', 'Pittsburgh', 'mortgage-based', 'coordinator', 'error', 'looked', 'Burnham', '*-142', 'Pentagon', 'Iran-Contra', 'Du', 'Cruise', 'declare', 'now', '0.9', 'thwart', 'bases', 'heading', 'pressing', 'McDonald', 'Tache', 'tapes', 'polyproplene', 'profits', 'acted', 'fiber', 'Demand', 'roll', 'injecting', 'Sasaki', 'addressing', 'bringing', 'proponents', '2.3', 'damaged', 'palace', 'Junk', 'seven', 'cards', 'Biedermann', 'relatively', 'professional', 'buttoned-down', 'teacher-cadet', 'Crane', 'riders', 'rusted', 'Warehouse', '*T*-142', 'INQUIRY', 'sluggishness', 'Nissho-Iwai', 'offices', 'Of', '*T*-33', '5.9', 'parishes', 'Mikhail', 'Index-arbitrage', 'therefore', '9.9', 'independent', 'bankers', 'Gold', 'right', 'Namibia', 'unfocused', 'creator', 'Airways', 'dropped', 'Goldsmith', 'ENERGY', 'warning', 'considers', 'Rubicam', 'Tiny', 'during', 'employees', '*T*-203', 'Glaxo', 'Christopher', '93,000', 'Stevenson', 'contradict', 'specify', 'doors', 'ultimatum', '*T*-222', 'modest', 'playgrounds', 'uncomfortable', '59', 'perceives', 'diaper', 'neighborhoods', 'liable', 'baby', 'enhanced', 'absolute', 'Anku', 'Ariail', '*T*-107', 'Prater', '12', 'Interpublic', 'expelled', 'Nagymaros', 'shareholder', '*-77', 'clouds', 'odd', 'screenwriters', 'fond', 'lyrics', 'postponed', '12-member', 'repair', 'barges', 'welfare', 'amount', 'harm', '4.4', 'Altair', 'steal', 'near-limit', 'Among', 'Australia', 'bankrupt', 'replicating', 'properties', 'unveiled', 'viewed', 'games', 'robotic', 'publisher', 'Donoghue', '*-60', '225.6', 'ended', '430', 'Fla.', 'Week', 'largest', 'expand', 'hidden', 'traced', 'broad-based', 'perspective', 'maximize', 'MORTGAGE', 'center', 'emphasis', 'Hurricane', 'wrists', 'difficult', 'Scotia', 'had', 'goblins', 'story', 'estimates', 'huge', 'silicone', 'razor-thin', 'awards', 'evoking', 'threat', 'Bangkok', 'mergers', 'Wednesday', 'prisoners', 'bidders', 'Reasons', 'prints', 'universally', 'women', 'CERTIFICATES', 'reopened', 're-thought', 'Candela', 'S.I.', 'reaffirmed', 'living', 'control', '70', 'powerhouse', 'administrative', 'accrued', 'Taking', 'restaurants', 'Bureau', '811.9', 'good-faith', 'Laboratories', 'initiating', '95.09', 'Skilled', 'Austria', 'detailed', 'bowed', '*T*-12', '5\\\\/8', 'Manila', 'single-handed', '1.26', 'sticking', '57', 'every', 'Stores', '1.25', 'unresolved', 'noted', 'Mario', 'researchers', 'insolvency', 'historically', 'telling', 'asks', 'displays', '*-42', 'Lawyers', 'innovative', 'prevent', '30', 'three-quarters', 'opinions', 'Judges', 'befell', 'generous', 'aspires', 'cyclical', 'argument', 'raring', 'Hutton', 'blood-cell', '370', 'grapple', 'called', 'Foster', 'half', 'Nature', 'incentives', 'detective-story', 'adult', '1.19', 'Otero', 'Jail', 'plastic', 'Holt', 'Owner', 'remain', 'square', 'bust', 'scholars', 'desperately', 'Biaggi', 'questioned', 'It', 'fumes', 'Form', 'findings', 'generators', 'leather', 'El', 'association', 'developing', 'practiced', '170,262', '1955', 'pushed', 'press', 'plaintiffs', 'disappointment', 'Atsushi', 'remodeling', 'fail', 'Jenkins', 'Harcourt', 'offend', 'American-made', 'oblivion', '*T*-95', '228', 'scrupulously', 'Dolphins', 'If', 'graduated', 'Arabia', 'ACCOUNT', '3.9', 'Hutchinson', 'time', 'barometer', 'phony', 'Crime', '11', 'Generally', '1\\\\/8', 'Papua-New', 'Syndicate', 'United', 'unknown', 'Beverly', '*ICH*-4', '*?*', 'ring', 'represent', '4.9', 'portrayal', '12-point', 'Clive', 'three-lawyer', 'intricate', 'Environment', 'automotive-parts', 'telegraph', 'Purchasing', 'Mutual', '2.2', 'Riyadh', 'non-callable', '*-129', 'merge', 'Velcro', 'savings-and-loan', 'growth', 'Jan.', 'table', 'April', 'harassment', 'Lonski', 'compiled', 'stare', 'Planters', 'debts', 'peal', 'such', 'receives', '0.54', 'sweater', 'creating', 'good', 'Wayland', 'patent', 'spend', '*-51', 'Engineers', 'attacking', 'financed', 'cue', 'per-share', 'hub', 'media', 'Peabody', 'policy-making', 'banks', 'worker', 'mirrors', 'recyclable', 'do', 'gifts', 'necessarily', '1.4', 'Sulaiman', '*-44', '8.2', 'shipping', 'firmly', 'co-founded', 'Retin-A', 'commercial', 'muffled', 'Stoll', 'pre-approved', 'Nov.', 'failing', 'spackle', 'minimum-wage', 'reason', 'proprietor', '*T*-236', 'Friedrichs', 'eventually', 'cost', 'buoyed', '2,050-passenger', 'owning', 'capability', 'prescribe', 'January', 'simple', 'Economy', 'negotiating', 'come', 'ship', 'Lighthouse', 'Sacramento', 'flow', 'diversionary', 'studied', 'foreign-led', 'web', 'touch', 'watchdogs', 'employed', 'expressed', 'capitalize', 'Byron', 'dressed', 'readings', 'nonfinancial', 'crack', 'safe', 'recover', 'Mead', 'events', 'Investment', 'attempts', 'bottle', 'traditionally', 'condition', 'Parents', 'equal-opportunity', '618.1', 'Cosby', 'campaigning', 'Nebraska', 'Lovett', 'falsify', 'appease', 'drive', '372.9', 'tutorials', 'continued', 'classical', 'punitive', 'Joe', 'snapped', 'subscriber', 'omitted', 'incident', '1986-87', 'FT-SE', 'ENDED', 'occurs', 'employers', '1.18', '5.57', 'H.', 'Russell', 'largely', 'tall', 'Longer', 'follows', 'Houston', 'Chafic', 'Professors', 'LYNCH', 'natural-gas', 'greedy', 'Nevertheless', 'tie-breaking', '4.8', 'guests', 'Defending', 'delete', 'kind', 'besuboru', 'Toys', 'livestock', 'liquidated', 'Edison', 'None', 'enjoyed', '3.2', 'execs', '17.5', 'odd-sounding', 'Citibank', '149', 'Lambert', 'appetite', '120,000', 'secede', 'Makato', 'August', 'meals', 'hunker', 'baskets', 'nutty', 'supplies', 'surrendered', 'shoot', 'meet', 'profession', 'setting', '2141.7', 'pending', 'franc', 'Railroad', 'timing', 'big', 'everyone', '*T*-2', 'middle', 'lobbies', 'conversion', 'Marion', '62.5', 'Legislating', 'Scott', 'outrageous', '361.8', 'Linden', 'package', 'sheepskin', 'clothing', 'usual', 'just', 'nonexecutive', 'public-relations', 'resume', 'starts', 'slipped', 'computer', 'A.', 'mean', 'Declining', 'rapprochement', 'auctioned', 'Mayland', 'reinstatement', 'apple', 'Donuts', 'reciting', 'deliberating', 'Coconut', 'Anne', 'corporate-wide', 'compares', 'newcomer', 'entirely', 'Scholastic', 'Basham', 'whirling', 'reflected', 'terminated', 'consistent', 'cycle', 'Fails', 'oust', 'government-owned', 'microcomputers', 'waterworks', 'upside', 'Cellar', 'taking', 'Wilson', 'ministry', 'opinion', 'Guinea', 'Goodman', 'Chiodo', 'Affairs', 'run', 'utterly', 'lending', 'spark', 'duties', 'information', 'Suisse', '0.1', 'two-year', 'Tom', 'focus', '5.8', 'ethical', '3.20', 'fragile', 'factory', '85.1', 'ethanol', 'Gates', '778', 'counteract', '*-26', 'ever', 'adopted', 'areas', '*T*-256', 'Funded', 'hid', 'hitter', 'MacLellan', 'Community', 'assisted', 'kit', 'visit', 'export-oriented', 'covers', 'Danforth', 'pricing', 'contains', 'unexpected', 'red', 'VanSant', 'pain', 'where', 'referrals', 'Gasoline', 'inferences', 'bout', 'notified', 'supreme', 'Electronics', 'conditional', 'lab', 'Pakistan', 'signed', 'Toronto-based', '11th', 'worrying', 'on', 'Boeing', 'anticipating', 'Revenue', 'remove', 'tenfold', 'characters', 'cites', 'standpoint', 'resumption', 'black', 'supporters', 'blood', 'necklace', 'Profit', 'say', 'sometimes', 'circulated', 'trimmed', 'voluntarily', 'thunder', 'search-and-seizure', 'US', 'confuse', 'staunchly', 'Their', 'first', 'stellar', '*T*-40', 'hair', 'When', 'conspicuous', 'taxable', 'reinvestment', 'insist', 'studiously', 'beginning', 'extend', 'owned', 'increase', 'embroiled', 'YWCA', 'anti-dumping', 'instructed', 'advice', 'principle', 'Wilton', 'restructure', '*T*-200', '*T*-162', 'introduced', 'Hazell', 'comfortable', 'precious', 'listing', 'rise', 'significance', 'led', 'sue', 'Paribas', 'honor', 'track', 'current', 'China', 'Chivas', 'firmed', 'round', 'insidious', '46', 'Producers', 'pricings', 'Parliament', 'default', 'climate', 'ceramic', 'sums', 'modern-day', 'than', 'hypocrisy', '*T*-104', 'Rill', '14.99', 'Sydney', 'Spiegel', 'garden-variety', 'Fields', 'arrival', 'payable', 'Jaffray', 'per', 'St.', 'blue-chip', 'Robbie', 'split', 'declining', 'columns', 'superimposed', '51.6', 'Rail', 'lost', 'clean-air', 'Clinton', 'excellence', 'cells', '2,500', 'B-1B', 'Lilly', '60,000', 'fixed-price', 'meal', 'driver', '326', 'state-owned', 'NBC', 'got', 'officially', 'Constitutional', 'operating', 'overcome', 'Inc.', 'rider', 'serial', 'afford', '154.2', 'composed', 'quitting', 'poignant', 'departure', 'shops', 'science', 'insert', 'attend', 'provisions', 'decide', 'Maughan', '*-132', 'guilders', 'skirmishes', 'Latin', 'Groton', 'empire', 'Spitler', 'la', 'Gottlieb', 'own', 'beleaguered', 'warming', 'Heatherington', 'crossing', 'crapshoot', 'Level', '133', '6.44', 'stigma', 'matter', 'Dreyfus', 'lawsuit', 'Elizabeth', 'Judie', 'rapid', 'For', '35', 'load', 'O.', 'stereo', '50.38', '*T*-69', 'Petroleum', 'cousins', 'attention', 'Italian', 'intent', 'income', 'classifications', 'battered', 'saying', 'file', 'comfortably', 'authors', 'raise', 'acquisition', 'winner', 'ordering', 'sales', 'aghast', 'telecommunications', 'upsetting', 'winners', 'Colo.', '1933', 'launch', 'partially', 'treat', 'Candlestick', 'ascribe', 'pools', '*T*-213', '142.84', 'pass', 'Hudson', 'equipment', '120', 'directly', 'suffered', 'twist', 'midsized', 'glory', 'status', 'parallels', 'retard', 'Agriculture', 'sum', 'bright', 'reclaim', 'Minneapolis-based', 'intention', '*T*-191', 'skills', 'weeks', 'Dolan', 'war-damaged', 'bold', 'fixed-rate', 'solicitor', 'persons', 'Hanover', 'ventures', '*-106', '600,000', 'upper', 'Harry', 'parts', 'strain', 'tete-a-tete', 'public', '*T*-134', 'wrongdoing', 'submit', 'Corporate', 'contributing', 'soliciting', 'Piper', 'Ga.', 'Silver', 'old-fashioned', 'delivery', 'third-quarter', 'momentary', 'BALLOT', '1917', 'maze', 'author', 'AGREES', 'leases', '2019', 'Capitol', 'Giant', 'Chandler', 'shirt-sleeved', 'redeploy', 'Trading', 'above-market', 'ultimately', 'maximum', 'Treble', 'high-tech', '127.03', 'likelihood', 'outcry', 'walking', 'Reagan-Bush', 'dreamed', 'Guarantee', 'old-time', 'mark', '19', '1.56', 'S&P', 'head', 'Heights', 'Takeshi', 'plenty', 'miners', 'backlogs', 'loved', 'signboards', '0.4', 'rate-sensitive', 'tallies', 'my', 'Honduras', 'Bonds', 'peals', 'forest-products', 'vary', 'built', 'Petersburg', 'Douglas', 'Standing', '400', 'too', 'accounting', 'carefree', 'mood', '28.5', 'empowers', 'Baldwin', 'attack', 'Customers', 'disconnect', 'following', 'older', 'American-style', 'they', 'Legg', '19.95', 'deducting', 'loans', 'anti-program', 'computer-driven', 'crocidolite', 'Rozell', 'client', '388', 'indicated', 'Derel', 'peak', 'Dom', 'hustlers', 'payments', 'repeatedly', 'initialing', 'Miami', 'convinced', 'Enzor', 'erasures', '271-147', 'Tiphook', '*-136', 'argued', '80', 'succeeds', 'Randolph', 'suing', 'between', 'Gayle', 'criticized', 'ward', 'deluxe', 'fuller', 'ties', 'temperature', '456.64', 'Fund', 'Moreover', 'blurred', 'tailoring', 'hope', 'Coche-Dury', 'justifying', 'Carter', 'ends', 'wonder', 'Funny', 'francs', 'cancer', 'spectacularly', 'proving', '62.625', '1928-33', 'chosen', 'Jersey', 'down', 'execute', 'TROUBLES', 'hegemony', '13.1', 'band-wagon', 'please', 'Sundays', 'company', 'Norwalk', 'competes', '2.4', 'Roosevelt', 'helped', 'dirtiest', 'advocate', '2.35', 'depends', 'By', 'Louisville', 'agreed', 'diversification', 'begin', 'Akio', 'triple', 'harms', 'lower', 'Hill', 'charm', 'candidate', 'Municipal', 'ugly', 'Argentine', 'Send', 'learn', 'Consider', 'assertion', 'brand', 'explosive', 'Greenwich', 'Two', 'trader', 'rechargeable', 'truth-in-lending', 'homosexual', 'direct-investment', 'targets', 'Nomenklatura', '*T*-180', 'known', 'Skills', 'Pepperidge', 'Prof', 'wasted', 'Elsewhere', 'COMPUTERS', 'Corps', 'Don', 'agreement', 'Banque', 'rigged', 'Freud', 'Arbitraging', 'melt-textured', 'implication', 'well-connected', 'either', '372.14', '*-162', 'alternative', 'Kane', 'loses', 'Later', 'Thrall', 'Separately', 'faltered', '89.9', 'Providence', 'economists', 'honors', '12.09', 'jostle', 'Shugart', '*T*-84', 'Explorer', 'GM', 'waste', 'balked', 'increasing', 'versions', 'inquiries', 'Elisa', '7.79', 'fluctuations', '3', 'aim', 'discordant', 'insistence', 'history', 'tad', 'Dai-Ichi', 'councils', 'low-altitude', 'pilots', 'joys', 'kids', 'desirable', 'preface', 'Rosenblum', 'acquires', 'Ward', 'lifes', 'Rick', 'breakfast', 'capture', 'did', '*-3', 'afraid', 'intend', 'insanity', 'Mrs', 'bench', 'string', 'photographic', 'chance', 'kidnapper', 'third', 'Left', 'charged', 'Prof.', 'Kansas', 'Barnett', '*-55', 'co-chairman', 'flooded', 'Care', 'added', 'Rabia', 'portions', '*T*-246', '58', 'Bowes', '*-159', 'argue', 'prevalance', 'replete', 'goodies', '292.32', 'tie-in', 'DiLoreto', '8.25', 'Integra-A', '*-96', '2.50', 'retardation', 'water-authority', 'rather', 'cash', 'reductions', 'tag', 'depending', 'wizards', 'bribing', 'DISCOUNT', 'Payouts', 'dismiss', 'turns', 'published', 'deplorable', 'operational', 'Unicorp', 'minutes', 'Tenn.', 'million', 'Nikkei', 'stopped', 'two-tiered', '26.8', 'came', 'Though', 'informally', 'over', 'Judiciary', 'TO', 'editorial', 'Jovanovich', 'balkanized', 'punishment', 'drift', 'devouring', 'Fears', 'operated', 'Test', 'Urban', 'competitor', 'initial', 'Barbaresco', 'motive', 'chaos', 'parties', 'seek', 'One', 'shivers', 'Communications', 'television', 'monster', 'passbook', '1.8', 'administer', 'six-bottle', 'Vose', '0.3', 'corporation', 'financial-services', 'Moleculon', 'included', '12,252', 'Mayor', 'slump', 'pianist-comedian', 'clean-up', 'W.D.', 'institution', 'judge', 'manufacture', 'abortionist', 'December', 'accordance', 'eliminates', 'Chinese', 'headcount-control', 'holiday', 'Whether', 'donor', 'respect', 'thousands', 'Deposits-a', '0.99', 'CDC', 'post-hearing', 'home', 'LaSalle', 'side', 'Garanti', 'Syracuse', 'farms', '10', 'Rubber', 'school-district', '2,410', 'joint-venture', 'enlarged', 'against', '339', 'gripping', 'Under', 'carried', 'know', 'attorney-client', '57.50', 'magazine', 'billions', 'Confederation', '240-page', 'action', 'leaves', 'devastating', 'sorts', 'systems', 'creditors', '1:30', 'Outside', 'protected', 'Along', 'basic', 'socialism', '4,645', 'Susan', 'p.m.', 'antitrust-law', 'quite', 'bills', 'Princeton', 'vow', 'wooing', 'its', 'participated', '630.9', 'IT', 'Small', 'Georgetown', 'knight', '38.3', 'incest', '*T*-43', 'off-year', 'texts', 'Nelson', 'Voice', 'flat', 'retailer', '1.17', 'p.m', 'defines', 'student-test', 'flightiness', 'Hadson', 'weather', '*T*-3', '19.50', 'club', 'soon', '126,000', 'disappears', 'attempt', 'homework', 'latest', 'architect', 'Shorter', 'fainting', 'two-week', 'fashioned', 'suitors', 'mobster', 'quarterly', 'networks', 'wanting', 'day-to-day', 'Unitholders', 'tentatively', 'averted', 'ought', 'proven', 'Richard', 'assertions', 'achievement-test', 'final', 'bearish', 'tags', 'Telegraph', 'prejudice', 'expenses', 'economist', '*-137', 'bombers', 'Professional', 'granting', 'Paramount', 'Marder', 'flatulent', \"O'Neill\", 'glitches', 'barrel', '34.625', 'crude', 'Mass.', 'canine', 'indirect', 'ounces', '68', 'introduce', 'highest', 'sources', 'praised', 'interviewed', 'cease-fire', 'bread', 'container', 'emissions', 'stoked', 'rings', 'asserted', '119', 'Germany-based', 'Anderson', '210', '250,000', 'Upjohn', 'stark', 'breaker', 'Such', 'Internatonal', 'care', '237-seat', 'surely', '*T*-187', 'attorney', '*-22', 'opportunity', 'address', 'join', 'trim', 'outright', 'Walkman', 'auspices', 'Nine', 'dominating', 'obviously', 'penalties', '93.9', '70.7', 'fits', 'Hollis', 'erode', 'Farren', 'friction', 'aftermath', 'Analysts', 'miles', 'exhibited', 'school-sponsored', 'doubted', 'two-time-losers', 'APPEARS', 'S.', 'Convention', 'levels', 'accusing', 'no-confidence', 'range', 'arguments', 'pickers', '*T*-133', 'gross', 'radio', 'shrinking', '*T*-255', 'undesirable', 'compelling', '90', 'combined', 'discovered', 'sought', 'Asians', '1,500', 'himself', 'each', '*T*-36', 'likeness', 'wholesale', 'Kearny', 'shipments', 'financings', 'beer', '*T*-119', 'sort', 'taxpayers', 'toast', 'peaked', '31-year-old', 'water', 'About', 'substitute', 'capitalist', 'shut', 'Bowery', 'Dorothy', '*T*-92', 'Biondi-Santi', 'be', 'Connecticut', 'Drew', 'secretary', 're-election', 'manner', 'pursuant', 'fetching', 'money-market', 'assessed', 'scrutinizing', '*T*-70', 'Wamre', 'individual', 'Piero', 'Tribe', 'countless', 'shoulder', 'Credit', 'Mr.', 'Milwaukee', 'enviable', 'Rubinfien', 'leveraged', 'Individuals', 'Theodore', 'playing', 'stuck', 'bass', 'percentage', 'diminished', 'Jenrette', '2.46', 'purchasing', 'options', 'districts', 'GOODY', 'yes', 'indeed', 'cotton', 'difficulty', 'values', 'binge', 'steeper', 'exists', 'NCR', 'rate', 'particular', 'occasionally', 'happening', 'occurred', 'crowd', 'issues', 'casino', 'notable', 'Trust', 'Marchand', 'lawyers', 'Mason', 'accused', 'tree', 'nearly-30', 'ritual', 'minivans', 'low-ability', 'numeral', 'Numerous', 'wine-buying', 'Carrier', 'spook', 'Literacy', '2.65', 'fight', 'freshman', \"'40s\", 'deprived', 'reallocate', 'renewing', 'Wolf', 'reversal', 'copper-rich', '*T*-112', 'friends', 'affect', 'FBI', 'actions', 'improbable', 'lease', 'regenerate', 'downfall', 'salaries', 'Judge', 'durable-goods', 'price-depressing', 'Rather', 'structure', 'Regulatory', 'positive', 'Commerce', 'peculiarities', 'Little', 'octogenarians', 'invite', 'non-religious', 'examine', 'underpin', 'activities', 'PC', '250', 'Western', 'McFarlan', '*-52', 'clippings', 'road', 'spread', 'chief', 'American', 'anti-morning-sickness', 'Eaton', 'anticipated', 'London-based', 'engineering', 'exchange', 'Correll', 'subject', 'undercut', 'Fannie', 'Moody', 'policy', 'PAP', 'unwind', 'U.S.A', 'stated', '666', 'Fe', 'clarified', 'carry', 'cups', 'Dakota', 'Excluding', '85.7', 'video-viewing', 'committee', 'guerrillas', 'electric', '*-75', '8', 'virtue', 'diversified', 'Freddie', 'additions', 'gave', 'uncompensated', 'Eakle', 'initiate', 'eight', 'stands', 'Kent', 'Court', 'happier', '1', 'stand', 'FERC', 'belfry', 'continuing', 'inverse', 'petulant', 'preliminary', 'movies', 'cluster', '422.5', 'denies', 'needs', 'provision', '7.74', 'buying', 'hard-drinking', 'UBS', 'Senate-House', '2.30', 'baseball', 'collected', '*-164', 'employs', 'morphogenetic', 'formed', '2.9', 'requiring', 'knocked', 'internal', 'Africa', 'hypothetical', 'notes', 'choosing', 'stereotyped', 'Even', 'Roger', 'Cougar', 'winter', 'inner-city', 'processing', 'fired', 'flux', 'recyclability', 'understands', 'Pretty', 'Putty', 'recommendations', '7.95', 'sewing-machine', 'Jihad', 'violate', 'needing', 'chauffeur', 'replicate', 'ceiling', 'theological', 'membership', 'showings', 'Moving', 'plainclothes', 'Possible', 'desired', 'game', 'Mitsubishi', 'CIA', 'disapproval', 'aces', '1979', 'adjustments', 'Ringing', 'performance', 'Boston', '3-4', 'THE', 'films', 'broaden', 'Christmas', 'Salomon', 'Hampshire', 'cities', 'Goode', '8.04', 'continuously', 'vested', 'visible', 'A-D', 'five-point', 'watch', 'indicators', 'Daniel', '566.54', 'declared', 'noticing', 'Vargas', '1.49', 'November', 'write', 'Tassinari', 'associate', 'arbs', 'instances', 'begins', 'N.V.', 'competitions', 'cuvees', 'slowdown', '6.1', '11.5', 'integrity', 'dolls', 'teachers', 'harshly', 'built-from-kit', 'contracted', 'Prebon', '121.6', 'walkout', 'personnel', 'claiming', 'Church', 'fundraising', '*-41', '28.4', 'ballots', 'Soho', 'editions', 'more', 'tender', 'sphere', 'severe', 'Chinchon', 'Asia', 'zinc', 'Arbitrage', 'DEFENSE', 'declined', 'election', 'bags', 'originally', 'confrontational', 'Center', 'imports', 'branch', '*T*-80', '2029', 'downgraded', '72', 'application', 'Nielsen', 'electricity', 'slack', 'July', 'front', 'congressman', 'pound', 'unfettered', 'Kensington', 'June', 'middle-ground', 'life-of-contract', 'short-lived', 'sparking', 'trees', 'paper', 'frenzy', 'Place', 'spokesman', 'welcome', 'half-hour', 'Piscataway', 'competitors', 'Most', 'Disputado', 'curbed', 'unhappy', 'craze', 'north', '8.30', 'polyester', '35564.43', 'gyrations', 'Nearby', 'Root', 'Shell', 'advocated', 'Lure', 'causing', '*T*-132', 'page-one', 'Speedway', 'mistakenly', 'Boulder', 'Rusty', 'weaker', 'dead', '*-84', 'costly', 'ordered', 'explanatory', 'carillons', 'quips', 'conversations', 'disclosure', 'Morrell', 'Jalaalwalikraam', 'identities', 'acid', 'rose', 'Rey', 'retaining', 'cycles', 'finally', 'alarmed', 'Perritt', 'Stadium', 'rumored', 'Because', 'currency', 'befuddled', 'distributable', 'Menem', 'Institutions', 'adds', 'altar', 'abuse', 'Shapiro', 'lights', 'sparing', 'restriction', 'adequately', '&', 'Sebastian', 'shareholders', 'coupon', '450', 'potentially', 'Wickliffe', 'Maryland', 'Newgate', 'being', 'tires', 'management', 'poverty', 'nuclear', '1.9', 'Canadian', 'architectural', '*T*-71', 'reap', 'Scypher', 'People', 'total', '*T*-73', 'downgrading', '*ICH*-1', 'midrange', '*-50', 'early', 'mulling', '*T*-179', 'floating-rate', 'measured', 'Wood', 'college', 'decisions', 'today', 'Senior', 'grant', 'POTABLES', 'comfort', 'Wertheim', 'tracking', 'pills', 'Appropriations', 'unfilled', 'enclosed', 'youngsters', 'prescient', 'senior', 'predicts', 'transition', '177', 'copper', '*-104', 'qualify', 'announcement', 'private', 'parlors', 'outpaced', 'Adds', 'termed', 'sit', 'circuit', 'rises', 'regarding', 'bankruptcy-law', 'outstrips', '3,250,000', 'Texas-based', 'gyrate', 'publicized', 'Nationale', 'minted', 'eating', 'rendering', 'Hayne', 'reopen', 'smoothly', 'Video', 'Mutchin', 'interested', 'market-makers', 'represents', 'leadership', 'veal', 'milk', 'studies', 'debate', 'switch', 'Always', 'obedient', 'banking', 'Finance', 'Fargo', 'Islamic', 'eighth', '*-98', 'position', '1999', 'complain', 'ads', 'patents', 'copy', 'unofficial', 'scammers', 'outlawed', 'Items', 'Xiaoping', 'William', 'free-enterprise', 'Intermediate', 'short', 'protecting', 'Nations', 'however', 'creditworthiness', 'foul', 'analyze', 'after', 'preparatives', 'Mich.-based', 'Walt', '93.3', 'No.', 'secret', 'mushy', 'Continental', 'designer', 'deserve', 'therapy', 'fate', 'everything', 'newsstands', '2.07', 'procedures', 'remaining', '107.03', 'formerly', 'Its', 'Manufacturers', 'province', 'brief', 'future', 'worked', 'Mara', 'capped', '7.272', 'open', 'Currently', 'Education', 'Edge', 'strongest', 'series', 'Wellcome', 'infectious', 'introduction', 'car-development', 'equity', 'acknowledge', 'airline-related', '6,500', 'securities', 'anti-abortion', 'Powers', 'license', 'borrowings', 'BRIEFS', 'sigh', 'L.', 'second', '*T*-219', 'Wayne', '1950s', 'objective', 'Assuming', '913', 'George', 'Polls', 'organization', 'laying', 'thrift', 'demonstrates', '128', 'geography', 'high', 'bid', 'seats', 'liberals', 'judiciary', 'asking', 'Atlantic', '8.48', 'lapses', 'Tulane', 'Pick', 'expectations', 'Too', 'Brunello', 'Academically', 'placement', 'speak', 'Dompierre', 'tremendous', '917', 'Peters', 'require', '*T*-17', 'worsening', 'introducing', 'Century', 'peaceful', 'environment', 'trillion', 'Despite', 'destination', '17.3', 'fabricator', 'worst-case', 'lunch', 'contrast', 'aerospace', 'Irvine', 'Campaign', 'Cancer', 'expanded', 'mortgages', 'special', 'premiums', 'powerful', '*-33', 'scrounge', 'Story', 'Barbara', 'external', 'Peninsula', 'consistently', 'rapidly', 'Another', '494.50', 'Solomonic', 'Baton', 'busloads', 'Steel', 'beneficial', 'protests', 'beat', 'shown', 'responsive', 'proteins', 'ancestry', 'SEC', '500,004', 'Composite', 'apiece', 'dominant', 'behemoth', 'unable', 'widespread', 'library', '*T*-31', 'Lowe', 'contracts', '13,056', 'mignon', 'Temple', 'interventions', 'transforming', 'Spence', 'floated', 'wealthy', 'complexes', 'cry', 'custom', 'churches', 'Erbamont', 'spenders', 'PS', 'turf', 'creature', 'swapping', 'day-care', 'Partners', '118', 'newer', 'occupying', 'Salty', 'Needham', 'seventh', 'crystal-lattice', 'tows', 'labels', 'elusive', '59-year-old', 'approve', 'assembly', 'N.H.', 'Iran\\\\/Contra', 'dramatically', 'Founded', 'doctrine', 'guild', 'lead', 'reflection', 'His', 'clearance', 'editing', 'Eastern', 'concession', 'Harris', '352.7', 'amass', 'retorts', 'losing', 'Blanchard', 'Marc', 'doubled', 'high-rise', 'question', 'fewer', 'blackjack', '7.55', 'pill', 'into', 'Goldman', 'surviving', '3057', 'Reagan', 'never', 'declaration', 'Macmillan', '195', '115', 'advised', 'crops', 'correct', 'frustrating', 'charge', 'notice', 'physics', 'awarded', '2.47', 'insisted', 'era', 'operate', 'Bew', '1973-75', 'send', 'self-esteem', '2,700', 'filled', '*-89', '15-day', 'senate', 'Marty', 'precise', 'diplomacy', 'Stewart', 'etc.', 'yielding', 'proceeds', 'point', 'INTERPUBLIC', 'Hoosier', 'Nagano', 'arbitrager', 'hard-hitting', 'pockets', 'distorted', 'stadium', 'streets', 'withdrawal', 'sensation', '23', 'red-and-white', '14\\\\/32', 'brought', 'slaying', 'mounted', 'Aerospace', 'tigers', 'evaporated', 'Pamela', '*T*-28', 'reshaping', 'THAT', 'clean', 'heartland', 'Whip', 'Carl', '*T*-116', '9.75', 'Interleukin-3', 'skyrocketed', 'bang', 'notion', 'Dorrance', 'benchmark', 'bars', 'football', 'disparate', '6.9', 'Trade', 'warrant', 'refunds', 'one-yen', 'responds', 'waif', 'assistant', 'significantly', 'expansion', 'year-end', 'consensus', 'Frank', 'Asian', 'philosophy', 'occurrences', '3.3', 'bunches', '*T*-29', 'unsympathetic', 'growers', '550,000', 'done', 'factor', 'ordinary', 'spurring', 'insiders', 'ABA', 'devoted', 'Appeals', 'preparation', '85', 'unethical', 'cocoa', 'Neal', 'transactions', 'is', 'stage', 'sponsors', 'dancing', 'sector', 'closeness', 'sanctions', '*-111', 'academics', 'Mike', 'London', '331,000', 'weakness', 'Programs', 'smallest', 'Equivalents', 'Bodner', 'sew', 'Actually', '*T*-251', 'yesterday', 'homelessness', 'harmed', 'deliver', 'worksheets', 'unabated', 'Lumpur', 'Wa', '8.45', 'simultaneously', 'Lauderhill', 'Bridgestone\\\\/Firestone', 'allocated', 'hoped', 'violations', 'framers', 'Steven', 'Circuit', 'landfills', 'boom', 'curly', 'booked', 'Thomas', 'retires', 'effects', 'dismissed', 'burden', 'generate', 'tooth', 'jeweler', 'excessive', 'PORTING', '11.57', 'structures', '3.7', 'NIH', 'Short', 'votes', 'stable', 'Motors', 'self', 'having', 'acquirers', 'B.A.T', '2.6', 'slower', 'rout', 'ballplayers', 'Ginsberg', 'exceeded', '449.04', 'could', 'normally', 'cumbersome', 'Glass', 'thumbing', '9.625', 'publication', 'multiplying', 'boys', '8.15', 'lieu', '16.9', 'pro-choice', 'popular', 'Representative', 'profitable', 'GROWTH', 'unwashed', 'reservations', 'financing', 'fawning', '*-62', 'throughout', 'biggest', 'frequency', 'garbage', 'signing', 'Huntington', '*T*-146', 'extent', '26,956', 'outraged', 'Continued', 'construed', 'Jacobs', 'registered', 'performers', 'Wedtech', 'Stadiums', '387.8', 'promotional', 'forces', '*T*-154', 'revival', 'McAuley', 'smothering', 'fancy', '1992', '1.75', 'Simmons', 'crashing', '64', 'cost-sharing', 'obligated', 'Orleans', 'Inouye', 'Traded', 'anemic', 'theme', 'LTV', 'Ports', 'funded', 'Assets', 'drawn', 'Above', 'Baim', 'combination', 'entered', 'awarding', 'Philadelphia', 'ropes', 'disaffected', 'Pitney', 'slowdowns', '*-23', 'wines', 'Berger', 'Wall', 'novel', 'February', 'eliminating', '1991-1999', 'injuries', 'Blackstone', 'Trockenbeerenauslesen', 'perpetual', 'Mexico', 'covering', 'extended', 'possess', 'putting', 'Kendrick', 'fiber-optic', 'Ruth', 'squeezed', '1988', 'currencies', 'disciplined', 'escaped', 'Abbot', 'phasing', 'Jacksonville', 'sheep', 'significant', 'theory', 'exporters', 'US$', 'overpaying', 'prominent', 'biannual', 'shot', '1.5755', 'otherwise', 'march', 'State', 'Not', 'who', 'index-options', 'meant', 'institute', 'dismissal', 'stiffer', '16', 'bled', 'reform', 'technique', '*-38', 'leading', 'speaks', 'TRUST', 'approaches', 'stockbroker', 'Class', 'exist', 'marketers', 'Spending', 'Siti', 'Houghton', 'Keehn', 'Enterprise', 'vertically', 'woman', '7\\\\/8', 'chocolate', 'Seniors', 'chilled', 'punishable', 'Carolina', 'Iowa', 'Philippines', '38', 'reluctant', 'merchandising', 'guarantee', '1.5805', 'this', 'citing', 'enables', 'This', 'discredit', 'Lizhi', 'foreign', 'speed', 'Productions', 'everybody', 'codified', 'Apple', 'Consequence', 'gas', 'plugged', 'Tailors', 'suggests', 'inflation', 'angry', 'Fees', 'cash-flow', 'cancer-causing', 'service', 'Moines', 'cost-cutting', 'eases', 'chairs', 'respected', 'Long-term', '1.01', 'EXCHANGE', 'overdone', 'orders', 'provides', 'Porter', 'rifles', 'asbestosis', 'refunding', 'Kawasaki', 'distributed', 'lenders', 'support', '*T*-239', 'businesses', 'Jon', 'prospects', 'ton', 'effect', 'phobias', 'one-week', 'editor', 'Ellis', 'distinct', 'hauled', 'nominal', 'Rexinger', 'nonrecurring', 'annually', 'reorganized', 'wants', 'Named', 'Curry', '14-hour', 'assume', 'study', 'syndicate', 'obvious', 'especially', 'SCI', 'investing', 'tidbits', 'earns', '236.79', 'tabloid', 'Debt', 'evaluation', 'Robertson', 'jam', 'index-fund', 'Media', 'Shuxian', 'He', 'picture', 'Haruki', 'fetal-tissue', 'catch', 'NASD', 'tidily', 'district', 'longest', 'Areas', '458', 'sympathetic', '5.29', 'Saints', 'upward', 'ASSOCIATION', '89', 'making', 'Wash.', 'deterring', 'Basic', 'dawn', 'Safety', 'tire', 'discounts', '374.20', 'prefer', 'Evans', '1,000', 'multiples', 'region', 'fixtures', 'frozen', 'strains', 'find', 'Fremantle', 'character', '116.3', '92', 'firm', 'EURODOLLARS', 'ushered', 'Filter', 'Mexican', 'independence', '*PPA*-3', 'counterrevolutionary', 'bellwether', '227', 'examined', 'walls', 'aides', 'high-priced', 'dances', 'incorporated', '*T*-204', 'disagreeable', 'large-scale', '1.28', 'deeds', 'health', 'trends', 'markup', 'divisions', 'Facilities', 'Sidewalk', 'Takeover', 'Diaper', 'laws', 'vote', 'Ms.', 'shop', 'self-aggrandizing', '10-year', 'morbidity', 'Sometimes', 'bothered', 'memory', 'restraints', 'COMMUNICATIONS', '*T*-139', 'war', 'when', 'shareholder-rights', 'something', 'prostitute', 'low-tech', 'corn-buying', '1.55', '11\\\\/16', 'reformers', 'moved', 'clients', 'jugglers', '*-17', 'high-minded', 'heads', 'fought', 'incurred', 'softening', '116.9', '9,118', 'Sterling', 'Power', 'death', 'prove', 'Haney', 'Kong', 'mining', 'Indexing', 'Steinberg', 'officer', 'screened', 'luck', 'hardest-hit', '*-28', 'heavy-duty', 'bottom', 'Laura', 'First', 'targeting', 'principal', 'arbitrage', 'Klauser', 'continues', '28.36', '64-year-old', 'CAT', 'EC', 'manmade-fiber', '75', 'providing', 'Bromwich', 'Olympia', 'Camilli', 'underperforming', 'Contel', 'broken', 'Vermont', 'lowering', 'treating', 'Gerard', 'suspension', 'Services', 'taxes', 'fatalities', 'lover', 'projector', 'Cambridge', 'fall', '350', '*T*-7', 'Toronto', 'yellow', 'Tube', 'curriculum', 'papers', 'underscore', 'city-owned', 'reality', 'Firms', 'OTC', 'polls', 'Attwood', 'exceeding', 'Farm', 'Reached', '3,288,453', 'clock', 'Seattle', 'issuers', '1990', 'short-term', '185.9', 'condemning', 'discontinue', 'first-half', 'quote', 'tenure', 'Michio', 'Ackerman', 'idiomatic', 'orange', 'bells', 'laser', '47.125', 'Latour', 'Michaels', '114', 'typically', 'Inland', 'AN', 'untrue', 'amounts', 'same', '120.7', 'WTD', 'get', 'referral', 'twisting', 'interjects', 'sagged', 'rival', 'Brands', 'fees', 'representing', 'holder', 'adopt', 'stock-specialist', 'ill', 'liners', 'loom', 'kicker', 'alert', 'nominees', 'screen', 'skip', 'president', 'us', '605', 'taper', 'overseas', '*T*-102', 'drunk', 'Logic', 'Fabian', 'Bowman', 'scrambling', 'dormitory', 'deal', 'model', 'feudal', 'emerging', 'Simeon', 'recruit', 'four-year', 'liberal', 'arising', 'prosecution', '108', '*-40', 'initiatives', 'retailing', 'designers', '116.4', 'shed', 'Mitchell', 'ticket', 'triple-A-rated', 'Schwab', 'remorse', 'Las', 'Typically', 'prior', 'Control', 'Different', 'long-term', 'Proponents', 'override', '23,403', 'classmates', 'oil', '830,000', '9.3', 'concept', 'arrest', '721', '8.06', 'son', 'Monchecourt', 'Citing', 'rigors', 'bids', 'dummies', 'gradually', 'Filling', 'Circle', 'Delmont', 'propaganda', 'Chile', 'appear', 'pipes', 'Hawaiian', 'red-flag', 'unusually', 'Mossman', 'purchased', 'drop-in', '*T*-243', 'Chuck', 'Dan', 'supposedly', 'well-known', 'hint', 'refile', 'means', 'Conn', 'mistake', 'confirmed', 'Nissan', 'proponent', 'disappear', 'scrambled', 'differ', 'committees', 'Having', 'journal', 'force', 'anyway', 'folio', 'judgment', 'capital', 'opponents', 'acceded', 'contributors', 'dismayed', 'Monticello', 'callers', 'portion', 'not', 'compositions', 'redeeming', 'N.Y.', 'talking', 'Warrenton', '148', 'weigh', 'mobilizing', 'jurisdiction', 'Sauvignon', '*-27', 'N.J.', 'meanwhile', '1901', 'fires', 'flagrant', 'four-foot-high', 'architecture', 'addition', 'designation', 'WAR', 'drawing', 'top-level', 'Lancaster', 'NYSE', 'partly', 'habit', 'Brazilian', 'turned', 'J.P.', 'Md.', 'payment', 'March', 'exception', 'gelatin', 'Huppert', 'Nemeth', 'transcribe', 'Advocates', 'Sept.30', 'resent', 'stockpiles', 'Disputada', 'shirts', '*-61', '*T*-152', 'Richmond', 'match', 'inspection', 'Veselich', 'overstated', 'unaware', 'telephone-information', 'migrate', 'foundering', 'excesses', 'mid-1970s', 'high-polluting', 'escort', 'your', 'citizen', 'incisions', '29.4', 'GenCorp', 'socialist', 'essentially', '81.8', 'FTC', 'Soups', 'term', 'coincidental', '*T*-188', 'answers', 'miscarriages', 'recall', 'environments', 'Morrison', 'Derek', 'Taylor', 'inmates', 'Malizia', 'delayed', 'Guild', 'cartilage', 'bureaucracy', 'amend', 'gubernatorial', 'saved', 'pre-Communist', 'cases', 'hold', 'beaten', 'parched', 'avoid', 'qualified', 'excess', 'insane', 'sneaked', 'Singapore', '18', 'MEDICINE', 'discourage', 'toll', 'BRAMALEA', 'Key', 'breathed', '44', 'snow', 'Saitama', '90-cent-an-hour', '19-month-old', 'Tatsunori', 'Berman', 'Ralston', 'months', 'common', 'closer', 'unloaded', 'Sales', 'relocate', 'airports', 'Rally', 'Odyssey', 'Wheeland', '71,309', 'Deng', 'Muzzling', '*T*-176', 'pulls', 'spin-off', 'relation', 'far', 'sabotage', 'compensation', 'pipe', 'Growth', 'Much', 'approves', 'English', '88', '382-37', 'Tourism', 'drought', 'quotations', 'Highway', 'aftereffects', 'unenticing', 'system', 'Article', 'Sandinista', 'near', 'Rico', 'offender', '6.50', 'increased', 'spot', 'redeem', '3\\\\/8', 'alienated', 'Virginians', 'Dallara', 'governor', 'Due', \"O'Loughlin\", 'Speculation', 'unions', 'regrettable', 'art', 'Lawmakers', 'nickname', 'forgotten', 'goes', '155', 'hay', 'auto', 'him', 'Hot', 'dailies', 'A.C.', 'Teacher', 'Patrick', 'executive', 'restrictions', 'somehow', '150.00', 'principals', 'Cooper', 'shared', 'airlines', 'Roman', 'unrestricted', 'nonfat', 'acre', 'mid-October', 'protracted', 'recognize', 'equipped', 'somewhat', 'offending', 'explained', 'boarding', 'alternatively', '2003\\\\/2007', 'Again', 'compared', 'prompted', 'refrigerator', 'master', 'real-estate', 'providers', 'loser', 'halted', 'official', 'retail', 'stemming', 'hauling', '*T*-125', 'Haden', 'release', 'rest', 'chefs', 'subjects', 'Odd-year', 'risk', 'cutbacks', 'sweepstakes', 'act', 'brings', '241', 'UPHELD', '6', 'BMP-1', 'unheard', 'brilliant', 'bin', 'automotive', 'Any', 'eliminated', 'vindication', 'Co', 'nervous', 'cancellation', 'reserved', 'resubmit', '226,570,380', 'bald-faced', '*T*-175', 'security-type', '7.458', 'Angeles', 'Veraldi', 'Macheski', 'revelations', 'JUDGE', 'Holdings', 'Commodore', 'happy', 'uncomplaining', 'chaired', 'comments', 'Andersson', 'waiver', 'hand', 'Schroder', 'sports', 'eclipse', 'hobbyists', 'Ministry', 'jeopardy', '8300', 'C.', 'Dow', 'visits', '300', 'merchant', 'Abrupt', 'quipped', 'Angier', 'form', 'debacle', 'cool', 'among', 'spinoff', 'widgets', 'grows', 'Vega', 'acquirer', '1.6', 'cruising', 'assistance', 'monopoly', '14.13', 'vicar', 'worry', 'Carballo', 'adjusted', 'Bolduc', 'irony', 'Buying', 'fear', 'link', '*T*-181', 'pinning', 'Oh', 'Osborn', 'period', 'CEO', 'viewership', '609', 'day', '36-minute', 'affirmative', '21', 'cleanup', 'tense', '20,000', 'received', 'amortization', 'suspend', 'subsidiaries', 'implicit', '1971', 'neighborhood', 'warrants', 'merchants', 'neither', 'how-to', 'lifting', 'puts', 'feature', 'connection', 'Big', 'proposal', 'Bon', 'Groups', 'pre-1917', 'fortunes', 'girlfriend', 'slow', 'billionaire', '*-154', 'Eagleton', 'painted', '*-97', '570', 'Weatherly', 'bribery', 'wound', 'mega-stadium', 'unfounded', 'complicated', 'faultlessly', 'defeated', 'connected', 'subscriptions', 'houses', 'initiative', 'unpopularity', 'selected', 'Driskill', 'Symphony', '2.375', 'Activity', 'Systems', 'Oy', '377.60', 'strict', 'grapes', 'Novell', '65', 'T.', '*T*-148', 'female', 'limited-partnership', 'derisively', '*-54', 'sheaf', '*-76', 'friendly', '734.9', '110', 'store', 'Eric', 'prepared', 'loveliest', 'conducted', 'buy', 'cloth', 'calls', 'diplomats', 'periodontal', 'benign', 'shopped', 'Colleges', 'representative', 'Bears', 'Chardonnay', 'Taccetta', 'pre-existing', '*T*-23', 'tendered', 'at', 'intoxication', 'Lurie', 'Lebanon', 'waiting', 'aesthetic', 'decliners', 'Dobson', '*T*-159', 'Gray', 'winding', 'Kalipharma', 'Vineyard', 'Desai', 'foam', '*U*', 'paid', 'Hahn', '25.6', 'Pty.', '1.65', 'season', 'accompany', 'wealth', 'Back', '139', 'serve', 'Fischer', 'loaded', '*T*-11', '1.916', 'pledged', 'facing', 'compare', 'Merrill', 'nearly', 'downturn', 'referenda', 'travelers', '*T*-198', 'weapon', '1.20', '3.42', 'BIRDS', '82,389', 'whether', 'errors', 'fluent', 'caretaker', 'billion-dollar', 'Bronces', 'nationalist', 'coke', 'guy', '35.2', '*T*-14', 'waive', 'Wilder', 'passage', '0.5', 'stepping', 'dissemination', 'clearly', '1.85', 'Rolling', 'Pont', '295', 'contrary', 'travel-related', 'devote', 'calling', '1,050,000', 'strength', 'Marine', 'enters', 'shore', 'revenue', 'diamond', '132,000', '8.70', 'Tony', 'aggravated', 'Napa', 'situation', '16.68', 'bloc', '0.05', 'refunded', 'ignoring', 'speaking', 'Davis', '*T*-87', 'higher-salaried', 'windfall'}\n"
     ]
    }
   ],
   "source": [
    "#Get the set of words from the train_wordAndTag_list.\n",
    "tokens_set = set([wordAndTag[0] for wordAndTag in train_wordAndTag_list])\n",
    "print(len(tokens_set))\n",
    "print(tokens_set)"
   ]
  },
  {
   "cell_type": "code",
   "execution_count": 34,
   "metadata": {},
   "outputs": [
    {
     "name": "stdout",
     "output_type": "stream",
     "text": [
      "12\n",
      "{'ADV', 'NUM', 'VERB', 'NOUN', 'DET', 'PRT', 'ADP', 'PRON', '.', 'CONJ', 'ADJ', 'X'}\n"
     ]
    }
   ],
   "source": [
    "#How do we know if Universal tagset is used?\n",
    "#Get the set of tags from the train_wordAndTag_list.\n",
    "#It should be 12, as mentioned in the problem statement\n",
    "#NOTE that this will be used shortly for the HMM algorithm\n",
    "universal_tagset = set([wordAndTag[1] for wordAndTag in train_wordAndTag_list])\n",
    "print(len(universal_tagset))\n",
    "print(universal_tagset)"
   ]
  },
  {
   "cell_type": "markdown",
   "metadata": {},
   "source": [
    "### 2. POS Tagging Algorithm - HMM - Build the vanilla Viterbi based POS tagger\n",
    "#### Note: extracted from Upgrad Course - NLP - Module 2 - Exercise\n",
    "We'll use the HMM algorithm to tag the words. Given a sequence of words to be tagged, the task is to assign the most probable tag to the word.\n",
    "\n",
    "In other words, to every word W, assign the tag T that maximises the likelihood P(T/W). Since P(T/W) = P(W/T). P(T) / P(W), after ignoring P(W), we have to compute P(W/T) and P(T).\n",
    "\n",
    "P(W/T) is basically the probability that given a tag (say NN), what is the probability of it being W (say 'building'). This can be computed by computing the fraction of all NNs which are equal to W, i.e.\n",
    "\n",
    "P(W/T) = count(W, T) / count(T).\n",
    "\n",
    "The term P(T) is the probability of tag T, and in a tagging task, we assume that a tag will depend only on the previous tag. In other words, the probability of a tag being NN will depend only on the previous tag T(n-1). So for e.g. if T(n-1) is a JJ, then T(n) is likely to be an NN since adjectives often precede a noun (blue coat, tall building etc.).\n",
    "\n",
    "Given the penn treebank tagged dataset, we can compute the two terms P(W/T) and P(T) and store them in two large matrices. The matrix of P(W/T) will be sparse, since each word will not be seen with most tags ever, and those terms will thus be zero."
   ]
  },
  {
   "cell_type": "markdown",
   "metadata": {},
   "source": [
    "### Emission Probabilities"
   ]
  },
  {
   "cell_type": "code",
   "execution_count": 40,
   "metadata": {},
   "outputs": [],
   "source": [
    "# Computing P(W/T) and storing in tags x words matrix\n",
    "tags = len(universal_tagset)\n",
    "words = len(tokens_set)\n",
    "prob_W_given_T = np.zeros((tags, words))"
   ]
  },
  {
   "cell_type": "code",
   "execution_count": 41,
   "metadata": {},
   "outputs": [],
   "source": [
    "# Compute Emission Probability: word given tag \n",
    "def word_given_tag(word, tag, train_bag = train_wordAndTag_list):\n",
    "    tag_list = [pair for pair in train_bag if pair[1] == tag]\n",
    "    count_tag = len(tag_list)\n",
    "    w_given_tag_list = [pair[0] for pair in tag_list if pair[0] == word]\n",
    "    count_w_given_tag = len(w_given_tag_list)\n",
    "    \n",
    "    return (count_w_given_tag, count_tag)"
   ]
  },
  {
   "cell_type": "code",
   "execution_count": 46,
   "metadata": {},
   "outputs": [
    {
     "name": "stdout",
     "output_type": "stream",
     "text": [
      "\n",
      " large\n",
      "(26, 6096)\n",
      "(0, 12891)\n",
      "(0, 8249) \n",
      "\n",
      "\n",
      " will\n",
      "(0, 3003)\n",
      "(1, 27373)\n",
      "(262, 12891)\n",
      "\n",
      " book\n",
      "(7, 27373)\n",
      "(0, 12891)\n"
     ]
    }
   ],
   "source": [
    "# examples\n",
    "\n",
    "#'ADV', 'NUM', 'VERB', 'NOUN', 'DET', 'PRT', 'ADP', 'PRON', '.', 'CONJ', 'ADJ', 'X'\n",
    "\n",
    "# large\n",
    "print(\"\\n\", \"large\")\n",
    "print(word_given_tag('large', 'ADJ'))\n",
    "print(word_given_tag('large', 'VERB'))\n",
    "print(word_given_tag('large', 'DET'), \"\\n\")\n",
    "\n",
    "# will\n",
    "print(\"\\n\", \"will\")\n",
    "print(word_given_tag('will', 'ADV'))\n",
    "print(word_given_tag('will', 'NOUN'))\n",
    "print(word_given_tag('will', 'VERB'))\n",
    "\n",
    "# book\n",
    "print(\"\\n\", \"book\")\n",
    "print(word_given_tag('book', 'NOUN'))\n",
    "print(word_given_tag('book', 'VERB'))"
   ]
  },
  {
   "cell_type": "code",
   "execution_count": 69,
   "metadata": {},
   "outputs": [
    {
     "data": {
      "text/plain": [
       "list"
      ]
     },
     "execution_count": 69,
     "metadata": {},
     "output_type": "execute_result"
    }
   ],
   "source": [
    "type(train_wordAndTag_list)"
   ]
  },
  {
   "cell_type": "markdown",
   "metadata": {},
   "source": [
    "### Transition Probabilities"
   ]
  },
  {
   "cell_type": "code",
   "execution_count": 48,
   "metadata": {},
   "outputs": [],
   "source": [
    "# compute tag2 happening given tag1: tag2(t2) given tag1(t1), i.e. Transition Probability\n",
    "\n",
    "def t2_given_t1(t2, t1, train_bag = train_wordAndTag_list):\n",
    "    tags = [pair[1] for pair in train_bag]\n",
    "    count_t1 = len([t for t in tags if t == t1])\n",
    "    count_t2_t1 = 0\n",
    "    for index in range(len(tags)-1):\n",
    "        if tags[index]==t1 and tags[index+1] == t2:\n",
    "            count_t2_t1 += 1\n",
    "    return (count_t2_t1, count_t1)"
   ]
  },
  {
   "cell_type": "code",
   "execution_count": 49,
   "metadata": {},
   "outputs": [
    {
     "name": "stdout",
     "output_type": "stream",
     "text": [
      "(4032, 27373)\n",
      "(5267, 8249)\n",
      "(104, 8249)\n",
      "(0, 12891)\n",
      "(0, 6267)\n",
      "(91, 3344)\n",
      "(251, 2144)\n"
     ]
    }
   ],
   "source": [
    "# examples\n",
    "#'ADV', 'NUM', 'VERB', 'NOUN', 'DET', 'PRT', 'ADP', 'PRON', '.', 'CONJ', 'ADJ', 'X'\n",
    "\n",
    "print(t2_given_t1(t2='VERB', t1='NOUN'))\n",
    "print(t2_given_t1('NOUN', 'DET'))\n",
    "print(t2_given_t1('ADV', 'DET'))\n",
    "print(t2_given_t1('NNP', 'VERB'))\n",
    "print(t2_given_t1(',', 'X'))\n",
    "print(t2_given_t1('PRT', 'NUM'))\n",
    "print(t2_given_t1('DET', 'CONJ'))"
   ]
  },
  {
   "cell_type": "code",
   "execution_count": 50,
   "metadata": {},
   "outputs": [
    {
     "name": "stdout",
     "output_type": "stream",
     "text": [
      "(1924, 11134)\n",
      "(984, 11134)\n",
      "(2472, 11134)\n",
      "(732, 11134)\n"
     ]
    }
   ],
   "source": [
    "#Please note P(tag|start) is same as P(tag|'.')\n",
    "print(t2_given_t1('DET', '.'))\n",
    "print(t2_given_t1('VERB', '.'))\n",
    "print(t2_given_t1('NOUN', '.'))\n",
    "print(t2_given_t1('PRON', '.'))\n"
   ]
  },
  {
   "cell_type": "code",
   "execution_count": 51,
   "metadata": {},
   "outputs": [],
   "source": [
    "# creating t x t transition matrix of tags\n",
    "# each column is t2, each row is t1\n",
    "# thus M(i, j) represents P(tj given ti)\n",
    "#len of T is 12\n",
    "\n",
    "tags_matrix = np.zeros((len(T), len(T)), dtype='float32')\n",
    "for i, t1 in enumerate(list(T)):\n",
    "    for j, t2 in enumerate(list(T)): \n",
    "        tags_matrix[i, j] = t2_given_t1(t2, t1)[0]/t2_given_t1(t2, t1)[1]"
   ]
  },
  {
   "cell_type": "code",
   "execution_count": 52,
   "metadata": {},
   "outputs": [
    {
     "data": {
      "text/html": [
       "<div>\n",
       "<style scoped>\n",
       "    .dataframe tbody tr th:only-of-type {\n",
       "        vertical-align: middle;\n",
       "    }\n",
       "\n",
       "    .dataframe tbody tr th {\n",
       "        vertical-align: top;\n",
       "    }\n",
       "\n",
       "    .dataframe thead th {\n",
       "        text-align: right;\n",
       "    }\n",
       "</style>\n",
       "<table border=\"1\" class=\"dataframe\">\n",
       "  <thead>\n",
       "    <tr style=\"text-align: right;\">\n",
       "      <th></th>\n",
       "      <th>ADV</th>\n",
       "      <th>NUM</th>\n",
       "      <th>VERB</th>\n",
       "      <th>NOUN</th>\n",
       "      <th>DET</th>\n",
       "      <th>PRT</th>\n",
       "      <th>ADP</th>\n",
       "      <th>PRON</th>\n",
       "      <th>.</th>\n",
       "      <th>CONJ</th>\n",
       "      <th>ADJ</th>\n",
       "      <th>X</th>\n",
       "    </tr>\n",
       "  </thead>\n",
       "  <tbody>\n",
       "    <tr>\n",
       "      <th>ADV</th>\n",
       "      <td>0.079920</td>\n",
       "      <td>0.031968</td>\n",
       "      <td>0.341658</td>\n",
       "      <td>0.031302</td>\n",
       "      <td>0.067266</td>\n",
       "      <td>0.014319</td>\n",
       "      <td>0.118548</td>\n",
       "      <td>0.014652</td>\n",
       "      <td>0.137529</td>\n",
       "      <td>0.006660</td>\n",
       "      <td>0.133200</td>\n",
       "      <td>0.022977</td>\n",
       "    </tr>\n",
       "    <tr>\n",
       "      <th>NUM</th>\n",
       "      <td>0.002691</td>\n",
       "      <td>0.182715</td>\n",
       "      <td>0.018242</td>\n",
       "      <td>0.356459</td>\n",
       "      <td>0.003589</td>\n",
       "      <td>0.027213</td>\n",
       "      <td>0.036184</td>\n",
       "      <td>0.001495</td>\n",
       "      <td>0.116328</td>\n",
       "      <td>0.013457</td>\n",
       "      <td>0.032596</td>\n",
       "      <td>0.209031</td>\n",
       "    </tr>\n",
       "    <tr>\n",
       "      <th>VERB</th>\n",
       "      <td>0.081297</td>\n",
       "      <td>0.022962</td>\n",
       "      <td>0.169421</td>\n",
       "      <td>0.110542</td>\n",
       "      <td>0.134823</td>\n",
       "      <td>0.031185</td>\n",
       "      <td>0.092312</td>\n",
       "      <td>0.035218</td>\n",
       "      <td>0.035063</td>\n",
       "      <td>0.005508</td>\n",
       "      <td>0.065084</td>\n",
       "      <td>0.216585</td>\n",
       "    </tr>\n",
       "    <tr>\n",
       "      <th>NOUN</th>\n",
       "      <td>0.016878</td>\n",
       "      <td>0.009645</td>\n",
       "      <td>0.147298</td>\n",
       "      <td>0.263179</td>\n",
       "      <td>0.012896</td>\n",
       "      <td>0.044021</td>\n",
       "      <td>0.176744</td>\n",
       "      <td>0.004859</td>\n",
       "      <td>0.240346</td>\n",
       "      <td>0.042633</td>\n",
       "      <td>0.012348</td>\n",
       "      <td>0.029153</td>\n",
       "    </tr>\n",
       "    <tr>\n",
       "      <th>DET</th>\n",
       "      <td>0.012608</td>\n",
       "      <td>0.021700</td>\n",
       "      <td>0.039762</td>\n",
       "      <td>0.638502</td>\n",
       "      <td>0.005455</td>\n",
       "      <td>0.000242</td>\n",
       "      <td>0.008850</td>\n",
       "      <td>0.003758</td>\n",
       "      <td>0.017335</td>\n",
       "      <td>0.000485</td>\n",
       "      <td>0.205601</td>\n",
       "      <td>0.045703</td>\n",
       "    </tr>\n",
       "    <tr>\n",
       "      <th>PRT</th>\n",
       "      <td>0.009801</td>\n",
       "      <td>0.055211</td>\n",
       "      <td>0.404116</td>\n",
       "      <td>0.246325</td>\n",
       "      <td>0.101601</td>\n",
       "      <td>0.001960</td>\n",
       "      <td>0.019275</td>\n",
       "      <td>0.018295</td>\n",
       "      <td>0.043450</td>\n",
       "      <td>0.002287</td>\n",
       "      <td>0.084613</td>\n",
       "      <td>0.013068</td>\n",
       "    </tr>\n",
       "    <tr>\n",
       "      <th>ADP</th>\n",
       "      <td>0.013359</td>\n",
       "      <td>0.063161</td>\n",
       "      <td>0.008229</td>\n",
       "      <td>0.322005</td>\n",
       "      <td>0.322326</td>\n",
       "      <td>0.001496</td>\n",
       "      <td>0.016993</td>\n",
       "      <td>0.068719</td>\n",
       "      <td>0.039649</td>\n",
       "      <td>0.000962</td>\n",
       "      <td>0.107620</td>\n",
       "      <td>0.035481</td>\n",
       "    </tr>\n",
       "    <tr>\n",
       "      <th>PRON</th>\n",
       "      <td>0.033898</td>\n",
       "      <td>0.007319</td>\n",
       "      <td>0.484977</td>\n",
       "      <td>0.208012</td>\n",
       "      <td>0.009245</td>\n",
       "      <td>0.012327</td>\n",
       "      <td>0.022727</td>\n",
       "      <td>0.008089</td>\n",
       "      <td>0.041217</td>\n",
       "      <td>0.005008</td>\n",
       "      <td>0.072804</td>\n",
       "      <td>0.094376</td>\n",
       "    </tr>\n",
       "    <tr>\n",
       "      <th>.</th>\n",
       "      <td>0.053170</td>\n",
       "      <td>0.080295</td>\n",
       "      <td>0.088378</td>\n",
       "      <td>0.222023</td>\n",
       "      <td>0.172804</td>\n",
       "      <td>0.002425</td>\n",
       "      <td>0.091521</td>\n",
       "      <td>0.065745</td>\n",
       "      <td>0.094665</td>\n",
       "      <td>0.057571</td>\n",
       "      <td>0.044728</td>\n",
       "      <td>0.026585</td>\n",
       "    </tr>\n",
       "    <tr>\n",
       "      <th>CONJ</th>\n",
       "      <td>0.053638</td>\n",
       "      <td>0.039179</td>\n",
       "      <td>0.156716</td>\n",
       "      <td>0.354944</td>\n",
       "      <td>0.117071</td>\n",
       "      <td>0.004664</td>\n",
       "      <td>0.054104</td>\n",
       "      <td>0.059235</td>\n",
       "      <td>0.033582</td>\n",
       "      <td>0.000466</td>\n",
       "      <td>0.118470</td>\n",
       "      <td>0.007929</td>\n",
       "    </tr>\n",
       "    <tr>\n",
       "      <th>ADJ</th>\n",
       "      <td>0.004757</td>\n",
       "      <td>0.020505</td>\n",
       "      <td>0.012631</td>\n",
       "      <td>0.699311</td>\n",
       "      <td>0.005085</td>\n",
       "      <td>0.010663</td>\n",
       "      <td>0.078248</td>\n",
       "      <td>0.000492</td>\n",
       "      <td>0.065617</td>\n",
       "      <td>0.016732</td>\n",
       "      <td>0.064797</td>\n",
       "      <td>0.021161</td>\n",
       "    </tr>\n",
       "    <tr>\n",
       "      <th>X</th>\n",
       "      <td>0.025690</td>\n",
       "      <td>0.002553</td>\n",
       "      <td>0.205840</td>\n",
       "      <td>0.061912</td>\n",
       "      <td>0.054572</td>\n",
       "      <td>0.185735</td>\n",
       "      <td>0.142014</td>\n",
       "      <td>0.055210</td>\n",
       "      <td>0.162917</td>\n",
       "      <td>0.010212</td>\n",
       "      <td>0.017871</td>\n",
       "      <td>0.075475</td>\n",
       "    </tr>\n",
       "  </tbody>\n",
       "</table>\n",
       "</div>"
      ],
      "text/plain": [
       "           ADV       NUM      VERB      NOUN       DET       PRT       ADP  \\\n",
       "ADV   0.079920  0.031968  0.341658  0.031302  0.067266  0.014319  0.118548   \n",
       "NUM   0.002691  0.182715  0.018242  0.356459  0.003589  0.027213  0.036184   \n",
       "VERB  0.081297  0.022962  0.169421  0.110542  0.134823  0.031185  0.092312   \n",
       "NOUN  0.016878  0.009645  0.147298  0.263179  0.012896  0.044021  0.176744   \n",
       "DET   0.012608  0.021700  0.039762  0.638502  0.005455  0.000242  0.008850   \n",
       "PRT   0.009801  0.055211  0.404116  0.246325  0.101601  0.001960  0.019275   \n",
       "ADP   0.013359  0.063161  0.008229  0.322005  0.322326  0.001496  0.016993   \n",
       "PRON  0.033898  0.007319  0.484977  0.208012  0.009245  0.012327  0.022727   \n",
       ".     0.053170  0.080295  0.088378  0.222023  0.172804  0.002425  0.091521   \n",
       "CONJ  0.053638  0.039179  0.156716  0.354944  0.117071  0.004664  0.054104   \n",
       "ADJ   0.004757  0.020505  0.012631  0.699311  0.005085  0.010663  0.078248   \n",
       "X     0.025690  0.002553  0.205840  0.061912  0.054572  0.185735  0.142014   \n",
       "\n",
       "          PRON         .      CONJ       ADJ         X  \n",
       "ADV   0.014652  0.137529  0.006660  0.133200  0.022977  \n",
       "NUM   0.001495  0.116328  0.013457  0.032596  0.209031  \n",
       "VERB  0.035218  0.035063  0.005508  0.065084  0.216585  \n",
       "NOUN  0.004859  0.240346  0.042633  0.012348  0.029153  \n",
       "DET   0.003758  0.017335  0.000485  0.205601  0.045703  \n",
       "PRT   0.018295  0.043450  0.002287  0.084613  0.013068  \n",
       "ADP   0.068719  0.039649  0.000962  0.107620  0.035481  \n",
       "PRON  0.008089  0.041217  0.005008  0.072804  0.094376  \n",
       ".     0.065745  0.094665  0.057571  0.044728  0.026585  \n",
       "CONJ  0.059235  0.033582  0.000466  0.118470  0.007929  \n",
       "ADJ   0.000492  0.065617  0.016732  0.064797  0.021161  \n",
       "X     0.055210  0.162917  0.010212  0.017871  0.075475  "
      ]
     },
     "execution_count": 52,
     "metadata": {},
     "output_type": "execute_result"
    }
   ],
   "source": [
    "# convert the matrix to a df for better readability\n",
    "tags_df = pd.DataFrame(tags_matrix, columns = list(T), index=list(T))\n",
    "tags_df"
   ]
  },
  {
   "cell_type": "code",
   "execution_count": 54,
   "metadata": {},
   "outputs": [
    {
     "data": {
      "image/png": "[encoded data removed]",
      "text/plain": [
       "<Figure size 720x576 with 2 Axes>"
      ]
     },
     "metadata": {
      "needs_background": "light"
     },
     "output_type": "display_data"
    }
   ],
   "source": [
    "# heatmap of tags matrix\n",
    "# T(i, j) indicates P(tag j given tag i)\n",
    "plt.figure(figsize=(10, 8))\n",
    "sns.heatmap(tags_df)\n",
    "plt.show()"
   ]
  },
  {
   "cell_type": "code",
   "execution_count": 55,
   "metadata": {},
   "outputs": [
    {
     "data": {
      "image/png": "[encoded data removed]",
      "text/plain": [
       "<Figure size 1296x864 with 2 Axes>"
      ]
     },
     "metadata": {
      "needs_background": "light"
     },
     "output_type": "display_data"
    }
   ],
   "source": [
    "# frequent tags\n",
    "# filter the df to get P(t2, t1) > 0.5\n",
    "tags_frequent = tags_df[tags_df>0.5]\n",
    "plt.figure(figsize=(18, 12))\n",
    "sns.heatmap(tags_frequent)\n",
    "plt.show()"
   ]
  },
  {
   "cell_type": "markdown",
   "metadata": {},
   "source": [
    "#### Nouns follow determinants and adjectives"
   ]
  },
  {
   "cell_type": "code",
   "execution_count": 85,
   "metadata": {},
   "outputs": [],
   "source": [
    "# Viterbi Heuristic\n",
    "def Viterbi(words, train_bag = train_wordAndTag_list):\n",
    "    print(\"**Words to be tagged** \", words)\n",
    "    state = []\n",
    "    T = list(set([pair[1] for pair in train_bag]))\n",
    "    print(\"** T **\", T)\n",
    "    \n",
    "    for key, word in enumerate(words):\n",
    "        #initialise list of probability column for a given observation\n",
    "        p = [] \n",
    "        for tag in T:\n",
    "            if key == 0:\n",
    "                transition_p = tags_df.loc['.', tag]\n",
    "            else:\n",
    "                #print(\"**state[-1]** \", state[-1])\n",
    "                transition_p = tags_df.loc[state[-1], tag]\n",
    "                \n",
    "            # compute emission and state probabilities\n",
    "            emission_p = word_given_tag(words[key], tag)[0]/word_given_tag(words[key], tag)[1]\n",
    "            state_probability = emission_p * transition_p    \n",
    "            p.append(state_probability)\n",
    "            \n",
    "        pmax = max(p)\n",
    "        # getting state for which probability is maximum\n",
    "        state_max = T[p.index(pmax)] \n",
    "        state.append(state_max)\n",
    "    return list(zip(words, state))"
   ]
  },
  {
   "cell_type": "code",
   "execution_count": 113,
   "metadata": {},
   "outputs": [
    {
     "name": "stdout",
     "output_type": "stream",
     "text": [
      "[('Reserves', 'NOUN'), ('for', 'ADP'), ('the', 'DET'), ('five', 'NUM'), ('new', 'ADJ'), ('fields', 'NOUN'), ('total', 'VERB'), ('50', 'NUM'), ('million', 'NUM'), ('barrels', 'NOUN'), ('.', '.'), ('*', 'X'), ('Think', 'VERB'), ('about', 'ADP'), ('the', 'DET'), ('good', 'NOUN'), ('0', 'X'), ('you', 'PRON'), ('can', 'VERB'), ('do', 'VERB'), ('*T*-1', 'X'), ('for', 'ADP'), ('just', 'ADV'), ('$', '.'), ('15,000', 'NUM'), ('*U*', 'X'), ('a', 'DET'), ('month', 'NOUN'), (',', '.'), ('about', 'ADV'), ('the', 'DET'), ('cost', 'NOUN'), ('of', 'ADP'), ('a', 'DET'), ('mid-size', 'ADJ'), ('Chevrolet', 'NOUN'), ('or', 'CONJ'), ('two', 'NUM'), ('semesters', 'NOUN'), ('at', 'ADP'), ('a', 'DET'), ('state', 'NOUN'), ('university', 'NOUN'), ('.', '.'), ('First', 'NOUN'), ('of', 'ADP'), ('America', 'NOUN'), ('said', 'VERB'), ('0', 'X'), ('some', 'DET'), ('of', 'ADP'), ('the', 'DET'), ('managers', 'NOUN'), ('will', 'VERB'), ('take', 'VERB'), ('other', 'ADJ'), ('jobs', 'NOUN'), ('with', 'ADP'), ('First', 'NOUN'), ('of', 'ADP'), ('America', 'NOUN'), ('.', '.')]\n",
      "\n",
      "['Reserves', 'for', 'the', 'five', 'new', 'fields', 'total', '50', 'million', 'barrels', '.', '*', 'Think', 'about', 'the', 'good', '0', 'you', 'can', 'do', '*T*-1', 'for', 'just', '$', '15,000', '*U*', 'a', 'month', ',', 'about', 'the', 'cost', 'of', 'a', 'mid-size', 'Chevrolet', 'or', 'two', 'semesters', 'at', 'a', 'state', 'university', '.', 'First', 'of', 'America', 'said', '0', 'some', 'of', 'the', 'managers', 'will', 'take', 'other', 'jobs', 'with', 'First', 'of', 'America', '.']\n"
     ]
    }
   ],
   "source": [
    "# Running on entire test dataset would take more than 3-4hrs. \n",
    "# Let's test our Viterbi algorithm on a few sample sentences of test dataset\n",
    "\n",
    "random.seed(1234)\n",
    "\n",
    "# choose random 5 sents\n",
    "rndom = [random.randint(1,len(test_set)) for x in range(3)]\n",
    "\n",
    "# list of sents\n",
    "test_run = [test_set[i] for i in rndom]\n",
    "\n",
    "# list of tagged words\n",
    "test_run_base = [tup for sent in test_run for tup in sent]\n",
    "\n",
    "# list of untagged words\n",
    "test_tagged_words = [tup[0] for sent in test_run for tup in sent]\n",
    "\n",
    "print(test_run_base)\n",
    "print()\n",
    "print(test_tagged_words)"
   ]
  },
  {
   "cell_type": "code",
   "execution_count": 114,
   "metadata": {},
   "outputs": [
    {
     "name": "stdout",
     "output_type": "stream",
     "text": [
      "**Words to be tagged**  ['Reserves', 'for', 'the', 'five', 'new', 'fields', 'total', '50', 'million', 'barrels', '.', '*', 'Think', 'about', 'the', 'good', '0', 'you', 'can', 'do', '*T*-1', 'for', 'just', '$', '15,000', '*U*', 'a', 'month', ',', 'about', 'the', 'cost', 'of', 'a', 'mid-size', 'Chevrolet', 'or', 'two', 'semesters', 'at', 'a', 'state', 'university', '.', 'First', 'of', 'America', 'said', '0', 'some', 'of', 'the', 'managers', 'will', 'take', 'other', 'jobs', 'with', 'First', 'of', 'America', '.']\n",
      "** T ** ['ADV', 'NUM', 'VERB', 'NOUN', 'DET', 'PRT', 'ADP', 'PRON', '.', 'CONJ', 'ADJ', 'X']\n"
     ]
    }
   ],
   "source": [
    "# tagging the test sentences\n",
    "start = time.time()\n",
    "tagged_seq = Viterbi(test_tagged_words)\n",
    "end = time.time()\n",
    "difference = end-start"
   ]
  },
  {
   "cell_type": "code",
   "execution_count": 115,
   "metadata": {},
   "outputs": [
    {
     "name": "stdout",
     "output_type": "stream",
     "text": [
      "Time taken in seconds:  23.4316189289093\n",
      "[('Reserves', 'NOUN'), ('for', 'ADP'), ('the', 'DET'), ('five', 'NUM'), ('new', 'ADJ'), ('fields', 'NOUN'), ('total', 'NOUN'), ('50', 'NUM'), ('million', 'NUM'), ('barrels', 'NOUN'), ('.', '.'), ('*', 'X'), ('Think', 'VERB'), ('about', 'ADP'), ('the', 'DET'), ('good', 'ADJ'), ('0', 'X'), ('you', 'PRON'), ('can', 'VERB'), ('do', 'VERB'), ('*T*-1', 'X'), ('for', 'ADP'), ('just', 'ADV'), ('$', '.'), ('15,000', 'NUM'), ('*U*', 'X'), ('a', 'DET'), ('month', 'NOUN'), (',', '.'), ('about', 'ADP'), ('the', 'DET'), ('cost', 'NOUN'), ('of', 'ADP'), ('a', 'DET'), ('mid-size', 'ADV'), ('Chevrolet', 'NOUN'), ('or', 'CONJ'), ('two', 'NUM'), ('semesters', 'ADV'), ('at', 'ADP'), ('a', 'DET'), ('state', 'NOUN'), ('university', 'NOUN'), ('.', '.'), ('First', 'NOUN'), ('of', 'ADP'), ('America', 'NOUN'), ('said', 'VERB'), ('0', 'X'), ('some', 'DET'), ('of', 'ADP'), ('the', 'DET'), ('managers', 'NOUN'), ('will', 'VERB'), ('take', 'VERB'), ('other', 'ADJ'), ('jobs', 'NOUN'), ('with', 'ADP'), ('First', 'NOUN'), ('of', 'ADP'), ('America', 'NOUN'), ('.', '.')]\n"
     ]
    }
   ],
   "source": [
    "print(\"Time taken in seconds: \", difference)\n",
    "print(tagged_seq)\n",
    "#print(test_run_base)"
   ]
  },
  {
   "cell_type": "code",
   "execution_count": 116,
   "metadata": {},
   "outputs": [
    {
     "name": "stdout",
     "output_type": "stream",
     "text": [
      "0.9193548387096774\n"
     ]
    }
   ],
   "source": [
    "# accuracy\n",
    "check = [i for i, j in zip(tagged_seq, test_run_base) if i == j] \n",
    "accuracy = len(check)/len(tagged_seq)\n",
    "print(accuracy)"
   ]
  },
  {
   "cell_type": "code",
   "execution_count": 117,
   "metadata": {},
   "outputs": [
    {
     "name": "stdout",
     "output_type": "stream",
     "text": [
      "[(('Reserves', 'NOUN'), ('Reserves', 'NOUN')), (('for', 'ADP'), ('for', 'ADP')), (('the', 'DET'), ('the', 'DET')), (('five', 'NUM'), ('five', 'NUM')), (('new', 'ADJ'), ('new', 'ADJ')), (('fields', 'NOUN'), ('fields', 'NOUN')), (('total', 'NOUN'), ('total', 'VERB')), (('50', 'NUM'), ('50', 'NUM')), (('million', 'NUM'), ('million', 'NUM')), (('barrels', 'NOUN'), ('barrels', 'NOUN')), (('.', '.'), ('.', '.')), (('*', 'X'), ('*', 'X')), (('Think', 'VERB'), ('Think', 'VERB')), (('about', 'ADP'), ('about', 'ADP')), (('the', 'DET'), ('the', 'DET')), (('good', 'ADJ'), ('good', 'NOUN')), (('0', 'X'), ('0', 'X')), (('you', 'PRON'), ('you', 'PRON')), (('can', 'VERB'), ('can', 'VERB')), (('do', 'VERB'), ('do', 'VERB')), (('*T*-1', 'X'), ('*T*-1', 'X')), (('for', 'ADP'), ('for', 'ADP')), (('just', 'ADV'), ('just', 'ADV')), (('$', '.'), ('$', '.')), (('15,000', 'NUM'), ('15,000', 'NUM')), (('*U*', 'X'), ('*U*', 'X')), (('a', 'DET'), ('a', 'DET')), (('month', 'NOUN'), ('month', 'NOUN')), ((',', '.'), (',', '.')), (('about', 'ADP'), ('about', 'ADV')), (('the', 'DET'), ('the', 'DET')), (('cost', 'NOUN'), ('cost', 'NOUN')), (('of', 'ADP'), ('of', 'ADP')), (('a', 'DET'), ('a', 'DET')), (('mid-size', 'ADV'), ('mid-size', 'ADJ')), (('Chevrolet', 'NOUN'), ('Chevrolet', 'NOUN')), (('or', 'CONJ'), ('or', 'CONJ')), (('two', 'NUM'), ('two', 'NUM')), (('semesters', 'ADV'), ('semesters', 'NOUN')), (('at', 'ADP'), ('at', 'ADP')), (('a', 'DET'), ('a', 'DET')), (('state', 'NOUN'), ('state', 'NOUN')), (('university', 'NOUN'), ('university', 'NOUN')), (('.', '.'), ('.', '.')), (('First', 'NOUN'), ('First', 'NOUN')), (('of', 'ADP'), ('of', 'ADP')), (('America', 'NOUN'), ('America', 'NOUN')), (('said', 'VERB'), ('said', 'VERB')), (('0', 'X'), ('0', 'X')), (('some', 'DET'), ('some', 'DET')), (('of', 'ADP'), ('of', 'ADP')), (('the', 'DET'), ('the', 'DET')), (('managers', 'NOUN'), ('managers', 'NOUN')), (('will', 'VERB'), ('will', 'VERB')), (('take', 'VERB'), ('take', 'VERB')), (('other', 'ADJ'), ('other', 'ADJ')), (('jobs', 'NOUN'), ('jobs', 'NOUN')), (('with', 'ADP'), ('with', 'ADP')), (('First', 'NOUN'), ('First', 'NOUN')), (('of', 'ADP'), ('of', 'ADP')), (('America', 'NOUN'), ('America', 'NOUN')), (('.', '.'), ('.', '.'))]\n"
     ]
    },
    {
     "data": {
      "text/plain": [
       "NoneType"
      ]
     },
     "execution_count": 117,
     "metadata": {},
     "output_type": "execute_result"
    }
   ],
   "source": [
    "k = zip(tagged_seq, test_run_base)\n",
    "type(print(list(k)))\n"
   ]
  },
  {
   "cell_type": "code",
   "execution_count": 120,
   "metadata": {},
   "outputs": [
    {
     "data": {
      "text/plain": [
       "[[('fields', 'NOUN'), (('total', 'NOUN'), ('total', 'VERB'))],\n",
       " [('the', 'DET'), (('good', 'ADJ'), ('good', 'NOUN'))],\n",
       " [(',', '.'), (('about', 'ADP'), ('about', 'ADV'))],\n",
       " [('a', 'DET'), (('mid-size', 'ADV'), ('mid-size', 'ADJ'))],\n",
       " [('two', 'NUM'), (('semesters', 'ADV'), ('semesters', 'NOUN'))]]"
      ]
     },
     "execution_count": 120,
     "metadata": {},
     "output_type": "execute_result"
    }
   ],
   "source": [
    "incorrect_tagged_cases = [[test_run_base[i-1],j] for i, j in enumerate(zip(tagged_seq, test_run_base)) if j[0]!=j[1]]\n",
    "incorrect_tagged_cases"
   ]
  },
  {
   "cell_type": "code",
   "execution_count": 121,
   "metadata": {},
   "outputs": [],
   "source": [
    "import codecs"
   ]
  },
  {
   "cell_type": "code",
   "execution_count": 122,
   "metadata": {},
   "outputs": [
    {
     "name": "stdout",
     "output_type": "stream",
     "text": [
      "Android is a mobile operating system developed by Google.\r\n",
      "\n",
      "Android has been the best-selling OS worldwide on smartphones since 2011 and on tablets since 2013.\r\n",
      "\n",
      "Google and Twitter made a deal in 2015 that gave Google access to Twitter's firehose.\r\n",
      "\n",
      "Twitter is an online news and social networking service on which users post and interact with messages known as tweets.\r\n",
      "\n",
      "Before entering politics, Donald Trump was a domineering businessman and a television personality.\r\n",
      "\n",
      "The 2018 FIFA World Cup is the 21st FIFA World Cup, an international football tournament contested once every four years.\r\n",
      "\n",
      "This is the first World Cup to be held in Eastern Europe and the 11th time that it has been held in Europe.\r\n",
      "\n",
      "Show me the cheapest round trips from Dallas to Atlanta\r\n",
      "\n",
      "I would like to see flights from Denver to Philadelphia.\r\n",
      "\n",
      "Show me the price of the flights leaving Atlanta at about 3 in the afternoon and arriving in San Francisco.\r\n",
      "\n",
      "NASA invited social media users to experience the launch of ICESAT-2 Satellite.\r\n",
      "\n",
      "\r\n",
      "\n",
      "\r\n",
      "\n",
      "\r\n",
      "\n"
     ]
    }
   ],
   "source": [
    "#Read the text file\n",
    "lines=[]\n",
    "f = codecs.open(\"Test_sentences.txt\", encoding='utf-8')\n",
    "for line in f:\n",
    "    print(line)\n",
    "    lines.append(line)"
   ]
  },
  {
   "cell_type": "code",
   "execution_count": 123,
   "metadata": {},
   "outputs": [
    {
     "data": {
      "text/plain": [
       "['Android is a mobile operating system developed by Google.\\r\\n',\n",
       " 'Android has been the best-selling OS worldwide on smartphones since 2011 and on tablets since 2013.\\r\\n',\n",
       " \"Google and Twitter made a deal in 2015 that gave Google access to Twitter's firehose.\\r\\n\",\n",
       " 'Twitter is an online news and social networking service on which users post and interact with messages known as tweets.\\r\\n',\n",
       " 'Before entering politics, Donald Trump was a domineering businessman and a television personality.\\r\\n',\n",
       " 'The 2018 FIFA World Cup is the 21st FIFA World Cup, an international football tournament contested once every four years.\\r\\n',\n",
       " 'This is the first World Cup to be held in Eastern Europe and the 11th time that it has been held in Europe.\\r\\n',\n",
       " 'Show me the cheapest round trips from Dallas to Atlanta\\r\\n',\n",
       " 'I would like to see flights from Denver to Philadelphia.\\r\\n',\n",
       " 'Show me the price of the flights leaving Atlanta at about 3 in the afternoon and arriving in San Francisco.\\r\\n',\n",
       " 'NASA invited social media users to experience the launch of ICESAT-2 Satellite.\\r\\n',\n",
       " '\\r\\n',\n",
       " '\\r\\n',\n",
       " '\\r\\n']"
      ]
     },
     "execution_count": 123,
     "metadata": {},
     "output_type": "execute_result"
    }
   ],
   "source": [
    "lines"
   ]
  },
  {
   "cell_type": "code",
   "execution_count": 124,
   "metadata": {},
   "outputs": [
    {
     "data": {
      "text/plain": [
       "['Android is a mobile operating system developed by Google.',\n",
       " 'Android has been the best-selling OS worldwide on smartphones since 2011 and on tablets since 2013.',\n",
       " \"Google and Twitter made a deal in 2015 that gave Google access to Twitter's firehose.\",\n",
       " 'Twitter is an online news and social networking service on which users post and interact with messages known as tweets.',\n",
       " 'Before entering politics, Donald Trump was a domineering businessman and a television personality.',\n",
       " 'The 2018 FIFA World Cup is the 21st FIFA World Cup, an international football tournament contested once every four years.',\n",
       " 'This is the first World Cup to be held in Eastern Europe and the 11th time that it has been held in Europe.',\n",
       " 'Show me the cheapest round trips from Dallas to Atlanta',\n",
       " 'I would like to see flights from Denver to Philadelphia.',\n",
       " 'Show me the price of the flights leaving Atlanta at about 3 in the afternoon and arriving in San Francisco.',\n",
       " 'NASA invited social media users to experience the launch of ICESAT-2 Satellite.']"
      ]
     },
     "execution_count": 124,
     "metadata": {},
     "output_type": "execute_result"
    }
   ],
   "source": [
    "#Strip the special characters and empty strings in the list file\n",
    "test_lines =[sent.rstrip() for sent in lines if sent.rstrip()!='']\n",
    "test_lines"
   ]
  },
  {
   "cell_type": "code",
   "execution_count": null,
   "metadata": {},
   "outputs": [],
   "source": []
  },
  {
   "cell_type": "code",
   "execution_count": null,
   "metadata": {},
   "outputs": [],
   "source": []
  },
  {
   "cell_type": "code",
   "execution_count": null,
   "metadata": {},
   "outputs": [],
   "source": []
  },
  {
   "cell_type": "markdown",
   "metadata": {},
   "source": [
    "### Solve the problem of unknown words"
   ]
  },
  {
   "cell_type": "code",
   "execution_count": null,
   "metadata": {},
   "outputs": [],
   "source": []
  },
  {
   "cell_type": "code",
   "execution_count": null,
   "metadata": {},
   "outputs": [],
   "source": []
  },
  {
   "cell_type": "markdown",
   "metadata": {},
   "source": [
    "#### Evaluating tagging accuracy"
   ]
  },
  {
   "cell_type": "code",
   "execution_count": null,
   "metadata": {},
   "outputs": [],
   "source": []
  },
  {
   "cell_type": "code",
   "execution_count": null,
   "metadata": {},
   "outputs": [],
   "source": []
  },
  {
   "cell_type": "markdown",
   "metadata": {},
   "source": [
    "### Compare the tagging accuracies of the modifications with the vanilla Viterbi algorithm"
   ]
  },
  {
   "cell_type": "code",
   "execution_count": null,
   "metadata": {},
   "outputs": [],
   "source": []
  },
  {
   "cell_type": "code",
   "execution_count": null,
   "metadata": {},
   "outputs": [],
   "source": []
  },
  {
   "cell_type": "code",
   "execution_count": null,
   "metadata": {},
   "outputs": [],
   "source": []
  },
  {
   "cell_type": "markdown",
   "metadata": {},
   "source": [
    "### List down cases which were incorrectly tagged by original POS tagger and got corrected by your modifications"
   ]
  },
  {
   "cell_type": "code",
   "execution_count": null,
   "metadata": {},
   "outputs": [],
   "source": []
  },
  {
   "cell_type": "code",
   "execution_count": null,
   "metadata": {},
   "outputs": [],
   "source": []
  },
  {
   "cell_type": "markdown",
   "metadata": {},
   "source": [
    "#### END OF SOLUTION"
   ]
  },
  {
   "cell_type": "code",
   "execution_count": null,
   "metadata": {},
   "outputs": [],
   "source": []
  }
 ],
 "metadata": {
  "kernelspec": {
   "display_name": "Python 3",
   "language": "python",
   "name": "python3"
  },
  "language_info": {
   "codemirror_mode": {
    "name": "ipython",
    "version": 3
   },
   "file_extension": ".py",
   "mimetype": "text/x-python",
   "name": "python",
   "nbconvert_exporter": "python",
   "pygments_lexer": "ipython3",
   "version": "3.8.3"
  }
 },
 "nbformat": 4,
 "nbformat_minor": 2
}
