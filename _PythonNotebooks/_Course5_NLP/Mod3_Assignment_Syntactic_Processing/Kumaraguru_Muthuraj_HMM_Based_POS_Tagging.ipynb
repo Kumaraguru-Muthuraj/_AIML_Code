{
 "cells": [
  {
   "cell_type": "markdown",
   "metadata": {},
   "source": [
    "## HMM Based POS Tagging Assignment\n",
    "### Author - Kumaraguru Muthuraj\n",
    "\n",
    "#### Solution description\n",
    "1. Tagged Treebank corpus is available (Sample data to training and test data set)\n",
    "   - Basic text and structure exploration\n",
    "2. Creating HMM model on the tagged data set.\n",
    "   - Calculating Emission Probabaility: P(observation|state)\n",
    "   - Calculating Transition Probability: P(state2|state1)\n",
    "3. Checking accuracy on the test data set"
   ]
  },
  {
   "cell_type": "markdown",
   "metadata": {},
   "source": [
    "### 1. Exploring the treebank dataset -  data preparation"
   ]
  },
  {
   "cell_type": "code",
   "execution_count": 1,
   "metadata": {},
   "outputs": [],
   "source": [
    "#Importing libraries\n",
    "import nltk\n",
    "import re, pprint\n",
    "import numpy as np\n",
    "import pandas as pd\n",
    "#import requests\n",
    "import matplotlib.pyplot as plt\n",
    "import seaborn as sns\n",
    "import pprint, time\n",
    "import random\n",
    "from sklearn.model_selection import train_test_split\n",
    "from nltk.tokenize import word_tokenize\n",
    "import codecs"
   ]
  },
  {
   "cell_type": "code",
   "execution_count": 2,
   "metadata": {},
   "outputs": [
    {
     "name": "stderr",
     "output_type": "stream",
     "text": [
      "[nltk_data] Downloading package treebank to\n",
      "[nltk_data]     C:\\Users\\kumaraguru\\AppData\\Roaming\\nltk_data...\n",
      "[nltk_data]   Package treebank is already up-to-date!\n",
      "[nltk_data] Downloading package universal_tagset to\n",
      "[nltk_data]     C:\\Users\\kumaraguru\\AppData\\Roaming\\nltk_data...\n",
      "[nltk_data]   Package universal_tagset is already up-to-date!\n"
     ]
    },
    {
     "data": {
      "text/plain": [
       "True"
      ]
     },
     "execution_count": 2,
     "metadata": {},
     "output_type": "execute_result"
    }
   ],
   "source": [
    "nltk.download('treebank')\n",
    "nltk.download('universal_tagset')"
   ]
  },
  {
   "cell_type": "code",
   "execution_count": 3,
   "metadata": {},
   "outputs": [],
   "source": [
    "# Load the UNIVERSAL tagset from Treebank\n",
    "nltk_data = list(nltk.corpus.treebank.tagged_sents(tagset='universal'))"
   ]
  },
  {
   "cell_type": "code",
   "execution_count": 4,
   "metadata": {},
   "outputs": [
    {
     "name": "stdout",
     "output_type": "stream",
     "text": [
      "***Length of the data set ****  3914\n",
      "\n",
      "\n",
      "***First few lines*****\n"
     ]
    },
    {
     "data": {
      "text/plain": [
       "[[('Pierre', 'NOUN'),\n",
       "  ('Vinken', 'NOUN'),\n",
       "  (',', '.'),\n",
       "  ('61', 'NUM'),\n",
       "  ('years', 'NOUN'),\n",
       "  ('old', 'ADJ'),\n",
       "  (',', '.'),\n",
       "  ('will', 'VERB'),\n",
       "  ('join', 'VERB'),\n",
       "  ('the', 'DET'),\n",
       "  ('board', 'NOUN'),\n",
       "  ('as', 'ADP'),\n",
       "  ('a', 'DET'),\n",
       "  ('nonexecutive', 'ADJ'),\n",
       "  ('director', 'NOUN'),\n",
       "  ('Nov.', 'NOUN'),\n",
       "  ('29', 'NUM'),\n",
       "  ('.', '.')],\n",
       " [('Mr.', 'NOUN'),\n",
       "  ('Vinken', 'NOUN'),\n",
       "  ('is', 'VERB'),\n",
       "  ('chairman', 'NOUN'),\n",
       "  ('of', 'ADP'),\n",
       "  ('Elsevier', 'NOUN'),\n",
       "  ('N.V.', 'NOUN'),\n",
       "  (',', '.'),\n",
       "  ('the', 'DET'),\n",
       "  ('Dutch', 'NOUN'),\n",
       "  ('publishing', 'VERB'),\n",
       "  ('group', 'NOUN'),\n",
       "  ('.', '.')],\n",
       " [('Rudolph', 'NOUN'),\n",
       "  ('Agnew', 'NOUN'),\n",
       "  (',', '.'),\n",
       "  ('55', 'NUM'),\n",
       "  ('years', 'NOUN'),\n",
       "  ('old', 'ADJ'),\n",
       "  ('and', 'CONJ'),\n",
       "  ('former', 'ADJ'),\n",
       "  ('chairman', 'NOUN'),\n",
       "  ('of', 'ADP'),\n",
       "  ('Consolidated', 'NOUN'),\n",
       "  ('Gold', 'NOUN'),\n",
       "  ('Fields', 'NOUN'),\n",
       "  ('PLC', 'NOUN'),\n",
       "  (',', '.'),\n",
       "  ('was', 'VERB'),\n",
       "  ('named', 'VERB'),\n",
       "  ('*-1', 'X'),\n",
       "  ('a', 'DET'),\n",
       "  ('nonexecutive', 'ADJ'),\n",
       "  ('director', 'NOUN'),\n",
       "  ('of', 'ADP'),\n",
       "  ('this', 'DET'),\n",
       "  ('British', 'ADJ'),\n",
       "  ('industrial', 'ADJ'),\n",
       "  ('conglomerate', 'NOUN'),\n",
       "  ('.', '.')],\n",
       " [('A', 'DET'),\n",
       "  ('form', 'NOUN'),\n",
       "  ('of', 'ADP'),\n",
       "  ('asbestos', 'NOUN'),\n",
       "  ('once', 'ADV'),\n",
       "  ('used', 'VERB'),\n",
       "  ('*', 'X'),\n",
       "  ('*', 'X'),\n",
       "  ('to', 'PRT'),\n",
       "  ('make', 'VERB'),\n",
       "  ('Kent', 'NOUN'),\n",
       "  ('cigarette', 'NOUN'),\n",
       "  ('filters', 'NOUN'),\n",
       "  ('has', 'VERB'),\n",
       "  ('caused', 'VERB'),\n",
       "  ('a', 'DET'),\n",
       "  ('high', 'ADJ'),\n",
       "  ('percentage', 'NOUN'),\n",
       "  ('of', 'ADP'),\n",
       "  ('cancer', 'NOUN'),\n",
       "  ('deaths', 'NOUN'),\n",
       "  ('among', 'ADP'),\n",
       "  ('a', 'DET'),\n",
       "  ('group', 'NOUN'),\n",
       "  ('of', 'ADP'),\n",
       "  ('workers', 'NOUN'),\n",
       "  ('exposed', 'VERB'),\n",
       "  ('*', 'X'),\n",
       "  ('to', 'PRT'),\n",
       "  ('it', 'PRON'),\n",
       "  ('more', 'ADV'),\n",
       "  ('than', 'ADP'),\n",
       "  ('30', 'NUM'),\n",
       "  ('years', 'NOUN'),\n",
       "  ('ago', 'ADP'),\n",
       "  (',', '.'),\n",
       "  ('researchers', 'NOUN'),\n",
       "  ('reported', 'VERB'),\n",
       "  ('0', 'X'),\n",
       "  ('*T*-1', 'X'),\n",
       "  ('.', '.')],\n",
       " [('The', 'DET'),\n",
       "  ('asbestos', 'NOUN'),\n",
       "  ('fiber', 'NOUN'),\n",
       "  (',', '.'),\n",
       "  ('crocidolite', 'NOUN'),\n",
       "  (',', '.'),\n",
       "  ('is', 'VERB'),\n",
       "  ('unusually', 'ADV'),\n",
       "  ('resilient', 'ADJ'),\n",
       "  ('once', 'ADP'),\n",
       "  ('it', 'PRON'),\n",
       "  ('enters', 'VERB'),\n",
       "  ('the', 'DET'),\n",
       "  ('lungs', 'NOUN'),\n",
       "  (',', '.'),\n",
       "  ('with', 'ADP'),\n",
       "  ('even', 'ADV'),\n",
       "  ('brief', 'ADJ'),\n",
       "  ('exposures', 'NOUN'),\n",
       "  ('to', 'PRT'),\n",
       "  ('it', 'PRON'),\n",
       "  ('causing', 'VERB'),\n",
       "  ('symptoms', 'NOUN'),\n",
       "  ('that', 'DET'),\n",
       "  ('*T*-1', 'X'),\n",
       "  ('show', 'VERB'),\n",
       "  ('up', 'PRT'),\n",
       "  ('decades', 'NOUN'),\n",
       "  ('later', 'ADJ'),\n",
       "  (',', '.'),\n",
       "  ('researchers', 'NOUN'),\n",
       "  ('said', 'VERB'),\n",
       "  ('0', 'X'),\n",
       "  ('*T*-2', 'X'),\n",
       "  ('.', '.')]]"
      ]
     },
     "execution_count": 4,
     "metadata": {},
     "output_type": "execute_result"
    }
   ],
   "source": [
    "# PRINT first few tagged sentences\n",
    "print(\"***Length of the data set **** \", len(nltk_data))\n",
    "# samples: Each sentence is a list of (word, pos) tuples\n",
    "print(\"\\n\\n***First few lines*****\")\n",
    "nltk_data[:5]"
   ]
  },
  {
   "cell_type": "code",
   "execution_count": 5,
   "metadata": {},
   "outputs": [
    {
     "name": "stdout",
     "output_type": "stream",
     "text": [
      "***Length of the training data set ****  3718\n",
      "***Length of the test data set ****  196\n",
      "\n",
      "\n",
      "*****Print a few lines*****\n",
      " [[('They', 'PRON'), ('mature', 'VERB'), ('in', 'ADP'), ('2005', 'NUM'), (',', '.'), ('2009', 'NUM'), ('and', 'CONJ'), ('2029', 'NUM'), ('.', '.')], [('The', 'DET'), ('survey', 'NOUN'), ('found', 'VERB'), ('that', 'ADP'), ('nearly', 'ADV'), ('half', 'NOUN'), ('of', 'ADP'), ('Hong', 'NOUN'), ('Kong', 'NOUN'), ('consumers', 'NOUN'), ('espouse', 'VERB'), ('what', 'PRON'), ('it', 'PRON'), ('identified', 'VERB'), ('*T*-61', 'X'), ('as', 'ADP'), ('materialistic', 'ADJ'), ('values', 'NOUN'), (',', '.'), ('compared', 'VERB'), ('with', 'ADP'), ('about', 'ADV'), ('one-third', 'ADJ'), ('in', 'ADP'), ('Japan', 'NOUN'), ('and', 'CONJ'), ('the', 'DET'), ('U.S.', 'NOUN'), ('.', '.')], [('They', 'PRON'), ('did', 'VERB'), (\"n't\", 'ADV'), ('have', 'VERB'), ('much', 'ADJ'), ('luck', 'NOUN'), ('during', 'ADP'), ('the', 'DET'), ('Reagan', 'NOUN'), ('administration', 'NOUN'), ('.', '.')], [('But', 'CONJ'), ('consumers', 'NOUN'), ('who', 'PRON'), ('*T*-169', 'X'), ('buy', 'VERB'), ('at', 'ADP'), ('this', 'DET'), ('level', 'NOUN'), ('are', 'VERB'), ('also', 'ADV'), ('more', 'ADV'), ('knowledgeable', 'ADJ'), ('than', 'ADP'), ('they', 'PRON'), ('were', 'VERB'), ('*?*', 'X'), ('a', 'DET'), ('few', 'ADJ'), ('years', 'NOUN'), ('ago', 'ADV'), ('.', '.')], [('Reames', 'NOUN'), (',', '.'), ('a', 'DET'), ('maker', 'NOUN'), ('and', 'CONJ'), ('marketer', 'NOUN'), ('of', 'ADP'), ('frozen', 'VERB'), ('noodles', 'NOUN'), ('and', 'CONJ'), ('pre-cooked', 'ADJ'), ('pasta', 'NOUN'), ('based', 'VERB'), ('*', 'X'), ('in', 'ADP'), ('Clive', 'NOUN'), (',', '.'), ('Iowa', 'NOUN'), (',', '.'), ('has', 'VERB'), ('annual', 'ADJ'), ('sales', 'NOUN'), ('of', 'ADP'), ('about', 'ADV'), ('$', '.'), ('11', 'NUM'), ('million', 'NUM'), ('*U*', 'X'), (',', '.'), ('Lancaster', 'NOUN'), ('said', 'VERB'), ('0', 'X'), ('*T*-1', 'X'), ('.', '.')]]\n"
     ]
    }
   ],
   "source": [
    "#5% of data, according to https://learn.upgrad.com/v/course/1120/session/169917/segment/904732\n",
    "TEST_DATA_PERCENT = 0.05 \n",
    "\n",
    "# Splitting into train and test\n",
    "train_set, test_set = train_test_split(nltk_data, test_size = TEST_DATA_PERCENT)\n",
    "\n",
    "print(\"***Length of the training data set **** \", len(train_set))\n",
    "print(\"***Length of the test data set **** \", len(test_set))\n",
    "\n",
    "print(\"\\n\\n*****Print a few lines*****\\n\", train_set[:5])"
   ]
  },
  {
   "cell_type": "code",
   "execution_count": 6,
   "metadata": {},
   "outputs": [
    {
     "data": {
      "text/plain": [
       "95423"
      ]
     },
     "execution_count": 6,
     "metadata": {},
     "output_type": "execute_result"
    }
   ],
   "source": [
    "# Getting list of tagged words\n",
    "train_wordAndTag_list = [wordAndTag for sentence in train_set for wordAndTag in sentence]\n",
    "len(train_wordAndTag_list)"
   ]
  },
  {
   "cell_type": "code",
   "execution_count": 7,
   "metadata": {},
   "outputs": [
    {
     "data": {
      "text/plain": [
       "[('They', 'PRON'),\n",
       " ('mature', 'VERB'),\n",
       " ('in', 'ADP'),\n",
       " ('2005', 'NUM'),\n",
       " (',', '.')]"
      ]
     },
     "execution_count": 7,
     "metadata": {},
     "output_type": "execute_result"
    }
   ],
   "source": [
    "train_wordAndTag_list[:5]"
   ]
  },
  {
   "cell_type": "code",
   "execution_count": 8,
   "metadata": {},
   "outputs": [
    {
     "name": "stdout",
     "output_type": "stream",
     "text": [
      "12075\n",
      "{'Close', 'treating', 'imposed', 'D.', 'OTC', 'slogan', 'stoppage', '64.5', 'offense', 'vote', 'sums', 'completed', 'Small', 'discuss', 'continuously', 'Kill', 'recognizing', 'typically', 'loans', 'association', 'promised', 'sacrifice', '149', 'teenage', 'Schmidt', 'dominance', 'Louisiana-Pacific', 'attendance', 'benchmarks', '*T*-114', 'Western', 'Seats', 'pressed', 'Per-share', 'War', 'criminal', 'food', 'release', 'Secretary', 'Sr.', 'behemoth', 'dressed', 'vicars', 'Charities', 'will', 'Greenville', 'Southeast', '300', 'Beijing', 'triple-C', 'Texas-based', 'Abbey', 'trash', 'work', '200,000', 'basket', 'career', 'Rockefeller', 'mitigate', 'installed', 'reinvestment', 'tendered', 'orange', 'generators', 'PTA', 'Regulatory', '6.6', 'Possible', 'Ala.', '*-56', 'government-certified', 'DD', 'recombinant', 'merger-related', 'exchanges', 'heirs', 'Conduct', 'N.J.-based', 'Mostly', 'propose', 'damages', 'Candlestick', 'author', '*T*-172', 'Wertheim', 'arbitrager', 'cattle', 'strategies', 'rewards', 'judiciary', 'Haden', 'venture', 'elected', 'cartilage', 'context', '*-3', 'recyclability', 'era', 'WTVJ', '14\\\\/32', 'negative', 'government', 'bellringers', 'while', 'speculation', 'property', 'Fabian', 'Vichy', 'plants', 'internal', 'supposedly', '177', 'Crown', 'cautiously', 'M.D.', 'supports', 'Matthews', 'high-volume', 'impression', 'clubs', 'crop', 'erroneous', 'Dorrance', 'spenders', 'Sachs', 'comes', '*T*-9', 'man', 'Jack', 'duo', 'Chase', 'Marge', 'Fourteen', 'expecting', 'deluge', 'omitted', 'lose', '8.06', 'premiums', 'consist', 'pro-choice', 'Cluff', 'adjustments', 'classified', 'friendship', 'incorporated', 'Cheetham', 'museum', '7.62', 'hired', 'smiles', 'male-only', 'package', 'suitors', 'lovely', 'rulers', 'polish', 'flim-flammery', 'stemmed', 'Angola', 'him', 'Lead', 'presentation', 'contractor', 'sheet', 'most-likely-successor', 'privately', 'alcoholism', 'Deryck', 'home', 'stock-index', 'healthy', 'hub', 'Human', 'drugs', '2,500', 'Veraldi', 'impudent', 'Schroder', 'Bodner', '750,000', 'via', 'museums', 'Hormats', 'worst', 'guided', 'Eurobonds', 'make', 'lay', 'Mississippi', 'accordance', 'Wayland', 'below', 'Frances', 'Earlier', '16.09', 'prescient', 'ill', 'Pharaoh', 'Learning', 'innovation', '*ICH*-2', 'Chatsworth', 'stimulated', '*-153', 'Haven', 'College', 'industrials', 'Backe', 'tea', 'newer', 'Joseph', 'anti-abortion', 'Savings', 'Olson', 'jointly', '1996', 'issuer', 'explanatory', 'table', 'concentrate', 'restored', 'callers', '*-45', 'abortion', '*T*-100', 'settled', 'rout', 'knows', '*-46', 'lent', 'alcoholics', 'neutrons', 'agreeing', 'Chinese-American', 'bottom-line', 'tempts', 'wave', 'implements', 'resulted', 'Va.', 'Platt', 'schools', 'rest', 'Drew', 'Conn.', 'editorial', 'sink', 'effects', 'gradual', '77', '2.375', 'push', 'statue', 'transfer', 'Anderson', '*-26', 'obviously', 'baskets', 'prize-fighter', 'stretching', 'Kong', 'Brunello', 'either', 'vehicle', 'might', 'Whether', 'Macmillan', 'unable', 'November', 'pains', 'Laurence', 'Champion', 'touted', 'unrealized', 'custom', 'resolved', 'credit', 'Daniel', 'Brown', 'anti-program', 'Adam', 'Ratners', 'feed', 'publicly', 'certainly', 'Eric', 'this', '13.15', 'newest', 'Engineers', '*T*-170', 'Monetary', 'ranked', 'sort', '*T*-26', 'tower', 'Optical', 'completion', 'receipt', 'Ports', 'diversifying', 'Sugarman', 'Dan', 'lights', 'segment', 'wait', 'forecast', 'weak', 'small-time', '*T*-45', 'praised', '644', 'Century', 'coal', 'AN', 'arranged', 'slate', 'Gottlieb', 'C$', 'amend', '1956', 'megabytes', 'Otero', 'housing', '125', 'complicate', 'disputed', 'attending', 'interstate', 'filings', 'CIA', 'seeks', 'Moines', 'OK', 'earns', 'Clemens', '890', 'discussions', 'protection', 'predict', 'violate', 'determine', '*-67', 'Egnuss', 'lengthened', 'argued', 'exposure', 'persuasion', 'arising', 'be', '13\\\\/16', 'Confederation', 'extensive', 'do', 'upsetting', 'Johns', 'deliberately', 'Competes', 'black', 'sought', '90-day', 'talk', 'befell', '8.75', 'Smith', 'Show', 'blindfold', 'Fourth', 'buy-outs', 'simple', 'Petersen', 'Nonetheless', 'kidnapping', 'handled', 'classical', 'overcapacity', '500,000', 'need', 'secede', 'students', 'Boesel', 'considerably', 'respond', 'moving', 'Indeed', 'official', 'trains', 'price-depressing', 'Troubled', 'Rockwell', 'Prof', 'departures', 'Shangkun', 'require', '*T*-173', 'Ratings', 'Basic', 'pages', 'EST', 'Mexican', 'Brazilian', 'ran', 'discretionary', '65', 'speeches', 'Voice', 'My', 'soul', '77.70', '*-32', 'Times', 'your', 'Moslem', 'Asia', 'virtue', 'centimeter', 'maintain', 'cocky', 'Illinois', 'plunging', 'Root', 'absolutely', 'powwow', 'Report', 'Fields', 'Giants', 'Ilminster', 'listing', 'Bridge', 'LSI', 'client', 'exercised', 'accrued', 'disagreement', '1.01', 'acid-rain', 'agents', 'pride', 'strains', 'bribed', 'needs', 'only', 'Yasuda', 'assisted', 'democratic', 'Kendrick', '2160.1', 'Jennison', 'reporting', 'Moody', 'Metallgesellschaft', 'Southern', 'MacLellan', 'administrations', 'management', 'variety', 'Nixon', 'denying', 'prefecture', 'fierce', 'plunge', '4.8', '645,000', 'First', 'interrogation', '0', 'incredible', 'suit', 'Enterprise', '2.95', 'polyproplene', 'Canadian', 'half', 'Teikoku', 'savings-and-loan', '5.4', '55-a-share', 'subskills', '1987-88', 'rapport', '301', 'inverse', 'ensnarled', 'cushioned', 'compared', 'focusing', '9.5', '70.2', 'Each', '28.5', 'explaining', 'sulfur-dioxide', '*T*-90', 'newly', 'sketching', 'Corn', 'Although', 'tapping', 'sector', 'nice', 'transportation', 'Glass', 'Jan.', 'count', 'Crane', 'racing', '1\\\\/10th', 'arts', 'responded', '37-a-share', 'longtime', 'attempt', 'Magna', '85.7', 'addition', '5.5', 'persistent', 'game', 'stockpiles', 'assaults', 'exposed', 'Haney', '1.76', '3.19', 'pill', 'Co.', 'Tramp', 'naming', 'pending', 'onslaught', 'Judges', 'structured', 'consisting', 'blamed', 'obedient', 'redeem', 'Ian', 'faithful', 'billings', 'various', 'voted', 'installing', 'presumes', 'encourages', 'drug', 'Foreign', 'Olympia', '811.9', 'literature', 'noting', 'TREASURY', '4.1', '87.5', 'Short', 'petulant', 'up', 'platforms', 'disseminate', 'relating', 'December', 'Warrenton', 'band', 'Charles', 'triggered', 'parts', 'river', 'Scotland', 'arbitrage', 'statement', 'superconductors', 'complaint', 'avoiding', 'justice', 'comprehensive', 'Contras', 'hear', 'Schlemmer', 'IX', 'experiencing', '28.53', 'Eliminate', 'citation', 'disposables', 'Cosmopolitan', 'set', 'higher-salaried', 'Russo', 'Goldsmith', 'According', 'powerful', 'Trotter', 'barometer', 'Ginsberg', 'Klauser', 'Midwesco', 'incest', '500-Stock', 'Clinton', '*-92', 'foot', 'playwright', 'recruited', 'center', 'split', '*-58', 'Gulf', 'procurement', '3.35', 'rationed', 'sidelines', 'Appropriations', 'administrative', 'Kondo', 'pistols', 'Science', 'cancers', 'referral', 'cope', '*-61', 'audiocassettes', 'Douglas', '4', 'Sigler', 'reflect', 'gallon', 'keeping', 'shows', 'liabilities', 'Dell', 'training-wage', 'special', 'warned', 'Horsham', 'produce', 'British', 'Shortly', 'gallium', 'containing', '300-a-share', 'homework', 'burden', 'format', 'ignoring', 'Appellate', 'distributed', 'strengthened', 'muted', 'bounced', 'THAT', 'street', 'payoff', 'inevitable', 'deviation', 'industry-supported', 'juvenile', '2,410', 'Contracts', 'disregard', 'reason', 'Section', 'Laura', 'microprocessors', '16.125', 'Judging', 'unethical', 'Strother', '12.82', 'advance', 'justified', '175', 'TO', 'big', 'acknowledge', '118.6', 'Alvin', 'prerogative', 'initiate', 'imposes', 'inches', 'Geneva', 'Kodansha', 'cash', 'rich', 'Sacramento-based', 'Intermediate', 'holdings', '*T*-109', '*T*-133', 'capital-gains', '36-day', 'measure', 'engage', 'unjustified', 'insurance', 'bridges', 'how', 'solved', 'Net', 'privacy', 'circulated', '1920s', 'electricity', 'conference', 'expectation', 'customers', 'impose', 'understood', 'target', 'Rozell', 'architecture', 'marvelously', 'more-advanced', 'welfare', 'bells', '8.04', 'Ohio', '360', 'broaden', 'Cray-3', 'balloting', 'between', 'Yorkers', 'picture', 'experience', 'depressions', 'fashioned', 'worship', 'bundles', 'Legend', 'Lloyd', 'bases', '14', 'ChemPlus', 'Chuck', 'regulatory', 'laid', 'dialogue', 'Monday', '*T*-166', '*-55', 'Everything', 'request', 'relationship', 'receptive', 'feature', '*-10', 'But', 'fiber-end', 'fasteners', 'peal', 'born', '3.3', 'interrogated', 'Grange', 'accounting', 'differences', '55-year-old', 'congregation', 'Mercer', 'long-tenured', 'block', 'youth', 'exacerbated', 'smartly', 'Nicole', 'day-care', 'soaring', 'cancellation', 'felony', 'skepticism', 'accepted', 'evenly', 'millions', 'drastically', 'therapy', 'Assurance', 'NASD', 'targeted', 'periodontal', 'master', 'cardiovascular', 'advocating', 'mature', 'NCNB', 'LATE', 'fiber-optic', 'buoyed', '*T*-77', '88', 'evolved', 'marks', '*T*-59', 'serviced', 'Following', 'focus', 'cultivated', 'committing', 'BMP', '*T*-139', 'non-biodegradable', 'feels', 'Banque', 'surrender', 'enter', 'highlight', 'Scientists', 'Key', '142.84', 'Dow', '8.19', 'reshaping', 'encouraging', 'Acquisition', 'Brian', 'nonfat', 'Development', 'Patients', 'Growth', '10.19', 'condemning', 'dances', 'died', 'Syracuse', 'outcry', 'higher', 'editor', 'fired', 'Failure', 'Plan', 'dealing', 'weighed', 'Committee', 'handling', 'common', 'did', 'discredit', 'cite', 'ringing', '1\\\\/4', '*-102', 'BRIEFS', 'waiving', 'gut', 'above-market', 'claiming', 'revenues', 'Michelin', 'Time', 'drums', 'response', 'sanctions', 'Lawyers', 'confidant', 'gotten', 'compete', 'strongly', 'LYNCH', 'portions', 'bilateral', '8.1', 'disagree', 'Seymour', 'girl', 'testify', 'starters', 'partnership', 'medallions', '150-point', 'deducting', 'pipes', 'Minera', 'uncanny', 'Johnson', 'red', '*T*-190', 'certificates', 'spokesman', 'announced', 'lawyer', 'less', '138', 'original', 'estimate', 'Kligman', 'anti-morning-sickness', 'high-technology', 'Program', 'Team', 'decade', 'Nigel', 'Pennview', 'bankroll', '6.5', 'Earnings', 'considering', 'overnight', 'drought', 'Schweiz', 'because', 'Industries', 'Gillespie', 'more', 'summary', 'dean', '*-35', 'demise', 'taught', 'Sumitomo', 'unenticing', 'send', 'Garret', 'owed', 'markkaa', '36.9', 'Higher', '1637', 'sticky', 'appreciation', 'Services', '145', 'feudal', 'FAMILY', 'resolution', 'capital', '121.6', 'busloads', 'Brisk', 'nine', '25,000', 'listeners', 'Aktiebolaget', 'Nor', 'Upjohn', 'Bronces', 'demonstrating', 'muffled', 'juggernaut', 'barred', 'printers', 'seven-day', 'John', 'indefinitely', 'apprehensive', 'often', 'recognize', 'Seniors', '319.75', 'cleaner-burning', 'recommendations', 'Unico', 'Dahl', 'Italy', 'reward', 'palace', 'jail', 'FAX', 'And', 'insanity', 'cool', '*T*-5', 'Berger', 'One', 'prime', 'cell', 'lotions', 'Nekoosa', '8.07', 'emerge', 'dropped', 'reservations', '245', 'test', 'Kathryn', 'improbable', 'Off-Track', 'she', 'stockbroker', 'enhances', 'war', 'Shaw', 'sputtered', '100,980', 'past', 'council', 'respect', 'Hearst', 'own', '17-year-old', 'properties', 'commodity', 'Restaurant', 'aspects', 'bring', '21,000', 'powerhouse', 'bombarding', 'anti-dumping', '1987', 'landowners', 'stemming', 'blind', 'ones', 'worry', 'film', 'Institutions', 'likelihood', 'skill', 'extramarital', 'interior', 'planting', '139', 'unwashed', 'posing', 'Stanley', '62.1', 'challenging', 'admitted', 'bidder', 'Spending', 'generally', 'clerics', 'Particularly', '19.95', 'stock-specialist', 'characteristics', 'LONDON', 'Put', 'free-lance', 'cheat', 'relied', 'Island', 'kill', 'burn', 'manage', 'snaking', 'Equus', 'prohibits', 'reasons', 'cop-killer', 'themselves', 'Intermec', 'opportunities', '3.55', 'flux', '456.64', 'hurt', 'citizen-sparked', 'Brazil', 'Kappa', 'playgrounds', 'stressed', 'uptick', 'exceedingly', 'wildly', 'override', 'Claude', 'energy-services', 'structural', '14.43', '*T*-251', 'taper', 'reader', 'owning', 'actor', 'cumbersome', 'import', '78', 'Republicans', 'Electric', 'Fidelity', 'Manchester', 'Brownstein', 'thinks', 'depression', 'exit', 'Media', 'places', 'Birmingham', 'Raul', 'roof-crush', 'aim', 'conflicts', 'three', '95,142', 'spaces', 'indicates', 'expects', '23,403', 'superintendent', 'Machines', 'guy', 'curriculum', 'prepared', 'horoscopes', 'Jackson', 'openly', 'Backer', 'Donuts', 'preventative', '100', 'Thousands', 'Byron', 'drinking', 'Corporations', 'trade', 'one-year', 'still', 'scrape', 'clothes', 'CBS', 'resubmit', 'guards', 'sell', 'bless', 'bad', 'Experts', 'final', '*-157', 'Share', 'science', '28.25', 'continually', 'workforce', 'hangs', 'credit-rating', 'Gelles', 'flag', 'benevolent', 'brings', 'ambitious', 'Everyone', 'Avrett', 'corridors', 'discretion', '158,666', '415.8', 'TRIAL', 'Genetics', 'household', 'vortex', 'captivating', 'thin-lipped', 'turf', 'achievement', 'Eastern', 'high-priced', 'NTG', 'protects', 'train', 'Palestine', 'factor', 'Leon', 'Christian', 'corporate', 'diabetes', 'bribing', '0.3', 'Parkinson', 'establishment', 'mode', 'tracking', 'scandals', 'reviewing', 'confidential', 'Boston', 'Filling', 'characters', 'predictable', 'William', 'HUD', 'Argentine', 'bout', 'Raymond', 'replete', 'stream', 'regional', 'Ethel', 'month', 'attempted', 'stages', 'opponents', 'impatient', 'warehouses', 'hot', '*T*-121', '321,000', '20-point', 'Associates', 'fear', 'walking', '69', 'United', 'visits', 'required', 'collections', 'pressured', 'Fundamentalists', 'Hasbrouk', 'C.', 'kept', 'Strindberg', 'labeling', 'low-altitude', 'six-inch', 'amounted', 'thrifts', 'officer', 'rusty', '7.63', 'color', 'neoprene', 'reinstatement', '14.75', 'noodles', 'fuel', 'large-scale', 'refitting', 'brokering', 'Pa.', 'Caters', 'Biaggi', 'constitute', 'negotiators', 'whenever', 'anyone', 'bushels', 'gaining', '34', 'ballroom', 'assumed', 'political', 'Dakotas', 'removed', '*T*-181', 'lesser', 'mind', '*T*-66', 'Ensrud', 'Plains', 'wrists', 'single-A', 'New', 'agreements', 'features', 'repay', 'industry', 'Claire', 'lover', 'awfully', 'Business', 'upstate', 'recruiting', 'receive', 'McAlpine', 'guarding', 'guide', 'winner', 'planes', 'firms', 'striking', 'Lambert', 'diminish', 'Lurie', 'English', 'Gates', 'long', 'Jim', 'Account', '7', 'muzzling', 'subscribe', 'Hallett', 'lens', 'hedging', '*T*-220', 'doubt', 'codified', 'Hymowitz', 'offices', 'herald', 'posters', 'premises', 'thrift', 'conversations', 'jugglers', 'Senate-House', 'Toronto-based', 'illegal', 'Sandra', 'follow', 'Meanwhile', 'sound', 'pre-1917', 'processors', 'act', '*-124', 'weather', 'direct', 'baby', '1,620', 'community', 'rapidly', 'obtained', 'rebel', 'contractors', 'aiming', 'weeks', '325,000', 'fixed-rate', 'survival', 'parent', 'task', 'shelter', 'succeed', 'steelmaker', 'precise', 'ship', 'relegated', 'does', 'music', 'Consider', 'civics', '701', 'mirror', 'N.Y', 'finance', 'yet-to-be-formed', 'filed', 'zinc', 'excess', 'injecting', 'cast-iron', 'invest', '*T*-18', 'really', 'portrayed', '10th', 'P.', 'scenario', 'sounding', \"''\", 'Buy', 'invention', 'mindful', 'Agnew', 'interest', 'marketing', 'spur', 'Huge', '100-megabyte', 'Nielsen', 'prospective', 'raw', 'Cabernets', 'Beauty', 'Young', 'questionable', 'HHS', 'examine', '51.25', 'linked', 'ample', 'Walkman', 'witnesses', 'sharp', 'Hahn', 'buys', 'unit', 'compressed', 'motive', 'ventures', 'necessary', '26.5', 'weakness', 'tied', 'vitriolic', 'Compromises', 'banking', 'wanted', 'A.', 'opposes', 'suspects', 'calculations', 'Maxwell', 'muscling', 'awards', 'counterweight', 'Cannell', 'Intecknings', 'Yet', 'unitholders', 'yen-denominated', 'shudders', 'companies', 'Des', 'further', 'Roman', 'Barnum', 'Novell', '*T*-25', 'promoting', 'say', 'uncertainties', 'Lafite-Rothschild', 'worries', 'ca', 'restructures', '35.2', 'Anything', 'Sundays', 'seller', 'purchased', 'entrenched', '101', 'violence', 'Reducing', '4.9', '1988-89', 'Toys', '-LRB-', '2.7', 'Jonas', 'premium', 'patented', 'any', 'quote', '*T*-183', '3\\\\/8', 'Prior', '400', 'abandoned', 'rumors', 'hither', 'dark', 'Lorain', 'Sony', 'ended', 'A.L.', 'Citibank', 'Session', 'spread', '4.875', 'Ross', 'eliminates', 'become', 'Scannell', 'bygone', 'Brooke', '1.64', 'combinations', '9.82', 'indicate', 'acts', 'apples', 'opens', 'trail', 'affiliate', 'blames', 'Dover', 'stays', '188', 'Recess', 'Dole', 'Ketchum', '18.95', 'successor', '30-day', 'rebuked', 'year', 'Malta', 'learning', 'initial', 'pyramids', 'obvious', 'equity-purchase', 'Weatherly', 'plainclothes', 'portion', 'Spillane', 'yourself', 'harsh', 'Cathryn', 'largely', '*T*-202', 'stations', 'Miss.', 'Orleans', 'industrial-production', 'giant', 'defense', '*T*-47', 'Graduate', 'event', 'Sangyo', 'carry', 'reading', 'subindustry', 'Encouraging', 'referendum', 'Temple', 'affair', 'Union', 'caught', 'insiders', '*-30', '195', 'posted', 'lines', '53', '1.85', 'good', 'tripled', 'spurring', 'ads', 'predecessor', 'charm', 'creator', '963', '1.8500', '12-point', 'railcars', '38.3', 'telephone-information', 'continued', 'crash', 'copper', 'parched', 'granting', '1,460', 'Advocates', 'steady', '*T*-237', 'undercut', 'notched', 'Yamamoto', 'introduction', 'withdrawn', 'world', 'Burnham', 'contrary', 'Sullivan', 'sprawling', '8.575', 'businessman', 'goodwill', 'legislature', 'rankings', 'botched', 'imaginative', 'perfectly', 'costly', 'well', 'fact', 'intelligent', 'welcomed', 'disclosure', 'Francisco', 'graduated', 'penetrate', 'Mont', 'crossed', 'revival', 'day', 'minor', 'counter', 'threatens', 'accept', 'educators', 'each', 'care', '1.457', 'seventh', 'acting', 'DISCOUNT', 'African', 'enrollment', 'narcotics', 'tight', 'viewership', 'proof', 'appropriations', 'retractable', '*-76', 'including', 'Vermont', 'leapt', 'so', 'Traficant', '36', 'ready', 'materials', 'Dinkins', 'requesting', 'license', 'fellow', '490', '*T*-232', 'chronicle', 'beverage', 'Giraud', 'dams', 'Entertainment', 'months', 'abortion-related', 'restructured', 'major-league', 'unaffiliated', 'Calder', 'understanding', 'WayMar', 'Part', 'running', 'Disputada', 'try', 'Finland', 'boarding', 'network', '118', 'cloud', 'fee', 'ACQUISITION', 'afterwards', 'Assuming', 'lungs', 'Technology', 'Inventor', 'dinosaurs', 'days', '*T*-98', '120-a-share', 'attitude', 'Late', 'came', 'Shelby', 'FIRST', 'dividends', 'despite', 'Despite', 'loose', 'pegged', 'jeopardizing', 'different', 'stockholders', 'contests', 'appointed', 'practices', 'wary', 'Fairlawn', '*T*-216', 'PRIME', 'pro-Iranian', 'attracting', 'convicted', 'regular', 'brushed', 'absurd', 'surprised', 'raspberry', 'photographs', 'father-in-law', 'tell', 'imported', 'motion', 'Carla', 'catch-up', 'Sierra', 'persuade', 'discrimination', 'Kuvin', 'melt-textured', 'occupying', 'way', 'Springs', 'Vacancies', '7.272', 'expire', 'abortions', 'Czech', 'crystals', 'third', 'Columbia', '1967', 'Memphis', 'youngsters', 'monopolize', 'turnaround', 'fawning', 'manmade-fiber', 'worse', 'show', 'Rather', 'peace', 'significant', 'brokerage', '1984', 'sneaked', 'Campeau', 'indicator', 'Beige', 'Hans', 'Unable', 'Revenue', '*-50', 'All', 'Conference', 'centers', '87-store', '*-51', 'fined', '*T*-254', 'imply', 'courage', 'unpublished', 'Moore', 'described', '1.65', 'Coconut', 'ascribe', 'USIA', 'Sydney', 'lyrics', 'self-esteem', 'funding', '1738.1', 'three-quarters', 'scant', 'Tube', 'Cathedral', 'Public', 'assume', 'disasters', 'existed', 'Soups', 'made', 'exclusively', 'grandfather', 'Asked', 'twisting', 'middle-ground', 'hearing', 'len', 'green', '*-154', 'fault', 'robustly', 'retaliating', 'criticism', '30-share', 'apart', 'version', 'Eagleton', 'apologizing', 'wallowing', '*T*-112', 'lucrative', 'insurgents', 'port', 'shoot', '7\\\\/16', '6.53', 'virtues', 'south', 'food-industry', 'Aug.', 'perpetual', 'Having', 'Hubbard', 'full-fledged', 'practicing', 'Kalamazoo', 'Private', 'would-be', 'important', 'merits', '1965', 'sheaf', 'prototype', 'Major', '16,072', 'mailing', 'Talcott', 'inched', 'trained', 'consumer', 'Red', 'practice', 'grains', 'providers', 'Linda', 'computers', 'W.N.', 'elderly', 'turns', 'rumor', '3,250,000', 'duck', 'Salinas', 'impact', 'arsenide', '430', 'millionaires', 'hustlers', 'Connections', 'Groups', 'traded', 'fair', 'notes', 'Solomonic', '*-87', 'booming', 'rock', 'sauce', 'examples', 'sluggish', 'We', 'defined', 'arrival', 'committee', 'baseball', '1979', 'Kenneth', 'Winiarski', 'planning', 'erode', 'journal', 'ways', 'bonds', '*-95', 'Watson', 'Fails', 'Creek', 'Al', 'arched', 'pushes', 'subordinated', 'RATE', '*T*-76', 'Swearingen', 'academics', 'viewpoint', 'Editorials', 'Caribbean', 'less-serious', 'Fulham', 'regret', 'memo', 'club', 'shame', 'Again', 'addressing', 'alleging', 'continue', 'Workers', 'Drobnick', 'Taccetta', '1968', '18', 'FreudToy', 'write-off', 'self', 'Phipps', 'hormone', 'Modifications', 'anyway', 'prosecution', 'Ohio-based', 'necklace', 'Federation', 'cost-benefit', 'secondary', 'parties', 'Declining', 'gift', 'Veselich', 'secured', 'Solution', 'wife', 'Persky', 'Heightened', 'spectacular', '6,000', 'initiatives', 'LIBOR', 'stacking', 'coordinate', 'Take', 'wings', 'After', 'analysis', 'U.K.', 'sentencing', 'hospital', 'difference', 'sex', '12\\\\/32', 'Jacob', 'RATES', 'manufacturer', 'October', 'nurtured', 'pit', 'friction', 'advised', 'crashes', 'college-bowl', 'what', 'overruns', 'altered', '*T*-169', '*T*-63', '*T*-164', 'Morgan', 'Third', 'Stevens', 'threat', 'echoed', 'dirtiest', '*T*-248', 'Hitachi', 'without', 'awareness', '179', 'consists', 'access', 'Derel', '96.4', '*-120', '361.8', 'Prater', 'Argentina', 'magazines', 'acceleration', 'Sir', 'vans', 'help', 'surely', 'erect', 'pick-up', 'climate', 'impetus', 'From', 'Nations', 'yields', 'Aptitude', 'lottery', 'tests', '64-year-old', 'RULING', 'denial', 'hostage', 'Mayer', 'peals', '*T*-126', 'pre-cooked', 'comparison', 'labels', 'breezy', 'highway', 'Excluding', 'captive', 'borrowed', 'doing', 'confidence', 'depended', 'pricing', 'motor-home', 'Carrier', 'Karns', 'Bates', '150', 'insisted', 'peak', 'stressing', 'replacing', 'lengthen', 'indirect', 'nomination', 'Nissan', 'copyright', 'representing', 'swaps', 'dubbed', 'infectious', 'cancer-causing', 'merchandising', 'Adds', 'Beta', 'mostly', '50-50', '*NOT*', 'analysts', '210,000', '14.54', 'Lobo', 'roofs', '9.37', 'ballots', 'operated', 'test-preparation', 'aspersions', 'Hammerton', 'Ideas', '278.7', 'bars', 'Lyle', 'auctions', 'Maine', 'program', 'supercomputers', 'overvalued', 'Cartoonist', 'inviting', 'indications', 'by', 'contracted', 'concede', 'Providence', 'parallels', '576', 'underwriters', 'driver', '396,000', 'government-funded', 'equal-opportunity', '*-85', 'B-1B', 'declining', 'Netherlands', 'Detroit', 'politely', 'permitted', 'going', 'insane', 'all-cash', 'Baris', 'single-digit', 'taxable', 'recipient', 'Allen', 'Generally', 'O.', 'Edison', 'Zicklin', '*PPA*-1', 'quota', 'mid-afternoon', 'Basin', 'parlors', 'preliminary', 'So', '*T*-12', '*T*-199', '235', 'patents', 'manner', 'prayer', 'beaten', 'Andersson', '8.14', 'offend', 'Poore', 'drives', 'salary', 'offender', 'Discos', 'orders', 'morphogenetic', 'discos', 'merge', 'lauded', 'disruptive', 'designation', 'retaining', 'felt', 'consideration', 'attractive', 'disapproval', 'memory', 'based', 'pace', 'nearby', 'rallying', 'boomers', '80.8', 'efficiency', 'fourth', 'Filmed', 'near-limit', 'asserted', 'stake', 'Marubeni', 'Farm', 'Czechoslovakia', 'papers', 'somebody', 'Sun', 'Alstyne', 'triple-A-rated', 'frenzy', '*-150', 'Mayland', 'doors', 'forest-product', 'CoreStates', 'supreme', '237-seat', 'represent', 'powers', 'inkling', 'invests', 'tough', 'unfunded', 'divided', 'when', 'heightened', 'Ad', 'Preliminary', 'Equal', 'Groucho', 'finished', 'technical', '30,537', 'productivity', '*T*-136', 'Si', 'door', 'visiting', 'priority', 'Viacom', 'nor', 'Or', 'hoped', 'outlawing', '*-8', 'cutbacks', 'contributions', 'stuff', 'unpleasant', '*EXP*-2', 'Dallara', 'Porter', 'Roof', 'lap', 'Appeals', 'Developed', 'wrote', '*T*-161', 'patients', 'transcribe', 'performing', 'shuttle', 'revenue', 'disadvantage', 'deliver', 'everyday', 'sake', 'assembly', 'Feb.', '*-74', 'counterrevolutionary', '95', 'GRAINS', 'managers', 'Danville', 'diluted', 'conversion', 'yes', 'officers', 'Cray', 'readership', 'step', '1.82', 'person', 'OSHA', '1\\\\/8', 'Marina', '*-78', 'defeated', 'injuring', 'reallocated', '*RNR*-1', 'barrier', 'lowering', 'sassy', 'notably', 'Bowery', 'credentials', 'advent', 'relaunched', 'Worksheets', 'capsules', 'sank', 'schoolteacher', '*T*-110', 'Centerbank', 'common-law', 'MacDonald', 'veto', 'convinced', 'Swiss', 'Photograph', 'issue', 'phase', 'surpluses', 'tissue', 'get', 'actress', 'greatest', 'campus', 'hauled', 'Book', 'Colorado', 'hampered', 'shipboard', 'certified', 'solicitor', 'liners', 'run-down', 'participants', 'ends', 'Mutual', 'case', 'acquisition', 'shall', 'living', 'homes', 'insidious', 'lackluster', 'smokers', 'unfettered', 'small-company', 'annoyed', 'heating', 'confrontational', 'underperforming', 'chaotic', 'reruns', 'Mitchell', 'decisive', 'frozen', 'Anglian', 'assertion', '4.55', 'mathematical', 'measures', 'unusually', 'drafted', 'advanced', 'warns', 'reluctant', 'GROWTH', 'Stanford', 'mental', 'exporters', 'USX', 'churches', 'bidders', 'steelmakers', 'high-flying', 'spilling', '234.4', 'forces', 'Unicorp', 'vindication', 'behalf', 'subscription', '672', 'Image', 'Stock', 'rolling', 'exclusive', 'harmed', 'sleep', 'prestige', 'thugs', 'beg', 'distasteful', 'delivery', 'gripping', 'Arighi', '100-share', 'Evidence', 'Silicon', 'Sutcliffe', 'Sotheby', 'Hopwood', 'mounted', 'promotional', 'faces', 'Barclays', 'earning', 'cent', 'Orville', 'seeking', 'ROGERS', 'Miami-based', 'Composer', 'Asher', 'Utsumi', 'track', 'High', 'directed', 'alike', 'almost', 'development', 'truth-in-lending', 'tariff', 'Canada', '*T*-215', 'Mather', 'even', 'Department', 'tree', 'Brigham', 'Chivas', 'others', 'Puerto', 'trafficking', '59-year-old', 'best', '1971', 'Kingdom', 'Atlantic', '5.276', '155', 'Kansas', 'logo', 'subskill', 'patent', '20s', 'returns', 'insinuating', 'Felten', 'Initiative', 'Elders', 'Tatsunori', 'treats', 'Defense', 'floor', 'stopped', 'helpful', 'fumes', '30.6', 'GAF', 'romance', 'stalls', 'inspired', '21-month', 'four-foot-high', 'policy', 'corporate-wide', '*T*-214', 'Order', 'stairs', 'Patrick', 'Papua-New', 'project', 'returning', 'addiction', 'forecasting', 'outlawed', 'comfortably', '*T*-252', 'Alan', 'once', 'troubled', 'exists', 'Society', 'new-home', '800', 'admits', '43', 'clean', 'unwind', 'Weisfield', 'mine', 'Mazda', 'Power', 'scripts', 'advice', 'Mike', 'competed', 'fifth-grade', 'conferees', 'just', 'super-absorbent', 'contain', 'Boeing', 'Stockbrokers', '*-109', 'Leningrad', 'injuries', 'eclectic', 'Patricia', 'Norwick', 'several', 'Edward', 'temptation', 'cuts', 'cited', '12-member', 'forward', '2.50', 'Underwood', 'goes', 'homosexual', 'remained', 'Burgundy', 'Circulations', 'shareholder-rights', 'shipbuilding', 'malnutrition', 'Ltd.', 'victims', 'unrestricted', 'newspapers', 'enforcement', 'Northern', 'proteins', 'Charlotte', 'sterling', 'cells', 'rider', 'worksheets', 'fracture', 'energy', 'intentioned', 'dozen', 'introduce', 'computer-aided', 'viewed', 'Use', 'crossing', '*T*-153', 'Carnegie-Mellon', 'darned', 'Comprehensive', 'Odd-year', 'Macmillan\\\\/McGraw', 'cabs', '1,880', 'computing', 'several-year', 'temporary', 'we-Japanese', 'Lancaster', 'shift', 'wedded', 'signing', 'treatment', 'mechanically', 'unusual', 'Terrence', 'wheel-loader', 'Cosby', '4,393,237', 'being', 'renewal', 'fundamentalist', 'jury', 'acceptances', 'purchases', 'circuit', 'Opportunity', 'polyester', 'considers', 'test-coaching', 'money', 'shrinking', 'bargains', 'Indexing', 'innuendoes', '*T*-48', 'wheels', '*T*-43', 'soured', 'budding', 'competitive', 'equip', 'proposition', 'hazardous', 'works', 'remain', 'authorized', 'Above', 'coincidental', 'unintelligible', 'conspicuous', 'continuingly', 'truth', 'earnings', 'managing', 'wholesaler', 'Arbitrage-related', 'traveled', 'transplantation', 'Factory', 'nondurable', '9', 'blocks', 'excited', 'refreshing', 'settle', 'K.', 'objectionable', 'amounts', '3.01', 'waterworks', 'compassion', 'electrical', 'nowhere', 'S.p', '40,000', 'Runkel', 'Polytechnic', 'inside', 'targets', 'main', '6.21', 'attorney', '1998', 'mortgaged', 'House-Senate', 'Stockholm', 'was', 'bomb', 'Wa', 'rope-sight', 'stereotyped', 'prospect', 'Friedrichs', 'printing-press', 'parishioners', 'subdued', 'arrived', 'oversee', 'coordinator', 'computer-services', 'arrest', 'deterring', 'three-digit', 'pealing', 'portfolio', '*T*-131', 'dating', 'hurdles', 'shaping', '2.46', '30', 'Metropolitan', 'Blanchard', 'file', 'delete', 'prompted', 'doctor', 'Open', 'electronics', 'Life', 'cash-and-stock', 'Fifteen', '7.79', 'pieces', 'old-fashioned', 'Peng', '*T*-208', 'High-grade', 'financings', 'lynch-mob', 'Without', 'sogo-shosha', 'succeeds', 'Two', \"n't\", 'machine-gun-toting', 'Code', '3057', 'answers', 'Islands', 'denounce', '20', 'stop', 'travelers', 'arrangements', 'dashes', 'Stephanie', 'scrambled', 'opposite', 'Colo.', 'benign', 'recover', 'Satrum', 'Monchecourt', 'change-ringing', 'stock-manipulation', 'fuels', 'A', 'quashing', 'ABA', 'expressed', 'anticipated', 'index', 'Sweden', 'DIAPER', 'interested', 'profit', 'whether', 'tip', 'is', '*-42', 'Participants', 'Lake', '*T*-255', '*T*-163', 'clues', '*T*-14', '*-99', 'preventing', 'replacement', 'exercise', '7.458', '*T*-27', 'Clive', 'riskier', 'citizen', 'Gilts', '*-81', 'equities', 'series', 'diversify', 'high-rolling', 'computer-assisted', 'amending', 'abandon', 'created', 'Varying', '566.54', 'Midland', 'knell', 'new', 'Seed', 'behavior', '23', 'sponsor', 'ballot', 'hope', 'demand', 'credibility', 'signaling', 'meatpacking', 'fled', 'hours', 'Lines', 'entrench', 'tailor-made', 'march', 'two-tiered', 'Not', 'concentrated', 'stare', '31-year-old', 'lost', 'raises', 'rebound', 'cyclical', 'penetration', 'lock', 'Elsewhere', 'Olsen', 'away', 'product', 'dawn', 'Judge', 'assure', 'participation', 'disclosing', 'commerce', 'Trailer', 'evil', 'states', 'buy-out', 'decorated', 'apartment', 'deadline', 'Najarian', 'remarks', 'fond', 'affecting', 'perspective', 'brutal', 'touched', 'purpose', 'appoint', 'railcar', '*T*-260', 'Lowe', 'chalk', 'communications', 'bank', 'blacks', 'collecting', 'went', 'AIDS', 'graders', 'Everybody', 'conducted', 'implementation', 'precisely', 'avid', 'electronic', 'Datapoint', 'guilders', 'duckling', '737.5', '666', '*-84', 'recyclable', '13.50', 'recession', 'groups', 'possibly', 'matches', 'Mich.', '114', 'seriously', 'host', 'Goodman', 'athletic', 'displays', 'Dunton', 'unreasonable', 'tired', 'Down', 'adult', '95.09', 'E.', '*T*-31', 'drooled', '220', 'enters', 'double-A', 'nightmare', 'Elisa', 'hook', '19.94', 'greedy', 'Cruise', 'white', 'perception', 'Richebourg', 'when-issued', 'take', 'spring', 'Information', 'money-market', '*T*-107', 'Cab', 'surfaced', '*-5', 'alternatives', 'informally', 'approaches', 'schoolchildren', 'Barnett', '250,000', 'subscriber', 'round-trip', 'veal', 'workbooks', 'connected', 'Hoylake', 'Jihad', 'pricings', '445', 'Harpo', 'acquirers', 'Named', 'fearful', 'Rankin', 'classmates', 'dismissed', 'possessed', 'nonetheless', 'academic', '48', 'corruption', 'co-founded', 'Constitution', 'gains', '692', '*-38', 'notify', 'amazingly', '260', '257', 'Asian', 'McLeod', 'life-style', 'representatives', 'tidbits', 'thunder', 'computerize', '1990-91', '4.7', 'Water', 'consent', '*T*-35', '0.7', 'independent', 'ORTEGA', 'Heiwado', 'regrettable', 'classic', 'vacation', '17.95', 'totaled', 'self-regulatory', 'Hanifen', 'basically', 'post-hearing', 'debts', 'niches', 'flightiness', 'cap', 'initiative', '7.95', 'opinion', 'liberal', 'Katzenstein', 'agrees', 'Betting', '?', 'Starting', 'however', 'Fahrenheit', 'Clairton', 'futures', 'harped', 'character', 'Lurgi', 'licensing', 'Grain', 'Year', '352.7', '11.10', 'fire', 'Laser', 'Though', 'Middlesex', 'sidestep', 'spokewoman', 'lift', 'Lure', 'composite', 'counteract', 'III', 'life', 'skyward', 'anticipation', 'plus', 'initially', 'battle', 'weekends', 'along', 'leveraged', 'per', 'Bhutto', 'mesothelioma', 'properly', '187', 'tackle', 'parking', 'implied', 'fingers', 'plummeted', '*-17', 'Romanee-Conti', 'Crude', 'proponent', 'Stirlen', '5.70', 'idiomatic', 'close', 'Grand', 'mother', '847', '*T*-92', '75', 'Van', 'bought', 'success', 'murdered', 'held', 'possess', 'pre-1933', 'inherently', 'Broadcasting', 'manufacturing', 'Nylev', 'Bailey', 'suspensions', 'stiff', 'collapse', 'broadcasting', 'accidents', 'marketers', 'authors', 'reference', 'Touches', '@', 'privileged', 'sure', 'down', 'La.', 'C-90', 'Pepperidge', 'cards', 'responds', 'Exxon', 'year-end', 'turn', 'children', 'continues', 'tomorrow', '0.2', 'endorsed', 'Bellows', 'business', 'Arabia', 'status', 'Environment', 'Light', 'glitches', 'instrument', 'Pretty', 'Spiro', 'fabricate', 'adults', 'Whelen', 'Works', 'chip', 'ushering', 'akin', 'Gordon', 'innovative', 'Reliance', 'Neither', 'Giant', 'hid', 'condemned', 'exhibition', 'stripped', 'regions', 'facilities', 'Materials', 'cost-control', 'reserve', 'inquiring', 'advancing', 'Avon', 'slowdown', 'Dumpster', 'salaries', 'erasures', 'neighborhood', 'Morita', 'two-year-old', \"'\", 'Lorenzo', 'momentary', 'making', 'focused', 'Keehn', 'fiscal', 'ancillary', 'Myron', 'layer', '458', 'Coleman', 'curly', 'regard', 'supportive', 'midyear', 'Pont', '36-minute', 'weddings', '*-9', 'Ministry', 'idea', 'grandstander', 'N.V', '*T*-258', '700,000', 'Anglia', 'laurels', 'devastating', 'repayment', 'Pick', 'Reupke', 'Almost', 'mood', 'Meese', 'profess', 'twindam', '38.875', 'politically', 'achieve', 'high-quality', 'nationwide', 'Beatles', 'Jerry', 'McCormick', 'cluster', 'businesses', 'eighth', 'ports', 'expires', 'inappropriate', '8.12', 'Egyptian', 'debentures', 'refrigerator', 'Dale', 'suspect', 'projects', 'Michio', '42', 'aides', 'permission', 'forcing', 'Handelsbanken', 'Guber\\\\/Peters', 'changes', 'operation', 'lend-lease', 'toast', 'gain', 'Trade', 'TIRED', 'guerrillas', 'sources', 'Sale', 'ON', 'share', 'Hammerschmidt', 'student', 'given', 'ACCOUNT', 'pressures', 'on', 'undo', '1.55', '26', 'closed-end', 'schemes', 'Bricklayers', 'JUDGE', 'Vinken', 'Andrew', '*-18', 'high-rise', 'rivals', 'pull', 'Topix', 'Nasty', 'limping', 'Luce', 'battery-operated', 'trader', 'Junk', 'gloomy', '*-39', 'controlled', 'Unfortunately', 'entrepreneur', \"'40s\", 'write', '*T*-10', 'studio', 'attract', 'Minneapolis-based', 'duty', 'comfort', '98', 'Mattress', '13.5', 'pathlogy', 'Spoon', 'minicrash', '*T*-85', 'leash', 'Under', 'despised', 'tire', 'Earle', 'prescribe', 'in', 'years', 'sixth', 'torn', 'watchdogs', 'theory', '40.21', '8.50', 'promote', 'Velcro', 'pass', 'deeply', 'affordable', 'lasted', 'purchase', '8.467', 'Intelogic', 'general', 'tempted', '3436.58', '75-year-old', 'scrounge', 'CORP', 'overpriced', '128', 'visible', 'Pro-forma', 'Always', 'cost-cutting', '1.46', 'championing', 'implicitly', 'regulating', 'Keith', 'Newspapers', 'Lefcourt', '22', 'absurdity', 'autos', 'Chardonnays', 'symptoms', 'shelf', 'Citizen', 'panel', 'unconstitutional', '1.6', 'Retin-A', 'wrenching', 'neither', 'ratcheting', 'display', 'wheat', 'tilt', '131.01', 'if', 'Diaper', 'More', 'Possibly', 'execute', 'Fernando', 'mid-October', 'socialist', 'Tiny', 'designer', 'adviser', 'anger', 'Assistant', 'advertised', 'York', 'Probably', 'skin', '*-57', 'Freud', 'meetings', 'Roland', 'talks', 'Moreover', '5.82', 'pockets', 'resources', 'Devon', '*-151', '*-111', 'cruising', 'caveat', 'theological', 'sweater', 'AT&T', 'roll', 'Sasaki', 'Gayle', '1993', \"O'Neill\", 'concept', 'sprightly', 'Stung', 'achievement-test', '4.3', 'Jeffrey', '51', 'operating', 'automotive-parts', 'comment', 'Youths', '200', 'familiar', 'Compare', 'downturn', 'Hadson', 'manager', 'Freshbake', '14.5', 'necessarily', 'front-seat', 'CALL', 'Rick', 'Clays', 'columns', 'Purchase', 'DIALING', 'Montedison', 'compliance', 'pharaohs', '350', 'budget', '63', 'defends', 'retained', 'accounts', 'annually', '*T*-205', 'managed', 'ideological', 'should', 'two-letter', 'Rudolph', 'unrealistically', 'intoxication', 'qualify', 'leveling', 'five-point', 'bulldozers', '*RNR*-4', 'platinum', 'stirred', 'acquire', 'opinions', 'entrusted', 'storage', 'asserts', 'Albuquerque', 'Treble', 'money-losing', 'clamped', 'cement', 'nature', 'Behind', 'Woodcliff', 'US', 'truce', 'barrel', 'del', 'Majority', 'Bond', 'tally', 'Amsterdam', 'protective', 'movement', '6,500', 'By', 'encourage', '*-47', 'gyrate', 'incomplete', '6.84', 'accidentally', 'loom', '*-44', 'bottles', 'Three', 'servicing', 'noble', 'Examiner', 'fancy', 'occurs', 'proposals', 'understands', 'public', 'marching', 'whipsaw', 'Tuesday', 'Reached', 'coming', 'cheapest', 'battered', 'users', 'FERC', 'undergoing', 'Invariably', 'fared', 'rape', 'kit', 'quarterly', '230-215', '39', 'external', 'Disputado', 'weapon', 'countries', 'reasoning', '14.00', 'permanent', 'hard', '142.85', 'breathe', 'benefited', 'declare', 'News', 'return', '*-31', 'Education', 'savings', 'current-carrying', '1787', 'circuit-breaker', 'followed', 'Shapiro', 'Being', '240,000', 'right', 'balkanized', 'part', 'Dollar-yen', 'Rouge', 'rancor', 'tenfold', 'concentration', 'Week', '55.1', '6.70', 'hour', 'begot', 'Pa', '*?*', 'takeover', 'attack', 'seasoned', 'duties', '1934', 'plea', '54', 'guarantee', 'pickups', 'angry', '472', 'homelessness', 'Sebastian', 'varied', 'Commissions', 'Bush', 'inauspicious', 'respected', 'Association', 'telephone', 'non-encapsulating', 'Spreads', 'straight', 'heavy-truck', 'COMMERCIAL', 'attorneys', '374.20', 'Hubbell', 'Monopolies', 'sexy', 'aerospace', 'Nov.', 'shape', 'Las', 'interference', 'stigma', 'principal', 'Phoenix', 'farms', 'Peoria', 'venerable', 'campaign', 'withdrew', 'additional', 'measured', '*T*-49', 'PAP', 'involves', 'freeway', 'bat', 'blessing', 'hopes', 'Norfolk', 'centerpiece', 'else', 'Securities', 'austere', 'presumably', 'whose', '126.15', 'trend', 'Otherwise', 'books', 'Absorbed', 'surrendered', 'design', 'vintages', '1972', 'led', 'clean-up', 'projector', 'written', 'aftereffects', 'Dai-Ichi', 'Vitulli', 'Wong', 'Supportive', 'augment', 'nonfinancial', 'predicting', 'shovels', 'defects', 'privilege', 'cycle', 'Grace', 'press', 'complains', 'attorney-client', 'historically', 'car-development', '88.32', 'ad', 'playing', 'dry', 'defying', 'Builders', 'band-wagon', 'N.J', '184', 'N.Y.', 'R.P.', 'autumn', 'exceptionally', 'through', 'genuine', 'breathtaking', 'honorably', 'truthful', 'leather', 'Ala', 'human', 'attacks', 'loading', 'line', 'unstinting', 'stadiums', 'bell-ringing', '16\\\\/32', 'date', 'disappear', 'greatly', 'Typically', 'girlfriend', 'native', '32', 'journalistic', 'Fannie', 'COLLECTING', 'publishes', 'combination', 'Integra', 'breakfast', '*T*-179', 'loyalty', 'riding', '8.55', 'add', 'grader', '500,004', 'Why', 'destroy', 'empowers', 'Parents', 'educated', 'gets', 'beheading', 'increasingly', 'Factories', 'IRS', 'delay', 'Hold', 'beer-belly', 'loved', 'packages', 'Travelers', 'tallies', 'shadows', 'compelling', 'felonies', 'East', 'sight', 'America', 'father', 'advise', '*T*-89', 'Since', 'agreed', 'Orders', 'volunteer', 'China', 'ordeal', 'goodies', 'liable', 'Combo', 'anemic', 'seats', 'year-ago', 'report', '77.56', 'Both', 'wasted', 'therapies', 'infusion', 'boy', 'guys', 'Attwood', 'redeemed', 'public-relations', 'sewer', 'Braidwood', 'printed', 'BMP-1', 'streets', '1992', 'Bunny', 'Train', 'unlike', 'specialist', 'amendments', 'capitalism', 'tickets', 'generate', 'hugging', 'Chandler', 'Trust', 'Story', 'River', 'ability', 'bread-and-butter', 'beat', 'Medical', 'instruments', 'Lilly', 'stalemate', '550,000', 'undersecretary', 'cleared', 'Thomas', 'tried', 'regulate', 'Joni', 'founder', 'round', 'unavailability', 'upscale', 'carries', 'Wall', 'Francis', 'confirms', 'Calif.-based', 'warnings', 'friend', 'steeper', 'appropriate', 'pregnant', 'Rep.', 'first-half', 'Dean', 'school', 'utility', 'introduced', 'criteria', 'Journal', 'durable-goods', 'fast-food', '18-year-old', 'imperative', 'school-research', '1980s', 'certificate', '*T*-88', 'technology', 'Administration', 'Consequence', 'DDB', 'University', 'entire', 'anything', '221.4', 'till', 'losses', 'Simeon', 'open-end', 'extra', 'Arlington', '*T*-24', 'Iowa', 'crusade', 'celebrity', 'run', 'must', 'seems', 'replicating', 'Annualized', 'undertaking', 'deposit', 'discarded', 'successful', 'thirtysomething', 'collaborated', 'alleged', \"'ve\", 'vinyl', 'significance', 'Fuentes', 'bone', 'comparable', 'sympathetic', 'empty', 'Spitler', 'clashed', 'staggering', 'reductions', 'passbook', 'situations', 'Budget', 'sunny', 'rural', 'exceptional', 'SDI', 'surprise', 'invented', 'civilization', 'planned', 'reformers', 'limited-partnership', '40-year-old', 'entice', 'lunch', 'finding', 'cascading', 'university', 'revolt', 'reaching', 'depository', 'takings', 'size', '1.92', 'sells', 'Feeding', 'travel', 'ceramic', 'TRS-80', '*-110', 'Related', 'Some', 'chosen', '0.54', 'Many', 'congressmen', 'seeing', 'yttrium-containing', 'deaths', 'settlement', 'flirted', '1990s', 'consequence', 'genes', 'concession', 'yen', 'Dobson', 'deputy', 'durable', 'candidate', 'to', 'after-tax', 'Bund', 'Hamilton', 'giving', 'tens', 'bundling', 'mudslinging', 'cavernous', 'Piper', '22.75', 'laughing', 'ban', 'range', 'harassment', 'relocate', 'Anne', 'fiber', 'Dakota', 'credits', 'restaurants', 'populated', 'Exports', 'crocidolite', 'hands', 'President', 'change', '8.65', 'NCR', 'Barth', 'notable', '5,699', 'pay', 'unproductive', 'riders', '*-163', 'Aurora', 'ethical', '105', 'Younkers', 'Moscow', 'Mason', 'Oklahoma', 'alumni', 'unchanged', 'Preston', 'stem', 'borrowings', 'lap-shoulder', '83,206', 'spin-off', 'decorator', 'Belt', 'brilliantly', 'multiplying', 'Britta', 'results', '3.375', 'Domestic', '82,389', 'solutions', 'yon', '*-49', 'fallen', 'gilt', 'Vargas', 'players', 'downside', 'cooled', 'PORTING', 'derisively', 'unpopularity', 'period', 'referred', 'trends', 'mousseline', 'tendering', 'marbles', '1903', 'opposition', 'cents-a-unit', 'Buick', 'Also', 'recouped', 'cracks', 'one', 'disparate', 'inflation', 'Renaissance-style', 'terrorists', 'South', 'Barrels', 'Bethlehem', 'Vos', 'attracted', 'Chinchon', '-LCB-', 'putting', 'N.J.', 'old-time', 'Petrus', 'Regarded', 'eight', 'against', 'curses', 'Buyers', 'Scott', 'individual', 'younger', 'IMSAI', 'fashion', 'correspondence', 'looking', 'feet', 'overcrowding', 'discontent', 'bust', 'aircraft', 'squad', 'Melamed', 'Peninsula', 'instruction', '*T*-174', 'disseminating', 'vast', 'Makato', '#', 'Orchestra', 'good-natured', 'observance', 'schoolboys', 'Stag', 'Nagymaros', 'materialistic', 'rapid', 'bilingual', 'soybeans', 'ticket', 'Lizhi', 'located', 'withdraw', 'scoop', 'near', '*T*-4', 'compensation', 'spurned', 'pulls', 'impede', 'Victor', 'offsetting', 'Form', 'waivers', 'leases', 'approve', 'sectors', 'neat', 'former', 'NBC-owned', 'Academically', 'incentive', '109.73', 'employee', '43.875', 'aces', 'year-earlier', 'disaster', '605', '8.60', 'asset-valuation', 'vehicles', 'dealers', 'contacts', 'empire', 'performed', 'Finance', 'said', 'mentally', 'Palisades', 'swings', 'oust', 'economics', 'company', '*T*-256', 'promissory', 'obtain', 'single-handed', 'Hammacher', 'evening', 'unsettled', 'words', 'energetic', 'industrialized', 'Traders', 'existence', 'AND', 'Authority', 'Bell', 'slippery', '15,000', 'bickering', 'unmarked', 'marriages', 'mating', 'TRUST', 'DyDee', 'lobbies', '45.75', 'Scoring', 'win', '*T*-210', '*T*-51', 'owned', 'Samuel', 'subsequent', 'source', 'move', 'chemicals', 'instances', '80', '38.375', 'describes', 'three-month', 'view', 'bench', 'magnified', 'nonrecurring', 'knowledgeable', 'ASSOCIATES', 'factoring', 'specialty', 'Guild', 'full-year', 'eternal', '374.19', 'NRDC', 'information-services', 'visitors', 'limited', 'fewer', 'stage', 'seem', 'pack', 'purposes', 'bin', '372.9', '1.56', 'pursue', 'market-oriented', 'Carter', 'fast', 'mushy', 'church-goers', 'state-supervised', '2.75', 'Communist', 'cow', 'Wis.', 'BTR', 'claimed', 'tune', 'violated', 'tested', 'now', 'p.m', 'evensong', 'bearish', 'fetal', 'milestone', 'Standard', 'Mergers', 'Hudson', 'intraday', 'picking', 'Paris', 'McGovern', 'obtaining', 'Beth', 'college', 'imposing', 'four-color', 'Sit', 'troop', 'W.D.', 'J.P.', '38', 'inventory', 'phony', 'growths', 'semiconductor', 'reforms', 'torrent', 'Scandinavian', 'devised', 'Jr.', 'taxpayers', 'the', 'Puccio', 'kind', 'revising', 'Tribe', 'consider', 'Richard', 'sentimental', 'Insurance', 'deplorable', 'blip', 'assault', 'Last', '16,000', 'foldability', 'Brussels', 'regarded', 'matters', 'high-risk', 'inaccurately', 'machine', '8.64', 'Collector', 'recently', 'fill', 'Murray', 'binge', 'emphasized', '*T*-204', 'compound', 'production', 'NIH-appointed', 'mail', '60,000', 'windfall', 'consultant', 'taken', 'campaigns', 'denies', 'inverted', 'The', 'authorities', 'cruise', 'Torrington', 'mid-1990s', 'dismay', 'serve', 'PAPERS', 'Signet', 'silicone', \"C'mon\", 'classifications', 'Candela', 'Aloha', '350,000', 'nobody', 'shot', 'matter', 'ensembles', '26.8', 'wine-buying', 'useful', \"O'Brien\", 'How', 'merit', 'Sol', 'WFRR', '--', 'classes', 'institution', 'Terms', 'Telephone', '608,413', 'massacre', '7.65', 'partner', 'adds', 'pressing', 'desperately', 'drink', 'reprint', 'wrongdoing', 'wine-making', 'rhythm', 'chain', 'Pittsburgh', 'Kingsbridge', 'Doak', '*T*-229', 'fare', 'Seahorse', 'resigned', '7.5', 'outrage', 'seize', 'transplant', '2017', 'regime', 'Teacher', 'hazards', 'built-from-kit', '3.04', 'Mickey', '*ICH*-3', 'Canepa', 'spurred', 'Huber', 'lobbyists', 'aghast', 'rated', 'Lobsenz', 'beers', 'Your', 'Interviews', 'Lentjes', 'pair', 'receipts', 'abuse', 'less-than-brilliant', 'brakes', 'Squier', 'survivor', 'Democracy', 'reflected', 'Orange', 'easier', 'downfall', 'self-perpetuating', 'sigh', 'Delaware', 'climbed', 'Portugal', '45.3', 'vowed', 'gained', 'waive', 'Mead', 'thread', 'claims', 'acquirer', 'elaborate', '*-94', 'enabled', 'preferences', 'organized', 'proving', 'curbed', 'Freddie', 'agreed-upon', 'sending', '*T*-236', 'lifted', '*-166', 'Parent', 'April', 'Waste', 'aimed', 'accord', 'someone', 'COPPER', '*-121', 'retraced', 'valued', 'outlook', '1975', 'logjam', 'Delegates', 'States', 'indulging', 'intense', 'composed', 'swelling', 'bright', 'Heating', 'involved', 'complaints', 'information', 'lab', 'deals', 'harass', 'Neuberger', 'board', 'positioned', '21.9', 'tenure', 'joined', 'Hugo', 'Market', 'His', 'male', 'Advice', 'Fujitsu', 'purhasing', 'INS', \"'s\", 'dissolves', 'Estate', 'machines', '*T*-23', 'NBC', 'acknowledges', 'believed', '.', 'Until', 'ENERGY', 'Venture', 'Designated', 'NIH', 'Apple', 'News-American', 'Chabrol', 'cooperating', 'clearance', 'ultimate', 'publicity', '420', 'of', 'became', 'far', 'regimented', '0.50', 'clippings', 'calculated', 'bankruptcy-law', 'Gerald', 'male-dominated', 'violations', 'friends', 'market', 'include', 'Generalized', 'kids', 'devouring', 'compilation', '18,000', 'delisted', 'Oxnard', 'Taurus', '*-20', 'practitioners', 'filters', '5', 'Board', 'Madison', 'employees', 'trades', 'funded', '38.5', 'area', 'Lakes', 'lion', '2,700', 'indicated', 'Japanese', 'gut-wrenching', 'notified', '*-25', 'Sherwood', 'involve', 'relevance', 'were', 'Deng', 'Internatonal', 'explore', 'passers-by', 'off', 'Prize', 'light', 'card-member', 'optimism', 'parliament', 'Gregory', 'brat', 'values', 'midsized', 'Legislating', 'gross', 'trademark', 'Takes', 'tricky', 'odds', 'advertisers', 'Further', 'amphobiles', 'prominently', 'why', 'spiders', 'viewpoints', 'Cancer', 'uncompensated', 'flow', 'spurns', 'stayed', 'cancer', 'banned', 'capitalized', 'inmates', 'markdown', 'hydraulically', 'fights', '169.9', 'mistake', 'directorship', 'Tuscany', 'Nomura', 'Common', 'McGuigan', 'belfry', 'Icahn', 'total', 'centennial', '23.25', '*T*-67', 'meal', 'prosecutors', '*T*-192', 'tooth', 'causing', 'quantitive', 'long-term', 'CTBS', 'technologies', 'improper', '*T*-245', 'North', '21', 'versions', 'backing', 'assist', 'Mulford', 'Research', 'exclusion', 'Bretz', 'Cask', 'agency', 'prints', 'peaceful', 'prizes', 'Rent-A-Car', 'Meridian', 'resentment', '*T*-62', 'searching', 'larger-than-normal', 'winding', 'approached', 'computer-generated', 'net', 'plant', 'justices', 'counterparts', '*T*-187', 'full-time', 'Piero', 'Constitutional', 'apology', 'entertainment', 'madly', '750', 'perceptions', 'Carl', 'slide', 'placing', 'rebellion', 'Jamaica', 'Hart-Scott-Rodino', 'let', 'voice', 'reclaimed', 'crucial', 'feel', 'syndrome', 'milestones', 'feeds', 'History', 'tuck', 'Gillett', 'proposed', 'weaken', 'technically', 'Nelms', 'index-related', 'cheaper', 'high-yield', 'cake', 'Mannix', 'denied', 'UNION', 'labor-management', 'enticed', 'Proponents', 'Says', 'Chevrolet', 'wage', '7.20', 'penalties', 'death', 'Reames', 'German', 'Butler', 'had', 'Hale', 'risk-free', 'protein', 'Barbaresco', 'synthetic', 'decision', 'essentially', 'increasing', 'DEFENSE', 'early', 'genie', 'Cedric', 'Elsevier', '*-69', 'grant', 'Rey', 'Micronite', 'acquires', 'Breeden', '47.6', 'difficult', 'departure', 'NetWare', '*-104', 'heard', 'takes', 'joins', 'Customers', 'fixed-income', 'numerous', 'Turnaround', '2691.19', 'pushing', 'driving', 'Cole', 'forced', 'toll', 'scholars', 'shops', 'sides', 'markets', '*-1', 'reserves', 'locations', 'scientists', 'frequency', 'provision', 'LANDOR', 'defensive', 'carried', 'best-seller', 'Similarly', 'setting', 'Photography', 'fastest-growing', 'deprivation', '1:30', '17.3', 'would', 'marketer', 'escaped', 'castle', 'insert', 'billion-dollar', 'low', 'full', 'defines', 'Democrat', '188.84', 'young', 'Bridges', 'Trettien', 'forgotten', '*-43', 'beds', 'remaining', 'retirement', 'hold', 'gives', 'Today', 'liability', 'subsidiary', 'stifle', 'Camilli', 'differ', 'reeling', 'USA', 'demanding', 'heebie-jeebies', 'announcer', '2,050-passenger', 'hurting', '77,000', 'Nicaraguan', 'clannish', 'volatile', 'Andy', 'registered', 'competitor', 'influenced', 'packed', 'outdistanced', 'openings', '3.4', '*T*-91', 'advances', '227', 'Californian', 'two-thirds', 'economic', 'aids', 'crowd', '46.1', 'decade-long', 'Taittinger', 'insider', 'Mac', 'S.', '*T*-198', 'adequately', 'Chrysler', 'manufacturers', 'minted', 'gyrations', '7.3', 'among', '62-year-old', 'shallow', 'Cheese', 'Taiwan', 'Li', 'actual', 'Pinocchio', 'oppose', 'provoke', 'crippled', 'pillow', 'sympathy', 'mergers', 'proportion', 'Due', 'pool', 'Practical', 'merely', '14.', 'longer', 'carrying', 'scientific', 'are', 'consented', 'aggravated', 'underscore', 'ring', 'Green', 'Scholastic', 'evaluated', 'Muscolina', 'textile', '1,500', 'Ore.', '8.15', 'staff', 'Murakami', 'rarefied', 'discontinue', 'sparing', 'season', 'funds', 'Pamplin', 'Co', 'tactics', 'puzzled', 'curtailed', 'heart', '*-164', 'Samnick', 'Gardner', '...', 'two-year', 'Enzor', 'Toledo', 'betrayer', 'constraints', 'resistant', 'extended', 'fourth-quarter', 'prying', 'holds', 'boosting', 'withdrawal', 'diethylstilbestrol', '*T*-61', 'introduces', '3', 'power', 'Jovanovich', 'Oliver', 'firmly', 'mind-boggling', 'Performing', 'waters', 'formal', 'longer-term', 'guild', 'connection', 'helped', 'goal', 'three-sevenths', 'overused', 'restructuring', 'history', 'sustained', 'overleveraged', 'hard-drinking', 'short-wave', '*T*-69', 'fuller', 'Risks', 'played', 'County', 'careful', 'convenient', '130', 'depleted', 'FBI', 'surge', 'James', 'Pierre', 'beforehand', 'Driscoll', 'types', 'Landonne', 'bit', 'Walt', 'Texas', '0.56', 'amended', 'doctorate', '*T*-68', \"'d\", 'vision', 'restricts', 'Rey\\\\/Fawcett', 'Mo.-based', 'diversification', 'Oct.', 'its', 'phone', 'folks', 'rung', '2000', '25', 'keep', '*-112', 'until', 'expected', '*T*-213', 'Guarantee', 'flights', 'dreadful', 'Lumpur', 'punitive', 'emerging', 'franc', 'downtown', 'corporations', 'mean', 'promotion', 'views', '26.2', 'everywhere', 'SOYBEANS', 'vetoes', 'Wayne', 'prison', 'put', 'absorbed', 'tort', 'sweeping', 'ringers', 'peaked', 'fringe', 'surged', 'Circuit', 'region', 'launch', 'photos', 'bricks', 'approval', 'Typical', 'successfully', 'collective-bargaining', \"'50s\", 'arguments', 'minority-owned', 'debate', '*T*-259', 'unworkable', 'Left', 'billed', 'reps', 'Shokubai', 'obstacles', '*-54', 'copyrights', '16.2', 'Carballo', 'dissemination', 'first-rate', 'identified', 'examination', 'Elizabeth', 'England', 'makes', 'Beginning', 'arrested', 'races', 'older', 'unemployment', 'seemed', 'Antonio', 'finalized', 'Negus', 'plans', 'expressly', 'cease-fire', 'inform', '1.9', 'Islamic', 'Chicago', 'Computer', 'cane', 'laser', 'Deere', 'Valhi', 'Wakayama', '50.1', 'present', 'Register', 'heads', 'Skinner', 'their', 'payment', 'Winning', '9.3', 'a', 'sociology', 'planners', 'faced', 'justifying', 'Shores', 'Who', 'retailing', 'fret', 'prostitute', 'worsening', 'sue', 'buyer', 'objective', 'singled', 'stocks', 'locked', 'international', '*T*-218', 'Destinations', '2.6', 'co-author', 'oil', 'stacked', 'disconnect', 'double-C', 'nickname', 'Hiroshima', 'counting', 'procedure', 'Food', 'acceded', 'automated', 'Standing', 'overstated', 'shipments', 'row', 'progress', 'sole', 'Marietta', '29.3', 'disturbing', '4,000', '251.2', 'sellers', 'getting', '*T*-7', 'World', '*T*-135', 'widespread', 'Mortgage-Backed', 'pounds', 'distributes', '*-22', 'POP', 'confirm', 'Doerflinger', 'attempts', 'Commodore', 'root', 'chocolate', 'every', 'generous', 'Vineyard', 'proceeds', 'Mitsubishi', 'Foster', 'mathematics', 'model', '9\\\\/32', 'encircling', 'over', 'sleeping', 'in-store', 'lead', 'single-family', 'curtail', '37.3', 'Observing', 'On', '90-cent-an-hour', 'reimbursed', 'headlined', 'Ray', 'Coche-Dury', 'executed', 'although', 'eliminated', 'Nomenklatura', 'Landor', 'Correll', 'Equitable', 'Gotta', 'overtime', 'offers', 'retaliation', 'joint', 'Namibian', 'allies', 'unless', 'units', 'ailing', 'complex', 'Glauber', 'looks', 'election', 'Deposits-a', 'trap', 'Garry', 'meant', 'urged', 'Leinonen', '70-a-share', 'Fang', 'persuasive', 'Hawke', 'district', 'double', 'slowed', 'slope', 'Mona', 'F-series', 'clobbered', 'AG', 'likely', 'hitting', 'recommend', 'Whip', 'executive', 'nominees', 'liberals', 'Edelman', 'Guerrilla', 'eyes', 'shop', 'concerned', 'speedway', 'tender', 'Zuckerman', 'unlabeled', 'firings', 'unsecured', '778', 'Courter', 'colleagues', 'rarely', 'crowded', 'Shorter', 'favorite', 'strongest', 'sensation', 'develops', 'Uncertainty', '*T*-242', 'carefree', 'collection', 'side-crash', 'exploded', 'division', 'systems', 'ultimately', 'superiors', 'Petroleum', 'Alfred', 'tires', 'Wright', 'expenses', 'polls', 'arbitragers', 'India', 'money-center', 'dinner', 'superior', 'consultants', 'evaluating', 'coupon', 'Jimmy', 'finally', 'dashed', 'Nippon', 'takeover-stock', 'Traditionally', 'accompany', 'creating', 'causes', 'ratings', '*T*-257', 'joy', 'intention', 'nine-member', 'mention', 'Akerfeldt', 'slow', '27-year', 'No', 'Corazon', 'commissions', 'specializes', 'spooked', 'fluctuation', 'McAuley', 'where', 'legislation', 'suffered', 'constantly', 'spent', 'standardized', 'Different', 'Level', 'road', 'Hospital', 'Hours', 'Northeast', '12', '*T*-171', 'L.A.', '*T*-1', 'normally', '15', 'opposed', 'struggled', 'System', 'incomes', 'Lewis', 'camera', '1988', 'N.H.', 'Amendment', 'intellectual-property', 'process', 'brokers', 'referring', 'Russian', 'trimming', '*T*-19', 'Chapman', 'top', 'onto', '*T*-155', '1970', 'Sales', 'Rusty', 'Reserve', 'sacrificing', 'producing', 'membership', 'class', 'suggested', '*-53', 'American', 'Bendectin', 'one-newspaper', 'entered', 'anxieties', 'gather', 'Too', 'pleased', 'Motors', 'slip', '*-161', 'qualities', 'creativity', 'Conn.based', 'Social', 'chunk', 'novel', 'structures', 'supporters', 'shown', 'foreign', '``', '*-138', 'Test', 'warrants', 'Mehrens', 'SERVICES', 'democracy', 'explosive', 'Dreyfus', 'matched', 'teaching', 'Norwegian', 'colleges', 'himself', 'intertitles', 'flooded', 'Hummerstone', 'increases', 'brand', 'commitment', 'Antitrust', 'strong-willed', 'Automobile', 'red-carpet', 'fraction', 'Consent', 'Output', 'alleviate', 'Strategic', 'breaks', 'Current', 'recovery', 'executes', 'Panama', 'smoke', 'Greer', 'Paul', '730', 'renovated', 'ongoing', 'effect', 'everybody', 'Survey', 'equaling', 'Hurricane', 'slew', 'economies', 'Lee', 'lifting', 'well-connected', 'how-to', 'been', 'refuses', 'halls', 'Olympic', '84-year-old', 'Wohlstetter', 'prices', 'Latour', 'legislative', 'not', 'exercisable', '2.87', 'touch', '*T*-224', '3.43', 'AMR', 'environment', 'winners', 'interactions', 'cozy', 'journalists', 'such', 'joint-venture', 'flat', 'containers', 'temporarily', '1995', 'eat', 'jam', 'skilled', 'signal', 'Superconductors', 'Smelting', 'creates', 'associate', 'Einhorn', 'benchmark', '879', 'READY', 'buying', 'fueled', 'Irwin', 'navigation', 'Feniger', 'models', 'distant', 'films', 'topped', '7.74', 'designing', 'drawn', 'four-year-old', 'West', 'Bells', 'Reuter', 'Houghton', 'Don', 'nearly-30', 'End', 'Cataracts', 'Minister', 'Commodity', 'geography', '107.03', 'clarify', 'newsstand', 'popularly', 'scammers', 'poor', 'Austin', 'Brothers', 'letting', 'heavy-duty', '1980', 'Several', 'Sanford', 'Richmond', 'with', 'permissible', '*T*-95', 'spackle', 'chairs', 'mainland', 'advertisements', 'Periods', 'trouble', 'compositions', 'pilots', 'Hammersmith', 'falsify', 'discontinued', 'group', 'starting', 'talking', 'resign', 'Impact', 'completeness', 'expressing', '10,000', 'gradually', 'unlikely', 'Credit', 'Angier', 'cleanup', 'Minneapolis', 'folio', 'Europe', 'Noriega', 'N.C', 'Metal', '*T*-158', 'Policy', 'stronger', 'regardless', '*-72', 'unsuccessfully', 'restaurant', 'Bankers', '191.9', 'nameplate', 'appliances', 'air', 'gauge', 'Marie', 'unknown', 'Novello', 'rough', 'Valley', 'C.J.B.', 'adding', 'audience', 'transporting', 'currently', 'lessen', 'cuvees', 'targeting', 'lease', 'Hanover', 'classics', 'crushed', 'current', 'Neal', 'confident', 'Hayne', 'sum', '*-33', 'viewing', 'scarcely', '1,100', 'engineer', 'standard', 'heavy', 'glamorize', '1989-90', 'highs', 'jockeys', '534', 'disclose', 'surprising', 'Nederlanden', '1973-75', 'Saul', 'Arthur', 'decried', '310', 'universally', '*-71', 'Stocks', '6.25', 'bureaucracy', 'engineered', 'has', 'speculators', 'stunned', 'Enright', 'poison', 'point', 'copied', 'exist', 'outsiders', 'expenditures', '*T*-74', 'immune', '*-7', 'Only', 'accountants', 'cigarettes', 'paperback', 'Citicorp', '*T*-195', 'shipyard', 'quick', 'quarters', 'speculating', 'Rubber', 'inoperative', 'style', 'facial', 'Riyadh', '388', 'Syndicate', 'examinations', '9.9', 'major', 'In', 'review', 'classed', 'Individuals', 'billions', 'price', 'administration', 'Corp', 'solicitation', 'Sonnett', '*-160', 'gamut', 'fires', 'convert', '3.42', 'municipal', 'filter', 'grain', 'blood', 'scuttle', 'nonexecutive', 'category', 'industrywide', 'speech', 'teacher', 'session', 'declines', 'hitter', 'Nationwide', 'rounds', 'sponsors', 'Diceon', 'slipped', 'Heidelberg', 'beneficiaries', 'Wadsworth', 'silver', 'Rapanelli', '*T*-230', 'newcomer', 'writing', 'Russel', 'Guaranteed', 'Something', 'Steinberg', 'Sure', '*T*-111', 'DNA', 'deny', '*T*-145', 'Aerojet', 'killed', '50,000', 'collateral', 'ought', 'diaper', 'paltry', 'Hiroshi', 'Exchange', ',', 'dexterity', 'damage', 'dislike', 'workplace', 'syndicate', 'segments', 'wizards', 'racket', 'APPEARS', 'fighters', 'virtually', 'estimation', 'Advancing', 'custom-chip', 'releases', 'El', 'Fairless', '-RCB-', 'plane', 'districts', 'appears', '1,570', 'program-trading', 'luxury', 'Community', 'park', 'advantage', 'levels', '*T*-182', 'Ackerman', 'billion', 'harder', 'tall', 'bankers', 'passenger-car', '210', 'export', 'exchange', 'Opus', 'Companies', 'Fe', 'eliminating', 'Babcock', 'raising', 'Nationale', 'inherited', 'signed', 'somehow', 'asset', 'elsewhere', 'passenger', 'fully', 'page', 'loops', 'refused', 'improving', 'Campaign', 'nose', 'surveyed', 'sufficient', 'increase', 'high-balance', 'laboriously', 'century', 'Fed', 'espouse', 'fastest', 'contesting', 'considerable', 'TWO', '16.68', 'treat', 'keeps', '900', 'scale', 'Raton', 'Montgomery', 'Nancy', 'Ark', 'bankruptcy', 'multibillion-dollar', 'jitters', 'Posted', 'Fantasy', 'sweepstakes', 'solely', 'amendment', 'links', 'Kidder', 'ushers', 'generated', 'Deane', 'despise', 'Clarence', 'Eaton', 'difficulties', 'Bonnell', 'offset', 'mobster', 'Nearby', 'Justice', 'globally', 'stock-picking', 'discounts', 'Graham', 'fetching', 'advocated', 'lady', 'disclosed', 'tablets', 'newsweekly', 'lowest', 'Davenport', 'banquet', 'expedited', 'liquid-nitrogen', 'fibers', 'Yeargin', 'debt', 'Government', 'proponents', 'families', 'Jonathan', '&', 'Allergan', 'architects', 'salable', 'le', 'refinery', 'refuge', '909', 'financing', 'Shugart', 'Manufacturing', 'fall', 'weighing', 'SWITCHING', 'campaigning', 'nets', 'producer', 'Phillip', 'using', '62', 'dominating', 'Altogether', 'borough', '10-year', 'Jews', 'reform', 'edition', 'government-owned', 'pulp', 'contingent', '*-70', 'drop-in', 'Housing', 'deregulation', 'also', 'oblivion', 'airplane', 'expense', 'across', 'high-level', 'Gold', '7.90', 'substance-abusing', 'pursuant', 'failing', 'corn', 'maintaining', 'decisions', 'Switzerland', 'changing', 'activity', 'weigh', 'demographic', 'Roukema', '141.9', 'electric', 'stock-selection', 'Jobs', 'Professional', 'flatulent', 'disturbs', '*-4', 'population', 'requires', 'wide', 'sometimes-exhausting', 'reacted', '20.5', 'Brace', 'rigors', 'jumps', '850', '0.5', 'knife', 'Gartner', 'promotions', 'slack', 'Tailors', 'Daniels', 'hidden', '*T*-73', 'skip', 'rises', 'Petersburg', 'gored', '*-133', 'hefty', 'economical', 'cable', 'fails', 'evoke', '*-29', 'quiet', 'Issues', 'dirty', 'demobilize', 'our', 'answered', 'who', 'tremendous', 'primarily', 'architectural', 'When', '35.7', 'vicissitudes', 'scared', 'POTABLES', 'Linden', 'crib', 'go', 'suspension', 'grade', 'appointments', 'occurrences', 'Chafic', '*T*-196', 'social', 'intend', 'jumped', 'Eugene', \"O'Loughlin\", 'relieve', 'psychiatric', 'things', 'Courts', 'inadequacy', 'plenty', 'voters', 'equipped', 'Nofzinger', 'points', 'convince', 'hottest', 'None', 'undertone', 'elephant', 'vs.', 'evident', 'lawmaking', 'trespass', 'faster', 'upbeat', 'Most', 'Inland', 'scaring', 'referenda', 'W.R.', 'administrator', 'Sprint', '1985', 'interview', 'exceeded', 'examined', 'exceeding', 'Copperweld', 'disappointed', 'Bill', 'returned', '*T*-101', 'branch', 'yielded', 'screen', 'ultimatum', 'octogenarians', 'Brunswick', '68', '8.47', 'manufacture', 'photographic', 'dilemma', 'water-authority', 'principals', 'Fund', 'multinationals', 'anti-abortionists', '1.75', 'Buckhead', 'called', 'Imports', '*T*-247', 'Bar', 'chat', 'resistance', 'nuclear', 'showing', '1.35', 'rim', '992,000', 'Inc', 'Hollingsworth', '23.5', 'Kent', 'converting', '19', 'implement', 'appropriation', 'market-based', '240', 'bicameral', 'slower', 'broadcasts', 'aftermath', 'shipped', 'stereo', 'Lord', 'Magleby', 'Asians', 'rate-sensitive', 'A.C.', 'allow', 'negotiator', 'de', 'Tip', '*T*-243', 'slippage', 'Ann', 'inching', 'memories', 'fend', 'protests', 'walls', 'repair', 'cushion', 'Gorman', 'preparatives', 'diverse', 'leveraging', 'enormously', 'circulation', 'Donaldson', 'hair', 'Michael', 'Basham', 'hole', 'conflict', 'crackdown', 'denominator', '340,000', 'Heatherington', 'Soldado', 'Columbus', 'marketplace', 'cloth', 'Waterloo', 'Simmons', 'medium-sized', 'awarded', 'clearly', 'feasible', 'London', 'rectified', 'staid', 'quantity', 'threatened', 'INTER-TEL', 'historical', 'balls', 'money-fund', 'language', '6.40', 'option', 'tentatively', 'ABORTION', 'humans', 'Literacy', 'Spanish', 'romanticized', 'ounce', 'oils', 'video-viewing', 'American-made', 'car-care', 'Then', 'served', 'mend', 'Woolworth', 'Care', 'one-upsmanship', '1977', 'thought', 'Jalaalwalikraam', 'fixed-price', '*-82', 'Bowes', '339', 'reach', 'sudden', 'trimmed', 'drop', 'drag-down', 'Salon', 'obligated', 'rather', '16.5', 'panic', 'sphere', 'drift', 'Speedway', '380', 'livelihood', 'chopped', 'includes', 'Follow-up', 'scandal', 'withhold', 'fills', 'appeals', '14.53', 'Rockford', 'heavily', 'Berlin', 'Pickens', 'PAPER', 'dumbfounded', 'stadium', 'Reasons', 'punish', 'floors', '0.60', 'acquisitions', 'Jacksonville', 'subpoenaed', 'accomplishments', 'material', 'sorts', '47.5', 'derived', '*-145', 'Saints', 'breathed', '*T*-70', 'sites', 'elevators', 'jostle', 'SCI', 'Florida', '4.898', 'expanding', 'Dana-Farber', 'drinks', 'superpremiums', 'PLO', '13.625', '58', 'face', 'assets', 'attracts', 'document', 'Corp.', 'U.S.A.', 'Oak', 'Brands', 'anytime', 'Fears', 'maturities', 'alarmed', 'red-and-white', 'asking', 'sketch', 'binders', 'polarized', 'fragmentation', 'distorted', 'skills', 'badly', 'circumstances', 'statistics', 'substitute', 'Cellar', 'Colleges', 'Pet', 'note', '30-minute', 'Acceptance', 'Walbrecher', 'decided', 'kicked', 'barrels', '3.253', 'Child', 'mortgage-based', '61', 'Berman', '11,000', 'locally', 'HOME', 'triple', 'heartland', 'football', 'railroad', '*-162', 'newspaper-printing', 'sometimes', 'placed', '30-point', 'Closes', 'evaluation', 'limits', 'Law', 'sections', 'life-of-contract', 'shaky', 'Chairman', 'MEDICINE', 'giants', 'moment', 'freedoms', 'escape', 'provisions', 'barge', 'high', 'currency', 'Gov.', '705.6', 'Sea', 'Reed', 'Corporate', 'psychiatrist', '29.4', 'Hills', 'flourish', 'Foods', 'million-a-year', 'fluctuations', 'boosters', 'ASSETS', 'independence', 'Choose', 'tidily', 'rampage', 'INQUIRY', 'single-handedly', 'Indonesia', 'signs', 'subscriptions', 'U.S.-backed', 'G', 'local', 'Kangyo', 'anti-China', 'headquarters', '14-hour', 'six-month', 'moved', 'L.', 'ECONOMIC', 'issues', 'match', 'culprit', '*T*-231', 'WAR', 'programming', 'THE', 'Property\\\\/casualty', '*T*-56', 'valuable', 'investment-grade', 'beneficial', '13,056', 'unheard', 'prohibiting', 'tad', 'phobias', 'building-products', 'lawyers', 'poverty', '9.625', 'notwithstanding', 'decay', 'resume', 'window', 'February', 'job', 'routes', 'topics', '*T*-46', 'Atlanta', '1990', 'test-drive', 'directionless', 'similarity', '*-147', 'received', 'tend', 'sentiment', 'emotional', 'portrayal', 'suggests', 'airline', 'Reuters', 'enhanced', 'wealthy', 'Defending', 'mortgage', 'prominent', 'control', 'dead-eyed', 'boom', 'H.N.', '1973', 'course', 'restructurings', '2.4', 'Bermuda', 'bushel', 'bloods', 'advertorial', 'unwary', 'PHOTOGRAPH', 'instance', 'cornerstones', 'collar', 'verge', 'Cutrer', 'runs', 'reporters', 'consecutive', '450', '2', 'theme', 'state-appointed', 'Buying', 'Saturday', 'cups', 'famous', 'Peabody', 'disagreeable', 'Chilver', 'CAT', 'switched', 'ton', 'Z.', 'Management', 'Money', 'falls', 'MORTGAGE', 'Advance', 'recovering', 'responses', 'contradictions', 'Maughan', 'ceiling', 'voluntary', 'satisfying', 'intelligence', 'miscarriages', 'recalling', 'scrambling', 'select', 'hobbyists', 'publishing', 'curbing', 'Judiciary', '58.64', 'uncharted', '11.95', 'Showa', 'funny', 'enable', 'blue-chips', 'Stuart', 'Backseat', 'extension', 'Rice', 'victory', 'Partnership', 'told', 'Macmillan\\\\/McGraw-Hill', 'lying', 'trim', 'Israel', 'taking', 'due', 'Before', 'rain', 'II', 'appear', 'lesions', 'speak', '57.7', 'tailored', 'municipality', 'Westport', 'Guard', '6.20', 'covered', 'requirement', '55', 'organizations', 'Dutch', 'support', 'analyze', 'protesters', 'Air', 'evoking', 'marketed', '9.45', 'Superdome', 'Debt', 'Jersey-based', '$', 'securities', 'contends', '*T*-50', 'liberty', 'upset', 'weekly', 'giveaways', 'institute', 'non-U.S.', 'elementary', 'realized', 'Hammond', 'top-selling', 'situation', 'alive', 'broke', 'retentive', 'expand', '*-142', 'DES', 'prosecuted', 'counseling', 'blackjack', '8.2', 'arrows', 'betterment', 'corrected', 'charged', 'offered', 'Riviera', 'To', '1928-33', '*T*-219', 'another', 'good-hearted', 'Gates-Warren', 'EXCHANGE', '1991-1999', '4.6', 'fleet', 'traced', 'it', 'Second', 'container', 'manually', 'Hot', 'Guigal', 'devices', 'Ford', 'staff-reduction', 'fronts', 'George', 'INTERBANK', 'Boulder', 'one-house', 'While', 'uncomfortable', 'fixes', 'use', 'Genie', 'responsible', 'Andean', 'practiced', 'SAT', 'Right', 'Triton', '*-64', 'Treasury', 'related', 'shared', 'dolls', 'enjoy', '*T*-239', 'scrutiny', 'Mo.', 'dancing', 'factory', 'ahead', 'maybe', '*T*-16', 'queers', '1969', 'Menem', '2163.2', 'machinists', 'left', 'U.N.-supervised', 'premiere', 'cultivation', '1.1650', 'retiring', 'Test-preparation', 'combines', 'Documents', 'Sayers', 'Impediments', 'Five', 'Income', 'briefings', 'fundraising', 'good-faith', '8300', 'drop-off', 'harmful', 'gelatin', '*-140', 'Daiwa', 'headrests', 'Rosenblum', 'ingredients', '*PPA*-2', 'Delmont', 'Alzheimer', 'investors', '0.9', 'deemed', 'distinct', 'Pat', '3.8', '85', 'Plantation', 'officials', 'acetate', 'land', 'observed', 'hospitals', 'Messrs.', '4.4', 'floated', 'scoffs', '*T*-11', 'Barfield', 'betting', 'Guinea', 'administer', 'editing', '41.60', 'growers', 'US$', 'Affairs', 'Man', 'society', '*-107', '225,000', '148', 'pretty', 'one-month', 'Consumer', 'At', '6,799', 'Nikkei', '271-147', 'Pate', 'Bradley', '400,000', 'carrier', 'Logic', '10', 'Ginnie', 'Burgundies', 'nail', 'come', 'strike', 'obligations', 'crunch', 'waived', 'unions', 'rates', 'Bernstein', 'Hackensack', 'Davis', 'adopt', '42.5', 'Homeless', 'bread', 'child', 'magnitude', '*T*-34', 'than', 'migrate', '1989', '630.9', 'overpaying', 'much', 'foundations', 'expectations', 'entity', 'Fracturing', 'York-based', 'granted', 'meals', 'Cotran', 'Hollis', 'identities', 'Beach', '*T*-165', 'parts-engineering', 'me', 'teachers', 'half-hour', 'name', '1.25', 'styles', 'Ganes', 'FUNDS', 'approves', 'relentlessly', 'map', 're-election', 'downgrading', 'minimal', '90', 'Crew', 'Asada', 'Scowcroft', '334.5', 'Lucille', 'movie', 'ancestry', 'attend', 'Trudeau', 'overdone', 'environmental', 'preapproved', 'Medicine', 'dismal', 'newspaper', 'meaning', 'Kennedy', 'negotiable', 'Adams', 'astronomical', 'survey', 'punishing', 'Elco', 'radioactivity', 'impossible', 'reserved', 'appliance', 'analyst', 'manufactured', 'Wakui', 'particulars', 'create', 'lower-priority', 'careers', 'meanwhile', 'Coast', 'trigger', 'extremely', 'N.C.', 'Still', 'restriction', 'Excision', 'transforming', 'Dorothy', 'issuers', 'desired', 'expect', 'facts', 'willing', 'relation', 'missiles', 'missed', 'extent', '*-155', 'promises', 'snow', 'Soho', 'Fortune', 'fears', 'Soon', 'log', 'Article', 'friendly', 'Iran\\\\/Contra', 'fly', 'natural', 'charging', 'That', 'resists', 'plays', 'namely', 'Pace', 'mammoth', '`', 'oilman', 'antitrust', 'importance', 'monopoly', 'swapping', 'trays', 'tool', 'repeals', 'Symbol', 'Skills', 'crying', '20.07', '11,762', 'crime', '5.8', 'following', 'Soviet', 'action', '83.4', 'Perhaps', 'Marine', 'position', 'Writers', 'corners', 'Blunt', 'PaineWebber', 'painted', '777', 'Thus', 'Ariz.', '*-66', 'Brean', 'moreover', 'Zenith', 'Criticism', 'degree', 'Graduates', 'investigate', 'victim', 'harms', 'dwindling', 'harvest', 'farm', 'surgeon', 'introducing', 'aggressively', 'troublesome', '500-stock', 'turnover', 'Salvador', 'Wood', 'specialists', 'label', 'fixtures', '12.09', 'Achievement', 'contacted', 'Miles', 'wisdom', 'regulation', 'Tire', 'beneficiary', 'cleanliness', 'indexers', 'UAL', '120', '*ICH*-1', 'State', 'met', 'stirrings', 'traffic', 'Organizations', 'finest', 'grim', 'convey', 'wrong', 'crystal-lattice', 'Standardized', '8.53', 'taxpayer', 'court', 'designed', 'noncompetitively', 'head', 'governor', 'police', 'fold', 'Fewer', 'Cabbage', '1961', 'asserting', 'precedent', 'programs', 'succeeded', 'Goode', 'trivial', 'ago', 'Milan', 'retain', '5.7', 'Economy', 'failures', 'challenge', 'softening', 'outlays', 'available', 'gauges', 'killings', 'symbol', 'scenes', 'Riserva', 'TXO', 'generic', 'railing', '*T*-138', '13.65', 'expensive', 'again', '8.9', 'Quant', 'Traded', 'contingency-fee', 'engaging', 'cousins', 'forms', 'composting', 'pro-democracy', 'bolstered', '352.9', 'Systems', 'With', 'turned', 'plaintive', 'forgiven', 'transformed', 'property\\\\/casualty', 'women', 'Like', 'leap', 'minority', 'unique', 'Nestor', 'CEO', 'Contra', 'temperature', 'interest-bearing', '*-36', 'Mindy', 'Ana', 'brief', 'phrase', 'OFFERED', '0.0085', 'Hermitage', 'Kathleen', 'install', '*T*-156', 'earned', 'senses', 'nine-year', 'chips', 'fast-growing', 'pirates', 'calculator', 'miles', 'Napolitan', 'altering', '13.73', 'foreign-led', 'co-owner', 'dreamed', 'central', 'replaced', 'pinning', 'Church', '960', 'four-year', 'halts', 'dividend', 'intrusion', '*T*-37', 'gas', 'index-fund', 'Now', 'department', 'side', 'chairman', 'blue-chip', 'Ellis', 'listed', 'income', 'seconds', '1986', 'etc.', 'Tassinari', 'Los', 'delivering', 'involvement', 'chrysotile', 'outstrips', 'ropes', '5\\\\/8', 'outbid', '2.875', 'Dresser', 'deficit', 'midtown', 'World-Wide', 'Giuliani', 'slated', 'areas', '570', '5.2180', 'craze', 'September', '28.4', 'depends', 'star', 'curb', 'legal', 'Powers', 'sophisticated', 'equivalent', '34.625', 'Legg', 'upper', 'Voters', 'awaits', 'refile', 'Sulaiman', 'Hong', '1976', 'Leo', 'firm', 'aisles', 'steadily', 'bloody', 'produces', '42-year', 'Carlton', \"'86\", 'regarding', 'decliners', 'underprivileged', 'rebels', 'Furillo', 'visit', 'Paramount', 'fatalities', 'favored', '*T*-148', 'T.', 'subsidize', 'Siegal', 'die', 'owners', '120,000', 'willingness', 'featured', 'Woodward', 'Merrick', 'Capital', 'Foundation', 'order', 'July', '1937-40', 'replace', 'EC', 'vineyard', 'B', 'imbalances', '0.25', 'companion', 'vague', 'deem', 'Africa', 'big-ticket', 'soft', 'inventories', 'COMPUTERS', 'Yang', 'Those', 'lifes', 'rope', 'station', '8', 'joining', 'contributed', 'belts', 'minimum', 'statutory', 'unveil', 'impressive', 'shrank', 'TRANSPLANT', 'Back', 'over-the-counter', 'Boca', '280', 'stiffer', 'outraged', 'longevity', 'Indianapolis', '*-79', 'Wellcome', 'sweat', 'officially', 'harvested', 'monitor', 'dollar', '*T*-53', 'licensed', 'perceived', 'Criminal', 'prohibited', 'Beverly', 'female', 'ordered', 'evolution', 'Pakistan', 'deliberating', '2-3', 'cigarette', 'maker', 'rushed', 'evidence', 'Siti', 'Stern', 'Chinese', 'moderate', 'spending', 'lesson', 'jumping', 'Patents', 'widgets', 'oldest', 'disorders', 'distribution', 'Australia', 'dumped', 'Markey', 'St.', 'protections', 'Norman', 'gave', 'What', 'staying', 'incapable', 'Financial', 'Wells', 'Brooklyn', 'pressure', 'Marvin', 'kidney', 'packaging', 'leave', 'proposing', '372.14', 'we', 'cartoonist', 'much-larger', 'balked', ';', 'sickness', 'tasty', '*T*-60', 'Tots', 'Markets', '6.44', 'mobile', '*T*-117', 'extending', 'trucks', 'hospitable', 'Helsinki', 'Review', 'quickly', '22\\\\/32', 'indeed', 'family-planning', '111', '236.74', 'backdrop', 'arise', 'atmosphere', 'edged', 'integrated', '18.3', 'possible', 'applicable', '*PPA*-3', 'hire', 'attempting', '*T*-13', 'snapped', 'Aquino', 'creditworthiness', 'emphasis', 'joys', 'wholesale', 'Matthew', 'pour', 'ward', 'Lonski', 'conduit', '6.7', 'greenmailer', 'Wolf', 'pulling', 'Purepac', 'phasing', 'rentals', 'walkout', 'mega-stadium', '185.9', 'established', 'Glendale', 'Leighton', 'Ferdinand', 'inspection', 'exemption', 'image', 'Marc', 'Random', 'setback', 'courtroom', 'town', 'negatives', 'Webb', 'Mitsui', 'Droz', 'worker', 'merchants', 'Options', 'requiring', 'males', 'piece', 'Stieglitz', 'health', 'authorizing', 'yen-support', 'Dominion', 'magicians', 'Overseas', 'TROUBLES', 'Conn', 'paying', 'DSM', 'unfair', 'rebuilding', 'FT-SE', 'Opinion', '1970s', 'luck', 'distributable', '*T*-130', 'Commodities', 'paid', '*T*-206', 'financier', 'paint', 'separate', 'bull', '119', 'capped', 'NBI', 'industry-wide', 'Pictures', 'rally', 'tinker', 'second-largest', 'worth', 'Central', 'Ferro', '149.9', 'aide', 'odd-sounding', 'represented', '1953', '*-141', 'propaganda', 'saved', 'glass', 'attached', 'flush', 'technique', 'chassis', 'solemn', 'earn', 'totaling', 'leaves', 'swim', 'Activity', 'dairy', 'Leap', 'generalizations', 'electrical-safety', 'bomber', 'wound', '3.75', 'collective', 'recalls', 'newsworthy', 'conditional', 'wine', 'systematic', 'DeFazio', 'Keidanren', 'detailed', 'Trans', '967,809', 'directing', 'mixed', 'revived', '*T*-94', 'mistrials', 'categories', 'home-market', 'climbing', 'Finmeccanica', 'specify', '*-83', 'summer', '405', 'specific', 'surgery', 'afraid', 'reclaim', 'Leming', 'Manfred', 'limbo', 'walk', 'depositary', 'winter', '54-year-old', 'timing', 'Airlines', 'all', '*T*-178', 'censorship', '2019', 'office', 'lipsticks', 'nonprofit', 'began', 'S&P', 'these', '13', 'yet', '*T*-144', 'performers', 'thousands', 'passport', 'interpretation', 'shed', 'one-week', 'Langner', 'Spielvogel', 'Nissho-Iwai', 'lacks', 'oriented', 'enough', '0.82', 'Blackstone', '226,570,380', 'eight-person', 'investing', 'unofficial', 'broad-based', 'effort', 'bans', '*T*-33', 'Seagate', '*T*-15', 'Bradford', 'join', 'priciest', 'continuous', 'code', 'accountability', '120.7', 'blurred', 'afflicted', 'Bennett', 'ingenuity', 'Scherer', '12-year', 'spark', 'appealing', 'Gaithersburg', 'Value', 'brunt', 'SALARIES', 'occurred', 'As', 'photocopying', 'Black', 'mutual-fund', 'pipeline', 'chaired', 'criticized', 'seen', 'bounce', '5.63', 'attended', 'Synergistics', 'none', 'Investor', '103', 'chilled', 'hypothetical', 'June', 'proved', 'dominates', 'stresses', 'actions', 'concern', 'tow', 'Audit', '*T*-152', 'Monticello', 'NESB', '3648.82', 'Rotie', 'Cerf', 'Utah', 'sees', 'Revolution', 'Bureau', 'crystal', 'Hoosier', 'recycled', 'federal', 'invariably', '1.7', 'checkbook', ':', 'letters', 'hundreds', 'Anti-Deficiency', 'moderately', 'everyone', 'congressman', 'beer', 'item', 'senate', 'bakery', 'Chile', 'associated', 'problems', 'W.', '62%-owned', '29', 'Plaza', 'processing', 'nothing', 'inquiries', 'ritual', 'cabinet', '170', '29year', 'compare', 'goods', 'Isabelle', 'habit', 'explains', '9,118', 'Del.', 'Cultural', 'Encouraged', 'politicians', 'Christmas', 'Data', 'enormous', 'insists', 'events', 'Boorse', '*T*-134', 'myriad', 'restrictions', '41', 'railings', 'numeral', 'resembles', 'underlying', 'resumes', 'usually', 'Concerned', 'city-owned', 'pharmaceutical', '492', 'accident', 'barely', 'wonder', 'transaction', 'retailer', 'determined', 'contributors', '3.625', 'Federalist', 'mentioned', 'Malizia', '5.39', 'finds', '86', 'COMMUNICATIONS', '467', 'nationalist', 'responsibility', 'BIRDS', 'concluded', 'Eggers', 'skirmishes', 'signboards', 'Brunei', '1940s', 'annualized', 'released', 'cross-border', '*T*-87', 'images', 'demonstrations', 'lately', 'Xerox', 'utterly', 'semiannual', 'Express', 'fees', 'margins', 'raring', 'personnel', 'mechanisms', 'element', 'end', 'underwriter', '*-106', 'Perpetual', 'Stories', '8.22', 'writer', 'medicine', 'speculative', 'appearing', 'Jersey', 'value', 'about', 'changed', 'identify', 'subsidiaries', 'error', 'Henderson', 'compromise', 'Malcolm', 'closer', 'telegraph', 'strong', 'incident', 'campaigner', 'disposed', 'dominated', 'type', 'recommendation', 'standpoint', 'booklet', 'approach', 'intended', 'shipping', 'Cambridge', 'dissident', 'RMS', 'E.W.', 'Sunday', 'Nevertheless', 'ministers', '8.45', 'Along', 'perhaps', 'consulting', 'third-quarter', 'branches', 'highly', 'implant', 'Takeshi', 'livestock', 'vendors', 'youthful', 'devote', '*T*-157', '9.8', 'aspires', 'Packaging', 'deteriorating', 'Roederer', '16.7', 'cost-sharing', 'F.H.', 'television', 'seafood', 'crane-safety', 'Embassy', 'uncertainty', 'ruling', 'Programs', '94.8', 'colder', 'Relations', 'francs', 'battles', 'financed', 'Blanc', 'THREE', 'reduction', '116.4', '1.14', 'chest', 'sold', '24.95', 'Pan', 'fifth-largest', 'bottlenecks', 'varying', 'Often', '129.91', 'Wickliffe', 'quietly', '26,000', 'fit', 'safe-deposit', 'stuck', 'swing', 'Namibia', 'Communications', 'Darrell', 'Northy', 'responsibilities', 'emerges', 'rising', 'recess', 'Svenska', 'Bucking', 'elite', 'exodus', 'attractions', 'mistakenly', 'execs', 'copycats', '*T*-241', 'robbed', 'psychology', 'Crime', 'intraocular', '*T*-150', 'number', '*-11', 'Spiegel', 'voluntarily', '*T*-221', 'mortgage-backed', '43-year-old', 'Pramual', 'mailed', 'damn', 'separately', 'doling', 'reopened', '1.24', 'BANKERS', 'Hudnut', 'CEOs', 'stability', 'wear', 'France', 'Breakey', 'supercomputer', 'Premier', 'refunds', 'Thailand', 'Attorneys', 'lookee-loos', 'Johnson-era', 'awful', 'PhacoFlex', '220.45', 'expanded', 'Hawaiian', 'Radio', 'stands', 'materialized', 'Fischer', 'swift', 'anxious', '89.7', '*-63', 'Fellowship', 'passing', 'holidays', '8.30', 'preclinical', 'Lovett', '19.50', 'Erbamont', 'intermediate', 'Coors', 'saving', '1982', 'cure', 'Cara', 'van', 'executing', 'drops', 'turmoil', 'nickel', 'enforce', 'Attorney', 'establishing', 'high-minded', 'overseas', 'dailies', 'realize', '*T*-103', 'authorizes', 'McFarlan', 'grapple', 'Profit', 'simultaneously', 'urge', 'Ricken', 'builds', '*T*-147', 'Products', '5.9', 'rose', 'sweaters', 'spite', 'LOAN', 'subjects', 'Safety', 'soldiers', 'undercutting', 'reliance', '500', 'insurer', 'U.S.-Japanese', 'Farmers', 'conservative', 'Grgich', 'intimidate', 'figures', 'ovation', 'survive', 'automation', 'attributed', 'casts', 'outnumbered', 'daughters', 'implicit', 'arm', 'believes', '76', 'Producers', 'six', '106', 'sabotage', 'biannual', 'according', 'violating', 'suburban', 'A-D', 'know', 'expansion', 'safe', 'usual', 'outside', 'experts', 'prosecute', 'screwed', 'desirable', '40', 'incentives', 'alert', 'balanced', 'rights', 'complicated', 'Center', 'minutes', 'gold', 'SALT', 'civil', '84.29', 'morass', 'recall', 'Ordnance', 'Vega', 'Scypher', 'batting', 'Silverman', '180', 'consistently', 'compiled', 'donor', 'lapses', 'believe', 'aboard', 'learn', 'embroiled', '*T*-191', '238,000-circulation', 'ambitions', 'entitles', 'denouncing', 'lucky', 'irrelevant', 'unfocused', 'resigning', 'arrive', 'Susan', 'judge', 'facility', 'Taking', 'excellence', \"'m\", 'party', 'bunches', '*', 'renewing', 'employed', 'Nev.', 'Texan', 'interest-rate', 'Imhoff', 'Phillips', 'den', 'belonging', 'concedes', 'WPP', 'avenues', 'trillion', 'Colonsville', 'accusing', 'Containers', 'Virtually', 'low-ability', 'Bangkok', '11\\\\/16', 'contract', 'Tribune', 'Waertsilae', 'Chapter', 'L.P.', 'EVERYONE', 'switch', 'litigation', 'pointed', 'hailed', 'minister', 'sticking', '27', 'primary', 'Warsaw', 'constitutional-law', 'conduct', 'ball', 'capitalist', 'swallow', 'odd-year', 'recede', 'Glaxo', 'balloon', 'teams', 'creditor', '1', 'Baton', 'ordering', 'announce', 'burned', 'cash-rich', 'amortization', 'Poor', 'refuse', 'industrial', 'jurisdiction', 'diagram', 'soared', 'specifics', 'Club', 'voices', 'contained', 'bolster', 'started', 'Hurley', 'resist', 'Taylor', 'Planters', 'Inns', 'Dividend', 'markup', 'state-owned', 'Mary', 'advocate', 'politics', 'lower', 'passion', 'Orrick', 'tanked', 'infrequent', 'committed', 'record-keeping', 'warrant', 'tire-kickers', 'factors', 'stores', 'non-core', 'bell', 'doctrine', 'architect', 'requested', 'unimpeded', 'departments', 'Post', 'shirt-sleeved', 'reap', 'cult', 'respondents', 'ITC', 'expression', 'retard', 'modestly', 'boost', 'Duke', 'cash-flow', 'enables', '11.6', 'Ringing', 'dreamt', 'Wilton', 'chase', '*T*-118', 'Funny', '700', 'failed', 'Huxtable', 'unraveling', 'Yields', 'Ill.', 'closed', '30,841', 'interests', 'pep', 'Westminster', 'latest', 'basic', 'feeling', 'sharply', 'Labouisse', 'pretext', 'correcting', 'letter-writing', 'prestigious', 'pipe', '*T*-128', 'Design', 'service', 'complain', 'sagging', 'It', 'trip', 'application', 'line-item', 'Areas', 'Coxon', 'eclipse', 'protect', '24,000', 'sounded', 'equal', 'entering', 'competing', 'Dr.', 'announcement', 'rang', 'entirely', 'reputation', 'scholar', \"'30s\", 'decrease', '57.50', 'wants', 'institutional', 'proposal', 'erodes', 'fundamental', 'zero', 'hosted', 'Stoll', 'prevents', 'simply', 'similar', 'striving', '115', 'Spirit', 'rebuild', 'terms', 'too', 'rating', 'Aslacton', 'Miami', 'calls', 'uses', 'closing', '7.88', 'motives', 'traditional', 'national', 'recorder', 'profits', 'mignon', 'exhibited', '225.6', '4.25', 'E.C.', 'Class', 'cereal', 'councils', 'CERTIFICATES', 'citations', 'pet', 'permits', '*T*-233', 'subtraction', 'Robbie', 'acquisition-minded', 'degrees', '6', 'bulk', 'Daily', 'MITI', 'grows', 'differently', 'boyfriends', 'Orlando', 'Wilder', 'voting', 'quality', 'Bowman', 'exporter', 'FOREIGN', '30s', 'dismissal', 'Index-arbitrage', 'think', 'enraged', '15-day', 'wrath', 'faint', 'says', 'Traverse', 'supply', 'requirements', 'depending', 'Lt.', 'plan', '*T*-189', 'Cleveland', 'mill', 'finite', 'convertible', 'start', 'imagine', 'protest', 'creditors', 'Pepperdine', 'Krenz', 'anti-takeover', 'bothered', 'methods', 'Purina', 'threats', 'parallel', 'Herrington', 'reallocate', '*EXP*-3', 'logistical', 'robotic', 'erudite', 'reportedly', '89.9', 'commercial', 'Hatch', '*T*-167', 'forthcoming', 'closeness', 'Legislation', '52-week', '*T*-188', 'define', 'severable', 'lobster', 'initialing', 'trust', 'S.I.', 'growing', 'Billings', 'metals', 'commodities', 'addresses', 'Pentagon', 'flows', 'constitutional', '*-90', 'signifying', 'deck', 'suffering', 'rapprochement', 'whirling', 'Kensington', 'holder', 'cleaned', 'legislators', 'Robert', 'Recently', 'Townes', 'spotted', 'engines', 'ships', '52', '3,600', 'multinational', 'Confidence', 'There', 'revenue-desperate', 'term', 'ask', 'chunks', 'Curry', '1,400', 'afford', '1.2', '1955', '*-156', 'Dom', 'frankly', 'loyal', 'traitor', 'cry', 'worst-case', 'bowed', 'prepare', 'earlier', 'San', 'have', 'cost', 'institutions', 'Bolduc', 'Mich.-based', '50.45', 'appetite', 'third-largest', 'equipment', 'inaccurate', 'Perspective', 'Greece', '274', 'valuations', '98.3', 'programmer', 'respectable', 'Guber', 'jeweler', 'eases', 'Denver', 'richer', 'educational', 'expendable', 'belong', 'PC', 'eyeing', 'Cru', 'Julia', 'Santa', 'Continental', 'Yamaichi', 'rhythmically', 'Alexander', 'buses', '4.75', '1917', 'Instead', 'Telegraph', '176', 'bond', 'protecting', 'Rust', '11-month-old', 'Putty', 'remarkable', 'sluggishness', 'and', 'August', 'many', 'emasculate', 'Westborough', 'responding', 'provided', 'spectacularly', 'aggressive', 'Bromwich', 'F', 'petroleum', 'damaged', 'firmness', 'unfounded', 'I', 'N.', 'Newgate', 'hysteria', '*T*-194', 'word-processing', 'McCabe', 'Philippines', 'library', 'Williams', '*T*-81', 'faultlessly', 'Democrats', 'Kalipharma', 'Local', 'Virginians', 'though', 'installment', 'scheme', '10-lap', 'wafers', 'activities', 'consumers', 'best-selling', 'speculate', 'coal-fired', '*-116', 'helps', 'steps', 'filling', 'penalty', 'payrolls', 'Alysia', 'belt', 'marrow', 'begun', 'CDC', 'mouth-up', 'low-priced', 'formula', 'conventional', 'cooperation', 'establish', 'Organization', '10-day', 'towns', 'Advanced', 'message', 'economist', 'Highway', 'Amin', '494.50', 'Baking', 'Arizona', 'faltered', 'confused', 'widget', 'inadequate', 'jeopardy', 'bids', 'Great', 'subscribers', '71', 'zone', 'District', 'fines', 'substance', 'stoked', 'margin', 'Hartford', '30,000', 'Cote', 'Precious', 'plunged', 'superimposed', '132', 'four-day', 'deviant', 'Democratic', 'boutique', 'Unlike', 'MONEY', '0.28', '160', '132,000', 'escalated', 'presidency', 'Nilson', 'Islamabad', 'supplies', 'PS', 'skidded', 'Schaefer', '3,500', 'Loewi', 'burdens', 'Television', '609', 'security-type', 'details', 'broker', 'wo', 'proviso', 'projections', 'desire', 'prevalance', 'therefore', 'deteriorated', 'specialized', 'having', 'estimated', 'ballpark', 'ease', 'knitted', 'discussing', 'raised', 'mirrors', 'UPHELD', '1,050,000', 'risen', 'numbered', 'colored', 'Party', 'Pitney', 'Baldwin', 'Moving', 'Total', 'lofty', 'pianist-comedian', 'Home', 'out', 'location', 'fairly', 'logic', 'checks', 'pills', 'ratified', 'provide', 'Lindner', '*T*-143', 'Internal', 'generation', 'Cullowhee', 'jet', 'Marchese', 'noticed', 'assistant', 'N.M.', 'cause', 'dam', 'Died', 'execution', 'Contel', 'propelling', 'Faulding', 'Bancorp', 'overcome', 'bottom', 'stupid', 'cautioned', 'example', 'Hayes', 'accelerated', 'crack', 'Security', 'Articles', 'physics', 'Danube', 'BILLS', 'larger', 'ambassador', 'favors', 'accessories', 'Kentucky', 'Theodore', 'auctioned', 'smoothly', 'Jaffray', 'AC-130U', 'explosion', 'chief', 'tiny', 'Wilmington', 'Gary', 'Dennis', '2.44', 'peaks', 'unbearably', 'cites', 'competition', 'March', 'next', 'exorbitant', 'Continuing', 'apologize', 'Shepperd', 'GHS', 'patient', 'troubles', 'vagabond', 'undiplomatic', 'Ballantine\\\\/Del', 'People', 'shrinks', '520-lawyer', '9.32', 'Wellington', 'procedures', 'Philadelphia', 'murder', 'airline-related', 'uncomplaining', 'Salty', 'Supreme', 'vary', 'chary', 'content', 'Millis', 'martyr', 'abating', 'cases', '*T*-57', 'encroaching', 'unfairly', 'Virginia', 'controlling', 'check', 'fielded', 'realization', 'triple-A', 'Poland', '361,376', 'large', 'hostility', 'art', 'Skilled', 'Wilcox', 'intriguing', 'full-length', 'milk', 'Vose', '49.9', 'Coincident', 'duty-free', 'Huppert', 'stable', '1981', 'gone', 'Electronics', 'car-safety', 'leaders', 'Paper', 'Broken', 'Merrill', 'advisory', 'moons', 'refunded', 'perform', 'seat', 'comedies', 'neighboring', 'Kelli', 'which', 'breakdown', '*-27', 'Mikhail', 'acknowledging', 'lieutenant', 'Angelo', 'lure', 'eager', 'Country', 'Uptick', 'Bonds', 'Rate', 'escrow', 'Plans', 'readings', '*T*-106', 'merger', '0.99', 'Connecticut', '2.15', 'Bridgestone\\\\/Firestone', 'characterized', 'sizable', 'co-chairman', 'Group', 'Nichol', 'pre-existing', 'T-shirts', '2,000', 'Assets', 'apple', 'one-day', 'immediately', '1.637', 'Even', 'leeway', 'gasoline', 'second', 'reservoirs', 'everything', 'yearly', 'Randolph', 'An', '0.1', '143.93', 'contemporary', 'union', '*-118', 'positions', '50\\\\/50', 'lightning-fast', 'Baker', 'Chateau', 'hotels', 'casino', 'Champagne', 'flagrant', 'AGREES', 'crook', 'Reddington', 'chance', 'relative', 'Truck', 'Gaja', 'nominated', 'enact', 'variables', '*T*-168', 'deterioration', 'spinoff', 'California', 'whichever', 'endless', 'healing', 'wealth', 'radio', 'maintenance', 'defended', 'Lane', 'Del', 'peddling', 'households', 'Telerate', 'chicago', '*T*-40', 'pushed', 'hypocrisy', 'slightly', '*T*-212', 'later', 'exciting', 'routine', 'citing', 'makers', 'Ruth', 'assessed', '2.1', 'huge', 'yesterday', 'taxes', 'semesters', 'tubular', '4.2', 'adjustment', 'unaware', 'fraud', 'path', 'centralized', 'Harcourt', '2.42', 'averted', 'asbestos', 'Koito', 'hardware', 'Walters', 'v.', 'inception', 'Groton', '8.5', 'honor', 'urging', '*T*-21', 'behind', 'blender', 'preset', 'International', '3.7', 'deluxe', 'comfortable', 'operates', 'statute', 'breaking', 'staffs', 'INTERPUBLIC', 'Albany', 'afternoon', '*T*-177', 'beginning', 'weakening', 'Default', '23,000', 'publicized', 'obsessed', 'fainting', 'moratorium', 'shortage', 'Another', 'seven', 'terrine', '5.1', 'entertain', 'Midwestern', '1.5805', 'Renee', 'Woodrow', 'Sonny', 'Donoghue', '*T*-132', 'R.', 'couple', 'Lehman', 'loudest', 'reprove', 'happen', 'selling', 'Atlanta-based', 'Artist', 'researching', 'Charlie', 'pose', '*T*-96', 'F.', 'auction', 'Carnival', 'launch-vehicle', 'commanded', 'Equity', '66.5', 'ounces', 'high-stakes', 'husband', 'partisan', 'twin-jet', 'minute', 'bargain', 'S&L', 'one-country', 'senior', 'lasting', 'watchers', 'staunchly', 'formerly', 'bid', 'efforts', 'ringer', 'Urban', 'approved', 'enclosed', 'scrapped', 'talk-show', 'purely', 'Ridgefield', 'impetuous', 'languages', 'wages', 'influential', 'Cougar', '154,240,000', 'pressman', 'self-serving', '*-119', 'account', '28.36', 'supplemental', 'law', 'loss', 'p.m.', 'disapproved', 'stand', '*T*-44', 'Ratner', 'killing', 'junk-bond', 'breach', 'story', 'fluent', 'woman', 'peripheral', 'OVER', 'skyrocketed', 'section', 'upside', 'sub-segments', 'slides', 'employment', 'Muramatsu', 'Eakle', 'Cigna', '89,500', 'succeeding', '17.5', 'water', 'arrangement', 'Mifflin', 'facilitate', 'acre', 'sinister', 'Dynamics', 'School', 'declined', 'scheduled', 'shortly', 'Among', '*U*', 'shopping', 'like', 'Komatsu', 'Guffey', 'fresh', 'dusty', 'disappears', 'Hallwood', 'beyond', 'ideas', 'Zurich', 'Griffin', 'state', 'passions', 'limiting', 'PCs', 'preclude', 'maze', 'box', 'consequences', 'Austrian', '11th', 'Prime', 'gloss', 'ShareData', 'dramatically', 'ascendency', 'GOP', 'sparking', 'corporation', '42.1', 'Service', 'scores', 'Takashima', 'Norwest', 'schedule', 'rise', 'helping', 'contributing', 'Sept.30', 'Soup', 'Colorliner', 'security', '11,390,000', '*-73', 'Ms.', 'score', 'surreptitiously', 'strength', 'advantages', 'decries', 'Warner', 'celebrate', 'shares', '2029', 'tie-breaking', '7,500', '14.28', 'Palmer', 'telecommunications', 'Tray', 'D.C.', 'cater', 'Frank', 'Christie', 'gigantic', 'altruistic', 'affirmative', 'Journals', 'defeats', 'Honolulu', 'guest', 'majority', 'known', 'abolishing', 'la', 'hero', '1st', '*-115', 'construction', 'inquiry', 'carbon', '135', 'blue-collar', 'terminated', '15.5', 'keyboards', 'crops', 'apiece', 'traditionalists', 'Researchers', 'NYSE', 'resilient', 'lower-priced', 'alternatively', 'stellar', 'mollified', 'one-fifth', 'Tower', 'discourage', 'Crash', 'Mariotta', 'working', 'Lawmakers', 'asbestos-related', 'resonate', 'progressive', 'Stadiums', 'Publications', 'Previously', 'Bob', 'Much', 'Colony', 'unabated', 'Fred', 'semicircular', 'most', 'limit', 'Nuys', 'Sixth', 'sooner', 'Phi', 'Mexico', 'notice', 'Thunderbird', 'discussion', 'covering', 'Economists', '18,444', '1925', 'reassuring', 'agenda', 'ACCEPTANCES', '*-134', 'insurance-company', 'plastic', 'Is', 'Tiphook', 'Mae', 'discrepancies', 'unfilled', 'unattractive', 'investor-relations', 'distinguished', 'stark', 'Coleco', '*T*-75', 'Dogs', 'detail', 'markdowns', 'core', 'ensure', 'operators', '%', 'Roosevelt', 'characterizing', 'guilty', 'adapting', 'Wheeland', '5,000', 'Caldor', 'nervousness', 'Besides', 'won', 'housing-assistance', '3-4', 'unveiled', 'doubts', 'bedding', 'lenders', 'intricate', 'high-polluting', 'deter', 'ranks', 'average', 'residence', 'redistributing', 'Phelan', 'computer', 'speculator', 'Domaine', 'Howard', 'Force', 'Heritage', 'potentially', 'Abbot', 'resulting', 'sewing-machine', 'Thai', 'guarantees', 'passages', 'Baltimore', 'Integra-A', '84-month', '*T*-105', 'Garrison', 'issued', 'Cos.', 'purrs', 'procedural', 'Arabian', \"'82\", 'depressed', 'text', 'partial', 'Palestinian', 'vacancy', 'cotton', '913', 'corn-buying', 'dismayed', 'more-efficient', 'Pitcher', 'Prudential-Bache', 'choose', 'Judicial', 'Long', 'summer\\\\/winter', 'findings', 'Court', 'Singapore', 'illness', 'Grandsire', '1933', 'Goldinger', 'substantial', '2.25', 'decide', 'reported', 'Facilities', 'G.', 'houses', 'tumbled', '2005', 'telling', 'Germany-based', 'faith', 'movies', 'powder', 'Secilia', 'hegemony', 'restraints', '286', 'bass', 'rules', '*T*-127', '25-year-old', 'magnetic', 'backed', 'acute', 'war-damaged', 'top-level', 'herself', 'Cup-Tote', 'arbs', 'disaster-assistance', 'liquidated', 'GM', 'except', 'court-ordered', 'assigned', '20-stock', 'permitting', 'advocates', 'one-hour', 'Numerous', 'presented', 'collapsed', 'building', 'tour', 'Day', 'malignant', 'Arafat', 'agreement', 'derivative', 'Insight', '51-year-old', 'U.S.-Japan', 'liquidity', 'Resistance', 'lotter', 'Greenwich', 'two', 'greater', 'strict', 'Haruki', 'treated', 'Funding', 'Nagano', 'lender', 'Interleukin-3', 'elusive', 'iota', 'retail', 'meeting', 'Arnold', 'Ind.', 'easy', 'duly', 'Rekindled', 'maturing', 'misdemeanor', 'Biondi-Santi', 'depend', 'Peck', 'scientist', 'pediatrician', 'judged', 'strategy', 'Ward', 'outlets', 'Village', 'store', 'desktop', 'cared', 'Bumkins', 'interim', 'speaks', 'soon', 'two-time-losers', 'tormentors', '7.80', 'passed', 'copper-rich', 'house', 'Kurland', 'Lyn', 'year-long', 'reasonably', '1.19', 'redemption', 'Boone', 'Fees', '*T*-235', '*T*-200', 'transplants', '1.4', 'watches', 'Dunkin', 'drastic', 'pre-Communist', 'proven', '1.39', 'asks', 'Sanderoff', 'his', 'clause', 'grown', 'cataract', 'specializing', '*T*-246', 'autions', '3.9', 'Sandifer', 'Unemployment', 'crookery', 'caller', '734.9', 'dollars', 'least', 'dummies', 'consumer-driven', 'Tokio', 'combined', 'importer', 'Duchossois', 'complete', 'Marder', 'thumbs', 'shaken', 'comments', 'Huntsville', 'hit', 'fanfare', '*T*-203', 'load', 'contrasts', 'editions', 'studying', 'delayed', 'red-flag', 'angle', 'specified', 'subjecting', 'correct', 'Sigmund', 'appease', '70', 'boosted', 'Wild', 'Danforth', 'policies', 'embarrassing', '13.90', 'lowered', 'persons', 'insider-trading', 'trying', 'Manufacturers', 'impart', 'Currently', 'Craftsmen', 'fight', 'authority', 'rate', 'Investors', 'seminar', 'predispose', 'country', 'popular', 'Jon', 'partially', '7.60', 'Fargo', '*-113', 'tolerate', '*-130', 'Tenn.', '*-86', 'back', 'smattering', 'silicon', 'watch', 'Dugdale', 'Wu', 'barking', 'rebounding', '35564.43', 'FT', 'Sheffield', 'Meinders', 'employs', '12,252', 'agencies', 'clerks', 'beleaguered', 'capital-markets', 'entrance', 'outstanding', '*T*-28', 'operational', 'adequate', 'adjusting', 'Washington-based', 'altogether', 'serves', 'zoomed', '2.3', 'Braun', 'Tandy', 'times', 'devise', 'Foreigners', 'certain', 'If', 'supplier', 'Mercury', 'Gringo', 'customized', 'two-sevenths', 'normal', 'Estimated', 'Judah', 'nullified', 'knocked', 'during', 'directly', 'desultory', 'besuboru', 'Shrum', 'fabricator', '12.5', 'included', 'Andrea', 'Mrs.', 'dealings', 'Beirut', 'merged', 'insolvency', 'charge', 'instrumental', 'removal', 'La', 'assured', 'mainly', 'foods', 'accepting', 'Longer', 'Glenn', 'holiday', 'Operations', 'diplomatic', 'smoking', 'Joanne', '102', 'filing', 'cars', 'semiconductors', 'Cost-effective', 'maintained', 'Moon', '*T*-137', 'neighbors', 'news', 'happens', 'amusing', 'means', 'precious', 'armed', 'Northampton', 'competitors', '*T*-211', 'lighter', 'estimates', '83', 'Tokyo', 'Firms', 'cheating', 'quips', 'scams', 'presence', 'transfers', 'happening', 'aspect', 'evolve', 'Edwards', 'five-cent', 'guests', 'clear', 'crapshoot', 'assassinated', 'achieved', 'Traditional', '454', 'recessionary', 'Chardonnay', '512', 'sounds', 'fueling', 'see', 'filled', 'Given', 'structure', 'banker', 'very', 'default', 'Filter', 'recommended', 'Morrell', 'assert', 'Natural', 'subcommittee', 'Borge', 'Furukawa', 'acne', 'fretted', 'premier', 'negotiate', 'card', 'Harrison', 'cautious', 'Philippine', 'into', 'rare', 'framers', 'quitting', 'ENDED', 'avert', 'ministry', 'Huntington', 'Egypt', 'eight-month', 'remorse', 'extend', '51.6', 'Skokie', 'untrue', 'five-year', 'waiver', 'incisions', 'Gross', 'discussed', 'Kirkpatrick', 'Banking', '10.2', 'wish', 'letter', 'preface', 'five-inch', 'vice', 'solid', 'rigid', '*-149', 'breakers', 'grower', 'Futures', 'Partly', 'Jones', 'Fishman', '*T*-41', 'halted', '*-62', 'businessmen', 'Continued', 'B.', 'transactions', 'pasta', '143.80', 'White', 'contest', 'adverse', 'improvement', 'Sacramento', 'confirmed', 'rollover', 'involving', '36-store', 'yield', 'Pennsylvania', 'sense', 'executive-office', 'today', 'somewhat', 'alcohol', 'honors', 'deficiencies', 'Actually', 'ruled', 'offerings', '170,262', 'Occidental', 'cohesive', 'formally', 'Navy', 'call', 'drearier', 'satisfaction', 'Do', 'For', 'screened', 'furor', 'Larry', 'complaining', 'outpaced', 'knowns', 'estate', 'delays', 'sales', '*T*-2', 'Mount', 'disagrees', 'Estates', '*T*-140', 'overriding', 'Dolan', 'skittishness', '16.05', 'Ogilvy', 'spirits', '33', 'backlog', 'sheets', 'refer', '50-state', 'massive', 'Germans', 'around', 'penny', 'rusted', 'single-lot', 'Florio', 'easily', 'coffee', 'wake', 'mechanical', '46', 'ground', 'spreads', 'Inouye', 'page-one', '*-23', 'reorganization', 'modern', 'school-district', 'Their', 'renovation', 'Barge', 'easy-to-read', 'Little', 'Forster', 'consonant', 'diming', 'scenic', 'training', 'backyard', 'trading-company', '143.08', '*T*-30', 'shirts', 'opportunity', 'consensus', 'Frederick', 'earliest', '*-132', 'increased', 'stabbed', 'respite', 'Street', 'slowly', 'recognition', 'blue', 'copy', 'Senior', 'Midvale', 'Reserves', 'sparkplugs', '2645.90', '3,040,000', 'took', 'aid', 'accommodate', 'clients', 'McMillin', 'inefficiencies', 'names', '154.2', 'weird', 'promise', 'glory', 'House', 'struggling', 'remainder', 'fund', 'spend', 'one-yen', '1.8415', 'X', 'serious', 'highest', 'prepayment', 'synchronized', 'life-insurance', 'Leigh', 'warranties', 'magnets', 'Crum', 'Lufkin', '3.20', 'offenders', 'Gas', 'ties', 'bonuses', 'comeback', 'Rogers', 'complexes', '*-41', 'Steve', 'school-improvement', '127.03', 'settlements', '190', 'emissions', 'Notes', 'shrug', '753', '93.9', 'non-callable', 'GMAC', 'loan', 'promptly', 'overhead', 'partners', 'members', 'tours', 'pub', 'short', 'eventually', 'painting', 'sensational', 'pick', 'people', 'fought', 'perpetuate', 'actively', 'investments', 'physical', 'ADRs', 'Karl', 'compel', 'Proper', 'volatility', 'develop', 'pretax', 'contradict', 'Newhouse', 'circle', 'hard-charging', 'holding', 'associates', 'haul', 'Except', '3.1', 'happier', 'front', 'index-arbitrage', 'impressed', 'cargo', 'crises', 'capture', 'publication', 'accurately', 'wild', 'Mayor', 'abroad', 'Corton-Charlemagne', 'muster', 'Grant', 'student-test', 'furniture', 'Mortimer', 'Bew', 'Trace', '1960s', 'Republican', 'Roger', 'earthquake', 'age', 'array', 'revelations', 'vital', 'verbatim', 'acres', 'coliseum', 'gambling', 'implications', '*T*-64', 'prerogatives', 'Fremantle', 'subminimum', 'worked', 'those', 'Barbara', 'rifles', 'Ga.', 'Redevelopment', 'expands', 'whereby', 'editors', 'Strong', 'Orleans-based', 'professor', 'immediate', 'globe', 'Purchasing', 'Zaharah', '*T*-227', 'inflated', 'EURODOLLARS', 'facing', 'Rumors', '93.3', 'probably', 'Pattenden', 'administrators', 'OF', 'eating', 'grants', 'droughts', 'Partners', 'nominal', 'reflecting', \"Dunkin'\", '*T*-86', 'conditions', 'Either', '0.95', 'juggle', 'corrupt', 'Kean', 'follows', 'used', 'Rexinger', 'cheerleading', '*T*-104', 'Stronach', '*T*-234', 'Hara', 'worried', 'SHAREDATA', 'teaches', 'quite', 'services', 'dust-up', '1.50', 'school-board', 'Mara', '1999', '370', '7.84', 'one-third', 'loses', 'seek', 'punishment', 'approximately', 'Joe', 'principle', 'Berson', 'Biscayne', 'London-based', 'defeat', 'Commission', 'Chiodo', 'recent', 'I.', 'research', 'reversal', 'Arraignments', 'Steel', 'disputes', 'Surrey', '1991', 'added', 'Council', '*T*-83', '89', 'before', 'Harold', 'Genel', 'Virgin', 'Uzi-model', 'dismiss', 'stone', 'Signs', 'Limited', 'coaching', 'Manhattan', 'list', 'forecasts', 'chemical', 'influencing', 'emigrate', 'better', 'Us', 'predicts', 'Farren', '6.4', '40-megabyte', 'ratepayers', 'universities', '4,645', '*-14', 'professors', 'underwent', 'foul', 'pre-approved', 'grapes', 'buffet', '386', 'morning', 'stimulating', 'Fla.', 'Change-ringing', 'clearing', 'TV', 'Chicago-style', 'from', '*RNR*-2', 'blow', 'Mr.', 'Carolina', 'Marie-Louise', 'Railroad', 'abide', '60.36', 'providing', '86.12', 'environments', 'intent', 'Economic', 'smaller', 'rechargeable', 'guaranteed', 'receivers', 'true', 'perpetuates', 'cocoa', '1.28', 'acquiring', 'slowdowns', 'reaping', 'untrained', 'Arbitrage', 'Commerce', '1.17', 'critical', 'articles', 'leery', 'together', 'performance', 'placement', 'Protection', 'spirit', '24', '62.5', 'derivatives', 'Jefferson', 'mechanism', 'annual', 'appropriated', 'fixed', 'downgrade', '12.68', 'Milne', 'Improvement', 'bidding', 'Lights', 'Calif.', 'posting', 'Duluth', 'intellectual', 'Jerritts', 'exhibits', '1,298', 'automotive', 'mobilizing', 'Md.', 'leasing', '11.57', '*-16', '*-40', '*T*-36', 'build', 'bill', 'Foot', '7.15', 'year-to-year', 'pattern', '*-15', 'agree', 'capacity', '449.04', 'Delwin', 'dead', 'seven-yen', 'director', 'deposits', 'RBC', 'protracted', 'J.L.', 'garage', 'speaking', 'banning', 'NEC', 'cute', 'Georgetown', 'Philadelphia-based', 'there', '152,000', 'rival', 'Scotia', 'Sterling', 'precedes', 'circuit-board', 'spun', 'affect', 'pointing', 'under', 'broad', 'nominee', 'few', 'Johnny', 'municipalities', 'Rolling', 'This', 'lore', 'Where', 'vacations', 'Interpublic', 'counterpart', 'strain', 'day-to-day', 'Korea', 'patterns', 'Glenham', 'role', 'whole', 'quantitative', '*T*-250', '273.5', 'shoulder', 'retires', 'folded', 'jobs', 'Italian', 'Perignon', 'existing', 'Philip', 'self-aggrandizing', 'Klein', 'Maybe', '73', '*T*-29', 'parishes', 'reaped', 'bringing', 'tightening', 'matching', 'agricultural', 'appeared', 'contribute', '*-6', '1997', 'improvements', 'landfills', 'blighted', 'global', 'anticipates', 'indifference', 'string', 'attention', 'reject', 'fine', 'pioneer', 'metal', 'refunding', 'empowered', 'substantially', 'barriers', 'Act', 'paper', \"'S\", 'texts', 'maximize', 'Political', 'construed', 'war-rationed', 'crude', 'hint', 'environmentalists', 'currencies', 'Compound', 'closely', 'scarce', '600,000', 'Ltd', 'replicated', 'Against', 'Osaka', 'Kearny', 'unproven', 'military', 'regulated', 'adopted', 'positive', 'within', '*-24', 'book', 'brain', 'Walker', 'ranging', 'resumption', '*T*-54', 'Morrison', 'implication', 'accurate', '*T*-93', 'theaters', 'affiliates', 'variation', 'Airways', '*-146', '266', '2.8', 'sign', 'Indiana', 'Blue', 'Congressman', 'mount', 'repriced', '35', 'stockbrokers', 'Somerset', 'boosts', \"'ll\", 'golden', 'lieu', 'sad', '107', 'quipped', 'slowing', 'Baim', 'Financing', 'mimics', 'unneeded', 'discharge', '1994', '397', 'combine', '107.9', 'bribe', 'can', 'Albert', 'Resources', 'nearly', 'impartial', 'economists', 'controls', 'trial', 'episodes', 'emergency', 'latter', 'Malaysia', 'disease', 'previous', 'word', 'sparked', 'pre-tax', 'Price', 'shut', 'improved', '*T*-115', 'scans', 'fabled', 'vicar', 'retorts', 'Anthony', 'allegations', '*T*-154', 'Miguel', 'weaker', 'but', 'emerged', '*-126', '*-68', 'payouts', 'food-shop', 'Jay', 'May', '*T*-226', 'Rieslings', 'us', 'widely', 'rendering', 'fetal-tissue', 'Brady', 'reluctance', 'Yoshihashi', 'allocation', 'Turkey', 'galling', 'Wallach', 'search', 'Speculation', 'steep', 'overlap', 'acceptance', 'flashy', 'benefit', 'Dick', 'thieves', 'CSV', '133.7', '*-101', 'Adopting', 'buckle', '*ICH*-4', 'meet', 'index-options', 'teach', 'Tiger', 'Propaganda', 'questions', '130.7', 'Am', '116.7', 'Rowe', 'Louisiana', 'Xiaoping', 'Kaminski', 'veteran', 'networks', 'Atsushi', 'since', '31', 'auto', 'real', 'widow', 'broader', 'rewrite', 'Rae', 'galvanized', 'Derchin', 'sunlight', 'selected', 'mothers', 'capitalize', 'countless', 'bankrupt', 'consomme', '1983-85', 'Rail', 'fizzled', 'favorably', 'purchasers', 'Mission', 'renewed', 'dessert', 'designated', 'confines', 'flexibility', 'Bronx', 'profit-taking', 'sidewalk', 'Lauderhill', 'individuals', 'Ames', 'otherwise', 'designers', 'Make', 'egregious', 'Austria', 'steal', 'tags', 'Ranieri', 'Barrett', 'amicable', 'developments', 'razor-thin', 'Mehta', '133', 'Its', 'spook', 'mistakes', 'clearer', 'participate', 'strategic', 'Taipei', '*T*-225', 'Itoh', 'elections', 'Dompierre', 'instead', 'consistent', 'reds', 'PRECIOUS', 'homeless', 'brilliant', 'fans', 'Miller', 'loaded', 'Obligations', 'Trojan', 'reality', 'yellow', 'No.', 'alone', 'WAFA', 'toilet', 'nonresidential', 'Rothschild', 'Agency', 'occasionally', '*T*-124', 'equally', 'declared', 'Joel', 'redeeming', 'Needham', 'tissues', 'hill', 'Harry', 'stood', 'chatter', 'manipulators', 'shambles', 'remove', '1.26', 'hundred', 'converted', 'Charter', 'dollar-denominated', '6.50', 'efficiencies', 'differential', 'reasserts', 'greed', 'deal', 'They', '57', 'pools', 'warning', 'realestate', '1.916', 'knowledge', 'suing', 'Perch', '1992-1999', 'inflationary', 'possibility', 'expelled', 'Circulation', 'pickers', 'apparent', '*T*-184', '*-80', 'emergencies', 'movements', 'high-speed', 'DOT', '19-month-old', '1.5', '*-21', '225', 'vertically', 'recommending', 'growth', 'enjoying', 'relieved', 'Rated', 'surplus', 'stay', 'indicating', 'accumulated', 'Earlham', 'Agriculture', 'polluters', 'Biedermann', 'do-it-yourself', '3.6', 'owns', '14.13', 'warn', 'Ill', 'sports-oriented', 'bell-ringer', '275', 'prejudice', 'sights', 'above', 'arguing', 'solidarity', 'utilities', 'studiously', '*T*-71', 'SEC', 'boilers', 'Ailes', 'redistribute', '2141.7', 'winning', 'Borough', '*T*-38', 'conforms', 'Spain', '*T*-65', 'busiest', 'tote', '858,000', 'Concurrent', 'computerized', 'samples', 'During', '497.34', 'debenture', 'effective', 'downward', 'craft', 'continuing', '132.9', 'debacle', 'eligible', 'Sable', 'talked', 'write-downs', 'resort', 'rubber', 'spectrum', 'Blancs', 'roadblock', 'frequently', 'unleashed', 'laws', 'reaction', 'Angels', 'Jacobs', 'excise', '*-165', 'throws', 'Volatility', 'workers', 'Koizumi', 'draws', 'especially', 'forest-products', 'Founded', 'reports', 'Harris', 'engineering', 'found', 'Marty', 'please', 'semiliterate', 'engaged', 'Louisville', 'northern', 'column', 'pleaded', 'salarymen', 'achieving', 'IBM', 'writers', 'personally', 'economy', 'argues', 'creams', 'stated', 'metropolitan', 'secretary', 'sugar', 'shopped', 'Sheep', 'Individual', 'usurp', 'Neanderthals', 'Jenrette', 'Mo', 'satisfactory', 'amid', 'piracy', 'after', 'Macheski', 'he', '*T*-32', 'Whiting', 'severance', 'Carney', 'anti-programmers', 'midrange', 'professionals', 'assuming', 'test-prep', 'published', '313', 'Perritt', 'Offering', 'Takuma', 'fledgling', 'partly', 'researchers', 'hardly', 'vicious', 'want', 'discontinuing', 'Place', 'Evans', 'Solihull', 'understatement', 'Series', 'electric-utility', 'dramatic', 'Riese', 'pine', 'Princeton', 'enviable', 'bag', 'mark', 'Nasdaq', 'Sabhavasu', 'Moleculon', '*-2', 'Sauternes', 'receives', 'drain', '*T*-197', 'Free', 'interventions', 'concrete', 'prolonged', 'qualified', '5.6', 'U.S.S.R.', '47', 'billing', 'Auditors', 'originally', 'ripen', 'copying', 'workable', 'SuperDot', 'microprocessor', 'Iran-Contra', 'Lighthouse', 'texture', 'plight', 'ambassadors', 'crisis', '*T*-240', 'length', '99.1', 'recovered', 'insist', '64', 'bias', 'dozens', '113.2', 'DiLoreto', 'litany', 'disappointing', 'Zayed', 'prevent', 'puts', 'Oy', '*-60', 'adjustable', 'diminished', 'clean-air', 'Equivalents', '49', 'amass', 'heading', 'Wine', 'par', 'revolves', 'ankle', 'seasonally', '1.20', 'Schwab', '77.6', 'welcome', 'profitably', 'tracked', 'propagandize', 'mere', '6.03', 'close-up', '112.9', '*-19', '30-year', 'owner', 'happened', 'direct-mail', 'minivans', 'knight', 'suspend', 'Visa', 'stepping', '11', 'Polish', '*-91', 'FEDERAL', 'rejected', 'preparation', 'Sloan', 'calling', 'modification', 'hang', 'caretaker', 'savvier', 'president', 'profitability', 'Card', 'Can', 'broadened', '12.7', 'allowed', 'improve', 'Mesnil', '451', '150.00', '241', 'rap', 'noted', 'percent', 'leader', 'remains', 'coated', 'purse', 'passage', 'degenerative', 'flap', 'read', \"'80s\", 'Citizens', 'curled', 'apparel', 'sport-utility', 'Trading', 'drawbacks', 'throughout', 'dispute', 'needing', 'Brenda', 'Bank', 'Milwaukee', 'Yorker', 'surviving', 'customer', 'reopen', 'diamond', 'Far', 'volume', 'Teddy', '*T*-149', 'pall', 'other', 'lending', 'entrants', 'Tyre', 'elimination', '*T*-20', 'floating-rate', 'couples', 'Dill', 'picket', '84.9', 'altar', 'so-called', 'Honduras', 'top-yielding', '377.60', 'resolve', 'McDermott', 'costs', 'Dollar', 'twice', '37.5', 'automotive-lighting', 'mid-size', 'Wilbur', '*-127', 'my', 'defuse', 'million', 'result', 'Dolphin', 'allocated', 'Holt', 'Industrial', 'cents', '2,099', '*T*-223', 'IT', '*T*-116', 'products', 'recession-inspired', 'TRIMMING', 'tigers', 'embassy', 'Fair', 'doubled', '*T*-125', 'domestic', 'Mass.', '7.2', '59.9', 'C.D.s', 'behaving', 'exploration', 'documents', 'Sandberg', 'satisfactorily', '150,000', 'checking', 'team', 'rigged', 'MERRILL', 'seized', 'excessively', '25.6', 'IBC', '1983', 'taxation', 'partisans', 'bottle', 'sufficiency', '59.6', '57.6', 'Junk-bond', 'buttoned-down', '1614', 'charts', 'WHAS', 'middle', 'ushered', 'moderated', 'Representative', 'B.A.T', 'frantic', 'billionaire', '*-114', 'Harper', 'Hopkins', 'Bolivia', 'investigating', 'for', 'picks', 'Financially', 'sheep', 'spokeswoman', 'Next', 'sticker-shock', 'reporter', 'teetering', 'Every', 'Timex', 'hunker', '*T*-120', 'aesthetic', 'YMCA', 'Stevenson', '236.79', 'landing', 'constituent', 'documented', 'tells', 'automobiles', 'Mossman', 'rulings', 'specialize', 'stars', 'interviewed', 'plate', 'audit', 'hierarchical', 'colony', 'Payments', 'Rita', 'device', 'Loan', '320', 'exits', 'Wednesday', 'nominate', 'literary', 'provides', 'feared', 'profitable', '!', 'headed', 'Deborah', 'advertising', 'reins', 'exhaust', 'Chilean', 'toward', 'gauging', 'illustrates', 'reckless', '2003\\\\/2007', 'Wozniak', 'bullets', 'social-studies', 'supermarket', 'developed', 'got', 'find', 'narrow', 'Frankfurt', 'Rill', 'profession', 'seasonal', 'outrageous', 'week', 'pharmaceuticals', 'Explorer', 'modems', 'mining', 'cosmetic', 'S.p.A.', '1.1', 'speculated', 'suppliers', 'disaffected', 'judicial', 'governors', 'plugged', 'commission', 'wrecking', 'new-car', 'Hostess', '0.4', 'Vicar', 'facade', 'field', 'screenwriters', 'redeploy', '148.9', 'Trockenbeerenauslesen', 'cutting', 'royalty', 'resisting', 'Totally', 'white-collar', 'Solaia', 'shareholder', 'Homebrew', 'UBS', 'shipyards', 'controversy', 'memorize', 'combat', 'key', 'language-housekeeper', 'pennies', 'brightest', 'copies', 'Comtes', 'produced', 'exceeds', '446.62', 'Old', 'question', 'here', '79', '270', '*T*-108', 'testing', 'three-lawyer', 'sub-markets', '292.32', 'bags', 'proscribes', 'auto-safety', 'planner', 'pact', 'Volume', 'son', 'abortionist', 'space', 'undelivered', 'restricting', 'artist', 'free-enterprise', 'describe', 'banks', '1,000', 'warming', 'McGraw-Hill', 'fed', 'noticing', 'CTB', '244,000', 'disclosures', 'discovered', 'adapted', 'Convention', 'drive', 'flood', 'looming', 'excessive', 'cities', 'Composite', 'equals', 'disposal', 'Champagnes', 'inheritor', 'N.V.', 'covers', 'Knopf', 'Britain', 'free', 'particularly', 'market-share', 'designations', '47.125', 'plaintiffs', '56', 'Stearn', 'Thursday', '321', 'notion', '1\\\\/2', 'Characters', 'Longwood', 'standing', '13.1', '1950s', 'R', 'Lawless', 'PLC', 'Ravenswood', 'labeled', '8300s', 'Of', '240-page', 'developing', 'pocket', '*-59', 'nutrition', 'offensive', '*T*-6', 'swap', 'strictly', 'Trump', 'catch', 'Title', 'fleeting', 'Pencil', 'January', 'Texaco', 'federally', 'Stadium', 'Baum', 'suspended', 'outlay', 'lawsuit', 'Hutton', 'docile', 'diplomats', 'NL', 'belongs', 'disappointment', '2\\\\/32', '*T*-175', 'record', 'scholarly', 'consumption', 'mediocre', 'mainframe', 'marginally', '23.72', 'penchant', 'favorable', 'built', 'midnight', 'reaches', 'avoid', 'test-practice', 'becomes', 'impending', 'punishable', 'sensitivity', 'devoted', '*T*-22', 'buildup', 'silent', 'Banks', 'monthly', 'objectives', 'Corps', 'intervention', 'obsession', 'tows', 'chefs', 'contains', 'neighborhoods', 'modern-day', 'Cooper', 'recorded', 'Takeover', 'Shipments', 'demonstrates', 'priced', 'NEW', 'leaky', 'trailed', 'freedom', 'citizens', 'buyers', 'province', 'old-style', 'averaged', 'uttering', 'weeklies', 'Michigan', 'buy-back', '*T*-193', 'Communists', 'stones', 'gangs', '62.625', 'unwanted', '*T*-97', 'encounter', 'VOA', 'carriers', 'north', '343', 'Source', '63.79', 'Owner', '0.16', 'tons', '0.84', 'interbank', 'mutual', 'tightened', 'Miklos', '*-159', 'Chamber', 'presidents', 'chastised', 'adjusted', 'named', '*-52', 'LTV', 'high-tech', 'investment', 'lung', 'completely', 'S.A', 'they', 'M.', 'sell-offs', 'Angeles', 'wooing', 'coverage', 'expert', 'anybody', 'polystyrene', 'asked', 'editorially', 'car', 'garden-variety', 'assembly-line', 'unsolicited', 'acted', 'simulates', 'morale', 'microcomputers', 'charges', '300-113', '13.8', 'Yesterday', 'Sidak', '*T*-207', 'buildings', 'preference', '92.9', 'Landrieu', 'microwave', 'fighting', 'judgment', 'enjoyed', 'Stockholders', 'prosecuting', 'underline', '37-year-old', 'benefits', 'anywhere', 'outranks', 'tools', 'shore', 'A.D.', 'reciting', 'some', 'permit', '*T*-249', 'easing', 'computer-system-design', '*EXP*-1', 'defendant', 'Gray', 'risk', 'certin', 'that', 'Friends', 'sew', 'participated', 'Campbell', 'automobile', 'Proceeds', 'English-speaking', 'Catholic', 'chooses', '*T*-17', 'sliding', '37', 'Just', 'base', 'weight', 'fattened', '3.5', 'investigations', 'severe', 'motors', 'direction', 'butterfly', 'raced', 'delivered', 'system', 'lousy', 'cardboard', 'refund', 'twin', '*T*-123', 'creation', 'ethanol', 'predicted', 'clarified', 'Gorbachev', '*-88', 'standards', 'Soviets', 'screens', 'jump', 'Citadel', 'Controls', 'Stamford', 'Marcus', '*-123', 'EEOC', 'speed', 'repaired', '27.4', 'low-tech', 'as', 'Employers', 'INGERSOLL-RAND', 'moves', 'Shuxian', 'disciplinary', 'Prices', 'vacant', 'plagued', 'accommodations', 'Cincinnati', 'disruption', 'force', 'Tokyu', 'Rabia', 'inspirational', 'Sept.', 'Investment', '*-131', 'Such', 'kidnapper', 'masters', 'strapped', 'Cristal', '600', '2009', 'lessening', 'Index', 'humble', 'nervous', 'Once', 'monster', 'Nesconset', 'effectively', 'reduce', 'borrowers', 'rear', 'non-religious', 'Strait', 'condition', 'short-lived', 'minus', '436.01', 'tutorials', 'loser', '3.23', 'unresolved', 'disk', 'cover', 'WTD', 'softer', 'Cabernet', 'shaded', 'superconductor', '8.48', 'land-idling', 'predicated', 'Publishers', 'Other', '133.8', 'reached', 'antitrust-law', '70.7', 'financially', 'domination', 'publish', 'shivers', 'bulls', 'votes', 'appropriators', 'night', '94', 'manages', 'Gerhard', 'posts', 'waiting', '1.18', 'Nicholas', 'able', 'last', 'fat', \"CREATOR'S\", 'assembled', 'mulling', 'Subcontractors', 'Queen', '153.3', 'Prof.', 'investor', 'Mortgage', 'playful', 'admitting', 'ranged', 'trials', 'scrupulously', '620', 'Loews', 'polled', 'co-developers', 'starts', 'gambler', '7.45', 'Bugs', 'sorting', 'alerts', 'indication', '1.49', 'applications', 'ex-dividend', 'expired', 'Stewart', 'Send', 'Leroy', 'eased', 'airports', 'Washington', 'regulators', 'platitudes', '14,821', 'ugly', 'Coniston', 'titans', 'distributor', 'b', 'submit', 'hauling', 'rebuffed', 'low-cost', 'cadet', 'Frenzy', '144', 'square', 'sometimes-tawdry', 'valuation', 'alienated', 'Energy', 'Cartons', '*T*-72', 'brightened', 'six-packs', 'fairness', 'Henry', 'tone', 'something', 'pence', 'drifted', 'exact', 'explained', 'CHANGED', '59', 'marketing-communications', 'underpin', 'anti-miscarriage', 'savers\\\\/investors', 'mayor', 'regenerate', 'inhibit', 'These', 'Killeen', 'R.D.', 'feelings', 'Citing', 'hopefully', 'computer-driven', '176.1', 'maturity', 'sharper', 'whipping', 'study', 'reminded', 'Liberation', 'transacting', 'Family', '45.2', 'assertions', 'Dodge', 'worthiness', 'spoke', 'squeeze', 'Judith', 'evaporated', 'Utilities', 'raise', 'double-digit', 'grew', 'Nine', 'disgorge', 'sentence', 'Alurralde', 'Danzig', 'Primerica', 'stress', 'Than', 'slaying', '8.35', '3:15', 'early-retirement', 'kindergarten', 'Minnesota', 'provoked', 'Ed', 'interjects', 'actually', 'Ranger', 'travel-related', 'mines', 'notch', '17', 'Arbitraging', 'small', '14.26', 'buck', 'opening', '*T*-8', 'illegality', 'floral', 'options', 'Yale', '12.97', 'Trinity', 'No-Smoking', 'Nipponese', 'invested', 'miners', '12.52', 'wires', '58-year-old', 'foam', 'begin', 'Japan', 'acid', 'Perestroika', 'multilevel', 'Seoul', 'declaration', 'may', 'pound', 'dormitory', 'Federal', 'Unitholders', '228', 'METALS', 'detective-story', 'Oshkosh', 'repeatedly', 'Warren', 'networking', 'payments', 'Desai', 'aware', '27.1', 'novelist', 'harmony', 'foldable', 'corkscrews', 'Confronted', 'Knowing', '1.5755', '6.1', 'meaningful', 'efficient', 'Odyssey', 'controversial', 'relatively', 'revised', 'Sidewalk', 'lagging', '*T*-52', 'restructure', 'assistance', 'wanting', 'cycles', 'numbers', 'worms', 'post', 'pension', 'operations', '*T*-58', '*T*-82', 'City', 'residential', 'Fans', 'retardation', 'bloc', '6.79', 'H.', 'gubernatorial', 'fate', 'Pamela', 'clothing', 'Have', 'Tony', 'Lynch', 'pins', 'obligation', 'Provided', 'decades', 'scrutinizing', 'blocked', 'serial', 'unanimous', 'furious', 'imports', 'financial-services', 'wherewithal', 'licenses', 'Wick', 'CLEARS', 'Sino-U.S.', 'Countries', 'Polls', 'breed', 'Army', 'crews', 'studies', 'fields', 'Silver', 'maximum', 'slashing', 'claim', 'ethics', 'fell', 'Legal', '2.19', 'briefing', 'faded', '94.2', 'church', 'Hill', 'lot', 'unrecognizable', 'Wash.', 'Sauvignon', 'Alleghany', 'portfolios', 'organization', 'hotel', 'Zealand', 'inner', 'angered', 'garbage', 'same', 'oversight', 'commitments', 'Merchant', '*T*-3', 'JUDICIAL', 'chamber', '*-89', '23.4', 'clouding', 'place', 'vintage', 'data', 'digs', 'truck', 'photocopy', 'two-week', 'harbinger', 'bold', 'Stena', 'diversionary', 'Policies', 'identical', 'picked', 'demonstrators', 'Lama', 'excesses', 'traveling', 'limitation', 'start-up', 'at', 'Fax', 'unfair-trade', 'falling', '*-37', 'subcontractor', 'labor', 'ever', 'particular', 'exception', 'wines', 'debut', 'financial', 'signature', 'invades', '130.6', 'conducting', 'serving', '415.6', 'ninth', 'impaired', 'exchanging', 'stepped', 'identity-management', 'Calif', 'GenCorp', '72', 'competes', 'accounted', 'give', 'abridging', 'interesting', 'broadly', 'Lebanon', 'sweet', 'Bon', 'Any', 'Rhone', '2-8', 'seduce', 'Drexel', 'researcher', 'sweeten', 'exactly', 'periods', 'poignant', '*-34', 'Ednie', 'search-and-seizure', 'necks', 'leaving', 'invite', 'referrals', 'boots', 'five-day', 'unspecified', 'Chemical', 'Clara', 'fifth', 'product-design', 'Bridgeville', 'Australian', 'merchant', 'automatic', 'surprisingly', 'operator', 'Hampton', 'employers', 'suffer', '*T*-185', 'entitled', 'Burt', 'Illuminating', 'mundane', '7.78', 'framework', 'cadmium', 'nations', 'cluttered', 'Earns', 'prior-year', 'prescription', 'French', 'General', 'Vanderbilt', 'borrowing', 'loveliest', 'Altair', 'Fire', 'rocket', 'never', 'Adolph', 'Kerensky', 'frightened', 'tabloid', 'booklets', 'Environmental', 'Carson', 'tissue-transplant', 'Wedtech', 'asset-sale', 'Marshall', 'Floyd', '*T*-78', 'implies', '8.56', 'completing', '47.1', 'Bougainville', 'Regal', 'link', 'appeal', '30.9', 'David', 'reorganized', 'Tom', 'peculiar', 'However', '19.6', 'Hoffman', 'represents', 'stretch', 'watching', 'blinks', 'definitely', \"O'Connor\", 'resignation', 'Akio', 'wrestling', 'fundamentally', 'backers', '4.5', 'thus', 'Oil', '*-100', '60', 'overall', 'refusal', 'Times-Stock', 'hoopla', 'inventiveness', 'participant', 'disciplined', 'envoy', 'Fulbright', 'McFall', '415', 'Her', 'Coca-Cola', 'Ramirez', '*-137', 'lawmakers', 'J.', 'school-sponsored', 'employer', 'tailoring', 'rapists', 'unfathomable', 'prefectural', 'searched', 'invent', 'battery', 'Hawaii', 'Getting', '5.29', 'Structural', 'damaging', 'tobacco', 'wives', 'supported', 'stature', 'agriculture', 'cold', 'Allendale', 'Savin', 'blood-cell', 'big-time', 'price-support', 'deprived', 'problem', 'drawing', 'Massachusetts', 'shake', 'Park', 'Steven', 'four', 'stick', 'Drink', '1948', 'slab', 'Retail', 'candidates', 'strings', 'bronze', 'private', '*T*-162', 'sale', 'Demand', 'Drug', 'you', 'eliminate', 'prisoners', '*T*-222', 'justify', 'Du', 'commercials', 'Allied', 'draw', 'eye', 'Overall', 'commit', '*T*-102', 'body', 'mired', 'web', 'knew', 'Mario', 'Bermuda-based', 'slid', 'publications', 'protocols', 'unsettling', 'anecdotal', '1966', 'choosing', 'VanSant', 'retired', 'functions', 'ignored', '*T*-141', 'Already', 'showed', 'sweatshirts', 'stance', 'Capitol', '2,303,328', 'pain', '92', 'apply', '*T*-39', 'caustic', 'labor-backed', 'traders', 'Sandoz', 'hostile', 'yielding', 'sufficiently', 'Stephen', '99.3', 'Goldman', 'well-known', 'Mercedes', 'exempt', 'third-highest', 'Mellon', 'asbestosis', 'cutthroat', 'caution', 'Few', '422.5', 'am', '7.55', 'traditionally', 'Stores', '767', '1206.26', 'boogieman', 'Institute', 'Harvard', 'purchasing', 'junk', '*T*-151', 'Inc.', 'Vegas', '*-12', '326', '26,956', 'Manila', 'losing', 'sensitive', 'bridge', 'Suisse', '*T*-55', 'metric', 'Institution', 'Mahoney', 'no-confidence', 'Publishing', 'poorly', 'waif', 'unsympathetic', 'thing', 'Yquem', 'mininum-wage', 'Newsweek', 'diplomacy', '*-129', '3.61', 'Sandinista', 'Americans', 'repaid', '6.9', 'necessities', 'tumultuous', 'kindness', 'troops', 'Kuala', 'sacks', '-RRB-', 'personal', '29.9', '71,309', 'short-term', 'route', 'enabling', 'summoned', 'steel', 'committees', 'Pretax', 'definitive', 'disaffiliation', 'PETS', 'rhetoric', '116.9', 'Kobe', '80.50', 'little', 'statewide', 'fanciful', 'poured', 'negotiations', 'level', 'relations', '99', 'occur', 'multitude', 'landfill', 'instituted', 'void', 'Peters', 'Ancient', 'exposures', 'enacted', 'contracts', 'smooth', 'Weil', 'Minn.', 'taste', 'Dallas', 'reviewed', '3.2', 'petition', 'potential', 'Mining', '*-48', 'accountant', 'Civil', 'stretched', 'profited', '25.50', 'harshly', 'witness', 'handful', '*-108', 'deserve', 'Professors', 'significantly', 'whom', 'tramp', 'Industry', 'Herald-American', 'initiating', 'formed', 'Salomon', 'G.m.b', '1929', 'sell-off', 'trees', 'bar', 'offering', 'clock', 'Steelworkers', 'sticker', 'injury', 'whimsical', '2.29', 'prevailing', 'extraordinary', 'channel', 'ballplayers', 'Irvine', 'defendants', 'generations', 'liquid', 'Jaguar', 'Gingl', 'Whereas', 'Health', 'bitterness', 'longest', 'fail', 'buy', 'canine', 'Hotel', 'lacked', 'engineers', 'curse', 'beautiful', 'assess', '140', 'argue', 'Results', 'sends', '203', 'syndication', 'late', 'dominant', 'Payouts', 'city', 'Knapp', 'enlarged', 'bearing', 'Hutchinson', 'issuing', 'unanticipated', 'reinstating', 'collected', '35500.64', 'rescheduled', 'commenting', '*-103', '*-158', 'cheerleaders', 'unjust', 'Ringers', 'thousand', 'Investments', 'indicators', 'inherent', 'Garanti', 'modest', \"D'Amico\", 'grand', 'smallest', 'single', 'quotations', 'mortgages', 'fragile', 'exerting', '*T*-129', 'men', 'balance', '190-point', 'break', 'Bramalea', 'stringently', 'subordinate', 'Pratt', 'publisher', 'Beall', 'Sternberg', 'brought', 'member', 'phase-out', 'supercilious', 'Houston', 'telephones', 'insistence', 'appointment', 'Mrs', '110', 'merchandise', 'spot', 'bills', 'CS', 'multiples', 'Express-Buick', 'Brent', 'errors', 'games', 'Esso', 'restore', 'cleaner', 'Ronald', 'securities-based', 'Reagan', 'physicist', 'belfries', '*T*-42', 'print', 'Georgia-Pacific', 'worrying', 'Long-term', 'DEPOSIT', 'struggle', 'Senate', 'Univest', 'Dealers', 'Merc', '69-point', 'Population', 'multi-crystal', 'Donald', '18-a-share', 'negotiated', 'upward', '28', 'stock', 'light-truck', 'Elliott', '250', '2.9', 'Pretoria', 'labor-intensive', 'Chong-sik', 'applied', 'Carlos', 'conclude', 'graphics', 'Bribe', 'intensity', 'seven-million-ton', 'Intel', 'Personal', 'black-and-white', 'futures-related', 'parents', 'clipped', 'casting', 'relies', 'newsroom', 'communication', 'techniques', 'learned', 'reflects', 'receiving', 'registration', 'narrowed', 'media', 'Wamre', '44', 'Office', 'observations', 'Simon', 'Francisco-based', 'Brooks', 'congressional', 'Institutes', 'bombs', '*-128', 'Antinori', '8.25', 'integration', 'thin', 'smothering', 'Muzzling', '7.40', 'exhausted', 'Determining', 'absolute', 'unloaded', 'slash', 'Missouri', 'Exxon-owned', 'divisions', 'Upham', 'viewers', '7\\\\/8', 'Louis', 'Pacific', 'Prosecutors', 'answer', 'investigation', 'signals', '3.18', 'climb', 'Commonwealth', 'Heights', 'saw', 'Patch', 'quarter', 'considered', '1991-2000', 'pumping', 'foundation', 'GHKM', 'surrounding', 'Pressures', 'nation', 'affairs', 'itself', 'domestically', 'Later', 'borders', 'ownership', 'seven-year', 'Congress', 'National', 'explain', '*-117', 'milked', 'future', 'holders', 'Kuhns', 'behest', 'exceed', 'Bears', 'doubted', '387.8', 'emigres', 'drew', 'roughly', '*T*-113', 'immense', 'Symphony', 'decline', 'turning', 'industries', '282', 'Economics', 'integrity', 'clicked', 'Wilson', 'barges', 'prefer', 'flies', 'vagrant', 'intimately', 'drove', 'foreign-stock', 'presidential', 'choice', '1.125', 'world-wide', 'them', 'Rico', 'Noble', 'bonus', 'feline', 'likeness', 'Jail', '830,000', 'Separately', 'pursued', 'both', 'ai', 'no', 'save', 'Mark', 'onus', 'Signore', 'compares', 'Mass', 'negotiating', 'always', 'address', 'processes', '*-139', 'quoting', 'live', 'revive', 'player', 'daily', 'bled', 'abuzz', 'experienced', 'slump', 'Rally', 'leading', '*T*-79', 'essays', 'upheld', 'done', 'McDonald', 'fractionally', 'pulled', 'reduced', 'drivers', 'Cross', 'ASLACTON', 'begins', 'old', 'CAMPAIGN', 'breaker', 'Chadha', 'Holdings', '-', 'Nelson', 'astonishment', 'form', 'symbolic', 'separation', 'promising', 'sit', '5.57', 'accrue', 'bludgeon', 'awarding', 'argument', 'favor', 'Civilization', 'medical', '50', 'intrusions', 'Christopher', 'get-out-the-vote', 'heated', 'tension', 'declaring', 'advertise', 'twist', '300-day', 'preserving', 'transition', 'Garbage', 'insured', 'Critics', '341.20', 'queuing', 'apparently', 'Think', 'quoted', 'Occupational', 'ending', 'article', 'sets', 'famed', 'Pauline', 'portray', 'harm', 'tax', 'active', 'great', '*T*-244', 'ire', '45,000', 'desires', 'auspices', 'pension-fund', 'Rubicam', 'rule', 'lack', 'Preferences', 'mandates', 'near-record', 'stock-price', 'kilobytes', 'diversified', 'subject', 'Stock-index', 'boast', 'cues', '2.65', '331,000', 'roof', 'pollution', 'Parliament', 'previously', 'deserving', 'open-top', 'fortunes', 'handle', 'payable', 'boys', 'Dominus', 'Gunmen', 'Employment', 'Lieberman', 'upturn', 'dynamics', 'airlines', 'relief', 'Dolphins', 'Mutchin', \"'re\", '917', 'preferred', 'then-Speaker', 'Transportation', '*T*-186', 'descending', 'socialism', 'instructed', 'Gasoline', 'Monitor', 'Marchand', 'nine-month', 'representative', 'Brownell', 'backlogs', 'Ichiro', 'Frankly', 'competitions', 'U.S.', 'unconsolidated', 'Diamond', 'influence', 'whistle', 'rumored', 'rear-seat', 'suddenly', 'software', 'transferring', 'planted', 'Kane', 'Funded', 'Big', 'spends', 'thinking', 'sweetened', 'Haut-Brion', 'Irving', 'hand', 'chiefly', 'modify', '1986-87', '16', 'Remember', 'Bordeaux', 'He', 'undisclosed', 'replies', 'applicability', 'Tulane', 'Auctions', 'suggest', 'prospects', 'orchestrated', 'improves', 'non-farm', 'Shearson', 'Jr', 'courts', 'concerns', 'developer', 'Barron', 'swiftly', 'rewarding', 'renew', 'Maytag', '7.52', 'housewife', 'broken', 'calculate', 'unload', 'Fountain', 'imminent', 'odd', 'faculty', 'Georgia', 'wins', 'conglomerate', 'coke', 'bald-faced', 'diseases', 'halt', 'Salmore', 'videocassette', 'tapes', 'sorry', 'unitary', 'judgments', 'counts', 'Items', 'compensate', 'squeezed', 'needle-like', 'Friday', 'Saitama', 'assumption', 'beauty', 'three-year', 'gifts', 'long-time', 'carefully', 'education', 'soliciting', 'an', 'inferences', 'destination', '4.10', 'Martin', 'export-oriented', 'amps', 'Dec.', 'capability', 'Labor', 'inserted', 'goverment', 'needed', 'contrast', 'tradition', 'strip', 'Osborn', 'Women', 'Transamerica', 'family', 'Outside', '3.80', 'protected', 'Communication', 'remarked', 'machinery', 'monied', '20,000', 'perfection', 'withstand', 'Freeport-McMoRan', 'fuming', '*-28', 'deadwood', 'low-ball', 'hay', '*T*-80', 'pitches', 'caused', 'becoming', 'F.W.', 'indexes', 'executives', 'biggest', '63-year-old', 'fan', 'unsuccessful', 'skipped', 'tense', 'undesirable', 'Division', 'Darkhorse', 'confined', 'Officials', 'Sometimes', 'lives', 'her', 'Ballot', 'decides', '271,124', 'studied', 'Thrall', 'tete-a-tete', 'foundering', 'Midwest', 'trading', 'frustrating', 'vow', 'Hungary', 'violation', 'occupant', 'unexpected', '5.92', 'could', 'discount', '382-37', 'YWCA', '*-77', 'toy', 'teacher-cadet', '45-a-share', 'hardest-hit', 'acquired', 'offer', 'Americana', 'coupled', 'kinds', 'ancient', 'Avenue', 'bang', 'gunship', 'IOUs', 'saying', 'Laboratories', '1901', 'one-time', 'Nemeth', '618.1', 'liquidation', 'blank', 'unhappy', 'Camille', 'stakes', 'Scripps', 'kicker', 'confuse', 'hunted', 'propagandizes', 'headcount-control', '722', 'equity', 'moneymakers', 'prior', 'Souper', '3\\\\/4', 'time', 'creature', 'bitter', 'Tourism', 'five', 'tracks', 'sent', 'Consolidated', 'sweaty', 'TEXAS', 'bribery', 'Ralston', 'cue', 'safety', 'cut', 'startling', 'sports', 'items', '100,000', 'FTC', 'Abrupt', 're-thought', 'contribution', 'termed', 'guns', 'skeptical', 'classroom', 'directors', 'Marion', 'drunk', 'Over', 'Driskill', '81.8', 'Bentsen', 'Saudi', 'amount', 'headline', '*T*-119', 'largest', 'escort', 'Packages', 'backgrounds', 'producers', 'opened', 'Peter', 'incurred', 'discouraging', 'waited', 'Psychiatry', 'Tarwhine', '0.05', 'Video', 'booked', 'Barbados', 'materialize', 'prosecutor', 'Because', 'records', 'Herald', 'farmers', 'Circle', 'Catch-22', 'suppression', 'Spence', 'European', 'Eveready', 'endorse', 'quotas', 'showings', '7.50', 'disproportionate', 'replacement-car', 'Neil', 'Holding', 'Analysts', 'quantities', 'hearings', 'leadership', 'anti-drug', 'bureaucratic', '7.8', 'Municipal', 'offending', 'Pasadena', 'unenthusiastic', '116.3', 'Judie', 'DOONESBURY', 'first', 'regulations', 'Nebraska', 'Elmhurst', 'Yasser', 'reversed', 'highest-pitched', 'Clark', 'professional', 'Nobel', 'Red-blooded', 'Tache', 'entertaining', 'shareholders', 'Ten', 'tie-in', 'real-estate', 'halve', '*T*-238', 'Russell', 'radio-station', 'She', 'exports', '11.72', '*-125', 'firmed', 'rings', 'founded', 'Berliner', 'alternative', 'bigger', 'morbidity', 'reducing', 'perceives', 'incentive-backed', 'freshman', 'Sen.', 'You', '2.5', 'jolts', 'bend', 'illegally', 'counterattack', 'Bowl', 'Instruments', 'unauthorized', 'complained', 'Gerard', 'sued', 'prompts', 'Paribas', 'Reagan-Bush', '295', 'Pardus', '45', 'Hampshire', '14.99', 'proceedings', 'Valrico', 'lobbyist', 'allegedly', 'then', 'figure', 'race', 'already', 'percentage', 'touchy', 'market-makers', 'prove', 'launched', 'accused', 'command', '5.435', 'paycheck', 'hard-hitting', 'outright', 'waste', 'gentle', 'assurance', 'observers', 'Toronto', 'on-campus', 'succession', 'Lorillard', 'implemented', 'Paso', 'discordant', 'divest', '434.4', 'enthusiasm', 'witches', 'upon', 'avenge', 'Jenkins', 'natural-gas', 'Serial', '50.38', 'magazine', 'bellwether', 'electorate', 'look', '*-96', 'Mercantile', 'Barney', 'or', 'featuring', 'play', 'species', 'moments', 'burlap', 'risks', 'chose', 'Edge', 'ramparts', 'Collins', 'Seattle-based', '306', 'Chaplin', 'understand', '2.2', 'excision', 'cast', 'critics', 'Maryland', 'mix', 'befuddled', 'stored', 'Motor', 'Finnish', 'narrowly', 'compatible', 'anticipating', 'fits', 'historic', 'Nature', 'basis', '*-13', 'motor', 'policy-making', 'entangled', 'deceptive', 'arms', 'operate', 'Here', 'pitting', 'judges', 'chaos', 'territory', 'inner-city', 'worsen', '*-135', 'About', 'Bankruptcy', 'visited', 'happy', 'stock-market', 'reflection', 'Pty.', 'ordinary', 'Average', '263.07', '19.3', 'forum', 'Shell', 'Germany', 'Dingell', 'Bass', 'peculiarities', 'mania', 'open'}\n"
     ]
    }
   ],
   "source": [
    "#Get the set of words from the train_wordAndTag_list.\n",
    "tokens_set = set([wordAndTag[0] for wordAndTag in train_wordAndTag_list])\n",
    "print(len(tokens_set))\n",
    "print(tokens_set)"
   ]
  },
  {
   "cell_type": "code",
   "execution_count": 9,
   "metadata": {},
   "outputs": [
    {
     "name": "stdout",
     "output_type": "stream",
     "text": [
      "12\n",
      "{'VERB', 'ADJ', 'CONJ', 'DET', 'ADV', 'X', 'NOUN', '.', 'NUM', 'PRON', 'ADP', 'PRT'}\n"
     ]
    }
   ],
   "source": [
    "#How do we know if Universal tagset is used?\n",
    "#Get the set of tags from the train_wordAndTag_list.\n",
    "#It should be 12, as mentioned in the problem statement\n",
    "#NOTE that this will be used shortly for the HMM algorithm\n",
    "universal_tagset = set([wordAndTag[1] for wordAndTag in train_wordAndTag_list])\n",
    "print(len(universal_tagset))\n",
    "print(universal_tagset)"
   ]
  },
  {
   "cell_type": "markdown",
   "metadata": {},
   "source": [
    "### 2. POS Tagging Algorithm - HMM - Build the vanilla Viterbi based POS tagger\n",
    "#### Note: extracted from Upgrad Course - NLP - Module 2 - Exercise\n",
    "We'll use the HMM algorithm to tag the words. Given a sequence of words to be tagged, the task is to assign the most probable tag to the word.\n",
    "\n",
    "In other words, to every word W, assign the tag T that maximises the likelihood P(T/W). Since P(T/W) = P(W/T). P(T) / P(W), after ignoring P(W), we have to compute P(W/T) and P(T).\n",
    "\n",
    "P(W/T) is basically the probability that given a tag (say NN), what is the probability of it being W (say 'building'). This can be computed by computing the fraction of all NNs which are equal to W, i.e.\n",
    "\n",
    "P(W/T) = count(W, T) / count(T).\n",
    "\n",
    "The term P(T) is the probability of tag T, and in a tagging task, we assume that a tag will depend only on the previous tag. In other words, the probability of a tag being NN will depend only on the previous tag T(n-1). So for e.g. if T(n-1) is a JJ, then T(n) is likely to be an NN since adjectives often precede a noun (blue coat, tall building etc.).\n",
    "\n",
    "Given the penn treebank tagged dataset, we can compute the two terms P(W/T) and P(T) and store them in two large matrices. The matrix of P(W/T) will be sparse, since each word will not be seen with most tags ever, and those terms will thus be zero."
   ]
  },
  {
   "cell_type": "markdown",
   "metadata": {},
   "source": [
    "### Emission Probabilities"
   ]
  },
  {
   "cell_type": "code",
   "execution_count": 10,
   "metadata": {},
   "outputs": [],
   "source": [
    "# Computing P(W/T) and storing in tags x words matrix\n",
    "tags = len(universal_tagset)\n",
    "words = len(tokens_set)\n",
    "prob_W_given_T = np.zeros((tags, words))"
   ]
  },
  {
   "cell_type": "code",
   "execution_count": 11,
   "metadata": {},
   "outputs": [],
   "source": [
    "# Compute Emission Probability: word given tag \n",
    "def word_given_tag(word, tag, train_bag = train_wordAndTag_list):\n",
    "    tag_list = [pair for pair in train_bag if pair[1] == tag]\n",
    "    count_tag = len(tag_list)\n",
    "    w_given_tag_list = [pair[0] for pair in tag_list if pair[0] == word]\n",
    "    count_w_given_tag = len(w_given_tag_list)\n",
    "    \n",
    "    return (count_w_given_tag, count_tag)"
   ]
  },
  {
   "cell_type": "code",
   "execution_count": 12,
   "metadata": {},
   "outputs": [
    {
     "name": "stdout",
     "output_type": "stream",
     "text": [
      "\n",
      " large\n",
      "(26, 6061)\n",
      "(0, 12879)\n",
      "(0, 8280) \n",
      "\n",
      "\n",
      " will\n",
      "(0, 3015)\n",
      "(1, 27371)\n",
      "(266, 12879)\n",
      "\n",
      " book\n",
      "(7, 27371)\n",
      "(1, 12879)\n"
     ]
    }
   ],
   "source": [
    "# examples\n",
    "\n",
    "#'ADV', 'NUM', 'VERB', 'NOUN', 'DET', 'PRT', 'ADP', 'PRON', '.', 'CONJ', 'ADJ', 'X'\n",
    "\n",
    "# large\n",
    "print(\"\\n\", \"large\")\n",
    "print(word_given_tag('large', 'ADJ'))\n",
    "print(word_given_tag('large', 'VERB'))\n",
    "print(word_given_tag('large', 'DET'), \"\\n\")\n",
    "\n",
    "# will\n",
    "print(\"\\n\", \"will\")\n",
    "print(word_given_tag('will', 'ADV'))\n",
    "print(word_given_tag('will', 'NOUN'))\n",
    "print(word_given_tag('will', 'VERB'))\n",
    "\n",
    "# book\n",
    "print(\"\\n\", \"book\")\n",
    "print(word_given_tag('book', 'NOUN'))\n",
    "print(word_given_tag('book', 'VERB'))"
   ]
  },
  {
   "cell_type": "code",
   "execution_count": 13,
   "metadata": {},
   "outputs": [
    {
     "data": {
      "text/plain": [
       "list"
      ]
     },
     "execution_count": 13,
     "metadata": {},
     "output_type": "execute_result"
    }
   ],
   "source": [
    "type(train_wordAndTag_list)"
   ]
  },
  {
   "cell_type": "markdown",
   "metadata": {},
   "source": [
    "### Transition Probabilities"
   ]
  },
  {
   "cell_type": "code",
   "execution_count": 14,
   "metadata": {},
   "outputs": [],
   "source": [
    "# compute tag2 happening given tag1: tag2(t2) given tag1(t1), i.e. Transition Probability\n",
    "\n",
    "def t2_given_t1(t2, t1, train_bag = train_wordAndTag_list):\n",
    "    tags = [pair[1] for pair in train_bag]\n",
    "    count_t1 = len([t for t in tags if t == t1])\n",
    "    count_t2_t1 = 0\n",
    "    for index in range(len(tags)-1):\n",
    "        if tags[index]==t1 and tags[index+1] == t2:\n",
    "            count_t2_t1 += 1\n",
    "    return (count_t2_t1, count_t1)"
   ]
  },
  {
   "cell_type": "code",
   "execution_count": 15,
   "metadata": {},
   "outputs": [
    {
     "name": "stdout",
     "output_type": "stream",
     "text": [
      "(4033, 27371)\n",
      "(5289, 8280)\n",
      "(106, 8280)\n",
      "(0, 12879)\n",
      "(0, 6256)\n",
      "(91, 3333)\n",
      "(253, 2155)\n"
     ]
    }
   ],
   "source": [
    "# examples\n",
    "#'ADV', 'NUM', 'VERB', 'NOUN', 'DET', 'PRT', 'ADP', 'PRON', '.', 'CONJ', 'ADJ', 'X'\n",
    "\n",
    "print(t2_given_t1(t2='VERB', t1='NOUN'))\n",
    "print(t2_given_t1('NOUN', 'DET'))\n",
    "print(t2_given_t1('ADV', 'DET'))\n",
    "print(t2_given_t1('NNP', 'VERB'))\n",
    "print(t2_given_t1(',', 'X'))\n",
    "print(t2_given_t1('PRT', 'NUM'))\n",
    "print(t2_given_t1('DET', 'CONJ'))"
   ]
  },
  {
   "cell_type": "code",
   "execution_count": 16,
   "metadata": {},
   "outputs": [
    {
     "name": "stdout",
     "output_type": "stream",
     "text": [
      "(1931, 11108)\n",
      "(981, 11108)\n",
      "(2474, 11108)\n",
      "(728, 11108)\n"
     ]
    }
   ],
   "source": [
    "#Please note P(tag|start) is same as P(tag|'.')\n",
    "print(t2_given_t1('DET', '.'))\n",
    "print(t2_given_t1('VERB', '.'))\n",
    "print(t2_given_t1('NOUN', '.'))\n",
    "print(t2_given_t1('PRON', '.'))\n"
   ]
  },
  {
   "cell_type": "code",
   "execution_count": 17,
   "metadata": {},
   "outputs": [],
   "source": [
    "# creating t x t transition matrix of tags\n",
    "# each column is t2, each row is t1\n",
    "# thus M(i, j) represents P(tj given ti)\n",
    "#len of T is 12\n",
    "\n",
    "def buildTransitionProbabilitiesMatrix(tagset, taggedTrainData):\n",
    "    tProbMatrix = np.zeros((len(tagset), len(tagset)), dtype='float32')\n",
    "    for i, t1 in enumerate(list(tagset)):\n",
    "        for j, t2 in enumerate(list(tagset)): \n",
    "            tpTuple = t2_given_t1(t2, t1, taggedTrainData)\n",
    "            tProbMatrix[i, j] = tpTuple[0]/tpTuple[1]\n",
    "    return tProbMatrix\n",
    "\n",
    "tags_matrix = buildTransitionProbabilitiesMatrix(universal_tagset, train_wordAndTag_list)"
   ]
  },
  {
   "cell_type": "code",
   "execution_count": 18,
   "metadata": {},
   "outputs": [
    {
     "data": {
      "text/html": [
       "<div>\n",
       "<style scoped>\n",
       "    .dataframe tbody tr th:only-of-type {\n",
       "        vertical-align: middle;\n",
       "    }\n",
       "\n",
       "    .dataframe tbody tr th {\n",
       "        vertical-align: top;\n",
       "    }\n",
       "\n",
       "    .dataframe thead th {\n",
       "        text-align: right;\n",
       "    }\n",
       "</style>\n",
       "<table border=\"1\" class=\"dataframe\">\n",
       "  <thead>\n",
       "    <tr style=\"text-align: right;\">\n",
       "      <th></th>\n",
       "      <th>VERB</th>\n",
       "      <th>ADJ</th>\n",
       "      <th>CONJ</th>\n",
       "      <th>DET</th>\n",
       "      <th>ADV</th>\n",
       "      <th>X</th>\n",
       "      <th>NOUN</th>\n",
       "      <th>.</th>\n",
       "      <th>NUM</th>\n",
       "      <th>PRON</th>\n",
       "      <th>ADP</th>\n",
       "      <th>PRT</th>\n",
       "    </tr>\n",
       "  </thead>\n",
       "  <tbody>\n",
       "    <tr>\n",
       "      <th>VERB</th>\n",
       "      <td>0.169345</td>\n",
       "      <td>0.065533</td>\n",
       "      <td>0.005358</td>\n",
       "      <td>0.135492</td>\n",
       "      <td>0.082460</td>\n",
       "      <td>0.217020</td>\n",
       "      <td>0.110024</td>\n",
       "      <td>0.034630</td>\n",
       "      <td>0.022595</td>\n",
       "      <td>0.035562</td>\n",
       "      <td>0.091001</td>\n",
       "      <td>0.030981</td>\n",
       "    </tr>\n",
       "    <tr>\n",
       "      <th>ADJ</th>\n",
       "      <td>0.012539</td>\n",
       "      <td>0.065831</td>\n",
       "      <td>0.017324</td>\n",
       "      <td>0.004950</td>\n",
       "      <td>0.004620</td>\n",
       "      <td>0.021119</td>\n",
       "      <td>0.698895</td>\n",
       "      <td>0.065006</td>\n",
       "      <td>0.020294</td>\n",
       "      <td>0.000660</td>\n",
       "      <td>0.078040</td>\n",
       "      <td>0.010724</td>\n",
       "    </tr>\n",
       "    <tr>\n",
       "      <th>CONJ</th>\n",
       "      <td>0.159165</td>\n",
       "      <td>0.118329</td>\n",
       "      <td>0.000464</td>\n",
       "      <td>0.117401</td>\n",
       "      <td>0.054292</td>\n",
       "      <td>0.008353</td>\n",
       "      <td>0.352204</td>\n",
       "      <td>0.034803</td>\n",
       "      <td>0.039443</td>\n",
       "      <td>0.058005</td>\n",
       "      <td>0.052900</td>\n",
       "      <td>0.004640</td>\n",
       "    </tr>\n",
       "    <tr>\n",
       "      <th>DET</th>\n",
       "      <td>0.039614</td>\n",
       "      <td>0.204348</td>\n",
       "      <td>0.000483</td>\n",
       "      <td>0.005797</td>\n",
       "      <td>0.012802</td>\n",
       "      <td>0.044928</td>\n",
       "      <td>0.638768</td>\n",
       "      <td>0.018116</td>\n",
       "      <td>0.022101</td>\n",
       "      <td>0.003623</td>\n",
       "      <td>0.009179</td>\n",
       "      <td>0.000242</td>\n",
       "    </tr>\n",
       "    <tr>\n",
       "      <th>ADV</th>\n",
       "      <td>0.347595</td>\n",
       "      <td>0.131012</td>\n",
       "      <td>0.006633</td>\n",
       "      <td>0.067993</td>\n",
       "      <td>0.077944</td>\n",
       "      <td>0.021891</td>\n",
       "      <td>0.031177</td>\n",
       "      <td>0.136650</td>\n",
       "      <td>0.031841</td>\n",
       "      <td>0.015589</td>\n",
       "      <td>0.117081</td>\n",
       "      <td>0.014594</td>\n",
       "    </tr>\n",
       "    <tr>\n",
       "      <th>X</th>\n",
       "      <td>0.203644</td>\n",
       "      <td>0.016304</td>\n",
       "      <td>0.010870</td>\n",
       "      <td>0.054668</td>\n",
       "      <td>0.026055</td>\n",
       "      <td>0.075128</td>\n",
       "      <td>0.061541</td>\n",
       "      <td>0.164162</td>\n",
       "      <td>0.002877</td>\n",
       "      <td>0.055786</td>\n",
       "      <td>0.144182</td>\n",
       "      <td>0.184783</td>\n",
       "    </tr>\n",
       "    <tr>\n",
       "      <th>NOUN</th>\n",
       "      <td>0.147346</td>\n",
       "      <td>0.011910</td>\n",
       "      <td>0.042929</td>\n",
       "      <td>0.012897</td>\n",
       "      <td>0.016989</td>\n",
       "      <td>0.029009</td>\n",
       "      <td>0.264148</td>\n",
       "      <td>0.240072</td>\n",
       "      <td>0.009426</td>\n",
       "      <td>0.004640</td>\n",
       "      <td>0.176391</td>\n",
       "      <td>0.044244</td>\n",
       "    </tr>\n",
       "    <tr>\n",
       "      <th>.</th>\n",
       "      <td>0.088315</td>\n",
       "      <td>0.044472</td>\n",
       "      <td>0.057616</td>\n",
       "      <td>0.173839</td>\n",
       "      <td>0.052845</td>\n",
       "      <td>0.027458</td>\n",
       "      <td>0.222722</td>\n",
       "      <td>0.093626</td>\n",
       "      <td>0.080393</td>\n",
       "      <td>0.065538</td>\n",
       "      <td>0.090745</td>\n",
       "      <td>0.002341</td>\n",
       "    </tr>\n",
       "    <tr>\n",
       "      <th>NUM</th>\n",
       "      <td>0.017402</td>\n",
       "      <td>0.033603</td>\n",
       "      <td>0.013201</td>\n",
       "      <td>0.003300</td>\n",
       "      <td>0.003000</td>\n",
       "      <td>0.211521</td>\n",
       "      <td>0.353435</td>\n",
       "      <td>0.116412</td>\n",
       "      <td>0.184518</td>\n",
       "      <td>0.001500</td>\n",
       "      <td>0.034803</td>\n",
       "      <td>0.027303</td>\n",
       "    </tr>\n",
       "    <tr>\n",
       "      <th>PRON</th>\n",
       "      <td>0.483559</td>\n",
       "      <td>0.073888</td>\n",
       "      <td>0.005416</td>\n",
       "      <td>0.008897</td>\n",
       "      <td>0.033269</td>\n",
       "      <td>0.094004</td>\n",
       "      <td>0.210058</td>\n",
       "      <td>0.040232</td>\n",
       "      <td>0.006963</td>\n",
       "      <td>0.007737</td>\n",
       "      <td>0.023211</td>\n",
       "      <td>0.012766</td>\n",
       "    </tr>\n",
       "    <tr>\n",
       "      <th>ADP</th>\n",
       "      <td>0.008366</td>\n",
       "      <td>0.106607</td>\n",
       "      <td>0.000858</td>\n",
       "      <td>0.324753</td>\n",
       "      <td>0.013406</td>\n",
       "      <td>0.034535</td>\n",
       "      <td>0.323037</td>\n",
       "      <td>0.039790</td>\n",
       "      <td>0.061776</td>\n",
       "      <td>0.068211</td>\n",
       "      <td>0.017160</td>\n",
       "      <td>0.001502</td>\n",
       "    </tr>\n",
       "    <tr>\n",
       "      <th>PRT</th>\n",
       "      <td>0.402160</td>\n",
       "      <td>0.084097</td>\n",
       "      <td>0.002291</td>\n",
       "      <td>0.101767</td>\n",
       "      <td>0.010144</td>\n",
       "      <td>0.012435</td>\n",
       "      <td>0.246728</td>\n",
       "      <td>0.042539</td>\n",
       "      <td>0.057919</td>\n",
       "      <td>0.017997</td>\n",
       "      <td>0.020288</td>\n",
       "      <td>0.001636</td>\n",
       "    </tr>\n",
       "  </tbody>\n",
       "</table>\n",
       "</div>"
      ],
      "text/plain": [
       "          VERB       ADJ      CONJ       DET       ADV         X      NOUN  \\\n",
       "VERB  0.169345  0.065533  0.005358  0.135492  0.082460  0.217020  0.110024   \n",
       "ADJ   0.012539  0.065831  0.017324  0.004950  0.004620  0.021119  0.698895   \n",
       "CONJ  0.159165  0.118329  0.000464  0.117401  0.054292  0.008353  0.352204   \n",
       "DET   0.039614  0.204348  0.000483  0.005797  0.012802  0.044928  0.638768   \n",
       "ADV   0.347595  0.131012  0.006633  0.067993  0.077944  0.021891  0.031177   \n",
       "X     0.203644  0.016304  0.010870  0.054668  0.026055  0.075128  0.061541   \n",
       "NOUN  0.147346  0.011910  0.042929  0.012897  0.016989  0.029009  0.264148   \n",
       ".     0.088315  0.044472  0.057616  0.173839  0.052845  0.027458  0.222722   \n",
       "NUM   0.017402  0.033603  0.013201  0.003300  0.003000  0.211521  0.353435   \n",
       "PRON  0.483559  0.073888  0.005416  0.008897  0.033269  0.094004  0.210058   \n",
       "ADP   0.008366  0.106607  0.000858  0.324753  0.013406  0.034535  0.323037   \n",
       "PRT   0.402160  0.084097  0.002291  0.101767  0.010144  0.012435  0.246728   \n",
       "\n",
       "             .       NUM      PRON       ADP       PRT  \n",
       "VERB  0.034630  0.022595  0.035562  0.091001  0.030981  \n",
       "ADJ   0.065006  0.020294  0.000660  0.078040  0.010724  \n",
       "CONJ  0.034803  0.039443  0.058005  0.052900  0.004640  \n",
       "DET   0.018116  0.022101  0.003623  0.009179  0.000242  \n",
       "ADV   0.136650  0.031841  0.015589  0.117081  0.014594  \n",
       "X     0.164162  0.002877  0.055786  0.144182  0.184783  \n",
       "NOUN  0.240072  0.009426  0.004640  0.176391  0.044244  \n",
       ".     0.093626  0.080393  0.065538  0.090745  0.002341  \n",
       "NUM   0.116412  0.184518  0.001500  0.034803  0.027303  \n",
       "PRON  0.040232  0.006963  0.007737  0.023211  0.012766  \n",
       "ADP   0.039790  0.061776  0.068211  0.017160  0.001502  \n",
       "PRT   0.042539  0.057919  0.017997  0.020288  0.001636  "
      ]
     },
     "execution_count": 18,
     "metadata": {},
     "output_type": "execute_result"
    }
   ],
   "source": [
    "# convert the matrix to a df for better readability\n",
    "tags_df = pd.DataFrame(tags_matrix, columns = list(universal_tagset), index=list(universal_tagset))\n",
    "tags_df"
   ]
  },
  {
   "cell_type": "code",
   "execution_count": 19,
   "metadata": {},
   "outputs": [
    {
     "data": {
      "image/png": "[encoded data removed]",
      "text/plain": [
       "<Figure size 720x576 with 2 Axes>"
      ]
     },
     "metadata": {
      "needs_background": "light"
     },
     "output_type": "display_data"
    }
   ],
   "source": [
    "# heatmap of tags matrix\n",
    "# T(i, j) indicates P(tag j given tag i)\n",
    "plt.figure(figsize=(10, 8))\n",
    "sns.heatmap(tags_df)\n",
    "plt.show()"
   ]
  },
  {
   "cell_type": "code",
   "execution_count": 20,
   "metadata": {},
   "outputs": [
    {
     "data": {
      "image/png": "[encoded data removed]",
      "text/plain": [
       "<Figure size 720x576 with 2 Axes>"
      ]
     },
     "metadata": {
      "needs_background": "light"
     },
     "output_type": "display_data"
    }
   ],
   "source": [
    "# frequent tags\n",
    "# filter the df to get P(t2, t1) > 0.5\n",
    "tags_frequent = tags_df[tags_df>0.5]\n",
    "plt.figure(figsize=(10, 8))\n",
    "sns.heatmap(tags_frequent)\n",
    "plt.show()"
   ]
  },
  {
   "cell_type": "markdown",
   "metadata": {},
   "source": [
    "#### Nouns follow determinants and adjectives"
   ]
  },
  {
   "cell_type": "code",
   "execution_count": 21,
   "metadata": {},
   "outputs": [],
   "source": [
    "# Viterbi Heuristic\n",
    "def Viterbi(words, train_bag = train_wordAndTag_list):\n",
    "    print(\"**Words to be tagged** \", words)\n",
    "    state = []\n",
    "    T = list(set([pair[1] for pair in train_bag]))\n",
    "    print(\"** TAGS **\", T)\n",
    "    \n",
    "    for key, word in enumerate(words):\n",
    "        #initialise list of probability column for a given observation\n",
    "        p = [] \n",
    "        for tag in T:\n",
    "            if key == 0:\n",
    "                transition_p = tags_df.loc['.', tag]\n",
    "            else:\n",
    "                #print(\"**state[-1]** \", state[-1])\n",
    "                transition_p = tags_df.loc[state[-1], tag]\n",
    "                \n",
    "            # compute emission and state probabilities\n",
    "            emission_p = word_given_tag(words[key], tag)[0]/word_given_tag(words[key], tag)[1]\n",
    "            state_probability = emission_p * transition_p    \n",
    "            p.append(state_probability)\n",
    "            \n",
    "        pmax = max(p)\n",
    "        # getting state for which probability is maximum\n",
    "        state_max = T[p.index(pmax)] \n",
    "        state.append(state_max)\n",
    "    return list(zip(words, state))"
   ]
  },
  {
   "cell_type": "code",
   "execution_count": 22,
   "metadata": {},
   "outputs": [
    {
     "name": "stdout",
     "output_type": "stream",
     "text": [
      "[('Separately', 'ADV'), (',', '.'), ('Citadel', 'NOUN'), ('posted', 'VERB'), ('a', 'DET'), ('third-quarter', 'NOUN'), ('net', 'ADJ'), ('loss', 'NOUN'), ('of', 'ADP'), ('$', '.'), ('2.3', 'NUM'), ('million', 'NUM'), ('*U*', 'X'), (',', '.'), ('or', 'CONJ'), ('68', 'NUM'), ('cents', 'NOUN'), ('a', 'DET'), ('share', 'NOUN'), (',', '.'), ('versus', 'CONJ'), ('net', 'ADJ'), ('income', 'NOUN'), ('of', 'ADP'), ('$', '.'), ('5.3', 'NUM'), ('million', 'NUM'), ('*U*', 'X'), (',', '.'), ('or', 'CONJ'), ('$', '.'), ('1.61', 'NUM'), ('*U*', 'X'), ('a', 'DET'), ('share', 'NOUN'), (',', '.'), ('a', 'DET'), ('year', 'NOUN'), ('earlier', 'ADJ'), ('.', '.'), ('In', 'ADP'), ('October', 'NOUN'), ('1989', 'NUM'), (',', '.'), ('16.9', 'NUM'), ('%', 'NOUN'), ('said', 'VERB'), ('0', 'X'), ('more', 'ADJ'), ('jobs', 'NOUN'), ('will', 'VERB'), ('be', 'VERB'), ('created', 'VERB'), ('*-1', 'X'), ('in', 'ADP'), ('the', 'DET'), ('coming', 'VERB'), ('six', 'NUM'), ('months', 'NOUN'), (',', '.'), ('compared', 'VERB'), ('with', 'ADP'), ('17.4', 'NUM'), ('%', 'NOUN'), ('in', 'ADP'), ('September', 'NOUN'), ('and', 'CONJ'), ('18.6', 'NUM'), ('%', 'NOUN'), ('in', 'ADP'), ('October', 'NOUN'), ('1988', 'NUM'), ('.', '.'), ('She', 'PRON'), ('believes', 'VERB'), ('that', 'ADP'), ('the', 'DET'), ('only', 'ADJ'), ('answer', 'NOUN'), ('for', 'ADP'), ('individuals', 'NOUN'), ('is', 'VERB'), ('*', 'X'), ('to', 'PRT'), ('``', '.'), ('buy', 'VERB'), ('stocks', 'NOUN'), ('that', 'DET'), ('*T*-1', 'X'), (\"'ll\", 'VERB'), ('weather', 'VERB'), ('any', 'DET'), ('storm', 'NOUN'), ('.', '.'), (\"''\", '.')]\n",
      "\n",
      "['Separately', ',', 'Citadel', 'posted', 'a', 'third-quarter', 'net', 'loss', 'of', '$', '2.3', 'million', '*U*', ',', 'or', '68', 'cents', 'a', 'share', ',', 'versus', 'net', 'income', 'of', '$', '5.3', 'million', '*U*', ',', 'or', '$', '1.61', '*U*', 'a', 'share', ',', 'a', 'year', 'earlier', '.', 'In', 'October', '1989', ',', '16.9', '%', 'said', '0', 'more', 'jobs', 'will', 'be', 'created', '*-1', 'in', 'the', 'coming', 'six', 'months', ',', 'compared', 'with', '17.4', '%', 'in', 'September', 'and', '18.6', '%', 'in', 'October', '1988', '.', 'She', 'believes', 'that', 'the', 'only', 'answer', 'for', 'individuals', 'is', '*', 'to', '``', 'buy', 'stocks', 'that', '*T*-1', \"'ll\", 'weather', 'any', 'storm', '.', \"''\"]\n"
     ]
    }
   ],
   "source": [
    "# Running on entire test dataset would take more than 3-4hrs. \n",
    "# Let's test our Viterbi algorithm on a few sample sentences of test dataset\n",
    "\n",
    "random.seed(1234)\n",
    "\n",
    "# choose random 5 sents\n",
    "rndom = [random.randint(1,len(test_set)) for x in range(3)]\n",
    "\n",
    "# list of sents\n",
    "test_run = [test_set[i] for i in rndom]\n",
    "\n",
    "# list of tagged words\n",
    "test_run_base = [tup for sent in test_run for tup in sent]\n",
    "\n",
    "# list of untagged words\n",
    "test_tagged_words = [tup[0] for sent in test_run for tup in sent]\n",
    "\n",
    "print(test_run_base)\n",
    "print()\n",
    "print(test_tagged_words)"
   ]
  },
  {
   "cell_type": "code",
   "execution_count": 23,
   "metadata": {},
   "outputs": [
    {
     "name": "stdout",
     "output_type": "stream",
     "text": [
      "**Words to be tagged**  ['Separately', ',', 'Citadel', 'posted', 'a', 'third-quarter', 'net', 'loss', 'of', '$', '2.3', 'million', '*U*', ',', 'or', '68', 'cents', 'a', 'share', ',', 'versus', 'net', 'income', 'of', '$', '5.3', 'million', '*U*', ',', 'or', '$', '1.61', '*U*', 'a', 'share', ',', 'a', 'year', 'earlier', '.', 'In', 'October', '1989', ',', '16.9', '%', 'said', '0', 'more', 'jobs', 'will', 'be', 'created', '*-1', 'in', 'the', 'coming', 'six', 'months', ',', 'compared', 'with', '17.4', '%', 'in', 'September', 'and', '18.6', '%', 'in', 'October', '1988', '.', 'She', 'believes', 'that', 'the', 'only', 'answer', 'for', 'individuals', 'is', '*', 'to', '``', 'buy', 'stocks', 'that', '*T*-1', \"'ll\", 'weather', 'any', 'storm', '.', \"''\"]\n",
      "** TAGS ** ['VERB', 'ADJ', 'CONJ', 'DET', 'ADV', 'X', 'NOUN', '.', 'NUM', 'PRON', 'ADP', 'PRT']\n",
      "***Time taken to tag****  36.52812385559082\n"
     ]
    }
   ],
   "source": [
    "# tagging the test sentences\n",
    "def tagSentencesViterbi(words2BeTagged):\n",
    "    start = time.time()\n",
    "    tagged_seq = Viterbi(words2BeTagged)\n",
    "    end = time.time()\n",
    "    difference = end-start\n",
    "    print(\"***Time taken to tag**** \", difference)\n",
    "    return tagged_seq\n",
    "\n",
    "tagged_seq = tagSentencesViterbi(test_tagged_words)"
   ]
  },
  {
   "cell_type": "code",
   "execution_count": 24,
   "metadata": {},
   "outputs": [
    {
     "name": "stdout",
     "output_type": "stream",
     "text": [
      "[('Separately', 'ADV'), (',', '.'), ('Citadel', 'NOUN'), ('posted', 'VERB'), ('a', 'DET'), ('third-quarter', 'NOUN'), ('net', 'NOUN'), ('loss', 'NOUN'), ('of', 'ADP'), ('$', '.'), ('2.3', 'NUM'), ('million', 'NUM'), ('*U*', 'X'), (',', '.'), ('or', 'CONJ'), ('68', 'NUM'), ('cents', 'NOUN'), ('a', 'DET'), ('share', 'NOUN'), (',', '.'), ('versus', 'VERB'), ('net', 'ADJ'), ('income', 'NOUN'), ('of', 'ADP'), ('$', '.'), ('5.3', 'VERB'), ('million', 'NUM'), ('*U*', 'X'), (',', '.'), ('or', 'CONJ'), ('$', '.'), ('1.61', 'VERB'), ('*U*', 'X'), ('a', 'DET'), ('share', 'NOUN'), (',', '.'), ('a', 'DET'), ('year', 'NOUN'), ('earlier', 'ADV'), ('.', '.'), ('In', 'ADP'), ('October', 'NOUN'), ('1989', 'NUM'), (',', '.'), ('16.9', 'VERB'), ('%', 'NOUN'), ('said', 'VERB'), ('0', 'X'), ('more', 'ADV'), ('jobs', 'NOUN'), ('will', 'VERB'), ('be', 'VERB'), ('created', 'VERB'), ('*-1', 'X'), ('in', 'ADP'), ('the', 'DET'), ('coming', 'VERB'), ('six', 'NUM'), ('months', 'NOUN'), (',', '.'), ('compared', 'VERB'), ('with', 'ADP'), ('17.4', 'VERB'), ('%', 'NOUN'), ('in', 'ADP'), ('September', 'NOUN'), ('and', 'CONJ'), ('18.6', 'VERB'), ('%', 'NOUN'), ('in', 'ADP'), ('October', 'NOUN'), ('1988', 'NUM'), ('.', '.'), ('She', 'PRON'), ('believes', 'VERB'), ('that', 'ADP'), ('the', 'DET'), ('only', 'ADJ'), ('answer', 'NOUN'), ('for', 'ADP'), ('individuals', 'NOUN'), ('is', 'VERB'), ('*', 'X'), ('to', 'PRT'), ('``', '.'), ('buy', 'VERB'), ('stocks', 'NOUN'), ('that', 'ADP'), ('*T*-1', 'X'), (\"'ll\", 'VERB'), ('weather', 'NOUN'), ('any', 'DET'), ('storm', 'VERB'), ('.', '.'), (\"''\", '.')]\n"
     ]
    }
   ],
   "source": [
    "print(tagged_seq)\n",
    "#print(test_run_base)"
   ]
  },
  {
   "cell_type": "code",
   "execution_count": 25,
   "metadata": {},
   "outputs": [
    {
     "name": "stdout",
     "output_type": "stream",
     "text": [
      "0.8736842105263158\n"
     ]
    }
   ],
   "source": [
    "# accuracy\n",
    "def checkAccuracy(taggedWords, correctlyTaggedTestRun):\n",
    "    check = [i for i, j in zip(tagged_seq, correctlyTaggedTestRun) if i == j]\n",
    "    accuracy = len(check)/len(tagged_seq)\n",
    "    return accuracy\n",
    "\n",
    "plainViterbiAccuracy = checkAccuracy(tagged_seq, test_run_base)\n",
    "print(plainViterbiAccuracy)"
   ]
  },
  {
   "cell_type": "code",
   "execution_count": 26,
   "metadata": {},
   "outputs": [
    {
     "name": "stdout",
     "output_type": "stream",
     "text": [
      "[(('Separately', 'ADV'), ('Separately', 'ADV')), ((',', '.'), (',', '.')), (('Citadel', 'NOUN'), ('Citadel', 'NOUN')), (('posted', 'VERB'), ('posted', 'VERB')), (('a', 'DET'), ('a', 'DET')), (('third-quarter', 'NOUN'), ('third-quarter', 'NOUN')), (('net', 'NOUN'), ('net', 'ADJ')), (('loss', 'NOUN'), ('loss', 'NOUN')), (('of', 'ADP'), ('of', 'ADP')), (('$', '.'), ('$', '.')), (('2.3', 'NUM'), ('2.3', 'NUM')), (('million', 'NUM'), ('million', 'NUM')), (('*U*', 'X'), ('*U*', 'X')), ((',', '.'), (',', '.')), (('or', 'CONJ'), ('or', 'CONJ')), (('68', 'NUM'), ('68', 'NUM')), (('cents', 'NOUN'), ('cents', 'NOUN')), (('a', 'DET'), ('a', 'DET')), (('share', 'NOUN'), ('share', 'NOUN')), ((',', '.'), (',', '.')), (('versus', 'VERB'), ('versus', 'CONJ')), (('net', 'ADJ'), ('net', 'ADJ')), (('income', 'NOUN'), ('income', 'NOUN')), (('of', 'ADP'), ('of', 'ADP')), (('$', '.'), ('$', '.')), (('5.3', 'VERB'), ('5.3', 'NUM')), (('million', 'NUM'), ('million', 'NUM')), (('*U*', 'X'), ('*U*', 'X')), ((',', '.'), (',', '.')), (('or', 'CONJ'), ('or', 'CONJ')), (('$', '.'), ('$', '.')), (('1.61', 'VERB'), ('1.61', 'NUM')), (('*U*', 'X'), ('*U*', 'X')), (('a', 'DET'), ('a', 'DET')), (('share', 'NOUN'), ('share', 'NOUN')), ((',', '.'), (',', '.')), (('a', 'DET'), ('a', 'DET')), (('year', 'NOUN'), ('year', 'NOUN')), (('earlier', 'ADV'), ('earlier', 'ADJ')), (('.', '.'), ('.', '.')), (('In', 'ADP'), ('In', 'ADP')), (('October', 'NOUN'), ('October', 'NOUN')), (('1989', 'NUM'), ('1989', 'NUM')), ((',', '.'), (',', '.')), (('16.9', 'VERB'), ('16.9', 'NUM')), (('%', 'NOUN'), ('%', 'NOUN')), (('said', 'VERB'), ('said', 'VERB')), (('0', 'X'), ('0', 'X')), (('more', 'ADV'), ('more', 'ADJ')), (('jobs', 'NOUN'), ('jobs', 'NOUN')), (('will', 'VERB'), ('will', 'VERB')), (('be', 'VERB'), ('be', 'VERB')), (('created', 'VERB'), ('created', 'VERB')), (('*-1', 'X'), ('*-1', 'X')), (('in', 'ADP'), ('in', 'ADP')), (('the', 'DET'), ('the', 'DET')), (('coming', 'VERB'), ('coming', 'VERB')), (('six', 'NUM'), ('six', 'NUM')), (('months', 'NOUN'), ('months', 'NOUN')), ((',', '.'), (',', '.')), (('compared', 'VERB'), ('compared', 'VERB')), (('with', 'ADP'), ('with', 'ADP')), (('17.4', 'VERB'), ('17.4', 'NUM')), (('%', 'NOUN'), ('%', 'NOUN')), (('in', 'ADP'), ('in', 'ADP')), (('September', 'NOUN'), ('September', 'NOUN')), (('and', 'CONJ'), ('and', 'CONJ')), (('18.6', 'VERB'), ('18.6', 'NUM')), (('%', 'NOUN'), ('%', 'NOUN')), (('in', 'ADP'), ('in', 'ADP')), (('October', 'NOUN'), ('October', 'NOUN')), (('1988', 'NUM'), ('1988', 'NUM')), (('.', '.'), ('.', '.')), (('She', 'PRON'), ('She', 'PRON')), (('believes', 'VERB'), ('believes', 'VERB')), (('that', 'ADP'), ('that', 'ADP')), (('the', 'DET'), ('the', 'DET')), (('only', 'ADJ'), ('only', 'ADJ')), (('answer', 'NOUN'), ('answer', 'NOUN')), (('for', 'ADP'), ('for', 'ADP')), (('individuals', 'NOUN'), ('individuals', 'NOUN')), (('is', 'VERB'), ('is', 'VERB')), (('*', 'X'), ('*', 'X')), (('to', 'PRT'), ('to', 'PRT')), (('``', '.'), ('``', '.')), (('buy', 'VERB'), ('buy', 'VERB')), (('stocks', 'NOUN'), ('stocks', 'NOUN')), (('that', 'ADP'), ('that', 'DET')), (('*T*-1', 'X'), ('*T*-1', 'X')), ((\"'ll\", 'VERB'), (\"'ll\", 'VERB')), (('weather', 'NOUN'), ('weather', 'VERB')), (('any', 'DET'), ('any', 'DET')), (('storm', 'VERB'), ('storm', 'NOUN')), (('.', '.'), ('.', '.')), ((\"''\", '.'), (\"''\", '.'))]\n"
     ]
    }
   ],
   "source": [
    "k = zip(tagged_seq, test_run_base)\n",
    "print(list(k))\n"
   ]
  },
  {
   "cell_type": "code",
   "execution_count": 27,
   "metadata": {},
   "outputs": [
    {
     "data": {
      "text/plain": [
       "[[('third-quarter', 'NOUN'), (('net', 'NOUN'), ('net', 'ADJ'))],\n",
       " [(',', '.'), (('versus', 'VERB'), ('versus', 'CONJ'))],\n",
       " [('$', '.'), (('5.3', 'VERB'), ('5.3', 'NUM'))],\n",
       " [('$', '.'), (('1.61', 'VERB'), ('1.61', 'NUM'))],\n",
       " [('year', 'NOUN'), (('earlier', 'ADV'), ('earlier', 'ADJ'))],\n",
       " [(',', '.'), (('16.9', 'VERB'), ('16.9', 'NUM'))],\n",
       " [('0', 'X'), (('more', 'ADV'), ('more', 'ADJ'))],\n",
       " [('with', 'ADP'), (('17.4', 'VERB'), ('17.4', 'NUM'))],\n",
       " [('and', 'CONJ'), (('18.6', 'VERB'), ('18.6', 'NUM'))],\n",
       " [('stocks', 'NOUN'), (('that', 'ADP'), ('that', 'DET'))],\n",
       " [(\"'ll\", 'VERB'), (('weather', 'NOUN'), ('weather', 'VERB'))],\n",
       " [('any', 'DET'), (('storm', 'VERB'), ('storm', 'NOUN'))]]"
      ]
     },
     "execution_count": 27,
     "metadata": {},
     "output_type": "execute_result"
    }
   ],
   "source": [
    "def findIncorrectlyTaggedWords(taggedWords, correctlyTaggedTestData):\n",
    "    wrongTaggedWords = [[correctlyTaggedTestData[i-1],j] for i, j in enumerate(zip(taggedWords, correctlyTaggedTestData)) if j[0]!=j[1]]\n",
    "    return wrongTaggedWords\n",
    "    \n",
    "wordsWithWrongTagsWithPreviousTag = findIncorrectlyTaggedWords(tagged_seq, test_run_base)\n",
    "wordsWithWrongTagsWithPreviousTag"
   ]
  },
  {
   "cell_type": "markdown",
   "metadata": {},
   "source": [
    "### Move to test data"
   ]
  },
  {
   "cell_type": "code",
   "execution_count": 28,
   "metadata": {},
   "outputs": [
    {
     "data": {
      "text/plain": [
       "['Android is a mobile operating system developed by Google.',\n",
       " 'Android has been the best-selling OS worldwide on smartphones since 2011 and on tablets since 2013.',\n",
       " \"Google and Twitter made a deal in 2015 that gave Google access to Twitter's firehose.\",\n",
       " 'Twitter is an online news and social networking service on which users post and interact with messages known as tweets.',\n",
       " 'Before entering politics, Donald Trump was a domineering businessman and a television personality.',\n",
       " 'The 2018 FIFA World Cup is the 21st FIFA World Cup, an international football tournament contested once every four years.',\n",
       " 'This is the first World Cup to be held in Eastern Europe and the 11th time that it has been held in Europe.',\n",
       " 'Show me the cheapest round trips from Dallas to Atlanta',\n",
       " 'I would like to see flights from Denver to Philadelphia.',\n",
       " 'Show me the price of the flights leaving Atlanta at about 3 in the afternoon and arriving in San Francisco.',\n",
       " 'NASA invited social media users to experience the launch of ICESAT-2 Satellite.']"
      ]
     },
     "execution_count": 28,
     "metadata": {},
     "output_type": "execute_result"
    }
   ],
   "source": [
    "def getCleanedLinesFromTestData(file):\n",
    "    #Read the text file\n",
    "    lines = []\n",
    "    f = codecs.open(file, encoding='utf-8')\n",
    "    for line in f:\n",
    "        if line.rstrip()!='':\n",
    "            lines.append(line.rstrip())\n",
    "    return lines\n",
    "    \n",
    "test_lines = getCleanedLinesFromTestData(\"Test_sentences.txt\")\n",
    "test_lines"
   ]
  },
  {
   "cell_type": "code",
   "execution_count": 39,
   "metadata": {},
   "outputs": [
    {
     "name": "stdout",
     "output_type": "stream",
     "text": [
      "**** All words from test lines ****\n",
      " ['Android', 'is', 'a', 'mobile', 'operating', 'system', 'developed', 'by', 'Google', '.', 'Android', 'has', 'been', 'the', 'best-selling', 'OS', 'worldwide', 'on', 'smartphones', 'since', '2011', 'and', 'on', 'tablets', 'since', '2013', '.', 'Google', 'and', 'Twitter', 'made', 'a', 'deal', 'in', '2015', 'that', 'gave', 'Google', 'access', 'to', 'Twitter', \"'s\", 'firehose', '.', 'Twitter', 'is', 'an', 'online', 'news', 'and', 'social', 'networking', 'service', 'on', 'which', 'users', 'post', 'and', 'interact', 'with', 'messages', 'known', 'as', 'tweets', '.', 'Before', 'entering', 'politics', ',', 'Donald', 'Trump', 'was', 'a', 'domineering', 'businessman', 'and', 'a', 'television', 'personality', '.', 'The', '2018', 'FIFA', 'World', 'Cup', 'is', 'the', '21st', 'FIFA', 'World', 'Cup', ',', 'an', 'international', 'football', 'tournament', 'contested', 'once', 'every', 'four', 'years', '.', 'This', 'is', 'the', 'first', 'World', 'Cup', 'to', 'be', 'held', 'in', 'Eastern', 'Europe', 'and', 'the', '11th', 'time', 'that', 'it', 'has', 'been', 'held', 'in', 'Europe', '.', 'Show', 'me', 'the', 'cheapest', 'round', 'trips', 'from', 'Dallas', 'to', 'Atlanta', 'I', 'would', 'like', 'to', 'see', 'flights', 'from', 'Denver', 'to', 'Philadelphia', '.', 'Show', 'me', 'the', 'price', 'of', 'the', 'flights', 'leaving', 'Atlanta', 'at', 'about', '3', 'in', 'the', 'afternoon', 'and', 'arriving', 'in', 'San', 'Francisco', '.', 'NASA', 'invited', 'social', 'media', 'users', 'to', 'experience', 'the', 'launch', 'of', 'ICESAT-2', 'Satellite', '.']\n"
     ]
    }
   ],
   "source": [
    "def getWordsFromLines(lines):\n",
    "    words = []\n",
    "    for line in lines:\n",
    "        words.extend(word_tokenize(line))\n",
    "    return words\n",
    "\n",
    "words_from_test_lines = getWordsFromLines(test_lines)\n",
    "print(\"**** All words from test lines ****\\n\", words_from_test_lines)"
   ]
  },
  {
   "cell_type": "code",
   "execution_count": 40,
   "metadata": {},
   "outputs": [
    {
     "name": "stdout",
     "output_type": "stream",
     "text": [
      "**Words to be tagged**  ['Android', 'is', 'a', 'mobile', 'operating', 'system', 'developed', 'by', 'Google', '.', 'Android', 'has', 'been', 'the', 'best-selling', 'OS', 'worldwide', 'on', 'smartphones', 'since', '2011', 'and', 'on', 'tablets', 'since', '2013', '.', 'Google', 'and', 'Twitter', 'made', 'a', 'deal', 'in', '2015', 'that', 'gave', 'Google', 'access', 'to', 'Twitter', \"'s\", 'firehose', '.', 'Twitter', 'is', 'an', 'online', 'news', 'and', 'social', 'networking', 'service', 'on', 'which', 'users', 'post', 'and', 'interact', 'with', 'messages', 'known', 'as', 'tweets', '.', 'Before', 'entering', 'politics', ',', 'Donald', 'Trump', 'was', 'a', 'domineering', 'businessman', 'and', 'a', 'television', 'personality', '.', 'The', '2018', 'FIFA', 'World', 'Cup', 'is', 'the', '21st', 'FIFA', 'World', 'Cup', ',', 'an', 'international', 'football', 'tournament', 'contested', 'once', 'every', 'four', 'years', '.', 'This', 'is', 'the', 'first', 'World', 'Cup', 'to', 'be', 'held', 'in', 'Eastern', 'Europe', 'and', 'the', '11th', 'time', 'that', 'it', 'has', 'been', 'held', 'in', 'Europe', '.', 'Show', 'me', 'the', 'cheapest', 'round', 'trips', 'from', 'Dallas', 'to', 'Atlanta', 'I', 'would', 'like', 'to', 'see', 'flights', 'from', 'Denver', 'to', 'Philadelphia', '.', 'Show', 'me', 'the', 'price', 'of', 'the', 'flights', 'leaving', 'Atlanta', 'at', 'about', '3', 'in', 'the', 'afternoon', 'and', 'arriving', 'in', 'San', 'Francisco', '.', 'NASA', 'invited', 'social', 'media', 'users', 'to', 'experience', 'the', 'launch', 'of', 'ICESAT-2', 'Satellite', '.']\n",
      "** TAGS ** ['VERB', 'ADJ', 'CONJ', 'DET', 'ADV', 'X', 'NOUN', '.', 'NUM', 'PRON', 'ADP', 'PRT']\n",
      "***Time taken to tag****  67.16073393821716\n",
      "****Words and tags from plain Viterbi*****\n",
      " [('Android', 'VERB'), ('is', 'VERB'), ('a', 'DET'), ('mobile', 'ADJ'), ('operating', 'NOUN'), ('system', 'NOUN'), ('developed', 'VERB'), ('by', 'ADP'), ('Google', 'VERB'), ('.', '.'), ('Android', 'VERB'), ('has', 'VERB'), ('been', 'VERB'), ('the', 'DET'), ('best-selling', 'ADJ'), ('OS', 'VERB'), ('worldwide', 'VERB'), ('on', 'ADP'), ('smartphones', 'VERB'), ('since', 'ADP'), ('2011', 'VERB'), ('and', 'CONJ'), ('on', 'ADP'), ('tablets', 'NOUN'), ('since', 'ADP'), ('2013', 'VERB'), ('.', '.'), ('Google', 'VERB'), ('and', 'CONJ'), ('Twitter', 'VERB'), ('made', 'VERB'), ('a', 'DET'), ('deal', 'NOUN'), ('in', 'ADP'), ('2015', 'VERB'), ('that', 'ADP'), ('gave', 'VERB'), ('Google', 'VERB'), ('access', 'NOUN'), ('to', 'PRT'), ('Twitter', 'VERB'), (\"'s\", 'PRT'), ('firehose', 'VERB'), ('.', '.'), ('Twitter', 'VERB'), ('is', 'VERB'), ('an', 'DET'), ('online', 'VERB'), ('news', 'NOUN'), ('and', 'CONJ'), ('social', 'ADJ'), ('networking', 'NOUN'), ('service', 'NOUN'), ('on', 'ADP'), ('which', 'DET'), ('users', 'NOUN'), ('post', 'NOUN'), ('and', 'CONJ'), ('interact', 'VERB'), ('with', 'ADP'), ('messages', 'VERB'), ('known', 'VERB'), ('as', 'ADP'), ('tweets', 'VERB'), ('.', '.'), ('Before', 'ADP'), ('entering', 'VERB'), ('politics', 'NOUN'), (',', '.'), ('Donald', 'NOUN'), ('Trump', 'NOUN'), ('was', 'VERB'), ('a', 'DET'), ('domineering', 'VERB'), ('businessman', 'NOUN'), ('and', 'CONJ'), ('a', 'DET'), ('television', 'NOUN'), ('personality', 'VERB'), ('.', '.'), ('The', 'DET'), ('2018', 'VERB'), ('FIFA', 'VERB'), ('World', 'NOUN'), ('Cup', 'VERB'), ('is', 'VERB'), ('the', 'DET'), ('21st', 'VERB'), ('FIFA', 'VERB'), ('World', 'NOUN'), ('Cup', 'VERB'), (',', '.'), ('an', 'DET'), ('international', 'ADJ'), ('football', 'NOUN'), ('tournament', 'VERB'), ('contested', 'VERB'), ('once', 'ADV'), ('every', 'DET'), ('four', 'NUM'), ('years', 'NOUN'), ('.', '.'), ('This', 'DET'), ('is', 'VERB'), ('the', 'DET'), ('first', 'ADJ'), ('World', 'NOUN'), ('Cup', 'VERB'), ('to', 'PRT'), ('be', 'VERB'), ('held', 'VERB'), ('in', 'ADP'), ('Eastern', 'NOUN'), ('Europe', 'NOUN'), ('and', 'CONJ'), ('the', 'DET'), ('11th', 'ADJ'), ('time', 'NOUN'), ('that', 'ADP'), ('it', 'PRON'), ('has', 'VERB'), ('been', 'VERB'), ('held', 'VERB'), ('in', 'ADP'), ('Europe', 'NOUN'), ('.', '.'), ('Show', 'NOUN'), ('me', 'PRON'), ('the', 'DET'), ('cheapest', 'ADJ'), ('round', 'NOUN'), ('trips', 'VERB'), ('from', 'ADP'), ('Dallas', 'NOUN'), ('to', 'PRT'), ('Atlanta', 'NOUN'), ('I', 'PRON'), ('would', 'VERB'), ('like', 'ADP'), ('to', 'PRT'), ('see', 'VERB'), ('flights', 'NOUN'), ('from', 'ADP'), ('Denver', 'NOUN'), ('to', 'PRT'), ('Philadelphia', 'NOUN'), ('.', '.'), ('Show', 'NOUN'), ('me', 'PRON'), ('the', 'DET'), ('price', 'NOUN'), ('of', 'ADP'), ('the', 'DET'), ('flights', 'NOUN'), ('leaving', 'VERB'), ('Atlanta', 'NOUN'), ('at', 'ADP'), ('about', 'ADP'), ('3', 'NUM'), ('in', 'ADP'), ('the', 'DET'), ('afternoon', 'NOUN'), ('and', 'CONJ'), ('arriving', 'VERB'), ('in', 'ADP'), ('San', 'NOUN'), ('Francisco', 'NOUN'), ('.', '.'), ('NASA', 'VERB'), ('invited', 'VERB'), ('social', 'ADJ'), ('media', 'NOUN'), ('users', 'NOUN'), ('to', 'PRT'), ('experience', 'NOUN'), ('the', 'DET'), ('launch', 'NOUN'), ('of', 'ADP'), ('ICESAT-2', 'VERB'), ('Satellite', 'VERB'), ('.', '.')]\n"
     ]
    }
   ],
   "source": [
    "wordsAndTags_from_test_lines = tagSentencesViterbi(words_from_test_lines)\n",
    "print(\"****Words and tags from plain Viterbi*****\\n\", wordsAndTags_from_test_lines)"
   ]
  },
  {
   "cell_type": "code",
   "execution_count": 41,
   "metadata": {},
   "outputs": [
    {
     "data": {
      "text/plain": [
       "['Satellite',\n",
       " 'tournament',\n",
       " 'interact',\n",
       " 'Twitter',\n",
       " '21st',\n",
       " 'Android',\n",
       " 'invited',\n",
       " 'worldwide',\n",
       " 'personality',\n",
       " 'messages',\n",
       " '2018',\n",
       " 'arriving',\n",
       " 'domineering',\n",
       " 'Cup',\n",
       " 'OS',\n",
       " 'ICESAT-2',\n",
       " '2013',\n",
       " 'tweets',\n",
       " '2011',\n",
       " 'FIFA',\n",
       " 'trips',\n",
       " 'online',\n",
       " '2015',\n",
       " 'smartphones',\n",
       " 'firehose',\n",
       " 'Google',\n",
       " 'contested',\n",
       " 'NASA']"
      ]
     },
     "execution_count": 41,
     "metadata": {},
     "output_type": "execute_result"
    }
   ],
   "source": [
    "#Get the list of words which are present in test lines but not in the training corpus\n",
    "words_not_in_corpus = list(set(words_from_test_lines) - set(tokens_set))\n",
    "words_not_in_corpus"
   ]
  },
  {
   "cell_type": "code",
   "execution_count": 43,
   "metadata": {},
   "outputs": [],
   "source": [
    "def printTagsForAlienWords(alienWords, alienWordsWithTags):\n",
    "    wrongTaggedWords = []\n",
    "    wrongTaggedWords = [wordAndTag for wordAndTag in alienWordsWithTags if (wordAndTag[0] in set(alienWords))]\n",
    "    return wrongTaggedWords"
   ]
  },
  {
   "cell_type": "code",
   "execution_count": 44,
   "metadata": {},
   "outputs": [
    {
     "name": "stdout",
     "output_type": "stream",
     "text": [
      "****alienWords****  ['Satellite', 'tournament', 'interact', 'Twitter', '21st', 'Android', 'invited', 'worldwide', 'personality', 'messages', '2018', 'arriving', 'domineering', 'Cup', 'OS', 'ICESAT-2', '2013', 'tweets', '2011', 'FIFA', 'trips', 'online', '2015', 'smartphones', 'firehose', 'Google', 'contested', 'NASA']  ****\n",
      "\n",
      "****\n",
      "****alienWordsWithTags****  [('Android', 'VERB'), ('is', 'VERB'), ('a', 'DET'), ('mobile', 'ADJ'), ('operating', 'NOUN'), ('system', 'NOUN'), ('developed', 'VERB'), ('by', 'ADP'), ('Google', 'VERB'), ('.', '.'), ('Android', 'VERB'), ('has', 'VERB'), ('been', 'VERB'), ('the', 'DET'), ('best-selling', 'ADJ'), ('OS', 'VERB'), ('worldwide', 'VERB'), ('on', 'ADP'), ('smartphones', 'VERB'), ('since', 'ADP'), ('2011', 'VERB'), ('and', 'CONJ'), ('on', 'ADP'), ('tablets', 'NOUN'), ('since', 'ADP'), ('2013', 'VERB'), ('.', '.'), ('Google', 'VERB'), ('and', 'CONJ'), ('Twitter', 'VERB'), ('made', 'VERB'), ('a', 'DET'), ('deal', 'NOUN'), ('in', 'ADP'), ('2015', 'VERB'), ('that', 'ADP'), ('gave', 'VERB'), ('Google', 'VERB'), ('access', 'NOUN'), ('to', 'PRT'), ('Twitter', 'VERB'), (\"'s\", 'PRT'), ('firehose', 'VERB'), ('.', '.'), ('Twitter', 'VERB'), ('is', 'VERB'), ('an', 'DET'), ('online', 'VERB'), ('news', 'NOUN'), ('and', 'CONJ'), ('social', 'ADJ'), ('networking', 'NOUN'), ('service', 'NOUN'), ('on', 'ADP'), ('which', 'DET'), ('users', 'NOUN'), ('post', 'NOUN'), ('and', 'CONJ'), ('interact', 'VERB'), ('with', 'ADP'), ('messages', 'VERB'), ('known', 'VERB'), ('as', 'ADP'), ('tweets', 'VERB'), ('.', '.'), ('Before', 'ADP'), ('entering', 'VERB'), ('politics', 'NOUN'), (',', '.'), ('Donald', 'NOUN'), ('Trump', 'NOUN'), ('was', 'VERB'), ('a', 'DET'), ('domineering', 'VERB'), ('businessman', 'NOUN'), ('and', 'CONJ'), ('a', 'DET'), ('television', 'NOUN'), ('personality', 'VERB'), ('.', '.'), ('The', 'DET'), ('2018', 'VERB'), ('FIFA', 'VERB'), ('World', 'NOUN'), ('Cup', 'VERB'), ('is', 'VERB'), ('the', 'DET'), ('21st', 'VERB'), ('FIFA', 'VERB'), ('World', 'NOUN'), ('Cup', 'VERB'), (',', '.'), ('an', 'DET'), ('international', 'ADJ'), ('football', 'NOUN'), ('tournament', 'VERB'), ('contested', 'VERB'), ('once', 'ADV'), ('every', 'DET'), ('four', 'NUM'), ('years', 'NOUN'), ('.', '.'), ('This', 'DET'), ('is', 'VERB'), ('the', 'DET'), ('first', 'ADJ'), ('World', 'NOUN'), ('Cup', 'VERB'), ('to', 'PRT'), ('be', 'VERB'), ('held', 'VERB'), ('in', 'ADP'), ('Eastern', 'NOUN'), ('Europe', 'NOUN'), ('and', 'CONJ'), ('the', 'DET'), ('11th', 'ADJ'), ('time', 'NOUN'), ('that', 'ADP'), ('it', 'PRON'), ('has', 'VERB'), ('been', 'VERB'), ('held', 'VERB'), ('in', 'ADP'), ('Europe', 'NOUN'), ('.', '.'), ('Show', 'NOUN'), ('me', 'PRON'), ('the', 'DET'), ('cheapest', 'ADJ'), ('round', 'NOUN'), ('trips', 'VERB'), ('from', 'ADP'), ('Dallas', 'NOUN'), ('to', 'PRT'), ('Atlanta', 'NOUN'), ('I', 'PRON'), ('would', 'VERB'), ('like', 'ADP'), ('to', 'PRT'), ('see', 'VERB'), ('flights', 'NOUN'), ('from', 'ADP'), ('Denver', 'NOUN'), ('to', 'PRT'), ('Philadelphia', 'NOUN'), ('.', '.'), ('Show', 'NOUN'), ('me', 'PRON'), ('the', 'DET'), ('price', 'NOUN'), ('of', 'ADP'), ('the', 'DET'), ('flights', 'NOUN'), ('leaving', 'VERB'), ('Atlanta', 'NOUN'), ('at', 'ADP'), ('about', 'ADP'), ('3', 'NUM'), ('in', 'ADP'), ('the', 'DET'), ('afternoon', 'NOUN'), ('and', 'CONJ'), ('arriving', 'VERB'), ('in', 'ADP'), ('San', 'NOUN'), ('Francisco', 'NOUN'), ('.', '.'), ('NASA', 'VERB'), ('invited', 'VERB'), ('social', 'ADJ'), ('media', 'NOUN'), ('users', 'NOUN'), ('to', 'PRT'), ('experience', 'NOUN'), ('the', 'DET'), ('launch', 'NOUN'), ('of', 'ADP'), ('ICESAT-2', 'VERB'), ('Satellite', 'VERB'), ('.', '.')]  ****\n",
      "\n",
      "***Alien words and their tags***\n",
      " [('Android', 'VERB'), ('Google', 'VERB'), ('Android', 'VERB'), ('OS', 'VERB'), ('worldwide', 'VERB'), ('smartphones', 'VERB'), ('2011', 'VERB'), ('2013', 'VERB'), ('Google', 'VERB'), ('Twitter', 'VERB'), ('2015', 'VERB'), ('Google', 'VERB'), ('Twitter', 'VERB'), ('firehose', 'VERB'), ('Twitter', 'VERB'), ('online', 'VERB'), ('interact', 'VERB'), ('messages', 'VERB'), ('tweets', 'VERB'), ('domineering', 'VERB'), ('personality', 'VERB'), ('2018', 'VERB'), ('FIFA', 'VERB'), ('Cup', 'VERB'), ('21st', 'VERB'), ('FIFA', 'VERB'), ('Cup', 'VERB'), ('tournament', 'VERB'), ('contested', 'VERB'), ('Cup', 'VERB'), ('trips', 'VERB'), ('arriving', 'VERB'), ('NASA', 'VERB'), ('invited', 'VERB'), ('ICESAT-2', 'VERB'), ('Satellite', 'VERB')]\n"
     ]
    }
   ],
   "source": [
    "alienWordsAndTags = printTagsForAlienWords(words_not_in_corpus, wordsAndTags_from_test_lines)\n",
    "print(\"***Alien words and their tags***\\n\", alienWordsAndTags)"
   ]
  },
  {
   "cell_type": "markdown",
   "metadata": {},
   "source": [
    "#### Observe that all the alien words have been assigned a default tag of PRON.\n"
   ]
  },
  {
   "cell_type": "code",
   "execution_count": null,
   "metadata": {},
   "outputs": [],
   "source": []
  },
  {
   "cell_type": "code",
   "execution_count": null,
   "metadata": {},
   "outputs": [],
   "source": []
  },
  {
   "cell_type": "code",
   "execution_count": null,
   "metadata": {},
   "outputs": [],
   "source": []
  },
  {
   "cell_type": "code",
   "execution_count": null,
   "metadata": {},
   "outputs": [],
   "source": []
  },
  {
   "cell_type": "code",
   "execution_count": null,
   "metadata": {},
   "outputs": [],
   "source": []
  },
  {
   "cell_type": "code",
   "execution_count": null,
   "metadata": {},
   "outputs": [],
   "source": []
  },
  {
   "cell_type": "code",
   "execution_count": null,
   "metadata": {},
   "outputs": [],
   "source": []
  },
  {
   "cell_type": "code",
   "execution_count": 45,
   "metadata": {},
   "outputs": [],
   "source": [
    "# specify patterns for tagging\n",
    "patterns = [\n",
    "    #NUMBERS\n",
    "    (r'^-?[0-9]+(.[0-9]+)?$', 'NUM'),\n",
    "    \n",
    "    #DETERMINANTS\n",
    "    (r'(The|the|A|a|An|an)$', 'DET'),\n",
    "    \n",
    "    #NOUNS    \n",
    "    (r'.*', 'NOUN'),                  \n",
    "    (r'.*\\'s$', 'NOUN'),              \n",
    "    (r'.*s$', 'NOUN'),                \n",
    "    (r'.*ness$', 'NOUN'),       \n",
    "    \n",
    "    #ADJECTIVES\n",
    "    (r'.*able$', 'ADJ'),        \n",
    "    \n",
    "    #VERBS and variants\n",
    "    (r'.*ing$', 'VERB'),      \n",
    "    (r'.*ed$', 'VERB'),       \n",
    "    (r'.*es$', 'VERB'),        \n",
    "    (r'.*ould$', 'VERB'),      \n",
    "    \n",
    "    #ADVERB\n",
    "    (r'.*ly$', 'ADV')\n",
    "]"
   ]
  },
  {
   "cell_type": "markdown",
   "metadata": {},
   "source": [
    "### Solve the problem of unknown words"
   ]
  },
  {
   "cell_type": "code",
   "execution_count": null,
   "metadata": {},
   "outputs": [],
   "source": [
    "# Viterbi Heuristic\n",
    "def ViterbiV2(words, train_bag = train_wordAndTag_list):\n",
    "    print(\"**Words to be tagged** \", words)\n",
    "    state = []\n",
    "    T = list(set([pair[1] for pair in train_bag]))\n",
    "    print(\"** TAGS **\", T)\n",
    "    \n",
    "    for key, word in enumerate(words):\n",
    "        #initialise list of probability column for a given observation\n",
    "        p = [] \n",
    "        for tag in T:\n",
    "            if key == 0:\n",
    "                transition_p = tags_df.loc['.', tag]\n",
    "            else:\n",
    "                #print(\"**state[-1]** \", state[-1])\n",
    "                transition_p = tags_df.loc[state[-1], tag]\n",
    "                \n",
    "            # compute emission and state probabilities\n",
    "            emissionNAndD = word_given_tag(words[key], tag)\n",
    "            emission_p = emissionNAndD[0]/emissionNAndD[1]\n",
    "            \n",
    "            state_probability = emission_p * transition_p    \n",
    "            p.append(state_probability)\n",
    "            \n",
    "        pmax = max(p)\n",
    "        # getting state for which probability is maximum\n",
    "        state_max = T[p.index(pmax)] \n",
    "        state.append(state_max)\n",
    "    return list(zip(words, state))\n",
    "\n",
    "# tagging the test sentences\n",
    "def tagSentencesViterbiV2(words2BeTagged):\n",
    "    start = time.time()\n",
    "    tagged_seq = ViterbiWithLaplaceSmoothening(words2BeTagged)\n",
    "    end = time.time()\n",
    "    difference = end-start\n",
    "    print(\"***Time taken to tag**** \", difference)\n",
    "    return tagged_seq\n",
    "\n",
    "testDataWordsAndTagsV2 = tagSentencesViterbiV2(test_tagged_words)"
   ]
  },
  {
   "cell_type": "code",
   "execution_count": null,
   "metadata": {},
   "outputs": [],
   "source": [
    "print(testDataWordsAndTagsV2)"
   ]
  },
  {
   "cell_type": "code",
   "execution_count": null,
   "metadata": {},
   "outputs": [],
   "source": []
  },
  {
   "cell_type": "code",
   "execution_count": null,
   "metadata": {},
   "outputs": [],
   "source": []
  },
  {
   "cell_type": "markdown",
   "metadata": {},
   "source": []
  },
  {
   "cell_type": "code",
   "execution_count": null,
   "metadata": {},
   "outputs": [],
   "source": []
  },
  {
   "cell_type": "code",
   "execution_count": null,
   "metadata": {},
   "outputs": [],
   "source": []
  },
  {
   "cell_type": "markdown",
   "metadata": {},
   "source": [
    "#### Evaluating tagging accuracy"
   ]
  },
  {
   "cell_type": "code",
   "execution_count": null,
   "metadata": {},
   "outputs": [],
   "source": []
  },
  {
   "cell_type": "code",
   "execution_count": null,
   "metadata": {},
   "outputs": [],
   "source": []
  },
  {
   "cell_type": "markdown",
   "metadata": {},
   "source": [
    "### Compare the tagging accuracies of the modifications with the vanilla Viterbi algorithm"
   ]
  },
  {
   "cell_type": "code",
   "execution_count": null,
   "metadata": {},
   "outputs": [],
   "source": []
  },
  {
   "cell_type": "code",
   "execution_count": null,
   "metadata": {},
   "outputs": [],
   "source": []
  },
  {
   "cell_type": "code",
   "execution_count": null,
   "metadata": {},
   "outputs": [],
   "source": []
  },
  {
   "cell_type": "markdown",
   "metadata": {},
   "source": [
    "### List down cases which were incorrectly tagged by original POS tagger and got corrected by your modifications"
   ]
  },
  {
   "cell_type": "code",
   "execution_count": null,
   "metadata": {},
   "outputs": [],
   "source": []
  },
  {
   "cell_type": "code",
   "execution_count": null,
   "metadata": {},
   "outputs": [],
   "source": []
  },
  {
   "cell_type": "markdown",
   "metadata": {},
   "source": [
    "#### END OF SOLUTION"
   ]
  },
  {
   "cell_type": "code",
   "execution_count": null,
   "metadata": {},
   "outputs": [],
   "source": []
  }
 ],
 "metadata": {
  "kernelspec": {
   "display_name": "Python 3",
   "language": "python",
   "name": "python3"
  },
  "language_info": {
   "codemirror_mode": {
    "name": "ipython",
    "version": 3
   },
   "file_extension": ".py",
   "mimetype": "text/x-python",
   "name": "python",
   "nbconvert_exporter": "python",
   "pygments_lexer": "ipython3",
   "version": "3.8.3"
  }
 },
 "nbformat": 4,
 "nbformat_minor": 2
}
