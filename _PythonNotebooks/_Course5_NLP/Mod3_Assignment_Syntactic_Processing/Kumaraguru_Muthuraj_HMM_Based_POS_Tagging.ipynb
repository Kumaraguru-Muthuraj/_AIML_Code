{
 "cells": [
  {
   "cell_type": "markdown",
   "metadata": {},
   "source": [
    "## HMM Based POS Tagging Assignment\n",
    "### Author - Kumaraguru Muthuraj\n",
    "\n",
    "### Solution description\n",
    "\n",
    "### I have adopted the POS Tagging HMM.ipynb from the NLP Course, Module 2 Syntactic Processing for Viterbi and all foundational code. I have experimented 3 simple modifications on the Viterbi algorithm for handling unknown words."
   ]
  },
  {
   "cell_type": "markdown",
   "metadata": {},
   "source": [
    "### 1. Exploring the treebank dataset -  data preparation"
   ]
  },
  {
   "cell_type": "code",
   "execution_count": 1,
   "metadata": {},
   "outputs": [],
   "source": [
    "#Importing libraries\n",
    "import nltk\n",
    "import re, pprint\n",
    "import numpy as np\n",
    "import pandas as pd\n",
    "import matplotlib.pyplot as plt\n",
    "import seaborn as sns\n",
    "import pprint, time\n",
    "import random\n",
    "from sklearn.model_selection import train_test_split\n",
    "from nltk.tokenize import word_tokenize\n",
    "import codecs"
   ]
  },
  {
   "cell_type": "markdown",
   "metadata": {},
   "source": [
    "#### We are instructed to use the Universal - coase tags numbering 12 instead of the extensive 40+ tags in nltk library"
   ]
  },
  {
   "cell_type": "code",
   "execution_count": 2,
   "metadata": {},
   "outputs": [
    {
     "name": "stderr",
     "output_type": "stream",
     "text": [
      "[nltk_data] Downloading package treebank to\n",
      "[nltk_data]     C:\\Users\\kumaraguru\\AppData\\Roaming\\nltk_data...\n",
      "[nltk_data]   Package treebank is already up-to-date!\n",
      "[nltk_data] Downloading package universal_tagset to\n",
      "[nltk_data]     C:\\Users\\kumaraguru\\AppData\\Roaming\\nltk_data...\n",
      "[nltk_data]   Package universal_tagset is already up-to-date!\n"
     ]
    },
    {
     "data": {
      "text/plain": [
       "True"
      ]
     },
     "execution_count": 2,
     "metadata": {},
     "output_type": "execute_result"
    }
   ],
   "source": [
    "nltk.download('treebank')\n",
    "nltk.download('universal_tagset')"
   ]
  },
  {
   "cell_type": "code",
   "execution_count": 3,
   "metadata": {},
   "outputs": [],
   "source": [
    "# Load the UNIVERSAL tagset from Treebank\n",
    "nltk_data = list(nltk.corpus.treebank.tagged_sents(tagset='universal'))"
   ]
  },
  {
   "cell_type": "code",
   "execution_count": 4,
   "metadata": {},
   "outputs": [
    {
     "name": "stdout",
     "output_type": "stream",
     "text": [
      "***Length of the data set ****  3914\n",
      "\n",
      "\n",
      "***First few lines*****\n"
     ]
    },
    {
     "data": {
      "text/plain": [
       "[[('Pierre', 'NOUN'),\n",
       "  ('Vinken', 'NOUN'),\n",
       "  (',', '.'),\n",
       "  ('61', 'NUM'),\n",
       "  ('years', 'NOUN'),\n",
       "  ('old', 'ADJ'),\n",
       "  (',', '.'),\n",
       "  ('will', 'VERB'),\n",
       "  ('join', 'VERB'),\n",
       "  ('the', 'DET'),\n",
       "  ('board', 'NOUN'),\n",
       "  ('as', 'ADP'),\n",
       "  ('a', 'DET'),\n",
       "  ('nonexecutive', 'ADJ'),\n",
       "  ('director', 'NOUN'),\n",
       "  ('Nov.', 'NOUN'),\n",
       "  ('29', 'NUM'),\n",
       "  ('.', '.')],\n",
       " [('Mr.', 'NOUN'),\n",
       "  ('Vinken', 'NOUN'),\n",
       "  ('is', 'VERB'),\n",
       "  ('chairman', 'NOUN'),\n",
       "  ('of', 'ADP'),\n",
       "  ('Elsevier', 'NOUN'),\n",
       "  ('N.V.', 'NOUN'),\n",
       "  (',', '.'),\n",
       "  ('the', 'DET'),\n",
       "  ('Dutch', 'NOUN'),\n",
       "  ('publishing', 'VERB'),\n",
       "  ('group', 'NOUN'),\n",
       "  ('.', '.')],\n",
       " [('Rudolph', 'NOUN'),\n",
       "  ('Agnew', 'NOUN'),\n",
       "  (',', '.'),\n",
       "  ('55', 'NUM'),\n",
       "  ('years', 'NOUN'),\n",
       "  ('old', 'ADJ'),\n",
       "  ('and', 'CONJ'),\n",
       "  ('former', 'ADJ'),\n",
       "  ('chairman', 'NOUN'),\n",
       "  ('of', 'ADP'),\n",
       "  ('Consolidated', 'NOUN'),\n",
       "  ('Gold', 'NOUN'),\n",
       "  ('Fields', 'NOUN'),\n",
       "  ('PLC', 'NOUN'),\n",
       "  (',', '.'),\n",
       "  ('was', 'VERB'),\n",
       "  ('named', 'VERB'),\n",
       "  ('*-1', 'X'),\n",
       "  ('a', 'DET'),\n",
       "  ('nonexecutive', 'ADJ'),\n",
       "  ('director', 'NOUN'),\n",
       "  ('of', 'ADP'),\n",
       "  ('this', 'DET'),\n",
       "  ('British', 'ADJ'),\n",
       "  ('industrial', 'ADJ'),\n",
       "  ('conglomerate', 'NOUN'),\n",
       "  ('.', '.')],\n",
       " [('A', 'DET'),\n",
       "  ('form', 'NOUN'),\n",
       "  ('of', 'ADP'),\n",
       "  ('asbestos', 'NOUN'),\n",
       "  ('once', 'ADV'),\n",
       "  ('used', 'VERB'),\n",
       "  ('*', 'X'),\n",
       "  ('*', 'X'),\n",
       "  ('to', 'PRT'),\n",
       "  ('make', 'VERB'),\n",
       "  ('Kent', 'NOUN'),\n",
       "  ('cigarette', 'NOUN'),\n",
       "  ('filters', 'NOUN'),\n",
       "  ('has', 'VERB'),\n",
       "  ('caused', 'VERB'),\n",
       "  ('a', 'DET'),\n",
       "  ('high', 'ADJ'),\n",
       "  ('percentage', 'NOUN'),\n",
       "  ('of', 'ADP'),\n",
       "  ('cancer', 'NOUN'),\n",
       "  ('deaths', 'NOUN'),\n",
       "  ('among', 'ADP'),\n",
       "  ('a', 'DET'),\n",
       "  ('group', 'NOUN'),\n",
       "  ('of', 'ADP'),\n",
       "  ('workers', 'NOUN'),\n",
       "  ('exposed', 'VERB'),\n",
       "  ('*', 'X'),\n",
       "  ('to', 'PRT'),\n",
       "  ('it', 'PRON'),\n",
       "  ('more', 'ADV'),\n",
       "  ('than', 'ADP'),\n",
       "  ('30', 'NUM'),\n",
       "  ('years', 'NOUN'),\n",
       "  ('ago', 'ADP'),\n",
       "  (',', '.'),\n",
       "  ('researchers', 'NOUN'),\n",
       "  ('reported', 'VERB'),\n",
       "  ('0', 'X'),\n",
       "  ('*T*-1', 'X'),\n",
       "  ('.', '.')],\n",
       " [('The', 'DET'),\n",
       "  ('asbestos', 'NOUN'),\n",
       "  ('fiber', 'NOUN'),\n",
       "  (',', '.'),\n",
       "  ('crocidolite', 'NOUN'),\n",
       "  (',', '.'),\n",
       "  ('is', 'VERB'),\n",
       "  ('unusually', 'ADV'),\n",
       "  ('resilient', 'ADJ'),\n",
       "  ('once', 'ADP'),\n",
       "  ('it', 'PRON'),\n",
       "  ('enters', 'VERB'),\n",
       "  ('the', 'DET'),\n",
       "  ('lungs', 'NOUN'),\n",
       "  (',', '.'),\n",
       "  ('with', 'ADP'),\n",
       "  ('even', 'ADV'),\n",
       "  ('brief', 'ADJ'),\n",
       "  ('exposures', 'NOUN'),\n",
       "  ('to', 'PRT'),\n",
       "  ('it', 'PRON'),\n",
       "  ('causing', 'VERB'),\n",
       "  ('symptoms', 'NOUN'),\n",
       "  ('that', 'DET'),\n",
       "  ('*T*-1', 'X'),\n",
       "  ('show', 'VERB'),\n",
       "  ('up', 'PRT'),\n",
       "  ('decades', 'NOUN'),\n",
       "  ('later', 'ADJ'),\n",
       "  (',', '.'),\n",
       "  ('researchers', 'NOUN'),\n",
       "  ('said', 'VERB'),\n",
       "  ('0', 'X'),\n",
       "  ('*T*-2', 'X'),\n",
       "  ('.', '.')]]"
      ]
     },
     "execution_count": 4,
     "metadata": {},
     "output_type": "execute_result"
    }
   ],
   "source": [
    "# PRINT first few tagged sentences\n",
    "print(\"***Length of the data set **** \", len(nltk_data))\n",
    "# samples: Each sentence is a list of (word, pos) tuples\n",
    "print(\"\\n\\n***First few lines*****\")\n",
    "nltk_data[:5]"
   ]
  },
  {
   "cell_type": "markdown",
   "metadata": {},
   "source": [
    "#### 5% of data, for test according to https://learn.upgrad.com/v/course/1120/session/169917/segment/904732"
   ]
  },
  {
   "cell_type": "code",
   "execution_count": 5,
   "metadata": {},
   "outputs": [
    {
     "name": "stdout",
     "output_type": "stream",
     "text": [
      "***Length of the training data set ****  3718\n",
      "***Length of the test data set ****  196\n",
      "\n",
      "\n",
      "*****Print a few lines*****\n",
      " [[('A', 'DET'), ('large', 'ADJ'), ('investor', 'NOUN'), ('will', 'VERB'), ('likely', 'ADV'), ('cause', 'VERB'), ('the', 'DET'), ('futures', 'NOUN'), ('market', 'NOUN'), ('to', 'PRT'), ('decline', 'VERB'), ('when', 'ADV'), ('he', 'PRON'), ('sells', 'VERB'), ('his', 'PRON'), ('futures', 'NOUN'), ('*T*-1', 'X'), ('.', '.')], [('``', '.'), ('The', 'DET'), ('psychology', 'NOUN'), ('is', 'VERB'), ('still', 'ADV'), (':', '.'), ('`', '.'), ('We', 'PRON'), ('want', 'VERB'), ('-LRB-', '.'), ('stocks', 'NOUN'), ('-RRB-', '.'), ('up', 'ADV'), (',', '.'), ('but', 'CONJ'), ('if', 'ADP'), ('they', 'PRON'), ('do', 'VERB'), (\"n't\", 'ADV'), ('carry', 'VERB'), ('we', 'PRON'), (\"'re\", 'VERB'), ('going', 'VERB'), ('*-1', 'X'), ('to', 'PRT'), ('sell', 'VERB'), ('them', 'PRON'), ('.', '.'), (\"'\", '.'), (\"''\", '.')], [('Lawyers', 'NOUN'), ('worry', 'VERB'), ('that', 'ADP'), ('if', 'ADP'), ('they', 'PRON'), ('provide', 'VERB'), ('information', 'NOUN'), ('about', 'ADP'), ('clients', 'NOUN'), (',', '.'), ('that', 'DET'), ('data', 'NOUN'), ('could', 'VERB'), ('quickly', 'ADV'), ('end', 'VERB'), ('up', 'PRT'), ('in', 'ADP'), ('the', 'DET'), ('hands', 'NOUN'), ('of', 'ADP'), ('prosecutors', 'NOUN'), ('.', '.')], [('Hudson', 'NOUN'), ('General', 'NOUN'), (',', '.'), ('which', 'DET'), ('*T*-195', 'X'), ('provides', 'VERB'), ('maintenance', 'NOUN'), (',', '.'), ('fueling', 'NOUN'), ('and', 'CONJ'), ('other', 'ADJ'), ('services', 'NOUN'), ('to', 'PRT'), ('airlines', 'NOUN'), ('and', 'CONJ'), ('airports', 'NOUN'), (',', '.'), ('reported', 'VERB'), ('a', 'DET'), ('loss', 'NOUN'), ('for', 'ADP'), ('its', 'PRON'), ('most', 'ADV'), ('recent', 'ADJ'), ('fiscal', 'NOUN'), ('year', 'NOUN'), ('and', 'CONJ'), ('last', 'ADJ'), ('month', 'NOUN'), ('omitted', 'VERB'), ('the', 'DET'), ('semiannual', 'ADJ'), ('dividend', 'NOUN'), ('on', 'ADP'), ('its', 'PRON'), ('common', 'ADJ'), ('shares', 'NOUN'), ('.', '.')], [('Relations', 'NOUN'), ('between', 'ADP'), ('China', 'NOUN'), ('and', 'CONJ'), ('the', 'DET'), ('U.S.', 'NOUN'), ('have', 'VERB'), ('been', 'VERB'), ('tense', 'ADJ'), ('since', 'ADP'), ('June', 'NOUN'), ('7', 'NUM'), (',', '.'), ('when', 'ADV'), ('Chinese', 'ADJ'), ('dissident', 'NOUN'), ('Fang', 'NOUN'), ('Lizhi', 'NOUN'), ('and', 'CONJ'), ('his', 'PRON'), ('wife', 'NOUN'), (',', '.'), ('Li', 'NOUN'), ('Shuxian', 'NOUN'), (',', '.'), ('took', 'VERB'), ('refuge', 'NOUN'), ('in', 'ADP'), ('the', 'DET'), ('U.S.', 'NOUN'), ('Embassy', 'NOUN'), ('in', 'ADP'), ('Beijing', 'NOUN'), ('*T*-1', 'X'), ('.', '.')]]\n"
     ]
    }
   ],
   "source": [
    "TEST_DATA_PERCENT = 0.05 \n",
    "\n",
    "# Splitting into train and test\n",
    "train_set, test_set = train_test_split(nltk_data, test_size = TEST_DATA_PERCENT)\n",
    "\n",
    "print(\"***Length of the training data set **** \", len(train_set))\n",
    "print(\"***Length of the test data set **** \", len(test_set))\n",
    "\n",
    "print(\"\\n\\n*****Print a few lines*****\\n\", train_set[:5])"
   ]
  },
  {
   "cell_type": "code",
   "execution_count": 6,
   "metadata": {},
   "outputs": [
    {
     "data": {
      "text/plain": [
       "95673"
      ]
     },
     "execution_count": 6,
     "metadata": {},
     "output_type": "execute_result"
    }
   ],
   "source": [
    "# Getting training list of tagged words\n",
    "train_wordAndTag_list = [wordAndTag for sentence in train_set for wordAndTag in sentence]\n",
    "len(train_wordAndTag_list)"
   ]
  },
  {
   "cell_type": "code",
   "execution_count": 7,
   "metadata": {},
   "outputs": [
    {
     "data": {
      "text/plain": [
       "[('A', 'DET'),\n",
       " ('large', 'ADJ'),\n",
       " ('investor', 'NOUN'),\n",
       " ('will', 'VERB'),\n",
       " ('likely', 'ADV')]"
      ]
     },
     "execution_count": 7,
     "metadata": {},
     "output_type": "execute_result"
    }
   ],
   "source": [
    "train_wordAndTag_list[:5]"
   ]
  },
  {
   "cell_type": "code",
   "execution_count": 8,
   "metadata": {},
   "outputs": [
    {
     "name": "stdout",
     "output_type": "stream",
     "text": [
      "12088\n"
     ]
    }
   ],
   "source": [
    "#Get the set of words from the train_wordAndTag_list.\n",
    "tokens_set = set([wordAndTag[0] for wordAndTag in train_wordAndTag_list])\n",
    "print(len(tokens_set))\n",
    "#print(tokens_set)"
   ]
  },
  {
   "cell_type": "markdown",
   "metadata": {},
   "source": [
    "#### How do we know if Universal tagset is used? Get the set of tags from the train_wordAndTag_list. It should be 12, as mentioned in the problem statement. NOTE that this will be used shortly for the HMM algorithm."
   ]
  },
  {
   "cell_type": "code",
   "execution_count": 9,
   "metadata": {},
   "outputs": [
    {
     "name": "stdout",
     "output_type": "stream",
     "text": [
      "12\n",
      "{'VERB', 'PRT', 'ADP', 'DET', 'ADJ', '.', 'X', 'CONJ', 'PRON', 'NUM', 'ADV', 'NOUN'}\n"
     ]
    }
   ],
   "source": [
    "train_listOf_Tags = [wordAndTag[1] for wordAndTag in train_wordAndTag_list]\n",
    "universal_tagset = set(train_listOf_Tags)\n",
    "print(len(universal_tagset))\n",
    "print(universal_tagset)"
   ]
  },
  {
   "cell_type": "markdown",
   "metadata": {},
   "source": [
    "#### This tells that abour 28% of words are NOUNS followed by 13% VERBS. We will use this probablistic finding to assign NOUN as the tag for unknown words in the 3rd modified version of the Viterbi Algorithm."
   ]
  },
  {
   "cell_type": "code",
   "execution_count": 10,
   "metadata": {},
   "outputs": [
    {
     "name": "stdout",
     "output_type": "stream",
     "text": [
      "95673\n"
     ]
    },
    {
     "data": {
      "text/plain": [
       "Counter({'DET': 8262,\n",
       "         'ADJ': 6121,\n",
       "         'NOUN': 27449,\n",
       "         'VERB': 12870,\n",
       "         'ADV': 3026,\n",
       "         'PRT': 3042,\n",
       "         'PRON': 2595,\n",
       "         'X': 6256,\n",
       "         '.': 11147,\n",
       "         'CONJ': 2159,\n",
       "         'ADP': 9380,\n",
       "         'NUM': 3366})"
      ]
     },
     "execution_count": 10,
     "metadata": {},
     "output_type": "execute_result"
    }
   ],
   "source": [
    "print(len(train_listOf_Tags))\n",
    "\n",
    "from collections import Counter\n",
    "tag_counts = Counter(train_listOf_Tags)\n",
    "tag_counts"
   ]
  },
  {
   "cell_type": "markdown",
   "metadata": {},
   "source": [
    "### 2. POS Tagging Algorithm - HMM - Build the vanilla Viterbi based POS tagger\n",
    "#### Note: extracted from Upgrad Course - NLP - Module 2 - Exercise\n",
    "We'll use the HMM algorithm to tag the words. Given a sequence of words to be tagged, the task is to assign the most probable tag to the word.\n",
    "\n",
    "In other words, to every word W, assign the tag T that maximises the likelihood P(T|W). Since P(T|W) = P(W|T).P(T) / P(W), after ignoring P(W), we have to compute P(W|T) and P(T).\n",
    "\n",
    "P(W|T) is basically the probability that given a tag (say NN), what is the probability of it being W (say 'building'). This can be computed by computing the fraction of all NNs which are equal to W, i.e.\n",
    "\n",
    "P(W|T) = count(W, T) / count(T).\n",
    "\n",
    "The term P(T) is the probability of tag T, and in a tagging task, we assume that a tag will depend only on the previous tag. In other words, the probability of a tag being NN will depend only on the previous tag T(n-1). So for e.g. if T(n-1) is a JJ, then T(n) is likely to be an NN since adjectives often precede a noun (blue coat, tall building etc.).\n",
    "\n",
    "Given the penn treebank tagged dataset, we can compute the two terms P(W|T) and P(T) and store them in two large matrices. The matrix of P(W|T) will be sparse, since each word will not be seen with most tags ever, and those terms will thus be zero."
   ]
  },
  {
   "cell_type": "markdown",
   "metadata": {},
   "source": [
    "### Emission Probabilities"
   ]
  },
  {
   "cell_type": "code",
   "execution_count": 11,
   "metadata": {},
   "outputs": [],
   "source": [
    "# Computing P(W|T) and storing in tags x words matrix\n",
    "tags = len(universal_tagset)\n",
    "words = len(tokens_set)\n",
    "prob_W_given_T = np.zeros((tags, words))"
   ]
  },
  {
   "cell_type": "markdown",
   "metadata": {},
   "source": [
    "#### Emission Probability is calculated by function word_given_tag"
   ]
  },
  {
   "cell_type": "code",
   "execution_count": 12,
   "metadata": {},
   "outputs": [],
   "source": [
    "# Compute Emission Probability: word given tag \n",
    "def word_given_tag(word, tag, train_bag = train_wordAndTag_list):\n",
    "    tag_list = [pair for pair in train_bag if pair[1] == tag]\n",
    "    count_tag = len(tag_list)\n",
    "    w_given_tag_list = [pair[0] for pair in tag_list if pair[0] == word]\n",
    "    count_w_given_tag = len(w_given_tag_list)\n",
    "    \n",
    "    return (count_w_given_tag, count_tag)"
   ]
  },
  {
   "cell_type": "code",
   "execution_count": 13,
   "metadata": {},
   "outputs": [
    {
     "name": "stdout",
     "output_type": "stream",
     "text": [
      "\n",
      " large\n",
      "(28, 6121)\n",
      "(0, 12870)\n",
      "(0, 8262) \n",
      "\n",
      "\n",
      " will\n",
      "(0, 3026)\n",
      "(1, 27449)\n",
      "(264, 12870)\n",
      "\n",
      " book\n",
      "(7, 27449)\n",
      "(1, 12870)\n"
     ]
    }
   ],
   "source": [
    "# Try out some examples \n",
    "#'ADV', 'NUM', 'VERB', 'NOUN', 'DET', 'PRT', 'ADP', 'PRON', '.', 'CONJ', 'ADJ', 'X'\n",
    "\n",
    "# large\n",
    "print(\"\\n\", \"large\")\n",
    "print(word_given_tag('large', 'ADJ'))\n",
    "print(word_given_tag('large', 'VERB'))\n",
    "print(word_given_tag('large', 'DET'), \"\\n\")\n",
    "\n",
    "# will\n",
    "print(\"\\n\", \"will\")\n",
    "print(word_given_tag('will', 'ADV'))\n",
    "print(word_given_tag('will', 'NOUN'))\n",
    "print(word_given_tag('will', 'VERB'))\n",
    "\n",
    "# book\n",
    "print(\"\\n\", \"book\")\n",
    "print(word_given_tag('book', 'NOUN'))\n",
    "print(word_given_tag('book', 'VERB'))"
   ]
  },
  {
   "cell_type": "code",
   "execution_count": 14,
   "metadata": {},
   "outputs": [
    {
     "data": {
      "text/plain": [
       "list"
      ]
     },
     "execution_count": 14,
     "metadata": {},
     "output_type": "execute_result"
    }
   ],
   "source": [
    "type(train_wordAndTag_list)"
   ]
  },
  {
   "cell_type": "markdown",
   "metadata": {},
   "source": [
    "### Transition Probabilities"
   ]
  },
  {
   "cell_type": "code",
   "execution_count": 15,
   "metadata": {},
   "outputs": [],
   "source": [
    "# compute tag2 happening given tag1: tag2(t2) given tag1(t1), i.e. Transition Probability\n",
    "\n",
    "def t2_given_t1(t2, t1, train_bag = train_wordAndTag_list):\n",
    "    tags = [pair[1] for pair in train_bag]\n",
    "    count_t1 = len([t for t in tags if t == t1])\n",
    "    count_t2_t1 = 0\n",
    "    for index in range(len(tags)-1):\n",
    "        if tags[index]==t1 and tags[index+1] == t2:\n",
    "            count_t2_t1 += 1\n",
    "    return (count_t2_t1, count_t1)"
   ]
  },
  {
   "cell_type": "code",
   "execution_count": 16,
   "metadata": {},
   "outputs": [
    {
     "name": "stdout",
     "output_type": "stream",
     "text": [
      "(4024, 27449)\n",
      "(5266, 8262)\n",
      "(105, 8262)\n",
      "(0, 12870)\n",
      "(0, 6256)\n",
      "(92, 3366)\n",
      "(255, 2159)\n"
     ]
    }
   ],
   "source": [
    "# Try out some examples\n",
    "#'ADV', 'NUM', 'VERB', 'NOUN', 'DET', 'PRT', 'ADP', 'PRON', '.', 'CONJ', 'ADJ', 'X'\n",
    "\n",
    "print(t2_given_t1(t2='VERB', t1='NOUN'))\n",
    "print(t2_given_t1('NOUN', 'DET'))\n",
    "print(t2_given_t1('ADV', 'DET'))\n",
    "print(t2_given_t1('NNP', 'VERB'))\n",
    "print(t2_given_t1(',', 'X'))\n",
    "print(t2_given_t1('PRT', 'NUM'))\n",
    "print(t2_given_t1('DET', 'CONJ'))"
   ]
  },
  {
   "cell_type": "code",
   "execution_count": 17,
   "metadata": {},
   "outputs": [
    {
     "name": "stdout",
     "output_type": "stream",
     "text": [
      "(1921, 11147)\n",
      "(997, 11147)\n",
      "(2486, 11147)\n",
      "(733, 11147)\n"
     ]
    }
   ],
   "source": [
    "# Please note P(tag|start) is same as P(tag|'.')\n",
    "print(t2_given_t1('DET', '.'))\n",
    "print(t2_given_t1('VERB', '.'))\n",
    "print(t2_given_t1('NOUN', '.'))\n",
    "print(t2_given_t1('PRON', '.'))\n"
   ]
  },
  {
   "cell_type": "code",
   "execution_count": 18,
   "metadata": {},
   "outputs": [],
   "source": [
    "# creating t x t transition matrix of tags\n",
    "# each column is t2, each row is t1\n",
    "# thus M(i, j) represents P(tj given ti)\n",
    "#len of T is 12\n",
    "\n",
    "def buildTransitionProbabilitiesMatrix(tagset, taggedTrainData):\n",
    "    tProbMatrix = np.zeros((len(tagset), len(tagset)), dtype='float32')\n",
    "    for i, t1 in enumerate(list(tagset)):\n",
    "        for j, t2 in enumerate(list(tagset)): \n",
    "            tpTuple = t2_given_t1(t2, t1, taggedTrainData)\n",
    "            tProbMatrix[i, j] = tpTuple[0]/tpTuple[1]\n",
    "    return tProbMatrix\n",
    "\n",
    "tags_matrix = buildTransitionProbabilitiesMatrix(universal_tagset, train_wordAndTag_list)"
   ]
  },
  {
   "cell_type": "code",
   "execution_count": 19,
   "metadata": {},
   "outputs": [
    {
     "data": {
      "text/html": [
       "<div>\n",
       "<style scoped>\n",
       "    .dataframe tbody tr th:only-of-type {\n",
       "        vertical-align: middle;\n",
       "    }\n",
       "\n",
       "    .dataframe tbody tr th {\n",
       "        vertical-align: top;\n",
       "    }\n",
       "\n",
       "    .dataframe thead th {\n",
       "        text-align: right;\n",
       "    }\n",
       "</style>\n",
       "<table border=\"1\" class=\"dataframe\">\n",
       "  <thead>\n",
       "    <tr style=\"text-align: right;\">\n",
       "      <th></th>\n",
       "      <th>VERB</th>\n",
       "      <th>PRT</th>\n",
       "      <th>ADP</th>\n",
       "      <th>DET</th>\n",
       "      <th>ADJ</th>\n",
       "      <th>.</th>\n",
       "      <th>X</th>\n",
       "      <th>CONJ</th>\n",
       "      <th>PRON</th>\n",
       "      <th>NUM</th>\n",
       "      <th>ADV</th>\n",
       "      <th>NOUN</th>\n",
       "    </tr>\n",
       "  </thead>\n",
       "  <tbody>\n",
       "    <tr>\n",
       "      <th>VERB</th>\n",
       "      <td>0.168687</td>\n",
       "      <td>0.031546</td>\n",
       "      <td>0.091608</td>\n",
       "      <td>0.134499</td>\n",
       "      <td>0.065501</td>\n",
       "      <td>0.034887</td>\n",
       "      <td>0.217249</td>\n",
       "      <td>0.005517</td>\n",
       "      <td>0.035276</td>\n",
       "      <td>0.022922</td>\n",
       "      <td>0.082362</td>\n",
       "      <td>0.109946</td>\n",
       "    </tr>\n",
       "    <tr>\n",
       "      <th>PRT</th>\n",
       "      <td>0.399737</td>\n",
       "      <td>0.001972</td>\n",
       "      <td>0.020381</td>\n",
       "      <td>0.099934</td>\n",
       "      <td>0.083826</td>\n",
       "      <td>0.043393</td>\n",
       "      <td>0.013478</td>\n",
       "      <td>0.002301</td>\n",
       "      <td>0.018080</td>\n",
       "      <td>0.058185</td>\n",
       "      <td>0.010191</td>\n",
       "      <td>0.248521</td>\n",
       "    </tr>\n",
       "    <tr>\n",
       "      <th>ADP</th>\n",
       "      <td>0.008316</td>\n",
       "      <td>0.001493</td>\n",
       "      <td>0.017058</td>\n",
       "      <td>0.322175</td>\n",
       "      <td>0.107996</td>\n",
       "      <td>0.039872</td>\n",
       "      <td>0.034648</td>\n",
       "      <td>0.000746</td>\n",
       "      <td>0.068977</td>\n",
       "      <td>0.063539</td>\n",
       "      <td>0.013539</td>\n",
       "      <td>0.321642</td>\n",
       "    </tr>\n",
       "    <tr>\n",
       "      <th>DET</th>\n",
       "      <td>0.039579</td>\n",
       "      <td>0.000242</td>\n",
       "      <td>0.009199</td>\n",
       "      <td>0.005689</td>\n",
       "      <td>0.206003</td>\n",
       "      <td>0.017550</td>\n",
       "      <td>0.044904</td>\n",
       "      <td>0.000484</td>\n",
       "      <td>0.003510</td>\n",
       "      <td>0.022755</td>\n",
       "      <td>0.012709</td>\n",
       "      <td>0.637376</td>\n",
       "    </tr>\n",
       "    <tr>\n",
       "      <th>ADJ</th>\n",
       "      <td>0.012580</td>\n",
       "      <td>0.010456</td>\n",
       "      <td>0.077765</td>\n",
       "      <td>0.005065</td>\n",
       "      <td>0.067473</td>\n",
       "      <td>0.064695</td>\n",
       "      <td>0.020748</td>\n",
       "      <td>0.016827</td>\n",
       "      <td>0.000653</td>\n",
       "      <td>0.020748</td>\n",
       "      <td>0.004738</td>\n",
       "      <td>0.698252</td>\n",
       "    </tr>\n",
       "    <tr>\n",
       "      <th>.</th>\n",
       "      <td>0.089441</td>\n",
       "      <td>0.002332</td>\n",
       "      <td>0.091325</td>\n",
       "      <td>0.172333</td>\n",
       "      <td>0.044676</td>\n",
       "      <td>0.093299</td>\n",
       "      <td>0.026823</td>\n",
       "      <td>0.058043</td>\n",
       "      <td>0.065758</td>\n",
       "      <td>0.079932</td>\n",
       "      <td>0.052929</td>\n",
       "      <td>0.223020</td>\n",
       "    </tr>\n",
       "    <tr>\n",
       "      <th>X</th>\n",
       "      <td>0.204763</td>\n",
       "      <td>0.183664</td>\n",
       "      <td>0.146579</td>\n",
       "      <td>0.054987</td>\n",
       "      <td>0.017104</td>\n",
       "      <td>0.163363</td>\n",
       "      <td>0.073529</td>\n",
       "      <td>0.010070</td>\n",
       "      <td>0.055307</td>\n",
       "      <td>0.002717</td>\n",
       "      <td>0.025735</td>\n",
       "      <td>0.062180</td>\n",
       "    </tr>\n",
       "    <tr>\n",
       "      <th>CONJ</th>\n",
       "      <td>0.156554</td>\n",
       "      <td>0.004169</td>\n",
       "      <td>0.054192</td>\n",
       "      <td>0.118110</td>\n",
       "      <td>0.119963</td>\n",
       "      <td>0.035665</td>\n",
       "      <td>0.007874</td>\n",
       "      <td>0.000463</td>\n",
       "      <td>0.056508</td>\n",
       "      <td>0.038907</td>\n",
       "      <td>0.054655</td>\n",
       "      <td>0.352941</td>\n",
       "    </tr>\n",
       "    <tr>\n",
       "      <th>PRON</th>\n",
       "      <td>0.486320</td>\n",
       "      <td>0.011561</td>\n",
       "      <td>0.022736</td>\n",
       "      <td>0.009249</td>\n",
       "      <td>0.074374</td>\n",
       "      <td>0.040848</td>\n",
       "      <td>0.093642</td>\n",
       "      <td>0.005395</td>\n",
       "      <td>0.007322</td>\n",
       "      <td>0.006936</td>\n",
       "      <td>0.031985</td>\n",
       "      <td>0.209634</td>\n",
       "    </tr>\n",
       "    <tr>\n",
       "      <th>NUM</th>\n",
       "      <td>0.017528</td>\n",
       "      <td>0.027332</td>\n",
       "      <td>0.035948</td>\n",
       "      <td>0.003268</td>\n",
       "      <td>0.034165</td>\n",
       "      <td>0.115865</td>\n",
       "      <td>0.208259</td>\n",
       "      <td>0.013369</td>\n",
       "      <td>0.001485</td>\n",
       "      <td>0.185086</td>\n",
       "      <td>0.002971</td>\n",
       "      <td>0.354724</td>\n",
       "    </tr>\n",
       "    <tr>\n",
       "      <th>ADV</th>\n",
       "      <td>0.343688</td>\n",
       "      <td>0.014210</td>\n",
       "      <td>0.118969</td>\n",
       "      <td>0.067746</td>\n",
       "      <td>0.129544</td>\n",
       "      <td>0.136814</td>\n",
       "      <td>0.023463</td>\n",
       "      <td>0.007270</td>\n",
       "      <td>0.015532</td>\n",
       "      <td>0.031395</td>\n",
       "      <td>0.079313</td>\n",
       "      <td>0.032056</td>\n",
       "    </tr>\n",
       "    <tr>\n",
       "      <th>NOUN</th>\n",
       "      <td>0.146599</td>\n",
       "      <td>0.043754</td>\n",
       "      <td>0.176145</td>\n",
       "      <td>0.013334</td>\n",
       "      <td>0.012059</td>\n",
       "      <td>0.240519</td>\n",
       "      <td>0.029327</td>\n",
       "      <td>0.042807</td>\n",
       "      <td>0.004882</td>\n",
       "      <td>0.009290</td>\n",
       "      <td>0.017196</td>\n",
       "      <td>0.264090</td>\n",
       "    </tr>\n",
       "  </tbody>\n",
       "</table>\n",
       "</div>"
      ],
      "text/plain": [
       "          VERB       PRT       ADP       DET       ADJ         .         X  \\\n",
       "VERB  0.168687  0.031546  0.091608  0.134499  0.065501  0.034887  0.217249   \n",
       "PRT   0.399737  0.001972  0.020381  0.099934  0.083826  0.043393  0.013478   \n",
       "ADP   0.008316  0.001493  0.017058  0.322175  0.107996  0.039872  0.034648   \n",
       "DET   0.039579  0.000242  0.009199  0.005689  0.206003  0.017550  0.044904   \n",
       "ADJ   0.012580  0.010456  0.077765  0.005065  0.067473  0.064695  0.020748   \n",
       ".     0.089441  0.002332  0.091325  0.172333  0.044676  0.093299  0.026823   \n",
       "X     0.204763  0.183664  0.146579  0.054987  0.017104  0.163363  0.073529   \n",
       "CONJ  0.156554  0.004169  0.054192  0.118110  0.119963  0.035665  0.007874   \n",
       "PRON  0.486320  0.011561  0.022736  0.009249  0.074374  0.040848  0.093642   \n",
       "NUM   0.017528  0.027332  0.035948  0.003268  0.034165  0.115865  0.208259   \n",
       "ADV   0.343688  0.014210  0.118969  0.067746  0.129544  0.136814  0.023463   \n",
       "NOUN  0.146599  0.043754  0.176145  0.013334  0.012059  0.240519  0.029327   \n",
       "\n",
       "          CONJ      PRON       NUM       ADV      NOUN  \n",
       "VERB  0.005517  0.035276  0.022922  0.082362  0.109946  \n",
       "PRT   0.002301  0.018080  0.058185  0.010191  0.248521  \n",
       "ADP   0.000746  0.068977  0.063539  0.013539  0.321642  \n",
       "DET   0.000484  0.003510  0.022755  0.012709  0.637376  \n",
       "ADJ   0.016827  0.000653  0.020748  0.004738  0.698252  \n",
       ".     0.058043  0.065758  0.079932  0.052929  0.223020  \n",
       "X     0.010070  0.055307  0.002717  0.025735  0.062180  \n",
       "CONJ  0.000463  0.056508  0.038907  0.054655  0.352941  \n",
       "PRON  0.005395  0.007322  0.006936  0.031985  0.209634  \n",
       "NUM   0.013369  0.001485  0.185086  0.002971  0.354724  \n",
       "ADV   0.007270  0.015532  0.031395  0.079313  0.032056  \n",
       "NOUN  0.042807  0.004882  0.009290  0.017196  0.264090  "
      ]
     },
     "execution_count": 19,
     "metadata": {},
     "output_type": "execute_result"
    }
   ],
   "source": [
    "# convert the matrix to a df for better readability\n",
    "tags_df = pd.DataFrame(tags_matrix, columns = list(universal_tagset), index=list(universal_tagset))\n",
    "tags_df"
   ]
  },
  {
   "cell_type": "code",
   "execution_count": 20,
   "metadata": {},
   "outputs": [
    {
     "data": {
      "image/png": "[encoded data removed]",
      "text/plain": [
       "<Figure size 720x576 with 2 Axes>"
      ]
     },
     "metadata": {
      "needs_background": "light"
     },
     "output_type": "display_data"
    }
   ],
   "source": [
    "# heatmap of tags matrix\n",
    "# T(i, j) indicates P(tag j given tag i)\n",
    "plt.figure(figsize=(10, 8))\n",
    "sns.heatmap(tags_df)\n",
    "plt.show()"
   ]
  },
  {
   "cell_type": "code",
   "execution_count": 21,
   "metadata": {},
   "outputs": [
    {
     "data": {
      "image/png": "[encoded data removed]",
      "text/plain": [
       "<Figure size 720x576 with 2 Axes>"
      ]
     },
     "metadata": {
      "needs_background": "light"
     },
     "output_type": "display_data"
    }
   ],
   "source": [
    "# frequent tags\n",
    "# filter the df to get P(t2, t1) > 0.5\n",
    "tags_frequent = tags_df[tags_df>0.5]\n",
    "plt.figure(figsize=(10, 8))\n",
    "sns.heatmap(tags_frequent)\n",
    "plt.show()"
   ]
  },
  {
   "cell_type": "markdown",
   "metadata": {},
   "source": [
    "#### The probability of Nouns following determinants and adjectives is the highest."
   ]
  },
  {
   "cell_type": "markdown",
   "metadata": {},
   "source": [
    "#### Vanilla Viterbi Heuristic\n",
    "#### Why does the Viterbi algorithm choose a random tag on encountering an unknown word? When the algorithm encounters an unknown word, it gets the count of it which is 0 and the emission probability becomes 0, which makes the state_probability 0. This is repeated for all the Tags for the unknown word and the max of this is 0. The index of the list that contains 0 is first and hence the first tag in T is picked always."
   ]
  },
  {
   "cell_type": "code",
   "execution_count": 22,
   "metadata": {},
   "outputs": [],
   "source": [
    "def Viterbi(words, train_bag = train_wordAndTag_list):\n",
    "    state = []\n",
    "    T = list(set([pair[1] for pair in train_bag]))\n",
    "    \n",
    "    for key, word in enumerate(words):\n",
    "        #initialise list of probability column for a given observation\n",
    "        p = [] \n",
    "        for tag in T:\n",
    "            if key == 0:\n",
    "                transition_p = tags_df.loc['.', tag]\n",
    "            else:\n",
    "                transition_p = tags_df.loc[state[-1], tag]\n",
    "                \n",
    "            # compute emission and state probabilities\n",
    "            emissionNAndD = word_given_tag(words[key], tag)\n",
    "            emission_p = emissionNAndD[0]/emissionNAndD[1]  \n",
    "            state_probability = emission_p * transition_p    \n",
    "            p.append(state_probability)\n",
    "            \n",
    "        pmax = max(p)\n",
    "        # getting state for which probability is maximum\n",
    "        state_max = T[p.index(pmax)] \n",
    "        state.append(state_max)\n",
    "    return list(zip(words, state))"
   ]
  },
  {
   "cell_type": "code",
   "execution_count": 23,
   "metadata": {},
   "outputs": [
    {
     "name": "stdout",
     "output_type": "stream",
     "text": [
      "[('The', 'DET'), ('bank', 'NOUN'), ('stocks', 'NOUN'), ('got', 'VERB'), ('a', 'DET'), ('boost', 'NOUN'), ('when', 'ADV'), ('Connecticut', 'NOUN'), ('Bank', 'NOUN'), ('&', 'CONJ'), ('Trust', 'NOUN'), ('and', 'CONJ'), ('Bank', 'NOUN'), ('of', 'ADP'), ('New', 'NOUN'), ('England', 'NOUN'), ('said', 'VERB'), ('0', 'X'), ('they', 'PRON'), ('no', 'ADV'), ('longer', 'ADV'), ('oppose', 'VERB'), ('pending', 'VERB'), ('legislation', 'NOUN'), ('that', 'DET'), ('*T*-1', 'X'), ('would', 'VERB'), ('permit', 'VERB'), ('banks', 'NOUN'), ('from', 'ADP'), ('other', 'ADJ'), ('regions', 'NOUN'), ('to', 'PRT'), ('merge', 'VERB'), ('with', 'ADP'), ('Connecticut', 'NOUN'), ('and', 'CONJ'), ('Massachusetts', 'NOUN'), ('banks', 'NOUN'), ('*T*-2', 'X'), ('.', '.'), ('But', 'CONJ'), ('a', 'DET'), ('Soviet', 'ADJ'), ('bank', 'NOUN'), ('here', 'ADV'), ('would', 'VERB'), ('be', 'VERB'), ('crippled', 'VERB'), ('*-51', 'X'), ('unless', 'ADP'), ('Moscow', 'NOUN'), ('found', 'VERB'), ('a', 'DET'), ('way', 'NOUN'), ('0', 'X'), ('*', 'X'), ('to', 'PRT'), ('settle', 'VERB'), ('the', 'DET'), ('$', '.'), ('188', 'NUM'), ('million', 'NUM'), ('*U*', 'X'), ('debt', 'NOUN'), (',', '.'), ('which', 'DET'), ('*T*-1', 'X'), ('was', 'VERB'), ('lent', 'VERB'), ('*-52', 'X'), ('to', 'PRT'), ('the', 'DET'), ('country', 'NOUN'), (\"'s\", 'PRT'), ('short-lived', 'ADJ'), ('democratic', 'ADJ'), ('Kerensky', 'NOUN'), ('government', 'NOUN'), ('before', 'ADP'), ('the', 'DET'), ('Communists', 'NOUN'), ('seized', 'VERB'), ('power', 'NOUN'), ('in', 'ADP'), ('1917', 'NUM'), ('*T*-2', 'X'), ('.', '.'), ('In', 'ADP'), ('the', 'DET'), ('coming', 'VERB'), ('decade', 'NOUN'), (',', '.'), ('analysts', 'NOUN'), ('say', 'VERB'), ('0', 'X'), ('*T*-2', 'X'), (',', '.'), ('U.S.-Japanese', 'ADJ'), ('relations', 'NOUN'), ('will', 'VERB'), ('be', 'VERB'), ('tested', 'VERB'), ('*-1', 'X'), ('as', 'ADP'), ('Tokyo', 'NOUN'), ('comes', 'VERB'), ('to', 'PRT'), ('terms', 'NOUN'), ('with', 'ADP'), ('its', 'PRON'), ('new', 'ADJ'), ('status', 'NOUN'), ('as', 'ADP'), ('the', 'DET'), ('region', 'NOUN'), (\"'s\", 'PRT'), ('economic', 'ADJ'), ('behemoth', 'NOUN'), ('.', '.'), ('These', 'DET'), ('vertically', 'ADV'), ('integrated', 'VERB'), ('combines', 'NOUN'), (',', '.'), ('some', 'DET'), ('of', 'ADP'), ('which', 'DET'), ('*T*-1', 'X'), ('got', 'VERB'), ('their', 'PRON'), ('start', 'NOUN'), ('in', 'ADP'), ('Japan', 'NOUN'), (\"'s\", 'PRT'), ('feudal', 'ADJ'), ('period', 'NOUN'), (',', '.'), ('deal', 'VERB'), ('globally', 'ADV'), ('in', 'ADP'), ('commodities', 'NOUN'), (',', '.'), ('construction', 'NOUN'), ('and', 'CONJ'), ('manufacturing', 'VERB'), ('.', '.'), ('They', 'PRON'), ('did', 'VERB'), (\"n't\", 'ADV'), ('have', 'VERB'), ('much', 'ADJ'), ('luck', 'NOUN'), ('during', 'ADP'), ('the', 'DET'), ('Reagan', 'NOUN'), ('administration', 'NOUN'), ('.', '.'), ('``', '.'), ('If', 'ADP'), ('you', 'PRON'), ('look', 'VERB'), ('at', 'ADP'), ('the', 'DET'), ('third', 'ADJ'), ('quarter', 'NOUN'), ('as', 'ADP'), ('*', 'X'), ('posting', 'VERB'), ('roughly', 'ADV'), ('2.5', 'NUM'), ('%', 'NOUN'), ('growth', 'NOUN'), (',', '.'), ('I', 'PRON'), ('do', 'VERB'), ('see', 'VERB'), ('some', 'DET'), ('slowing', 'NOUN'), ('in', 'ADP'), ('the', 'DET'), ('fourth', 'ADJ'), ('quarter', 'NOUN'), (',', '.'), (\"''\", '.'), ('agrees', 'VERB'), ('*T*-1', 'X'), ('Kansas', 'NOUN'), ('City', 'NOUN'), ('Fed', 'NOUN'), ('President', 'NOUN'), ('Roger', 'NOUN'), ('Guffey', 'NOUN'), ('.', '.'), ('The', 'DET'), ('Contra', 'NOUN'), ('military', 'ADJ'), ('command', 'NOUN'), (',', '.'), ('in', 'ADP'), ('a', 'DET'), ('statement', 'NOUN'), ('from', 'ADP'), ('Honduras', 'NOUN'), (',', '.'), ('said', 'VERB'), ('0', 'X'), ('Sandinista', 'NOUN'), ('troops', 'NOUN'), ('had', 'VERB'), ('launched', 'VERB'), ('a', 'DET'), ('major', 'ADJ'), ('offensive', 'NOUN'), ('against', 'ADP'), ('the', 'DET'), ('rebel', 'NOUN'), ('forces', 'NOUN'), ('.', '.'), ('First', 'NOUN'), ('Commonwealth', 'NOUN'), ('Securities', 'NOUN'), ('Corp.', 'NOUN'), (',', '.'), ('of', 'ADP'), ('New', 'NOUN'), ('Orleans', 'NOUN'), (',', '.'), ('and', 'CONJ'), ('its', 'PRON'), ('president', 'NOUN'), (',', '.'), ('Kenneth', 'NOUN'), ('J.', 'NOUN'), ('Canepa', 'NOUN'), (',', '.'), ('also', 'ADV'), ('of', 'ADP'), ('New', 'NOUN'), ('Orleans', 'NOUN'), (',', '.'), ('consented', 'VERB'), ('to', 'PRT'), ('a', 'DET'), ('$', '.'), ('10,000', 'NUM'), ('*U*', 'X'), ('fine', 'NOUN'), ('.', '.'), ('FALL', 'NOUN'), ('BALLOT', 'NOUN'), ('ISSUES', 'NOUN'), ('set', 'VERB'), ('a', 'DET'), ('record', 'NOUN'), ('for', 'ADP'), ('off-year', 'ADJ'), ('elections', 'NOUN'), ('.', '.'), ('The', 'DET'), ('dollar', 'NOUN'), ('rose', 'VERB'), ('.', '.'), ('There', 'DET'), (\"'s\", 'VERB'), ('no', 'DET'), ('culprit', 'NOUN'), ('here', 'ADV'), ('.', '.'), ('``', '.'), ('These', 'DET'), ('cases', 'NOUN'), ('lead', 'VERB'), ('to', 'PRT'), ('the', 'DET'), ('loss', 'NOUN'), ('of', 'ADP'), ('the', 'DET'), ('firms', 'NOUN'), (\"'\", 'PRT'), ('social', 'ADJ'), ('and', 'CONJ'), ('international', 'ADJ'), ('credibility', 'NOUN'), (',', '.'), (\"''\", '.'), ('a', 'DET'), ('ministry', 'NOUN'), ('statement', 'NOUN'), ('said', 'VERB'), ('*T*-1', 'X'), ('.', '.'), ('For', 'ADP'), ('starters', 'NOUN'), (',', '.'), ('the', 'DET'), ('executives', 'NOUN'), ('joined', 'VERB'), ('Mayor', 'NOUN'), ('William', 'NOUN'), ('H.', 'NOUN'), ('Hudnut', 'NOUN'), ('III', 'NOUN'), ('for', 'ADP'), ('an', 'DET'), ('evening', 'NOUN'), ('of', 'ADP'), ('the', 'DET'), ('Indianapolis', 'NOUN'), ('Symphony', 'NOUN'), ('Orchestra', 'NOUN'), ('and', 'CONJ'), ('a', 'DET'), ('guest', 'NOUN'), ('pianist-comedian', 'NOUN'), ('Victor', 'NOUN'), ('Borge', 'NOUN'), ('.', '.'), ('The', 'DET'), ('Kearny', 'NOUN'), (',', '.'), ('N.J.-based', 'ADJ'), ('maker', 'NOUN'), ('of', 'ADP'), ('hair', 'NOUN'), ('accessories', 'NOUN'), ('and', 'CONJ'), ('other', 'ADJ'), ('cosmetic', 'NOUN'), ('products', 'NOUN'), ('said', 'VERB'), ('0', 'X'), ('it', 'PRON'), ('cut', 'VERB'), ('the', 'DET'), ('dividend', 'NOUN'), ('due', 'ADJ'), ('to', 'PRT'), ('its', 'PRON'), ('third-quarter', 'NOUN'), ('loss', 'NOUN'), ('of', 'ADP'), ('$', '.'), ('992,000', 'NUM'), ('*U*', 'X'), (',', '.'), ('or', 'CONJ'), ('15', 'NUM'), ('cents', 'NOUN'), ('a', 'DET'), ('share', 'NOUN'), ('.', '.'), ('For', 'ADP'), ('starters', 'NOUN'), (',', '.'), ('the', 'DET'), ('executives', 'NOUN'), ('joined', 'VERB'), ('Mayor', 'NOUN'), ('William', 'NOUN'), ('H.', 'NOUN'), ('Hudnut', 'NOUN'), ('III', 'NOUN'), ('for', 'ADP'), ('an', 'DET'), ('evening', 'NOUN'), ('of', 'ADP'), ('the', 'DET'), ('Indianapolis', 'NOUN'), ('Symphony', 'NOUN'), ('Orchestra', 'NOUN'), ('and', 'CONJ'), ('a', 'DET'), ('guest', 'NOUN'), ('pianist-comedian', 'NOUN'), ('Victor', 'NOUN'), ('Borge', 'NOUN'), ('.', '.'), ('During', 'ADP'), ('the', 'DET'), ('current', 'ADJ'), ('crop', 'NOUN'), ('year', 'NOUN'), (',', '.'), ('Brazil', 'NOUN'), ('was', 'VERB'), ('expected', 'VERB'), ('*-1', 'X'), ('to', 'PRT'), ('produce', 'VERB'), ('6.9', 'NUM'), ('million', 'NUM'), ('tons', 'NOUN'), ('of', 'ADP'), ('sugar', 'NOUN'), (',', '.'), ('a', 'DET'), ('drop', 'NOUN'), ('from', 'ADP'), ('8.1', 'NUM'), ('million', 'NUM'), ('tons', 'NOUN'), ('in', 'ADP'), ('1988-89', 'NUM'), ('.', '.'), ('Video', 'NOUN'), ('Tip', 'NOUN'), (':', '.'), ('Before', 'ADP'), ('*-1', 'X'), ('seeing', 'VERB'), ('``', '.'), ('Sidewalk', 'NOUN'), ('Stories', 'NOUN'), (',', '.'), (\"''\", '.'), ('*', 'X'), ('take', 'VERB'), ('a', 'DET'), ('look', 'NOUN'), ('at', 'ADP'), ('``', '.'), ('City', 'NOUN'), ('Lights', 'NOUN'), (',', '.'), (\"''\", '.'), ('Chaplin', 'NOUN'), (\"'s\", 'PRT'), ('Tramp', 'NOUN'), ('at', 'ADP'), ('his', 'PRON'), ('finest', 'ADJ'), ('.', '.'), ('John', 'NOUN'), ('R.', 'NOUN'), ('Stevens', 'NOUN'), (',', '.'), ('49', 'NUM'), ('years', 'NOUN'), ('old', 'ADJ'), (',', '.'), ('was', 'VERB'), ('named', 'VERB'), ('*-27', 'X'), ('senior', 'ADJ'), ('executive', 'NOUN'), ('vice', 'NOUN'), ('president', 'NOUN'), ('and', 'CONJ'), ('chief', 'NOUN'), ('operating', 'VERB'), ('officer', 'NOUN'), (',', '.'), ('both', 'DET'), ('new', 'ADJ'), ('positions', 'NOUN'), ('.', '.'), ('But', 'CONJ'), ('the', 'DET'), ('strength', 'NOUN'), ('in', 'ADP'), ('heating', 'NOUN'), ('oil', 'NOUN'), ('helped', 'VERB'), ('*-1', 'X'), ('push', 'VERB'), ('up', 'PRT'), ('crude', 'ADJ'), ('oil', 'NOUN'), ('.', '.'), ('It', 'PRON'), ('also', 'ADV'), ('empowers', 'VERB'), ('the', 'DET'), ('president', 'NOUN'), ('to', 'PRT'), ('make', 'VERB'), ('recess', 'NOUN'), ('appointments', 'NOUN'), (',', '.'), ('without', 'ADP'), ('Senate', 'NOUN'), ('approval', 'NOUN'), (':', '.'), ('``', '.'), ('The', 'DET'), ('President', 'NOUN'), ('shall', 'VERB'), ('have', 'VERB'), ('Power', 'NOUN'), ('*', 'X'), ('to', 'PRT'), ('fill', 'VERB'), ('up', 'PRT'), ('all', 'DET'), ('Vacancies', 'NOUN'), ('that', 'DET'), ('*T*-1', 'X'), ('may', 'VERB'), ('happen', 'VERB'), ('during', 'ADP'), ('the', 'DET'), ('Recess', 'NOUN'), ('of', 'ADP'), ('the', 'DET'), ('Senate', 'NOUN'), (',', '.'), ('by', 'ADP'), ('*-2', 'X'), ('granting', 'VERB'), ('Commissions', 'NOUN'), ('which', 'DET'), ('*T*-40', 'X'), ('shall', 'VERB'), ('expire', 'VERB'), ('at', 'ADP'), ('the', 'DET'), ('End', 'NOUN'), ('of', 'ADP'), ('their', 'PRON'), ('next', 'ADJ'), ('Session', 'NOUN'), ('.', '.'), (\"''\", '.'), ('A', 'DET'), ('program', 'NOUN'), ('trade', 'NOUN'), ('of', 'ADP'), ('$', '.'), ('5', 'NUM'), ('million', 'NUM'), ('*U*', 'X'), ('of', 'ADP'), ('stock', 'NOUN'), ('typically', 'ADV'), ('earns', 'VERB'), ('a', 'DET'), ('razor-thin', 'ADJ'), ('profit', 'NOUN'), ('of', 'ADP'), ('$', '.'), ('25,000', 'NUM'), ('*U*', 'X'), ('.', '.'), ('The', 'DET'), ('defense', 'NOUN'), ('lawyers', 'NOUN'), (\"'\", 'PRT'), ('group', 'NOUN'), ('formed', 'VERB'), ('a', 'DET'), ('task', 'NOUN'), ('force', 'NOUN'), ('*ICH*-1', 'X'), ('*ICH*-3', 'X'), ('this', 'DET'), ('week', 'NOUN'), (',', '.'), ('chaired', 'VERB'), ('*', 'X'), ('by', 'ADP'), ('New', 'NOUN'), ('York', 'NOUN'), ('attorney', 'NOUN'), ('Gerald', 'NOUN'), ('Lefcourt', 'NOUN'), (',', '.'), ('0', 'X'), ('*T*-2', 'X'), ('to', 'PRT'), ('deal', 'VERB'), ('with', 'ADP'), ('the', 'DET'), ('matter', 'NOUN'), ('.', '.'), ('These', 'DET'), ('vertically', 'ADV'), ('integrated', 'VERB'), ('combines', 'NOUN'), (',', '.'), ('some', 'DET'), ('of', 'ADP'), ('which', 'DET'), ('*T*-1', 'X'), ('got', 'VERB'), ('their', 'PRON'), ('start', 'NOUN'), ('in', 'ADP'), ('Japan', 'NOUN'), (\"'s\", 'PRT'), ('feudal', 'ADJ'), ('period', 'NOUN'), (',', '.'), ('deal', 'VERB'), ('globally', 'ADV'), ('in', 'ADP'), ('commodities', 'NOUN'), (',', '.'), ('construction', 'NOUN'), ('and', 'CONJ'), ('manufacturing', 'VERB'), ('.', '.'), ('The', 'DET'), ('7.40', 'NUM'), ('%', 'NOUN'), ('term', 'NOUN'), ('bonds', 'NOUN'), ('due', 'ADJ'), ('2009', 'NUM'), ('are', 'VERB'), ('priced', 'VERB'), ('*-1', 'X'), ('*', 'X'), ('to', 'PRT'), ('yield', 'VERB'), ('7.45', 'NUM'), ('%', 'NOUN'), (',', '.'), ('and', 'CONJ'), ('7.40', 'NUM'), ('%', 'NOUN'), ('term', 'NOUN'), ('bonds', 'NOUN'), ('due', 'ADJ'), ('2017', 'NUM'), ('are', 'VERB'), ('priced', 'VERB'), ('*-2', 'X'), ('*', 'X'), ('to', 'PRT'), ('yield', 'VERB'), ('7.50', 'NUM'), ('%', 'NOUN'), ('.', '.'), ('Test-preparation', 'ADJ'), ('booklets', 'NOUN'), (',', '.'), ('software', 'NOUN'), ('and', 'CONJ'), ('worksheets', 'NOUN'), ('are', 'VERB'), ('a', 'DET'), ('booming', 'VERB'), ('publishing', 'VERB'), ('subindustry', 'NOUN'), ('.', '.'), ('But', 'CONJ'), ('a', 'DET'), ('Soviet', 'ADJ'), ('bank', 'NOUN'), ('here', 'ADV'), ('would', 'VERB'), ('be', 'VERB'), ('crippled', 'VERB'), ('*-51', 'X'), ('unless', 'ADP'), ('Moscow', 'NOUN'), ('found', 'VERB'), ('a', 'DET'), ('way', 'NOUN'), ('0', 'X'), ('*', 'X'), ('to', 'PRT'), ('settle', 'VERB'), ('the', 'DET'), ('$', '.'), ('188', 'NUM'), ('million', 'NUM'), ('*U*', 'X'), ('debt', 'NOUN'), (',', '.'), ('which', 'DET'), ('*T*-1', 'X'), ('was', 'VERB'), ('lent', 'VERB'), ('*-52', 'X'), ('to', 'PRT'), ('the', 'DET'), ('country', 'NOUN'), (\"'s\", 'PRT'), ('short-lived', 'ADJ'), ('democratic', 'ADJ'), ('Kerensky', 'NOUN'), ('government', 'NOUN'), ('before', 'ADP'), ('the', 'DET'), ('Communists', 'NOUN'), ('seized', 'VERB'), ('power', 'NOUN'), ('in', 'ADP'), ('1917', 'NUM'), ('*T*-2', 'X'), ('.', '.'), ('First', 'NOUN'), ('of', 'ADP'), ('America', 'NOUN'), (',', '.'), ('which', 'DET'), ('*T*-1', 'X'), ('now', 'ADV'), ('has', 'VERB'), ('45', 'NUM'), ('banks', 'NOUN'), ('and', 'CONJ'), ('$', '.'), ('12.5', 'NUM'), ('billion', 'NUM'), ('*U*', 'X'), ('in', 'ADP'), ('assets', 'NOUN'), (',', '.'), ('announced', 'VERB'), ('an', 'DET'), ('agreement', 'NOUN'), ('*', 'X'), ('to', 'PRT'), ('acquire', 'VERB'), ('the', 'DET'), ('Peoria', 'NOUN'), (',', '.'), ('Ill.', 'NOUN'), (',', '.'), ('bank', 'NOUN'), ('holding', 'VERB'), ('company', 'NOUN'), ('in', 'ADP'), ('January', 'NOUN'), ('.', '.'), (\"Dunkin'\", 'NOUN'), ('has', 'VERB'), ('set', 'VERB'), ('Nov.', 'NOUN'), ('10', 'NUM'), ('as', 'ADP'), ('the', 'DET'), ('deadline', 'NOUN'), ('for', 'ADP'), ('the', 'DET'), ('receipt', 'NOUN'), ('of', 'ADP'), ('any', 'DET'), ('competing', 'VERB'), ('bids', 'NOUN'), ('.', '.'), ('The', 'DET'), ('Toronto-based', 'ADJ'), ('real', 'ADJ'), ('estate', 'NOUN'), ('concern', 'NOUN'), ('said', 'VERB'), ('0', 'X'), ('each', 'DET'), ('bond', 'NOUN'), ('warrant', 'NOUN'), ('entitles', 'VERB'), ('the', 'DET'), ('holder', 'NOUN'), ('to', 'PRT'), ('buy', 'VERB'), ('C$', '.'), ('1,000', 'NUM'), ('*U*', 'X'), ('principal', 'NOUN'), ('amount', 'NOUN'), ('of', 'ADP'), ('debentures', 'NOUN'), ('at', 'ADP'), ('par', 'NOUN'), ('plus', 'CONJ'), ('accrued', 'VERB'), ('interest', 'NOUN'), ('to', 'PRT'), ('the', 'DET'), ('date', 'NOUN'), ('of', 'ADP'), ('purchase', 'NOUN'), ('.', '.'), ('It', 'PRON'), ('is', 'VERB'), ('expected', 'VERB'), ('that', 'ADP'), ('common', 'ADJ'), ('shares', 'NOUN'), ('equal', 'ADJ'), ('to', 'PRT'), ('the', 'DET'), ('number', 'NOUN'), ('of', 'ADP'), ('units', 'NOUN'), ('outstanding', 'ADJ'), ('--', '.'), ('about', 'ADP'), ('108', 'NUM'), ('million', 'NUM'), ('on', 'ADP'), ('Sept.', 'NOUN'), ('30', 'NUM'), ('--', '.'), ('will', 'VERB'), ('be', 'VERB'), ('issued', 'VERB'), ('*-3', 'X'), ('during', 'ADP'), ('the', 'DET'), ('first', 'ADJ'), ('quarter', 'NOUN'), ('of', 'ADP'), ('1990', 'NUM'), ('.', '.'), ('Yasser', 'NOUN'), ('Arafat', 'NOUN'), ('has', 'VERB'), ('written', 'VERB'), ('to', 'PRT'), ('the', 'DET'), ('chairman', 'NOUN'), ('of', 'ADP'), ('the', 'DET'), ('International', 'NOUN'), ('Olympic', 'NOUN'), ('Committee', 'NOUN'), ('*-2', 'X'), ('asking', 'VERB'), ('him', 'PRON'), ('*-3', 'X'), ('to', 'PRT'), ('back', 'VERB'), ('a', 'DET'), ('Palestinian', 'ADJ'), ('bid', 'NOUN'), ('*', 'X'), ('to', 'PRT'), ('join', 'VERB'), ('the', 'DET'), ('committee', 'NOUN'), (',', '.'), ('the', 'DET'), ('Palestine', 'NOUN'), ('Liberation', 'NOUN'), ('Organization', 'NOUN'), ('news', 'NOUN'), ('agency', 'NOUN'), ('WAFA', 'NOUN'), ('said', 'VERB'), ('0', 'X'), ('*T*-1', 'X'), ('.', '.'), ('The', 'DET'), ('securities', 'NOUN'), ('0', 'X'), ('*T*-1', 'X'), ('to', 'PRT'), ('be', 'VERB'), ('sold', 'VERB'), ('*-107', 'X'), ('next', 'ADJ'), ('week', 'NOUN'), ('will', 'VERB'), ('raise', 'VERB'), ('about', 'ADV'), ('$', '.'), ('10', 'NUM'), ('billion', 'NUM'), ('*U*', 'X'), ('in', 'ADP'), ('cash', 'NOUN'), ('and', 'CONJ'), ('redeem', 'VERB'), ('$', '.'), ('20', 'NUM'), ('billion', 'NUM'), ('*U*', 'X'), ('in', 'ADP'), ('maturing', 'VERB'), ('notes', 'NOUN'), ('.', '.'), ('A', 'DET'), ('couple', 'NOUN'), ('of', 'ADP'), ('weeks', 'NOUN'), ('ago', 'ADP'), (',', '.'), ('I', 'PRON'), ('lost', 'VERB'), ('the', 'DET'), ('case', 'NOUN'), ('in', 'ADP'), ('federal', 'ADJ'), ('district', 'NOUN'), ('court', 'NOUN'), ('in', 'ADP'), ('Des', 'NOUN'), ('Moines', 'NOUN'), ('.', '.'), ('Northeast', 'NOUN'), ('said', 'VERB'), ('0', 'X'), ('it', 'PRON'), ('would', 'VERB'), ('refile', 'VERB'), ('its', 'PRON'), ('request', 'NOUN'), ('and', 'CONJ'), ('still', 'ADV'), ('hopes', 'VERB'), ('for', 'ADP'), ('an', 'DET'), ('expedited', 'VERB'), ('review', 'NOUN'), ('by', 'ADP'), ('the', 'DET'), ('FERC', 'NOUN'), ('so', 'ADP'), ('that', 'ADP'), ('it', 'PRON'), ('could', 'VERB'), ('complete', 'VERB'), ('the', 'DET'), ('purchase', 'NOUN'), ('by', 'ADP'), ('next', 'ADJ'), ('summer', 'NOUN'), ('if', 'ADP'), ('its', 'PRON'), ('bid', 'NOUN'), ('is', 'VERB'), ('the', 'DET'), ('one', 'NOUN'), ('approved', 'VERB'), ('*', 'X'), ('by', 'ADP'), ('the', 'DET'), ('bankruptcy', 'NOUN'), ('court', 'NOUN'), ('.', '.'), ('$', '.'), ('107', 'NUM'), ('million', 'NUM'), ('*U*', 'X'), ('of', 'ADP'), ('tax', 'NOUN'), ('allocation', 'NOUN'), ('bonds', 'NOUN'), (',', '.'), ('1989', 'NUM'), ('Series', 'NOUN'), ('A-D', 'NOUN'), (',', '.'), ('due', 'ADJ'), ('1991-1999', 'NUM'), (',', '.'), ('2009', 'NUM'), ('and', 'CONJ'), ('2019', 'NUM'), (',', '.'), ('tentatively', 'ADV'), ('priced', 'VERB'), ('*', 'X'), ('by', 'ADP'), ('a', 'DET'), ('Donaldson', 'NOUN'), ('Lufkin', 'NOUN'), ('&', 'CONJ'), ('Jenrette', 'NOUN'), ('Securities', 'NOUN'), ('Corp.', 'NOUN'), ('group', 'NOUN'), ('*', 'X'), ('to', 'PRT'), ('yield', 'VERB'), ('from', 'ADP'), ('6.40', 'NUM'), ('%', 'NOUN'), ('in', 'ADP'), ('1991', 'NUM'), ('to', 'PRT'), ('7.458', 'NUM'), ('%', 'NOUN'), ('in', 'ADP'), ('2019', 'NUM'), ('.', '.'), ('Dr.', 'NOUN'), ('Talcott', 'NOUN'), ('led', 'VERB'), ('a', 'DET'), ('team', 'NOUN'), ('of', 'ADP'), ('researchers', 'NOUN'), ('from', 'ADP'), ('the', 'DET'), ('National', 'NOUN'), ('Cancer', 'NOUN'), ('Institute', 'NOUN'), ('and', 'CONJ'), ('the', 'DET'), ('medical', 'ADJ'), ('schools', 'NOUN'), ('of', 'ADP'), ('Harvard', 'NOUN'), ('University', 'NOUN'), ('and', 'CONJ'), ('Boston', 'NOUN'), ('University', 'NOUN'), ('.', '.'), ('*', 'X'), ('Put', 'VERB'), ('*-1', 'X'), ('another', 'DET'), ('way', 'NOUN'), (',', '.'), ('the', 'DET'), ('decline', 'NOUN'), ('in', 'ADP'), ('the', 'DET'), ('yield', 'NOUN'), ('suggests', 'VERB'), ('0', 'X'), ('stocks', 'NOUN'), ('have', 'VERB'), ('gotten', 'VERB'), ('pretty', 'ADV'), ('rich', 'ADJ'), ('in', 'ADP'), ('price', 'NOUN'), ('relative', 'ADJ'), ('to', 'PRT'), ('the', 'DET'), ('dividends', 'NOUN'), ('0', 'X'), ('they', 'PRON'), ('pay', 'VERB'), ('*T*-2', 'X'), (',', '.'), ('some', 'DET'), ('market', 'NOUN'), ('analysts', 'NOUN'), ('say', 'VERB'), ('0', 'X'), ('*T*-3', 'X'), ('.', '.'), ('The', 'DET'), ('scientists', 'NOUN'), ('said', 'VERB'), ('0', 'X'), ('they', 'PRON'), ('created', 'VERB'), ('small', 'ADJ'), ('changes', 'NOUN'), ('in', 'ADP'), ('the', 'DET'), ('crystal-lattice', 'ADJ'), ('structures', 'NOUN'), ('of', 'ADP'), ('the', 'DET'), ('superconductors', 'NOUN'), ('*-2', 'X'), ('to', 'PRT'), ('raise', 'VERB'), ('the', 'DET'), ('amount', 'NOUN'), ('of', 'ADP'), ('current', 'NOUN'), ('that', 'ADP'), ('single', 'ADJ'), ('crystals', 'NOUN'), ('could', 'VERB'), ('carry', 'VERB'), ('*T*-1', 'X'), ('to', 'PRT'), ('600,000', 'NUM'), ('amps', 'NOUN'), ('per', 'ADP'), ('square', 'ADJ'), ('centimeter', 'NOUN'), ('in', 'ADP'), ('a', 'DET'), ('moderately', 'ADV'), ('strong', 'ADJ'), ('magnetic', 'ADJ'), ('field', 'NOUN'), ('.', '.'), ('An', 'DET'), ('Upjohn', 'NOUN'), ('spokesman', 'NOUN'), ('said', 'VERB'), ('0', 'X'), ('he', 'PRON'), ('had', 'VERB'), ('``', '.'), ('heard', 'VERB'), ('nothing', 'NOUN'), (\"''\", '.'), ('0', 'X'), ('*T*-3', 'X'), ('to', 'PRT'), ('suggest', 'VERB'), ('0', 'X'), ('the', 'DET'), ('early', 'ADJ'), ('retirement', 'NOUN'), ('package', 'NOUN'), ('was', 'VERB'), ('spurred', 'VERB'), ('*-1', 'X'), ('by', 'ADP'), ('shareholder', 'NOUN'), ('pressure', 'NOUN'), ('or', 'CONJ'), ('a', 'DET'), ('potential', 'ADJ'), ('bidder', 'NOUN'), ('for', 'ADP'), ('the', 'DET'), ('company', 'NOUN'), (',', '.'), ('which', 'DET'), ('*T*-2', 'X'), ('occasionally', 'ADV'), ('has', 'VERB'), ('been', 'VERB'), ('the', 'DET'), ('target', 'NOUN'), ('of', 'ADP'), ('takeover', 'NOUN'), ('speculation', 'NOUN'), ('.', '.'), ('``', '.'), ('Judges', 'NOUN'), ('are', 'VERB'), ('not', 'ADV'), ('getting', 'VERB'), ('what', 'PRON'), ('they', 'PRON'), ('deserve', 'VERB'), ('*T*-1', 'X'), ('.', '.'), ('This', 'DET'), ('provision', 'NOUN'), ('amounts', 'VERB'), ('to', 'PRT'), ('a', 'DET'), ('legislative', 'ADJ'), ('veto', 'NOUN'), ('over', 'ADP'), ('the', 'DET'), ('president', 'NOUN'), (\"'s\", 'PRT'), ('execution', 'NOUN'), ('of', 'ADP'), ('the', 'DET'), ('law', 'NOUN'), (',', '.'), ('since', 'ADP'), ('a', 'DET'), ('one-house', 'ADJ'), ('resolution', 'NOUN'), ('could', 'VERB'), ('be', 'VERB'), ('said', 'VERB'), ('*-1', 'X'), ('to', 'PRT'), ('be', 'VERB'), ('``', '.'), ('duly', 'ADV'), ('adopted', 'VERB'), (\"''\", '.'), ('even', 'ADV'), ('though', 'ADP'), ('it', 'PRON'), ('would', 'VERB'), ('require', 'VERB'), ('neither', 'DET'), ('bicameral', 'ADJ'), ('action', 'NOUN'), ('in', 'ADP'), ('Congress', 'NOUN'), ('nor', 'CONJ'), ('presentation', 'NOUN'), ('to', 'PRT'), ('the', 'DET'), ('president', 'NOUN'), ('for', 'ADP'), ('his', 'PRON'), ('signature', 'NOUN'), ('or', 'CONJ'), ('veto', 'NOUN'), ('.', '.'), ('Sandoz', 'NOUN'), ('Ltd.', 'NOUN'), ('has', 'VERB'), ('licensed', 'VERB'), ('certain', 'ADJ'), ('manufacturing', 'NOUN'), ('and', 'CONJ'), ('marketing', 'NOUN'), ('rights', 'NOUN'), ('for', 'ADP'), ('Interleukin-3', 'NOUN'), ('from', 'ADP'), ('Genetics', 'NOUN'), ('Institute', 'NOUN'), ('and', 'CONJ'), ('is', 'VERB'), ('conducting', 'VERB'), ('preclinical', 'ADJ'), ('studies', 'NOUN'), ('with', 'ADP'), ('it', 'PRON'), ('.', '.'), ('If', 'ADP'), ('``', '.'), ('A', 'DET'), ('Wild', 'NOUN'), ('Sheep', 'NOUN'), ('Chase', 'NOUN'), (\"''\", '.'), ('carries', 'VERB'), ('an', 'DET'), ('implicit', 'ADJ'), ('message', 'NOUN'), ('for', 'ADP'), ('international', 'ADJ'), ('relations', 'NOUN'), (',', '.'), ('it', 'PRON'), (\"'s\", 'VERB'), ('that', 'ADP'), ('the', 'DET'), ('Japanese', 'NOUN'), ('are', 'VERB'), ('more', 'ADV'), ('like', 'ADP'), ('us', 'PRON'), ('than', 'ADP'), ('most', 'ADJ'), ('of', 'ADP'), ('us', 'PRON'), ('think', 'VERB'), ('0', 'X'), ('*?*', 'X'), ('.', '.'), ('Yasser', 'NOUN'), ('Arafat', 'NOUN'), ('has', 'VERB'), ('written', 'VERB'), ('to', 'PRT'), ('the', 'DET'), ('chairman', 'NOUN'), ('of', 'ADP'), ('the', 'DET'), ('International', 'NOUN'), ('Olympic', 'NOUN'), ('Committee', 'NOUN'), ('*-2', 'X'), ('asking', 'VERB'), ('him', 'PRON'), ('*-3', 'X'), ('to', 'PRT'), ('back', 'VERB'), ('a', 'DET'), ('Palestinian', 'ADJ'), ('bid', 'NOUN'), ('*', 'X'), ('to', 'PRT'), ('join', 'VERB'), ('the', 'DET'), ('committee', 'NOUN'), (',', '.'), ('the', 'DET'), ('Palestine', 'NOUN'), ('Liberation', 'NOUN'), ('Organization', 'NOUN'), ('news', 'NOUN'), ('agency', 'NOUN'), ('WAFA', 'NOUN'), ('said', 'VERB'), ('0', 'X'), ('*T*-1', 'X'), ('.', '.'), ('Video', 'NOUN'), ('Tip', 'NOUN'), (':', '.'), ('Before', 'ADP'), ('*-1', 'X'), ('seeing', 'VERB'), ('``', '.'), ('Sidewalk', 'NOUN'), ('Stories', 'NOUN'), (',', '.'), (\"''\", '.'), ('*', 'X'), ('take', 'VERB'), ('a', 'DET'), ('look', 'NOUN'), ('at', 'ADP'), ('``', '.'), ('City', 'NOUN'), ('Lights', 'NOUN'), (',', '.'), (\"''\", '.'), ('Chaplin', 'NOUN'), (\"'s\", 'PRT'), ('Tramp', 'NOUN'), ('at', 'ADP'), ('his', 'PRON'), ('finest', 'ADJ'), ('.', '.'), ('In', 'ADP'), ('index', 'NOUN'), ('arbitrage', 'NOUN'), (',', '.'), ('the', 'DET'), ('widget', 'NOUN'), ('is', 'VERB'), ('the', 'DET'), ('S&P', 'NOUN'), ('500', 'NUM'), (',', '.'), ('and', 'CONJ'), ('its', 'PRON'), ('price', 'NOUN'), ('is', 'VERB'), ('constantly', 'ADV'), ('compared', 'VERB'), ('between', 'ADP'), ('the', 'DET'), ('futures', 'NOUN'), ('market', 'NOUN'), ('in', 'ADP'), ('Chicago', 'NOUN'), ('and', 'CONJ'), ('the', 'DET'), ('stock', 'NOUN'), ('markets', 'NOUN'), ('largely', 'ADV'), ('in', 'ADP'), ('New', 'NOUN'), ('York', 'NOUN'), ('.', '.'), ('But', 'CONJ'), ('the', 'DET'), ('strength', 'NOUN'), ('in', 'ADP'), ('heating', 'NOUN'), ('oil', 'NOUN'), ('helped', 'VERB'), ('*-1', 'X'), ('push', 'VERB'), ('up', 'PRT'), ('crude', 'ADJ'), ('oil', 'NOUN'), ('.', '.'), ('There', 'DET'), (\"'s\", 'VERB'), ('no', 'DET'), ('culprit', 'NOUN'), ('here', 'ADV'), ('.', '.'), ('The', 'DET'), ('following', 'VERB'), ('*ICH*-2', 'X'), ('were', 'VERB'), ('neither', 'DET'), ('barred', 'VERB'), ('nor', 'CONJ'), ('suspended', 'VERB'), ('*-1', 'X'), (':', '.'), ('Stephanie', 'NOUN'), ('Veselich', 'NOUN'), ('Enright', 'NOUN'), (',', '.'), ('Rolling', 'NOUN'), ('Hills', 'NOUN'), (',', '.'), ('Calif.', 'NOUN'), (',', '.'), ('fined', 'VERB'), ('*-3', 'X'), ('$', '.'), ('2,500', 'NUM'), ('*U*', 'X'), ('and', 'CONJ'), ('ordered', 'VERB'), ('*-3', 'X'), ('*-4', 'X'), ('to', 'PRT'), ('disgorge', 'VERB'), ('$', '.'), ('11,762', 'NUM'), ('*U*', 'X'), (';', '.'), ('Stuart', 'NOUN'), ('Lane', 'NOUN'), ('Russel', 'NOUN'), (',', '.'), ('Glendale', 'NOUN'), (',', '.'), ('Calif.', 'NOUN'), (',', '.'), ('fined', 'VERB'), ('*-5', 'X'), ('$', '.'), ('2,500', 'NUM'), ('*U*', 'X'), ('and', 'CONJ'), ('ordered', 'VERB'), ('*-5', 'X'), ('*-6', 'X'), ('to', 'PRT'), ('disgorge', 'VERB'), ('$', '.'), ('14,821', 'NUM'), ('*U*', 'X'), (';', '.'), ('Devon', 'NOUN'), ('Nilson', 'NOUN'), ('Dahl', 'NOUN'), (',', '.'), ('Fountain', 'NOUN'), ('Valley', 'NOUN'), (',', '.'), ('Calif.', 'NOUN'), (',', '.'), ('fined', 'VERB'), ('*-7', 'X'), ('$', '.'), ('82,389', 'NUM'), ('*U*', 'X'), ('.', '.'), ('It', 'PRON'), ('is', 'VERB'), ('expected', 'VERB'), ('that', 'ADP'), ('common', 'ADJ'), ('shares', 'NOUN'), ('equal', 'ADJ'), ('to', 'PRT'), ('the', 'DET'), ('number', 'NOUN'), ('of', 'ADP'), ('units', 'NOUN'), ('outstanding', 'ADJ'), ('--', '.'), ('about', 'ADP'), ('108', 'NUM'), ('million', 'NUM'), ('on', 'ADP'), ('Sept.', 'NOUN'), ('30', 'NUM'), ('--', '.'), ('will', 'VERB'), ('be', 'VERB'), ('issued', 'VERB'), ('*-3', 'X'), ('during', 'ADP'), ('the', 'DET'), ('first', 'ADJ'), ('quarter', 'NOUN'), ('of', 'ADP'), ('1990', 'NUM'), ('.', '.')]\n",
      "\n",
      "['The', 'bank', 'stocks', 'got', 'a', 'boost', 'when', 'Connecticut', 'Bank', '&', 'Trust', 'and', 'Bank', 'of', 'New', 'England', 'said', '0', 'they', 'no', 'longer', 'oppose', 'pending', 'legislation', 'that', '*T*-1', 'would', 'permit', 'banks', 'from', 'other', 'regions', 'to', 'merge', 'with', 'Connecticut', 'and', 'Massachusetts', 'banks', '*T*-2', '.', 'But', 'a', 'Soviet', 'bank', 'here', 'would', 'be', 'crippled', '*-51', 'unless', 'Moscow', 'found', 'a', 'way', '0', '*', 'to', 'settle', 'the', '$', '188', 'million', '*U*', 'debt', ',', 'which', '*T*-1', 'was', 'lent', '*-52', 'to', 'the', 'country', \"'s\", 'short-lived', 'democratic', 'Kerensky', 'government', 'before', 'the', 'Communists', 'seized', 'power', 'in', '1917', '*T*-2', '.', 'In', 'the', 'coming', 'decade', ',', 'analysts', 'say', '0', '*T*-2', ',', 'U.S.-Japanese', 'relations', 'will', 'be', 'tested', '*-1', 'as', 'Tokyo', 'comes', 'to', 'terms', 'with', 'its', 'new', 'status', 'as', 'the', 'region', \"'s\", 'economic', 'behemoth', '.', 'These', 'vertically', 'integrated', 'combines', ',', 'some', 'of', 'which', '*T*-1', 'got', 'their', 'start', 'in', 'Japan', \"'s\", 'feudal', 'period', ',', 'deal', 'globally', 'in', 'commodities', ',', 'construction', 'and', 'manufacturing', '.', 'They', 'did', \"n't\", 'have', 'much', 'luck', 'during', 'the', 'Reagan', 'administration', '.', '``', 'If', 'you', 'look', 'at', 'the', 'third', 'quarter', 'as', '*', 'posting', 'roughly', '2.5', '%', 'growth', ',', 'I', 'do', 'see', 'some', 'slowing', 'in', 'the', 'fourth', 'quarter', ',', \"''\", 'agrees', '*T*-1', 'Kansas', 'City', 'Fed', 'President', 'Roger', 'Guffey', '.', 'The', 'Contra', 'military', 'command', ',', 'in', 'a', 'statement', 'from', 'Honduras', ',', 'said', '0', 'Sandinista', 'troops', 'had', 'launched', 'a', 'major', 'offensive', 'against', 'the', 'rebel', 'forces', '.', 'First', 'Commonwealth', 'Securities', 'Corp.', ',', 'of', 'New', 'Orleans', ',', 'and', 'its', 'president', ',', 'Kenneth', 'J.', 'Canepa', ',', 'also', 'of', 'New', 'Orleans', ',', 'consented', 'to', 'a', '$', '10,000', '*U*', 'fine', '.', 'FALL', 'BALLOT', 'ISSUES', 'set', 'a', 'record', 'for', 'off-year', 'elections', '.', 'The', 'dollar', 'rose', '.', 'There', \"'s\", 'no', 'culprit', 'here', '.', '``', 'These', 'cases', 'lead', 'to', 'the', 'loss', 'of', 'the', 'firms', \"'\", 'social', 'and', 'international', 'credibility', ',', \"''\", 'a', 'ministry', 'statement', 'said', '*T*-1', '.', 'For', 'starters', ',', 'the', 'executives', 'joined', 'Mayor', 'William', 'H.', 'Hudnut', 'III', 'for', 'an', 'evening', 'of', 'the', 'Indianapolis', 'Symphony', 'Orchestra', 'and', 'a', 'guest', 'pianist-comedian', 'Victor', 'Borge', '.', 'The', 'Kearny', ',', 'N.J.-based', 'maker', 'of', 'hair', 'accessories', 'and', 'other', 'cosmetic', 'products', 'said', '0', 'it', 'cut', 'the', 'dividend', 'due', 'to', 'its', 'third-quarter', 'loss', 'of', '$', '992,000', '*U*', ',', 'or', '15', 'cents', 'a', 'share', '.', 'For', 'starters', ',', 'the', 'executives', 'joined', 'Mayor', 'William', 'H.', 'Hudnut', 'III', 'for', 'an', 'evening', 'of', 'the', 'Indianapolis', 'Symphony', 'Orchestra', 'and', 'a', 'guest', 'pianist-comedian', 'Victor', 'Borge', '.', 'During', 'the', 'current', 'crop', 'year', ',', 'Brazil', 'was', 'expected', '*-1', 'to', 'produce', '6.9', 'million', 'tons', 'of', 'sugar', ',', 'a', 'drop', 'from', '8.1', 'million', 'tons', 'in', '1988-89', '.', 'Video', 'Tip', ':', 'Before', '*-1', 'seeing', '``', 'Sidewalk', 'Stories', ',', \"''\", '*', 'take', 'a', 'look', 'at', '``', 'City', 'Lights', ',', \"''\", 'Chaplin', \"'s\", 'Tramp', 'at', 'his', 'finest', '.', 'John', 'R.', 'Stevens', ',', '49', 'years', 'old', ',', 'was', 'named', '*-27', 'senior', 'executive', 'vice', 'president', 'and', 'chief', 'operating', 'officer', ',', 'both', 'new', 'positions', '.', 'But', 'the', 'strength', 'in', 'heating', 'oil', 'helped', '*-1', 'push', 'up', 'crude', 'oil', '.', 'It', 'also', 'empowers', 'the', 'president', 'to', 'make', 'recess', 'appointments', ',', 'without', 'Senate', 'approval', ':', '``', 'The', 'President', 'shall', 'have', 'Power', '*', 'to', 'fill', 'up', 'all', 'Vacancies', 'that', '*T*-1', 'may', 'happen', 'during', 'the', 'Recess', 'of', 'the', 'Senate', ',', 'by', '*-2', 'granting', 'Commissions', 'which', '*T*-40', 'shall', 'expire', 'at', 'the', 'End', 'of', 'their', 'next', 'Session', '.', \"''\", 'A', 'program', 'trade', 'of', '$', '5', 'million', '*U*', 'of', 'stock', 'typically', 'earns', 'a', 'razor-thin', 'profit', 'of', '$', '25,000', '*U*', '.', 'The', 'defense', 'lawyers', \"'\", 'group', 'formed', 'a', 'task', 'force', '*ICH*-1', '*ICH*-3', 'this', 'week', ',', 'chaired', '*', 'by', 'New', 'York', 'attorney', 'Gerald', 'Lefcourt', ',', '0', '*T*-2', 'to', 'deal', 'with', 'the', 'matter', '.', 'These', 'vertically', 'integrated', 'combines', ',', 'some', 'of', 'which', '*T*-1', 'got', 'their', 'start', 'in', 'Japan', \"'s\", 'feudal', 'period', ',', 'deal', 'globally', 'in', 'commodities', ',', 'construction', 'and', 'manufacturing', '.', 'The', '7.40', '%', 'term', 'bonds', 'due', '2009', 'are', 'priced', '*-1', '*', 'to', 'yield', '7.45', '%', ',', 'and', '7.40', '%', 'term', 'bonds', 'due', '2017', 'are', 'priced', '*-2', '*', 'to', 'yield', '7.50', '%', '.', 'Test-preparation', 'booklets', ',', 'software', 'and', 'worksheets', 'are', 'a', 'booming', 'publishing', 'subindustry', '.', 'But', 'a', 'Soviet', 'bank', 'here', 'would', 'be', 'crippled', '*-51', 'unless', 'Moscow', 'found', 'a', 'way', '0', '*', 'to', 'settle', 'the', '$', '188', 'million', '*U*', 'debt', ',', 'which', '*T*-1', 'was', 'lent', '*-52', 'to', 'the', 'country', \"'s\", 'short-lived', 'democratic', 'Kerensky', 'government', 'before', 'the', 'Communists', 'seized', 'power', 'in', '1917', '*T*-2', '.', 'First', 'of', 'America', ',', 'which', '*T*-1', 'now', 'has', '45', 'banks', 'and', '$', '12.5', 'billion', '*U*', 'in', 'assets', ',', 'announced', 'an', 'agreement', '*', 'to', 'acquire', 'the', 'Peoria', ',', 'Ill.', ',', 'bank', 'holding', 'company', 'in', 'January', '.', \"Dunkin'\", 'has', 'set', 'Nov.', '10', 'as', 'the', 'deadline', 'for', 'the', 'receipt', 'of', 'any', 'competing', 'bids', '.', 'The', 'Toronto-based', 'real', 'estate', 'concern', 'said', '0', 'each', 'bond', 'warrant', 'entitles', 'the', 'holder', 'to', 'buy', 'C$', '1,000', '*U*', 'principal', 'amount', 'of', 'debentures', 'at', 'par', 'plus', 'accrued', 'interest', 'to', 'the', 'date', 'of', 'purchase', '.', 'It', 'is', 'expected', 'that', 'common', 'shares', 'equal', 'to', 'the', 'number', 'of', 'units', 'outstanding', '--', 'about', '108', 'million', 'on', 'Sept.', '30', '--', 'will', 'be', 'issued', '*-3', 'during', 'the', 'first', 'quarter', 'of', '1990', '.', 'Yasser', 'Arafat', 'has', 'written', 'to', 'the', 'chairman', 'of', 'the', 'International', 'Olympic', 'Committee', '*-2', 'asking', 'him', '*-3', 'to', 'back', 'a', 'Palestinian', 'bid', '*', 'to', 'join', 'the', 'committee', ',', 'the', 'Palestine', 'Liberation', 'Organization', 'news', 'agency', 'WAFA', 'said', '0', '*T*-1', '.', 'The', 'securities', '0', '*T*-1', 'to', 'be', 'sold', '*-107', 'next', 'week', 'will', 'raise', 'about', '$', '10', 'billion', '*U*', 'in', 'cash', 'and', 'redeem', '$', '20', 'billion', '*U*', 'in', 'maturing', 'notes', '.', 'A', 'couple', 'of', 'weeks', 'ago', ',', 'I', 'lost', 'the', 'case', 'in', 'federal', 'district', 'court', 'in', 'Des', 'Moines', '.', 'Northeast', 'said', '0', 'it', 'would', 'refile', 'its', 'request', 'and', 'still', 'hopes', 'for', 'an', 'expedited', 'review', 'by', 'the', 'FERC', 'so', 'that', 'it', 'could', 'complete', 'the', 'purchase', 'by', 'next', 'summer', 'if', 'its', 'bid', 'is', 'the', 'one', 'approved', '*', 'by', 'the', 'bankruptcy', 'court', '.', '$', '107', 'million', '*U*', 'of', 'tax', 'allocation', 'bonds', ',', '1989', 'Series', 'A-D', ',', 'due', '1991-1999', ',', '2009', 'and', '2019', ',', 'tentatively', 'priced', '*', 'by', 'a', 'Donaldson', 'Lufkin', '&', 'Jenrette', 'Securities', 'Corp.', 'group', '*', 'to', 'yield', 'from', '6.40', '%', 'in', '1991', 'to', '7.458', '%', 'in', '2019', '.', 'Dr.', 'Talcott', 'led', 'a', 'team', 'of', 'researchers', 'from', 'the', 'National', 'Cancer', 'Institute', 'and', 'the', 'medical', 'schools', 'of', 'Harvard', 'University', 'and', 'Boston', 'University', '.', '*', 'Put', '*-1', 'another', 'way', ',', 'the', 'decline', 'in', 'the', 'yield', 'suggests', '0', 'stocks', 'have', 'gotten', 'pretty', 'rich', 'in', 'price', 'relative', 'to', 'the', 'dividends', '0', 'they', 'pay', '*T*-2', ',', 'some', 'market', 'analysts', 'say', '0', '*T*-3', '.', 'The', 'scientists', 'said', '0', 'they', 'created', 'small', 'changes', 'in', 'the', 'crystal-lattice', 'structures', 'of', 'the', 'superconductors', '*-2', 'to', 'raise', 'the', 'amount', 'of', 'current', 'that', 'single', 'crystals', 'could', 'carry', '*T*-1', 'to', '600,000', 'amps', 'per', 'square', 'centimeter', 'in', 'a', 'moderately', 'strong', 'magnetic', 'field', '.', 'An', 'Upjohn', 'spokesman', 'said', '0', 'he', 'had', '``', 'heard', 'nothing', \"''\", '0', '*T*-3', 'to', 'suggest', '0', 'the', 'early', 'retirement', 'package', 'was', 'spurred', '*-1', 'by', 'shareholder', 'pressure', 'or', 'a', 'potential', 'bidder', 'for', 'the', 'company', ',', 'which', '*T*-2', 'occasionally', 'has', 'been', 'the', 'target', 'of', 'takeover', 'speculation', '.', '``', 'Judges', 'are', 'not', 'getting', 'what', 'they', 'deserve', '*T*-1', '.', 'This', 'provision', 'amounts', 'to', 'a', 'legislative', 'veto', 'over', 'the', 'president', \"'s\", 'execution', 'of', 'the', 'law', ',', 'since', 'a', 'one-house', 'resolution', 'could', 'be', 'said', '*-1', 'to', 'be', '``', 'duly', 'adopted', \"''\", 'even', 'though', 'it', 'would', 'require', 'neither', 'bicameral', 'action', 'in', 'Congress', 'nor', 'presentation', 'to', 'the', 'president', 'for', 'his', 'signature', 'or', 'veto', '.', 'Sandoz', 'Ltd.', 'has', 'licensed', 'certain', 'manufacturing', 'and', 'marketing', 'rights', 'for', 'Interleukin-3', 'from', 'Genetics', 'Institute', 'and', 'is', 'conducting', 'preclinical', 'studies', 'with', 'it', '.', 'If', '``', 'A', 'Wild', 'Sheep', 'Chase', \"''\", 'carries', 'an', 'implicit', 'message', 'for', 'international', 'relations', ',', 'it', \"'s\", 'that', 'the', 'Japanese', 'are', 'more', 'like', 'us', 'than', 'most', 'of', 'us', 'think', '0', '*?*', '.', 'Yasser', 'Arafat', 'has', 'written', 'to', 'the', 'chairman', 'of', 'the', 'International', 'Olympic', 'Committee', '*-2', 'asking', 'him', '*-3', 'to', 'back', 'a', 'Palestinian', 'bid', '*', 'to', 'join', 'the', 'committee', ',', 'the', 'Palestine', 'Liberation', 'Organization', 'news', 'agency', 'WAFA', 'said', '0', '*T*-1', '.', 'Video', 'Tip', ':', 'Before', '*-1', 'seeing', '``', 'Sidewalk', 'Stories', ',', \"''\", '*', 'take', 'a', 'look', 'at', '``', 'City', 'Lights', ',', \"''\", 'Chaplin', \"'s\", 'Tramp', 'at', 'his', 'finest', '.', 'In', 'index', 'arbitrage', ',', 'the', 'widget', 'is', 'the', 'S&P', '500', ',', 'and', 'its', 'price', 'is', 'constantly', 'compared', 'between', 'the', 'futures', 'market', 'in', 'Chicago', 'and', 'the', 'stock', 'markets', 'largely', 'in', 'New', 'York', '.', 'But', 'the', 'strength', 'in', 'heating', 'oil', 'helped', '*-1', 'push', 'up', 'crude', 'oil', '.', 'There', \"'s\", 'no', 'culprit', 'here', '.', 'The', 'following', '*ICH*-2', 'were', 'neither', 'barred', 'nor', 'suspended', '*-1', ':', 'Stephanie', 'Veselich', 'Enright', ',', 'Rolling', 'Hills', ',', 'Calif.', ',', 'fined', '*-3', '$', '2,500', '*U*', 'and', 'ordered', '*-3', '*-4', 'to', 'disgorge', '$', '11,762', '*U*', ';', 'Stuart', 'Lane', 'Russel', ',', 'Glendale', ',', 'Calif.', ',', 'fined', '*-5', '$', '2,500', '*U*', 'and', 'ordered', '*-5', '*-6', 'to', 'disgorge', '$', '14,821', '*U*', ';', 'Devon', 'Nilson', 'Dahl', ',', 'Fountain', 'Valley', ',', 'Calif.', ',', 'fined', '*-7', '$', '82,389', '*U*', '.', 'It', 'is', 'expected', 'that', 'common', 'shares', 'equal', 'to', 'the', 'number', 'of', 'units', 'outstanding', '--', 'about', '108', 'million', 'on', 'Sept.', '30', '--', 'will', 'be', 'issued', '*-3', 'during', 'the', 'first', 'quarter', 'of', '1990', '.']\n"
     ]
    }
   ],
   "source": [
    "# Running on entire test dataset would take more than 3-4hrs. \n",
    "# Let's test our Viterbi algorithm on a few sample sentences of test dataset.\n",
    "# Keep it to ~50 so that the entire file completes in 20 minutes. If its 196, which is the size of test data\n",
    "# it takes around \n",
    "\n",
    "TEST_DATA_SIZE = 50 \n",
    "\n",
    "random.seed(1234)\n",
    "\n",
    "# choose random 5 sents\n",
    "rndom = [random.randint(1,len(test_set)) for x in range(TEST_DATA_SIZE)]\n",
    "\n",
    "# list of sents\n",
    "test_run = [test_set[i] for i in rndom]\n",
    "\n",
    "# list of tagged words\n",
    "test_run_base = [tup for sent in test_run for tup in sent]\n",
    "\n",
    "# list of untagged words\n",
    "test_tagged_words = [tup[0] for sent in test_run for tup in sent]\n",
    "\n",
    "print(test_run_base)\n",
    "print()\n",
    "print(test_tagged_words)"
   ]
  },
  {
   "cell_type": "markdown",
   "metadata": {},
   "source": [
    "#### Tagging the test sentences by calling the Viterbi Heuristic Algo."
   ]
  },
  {
   "cell_type": "code",
   "execution_count": null,
   "metadata": {},
   "outputs": [],
   "source": [
    "def tagSentencesViterbi(words2BeTagged):\n",
    "    start = time.time()\n",
    "    tagged_seq = Viterbi(words2BeTagged)\n",
    "    end = time.time()\n",
    "    difference = end-start\n",
    "    print(\"***Time taken to tag**** \", difference)\n",
    "    return tagged_seq\n",
    "\n",
    "tagged_seq = tagSentencesViterbi(test_tagged_words)"
   ]
  },
  {
   "cell_type": "code",
   "execution_count": null,
   "metadata": {},
   "outputs": [],
   "source": [
    "#print(tagged_seq)\n",
    "#print(test_run_base)"
   ]
  },
  {
   "cell_type": "markdown",
   "metadata": {},
   "source": [
    "#### Check the accuracy of the Viterbi Algorithm by comparing the train data's built in tag values and the ones we generated"
   ]
  },
  {
   "cell_type": "code",
   "execution_count": null,
   "metadata": {},
   "outputs": [],
   "source": [
    "# Util method to check the accuracy\n",
    "def checkAccuracy(taggedWords, correctlyTaggedTestRun):\n",
    "    check = [i for i, j in zip(taggedWords, correctlyTaggedTestRun) if i == j]\n",
    "    accuracy = len(check)/len(taggedWords)\n",
    "    return accuracy\n",
    "\n",
    "plainViterbiAccuracy = checkAccuracy(tagged_seq, test_run_base)\n",
    "print(\"*****Plain Viterbi Accuracy*****\", plainViterbiAccuracy)"
   ]
  },
  {
   "cell_type": "markdown",
   "metadata": {},
   "source": [
    "### Accuracy with vanilla Viterbi is 88.5% which is good."
   ]
  },
  {
   "cell_type": "code",
   "execution_count": null,
   "metadata": {},
   "outputs": [],
   "source": [
    "#k = zip(tagged_seq, test_run_base)\n",
    "#print(list(k))\n"
   ]
  },
  {
   "cell_type": "markdown",
   "metadata": {},
   "source": [
    "#### Find incorrectly tagged words along with the previous tag"
   ]
  },
  {
   "cell_type": "code",
   "execution_count": null,
   "metadata": {},
   "outputs": [],
   "source": [
    "def findIncorrectlyTaggedWords(taggedWords, correctlyTaggedTestData):\n",
    "    wrongTaggedWords = [[correctlyTaggedTestData[i-1],j] for i, j in enumerate(zip(taggedWords, correctlyTaggedTestData)) if j[0]!=j[1]]\n",
    "    return wrongTaggedWords\n",
    "    \n",
    "wordsWithWrongTagsWithPreviousTag = findIncorrectlyTaggedWords(tagged_seq, test_run_base)\n",
    "wordsWithWrongTagsWithPreviousTag"
   ]
  },
  {
   "cell_type": "markdown",
   "metadata": {},
   "source": [
    "### Step 3. Move to Test_sentences.txt"
   ]
  },
  {
   "cell_type": "code",
   "execution_count": null,
   "metadata": {},
   "outputs": [],
   "source": [
    "# Util to clean the lines\n",
    "def getCleanedLinesFromTestData(file):\n",
    "    lines = []\n",
    "    f = codecs.open(file, encoding='utf-8')\n",
    "    for line in f:\n",
    "        if line.rstrip()!='':\n",
    "            lines.append(line.rstrip())\n",
    "    return lines\n",
    "    \n",
    "test_lines = getCleanedLinesFromTestData(\"Test_sentences.txt\")\n",
    "test_lines"
   ]
  },
  {
   "cell_type": "code",
   "execution_count": null,
   "metadata": {},
   "outputs": [],
   "source": [
    "# Get the words\n",
    "def getWordsFromLines(lines):\n",
    "    words = []\n",
    "    for line in lines:\n",
    "        words.extend(word_tokenize(line))\n",
    "    return words\n",
    "\n",
    "words_from_test_lines = getWordsFromLines(test_lines)\n",
    "print(\"**** All words from test lines ****\\n\", words_from_test_lines)"
   ]
  },
  {
   "cell_type": "code",
   "execution_count": null,
   "metadata": {},
   "outputs": [],
   "source": [
    "wordsAndTags_from_test_lines = tagSentencesViterbi(words_from_test_lines)\n",
    "print(\"\\n****Words and tags from plain Viterbi*****\\n\", wordsAndTags_from_test_lines)"
   ]
  },
  {
   "cell_type": "markdown",
   "metadata": {},
   "source": [
    "#### Get the list of unknown - alien words"
   ]
  },
  {
   "cell_type": "code",
   "execution_count": null,
   "metadata": {},
   "outputs": [],
   "source": [
    "#Get the list of words which are present in test lines but not in the training corpus\n",
    "words_not_in_corpus = list(set(words_from_test_lines) - set(tokens_set))\n",
    "words_not_in_corpus"
   ]
  },
  {
   "cell_type": "code",
   "execution_count": null,
   "metadata": {},
   "outputs": [],
   "source": [
    "# Concisely print the tags for alien words\n",
    "def printTagsForAlienWords(alienWords, alienWordsWithTags):\n",
    "    wrongTaggedWords = []\n",
    "    wrongTaggedWords = [wordAndTag for wordAndTag in alienWordsWithTags if (wordAndTag[0] in set(alienWords))]\n",
    "    return wrongTaggedWords"
   ]
  },
  {
   "cell_type": "markdown",
   "metadata": {},
   "source": [
    "### Note that the default tag assigned to alien words is the one that occurs first in the Tag list. This will change for each run."
   ]
  },
  {
   "cell_type": "code",
   "execution_count": null,
   "metadata": {},
   "outputs": [],
   "source": [
    "alienWordsAndTags = printTagsForAlienWords(words_not_in_corpus, wordsAndTags_from_test_lines)\n",
    "print(\"***Alien words and their tags***\\n\", alienWordsAndTags)"
   ]
  },
  {
   "cell_type": "markdown",
   "metadata": {},
   "source": [
    "### Step 4. Solve the problem of unknown words. Which tag class do you think most unknown words belong to? Can you identify rules (e.g. based on morphological cues) that can be used to tag unknown words? When an alien word is encountered it must be a NOUN. This heuristic can be bluntly applied or we can use morphological forms of the word and identify it as an article, adjective, verb etc., We can even apply a simplified version of Laplace smoothening."
   ]
  },
  {
   "cell_type": "markdown",
   "metadata": {},
   "source": [
    "### Version 1 of Viterbi - Use regex and morphological forms to tag the unknown words.\n",
    "### Specify patterns for tagging.\n",
    "### Source - https://www.nltk.org/book/ch05.html."
   ]
  },
  {
   "cell_type": "code",
   "execution_count": null,
   "metadata": {},
   "outputs": [],
   "source": [
    "\n",
    "patterns = [\n",
    "    #NUMBERS\n",
    "    (\"^-?[0-9]+(.[0-9]+)?$\", 'NUM'),    \n",
    "    \n",
    "    #ADJECTIVES\n",
    "    (\".*able$\", 'ADJ'),        \n",
    "    \n",
    "    #VERBS and variants\n",
    "    (\".*ing$\", 'VERB'),      \n",
    "    (\".*ed$\", 'VERB'),       \n",
    "    (\".*es$\", 'VERB'),        \n",
    "    (\".*ould$\", 'VERB'),      \n",
    "    \n",
    "    #ADVERB\n",
    "    (\".*ly$\", 'ADV')\n",
    "]\n",
    "\n",
    "# If the whole word matches one of these we need to tag it as DET\n",
    "def isDeterminant(text):\n",
    "    if (text in set(['The', 'the', 'A', 'a', 'An', 'an'])):\n",
    "        return True\n",
    "    return False\n",
    "\n",
    "\n",
    "# If we don't tag it as a DET, identify the patterns. If none matches, the tag must be NOUN.\n",
    "def getStateForWord(text):\n",
    "    state = \"\"\n",
    "    if isDeterminant(text):\n",
    "        return \"DET\"\n",
    "    else:\n",
    "        for pattern in patterns:\n",
    "            if re.search(pattern[0], text):\n",
    "                state = pattern[1]\n",
    "                #print(pattern[0], \"---\", text, \"---\", state)\n",
    "                return state\n",
    "    return \"NOUN\""
   ]
  },
  {
   "cell_type": "code",
   "execution_count": null,
   "metadata": {},
   "outputs": [],
   "source": [
    "# Viterbi Heuristic\n",
    "def ViterbiV2(words, train_bag = train_wordAndTag_list):\n",
    "    state = []\n",
    "    T = list(set([pair[1] for pair in train_bag]))\n",
    "    \n",
    "    for key, word in enumerate(words):\n",
    "        #initialise list of probability column for a given observation\n",
    "        p = [] \n",
    "        for tag in T:\n",
    "            if key == 0:\n",
    "                transition_p = tags_df.loc['.', tag]\n",
    "            else:\n",
    "                transition_p = tags_df.loc[state[-1], tag]\n",
    "                \n",
    "            # compute emission and state probabilities\n",
    "            emissionNAndD = word_given_tag(words[key], tag)\n",
    "            emission_p = emissionNAndD[0]/emissionNAndD[1]            \n",
    "            state_probability = emission_p * transition_p    \n",
    "            p.append(state_probability)\n",
    "            \n",
    "        pmax = max(p)\n",
    "        \n",
    "        # If pmax is 0, get the most suitable tag by checking morphology\n",
    "        # assign state_max\n",
    "        # ELSE\n",
    "        # If pmax is not 0, then proceed with \n",
    "        # getting state for which probability is maximum\n",
    "        if pmax == 0:\n",
    "            state_max = getStateForWord(words[key])\n",
    "        else:\n",
    "            state_max = T[p.index(pmax)] \n",
    "        \n",
    "        state.append(state_max)\n",
    "        \n",
    "    return list(zip(words, state))\n",
    "\n",
    "# tagging the test sentences\n",
    "def tagSentencesViterbiV2(words2BeTagged):\n",
    "    start = time.time()\n",
    "    tagged_seq = ViterbiV2(words2BeTagged)\n",
    "    end = time.time()\n",
    "    difference = end-start\n",
    "    print(\"***Time taken to tag**** \", difference)\n",
    "    return tagged_seq\n",
    "\n"
   ]
  },
  {
   "cell_type": "code",
   "execution_count": null,
   "metadata": {},
   "outputs": [],
   "source": [
    "temp_test_words = ['Android', 'is', 'a', 'mobile', 'operating', 'system', 'developed', 'by', 'Google', '.', \n",
    "                   'Android', 'has', 'been', 'the', 'best-selling', 'OS', 'worldwide', 'on', 'smartphones', \n",
    "                   'since', '2011', 'and', 'on', 'tablets', 'since', '2013', '.', \n",
    "                   'Google', 'and', 'Twitter', 'made', 'a', 'deal', 'in', '2015', 'that', 'gave', 'Google', 'access', \n",
    "                   'to', 'Twitter', \"'s\", 'firehose', '.']\n",
    "\n",
    "wordsAndTags_from_test_lines = tagSentencesViterbiV2(temp_test_words)\n",
    "print(\"****Words and tags from ViterbiV2*****\\n\", wordsAndTags_from_test_lines)"
   ]
  },
  {
   "cell_type": "code",
   "execution_count": null,
   "metadata": {},
   "outputs": [],
   "source": [
    "tagged_seq_v2 = tagSentencesViterbiV2(test_tagged_words)\n",
    "viterbiV2Accuracy = checkAccuracy(tagged_seq_v2, test_run_base)\n",
    "print(viterbiV2Accuracy)"
   ]
  },
  {
   "cell_type": "markdown",
   "metadata": {},
   "source": [
    "### Accuracy jumped to 94% which is better than vanilla Viterbi."
   ]
  },
  {
   "cell_type": "markdown",
   "metadata": {},
   "source": [
    "### Version 2 of Viterbi - Use a smoothening constant.\n",
    "### Note that if the word is alien, the emission probability is 0. Its unfair to drag the state to 0 and hence to simulate 0 emission probability assign a value that is smaller than the probability of other words. It requires a bit of tuning to get good accuracy."
   ]
  },
  {
   "cell_type": "code",
   "execution_count": null,
   "metadata": {},
   "outputs": [],
   "source": [
    "# Viterbi Heuristic\n",
    "SMOOTHENING_CONSTANT = 0.00001\n",
    "def ViterbiV3(words, train_bag = train_wordAndTag_list):\n",
    "    state = []\n",
    "    T = list(set([pair[1] for pair in train_bag]))\n",
    "    \n",
    "    for key, word in enumerate(words):\n",
    "        #initialise list of probability column for a given observation\n",
    "        p = [] \n",
    "        for tag in T:\n",
    "            if key == 0:\n",
    "                transition_p = tags_df.loc['.', tag]\n",
    "            else:\n",
    "                #print(\"**state[-1]** \", state[-1])\n",
    "                transition_p = tags_df.loc[state[-1], tag]\n",
    "                \n",
    "            # compute emission and state probabilities\n",
    "            emissionNAndD = word_given_tag(words[key], tag)\n",
    "            emission_p = emissionNAndD[0]/emissionNAndD[1]  \n",
    "            if emission_p == 0:\n",
    "                emission_p = SMOOTHENING_CONSTANT\n",
    "            \n",
    "            state_probability = emission_p * transition_p    \n",
    "            p.append(state_probability)\n",
    "            \n",
    "        pmax = max(p)\n",
    "        # getting state for which probability is maximum\n",
    "        state_max = T[p.index(pmax)] \n",
    "        state.append(state_max)\n",
    "    return list(zip(words, state))\n",
    "\n",
    "\n",
    "# tagging the test sentences\n",
    "def tagSentencesViterbiV3(words2BeTagged):\n",
    "    start = time.time()\n",
    "    tagged_seq = ViterbiV3(words2BeTagged)\n",
    "    end = time.time()\n",
    "    difference = end-start\n",
    "    print(\"***Time taken to tag**** \", difference)\n",
    "    return tagged_seq"
   ]
  },
  {
   "cell_type": "code",
   "execution_count": null,
   "metadata": {},
   "outputs": [],
   "source": [
    "tagged_seq_v3 = tagSentencesViterbiV3(test_tagged_words)\n",
    "viterbiV3Accuracy = checkAccuracy(tagged_seq_v3, test_run_base)\n",
    "print(viterbiV3Accuracy)"
   ]
  },
  {
   "cell_type": "markdown",
   "metadata": {},
   "source": [
    "### Accuracy is 91%, better than vanilla Viterbi but not as good as rule based."
   ]
  },
  {
   "cell_type": "markdown",
   "metadata": {},
   "source": [
    "### Version 3 of Viterbi - Assign the tag that occurs maximum in the training corpus.\n",
    "### The tag that occurs maximum number of times in the training corpus is NOUN followed by VERB. We will assign NOUN as the tag for alien words. "
   ]
  },
  {
   "cell_type": "code",
   "execution_count": null,
   "metadata": {},
   "outputs": [],
   "source": [
    "# Viterbi Heuristic\n",
    "def ViterbiV4(words, train_bag = train_wordAndTag_list):\n",
    "    state = []\n",
    "    T = list(set([pair[1] for pair in train_bag]))\n",
    "    \n",
    "    for key, word in enumerate(words):\n",
    "        #initialise list of probability column for a given observation\n",
    "        p = [] \n",
    "        for tag in T:\n",
    "            if key == 0:\n",
    "                transition_p = tags_df.loc['.', tag]\n",
    "            else:\n",
    "                transition_p = tags_df.loc[state[-1], tag]\n",
    "                \n",
    "            # compute emission and state probabilities\n",
    "            emissionNAndD = word_given_tag(words[key], tag)\n",
    "            emission_p = emissionNAndD[0]/emissionNAndD[1]            \n",
    "            state_probability = emission_p * transition_p    \n",
    "            p.append(state_probability)\n",
    "            \n",
    "        pmax = max(p)\n",
    "        \n",
    "        # If pmax is 0, assign the tag that occurs most, which is NOUN\n",
    "        # ELSE\n",
    "        # If pmax is not 0, then proceed with \n",
    "        # getting state for which probability is maximum\n",
    "        if pmax == 0:\n",
    "            state_max = \"NOUN\"\n",
    "        else:\n",
    "            state_max = T[p.index(pmax)] \n",
    "        \n",
    "        state.append(state_max)\n",
    "        \n",
    "    return list(zip(words, state))\n",
    "\n",
    "# tagging the test sentences\n",
    "def tagSentencesViterbiV4(words2BeTagged):\n",
    "    start = time.time()\n",
    "    tagged_seq = ViterbiV4(words2BeTagged)\n",
    "    end = time.time()\n",
    "    difference = end-start\n",
    "    print(\"***Time taken to tag**** \", difference)\n",
    "    return tagged_seq"
   ]
  },
  {
   "cell_type": "code",
   "execution_count": null,
   "metadata": {},
   "outputs": [],
   "source": [
    "tagged_seq_v4 = tagSentencesViterbiV4(test_tagged_words)\n",
    "viterbiV4Accuracy = checkAccuracy(tagged_seq_v4, test_run_base)\n",
    "print(viterbiV4Accuracy)"
   ]
  },
  {
   "cell_type": "markdown",
   "metadata": {},
   "source": [
    "### Accuracy is 93% comparable to rule based. Even this is a rule based algorithm."
   ]
  },
  {
   "cell_type": "markdown",
   "metadata": {},
   "source": [
    "### Step 5. Compare the tagging accuracies of the modifications with the vanilla Viterbi algorithm"
   ]
  },
  {
   "cell_type": "markdown",
   "metadata": {},
   "source": [
    "### From the Test_sentences.txt, we pick 3 sentences, and apply the 4 versions of the Viterbi Algorithm and check which one did well."
   ]
  },
  {
   "cell_type": "markdown",
   "metadata": {},
   "source": [
    "### Pick 3 sentences"
   ]
  },
  {
   "cell_type": "code",
   "execution_count": null,
   "metadata": {},
   "outputs": [],
   "source": [
    "words_in_test_sentences = [ \n",
    "'Android', 'has', 'been', 'the', 'best-selling', 'OS', 'worldwide', 'on', 'smartphones', 'since', '2011', 'and', 'on', \n",
    "'tablets', 'since', '2013', '.', \n",
    "'Google', 'and', 'Twitter', 'made', 'a', 'deal', 'in', '2015', 'that', 'gave', 'Google', 'access', 'to', \n",
    "'Twitter', \"'s\", 'firehose', '.', \n",
    "'Twitter', 'is', 'an', 'online', 'news', 'and', 'social', 'networking', 'service', 'on', 'which', 'users', \n",
    "'post', 'and', 'interact', 'with', 'messages', 'known', 'as', 'tweets', '.',\n",
    "]"
   ]
  },
  {
   "cell_type": "markdown",
   "metadata": {},
   "source": [
    "### Vanilla Viterbi - Alien words are tagged wrong."
   ]
  },
  {
   "cell_type": "code",
   "execution_count": null,
   "metadata": {},
   "outputs": [],
   "source": [
    "tagged_words_Run1 = tagSentencesViterbi(words_in_test_sentences)\n",
    "print(tagged_words_Run1)"
   ]
  },
  {
   "cell_type": "markdown",
   "metadata": {},
   "source": [
    "### Viterbi with regex and modified forms - Alien words are tagged close to reality.\n",
    "#### Most of the nouns are tagged right, except smartphones."
   ]
  },
  {
   "cell_type": "code",
   "execution_count": null,
   "metadata": {},
   "outputs": [],
   "source": [
    "tagged_words_Run2 = tagSentencesViterbiV2(words_in_test_sentences)\n",
    "print(tagged_words_Run2)"
   ]
  },
  {
   "cell_type": "markdown",
   "metadata": {},
   "source": [
    "### Viterbi with laplace smoothening - Alien words are tagged second best to regex and modified form Viterbi.\n",
    "#### A few numbers are tagged wrong."
   ]
  },
  {
   "cell_type": "code",
   "execution_count": null,
   "metadata": {},
   "outputs": [],
   "source": [
    "tagged_words_Run3 = tagSentencesViterbiV3(words_in_test_sentences)\n",
    "print(tagged_words_Run3)"
   ]
  },
  {
   "cell_type": "markdown",
   "metadata": {},
   "source": [
    "### Viterbi with NOUN tagging for all aliens - Performs worst of all 3 Viterbis.\n",
    "#### Note that all the alien words are tagged NOUNS, which reduces accuracy."
   ]
  },
  {
   "cell_type": "code",
   "execution_count": null,
   "metadata": {},
   "outputs": [],
   "source": [
    "tagged_words_Run4 = tagSentencesViterbiV4(words_in_test_sentences)\n",
    "print(tagged_words_Run4)"
   ]
  },
  {
   "cell_type": "markdown",
   "metadata": {},
   "source": [
    "#### END OF SOLUTION"
   ]
  }
 ],
 "metadata": {
  "kernelspec": {
   "display_name": "Python 3",
   "language": "python",
   "name": "python3"
  },
  "language_info": {
   "codemirror_mode": {
    "name": "ipython",
    "version": 3
   },
   "file_extension": ".py",
   "mimetype": "text/x-python",
   "name": "python",
   "nbconvert_exporter": "python",
   "pygments_lexer": "ipython3",
   "version": "3.8.3"
  }
 },
 "nbformat": 4,
 "nbformat_minor": 2
}
