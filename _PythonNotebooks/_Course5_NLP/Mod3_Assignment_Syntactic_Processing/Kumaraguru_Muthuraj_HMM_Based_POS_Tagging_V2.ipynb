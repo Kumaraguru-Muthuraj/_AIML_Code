{
 "cells": [
  {
   "cell_type": "markdown",
   "metadata": {},
   "source": [
    "## HMM Based POS Tagging Assignment\n",
    "### Author - Kumaraguru Muthuraj\n",
    "\n",
    "### Solution description\n",
    "\n",
    "### I have adopted the POS Tagging HMM.ipynb from the NLP Course, Module 2 Syntactic Processing for Viterbi and all foundational code. I have experimented 3 simple modifications on the Viterbi algorithm for handling unknown words."
   ]
  },
  {
   "cell_type": "markdown",
   "metadata": {},
   "source": [
    "### 1. Exploring the treebank dataset -  data preparation"
   ]
  },
  {
   "cell_type": "code",
   "execution_count": 1,
   "metadata": {},
   "outputs": [],
   "source": [
    "#Importing libraries\n",
    "import nltk\n",
    "import re, pprint\n",
    "import numpy as np\n",
    "import pandas as pd\n",
    "import matplotlib.pyplot as plt\n",
    "import seaborn as sns\n",
    "import pprint, time\n",
    "import random\n",
    "from sklearn.model_selection import train_test_split\n",
    "from nltk.tokenize import word_tokenize\n",
    "import codecs"
   ]
  },
  {
   "cell_type": "markdown",
   "metadata": {},
   "source": [
    "#### We are instructed to use the Universal - coase tags numbering 12 instead of the extensive 40+ tags in nltk library"
   ]
  },
  {
   "cell_type": "code",
   "execution_count": 2,
   "metadata": {},
   "outputs": [
    {
     "name": "stderr",
     "output_type": "stream",
     "text": [
      "[nltk_data] Downloading package treebank to\n",
      "[nltk_data]     C:\\Users\\kumaraguru\\AppData\\Roaming\\nltk_data...\n",
      "[nltk_data]   Package treebank is already up-to-date!\n",
      "[nltk_data] Downloading package universal_tagset to\n",
      "[nltk_data]     C:\\Users\\kumaraguru\\AppData\\Roaming\\nltk_data...\n",
      "[nltk_data]   Package universal_tagset is already up-to-date!\n"
     ]
    },
    {
     "data": {
      "text/plain": [
       "True"
      ]
     },
     "execution_count": 2,
     "metadata": {},
     "output_type": "execute_result"
    }
   ],
   "source": [
    "nltk.download('treebank')\n",
    "nltk.download('universal_tagset')"
   ]
  },
  {
   "cell_type": "code",
   "execution_count": 3,
   "metadata": {},
   "outputs": [],
   "source": [
    "# Load the UNIVERSAL tagset from Treebank\n",
    "nltk_data = list(nltk.corpus.treebank.tagged_sents(tagset='universal'))"
   ]
  },
  {
   "cell_type": "code",
   "execution_count": 4,
   "metadata": {},
   "outputs": [
    {
     "name": "stdout",
     "output_type": "stream",
     "text": [
      "***Length of the data set ****  3914\n",
      "\n",
      "\n",
      "***First few lines*****\n"
     ]
    },
    {
     "data": {
      "text/plain": [
       "[[('Pierre', 'NOUN'),\n",
       "  ('Vinken', 'NOUN'),\n",
       "  (',', '.'),\n",
       "  ('61', 'NUM'),\n",
       "  ('years', 'NOUN'),\n",
       "  ('old', 'ADJ'),\n",
       "  (',', '.'),\n",
       "  ('will', 'VERB'),\n",
       "  ('join', 'VERB'),\n",
       "  ('the', 'DET'),\n",
       "  ('board', 'NOUN'),\n",
       "  ('as', 'ADP'),\n",
       "  ('a', 'DET'),\n",
       "  ('nonexecutive', 'ADJ'),\n",
       "  ('director', 'NOUN'),\n",
       "  ('Nov.', 'NOUN'),\n",
       "  ('29', 'NUM'),\n",
       "  ('.', '.')],\n",
       " [('Mr.', 'NOUN'),\n",
       "  ('Vinken', 'NOUN'),\n",
       "  ('is', 'VERB'),\n",
       "  ('chairman', 'NOUN'),\n",
       "  ('of', 'ADP'),\n",
       "  ('Elsevier', 'NOUN'),\n",
       "  ('N.V.', 'NOUN'),\n",
       "  (',', '.'),\n",
       "  ('the', 'DET'),\n",
       "  ('Dutch', 'NOUN'),\n",
       "  ('publishing', 'VERB'),\n",
       "  ('group', 'NOUN'),\n",
       "  ('.', '.')],\n",
       " [('Rudolph', 'NOUN'),\n",
       "  ('Agnew', 'NOUN'),\n",
       "  (',', '.'),\n",
       "  ('55', 'NUM'),\n",
       "  ('years', 'NOUN'),\n",
       "  ('old', 'ADJ'),\n",
       "  ('and', 'CONJ'),\n",
       "  ('former', 'ADJ'),\n",
       "  ('chairman', 'NOUN'),\n",
       "  ('of', 'ADP'),\n",
       "  ('Consolidated', 'NOUN'),\n",
       "  ('Gold', 'NOUN'),\n",
       "  ('Fields', 'NOUN'),\n",
       "  ('PLC', 'NOUN'),\n",
       "  (',', '.'),\n",
       "  ('was', 'VERB'),\n",
       "  ('named', 'VERB'),\n",
       "  ('*-1', 'X'),\n",
       "  ('a', 'DET'),\n",
       "  ('nonexecutive', 'ADJ'),\n",
       "  ('director', 'NOUN'),\n",
       "  ('of', 'ADP'),\n",
       "  ('this', 'DET'),\n",
       "  ('British', 'ADJ'),\n",
       "  ('industrial', 'ADJ'),\n",
       "  ('conglomerate', 'NOUN'),\n",
       "  ('.', '.')],\n",
       " [('A', 'DET'),\n",
       "  ('form', 'NOUN'),\n",
       "  ('of', 'ADP'),\n",
       "  ('asbestos', 'NOUN'),\n",
       "  ('once', 'ADV'),\n",
       "  ('used', 'VERB'),\n",
       "  ('*', 'X'),\n",
       "  ('*', 'X'),\n",
       "  ('to', 'PRT'),\n",
       "  ('make', 'VERB'),\n",
       "  ('Kent', 'NOUN'),\n",
       "  ('cigarette', 'NOUN'),\n",
       "  ('filters', 'NOUN'),\n",
       "  ('has', 'VERB'),\n",
       "  ('caused', 'VERB'),\n",
       "  ('a', 'DET'),\n",
       "  ('high', 'ADJ'),\n",
       "  ('percentage', 'NOUN'),\n",
       "  ('of', 'ADP'),\n",
       "  ('cancer', 'NOUN'),\n",
       "  ('deaths', 'NOUN'),\n",
       "  ('among', 'ADP'),\n",
       "  ('a', 'DET'),\n",
       "  ('group', 'NOUN'),\n",
       "  ('of', 'ADP'),\n",
       "  ('workers', 'NOUN'),\n",
       "  ('exposed', 'VERB'),\n",
       "  ('*', 'X'),\n",
       "  ('to', 'PRT'),\n",
       "  ('it', 'PRON'),\n",
       "  ('more', 'ADV'),\n",
       "  ('than', 'ADP'),\n",
       "  ('30', 'NUM'),\n",
       "  ('years', 'NOUN'),\n",
       "  ('ago', 'ADP'),\n",
       "  (',', '.'),\n",
       "  ('researchers', 'NOUN'),\n",
       "  ('reported', 'VERB'),\n",
       "  ('0', 'X'),\n",
       "  ('*T*-1', 'X'),\n",
       "  ('.', '.')],\n",
       " [('The', 'DET'),\n",
       "  ('asbestos', 'NOUN'),\n",
       "  ('fiber', 'NOUN'),\n",
       "  (',', '.'),\n",
       "  ('crocidolite', 'NOUN'),\n",
       "  (',', '.'),\n",
       "  ('is', 'VERB'),\n",
       "  ('unusually', 'ADV'),\n",
       "  ('resilient', 'ADJ'),\n",
       "  ('once', 'ADP'),\n",
       "  ('it', 'PRON'),\n",
       "  ('enters', 'VERB'),\n",
       "  ('the', 'DET'),\n",
       "  ('lungs', 'NOUN'),\n",
       "  (',', '.'),\n",
       "  ('with', 'ADP'),\n",
       "  ('even', 'ADV'),\n",
       "  ('brief', 'ADJ'),\n",
       "  ('exposures', 'NOUN'),\n",
       "  ('to', 'PRT'),\n",
       "  ('it', 'PRON'),\n",
       "  ('causing', 'VERB'),\n",
       "  ('symptoms', 'NOUN'),\n",
       "  ('that', 'DET'),\n",
       "  ('*T*-1', 'X'),\n",
       "  ('show', 'VERB'),\n",
       "  ('up', 'PRT'),\n",
       "  ('decades', 'NOUN'),\n",
       "  ('later', 'ADJ'),\n",
       "  (',', '.'),\n",
       "  ('researchers', 'NOUN'),\n",
       "  ('said', 'VERB'),\n",
       "  ('0', 'X'),\n",
       "  ('*T*-2', 'X'),\n",
       "  ('.', '.')]]"
      ]
     },
     "execution_count": 4,
     "metadata": {},
     "output_type": "execute_result"
    }
   ],
   "source": [
    "# PRINT first few tagged sentences\n",
    "print(\"***Length of the data set **** \", len(nltk_data))\n",
    "# samples: Each sentence is a list of (word, pos) tuples\n",
    "print(\"\\n\\n***First few lines*****\")\n",
    "nltk_data[:5]"
   ]
  },
  {
   "cell_type": "markdown",
   "metadata": {},
   "source": [
    "#### 5% of data, for test according to https://learn.upgrad.com/v/course/1120/session/169917/segment/904732"
   ]
  },
  {
   "cell_type": "code",
   "execution_count": 5,
   "metadata": {},
   "outputs": [
    {
     "name": "stdout",
     "output_type": "stream",
     "text": [
      "***Length of the training data set ****  3718\n",
      "***Length of the test data set ****  196\n",
      "\n",
      "\n",
      "*****Print a few lines*****\n",
      " [[('The', 'DET'), ('next', 'ADJ'), ('morning', 'NOUN'), (',', '.'), ('with', 'ADP'), ('a', 'DET'), ('police', 'NOUN'), ('escort', 'NOUN'), (',', '.'), ('busloads', 'NOUN'), ('of', 'ADP'), ('executives', 'NOUN'), ('and', 'CONJ'), ('their', 'PRON'), ('wives', 'NOUN'), ('raced', 'VERB'), ('to', 'PRT'), ('the', 'DET'), ('Indianapolis', 'NOUN'), ('Motor', 'NOUN'), ('Speedway', 'NOUN'), (',', '.'), ('*-1', 'X'), ('unimpeded', 'ADJ'), ('by', 'ADP'), ('traffic', 'NOUN'), ('or', 'CONJ'), ('red', 'ADJ'), ('lights', 'NOUN'), ('.', '.')], [('After', 'ADP'), ('years', 'NOUN'), ('of', 'ADP'), ('decline', 'NOUN'), (',', '.'), ('weddings', 'NOUN'), ('in', 'ADP'), ('France', 'NOUN'), ('showed', 'VERB'), ('a', 'DET'), ('2.2', 'NUM'), ('%', 'NOUN'), ('upturn', 'NOUN'), ('last', 'ADJ'), ('year', 'NOUN'), (',', '.'), ('with', 'ADP'), ('6,000', 'NUM'), ('more', 'ADJ'), ('couples', 'NOUN'), ('*ICH*-1', 'X'), ('exchanging', 'VERB'), ('rings', 'NOUN'), ('in', 'ADP'), ('1988', 'NUM'), ('than', 'ADP'), ('in', 'ADP'), ('the', 'DET'), ('previous', 'ADJ'), ('year', 'NOUN'), (',', '.'), ('the', 'DET'), ('national', 'ADJ'), ('statistics', 'NOUN'), ('office', 'NOUN'), ('said', 'VERB'), ('0', 'X'), ('*T*-2', 'X'), ('.', '.')], [('The', 'DET'), ('Senate', 'NOUN'), ('plans', 'VERB'), ('*-1', 'X'), ('to', 'PRT'), ('take', 'VERB'), ('up', 'PRT'), ('the', 'DET'), ('measure', 'NOUN'), ('quickly', 'ADV'), ('and', 'CONJ'), ('is', 'VERB'), ('expected', 'VERB'), ('*-1', 'X'), ('to', 'PRT'), ('pass', 'VERB'), ('it', 'PRON'), ('.', '.')], [('Reserves', 'NOUN'), ('traded', 'VERB'), ('*', 'X'), ('among', 'ADP'), ('commercial', 'ADJ'), ('banks', 'NOUN'), ('for', 'ADP'), ('overnight', 'ADJ'), ('use', 'NOUN'), ('in', 'ADP'), ('amounts', 'NOUN'), ('of', 'ADP'), ('$', '.'), ('1', 'NUM'), ('million', 'NUM'), ('or', 'CONJ'), ('more', 'ADJ'), ('*U*', 'X'), ('.', '.')], [('Gerard', 'NOUN'), ('Scannell', 'NOUN'), (',', '.'), ('the', 'DET'), ('head', 'NOUN'), ('of', 'ADP'), ('OSHA', 'NOUN'), (',', '.'), ('said', 'VERB'), ('0', 'X'), ('USX', 'NOUN'), ('managers', 'NOUN'), ('have', 'VERB'), ('known', 'VERB'), ('about', 'ADP'), ('many', 'ADJ'), ('of', 'ADP'), ('the', 'DET'), ('safety', 'NOUN'), ('and', 'CONJ'), ('health', 'NOUN'), ('deficiencies', 'NOUN'), ('at', 'ADP'), ('the', 'DET'), ('plants', 'NOUN'), ('for', 'ADP'), ('years', 'NOUN'), (',', '.'), ('``', '.'), ('yet', 'ADV'), ('have', 'VERB'), ('failed', 'VERB'), ('*-1', 'X'), ('to', 'PRT'), ('take', 'VERB'), ('necessary', 'ADJ'), ('action', 'NOUN'), ('*', 'X'), ('to', 'PRT'), ('counteract', 'VERB'), ('the', 'DET'), ('hazards', 'NOUN'), ('.', '.'), (\"''\", '.')]]\n"
     ]
    }
   ],
   "source": [
    "TEST_DATA_PERCENT = 0.05 \n",
    "\n",
    "# Splitting into train and test\n",
    "train_set, test_set = train_test_split(nltk_data, test_size = TEST_DATA_PERCENT)\n",
    "\n",
    "print(\"***Length of the training data set **** \", len(train_set))\n",
    "print(\"***Length of the test data set **** \", len(test_set))\n",
    "\n",
    "print(\"\\n\\n*****Print a few lines*****\\n\", train_set[:5])"
   ]
  },
  {
   "cell_type": "code",
   "execution_count": 6,
   "metadata": {},
   "outputs": [
    {
     "data": {
      "text/plain": [
       "95727"
      ]
     },
     "execution_count": 6,
     "metadata": {},
     "output_type": "execute_result"
    }
   ],
   "source": [
    "# Getting training list of tagged words\n",
    "train_wordAndTag_list = [wordAndTag for sentence in train_set for wordAndTag in sentence]\n",
    "len(train_wordAndTag_list)"
   ]
  },
  {
   "cell_type": "code",
   "execution_count": 7,
   "metadata": {},
   "outputs": [
    {
     "data": {
      "text/plain": [
       "[('The', 'DET'),\n",
       " ('next', 'ADJ'),\n",
       " ('morning', 'NOUN'),\n",
       " (',', '.'),\n",
       " ('with', 'ADP')]"
      ]
     },
     "execution_count": 7,
     "metadata": {},
     "output_type": "execute_result"
    }
   ],
   "source": [
    "train_wordAndTag_list[:5]"
   ]
  },
  {
   "cell_type": "code",
   "execution_count": 8,
   "metadata": {},
   "outputs": [
    {
     "name": "stdout",
     "output_type": "stream",
     "text": [
      "12074\n"
     ]
    }
   ],
   "source": [
    "#Get the set of words from the train_wordAndTag_list.\n",
    "tokens_set = set([wordAndTag[0] for wordAndTag in train_wordAndTag_list])\n",
    "print(len(tokens_set))\n",
    "#print(tokens_set)"
   ]
  },
  {
   "cell_type": "markdown",
   "metadata": {},
   "source": [
    "#### How do we know if Universal tagset is used? Get the set of tags from the train_wordAndTag_list. It should be 12, as mentioned in the problem statement. NOTE that this will be used shortly for the HMM algorithm."
   ]
  },
  {
   "cell_type": "code",
   "execution_count": 9,
   "metadata": {},
   "outputs": [
    {
     "name": "stdout",
     "output_type": "stream",
     "text": [
      "12\n",
      "{'ADP', 'NUM', 'ADV', 'NOUN', 'DET', 'X', '.', 'PRON', 'CONJ', 'PRT', 'ADJ', 'VERB'}\n"
     ]
    }
   ],
   "source": [
    "train_listOf_Tags = [wordAndTag[1] for wordAndTag in train_wordAndTag_list]\n",
    "universal_tagset = set(train_listOf_Tags)\n",
    "print(len(universal_tagset))\n",
    "print(universal_tagset)"
   ]
  },
  {
   "cell_type": "markdown",
   "metadata": {},
   "source": [
    "#### This tells that abour 28% of words are NOUNS followed by 13% VERBS. We will use this probablistic finding to assign NOUN as the tag for unknown words in the 3rd modified version of the Viterbi Algorithm."
   ]
  },
  {
   "cell_type": "code",
   "execution_count": 10,
   "metadata": {},
   "outputs": [
    {
     "name": "stdout",
     "output_type": "stream",
     "text": [
      "95727\n"
     ]
    },
    {
     "data": {
      "text/plain": [
       "Counter({'DET': 8303,\n",
       "         'ADJ': 6094,\n",
       "         'NOUN': 27386,\n",
       "         '.': 11132,\n",
       "         'ADP': 9337,\n",
       "         'CONJ': 2143,\n",
       "         'PRON': 2624,\n",
       "         'VERB': 12933,\n",
       "         'PRT': 3068,\n",
       "         'X': 6320,\n",
       "         'NUM': 3369,\n",
       "         'ADV': 3018})"
      ]
     },
     "execution_count": 10,
     "metadata": {},
     "output_type": "execute_result"
    }
   ],
   "source": [
    "print(len(train_listOf_Tags))\n",
    "\n",
    "from collections import Counter\n",
    "tag_counts = Counter(train_listOf_Tags)\n",
    "tag_counts"
   ]
  },
  {
   "cell_type": "markdown",
   "metadata": {},
   "source": [
    "### 2. POS Tagging Algorithm - HMM - Build the vanilla Viterbi based POS tagger\n",
    "#### Note: extracted from Upgrad Course - NLP - Module 2 - Exercise\n",
    "We'll use the HMM algorithm to tag the words. Given a sequence of words to be tagged, the task is to assign the most probable tag to the word.\n",
    "\n",
    "In other words, to every word W, assign the tag T that maximises the likelihood P(T|W). Since P(T|W) = P(W|T).P(T) / P(W), after ignoring P(W), we have to compute P(W|T) and P(T).\n",
    "\n",
    "P(W|T) is basically the probability that given a tag (say NN), what is the probability of it being W (say 'building'). This can be computed by computing the fraction of all NNs which are equal to W, i.e.\n",
    "\n",
    "P(W|T) = count(W, T) / count(T).\n",
    "\n",
    "The term P(T) is the probability of tag T, and in a tagging task, we assume that a tag will depend only on the previous tag. In other words, the probability of a tag being NN will depend only on the previous tag T(n-1). So for e.g. if T(n-1) is a JJ, then T(n) is likely to be an NN since adjectives often precede a noun (blue coat, tall building etc.).\n",
    "\n",
    "Given the penn treebank tagged dataset, we can compute the two terms P(W|T) and P(T) and store them in two large matrices. The matrix of P(W|T) will be sparse, since each word will not be seen with most tags ever, and those terms will thus be zero."
   ]
  },
  {
   "cell_type": "markdown",
   "metadata": {},
   "source": [
    "### Emission Probabilities"
   ]
  },
  {
   "cell_type": "code",
   "execution_count": 11,
   "metadata": {},
   "outputs": [],
   "source": [
    "# Computing P(W|T) and storing in tags x words matrix\n",
    "tags = len(universal_tagset)\n",
    "words = len(tokens_set)\n",
    "prob_W_given_T = np.zeros((tags, words))"
   ]
  },
  {
   "cell_type": "markdown",
   "metadata": {},
   "source": [
    "#### Emission Probability is calculated by function word_given_tag"
   ]
  },
  {
   "cell_type": "code",
   "execution_count": 12,
   "metadata": {},
   "outputs": [],
   "source": [
    "# Compute Emission Probability: word given tag \n",
    "def word_given_tag(word, tag, train_bag = train_wordAndTag_list):\n",
    "    tag_list = [pair for pair in train_bag if pair[1] == tag]\n",
    "    count_tag = len(tag_list)\n",
    "    w_given_tag_list = [pair[0] for pair in tag_list if pair[0] == word]\n",
    "    count_w_given_tag = len(w_given_tag_list)\n",
    "    \n",
    "    return (count_w_given_tag, count_tag)"
   ]
  },
  {
   "cell_type": "code",
   "execution_count": 13,
   "metadata": {},
   "outputs": [
    {
     "name": "stdout",
     "output_type": "stream",
     "text": [
      "\n",
      " large\n",
      "(28, 6094)\n",
      "(0, 12933)\n",
      "(0, 8303) \n",
      "\n",
      "\n",
      " will\n",
      "(0, 3018)\n",
      "(1, 27386)\n",
      "(266, 12933)\n",
      "\n",
      " book\n",
      "(7, 27386)\n",
      "(1, 12933)\n"
     ]
    }
   ],
   "source": [
    "# Try out some examples \n",
    "#'ADV', 'NUM', 'VERB', 'NOUN', 'DET', 'PRT', 'ADP', 'PRON', '.', 'CONJ', 'ADJ', 'X'\n",
    "\n",
    "# large\n",
    "print(\"\\n\", \"large\")\n",
    "print(word_given_tag('large', 'ADJ'))\n",
    "print(word_given_tag('large', 'VERB'))\n",
    "print(word_given_tag('large', 'DET'), \"\\n\")\n",
    "\n",
    "# will\n",
    "print(\"\\n\", \"will\")\n",
    "print(word_given_tag('will', 'ADV'))\n",
    "print(word_given_tag('will', 'NOUN'))\n",
    "print(word_given_tag('will', 'VERB'))\n",
    "\n",
    "# book\n",
    "print(\"\\n\", \"book\")\n",
    "print(word_given_tag('book', 'NOUN'))\n",
    "print(word_given_tag('book', 'VERB'))"
   ]
  },
  {
   "cell_type": "code",
   "execution_count": 14,
   "metadata": {},
   "outputs": [
    {
     "data": {
      "text/plain": [
       "list"
      ]
     },
     "execution_count": 14,
     "metadata": {},
     "output_type": "execute_result"
    }
   ],
   "source": [
    "type(train_wordAndTag_list)"
   ]
  },
  {
   "cell_type": "markdown",
   "metadata": {},
   "source": [
    "### Transition Probabilities"
   ]
  },
  {
   "cell_type": "code",
   "execution_count": 15,
   "metadata": {},
   "outputs": [],
   "source": [
    "# compute tag2 happening given tag1: tag2(t2) given tag1(t1), i.e. Transition Probability\n",
    "\n",
    "def t2_given_t1(t2, t1, train_bag = train_wordAndTag_list):\n",
    "    tags = [pair[1] for pair in train_bag]\n",
    "    count_t1 = len([t for t in tags if t == t1])\n",
    "    count_t2_t1 = 0\n",
    "    for index in range(len(tags)-1):\n",
    "        if tags[index]==t1 and tags[index+1] == t2:\n",
    "            count_t2_t1 += 1\n",
    "    return (count_t2_t1, count_t1)"
   ]
  },
  {
   "cell_type": "code",
   "execution_count": 16,
   "metadata": {},
   "outputs": [
    {
     "name": "stdout",
     "output_type": "stream",
     "text": [
      "(4035, 27386)\n",
      "(5297, 8303)\n",
      "(103, 8303)\n",
      "(0, 12933)\n",
      "(0, 6320)\n",
      "(92, 3369)\n",
      "(258, 2143)\n"
     ]
    }
   ],
   "source": [
    "# Try out some examples\n",
    "#'ADV', 'NUM', 'VERB', 'NOUN', 'DET', 'PRT', 'ADP', 'PRON', '.', 'CONJ', 'ADJ', 'X'\n",
    "\n",
    "print(t2_given_t1(t2='VERB', t1='NOUN'))\n",
    "print(t2_given_t1('NOUN', 'DET'))\n",
    "print(t2_given_t1('ADV', 'DET'))\n",
    "print(t2_given_t1('NNP', 'VERB'))\n",
    "print(t2_given_t1(',', 'X'))\n",
    "print(t2_given_t1('PRT', 'NUM'))\n",
    "print(t2_given_t1('DET', 'CONJ'))"
   ]
  },
  {
   "cell_type": "code",
   "execution_count": 17,
   "metadata": {},
   "outputs": [
    {
     "name": "stdout",
     "output_type": "stream",
     "text": [
      "(1933, 11132)\n",
      "(987, 11132)\n",
      "(2483, 11132)\n",
      "(737, 11132)\n"
     ]
    }
   ],
   "source": [
    "# Please note P(tag|start) is same as P(tag|'.')\n",
    "print(t2_given_t1('DET', '.'))\n",
    "print(t2_given_t1('VERB', '.'))\n",
    "print(t2_given_t1('NOUN', '.'))\n",
    "print(t2_given_t1('PRON', '.'))\n"
   ]
  },
  {
   "cell_type": "code",
   "execution_count": 18,
   "metadata": {},
   "outputs": [],
   "source": [
    "# creating t x t transition matrix of tags\n",
    "# each column is t2, each row is t1\n",
    "# thus M(i, j) represents P(tj given ti)\n",
    "#len of T is 12\n",
    "\n",
    "def buildTransitionProbabilitiesMatrix(tagset, taggedTrainData):\n",
    "    tProbMatrix = np.zeros((len(tagset), len(tagset)), dtype='float32')\n",
    "    for i, t1 in enumerate(list(tagset)):\n",
    "        for j, t2 in enumerate(list(tagset)): \n",
    "            tpTuple = t2_given_t1(t2, t1, taggedTrainData)\n",
    "            tProbMatrix[i, j] = tpTuple[0]/tpTuple[1]\n",
    "    return tProbMatrix\n",
    "\n",
    "tags_matrix = buildTransitionProbabilitiesMatrix(universal_tagset, train_wordAndTag_list)"
   ]
  },
  {
   "cell_type": "code",
   "execution_count": 19,
   "metadata": {},
   "outputs": [
    {
     "data": {
      "text/html": [
       "<div>\n",
       "<style scoped>\n",
       "    .dataframe tbody tr th:only-of-type {\n",
       "        vertical-align: middle;\n",
       "    }\n",
       "\n",
       "    .dataframe tbody tr th {\n",
       "        vertical-align: top;\n",
       "    }\n",
       "\n",
       "    .dataframe thead th {\n",
       "        text-align: right;\n",
       "    }\n",
       "</style>\n",
       "<table border=\"1\" class=\"dataframe\">\n",
       "  <thead>\n",
       "    <tr style=\"text-align: right;\">\n",
       "      <th></th>\n",
       "      <th>ADP</th>\n",
       "      <th>NUM</th>\n",
       "      <th>ADV</th>\n",
       "      <th>NOUN</th>\n",
       "      <th>DET</th>\n",
       "      <th>X</th>\n",
       "      <th>.</th>\n",
       "      <th>PRON</th>\n",
       "      <th>CONJ</th>\n",
       "      <th>PRT</th>\n",
       "      <th>ADJ</th>\n",
       "      <th>VERB</th>\n",
       "    </tr>\n",
       "  </thead>\n",
       "  <tbody>\n",
       "    <tr>\n",
       "      <th>ADP</th>\n",
       "      <td>0.017350</td>\n",
       "      <td>0.062547</td>\n",
       "      <td>0.012852</td>\n",
       "      <td>0.320660</td>\n",
       "      <td>0.325051</td>\n",
       "      <td>0.034701</td>\n",
       "      <td>0.040270</td>\n",
       "      <td>0.069294</td>\n",
       "      <td>0.000857</td>\n",
       "      <td>0.001499</td>\n",
       "      <td>0.106887</td>\n",
       "      <td>0.008033</td>\n",
       "    </tr>\n",
       "    <tr>\n",
       "      <th>NUM</th>\n",
       "      <td>0.035322</td>\n",
       "      <td>0.185515</td>\n",
       "      <td>0.002671</td>\n",
       "      <td>0.352033</td>\n",
       "      <td>0.003265</td>\n",
       "      <td>0.213120</td>\n",
       "      <td>0.114574</td>\n",
       "      <td>0.001484</td>\n",
       "      <td>0.012763</td>\n",
       "      <td>0.027308</td>\n",
       "      <td>0.034135</td>\n",
       "      <td>0.017809</td>\n",
       "    </tr>\n",
       "    <tr>\n",
       "      <th>ADV</th>\n",
       "      <td>0.117959</td>\n",
       "      <td>0.032472</td>\n",
       "      <td>0.079523</td>\n",
       "      <td>0.031146</td>\n",
       "      <td>0.068257</td>\n",
       "      <td>0.022200</td>\n",
       "      <td>0.134526</td>\n",
       "      <td>0.015573</td>\n",
       "      <td>0.006958</td>\n",
       "      <td>0.013917</td>\n",
       "      <td>0.129887</td>\n",
       "      <td>0.347581</td>\n",
       "    </tr>\n",
       "    <tr>\n",
       "      <th>NOUN</th>\n",
       "      <td>0.175929</td>\n",
       "      <td>0.009238</td>\n",
       "      <td>0.017199</td>\n",
       "      <td>0.264223</td>\n",
       "      <td>0.013328</td>\n",
       "      <td>0.029358</td>\n",
       "      <td>0.240159</td>\n",
       "      <td>0.004783</td>\n",
       "      <td>0.042175</td>\n",
       "      <td>0.044001</td>\n",
       "      <td>0.012269</td>\n",
       "      <td>0.147338</td>\n",
       "    </tr>\n",
       "    <tr>\n",
       "      <th>DET</th>\n",
       "      <td>0.009153</td>\n",
       "      <td>0.022040</td>\n",
       "      <td>0.012405</td>\n",
       "      <td>0.637962</td>\n",
       "      <td>0.005661</td>\n",
       "      <td>0.046007</td>\n",
       "      <td>0.018186</td>\n",
       "      <td>0.003493</td>\n",
       "      <td>0.000361</td>\n",
       "      <td>0.000241</td>\n",
       "      <td>0.205347</td>\n",
       "      <td>0.039142</td>\n",
       "    </tr>\n",
       "    <tr>\n",
       "      <th>X</th>\n",
       "      <td>0.144462</td>\n",
       "      <td>0.002848</td>\n",
       "      <td>0.026424</td>\n",
       "      <td>0.060601</td>\n",
       "      <td>0.055538</td>\n",
       "      <td>0.074525</td>\n",
       "      <td>0.162500</td>\n",
       "      <td>0.056646</td>\n",
       "      <td>0.010127</td>\n",
       "      <td>0.185759</td>\n",
       "      <td>0.017247</td>\n",
       "      <td>0.203323</td>\n",
       "    </tr>\n",
       "    <tr>\n",
       "      <th>.</th>\n",
       "      <td>0.090819</td>\n",
       "      <td>0.081117</td>\n",
       "      <td>0.052012</td>\n",
       "      <td>0.223051</td>\n",
       "      <td>0.173644</td>\n",
       "      <td>0.026860</td>\n",
       "      <td>0.092616</td>\n",
       "      <td>0.066206</td>\n",
       "      <td>0.059109</td>\n",
       "      <td>0.002246</td>\n",
       "      <td>0.043568</td>\n",
       "      <td>0.088663</td>\n",
       "    </tr>\n",
       "    <tr>\n",
       "      <th>PRON</th>\n",
       "      <td>0.020579</td>\n",
       "      <td>0.007622</td>\n",
       "      <td>0.033918</td>\n",
       "      <td>0.210366</td>\n",
       "      <td>0.009527</td>\n",
       "      <td>0.093369</td>\n",
       "      <td>0.040396</td>\n",
       "      <td>0.007622</td>\n",
       "      <td>0.005335</td>\n",
       "      <td>0.012957</td>\n",
       "      <td>0.072790</td>\n",
       "      <td>0.485518</td>\n",
       "    </tr>\n",
       "    <tr>\n",
       "      <th>CONJ</th>\n",
       "      <td>0.054596</td>\n",
       "      <td>0.042464</td>\n",
       "      <td>0.054596</td>\n",
       "      <td>0.344844</td>\n",
       "      <td>0.120392</td>\n",
       "      <td>0.008399</td>\n",
       "      <td>0.035931</td>\n",
       "      <td>0.059263</td>\n",
       "      <td>0.000467</td>\n",
       "      <td>0.004666</td>\n",
       "      <td>0.118059</td>\n",
       "      <td>0.156323</td>\n",
       "    </tr>\n",
       "    <tr>\n",
       "      <th>PRT</th>\n",
       "      <td>0.019883</td>\n",
       "      <td>0.057692</td>\n",
       "      <td>0.010430</td>\n",
       "      <td>0.244459</td>\n",
       "      <td>0.100717</td>\n",
       "      <td>0.013364</td>\n",
       "      <td>0.043677</td>\n",
       "      <td>0.018579</td>\n",
       "      <td>0.001956</td>\n",
       "      <td>0.001630</td>\n",
       "      <td>0.083768</td>\n",
       "      <td>0.403846</td>\n",
       "    </tr>\n",
       "    <tr>\n",
       "      <th>ADJ</th>\n",
       "      <td>0.077617</td>\n",
       "      <td>0.020676</td>\n",
       "      <td>0.004923</td>\n",
       "      <td>0.697407</td>\n",
       "      <td>0.005087</td>\n",
       "      <td>0.021004</td>\n",
       "      <td>0.065967</td>\n",
       "      <td>0.000656</td>\n",
       "      <td>0.016738</td>\n",
       "      <td>0.010502</td>\n",
       "      <td>0.067279</td>\n",
       "      <td>0.012143</td>\n",
       "    </tr>\n",
       "    <tr>\n",
       "      <th>VERB</th>\n",
       "      <td>0.091008</td>\n",
       "      <td>0.022501</td>\n",
       "      <td>0.082038</td>\n",
       "      <td>0.109951</td>\n",
       "      <td>0.133844</td>\n",
       "      <td>0.218279</td>\n",
       "      <td>0.035491</td>\n",
       "      <td>0.035723</td>\n",
       "      <td>0.005258</td>\n",
       "      <td>0.031006</td>\n",
       "      <td>0.065182</td>\n",
       "      <td>0.169721</td>\n",
       "    </tr>\n",
       "  </tbody>\n",
       "</table>\n",
       "</div>"
      ],
      "text/plain": [
       "           ADP       NUM       ADV      NOUN       DET         X         .  \\\n",
       "ADP   0.017350  0.062547  0.012852  0.320660  0.325051  0.034701  0.040270   \n",
       "NUM   0.035322  0.185515  0.002671  0.352033  0.003265  0.213120  0.114574   \n",
       "ADV   0.117959  0.032472  0.079523  0.031146  0.068257  0.022200  0.134526   \n",
       "NOUN  0.175929  0.009238  0.017199  0.264223  0.013328  0.029358  0.240159   \n",
       "DET   0.009153  0.022040  0.012405  0.637962  0.005661  0.046007  0.018186   \n",
       "X     0.144462  0.002848  0.026424  0.060601  0.055538  0.074525  0.162500   \n",
       ".     0.090819  0.081117  0.052012  0.223051  0.173644  0.026860  0.092616   \n",
       "PRON  0.020579  0.007622  0.033918  0.210366  0.009527  0.093369  0.040396   \n",
       "CONJ  0.054596  0.042464  0.054596  0.344844  0.120392  0.008399  0.035931   \n",
       "PRT   0.019883  0.057692  0.010430  0.244459  0.100717  0.013364  0.043677   \n",
       "ADJ   0.077617  0.020676  0.004923  0.697407  0.005087  0.021004  0.065967   \n",
       "VERB  0.091008  0.022501  0.082038  0.109951  0.133844  0.218279  0.035491   \n",
       "\n",
       "          PRON      CONJ       PRT       ADJ      VERB  \n",
       "ADP   0.069294  0.000857  0.001499  0.106887  0.008033  \n",
       "NUM   0.001484  0.012763  0.027308  0.034135  0.017809  \n",
       "ADV   0.015573  0.006958  0.013917  0.129887  0.347581  \n",
       "NOUN  0.004783  0.042175  0.044001  0.012269  0.147338  \n",
       "DET   0.003493  0.000361  0.000241  0.205347  0.039142  \n",
       "X     0.056646  0.010127  0.185759  0.017247  0.203323  \n",
       ".     0.066206  0.059109  0.002246  0.043568  0.088663  \n",
       "PRON  0.007622  0.005335  0.012957  0.072790  0.485518  \n",
       "CONJ  0.059263  0.000467  0.004666  0.118059  0.156323  \n",
       "PRT   0.018579  0.001956  0.001630  0.083768  0.403846  \n",
       "ADJ   0.000656  0.016738  0.010502  0.067279  0.012143  \n",
       "VERB  0.035723  0.005258  0.031006  0.065182  0.169721  "
      ]
     },
     "execution_count": 19,
     "metadata": {},
     "output_type": "execute_result"
    }
   ],
   "source": [
    "# convert the matrix to a df for better readability\n",
    "tags_df = pd.DataFrame(tags_matrix, columns = list(universal_tagset), index=list(universal_tagset))\n",
    "tags_df"
   ]
  },
  {
   "cell_type": "code",
   "execution_count": 20,
   "metadata": {},
   "outputs": [
    {
     "data": {
      "image/png": "[encoded data removed]",
      "text/plain": [
       "<Figure size 720x576 with 2 Axes>"
      ]
     },
     "metadata": {
      "needs_background": "light"
     },
     "output_type": "display_data"
    }
   ],
   "source": [
    "# heatmap of tags matrix\n",
    "# T(i, j) indicates P(tag j given tag i)\n",
    "plt.figure(figsize=(10, 8))\n",
    "sns.heatmap(tags_df)\n",
    "plt.show()"
   ]
  },
  {
   "cell_type": "code",
   "execution_count": 21,
   "metadata": {},
   "outputs": [
    {
     "data": {
      "image/png": "[encoded data removed]",
      "text/plain": [
       "<Figure size 720x576 with 2 Axes>"
      ]
     },
     "metadata": {
      "needs_background": "light"
     },
     "output_type": "display_data"
    }
   ],
   "source": [
    "# frequent tags\n",
    "# filter the df to get P(t2, t1) > 0.5\n",
    "tags_frequent = tags_df[tags_df>0.5]\n",
    "plt.figure(figsize=(10, 8))\n",
    "sns.heatmap(tags_frequent)\n",
    "plt.show()"
   ]
  },
  {
   "cell_type": "markdown",
   "metadata": {},
   "source": [
    "#### The probability of Nouns following determinants and adjectives is the highest."
   ]
  },
  {
   "cell_type": "markdown",
   "metadata": {},
   "source": [
    "#### Vanilla Viterbi Heuristic\n",
    "#### Why does the Viterbi algorithm choose a random tag on encountering an unknown word? When the algorithm encounters an unknown word, it gets the count of it which is 0 and the emission probability becomes 0, which makes the state_probability 0. This is repeated for all the Tags for the unknown word and the max of this is 0. The index of the list that contains 0 is first and hence the first tag in T is picked always."
   ]
  },
  {
   "cell_type": "code",
   "execution_count": 22,
   "metadata": {},
   "outputs": [],
   "source": [
    "def Viterbi(words, train_bag = train_wordAndTag_list):\n",
    "    state = []\n",
    "    T = list(set([pair[1] for pair in train_bag]))\n",
    "    \n",
    "    for key, word in enumerate(words):\n",
    "        #initialise list of probability column for a given observation\n",
    "        p = [] \n",
    "        for tag in T:\n",
    "            if key == 0:\n",
    "                transition_p = tags_df.loc['.', tag]\n",
    "            else:\n",
    "                transition_p = tags_df.loc[state[-1], tag]\n",
    "                \n",
    "            # compute emission and state probabilities\n",
    "            emissionNAndD = word_given_tag(words[key], tag)\n",
    "            emission_p = emissionNAndD[0]/emissionNAndD[1]  \n",
    "            state_probability = emission_p * transition_p    \n",
    "            p.append(state_probability)\n",
    "            \n",
    "        pmax = max(p)\n",
    "        # getting state for which probability is maximum\n",
    "        state_max = T[p.index(pmax)] \n",
    "        state.append(state_max)\n",
    "    return list(zip(words, state))"
   ]
  },
  {
   "cell_type": "code",
   "execution_count": 23,
   "metadata": {},
   "outputs": [
    {
     "name": "stdout",
     "output_type": "stream",
     "text": [
      "[('Attorneys', 'NOUN'), ('in', 'ADP'), ('the', 'DET'), ('third', 'ADJ'), ('stock-manipulation', 'ADJ'), ('trial', 'NOUN'), ('of', 'ADP'), ('GAF', 'NOUN'), ('Corp.', 'NOUN'), ('began', 'VERB'), ('opening', 'VERB'), ('arguments', 'NOUN'), ('yesterday', 'NOUN'), ('in', 'ADP'), ('the', 'DET'), ('Manhattan', 'NOUN'), ('courtroom', 'NOUN'), ('of', 'ADP'), ('U.S.', 'NOUN'), ('District', 'NOUN'), ('Judge', 'NOUN'), ('Mary', 'NOUN'), ('Johnson', 'NOUN'), ('Lowe', 'NOUN'), ('.', '.'), ('*', 'X'), ('Choose', 'VERB'), ('203', 'NUM'), ('business', 'NOUN'), ('executives', 'NOUN'), (',', '.'), ('including', 'VERB'), (',', '.'), ('perhaps', 'ADV'), (',', '.'), ('someone', 'NOUN'), ('from', 'ADP'), ('your', 'PRON'), ('own', 'ADJ'), ('staff', 'NOUN'), (',', '.'), ('and', 'CONJ'), ('*', 'X'), ('put', 'VERB'), ('them', 'PRON'), ('out', 'ADP'), ('on', 'ADP'), ('the', 'DET'), ('streets', 'NOUN'), (',', '.'), ('*-1', 'X'), ('to', 'PRT'), ('be', 'VERB'), ('deprived', 'VERB'), ('*-24', 'X'), ('for', 'ADP'), ('one', 'NUM'), ('month', 'NOUN'), ('of', 'ADP'), ('their', 'PRON'), ('homes', 'NOUN'), (',', '.'), ('families', 'NOUN'), ('and', 'CONJ'), ('income', 'NOUN'), ('.', '.'), ('For', 'ADP'), ('instance', 'NOUN'), (',', '.'), ('at', 'ADP'), ('the', 'DET'), ('first', 'ADJ'), ('meeting', 'NOUN'), ('the', 'DET'), ('two', 'NUM'), ('sides', 'NOUN'), ('could', 'VERB'), (\"n't\", 'ADV'), ('even', 'ADV'), ('agree', 'VERB'), ('on', 'ADP'), ('basic', 'ADJ'), ('data', 'NOUN'), ('used', 'VERB'), ('*', 'X'), ('in', 'ADP'), ('price', 'NOUN'), ('discussions', 'NOUN'), ('.', '.'), ('USX', 'NOUN'), ('has', 'VERB'), ('about', 'ADP'), ('$', '.'), ('5.5', 'NUM'), ('billion', 'NUM'), ('*U*', 'X'), ('in', 'ADP'), ('long-term', 'ADJ'), ('debt', 'NOUN'), ('and', 'CONJ'), ('257', 'NUM'), ('million', 'NUM'), ('shares', 'NOUN'), ('outstanding', 'ADJ'), ('.', '.'), ('But', 'CONJ'), ('as', 'ADP'), ('Duke', 'NOUN'), ('University', 'NOUN'), ('law', 'NOUN'), ('professor', 'NOUN'), ('William', 'NOUN'), ('Van', 'NOUN'), ('Alstyne', 'NOUN'), ('notes', 'VERB'), (',', '.'), ('by', 'ADP'), ('this', 'DET'), ('reasoning', 'NOUN'), ('a', 'DET'), ('defendant', 'NOUN'), ('could', 'VERB'), ('be', 'VERB'), ('held', 'VERB'), ('*-1', 'X'), ('liable', 'ADJ'), ('in', 'ADP'), ('New', 'NOUN'), ('York', 'NOUN'), ('for', 'ADP'), ('a', 'DET'), ('bad', 'ADJ'), ('apple', 'NOUN'), ('even', 'ADV'), ('if', 'ADP'), ('he', 'PRON'), ('sold', 'VERB'), ('all', 'DET'), ('his', 'PRON'), ('apples', 'NOUN'), ('in', 'ADP'), ('California', 'NOUN'), ('.', '.'), ('``', '.'), ('When', 'ADV'), ('I', 'PRON'), ('see', 'VERB'), ('prints', 'NOUN'), ('going', 'VERB'), ('into', 'ADP'), ('the', 'DET'), ('hands', 'NOUN'), ('of', 'ADP'), ('institutions', 'NOUN'), ('*T*-1', 'X'), (',', '.'), ('I', 'PRON'), ('know', 'VERB'), ('0', 'X'), ('they', 'PRON'), ('are', 'VERB'), (\"n't\", 'ADV'), ('going', 'VERB'), ('*-2', 'X'), ('to', 'PRT'), ('come', 'VERB'), ('back', 'ADV'), ('on', 'ADP'), ('the', 'DET'), ('market', 'NOUN'), ('.', '.'), (\"''\", '.'), ('The', 'DET'), ('companies', 'NOUN'), ('are', 'VERB'), ('giving', 'VERB'), ('four-day', 'ADJ'), ('vacations', 'NOUN'), ('for', 'ADP'), ('two', 'NUM'), ('to', 'PRT'), ('Buick', 'NOUN'), ('buyers', 'NOUN'), ('who', 'PRON'), ('*T*-51', 'X'), ('charge', 'VERB'), ('all', 'DET'), ('or', 'CONJ'), ('part', 'NOUN'), ('of', 'ADP'), ('their', 'PRON'), ('down', 'ADP'), ('payments', 'NOUN'), ('on', 'ADP'), ('the', 'DET'), ('American', 'NOUN'), ('Express', 'NOUN'), ('green', 'ADJ'), ('card', 'NOUN'), ('.', '.'), ('The', 'DET'), ('AT&T', 'NOUN'), ('team', 'NOUN'), ('also', 'ADV'), ('is', 'VERB'), ('trying', 'VERB'), ('*-1', 'X'), ('to', 'PRT'), ('combine', 'VERB'), ('their', 'PRON'), ('latest', 'ADJ'), ('superconductor', 'NOUN'), ('process', 'NOUN'), ('with', 'ADP'), ('``', '.'), ('melt-textured', 'ADJ'), ('growth', 'NOUN'), (',', '.'), (\"''\", '.'), ('a', 'DET'), ('process', 'NOUN'), ('discovered', 'VERB'), ('*', 'X'), ('earlier', 'ADJ'), ('at', 'ADP'), ('Bell', 'NOUN'), ('Laboratories', 'NOUN'), ('.', '.'), ('Over', 'ADP'), ('50', 'NUM'), ('witnesses', 'NOUN'), (',', '.'), ('mostly', 'ADV'), ('students', 'NOUN'), (',', '.'), ('were', 'VERB'), ('interviewed', 'VERB'), ('*-1', 'X'), ('.', '.'), ('The', 'DET'), ('panel', 'NOUN'), ('ruled', 'VERB'), ('that', 'ADP'), ('the', 'DET'), ('restrictions', 'NOUN'), ('do', 'VERB'), (\"n't\", 'ADV'), ('violate', 'VERB'), ('the', 'DET'), ('freedom', 'NOUN'), ('of', 'ADP'), ('speech', 'NOUN'), ('of', 'ADP'), ('health', 'NOUN'), ('care', 'NOUN'), ('providers', 'NOUN'), ('and', 'CONJ'), ('that', 'ADP'), ('the', 'DET'), ('limits', 'NOUN'), ('on', 'ADP'), ('counseling', 'NOUN'), ('services', 'NOUN'), ('do', 'VERB'), (\"n't\", 'ADV'), ('violate', 'VERB'), ('the', 'DET'), ('rights', 'NOUN'), ('of', 'ADP'), ('pregnant', 'ADJ'), ('women', 'NOUN'), ('.', '.'), ('Temple', 'NOUN'), (',', '.'), ('however', 'ADV'), (',', '.'), ('harshly', 'ADV'), ('criticized', 'VERB'), ('Sea', 'NOUN'), ('Containers', 'NOUN'), (\"'\", 'PRT'), ('plan', 'NOUN'), ('yesterday', 'NOUN'), (',', '.'), ('*-1', 'X'), ('characterizing', 'VERB'), ('it', 'PRON'), ('as', 'ADP'), ('a', 'DET'), ('``', '.'), ('highly', 'ADV'), ('conditional', 'ADJ'), ('device', 'NOUN'), ('designed', 'VERB'), ('*', 'X'), ('*-2', 'X'), ('to', 'PRT'), ('entrench', 'VERB'), ('management', 'NOUN'), (',', '.'), ('confuse', 'VERB'), ('shareholders', 'NOUN'), ('and', 'CONJ'), ('prevent', 'VERB'), ('them', 'PRON'), ('from', 'ADP'), ('*-3', 'X'), ('accepting', 'VERB'), ('our', 'PRON'), ('superior', 'ADJ'), ('cash', 'NOUN'), ('offer', 'NOUN'), ('.', '.'), (\"''\", '.'), ('Net', 'ADJ'), ('cash', 'NOUN'), ('income', 'NOUN'), ('--', '.'), ('the', 'DET'), ('amount', 'NOUN'), ('left', 'VERB'), ('*', 'X'), ('in', 'ADP'), ('farmers', 'NOUN'), (\"'\", 'PRT'), ('pockets', 'NOUN'), ('after', 'ADP'), ('*', 'X'), ('deducting', 'VERB'), ('expenses', 'NOUN'), ('from', 'ADP'), ('gross', 'ADJ'), ('cash', 'NOUN'), ('income', 'NOUN'), ('--', '.'), ('increased', 'VERB'), ('in', 'ADP'), ('33', 'NUM'), ('states', 'NOUN'), ('in', 'ADP'), ('1988', 'NUM'), (',', '.'), ('as', 'ADP'), ('the', 'DET'), ('drought', 'NOUN'), ('cut', 'VERB'), ('into', 'ADP'), ('crop', 'NOUN'), ('yields', 'NOUN'), ('and', 'CONJ'), ('drove', 'VERB'), ('up', 'PRT'), ('commodity', 'NOUN'), ('prices', 'NOUN'), (',', '.'), ('the', 'DET'), ('department', 'NOUN'), (\"'s\", 'PRT'), ('Economic', 'NOUN'), ('Research', 'NOUN'), ('Service', 'NOUN'), ('reported', 'VERB'), ('0', 'X'), ('*T*-1', 'X'), ('yesterday', 'NOUN'), ('.', '.'), ('The', 'DET'), ('32', 'NUM'), ('%', 'NOUN'), ('state-owned', 'ADJ'), ('DSM', 'NOUN'), ('had', 'VERB'), ('eight', 'NUM'), ('million', 'NUM'), ('guilders', 'NOUN'), ('of', 'ADP'), ('extraordinary', 'ADJ'), ('charges', 'NOUN'), ('in', 'ADP'), ('the', 'DET'), ('latest', 'ADJ'), ('quarter', 'NOUN'), (',', '.'), ('mainly', 'ADV'), ('*', 'X'), ('to', 'PRT'), ('reflect', 'VERB'), ('one-time', 'ADJ'), ('losses', 'NOUN'), ('in', 'ADP'), ('connection', 'NOUN'), ('with', 'ADP'), ('the', 'DET'), ('disposal', 'NOUN'), ('of', 'ADP'), ('some', 'DET'), ('operations', 'NOUN'), ('.', '.'), ('Wednesday', 'NOUN'), (\"'s\", 'PRT'), ('volume', 'NOUN'), ('on', 'ADP'), ('the', 'DET'), ('First', 'NOUN'), ('Section', 'NOUN'), ('was', 'VERB'), ('estimated', 'VERB'), ('*-1', 'X'), ('at', 'ADP'), ('900', 'NUM'), ('million', 'NUM'), ('shares', 'NOUN'), (',', '.'), ('in', 'ADP'), ('line', 'NOUN'), ('with', 'ADP'), ('Tuesday', 'NOUN'), (\"'s\", 'PRT'), ('909', 'NUM'), ('million', 'NUM'), ('.', '.'), ('While', 'ADP'), ('the', 'DET'), ('new', 'ADJ'), ('proposal', 'NOUN'), ('might', 'VERB'), ('appeal', 'VERB'), ('to', 'PRT'), ('the', 'DET'), ('dirtiest', 'ADJ'), ('utilities', 'NOUN'), (',', '.'), ('it', 'PRON'), ('might', 'VERB'), ('not', 'ADV'), ('win', 'VERB'), ('the', 'DET'), ('support', 'NOUN'), ('of', 'ADP'), ('utilities', 'NOUN'), (',', '.'), ('many', 'ADJ'), ('in', 'ADP'), ('the', 'DET'), ('West', 'NOUN'), (',', '.'), ('that', 'DET'), ('*T*-1', 'X'), ('already', 'ADV'), ('have', 'VERB'), ('added', 'VERB'), ('expensive', 'ADJ'), ('cleanup', 'NOUN'), ('equipment', 'NOUN'), ('or', 'CONJ'), ('burn', 'VERB'), ('cleaner-burning', 'ADJ'), ('fuels', 'NOUN'), ('.', '.'), ('Also', 'ADV'), (',', '.'), ('more', 'ADJ'), ('people', 'NOUN'), ('said', 'VERB'), ('0', 'X'), ('conditions', 'NOUN'), ('will', 'VERB'), ('worsen', 'VERB'), ('in', 'ADP'), ('the', 'DET'), ('period', 'NOUN'), ('.', '.'), ('The', 'DET'), ('new', 'ADJ'), ('plant', 'NOUN'), (',', '.'), ('located', 'VERB'), ('*', 'X'), ('in', 'ADP'), ('Chinchon', 'NOUN'), ('about', 'ADP'), ('60', 'NUM'), ('miles', 'NOUN'), ('from', 'ADP'), ('Seoul', 'NOUN'), (',', '.'), ('will', 'VERB'), ('help', 'VERB'), ('*-2', 'X'), ('meet', 'VERB'), ('increasing', 'VERB'), ('and', 'CONJ'), ('diversifying', 'VERB'), ('demand', 'NOUN'), ('for', 'ADP'), ('control', 'NOUN'), ('products', 'NOUN'), ('in', 'ADP'), ('South', 'NOUN'), ('Korea', 'NOUN'), (',', '.'), ('the', 'DET'), ('company', 'NOUN'), ('said', 'VERB'), ('0', 'X'), ('*T*-1', 'X'), ('.', '.'), ('``', '.'), ('You', 'PRON'), ('really', 'ADV'), ('need', 'VERB'), ('the', 'DET'), ('Campbell', 'NOUN'), ('Soups', 'NOUN'), ('of', 'ADP'), ('the', 'DET'), ('world', 'NOUN'), ('to', 'PRT'), ('be', 'VERB'), ('interested', 'ADJ'), ('in', 'ADP'), ('your', 'PRON'), ('magazine', 'NOUN'), ('if', 'ADP'), ('you', 'PRON'), (\"'re\", 'VERB'), ('going', 'VERB'), ('*-1', 'X'), ('to', 'PRT'), ('make', 'VERB'), ('a', 'DET'), ('run', 'NOUN'), ('of', 'ADP'), ('it', 'PRON'), (',', '.'), (\"''\", '.'), ('says', 'VERB'), ('*T*-2', 'X'), ('Mike', 'NOUN'), ('White', 'NOUN'), (',', '.'), ('senior', 'ADJ'), ('vice', 'NOUN'), ('president', 'NOUN'), ('and', 'CONJ'), ('media', 'NOUN'), ('director', 'NOUN'), ('at', 'ADP'), ('DDB', 'NOUN'), ('Needham', 'NOUN'), (',', '.'), ('Chicago', 'NOUN'), ('.', '.'), ('In', 'ADP'), ('addition', 'NOUN'), (',', '.'), ('the', 'DET'), ('Apple', 'NOUN'), ('II', 'NOUN'), ('was', 'VERB'), ('an', 'DET'), ('affordable', 'ADJ'), ('$', '.'), ('1,298', 'NUM'), ('*U*', 'X'), ('.', '.'), ('The', 'DET'), ('Japanese', 'NOUN'), ('fret', 'NOUN'), ('openly', 'ADV'), ('about', 'ADP'), ('the', 'DET'), ('U.S.', 'NOUN'), ('public', 'NOUN'), (\"'s\", 'PRT'), ('rancor', 'NOUN'), ('.', '.'), ('At', 'ADP'), ('the', 'DET'), ('same', 'ADJ'), ('time', 'NOUN'), (',', '.'), ('the', 'DET'), ('drop', 'NOUN'), ('in', 'ADP'), ('interest', 'NOUN'), ('rates', 'NOUN'), ('since', 'ADP'), ('the', 'DET'), ('spring', 'NOUN'), ('has', 'VERB'), ('failed', 'VERB'), ('*-1', 'X'), ('to', 'PRT'), ('revive', 'VERB'), ('the', 'DET'), ('residential', 'ADJ'), ('construction', 'NOUN'), ('industry', 'NOUN'), ('.', '.'), ('In', 'ADP'), ('Washington', 'NOUN'), (',', '.'), ('House', 'NOUN'), ('aides', 'NOUN'), ('said', 'VERB'), ('0', 'X'), ('Mr.', 'NOUN'), ('Phelan', 'NOUN'), ('told', 'VERB'), ('congressmen', 'NOUN'), ('that', 'ADP'), ('the', 'DET'), ('collar', 'NOUN'), (',', '.'), ('which', 'DET'), ('*T*-213', 'X'), ('banned', 'VERB'), ('program', 'NOUN'), ('trades', 'NOUN'), ('through', 'ADP'), ('the', 'DET'), ('Big', 'NOUN'), ('Board', 'NOUN'), (\"'s\", 'PRT'), ('computer', 'NOUN'), ('when', 'ADV'), ('the', 'DET'), ('Dow', 'NOUN'), ('Jones', 'NOUN'), ('Industrial', 'NOUN'), ('Average', 'NOUN'), ('moved', 'VERB'), ('50', 'NUM'), ('points', 'NOUN'), ('*T*-1', 'X'), (',', '.'), ('did', 'VERB'), (\"n't\", 'ADV'), ('work', 'VERB'), ('well', 'ADV'), ('.', '.'), ('The', 'DET'), ('ad', 'NOUN'), ('prompted', 'VERB'), ('Mr.', 'NOUN'), ('Coleman', 'NOUN'), (',', '.'), ('the', 'DET'), ('former', 'ADJ'), ('Virginia', 'NOUN'), ('attorney', 'NOUN'), ('general', 'NOUN'), (',', '.'), ('to', 'PRT'), ('launch', 'VERB'), ('a', 'DET'), ('series', 'NOUN'), ('of', 'ADP'), ('advertisements', 'NOUN'), ('created', 'VERB'), ('*', 'X'), ('by', 'ADP'), ('Bob', 'NOUN'), ('Goodman', 'NOUN'), ('and', 'CONJ'), ('designed', 'VERB'), ('*', 'X'), ('*-2', 'X'), ('to', 'PRT'), ('shake', 'VERB'), ('Mr.', 'NOUN'), ('Wilder', 'NOUN'), (\"'s\", 'PRT'), ('support', 'NOUN'), ('among', 'ADP'), ('the', 'DET'), ('very', 'ADJ'), ('women', 'NOUN'), ('who', 'PRON'), ('*T*-77', 'X'), ('were', 'VERB'), ('attracted', 'VERB'), ('*-1', 'X'), ('by', 'ADP'), ('the', 'DET'), ('abortion', 'NOUN'), ('ad', 'NOUN'), ('.', '.'), ('An', 'DET'), ('airline', 'NOUN'), ('buy-out', 'NOUN'), ('bill', 'NOUN'), ('was', 'VERB'), ('approved', 'VERB'), ('*-1', 'X'), ('by', 'ADP'), ('the', 'DET'), ('House', 'NOUN'), ('.', '.'), ('Manufacturers', 'NOUN'), (\"'\", 'PRT'), ('backlogs', 'NOUN'), ('of', 'ADP'), ('unfilled', 'ADJ'), ('orders', 'NOUN'), ('rose', 'VERB'), ('0.5', 'NUM'), ('%', 'NOUN'), ('in', 'ADP'), ('September', 'NOUN'), ('to', 'PRT'), ('$', '.'), ('497.34', 'NUM'), ('billion', 'NUM'), ('*U*', 'X'), (',', '.'), ('*-3', 'X'), ('helped', 'VERB'), ('*-2', 'X'), ('by', 'ADP'), ('strength', 'NOUN'), ('in', 'ADP'), ('the', 'DET'), ('defense', 'NOUN'), ('capital', 'NOUN'), ('goods', 'NOUN'), ('sector', 'NOUN'), ('.', '.'), ('``', '.'), ('There', 'DET'), (\"'s\", 'VERB'), ('a', 'DET'), ('price', 'NOUN'), ('above', 'ADP'), ('which', 'DET'), ('I', 'PRON'), (\"'m\", 'VERB'), ('positive', 'ADJ'), ('0', 'X'), ('Marshall', 'NOUN'), ('has', 'VERB'), ('the', 'DET'), ('courage', 'NOUN'), ('0', 'X'), ('*', 'X'), ('not', 'ADV'), ('to', 'PRT'), ('pay', 'VERB'), ('*T*-1', 'X'), ('*T*-3', 'X'), (',', '.'), (\"''\", '.'), ('says', 'VERB'), ('*T*-2', 'X'), ('A.D.', 'NOUN'), ('Correll', 'NOUN'), (',', '.'), ('Georgia-Pacific', 'NOUN'), (\"'s\", 'PRT'), ('executive', 'ADJ'), ('vice', 'NOUN'), ('president', 'NOUN'), ('for', 'ADP'), ('pulp', 'NOUN'), ('and', 'CONJ'), ('paper', 'NOUN'), ('.', '.'), ('In', 'ADP'), ('less', 'ADJ'), ('parched', 'VERB'), ('areas', 'NOUN'), (',', '.'), ('meanwhile', 'ADV'), (',', '.'), ('farmers', 'NOUN'), ('who', 'PRON'), ('*T*-43', 'X'), ('had', 'VERB'), ('little', 'ADJ'), ('or', 'CONJ'), ('no', 'DET'), ('loss', 'NOUN'), ('of', 'ADP'), ('production', 'NOUN'), ('profited', 'VERB'), ('greatly', 'ADV'), ('from', 'ADP'), ('the', 'DET'), ('higher', 'ADJ'), ('prices', 'NOUN'), ('.', '.'), ('Alan', 'NOUN'), ('F.', 'NOUN'), ('Shugart', 'NOUN'), (',', '.'), ('currently', 'ADV'), ('chairman', 'NOUN'), ('of', 'ADP'), ('Seagate', 'NOUN'), ('Technology', 'NOUN'), (',', '.'), ('led', 'VERB'), ('the', 'DET'), ('team', 'NOUN'), ('that', 'DET'), ('*T*-32', 'X'), ('developed', 'VERB'), ('the', 'DET'), ('disk', 'NOUN'), ('drives', 'NOUN'), ('for', 'ADP'), ('PCs', 'NOUN'), ('.', '.'), ('Prior', 'ADV'), ('to', 'PRT'), ('his', 'PRON'), ('term', 'NOUN'), (',', '.'), ('a', 'DET'), ('teacher', 'NOUN'), ('bled', 'VERB'), ('to', 'PRT'), ('death', 'NOUN'), ('in', 'ADP'), ('the', 'DET'), ('halls', 'NOUN'), (',', '.'), ('*-1', 'X'), ('stabbed', 'VERB'), ('*-2', 'X'), ('by', 'ADP'), ('a', 'DET'), ('student', 'NOUN'), ('.', '.'), ('Third', 'ADJ'), ('quarter', 'NOUN'), (',', '.'), ('Sept.', 'NOUN'), ('30', 'NUM'), (',', '.'), ('1989', 'NUM'), (':', '.'), ('Net', 'ADJ'), ('loss', 'NOUN'), (':', '.'), ('$', '.'), ('11.57', 'NUM'), ('*U*', 'X'), ('a', 'DET'), ('share', 'NOUN'), ('vs.', 'CONJ'), ('net', 'NOUN'), ('income', 'NOUN'), (':', '.'), ('37', 'NUM'), ('cents', 'NOUN'), ('a', 'DET'), ('share', 'NOUN'), ('Domestic', 'ADJ'), ('sales', 'NOUN'), ('of', 'ADP'), ('construction', 'NOUN'), ('machinery', 'NOUN'), (',', '.'), ('such', 'ADJ'), ('as', 'ADP'), ('power', 'NOUN'), ('shovels', 'NOUN'), ('and', 'CONJ'), ('bulldozers', 'NOUN'), ('rose', 'VERB'), ('to', 'PRT'), ('142.84', 'NUM'), ('billion', 'NUM'), ('yen', 'NOUN'), ('from', 'ADP'), ('126.15', 'NUM'), ('billion', 'NUM'), ('yen', 'NOUN'), ('.', '.'), ('Furukawa', 'NOUN'), ('Co.', 'NOUN'), ('of', 'ADP'), ('Japan', 'NOUN'), ('said', 'VERB'), ('0', 'X'), ('it', 'PRON'), ('will', 'VERB'), ('acquire', 'VERB'), ('two', 'NUM'), ('construction', 'NOUN'), ('machinery', 'NOUN'), ('plants', 'NOUN'), ('and', 'CONJ'), ('a', 'DET'), ('sales', 'NOUN'), ('unit', 'NOUN'), ('in', 'ADP'), ('France', 'NOUN'), ('formerly', 'ADV'), ('belonging', 'VERB'), ('to', 'PRT'), ('Dresser', 'NOUN'), ('Industries', 'NOUN'), ('Inc.', 'NOUN'), ('of', 'ADP'), ('the', 'DET'), ('U.S.', 'NOUN'), ('.', '.'), ('Under', 'ADP'), ('a', 'DET'), ('1934', 'NUM'), ('law', 'NOUN'), (',', '.'), ('the', 'DET'), ('Johnson', 'NOUN'), ('Debt', 'NOUN'), ('Default', 'NOUN'), ('Act', 'NOUN'), (',', '.'), ('as', 'ADV'), ('*', 'X'), ('amended', 'VERB'), ('*-1', 'X'), (',', '.'), ('it', 'PRON'), ('*EXP*-2', 'X'), (\"'s\", 'VERB'), ('illegal', 'ADJ'), ('for', 'ADP'), ('Americans', 'NOUN'), ('to', 'PRT'), ('extend', 'VERB'), ('credit', 'NOUN'), ('to', 'PRT'), ('countries', 'NOUN'), ('in', 'ADP'), ('default', 'NOUN'), ('to', 'PRT'), ('the', 'DET'), ('U.S.', 'NOUN'), ('government', 'NOUN'), (',', '.'), ('unless', 'ADP'), ('they', 'PRON'), ('are', 'VERB'), ('members', 'NOUN'), ('of', 'ADP'), ('the', 'DET'), ('World', 'NOUN'), ('Bank', 'NOUN'), ('and', 'CONJ'), ('International', 'NOUN'), ('Monetary', 'NOUN'), ('Fund', 'NOUN'), ('.', '.'), ('He', 'PRON'), ('succeeds', 'VERB'), ('James', 'NOUN'), ('A.', 'NOUN'), ('Taylor', 'NOUN'), (',', '.'), ('who', 'PRON'), ('*T*-1', 'X'), ('stepped', 'VERB'), ('down', 'PRT'), ('as', 'ADP'), ('chairman', 'NOUN'), (',', '.'), ('president', 'NOUN'), ('and', 'CONJ'), ('chief', 'NOUN'), ('executive', 'NOUN'), ('in', 'ADP'), ('March', 'NOUN'), ('for', 'ADP'), ('health', 'NOUN'), ('reasons', 'NOUN'), ('.', '.'), ('2', 'X'), ('.', '.'), ('*', 'X'), ('Take', 'VERB'), ('a', 'DET'), ('Hawaiian', 'ADJ'), ('vacation', 'NOUN'), ('.', '.'), ('The', 'DET'), ('department', 'NOUN'), (\"'s\", 'PRT'), ('Occupational', 'NOUN'), ('Safety', 'NOUN'), ('and', 'CONJ'), ('Health', 'NOUN'), ('Administration', 'NOUN'), ('proposed', 'VERB'), ('fines', 'NOUN'), ('of', 'ADP'), ('$', '.'), ('6.1', 'NUM'), ('million', 'NUM'), ('*U*', 'X'), ('for', 'ADP'), ('alleged', 'VERB'), ('violations', 'NOUN'), ('at', 'ADP'), ('the', 'DET'), ('company', 'NOUN'), (\"'s\", 'PRT'), ('Fairless', 'NOUN'), ('Hills', 'NOUN'), (',', '.'), ('Pa.', 'NOUN'), (',', '.'), ('steel', 'NOUN'), ('mill', 'NOUN'), (';', '.'), ('that', 'DET'), ('was', 'VERB'), ('a', 'DET'), ('record', 'NOUN'), ('for', 'ADP'), ('proposed', 'VERB'), ('penalties', 'NOUN'), ('at', 'ADP'), ('any', 'DET'), ('single', 'ADJ'), ('facility', 'NOUN'), ('.', '.'), ('The', 'DET'), ('last', 'ADJ'), ('thing', 'NOUN'), ('0', 'X'), ('they', 'PRON'), ('needed', 'VERB'), ('*T*-1', 'X'), ('was', 'VERB'), ('another', 'DET'), ('drag-down', 'ADJ'), ('blow', 'NOUN'), ('.', '.'), (\"''\", '.'), ('Not', 'ADV'), ('that', 'ADP'), ('Washington', 'NOUN'), ('and', 'CONJ'), ('Tokyo', 'NOUN'), ('disagree', 'VERB'), ('on', 'ADP'), ('the', 'DET'), ('Japanese', 'ADJ'), ('acquisitions', 'NOUN'), (';', '.'), ('indeed', 'ADV'), (',', '.'), ('each', 'DET'), ('has', 'VERB'), ('come', 'VERB'), ('out', 'PRT'), ('in', 'ADP'), ('favor', 'NOUN'), ('of', 'ADP'), ('unfettered', 'ADJ'), ('investment', 'NOUN'), ('in', 'ADP'), ('the', 'DET'), ('U.S.', 'NOUN'), ('.', '.'), ('The', 'DET'), ('Merc', 'NOUN'), ('said', 'VERB'), ('0', 'X'), ('that', 'DET'), ('five-point', 'ADJ'), ('limit', 'NOUN'), ('will', 'VERB'), ('remain', 'VERB'), ('in', 'ADP'), ('effect', 'NOUN'), ('for', 'ADP'), ('the', 'DET'), ('first', 'ADJ'), ('10', 'NUM'), ('minutes', 'NOUN'), ('of', 'ADP'), ('trading', 'NOUN'), ('.', '.'), ('Tokyo', 'NOUN'), ('stocks', 'NOUN'), ('edged', 'VERB'), ('up', 'ADP'), ('Wednesday', 'NOUN'), ('in', 'ADP'), ('relatively', 'ADV'), ('active', 'ADJ'), ('but', 'CONJ'), ('unfocused', 'ADJ'), ('trading', 'NOUN'), ('.', '.'), ('It', 'PRON'), ('rose', 'VERB'), ('7\\\\/8', 'NUM'), ('to', 'PRT'), ('18', 'NUM'), ('1\\\\/4', 'NUM'), ('.', '.'), ('``', '.'), ('We', 'PRON'), ('thought', 'VERB'), ('0', 'X'), ('it', 'PRON'), ('was', 'VERB'), ('awfully', 'ADV'), ('expensive', 'ADJ'), (',', '.'), (\"''\", '.'), ('said', 'VERB'), ('*T*-2', 'X'), ('Sterling', 'NOUN'), ('Pratt', 'NOUN'), (',', '.'), ('wine', 'NOUN'), ('director', 'NOUN'), ('at', 'ADP'), ('Schaefer', 'NOUN'), (\"'s\", 'PRT'), ('in', 'ADP'), ('Skokie', 'NOUN'), (',', '.'), ('Ill.', 'NOUN'), (',', '.'), ('one', 'NUM'), ('of', 'ADP'), ('the', 'DET'), ('top', 'ADJ'), ('stores', 'NOUN'), ('in', 'ADP'), ('suburban', 'ADJ'), ('Chicago', 'NOUN'), (',', '.'), ('``', '.'), ('but', 'CONJ'), ('there', 'DET'), ('are', 'VERB'), ('people', 'NOUN'), ('out', 'ADP'), ('there', 'ADV'), ('with', 'ADP'), ('very', 'ADV'), ('different', 'ADJ'), ('opinions', 'NOUN'), ('of', 'ADP'), ('value', 'NOUN'), ('.', '.'), ('Evidence', 'NOUN'), ('of', 'ADP'), ('widespread', 'ADJ'), ('cheating', 'NOUN'), ('has', 'VERB'), ('surfaced', 'VERB'), ('in', 'ADP'), ('several', 'ADJ'), ('states', 'NOUN'), ('in', 'ADP'), ('the', 'DET'), ('last', 'ADJ'), ('year', 'NOUN'), ('or', 'CONJ'), ('so', 'ADV'), ('.', '.'), ('``', '.'), ('He', 'PRON'), ('appears', 'VERB'), ('*-1', 'X'), ('to', 'PRT'), ('be', 'VERB'), ('in', 'ADP'), ('it', 'PRON'), ('for', 'ADP'), ('the', 'DET'), ('long', 'ADJ'), ('haul', 'NOUN'), ('.', '.'), (\"''\", '.'), ('All', 'DET'), ('came', 'VERB'), ('from', 'ADP'), ('Cray', 'NOUN'), ('Research', 'NOUN'), ('.', '.'), ('Nevertheless', 'ADV'), (',', '.'), ('both', 'DET'), ('Mr.', 'NOUN'), ('Guffey', 'NOUN'), ('and', 'CONJ'), ('Mr.', 'NOUN'), ('Black', 'NOUN'), ('say', 'VERB'), ('0', 'X'), ('the', 'DET'), ('slowdown', 'NOUN'), ('so', 'ADV'), ('far', 'ADV'), ('is', 'VERB'), ('no', 'DET'), ('cause', 'NOUN'), ('for', 'ADP'), ('concern', 'NOUN'), ('.', '.'), ('And', 'CONJ'), ('it', 'PRON'), ('*EXP*-2', 'X'), ('is', 'VERB'), (\"n't\", 'ADV'), ('clear', 'ADJ'), ('that', 'ADP'), ('the', 'DET'), ('Soviet', 'NOUN'), ('Union', 'NOUN'), ('will', 'VERB'), ('stay', 'VERB'), ('on', 'ADP'), ('its', 'PRON'), ('record', 'NOUN'), ('buying', 'VERB'), ('pace', 'NOUN'), ('.', '.'), ('The', 'DET'), ('concept', 'NOUN'), (\"'s\", 'PRT'), ('goal', 'NOUN'), ('was', 'VERB'), ('*', 'X'), ('to', 'PRT'), ('eliminate', 'VERB'), ('bureaucracy', 'NOUN'), ('and', 'CONJ'), ('make', 'VERB'), ('Ford', 'NOUN'), (\"'s\", 'PRT'), ('product', 'NOUN'), ('development', 'NOUN'), ('more', 'ADV'), ('responsive', 'ADJ'), ('to', 'PRT'), ('consumer', 'NOUN'), ('demands', 'NOUN'), ('.', '.'), ('Estimated', 'VERB'), ('and', 'CONJ'), ('actual', 'ADJ'), ('results', 'NOUN'), ('involving', 'VERB'), ('losses', 'NOUN'), ('are', 'VERB'), ('omitted', 'VERB'), ('*-1', 'X'), ('.', '.'), ('There', 'DET'), ('is', 'VERB'), ('$', '.'), ('81.8', 'NUM'), ('million', 'NUM'), ('*U*', 'X'), ('of', 'ADP'), ('7.20', 'NUM'), ('%', 'NOUN'), ('term', 'NOUN'), ('bonds', 'NOUN'), ('due', 'ADJ'), ('2009', 'NUM'), ('priced', 'VERB'), ('*', 'X'), ('at', 'ADP'), ('99', 'NUM'), ('1\\\\/4', 'NUM'), ('*', 'X'), ('to', 'PRT'), ('yield', 'VERB'), ('7.272', 'NUM'), ('%', 'NOUN'), ('.', '.'), ('``', '.'), ('Do', 'VERB'), ('I', 'PRON'), ('have', 'VERB'), ('much', 'ADJ'), ('sympathy', 'NOUN'), ('for', 'ADP'), ('her', 'PRON'), ('?', '.'), (\"''\", '.'), ('Mr.', 'NOUN'), ('Watson', 'NOUN'), ('asks', 'VERB'), ('*T*-1', 'X'), ('.', '.'), ('But', 'CONJ'), ('he', 'PRON'), ('also', 'ADV'), ('showed', 'VERB'), ('a', 'DET'), ('willingness', 'NOUN'), ('*-1', 'X'), ('to', 'PRT'), ('take', 'VERB'), ('a', 'DET'), ('strong', 'ADJ'), ('stand', 'NOUN'), ('.', '.'), ('The', 'DET'), ('record', 'NOUN'), ('corn-buying', 'ADJ'), ('binge', 'NOUN'), ('by', 'ADP'), ('the', 'DET'), ('Soviet', 'NOUN'), ('Union', 'NOUN'), ('is', 'VERB'), ('causing', 'VERB'), ('serious', 'ADJ'), ('bottlenecks', 'NOUN'), ('in', 'ADP'), ('the', 'DET'), ('U.S.', 'NOUN'), ('grain', 'NOUN'), ('pipeline', 'NOUN'), ('.', '.'), ('To', 'PRT'), ('the', 'DET'), ('surprise', 'NOUN'), ('of', 'ADP'), ('some', 'DET'), ('analysts', 'NOUN'), (',', '.'), ('net', 'ADJ'), ('cash', 'NOUN'), ('income', 'NOUN'), ('rose', 'VERB'), ('in', 'ADP'), ('some', 'DET'), ('of', 'ADP'), ('the', 'DET'), ('hardest-hit', 'ADJ'), ('states', 'NOUN'), (',', '.'), ('including', 'VERB'), ('Indiana', 'NOUN'), (',', '.'), ('Illinois', 'NOUN'), (',', '.'), ('Nebraska', 'NOUN'), ('and', 'CONJ'), ('the', 'DET'), ('Dakotas', 'NOUN'), ('.', '.'), ('The', 'DET'), ('indexers', 'NOUN'), ('charge', 'VERB'), ('only', 'ADV'), ('a', 'DET'), ('few', 'ADJ'), ('pennies', 'NOUN'), ('per', 'ADP'), ('$', '.'), ('100', 'NUM'), ('*U*', 'X'), ('managed', 'VERB'), ('*', 'X'), ('.', '.'), ('So', 'ADP'), ('far', 'ADV'), (',', '.'), ('they', 'PRON'), ('said', 'VERB'), ('0', 'X'), ('*T*-2', 'X'), (',', '.'), ('investors', 'NOUN'), ('appear', 'VERB'), ('unenthusiastic', 'ADJ'), ('about', 'ADP'), ('the', 'DET'), ('new', 'ADJ'), ('issue', 'NOUN'), ('which', 'DET'), ('*T*-1', 'X'), ('might', 'VERB'), ('force', 'VERB'), ('the', 'DET'), ('government', 'NOUN'), ('to', 'PRT'), ('raise', 'VERB'), ('the', 'DET'), ('coupon', 'NOUN'), ('to', 'PRT'), ('more', 'ADJ'), ('than', 'ADP'), ('7', 'NUM'), ('%', 'NOUN'), ('.', '.'), ('That', 'DET'), ('commercial', 'ADJ'), ('--', '.'), ('which', 'DET'), ('*T*-76', 'X'), ('said', 'VERB'), ('0', 'X'), ('Mr.', 'NOUN'), ('Coleman', 'NOUN'), ('wanted', 'VERB'), ('*-1', 'X'), ('to', 'PRT'), ('take', 'VERB'), ('away', 'PRT'), ('the', 'DET'), ('right', 'NOUN'), ('of', 'ADP'), ('abortion', 'NOUN'), ('``', '.'), ('even', 'ADV'), ('in', 'ADP'), ('cases', 'NOUN'), ('of', 'ADP'), ('rape', 'NOUN'), ('and', 'CONJ'), ('incest', 'NOUN'), (',', '.'), (\"''\", '.'), ('a', 'DET'), ('charge', 'NOUN'), ('0', 'X'), ('Mr.', 'NOUN'), ('Coleman', 'NOUN'), ('denies', 'VERB'), ('*T*-2', 'X'), ('--', '.'), ('changed', 'VERB'), ('the', 'DET'), ('dynamics', 'NOUN'), ('of', 'ADP'), ('the', 'DET'), ('campaign', 'NOUN'), (',', '.'), ('*-3', 'X'), ('transforming', 'VERB'), ('it', 'PRON'), (',', '.'), ('at', 'ADP'), ('least', 'ADJ'), ('in', 'ADP'), ('part', 'NOUN'), (',', '.'), ('into', 'ADP'), ('a', 'DET'), ('referendum', 'NOUN'), ('on', 'ADP'), ('abortion', 'NOUN'), ('.', '.'), ('The', 'DET'), ('company', 'NOUN'), ('said', 'VERB'), ('0', 'X'), ('the', 'DET'), ('restructuring', 'NOUN'), ('is', 'VERB'), (\"n't\", 'ADV'), ('expected', 'VERB'), ('*-1', 'X'), ('to', 'PRT'), ('have', 'VERB'), ('any', 'DET'), ('impact', 'NOUN'), (',', '.'), ('adverse', 'ADJ'), ('or', 'CONJ'), ('otherwise', 'ADV'), (',', '.'), ('on', 'ADP'), ('its', 'PRON'), ('financial', 'ADJ'), ('results', 'NOUN'), ('.', '.'), ('A', 'DET'), ('House', 'NOUN'), ('aide', 'NOUN'), ('suggested', 'VERB'), ('that', 'ADP'), ('Mr.', 'NOUN'), ('Phelan', 'NOUN'), ('was', 'VERB'), ('so', 'ADV'), ('``', '.'), ('vague', 'ADJ'), ('and', 'CONJ'), ('mushy', 'ADJ'), (\"''\", '.'), ('that', 'ADP'), ('it', 'PRON'), ('was', 'VERB'), ('the', 'DET'), ('kind', 'NOUN'), ('of', 'ADP'), ('meeting', 'NOUN'), ('where', 'ADV'), ('people', 'NOUN'), ('of', 'ADP'), ('all', 'DET'), ('viewpoints', 'NOUN'), ('could', 'VERB'), ('``', '.'), ('come', 'VERB'), ('out', 'ADV'), ('*-2', 'X'), ('feeling', 'VERB'), ('good', 'ADJ'), ('*T*-1', 'X'), ('.', '.'), (\"''\", '.'), ('Mr.', 'NOUN'), ('Spiegel', 'NOUN'), (\"'s\", 'PRT'), ('next', 'ADJ'), ('career', 'NOUN'), ('move', 'NOUN'), ('is', 'VERB'), ('a', 'DET'), ('subject', 'NOUN'), ('of', 'ADP'), ('speculation', 'NOUN'), ('on', 'ADP'), ('Wall', 'NOUN'), ('Street', 'NOUN'), ('.', '.'), ('A', 'DET'), ('series', 'NOUN'), ('of', 'ADP'), ('5,000', 'NUM'), ('or', 'CONJ'), ('so', 'ADV'), ('changes', 'NOUN'), ('is', 'VERB'), ('a', 'DET'), ('``', '.'), ('peal', 'NOUN'), (\"''\", '.'), ('and', 'CONJ'), ('takes', 'VERB'), ('about', 'ADV'), ('three', 'NUM'), ('hours', 'NOUN'), ('.', '.'), ('But', 'CONJ'), ('she', 'PRON'), ('believes', 'VERB'), ('that', 'ADP'), ('``', '.'), ('program', 'NOUN'), ('trading', 'NOUN'), ('creates', 'VERB'), ('deviant', 'ADJ'), ('swings', 'NOUN'), ('.', '.'), ('Fujitsu', 'NOUN'), ('said', 'VERB'), ('0', 'X'), ('it', 'PRON'), ('bid', 'VERB'), ('the', 'DET'), ('equivalent', 'NOUN'), ('of', 'ADP'), ('less', 'ADJ'), ('than', 'ADP'), ('a', 'DET'), ('U.S.', 'NOUN'), ('penny', 'NOUN'), ('on', 'ADP'), ('three', 'NUM'), ('separate', 'ADJ'), ('municipal', 'ADJ'), ('contracts', 'NOUN'), ('during', 'ADP'), ('the', 'DET'), ('past', 'ADJ'), ('two', 'NUM'), ('years', 'NOUN'), ('.', '.'), ('U.S.', 'NOUN'), ('trade', 'NOUN'), ('officials', 'NOUN'), ('said', 'VERB'), ('0', 'X'), ('the', 'DET'), ('Philippines', 'NOUN'), ('and', 'CONJ'), ('Thailand', 'NOUN'), ('would', 'VERB'), ('be', 'VERB'), ('the', 'DET'), ('main', 'ADJ'), ('beneficiaries', 'NOUN'), ('of', 'ADP'), ('the', 'DET'), ('president', 'NOUN'), (\"'s\", 'PRT'), ('action', 'NOUN'), ('.', '.'), ('That', 'DET'), (\"'s\", 'VERB'), ('almost', 'ADV'), ('$', '.'), ('10', 'NUM'), ('*U*', 'X'), ('of', 'ADP'), ('equity', 'NOUN'), ('for', 'ADP'), ('each', 'DET'), ('Columbia', 'NOUN'), ('share', 'NOUN'), (',', '.'), ('including', 'VERB'), ('convertible', 'ADJ'), ('preferred', 'ADJ'), ('shares', 'NOUN'), (',', '.'), ('though', 'ADP'), ('more', 'ADJ'), ('junk', 'NOUN'), ('markdowns', 'NOUN'), ('would', 'VERB'), ('reduce', 'VERB'), ('the', 'DET'), ('cushion', 'NOUN'), ('.', '.'), ('The', 'DET'), ('following', 'VERB'), ('were', 'VERB'), ('among', 'ADP'), ('yesterday', 'NOUN'), (\"'s\", 'PRT'), ('offerings', 'NOUN'), ('and', 'CONJ'), ('pricings', 'NOUN'), ('in', 'ADP'), ('the', 'DET'), ('U.S.', 'NOUN'), ('and', 'CONJ'), ('non-U.S.', 'NOUN'), ('capital', 'NOUN'), ('markets', 'NOUN'), (',', '.'), ('with', 'ADP'), ('terms', 'NOUN'), ('and', 'CONJ'), ('syndicate', 'NOUN'), ('manager', 'NOUN'), (',', '.'), ('as', 'ADP'), ('*', 'X'), ('compiled', 'VERB'), ('*-1', 'X'), ('by', 'ADP'), ('Dow', 'NOUN'), ('Jones', 'NOUN'), ('Capital', 'NOUN'), ('Markets', 'NOUN'), ('Report', 'NOUN'), (':', '.'), ('Most', 'ADJ'), ('of', 'ADP'), ('those', 'DET'), ('states', 'NOUN'), ('set', 'VERB'), ('farm', 'NOUN'), ('income', 'NOUN'), ('records', 'NOUN'), ('.', '.'), ('In', 'ADP'), ('this', 'DET'), ('era', 'NOUN'), ('of', 'ADP'), ('frantic', 'ADJ'), ('competition', 'NOUN'), ('for', 'ADP'), ('ad', 'NOUN'), ('dollars', 'NOUN'), (',', '.'), ('a', 'DET'), ('lot', 'NOUN'), ('of', 'ADP'), ('revenue-desperate', 'ADJ'), ('magazines', 'NOUN'), ('are', 'VERB'), ('getting', 'VERB'), ('pretty', 'ADV'), ('cozy', 'ADJ'), ('with', 'ADP'), ('advertisers', 'NOUN'), ('--', '.'), ('*-1', 'X'), ('fawning', 'VERB'), ('over', 'ADP'), ('them', 'PRON'), ('in', 'ADP'), ('articles', 'NOUN'), ('and', 'CONJ'), ('offering', 'VERB'), ('pages', 'NOUN'), ('of', 'ADP'), ('advertorial', 'ADJ'), ('space', 'NOUN'), ('.', '.'), ('The', 'DET'), ('first', 'ADJ'), ('two', 'NUM'), ('issues', 'NOUN'), ('featured', 'VERB'), ('ads', 'NOUN'), ('from', 'ADP'), ('only', 'ADV'), ('a', 'DET'), ('handful', 'NOUN'), ('of', 'ADP'), ('big', 'ADJ'), ('advertisers', 'NOUN'), (',', '.'), ('including', 'VERB'), ('General', 'NOUN'), ('Electric', 'NOUN'), ('and', 'CONJ'), ('Adolph', 'NOUN'), ('Coors', 'NOUN'), (',', '.'), ('but', 'CONJ'), ('the', 'DET'), ('majority', 'NOUN'), ('were', 'VERB'), ('from', 'ADP'), ('companies', 'NOUN'), ('like', 'ADP'), ('Waste', 'NOUN'), ('Management', 'NOUN'), ('Inc.', 'NOUN'), ('and', 'CONJ'), ('Bumkins', 'NOUN'), ('International', 'NOUN'), (',', '.'), ('firms', 'NOUN'), ('that', 'DET'), ('*T*-154', 'X'), ('do', 'VERB'), (\"n't\", 'ADV'), ('spend', 'VERB'), ('much', 'ADJ'), ('money', 'NOUN'), ('*-1', 'X'), ('advertising', 'VERB'), ('and', 'CONJ'), ('ca', 'VERB'), (\"n't\", 'ADV'), ('be', 'VERB'), ('relied', 'VERB'), ('on', 'ADP'), ('*-1', 'X'), ('*-1', 'X'), ('to', 'PRT'), ('support', 'VERB'), ('a', 'DET'), ('magazine', 'NOUN'), ('over', 'ADP'), ('the', 'DET'), ('long', 'ADJ'), ('haul', 'NOUN'), ('.', '.'), ('Mr.', 'NOUN'), ('Rowe', 'NOUN'), ('also', 'ADV'), ('noted', 'VERB'), ('that', 'ADP'), ('political', 'ADJ'), ('concerns', 'NOUN'), ('also', 'ADV'), ('worried', 'VERB'), ('New', 'NOUN'), ('England', 'NOUN'), ('Electric', 'NOUN'), ('.', '.'), ('One', 'NUM'), ('indicator', 'NOUN'), ('0', 'X'), ('investors', 'NOUN'), ('might', 'VERB'), ('want', 'VERB'), ('*-2', 'X'), ('to', 'PRT'), ('watch', 'VERB'), ('*T*-1', 'X'), ('is', 'VERB'), ('the', 'DET'), ('monthly', 'ADJ'), ('tally', 'NOUN'), ('from', 'ADP'), ('Standard', 'NOUN'), ('&', 'CONJ'), ('Poor', 'NOUN'), (\"'s\", 'PRT'), ('of', 'ADP'), ('the', 'DET'), ('number', 'NOUN'), ('of', 'ADP'), ('public', 'ADJ'), ('companies', 'NOUN'), ('adjusting', 'VERB'), ('their', 'PRON'), ('dividends', 'NOUN'), ('.', '.'), ('*-4', 'X'), ('A', 'DET'), ('high-balance', 'ADJ'), ('customer', 'NOUN'), ('that', 'ADP'), ('banks', 'NOUN'), ('pine', 'VERB'), ('for', 'PRT'), ('*T*-1', 'X'), (',', '.'), ('she', 'PRON'), ('did', 'VERB'), (\"n't\", 'ADV'), ('give', 'VERB'), ('much', 'ADJ'), ('thought', 'NOUN'), ('to', 'PRT'), ('the', 'DET'), ('rates', 'NOUN'), ('0', 'X'), ('she', 'PRON'), ('was', 'VERB'), ('receiving', 'VERB'), ('*T*-2', 'X'), (',', '.'), ('nor', 'CONJ'), ('to', 'PRT'), ('the', 'DET'), ('fees', 'NOUN'), ('0', 'X'), ('she', 'PRON'), ('was', 'VERB'), ('paying', 'VERB'), ('*T*-3', 'X'), ('.', '.'), ('``', '.'), ('This', 'DET'), ('stadium', 'NOUN'), ('shows', 'VERB'), ('that', 'ADP'), ('anything', 'NOUN'), ('0', 'X'), ('government', 'NOUN'), ('can', 'VERB'), ('do', 'VERB'), ('*T*-2', 'X'), (',', '.'), ('we', 'PRON'), ('can', 'VERB'), ('do', 'VERB'), ('*-3', 'X'), ('better', 'ADV'), (',', '.'), (\"''\", '.'), ('Mr.', 'NOUN'), ('Robbie', 'NOUN'), ('says', 'VERB'), ('*T*-1', 'X'), ('.', '.'), ('I', 'PRON'), ('loved', 'VERB'), ('the', 'DET'), ('school', 'NOUN'), (',', '.'), ('its', 'PRON'), ('history', 'NOUN'), ('.', '.'), ('Mr.', 'NOUN'), ('Riese', 'NOUN'), ('says', 'VERB'), ('0', 'X'), ('American', 'NOUN'), ('Express', 'NOUN'), ('considers', 'VERB'), ('GM', 'NOUN'), ('and', 'CONJ'), ('Buick', 'NOUN'), ('``', '.'), ('very', 'ADV'), ('sophisticated', 'ADJ'), ('direct-mail', 'ADJ'), ('marketers', 'NOUN'), (',', '.'), (\"''\", '.'), ('so', 'ADP'), ('``', '.'), ('by', 'ADP'), ('*-1', 'X'), ('joining', 'VERB'), ('forces', 'NOUN'), ('with', 'ADP'), ('them', 'PRON'), ('we', 'PRON'), ('have', 'VERB'), ('managed', 'VERB'), ('*-1', 'X'), ('to', 'PRT'), ('maximize', 'VERB'), ('our', 'PRON'), ('direct-mail', 'ADJ'), ('capability', 'NOUN'), ('.', '.'), (\"''\", '.'), ('Svenska', 'NOUN'), ('Intecknings', 'NOUN'), ('Garanti', 'NOUN'), ('Aktiebolaget', 'NOUN'), ('-LRB-', '.'), ('Sweden', 'NOUN'), ('-RRB-', '.'), ('--', '.'), ('In', 'ADP'), ('separate', 'ADJ'), ('floor', 'NOUN'), ('action', 'NOUN'), (',', '.'), ('the', 'DET'), ('House', 'NOUN'), ('waived', 'VERB'), ('budget', 'NOUN'), ('restrictions', 'NOUN'), ('and', 'CONJ'), ('gave', 'VERB'), ('quick', 'ADJ'), ('approval', 'NOUN'), ('to', 'PRT'), ('$', '.'), ('3.18', 'NUM'), ('billion', 'NUM'), ('*U*', 'X'), ('in', 'ADP'), ('supplemental', 'ADJ'), ('appropriations', 'NOUN'), ('for', 'ADP'), ('law', 'NOUN'), ('enforcement', 'NOUN'), ('and', 'CONJ'), ('anti-drug', 'ADJ'), ('programs', 'NOUN'), ('in', 'ADP'), ('fiscal', 'ADJ'), ('1990', 'NUM'), ('.', '.'), ('Spreads', 'NOUN'), ('will', 'VERB'), ('become', 'VERB'), ('so', 'ADV'), ('tight', 'ADV'), ('that', 'ADP'), ('it', 'PRON'), ('wo', 'VERB'), (\"n't\", 'ADV'), ('matter', 'VERB'), ('which', 'DET'), ('market', 'NOUN'), ('an', 'DET'), ('investor', 'NOUN'), ('chooses', 'VERB'), ('*T*-79', 'X'), ('--', '.'), ('arbitrage', 'NOUN'), ('will', 'VERB'), ('prevent', 'VERB'), ('him', 'PRON'), ('from', 'ADP'), ('*-1', 'X'), ('gaining', 'VERB'), ('any', 'DET'), ('temporary', 'ADJ'), ('profit', 'NOUN'), ('.', '.'), ('``', '.'), ('I', 'PRON'), (\"'ve\", 'VERB'), ('never', 'ADV'), ('seen', 'VERB'), ('so', 'ADP'), ('many', 'ADJ'), ('people', 'NOUN'), ('crying', 'VERB'), ('in', 'ADP'), ('one', 'NUM'), ('place', 'NOUN'), ('at', 'ADP'), ('one', 'NUM'), ('time', 'NOUN'), (',', '.'), (\"''\", '.'), ('said', 'VERB'), ('*T*-1', 'X'), ('Bill', 'NOUN'), ('Johnson', 'NOUN'), (',', '.'), ('an', 'DET'), ('assistant', 'ADJ'), ('city', 'NOUN'), ('editor', 'NOUN'), ('.', '.'), ('The', 'DET'), ('Los', 'NOUN'), ('Angeles', 'NOUN'), ('Times', 'NOUN'), (',', '.'), ('with', 'ADP'), ('a', 'DET'), ('circulation', 'NOUN'), ('of', 'ADP'), ('more', 'ADJ'), ('than', 'ADP'), ('1.1', 'NUM'), ('million', 'NUM'), (',', '.'), ('dominates', 'VERB'), ('the', 'DET'), ('region', 'NOUN'), ('.', '.'), ('In', 'ADP'), ('every', 'DET'), ('major', 'ADJ'), ('market', 'NOUN'), ('in', 'ADP'), ('the', 'DET'), ('U.S.', 'NOUN'), (',', '.'), ('for', 'ADP'), ('instance', 'NOUN'), (',', '.'), ('you', 'PRON'), ('can', 'VERB'), ('buy', 'VERB'), (\"'86\", 'NUM'), ('La', 'NOUN'), ('Tache', 'NOUN'), ('or', 'CONJ'), ('Richebourg', 'NOUN'), (',', '.'), ('virtually', 'ADV'), ('all', 'DET'), ('of', 'ADP'), ('the', 'DET'), ('first', 'ADJ'), ('growth', 'NOUN'), ('Bordeaux', 'NOUN'), ('-LRB-', '.'), ('except', 'ADP'), ('Petrus', 'NOUN'), ('-RRB-', '.'), (',', '.'), ('as', 'ADV'), ('well', 'ADV'), ('as', 'ADP'), ('Opus', 'NOUN'), ('One', 'NUM'), ('and', 'CONJ'), ('Dominus', 'NOUN'), ('from', 'ADP'), ('California', 'NOUN'), ('and', 'CONJ'), (',', '.'), ('at', 'ADP'), ('the', 'DET'), ('moment', 'NOUN'), (',', '.'), ('the', 'DET'), ('Stag', 'NOUN'), (\"'s\", 'PRT'), ('Leap', 'NOUN'), ('1985', 'NUM'), ('Cask', 'NOUN'), ('23', 'NUM'), ('.', '.'), ('While', 'ADP'), ('*-1', 'X'), ('neither', 'DET'), ('admitting', 'VERB'), ('nor', 'CONJ'), ('denying', 'VERB'), ('wrongdoing', 'NOUN'), (',', '.'), ('Triton', 'NOUN'), ('and', 'CONJ'), ('Mr.', 'NOUN'), ('Chase', 'NOUN'), ('consented', 'VERB'), ('to', 'PRT'), ('findings', 'NOUN'), ('of', 'ADP'), ('violations', 'NOUN'), ('in', 'ADP'), ('connection', 'NOUN'), ('with', 'ADP'), ('limited-partnership', 'NOUN'), ('sales', 'NOUN'), ('.', '.'), ('``', '.'), ('The', 'DET'), ('First', 'NOUN'), ('Amendment', 'NOUN'), ('proscribes', 'VERB'), ('the', 'DET'), ('government', 'NOUN'), ('from', 'ADP'), ('*-2', 'X'), ('passing', 'VERB'), ('laws', 'NOUN'), ('abridging', 'VERB'), ('the', 'DET'), ('right', 'NOUN'), ('to', 'PRT'), ('free', 'ADJ'), ('speech', 'NOUN'), (',', '.'), (\"''\", '.'), ('Judge', 'NOUN'), ('Donald', 'NOUN'), (\"O'Brien\", 'NOUN'), ('ruled', 'VERB'), ('*T*-1', 'X'), ('.', '.'), ('In', 'ADP'), ('a', 'DET'), ('monthly', 'ADJ'), ('report', 'NOUN'), ('prepared', 'VERB'), ('*', 'X'), ('for', 'ADP'), ('use', 'NOUN'), ('at', 'ADP'), ('the', 'DET'), ('Fed', 'NOUN'), (\"'s\", 'PRT'), ('next', 'ADJ'), ('Federal', 'NOUN'), ('Open', 'NOUN'), ('Market', 'NOUN'), ('Committee', 'NOUN'), ('meeting', 'NOUN'), ('on', 'ADP'), ('Nov.', 'NOUN'), ('14.', 'NUM'), (',', '.'), ('the', 'DET'), ('nation', 'NOUN'), (\"'s\", 'PRT'), ('central', 'ADJ'), ('bank', 'NOUN'), ('found', 'VERB'), ('that', 'ADP'), ('price', 'NOUN'), ('increases', 'NOUN'), ('have', 'VERB'), ('moderated', 'VERB'), ('and', 'CONJ'), ('economic', 'ADJ'), ('activity', 'NOUN'), ('has', 'VERB'), ('grown', 'VERB'), ('at', 'ADP'), ('a', 'DET'), ('sluggish', 'ADJ'), ('pace', 'NOUN'), ('in', 'ADP'), ('recent', 'ADJ'), ('weeks', 'NOUN'), ('.', '.'), ('Policies', 'NOUN'), ('designed', 'VERB'), ('*', 'X'), ('to', 'PRT'), ('encourage', 'VERB'), ('one', 'NUM'), ('type', 'NOUN'), ('of', 'ADP'), ('investor', 'NOUN'), ('over', 'ADP'), ('another', 'DET'), ('are', 'VERB'), ('akin', 'ADJ'), ('to', 'PRT'), ('*', 'X'), ('placing', 'VERB'), ('a', 'DET'), ('sign', 'NOUN'), ('*ICH*-1', 'X'), ('over', 'ADP'), ('the', 'DET'), ('Big', 'NOUN'), ('Board', 'NOUN'), (\"'s\", 'PRT'), ('door', 'NOUN'), ('saying', 'VERB'), (':', '.'), ('``', '.'), ('Buyers', 'NOUN'), ('welcome', 'VERB'), (',', '.'), ('sellers', 'NOUN'), ('please', 'VERB'), ('*', 'X'), ('go', 'VERB'), ('away', 'ADV'), ('!', '.'), (\"''\", '.'), ('Inventories', 'NOUN'), ('are', 'VERB'), ('closely', 'ADV'), ('watched', 'VERB'), ('*-1', 'X'), ('for', 'ADP'), ('such', 'ADJ'), ('clues', 'NOUN'), (',', '.'), ('for', 'ADP'), ('instance', 'NOUN'), ('.', '.'), ('It', 'PRON'), (\"'s\", 'VERB'), ('the', 'DET'), ('petulant', 'ADJ'), ('complaint', 'NOUN'), ('of', 'ADP'), ('an', 'DET'), ('impudent', 'ADJ'), ('American', 'NOUN'), ('whom', 'PRON'), ('Sony', 'NOUN'), ('hosted', 'VERB'), ('*T*-58', 'X'), ('for', 'ADP'), ('a', 'DET'), ('year', 'NOUN'), ('while', 'ADP'), ('he', 'PRON'), ('was', 'VERB'), ('on', 'ADP'), ('a', 'DET'), ('Luce', 'NOUN'), ('Fellowship', 'NOUN'), ('in', 'ADP'), ('Tokyo', 'NOUN'), ('--', '.'), ('to', 'ADP'), ('the', 'DET'), ('regret', 'NOUN'), ('of', 'ADP'), ('both', 'DET'), ('parties', 'NOUN'), ('.', '.'), ('It', 'PRON'), ('all', 'DET'), ('adds', 'VERB'), ('up', 'PRT'), ('to', 'PRT'), ('a', 'DET'), ('barrier', 'NOUN'), ('to', 'PRT'), ('American-style', 'ADJ'), ('index', 'NOUN'), ('arbitrage', 'NOUN'), (',', '.'), ('the', 'DET'), ('most', 'ADV'), ('popular', 'ADJ'), ('form', 'NOUN'), ('of', 'ADP'), ('U.S.', 'NOUN'), ('program', 'NOUN'), ('trading', 'NOUN'), ('that', 'DET'), ('*T*-253', 'X'), ('seeks', 'VERB'), ('*-1', 'X'), ('to', 'PRT'), ('exploit', 'VERB'), ('brief', 'ADJ'), ('differences', 'NOUN'), ('between', 'ADP'), ('prices', 'NOUN'), ('of', 'ADP'), ('stocks', 'NOUN'), ('in', 'ADP'), ('New', 'NOUN'), ('York', 'NOUN'), ('and', 'CONJ'), ('the', 'DET'), ('price', 'NOUN'), ('of', 'ADP'), ('a', 'DET'), ('futures', 'NOUN'), ('contract', 'NOUN'), ('in', 'ADP'), ('Chicago', 'NOUN'), ('based', 'VERB'), ('on', 'ADP'), ('those', 'DET'), ('stocks', 'NOUN'), ('.', '.'), ('Not', 'ADV'), ('surprisingly', 'ADV'), (',', '.'), ('old-style', 'ADJ'), ('money', 'NOUN'), ('managers', 'NOUN'), ('have', 'VERB'), ('been', 'VERB'), ('losing', 'VERB'), ('clients', 'NOUN'), ('to', 'PRT'), ('giant', 'ADJ'), ('stock-index', 'NOUN'), ('funds', 'NOUN'), ('that', 'DET'), ('*T*-1', 'X'), ('use', 'VERB'), ('computers', 'NOUN'), ('*-2', 'X'), ('to', 'PRT'), ('juggle', 'VERB'), ('portfolios', 'NOUN'), ('so', 'ADP'), ('they', 'PRON'), ('mirror', 'VERB'), ('the', 'DET'), ('S&P', 'NOUN'), ('500', 'NUM'), ('.', '.'), ('In', 'ADP'), ('composite', 'ADJ'), ('New', 'NOUN'), ('York', 'NOUN'), ('Stock', 'NOUN'), ('Exchange', 'NOUN'), ('trading', 'NOUN'), (',', '.'), ('the', 'DET'), ('shares', 'NOUN'), ('closed', 'VERB'), ('at', 'ADP'), ('$', '.'), ('177', 'NUM'), ('*U*', 'X'), (',', '.'), ('up', 'ADV'), ('$', '.'), ('1.50', 'NUM'), ('*U*', 'X'), ('.', '.'), ('Spirit', 'NOUN'), ('of', 'ADP'), ('Perestroika', 'X'), ('Touches', 'VERB'), ('Design', 'NOUN'), ('World', 'NOUN'), ('Much', 'ADV'), ('of', 'ADP'), ('Mr.', 'NOUN'), ('Lane', 'NOUN'), (\"'s\", 'PRT'), ('film', 'NOUN'), ('takes', 'VERB'), ('a', 'DET'), ('highly', 'ADV'), ('romanticized', 'VERB'), ('view', 'NOUN'), ('of', 'ADP'), ('life', 'NOUN'), ('on', 'ADP'), ('the', 'DET'), ('streets', 'NOUN'), ('-LRB-', '.'), ('though', 'ADP'), ('probably', 'ADV'), ('no', 'DET'), ('more', 'ADV'), ('romanticized', 'VERB'), ('than', 'ADP'), ('Mr.', 'NOUN'), ('Chaplin', 'NOUN'), (\"'s\", 'PRT'), ('notion', 'NOUN'), ('of', 'ADP'), ('the', 'DET'), ('Tramp', 'NOUN'), ('as', 'ADP'), ('the', 'DET'), ('good-hearted', 'ADJ'), ('free', 'ADJ'), ('spirit', 'NOUN'), ('-RRB-', '.'), ('.', '.'), ('Rick', 'NOUN'), ('Brownell', 'NOUN'), (',', '.'), ('senior', 'ADJ'), ('editor', 'NOUN'), ('of', 'ADP'), ('Scoring', 'NOUN'), ('High', 'NOUN'), (',', '.'), ('says', 'VERB'), ('that', 'ADP'), ('Messrs.', 'NOUN'), ('Kaminski', 'NOUN'), ('and', 'CONJ'), ('Mehrens', 'NOUN'), ('are', 'VERB'), ('ignoring', 'VERB'), ('``', '.'), ('the', 'DET'), ('need', 'NOUN'), ('0', 'X'), ('students', 'NOUN'), ('have', 'VERB'), ('*T*-1', 'X'), ('for', 'ADP'), ('*', 'X'), ('becoming', 'VERB'), ('familiar', 'ADJ'), ('with', 'ADP'), ('tests', 'NOUN'), ('and', 'CONJ'), ('testing', 'NOUN'), ('format', 'NOUN'), ('.', '.'), (\"''\", '.'), ('Until', 'ADP'), ('now', 'ADV'), (',', '.'), ('however', 'ADV'), (',', '.'), ('buyers', 'NOUN'), ('who', 'PRON'), ('*T*-53', 'X'), ('wanted', 'VERB'), ('*-1', 'X'), ('to', 'PRT'), ('finance', 'VERB'), ('part', 'NOUN'), ('of', 'ADP'), ('a', 'DET'), ('car', 'NOUN'), ('purchase', 'NOUN'), ('through', 'ADP'), ('General', 'NOUN'), ('Motors', 'NOUN'), ('Acceptance', 'NOUN'), ('Corp.', 'NOUN'), ('could', 'VERB'), (\"n't\", 'ADV'), ('put', 'VERB'), ('their', 'PRON'), ('down', 'NOUN'), ('payment', 'NOUN'), ('on', 'ADP'), ('a', 'DET'), ('charge', 'NOUN'), ('card', 'NOUN'), ('because', 'ADP'), ('of', 'ADP'), ('possible', 'ADJ'), ('conflicts', 'NOUN'), ('with', 'ADP'), ('truth-in-lending', 'NOUN'), ('and', 'CONJ'), ('state', 'NOUN'), ('disclosure', 'NOUN'), ('laws', 'NOUN'), ('over', 'ADP'), ('finance', 'NOUN'), ('rates', 'NOUN'), (',', '.'), ('says', 'VERB'), ('*T*-2', 'X'), ('a', 'DET'), ('spokesman', 'NOUN'), ('for', 'ADP'), ('the', 'DET'), ('GM', 'NOUN'), ('finance', 'NOUN'), ('arm', 'NOUN'), ('.', '.'), ('Argentine', 'ADJ'), ('negotiator', 'NOUN'), ('Carlos', 'NOUN'), ('Carballo', 'NOUN'), ('was', 'VERB'), ('in', 'ADP'), ('Washington', 'NOUN'), ('and', 'CONJ'), ('New', 'NOUN'), ('York', 'NOUN'), ('this', 'DET'), ('week', 'NOUN'), ('*-1', 'X'), ('to', 'PRT'), ('meet', 'VERB'), ('with', 'ADP'), ('banks', 'NOUN'), ('.', '.'), ('While', 'ADP'), ('many', 'ADJ'), ('problems', 'NOUN'), ('would', 'VERB'), ('attend', 'VERB'), ('a', 'DET'), ('restructuring', 'NOUN'), ('of', 'ADP'), ('Columbia', 'NOUN'), (',', '.'), ('investors', 'NOUN'), ('say', 'VERB'), ('0', 'X'), ('Mr.', 'NOUN'), ('Spiegel', 'NOUN'), ('is', 'VERB'), ('mulling', 'VERB'), ('such', 'DET'), ('a', 'DET'), ('plan', 'NOUN'), ('0', 'X'), ('*', 'X'), ('to', 'PRT'), ('mitigate', 'VERB'), ('Columbia', 'NOUN'), (\"'s\", 'PRT'), ('junk', 'NOUN'), ('problems', 'NOUN'), ('*T*-1', 'X'), ('.', '.'), ('The', 'DET'), ('company', 'NOUN'), ('said', 'VERB'), ('0', 'X'), ('it', 'PRON'), ('has', 'VERB'), ('offered', 'VERB'), ('*-1', 'X'), ('to', 'PRT'), ('withdraw', 'VERB'), ('its', 'PRON'), ('bids', 'NOUN'), ('in', 'ADP'), ('Hiroshima', 'NOUN'), ('and', 'CONJ'), ('Nagano', 'NOUN'), ('.', '.'), ('World', 'NOUN'), ('sugar', 'NOUN'), ('futures', 'NOUN'), ('prices', 'NOUN'), ('soared', 'VERB'), ('on', 'ADP'), ('rumors', 'NOUN'), ('that', 'ADP'), ('Brazil', 'NOUN'), (',', '.'), ('a', 'DET'), ('major', 'ADJ'), ('grower', 'NOUN'), ('and', 'CONJ'), ('exporter', 'NOUN'), (',', '.'), ('might', 'VERB'), ('not', 'ADV'), ('ship', 'VERB'), ('sugar', 'NOUN'), ('this', 'DET'), ('crop', 'NOUN'), ('year', 'NOUN'), ('and', 'CONJ'), ('next', 'ADJ'), ('.', '.'), ('Both', 'DET'), ('Newsweek', 'NOUN'), ('and', 'CONJ'), ('U.S.', 'NOUN'), ('News', 'NOUN'), ('have', 'VERB'), ('been', 'VERB'), ('gaining', 'VERB'), ('circulation', 'NOUN'), ('in', 'ADP'), ('recent', 'ADJ'), ('years', 'NOUN'), ('without', 'ADP'), ('heavy', 'ADJ'), ('use', 'NOUN'), ('of', 'ADP'), ('electronic', 'ADJ'), ('giveaways', 'NOUN'), ('to', 'PRT'), ('subscribers', 'NOUN'), (',', '.'), ('such', 'ADJ'), ('as', 'ADP'), ('telephones', 'NOUN'), ('or', 'CONJ'), ('watches', 'NOUN'), ('.', '.'), ('But', 'CONJ'), ('the', 'DET'), ('Big', 'NOUN'), ('Board', 'NOUN'), (\"'s\", 'PRT'), ('leadership', 'NOUN'), ('--', '.'), ('over', 'ADP'), ('the', 'DET'), ('specialists', 'NOUN'), (\"'\", 'PRT'), ('protests', 'NOUN'), ('--', '.'), ('two', 'NUM'), ('weeks', 'NOUN'), ('ago', 'ADP'), ('began', 'VERB'), ('*-1', 'X'), ('trading', 'NOUN'), ('a', 'DET'), ('new', 'ADJ'), ('stock', 'NOUN'), ('``', '.'), ('basket', 'NOUN'), (\"''\", '.'), ('product', 'NOUN'), ('designed', 'VERB'), ('*', 'X'), ('to', 'PRT'), ('facilitate', 'VERB'), ('program', 'NOUN'), ('trading', 'NOUN'), ('.', '.'), ('All', 'DET'), ('of', 'ADP'), ('this', 'DET'), ('must', 'VERB'), ('have', 'VERB'), ('been', 'VERB'), ('enormously', 'ADV'), ('frustrating', 'VERB'), ('to', 'PRT'), ('Mr.', 'NOUN'), ('Katzenstein', 'NOUN'), (',', '.'), ('who', 'PRON'), ('*T*-59', 'X'), ('went', 'VERB'), ('to', 'PRT'), ('Sony', 'NOUN'), ('with', 'ADP'), ('degrees', 'NOUN'), ('in', 'ADP'), ('business', 'NOUN'), ('and', 'CONJ'), ('computer', 'NOUN'), ('science', 'NOUN'), ('and', 'CONJ'), ('was', 'VERB'), ('raring', 'ADJ'), ('*-1', 'X'), ('to', 'PRT'), ('invent', 'VERB'), ('another', 'DET'), ('Walkman', 'NOUN'), ('.', '.'), ('``', '.'), ('Varying', 'ADJ'), ('age', 'NOUN'), (',', '.'), ('geography', 'NOUN'), ('and', 'CONJ'), ('life-style', 'NOUN'), ('differences', 'NOUN'), ('create', 'VERB'), ('numerous', 'ADJ'), ('sub-markets', 'NOUN'), (',', '.'), (\"''\", '.'), ('Ms.', 'NOUN'), ('MacDonald', 'NOUN'), ('says', 'VERB'), ('*T*-1', 'X'), ('.', '.'), ('PAPERS', 'NOUN'), (':', '.'), ('He', 'PRON'), ('adds', 'VERB'), ('that', 'ADP'), ('his', 'PRON'), ('shares', 'NOUN'), ('in', 'ADP'), ('a', 'DET'), ('company', 'NOUN'), ('savings', 'NOUN'), ('plan', 'NOUN'), ('are', 'VERB'), ('invested', 'VERB'), ('*-1', 'X'), ('in', 'ADP'), ('a', 'DET'), ('mutual', 'ADJ'), ('fund', 'NOUN'), (',', '.'), ('and', 'CONJ'), ('volatility', 'NOUN'), (',', '.'), ('on', 'ADP'), ('a', 'DET'), ('given', 'VERB'), ('day', 'NOUN'), (',', '.'), ('may', 'VERB'), ('hurt', 'VERB'), ('the', 'DET'), ('fund', 'NOUN'), ('.', '.'), ('The', 'DET'), ('Soviet', 'NOUN'), ('Union', 'NOUN'), ('bought', 'VERB'), ('roughly', 'ADV'), ('310', 'NUM'), ('million', 'NUM'), ('bushels', 'NOUN'), ('of', 'ADP'), ('U.S.', 'NOUN'), ('corn', 'NOUN'), ('*ICH*-2', 'X'), ('in', 'ADP'), ('October', 'NOUN'), (',', '.'), ('which', 'DET'), ('*T*-1', 'X'), ('is', 'VERB'), ('the', 'DET'), ('most', 'ADV'), ('ever', 'ADV'), ('sold', 'VERB'), ('*', 'X'), ('to', 'PRT'), ('the', 'DET'), ('Soviet', 'NOUN'), ('Union', 'NOUN'), ('in', 'ADP'), ('one', 'NUM'), ('month', 'NOUN'), ('from', 'ADP'), ('the', 'DET'), ('U.S.', 'NOUN'), ('.', '.'), ('Mr.', 'NOUN'), ('McGuigan', 'NOUN'), ('cites', 'VERB'), ('three', 'NUM'), ('completed', 'VERB'), ('efforts', 'NOUN'), ('in', 'ADP'), ('Oklahoma', 'NOUN'), ('.', '.'), ('The', 'DET'), ('company', 'NOUN'), ('noted', 'VERB'), ('that', 'ADP'), ('it', 'PRON'), ('has', 'VERB'), ('reduced', 'VERB'), ('debt', 'NOUN'), ('by', 'ADP'), ('$', '.'), ('1.6', 'NUM'), ('billion', 'NUM'), ('*U*', 'X'), ('since', 'ADP'), ('the', 'DET'), ('end', 'NOUN'), ('of', 'ADP'), ('1988', 'NUM'), ('and', 'CONJ'), ('bought', 'VERB'), ('back', 'PRT'), ('about', 'ADP'), ('15.5', 'NUM'), ('million', 'NUM'), ('shares', 'NOUN'), ('of', 'ADP'), ('common', 'ADJ'), ('stock', 'NOUN'), ('since', 'ADP'), ('the', 'DET'), ('fourth', 'ADJ'), ('quarter', 'NOUN'), ('of', 'ADP'), ('1987', 'NUM'), ('.', '.'), ('Some', 'DET'), ('say', 'VERB'), ('0', 'X'), ('Anthony', 'NOUN'), ('Cheetham', 'NOUN'), (',', '.'), ('head', 'NOUN'), ('of', 'ADP'), ('a', 'DET'), ('recently', 'ADV'), ('acquired', 'VERB'), ('British', 'ADJ'), ('company', 'NOUN'), (',', '.'), ('Century', 'NOUN'), ('Hutchinson', 'NOUN'), (',', '.'), ('could', 'VERB'), ('be', 'VERB'), ('chosen', 'VERB'), ('*-46', 'X'), ('.', '.'), ('BANKERS', 'NOUN'), ('ACCEPTANCES', 'NOUN'), (':', '.'), ('8.50', 'NUM'), ('%', 'NOUN'), ('30', 'NUM'), ('days', 'NOUN'), (';', '.'), ('8.48', 'NUM'), ('%', 'NOUN'), ('60', 'NUM'), ('days', 'NOUN'), (';', '.'), ('8.30', 'NUM'), ('%', 'NOUN'), ('90', 'NUM'), ('days', 'NOUN'), (';', '.'), ('8.15', 'NUM'), ('%', 'NOUN'), ('120', 'NUM'), ('days', 'NOUN'), (';', '.'), ('8.07', 'NUM'), ('%', 'NOUN'), ('150', 'NUM'), ('days', 'NOUN'), (';', '.'), ('7.95', 'NUM'), ('%', 'NOUN'), ('180', 'NUM'), ('days', 'NOUN'), ('.', '.'), ('Asia', 'NOUN'), (\"'s\", 'PRT'), ('other', 'ADJ'), ('cash-rich', 'ADJ'), ('countries', 'NOUN'), ('are', 'VERB'), ('following', 'VERB'), ('Japan', 'NOUN'), (\"'s\", 'PRT'), ('lead', 'NOUN'), ('and', 'CONJ'), ('pumping', 'VERB'), ('capital', 'NOUN'), ('into', 'ADP'), ('the', 'DET'), ('region', 'NOUN'), ('.', '.'), ('This', 'DET'), ('year', 'NOUN'), (\"'s\", 'PRT'), ('results', 'NOUN'), ('included', 'VERB'), ('a', 'DET'), ('gain', 'NOUN'), ('of', 'ADP'), ('$', '.'), ('70.2', 'NUM'), ('million', 'NUM'), ('*U*', 'X'), ('on', 'ADP'), ('the', 'DET'), ('disposal', 'NOUN'), ('of', 'ADP'), ('seafood', 'NOUN'), ('operations', 'NOUN'), ('.', '.'), ('She', 'PRON'), ('did', 'VERB'), (\"n't\", 'ADV'), ('elaborate', 'ADJ'), (',', '.'), ('although', 'ADP'), ('earlier', 'ADJ'), ('U.S.', 'NOUN'), ('trade', 'NOUN'), ('reports', 'NOUN'), ('have', 'VERB'), ('complained', 'VERB'), ('of', 'ADP'), ('videocassette', 'NOUN'), ('piracy', 'NOUN'), ('in', 'ADP'), ('Malaysia', 'NOUN'), ('and', 'CONJ'), ('disregard', 'NOUN'), ('for', 'ADP'), ('U.S.', 'NOUN'), ('pharmaceutical', 'ADJ'), ('patents', 'NOUN'), ('in', 'ADP'), ('Turkey', 'NOUN'), ('.', '.'), ('Some', 'DET'), ('researchers', 'NOUN'), ('have', 'VERB'), ('charged', 'VERB'), ('that', 'ADP'), ('the', 'DET'), ('administration', 'NOUN'), ('is', 'VERB'), ('imposing', 'VERB'), ('new', 'ADJ'), ('ideological', 'ADJ'), ('tests', 'NOUN'), ('for', 'ADP'), ('top', 'ADJ'), ('scientific', 'ADJ'), ('posts', 'NOUN'), ('.', '.'), ('Also', 'ADV'), (',', '.'), ('ringers', 'NOUN'), ('do', 'VERB'), (\"n't\", 'ADV'), ('always', 'ADV'), ('live', 'VERB'), ('where', 'ADV'), ('the', 'DET'), ('bells', 'NOUN'), ('need', 'VERB'), ('*-1', 'X'), ('to', 'PRT'), ('be', 'VERB'), ('rung', 'VERB'), ('*-140', 'X'), ('*T*-2', 'X'), ('--', '.'), ('like', 'ADP'), ('in', 'ADP'), ('small', 'ADJ'), (',', '.'), ('rural', 'ADJ'), ('parishes', 'NOUN'), ('and', 'CONJ'), ('inner-city', 'NOUN'), ('churches', 'NOUN'), ('.', '.'), ('THREE', 'NUM'), ('COMPUTERS', 'NOUN'), ('THAT', 'DET'), ('*T*-31', 'X'), ('CHANGED', 'VERB'), ('the', 'DET'), ('face', 'NOUN'), ('of', 'ADP'), ('personal', 'ADJ'), ('computing', 'NOUN'), ('were', 'VERB'), ('launched', 'VERB'), ('*-32', 'X'), ('in', 'ADP'), ('1977', 'NUM'), ('.', '.'), ('``', '.'), ('New', 'ADJ'), ('managers', 'NOUN'), ('would', 'VERB'), ('think', 'VERB'), ('a', 'DET'), ('little', 'ADV'), ('more', 'ADJ'), ('like', 'ADP'), ('Wall', 'NOUN'), ('Street', 'NOUN'), (',', '.'), (\"''\", '.'), ('Mr.', 'NOUN'), ('McMillin', 'NOUN'), ('added', 'VERB'), ('*T*-1', 'X'), ('.', '.'), ('In', 'ADP'), ('the', 'DET'), ('coming', 'VERB'), ('decade', 'NOUN'), (',', '.'), ('analysts', 'NOUN'), ('say', 'VERB'), ('0', 'X'), ('*T*-2', 'X'), (',', '.'), ('U.S.-Japanese', 'ADJ'), ('relations', 'NOUN'), ('will', 'VERB'), ('be', 'VERB'), ('tested', 'VERB'), ('*-1', 'X'), ('as', 'ADP'), ('Tokyo', 'NOUN'), ('comes', 'VERB'), ('to', 'PRT'), ('terms', 'NOUN'), ('with', 'ADP'), ('its', 'PRON'), ('new', 'ADJ'), ('status', 'NOUN'), ('as', 'ADP'), ('the', 'DET'), ('region', 'NOUN'), (\"'s\", 'PRT'), ('economic', 'ADJ'), ('behemoth', 'NOUN'), ('.', '.'), ('The', 'DET'), ('company', 'NOUN'), ('said', 'VERB'), ('0', 'X'), ('Mr.', 'NOUN'), ('Stronach', 'NOUN'), ('will', 'VERB'), ('personally', 'ADV'), ('direct', 'VERB'), ('the', 'DET'), ('restructuring', 'NOUN'), (',', '.'), ('*-1', 'X'), ('assisted', 'VERB'), ('*-2', 'X'), ('by', 'ADP'), ('Manfred', 'NOUN'), ('Gingl', 'NOUN'), (',', '.'), ('president', 'NOUN'), ('and', 'CONJ'), ('chief', 'NOUN'), ('executive', 'NOUN'), ('.', '.'), ('Producers', 'NOUN'), ('have', 'VERB'), ('seen', 'VERB'), ('this', 'DET'), ('market', 'NOUN'), ('opening', 'VERB'), ('up', 'PRT'), ('and', 'CONJ'), ('they', 'PRON'), (\"'re\", 'VERB'), ('now', 'ADV'), ('creating', 'VERB'), ('wines', 'NOUN'), ('that', 'DET'), ('*T*-168', 'X'), ('appeal', 'VERB'), ('to', 'PRT'), ('these', 'DET'), ('people', 'NOUN'), ('.', '.'), (\"''\", '.'), ('``', '.'), ('There', 'DET'), ('is', 'VERB'), ('no', 'DET'), ('business', 'NOUN'), ('reason', 'NOUN'), ('for', 'ADP'), ('my', 'PRON'), ('departure', 'NOUN'), (',', '.'), (\"''\", '.'), ('nor', 'CONJ'), ('any', 'DET'), ('disagreement', 'NOUN'), ('over', 'ADP'), ('policy', 'NOUN'), (',', '.'), ('he', 'PRON'), ('added', 'VERB'), ('0', 'X'), ('*T*-1', 'X'), ('.', '.'), ('The', 'DET'), ('company', 'NOUN'), ('also', 'ADV'), ('cited', 'VERB'), ('interest', 'NOUN'), ('costs', 'NOUN'), ('and', 'CONJ'), ('amortization', 'NOUN'), ('of', 'ADP'), ('goodwill', 'NOUN'), ('as', 'ADP'), ('factors', 'NOUN'), ('in', 'ADP'), ('the', 'DET'), ('loss', 'NOUN'), ('.', '.'), ('Japanese', 'ADJ'), ('companies', 'NOUN'), ('have', 'VERB'), ('long', 'ADV'), ('had', 'VERB'), ('a', 'DET'), ('reputation', 'NOUN'), ('for', 'ADP'), ('*-2', 'X'), ('sacrificing', 'VERB'), ('short-term', 'ADJ'), ('profits', 'NOUN'), ('*-1', 'X'), ('to', 'PRT'), ('make', 'VERB'), ('a', 'DET'), ('sale', 'NOUN'), ('that', 'DET'), ('*T*-140', 'X'), ('may', 'VERB'), ('have', 'VERB'), ('long-term', 'ADJ'), ('benefits', 'NOUN'), ('.', '.'), ('By', 'ADP'), ('*', 'X'), ('addressing', 'VERB'), ('those', 'DET'), ('problems', 'NOUN'), (',', '.'), ('Mr.', 'NOUN'), ('Maxwell', 'NOUN'), ('said', 'VERB'), ('0', 'X'), ('*T*-1', 'X'), (',', '.'), ('the', 'DET'), ('new', 'ADJ'), ('funds', 'NOUN'), ('have', 'VERB'), ('become', 'VERB'), ('``', '.'), ('extremely', 'ADV'), ('attractive', 'ADJ'), ('to', 'PRT'), ('Japanese', 'ADJ'), ('and', 'CONJ'), ('other', 'ADJ'), ('investors', 'NOUN'), ('outside', 'ADP'), ('the', 'DET'), ('U.S.', 'NOUN'), ('.', '.'), (\"''\", '.'), ('Among', 'ADP'), ('other', 'ADJ'), ('Connecticut', 'NOUN'), ('banks', 'NOUN'), ('whose', 'PRON'), ('shares', 'NOUN'), ('*T*-121', 'X'), ('trade', 'VERB'), ('in', 'ADP'), ('the', 'DET'), ('OTC', 'NOUN'), ('market', 'NOUN'), (',', '.'), ('Society', 'NOUN'), ('for', 'ADP'), ('Savings', 'NOUN'), ('Bancorp', 'NOUN'), (',', '.'), ('based', 'VERB'), ('*', 'X'), ('in', 'ADP'), ('Hartford', 'NOUN'), (',', '.'), ('saw', 'VERB'), ('its', 'PRON'), ('stock', 'NOUN'), ('rise', 'VERB'), ('1', 'NUM'), ('3\\\\/4', 'NUM'), ('to', 'PRT'), ('18', 'NUM'), ('1\\\\/4', 'NUM'), ('.', '.'), ('Volume', 'NOUN'), ('was', 'VERB'), ('372.9', 'NUM'), ('million', 'NUM'), ('shares', 'NOUN'), (',', '.'), ('up', 'ADV'), ('from', 'ADP'), ('334.5', 'NUM'), ('million', 'NUM'), ('on', 'ADP'), ('Tuesday', 'NOUN'), ('.', '.'), ('``', '.'), ('It', 'PRON'), ('is', 'VERB'), ('these', 'DET'), ('645,000', 'NUM'), ('tons', 'NOUN'), ('that', 'DET'), ('*T*-1', 'X'), ('are', 'VERB'), ('in', 'ADP'), ('question', 'NOUN'), ('for', 'ADP'), ('this', 'DET'), ('crop', 'NOUN'), ('year', 'NOUN'), (',', '.'), (\"''\", '.'), ('explained', 'VERB'), ('*T*-2', 'X'), ('Judith', 'NOUN'), ('Ganes', 'NOUN'), (',', '.'), ('analyst', 'NOUN'), ('for', 'ADP'), ('Shearson', 'NOUN'), ('Lehman', 'NOUN'), ('Hutton', 'NOUN'), (',', '.'), ('New', 'NOUN'), ('York', 'NOUN'), ('.', '.'), ('Participants', 'NOUN'), ('will', 'VERB'), ('include', 'VERB'), ('the', 'DET'), ('U.S.', 'NOUN'), (',', '.'), ('Australia', 'NOUN'), (',', '.'), ('Canada', 'NOUN'), (',', '.'), ('Japan', 'NOUN'), (',', '.'), ('South', 'NOUN'), ('Korea', 'NOUN'), ('and', 'CONJ'), ('New', 'NOUN'), ('Zealand', 'NOUN'), ('as', 'ADV'), ('well', 'ADV'), ('as', 'ADP'), ('the', 'DET'), ('six', 'NUM'), ('members', 'NOUN'), ('of', 'ADP'), ('the', 'DET'), ('Association', 'NOUN'), ('of', 'ADP'), ('Southeast', 'NOUN'), ('Asian', 'NOUN'), ('Nations', 'NOUN'), ('--', '.'), ('Thailand', 'NOUN'), (',', '.'), ('Malaysia', 'NOUN'), (',', '.'), ('Singapore', 'NOUN'), (',', '.'), ('Indonesia', 'NOUN'), (',', '.'), ('the', 'DET'), ('Philippines', 'NOUN'), ('and', 'CONJ'), ('Brunei', 'NOUN'), ('.', '.'), ('The', 'DET'), ('prospective', 'ADJ'), ('buyers', 'NOUN'), ('included', 'VERB'), ('investor', 'NOUN'), ('Marvin', 'NOUN'), ('Davis', 'NOUN'), ('and', 'CONJ'), ('the', 'DET'), ('Toronto', 'NOUN'), ('Sun', 'NOUN'), ('.', '.'), ('The', 'DET'), ('controversy', 'NOUN'), ('began', 'VERB'), ('in', 'ADP'), ('1987', 'NUM'), ('when', 'ADV'), ('the', 'DET'), ('National', 'NOUN'), ('Institutes', 'NOUN'), ('of', 'ADP'), ('Health', 'NOUN'), (',', '.'), ('aware', 'ADJ'), ('of', 'ADP'), ('the', 'DET'), ('policy', 'NOUN'), ('implications', 'NOUN'), ('of', 'ADP'), ('its', 'PRON'), ('research', 'NOUN'), (',', '.'), ('asked', 'VERB'), ('for', 'ADP'), ('an', 'DET'), ('HHS', 'NOUN'), ('review', 'NOUN'), ('of', 'ADP'), ('its', 'PRON'), ('plan', 'NOUN'), ('*', 'X'), ('to', 'PRT'), ('implant', 'VERB'), ('fetal', 'ADJ'), ('tissue', 'NOUN'), ('into', 'ADP'), ('the', 'DET'), ('brain', 'NOUN'), ('of', 'ADP'), ('a', 'DET'), ('patient', 'NOUN'), ('suffering', 'NOUN'), ('from', 'ADP'), ('Parkinson', 'NOUN'), (\"'s\", 'PRT'), ('disease', 'NOUN'), ('*T*-1', 'X'), ('.', '.'), ('Valley', 'NOUN'), ('Federal', 'NOUN'), ('Savings', 'NOUN'), ('&', 'CONJ'), ('Loan', 'NOUN'), ('Association', 'NOUN'), ('took', 'VERB'), ('an', 'DET'), ('$', '.'), ('89.9', 'NUM'), ('million', 'NUM'), ('*U*', 'X'), ('charge', 'NOUN'), ('as', 'ADP'), ('it', 'PRON'), ('reported', 'VERB'), ('a', 'DET'), ('third-quarter', 'NOUN'), ('loss', 'NOUN'), ('of', 'ADP'), ('$', '.'), ('70.7', 'NUM'), ('million', 'NUM'), ('*U*', 'X'), (',', '.'), ('or', 'CONJ'), ('$', '.'), ('12.09', 'NUM'), ('*U*', 'X'), ('a', 'DET'), ('share', 'NOUN'), ('.', '.'), ('``', '.'), ('Today', 'NOUN'), ('is', 'VERB'), ('not', 'ADV'), ('the', 'DET'), ('time', 'NOUN'), ('0', 'X'), ('*', 'X'), ('to', 'PRT'), ('signal', 'VERB'), ('that', 'ADP'), ('Congress', 'NOUN'), ('in', 'ADP'), ('any', 'DET'), ('way', 'NOUN'), ('sanctions', 'VERB'), ('the', 'DET'), ('dismal', 'ADJ'), ('state', 'NOUN'), ('into', 'ADP'), ('which', 'DET'), ('antitrust', 'ADJ'), ('enforcement', 'NOUN'), ('has', 'VERB'), ('fallen', 'VERB'), ('*T*-3', 'X'), ('*T*-2', 'X'), (',', '.'), (\"''\", '.'), ('Mr.', 'NOUN'), ('Edwards', 'NOUN'), ('argued', 'VERB'), ('0', 'X'), ('*T*-1', 'X'), ('.', '.'), ('F.H.', 'NOUN'), ('Faulding', 'NOUN'), ('&', 'CONJ'), ('Co.', 'NOUN'), (',', '.'), ('an', 'DET'), ('Australian', 'ADJ'), ('pharmaceuticals', 'NOUN'), ('company', 'NOUN'), (',', '.'), ('said', 'VERB'), ('0', 'X'), ('its', 'PRON'), ('Moleculon', 'NOUN'), ('Inc.', 'NOUN'), ('affiliate', 'NOUN'), ('acquired', 'VERB'), ('Kalipharma', 'NOUN'), ('Inc.', 'NOUN'), ('for', 'ADP'), ('$', '.'), ('23', 'NUM'), ('million', 'NUM'), ('*U*', 'X'), ('.', '.'), ('The', 'DET'), ('rise', 'NOUN'), ('in', 'ADP'), ('the', 'DET'), ('stock', 'NOUN'), (\"'s\", 'PRT'), ('price', 'NOUN'), ('may', 'VERB'), ('also', 'ADV'), ('reflect', 'VERB'), ('the', 'DET'), ('fact', 'NOUN'), ('that', 'ADP'), ('USX', 'NOUN'), (\"'s\", 'PRT'), ('steel', 'NOUN'), ('segment', 'NOUN'), ('fared', 'VERB'), ('better', 'ADV'), ('than', 'ADP'), ('some', 'DET'), ('other', 'ADJ'), ('steelmakers', 'NOUN'), (\"'\", 'PRT'), ('.', '.'), ('*-2', 'X'), ('Filmed', 'VERB'), ('*-1', 'X'), ('in', 'ADP'), ('lovely', 'ADJ'), ('black', 'NOUN'), ('and', 'CONJ'), ('white', 'NOUN'), ('by', 'ADP'), ('Bill', 'NOUN'), ('Dill', 'NOUN'), (',', '.'), ('the', 'DET'), ('New', 'NOUN'), ('York', 'NOUN'), ('streets', 'NOUN'), ('of', 'ADP'), ('``', '.'), ('Sidewalk', 'NOUN'), ('Stories', 'NOUN'), (\"''\", '.'), ('seem', 'VERB'), ('benign', 'ADJ'), ('.', '.'), ('David', 'NOUN'), ('Wu', 'NOUN'), (',', '.'), ('the', 'DET'), ('company', 'NOUN'), (\"'s\", 'PRT'), ('representative', 'NOUN'), ('in', 'ADP'), ('Taiwan', 'NOUN'), (',', '.'), ('said', 'VERB'), ('0', 'X'), ('Atlanta-based', 'ADJ'), ('Life', 'NOUN'), ('of', 'ADP'), ('Georgia', 'NOUN'), ('will', 'VERB'), ('sell', 'VERB'), ('conventional', 'ADJ'), ('life-insurance', 'NOUN'), ('products', 'NOUN'), ('.', '.'), ('Yasser', 'NOUN'), ('Arafat', 'NOUN'), ('has', 'VERB'), ('written', 'VERB'), ('to', 'PRT'), ('the', 'DET'), ('chairman', 'NOUN'), ('of', 'ADP'), ('the', 'DET'), ('International', 'NOUN'), ('Olympic', 'NOUN'), ('Committee', 'NOUN'), ('*-2', 'X'), ('asking', 'VERB'), ('him', 'PRON'), ('*-3', 'X'), ('to', 'PRT'), ('back', 'VERB'), ('a', 'DET'), ('Palestinian', 'ADJ'), ('bid', 'NOUN'), ('*', 'X'), ('to', 'PRT'), ('join', 'VERB'), ('the', 'DET'), ('committee', 'NOUN'), (',', '.'), ('the', 'DET'), ('Palestine', 'NOUN'), ('Liberation', 'NOUN'), ('Organization', 'NOUN'), ('news', 'NOUN'), ('agency', 'NOUN'), ('WAFA', 'NOUN'), ('said', 'VERB'), ('0', 'X'), ('*T*-1', 'X'), ('.', '.'), ('Several', 'ADJ'), ('moves', 'NOUN'), ('were', 'VERB'), ('taken', 'VERB'), ('*-1', 'X'), ('following', 'VERB'), ('the', 'DET'), ('October', 'NOUN'), ('1987', 'NUM'), ('crash', 'NOUN'), ('*', 'X'), ('to', 'PRT'), ('coordinate', 'VERB'), ('--', '.'), ('and', 'CONJ'), ('sometimes', 'ADV'), ('deliberately', 'ADV'), ('disconnect', 'VERB'), ('*PPA*-2', 'X'), ('--', '.'), ('the', 'DET'), ('stock', 'NOUN'), ('and', 'CONJ'), ('futures', 'NOUN'), ('markets', 'NOUN'), ('in', 'ADP'), ('times', 'NOUN'), ('of', 'ADP'), ('heightened', 'VERB'), ('volatility', 'NOUN'), ('.', '.'), ('Workers', 'NOUN'), ('dumped', 'VERB'), ('large', 'ADJ'), ('burlap', 'NOUN'), ('sacks', 'NOUN'), ('of', 'ADP'), ('the', 'DET'), ('imported', 'VERB'), ('material', 'NOUN'), ('into', 'ADP'), ('a', 'DET'), ('huge', 'ADJ'), ('bin', 'NOUN'), (',', '.'), ('poured', 'VERB'), ('in', 'PRT'), ('cotton', 'NOUN'), ('and', 'CONJ'), ('acetate', 'NOUN'), ('fibers', 'NOUN'), ('and', 'CONJ'), ('mechanically', 'ADV'), ('mixed', 'VERB'), ('the', 'DET'), ('dry', 'ADJ'), ('fibers', 'NOUN'), ('in', 'ADP'), ('a', 'DET'), ('process', 'NOUN'), ('used', 'VERB'), ('*', 'X'), ('*', 'X'), ('to', 'PRT'), ('make', 'VERB'), ('filters', 'NOUN'), ('.', '.'), ('Earlier', 'ADV'), ('this', 'DET'), ('year', 'NOUN'), ('Shaw', 'NOUN'), ('Publishing', 'NOUN'), ('Inc.', 'NOUN'), (',', '.'), ('Charlotte', 'NOUN'), (',', '.'), ('acquired', 'VERB'), ('30', 'NUM'), ('%', 'NOUN'), ('of', 'ADP'), ('American', 'NOUN'), ('City', 'NOUN'), ('*T*-1', 'X'), ('and', 'CONJ'), ('has', 'VERB'), ('an', 'DET'), ('agreement', 'NOUN'), ('*', 'X'), ('to', 'PRT'), ('acquire', 'VERB'), ('a', 'DET'), ('further', 'ADJ'), ('25', 'NUM'), ('%', 'NOUN'), ('from', 'ADP'), ('E.W.', 'NOUN'), ('Scripps', 'NOUN'), ('Co.', 'NOUN'), ('next', 'ADJ'), ('year', 'NOUN'), ('.', '.'), ('For', 'ADP'), ('a', 'DET'), ('funny', 'ADJ'), ('thing', 'NOUN'), ('happened', 'VERB'), ('on', 'ADP'), ('the', 'DET'), ('way', 'NOUN'), ('to', 'PRT'), ('the', 'DET'), ('ruling', 'NOUN'), (':', '.'), ('The', 'DET'), ('United', 'NOUN'), ('States', 'NOUN'), ('Information', 'NOUN'), ('Agency', 'NOUN'), (',', '.'), ('which', 'DET'), ('*T*-23', 'X'), ('runs', 'VERB'), ('the', 'DET'), ('Voice', 'NOUN'), (',', '.'), ('changed', 'VERB'), ('its', 'PRON'), ('position', 'NOUN'), ('on', 'ADP'), ('three', 'NUM'), ('key', 'ADJ'), ('points', 'NOUN'), ('.', '.'), ('``', '.'), ('Wa', 'NOUN'), (\"''\", '.'), ('is', 'VERB'), ('Japanese', 'NOUN'), ('for', 'ADP'), ('``', '.'), ('team', 'NOUN'), ('spirit', 'NOUN'), (\"''\", '.'), ('and', 'CONJ'), ('Japanese', 'ADJ'), ('ballplayers', 'NOUN'), ('have', 'VERB'), ('miles', 'NOUN'), ('and', 'CONJ'), ('miles', 'NOUN'), ('of', 'ADP'), ('it', 'PRON'), ('.', '.'), ('-LRB-', '.'), ('It', 'PRON'), ('is', 'VERB'), (',', '.'), ('of', 'ADP'), ('course', 'NOUN'), (',', '.'), ('printed', 'VERB'), ('*-1', 'X'), ('on', 'ADP'), ('recycled', 'VERB'), ('paper', 'NOUN'), ('.', '.'), ('-RRB-', '.'), ('Each', 'DET'), ('50,000', 'NUM'), ('Swiss', 'ADJ'), ('franc', 'NOUN'), ('note', 'NOUN'), ('is', 'VERB'), ('convertible', 'ADJ'), ('from', 'ADP'), ('Nov.', 'NOUN'), ('30', 'NUM'), (',', '.'), ('1989', 'NUM'), (',', '.'), ('to', 'PRT'), ('March', 'NOUN'), ('16', 'NUM'), (',', '.'), ('1994', 'NUM'), ('at', 'ADP'), ('a', 'DET'), ('5', 'NUM'), ('%', 'NOUN'), ('premium', 'NOUN'), ('over', 'ADP'), ('the', 'DET'), ('closing', 'ADJ'), ('share', 'NOUN'), ('price', 'NOUN'), ('Monday', 'NOUN'), (',', '.'), ('when', 'ADV'), ('terms', 'NOUN'), ('are', 'VERB'), ('scheduled', 'VERB'), ('*-3', 'X'), ('to', 'PRT'), ('be', 'VERB'), ('fixed', 'VERB'), ('*-1', 'X'), ('*T*-2', 'X'), ('.', '.'), ('In', 'ADP'), ('his', 'PRON'), ('first', 'ADJ'), ('state', 'NOUN'), ('of', 'ADP'), ('the', 'DET'), ('nation', 'NOUN'), ('address', 'NOUN'), (',', '.'), ('Salinas', 'NOUN'), ('pledged', 'VERB'), ('*-1', 'X'), ('to', 'PRT'), ('continue', 'VERB'), ('his', 'PRON'), ('program', 'NOUN'), ('of', 'ADP'), ('modernization', 'NOUN'), ('and', 'CONJ'), ('warned', 'VERB'), ('opposition', 'NOUN'), ('politicians', 'NOUN'), ('that', 'ADP'), ('*', 'X'), ('impeding', 'VERB'), ('progress', 'NOUN'), ('could', 'VERB'), ('cost', 'VERB'), ('them', 'PRON'), ('popular', 'ADJ'), ('support', 'NOUN'), ('.', '.'), ('In', 'ADP'), ('addition', 'NOUN'), ('to', 'PRT'), ('the', 'DET'), ('damages', 'NOUN'), (',', '.'), ('the', 'DET'), ('suit', 'NOUN'), ('seeks', 'VERB'), ('a', 'DET'), ('court', 'NOUN'), ('order', 'NOUN'), ('preventing', 'VERB'), ('the', 'DET'), ('guild', 'NOUN'), ('from', 'ADP'), ('*-2', 'X'), ('punishing', 'VERB'), ('*RNR*-1', 'X'), ('or', 'CONJ'), ('retaliating', 'VERB'), ('against', 'ADP'), ('*RNR*-1', 'X'), ('Mr.', 'NOUN'), ('Trudeau', 'NOUN'), ('.', '.'), ('And', 'CONJ'), ('legal', 'ADJ'), ('authorities', 'NOUN'), ('cranked', 'VERB'), ('up', 'PRT'), ('an', 'DET'), ('investigation', 'NOUN'), ('worthy', 'ADJ'), ('of', 'ADP'), ('a', 'DET'), ('murder', 'NOUN'), ('case', 'NOUN'), ('.', '.'), ('*', 'X'), ('Eliminate', 'VERB'), ('arbitrage', 'NOUN'), ('and', 'CONJ'), ('liquidity', 'NOUN'), ('will', 'VERB'), ('decline', 'VERB'), ('instead', 'ADV'), ('of', 'ADP'), ('*', 'X'), ('rising', 'VERB'), (',', '.'), ('*', 'X'), ('creating', 'VERB'), ('more', 'ADJ'), ('volatility', 'NOUN'), ('instead', 'ADV'), ('of', 'ADP'), ('less', 'ADJ'), ('.', '.'), ('``', '.'), ('The', 'DET'), ('way', 'NOUN'), ('that', 'ADP'), ('we', 'PRON'), (\"'ve\", 'VERB'), ('been', 'VERB'), ('managing', 'VERB'), ('Campbell', 'NOUN'), ('U.S.A.', 'NOUN'), ('*T*-2', 'X'), ('can', 'VERB'), ('hopefully', 'ADV'), ('spread', 'VERB'), ('to', 'PRT'), ('other', 'ADJ'), ('areas', 'NOUN'), ('of', 'ADP'), ('the', 'DET'), ('company', 'NOUN'), (',', '.'), (\"''\", '.'), ('Mr.', 'NOUN'), ('Baum', 'NOUN'), ('said', 'VERB'), ('*T*-1', 'X'), ('.', '.'), ('Individual', 'ADJ'), ('copies', 'NOUN'), ('of', 'ADP'), ('the', 'DET'), ('magazine', 'NOUN'), ('sell', 'VERB'), ('for', 'ADP'), ('$', '.'), ('2.95', 'NUM'), ('*U*', 'X'), ('and', 'CONJ'), ('yearly', 'ADJ'), ('subscriptions', 'NOUN'), ('cost', 'NOUN'), ('$', '.'), ('21', 'NUM'), ('*U*', 'X'), ('.', '.'), ('Stephen', 'NOUN'), ('G.', 'NOUN'), ('Jerritts', 'NOUN'), (',', '.'), ('president', 'NOUN'), ('and', 'CONJ'), ('chief', 'NOUN'), ('executive', 'NOUN'), ('officer', 'NOUN'), (',', '.'), ('said', 'VERB'), ('0', 'X'), ('customers', 'NOUN'), ('were', 'VERB'), (\"n't\", 'ADV'), ('willing', 'ADJ'), ('*-1', 'X'), ('to', 'PRT'), ('commit', 'VERB'), ('to', 'PRT'), ('an', 'DET'), ('expensive', 'ADJ'), ('NBI', 'NOUN'), ('hardware', 'NOUN'), ('systems', 'NOUN'), ('because', 'ADP'), ('of', 'ADP'), ('the', 'DET'), ('company', 'NOUN'), (\"'s\", 'PRT'), ('financial', 'ADJ'), ('troubles', 'NOUN'), ('.', '.'), ('Government', 'NOUN'), ('construction', 'NOUN'), ('spending', 'NOUN'), ('rose', 'VERB'), ('4.3', 'NUM'), ('%', 'NOUN'), ('to', 'PRT'), ('$', '.'), ('88', 'NUM'), ('billion', 'NUM'), ('*U*', 'X'), ('.', '.'), ('There', 'DET'), (\"'s\", 'VERB'), ('no', 'DET'), ('culprit', 'NOUN'), ('here', 'ADV'), ('.', '.'), ('The', 'DET'), ('next', 'ADJ'), ('province', 'NOUN'), ('?', '.'), ('Homeless', 'ADJ'), ('people', 'NOUN'), ('not', 'ADV'), ('only', 'ADJ'), ('lack', 'VERB'), ('safety', 'NOUN'), (',', '.'), ('privacy', 'NOUN'), ('and', 'CONJ'), ('shelter', 'NOUN'), (',', '.'), ('they', 'PRON'), ('also', 'ADV'), ('lack', 'VERB'), ('the', 'DET'), ('elementary', 'ADJ'), ('necessities', 'NOUN'), ('of', 'ADP'), ('nutrition', 'NOUN'), (',', '.'), ('cleanliness', 'NOUN'), ('and', 'CONJ'), ('basic', 'ADJ'), ('health', 'NOUN'), ('care', 'NOUN'), ('.', '.'), ('In', 'ADP'), ('the', 'DET'), ('U.S.', 'NOUN'), ('over-the-counter', 'ADJ'), ('market', 'NOUN'), (',', '.'), ('American', 'ADJ'), ('depositary', 'NOUN'), ('shares', 'NOUN'), ('for', 'ADP'), ('Reuters', 'NOUN'), (',', '.'), ('each', 'DET'), ('representing', 'VERB'), ('three', 'NUM'), ('shares', 'NOUN'), ('in', 'ADP'), ('the', 'DET'), ('London', 'NOUN'), ('market', 'NOUN'), (',', '.'), ('closed', 'VERB'), ('unchanged', 'ADJ'), ('at', 'ADP'), ('$', '.'), ('43.875', 'NUM'), ('*U*', 'X'), ('.', '.'), ('The', 'DET'), ('spokesman', 'NOUN'), ('said', 'VERB'), ('0', 'X'), ('it', 'PRON'), ('is', 'VERB'), ('the', 'DET'), ('first', 'ADV'), ('early', 'ADJ'), ('retirement', 'NOUN'), ('plan', 'NOUN'), ('offered', 'VERB'), ('under', 'ADP'), ('its', 'PRON'), ('two-year', 'ADJ'), ('cost-control', 'ADJ'), ('strategy', 'NOUN'), ('.', '.'), ('Several', 'ADJ'), ('traders', 'NOUN'), ('maintained', 'VERB'), ('that', 'ADP'), ('the', 'DET'), ('Merc', 'NOUN'), (\"'s\", 'PRT'), ('12-point', 'ADJ'), ('circuit-breaker', 'NOUN'), ('aggravated', 'VERB'), ('the', 'DET'), ('market', 'NOUN'), ('slide', 'NOUN'), ('Oct.', 'NOUN'), ('13', 'NUM'), ('by', 'ADP'), ('*-1', 'X'), ('directing', 'VERB'), ('additional', 'ADJ'), ('selling', 'VERB'), ('pressure', 'NOUN'), ('to', 'PRT'), ('the', 'DET'), ('floor', 'NOUN'), ('of', 'ADP'), ('the', 'DET'), ('New', 'NOUN'), ('York', 'NOUN'), ('Stock', 'NOUN'), ('Exchange', 'NOUN'), ('.', '.'), ('Meanwhile', 'ADV'), (',', '.'), ('traders', 'NOUN'), ('in', 'ADP'), ('Tokyo', 'NOUN'), ('say', 'VERB'), ('that', 'ADP'), ('the', 'DET'), ('prospect', 'NOUN'), ('of', 'ADP'), ('lower', 'ADJ'), ('U.S.', 'NOUN'), ('interest', 'NOUN'), ('rates', 'NOUN'), ('has', 'VERB'), ('spurred', 'VERB'), ('dollar', 'NOUN'), ('buying', 'VERB'), ('by', 'ADP'), ('Japanese', 'ADJ'), ('institutions', 'NOUN'), ('.', '.'), ('Japanese', 'ADJ'), ('investment', 'NOUN'), ('in', 'ADP'), ('Southeast', 'NOUN'), ('Asia', 'NOUN'), ('is', 'VERB'), ('propelling', 'VERB'), ('the', 'DET'), ('region', 'NOUN'), ('toward', 'ADP'), ('economic', 'ADJ'), ('integration', 'NOUN'), ('.', '.'), ('And', 'CONJ'), ('then', 'ADV'), ('this', 'DET'), ('television', 'NOUN'), ('commercial', 'NOUN'), (',', '.'), ('paid', 'VERB'), ('for', 'ADV'), ('*', 'X'), ('by', 'ADP'), ('Republican', 'NOUN'), ('Rudolph', 'NOUN'), ('Giuliani', 'NOUN'), (\"'s\", 'PRT'), ('campaign', 'NOUN'), ('and', 'CONJ'), ('produced', 'VERB'), ('*', 'X'), ('by', 'ADP'), ('Roger', 'NOUN'), ('Ailes', 'NOUN'), (',', '.'), ('the', 'DET'), ('master', 'NOUN'), ('of', 'ADP'), ('negative', 'ADJ'), ('TV', 'NOUN'), ('ads', 'NOUN'), (',', '.'), ('really', 'ADV'), ('gets', 'VERB'), ('down', 'ADV'), ('to', 'PRT'), ('business', 'NOUN'), ('.', '.'), ('And', 'CONJ'), ('the', 'DET'), ('firms', 'NOUN'), ('are', 'VERB'), ('stretching', 'VERB'), ('their', 'PRON'), ('nets', 'NOUN'), ('far', 'ADV'), ('and', 'CONJ'), ('wide', 'ADV'), ('*-1', 'X'), ('to', 'PRT'), ('do', 'VERB'), ('it', 'PRON'), ('.', '.'), ('In', 'ADP'), ('the', 'DET'), ('interview', 'NOUN'), ('at', 'ADP'), ('headquarters', 'NOUN'), ('yesterday', 'NOUN'), ('afternoon', 'NOUN'), (',', '.'), ('both', 'DET'), ('men', 'NOUN'), ('exuded', 'VERB'), ('confidence', 'NOUN'), ('and', 'CONJ'), ('seemed', 'VERB'), ('*-1', 'X'), ('to', 'PRT'), ('work', 'VERB'), ('well', 'ADV'), ('together', 'ADV'), ('.', '.'), ('At', 'ADP'), ('Cray', 'NOUN'), ('Computer', 'NOUN'), (',', '.'), ('he', 'PRON'), ('will', 'VERB'), ('be', 'VERB'), ('paid', 'VERB'), ('*-26', 'X'), ('$', '.'), ('240,000', 'NUM'), ('*U*', 'X'), ('.', '.'), ('If', 'ADP'), ('not', 'ADV'), ('Chicago', 'NOUN'), (',', '.'), ('then', 'ADV'), ('in', 'ADP'), ('New', 'NOUN'), ('York', 'NOUN'), (';', '.'), ('if', 'ADP'), ('not', 'ADV'), ('the', 'DET'), ('U.S.', 'NOUN'), (',', '.'), ('then', 'ADV'), ('overseas', 'ADV'), ('.', '.'), ('Railroad', 'NOUN'), ('companies', 'NOUN'), ('and', 'CONJ'), ('some', 'DET'), ('ports', 'NOUN'), ('are', 'VERB'), ('reaping', 'VERB'), ('a', 'DET'), ('sudden', 'ADJ'), ('windfall', 'NOUN'), ('of', 'ADP'), ('business', 'NOUN'), ('.', '.'), ('``', '.'), ('So', 'ADP'), ('the', 'DET'), ('focus', 'NOUN'), ('turned', 'VERB'), ('to', 'PRT'), ('other', 'ADJ'), ('fixed-income', 'ADJ'), ('markets', 'NOUN'), (',', '.'), ('corporate', 'ADJ'), ('and', 'CONJ'), ('mortgages', 'NOUN'), ('in', 'ADP'), ('particular', 'ADJ'), (',', '.'), (\"''\", '.'), ('she', 'PRON'), ('said', 'VERB'), ('*T*-1', 'X'), ('.', '.'), ('$', '.'), ('107', 'NUM'), ('million', 'NUM'), ('*U*', 'X'), ('of', 'ADP'), ('tax', 'NOUN'), ('allocation', 'NOUN'), ('bonds', 'NOUN'), (',', '.'), ('1989', 'NUM'), ('Series', 'NOUN'), ('A-D', 'NOUN'), (',', '.'), ('due', 'ADJ'), ('1991-1999', 'NUM'), (',', '.'), ('2009', 'NUM'), ('and', 'CONJ'), ('2019', 'NUM'), (',', '.'), ('tentatively', 'ADV'), ('priced', 'VERB'), ('*', 'X'), ('by', 'ADP'), ('a', 'DET'), ('Donaldson', 'NOUN'), ('Lufkin', 'NOUN'), ('&', 'CONJ'), ('Jenrette', 'NOUN'), ('Securities', 'NOUN'), ('Corp.', 'NOUN'), ('group', 'NOUN'), ('*', 'X'), ('to', 'PRT'), ('yield', 'VERB'), ('from', 'ADP'), ('6.40', 'NUM'), ('%', 'NOUN'), ('in', 'ADP'), ('1991', 'NUM'), ('to', 'PRT'), ('7.458', 'NUM'), ('%', 'NOUN'), ('in', 'ADP'), ('2019', 'NUM'), ('.', '.'), ('Soon', 'ADV'), (',', '.'), ('T-shirts', 'NOUN'), ('*ICH*-1', 'X'), ('appeared', 'VERB'), ('in', 'ADP'), ('the', 'DET'), ('corridors', 'NOUN'), ('that', 'DET'), ('*T*-2', 'X'), ('carried', 'VERB'), ('the', 'DET'), ('school', 'NOUN'), (\"'s\", 'PRT'), ('familiar', 'ADJ'), ('red-and-white', 'ADJ'), ('GHS', 'NOUN'), ('logo', 'NOUN'), ('on', 'ADP'), ('the', 'DET'), ('front', 'NOUN'), ('.', '.'), ('Younkers', 'NOUN'), ('management', 'NOUN'), ('is', 'VERB'), ('likely', 'ADJ'), ('*-1', 'X'), ('to', 'PRT'), ('buy', 'VERB'), ('a', 'DET'), ('10', 'NUM'), ('%', 'NOUN'), ('to', 'PRT'), ('20', 'NUM'), ('%', 'NOUN'), ('*U*', 'X'), ('interest', 'NOUN'), ('in', 'ADP'), ('the', 'DET'), ('chain', 'NOUN'), ('in', 'ADP'), ('January', 'NOUN'), (',', '.'), ('said', 'VERB'), ('0', 'X'), ('*T*-2', 'X'), ('Fred', 'NOUN'), ('S.', 'NOUN'), ('Hubbell', 'NOUN'), (',', '.'), ('Equitable', 'NOUN'), (\"'s\", 'PRT'), ('president', 'NOUN'), ('and', 'CONJ'), ('chief', 'NOUN'), ('executive', 'NOUN'), ('officer', 'NOUN'), ('.', '.'), ('$', '.'), ('750', 'NUM'), ('million', 'NUM'), ('*U*', 'X'), ('of', 'ADP'), ('8', 'NUM'), ('3\\\\/8', 'NUM'), ('%', 'NOUN'), ('debentures', 'NOUN'), ('due', 'ADJ'), ('Nov.', 'NOUN'), ('1', 'NUM'), (',', '.'), ('2019', 'NUM'), (',', '.'), ('priced', 'VERB'), ('*', 'X'), ('at', 'ADP'), ('99', 'NUM'), ('*', 'X'), ('to', 'PRT'), ('yield', 'VERB'), ('8.467', 'NUM'), ('%', 'NOUN'), ('.', '.'), ('But', 'ADP'), ('in', 'ADP'), ('the', 'DET'), ('three', 'NUM'), ('leading', 'VERB'), ('political', 'ADJ'), ('contests', 'NOUN'), ('of', 'ADP'), ('1989', 'NUM'), (',', '.'), ('the', 'DET'), ('negative', 'ADJ'), ('ads', 'NOUN'), ('have', 'VERB'), ('reached', 'VERB'), ('new', 'ADJ'), ('levels', 'NOUN'), ('of', 'ADP'), ('hostility', 'NOUN'), (',', '.'), ('*-1', 'X'), ('raising', 'VERB'), ('fears', 'NOUN'), ('that', 'ADP'), ('this', 'DET'), ('kind', 'NOUN'), ('of', 'ADP'), ('mudslinging', 'NOUN'), (',', '.'), ('empty', 'ADJ'), ('of', 'ADP'), ('significant', 'ADJ'), ('issues', 'NOUN'), (',', '.'), ('is', 'VERB'), ('ushering', 'VERB'), ('in', 'ADP'), ('a', 'DET'), ('new', 'ADJ'), ('era', 'NOUN'), ('of', 'ADP'), ('campaigns', 'NOUN'), ('without', 'ADP'), ('content', 'NOUN'), ('.', '.'), ('Mitsubishi', 'NOUN'), (\"'s\", 'PRT'), ('investment', 'NOUN'), ('in', 'ADP'), ('Free', 'NOUN'), ('State', 'NOUN'), ('is', 'VERB'), ('``', '.'), ('very', 'ADV'), ('small', 'ADJ'), ('...', '.'), ('less', 'ADJ'), ('than', 'ADP'), ('$', '.'), ('4', 'NUM'), ('million', 'NUM'), ('*U*', 'X'), (',', '.'), (\"''\", '.'), ('Mr.', 'NOUN'), ('Wakui', 'NOUN'), ('says', 'VERB'), ('0', 'X'), ('*T*-1', 'X'), ('.', '.'), ('But', 'CONJ'), ('it', 'PRON'), ('does', 'VERB'), (\"n't\", 'ADV'), ('take', 'VERB'), ('much', 'ADJ'), ('*', 'X'), ('to', 'PRT'), ('get', 'VERB'), ('burned', 'VERB'), ('*-1', 'X'), ('.', '.'), ('Mr.', 'NOUN'), ('Wilder', 'NOUN'), ('did', 'VERB'), ('introduce', 'VERB'), ('such', 'ADJ'), ('legislation', 'NOUN'), ('17', 'NUM'), ('years', 'NOUN'), ('ago', 'ADV'), (',', '.'), ('but', 'CONJ'), ('he', 'PRON'), ('did', 'VERB'), ('so', 'ADV'), ('at', 'ADP'), ('the', 'DET'), ('request', 'NOUN'), ('of', 'ADP'), ('a', 'DET'), ('constituent', 'NOUN'), (',', '.'), ('a', 'DET'), ('common', 'ADJ'), ('legislative', 'ADJ'), ('technique', 'NOUN'), ('used', 'VERB'), ('*', 'X'), ('by', 'ADP'), ('lawmakers', 'NOUN'), ('.', '.'), ('Brisk', 'ADJ'), ('domestic', 'ADJ'), ('demand', 'NOUN'), ('due', 'ADJ'), ('to', 'PRT'), ('increasing', 'VERB'), ('capital', 'NOUN'), ('investment', 'NOUN'), ('pushed', 'VERB'), ('up', 'PRT'), ('sales', 'NOUN'), ('sharply', 'ADV'), ('in', 'ADP'), ('construction', 'NOUN'), ('and', 'CONJ'), ('industrial', 'ADJ'), ('machinery', 'NOUN'), ('divisions', 'NOUN'), ('.', '.'), ('They', 'PRON'), ('blamed', 'VERB'), ('increased', 'VERB'), ('demand', 'NOUN'), ('for', 'ADP'), ('dairy', 'NOUN'), ('products', 'NOUN'), ('at', 'ADP'), ('a', 'DET'), ('time', 'NOUN'), ('of', 'ADP'), ('exceptionally', 'ADV'), ('high', 'ADJ'), ('U.S.', 'NOUN'), ('exports', 'NOUN'), ('of', 'ADP'), ('dry', 'ADJ'), ('milk', 'NOUN'), (',', '.'), ('coupled', 'VERB'), ('*', 'X'), ('with', 'ADP'), ('very', 'ADV'), ('low', 'ADJ'), ('import', 'NOUN'), ('quotas', 'NOUN'), ('.', '.'), ('``', '.'), ('They', 'PRON'), ('view', 'VERB'), ('this', 'DET'), ('as', 'ADP'), ('a', 'DET'), ('growth', 'NOUN'), ('area', 'NOUN'), ('so', 'ADP'), ('they', 'PRON'), ('went', 'VERB'), ('about', 'ADP'), ('it', 'PRON'), ('with', 'ADP'), ('a', 'DET'), ('systematic', 'ADJ'), ('approach', 'NOUN'), (',', '.'), (\"''\", '.'), ('says', 'VERB'), ('*T*-1', 'X'), ('Richard', 'NOUN'), ('Olsen', 'NOUN'), (',', '.'), ('a', 'DET'), ('Candela', 'NOUN'), ('vice', 'NOUN'), ('president', 'NOUN'), ('.', '.'), ('The', 'DET'), ('Fed', 'NOUN'), ('is', 'VERB'), ('coming', 'VERB'), ('under', 'ADP'), ('pressure', 'NOUN'), ('*', 'X'), ('to', 'PRT'), ('cut', 'VERB'), ('short-term', 'ADJ'), ('interest', 'NOUN'), ('rates', 'NOUN'), ('due', 'ADJ'), ('to', 'PRT'), ('the', 'DET'), ('apparent', 'ADJ'), ('slowing', 'NOUN'), ('of', 'ADP'), ('the', 'DET'), ('economy', 'NOUN'), ('.', '.'), ('Rep.', 'NOUN'), ('James', 'NOUN'), ('Traficant', 'NOUN'), ('-LRB-', '.'), ('D.', 'NOUN'), (',', '.'), ('Ohio', 'NOUN'), ('-RRB-', '.'), (',', '.'), ('said', 'VERB'), ('0', 'X'), ('the', 'DET'), ('amendment', 'NOUN'), (',', '.'), ('which', 'DET'), ('*T*-19', 'X'), ('passed', 'VERB'), ('271-147', 'NUM'), (',', '.'), ('would', 'VERB'), ('``', '.'), ('let', 'VERB'), ('the', 'DET'), ('American', 'ADJ'), ('worker', 'NOUN'), ('know', 'VERB'), ('that', 'ADP'), ('we', 'PRON'), ('consider', 'VERB'), ('them', 'PRON'), ('occasionally', 'ADV'), ('.', '.'), (\"''\", '.'), ('*', 'X'), ('Pick', 'VERB'), ('a', 'DET'), ('country', 'NOUN'), (',', '.'), ('any', 'DET'), ('country', 'NOUN'), ('.', '.'), ('But', 'CONJ'), ('courts', 'NOUN'), ('quickly', 'ADV'), ('tumbled', 'VERB'), ('down', 'ADP'), ('a', 'DET'), ('slippery', 'ADJ'), ('slope', 'NOUN'), ('.', '.'), ('Mrs.', 'NOUN'), ('Ward', 'NOUN'), ('says', 'VERB'), ('that', 'ADP'), ('when', 'ADV'), ('the', 'DET'), ('cheating', 'NOUN'), ('was', 'VERB'), ('discovered', 'VERB'), ('*-4', 'X'), ('*T*-1', 'X'), (',', '.'), ('she', 'PRON'), ('wanted', 'VERB'), ('*-2', 'X'), ('to', 'PRT'), ('avoid', 'VERB'), ('the', 'DET'), ('morale-damaging', 'ADJ'), ('public', 'ADJ'), ('disclosure', 'NOUN'), ('that', 'ADP'), ('a', 'DET'), ('trial', 'NOUN'), ('would', 'VERB'), ('bring', 'VERB'), ('*T*-3', 'X'), ('.', '.'), ('Even', 'ADV'), ('a', 'DET'), ('low-tech', 'ADJ'), ('product', 'NOUN'), ('like', 'ADP'), ('plate', 'NOUN'), ('glass', 'NOUN'), ('can', 'VERB'), ('catch', 'VERB'), ('a', 'DET'), ('trading', 'NOUN'), ('company', 'NOUN'), (\"'s\", 'PRT'), ('fancy', 'NOUN'), ('if', 'ADP'), ('there', 'DET'), (\"'s\", 'VERB'), ('a', 'DET'), ('strategic', 'ADJ'), ('fit', 'NOUN'), ('.', '.'), ('Michael', 'NOUN'), ('R.', 'NOUN'), ('Bromwich', 'NOUN'), (',', '.'), ('a', 'DET'), ('member', 'NOUN'), ('since', 'ADP'), ('January', 'NOUN'), ('1987', 'NUM'), ('of', 'ADP'), ('the', 'DET'), ('three-lawyer', 'ADJ'), ('trial', 'NOUN'), ('team', 'NOUN'), ('in', 'ADP'), ('the', 'DET'), ('prosecution', 'NOUN'), ('of', 'ADP'), ('Oliver', 'NOUN'), ('North', 'NOUN'), (',', '.'), ('became', 'VERB'), ('a', 'DET'), ('partner', 'NOUN'), ('in', 'ADP'), ('the', 'DET'), ('Washington', 'NOUN'), (',', '.'), ('D.C.', 'NOUN'), (',', '.'), ('office', 'NOUN'), ('of', 'ADP'), ('the', 'DET'), ('520-lawyer', 'ADJ'), ('firm', 'NOUN'), ('.', '.'), ('And', 'CONJ'), (',', '.'), ('of', 'ADP'), ('course', 'NOUN'), (',', '.'), ('there', 'DET'), (\"'s\", 'VERB'), ('that', 'DET'), ('word', 'NOUN'), ('``', '.'), ('dissemination', 'NOUN'), ('.', '.'), (\"''\", '.'), ('Pierre', 'NOUN'), ('Vinken', 'NOUN'), (',', '.'), ('61', 'NUM'), ('years', 'NOUN'), ('old', 'ADJ'), (',', '.'), ('will', 'VERB'), ('join', 'VERB'), ('the', 'DET'), ('board', 'NOUN'), ('as', 'ADP'), ('a', 'DET'), ('nonexecutive', 'ADJ'), ('director', 'NOUN'), ('Nov.', 'NOUN'), ('29', 'NUM'), ('.', '.'), ('Mr.', 'NOUN'), ('Simmons', 'NOUN'), ('owns', 'VERB'), ('88', 'NUM'), ('%', 'NOUN'), ('of', 'ADP'), ('Valhi', 'NOUN'), ('Inc.', 'NOUN'), (',', '.'), ('which', 'DET'), ('in', 'ADP'), ('turn', 'NOUN'), ('*T*-1', 'X'), ('owns', 'VERB'), ('two-thirds', 'NOUN'), ('of', 'ADP'), ('NL', 'NOUN'), ('.', '.'), ('In', 'ADP'), ('1986-87', 'NUM'), ('and', 'CONJ'), ('1987-88', 'NUM'), (',', '.'), ('she', 'PRON'), ('applied', 'VERB'), ('for', 'ADP'), ('*RNR*-1', 'X'), ('and', 'CONJ'), ('won', 'VERB'), ('*RNR*-1', 'X'), ('bonus', 'NOUN'), ('pay', 'NOUN'), ('under', 'ADP'), ('the', 'DET'), ('reform', 'NOUN'), ('law', 'NOUN'), ('.', '.'), ('Her', 'PRON'), ('alternative', 'NOUN'), ('was', 'VERB'), ('90', 'NUM'), ('days', 'NOUN'), ('in', 'ADP'), ('jail', 'NOUN'), ('.', '.'), ('Moscow', 'NOUN'), ('has', 'VERB'), ('settled', 'VERB'), ('pre-1917', 'ADJ'), ('debts', 'NOUN'), ('with', 'ADP'), ('other', 'ADJ'), ('countries', 'NOUN'), ('in', 'ADP'), ('recent', 'ADJ'), ('years', 'NOUN'), ('at', 'ADP'), ('less', 'ADJ'), ('than', 'ADP'), ('face', 'NOUN'), ('value', 'NOUN'), ('.', '.'), ('``', '.'), ('We', 'PRON'), ('have', 'VERB'), ('a', 'DET'), ('long', 'ADJ'), ('history', 'NOUN'), ('of', 'ADP'), ('*', 'X'), ('maintaining', 'VERB'), ('an', 'DET'), ('open', 'ADJ'), ('direct-investment', 'ADJ'), ('policy', 'NOUN'), (',', '.'), (\"''\", '.'), ('Mr.', 'NOUN'), ('Dallara', 'NOUN'), ('says', 'VERB'), ('*T*-1', 'X'), ('.', '.'), ('But', 'CONJ'), ('the', 'DET'), ('number', 'NOUN'), ('of', 'ADP'), ('weddings', 'NOUN'), ('last', 'ADJ'), ('year', 'NOUN'), ('--', '.'), ('271,124', 'NUM'), ('--', '.'), ('was', 'VERB'), ('still', 'ADV'), ('well', 'ADV'), ('below', 'ADP'), ('the', 'DET'), ('400,000', 'NUM'), ('registered', 'VERB'), ('*', 'X'), ('in', 'ADP'), ('1972', 'NUM'), (',', '.'), ('the', 'DET'), ('last', 'ADJ'), ('year', 'NOUN'), ('of', 'ADP'), ('increasing', 'VERB'), ('marriages', 'NOUN'), ('.', '.'), ('So', 'ADV'), ('if', 'ADP'), ('index', 'NOUN'), ('arbitrage', 'NOUN'), ('is', 'VERB'), ('simply', 'ADV'), ('*', 'X'), ('taking', 'VERB'), ('advantage', 'NOUN'), ('of', 'ADP'), ('thin', 'ADJ'), ('inefficiencies', 'NOUN'), ('between', 'ADP'), ('two', 'NUM'), ('markets', 'NOUN'), ('for', 'ADP'), ('the', 'DET'), ('same', 'ADJ'), ('widget', 'NOUN'), (',', '.'), ('how', 'ADV'), ('did', 'VERB'), ('``', '.'), ('program', 'NOUN'), ('trading', 'NOUN'), (\"''\", '.'), ('evolve', 'VERB'), ('into', 'ADP'), ('the', 'DET'), ('evil', 'ADJ'), ('creature', 'NOUN'), ('that', 'DET'), ('*T*-2', 'X'), ('is', 'VERB'), ('evoking', 'VERB'), ('the', 'DET'), ('curses', 'NOUN'), ('of', 'ADP'), ('so', 'ADV'), ('many', 'ADJ'), ('observers', 'NOUN'), ('*T*-1', 'X'), ('?', '.'), ('At', 'ADP'), ('the', 'DET'), ('same', 'ADJ'), ('time', 'NOUN'), (',', '.'), ('export', 'NOUN'), ('demand', 'NOUN'), ('for', 'ADP'), ('U.S.', 'NOUN'), ('wheat', 'NOUN'), (',', '.'), ('corn', 'NOUN'), ('and', 'CONJ'), ('other', 'ADJ'), ('commodities', 'NOUN'), ('strengthened', 'VERB'), (',', '.'), ('said', 'VERB'), ('*T*-1', 'X'), ('Keith', 'NOUN'), ('Collins', 'NOUN'), (',', '.'), ('a', 'DET'), ('department', 'NOUN'), ('analyst', 'NOUN'), ('.', '.'), ('The', 'DET'), ('previous', 'ADJ'), ('record', 'NOUN'), ('was', 'VERB'), ('$', '.'), ('57.7', 'NUM'), ('billion', 'NUM'), ('*U*', 'X'), ('in', 'ADP'), ('1987', 'NUM'), (',', '.'), ('according', 'VERB'), ('to', 'PRT'), ('the', 'DET'), ('Agriculture', 'NOUN'), ('Department', 'NOUN'), ('.', '.'), ('The', 'DET'), ('Continental', 'NOUN'), ('Baking', 'NOUN'), ('business', 'NOUN'), ('benefited', 'VERB'), ('from', 'ADP'), ('higher', 'ADJ'), ('margins', 'NOUN'), ('on', 'ADP'), ('bread', 'NOUN'), ('and', 'CONJ'), ('on', 'ADP'), ('increased', 'VERB'), ('cake', 'NOUN'), ('sales', 'NOUN'), (',', '.'), ('it', 'PRON'), ('added', 'VERB'), ('0', 'X'), ('*T*-1', 'X'), ('.', '.')]\n",
      "\n",
      "['Attorneys', 'in', 'the', 'third', 'stock-manipulation', 'trial', 'of', 'GAF', 'Corp.', 'began', 'opening', 'arguments', 'yesterday', 'in', 'the', 'Manhattan', 'courtroom', 'of', 'U.S.', 'District', 'Judge', 'Mary', 'Johnson', 'Lowe', '.', '*', 'Choose', '203', 'business', 'executives', ',', 'including', ',', 'perhaps', ',', 'someone', 'from', 'your', 'own', 'staff', ',', 'and', '*', 'put', 'them', 'out', 'on', 'the', 'streets', ',', '*-1', 'to', 'be', 'deprived', '*-24', 'for', 'one', 'month', 'of', 'their', 'homes', ',', 'families', 'and', 'income', '.', 'For', 'instance', ',', 'at', 'the', 'first', 'meeting', 'the', 'two', 'sides', 'could', \"n't\", 'even', 'agree', 'on', 'basic', 'data', 'used', '*', 'in', 'price', 'discussions', '.', 'USX', 'has', 'about', '$', '5.5', 'billion', '*U*', 'in', 'long-term', 'debt', 'and', '257', 'million', 'shares', 'outstanding', '.', 'But', 'as', 'Duke', 'University', 'law', 'professor', 'William', 'Van', 'Alstyne', 'notes', ',', 'by', 'this', 'reasoning', 'a', 'defendant', 'could', 'be', 'held', '*-1', 'liable', 'in', 'New', 'York', 'for', 'a', 'bad', 'apple', 'even', 'if', 'he', 'sold', 'all', 'his', 'apples', 'in', 'California', '.', '``', 'When', 'I', 'see', 'prints', 'going', 'into', 'the', 'hands', 'of', 'institutions', '*T*-1', ',', 'I', 'know', '0', 'they', 'are', \"n't\", 'going', '*-2', 'to', 'come', 'back', 'on', 'the', 'market', '.', \"''\", 'The', 'companies', 'are', 'giving', 'four-day', 'vacations', 'for', 'two', 'to', 'Buick', 'buyers', 'who', '*T*-51', 'charge', 'all', 'or', 'part', 'of', 'their', 'down', 'payments', 'on', 'the', 'American', 'Express', 'green', 'card', '.', 'The', 'AT&T', 'team', 'also', 'is', 'trying', '*-1', 'to', 'combine', 'their', 'latest', 'superconductor', 'process', 'with', '``', 'melt-textured', 'growth', ',', \"''\", 'a', 'process', 'discovered', '*', 'earlier', 'at', 'Bell', 'Laboratories', '.', 'Over', '50', 'witnesses', ',', 'mostly', 'students', ',', 'were', 'interviewed', '*-1', '.', 'The', 'panel', 'ruled', 'that', 'the', 'restrictions', 'do', \"n't\", 'violate', 'the', 'freedom', 'of', 'speech', 'of', 'health', 'care', 'providers', 'and', 'that', 'the', 'limits', 'on', 'counseling', 'services', 'do', \"n't\", 'violate', 'the', 'rights', 'of', 'pregnant', 'women', '.', 'Temple', ',', 'however', ',', 'harshly', 'criticized', 'Sea', 'Containers', \"'\", 'plan', 'yesterday', ',', '*-1', 'characterizing', 'it', 'as', 'a', '``', 'highly', 'conditional', 'device', 'designed', '*', '*-2', 'to', 'entrench', 'management', ',', 'confuse', 'shareholders', 'and', 'prevent', 'them', 'from', '*-3', 'accepting', 'our', 'superior', 'cash', 'offer', '.', \"''\", 'Net', 'cash', 'income', '--', 'the', 'amount', 'left', '*', 'in', 'farmers', \"'\", 'pockets', 'after', '*', 'deducting', 'expenses', 'from', 'gross', 'cash', 'income', '--', 'increased', 'in', '33', 'states', 'in', '1988', ',', 'as', 'the', 'drought', 'cut', 'into', 'crop', 'yields', 'and', 'drove', 'up', 'commodity', 'prices', ',', 'the', 'department', \"'s\", 'Economic', 'Research', 'Service', 'reported', '0', '*T*-1', 'yesterday', '.', 'The', '32', '%', 'state-owned', 'DSM', 'had', 'eight', 'million', 'guilders', 'of', 'extraordinary', 'charges', 'in', 'the', 'latest', 'quarter', ',', 'mainly', '*', 'to', 'reflect', 'one-time', 'losses', 'in', 'connection', 'with', 'the', 'disposal', 'of', 'some', 'operations', '.', 'Wednesday', \"'s\", 'volume', 'on', 'the', 'First', 'Section', 'was', 'estimated', '*-1', 'at', '900', 'million', 'shares', ',', 'in', 'line', 'with', 'Tuesday', \"'s\", '909', 'million', '.', 'While', 'the', 'new', 'proposal', 'might', 'appeal', 'to', 'the', 'dirtiest', 'utilities', ',', 'it', 'might', 'not', 'win', 'the', 'support', 'of', 'utilities', ',', 'many', 'in', 'the', 'West', ',', 'that', '*T*-1', 'already', 'have', 'added', 'expensive', 'cleanup', 'equipment', 'or', 'burn', 'cleaner-burning', 'fuels', '.', 'Also', ',', 'more', 'people', 'said', '0', 'conditions', 'will', 'worsen', 'in', 'the', 'period', '.', 'The', 'new', 'plant', ',', 'located', '*', 'in', 'Chinchon', 'about', '60', 'miles', 'from', 'Seoul', ',', 'will', 'help', '*-2', 'meet', 'increasing', 'and', 'diversifying', 'demand', 'for', 'control', 'products', 'in', 'South', 'Korea', ',', 'the', 'company', 'said', '0', '*T*-1', '.', '``', 'You', 'really', 'need', 'the', 'Campbell', 'Soups', 'of', 'the', 'world', 'to', 'be', 'interested', 'in', 'your', 'magazine', 'if', 'you', \"'re\", 'going', '*-1', 'to', 'make', 'a', 'run', 'of', 'it', ',', \"''\", 'says', '*T*-2', 'Mike', 'White', ',', 'senior', 'vice', 'president', 'and', 'media', 'director', 'at', 'DDB', 'Needham', ',', 'Chicago', '.', 'In', 'addition', ',', 'the', 'Apple', 'II', 'was', 'an', 'affordable', '$', '1,298', '*U*', '.', 'The', 'Japanese', 'fret', 'openly', 'about', 'the', 'U.S.', 'public', \"'s\", 'rancor', '.', 'At', 'the', 'same', 'time', ',', 'the', 'drop', 'in', 'interest', 'rates', 'since', 'the', 'spring', 'has', 'failed', '*-1', 'to', 'revive', 'the', 'residential', 'construction', 'industry', '.', 'In', 'Washington', ',', 'House', 'aides', 'said', '0', 'Mr.', 'Phelan', 'told', 'congressmen', 'that', 'the', 'collar', ',', 'which', '*T*-213', 'banned', 'program', 'trades', 'through', 'the', 'Big', 'Board', \"'s\", 'computer', 'when', 'the', 'Dow', 'Jones', 'Industrial', 'Average', 'moved', '50', 'points', '*T*-1', ',', 'did', \"n't\", 'work', 'well', '.', 'The', 'ad', 'prompted', 'Mr.', 'Coleman', ',', 'the', 'former', 'Virginia', 'attorney', 'general', ',', 'to', 'launch', 'a', 'series', 'of', 'advertisements', 'created', '*', 'by', 'Bob', 'Goodman', 'and', 'designed', '*', '*-2', 'to', 'shake', 'Mr.', 'Wilder', \"'s\", 'support', 'among', 'the', 'very', 'women', 'who', '*T*-77', 'were', 'attracted', '*-1', 'by', 'the', 'abortion', 'ad', '.', 'An', 'airline', 'buy-out', 'bill', 'was', 'approved', '*-1', 'by', 'the', 'House', '.', 'Manufacturers', \"'\", 'backlogs', 'of', 'unfilled', 'orders', 'rose', '0.5', '%', 'in', 'September', 'to', '$', '497.34', 'billion', '*U*', ',', '*-3', 'helped', '*-2', 'by', 'strength', 'in', 'the', 'defense', 'capital', 'goods', 'sector', '.', '``', 'There', \"'s\", 'a', 'price', 'above', 'which', 'I', \"'m\", 'positive', '0', 'Marshall', 'has', 'the', 'courage', '0', '*', 'not', 'to', 'pay', '*T*-1', '*T*-3', ',', \"''\", 'says', '*T*-2', 'A.D.', 'Correll', ',', 'Georgia-Pacific', \"'s\", 'executive', 'vice', 'president', 'for', 'pulp', 'and', 'paper', '.', 'In', 'less', 'parched', 'areas', ',', 'meanwhile', ',', 'farmers', 'who', '*T*-43', 'had', 'little', 'or', 'no', 'loss', 'of', 'production', 'profited', 'greatly', 'from', 'the', 'higher', 'prices', '.', 'Alan', 'F.', 'Shugart', ',', 'currently', 'chairman', 'of', 'Seagate', 'Technology', ',', 'led', 'the', 'team', 'that', '*T*-32', 'developed', 'the', 'disk', 'drives', 'for', 'PCs', '.', 'Prior', 'to', 'his', 'term', ',', 'a', 'teacher', 'bled', 'to', 'death', 'in', 'the', 'halls', ',', '*-1', 'stabbed', '*-2', 'by', 'a', 'student', '.', 'Third', 'quarter', ',', 'Sept.', '30', ',', '1989', ':', 'Net', 'loss', ':', '$', '11.57', '*U*', 'a', 'share', 'vs.', 'net', 'income', ':', '37', 'cents', 'a', 'share', 'Domestic', 'sales', 'of', 'construction', 'machinery', ',', 'such', 'as', 'power', 'shovels', 'and', 'bulldozers', 'rose', 'to', '142.84', 'billion', 'yen', 'from', '126.15', 'billion', 'yen', '.', 'Furukawa', 'Co.', 'of', 'Japan', 'said', '0', 'it', 'will', 'acquire', 'two', 'construction', 'machinery', 'plants', 'and', 'a', 'sales', 'unit', 'in', 'France', 'formerly', 'belonging', 'to', 'Dresser', 'Industries', 'Inc.', 'of', 'the', 'U.S.', '.', 'Under', 'a', '1934', 'law', ',', 'the', 'Johnson', 'Debt', 'Default', 'Act', ',', 'as', '*', 'amended', '*-1', ',', 'it', '*EXP*-2', \"'s\", 'illegal', 'for', 'Americans', 'to', 'extend', 'credit', 'to', 'countries', 'in', 'default', 'to', 'the', 'U.S.', 'government', ',', 'unless', 'they', 'are', 'members', 'of', 'the', 'World', 'Bank', 'and', 'International', 'Monetary', 'Fund', '.', 'He', 'succeeds', 'James', 'A.', 'Taylor', ',', 'who', '*T*-1', 'stepped', 'down', 'as', 'chairman', ',', 'president', 'and', 'chief', 'executive', 'in', 'March', 'for', 'health', 'reasons', '.', '2', '.', '*', 'Take', 'a', 'Hawaiian', 'vacation', '.', 'The', 'department', \"'s\", 'Occupational', 'Safety', 'and', 'Health', 'Administration', 'proposed', 'fines', 'of', '$', '6.1', 'million', '*U*', 'for', 'alleged', 'violations', 'at', 'the', 'company', \"'s\", 'Fairless', 'Hills', ',', 'Pa.', ',', 'steel', 'mill', ';', 'that', 'was', 'a', 'record', 'for', 'proposed', 'penalties', 'at', 'any', 'single', 'facility', '.', 'The', 'last', 'thing', '0', 'they', 'needed', '*T*-1', 'was', 'another', 'drag-down', 'blow', '.', \"''\", 'Not', 'that', 'Washington', 'and', 'Tokyo', 'disagree', 'on', 'the', 'Japanese', 'acquisitions', ';', 'indeed', ',', 'each', 'has', 'come', 'out', 'in', 'favor', 'of', 'unfettered', 'investment', 'in', 'the', 'U.S.', '.', 'The', 'Merc', 'said', '0', 'that', 'five-point', 'limit', 'will', 'remain', 'in', 'effect', 'for', 'the', 'first', '10', 'minutes', 'of', 'trading', '.', 'Tokyo', 'stocks', 'edged', 'up', 'Wednesday', 'in', 'relatively', 'active', 'but', 'unfocused', 'trading', '.', 'It', 'rose', '7\\\\/8', 'to', '18', '1\\\\/4', '.', '``', 'We', 'thought', '0', 'it', 'was', 'awfully', 'expensive', ',', \"''\", 'said', '*T*-2', 'Sterling', 'Pratt', ',', 'wine', 'director', 'at', 'Schaefer', \"'s\", 'in', 'Skokie', ',', 'Ill.', ',', 'one', 'of', 'the', 'top', 'stores', 'in', 'suburban', 'Chicago', ',', '``', 'but', 'there', 'are', 'people', 'out', 'there', 'with', 'very', 'different', 'opinions', 'of', 'value', '.', 'Evidence', 'of', 'widespread', 'cheating', 'has', 'surfaced', 'in', 'several', 'states', 'in', 'the', 'last', 'year', 'or', 'so', '.', '``', 'He', 'appears', '*-1', 'to', 'be', 'in', 'it', 'for', 'the', 'long', 'haul', '.', \"''\", 'All', 'came', 'from', 'Cray', 'Research', '.', 'Nevertheless', ',', 'both', 'Mr.', 'Guffey', 'and', 'Mr.', 'Black', 'say', '0', 'the', 'slowdown', 'so', 'far', 'is', 'no', 'cause', 'for', 'concern', '.', 'And', 'it', '*EXP*-2', 'is', \"n't\", 'clear', 'that', 'the', 'Soviet', 'Union', 'will', 'stay', 'on', 'its', 'record', 'buying', 'pace', '.', 'The', 'concept', \"'s\", 'goal', 'was', '*', 'to', 'eliminate', 'bureaucracy', 'and', 'make', 'Ford', \"'s\", 'product', 'development', 'more', 'responsive', 'to', 'consumer', 'demands', '.', 'Estimated', 'and', 'actual', 'results', 'involving', 'losses', 'are', 'omitted', '*-1', '.', 'There', 'is', '$', '81.8', 'million', '*U*', 'of', '7.20', '%', 'term', 'bonds', 'due', '2009', 'priced', '*', 'at', '99', '1\\\\/4', '*', 'to', 'yield', '7.272', '%', '.', '``', 'Do', 'I', 'have', 'much', 'sympathy', 'for', 'her', '?', \"''\", 'Mr.', 'Watson', 'asks', '*T*-1', '.', 'But', 'he', 'also', 'showed', 'a', 'willingness', '*-1', 'to', 'take', 'a', 'strong', 'stand', '.', 'The', 'record', 'corn-buying', 'binge', 'by', 'the', 'Soviet', 'Union', 'is', 'causing', 'serious', 'bottlenecks', 'in', 'the', 'U.S.', 'grain', 'pipeline', '.', 'To', 'the', 'surprise', 'of', 'some', 'analysts', ',', 'net', 'cash', 'income', 'rose', 'in', 'some', 'of', 'the', 'hardest-hit', 'states', ',', 'including', 'Indiana', ',', 'Illinois', ',', 'Nebraska', 'and', 'the', 'Dakotas', '.', 'The', 'indexers', 'charge', 'only', 'a', 'few', 'pennies', 'per', '$', '100', '*U*', 'managed', '*', '.', 'So', 'far', ',', 'they', 'said', '0', '*T*-2', ',', 'investors', 'appear', 'unenthusiastic', 'about', 'the', 'new', 'issue', 'which', '*T*-1', 'might', 'force', 'the', 'government', 'to', 'raise', 'the', 'coupon', 'to', 'more', 'than', '7', '%', '.', 'That', 'commercial', '--', 'which', '*T*-76', 'said', '0', 'Mr.', 'Coleman', 'wanted', '*-1', 'to', 'take', 'away', 'the', 'right', 'of', 'abortion', '``', 'even', 'in', 'cases', 'of', 'rape', 'and', 'incest', ',', \"''\", 'a', 'charge', '0', 'Mr.', 'Coleman', 'denies', '*T*-2', '--', 'changed', 'the', 'dynamics', 'of', 'the', 'campaign', ',', '*-3', 'transforming', 'it', ',', 'at', 'least', 'in', 'part', ',', 'into', 'a', 'referendum', 'on', 'abortion', '.', 'The', 'company', 'said', '0', 'the', 'restructuring', 'is', \"n't\", 'expected', '*-1', 'to', 'have', 'any', 'impact', ',', 'adverse', 'or', 'otherwise', ',', 'on', 'its', 'financial', 'results', '.', 'A', 'House', 'aide', 'suggested', 'that', 'Mr.', 'Phelan', 'was', 'so', '``', 'vague', 'and', 'mushy', \"''\", 'that', 'it', 'was', 'the', 'kind', 'of', 'meeting', 'where', 'people', 'of', 'all', 'viewpoints', 'could', '``', 'come', 'out', '*-2', 'feeling', 'good', '*T*-1', '.', \"''\", 'Mr.', 'Spiegel', \"'s\", 'next', 'career', 'move', 'is', 'a', 'subject', 'of', 'speculation', 'on', 'Wall', 'Street', '.', 'A', 'series', 'of', '5,000', 'or', 'so', 'changes', 'is', 'a', '``', 'peal', \"''\", 'and', 'takes', 'about', 'three', 'hours', '.', 'But', 'she', 'believes', 'that', '``', 'program', 'trading', 'creates', 'deviant', 'swings', '.', 'Fujitsu', 'said', '0', 'it', 'bid', 'the', 'equivalent', 'of', 'less', 'than', 'a', 'U.S.', 'penny', 'on', 'three', 'separate', 'municipal', 'contracts', 'during', 'the', 'past', 'two', 'years', '.', 'U.S.', 'trade', 'officials', 'said', '0', 'the', 'Philippines', 'and', 'Thailand', 'would', 'be', 'the', 'main', 'beneficiaries', 'of', 'the', 'president', \"'s\", 'action', '.', 'That', \"'s\", 'almost', '$', '10', '*U*', 'of', 'equity', 'for', 'each', 'Columbia', 'share', ',', 'including', 'convertible', 'preferred', 'shares', ',', 'though', 'more', 'junk', 'markdowns', 'would', 'reduce', 'the', 'cushion', '.', 'The', 'following', 'were', 'among', 'yesterday', \"'s\", 'offerings', 'and', 'pricings', 'in', 'the', 'U.S.', 'and', 'non-U.S.', 'capital', 'markets', ',', 'with', 'terms', 'and', 'syndicate', 'manager', ',', 'as', '*', 'compiled', '*-1', 'by', 'Dow', 'Jones', 'Capital', 'Markets', 'Report', ':', 'Most', 'of', 'those', 'states', 'set', 'farm', 'income', 'records', '.', 'In', 'this', 'era', 'of', 'frantic', 'competition', 'for', 'ad', 'dollars', ',', 'a', 'lot', 'of', 'revenue-desperate', 'magazines', 'are', 'getting', 'pretty', 'cozy', 'with', 'advertisers', '--', '*-1', 'fawning', 'over', 'them', 'in', 'articles', 'and', 'offering', 'pages', 'of', 'advertorial', 'space', '.', 'The', 'first', 'two', 'issues', 'featured', 'ads', 'from', 'only', 'a', 'handful', 'of', 'big', 'advertisers', ',', 'including', 'General', 'Electric', 'and', 'Adolph', 'Coors', ',', 'but', 'the', 'majority', 'were', 'from', 'companies', 'like', 'Waste', 'Management', 'Inc.', 'and', 'Bumkins', 'International', ',', 'firms', 'that', '*T*-154', 'do', \"n't\", 'spend', 'much', 'money', '*-1', 'advertising', 'and', 'ca', \"n't\", 'be', 'relied', 'on', '*-1', '*-1', 'to', 'support', 'a', 'magazine', 'over', 'the', 'long', 'haul', '.', 'Mr.', 'Rowe', 'also', 'noted', 'that', 'political', 'concerns', 'also', 'worried', 'New', 'England', 'Electric', '.', 'One', 'indicator', '0', 'investors', 'might', 'want', '*-2', 'to', 'watch', '*T*-1', 'is', 'the', 'monthly', 'tally', 'from', 'Standard', '&', 'Poor', \"'s\", 'of', 'the', 'number', 'of', 'public', 'companies', 'adjusting', 'their', 'dividends', '.', '*-4', 'A', 'high-balance', 'customer', 'that', 'banks', 'pine', 'for', '*T*-1', ',', 'she', 'did', \"n't\", 'give', 'much', 'thought', 'to', 'the', 'rates', '0', 'she', 'was', 'receiving', '*T*-2', ',', 'nor', 'to', 'the', 'fees', '0', 'she', 'was', 'paying', '*T*-3', '.', '``', 'This', 'stadium', 'shows', 'that', 'anything', '0', 'government', 'can', 'do', '*T*-2', ',', 'we', 'can', 'do', '*-3', 'better', ',', \"''\", 'Mr.', 'Robbie', 'says', '*T*-1', '.', 'I', 'loved', 'the', 'school', ',', 'its', 'history', '.', 'Mr.', 'Riese', 'says', '0', 'American', 'Express', 'considers', 'GM', 'and', 'Buick', '``', 'very', 'sophisticated', 'direct-mail', 'marketers', ',', \"''\", 'so', '``', 'by', '*-1', 'joining', 'forces', 'with', 'them', 'we', 'have', 'managed', '*-1', 'to', 'maximize', 'our', 'direct-mail', 'capability', '.', \"''\", 'Svenska', 'Intecknings', 'Garanti', 'Aktiebolaget', '-LRB-', 'Sweden', '-RRB-', '--', 'In', 'separate', 'floor', 'action', ',', 'the', 'House', 'waived', 'budget', 'restrictions', 'and', 'gave', 'quick', 'approval', 'to', '$', '3.18', 'billion', '*U*', 'in', 'supplemental', 'appropriations', 'for', 'law', 'enforcement', 'and', 'anti-drug', 'programs', 'in', 'fiscal', '1990', '.', 'Spreads', 'will', 'become', 'so', 'tight', 'that', 'it', 'wo', \"n't\", 'matter', 'which', 'market', 'an', 'investor', 'chooses', '*T*-79', '--', 'arbitrage', 'will', 'prevent', 'him', 'from', '*-1', 'gaining', 'any', 'temporary', 'profit', '.', '``', 'I', \"'ve\", 'never', 'seen', 'so', 'many', 'people', 'crying', 'in', 'one', 'place', 'at', 'one', 'time', ',', \"''\", 'said', '*T*-1', 'Bill', 'Johnson', ',', 'an', 'assistant', 'city', 'editor', '.', 'The', 'Los', 'Angeles', 'Times', ',', 'with', 'a', 'circulation', 'of', 'more', 'than', '1.1', 'million', ',', 'dominates', 'the', 'region', '.', 'In', 'every', 'major', 'market', 'in', 'the', 'U.S.', ',', 'for', 'instance', ',', 'you', 'can', 'buy', \"'86\", 'La', 'Tache', 'or', 'Richebourg', ',', 'virtually', 'all', 'of', 'the', 'first', 'growth', 'Bordeaux', '-LRB-', 'except', 'Petrus', '-RRB-', ',', 'as', 'well', 'as', 'Opus', 'One', 'and', 'Dominus', 'from', 'California', 'and', ',', 'at', 'the', 'moment', ',', 'the', 'Stag', \"'s\", 'Leap', '1985', 'Cask', '23', '.', 'While', '*-1', 'neither', 'admitting', 'nor', 'denying', 'wrongdoing', ',', 'Triton', 'and', 'Mr.', 'Chase', 'consented', 'to', 'findings', 'of', 'violations', 'in', 'connection', 'with', 'limited-partnership', 'sales', '.', '``', 'The', 'First', 'Amendment', 'proscribes', 'the', 'government', 'from', '*-2', 'passing', 'laws', 'abridging', 'the', 'right', 'to', 'free', 'speech', ',', \"''\", 'Judge', 'Donald', \"O'Brien\", 'ruled', '*T*-1', '.', 'In', 'a', 'monthly', 'report', 'prepared', '*', 'for', 'use', 'at', 'the', 'Fed', \"'s\", 'next', 'Federal', 'Open', 'Market', 'Committee', 'meeting', 'on', 'Nov.', '14.', ',', 'the', 'nation', \"'s\", 'central', 'bank', 'found', 'that', 'price', 'increases', 'have', 'moderated', 'and', 'economic', 'activity', 'has', 'grown', 'at', 'a', 'sluggish', 'pace', 'in', 'recent', 'weeks', '.', 'Policies', 'designed', '*', 'to', 'encourage', 'one', 'type', 'of', 'investor', 'over', 'another', 'are', 'akin', 'to', '*', 'placing', 'a', 'sign', '*ICH*-1', 'over', 'the', 'Big', 'Board', \"'s\", 'door', 'saying', ':', '``', 'Buyers', 'welcome', ',', 'sellers', 'please', '*', 'go', 'away', '!', \"''\", 'Inventories', 'are', 'closely', 'watched', '*-1', 'for', 'such', 'clues', ',', 'for', 'instance', '.', 'It', \"'s\", 'the', 'petulant', 'complaint', 'of', 'an', 'impudent', 'American', 'whom', 'Sony', 'hosted', '*T*-58', 'for', 'a', 'year', 'while', 'he', 'was', 'on', 'a', 'Luce', 'Fellowship', 'in', 'Tokyo', '--', 'to', 'the', 'regret', 'of', 'both', 'parties', '.', 'It', 'all', 'adds', 'up', 'to', 'a', 'barrier', 'to', 'American-style', 'index', 'arbitrage', ',', 'the', 'most', 'popular', 'form', 'of', 'U.S.', 'program', 'trading', 'that', '*T*-253', 'seeks', '*-1', 'to', 'exploit', 'brief', 'differences', 'between', 'prices', 'of', 'stocks', 'in', 'New', 'York', 'and', 'the', 'price', 'of', 'a', 'futures', 'contract', 'in', 'Chicago', 'based', 'on', 'those', 'stocks', '.', 'Not', 'surprisingly', ',', 'old-style', 'money', 'managers', 'have', 'been', 'losing', 'clients', 'to', 'giant', 'stock-index', 'funds', 'that', '*T*-1', 'use', 'computers', '*-2', 'to', 'juggle', 'portfolios', 'so', 'they', 'mirror', 'the', 'S&P', '500', '.', 'In', 'composite', 'New', 'York', 'Stock', 'Exchange', 'trading', ',', 'the', 'shares', 'closed', 'at', '$', '177', '*U*', ',', 'up', '$', '1.50', '*U*', '.', 'Spirit', 'of', 'Perestroika', 'Touches', 'Design', 'World', 'Much', 'of', 'Mr.', 'Lane', \"'s\", 'film', 'takes', 'a', 'highly', 'romanticized', 'view', 'of', 'life', 'on', 'the', 'streets', '-LRB-', 'though', 'probably', 'no', 'more', 'romanticized', 'than', 'Mr.', 'Chaplin', \"'s\", 'notion', 'of', 'the', 'Tramp', 'as', 'the', 'good-hearted', 'free', 'spirit', '-RRB-', '.', 'Rick', 'Brownell', ',', 'senior', 'editor', 'of', 'Scoring', 'High', ',', 'says', 'that', 'Messrs.', 'Kaminski', 'and', 'Mehrens', 'are', 'ignoring', '``', 'the', 'need', '0', 'students', 'have', '*T*-1', 'for', '*', 'becoming', 'familiar', 'with', 'tests', 'and', 'testing', 'format', '.', \"''\", 'Until', 'now', ',', 'however', ',', 'buyers', 'who', '*T*-53', 'wanted', '*-1', 'to', 'finance', 'part', 'of', 'a', 'car', 'purchase', 'through', 'General', 'Motors', 'Acceptance', 'Corp.', 'could', \"n't\", 'put', 'their', 'down', 'payment', 'on', 'a', 'charge', 'card', 'because', 'of', 'possible', 'conflicts', 'with', 'truth-in-lending', 'and', 'state', 'disclosure', 'laws', 'over', 'finance', 'rates', ',', 'says', '*T*-2', 'a', 'spokesman', 'for', 'the', 'GM', 'finance', 'arm', '.', 'Argentine', 'negotiator', 'Carlos', 'Carballo', 'was', 'in', 'Washington', 'and', 'New', 'York', 'this', 'week', '*-1', 'to', 'meet', 'with', 'banks', '.', 'While', 'many', 'problems', 'would', 'attend', 'a', 'restructuring', 'of', 'Columbia', ',', 'investors', 'say', '0', 'Mr.', 'Spiegel', 'is', 'mulling', 'such', 'a', 'plan', '0', '*', 'to', 'mitigate', 'Columbia', \"'s\", 'junk', 'problems', '*T*-1', '.', 'The', 'company', 'said', '0', 'it', 'has', 'offered', '*-1', 'to', 'withdraw', 'its', 'bids', 'in', 'Hiroshima', 'and', 'Nagano', '.', 'World', 'sugar', 'futures', 'prices', 'soared', 'on', 'rumors', 'that', 'Brazil', ',', 'a', 'major', 'grower', 'and', 'exporter', ',', 'might', 'not', 'ship', 'sugar', 'this', 'crop', 'year', 'and', 'next', '.', 'Both', 'Newsweek', 'and', 'U.S.', 'News', 'have', 'been', 'gaining', 'circulation', 'in', 'recent', 'years', 'without', 'heavy', 'use', 'of', 'electronic', 'giveaways', 'to', 'subscribers', ',', 'such', 'as', 'telephones', 'or', 'watches', '.', 'But', 'the', 'Big', 'Board', \"'s\", 'leadership', '--', 'over', 'the', 'specialists', \"'\", 'protests', '--', 'two', 'weeks', 'ago', 'began', '*-1', 'trading', 'a', 'new', 'stock', '``', 'basket', \"''\", 'product', 'designed', '*', 'to', 'facilitate', 'program', 'trading', '.', 'All', 'of', 'this', 'must', 'have', 'been', 'enormously', 'frustrating', 'to', 'Mr.', 'Katzenstein', ',', 'who', '*T*-59', 'went', 'to', 'Sony', 'with', 'degrees', 'in', 'business', 'and', 'computer', 'science', 'and', 'was', 'raring', '*-1', 'to', 'invent', 'another', 'Walkman', '.', '``', 'Varying', 'age', ',', 'geography', 'and', 'life-style', 'differences', 'create', 'numerous', 'sub-markets', ',', \"''\", 'Ms.', 'MacDonald', 'says', '*T*-1', '.', 'PAPERS', ':', 'He', 'adds', 'that', 'his', 'shares', 'in', 'a', 'company', 'savings', 'plan', 'are', 'invested', '*-1', 'in', 'a', 'mutual', 'fund', ',', 'and', 'volatility', ',', 'on', 'a', 'given', 'day', ',', 'may', 'hurt', 'the', 'fund', '.', 'The', 'Soviet', 'Union', 'bought', 'roughly', '310', 'million', 'bushels', 'of', 'U.S.', 'corn', '*ICH*-2', 'in', 'October', ',', 'which', '*T*-1', 'is', 'the', 'most', 'ever', 'sold', '*', 'to', 'the', 'Soviet', 'Union', 'in', 'one', 'month', 'from', 'the', 'U.S.', '.', 'Mr.', 'McGuigan', 'cites', 'three', 'completed', 'efforts', 'in', 'Oklahoma', '.', 'The', 'company', 'noted', 'that', 'it', 'has', 'reduced', 'debt', 'by', '$', '1.6', 'billion', '*U*', 'since', 'the', 'end', 'of', '1988', 'and', 'bought', 'back', 'about', '15.5', 'million', 'shares', 'of', 'common', 'stock', 'since', 'the', 'fourth', 'quarter', 'of', '1987', '.', 'Some', 'say', '0', 'Anthony', 'Cheetham', ',', 'head', 'of', 'a', 'recently', 'acquired', 'British', 'company', ',', 'Century', 'Hutchinson', ',', 'could', 'be', 'chosen', '*-46', '.', 'BANKERS', 'ACCEPTANCES', ':', '8.50', '%', '30', 'days', ';', '8.48', '%', '60', 'days', ';', '8.30', '%', '90', 'days', ';', '8.15', '%', '120', 'days', ';', '8.07', '%', '150', 'days', ';', '7.95', '%', '180', 'days', '.', 'Asia', \"'s\", 'other', 'cash-rich', 'countries', 'are', 'following', 'Japan', \"'s\", 'lead', 'and', 'pumping', 'capital', 'into', 'the', 'region', '.', 'This', 'year', \"'s\", 'results', 'included', 'a', 'gain', 'of', '$', '70.2', 'million', '*U*', 'on', 'the', 'disposal', 'of', 'seafood', 'operations', '.', 'She', 'did', \"n't\", 'elaborate', ',', 'although', 'earlier', 'U.S.', 'trade', 'reports', 'have', 'complained', 'of', 'videocassette', 'piracy', 'in', 'Malaysia', 'and', 'disregard', 'for', 'U.S.', 'pharmaceutical', 'patents', 'in', 'Turkey', '.', 'Some', 'researchers', 'have', 'charged', 'that', 'the', 'administration', 'is', 'imposing', 'new', 'ideological', 'tests', 'for', 'top', 'scientific', 'posts', '.', 'Also', ',', 'ringers', 'do', \"n't\", 'always', 'live', 'where', 'the', 'bells', 'need', '*-1', 'to', 'be', 'rung', '*-140', '*T*-2', '--', 'like', 'in', 'small', ',', 'rural', 'parishes', 'and', 'inner-city', 'churches', '.', 'THREE', 'COMPUTERS', 'THAT', '*T*-31', 'CHANGED', 'the', 'face', 'of', 'personal', 'computing', 'were', 'launched', '*-32', 'in', '1977', '.', '``', 'New', 'managers', 'would', 'think', 'a', 'little', 'more', 'like', 'Wall', 'Street', ',', \"''\", 'Mr.', 'McMillin', 'added', '*T*-1', '.', 'In', 'the', 'coming', 'decade', ',', 'analysts', 'say', '0', '*T*-2', ',', 'U.S.-Japanese', 'relations', 'will', 'be', 'tested', '*-1', 'as', 'Tokyo', 'comes', 'to', 'terms', 'with', 'its', 'new', 'status', 'as', 'the', 'region', \"'s\", 'economic', 'behemoth', '.', 'The', 'company', 'said', '0', 'Mr.', 'Stronach', 'will', 'personally', 'direct', 'the', 'restructuring', ',', '*-1', 'assisted', '*-2', 'by', 'Manfred', 'Gingl', ',', 'president', 'and', 'chief', 'executive', '.', 'Producers', 'have', 'seen', 'this', 'market', 'opening', 'up', 'and', 'they', \"'re\", 'now', 'creating', 'wines', 'that', '*T*-168', 'appeal', 'to', 'these', 'people', '.', \"''\", '``', 'There', 'is', 'no', 'business', 'reason', 'for', 'my', 'departure', ',', \"''\", 'nor', 'any', 'disagreement', 'over', 'policy', ',', 'he', 'added', '0', '*T*-1', '.', 'The', 'company', 'also', 'cited', 'interest', 'costs', 'and', 'amortization', 'of', 'goodwill', 'as', 'factors', 'in', 'the', 'loss', '.', 'Japanese', 'companies', 'have', 'long', 'had', 'a', 'reputation', 'for', '*-2', 'sacrificing', 'short-term', 'profits', '*-1', 'to', 'make', 'a', 'sale', 'that', '*T*-140', 'may', 'have', 'long-term', 'benefits', '.', 'By', '*', 'addressing', 'those', 'problems', ',', 'Mr.', 'Maxwell', 'said', '0', '*T*-1', ',', 'the', 'new', 'funds', 'have', 'become', '``', 'extremely', 'attractive', 'to', 'Japanese', 'and', 'other', 'investors', 'outside', 'the', 'U.S.', '.', \"''\", 'Among', 'other', 'Connecticut', 'banks', 'whose', 'shares', '*T*-121', 'trade', 'in', 'the', 'OTC', 'market', ',', 'Society', 'for', 'Savings', 'Bancorp', ',', 'based', '*', 'in', 'Hartford', ',', 'saw', 'its', 'stock', 'rise', '1', '3\\\\/4', 'to', '18', '1\\\\/4', '.', 'Volume', 'was', '372.9', 'million', 'shares', ',', 'up', 'from', '334.5', 'million', 'on', 'Tuesday', '.', '``', 'It', 'is', 'these', '645,000', 'tons', 'that', '*T*-1', 'are', 'in', 'question', 'for', 'this', 'crop', 'year', ',', \"''\", 'explained', '*T*-2', 'Judith', 'Ganes', ',', 'analyst', 'for', 'Shearson', 'Lehman', 'Hutton', ',', 'New', 'York', '.', 'Participants', 'will', 'include', 'the', 'U.S.', ',', 'Australia', ',', 'Canada', ',', 'Japan', ',', 'South', 'Korea', 'and', 'New', 'Zealand', 'as', 'well', 'as', 'the', 'six', 'members', 'of', 'the', 'Association', 'of', 'Southeast', 'Asian', 'Nations', '--', 'Thailand', ',', 'Malaysia', ',', 'Singapore', ',', 'Indonesia', ',', 'the', 'Philippines', 'and', 'Brunei', '.', 'The', 'prospective', 'buyers', 'included', 'investor', 'Marvin', 'Davis', 'and', 'the', 'Toronto', 'Sun', '.', 'The', 'controversy', 'began', 'in', '1987', 'when', 'the', 'National', 'Institutes', 'of', 'Health', ',', 'aware', 'of', 'the', 'policy', 'implications', 'of', 'its', 'research', ',', 'asked', 'for', 'an', 'HHS', 'review', 'of', 'its', 'plan', '*', 'to', 'implant', 'fetal', 'tissue', 'into', 'the', 'brain', 'of', 'a', 'patient', 'suffering', 'from', 'Parkinson', \"'s\", 'disease', '*T*-1', '.', 'Valley', 'Federal', 'Savings', '&', 'Loan', 'Association', 'took', 'an', '$', '89.9', 'million', '*U*', 'charge', 'as', 'it', 'reported', 'a', 'third-quarter', 'loss', 'of', '$', '70.7', 'million', '*U*', ',', 'or', '$', '12.09', '*U*', 'a', 'share', '.', '``', 'Today', 'is', 'not', 'the', 'time', '0', '*', 'to', 'signal', 'that', 'Congress', 'in', 'any', 'way', 'sanctions', 'the', 'dismal', 'state', 'into', 'which', 'antitrust', 'enforcement', 'has', 'fallen', '*T*-3', '*T*-2', ',', \"''\", 'Mr.', 'Edwards', 'argued', '0', '*T*-1', '.', 'F.H.', 'Faulding', '&', 'Co.', ',', 'an', 'Australian', 'pharmaceuticals', 'company', ',', 'said', '0', 'its', 'Moleculon', 'Inc.', 'affiliate', 'acquired', 'Kalipharma', 'Inc.', 'for', '$', '23', 'million', '*U*', '.', 'The', 'rise', 'in', 'the', 'stock', \"'s\", 'price', 'may', 'also', 'reflect', 'the', 'fact', 'that', 'USX', \"'s\", 'steel', 'segment', 'fared', 'better', 'than', 'some', 'other', 'steelmakers', \"'\", '.', '*-2', 'Filmed', '*-1', 'in', 'lovely', 'black', 'and', 'white', 'by', 'Bill', 'Dill', ',', 'the', 'New', 'York', 'streets', 'of', '``', 'Sidewalk', 'Stories', \"''\", 'seem', 'benign', '.', 'David', 'Wu', ',', 'the', 'company', \"'s\", 'representative', 'in', 'Taiwan', ',', 'said', '0', 'Atlanta-based', 'Life', 'of', 'Georgia', 'will', 'sell', 'conventional', 'life-insurance', 'products', '.', 'Yasser', 'Arafat', 'has', 'written', 'to', 'the', 'chairman', 'of', 'the', 'International', 'Olympic', 'Committee', '*-2', 'asking', 'him', '*-3', 'to', 'back', 'a', 'Palestinian', 'bid', '*', 'to', 'join', 'the', 'committee', ',', 'the', 'Palestine', 'Liberation', 'Organization', 'news', 'agency', 'WAFA', 'said', '0', '*T*-1', '.', 'Several', 'moves', 'were', 'taken', '*-1', 'following', 'the', 'October', '1987', 'crash', '*', 'to', 'coordinate', '--', 'and', 'sometimes', 'deliberately', 'disconnect', '*PPA*-2', '--', 'the', 'stock', 'and', 'futures', 'markets', 'in', 'times', 'of', 'heightened', 'volatility', '.', 'Workers', 'dumped', 'large', 'burlap', 'sacks', 'of', 'the', 'imported', 'material', 'into', 'a', 'huge', 'bin', ',', 'poured', 'in', 'cotton', 'and', 'acetate', 'fibers', 'and', 'mechanically', 'mixed', 'the', 'dry', 'fibers', 'in', 'a', 'process', 'used', '*', '*', 'to', 'make', 'filters', '.', 'Earlier', 'this', 'year', 'Shaw', 'Publishing', 'Inc.', ',', 'Charlotte', ',', 'acquired', '30', '%', 'of', 'American', 'City', '*T*-1', 'and', 'has', 'an', 'agreement', '*', 'to', 'acquire', 'a', 'further', '25', '%', 'from', 'E.W.', 'Scripps', 'Co.', 'next', 'year', '.', 'For', 'a', 'funny', 'thing', 'happened', 'on', 'the', 'way', 'to', 'the', 'ruling', ':', 'The', 'United', 'States', 'Information', 'Agency', ',', 'which', '*T*-23', 'runs', 'the', 'Voice', ',', 'changed', 'its', 'position', 'on', 'three', 'key', 'points', '.', '``', 'Wa', \"''\", 'is', 'Japanese', 'for', '``', 'team', 'spirit', \"''\", 'and', 'Japanese', 'ballplayers', 'have', 'miles', 'and', 'miles', 'of', 'it', '.', '-LRB-', 'It', 'is', ',', 'of', 'course', ',', 'printed', '*-1', 'on', 'recycled', 'paper', '.', '-RRB-', 'Each', '50,000', 'Swiss', 'franc', 'note', 'is', 'convertible', 'from', 'Nov.', '30', ',', '1989', ',', 'to', 'March', '16', ',', '1994', 'at', 'a', '5', '%', 'premium', 'over', 'the', 'closing', 'share', 'price', 'Monday', ',', 'when', 'terms', 'are', 'scheduled', '*-3', 'to', 'be', 'fixed', '*-1', '*T*-2', '.', 'In', 'his', 'first', 'state', 'of', 'the', 'nation', 'address', ',', 'Salinas', 'pledged', '*-1', 'to', 'continue', 'his', 'program', 'of', 'modernization', 'and', 'warned', 'opposition', 'politicians', 'that', '*', 'impeding', 'progress', 'could', 'cost', 'them', 'popular', 'support', '.', 'In', 'addition', 'to', 'the', 'damages', ',', 'the', 'suit', 'seeks', 'a', 'court', 'order', 'preventing', 'the', 'guild', 'from', '*-2', 'punishing', '*RNR*-1', 'or', 'retaliating', 'against', '*RNR*-1', 'Mr.', 'Trudeau', '.', 'And', 'legal', 'authorities', 'cranked', 'up', 'an', 'investigation', 'worthy', 'of', 'a', 'murder', 'case', '.', '*', 'Eliminate', 'arbitrage', 'and', 'liquidity', 'will', 'decline', 'instead', 'of', '*', 'rising', ',', '*', 'creating', 'more', 'volatility', 'instead', 'of', 'less', '.', '``', 'The', 'way', 'that', 'we', \"'ve\", 'been', 'managing', 'Campbell', 'U.S.A.', '*T*-2', 'can', 'hopefully', 'spread', 'to', 'other', 'areas', 'of', 'the', 'company', ',', \"''\", 'Mr.', 'Baum', 'said', '*T*-1', '.', 'Individual', 'copies', 'of', 'the', 'magazine', 'sell', 'for', '$', '2.95', '*U*', 'and', 'yearly', 'subscriptions', 'cost', '$', '21', '*U*', '.', 'Stephen', 'G.', 'Jerritts', ',', 'president', 'and', 'chief', 'executive', 'officer', ',', 'said', '0', 'customers', 'were', \"n't\", 'willing', '*-1', 'to', 'commit', 'to', 'an', 'expensive', 'NBI', 'hardware', 'systems', 'because', 'of', 'the', 'company', \"'s\", 'financial', 'troubles', '.', 'Government', 'construction', 'spending', 'rose', '4.3', '%', 'to', '$', '88', 'billion', '*U*', '.', 'There', \"'s\", 'no', 'culprit', 'here', '.', 'The', 'next', 'province', '?', 'Homeless', 'people', 'not', 'only', 'lack', 'safety', ',', 'privacy', 'and', 'shelter', ',', 'they', 'also', 'lack', 'the', 'elementary', 'necessities', 'of', 'nutrition', ',', 'cleanliness', 'and', 'basic', 'health', 'care', '.', 'In', 'the', 'U.S.', 'over-the-counter', 'market', ',', 'American', 'depositary', 'shares', 'for', 'Reuters', ',', 'each', 'representing', 'three', 'shares', 'in', 'the', 'London', 'market', ',', 'closed', 'unchanged', 'at', '$', '43.875', '*U*', '.', 'The', 'spokesman', 'said', '0', 'it', 'is', 'the', 'first', 'early', 'retirement', 'plan', 'offered', 'under', 'its', 'two-year', 'cost-control', 'strategy', '.', 'Several', 'traders', 'maintained', 'that', 'the', 'Merc', \"'s\", '12-point', 'circuit-breaker', 'aggravated', 'the', 'market', 'slide', 'Oct.', '13', 'by', '*-1', 'directing', 'additional', 'selling', 'pressure', 'to', 'the', 'floor', 'of', 'the', 'New', 'York', 'Stock', 'Exchange', '.', 'Meanwhile', ',', 'traders', 'in', 'Tokyo', 'say', 'that', 'the', 'prospect', 'of', 'lower', 'U.S.', 'interest', 'rates', 'has', 'spurred', 'dollar', 'buying', 'by', 'Japanese', 'institutions', '.', 'Japanese', 'investment', 'in', 'Southeast', 'Asia', 'is', 'propelling', 'the', 'region', 'toward', 'economic', 'integration', '.', 'And', 'then', 'this', 'television', 'commercial', ',', 'paid', 'for', '*', 'by', 'Republican', 'Rudolph', 'Giuliani', \"'s\", 'campaign', 'and', 'produced', '*', 'by', 'Roger', 'Ailes', ',', 'the', 'master', 'of', 'negative', 'TV', 'ads', ',', 'really', 'gets', 'down', 'to', 'business', '.', 'And', 'the', 'firms', 'are', 'stretching', 'their', 'nets', 'far', 'and', 'wide', '*-1', 'to', 'do', 'it', '.', 'In', 'the', 'interview', 'at', 'headquarters', 'yesterday', 'afternoon', ',', 'both', 'men', 'exuded', 'confidence', 'and', 'seemed', '*-1', 'to', 'work', 'well', 'together', '.', 'At', 'Cray', 'Computer', ',', 'he', 'will', 'be', 'paid', '*-26', '$', '240,000', '*U*', '.', 'If', 'not', 'Chicago', ',', 'then', 'in', 'New', 'York', ';', 'if', 'not', 'the', 'U.S.', ',', 'then', 'overseas', '.', 'Railroad', 'companies', 'and', 'some', 'ports', 'are', 'reaping', 'a', 'sudden', 'windfall', 'of', 'business', '.', '``', 'So', 'the', 'focus', 'turned', 'to', 'other', 'fixed-income', 'markets', ',', 'corporate', 'and', 'mortgages', 'in', 'particular', ',', \"''\", 'she', 'said', '*T*-1', '.', '$', '107', 'million', '*U*', 'of', 'tax', 'allocation', 'bonds', ',', '1989', 'Series', 'A-D', ',', 'due', '1991-1999', ',', '2009', 'and', '2019', ',', 'tentatively', 'priced', '*', 'by', 'a', 'Donaldson', 'Lufkin', '&', 'Jenrette', 'Securities', 'Corp.', 'group', '*', 'to', 'yield', 'from', '6.40', '%', 'in', '1991', 'to', '7.458', '%', 'in', '2019', '.', 'Soon', ',', 'T-shirts', '*ICH*-1', 'appeared', 'in', 'the', 'corridors', 'that', '*T*-2', 'carried', 'the', 'school', \"'s\", 'familiar', 'red-and-white', 'GHS', 'logo', 'on', 'the', 'front', '.', 'Younkers', 'management', 'is', 'likely', '*-1', 'to', 'buy', 'a', '10', '%', 'to', '20', '%', '*U*', 'interest', 'in', 'the', 'chain', 'in', 'January', ',', 'said', '0', '*T*-2', 'Fred', 'S.', 'Hubbell', ',', 'Equitable', \"'s\", 'president', 'and', 'chief', 'executive', 'officer', '.', '$', '750', 'million', '*U*', 'of', '8', '3\\\\/8', '%', 'debentures', 'due', 'Nov.', '1', ',', '2019', ',', 'priced', '*', 'at', '99', '*', 'to', 'yield', '8.467', '%', '.', 'But', 'in', 'the', 'three', 'leading', 'political', 'contests', 'of', '1989', ',', 'the', 'negative', 'ads', 'have', 'reached', 'new', 'levels', 'of', 'hostility', ',', '*-1', 'raising', 'fears', 'that', 'this', 'kind', 'of', 'mudslinging', ',', 'empty', 'of', 'significant', 'issues', ',', 'is', 'ushering', 'in', 'a', 'new', 'era', 'of', 'campaigns', 'without', 'content', '.', 'Mitsubishi', \"'s\", 'investment', 'in', 'Free', 'State', 'is', '``', 'very', 'small', '...', 'less', 'than', '$', '4', 'million', '*U*', ',', \"''\", 'Mr.', 'Wakui', 'says', '0', '*T*-1', '.', 'But', 'it', 'does', \"n't\", 'take', 'much', '*', 'to', 'get', 'burned', '*-1', '.', 'Mr.', 'Wilder', 'did', 'introduce', 'such', 'legislation', '17', 'years', 'ago', ',', 'but', 'he', 'did', 'so', 'at', 'the', 'request', 'of', 'a', 'constituent', ',', 'a', 'common', 'legislative', 'technique', 'used', '*', 'by', 'lawmakers', '.', 'Brisk', 'domestic', 'demand', 'due', 'to', 'increasing', 'capital', 'investment', 'pushed', 'up', 'sales', 'sharply', 'in', 'construction', 'and', 'industrial', 'machinery', 'divisions', '.', 'They', 'blamed', 'increased', 'demand', 'for', 'dairy', 'products', 'at', 'a', 'time', 'of', 'exceptionally', 'high', 'U.S.', 'exports', 'of', 'dry', 'milk', ',', 'coupled', '*', 'with', 'very', 'low', 'import', 'quotas', '.', '``', 'They', 'view', 'this', 'as', 'a', 'growth', 'area', 'so', 'they', 'went', 'about', 'it', 'with', 'a', 'systematic', 'approach', ',', \"''\", 'says', '*T*-1', 'Richard', 'Olsen', ',', 'a', 'Candela', 'vice', 'president', '.', 'The', 'Fed', 'is', 'coming', 'under', 'pressure', '*', 'to', 'cut', 'short-term', 'interest', 'rates', 'due', 'to', 'the', 'apparent', 'slowing', 'of', 'the', 'economy', '.', 'Rep.', 'James', 'Traficant', '-LRB-', 'D.', ',', 'Ohio', '-RRB-', ',', 'said', '0', 'the', 'amendment', ',', 'which', '*T*-19', 'passed', '271-147', ',', 'would', '``', 'let', 'the', 'American', 'worker', 'know', 'that', 'we', 'consider', 'them', 'occasionally', '.', \"''\", '*', 'Pick', 'a', 'country', ',', 'any', 'country', '.', 'But', 'courts', 'quickly', 'tumbled', 'down', 'a', 'slippery', 'slope', '.', 'Mrs.', 'Ward', 'says', 'that', 'when', 'the', 'cheating', 'was', 'discovered', '*-4', '*T*-1', ',', 'she', 'wanted', '*-2', 'to', 'avoid', 'the', 'morale-damaging', 'public', 'disclosure', 'that', 'a', 'trial', 'would', 'bring', '*T*-3', '.', 'Even', 'a', 'low-tech', 'product', 'like', 'plate', 'glass', 'can', 'catch', 'a', 'trading', 'company', \"'s\", 'fancy', 'if', 'there', \"'s\", 'a', 'strategic', 'fit', '.', 'Michael', 'R.', 'Bromwich', ',', 'a', 'member', 'since', 'January', '1987', 'of', 'the', 'three-lawyer', 'trial', 'team', 'in', 'the', 'prosecution', 'of', 'Oliver', 'North', ',', 'became', 'a', 'partner', 'in', 'the', 'Washington', ',', 'D.C.', ',', 'office', 'of', 'the', '520-lawyer', 'firm', '.', 'And', ',', 'of', 'course', ',', 'there', \"'s\", 'that', 'word', '``', 'dissemination', '.', \"''\", 'Pierre', 'Vinken', ',', '61', 'years', 'old', ',', 'will', 'join', 'the', 'board', 'as', 'a', 'nonexecutive', 'director', 'Nov.', '29', '.', 'Mr.', 'Simmons', 'owns', '88', '%', 'of', 'Valhi', 'Inc.', ',', 'which', 'in', 'turn', '*T*-1', 'owns', 'two-thirds', 'of', 'NL', '.', 'In', '1986-87', 'and', '1987-88', ',', 'she', 'applied', 'for', '*RNR*-1', 'and', 'won', '*RNR*-1', 'bonus', 'pay', 'under', 'the', 'reform', 'law', '.', 'Her', 'alternative', 'was', '90', 'days', 'in', 'jail', '.', 'Moscow', 'has', 'settled', 'pre-1917', 'debts', 'with', 'other', 'countries', 'in', 'recent', 'years', 'at', 'less', 'than', 'face', 'value', '.', '``', 'We', 'have', 'a', 'long', 'history', 'of', '*', 'maintaining', 'an', 'open', 'direct-investment', 'policy', ',', \"''\", 'Mr.', 'Dallara', 'says', '*T*-1', '.', 'But', 'the', 'number', 'of', 'weddings', 'last', 'year', '--', '271,124', '--', 'was', 'still', 'well', 'below', 'the', '400,000', 'registered', '*', 'in', '1972', ',', 'the', 'last', 'year', 'of', 'increasing', 'marriages', '.', 'So', 'if', 'index', 'arbitrage', 'is', 'simply', '*', 'taking', 'advantage', 'of', 'thin', 'inefficiencies', 'between', 'two', 'markets', 'for', 'the', 'same', 'widget', ',', 'how', 'did', '``', 'program', 'trading', \"''\", 'evolve', 'into', 'the', 'evil', 'creature', 'that', '*T*-2', 'is', 'evoking', 'the', 'curses', 'of', 'so', 'many', 'observers', '*T*-1', '?', 'At', 'the', 'same', 'time', ',', 'export', 'demand', 'for', 'U.S.', 'wheat', ',', 'corn', 'and', 'other', 'commodities', 'strengthened', ',', 'said', '*T*-1', 'Keith', 'Collins', ',', 'a', 'department', 'analyst', '.', 'The', 'previous', 'record', 'was', '$', '57.7', 'billion', '*U*', 'in', '1987', ',', 'according', 'to', 'the', 'Agriculture', 'Department', '.', 'The', 'Continental', 'Baking', 'business', 'benefited', 'from', 'higher', 'margins', 'on', 'bread', 'and', 'on', 'increased', 'cake', 'sales', ',', 'it', 'added', '0', '*T*-1', '.']\n"
     ]
    }
   ],
   "source": [
    "# Running on entire test dataset would take more than 3-4hrs. \n",
    "# Let's test our Viterbi algorithm on a few sample sentences of test dataset.\n",
    "# Keep it to ~50 so that the entire file completes in 20 minutes. If its 196, which is the size of test data\n",
    "# it takes around \n",
    "\n",
    "TEST_DATA_SIZE = 190\n",
    "\n",
    "random.seed(1234)\n",
    "\n",
    "# choose random 5 sents\n",
    "rndom = [random.randint(1,len(test_set)) for x in range(TEST_DATA_SIZE)]\n",
    "\n",
    "# list of sents\n",
    "#test_run = [test_set[i] for i in rndom]\n",
    "test_run = test_set\n",
    "\n",
    "# list of tagged words\n",
    "test_run_base = [tup for sent in test_run for tup in sent]\n",
    "\n",
    "# list of untagged words\n",
    "test_tagged_words = [tup[0] for sent in test_run for tup in sent]\n",
    "\n",
    "print(test_run_base)\n",
    "print()\n",
    "print(test_tagged_words)"
   ]
  },
  {
   "cell_type": "markdown",
   "metadata": {},
   "source": [
    "#### Tagging the test sentences by calling the Viterbi Heuristic Algo."
   ]
  },
  {
   "cell_type": "code",
   "execution_count": 24,
   "metadata": {},
   "outputs": [
    {
     "name": "stdout",
     "output_type": "stream",
     "text": [
      "***Time taken to tag****  997.244788646698\n"
     ]
    }
   ],
   "source": [
    "def tagSentencesViterbi(words2BeTagged):\n",
    "    start = time.time()\n",
    "    tagged_seq = Viterbi(words2BeTagged)\n",
    "    end = time.time()\n",
    "    difference = end-start\n",
    "    print(\"***Time taken to tag**** \", difference)\n",
    "    return tagged_seq\n",
    "\n",
    "tagged_seq = tagSentencesViterbi(test_tagged_words)"
   ]
  },
  {
   "cell_type": "code",
   "execution_count": 25,
   "metadata": {},
   "outputs": [],
   "source": [
    "#print(tagged_seq)\n",
    "#print(test_run_base)"
   ]
  },
  {
   "cell_type": "markdown",
   "metadata": {},
   "source": [
    "#### Check the accuracy of the Viterbi Algorithm by comparing the train data's built in tag values and the ones we generated"
   ]
  },
  {
   "cell_type": "code",
   "execution_count": 26,
   "metadata": {},
   "outputs": [
    {
     "name": "stdout",
     "output_type": "stream",
     "text": [
      "*****Plain Viterbi Accuracy***** 0.9056375025257628\n"
     ]
    }
   ],
   "source": [
    "# Util method to check the accuracy\n",
    "def checkAccuracy(taggedWords, correctlyTaggedTestRun):\n",
    "    check = [i for i, j in zip(taggedWords, correctlyTaggedTestRun) if i == j]\n",
    "    accuracy = len(check)/len(taggedWords)\n",
    "    return accuracy\n",
    "\n",
    "plainViterbiAccuracy = checkAccuracy(tagged_seq, test_run_base)\n",
    "print(\"*****Plain Viterbi Accuracy*****\", plainViterbiAccuracy)"
   ]
  },
  {
   "cell_type": "markdown",
   "metadata": {},
   "source": [
    "### Accuracy with vanilla Viterbi is 90.0% which is good."
   ]
  },
  {
   "cell_type": "code",
   "execution_count": 27,
   "metadata": {},
   "outputs": [],
   "source": [
    "#k = zip(tagged_seq, test_run_base)\n",
    "#print(list(k))\n"
   ]
  },
  {
   "cell_type": "markdown",
   "metadata": {},
   "source": [
    "#### Find incorrectly tagged words along with the previous tag"
   ]
  },
  {
   "cell_type": "code",
   "execution_count": 28,
   "metadata": {},
   "outputs": [
    {
     "data": {
      "text/plain": [
       "[[('third', 'ADJ'),\n",
       "  (('stock-manipulation', 'ADP'), ('stock-manipulation', 'ADJ'))],\n",
       " [('Johnson', 'NOUN'), (('Lowe', 'ADP'), ('Lowe', 'NOUN'))],\n",
       " [('*', 'X'), (('Choose', 'ADP'), ('Choose', 'VERB'))],\n",
       " [('them', 'PRON'), (('out', 'PRT'), ('out', 'ADP'))],\n",
       " [('be', 'VERB'), (('deprived', 'ADP'), ('deprived', 'VERB'))],\n",
       " [(',', '.'), (('families', 'ADP'), ('families', 'NOUN'))],\n",
       " [('and', 'CONJ'), (('257', 'ADP'), ('257', 'NUM'))],\n",
       " [('Van', 'NOUN'), (('Alstyne', 'ADP'), ('Alstyne', 'NOUN'))],\n",
       " [('Alstyne', 'NOUN'), (('notes', 'NOUN'), ('notes', 'VERB'))],\n",
       " [('bad', 'ADJ'), (('apple', 'ADP'), ('apple', 'NOUN'))],\n",
       " [('his', 'PRON'), (('apples', 'ADP'), ('apples', 'NOUN'))],\n",
       " [('giving', 'VERB'), (('four-day', 'ADP'), ('four-day', 'ADJ'))],\n",
       " [('*T*-51', 'X'), (('charge', 'NOUN'), ('charge', 'VERB'))],\n",
       " [('their', 'PRON'), (('down', 'ADV'), ('down', 'ADP'))],\n",
       " [('the', 'DET'), (('American', 'ADJ'), ('American', 'NOUN'))],\n",
       " [('to', 'PRT'), (('combine', 'ADP'), ('combine', 'VERB'))],\n",
       " [('``', '.'), (('melt-textured', 'ADP'), ('melt-textured', 'ADJ'))],\n",
       " [('*', 'X'), (('earlier', 'ADV'), ('earlier', 'ADJ'))],\n",
       " [('50', 'NUM'), (('witnesses', 'ADP'), ('witnesses', 'NOUN'))],\n",
       " [('health', 'NOUN'), (('care', 'VERB'), ('care', 'NOUN'))],\n",
       " [('care', 'NOUN'), (('providers', 'ADP'), ('providers', 'NOUN'))],\n",
       " [('and', 'CONJ'), (('that', 'DET'), ('that', 'ADP'))],\n",
       " [('of', 'ADP'), (('pregnant', 'ADP'), ('pregnant', 'ADJ'))],\n",
       " [('*-1', 'X'), (('characterizing', 'ADP'), ('characterizing', 'VERB'))],\n",
       " [('to', 'PRT'), (('entrench', 'ADP'), ('entrench', 'VERB'))],\n",
       " [(',', '.'), (('confuse', 'ADP'), ('confuse', 'VERB'))],\n",
       " [('*', 'X'), (('deducting', 'ADP'), ('deducting', 'VERB'))],\n",
       " [('from', 'ADP'), (('gross', 'ADP'), ('gross', 'ADJ'))],\n",
       " [('drove', 'VERB'), (('up', 'ADV'), ('up', 'PRT'))],\n",
       " [(\"'s\", 'PRT'), (('909', 'ADP'), ('909', 'NUM'))],\n",
       " [('might', 'VERB'), (('appeal', 'NOUN'), ('appeal', 'VERB'))],\n",
       " [('expensive', 'ADJ'), (('cleanup', 'ADP'), ('cleanup', 'NOUN'))],\n",
       " [('or', 'CONJ'), (('burn', 'ADP'), ('burn', 'VERB'))],\n",
       " [('burn', 'VERB'), (('cleaner-burning', 'ADP'), ('cleaner-burning', 'ADJ'))],\n",
       " [('cleaner-burning', 'ADJ'), (('fuels', 'ADP'), ('fuels', 'NOUN'))],\n",
       " [(',', '.'), (('more', 'ADV'), ('more', 'ADJ'))],\n",
       " [('will', 'VERB'), (('worsen', 'ADP'), ('worsen', 'VERB'))],\n",
       " [('in', 'ADP'), (('Chinchon', 'ADP'), ('Chinchon', 'NOUN'))],\n",
       " [('and', 'CONJ'), (('diversifying', 'ADP'), ('diversifying', 'VERB'))],\n",
       " [('Campbell', 'NOUN'), (('Soups', 'ADP'), ('Soups', 'NOUN'))],\n",
       " [('a', 'DET'), (('run', 'VERB'), ('run', 'NOUN'))],\n",
       " [('*T*-2', 'X'), (('Mike', 'ADP'), ('Mike', 'NOUN'))],\n",
       " [('at', 'ADP'), (('DDB', 'ADP'), ('DDB', 'NOUN'))],\n",
       " [('an', 'DET'), (('affordable', 'ADP'), ('affordable', 'ADJ'))],\n",
       " [('$', '.'), (('1,298', 'ADP'), ('1,298', 'NUM'))],\n",
       " [('The', 'DET'), (('Japanese', 'ADJ'), ('Japanese', 'NOUN'))],\n",
       " [('Japanese', 'NOUN'), (('fret', 'ADP'), ('fret', 'NOUN'))],\n",
       " [(\"'s\", 'PRT'), (('rancor', 'ADP'), ('rancor', 'NOUN'))],\n",
       " [('which', 'DET'), (('*T*-213', 'ADP'), ('*T*-213', 'X'))],\n",
       " [('attorney', 'NOUN'), (('general', 'ADJ'), ('general', 'NOUN'))],\n",
       " [('Bob', 'NOUN'), (('Goodman', 'ADP'), ('Goodman', 'NOUN'))],\n",
       " [('to', 'PRT'), (('shake', 'ADP'), ('shake', 'VERB'))],\n",
       " [(\"'s\", 'PRT'), (('support', 'VERB'), ('support', 'NOUN'))],\n",
       " [('the', 'DET'), (('very', 'ADV'), ('very', 'ADJ'))],\n",
       " [('of', 'ADP'), (('unfilled', 'ADP'), ('unfilled', 'ADJ'))],\n",
       " [('rose', 'VERB'), (('0.5', 'ADP'), ('0.5', 'NUM'))],\n",
       " [('$', '.'), (('497.34', 'ADP'), ('497.34', 'NUM'))],\n",
       " [('the', 'DET'), (('courage', 'ADP'), ('courage', 'NOUN'))],\n",
       " [('*T*-2', 'X'), (('A.D.', 'ADP'), ('A.D.', 'NOUN'))],\n",
       " [('less', 'ADJ'), (('parched', 'ADP'), ('parched', 'VERB'))],\n",
       " [('had', 'VERB'), (('little', 'ADV'), ('little', 'ADJ'))],\n",
       " [('production', 'NOUN'), (('profited', 'ADP'), ('profited', 'VERB'))],\n",
       " [('F.', 'NOUN'), (('Shugart', 'ADP'), ('Shugart', 'NOUN'))],\n",
       " [('of', 'ADP'), (('Seagate', 'ADP'), ('Seagate', 'NOUN'))],\n",
       " [('team', 'NOUN'), (('that', 'ADP'), ('that', 'DET'))],\n",
       " [('.', '.'), (('Prior', 'ADP'), ('Prior', 'ADV'))],\n",
       " [('teacher', 'NOUN'), (('bled', 'ADP'), ('bled', 'VERB'))],\n",
       " [('the', 'DET'), (('halls', 'ADP'), ('halls', 'NOUN'))],\n",
       " [('*-1', 'X'), (('stabbed', 'ADP'), ('stabbed', 'VERB'))],\n",
       " [('.', '.'), (('Third', 'ADP'), ('Third', 'ADJ'))],\n",
       " [('$', '.'), (('11.57', 'ADP'), ('11.57', 'NUM'))],\n",
       " [('share', 'NOUN'), (('vs.', 'ADP'), ('vs.', 'CONJ'))],\n",
       " [('vs.', 'CONJ'), (('net', 'ADJ'), ('net', 'NOUN'))],\n",
       " [('share', 'NOUN'), (('Domestic', 'ADP'), ('Domestic', 'ADJ'))],\n",
       " [('and', 'CONJ'), (('bulldozers', 'ADP'), ('bulldozers', 'NOUN'))],\n",
       " [('to', 'PRT'), (('142.84', 'ADP'), ('142.84', 'NUM'))],\n",
       " [('from', 'ADP'), (('126.15', 'ADP'), ('126.15', 'NUM'))],\n",
       " [('a', 'DET'), (('1934', 'ADP'), ('1934', 'NUM'))],\n",
       " [('Johnson', 'NOUN'), (('Debt', 'ADP'), ('Debt', 'NOUN'))],\n",
       " [('Debt', 'NOUN'), (('Default', 'ADP'), ('Default', 'NOUN'))],\n",
       " [(',', '.'), (('as', 'ADP'), ('as', 'ADV'))],\n",
       " [('*', 'X'), (('amended', 'ADP'), ('amended', 'VERB'))],\n",
       " [('*EXP*-2', 'X'), ((\"'s\", 'PRT'), (\"'s\", 'VERB'))],\n",
       " [('stepped', 'VERB'), (('down', 'ADV'), ('down', 'PRT'))],\n",
       " [('.', '.'), (('2', 'NUM'), ('2', 'X'))],\n",
       " [('a', 'DET'), (('Hawaiian', 'ADP'), ('Hawaiian', 'ADJ'))],\n",
       " [('for', 'ADP'), (('alleged', 'ADJ'), ('alleged', 'VERB'))],\n",
       " [('steel', 'NOUN'), (('mill', 'ADP'), ('mill', 'NOUN'))],\n",
       " [('another', 'DET'), (('drag-down', 'ADP'), ('drag-down', 'ADJ'))],\n",
       " [('of', 'ADP'), (('unfettered', 'ADP'), ('unfettered', 'ADJ'))],\n",
       " [('0', 'X'), (('that', 'ADP'), ('that', 'DET'))],\n",
       " [('edged', 'VERB'), (('up', 'ADV'), ('up', 'ADP'))],\n",
       " [('was', 'VERB'), (('awfully', 'ADP'), ('awfully', 'ADV'))],\n",
       " [('at', 'ADP'), (('Schaefer', 'ADP'), ('Schaefer', 'NOUN'))],\n",
       " [('in', 'ADP'), (('Skokie', 'ADP'), ('Skokie', 'NOUN'))],\n",
       " [('in', 'ADP'), (('suburban', 'ADP'), ('suburban', 'ADJ'))],\n",
       " [('people', 'NOUN'), (('out', 'PRT'), ('out', 'ADP'))],\n",
       " [('out', 'ADP'), (('there', 'DET'), ('there', 'ADV'))],\n",
       " [('different', 'ADJ'), (('opinions', 'ADP'), ('opinions', 'NOUN'))],\n",
       " [('.', '.'), (('Evidence', 'ADP'), ('Evidence', 'NOUN'))],\n",
       " [('long', 'ADJ'), (('haul', 'ADP'), ('haul', 'NOUN'))],\n",
       " [('the', 'DET'), (('Soviet', 'ADJ'), ('Soviet', 'NOUN'))],\n",
       " [('more', 'ADV'), (('responsive', 'ADP'), ('responsive', 'ADJ'))],\n",
       " [('consumer', 'NOUN'), (('demands', 'ADP'), ('demands', 'NOUN'))],\n",
       " [('$', '.'), (('81.8', 'ADP'), ('81.8', 'NUM'))],\n",
       " [('of', 'ADP'), (('7.20', 'ADP'), ('7.20', 'NUM'))],\n",
       " [('have', 'VERB'), (('much', 'ADV'), ('much', 'ADJ'))],\n",
       " [('much', 'ADJ'), (('sympathy', 'ADP'), ('sympathy', 'NOUN'))],\n",
       " [('a', 'DET'), (('willingness', 'ADP'), ('willingness', 'NOUN'))],\n",
       " [('record', 'NOUN'), (('corn-buying', 'ADP'), ('corn-buying', 'ADJ'))],\n",
       " [('corn-buying', 'ADJ'), (('binge', 'ADP'), ('binge', 'NOUN'))],\n",
       " [('the', 'DET'), (('Soviet', 'ADJ'), ('Soviet', 'NOUN'))],\n",
       " [('serious', 'ADJ'), (('bottlenecks', 'ADP'), ('bottlenecks', 'NOUN'))],\n",
       " [('grain', 'NOUN'), (('pipeline', 'ADP'), ('pipeline', 'NOUN'))],\n",
       " [('the', 'DET'), (('hardest-hit', 'ADP'), ('hardest-hit', 'ADJ'))],\n",
       " [('the', 'DET'), (('Dakotas', 'ADP'), ('Dakotas', 'NOUN'))],\n",
       " [('indexers', 'NOUN'), (('charge', 'NOUN'), ('charge', 'VERB'))],\n",
       " [('few', 'ADJ'), (('pennies', 'ADP'), ('pennies', 'NOUN'))],\n",
       " [('.', '.'), (('So', 'ADV'), ('So', 'ADP'))],\n",
       " [('appear', 'VERB'), (('unenthusiastic', 'ADP'), ('unenthusiastic', 'ADJ'))],\n",
       " [('take', 'VERB'), (('away', 'ADV'), ('away', 'PRT'))],\n",
       " [('and', 'CONJ'), (('incest', 'ADP'), ('incest', 'NOUN'))],\n",
       " [('*-3', 'X'), (('transforming', 'ADP'), ('transforming', 'VERB'))],\n",
       " [(',', '.'), (('adverse', 'ADP'), ('adverse', 'ADJ'))],\n",
       " [('or', 'CONJ'), (('otherwise', 'ADP'), ('otherwise', 'ADV'))],\n",
       " [('``', '.'), (('vague', 'ADP'), ('vague', 'ADJ'))],\n",
       " [('and', 'CONJ'), (('mushy', 'ADP'), ('mushy', 'ADJ'))],\n",
       " [(\"''\", '.'), (('that', 'DET'), ('that', 'ADP'))],\n",
       " [('all', 'DET'), (('viewpoints', 'ADP'), ('viewpoints', 'NOUN'))],\n",
       " [('come', 'VERB'), (('out', 'PRT'), ('out', 'ADV'))],\n",
       " [('a', 'DET'), (('subject', 'ADJ'), ('subject', 'NOUN'))],\n",
       " [('so', 'ADV'), (('changes', 'VERB'), ('changes', 'NOUN'))],\n",
       " [('takes', 'VERB'), (('about', 'ADP'), ('about', 'ADV'))],\n",
       " [('creates', 'VERB'), (('deviant', 'ADP'), ('deviant', 'ADJ'))],\n",
       " [('it', 'PRON'), (('bid', 'NOUN'), ('bid', 'VERB'))],\n",
       " [('the', 'DET'), (('equivalent', 'ADJ'), ('equivalent', 'NOUN'))],\n",
       " [('U.S.', 'NOUN'), (('penny', 'ADP'), ('penny', 'NOUN'))],\n",
       " [('main', 'ADJ'), (('beneficiaries', 'ADP'), ('beneficiaries', 'NOUN'))],\n",
       " [('the', 'DET'), (('cushion', 'ADP'), ('cushion', 'NOUN'))],\n",
       " [('The', 'DET'), (('following', 'NOUN'), ('following', 'VERB'))],\n",
       " [(\"'s\", 'PRT'), (('offerings', 'ADP'), ('offerings', 'NOUN'))],\n",
       " [('and', 'CONJ'), (('pricings', 'ADP'), ('pricings', 'NOUN'))],\n",
       " [('and', 'CONJ'), (('non-U.S.', 'ADP'), ('non-U.S.', 'NOUN'))],\n",
       " [('and', 'CONJ'), (('syndicate', 'ADP'), ('syndicate', 'NOUN'))],\n",
       " [('of', 'ADP'), (('frantic', 'ADP'), ('frantic', 'ADJ'))],\n",
       " [('of', 'ADP'), (('revenue-desperate', 'ADP'), ('revenue-desperate', 'ADJ'))],\n",
       " [('revenue-desperate', 'ADJ'), (('magazines', 'ADP'), ('magazines', 'NOUN'))],\n",
       " [('pretty', 'ADV'), (('cozy', 'ADP'), ('cozy', 'ADJ'))],\n",
       " [('*-1', 'X'), (('fawning', 'ADP'), ('fawning', 'VERB'))],\n",
       " [('in', 'ADP'), (('articles', 'ADP'), ('articles', 'NOUN'))],\n",
       " [('and', 'CONJ'), (('offering', 'NOUN'), ('offering', 'VERB'))],\n",
       " [('of', 'ADP'), (('advertorial', 'ADP'), ('advertorial', 'ADJ'))],\n",
       " [('a', 'DET'), (('handful', 'ADP'), ('handful', 'NOUN'))],\n",
       " [('and', 'CONJ'), (('Adolph', 'ADP'), ('Adolph', 'NOUN'))],\n",
       " [('Adolph', 'NOUN'), (('Coors', 'ADP'), ('Coors', 'NOUN'))],\n",
       " [('and', 'CONJ'), (('Bumkins', 'ADP'), ('Bumkins', 'NOUN'))],\n",
       " [('firms', 'NOUN'), (('that', 'ADP'), ('that', 'DET'))],\n",
       " [('that', 'DET'), (('*T*-154', 'ADP'), ('*T*-154', 'X'))],\n",
       " [('spend', 'VERB'), (('much', 'ADV'), ('much', 'ADJ'))],\n",
       " [('be', 'VERB'), (('relied', 'ADP'), ('relied', 'VERB'))],\n",
       " [('long', 'ADJ'), (('haul', 'ADP'), ('haul', 'NOUN'))],\n",
       " [('A', 'DET'), (('high-balance', 'ADP'), ('high-balance', 'ADJ'))],\n",
       " [('banks', 'NOUN'), (('pine', 'ADP'), ('pine', 'VERB'))],\n",
       " [('pine', 'VERB'), (('for', 'ADP'), ('for', 'PRT'))],\n",
       " [('give', 'VERB'), (('much', 'ADV'), ('much', 'ADJ'))],\n",
       " [('much', 'ADJ'), (('thought', 'VERB'), ('thought', 'NOUN'))],\n",
       " [('considers', 'VERB'), (('GM', 'ADP'), ('GM', 'NOUN'))],\n",
       " [('sophisticated', 'ADJ'), (('direct-mail', 'ADP'), ('direct-mail', 'ADJ'))],\n",
       " [('direct-mail', 'ADJ'), (('marketers', 'ADP'), ('marketers', 'NOUN'))],\n",
       " [(\"''\", '.'), (('so', 'ADV'), ('so', 'ADP'))],\n",
       " [('joining', 'VERB'), (('forces', 'VERB'), ('forces', 'NOUN'))],\n",
       " [('our', 'PRON'), (('direct-mail', 'ADP'), ('direct-mail', 'ADJ'))],\n",
       " [('direct-mail', 'ADJ'), (('capability', 'ADP'), ('capability', 'NOUN'))],\n",
       " [('Svenska', 'NOUN'), (('Intecknings', 'ADP'), ('Intecknings', 'NOUN'))],\n",
       " [('Intecknings', 'NOUN'), (('Garanti', 'ADP'), ('Garanti', 'NOUN'))],\n",
       " [('Garanti', 'NOUN'), (('Aktiebolaget', 'ADP'), ('Aktiebolaget', 'NOUN'))],\n",
       " [('-LRB-', '.'), (('Sweden', 'ADP'), ('Sweden', 'NOUN'))],\n",
       " [('House', 'NOUN'), (('waived', 'ADP'), ('waived', 'VERB'))],\n",
       " [('in', 'ADP'), (('supplemental', 'ADP'), ('supplemental', 'ADJ'))],\n",
       " [('and', 'CONJ'), (('anti-drug', 'ADP'), ('anti-drug', 'ADJ'))],\n",
       " [('.', '.'), (('Spreads', 'ADP'), ('Spreads', 'NOUN'))],\n",
       " [('so', 'ADV'), (('tight', 'ADJ'), ('tight', 'ADV'))],\n",
       " [(\"n't\", 'ADV'), (('matter', 'NOUN'), ('matter', 'VERB'))],\n",
       " [('any', 'DET'), (('temporary', 'ADP'), ('temporary', 'ADJ'))],\n",
       " [('seen', 'VERB'), (('so', 'ADV'), ('so', 'ADP'))],\n",
       " [('people', 'NOUN'), (('crying', 'ADP'), ('crying', 'VERB'))],\n",
       " [('an', 'DET'), (('assistant', 'NOUN'), ('assistant', 'ADJ'))],\n",
       " [(',', '.'), (('dominates', 'ADP'), ('dominates', 'VERB'))],\n",
       " [('buy', 'VERB'), ((\"'86\", 'ADP'), (\"'86\", 'NUM'))],\n",
       " [(',', '.'), (('as', 'ADP'), ('as', 'ADV'))],\n",
       " [('as', 'ADP'), (('Opus', 'ADP'), ('Opus', 'NOUN'))],\n",
       " [('and', 'CONJ'), (('Dominus', 'ADP'), ('Dominus', 'NOUN'))],\n",
       " [('Amendment', 'NOUN'), (('proscribes', 'ADP'), ('proscribes', 'VERB'))],\n",
       " [('laws', 'NOUN'), (('abridging', 'ADP'), ('abridging', 'VERB'))],\n",
       " [('Federal', 'NOUN'), (('Open', 'ADP'), ('Open', 'NOUN'))],\n",
       " [('Nov.', 'NOUN'), (('14.', 'ADP'), ('14.', 'NUM'))],\n",
       " [('.', '.'), (('Policies', 'ADP'), ('Policies', 'NOUN'))],\n",
       " [('are', 'VERB'), (('akin', 'ADP'), ('akin', 'ADJ'))],\n",
       " [('``', '.'), (('Buyers', 'ADP'), ('Buyers', 'NOUN'))],\n",
       " [('sellers', 'NOUN'), (('please', 'ADP'), ('please', 'VERB'))],\n",
       " [(\"''\", '.'), (('Inventories', 'ADP'), ('Inventories', 'NOUN'))],\n",
       " [('closely', 'ADV'), (('watched', 'ADP'), ('watched', 'VERB'))],\n",
       " [('the', 'DET'), (('petulant', 'ADP'), ('petulant', 'ADJ'))],\n",
       " [('an', 'DET'), (('impudent', 'ADP'), ('impudent', 'ADJ'))],\n",
       " [('impudent', 'ADJ'), (('American', 'ADJ'), ('American', 'NOUN'))],\n",
       " [('Sony', 'NOUN'), (('hosted', 'ADP'), ('hosted', 'VERB'))],\n",
       " [('a', 'DET'), (('Luce', 'ADP'), ('Luce', 'NOUN'))],\n",
       " [('Luce', 'NOUN'), (('Fellowship', 'ADP'), ('Fellowship', 'NOUN'))],\n",
       " [('--', '.'), (('to', 'PRT'), ('to', 'ADP'))],\n",
       " [('adds', 'VERB'), (('up', 'ADV'), ('up', 'PRT'))],\n",
       " [('to', 'PRT'), (('American-style', 'ADP'), ('American-style', 'ADJ'))],\n",
       " [('the', 'DET'), (('most', 'ADJ'), ('most', 'ADV'))],\n",
       " [('trading', 'NOUN'), (('that', 'ADP'), ('that', 'DET'))],\n",
       " [('that', 'DET'), (('*T*-253', 'ADP'), ('*T*-253', 'X'))],\n",
       " [('to', 'PRT'), (('exploit', 'ADP'), ('exploit', 'VERB'))],\n",
       " [(',', '.'), (('old-style', 'ADP'), ('old-style', 'ADJ'))],\n",
       " [('funds', 'NOUN'), (('that', 'ADP'), ('that', 'DET'))],\n",
       " [('to', 'PRT'), (('juggle', 'ADP'), ('juggle', 'VERB'))],\n",
       " [('portfolios', 'NOUN'), (('so', 'ADV'), ('so', 'ADP'))],\n",
       " [('they', 'PRON'), (('mirror', 'NOUN'), ('mirror', 'VERB'))],\n",
       " [('$', '.'), (('1.50', 'ADP'), ('1.50', 'NUM'))],\n",
       " [('.', '.'), (('Spirit', 'ADP'), ('Spirit', 'NOUN'))],\n",
       " [('of', 'ADP'), (('Perestroika', 'ADP'), ('Perestroika', 'X'))],\n",
       " [('Perestroika', 'X'), (('Touches', 'ADP'), ('Touches', 'VERB'))],\n",
       " [('Touches', 'VERB'), (('Design', 'ADP'), ('Design', 'NOUN'))],\n",
       " [('highly', 'ADV'), (('romanticized', 'ADP'), ('romanticized', 'VERB'))],\n",
       " [('no', 'DET'), (('more', 'ADJ'), ('more', 'ADV'))],\n",
       " [('more', 'ADV'), (('romanticized', 'ADP'), ('romanticized', 'VERB'))],\n",
       " [('the', 'DET'), (('good-hearted', 'ADP'), ('good-hearted', 'ADJ'))],\n",
       " [('their', 'PRON'), (('down', 'ADV'), ('down', 'NOUN'))],\n",
       " [('with', 'ADP'),\n",
       "  (('truth-in-lending', 'ADP'), ('truth-in-lending', 'NOUN'))],\n",
       " [('state', 'NOUN'), (('disclosure', 'ADP'), ('disclosure', 'NOUN'))],\n",
       " [('the', 'DET'), (('GM', 'ADP'), ('GM', 'NOUN'))],\n",
       " [('Argentine', 'ADJ'), (('negotiator', 'ADP'), ('negotiator', 'NOUN'))],\n",
       " [('Carlos', 'NOUN'), (('Carballo', 'ADP'), ('Carballo', 'NOUN'))],\n",
       " [('is', 'VERB'), (('mulling', 'ADP'), ('mulling', 'VERB'))],\n",
       " [('mulling', 'VERB'), (('such', 'ADJ'), ('such', 'DET'))],\n",
       " [('to', 'PRT'), (('mitigate', 'ADP'), ('mitigate', 'VERB'))],\n",
       " [('major', 'ADJ'), (('grower', 'ADP'), ('grower', 'NOUN'))],\n",
       " [('electronic', 'ADJ'), (('giveaways', 'ADP'), ('giveaways', 'NOUN'))],\n",
       " [('to', 'PRT'), (('subscribers', 'ADP'), ('subscribers', 'NOUN'))],\n",
       " [('as', 'ADP'), (('telephones', 'ADP'), ('telephones', 'NOUN'))],\n",
       " [('to', 'PRT'), (('facilitate', 'ADP'), ('facilitate', 'VERB'))],\n",
       " [('been', 'VERB'), (('enormously', 'ADP'), ('enormously', 'ADV'))],\n",
       " [('enormously', 'ADV'), (('frustrating', 'ADP'), ('frustrating', 'VERB'))],\n",
       " [('computer', 'NOUN'), (('science', 'ADP'), ('science', 'NOUN'))],\n",
       " [('was', 'VERB'), (('raring', 'ADP'), ('raring', 'ADJ'))],\n",
       " [('to', 'PRT'), (('invent', 'ADP'), ('invent', 'VERB'))],\n",
       " [('another', 'DET'), (('Walkman', 'ADP'), ('Walkman', 'NOUN'))],\n",
       " [('``', '.'), (('Varying', 'ADP'), ('Varying', 'ADJ'))],\n",
       " [('and', 'CONJ'), (('life-style', 'ADP'), ('life-style', 'NOUN'))],\n",
       " [('numerous', 'ADJ'), (('sub-markets', 'ADP'), ('sub-markets', 'NOUN'))],\n",
       " [('.', '.'), (('PAPERS', 'ADP'), ('PAPERS', 'NOUN'))],\n",
       " [('The', 'DET'), (('Soviet', 'ADJ'), ('Soviet', 'NOUN'))],\n",
       " [('the', 'DET'), (('most', 'ADJ'), ('most', 'ADV'))],\n",
       " [('the', 'DET'), (('Soviet', 'ADJ'), ('Soviet', 'NOUN'))],\n",
       " [('bought', 'VERB'), (('back', 'ADV'), ('back', 'PRT'))],\n",
       " [('about', 'ADP'), (('15.5', 'ADP'), ('15.5', 'NUM'))],\n",
       " [('Anthony', 'NOUN'), (('Cheetham', 'ADP'), ('Cheetham', 'NOUN'))],\n",
       " [(',', '.'), (('Century', 'ADP'), ('Century', 'NOUN'))],\n",
       " [('Century', 'NOUN'), (('Hutchinson', 'ADP'), ('Hutchinson', 'NOUN'))],\n",
       " [('.', '.'), (('BANKERS', 'ADP'), ('BANKERS', 'NOUN'))],\n",
       " [('BANKERS', 'NOUN'), (('ACCEPTANCES', 'ADP'), ('ACCEPTANCES', 'NOUN'))],\n",
       " [(';', '.'), (('8.48', 'ADP'), ('8.48', 'NUM'))],\n",
       " [(';', '.'), (('8.30', 'ADP'), ('8.30', 'NUM'))],\n",
       " [(';', '.'), (('8.15', 'ADP'), ('8.15', 'NUM'))],\n",
       " [('other', 'ADJ'), (('cash-rich', 'ADP'), ('cash-rich', 'ADJ'))],\n",
       " [(\"'s\", 'PRT'), (('lead', 'VERB'), ('lead', 'NOUN'))],\n",
       " [('$', '.'), (('70.2', 'ADP'), ('70.2', 'NUM'))],\n",
       " [('of', 'ADP'), (('seafood', 'ADP'), ('seafood', 'NOUN'))],\n",
       " [(\"n't\", 'ADV'), (('elaborate', 'VERB'), ('elaborate', 'ADJ'))],\n",
       " [('videocassette', 'NOUN'), (('piracy', 'ADP'), ('piracy', 'NOUN'))],\n",
       " [('and', 'CONJ'), (('disregard', 'ADP'), ('disregard', 'NOUN'))],\n",
       " [('is', 'VERB'), (('imposing', 'ADP'), ('imposing', 'VERB'))],\n",
       " [('rung', 'VERB'), (('*-140', 'ADP'), ('*-140', 'X'))],\n",
       " [('rural', 'ADJ'), (('parishes', 'ADP'), ('parishes', 'NOUN'))],\n",
       " [('and', 'CONJ'), (('inner-city', 'ADP'), ('inner-city', 'NOUN'))],\n",
       " [('.', '.'), (('THREE', 'ADP'), ('THREE', 'NUM'))],\n",
       " [('THREE', 'NUM'), (('COMPUTERS', 'ADP'), ('COMPUTERS', 'NOUN'))],\n",
       " [('COMPUTERS', 'NOUN'), (('THAT', 'ADP'), ('THAT', 'DET'))],\n",
       " [('*T*-31', 'X'), (('CHANGED', 'ADP'), ('CHANGED', 'VERB'))],\n",
       " [('``', '.'), (('New', 'NOUN'), ('New', 'ADJ'))],\n",
       " [('a', 'DET'), (('little', 'ADJ'), ('little', 'ADV'))],\n",
       " [(',', '.'), (('U.S.-Japanese', 'ADP'), ('U.S.-Japanese', 'ADJ'))],\n",
       " [('economic', 'ADJ'), (('behemoth', 'ADP'), ('behemoth', 'NOUN'))],\n",
       " [('will', 'VERB'), (('personally', 'ADP'), ('personally', 'ADV'))],\n",
       " [('personally', 'ADV'), (('direct', 'ADJ'), ('direct', 'VERB'))],\n",
       " [('*-1', 'X'), (('assisted', 'ADP'), ('assisted', 'VERB'))],\n",
       " [('by', 'ADP'), (('Manfred', 'ADP'), ('Manfred', 'NOUN'))],\n",
       " [('Manfred', 'NOUN'), (('Gingl', 'ADP'), ('Gingl', 'NOUN'))],\n",
       " [('opening', 'VERB'), (('up', 'ADV'), ('up', 'PRT'))],\n",
       " [('wines', 'NOUN'), (('that', 'ADP'), ('that', 'DET'))],\n",
       " [('that', 'DET'), (('*T*-168', 'ADP'), ('*T*-168', 'X'))],\n",
       " [('*T*-168', 'X'), (('appeal', 'NOUN'), ('appeal', 'VERB'))],\n",
       " [('and', 'CONJ'), (('amortization', 'ADP'), ('amortization', 'NOUN'))],\n",
       " [('*-2', 'X'), (('sacrificing', 'ADP'), ('sacrificing', 'VERB'))],\n",
       " [('sale', 'NOUN'), (('that', 'ADP'), ('that', 'DET'))],\n",
       " [('that', 'DET'), (('*T*-140', 'ADP'), ('*T*-140', 'X'))],\n",
       " [('*', 'X'), (('addressing', 'ADP'), ('addressing', 'VERB'))],\n",
       " [('shares', 'NOUN'), (('*T*-121', 'ADP'), ('*T*-121', 'X'))],\n",
       " [('*T*-121', 'X'), (('trade', 'NOUN'), ('trade', 'VERB'))],\n",
       " [('was', 'VERB'), (('372.9', 'ADP'), ('372.9', 'NUM'))],\n",
       " [('from', 'ADP'), (('334.5', 'ADP'), ('334.5', 'NUM'))],\n",
       " [('tons', 'NOUN'), (('that', 'ADP'), ('that', 'DET'))],\n",
       " [('*T*-2', 'X'), (('Judith', 'ADP'), ('Judith', 'NOUN'))],\n",
       " [('.', '.'), (('Participants', 'ADP'), ('Participants', 'NOUN'))],\n",
       " [('New', 'NOUN'), (('Zealand', 'ADP'), ('Zealand', 'NOUN'))],\n",
       " [('Zealand', 'NOUN'), (('as', 'ADP'), ('as', 'ADV'))],\n",
       " [('Southeast', 'NOUN'), (('Asian', 'ADJ'), ('Asian', 'NOUN'))],\n",
       " [('and', 'CONJ'), (('Brunei', 'ADP'), ('Brunei', 'NOUN'))],\n",
       " [('to', 'PRT'), (('implant', 'ADP'), ('implant', 'VERB'))],\n",
       " [('the', 'DET'), (('brain', 'ADP'), ('brain', 'NOUN'))],\n",
       " [('a', 'DET'), (('patient', 'ADP'), ('patient', 'NOUN'))],\n",
       " [('$', '.'), (('12.09', 'ADP'), ('12.09', 'NUM'))],\n",
       " [('way', 'NOUN'), (('sanctions', 'NOUN'), ('sanctions', 'VERB'))],\n",
       " [('the', 'DET'), (('dismal', 'ADP'), ('dismal', 'ADJ'))],\n",
       " [('.', '.'), (('F.H.', 'ADP'), ('F.H.', 'NOUN'))],\n",
       " [('*-2', 'X'), (('Filmed', 'ADP'), ('Filmed', 'VERB'))],\n",
       " [('in', 'ADP'), (('lovely', 'ADP'), ('lovely', 'ADJ'))],\n",
       " [('lovely', 'ADJ'), (('black', 'ADJ'), ('black', 'NOUN'))],\n",
       " [('and', 'CONJ'), (('white', 'ADJ'), ('white', 'NOUN'))],\n",
       " [('Bill', 'NOUN'), (('Dill', 'ADP'), ('Dill', 'NOUN'))],\n",
       " [('seem', 'VERB'), (('benign', 'ADP'), ('benign', 'ADJ'))],\n",
       " [('David', 'NOUN'), (('Wu', 'ADP'), ('Wu', 'NOUN'))],\n",
       " [('0', 'X'), (('Atlanta-based', 'ADP'), ('Atlanta-based', 'ADJ'))],\n",
       " [('conventional', 'ADJ'),\n",
       "  (('life-insurance', 'ADP'), ('life-insurance', 'NOUN'))],\n",
       " [('.', '.'), (('Yasser', 'ADP'), ('Yasser', 'NOUN'))],\n",
       " [('Yasser', 'NOUN'), (('Arafat', 'ADP'), ('Arafat', 'NOUN'))],\n",
       " [('to', 'PRT'), (('back', 'ADV'), ('back', 'VERB'))],\n",
       " [('a', 'DET'), (('Palestinian', 'NOUN'), ('Palestinian', 'ADJ'))],\n",
       " [('the', 'DET'), (('Palestine', 'ADP'), ('Palestine', 'NOUN'))],\n",
       " [('Palestine', 'NOUN'), (('Liberation', 'ADP'), ('Liberation', 'NOUN'))],\n",
       " [('agency', 'NOUN'), (('WAFA', 'ADP'), ('WAFA', 'NOUN'))],\n",
       " [('to', 'PRT'), (('coordinate', 'ADP'), ('coordinate', 'VERB'))],\n",
       " [('sometimes', 'ADV'), (('deliberately', 'ADP'), ('deliberately', 'ADV'))],\n",
       " [('deliberately', 'ADV'), (('disconnect', 'ADP'), ('disconnect', 'VERB'))],\n",
       " [('of', 'ADP'), (('heightened', 'ADP'), ('heightened', 'VERB'))],\n",
       " [('large', 'ADJ'), (('burlap', 'ADP'), ('burlap', 'NOUN'))],\n",
       " [('burlap', 'NOUN'), (('sacks', 'ADP'), ('sacks', 'NOUN'))],\n",
       " [('huge', 'ADJ'), (('bin', 'ADP'), ('bin', 'NOUN'))],\n",
       " [(',', '.'), (('poured', 'ADP'), ('poured', 'VERB'))],\n",
       " [('poured', 'VERB'), (('in', 'ADP'), ('in', 'PRT'))],\n",
       " [('in', 'PRT'), (('cotton', 'ADP'), ('cotton', 'NOUN'))],\n",
       " [('and', 'CONJ'), (('acetate', 'ADP'), ('acetate', 'NOUN'))],\n",
       " [('and', 'CONJ'), (('mechanically', 'ADP'), ('mechanically', 'ADV'))],\n",
       " [('.', '.'), (('Earlier', 'ADJ'), ('Earlier', 'ADV'))],\n",
       " [('of', 'ADP'), (('American', 'ADJ'), ('American', 'NOUN'))],\n",
       " [('from', 'ADP'), (('E.W.', 'ADP'), ('E.W.', 'NOUN'))],\n",
       " [('E.W.', 'NOUN'), (('Scripps', 'ADP'), ('Scripps', 'NOUN'))],\n",
       " [('Co.', 'NOUN'), (('next', 'ADP'), ('next', 'ADJ'))],\n",
       " [('thing', 'NOUN'), (('happened', 'ADP'), ('happened', 'VERB'))],\n",
       " [('``', '.'), (('Wa', '.'), ('Wa', 'NOUN'))],\n",
       " [('is', 'VERB'), (('Japanese', 'ADJ'), ('Japanese', 'NOUN'))],\n",
       " [('on', 'ADP'), (('recycled', 'ADP'), ('recycled', 'VERB'))],\n",
       " [('nation', 'NOUN'), (('address', 'VERB'), ('address', 'NOUN'))],\n",
       " [('Salinas', 'NOUN'), (('pledged', 'ADP'), ('pledged', 'VERB'))],\n",
       " [('of', 'ADP'), (('modernization', 'ADP'), ('modernization', 'NOUN'))],\n",
       " [('*', 'X'), (('impeding', 'ADP'), ('impeding', 'VERB'))],\n",
       " [('could', 'VERB'), (('cost', 'NOUN'), ('cost', 'VERB'))],\n",
       " [('*-2', 'X'), (('punishing', 'ADP'), ('punishing', 'VERB'))],\n",
       " [('or', 'CONJ'), (('retaliating', 'ADP'), ('retaliating', 'VERB'))],\n",
       " [('authorities', 'NOUN'), (('cranked', 'ADP'), ('cranked', 'VERB'))],\n",
       " [('cranked', 'VERB'), (('up', 'ADV'), ('up', 'PRT'))],\n",
       " [('investigation', 'NOUN'), (('worthy', 'ADP'), ('worthy', 'ADJ'))],\n",
       " [('*', 'X'), (('Eliminate', 'ADP'), ('Eliminate', 'VERB'))],\n",
       " [('creating', 'VERB'), (('more', 'ADV'), ('more', 'ADJ'))],\n",
       " [('.', '.'), (('Individual', 'ADP'), ('Individual', 'ADJ'))],\n",
       " [('$', '.'), (('2.95', 'ADP'), ('2.95', 'NUM'))],\n",
       " [('and', 'CONJ'), (('yearly', 'ADP'), ('yearly', 'ADJ'))],\n",
       " [('$', '.'), (('88', 'ADP'), ('88', 'NUM'))],\n",
       " [('no', 'DET'), (('culprit', 'ADP'), ('culprit', 'NOUN'))],\n",
       " [('next', 'ADJ'), (('province', 'ADP'), ('province', 'NOUN'))],\n",
       " [('?', '.'), (('Homeless', 'NOUN'), ('Homeless', 'ADJ'))],\n",
       " [('not', 'ADV'), (('only', 'ADV'), ('only', 'ADJ'))],\n",
       " [('only', 'ADJ'), (('lack', 'NOUN'), ('lack', 'VERB'))],\n",
       " [('also', 'ADV'), (('lack', 'NOUN'), ('lack', 'VERB'))],\n",
       " [('the', 'DET'), (('elementary', 'ADP'), ('elementary', 'ADJ'))],\n",
       " [('elementary', 'ADJ'), (('necessities', 'ADP'), ('necessities', 'NOUN'))],\n",
       " [('of', 'ADP'), (('nutrition', 'ADP'), ('nutrition', 'NOUN'))],\n",
       " [(',', '.'), (('cleanliness', 'ADP'), ('cleanliness', 'NOUN'))],\n",
       " [('health', 'NOUN'), (('care', 'VERB'), ('care', 'NOUN'))],\n",
       " [(',', '.'), (('American', 'NOUN'), ('American', 'ADJ'))],\n",
       " [('$', '.'), (('43.875', 'ADP'), ('43.875', 'NUM'))],\n",
       " [('the', 'DET'), (('first', 'ADJ'), ('first', 'ADV'))],\n",
       " [('two-year', 'ADJ'), (('cost-control', 'ADP'), ('cost-control', 'ADJ'))],\n",
       " [('12-point', 'ADJ'),\n",
       "  (('circuit-breaker', 'ADP'), ('circuit-breaker', 'NOUN'))],\n",
       " [('circuit-breaker', 'NOUN'),\n",
       "  (('aggravated', 'ADP'), ('aggravated', 'VERB'))],\n",
       " [('*-1', 'X'), (('directing', 'ADP'), ('directing', 'VERB'))],\n",
       " [('additional', 'ADJ'), (('selling', 'NOUN'), ('selling', 'VERB'))],\n",
       " [('is', 'VERB'), (('propelling', 'ADP'), ('propelling', 'VERB'))],\n",
       " [('paid', 'VERB'), (('for', 'ADP'), ('for', 'ADV'))],\n",
       " [('by', 'ADP'), (('Republican', 'ADJ'), ('Republican', 'NOUN'))],\n",
       " [('are', 'VERB'), (('stretching', 'ADP'), ('stretching', 'VERB'))],\n",
       " [('their', 'PRON'), (('nets', 'ADP'), ('nets', 'NOUN'))],\n",
       " [('and', 'CONJ'), (('wide', 'ADJ'), ('wide', 'ADV'))],\n",
       " [('men', 'NOUN'), (('exuded', 'ADP'), ('exuded', 'VERB'))],\n",
       " [('$', '.'), (('240,000', 'ADP'), ('240,000', 'NUM'))],\n",
       " [('then', 'ADV'), (('overseas', 'ADJ'), ('overseas', 'ADV'))],\n",
       " [('are', 'VERB'), (('reaping', 'ADP'), ('reaping', 'VERB'))],\n",
       " [('sudden', 'ADJ'), (('windfall', 'ADP'), ('windfall', 'NOUN'))],\n",
       " [('``', '.'), (('So', 'ADV'), ('So', 'ADP'))],\n",
       " [('other', 'ADJ'), (('fixed-income', 'ADP'), ('fixed-income', 'ADJ'))],\n",
       " [('Series', 'NOUN'), (('A-D', 'ADP'), ('A-D', 'NOUN'))],\n",
       " [('due', 'ADJ'), (('1991-1999', 'ADP'), ('1991-1999', 'NUM'))],\n",
       " [(',', '.'), (('T-shirts', 'ADP'), ('T-shirts', 'NOUN'))],\n",
       " [('the', 'DET'), (('corridors', 'ADP'), ('corridors', 'NOUN'))],\n",
       " [('familiar', 'ADJ'), (('red-and-white', 'ADP'), ('red-and-white', 'ADJ'))],\n",
       " [('red-and-white', 'ADJ'), (('GHS', 'ADP'), ('GHS', 'NOUN'))],\n",
       " [('GHS', 'NOUN'), (('logo', 'ADP'), ('logo', 'NOUN'))],\n",
       " [('S.', 'NOUN'), (('Hubbell', 'ADP'), ('Hubbell', 'NOUN'))],\n",
       " [('yield', 'VERB'), (('8.467', 'ADP'), ('8.467', 'NUM'))],\n",
       " [('.', '.'), (('But', 'CONJ'), ('But', 'ADP'))],\n",
       " [('of', 'ADP'), (('hostility', 'ADP'), ('hostility', 'NOUN'))],\n",
       " [('of', 'ADP'), (('mudslinging', 'ADP'), ('mudslinging', 'NOUN'))],\n",
       " [(',', '.'), (('empty', 'ADP'), ('empty', 'ADJ'))],\n",
       " [('is', 'VERB'), (('ushering', 'ADP'), ('ushering', 'VERB'))],\n",
       " [('without', 'ADP'), (('content', 'ADJ'), ('content', 'NOUN'))],\n",
       " [('...', '.'), (('less', 'ADV'), ('less', 'ADJ'))],\n",
       " [('take', 'VERB'), (('much', 'ADV'), ('much', 'ADJ'))],\n",
       " [('get', 'VERB'), (('burned', 'ADP'), ('burned', 'VERB'))],\n",
       " [('years', 'NOUN'), (('ago', 'ADP'), ('ago', 'ADV'))],\n",
       " [('a', 'DET'), (('constituent', 'ADP'), ('constituent', 'NOUN'))],\n",
       " [('legislative', 'ADJ'), (('technique', 'ADP'), ('technique', 'NOUN'))],\n",
       " [('technique', 'NOUN'), (('used', 'ADJ'), ('used', 'VERB'))],\n",
       " [('.', '.'), (('Brisk', 'ADP'), ('Brisk', 'ADJ'))],\n",
       " [('pushed', 'VERB'), (('up', 'ADV'), ('up', 'PRT'))],\n",
       " [('for', 'ADP'), (('dairy', 'ADP'), ('dairy', 'NOUN'))],\n",
       " [('They', 'PRON'), (('view', 'NOUN'), ('view', 'VERB'))],\n",
       " [('area', 'NOUN'), (('so', 'ADV'), ('so', 'ADP'))],\n",
       " [('Richard', 'NOUN'), (('Olsen', 'ADP'), ('Olsen', 'NOUN'))],\n",
       " [('the', 'DET'), (('apparent', 'ADP'), ('apparent', 'ADJ'))],\n",
       " [('James', 'NOUN'), (('Traficant', 'ADP'), ('Traficant', 'NOUN'))],\n",
       " [('passed', 'VERB'), (('271-147', 'ADP'), ('271-147', 'NUM'))],\n",
       " [('*', 'X'), (('Pick', 'ADP'), ('Pick', 'VERB'))],\n",
       " [('tumbled', 'VERB'), (('down', 'ADV'), ('down', 'ADP'))],\n",
       " [('a', 'DET'), (('slippery', 'ADP'), ('slippery', 'ADJ'))],\n",
       " [('slippery', 'ADJ'), (('slope', 'ADP'), ('slope', 'NOUN'))],\n",
       " [('the', 'DET'), (('morale-damaging', 'ADP'), ('morale-damaging', 'ADJ'))],\n",
       " [('public', 'ADJ'), (('disclosure', 'ADP'), ('disclosure', 'NOUN'))],\n",
       " [('disclosure', 'NOUN'), (('that', 'DET'), ('that', 'ADP'))],\n",
       " [('a', 'DET'), (('low-tech', 'ADP'), ('low-tech', 'ADJ'))],\n",
       " [('can', 'VERB'), (('catch', 'NOUN'), ('catch', 'VERB'))],\n",
       " [(\"'s\", 'PRT'), (('fancy', 'ADP'), ('fancy', 'NOUN'))],\n",
       " [('a', 'DET'), (('strategic', 'ADP'), ('strategic', 'ADJ'))],\n",
       " [('strategic', 'ADJ'), (('fit', 'ADJ'), ('fit', 'NOUN'))],\n",
       " [('the', 'DET'), (('three-lawyer', 'ADP'), ('three-lawyer', 'ADJ'))],\n",
       " [('the', 'DET'), (('520-lawyer', 'ADP'), ('520-lawyer', 'ADJ'))],\n",
       " [(\"'s\", 'VERB'), (('that', 'ADP'), ('that', 'DET'))],\n",
       " [(\"''\", '.'), (('Pierre', 'ADP'), ('Pierre', 'NOUN'))],\n",
       " [('owns', 'VERB'), (('88', 'ADP'), ('88', 'NUM'))],\n",
       " [('In', 'ADP'), (('1986-87', 'ADP'), ('1986-87', 'NUM'))],\n",
       " [('and', 'CONJ'), (('1987-88', 'ADP'), ('1987-88', 'NUM'))],\n",
       " [('bonus', 'NOUN'), (('pay', 'VERB'), ('pay', 'NOUN'))],\n",
       " [('settled', 'VERB'), (('pre-1917', 'ADP'), ('pre-1917', 'ADJ'))],\n",
       " [('open', 'ADJ'),\n",
       "  (('direct-investment', 'ADP'), ('direct-investment', 'ADJ'))],\n",
       " [('--', '.'), (('271,124', 'ADP'), ('271,124', 'NUM'))],\n",
       " [('the', 'DET'), (('400,000', 'ADP'), ('400,000', 'NUM'))],\n",
       " [(\"''\", '.'), (('evolve', 'ADP'), ('evolve', 'VERB'))],\n",
       " [('evil', 'ADJ'), (('creature', 'ADP'), ('creature', 'NOUN'))],\n",
       " [('is', 'VERB'), (('evoking', 'ADP'), ('evoking', 'VERB'))],\n",
       " [('the', 'DET'), (('curses', 'ADP'), ('curses', 'NOUN'))],\n",
       " [('commodities', 'NOUN'),\n",
       "  (('strengthened', 'ADP'), ('strengthened', 'VERB'))],\n",
       " [('*T*-1', 'X'), (('Keith', 'ADP'), ('Keith', 'NOUN'))],\n",
       " [('$', '.'), (('57.7', 'ADP'), ('57.7', 'NUM'))],\n",
       " [('The', 'DET'), (('Continental', 'ADP'), ('Continental', 'NOUN'))],\n",
       " [('Continental', 'NOUN'), (('Baking', 'ADP'), ('Baking', 'NOUN'))],\n",
       " [('on', 'ADP'), (('bread', 'ADP'), ('bread', 'NOUN'))]]"
      ]
     },
     "execution_count": 28,
     "metadata": {},
     "output_type": "execute_result"
    }
   ],
   "source": [
    "def findIncorrectlyTaggedWords(taggedWords, correctlyTaggedTestData):\n",
    "    wrongTaggedWords = [[correctlyTaggedTestData[i-1],j] for i, j in enumerate(zip(taggedWords, correctlyTaggedTestData)) if j[0]!=j[1]]\n",
    "    return wrongTaggedWords\n",
    "    \n",
    "wordsWithWrongTagsWithPreviousTag = findIncorrectlyTaggedWords(tagged_seq, test_run_base)\n",
    "wordsWithWrongTagsWithPreviousTag"
   ]
  },
  {
   "cell_type": "markdown",
   "metadata": {},
   "source": [
    "### Step 3. Move to Test_sentences.txt"
   ]
  },
  {
   "cell_type": "code",
   "execution_count": 29,
   "metadata": {},
   "outputs": [
    {
     "data": {
      "text/plain": [
       "['Android is a mobile operating system developed by Google.',\n",
       " 'Android has been the best-selling OS worldwide on smartphones since 2011 and on tablets since 2013.',\n",
       " \"Google and Twitter made a deal in 2015 that gave Google access to Twitter's firehose.\",\n",
       " 'Twitter is an online news and social networking service on which users post and interact with messages known as tweets.',\n",
       " 'Before entering politics, Donald Trump was a domineering businessman and a television personality.',\n",
       " 'The 2018 FIFA World Cup is the 21st FIFA World Cup, an international football tournament contested once every four years.',\n",
       " 'This is the first World Cup to be held in Eastern Europe and the 11th time that it has been held in Europe.',\n",
       " 'Show me the cheapest round trips from Dallas to Atlanta',\n",
       " 'I would like to see flights from Denver to Philadelphia.',\n",
       " 'Show me the price of the flights leaving Atlanta at about 3 in the afternoon and arriving in San Francisco.',\n",
       " 'NASA invited social media users to experience the launch of ICESAT-2 Satellite.']"
      ]
     },
     "execution_count": 29,
     "metadata": {},
     "output_type": "execute_result"
    }
   ],
   "source": [
    "# Util to clean the lines\n",
    "def getCleanedLinesFromTestData(file):\n",
    "    lines = []\n",
    "    f = codecs.open(file, encoding='utf-8')\n",
    "    for line in f:\n",
    "        if line.rstrip()!='':\n",
    "            lines.append(line.rstrip())\n",
    "    return lines\n",
    "    \n",
    "test_lines = getCleanedLinesFromTestData(\"Test_sentences.txt\")\n",
    "test_lines"
   ]
  },
  {
   "cell_type": "code",
   "execution_count": 30,
   "metadata": {},
   "outputs": [
    {
     "name": "stdout",
     "output_type": "stream",
     "text": [
      "**** All words from test lines ****\n",
      " ['Android', 'is', 'a', 'mobile', 'operating', 'system', 'developed', 'by', 'Google', '.', 'Android', 'has', 'been', 'the', 'best-selling', 'OS', 'worldwide', 'on', 'smartphones', 'since', '2011', 'and', 'on', 'tablets', 'since', '2013', '.', 'Google', 'and', 'Twitter', 'made', 'a', 'deal', 'in', '2015', 'that', 'gave', 'Google', 'access', 'to', 'Twitter', \"'s\", 'firehose', '.', 'Twitter', 'is', 'an', 'online', 'news', 'and', 'social', 'networking', 'service', 'on', 'which', 'users', 'post', 'and', 'interact', 'with', 'messages', 'known', 'as', 'tweets', '.', 'Before', 'entering', 'politics', ',', 'Donald', 'Trump', 'was', 'a', 'domineering', 'businessman', 'and', 'a', 'television', 'personality', '.', 'The', '2018', 'FIFA', 'World', 'Cup', 'is', 'the', '21st', 'FIFA', 'World', 'Cup', ',', 'an', 'international', 'football', 'tournament', 'contested', 'once', 'every', 'four', 'years', '.', 'This', 'is', 'the', 'first', 'World', 'Cup', 'to', 'be', 'held', 'in', 'Eastern', 'Europe', 'and', 'the', '11th', 'time', 'that', 'it', 'has', 'been', 'held', 'in', 'Europe', '.', 'Show', 'me', 'the', 'cheapest', 'round', 'trips', 'from', 'Dallas', 'to', 'Atlanta', 'I', 'would', 'like', 'to', 'see', 'flights', 'from', 'Denver', 'to', 'Philadelphia', '.', 'Show', 'me', 'the', 'price', 'of', 'the', 'flights', 'leaving', 'Atlanta', 'at', 'about', '3', 'in', 'the', 'afternoon', 'and', 'arriving', 'in', 'San', 'Francisco', '.', 'NASA', 'invited', 'social', 'media', 'users', 'to', 'experience', 'the', 'launch', 'of', 'ICESAT-2', 'Satellite', '.']\n"
     ]
    }
   ],
   "source": [
    "# Get the words\n",
    "def getWordsFromLines(lines):\n",
    "    words = []\n",
    "    for line in lines:\n",
    "        words.extend(word_tokenize(line))\n",
    "    return words\n",
    "\n",
    "words_from_test_lines = getWordsFromLines(test_lines)\n",
    "print(\"**** All words from test lines ****\\n\", words_from_test_lines)"
   ]
  },
  {
   "cell_type": "code",
   "execution_count": 31,
   "metadata": {},
   "outputs": [
    {
     "name": "stdout",
     "output_type": "stream",
     "text": [
      "***Time taken to tag****  35.49784874916077\n",
      "\n",
      "****Words and tags from plain Viterbi*****\n",
      " [('Android', 'ADP'), ('is', 'VERB'), ('a', 'DET'), ('mobile', 'ADJ'), ('operating', 'NOUN'), ('system', 'NOUN'), ('developed', 'VERB'), ('by', 'ADP'), ('Google', 'ADP'), ('.', '.'), ('Android', 'ADP'), ('has', 'VERB'), ('been', 'VERB'), ('the', 'DET'), ('best-selling', 'ADJ'), ('OS', 'ADP'), ('worldwide', 'ADP'), ('on', 'ADP'), ('smartphones', 'ADP'), ('since', 'ADP'), ('2011', 'ADP'), ('and', 'CONJ'), ('on', 'ADP'), ('tablets', 'NOUN'), ('since', 'ADP'), ('2013', 'ADP'), ('.', '.'), ('Google', 'ADP'), ('and', 'CONJ'), ('Twitter', 'ADP'), ('made', 'VERB'), ('a', 'DET'), ('deal', 'NOUN'), ('in', 'ADP'), ('2015', 'ADP'), ('that', 'DET'), ('gave', 'VERB'), ('Google', 'ADP'), ('access', 'NOUN'), ('to', 'PRT'), ('Twitter', 'ADP'), (\"'s\", 'PRT'), ('firehose', 'ADP'), ('.', '.'), ('Twitter', 'ADP'), ('is', 'VERB'), ('an', 'DET'), ('online', 'ADP'), ('news', 'NOUN'), ('and', 'CONJ'), ('social', 'ADJ'), ('networking', 'NOUN'), ('service', 'NOUN'), ('on', 'ADP'), ('which', 'DET'), ('users', 'NOUN'), ('post', 'NOUN'), ('and', 'CONJ'), ('interact', 'ADP'), ('with', 'ADP'), ('messages', 'ADP'), ('known', 'ADJ'), ('as', 'ADP'), ('tweets', 'ADP'), ('.', '.'), ('Before', 'ADP'), ('entering', 'VERB'), ('politics', 'NOUN'), (',', '.'), ('Donald', 'NOUN'), ('Trump', 'NOUN'), ('was', 'VERB'), ('a', 'DET'), ('domineering', 'ADP'), ('businessman', 'NOUN'), ('and', 'CONJ'), ('a', 'DET'), ('television', 'NOUN'), ('personality', 'ADP'), ('.', '.'), ('The', 'DET'), ('2018', 'ADP'), ('FIFA', 'ADP'), ('World', 'NOUN'), ('Cup', 'ADP'), ('is', 'VERB'), ('the', 'DET'), ('21st', 'ADP'), ('FIFA', 'ADP'), ('World', 'NOUN'), ('Cup', 'ADP'), (',', '.'), ('an', 'DET'), ('international', 'ADJ'), ('football', 'NOUN'), ('tournament', 'ADP'), ('contested', 'ADP'), ('once', 'ADV'), ('every', 'DET'), ('four', 'NUM'), ('years', 'NOUN'), ('.', '.'), ('This', 'DET'), ('is', 'VERB'), ('the', 'DET'), ('first', 'ADJ'), ('World', 'NOUN'), ('Cup', 'ADP'), ('to', 'PRT'), ('be', 'VERB'), ('held', 'VERB'), ('in', 'ADP'), ('Eastern', 'NOUN'), ('Europe', 'NOUN'), ('and', 'CONJ'), ('the', 'DET'), ('11th', 'ADJ'), ('time', 'NOUN'), ('that', 'ADP'), ('it', 'PRON'), ('has', 'VERB'), ('been', 'VERB'), ('held', 'VERB'), ('in', 'ADP'), ('Europe', 'NOUN'), ('.', '.'), ('Show', 'NOUN'), ('me', 'PRON'), ('the', 'DET'), ('cheapest', 'ADJ'), ('round', 'NOUN'), ('trips', 'ADP'), ('from', 'ADP'), ('Dallas', 'NOUN'), ('to', 'PRT'), ('Atlanta', 'NOUN'), ('I', 'PRON'), ('would', 'VERB'), ('like', 'ADP'), ('to', 'PRT'), ('see', 'VERB'), ('flights', 'NOUN'), ('from', 'ADP'), ('Denver', 'NOUN'), ('to', 'PRT'), ('Philadelphia', 'NOUN'), ('.', '.'), ('Show', 'NOUN'), ('me', 'PRON'), ('the', 'DET'), ('price', 'NOUN'), ('of', 'ADP'), ('the', 'DET'), ('flights', 'NOUN'), ('leaving', 'VERB'), ('Atlanta', 'NOUN'), ('at', 'ADP'), ('about', 'ADP'), ('3', 'NUM'), ('in', 'ADP'), ('the', 'DET'), ('afternoon', 'NOUN'), ('and', 'CONJ'), ('arriving', 'ADP'), ('in', 'ADP'), ('San', 'NOUN'), ('Francisco', 'NOUN'), ('.', '.'), ('NASA', 'ADP'), ('invited', 'ADP'), ('social', 'ADJ'), ('media', 'NOUN'), ('users', 'NOUN'), ('to', 'PRT'), ('experience', 'NOUN'), ('the', 'DET'), ('launch', 'NOUN'), ('of', 'ADP'), ('ICESAT-2', 'ADP'), ('Satellite', 'ADP'), ('.', '.')]\n"
     ]
    }
   ],
   "source": [
    "wordsAndTags_from_test_lines = tagSentencesViterbi(words_from_test_lines)\n",
    "print(\"\\n****Words and tags from plain Viterbi*****\\n\", wordsAndTags_from_test_lines)"
   ]
  },
  {
   "cell_type": "markdown",
   "metadata": {},
   "source": [
    "#### Get the list of unknown - alien words"
   ]
  },
  {
   "cell_type": "code",
   "execution_count": 32,
   "metadata": {},
   "outputs": [
    {
     "data": {
      "text/plain": [
       "['2013',\n",
       " 'trips',\n",
       " 'invited',\n",
       " 'Satellite',\n",
       " 'interact',\n",
       " 'OS',\n",
       " '2018',\n",
       " '2011',\n",
       " 'ICESAT-2',\n",
       " 'messages',\n",
       " 'worldwide',\n",
       " 'FIFA',\n",
       " 'arriving',\n",
       " '2015',\n",
       " 'firehose',\n",
       " 'tweets',\n",
       " 'domineering',\n",
       " 'NASA',\n",
       " 'smartphones',\n",
       " '21st',\n",
       " 'Cup',\n",
       " 'personality',\n",
       " 'contested',\n",
       " 'Android',\n",
       " 'tournament',\n",
       " 'online',\n",
       " 'Google',\n",
       " 'Twitter']"
      ]
     },
     "execution_count": 32,
     "metadata": {},
     "output_type": "execute_result"
    }
   ],
   "source": [
    "#Get the list of words which are present in test lines but not in the training corpus\n",
    "words_not_in_corpus = list(set(words_from_test_lines) - set(tokens_set))\n",
    "words_not_in_corpus"
   ]
  },
  {
   "cell_type": "code",
   "execution_count": 33,
   "metadata": {},
   "outputs": [],
   "source": [
    "# Concisely print the tags for alien words\n",
    "def printTagsForAlienWords(alienWords, alienWordsWithTags):\n",
    "    wrongTaggedWords = []\n",
    "    wrongTaggedWords = [wordAndTag for wordAndTag in alienWordsWithTags if (wordAndTag[0] in set(alienWords))]\n",
    "    return wrongTaggedWords"
   ]
  },
  {
   "cell_type": "markdown",
   "metadata": {},
   "source": [
    "### Note that the default tag assigned to alien words is the one that occurs first in the Tag list. This will change for each run."
   ]
  },
  {
   "cell_type": "code",
   "execution_count": 34,
   "metadata": {},
   "outputs": [
    {
     "name": "stdout",
     "output_type": "stream",
     "text": [
      "***Alien words and their tags***\n",
      " [('Android', 'ADP'), ('Google', 'ADP'), ('Android', 'ADP'), ('OS', 'ADP'), ('worldwide', 'ADP'), ('smartphones', 'ADP'), ('2011', 'ADP'), ('2013', 'ADP'), ('Google', 'ADP'), ('Twitter', 'ADP'), ('2015', 'ADP'), ('Google', 'ADP'), ('Twitter', 'ADP'), ('firehose', 'ADP'), ('Twitter', 'ADP'), ('online', 'ADP'), ('interact', 'ADP'), ('messages', 'ADP'), ('tweets', 'ADP'), ('domineering', 'ADP'), ('personality', 'ADP'), ('2018', 'ADP'), ('FIFA', 'ADP'), ('Cup', 'ADP'), ('21st', 'ADP'), ('FIFA', 'ADP'), ('Cup', 'ADP'), ('tournament', 'ADP'), ('contested', 'ADP'), ('Cup', 'ADP'), ('trips', 'ADP'), ('arriving', 'ADP'), ('NASA', 'ADP'), ('invited', 'ADP'), ('ICESAT-2', 'ADP'), ('Satellite', 'ADP')]\n"
     ]
    }
   ],
   "source": [
    "alienWordsAndTags = printTagsForAlienWords(words_not_in_corpus, wordsAndTags_from_test_lines)\n",
    "print(\"***Alien words and their tags***\\n\", alienWordsAndTags)"
   ]
  },
  {
   "cell_type": "markdown",
   "metadata": {},
   "source": [
    "### Step 4. Solve the problem of unknown words. Which tag class do you think most unknown words belong to? Can you identify rules (e.g. based on morphological cues) that can be used to tag unknown words? When an alien word is encountered it must be a NOUN. This heuristic can be bluntly applied or we can use morphological forms of the word and identify it as an article, adjective, verb etc., We can even apply a simplified version of Laplace smoothening."
   ]
  },
  {
   "cell_type": "markdown",
   "metadata": {},
   "source": [
    "### Version 1 of Viterbi - Use regex and morphological forms to tag the unknown words.\n",
    "### Specify patterns for tagging.\n",
    "### Source - https://www.nltk.org/book/ch05.html."
   ]
  },
  {
   "cell_type": "code",
   "execution_count": 35,
   "metadata": {},
   "outputs": [],
   "source": [
    "\n",
    "patterns = [\n",
    "    #NUMBERS\n",
    "    (\"^-?[0-9]+(.[0-9]+)?$\", 'NUM'),    \n",
    "    \n",
    "    #ADJECTIVES\n",
    "    (\".*able$\", 'ADJ'),        \n",
    "    \n",
    "    #VERBS and variants\n",
    "    (\".*ing$\", 'VERB'),      \n",
    "    (\".*ed$\", 'VERB'),       \n",
    "    (\".*es$\", 'VERB'),        \n",
    "    (\".*ould$\", 'VERB'),      \n",
    "    \n",
    "    #ADVERB\n",
    "    (\".*ly$\", 'ADV')\n",
    "]\n",
    "\n",
    "# If the whole word matches one of these we need to tag it as DET\n",
    "def isDeterminant(text):\n",
    "    if (text in set(['The', 'the', 'A', 'a', 'An', 'an'])):\n",
    "        return True\n",
    "    return False\n",
    "\n",
    "\n",
    "# If we don't tag it as a DET, identify the patterns. If none matches, the tag must be NOUN.\n",
    "def getStateForWord(text):\n",
    "    state = \"\"\n",
    "    if isDeterminant(text):\n",
    "        return \"DET\"\n",
    "    else:\n",
    "        for pattern in patterns:\n",
    "            if re.search(pattern[0], text):\n",
    "                state = pattern[1]\n",
    "                #print(pattern[0], \"---\", text, \"---\", state)\n",
    "                return state\n",
    "    return \"NOUN\""
   ]
  },
  {
   "cell_type": "code",
   "execution_count": 36,
   "metadata": {},
   "outputs": [],
   "source": [
    "# Viterbi Heuristic\n",
    "def ViterbiV2(words, train_bag = train_wordAndTag_list):\n",
    "    state = []\n",
    "    T = list(set([pair[1] for pair in train_bag]))\n",
    "    \n",
    "    for key, word in enumerate(words):\n",
    "        #initialise list of probability column for a given observation\n",
    "        p = [] \n",
    "        for tag in T:\n",
    "            if key == 0:\n",
    "                transition_p = tags_df.loc['.', tag]\n",
    "            else:\n",
    "                transition_p = tags_df.loc[state[-1], tag]\n",
    "                \n",
    "            # compute emission and state probabilities\n",
    "            emissionNAndD = word_given_tag(words[key], tag)\n",
    "            emission_p = emissionNAndD[0]/emissionNAndD[1]            \n",
    "            state_probability = emission_p * transition_p    \n",
    "            p.append(state_probability)\n",
    "            \n",
    "        pmax = max(p)\n",
    "        \n",
    "        # If pmax is 0, get the most suitable tag by checking morphology\n",
    "        # assign state_max\n",
    "        # ELSE\n",
    "        # If pmax is not 0, then proceed with \n",
    "        # getting state for which probability is maximum\n",
    "        if pmax == 0:\n",
    "            state_max = getStateForWord(words[key])\n",
    "        else:\n",
    "            state_max = T[p.index(pmax)] \n",
    "        \n",
    "        state.append(state_max)\n",
    "        \n",
    "    return list(zip(words, state))\n",
    "\n",
    "# tagging the test sentences\n",
    "def tagSentencesViterbiV2(words2BeTagged):\n",
    "    start = time.time()\n",
    "    tagged_seq = ViterbiV2(words2BeTagged)\n",
    "    end = time.time()\n",
    "    difference = end-start\n",
    "    print(\"***Time taken to tag**** \", difference)\n",
    "    return tagged_seq\n",
    "\n"
   ]
  },
  {
   "cell_type": "code",
   "execution_count": 37,
   "metadata": {},
   "outputs": [
    {
     "name": "stdout",
     "output_type": "stream",
     "text": [
      "***Time taken to tag****  8.858337163925171\n",
      "****Words and tags from ViterbiV2*****\n",
      " [('Android', 'NOUN'), ('is', 'VERB'), ('a', 'DET'), ('mobile', 'ADJ'), ('operating', 'NOUN'), ('system', 'NOUN'), ('developed', 'VERB'), ('by', 'ADP'), ('Google', 'NOUN'), ('.', '.'), ('Android', 'NOUN'), ('has', 'VERB'), ('been', 'VERB'), ('the', 'DET'), ('best-selling', 'ADJ'), ('OS', 'NOUN'), ('worldwide', 'NOUN'), ('on', 'ADP'), ('smartphones', 'VERB'), ('since', 'ADP'), ('2011', 'NUM'), ('and', 'CONJ'), ('on', 'ADP'), ('tablets', 'NOUN'), ('since', 'ADP'), ('2013', 'NUM'), ('.', '.'), ('Google', 'NOUN'), ('and', 'CONJ'), ('Twitter', 'NOUN'), ('made', 'VERB'), ('a', 'DET'), ('deal', 'NOUN'), ('in', 'ADP'), ('2015', 'NUM'), ('that', 'ADP'), ('gave', 'VERB'), ('Google', 'NOUN'), ('access', 'NOUN'), ('to', 'PRT'), ('Twitter', 'NOUN'), (\"'s\", 'PRT'), ('firehose', 'NOUN'), ('.', '.')]\n"
     ]
    }
   ],
   "source": [
    "temp_test_words = ['Android', 'is', 'a', 'mobile', 'operating', 'system', 'developed', 'by', 'Google', '.', \n",
    "                   'Android', 'has', 'been', 'the', 'best-selling', 'OS', 'worldwide', 'on', 'smartphones', \n",
    "                   'since', '2011', 'and', 'on', 'tablets', 'since', '2013', '.', \n",
    "                   'Google', 'and', 'Twitter', 'made', 'a', 'deal', 'in', '2015', 'that', 'gave', 'Google', 'access', \n",
    "                   'to', 'Twitter', \"'s\", 'firehose', '.']\n",
    "\n",
    "wordsAndTags_from_test_lines = tagSentencesViterbiV2(temp_test_words)\n",
    "print(\"****Words and tags from ViterbiV2*****\\n\", wordsAndTags_from_test_lines)"
   ]
  },
  {
   "cell_type": "code",
   "execution_count": 38,
   "metadata": {},
   "outputs": [
    {
     "name": "stdout",
     "output_type": "stream",
     "text": [
      "***Time taken to tag****  985.444144487381\n",
      "0.9511012325722368\n"
     ]
    }
   ],
   "source": [
    "tagged_seq_v2 = tagSentencesViterbiV2(test_tagged_words)\n",
    "viterbiV2Accuracy = checkAccuracy(tagged_seq_v2, test_run_base)\n",
    "print(viterbiV2Accuracy)"
   ]
  },
  {
   "cell_type": "markdown",
   "metadata": {},
   "source": [
    "### Accuracy jumped to 95% which is better than vanilla Viterbi."
   ]
  },
  {
   "cell_type": "markdown",
   "metadata": {},
   "source": [
    "### Version 2 of Viterbi - Use a smoothening constant.\n",
    "### Note that if the word is alien, the emission probability is 0. Its unfair to drag the state to 0 and hence to simulate 0 emission probability assign a value that is smaller than the probability of other words. It requires a bit of tuning to get good accuracy."
   ]
  },
  {
   "cell_type": "code",
   "execution_count": 39,
   "metadata": {},
   "outputs": [],
   "source": [
    "# Viterbi Heuristic\n",
    "SMOOTHENING_CONSTANT = 0.00001\n",
    "def ViterbiV3(words, train_bag = train_wordAndTag_list):\n",
    "    state = []\n",
    "    T = list(set([pair[1] for pair in train_bag]))\n",
    "    \n",
    "    for key, word in enumerate(words):\n",
    "        #initialise list of probability column for a given observation\n",
    "        p = [] \n",
    "        for tag in T:\n",
    "            if key == 0:\n",
    "                transition_p = tags_df.loc['.', tag]\n",
    "            else:\n",
    "                #print(\"**state[-1]** \", state[-1])\n",
    "                transition_p = tags_df.loc[state[-1], tag]\n",
    "                \n",
    "            # compute emission and state probabilities\n",
    "            emissionNAndD = word_given_tag(words[key], tag)\n",
    "            emission_p = emissionNAndD[0]/emissionNAndD[1]  \n",
    "            if emission_p == 0:\n",
    "                emission_p = SMOOTHENING_CONSTANT\n",
    "            \n",
    "            state_probability = emission_p * transition_p    \n",
    "            p.append(state_probability)\n",
    "            \n",
    "        pmax = max(p)\n",
    "        # getting state for which probability is maximum\n",
    "        state_max = T[p.index(pmax)] \n",
    "        state.append(state_max)\n",
    "    return list(zip(words, state))\n",
    "\n",
    "\n",
    "# tagging the test sentences\n",
    "def tagSentencesViterbiV3(words2BeTagged):\n",
    "    start = time.time()\n",
    "    tagged_seq = ViterbiV3(words2BeTagged)\n",
    "    end = time.time()\n",
    "    difference = end-start\n",
    "    print(\"***Time taken to tag**** \", difference)\n",
    "    return tagged_seq"
   ]
  },
  {
   "cell_type": "code",
   "execution_count": 40,
   "metadata": {},
   "outputs": [
    {
     "name": "stdout",
     "output_type": "stream",
     "text": [
      "***Time taken to tag****  991.0604102611542\n",
      "0.9363507779349364\n"
     ]
    }
   ],
   "source": [
    "tagged_seq_v3 = tagSentencesViterbiV3(test_tagged_words)\n",
    "viterbiV3Accuracy = checkAccuracy(tagged_seq_v3, test_run_base)\n",
    "print(viterbiV3Accuracy)"
   ]
  },
  {
   "cell_type": "markdown",
   "metadata": {},
   "source": [
    "### Accuracy is 94%, better than vanilla Viterbi but not as good as rule based."
   ]
  },
  {
   "cell_type": "markdown",
   "metadata": {},
   "source": [
    "### Version 3 of Viterbi - Assign the tag that occurs maximum in the training corpus.\n",
    "### The tag that occurs maximum number of times in the training corpus is NOUN followed by VERB. We will assign NOUN as the tag for alien words. "
   ]
  },
  {
   "cell_type": "code",
   "execution_count": 41,
   "metadata": {},
   "outputs": [],
   "source": [
    "# Viterbi Heuristic\n",
    "def ViterbiV4(words, train_bag = train_wordAndTag_list):\n",
    "    state = []\n",
    "    T = list(set([pair[1] for pair in train_bag]))\n",
    "    \n",
    "    for key, word in enumerate(words):\n",
    "        #initialise list of probability column for a given observation\n",
    "        p = [] \n",
    "        for tag in T:\n",
    "            if key == 0:\n",
    "                transition_p = tags_df.loc['.', tag]\n",
    "            else:\n",
    "                transition_p = tags_df.loc[state[-1], tag]\n",
    "                \n",
    "            # compute emission and state probabilities\n",
    "            emissionNAndD = word_given_tag(words[key], tag)\n",
    "            emission_p = emissionNAndD[0]/emissionNAndD[1]            \n",
    "            state_probability = emission_p * transition_p    \n",
    "            p.append(state_probability)\n",
    "            \n",
    "        pmax = max(p)\n",
    "        \n",
    "        # If pmax is 0, assign the tag that occurs most, which is NOUN\n",
    "        # ELSE\n",
    "        # If pmax is not 0, then proceed with \n",
    "        # getting state for which probability is maximum\n",
    "        if pmax == 0:\n",
    "            state_max = \"NOUN\"\n",
    "        else:\n",
    "            state_max = T[p.index(pmax)] \n",
    "        \n",
    "        state.append(state_max)\n",
    "        \n",
    "    return list(zip(words, state))\n",
    "\n",
    "# tagging the test sentences\n",
    "def tagSentencesViterbiV4(words2BeTagged):\n",
    "    start = time.time()\n",
    "    tagged_seq = ViterbiV4(words2BeTagged)\n",
    "    end = time.time()\n",
    "    difference = end-start\n",
    "    print(\"***Time taken to tag**** \", difference)\n",
    "    return tagged_seq"
   ]
  },
  {
   "cell_type": "code",
   "execution_count": 42,
   "metadata": {},
   "outputs": [
    {
     "name": "stdout",
     "output_type": "stream",
     "text": [
      "***Time taken to tag****  1005.5153603553772\n",
      "0.9371590220246514\n"
     ]
    }
   ],
   "source": [
    "tagged_seq_v4 = tagSentencesViterbiV4(test_tagged_words)\n",
    "viterbiV4Accuracy = checkAccuracy(tagged_seq_v4, test_run_base)\n",
    "print(viterbiV4Accuracy)"
   ]
  },
  {
   "cell_type": "markdown",
   "metadata": {},
   "source": [
    "### Accuracy is 94% comparable to rule based. Even this is a rule based algorithm.\n",
    "\n",
    "### All the 3 variants of Viterbi are having almost the same accuracy."
   ]
  },
  {
   "cell_type": "markdown",
   "metadata": {},
   "source": [
    "### Step 5. Compare the tagging accuracies of the modifications with the vanilla Viterbi algorithm"
   ]
  },
  {
   "cell_type": "markdown",
   "metadata": {},
   "source": [
    "### From the Test_sentences.txt, we pick 3 sentences, and apply the 4 versions of the Viterbi Algorithm and check which one did well."
   ]
  },
  {
   "cell_type": "markdown",
   "metadata": {},
   "source": [
    "### Pick 3 sentences"
   ]
  },
  {
   "cell_type": "code",
   "execution_count": 43,
   "metadata": {},
   "outputs": [],
   "source": [
    "words_in_test_sentences = [ \n",
    "'Android', 'has', 'been', 'the', 'best-selling', 'OS', 'worldwide', 'on', 'smartphones', 'since', '2011', 'and', 'on', \n",
    "'tablets', 'since', '2013', '.', \n",
    "'Google', 'and', 'Twitter', 'made', 'a', 'deal', 'in', '2015', 'that', 'gave', 'Google', 'access', 'to', \n",
    "'Twitter', \"'s\", 'firehose', '.', \n",
    "'Twitter', 'is', 'an', 'online', 'news', 'and', 'social', 'networking', 'service', 'on', 'which', 'users', \n",
    "'post', 'and', 'interact', 'with', 'messages', 'known', 'as', 'tweets', '.',\n",
    "]"
   ]
  },
  {
   "cell_type": "markdown",
   "metadata": {},
   "source": [
    "### Vanilla Viterbi - Alien words are tagged wrong."
   ]
  },
  {
   "cell_type": "code",
   "execution_count": 44,
   "metadata": {},
   "outputs": [
    {
     "name": "stdout",
     "output_type": "stream",
     "text": [
      "***Time taken to tag****  10.909660816192627\n",
      "[('Android', 'ADP'), ('has', 'VERB'), ('been', 'VERB'), ('the', 'DET'), ('best-selling', 'ADJ'), ('OS', 'ADP'), ('worldwide', 'ADP'), ('on', 'ADP'), ('smartphones', 'ADP'), ('since', 'ADP'), ('2011', 'ADP'), ('and', 'CONJ'), ('on', 'ADP'), ('tablets', 'NOUN'), ('since', 'ADP'), ('2013', 'ADP'), ('.', '.'), ('Google', 'ADP'), ('and', 'CONJ'), ('Twitter', 'ADP'), ('made', 'VERB'), ('a', 'DET'), ('deal', 'NOUN'), ('in', 'ADP'), ('2015', 'ADP'), ('that', 'DET'), ('gave', 'VERB'), ('Google', 'ADP'), ('access', 'NOUN'), ('to', 'PRT'), ('Twitter', 'ADP'), (\"'s\", 'PRT'), ('firehose', 'ADP'), ('.', '.'), ('Twitter', 'ADP'), ('is', 'VERB'), ('an', 'DET'), ('online', 'ADP'), ('news', 'NOUN'), ('and', 'CONJ'), ('social', 'ADJ'), ('networking', 'NOUN'), ('service', 'NOUN'), ('on', 'ADP'), ('which', 'DET'), ('users', 'NOUN'), ('post', 'NOUN'), ('and', 'CONJ'), ('interact', 'ADP'), ('with', 'ADP'), ('messages', 'ADP'), ('known', 'ADJ'), ('as', 'ADP'), ('tweets', 'ADP'), ('.', '.')]\n"
     ]
    }
   ],
   "source": [
    "tagged_words_Run1 = tagSentencesViterbi(words_in_test_sentences)\n",
    "print(tagged_words_Run1)"
   ]
  },
  {
   "cell_type": "markdown",
   "metadata": {},
   "source": [
    "### Viterbi with regex and modified forms - Alien words are tagged close to reality.\n",
    "#### Most of the nouns are tagged right, except smartphones."
   ]
  },
  {
   "cell_type": "code",
   "execution_count": 45,
   "metadata": {},
   "outputs": [
    {
     "name": "stdout",
     "output_type": "stream",
     "text": [
      "***Time taken to tag****  10.472740888595581\n",
      "[('Android', 'NOUN'), ('has', 'VERB'), ('been', 'VERB'), ('the', 'DET'), ('best-selling', 'ADJ'), ('OS', 'NOUN'), ('worldwide', 'NOUN'), ('on', 'ADP'), ('smartphones', 'VERB'), ('since', 'ADP'), ('2011', 'NUM'), ('and', 'CONJ'), ('on', 'ADP'), ('tablets', 'NOUN'), ('since', 'ADP'), ('2013', 'NUM'), ('.', '.'), ('Google', 'NOUN'), ('and', 'CONJ'), ('Twitter', 'NOUN'), ('made', 'VERB'), ('a', 'DET'), ('deal', 'NOUN'), ('in', 'ADP'), ('2015', 'NUM'), ('that', 'ADP'), ('gave', 'VERB'), ('Google', 'NOUN'), ('access', 'NOUN'), ('to', 'PRT'), ('Twitter', 'NOUN'), (\"'s\", 'PRT'), ('firehose', 'NOUN'), ('.', '.'), ('Twitter', 'NOUN'), ('is', 'VERB'), ('an', 'DET'), ('online', 'NOUN'), ('news', 'NOUN'), ('and', 'CONJ'), ('social', 'ADJ'), ('networking', 'NOUN'), ('service', 'NOUN'), ('on', 'ADP'), ('which', 'DET'), ('users', 'NOUN'), ('post', 'NOUN'), ('and', 'CONJ'), ('interact', 'NOUN'), ('with', 'ADP'), ('messages', 'VERB'), ('known', 'VERB'), ('as', 'ADP'), ('tweets', 'NOUN'), ('.', '.')]\n"
     ]
    }
   ],
   "source": [
    "tagged_words_Run2 = tagSentencesViterbiV2(words_in_test_sentences)\n",
    "print(tagged_words_Run2)"
   ]
  },
  {
   "cell_type": "markdown",
   "metadata": {},
   "source": [
    "### Viterbi with laplace smoothening - Alien words are tagged second best to regex and modified form Viterbi.\n",
    "#### A few numbers are tagged wrong."
   ]
  },
  {
   "cell_type": "code",
   "execution_count": 46,
   "metadata": {},
   "outputs": [
    {
     "name": "stdout",
     "output_type": "stream",
     "text": [
      "***Time taken to tag****  11.059048891067505\n",
      "[('Android', 'NOUN'), ('has', 'VERB'), ('been', 'VERB'), ('the', 'DET'), ('best-selling', 'ADJ'), ('OS', 'NOUN'), ('worldwide', 'NOUN'), ('on', 'ADP'), ('smartphones', 'DET'), ('since', 'ADP'), ('2011', 'DET'), ('and', 'CONJ'), ('on', 'ADP'), ('tablets', 'NOUN'), ('since', 'ADP'), ('2013', 'DET'), ('.', '.'), ('Google', 'NOUN'), ('and', 'CONJ'), ('Twitter', 'NOUN'), ('made', 'VERB'), ('a', 'DET'), ('deal', 'NOUN'), ('in', 'ADP'), ('2015', 'DET'), ('that', 'ADP'), ('gave', 'VERB'), ('Google', 'X'), ('access', 'NOUN'), ('to', 'PRT'), ('Twitter', 'VERB'), (\"'s\", 'PRT'), ('firehose', 'VERB'), ('.', '.'), ('Twitter', 'NOUN'), ('is', 'VERB'), ('an', 'DET'), ('online', 'NOUN'), ('news', 'NOUN'), ('and', 'CONJ'), ('social', 'ADJ'), ('networking', 'NOUN'), ('service', 'NOUN'), ('on', 'ADP'), ('which', 'DET'), ('users', 'NOUN'), ('post', 'NOUN'), ('and', 'CONJ'), ('interact', 'NOUN'), ('with', 'ADP'), ('messages', 'DET'), ('known', 'VERB'), ('as', 'ADP'), ('tweets', 'DET'), ('.', '.')]\n"
     ]
    }
   ],
   "source": [
    "tagged_words_Run3 = tagSentencesViterbiV3(words_in_test_sentences)\n",
    "print(tagged_words_Run3)"
   ]
  },
  {
   "cell_type": "markdown",
   "metadata": {},
   "source": [
    "### Viterbi with NOUN tagging for all aliens - Performs close to Laplace smoothened Viterbi.\n",
    "#### Note that all the alien words are tagged NOUNS, which reduces accuracy."
   ]
  },
  {
   "cell_type": "code",
   "execution_count": 47,
   "metadata": {},
   "outputs": [
    {
     "name": "stdout",
     "output_type": "stream",
     "text": [
      "***Time taken to tag****  10.744328260421753\n",
      "[('Android', 'NOUN'), ('has', 'VERB'), ('been', 'VERB'), ('the', 'DET'), ('best-selling', 'ADJ'), ('OS', 'NOUN'), ('worldwide', 'NOUN'), ('on', 'ADP'), ('smartphones', 'NOUN'), ('since', 'ADP'), ('2011', 'NOUN'), ('and', 'CONJ'), ('on', 'ADP'), ('tablets', 'NOUN'), ('since', 'ADP'), ('2013', 'NOUN'), ('.', '.'), ('Google', 'NOUN'), ('and', 'CONJ'), ('Twitter', 'NOUN'), ('made', 'VERB'), ('a', 'DET'), ('deal', 'NOUN'), ('in', 'ADP'), ('2015', 'NOUN'), ('that', 'ADP'), ('gave', 'VERB'), ('Google', 'NOUN'), ('access', 'NOUN'), ('to', 'PRT'), ('Twitter', 'NOUN'), (\"'s\", 'PRT'), ('firehose', 'NOUN'), ('.', '.'), ('Twitter', 'NOUN'), ('is', 'VERB'), ('an', 'DET'), ('online', 'NOUN'), ('news', 'NOUN'), ('and', 'CONJ'), ('social', 'ADJ'), ('networking', 'NOUN'), ('service', 'NOUN'), ('on', 'ADP'), ('which', 'DET'), ('users', 'NOUN'), ('post', 'NOUN'), ('and', 'CONJ'), ('interact', 'NOUN'), ('with', 'ADP'), ('messages', 'NOUN'), ('known', 'VERB'), ('as', 'ADP'), ('tweets', 'NOUN'), ('.', '.')]\n"
     ]
    }
   ],
   "source": [
    "tagged_words_Run4 = tagSentencesViterbiV4(words_in_test_sentences)\n",
    "print(tagged_words_Run4)"
   ]
  },
  {
   "cell_type": "markdown",
   "metadata": {},
   "source": [
    "#### END OF SOLUTION"
   ]
  }
 ],
 "metadata": {
  "kernelspec": {
   "display_name": "Python 3",
   "language": "python",
   "name": "python3"
  },
  "language_info": {
   "codemirror_mode": {
    "name": "ipython",
    "version": 3
   },
   "file_extension": ".py",
   "mimetype": "text/x-python",
   "name": "python",
   "nbconvert_exporter": "python",
   "pygments_lexer": "ipython3",
   "version": "3.8.3"
  }
 },
 "nbformat": 4,
 "nbformat_minor": 2
}
