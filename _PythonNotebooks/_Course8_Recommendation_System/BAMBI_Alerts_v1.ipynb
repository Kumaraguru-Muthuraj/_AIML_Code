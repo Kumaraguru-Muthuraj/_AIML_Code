{
 "cells": [
  {
   "cell_type": "markdown",
   "metadata": {},
   "source": [
    "## Install the required libraries"
   ]
  },
  {
   "cell_type": "code",
   "execution_count": 2,
   "metadata": {},
   "outputs": [],
   "source": [
    "%matplotlib inline\n",
    "import numpy as np\n",
    "import pandas as pd\n",
    "import matplotlib.pyplot as plt\n",
    "from pandas import DataFrame \n",
    "import nltk"
   ]
  },
  {
   "cell_type": "code",
   "execution_count": 84,
   "metadata": {},
   "outputs": [],
   "source": [
    "alerts = pd.read_csv(\"classified_alerts.csv\")"
   ]
  },
  {
   "cell_type": "code",
   "execution_count": 85,
   "metadata": {},
   "outputs": [],
   "source": [
    "cls = set(alerts['class'])"
   ]
  },
  {
   "cell_type": "code",
   "execution_count": 86,
   "metadata": {},
   "outputs": [
    {
     "name": "stdout",
     "output_type": "stream",
     "text": [
      "{'a.c.t.b.r.s.e.customexceptionhandler', 'o.s.w.c.httpservererrorexception.internalservererror', 'o.s.w.c.httpservererrorexception.gatewaytimeout', 'a.c.t.b.r.c.l.loggingaspect', 'a.c.t.b.r.s.m.fromtarget.targetresponsedata', 'a.c.t.b.r.s.e.customexceptionhandler.handlehttpstatuscodeexception', 'j.lang.nullpointerexception', 'o.json.jsonexception', 'o.s.w.c.httpservererrorexception.badgateway', 'c.f.j.d.e.unrecognizedpropertyexception.from', 'a.c.t.b.r.c.u.commonutils'}\n"
     ]
    }
   ],
   "source": [
    "print(cls)"
   ]
  },
  {
   "cell_type": "code",
   "execution_count": 87,
   "metadata": {},
   "outputs": [
    {
     "data": {
      "text/plain": [
       "3"
      ]
     },
     "execution_count": 87,
     "metadata": {},
     "output_type": "execute_result"
    }
   ],
   "source": [
    "class_lst = list(cls)\n",
    "class_lst.index(class_lst[3])"
   ]
  },
  {
   "cell_type": "code",
   "execution_count": 88,
   "metadata": {},
   "outputs": [
    {
     "data": {
      "text/plain": [
       "10912"
      ]
     },
     "execution_count": 88,
     "metadata": {},
     "output_type": "execute_result"
    }
   ],
   "source": [
    "len(alerts)"
   ]
  },
  {
   "cell_type": "code",
   "execution_count": 89,
   "metadata": {},
   "outputs": [
    {
     "data": {
      "text/plain": [
       "Index(['appname', 'alertid', 'class', 'words'], dtype='object')"
      ]
     },
     "execution_count": 89,
     "metadata": {},
     "output_type": "execute_result"
    }
   ],
   "source": [
    "alerts.columns"
   ]
  },
  {
   "cell_type": "code",
   "execution_count": 90,
   "metadata": {},
   "outputs": [],
   "source": [
    "# Convert class to number\n",
    "def category2Num(cat):\n",
    "    global class_lst\n",
    "    return class_lst.index(cat)\n",
    "    \n",
    "alerts['category_num'] = alerts['class'].apply(category2Num)"
   ]
  },
  {
   "cell_type": "code",
   "execution_count": 91,
   "metadata": {},
   "outputs": [
    {
     "data": {
      "text/html": [
       "<div>\n",
       "<style scoped>\n",
       "    .dataframe tbody tr th:only-of-type {\n",
       "        vertical-align: middle;\n",
       "    }\n",
       "\n",
       "    .dataframe tbody tr th {\n",
       "        vertical-align: top;\n",
       "    }\n",
       "\n",
       "    .dataframe thead th {\n",
       "        text-align: right;\n",
       "    }\n",
       "</style>\n",
       "<table border=\"1\" class=\"dataframe\">\n",
       "  <thead>\n",
       "    <tr style=\"text-align: right;\">\n",
       "      <th></th>\n",
       "      <th>appname</th>\n",
       "      <th>alertid</th>\n",
       "      <th>class</th>\n",
       "      <th>words</th>\n",
       "      <th>category_num</th>\n",
       "    </tr>\n",
       "  </thead>\n",
       "  <tbody>\n",
       "    <tr>\n",
       "      <th>0</th>\n",
       "      <td>spg-service-request-inbound-consumer</td>\n",
       "      <td>a1642502490828</td>\n",
       "      <td>a.c.t.b.r.s.e.customexceptionhandler</td>\n",
       "      <td>info actbrsecustomexceptionhandler  requestid ...</td>\n",
       "      <td>0</td>\n",
       "    </tr>\n",
       "    <tr>\n",
       "      <th>1</th>\n",
       "      <td>spg-service-request-inbound-consumer</td>\n",
       "      <td>a1642502490829</td>\n",
       "      <td>a.c.t.b.r.s.e.customexceptionhandler</td>\n",
       "      <td>info actbrsecustomexceptionhandler  customexce...</td>\n",
       "      <td>0</td>\n",
       "    </tr>\n",
       "    <tr>\n",
       "      <th>2</th>\n",
       "      <td>spg-service-request-inbound-consumer</td>\n",
       "      <td>a1642502490838</td>\n",
       "      <td>o.s.w.c.httpservererrorexception.badgateway</td>\n",
       "      <td>oswchttpservererrorexceptionbadgateway 502 bad...</td>\n",
       "      <td>8</td>\n",
       "    </tr>\n",
       "    <tr>\n",
       "      <th>3</th>\n",
       "      <td>spg-service-request-inbound-consumer</td>\n",
       "      <td>a1642502490888</td>\n",
       "      <td>a.c.t.b.r.s.e.customexceptionhandler</td>\n",
       "      <td>info actbrsecustomexceptionhandler  customexce...</td>\n",
       "      <td>0</td>\n",
       "    </tr>\n",
       "    <tr>\n",
       "      <th>4</th>\n",
       "      <td>spg-service-request-inbound-consumer</td>\n",
       "      <td>a1642502490889</td>\n",
       "      <td>a.c.t.b.r.s.e.customexceptionhandler</td>\n",
       "      <td>info actbrsecustomexceptionhandler  requestid ...</td>\n",
       "      <td>0</td>\n",
       "    </tr>\n",
       "  </tbody>\n",
       "</table>\n",
       "</div>"
      ],
      "text/plain": [
       "                                appname         alertid  \\\n",
       "0  spg-service-request-inbound-consumer  a1642502490828   \n",
       "1  spg-service-request-inbound-consumer  a1642502490829   \n",
       "2  spg-service-request-inbound-consumer  a1642502490838   \n",
       "3  spg-service-request-inbound-consumer  a1642502490888   \n",
       "4  spg-service-request-inbound-consumer  a1642502490889   \n",
       "\n",
       "                                         class  \\\n",
       "0         a.c.t.b.r.s.e.customexceptionhandler   \n",
       "1         a.c.t.b.r.s.e.customexceptionhandler   \n",
       "2  o.s.w.c.httpservererrorexception.badgateway   \n",
       "3         a.c.t.b.r.s.e.customexceptionhandler   \n",
       "4         a.c.t.b.r.s.e.customexceptionhandler   \n",
       "\n",
       "                                               words  category_num  \n",
       "0  info actbrsecustomexceptionhandler  requestid ...             0  \n",
       "1  info actbrsecustomexceptionhandler  customexce...             0  \n",
       "2  oswchttpservererrorexceptionbadgateway 502 bad...             8  \n",
       "3  info actbrsecustomexceptionhandler  customexce...             0  \n",
       "4  info actbrsecustomexceptionhandler  requestid ...             0  "
      ]
     },
     "execution_count": 91,
     "metadata": {},
     "output_type": "execute_result"
    }
   ],
   "source": [
    "alerts.head()"
   ]
  },
  {
   "cell_type": "code",
   "execution_count": 92,
   "metadata": {},
   "outputs": [
    {
     "name": "stdout",
     "output_type": "stream",
     "text": [
      "Requirement already satisfied: textblob in c:\\users\\kumaraguru\\anaconda3\\lib\\site-packages (0.17.1)\n",
      "Requirement already satisfied: nltk>=3.1; python_version >= \"3\" in c:\\users\\kumaraguru\\appdata\\roaming\\python\\python38\\site-packages (from textblob) (3.6.1)\n",
      "Requirement already satisfied: regex in c:\\users\\kumaraguru\\anaconda3\\lib\\site-packages (from nltk>=3.1; python_version >= \"3\"->textblob) (2020.6.8)\n",
      "Requirement already satisfied: click in c:\\users\\kumaraguru\\anaconda3\\lib\\site-packages (from nltk>=3.1; python_version >= \"3\"->textblob) (7.1.2)\n",
      "Requirement already satisfied: tqdm in c:\\users\\kumaraguru\\anaconda3\\lib\\site-packages (from nltk>=3.1; python_version >= \"3\"->textblob) (4.47.0)\n",
      "Requirement already satisfied: joblib in c:\\users\\kumaraguru\\anaconda3\\lib\\site-packages (from nltk>=3.1; python_version >= \"3\"->textblob) (0.15.1)\n",
      "Requirement already satisfied: wordcloud in c:\\users\\kumaraguru\\anaconda3\\lib\\site-packages (1.8.1)\n",
      "Requirement already satisfied: matplotlib in c:\\users\\kumaraguru\\anaconda3\\lib\\site-packages (from wordcloud) (3.3.4)\n",
      "Requirement already satisfied: numpy>=1.6.1 in c:\\users\\kumaraguru\\anaconda3\\lib\\site-packages (from wordcloud) (1.18.5)\n",
      "Requirement already satisfied: pillow in c:\\users\\kumaraguru\\anaconda3\\lib\\site-packages (from wordcloud) (7.2.0)\n",
      "Requirement already satisfied: cycler>=0.10 in c:\\users\\kumaraguru\\anaconda3\\lib\\site-packages (from matplotlib->wordcloud) (0.10.0)\n",
      "Requirement already satisfied: kiwisolver>=1.0.1 in c:\\users\\kumaraguru\\anaconda3\\lib\\site-packages (from matplotlib->wordcloud) (1.2.0)\n",
      "Requirement already satisfied: pyparsing!=2.0.4,!=2.1.2,!=2.1.6,>=2.0.3 in c:\\users\\kumaraguru\\anaconda3\\lib\\site-packages (from matplotlib->wordcloud) (2.4.7)\n",
      "Requirement already satisfied: python-dateutil>=2.1 in c:\\users\\kumaraguru\\anaconda3\\lib\\site-packages (from matplotlib->wordcloud) (2.8.1)\n",
      "Requirement already satisfied: six in c:\\users\\kumaraguru\\anaconda3\\lib\\site-packages (from cycler>=0.10->matplotlib->wordcloud) (1.15.0)\n"
     ]
    }
   ],
   "source": [
    "!pip install textblob\n",
    "!pip install wordcloud"
   ]
  },
  {
   "cell_type": "code",
   "execution_count": 93,
   "metadata": {},
   "outputs": [],
   "source": [
    "from sklearn.neighbors import NearestNeighbors\n",
    "from sklearn.linear_model import LogisticRegression\n",
    "from sklearn.metrics import *\n",
    "from sklearn.feature_selection import SelectKBest\n",
    "from sklearn.feature_extraction.text import TfidfTransformer, TfidfVectorizer\n",
    "from sklearn.naive_bayes import MultinomialNB\n",
    "\n",
    "from sklearn.model_selection import train_test_split\n",
    "from sklearn import neighbors\n",
    "import matplotlib.pyplot as plt"
   ]
  },
  {
   "cell_type": "code",
   "execution_count": 94,
   "metadata": {},
   "outputs": [],
   "source": [
    "from string import punctuation\n",
    "from sklearn import svm\n",
    "from textblob import Word\n",
    "from wordcloud import WordCloud\n",
    "import textblob\n",
    "from textblob import TextBlob"
   ]
  },
  {
   "cell_type": "code",
   "execution_count": 95,
   "metadata": {},
   "outputs": [],
   "source": [
    "from imblearn.over_sampling import SMOTE"
   ]
  },
  {
   "cell_type": "code",
   "execution_count": 96,
   "metadata": {},
   "outputs": [
    {
     "data": {
      "text/plain": [
       "Index(['words', 'category_num'], dtype='object')"
      ]
     },
     "execution_count": 96,
     "metadata": {},
     "output_type": "execute_result"
    }
   ],
   "source": [
    "alerts = alerts.drop(['appname', 'alertid', 'class'], axis=1)\n",
    "alerts.columns"
   ]
  },
  {
   "cell_type": "code",
   "execution_count": 97,
   "metadata": {},
   "outputs": [
    {
     "data": {
      "text/plain": [
       "4     4262\n",
       "5     3595\n",
       "9     1287\n",
       "0      544\n",
       "1      340\n",
       "10     272\n",
       "8      204\n",
       "6      136\n",
       "2      136\n",
       "7       68\n",
       "3       68\n",
       "Name: category_num, dtype: int64"
      ]
     },
     "execution_count": 97,
     "metadata": {},
     "output_type": "execute_result"
    }
   ],
   "source": [
    "alerts['category_num'].value_counts()"
   ]
  },
  {
   "cell_type": "code",
   "execution_count": 98,
   "metadata": {},
   "outputs": [],
   "source": [
    "X = alerts['words']\n",
    "y = alerts['category_num']"
   ]
  },
  {
   "cell_type": "code",
   "execution_count": 99,
   "metadata": {},
   "outputs": [
    {
     "name": "stdout",
     "output_type": "stream",
     "text": [
      "0        info actbrsecustomexceptionhandler  requestid ...\n",
      "1        info actbrsecustomexceptionhandler  customexce...\n",
      "2        oswchttpservererrorexceptionbadgateway 502 bad...\n",
      "3        info actbrsecustomexceptionhandler  customexce...\n",
      "4        info actbrsecustomexceptionhandler  requestid ...\n",
      "                               ...                        \n",
      "10907    cfjdexcunrecognizedpropertyexception unrecogni...\n",
      "10908    warn oswsmmaexceptionhandlerexceptionresolver ...\n",
      "10909    cfjdexcunrecognizedpropertyexception unrecogni...\n",
      "10910    cfjdexcunrecognizedpropertyexception unrecogni...\n",
      "10911    warn oswsmmaexceptionhandlerexceptionresolver ...\n",
      "Name: words, Length: 10912, dtype: object\n"
     ]
    }
   ],
   "source": [
    "print(X)"
   ]
  },
  {
   "cell_type": "code",
   "execution_count": 100,
   "metadata": {},
   "outputs": [
    {
     "data": {
      "text/html": [
       "<div>\n",
       "<style scoped>\n",
       "    .dataframe tbody tr th:only-of-type {\n",
       "        vertical-align: middle;\n",
       "    }\n",
       "\n",
       "    .dataframe tbody tr th {\n",
       "        vertical-align: top;\n",
       "    }\n",
       "\n",
       "    .dataframe thead th {\n",
       "        text-align: right;\n",
       "    }\n",
       "</style>\n",
       "<table border=\"1\" class=\"dataframe\">\n",
       "  <thead>\n",
       "    <tr style=\"text-align: right;\">\n",
       "      <th></th>\n",
       "      <th>words</th>\n",
       "      <th>category_num</th>\n",
       "    </tr>\n",
       "  </thead>\n",
       "  <tbody>\n",
       "    <tr>\n",
       "      <th>0</th>\n",
       "      <td>info actbrsecustomexceptionhandler  requestid ...</td>\n",
       "      <td>0</td>\n",
       "    </tr>\n",
       "    <tr>\n",
       "      <th>1</th>\n",
       "      <td>info actbrsecustomexceptionhandler  customexce...</td>\n",
       "      <td>0</td>\n",
       "    </tr>\n",
       "    <tr>\n",
       "      <th>2</th>\n",
       "      <td>oswchttpservererrorexceptionbadgateway 502 bad...</td>\n",
       "      <td>8</td>\n",
       "    </tr>\n",
       "    <tr>\n",
       "      <th>3</th>\n",
       "      <td>info actbrsecustomexceptionhandler  customexce...</td>\n",
       "      <td>0</td>\n",
       "    </tr>\n",
       "    <tr>\n",
       "      <th>4</th>\n",
       "      <td>info actbrsecustomexceptionhandler  requestid ...</td>\n",
       "      <td>0</td>\n",
       "    </tr>\n",
       "  </tbody>\n",
       "</table>\n",
       "</div>"
      ],
      "text/plain": [
       "                                               words  category_num\n",
       "0  info actbrsecustomexceptionhandler  requestid ...             0\n",
       "1  info actbrsecustomexceptionhandler  customexce...             0\n",
       "2  oswchttpservererrorexceptionbadgateway 502 bad...             8\n",
       "3  info actbrsecustomexceptionhandler  customexce...             0\n",
       "4  info actbrsecustomexceptionhandler  requestid ...             0"
      ]
     },
     "execution_count": 100,
     "metadata": {},
     "output_type": "execute_result"
    }
   ],
   "source": [
    "alerts.head()"
   ]
  },
  {
   "cell_type": "code",
   "execution_count": 101,
   "metadata": {},
   "outputs": [],
   "source": [
    "my_stop_words = set(['info', 'of', 'and', 'cannot', 'warn', 'is', 'not', 'out', 'doctype', 'html', \\\n",
    "                     'failed', 'failure', 'handle', 'request', 'response', 'throwing', 'line', 'get', \\\n",
    "                     'exception', 'detail', 'details', 'be', 'to', 'in', 'public', 'throws', 'known', \\\n",
    "                     'at', 'from', 'with', 'class', 'marked', 'as', 'it', 'this', 'return', 'returning', \\\n",
    "                     'notfound', 'type', 'title'])"
   ]
  },
  {
   "cell_type": "code",
   "execution_count": 102,
   "metadata": {},
   "outputs": [],
   "source": [
    "tfidf = TfidfVectorizer(max_features=1000, lowercase=True, analyzer='word', stop_words= my_stop_words)"
   ]
  },
  {
   "cell_type": "code",
   "execution_count": 103,
   "metadata": {},
   "outputs": [],
   "source": [
    "#Handle class imbalance\n",
    "X_features = tfidf.fit_transform(X)\n",
    "X_train, X_test, y_train, y_test = train_test_split(X_features, y, test_size=0.2, random_state=67)\n",
    "sm = SMOTE()\n",
    "X_train_smote, y_train_smote = sm.fit_resample(X_train, y_train)\n",
    "X_test_smote, y_test_smote = sm.fit_resample(X_test, y_test)"
   ]
  },
  {
   "cell_type": "code",
   "execution_count": 111,
   "metadata": {},
   "outputs": [],
   "source": [
    "def class_balanced_model_fit(X_train_smote, y_train_smote, X_test_smote, y_test_smote, ml_model, coef_show):\n",
    "    classification = ml_model.fit(X_train_smote, y_train_smote)\n",
    "    classification_pred = classification.predict(X_test_smote)\n",
    "    accuracy = classification.score(X_test_smote, y_test_smote)\n",
    "    model_performance = classification_report(y_test_smote, classification_pred)\n",
    "    validation_pred_proba_grad = classification.predict_proba(X_test_smote)\n",
    "    print(validation_pred_proba_grad)\n",
    "    #roc_auc = roc_auc_score(y_test_smote, validation_pred_proba_grad[:,1])\n",
    "    \n",
    "    print(\"***** Accuracy of the classification model: \", accuracy, \" *******\")\n",
    "    print('')\n",
    "    print(model_performance)\n",
    "    #print('')\n",
    "    #print(\"***** ROC_AUC score: \", roc_auc, \" *******\")\n",
    "    #print(\"*************************************************\")\n",
    "    \n",
    "    if coef_show == 1:\n",
    "        featureNames = tfidf.get_feature_names()\n",
    "        coef = classification.coef_.tolist()[0]\n",
    "        coeff_df = pd.DataFrame({'Word' : featureNames, 'Coefficient' : coef})\n",
    "        coeff_df = coeff_df.sort_values(['Coefficient', 'Word'], ascending=[0, 1])\n",
    "        print('')\n",
    "        print(\"************ Top 10 positive features (variables) ************\")\n",
    "        print(coeff_df.head(20).to_string(index=False))\n",
    "        print('')\n",
    "        print(\"************ Top 10 negative features (variables) ************\")        \n",
    "        print(coeff_df.tail(20).to_string(index=False))\n",
    "    \n",
    "    return classification"
   ]
  },
  {
   "cell_type": "code",
   "execution_count": 112,
   "metadata": {},
   "outputs": [
    {
     "name": "stdout",
     "output_type": "stream",
     "text": [
      "[[2.45507816e-04 1.99552686e-04 2.33615327e-04 ... 2.49809152e-04\n",
      "  2.33615327e-04 2.04488612e-04]\n",
      " [2.45507816e-04 1.99552686e-04 2.33615327e-04 ... 2.49809152e-04\n",
      "  2.33615327e-04 2.04488612e-04]\n",
      " [2.88048208e-04 3.76276193e-04 2.03818370e-04 ... 2.16581119e-04\n",
      "  2.03818370e-04 3.09435372e-04]\n",
      " ...\n",
      " [3.35555530e-04 9.76548952e-04 1.87994621e-04 ... 1.98853057e-04\n",
      "  1.87994621e-04 9.97120952e-01]\n",
      " [3.35555530e-04 9.76548952e-04 1.87994621e-04 ... 1.98853057e-04\n",
      "  1.87994621e-04 9.97120952e-01]\n",
      " [3.35555530e-04 9.76548952e-04 1.87994621e-04 ... 1.98853057e-04\n",
      "  1.87994621e-04 9.97120952e-01]]\n",
      "***** Accuracy of the classification model:  1.0  *******\n",
      "\n",
      "              precision    recall  f1-score   support\n",
      "\n",
      "           0       1.00      1.00      1.00       869\n",
      "           1       1.00      1.00      1.00       869\n",
      "           2       1.00      1.00      1.00       869\n",
      "           3       1.00      1.00      1.00       869\n",
      "           4       1.00      1.00      1.00       869\n",
      "           5       1.00      1.00      1.00       869\n",
      "           6       1.00      1.00      1.00       869\n",
      "           7       1.00      1.00      1.00       869\n",
      "           8       1.00      1.00      1.00       869\n",
      "           9       1.00      1.00      1.00       869\n",
      "          10       1.00      1.00      1.00       869\n",
      "\n",
      "    accuracy                           1.00      9559\n",
      "   macro avg       1.00      1.00      1.00      9559\n",
      "weighted avg       1.00      1.00      1.00      9559\n",
      "\n"
     ]
    }
   ],
   "source": [
    "LRClassModel = class_balanced_model_fit(X_train_smote, y_train_smote, \n",
    "                                     X_test_smote, y_test_smote, \n",
    "                                     LogisticRegression(multi_class='multinomial', solver='lbfgs', max_iter=500),\n",
    "                                     coef_show=0)"
   ]
  },
  {
   "cell_type": "code",
   "execution_count": 79,
   "metadata": {},
   "outputs": [
    {
     "data": {
      "text/plain": [
       "<9559x62 sparse matrix of type '<class 'numpy.float64'>'\n",
       "\twith 61115 stored elements in Compressed Sparse Row format>"
      ]
     },
     "execution_count": 79,
     "metadata": {},
     "output_type": "execute_result"
    }
   ],
   "source": [
    "gX_test_smote"
   ]
  },
  {
   "cell_type": "code",
   "execution_count": 82,
   "metadata": {},
   "outputs": [],
   "source": [
    "#Test some random text for classification - Do reviews classification as good or bad sentiment. \n",
    "Xfeatu = tfidf.transform(\n",
    "['cfjdexcunrecognizedpropertyexception unrecognized field error class actbrsmfromtargettargetresponsedata not marked as ignorable 4 known properties status code message incidentid', \n",
    "'warn oswsmmaexceptionhandlerexceptionresolver  failure in exceptionhandler public oshttpresponseentity jlangobject actbrsecustomexceptionhandlerhandlehttpstatuscodeexception oswclienthttpstatuscodeexception throws jioioexception',\n",
    "'info actbrsecustomexceptionhandler  customexceptionhandler handlecustomexception is returning 404 notfound not found errorresource type title badrequest status 400 message cannot deserialize instance of jlangstring out of startarray token'])\n"
   ]
  },
  {
   "cell_type": "code",
   "execution_count": 83,
   "metadata": {},
   "outputs": [
    {
     "name": "stdout",
     "output_type": "stream",
     "text": [
      "[4 5 0]\n"
     ]
    }
   ],
   "source": [
    "print(LRClassModel.predict(Xfeatu))"
   ]
  },
  {
   "cell_type": "markdown",
   "metadata": {},
   "source": [
    "### END OF TELSTRA CODE"
   ]
  }
 ],
 "metadata": {
  "kernelspec": {
   "display_name": "Python 3",
   "language": "python",
   "name": "python3"
  },
  "language_info": {
   "codemirror_mode": {
    "name": "ipython",
    "version": 3
   },
   "file_extension": ".py",
   "mimetype": "text/x-python",
   "name": "python",
   "nbconvert_exporter": "python",
   "pygments_lexer": "ipython3",
   "version": "3.8.3"
  }
 },
 "nbformat": 4,
 "nbformat_minor": 4
}
