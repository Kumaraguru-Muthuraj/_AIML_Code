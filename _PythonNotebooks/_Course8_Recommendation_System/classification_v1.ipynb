{
 "cells": [
  {
   "cell_type": "markdown",
   "metadata": {},
   "source": [
    "## Install the required libraries"
   ]
  },
  {
   "cell_type": "code",
   "execution_count": 1,
   "metadata": {},
   "outputs": [],
   "source": [
    "%matplotlib inline\n",
    "import numpy as np\n",
    "import pandas as pd\n",
    "import matplotlib.pyplot as plt\n",
    "from pandas import DataFrame \n",
    "import nltk"
   ]
  },
  {
   "cell_type": "code",
   "execution_count": 2,
   "metadata": {},
   "outputs": [],
   "source": [
    "alerts = pd.read_csv(\"classified_alerts.csv\")"
   ]
  },
  {
   "cell_type": "code",
   "execution_count": 3,
   "metadata": {},
   "outputs": [],
   "source": [
    "cls = set(alerts['class'])"
   ]
  },
  {
   "cell_type": "code",
   "execution_count": 4,
   "metadata": {},
   "outputs": [
    {
     "name": "stdout",
     "output_type": "stream",
     "text": [
      "{'c.f.j.d.e.unrecognizedpropertyexception.from', 'a.c.t.b.r.s.e.customexceptionhandler.handlehttpstatuscodeexception', 'a.c.t.b.r.c.l.loggingaspect', 'a.c.t.b.r.c.u.commonutils', 'o.s.w.c.httpservererrorexception.badgateway', 'o.s.w.c.httpservererrorexception.internalservererror', 'a.c.t.b.r.s.e.customexceptionhandler', 'j.lang.nullpointerexception', 'o.json.jsonexception', 'o.s.w.c.httpservererrorexception.gatewaytimeout', 'a.c.t.b.r.s.m.fromtarget.targetresponsedata'}\n"
     ]
    }
   ],
   "source": [
    "print(cls)"
   ]
  },
  {
   "cell_type": "code",
   "execution_count": 5,
   "metadata": {},
   "outputs": [
    {
     "data": {
      "text/plain": [
       "3"
      ]
     },
     "execution_count": 5,
     "metadata": {},
     "output_type": "execute_result"
    }
   ],
   "source": [
    "class_lst = list(cls)\n",
    "class_lst.index(class_lst[3])"
   ]
  },
  {
   "cell_type": "code",
   "execution_count": 6,
   "metadata": {},
   "outputs": [
    {
     "data": {
      "text/plain": [
       "10912"
      ]
     },
     "execution_count": 6,
     "metadata": {},
     "output_type": "execute_result"
    }
   ],
   "source": [
    "len(alerts)"
   ]
  },
  {
   "cell_type": "code",
   "execution_count": 7,
   "metadata": {},
   "outputs": [
    {
     "data": {
      "text/plain": [
       "Index(['appname', 'alertid', 'class', 'words'], dtype='object')"
      ]
     },
     "execution_count": 7,
     "metadata": {},
     "output_type": "execute_result"
    }
   ],
   "source": [
    "alerts.columns"
   ]
  },
  {
   "cell_type": "code",
   "execution_count": 8,
   "metadata": {},
   "outputs": [],
   "source": [
    "# Convert class to number\n",
    "def category2Num(cat):\n",
    "    global class_lst\n",
    "    return class_lst.index(cat)\n",
    "    \n",
    "alerts['category_num'] = alerts['class'].apply(category2Num)"
   ]
  },
  {
   "cell_type": "code",
   "execution_count": 9,
   "metadata": {},
   "outputs": [
    {
     "data": {
      "text/html": [
       "<div>\n",
       "<style scoped>\n",
       "    .dataframe tbody tr th:only-of-type {\n",
       "        vertical-align: middle;\n",
       "    }\n",
       "\n",
       "    .dataframe tbody tr th {\n",
       "        vertical-align: top;\n",
       "    }\n",
       "\n",
       "    .dataframe thead th {\n",
       "        text-align: right;\n",
       "    }\n",
       "</style>\n",
       "<table border=\"1\" class=\"dataframe\">\n",
       "  <thead>\n",
       "    <tr style=\"text-align: right;\">\n",
       "      <th></th>\n",
       "      <th>appname</th>\n",
       "      <th>alertid</th>\n",
       "      <th>class</th>\n",
       "      <th>words</th>\n",
       "      <th>category_num</th>\n",
       "    </tr>\n",
       "  </thead>\n",
       "  <tbody>\n",
       "    <tr>\n",
       "      <th>0</th>\n",
       "      <td>spg-service-request-inbound-consumer</td>\n",
       "      <td>a1642502490828</td>\n",
       "      <td>a.c.t.b.r.s.e.customexceptionhandler</td>\n",
       "      <td>info actbrsecustomexceptionhandler  requestid ...</td>\n",
       "      <td>6</td>\n",
       "    </tr>\n",
       "    <tr>\n",
       "      <th>1</th>\n",
       "      <td>spg-service-request-inbound-consumer</td>\n",
       "      <td>a1642502490829</td>\n",
       "      <td>a.c.t.b.r.s.e.customexceptionhandler</td>\n",
       "      <td>info actbrsecustomexceptionhandler  customexce...</td>\n",
       "      <td>6</td>\n",
       "    </tr>\n",
       "    <tr>\n",
       "      <th>2</th>\n",
       "      <td>spg-service-request-inbound-consumer</td>\n",
       "      <td>a1642502490838</td>\n",
       "      <td>o.s.w.c.httpservererrorexception.badgateway</td>\n",
       "      <td>oswchttpservererrorexceptionbadgateway 502 bad...</td>\n",
       "      <td>4</td>\n",
       "    </tr>\n",
       "    <tr>\n",
       "      <th>3</th>\n",
       "      <td>spg-service-request-inbound-consumer</td>\n",
       "      <td>a1642502490888</td>\n",
       "      <td>a.c.t.b.r.s.e.customexceptionhandler</td>\n",
       "      <td>info actbrsecustomexceptionhandler  customexce...</td>\n",
       "      <td>6</td>\n",
       "    </tr>\n",
       "    <tr>\n",
       "      <th>4</th>\n",
       "      <td>spg-service-request-inbound-consumer</td>\n",
       "      <td>a1642502490889</td>\n",
       "      <td>a.c.t.b.r.s.e.customexceptionhandler</td>\n",
       "      <td>info actbrsecustomexceptionhandler  requestid ...</td>\n",
       "      <td>6</td>\n",
       "    </tr>\n",
       "  </tbody>\n",
       "</table>\n",
       "</div>"
      ],
      "text/plain": [
       "                                appname         alertid  \\\n",
       "0  spg-service-request-inbound-consumer  a1642502490828   \n",
       "1  spg-service-request-inbound-consumer  a1642502490829   \n",
       "2  spg-service-request-inbound-consumer  a1642502490838   \n",
       "3  spg-service-request-inbound-consumer  a1642502490888   \n",
       "4  spg-service-request-inbound-consumer  a1642502490889   \n",
       "\n",
       "                                         class  \\\n",
       "0         a.c.t.b.r.s.e.customexceptionhandler   \n",
       "1         a.c.t.b.r.s.e.customexceptionhandler   \n",
       "2  o.s.w.c.httpservererrorexception.badgateway   \n",
       "3         a.c.t.b.r.s.e.customexceptionhandler   \n",
       "4         a.c.t.b.r.s.e.customexceptionhandler   \n",
       "\n",
       "                                               words  category_num  \n",
       "0  info actbrsecustomexceptionhandler  requestid ...             6  \n",
       "1  info actbrsecustomexceptionhandler  customexce...             6  \n",
       "2  oswchttpservererrorexceptionbadgateway 502 bad...             4  \n",
       "3  info actbrsecustomexceptionhandler  customexce...             6  \n",
       "4  info actbrsecustomexceptionhandler  requestid ...             6  "
      ]
     },
     "execution_count": 9,
     "metadata": {},
     "output_type": "execute_result"
    }
   ],
   "source": [
    "alerts.head()"
   ]
  },
  {
   "cell_type": "code",
   "execution_count": null,
   "metadata": {},
   "outputs": [],
   "source": []
  },
  {
   "cell_type": "code",
   "execution_count": 10,
   "metadata": {},
   "outputs": [],
   "source": [
    "from sklearn.linear_model import LogisticRegression\n",
    "from sklearn.metrics import *\n",
    "from sklearn.feature_extraction.text import TfidfTransformer, TfidfVectorizer\n",
    "\n",
    "from sklearn.model_selection import train_test_split\n",
    "import matplotlib.pyplot as plt"
   ]
  },
  {
   "cell_type": "code",
   "execution_count": 11,
   "metadata": {},
   "outputs": [],
   "source": [
    "from string import punctuation"
   ]
  },
  {
   "cell_type": "code",
   "execution_count": 12,
   "metadata": {},
   "outputs": [],
   "source": [
    "from imblearn.over_sampling import SMOTE"
   ]
  },
  {
   "cell_type": "code",
   "execution_count": 13,
   "metadata": {},
   "outputs": [
    {
     "data": {
      "text/plain": [
       "Index(['words', 'category_num'], dtype='object')"
      ]
     },
     "execution_count": 13,
     "metadata": {},
     "output_type": "execute_result"
    }
   ],
   "source": [
    "alerts = alerts.drop(['appname', 'alertid', 'class'], axis=1)\n",
    "alerts.columns"
   ]
  },
  {
   "cell_type": "code",
   "execution_count": 14,
   "metadata": {},
   "outputs": [
    {
     "data": {
      "text/plain": [
       "10    4262\n",
       "1     3595\n",
       "0     1287\n",
       "6      544\n",
       "5      340\n",
       "3      272\n",
       "4      204\n",
       "7      136\n",
       "9      136\n",
       "2       68\n",
       "8       68\n",
       "Name: category_num, dtype: int64"
      ]
     },
     "execution_count": 14,
     "metadata": {},
     "output_type": "execute_result"
    }
   ],
   "source": [
    "alerts['category_num'].value_counts()"
   ]
  },
  {
   "cell_type": "code",
   "execution_count": 15,
   "metadata": {},
   "outputs": [],
   "source": [
    "X = alerts['words']\n",
    "y = alerts['category_num']"
   ]
  },
  {
   "cell_type": "code",
   "execution_count": 16,
   "metadata": {},
   "outputs": [
    {
     "name": "stdout",
     "output_type": "stream",
     "text": [
      "0        info actbrsecustomexceptionhandler  requestid ...\n",
      "1        info actbrsecustomexceptionhandler  customexce...\n",
      "2        oswchttpservererrorexceptionbadgateway 502 bad...\n",
      "3        info actbrsecustomexceptionhandler  customexce...\n",
      "4        info actbrsecustomexceptionhandler  requestid ...\n",
      "                               ...                        \n",
      "10907    cfjdexcunrecognizedpropertyexception unrecogni...\n",
      "10908    warn oswsmmaexceptionhandlerexceptionresolver ...\n",
      "10909    cfjdexcunrecognizedpropertyexception unrecogni...\n",
      "10910    cfjdexcunrecognizedpropertyexception unrecogni...\n",
      "10911    warn oswsmmaexceptionhandlerexceptionresolver ...\n",
      "Name: words, Length: 10912, dtype: object\n"
     ]
    }
   ],
   "source": [
    "print(X)"
   ]
  },
  {
   "cell_type": "code",
   "execution_count": 17,
   "metadata": {},
   "outputs": [
    {
     "data": {
      "text/html": [
       "<div>\n",
       "<style scoped>\n",
       "    .dataframe tbody tr th:only-of-type {\n",
       "        vertical-align: middle;\n",
       "    }\n",
       "\n",
       "    .dataframe tbody tr th {\n",
       "        vertical-align: top;\n",
       "    }\n",
       "\n",
       "    .dataframe thead th {\n",
       "        text-align: right;\n",
       "    }\n",
       "</style>\n",
       "<table border=\"1\" class=\"dataframe\">\n",
       "  <thead>\n",
       "    <tr style=\"text-align: right;\">\n",
       "      <th></th>\n",
       "      <th>words</th>\n",
       "      <th>category_num</th>\n",
       "    </tr>\n",
       "  </thead>\n",
       "  <tbody>\n",
       "    <tr>\n",
       "      <th>0</th>\n",
       "      <td>info actbrsecustomexceptionhandler  requestid ...</td>\n",
       "      <td>6</td>\n",
       "    </tr>\n",
       "    <tr>\n",
       "      <th>1</th>\n",
       "      <td>info actbrsecustomexceptionhandler  customexce...</td>\n",
       "      <td>6</td>\n",
       "    </tr>\n",
       "    <tr>\n",
       "      <th>2</th>\n",
       "      <td>oswchttpservererrorexceptionbadgateway 502 bad...</td>\n",
       "      <td>4</td>\n",
       "    </tr>\n",
       "    <tr>\n",
       "      <th>3</th>\n",
       "      <td>info actbrsecustomexceptionhandler  customexce...</td>\n",
       "      <td>6</td>\n",
       "    </tr>\n",
       "    <tr>\n",
       "      <th>4</th>\n",
       "      <td>info actbrsecustomexceptionhandler  requestid ...</td>\n",
       "      <td>6</td>\n",
       "    </tr>\n",
       "  </tbody>\n",
       "</table>\n",
       "</div>"
      ],
      "text/plain": [
       "                                               words  category_num\n",
       "0  info actbrsecustomexceptionhandler  requestid ...             6\n",
       "1  info actbrsecustomexceptionhandler  customexce...             6\n",
       "2  oswchttpservererrorexceptionbadgateway 502 bad...             4\n",
       "3  info actbrsecustomexceptionhandler  customexce...             6\n",
       "4  info actbrsecustomexceptionhandler  requestid ...             6"
      ]
     },
     "execution_count": 17,
     "metadata": {},
     "output_type": "execute_result"
    }
   ],
   "source": [
    "alerts.head()"
   ]
  },
  {
   "cell_type": "code",
   "execution_count": 18,
   "metadata": {},
   "outputs": [],
   "source": [
    "my_stop_words = set(['info', 'of', 'and', 'cannot', 'warn', 'is', 'not', 'out', 'doctype', 'html', \\\n",
    "                     'failed', 'failure', 'handle', 'request', 'response', 'throwing', 'line', 'get', \\\n",
    "                     'exception', 'detail', 'details', 'be', 'to', 'in', 'public', 'throws', 'known', \\\n",
    "                     'at', 'from', 'with', 'class', 'marked', 'as', 'it', 'this', 'return', 'returning', \\\n",
    "                     'notfound', 'type', 'title'])"
   ]
  },
  {
   "cell_type": "code",
   "execution_count": 19,
   "metadata": {},
   "outputs": [],
   "source": [
    "tfidf = TfidfVectorizer(max_features=1000, lowercase=True, analyzer='word', stop_words= my_stop_words)"
   ]
  },
  {
   "cell_type": "code",
   "execution_count": 20,
   "metadata": {},
   "outputs": [],
   "source": [
    "#Handle class imbalance\n",
    "X_features = tfidf.fit_transform(X)\n",
    "X_train, X_test, y_train, y_test = train_test_split(X_features, y, test_size=0.2, random_state=67)\n",
    "sm = SMOTE()\n",
    "X_train_smote, y_train_smote = sm.fit_resample(X_train, y_train)\n",
    "X_test_smote, y_test_smote = sm.fit_resample(X_test, y_test)"
   ]
  },
  {
   "cell_type": "code",
   "execution_count": 21,
   "metadata": {},
   "outputs": [],
   "source": [
    "def class_balanced_model_fit(X_train_smote, y_train_smote, X_test_smote, y_test_smote, ml_model, coef_show):\n",
    "    classification = ml_model.fit(X_train_smote, y_train_smote)\n",
    "    classification_pred = classification.predict(X_test_smote)\n",
    "    accuracy = classification.score(X_test_smote, y_test_smote)\n",
    "    model_performance = classification_report(y_test_smote, classification_pred)\n",
    "    validation_pred_proba_grad = classification.predict_proba(X_test_smote)\n",
    "    print(validation_pred_proba_grad)\n",
    "    #roc_auc = roc_auc_score(y_test_smote, validation_pred_proba_grad[:,1])\n",
    "    \n",
    "    print(\"***** Accuracy of the classification model: \", accuracy, \" *******\")\n",
    "    print('')\n",
    "    print(model_performance)\n",
    "    #print('')\n",
    "    #print(\"***** ROC_AUC score: \", roc_auc, \" *******\")\n",
    "    #print(\"*************************************************\")\n",
    "    \n",
    "    if coef_show == 1:\n",
    "        featureNames = tfidf.get_feature_names()\n",
    "        coef = classification.coef_.tolist()[0]\n",
    "        coeff_df = pd.DataFrame({'Word' : featureNames, 'Coefficient' : coef})\n",
    "        coeff_df = coeff_df.sort_values(['Coefficient', 'Word'], ascending=[0, 1])\n",
    "        print('')\n",
    "        print(\"************ Top 10 positive features (variables) ************\")\n",
    "        print(coeff_df.head(20).to_string(index=False))\n",
    "        print('')\n",
    "        print(\"************ Top 10 negative features (variables) ************\")        \n",
    "        print(coeff_df.tail(20).to_string(index=False))\n",
    "    \n",
    "    return classification"
   ]
  },
  {
   "cell_type": "code",
   "execution_count": 22,
   "metadata": {},
   "outputs": [
    {
     "name": "stdout",
     "output_type": "stream",
     "text": [
      "[[2.33621670e-04 9.97769839e-01 2.08749967e-04 ... 2.17464771e-04\n",
      "  2.33621670e-04 2.03919809e-04]\n",
      " [2.33621670e-04 9.97769839e-01 2.08749967e-04 ... 2.17464771e-04\n",
      "  2.33621670e-04 2.03919809e-04]\n",
      " [2.03880897e-04 2.03880897e-04 2.25575512e-04 ... 1.86906857e-04\n",
      "  2.03880897e-04 9.97582254e-01]\n",
      " ...\n",
      " [2.33621670e-04 2.33621670e-04 2.08749967e-04 ... 2.17464771e-04\n",
      "  9.97769839e-01 2.03919809e-04]\n",
      " [2.33621670e-04 2.33621670e-04 2.08749967e-04 ... 2.17464771e-04\n",
      "  9.97769839e-01 2.03919809e-04]\n",
      " [2.33621670e-04 2.33621670e-04 2.08749967e-04 ... 2.17464771e-04\n",
      "  9.97769839e-01 2.03919809e-04]]\n",
      "***** Accuracy of the classification model:  1.0  *******\n",
      "\n",
      "              precision    recall  f1-score   support\n",
      "\n",
      "           0       1.00      1.00      1.00       869\n",
      "           1       1.00      1.00      1.00       869\n",
      "           2       1.00      1.00      1.00       869\n",
      "           3       1.00      1.00      1.00       869\n",
      "           4       1.00      1.00      1.00       869\n",
      "           5       1.00      1.00      1.00       869\n",
      "           6       1.00      1.00      1.00       869\n",
      "           7       1.00      1.00      1.00       869\n",
      "           8       1.00      1.00      1.00       869\n",
      "           9       1.00      1.00      1.00       869\n",
      "          10       1.00      1.00      1.00       869\n",
      "\n",
      "    accuracy                           1.00      9559\n",
      "   macro avg       1.00      1.00      1.00      9559\n",
      "weighted avg       1.00      1.00      1.00      9559\n",
      "\n",
      "\n",
      "************ Top 10 positive features (variables) ************\n",
      "                                   Word  Coefficient\n",
      " cfjdeunrecognizedpropertyexceptionfrom     5.350608\n",
      "      unrecognizedpropertyexceptionjava     5.350608\n",
      "                               endpoint    -0.100018\n",
      "                             registered    -0.100018\n",
      "                                    the    -0.100018\n",
      "                                    404    -0.125229\n",
      "                 customexceptionhandler    -0.125229\n",
      "                                  found    -0.125229\n",
      "                  handlecustomexception    -0.125229\n",
      "                              requestid    -0.152695\n",
      "    actbrsmfromtargettargetresponsedata    -0.214610\n",
      "   cfjdexcunrecognizedpropertyexception    -0.214610\n",
      "                                   code    -0.214610\n",
      "                                  field    -0.214610\n",
      "                              ignorable    -0.214610\n",
      "                             incidentid    -0.214610\n",
      "                             properties    -0.214610\n",
      "                           unrecognized    -0.214610\n",
      "                                    400    -0.236942\n",
      "          actbrsecustomexceptionhandler    -0.236942\n",
      "\n",
      "************ Top 10 negative features (variables) ************\n",
      "                                       Word  Coefficient\n",
      "     oswchttpservererrorexceptionbadgateway    -0.333473\n",
      "                       actbrclloggingaspect    -0.360997\n",
      "                       createfoundationuser    -0.360997\n",
      "                   foundationusercontroller    -0.360997\n",
      "                                  character    -0.378863\n",
      "                                     string    -0.378863\n",
      "                               unterminated    -0.378863\n",
      "                                        502    -0.415530\n",
      "                                        bad    -0.415530\n",
      "                                    gateway    -0.415530\n",
      "                                jlangstring    -0.434104\n",
      "                    jlangclasscastexception    -0.472130\n",
      "                                    message    -0.495748\n",
      "                                     status    -0.495748\n",
      "                                        504    -0.560504\n",
      " oswchttpservererrorexceptiongatewaytimeout    -0.560504\n",
      "                  jlangnullpointerexception    -0.560504\n",
      "                                       null    -0.560504\n",
      "                                      error    -0.626484\n",
      "                         ojsonjsonexception    -0.656172\n"
     ]
    }
   ],
   "source": [
    "LRClassModel = class_balanced_model_fit(X_train_smote, y_train_smote, \n",
    "                                     X_test_smote, y_test_smote, \n",
    "                                     LogisticRegression(multi_class='multinomial', solver='lbfgs', max_iter=500),\n",
    "                                     coef_show=1)"
   ]
  },
  {
   "cell_type": "code",
   "execution_count": 23,
   "metadata": {},
   "outputs": [
    {
     "data": {
      "text/plain": [
       "sklearn.linear_model._logistic.LogisticRegression"
      ]
     },
     "execution_count": 23,
     "metadata": {},
     "output_type": "execute_result"
    }
   ],
   "source": [
    "type(LRClassModel)"
   ]
  },
  {
   "cell_type": "code",
   "execution_count": 24,
   "metadata": {},
   "outputs": [
    {
     "name": "stdout",
     "output_type": "stream",
     "text": [
      "LogisticRegression(max_iter=500, multi_class='multinomial')\n"
     ]
    }
   ],
   "source": [
    "import joblib\n",
    "joblib.dump(LRClassModel, 'LRClassModel.pkl')\n",
    "\n",
    "LRClassModel_from_pkl = joblib.load('LRClassModel.pkl')\n",
    "print(LRClassModel_from_pkl)"
   ]
  },
  {
   "cell_type": "code",
   "execution_count": null,
   "metadata": {},
   "outputs": [],
   "source": []
  },
  {
   "cell_type": "code",
   "execution_count": null,
   "metadata": {},
   "outputs": [],
   "source": []
  },
  {
   "cell_type": "code",
   "execution_count": 25,
   "metadata": {},
   "outputs": [
    {
     "data": {
      "text/plain": [
       "<9559x62 sparse matrix of type '<class 'numpy.float64'>'\n",
       "\twith 61148 stored elements in Compressed Sparse Row format>"
      ]
     },
     "execution_count": 25,
     "metadata": {},
     "output_type": "execute_result"
    }
   ],
   "source": [
    "X_test_smote"
   ]
  },
  {
   "cell_type": "code",
   "execution_count": 26,
   "metadata": {},
   "outputs": [],
   "source": [
    "#Test some random text for classification - Do reviews classification as good or bad sentiment. \n",
    "Xfeatu = tfidf.transform(\n",
    "['cfjdexcunrecognizedpropertyexception unrecognized field error class actbrsmfromtargettargetresponsedata not marked as ignorable 4 known properties status code message incidentid', \n",
    "'warn oswsmmaexceptionhandlerexceptionresolver  failure in exceptionhandler public oshttpresponseentity jlangobject actbrsecustomexceptionhandlerhandlehttpstatuscodeexception oswclienthttpstatuscodeexception throws jioioexception',\n",
    "'info actbrsecustomexceptionhandler  customexceptionhandler handlecustomexception is returning 404 notfound not found errorresource type title badrequest status 400 message cannot deserialize instance of jlangstring out of startarray token'])\n"
   ]
  },
  {
   "cell_type": "code",
   "execution_count": 27,
   "metadata": {},
   "outputs": [
    {
     "name": "stdout",
     "output_type": "stream",
     "text": [
      "[10  1  6]\n"
     ]
    }
   ],
   "source": [
    "print(LRClassModel.predict(Xfeatu))"
   ]
  },
  {
   "cell_type": "code",
   "execution_count": 28,
   "metadata": {},
   "outputs": [
    {
     "name": "stdout",
     "output_type": "stream",
     "text": [
      "[10  1  6]\n"
     ]
    }
   ],
   "source": [
    "print(LRClassModel_from_pkl.predict(Xfeatu))"
   ]
  },
  {
   "cell_type": "code",
   "execution_count": null,
   "metadata": {},
   "outputs": [],
   "source": []
  },
  {
   "cell_type": "markdown",
   "metadata": {},
   "source": [
    "### END OF TELSTRA CODE"
   ]
  },
  {
   "cell_type": "code",
   "execution_count": null,
   "metadata": {},
   "outputs": [],
   "source": []
  }
 ],
 "metadata": {
  "kernelspec": {
   "display_name": "Python 3",
   "language": "python",
   "name": "python3"
  },
  "language_info": {
   "codemirror_mode": {
    "name": "ipython",
    "version": 3
   },
   "file_extension": ".py",
   "mimetype": "text/x-python",
   "name": "python",
   "nbconvert_exporter": "python",
   "pygments_lexer": "ipython3",
   "version": "3.8.3"
  }
 },
 "nbformat": 4,
 "nbformat_minor": 4
}
